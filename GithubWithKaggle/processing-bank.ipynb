{
 "cells": [
  {
   "cell_type": "markdown",
   "id": "c9dcad9c",
   "metadata": {
    "id": "9jJ7f1atJ0qO",
    "papermill": {
     "duration": 0.009369,
     "end_time": "2024-01-30T08:38:16.198614",
     "exception": false,
     "start_time": "2024-01-30T08:38:16.189245",
     "status": "completed"
    },
    "tags": []
   },
   "source": [
    "# **銀行解約データセットを使用した二項分類**\n",
    "Binary Classification with a Bank Churn Dataset(https://www.kaggle.com/competitions/playground-series-s4e1/code?competitionId=65711&sortBy=voteCount)"
   ]
  },
  {
   "cell_type": "markdown",
   "id": "659c9868",
   "metadata": {
    "id": "dRrM5BeJkgj-",
    "papermill": {
     "duration": 0.008194,
     "end_time": "2024-01-30T08:38:16.215491",
     "exception": false,
     "start_time": "2024-01-30T08:38:16.207297",
     "status": "completed"
    },
    "tags": []
   },
   "source": [
    "# 参考資料\n",
    "**書籍**\n",
    "\n",
    "\n",
    "**Kaggle**\n",
    "- [[PlayGround S4E1] 📊 EDA + 🤖 Modeling [XGBoost]](https://www.kaggle.com/code/akhiljethwa/playground-s4e1-eda-modeling-xgboost)\n",
    "- [Bank Churn CatBoost - 0.89626](https://www.kaggle.com/code/aspillai/bank-churn-catboost-0-89626)\n",
    "\n",
    "\n",
    "**自分で作成したファイル**\n",
    "- Home_Credit_Default_Risk\n",
    "- 肝硬変の転帰の多クラス予測\n",
    "- 馬の健康への影響を予測する\n",
    "- ルワンダにおける CO2 排出量を予測する\n",
    "\n",
    "**その他**\n"
   ]
  },
  {
   "cell_type": "markdown",
   "id": "28df9674",
   "metadata": {
    "id": "MV1ptyJ5kn2E",
    "papermill": {
     "duration": 0.008499,
     "end_time": "2024-01-30T08:38:16.232578",
     "exception": false,
     "start_time": "2024-01-30T08:38:16.224079",
     "status": "completed"
    },
    "tags": []
   },
   "source": [
    "## ライブラリ・データセットのインポート"
   ]
  },
  {
   "cell_type": "code",
   "execution_count": 1,
   "id": "72590286",
   "metadata": {
    "execution": {
     "iopub.execute_input": "2024-01-30T08:38:16.252166Z",
     "iopub.status.busy": "2024-01-30T08:38:16.251628Z",
     "iopub.status.idle": "2024-01-30T08:38:17.076138Z",
     "shell.execute_reply": "2024-01-30T08:38:17.074658Z"
    },
    "id": "cXwErGKbkUpb",
    "papermill": {
     "duration": 0.837755,
     "end_time": "2024-01-30T08:38:17.078934",
     "exception": false,
     "start_time": "2024-01-30T08:38:16.241179",
     "status": "completed"
    },
    "tags": []
   },
   "outputs": [],
   "source": [
    "import numpy as np\n",
    "import pandas as pd\n",
    "\n",
    "import warnings\n",
    "warnings.filterwarnings('ignore')\n",
    "\n",
    "pd.options.display.float_format = '{:.5f}'.format\n",
    "pd.set_option('display.max_columns', None)\n",
    "pd.set_option('display.max_rows', None)"
   ]
  },
  {
   "cell_type": "code",
   "execution_count": 2,
   "id": "422e97ed",
   "metadata": {
    "execution": {
     "iopub.execute_input": "2024-01-30T08:38:17.099009Z",
     "iopub.status.busy": "2024-01-30T08:38:17.097945Z",
     "iopub.status.idle": "2024-01-30T08:38:19.663921Z",
     "shell.execute_reply": "2024-01-30T08:38:19.663064Z"
    },
    "id": "y2vH8YMCko3q",
    "papermill": {
     "duration": 2.578727,
     "end_time": "2024-01-30T08:38:19.666398",
     "exception": false,
     "start_time": "2024-01-30T08:38:17.087671",
     "status": "completed"
    },
    "tags": []
   },
   "outputs": [],
   "source": [
    "from sklearn.preprocessing import LabelEncoder, MinMaxScaler\n",
    "from lightgbm import LGBMClassifier # 特徴量の重要度評価で用いる"
   ]
  },
  {
   "cell_type": "markdown",
   "id": "f71b9d4d",
   "metadata": {
    "id": "xAub7rgGk35P",
    "papermill": {
     "duration": 0.00837,
     "end_time": "2024-01-30T08:38:19.683598",
     "exception": false,
     "start_time": "2024-01-30T08:38:19.675228",
     "status": "completed"
    },
    "tags": []
   },
   "source": [
    "## 実行時間を調べるために使う"
   ]
  },
  {
   "cell_type": "code",
   "execution_count": 3,
   "id": "b2484c8a",
   "metadata": {
    "execution": {
     "iopub.execute_input": "2024-01-30T08:38:19.702509Z",
     "iopub.status.busy": "2024-01-30T08:38:19.702074Z",
     "iopub.status.idle": "2024-01-30T08:38:19.709820Z",
     "shell.execute_reply": "2024-01-30T08:38:19.708472Z"
    },
    "id": "_hGkGqJtk6M-",
    "papermill": {
     "duration": 0.019965,
     "end_time": "2024-01-30T08:38:19.712112",
     "exception": false,
     "start_time": "2024-01-30T08:38:19.692147",
     "status": "completed"
    },
    "tags": []
   },
   "outputs": [],
   "source": [
    "import datetime\n",
    "import time\n",
    "import math\n",
    "\n",
    "start_time = time.time()\n",
    "\n",
    "def changeHMS(s):\n",
    "    h = math.floor(s / 3600)\n",
    "    if h > 0:\n",
    "        s = s - h * 3600\n",
    "        indi_h = str(h) + 'h'\n",
    "    else:\n",
    "        indi_h = ''\n",
    "    m = math.floor(s / 60)\n",
    "    if m > 0:\n",
    "        indi_m = str(m) + 'm'\n",
    "    else:\n",
    "        indi_m = ''\n",
    "    s = math.floor(s % 60)\n",
    "    time = indi_h + indi_m + str(s) + 's'\n",
    "    return time"
   ]
  },
  {
   "cell_type": "code",
   "execution_count": 4,
   "id": "ab95a469",
   "metadata": {
    "execution": {
     "iopub.execute_input": "2024-01-30T08:38:19.732187Z",
     "iopub.status.busy": "2024-01-30T08:38:19.731536Z",
     "iopub.status.idle": "2024-01-30T08:38:20.451737Z",
     "shell.execute_reply": "2024-01-30T08:38:20.450599Z"
    },
    "id": "4EzyBOiPkph8",
    "papermill": {
     "duration": 0.733469,
     "end_time": "2024-01-30T08:38:20.454513",
     "exception": false,
     "start_time": "2024-01-30T08:38:19.721044",
     "status": "completed"
    },
    "tags": []
   },
   "outputs": [],
   "source": [
    "FILE_PATH = '/kaggle/input/playground-series-s4e1/'\n",
    "OUTPUT_DIR = '/kaggle/working/'\n",
    "\n",
    "train = pd.read_csv(FILE_PATH + 'train.csv')\n",
    "test = pd.read_csv(FILE_PATH + 'test.csv')\n",
    "\n",
    "train_id = train['id']\n",
    "train.drop('id', axis=1, inplace=True)\n",
    "\n",
    "test_id = test['id']\n",
    "test.drop('id', axis=1, inplace=True)\n",
    "\n",
    "target = train['Exited']\n",
    "target_col = 'Exited'\n",
    "\n",
    "target_name = str(train.iloc[:, [-1]].columns.tolist()) # カラム数-2の値が目的変数\n",
    "\n",
    "df = pd.concat([train, test], axis=0)\n",
    "df.reset_index(inplace=True)\n",
    "\n",
    "# 説明変数をデータ型ごとに代入する\n",
    "numerical_features = df._get_numeric_data().columns\n",
    "categorical_features = df.drop(numerical_features, axis=1).columns"
   ]
  },
  {
   "cell_type": "markdown",
   "id": "7681e299",
   "metadata": {
    "id": "O1qWEpEsmIsU",
    "papermill": {
     "duration": 0.008548,
     "end_time": "2024-01-30T08:38:20.471719",
     "exception": false,
     "start_time": "2024-01-30T08:38:20.463171",
     "status": "completed"
    },
    "tags": []
   },
   "source": [
    "## 前処理"
   ]
  },
  {
   "cell_type": "markdown",
   "id": "3f122004",
   "metadata": {
    "id": "Geqin6VhmJw9",
    "papermill": {
     "duration": 0.008562,
     "end_time": "2024-01-30T08:38:20.489353",
     "exception": false,
     "start_time": "2024-01-30T08:38:20.480791",
     "status": "completed"
    },
    "tags": []
   },
   "source": [
    "### 欠損値の補完"
   ]
  },
  {
   "cell_type": "code",
   "execution_count": 5,
   "id": "4f70988e",
   "metadata": {
    "execution": {
     "iopub.execute_input": "2024-01-30T08:38:20.508327Z",
     "iopub.status.busy": "2024-01-30T08:38:20.507909Z",
     "iopub.status.idle": "2024-01-30T08:38:20.512773Z",
     "shell.execute_reply": "2024-01-30T08:38:20.511588Z"
    },
    "id": "pc9ukAPLmKkl",
    "papermill": {
     "duration": 0.017196,
     "end_time": "2024-01-30T08:38:20.515114",
     "exception": false,
     "start_time": "2024-01-30T08:38:20.497918",
     "status": "completed"
    },
    "tags": []
   },
   "outputs": [],
   "source": [
    "def missing_values(df):\n",
    "\n",
    "    return df"
   ]
  },
  {
   "cell_type": "markdown",
   "id": "69204fa3",
   "metadata": {
    "id": "2ZLsziVQmM_s",
    "papermill": {
     "duration": 0.008226,
     "end_time": "2024-01-30T08:38:20.532000",
     "exception": false,
     "start_time": "2024-01-30T08:38:20.523774",
     "status": "completed"
    },
    "tags": []
   },
   "source": [
    "### 外れ値の修正"
   ]
  },
  {
   "cell_type": "code",
   "execution_count": 6,
   "id": "c97725ec",
   "metadata": {
    "execution": {
     "iopub.execute_input": "2024-01-30T08:38:20.550615Z",
     "iopub.status.busy": "2024-01-30T08:38:20.550174Z",
     "iopub.status.idle": "2024-01-30T08:38:20.554986Z",
     "shell.execute_reply": "2024-01-30T08:38:20.553930Z"
    },
    "id": "D9RIXWdJmOBI",
    "papermill": {
     "duration": 0.016636,
     "end_time": "2024-01-30T08:38:20.557205",
     "exception": false,
     "start_time": "2024-01-30T08:38:20.540569",
     "status": "completed"
    },
    "tags": []
   },
   "outputs": [],
   "source": [
    "def outlier(df):\n",
    "\n",
    "    return df"
   ]
  },
  {
   "cell_type": "markdown",
   "id": "33fa3c7e",
   "metadata": {
    "id": "L0T_RQ97XYoT",
    "papermill": {
     "duration": 0.008193,
     "end_time": "2024-01-30T08:38:20.574362",
     "exception": false,
     "start_time": "2024-01-30T08:38:20.566169",
     "status": "completed"
    },
    "tags": []
   },
   "source": [
    "### スケーリング（標準化）"
   ]
  },
  {
   "cell_type": "markdown",
   "id": "618ff981",
   "metadata": {
    "id": "fH7xUj12XcGU",
    "papermill": {
     "duration": 0.00866,
     "end_time": "2024-01-30T08:38:20.592015",
     "exception": false,
     "start_time": "2024-01-30T08:38:20.583355",
     "status": "completed"
    },
    "tags": []
   },
   "source": [
    "- MinMaxScaler(正規化)"
   ]
  },
  {
   "cell_type": "code",
   "execution_count": 7,
   "id": "619e948a",
   "metadata": {
    "execution": {
     "iopub.execute_input": "2024-01-30T08:38:20.610860Z",
     "iopub.status.busy": "2024-01-30T08:38:20.610447Z",
     "iopub.status.idle": "2024-01-30T08:38:20.616101Z",
     "shell.execute_reply": "2024-01-30T08:38:20.614902Z"
    },
    "id": "H2MehtAxXd61",
    "papermill": {
     "duration": 0.017887,
     "end_time": "2024-01-30T08:38:20.618529",
     "exception": false,
     "start_time": "2024-01-30T08:38:20.600642",
     "status": "completed"
    },
    "tags": []
   },
   "outputs": [],
   "source": [
    "def scaling_MinMaxScaler(df, scale_cols):\n",
    "    df_scale = df[scale_cols]\n",
    "    sc = MinMaxScaler()\n",
    "    df[scale_cols] = pd.DataFrame(sc.fit_transform(df_scale), columns = df_scale.columns)\n",
    "\n",
    "    return df"
   ]
  },
  {
   "cell_type": "markdown",
   "id": "b91f181f",
   "metadata": {
    "id": "evWEXqCTliXu",
    "papermill": {
     "duration": 0.008258,
     "end_time": "2024-01-30T08:38:20.635795",
     "exception": false,
     "start_time": "2024-01-30T08:38:20.627537",
     "status": "completed"
    },
    "tags": []
   },
   "source": [
    "## 特徴量エンジニアリング"
   ]
  },
  {
   "cell_type": "markdown",
   "id": "0b683d23",
   "metadata": {
    "id": "ehRLTpCDlj_m",
    "papermill": {
     "duration": 0.008095,
     "end_time": "2024-01-30T08:38:20.652573",
     "exception": false,
     "start_time": "2024-01-30T08:38:20.644478",
     "status": "completed"
    },
    "tags": []
   },
   "source": [
    "### 特徴量の作成"
   ]
  },
  {
   "cell_type": "code",
   "execution_count": 8,
   "id": "22470feb",
   "metadata": {
    "execution": {
     "iopub.execute_input": "2024-01-30T08:38:20.672042Z",
     "iopub.status.busy": "2024-01-30T08:38:20.671589Z",
     "iopub.status.idle": "2024-01-30T08:38:20.680882Z",
     "shell.execute_reply": "2024-01-30T08:38:20.679295Z"
    },
    "id": "SJd05F70kskT",
    "papermill": {
     "duration": 0.022435,
     "end_time": "2024-01-30T08:38:20.683651",
     "exception": false,
     "start_time": "2024-01-30T08:38:20.661216",
     "status": "completed"
    },
    "tags": []
   },
   "outputs": [],
   "source": [
    "def create_new_features(df):\n",
    "    # Salary to Balance Ratio\n",
    "    df['SalaryToBalanceRatio'] = df['EstimatedSalary'] / (df['Balance'] + 1)  # Adding 1 to avoid division by zero\n",
    "\n",
    "    # Credit Card and Active Member Interaction\n",
    "    df['CreditCard_ActiveMember'] = df['HasCrCard'] * df['IsActiveMember']\n",
    "\n",
    "\n",
    "    # ABP Interaction\n",
    "    df['ABPInteraction'] = df['Age'] * df['Balance'] / df['NumOfProducts']\n",
    "\n",
    "    df['Geo_Gender'] = df['Geography'] + '_' + df['Gender']\n",
    "    \n",
    "    df['TotalProductUsage'] = df['Tenure'] * df['NumOfProducts']\n",
    "            \n",
    "    df['AgeAdjustedProductUsage'] = df['NumOfProducts']/((df['Tenure']+1) * df['Age'])\n",
    "    \n",
    "    df['Customer_Status'] = df['Tenure'].apply(lambda x: 'New' if x < 2 else 'Long-term')\n",
    "    \n",
    "    # 高齢者を1とするカラムを作成する\n",
    "    df['IsSenior'] = df['Age'].apply(lambda x: 1 if x >= 60 else 0)\n",
    "    \n",
    "    return df"
   ]
  },
  {
   "cell_type": "markdown",
   "id": "5b25bd17",
   "metadata": {
    "papermill": {
     "duration": 0.009346,
     "end_time": "2024-01-30T08:38:20.701819",
     "exception": false,
     "start_time": "2024-01-30T08:38:20.692473",
     "status": "completed"
    },
    "tags": []
   },
   "source": [
    "#### ビンニング"
   ]
  },
  {
   "cell_type": "code",
   "execution_count": 9,
   "id": "ee712fea",
   "metadata": {
    "execution": {
     "iopub.execute_input": "2024-01-30T08:38:20.722229Z",
     "iopub.status.busy": "2024-01-30T08:38:20.721240Z",
     "iopub.status.idle": "2024-01-30T08:38:20.732363Z",
     "shell.execute_reply": "2024-01-30T08:38:20.730860Z"
    },
    "papermill": {
     "duration": 0.02561,
     "end_time": "2024-01-30T08:38:20.736142",
     "exception": false,
     "start_time": "2024-01-30T08:38:20.710532",
     "status": "completed"
    },
    "tags": []
   },
   "outputs": [],
   "source": [
    "def binning(df):\n",
    "    # Age Group\n",
    "    age_bins = [0, 18, 30, 40, 50, 60, 100]\n",
    "    df['AgeGroup'] = pd.cut(df['Age'], bins=age_bins, labels=False, right=False)\n",
    "    \n",
    "    # Balance Category\n",
    "    balance_bins = [-np.inf, 0, 10000, 50000, 100000, np.inf]\n",
    "    df['BalanceCategory'] = pd.cut(df['Balance'], bins=balance_bins, labels=False, right=False)\n",
    "    \n",
    "    # Credit Score Category\n",
    "    credit_bins = [0, 500, 600, 700, 800, 900]\n",
    "    df['CreditScoreCategory'] = pd.cut(df['CreditScore'], bins=credit_bins, labels=False, right=False)\n",
    "    \n",
    "    tenure_bins = [0, 2, 5, 10, np.inf]\n",
    "    df['TenureGroup'] = pd.cut(df['Tenure'], bins=tenure_bins, labels=False, right=False)\n",
    "    \n",
    "    return df"
   ]
  },
  {
   "cell_type": "markdown",
   "id": "21134ca1",
   "metadata": {
    "id": "eWE-oFe4loLR",
    "papermill": {
     "duration": 0.008164,
     "end_time": "2024-01-30T08:38:20.753075",
     "exception": false,
     "start_time": "2024-01-30T08:38:20.744911",
     "status": "completed"
    },
    "tags": []
   },
   "source": [
    "### カテゴリ変数のエンコーディング"
   ]
  },
  {
   "cell_type": "markdown",
   "id": "e5c04609",
   "metadata": {
    "id": "xoRllpoVJi0M",
    "papermill": {
     "duration": 0.008506,
     "end_time": "2024-01-30T08:38:20.847559",
     "exception": false,
     "start_time": "2024-01-30T08:38:20.839053",
     "status": "completed"
    },
    "tags": []
   },
   "source": [
    "* One-HotEncoding"
   ]
  },
  {
   "cell_type": "code",
   "execution_count": 10,
   "id": "e8d4fb60",
   "metadata": {
    "execution": {
     "iopub.execute_input": "2024-01-30T08:38:20.867444Z",
     "iopub.status.busy": "2024-01-30T08:38:20.866663Z",
     "iopub.status.idle": "2024-01-30T08:38:20.872042Z",
     "shell.execute_reply": "2024-01-30T08:38:20.870951Z"
    },
    "id": "r4FeWb-aJi0N",
    "papermill": {
     "duration": 0.017621,
     "end_time": "2024-01-30T08:38:20.874252",
     "exception": false,
     "start_time": "2024-01-30T08:38:20.856631",
     "status": "completed"
    },
    "tags": []
   },
   "outputs": [],
   "source": [
    "def one_hot_encoding(df, cat_cols):\n",
    "    df = pd.get_dummies(df, columns=cat_cols)\n",
    "\n",
    "    return df"
   ]
  },
  {
   "cell_type": "markdown",
   "id": "f3afee16",
   "metadata": {
    "id": "sKHw_ipAlpUy",
    "papermill": {
     "duration": 0.008315,
     "end_time": "2024-01-30T08:38:20.891199",
     "exception": false,
     "start_time": "2024-01-30T08:38:20.882884",
     "status": "completed"
    },
    "tags": []
   },
   "source": [
    "- LabelEncoding"
   ]
  },
  {
   "cell_type": "code",
   "execution_count": 11,
   "id": "478b838a",
   "metadata": {
    "execution": {
     "iopub.execute_input": "2024-01-30T08:38:20.909984Z",
     "iopub.status.busy": "2024-01-30T08:38:20.909588Z",
     "iopub.status.idle": "2024-01-30T08:38:20.915728Z",
     "shell.execute_reply": "2024-01-30T08:38:20.914508Z"
    },
    "id": "uBNUcljZlmV5",
    "papermill": {
     "duration": 0.018226,
     "end_time": "2024-01-30T08:38:20.917909",
     "exception": false,
     "start_time": "2024-01-30T08:38:20.899683",
     "status": "completed"
    },
    "tags": []
   },
   "outputs": [],
   "source": [
    "def label_encoder(df):\n",
    "    categorical_columns = df.select_dtypes(include=['object']).columns\n",
    "\n",
    "    for column in categorical_columns:\n",
    "        df[column] = df[column].fillna('').astype('str') # 欠損値の補完をする\n",
    "        le = LabelEncoder()\n",
    "        df[column] = le.fit_transform(df[column])\n",
    "\n",
    "    return df"
   ]
  },
  {
   "cell_type": "markdown",
   "id": "ae891134",
   "metadata": {
    "papermill": {
     "duration": 0.008192,
     "end_time": "2024-01-30T08:38:20.934918",
     "exception": false,
     "start_time": "2024-01-30T08:38:20.926726",
     "status": "completed"
    },
    "tags": []
   },
   "source": [
    "- pd.get_dummies"
   ]
  },
  {
   "cell_type": "code",
   "execution_count": 12,
   "id": "b22ecb14",
   "metadata": {
    "execution": {
     "iopub.execute_input": "2024-01-30T08:38:20.954519Z",
     "iopub.status.busy": "2024-01-30T08:38:20.953391Z",
     "iopub.status.idle": "2024-01-30T08:38:20.958747Z",
     "shell.execute_reply": "2024-01-30T08:38:20.957658Z"
    },
    "papermill": {
     "duration": 0.017565,
     "end_time": "2024-01-30T08:38:20.961201",
     "exception": false,
     "start_time": "2024-01-30T08:38:20.943636",
     "status": "completed"
    },
    "tags": []
   },
   "outputs": [],
   "source": [
    "def get_dummies(df, cat_cols):\n",
    "    df = pd.get_dummies(df, columns=cat_cols)\n",
    "    \n",
    "    return df"
   ]
  },
  {
   "cell_type": "markdown",
   "id": "e0912b63",
   "metadata": {
    "id": "OVz_DZCgltFl",
    "papermill": {
     "duration": 0.008391,
     "end_time": "2024-01-30T08:38:20.978226",
     "exception": false,
     "start_time": "2024-01-30T08:38:20.969835",
     "status": "completed"
    },
    "tags": []
   },
   "source": [
    "### 特徴量の選択"
   ]
  },
  {
   "cell_type": "markdown",
   "id": "e77ab72d",
   "metadata": {
    "id": "T-uGFwI8luOC",
    "papermill": {
     "duration": 0.008746,
     "end_time": "2024-01-30T08:38:20.995564",
     "exception": false,
     "start_time": "2024-01-30T08:38:20.986818",
     "status": "completed"
    },
    "tags": []
   },
   "source": [
    "#### 特徴量の重要度評価"
   ]
  },
  {
   "cell_type": "code",
   "execution_count": 13,
   "id": "082e8a66",
   "metadata": {
    "execution": {
     "iopub.execute_input": "2024-01-30T08:38:21.014213Z",
     "iopub.status.busy": "2024-01-30T08:38:21.013781Z",
     "iopub.status.idle": "2024-01-30T08:38:21.020515Z",
     "shell.execute_reply": "2024-01-30T08:38:21.019355Z"
    },
    "id": "IvbTfuG8lrYZ",
    "papermill": {
     "duration": 0.018594,
     "end_time": "2024-01-30T08:38:21.022709",
     "exception": false,
     "start_time": "2024-01-30T08:38:21.004115",
     "status": "completed"
    },
    "tags": []
   },
   "outputs": [],
   "source": [
    "def feature_importance_evaluation(df):\n",
    "    # 訓練データをX(説明変数)とy（目的変数）に分割する\n",
    "    X = df.select_dtypes(include=['float', 'int'])\n",
    "    X = X.drop([target_col], axis=1) # 目的変数を指定する\n",
    "    y = target # 目的変数を指定する\n",
    "\n",
    "    \n",
    "\n",
    "    # 特徴量の重要度評価\n",
    "    clf = LGBMClassifier(\n",
    "        random_state=42,\n",
    "    )\n",
    "\n",
    "    clf.fit(X, y)\n",
    "    importance = clf.feature_importances_\n",
    "\n",
    "    feature_importance = pd.DataFrame(data=importance, index=X.columns, columns=['importance']) \\\n",
    "        .sort_values(ascending=True, by='importance')\n",
    "\n",
    "    return feature_importance"
   ]
  },
  {
   "cell_type": "markdown",
   "id": "aeff56f4",
   "metadata": {
    "id": "Uu58wE5hl4MK",
    "papermill": {
     "duration": 0.008341,
     "end_time": "2024-01-30T08:38:21.040060",
     "exception": false,
     "start_time": "2024-01-30T08:38:21.031719",
     "status": "completed"
    },
    "tags": []
   },
   "source": [
    "#### 特徴量の削除"
   ]
  },
  {
   "cell_type": "code",
   "execution_count": 14,
   "id": "b28d439a",
   "metadata": {
    "execution": {
     "iopub.execute_input": "2024-01-30T08:38:21.058877Z",
     "iopub.status.busy": "2024-01-30T08:38:21.058319Z",
     "iopub.status.idle": "2024-01-30T08:38:21.063863Z",
     "shell.execute_reply": "2024-01-30T08:38:21.062737Z"
    },
    "id": "LNqYHRC2l0fz",
    "papermill": {
     "duration": 0.017512,
     "end_time": "2024-01-30T08:38:21.066079",
     "exception": false,
     "start_time": "2024-01-30T08:38:21.048567",
     "status": "completed"
    },
    "tags": []
   },
   "outputs": [],
   "source": [
    "def drop_columns(df):\n",
    "    drop_list = [\n",
    "        'CustomerId', 'Surname',\n",
    "    ]\n",
    "    dropped_df = df.drop(columns=drop_list)\n",
    "\n",
    "    return dropped_df"
   ]
  },
  {
   "cell_type": "markdown",
   "id": "9d5c639a",
   "metadata": {
    "id": "EzhMZ-IVmC04",
    "papermill": {
     "duration": 0.008228,
     "end_time": "2024-01-30T08:38:21.082882",
     "exception": false,
     "start_time": "2024-01-30T08:38:21.074654",
     "status": "completed"
    },
    "tags": []
   },
   "source": [
    "### データセットの更新"
   ]
  },
  {
   "cell_type": "code",
   "execution_count": 15,
   "id": "fe3c0894",
   "metadata": {
    "execution": {
     "iopub.execute_input": "2024-01-30T08:38:21.102165Z",
     "iopub.status.busy": "2024-01-30T08:38:21.101054Z",
     "iopub.status.idle": "2024-01-30T08:38:21.765129Z",
     "shell.execute_reply": "2024-01-30T08:38:21.763976Z"
    },
    "id": "wtp9MwnUl_zY",
    "papermill": {
     "duration": 0.676506,
     "end_time": "2024-01-30T08:38:21.767829",
     "exception": false,
     "start_time": "2024-01-30T08:38:21.091323",
     "status": "completed"
    },
    "tags": []
   },
   "outputs": [],
   "source": [
    "# 前処理\n",
    "df = missing_values(df)\n",
    "df = outlier(df)\n",
    "\n",
    "scale_cols = ['Age','CreditScore', 'Balance','EstimatedSalary']\n",
    "# df = scaling_MinMaxScaler(df, scale_cols) # 標準化したい時のみ実行する\n",
    "\n",
    "# 特徴量エンジニアリング\n",
    "df = create_new_features(df)\n",
    "df = binning(df)\n",
    "df = missing_values(df)\n",
    "df = drop_columns(df)\n",
    "\n",
    "ohe_cols = [] # One-Hot Encodingしたい水準数の少ないカラムを指定する\n",
    "dummies_cols = ['Geography','Gender','IsActiveMember','HasCrCard','NumOfProducts', 'Geo_Gender', 'Customer_Status'] # pd.get_dummiesしたい水準数の少ないカラムを指定する\n",
    "df = one_hot_encoding(df, ohe_cols)\n",
    "df = get_dummies(df, dummies_cols)\n",
    "# df = label_encoder(df)"
   ]
  },
  {
   "cell_type": "code",
   "execution_count": 16,
   "id": "ba11e9ff",
   "metadata": {
    "execution": {
     "iopub.execute_input": "2024-01-30T08:38:21.787747Z",
     "iopub.status.busy": "2024-01-30T08:38:21.786483Z",
     "iopub.status.idle": "2024-01-30T08:38:22.046378Z",
     "shell.execute_reply": "2024-01-30T08:38:22.045271Z"
    },
    "id": "DDUYrDzpmD2t",
    "outputId": "453062fd-b278-4ced-f7e2-f903a0067358",
    "papermill": {
     "duration": 0.272379,
     "end_time": "2024-01-30T08:38:22.048738",
     "exception": false,
     "start_time": "2024-01-30T08:38:21.776359",
     "status": "completed"
    },
    "tags": []
   },
   "outputs": [
    {
     "data": {
      "text/html": [
       "<div>\n",
       "<style scoped>\n",
       "    .dataframe tbody tr th:only-of-type {\n",
       "        vertical-align: middle;\n",
       "    }\n",
       "\n",
       "    .dataframe tbody tr th {\n",
       "        vertical-align: top;\n",
       "    }\n",
       "\n",
       "    .dataframe thead th {\n",
       "        text-align: right;\n",
       "    }\n",
       "</style>\n",
       "<table border=\"1\" class=\"dataframe\">\n",
       "  <thead>\n",
       "    <tr style=\"text-align: right;\">\n",
       "      <th></th>\n",
       "      <th>index</th>\n",
       "      <th>CreditScore</th>\n",
       "      <th>Age</th>\n",
       "      <th>Tenure</th>\n",
       "      <th>Balance</th>\n",
       "      <th>EstimatedSalary</th>\n",
       "      <th>Exited</th>\n",
       "      <th>SalaryToBalanceRatio</th>\n",
       "      <th>CreditCard_ActiveMember</th>\n",
       "      <th>ABPInteraction</th>\n",
       "      <th>TotalProductUsage</th>\n",
       "      <th>AgeAdjustedProductUsage</th>\n",
       "      <th>IsSenior</th>\n",
       "      <th>AgeGroup</th>\n",
       "      <th>BalanceCategory</th>\n",
       "      <th>CreditScoreCategory</th>\n",
       "      <th>TenureGroup</th>\n",
       "      <th>Geography_France</th>\n",
       "      <th>Geography_Germany</th>\n",
       "      <th>Geography_Spain</th>\n",
       "      <th>Gender_Female</th>\n",
       "      <th>Gender_Male</th>\n",
       "      <th>IsActiveMember_0.0</th>\n",
       "      <th>IsActiveMember_1.0</th>\n",
       "      <th>HasCrCard_0.0</th>\n",
       "      <th>HasCrCard_1.0</th>\n",
       "      <th>NumOfProducts_1</th>\n",
       "      <th>NumOfProducts_2</th>\n",
       "      <th>NumOfProducts_3</th>\n",
       "      <th>NumOfProducts_4</th>\n",
       "      <th>Geo_Gender_France_Female</th>\n",
       "      <th>Geo_Gender_France_Male</th>\n",
       "      <th>Geo_Gender_Germany_Female</th>\n",
       "      <th>Geo_Gender_Germany_Male</th>\n",
       "      <th>Geo_Gender_Spain_Female</th>\n",
       "      <th>Geo_Gender_Spain_Male</th>\n",
       "      <th>Customer_Status_Long-term</th>\n",
       "      <th>Customer_Status_New</th>\n",
       "    </tr>\n",
       "  </thead>\n",
       "  <tbody>\n",
       "    <tr>\n",
       "      <th>0</th>\n",
       "      <td>0</td>\n",
       "      <td>668</td>\n",
       "      <td>33.00000</td>\n",
       "      <td>3</td>\n",
       "      <td>0.00000</td>\n",
       "      <td>181449.97000</td>\n",
       "      <td>0.00000</td>\n",
       "      <td>181449.97000</td>\n",
       "      <td>0.00000</td>\n",
       "      <td>0.00000</td>\n",
       "      <td>6</td>\n",
       "      <td>0.01515</td>\n",
       "      <td>0</td>\n",
       "      <td>2</td>\n",
       "      <td>1</td>\n",
       "      <td>2</td>\n",
       "      <td>1</td>\n",
       "      <td>True</td>\n",
       "      <td>False</td>\n",
       "      <td>False</td>\n",
       "      <td>False</td>\n",
       "      <td>True</td>\n",
       "      <td>True</td>\n",
       "      <td>False</td>\n",
       "      <td>False</td>\n",
       "      <td>True</td>\n",
       "      <td>False</td>\n",
       "      <td>True</td>\n",
       "      <td>False</td>\n",
       "      <td>False</td>\n",
       "      <td>False</td>\n",
       "      <td>True</td>\n",
       "      <td>False</td>\n",
       "      <td>False</td>\n",
       "      <td>False</td>\n",
       "      <td>False</td>\n",
       "      <td>True</td>\n",
       "      <td>False</td>\n",
       "    </tr>\n",
       "    <tr>\n",
       "      <th>1</th>\n",
       "      <td>1</td>\n",
       "      <td>627</td>\n",
       "      <td>33.00000</td>\n",
       "      <td>1</td>\n",
       "      <td>0.00000</td>\n",
       "      <td>49503.50000</td>\n",
       "      <td>0.00000</td>\n",
       "      <td>49503.50000</td>\n",
       "      <td>1.00000</td>\n",
       "      <td>0.00000</td>\n",
       "      <td>2</td>\n",
       "      <td>0.03030</td>\n",
       "      <td>0</td>\n",
       "      <td>2</td>\n",
       "      <td>1</td>\n",
       "      <td>2</td>\n",
       "      <td>0</td>\n",
       "      <td>True</td>\n",
       "      <td>False</td>\n",
       "      <td>False</td>\n",
       "      <td>False</td>\n",
       "      <td>True</td>\n",
       "      <td>False</td>\n",
       "      <td>True</td>\n",
       "      <td>False</td>\n",
       "      <td>True</td>\n",
       "      <td>False</td>\n",
       "      <td>True</td>\n",
       "      <td>False</td>\n",
       "      <td>False</td>\n",
       "      <td>False</td>\n",
       "      <td>True</td>\n",
       "      <td>False</td>\n",
       "      <td>False</td>\n",
       "      <td>False</td>\n",
       "      <td>False</td>\n",
       "      <td>False</td>\n",
       "      <td>True</td>\n",
       "    </tr>\n",
       "    <tr>\n",
       "      <th>2</th>\n",
       "      <td>2</td>\n",
       "      <td>678</td>\n",
       "      <td>40.00000</td>\n",
       "      <td>10</td>\n",
       "      <td>0.00000</td>\n",
       "      <td>184866.69000</td>\n",
       "      <td>0.00000</td>\n",
       "      <td>184866.69000</td>\n",
       "      <td>0.00000</td>\n",
       "      <td>0.00000</td>\n",
       "      <td>20</td>\n",
       "      <td>0.00455</td>\n",
       "      <td>0</td>\n",
       "      <td>3</td>\n",
       "      <td>1</td>\n",
       "      <td>2</td>\n",
       "      <td>3</td>\n",
       "      <td>True</td>\n",
       "      <td>False</td>\n",
       "      <td>False</td>\n",
       "      <td>False</td>\n",
       "      <td>True</td>\n",
       "      <td>True</td>\n",
       "      <td>False</td>\n",
       "      <td>False</td>\n",
       "      <td>True</td>\n",
       "      <td>False</td>\n",
       "      <td>True</td>\n",
       "      <td>False</td>\n",
       "      <td>False</td>\n",
       "      <td>False</td>\n",
       "      <td>True</td>\n",
       "      <td>False</td>\n",
       "      <td>False</td>\n",
       "      <td>False</td>\n",
       "      <td>False</td>\n",
       "      <td>True</td>\n",
       "      <td>False</td>\n",
       "    </tr>\n",
       "    <tr>\n",
       "      <th>3</th>\n",
       "      <td>3</td>\n",
       "      <td>581</td>\n",
       "      <td>34.00000</td>\n",
       "      <td>2</td>\n",
       "      <td>148882.54000</td>\n",
       "      <td>84560.88000</td>\n",
       "      <td>0.00000</td>\n",
       "      <td>0.56797</td>\n",
       "      <td>1.00000</td>\n",
       "      <td>5062006.36000</td>\n",
       "      <td>2</td>\n",
       "      <td>0.00980</td>\n",
       "      <td>0</td>\n",
       "      <td>2</td>\n",
       "      <td>4</td>\n",
       "      <td>1</td>\n",
       "      <td>1</td>\n",
       "      <td>True</td>\n",
       "      <td>False</td>\n",
       "      <td>False</td>\n",
       "      <td>False</td>\n",
       "      <td>True</td>\n",
       "      <td>False</td>\n",
       "      <td>True</td>\n",
       "      <td>False</td>\n",
       "      <td>True</td>\n",
       "      <td>True</td>\n",
       "      <td>False</td>\n",
       "      <td>False</td>\n",
       "      <td>False</td>\n",
       "      <td>False</td>\n",
       "      <td>True</td>\n",
       "      <td>False</td>\n",
       "      <td>False</td>\n",
       "      <td>False</td>\n",
       "      <td>False</td>\n",
       "      <td>True</td>\n",
       "      <td>False</td>\n",
       "    </tr>\n",
       "    <tr>\n",
       "      <th>4</th>\n",
       "      <td>4</td>\n",
       "      <td>716</td>\n",
       "      <td>33.00000</td>\n",
       "      <td>5</td>\n",
       "      <td>0.00000</td>\n",
       "      <td>15068.83000</td>\n",
       "      <td>0.00000</td>\n",
       "      <td>15068.83000</td>\n",
       "      <td>1.00000</td>\n",
       "      <td>0.00000</td>\n",
       "      <td>10</td>\n",
       "      <td>0.01010</td>\n",
       "      <td>0</td>\n",
       "      <td>2</td>\n",
       "      <td>1</td>\n",
       "      <td>3</td>\n",
       "      <td>2</td>\n",
       "      <td>False</td>\n",
       "      <td>False</td>\n",
       "      <td>True</td>\n",
       "      <td>False</td>\n",
       "      <td>True</td>\n",
       "      <td>False</td>\n",
       "      <td>True</td>\n",
       "      <td>False</td>\n",
       "      <td>True</td>\n",
       "      <td>False</td>\n",
       "      <td>True</td>\n",
       "      <td>False</td>\n",
       "      <td>False</td>\n",
       "      <td>False</td>\n",
       "      <td>False</td>\n",
       "      <td>False</td>\n",
       "      <td>False</td>\n",
       "      <td>False</td>\n",
       "      <td>True</td>\n",
       "      <td>True</td>\n",
       "      <td>False</td>\n",
       "    </tr>\n",
       "  </tbody>\n",
       "</table>\n",
       "</div>"
      ],
      "text/plain": [
       "   index  CreditScore      Age  Tenure      Balance  EstimatedSalary  Exited  \\\n",
       "0      0          668 33.00000       3      0.00000     181449.97000 0.00000   \n",
       "1      1          627 33.00000       1      0.00000      49503.50000 0.00000   \n",
       "2      2          678 40.00000      10      0.00000     184866.69000 0.00000   \n",
       "3      3          581 34.00000       2 148882.54000      84560.88000 0.00000   \n",
       "4      4          716 33.00000       5      0.00000      15068.83000 0.00000   \n",
       "\n",
       "   SalaryToBalanceRatio  CreditCard_ActiveMember  ABPInteraction  \\\n",
       "0          181449.97000                  0.00000         0.00000   \n",
       "1           49503.50000                  1.00000         0.00000   \n",
       "2          184866.69000                  0.00000         0.00000   \n",
       "3               0.56797                  1.00000   5062006.36000   \n",
       "4           15068.83000                  1.00000         0.00000   \n",
       "\n",
       "   TotalProductUsage  AgeAdjustedProductUsage  IsSenior  AgeGroup  \\\n",
       "0                  6                  0.01515         0         2   \n",
       "1                  2                  0.03030         0         2   \n",
       "2                 20                  0.00455         0         3   \n",
       "3                  2                  0.00980         0         2   \n",
       "4                 10                  0.01010         0         2   \n",
       "\n",
       "   BalanceCategory  CreditScoreCategory  TenureGroup  Geography_France  \\\n",
       "0                1                    2            1              True   \n",
       "1                1                    2            0              True   \n",
       "2                1                    2            3              True   \n",
       "3                4                    1            1              True   \n",
       "4                1                    3            2             False   \n",
       "\n",
       "   Geography_Germany  Geography_Spain  Gender_Female  Gender_Male  \\\n",
       "0              False            False          False         True   \n",
       "1              False            False          False         True   \n",
       "2              False            False          False         True   \n",
       "3              False            False          False         True   \n",
       "4              False             True          False         True   \n",
       "\n",
       "   IsActiveMember_0.0  IsActiveMember_1.0  HasCrCard_0.0  HasCrCard_1.0  \\\n",
       "0                True               False          False           True   \n",
       "1               False                True          False           True   \n",
       "2                True               False          False           True   \n",
       "3               False                True          False           True   \n",
       "4               False                True          False           True   \n",
       "\n",
       "   NumOfProducts_1  NumOfProducts_2  NumOfProducts_3  NumOfProducts_4  \\\n",
       "0            False             True            False            False   \n",
       "1            False             True            False            False   \n",
       "2            False             True            False            False   \n",
       "3             True            False            False            False   \n",
       "4            False             True            False            False   \n",
       "\n",
       "   Geo_Gender_France_Female  Geo_Gender_France_Male  \\\n",
       "0                     False                    True   \n",
       "1                     False                    True   \n",
       "2                     False                    True   \n",
       "3                     False                    True   \n",
       "4                     False                   False   \n",
       "\n",
       "   Geo_Gender_Germany_Female  Geo_Gender_Germany_Male  \\\n",
       "0                      False                    False   \n",
       "1                      False                    False   \n",
       "2                      False                    False   \n",
       "3                      False                    False   \n",
       "4                      False                    False   \n",
       "\n",
       "   Geo_Gender_Spain_Female  Geo_Gender_Spain_Male  Customer_Status_Long-term  \\\n",
       "0                    False                  False                       True   \n",
       "1                    False                  False                      False   \n",
       "2                    False                  False                       True   \n",
       "3                    False                  False                       True   \n",
       "4                    False                   True                       True   \n",
       "\n",
       "   Customer_Status_New  \n",
       "0                False  \n",
       "1                 True  \n",
       "2                False  \n",
       "3                False  \n",
       "4                False  "
      ]
     },
     "execution_count": 16,
     "metadata": {},
     "output_type": "execute_result"
    }
   ],
   "source": [
    "train = df[:165034]\n",
    "test = df[165034:]\n",
    "\n",
    "train_x = train.drop(columns=[target_col])\n",
    "train_y = target\n",
    "test_x = test.drop(columns=[target_col])\n",
    "\n",
    "X = train_x.values\n",
    "y = train_y.values\n",
    "# y = y.astype(int)\n",
    "\n",
    "df.head()"
   ]
  },
  {
   "cell_type": "code",
   "execution_count": 17,
   "id": "b944a062",
   "metadata": {
    "execution": {
     "iopub.execute_input": "2024-01-30T08:38:22.069587Z",
     "iopub.status.busy": "2024-01-30T08:38:22.069141Z",
     "iopub.status.idle": "2024-01-30T08:38:24.933668Z",
     "shell.execute_reply": "2024-01-30T08:38:24.932742Z"
    },
    "id": "yIlQ3t2-mxBU",
    "papermill": {
     "duration": 2.877517,
     "end_time": "2024-01-30T08:38:24.935743",
     "exception": false,
     "start_time": "2024-01-30T08:38:22.058226",
     "status": "completed"
    },
    "tags": []
   },
   "outputs": [
    {
     "data": {
      "text/html": [
       "<div>\n",
       "<style scoped>\n",
       "    .dataframe tbody tr th:only-of-type {\n",
       "        vertical-align: middle;\n",
       "    }\n",
       "\n",
       "    .dataframe tbody tr th {\n",
       "        vertical-align: top;\n",
       "    }\n",
       "\n",
       "    .dataframe thead th {\n",
       "        text-align: right;\n",
       "    }\n",
       "</style>\n",
       "<table border=\"1\" class=\"dataframe\">\n",
       "  <thead>\n",
       "    <tr style=\"text-align: right;\">\n",
       "      <th></th>\n",
       "      <th>importance</th>\n",
       "    </tr>\n",
       "  </thead>\n",
       "  <tbody>\n",
       "    <tr>\n",
       "      <th>AgeGroup</th>\n",
       "      <td>0</td>\n",
       "    </tr>\n",
       "    <tr>\n",
       "      <th>CreditScoreCategory</th>\n",
       "      <td>0</td>\n",
       "    </tr>\n",
       "    <tr>\n",
       "      <th>IsSenior</th>\n",
       "      <td>1</td>\n",
       "    </tr>\n",
       "    <tr>\n",
       "      <th>TenureGroup</th>\n",
       "      <td>1</td>\n",
       "    </tr>\n",
       "    <tr>\n",
       "      <th>BalanceCategory</th>\n",
       "      <td>10</td>\n",
       "    </tr>\n",
       "    <tr>\n",
       "      <th>Tenure</th>\n",
       "      <td>89</td>\n",
       "    </tr>\n",
       "    <tr>\n",
       "      <th>CreditCard_ActiveMember</th>\n",
       "      <td>94</td>\n",
       "    </tr>\n",
       "    <tr>\n",
       "      <th>ABPInteraction</th>\n",
       "      <td>164</td>\n",
       "    </tr>\n",
       "    <tr>\n",
       "      <th>index</th>\n",
       "      <td>179</td>\n",
       "    </tr>\n",
       "    <tr>\n",
       "      <th>SalaryToBalanceRatio</th>\n",
       "      <td>225</td>\n",
       "    </tr>\n",
       "    <tr>\n",
       "      <th>EstimatedSalary</th>\n",
       "      <td>228</td>\n",
       "    </tr>\n",
       "    <tr>\n",
       "      <th>Balance</th>\n",
       "      <td>255</td>\n",
       "    </tr>\n",
       "    <tr>\n",
       "      <th>CreditScore</th>\n",
       "      <td>305</td>\n",
       "    </tr>\n",
       "    <tr>\n",
       "      <th>Age</th>\n",
       "      <td>408</td>\n",
       "    </tr>\n",
       "    <tr>\n",
       "      <th>TotalProductUsage</th>\n",
       "      <td>475</td>\n",
       "    </tr>\n",
       "    <tr>\n",
       "      <th>AgeAdjustedProductUsage</th>\n",
       "      <td>566</td>\n",
       "    </tr>\n",
       "  </tbody>\n",
       "</table>\n",
       "</div>"
      ],
      "text/plain": [
       "                         importance\n",
       "AgeGroup                          0\n",
       "CreditScoreCategory               0\n",
       "IsSenior                          1\n",
       "TenureGroup                       1\n",
       "BalanceCategory                  10\n",
       "Tenure                           89\n",
       "CreditCard_ActiveMember          94\n",
       "ABPInteraction                  164\n",
       "index                           179\n",
       "SalaryToBalanceRatio            225\n",
       "EstimatedSalary                 228\n",
       "Balance                         255\n",
       "CreditScore                     305\n",
       "Age                             408\n",
       "TotalProductUsage               475\n",
       "AgeAdjustedProductUsage         566"
      ]
     },
     "execution_count": 17,
     "metadata": {},
     "output_type": "execute_result"
    }
   ],
   "source": [
    "# 特徴量の重要度評価\n",
    "train_importance = train\n",
    "feature_importance = feature_importance_evaluation(train_importance)\n",
    "feature_importance"
   ]
  },
  {
   "cell_type": "code",
   "execution_count": 18,
   "id": "efd7e92c",
   "metadata": {
    "execution": {
     "iopub.execute_input": "2024-01-30T08:38:24.956909Z",
     "iopub.status.busy": "2024-01-30T08:38:24.956010Z",
     "iopub.status.idle": "2024-01-30T08:38:25.526825Z",
     "shell.execute_reply": "2024-01-30T08:38:25.525900Z"
    },
    "id": "kUDkAd58nOmV",
    "papermill": {
     "duration": 0.584244,
     "end_time": "2024-01-30T08:38:25.529482",
     "exception": false,
     "start_time": "2024-01-30T08:38:24.945238",
     "status": "completed"
    },
    "tags": []
   },
   "outputs": [
    {
     "data": {
      "text/plain": [
       "<Axes: >"
      ]
     },
     "execution_count": 18,
     "metadata": {},
     "output_type": "execute_result"
    },
    {
     "data": {
      "image/png": "[encoded data removed]",
      "text/plain": [
       "<Figure size 1000x1500 with 1 Axes>"
      ]
     },
     "metadata": {},
     "output_type": "display_data"
    }
   ],
   "source": [
    "feature_importance.plot(kind='barh', figsize=(10, 15), color='b')"
   ]
  },
  {
   "cell_type": "code",
   "execution_count": 19,
   "id": "12abfbe8",
   "metadata": {
    "execution": {
     "iopub.execute_input": "2024-01-30T08:38:25.552504Z",
     "iopub.status.busy": "2024-01-30T08:38:25.552067Z",
     "iopub.status.idle": "2024-01-30T08:38:29.491863Z",
     "shell.execute_reply": "2024-01-30T08:38:29.490797Z"
    },
    "id": "DVYEwrPUnW9Q",
    "papermill": {
     "duration": 3.954428,
     "end_time": "2024-01-30T08:38:29.494535",
     "exception": false,
     "start_time": "2024-01-30T08:38:25.540107",
     "status": "completed"
    },
    "tags": []
   },
   "outputs": [],
   "source": [
    "df.to_csv(OUTPUT_DIR + 'data.csv', index=False)"
   ]
  },
  {
   "cell_type": "code",
   "execution_count": 20,
   "id": "0b828b4e",
   "metadata": {
    "execution": {
     "iopub.execute_input": "2024-01-30T08:38:29.518096Z",
     "iopub.status.busy": "2024-01-30T08:38:29.516858Z",
     "iopub.status.idle": "2024-01-30T08:38:29.524772Z",
     "shell.execute_reply": "2024-01-30T08:38:29.523676Z"
    },
    "id": "zxBoX1zbnYUl",
    "papermill": {
     "duration": 0.021957,
     "end_time": "2024-01-30T08:38:29.527290",
     "exception": false,
     "start_time": "2024-01-30T08:38:29.505333",
     "status": "completed"
    },
    "tags": []
   },
   "outputs": [],
   "source": [
    "def file_to_xy(filename):\n",
    "    data = pd.read_csv(filename, index_col=0)\n",
    "    print(f'読み込み完了 {filename}')\n",
    "    train = data[:165034].reset_index(drop=True)\n",
    "    test = data[165034:].reset_index(drop=True).drop(target_col, axis=1) # 目的変数を指定する\n",
    "    # 目的変数と説明変数に分割\n",
    "    X = train.drop([target_col], axis=1) # 目的変数を指定する\n",
    "    y = train[target_col].values # 目的変数を指定する\n",
    "\n",
    "    return data,test,train,X,y"
   ]
  },
  {
   "cell_type": "code",
   "execution_count": 21,
   "id": "77b77446",
   "metadata": {
    "execution": {
     "iopub.execute_input": "2024-01-30T08:38:29.550185Z",
     "iopub.status.busy": "2024-01-30T08:38:29.549817Z",
     "iopub.status.idle": "2024-01-30T08:38:30.603949Z",
     "shell.execute_reply": "2024-01-30T08:38:30.602813Z"
    },
    "id": "DRZhqQjJnfme",
    "outputId": "9cf6043d-315f-4fb6-908b-a67297884126",
    "papermill": {
     "duration": 1.068762,
     "end_time": "2024-01-30T08:38:30.606631",
     "exception": false,
     "start_time": "2024-01-30T08:38:29.537869",
     "status": "completed"
    },
    "tags": []
   },
   "outputs": [
    {
     "name": "stdout",
     "output_type": "stream",
     "text": [
      "読み込み完了 /kaggle/working/data.csv\n"
     ]
    }
   ],
   "source": [
    "filename = 'data.csv'\n",
    "data,test,train,X,y = file_to_xy(OUTPUT_DIR + filename)"
   ]
  },
  {
   "cell_type": "code",
   "execution_count": null,
   "id": "b8147e77",
   "metadata": {
    "papermill": {
     "duration": 0.011081,
     "end_time": "2024-01-30T08:38:30.629078",
     "exception": false,
     "start_time": "2024-01-30T08:38:30.617997",
     "status": "completed"
    },
    "tags": []
   },
   "outputs": [],
   "source": []
  }
 ],
 "metadata": {
  "colab": {
   "provenance": []
  },
  "kaggle": {
   "accelerator": "none",
   "dataSources": [
    {
     "databundleVersionId": 7405009,
     "sourceId": 65711,
     "sourceType": "competition"
    },
    {
     "databundleVersionId": 7604973,
     "datasetId": 4374201,
     "sourceId": 7511696,
     "sourceType": "datasetVersion"
    }
   ],
   "dockerImageVersionId": 30635,
   "isGpuEnabled": false,
   "isInternetEnabled": true,
   "language": "python",
   "sourceType": "notebook"
  },
  "kernelspec": {
   "display_name": "Python 3",
   "language": "python",
   "name": "python3"
  },
  "language_info": {
   "codemirror_mode": {
    "name": "ipython",
    "version": 3
   },
   "file_extension": ".py",
   "mimetype": "text/x-python",
   "name": "python",
   "nbconvert_exporter": "python",
   "pygments_lexer": "ipython3",
   "version": "3.10.12"
  },
  "papermill": {
   "default_parameters": {},
   "duration": 19.061385,
   "end_time": "2024-01-30T08:38:31.359964",
   "environment_variables": {},
   "exception": null,
   "input_path": "__notebook__.ipynb",
   "output_path": "__notebook__.ipynb",
   "parameters": {},
   "start_time": "2024-01-30T08:38:12.298579",
   "version": "2.4.0"
  }
 },
 "nbformat": 4,
 "nbformat_minor": 5
}

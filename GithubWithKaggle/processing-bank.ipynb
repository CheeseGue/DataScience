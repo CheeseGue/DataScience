{
 "cells": [
  {
   "cell_type": "markdown",
   "id": "b9f411a1",
   "metadata": {
    "id": "9jJ7f1atJ0qO",
    "papermill": {
     "duration": 0.008155,
     "end_time": "2024-01-30T08:42:59.063476",
     "exception": false,
     "start_time": "2024-01-30T08:42:59.055321",
     "status": "completed"
    },
    "tags": []
   },
   "source": [
    "# **銀行解約データセットを使用した二項分類**\n",
    "Binary Classification with a Bank Churn Dataset(https://www.kaggle.com/competitions/playground-series-s4e1/code?competitionId=65711&sortBy=voteCount)"
   ]
  },
  {
   "cell_type": "markdown",
   "id": "60f19ded",
   "metadata": {
    "id": "dRrM5BeJkgj-",
    "papermill": {
     "duration": 0.007387,
     "end_time": "2024-01-30T08:42:59.078681",
     "exception": false,
     "start_time": "2024-01-30T08:42:59.071294",
     "status": "completed"
    },
    "tags": []
   },
   "source": [
    "# 参考資料\n",
    "**書籍**\n",
    "\n",
    "\n",
    "**Kaggle**\n",
    "- [[PlayGround S4E1] 📊 EDA + 🤖 Modeling [XGBoost]](https://www.kaggle.com/code/akhiljethwa/playground-s4e1-eda-modeling-xgboost)\n",
    "- [Bank Churn CatBoost - 0.89626](https://www.kaggle.com/code/aspillai/bank-churn-catboost-0-89626)\n",
    "\n",
    "\n",
    "**自分で作成したファイル**\n",
    "- Home_Credit_Default_Risk\n",
    "- 肝硬変の転帰の多クラス予測\n",
    "- 馬の健康への影響を予測する\n",
    "- ルワンダにおける CO2 排出量を予測する\n",
    "\n",
    "**その他**\n"
   ]
  },
  {
   "cell_type": "markdown",
   "id": "6fb85c75",
   "metadata": {
    "id": "MV1ptyJ5kn2E",
    "papermill": {
     "duration": 0.007329,
     "end_time": "2024-01-30T08:42:59.093747",
     "exception": false,
     "start_time": "2024-01-30T08:42:59.086418",
     "status": "completed"
    },
    "tags": []
   },
   "source": [
    "## ライブラリ・データセットのインポート"
   ]
  },
  {
   "cell_type": "code",
   "execution_count": 1,
   "id": "46f028a7",
   "metadata": {
    "execution": {
     "iopub.execute_input": "2024-01-30T08:42:59.111237Z",
     "iopub.status.busy": "2024-01-30T08:42:59.110876Z",
     "iopub.status.idle": "2024-01-30T08:42:59.917049Z",
     "shell.execute_reply": "2024-01-30T08:42:59.915921Z"
    },
    "id": "cXwErGKbkUpb",
    "papermill": {
     "duration": 0.817817,
     "end_time": "2024-01-30T08:42:59.919238",
     "exception": false,
     "start_time": "2024-01-30T08:42:59.101421",
     "status": "completed"
    },
    "tags": []
   },
   "outputs": [],
   "source": [
    "import numpy as np\n",
    "import pandas as pd\n",
    "\n",
    "import warnings\n",
    "warnings.filterwarnings('ignore')\n",
    "\n",
    "pd.options.display.float_format = '{:.5f}'.format\n",
    "pd.set_option('display.max_columns', None)\n",
    "pd.set_option('display.max_rows', None)"
   ]
  },
  {
   "cell_type": "code",
   "execution_count": 2,
   "id": "a21718c9",
   "metadata": {
    "execution": {
     "iopub.execute_input": "2024-01-30T08:42:59.935560Z",
     "iopub.status.busy": "2024-01-30T08:42:59.935101Z",
     "iopub.status.idle": "2024-01-30T08:43:02.326481Z",
     "shell.execute_reply": "2024-01-30T08:43:02.325430Z"
    },
    "id": "y2vH8YMCko3q",
    "papermill": {
     "duration": 2.402089,
     "end_time": "2024-01-30T08:43:02.328890",
     "exception": false,
     "start_time": "2024-01-30T08:42:59.926801",
     "status": "completed"
    },
    "tags": []
   },
   "outputs": [],
   "source": [
    "from sklearn.preprocessing import LabelEncoder, MinMaxScaler\n",
    "from lightgbm import LGBMClassifier # 特徴量の重要度評価で用いる"
   ]
  },
  {
   "cell_type": "markdown",
   "id": "066bc0d9",
   "metadata": {
    "id": "xAub7rgGk35P",
    "papermill": {
     "duration": 0.008199,
     "end_time": "2024-01-30T08:43:02.345031",
     "exception": false,
     "start_time": "2024-01-30T08:43:02.336832",
     "status": "completed"
    },
    "tags": []
   },
   "source": [
    "## 実行時間を調べるために使う"
   ]
  },
  {
   "cell_type": "code",
   "execution_count": 3,
   "id": "b8b8fb17",
   "metadata": {
    "execution": {
     "iopub.execute_input": "2024-01-30T08:43:02.367601Z",
     "iopub.status.busy": "2024-01-30T08:43:02.365553Z",
     "iopub.status.idle": "2024-01-30T08:43:02.374362Z",
     "shell.execute_reply": "2024-01-30T08:43:02.373089Z"
    },
    "id": "_hGkGqJtk6M-",
    "papermill": {
     "duration": 0.021221,
     "end_time": "2024-01-30T08:43:02.376577",
     "exception": false,
     "start_time": "2024-01-30T08:43:02.355356",
     "status": "completed"
    },
    "tags": []
   },
   "outputs": [],
   "source": [
    "import datetime\n",
    "import time\n",
    "import math\n",
    "\n",
    "start_time = time.time()\n",
    "\n",
    "def changeHMS(s):\n",
    "    h = math.floor(s / 3600)\n",
    "    if h > 0:\n",
    "        s = s - h * 3600\n",
    "        indi_h = str(h) + 'h'\n",
    "    else:\n",
    "        indi_h = ''\n",
    "    m = math.floor(s / 60)\n",
    "    if m > 0:\n",
    "        indi_m = str(m) + 'm'\n",
    "    else:\n",
    "        indi_m = ''\n",
    "    s = math.floor(s % 60)\n",
    "    time = indi_h + indi_m + str(s) + 's'\n",
    "    return time"
   ]
  },
  {
   "cell_type": "code",
   "execution_count": 4,
   "id": "0f10787b",
   "metadata": {
    "execution": {
     "iopub.execute_input": "2024-01-30T08:43:02.393233Z",
     "iopub.status.busy": "2024-01-30T08:43:02.392868Z",
     "iopub.status.idle": "2024-01-30T08:43:02.944717Z",
     "shell.execute_reply": "2024-01-30T08:43:02.943325Z"
    },
    "id": "4EzyBOiPkph8",
    "papermill": {
     "duration": 0.56304,
     "end_time": "2024-01-30T08:43:02.947158",
     "exception": false,
     "start_time": "2024-01-30T08:43:02.384118",
     "status": "completed"
    },
    "tags": []
   },
   "outputs": [],
   "source": [
    "FILE_PATH = '/kaggle/input/playground-series-s4e1/'\n",
    "OUTPUT_DIR = '/kaggle/working/'\n",
    "\n",
    "train = pd.read_csv(FILE_PATH + 'train.csv')\n",
    "test = pd.read_csv(FILE_PATH + 'test.csv')\n",
    "\n",
    "train_id = train['id']\n",
    "train.drop('id', axis=1, inplace=True)\n",
    "\n",
    "test_id = test['id']\n",
    "test.drop('id', axis=1, inplace=True)\n",
    "\n",
    "target = train['Exited']\n",
    "target_col = 'Exited'\n",
    "\n",
    "target_name = str(train.iloc[:, [-1]].columns.tolist()) # カラム数-2の値が目的変数\n",
    "\n",
    "df = pd.concat([train, test], axis=0)\n",
    "df.reset_index(inplace=True)\n",
    "\n",
    "# 説明変数をデータ型ごとに代入する\n",
    "numerical_features = df._get_numeric_data().columns\n",
    "categorical_features = df.drop(numerical_features, axis=1).columns"
   ]
  },
  {
   "cell_type": "markdown",
   "id": "2bc404cb",
   "metadata": {
    "id": "O1qWEpEsmIsU",
    "papermill": {
     "duration": 0.007315,
     "end_time": "2024-01-30T08:43:02.962323",
     "exception": false,
     "start_time": "2024-01-30T08:43:02.955008",
     "status": "completed"
    },
    "tags": []
   },
   "source": [
    "## 前処理"
   ]
  },
  {
   "cell_type": "markdown",
   "id": "9de3bdf6",
   "metadata": {
    "id": "Geqin6VhmJw9",
    "papermill": {
     "duration": 0.007447,
     "end_time": "2024-01-30T08:43:02.977876",
     "exception": false,
     "start_time": "2024-01-30T08:43:02.970429",
     "status": "completed"
    },
    "tags": []
   },
   "source": [
    "### 欠損値の補完"
   ]
  },
  {
   "cell_type": "code",
   "execution_count": 5,
   "id": "a5931793",
   "metadata": {
    "execution": {
     "iopub.execute_input": "2024-01-30T08:43:02.995244Z",
     "iopub.status.busy": "2024-01-30T08:43:02.994840Z",
     "iopub.status.idle": "2024-01-30T08:43:02.998644Z",
     "shell.execute_reply": "2024-01-30T08:43:02.998049Z"
    },
    "id": "pc9ukAPLmKkl",
    "papermill": {
     "duration": 0.015231,
     "end_time": "2024-01-30T08:43:03.000924",
     "exception": false,
     "start_time": "2024-01-30T08:43:02.985693",
     "status": "completed"
    },
    "tags": []
   },
   "outputs": [],
   "source": [
    "def missing_values(df):\n",
    "\n",
    "    return df"
   ]
  },
  {
   "cell_type": "markdown",
   "id": "4eb2b2ab",
   "metadata": {
    "id": "2ZLsziVQmM_s",
    "papermill": {
     "duration": 0.007169,
     "end_time": "2024-01-30T08:43:03.016402",
     "exception": false,
     "start_time": "2024-01-30T08:43:03.009233",
     "status": "completed"
    },
    "tags": []
   },
   "source": [
    "### 外れ値の修正"
   ]
  },
  {
   "cell_type": "code",
   "execution_count": 6,
   "id": "b0410749",
   "metadata": {
    "execution": {
     "iopub.execute_input": "2024-01-30T08:43:03.032853Z",
     "iopub.status.busy": "2024-01-30T08:43:03.032498Z",
     "iopub.status.idle": "2024-01-30T08:43:03.036401Z",
     "shell.execute_reply": "2024-01-30T08:43:03.035527Z"
    },
    "id": "D9RIXWdJmOBI",
    "papermill": {
     "duration": 0.014903,
     "end_time": "2024-01-30T08:43:03.038692",
     "exception": false,
     "start_time": "2024-01-30T08:43:03.023789",
     "status": "completed"
    },
    "tags": []
   },
   "outputs": [],
   "source": [
    "def outlier(df):\n",
    "\n",
    "    return df"
   ]
  },
  {
   "cell_type": "markdown",
   "id": "1a44e660",
   "metadata": {
    "id": "L0T_RQ97XYoT",
    "papermill": {
     "duration": 0.007997,
     "end_time": "2024-01-30T08:43:03.054545",
     "exception": false,
     "start_time": "2024-01-30T08:43:03.046548",
     "status": "completed"
    },
    "tags": []
   },
   "source": [
    "### スケーリング（標準化）"
   ]
  },
  {
   "cell_type": "markdown",
   "id": "77aaabf7",
   "metadata": {
    "id": "fH7xUj12XcGU",
    "papermill": {
     "duration": 0.007722,
     "end_time": "2024-01-30T08:43:03.070213",
     "exception": false,
     "start_time": "2024-01-30T08:43:03.062491",
     "status": "completed"
    },
    "tags": []
   },
   "source": [
    "- MinMaxScaler(正規化)"
   ]
  },
  {
   "cell_type": "code",
   "execution_count": 7,
   "id": "6f441e3e",
   "metadata": {
    "execution": {
     "iopub.execute_input": "2024-01-30T08:43:03.088334Z",
     "iopub.status.busy": "2024-01-30T08:43:03.087021Z",
     "iopub.status.idle": "2024-01-30T08:43:03.092449Z",
     "shell.execute_reply": "2024-01-30T08:43:03.091452Z"
    },
    "id": "H2MehtAxXd61",
    "papermill": {
     "duration": 0.016154,
     "end_time": "2024-01-30T08:43:03.094206",
     "exception": false,
     "start_time": "2024-01-30T08:43:03.078052",
     "status": "completed"
    },
    "tags": []
   },
   "outputs": [],
   "source": [
    "def scaling_MinMaxScaler(df, scale_cols):\n",
    "    df_scale = df[scale_cols]\n",
    "    sc = MinMaxScaler()\n",
    "    df[scale_cols] = pd.DataFrame(sc.fit_transform(df_scale), columns = df_scale.columns)\n",
    "\n",
    "    return df"
   ]
  },
  {
   "cell_type": "markdown",
   "id": "62ed9839",
   "metadata": {
    "id": "evWEXqCTliXu",
    "papermill": {
     "duration": 0.007008,
     "end_time": "2024-01-30T08:43:03.108871",
     "exception": false,
     "start_time": "2024-01-30T08:43:03.101863",
     "status": "completed"
    },
    "tags": []
   },
   "source": [
    "## 特徴量エンジニアリング"
   ]
  },
  {
   "cell_type": "markdown",
   "id": "7e74f172",
   "metadata": {
    "id": "ehRLTpCDlj_m",
    "papermill": {
     "duration": 0.006935,
     "end_time": "2024-01-30T08:43:03.122972",
     "exception": false,
     "start_time": "2024-01-30T08:43:03.116037",
     "status": "completed"
    },
    "tags": []
   },
   "source": [
    "### 特徴量の作成"
   ]
  },
  {
   "cell_type": "code",
   "execution_count": 8,
   "id": "98a30d71",
   "metadata": {
    "execution": {
     "iopub.execute_input": "2024-01-30T08:43:03.139682Z",
     "iopub.status.busy": "2024-01-30T08:43:03.138827Z",
     "iopub.status.idle": "2024-01-30T08:43:03.145575Z",
     "shell.execute_reply": "2024-01-30T08:43:03.144550Z"
    },
    "id": "SJd05F70kskT",
    "papermill": {
     "duration": 0.017725,
     "end_time": "2024-01-30T08:43:03.148005",
     "exception": false,
     "start_time": "2024-01-30T08:43:03.130280",
     "status": "completed"
    },
    "tags": []
   },
   "outputs": [],
   "source": [
    "def create_new_features(df):\n",
    "    # Salary to Balance Ratio\n",
    "    df['SalaryToBalanceRatio'] = df['EstimatedSalary'] / (df['Balance'] + 1)  # Adding 1 to avoid division by zero\n",
    "\n",
    "    # Credit Card and Active Member Interaction\n",
    "    df['CreditCard_ActiveMember'] = df['HasCrCard'] * df['IsActiveMember']\n",
    "\n",
    "\n",
    "    # ABP Interaction\n",
    "    df['ABPInteraction'] = df['Age'] * df['Balance'] / df['NumOfProducts']\n",
    "\n",
    "    df['Geo_Gender'] = df['Geography'] + '_' + df['Gender']\n",
    "    \n",
    "    df['TotalProductUsage'] = df['Tenure'] * df['NumOfProducts']\n",
    "            \n",
    "    df['AgeAdjustedProductUsage'] = df['NumOfProducts']/((df['Tenure']+1) * df['Age'])\n",
    "    \n",
    "    df['Customer_Status'] = df['Tenure'].apply(lambda x: 'New' if x < 2 else 'Long-term')\n",
    "    \n",
    "    # 高齢者を1とするカラムを作成する\n",
    "    df['IsSenior'] = df['Age'].apply(lambda x: 1 if x >= 60 else 0)\n",
    "    \n",
    "    return df"
   ]
  },
  {
   "cell_type": "markdown",
   "id": "c159a689",
   "metadata": {
    "papermill": {
     "duration": 0.007478,
     "end_time": "2024-01-30T08:43:03.163693",
     "exception": false,
     "start_time": "2024-01-30T08:43:03.156215",
     "status": "completed"
    },
    "tags": []
   },
   "source": [
    "#### ビンニング"
   ]
  },
  {
   "cell_type": "code",
   "execution_count": 9,
   "id": "c2a763f9",
   "metadata": {
    "execution": {
     "iopub.execute_input": "2024-01-30T08:43:03.180648Z",
     "iopub.status.busy": "2024-01-30T08:43:03.180316Z",
     "iopub.status.idle": "2024-01-30T08:43:03.187741Z",
     "shell.execute_reply": "2024-01-30T08:43:03.186205Z"
    },
    "papermill": {
     "duration": 0.018705,
     "end_time": "2024-01-30T08:43:03.190262",
     "exception": false,
     "start_time": "2024-01-30T08:43:03.171557",
     "status": "completed"
    },
    "tags": []
   },
   "outputs": [],
   "source": [
    "def binning(df):\n",
    "    # Age Group\n",
    "    age_bins = [0, 18, 30, 40, 50, 60, 100]\n",
    "    df['AgeGroup'] = pd.cut(df['Age'], bins=age_bins, labels=False, right=False)\n",
    "    \n",
    "    # Balance Category\n",
    "    balance_bins = [-np.inf, 0, 10000, 50000, 100000, np.inf]\n",
    "    df['BalanceCategory'] = pd.cut(df['Balance'], bins=balance_bins, labels=False, right=False)\n",
    "    \n",
    "    # Credit Score Category\n",
    "    credit_bins = [0, 500, 600, 700, 800, 900]\n",
    "    df['CreditScoreCategory'] = pd.cut(df['CreditScore'], bins=credit_bins, labels=False, right=False)\n",
    "    \n",
    "    tenure_bins = [0, 2, 5, 10, np.inf]\n",
    "    df['TenureGroup'] = pd.cut(df['Tenure'], bins=tenure_bins, labels=False, right=False)\n",
    "    \n",
    "    return df"
   ]
  },
  {
   "cell_type": "markdown",
   "id": "8179bb56",
   "metadata": {
    "id": "eWE-oFe4loLR",
    "papermill": {
     "duration": 0.007406,
     "end_time": "2024-01-30T08:43:03.205587",
     "exception": false,
     "start_time": "2024-01-30T08:43:03.198181",
     "status": "completed"
    },
    "tags": []
   },
   "source": [
    "### カテゴリ変数のエンコーディング"
   ]
  },
  {
   "cell_type": "markdown",
   "id": "52b98c15",
   "metadata": {
    "id": "xoRllpoVJi0M",
    "papermill": {
     "duration": 0.008144,
     "end_time": "2024-01-30T08:43:03.278416",
     "exception": false,
     "start_time": "2024-01-30T08:43:03.270272",
     "status": "completed"
    },
    "tags": []
   },
   "source": [
    "* One-HotEncoding"
   ]
  },
  {
   "cell_type": "code",
   "execution_count": 10,
   "id": "91208312",
   "metadata": {
    "execution": {
     "iopub.execute_input": "2024-01-30T08:43:03.295340Z",
     "iopub.status.busy": "2024-01-30T08:43:03.294998Z",
     "iopub.status.idle": "2024-01-30T08:43:03.299515Z",
     "shell.execute_reply": "2024-01-30T08:43:03.298732Z"
    },
    "id": "r4FeWb-aJi0N",
    "papermill": {
     "duration": 0.015721,
     "end_time": "2024-01-30T08:43:03.301865",
     "exception": false,
     "start_time": "2024-01-30T08:43:03.286144",
     "status": "completed"
    },
    "tags": []
   },
   "outputs": [],
   "source": [
    "def one_hot_encoding(df, cat_cols):\n",
    "    df = pd.get_dummies(df, columns=cat_cols)\n",
    "\n",
    "    return df"
   ]
  },
  {
   "cell_type": "markdown",
   "id": "c8c4cdd5",
   "metadata": {
    "id": "sKHw_ipAlpUy",
    "papermill": {
     "duration": 0.008686,
     "end_time": "2024-01-30T08:43:03.319181",
     "exception": false,
     "start_time": "2024-01-30T08:43:03.310495",
     "status": "completed"
    },
    "tags": []
   },
   "source": [
    "- LabelEncoding"
   ]
  },
  {
   "cell_type": "code",
   "execution_count": 11,
   "id": "3368e80b",
   "metadata": {
    "execution": {
     "iopub.execute_input": "2024-01-30T08:43:03.338184Z",
     "iopub.status.busy": "2024-01-30T08:43:03.337790Z",
     "iopub.status.idle": "2024-01-30T08:43:03.342232Z",
     "shell.execute_reply": "2024-01-30T08:43:03.341572Z"
    },
    "id": "uBNUcljZlmV5",
    "papermill": {
     "duration": 0.016483,
     "end_time": "2024-01-30T08:43:03.344924",
     "exception": false,
     "start_time": "2024-01-30T08:43:03.328441",
     "status": "completed"
    },
    "tags": []
   },
   "outputs": [],
   "source": [
    "def label_encoder(df):\n",
    "    categorical_columns = df.select_dtypes(include=['object']).columns\n",
    "\n",
    "    for column in categorical_columns:\n",
    "        df[column] = df[column].fillna('').astype('str') # 欠損値の補完をする\n",
    "        le = LabelEncoder()\n",
    "        df[column] = le.fit_transform(df[column])\n",
    "\n",
    "    return df"
   ]
  },
  {
   "cell_type": "markdown",
   "id": "8b6773bb",
   "metadata": {
    "papermill": {
     "duration": 0.007213,
     "end_time": "2024-01-30T08:43:03.359850",
     "exception": false,
     "start_time": "2024-01-30T08:43:03.352637",
     "status": "completed"
    },
    "tags": []
   },
   "source": [
    "- pd.get_dummies"
   ]
  },
  {
   "cell_type": "code",
   "execution_count": 12,
   "id": "6a88857b",
   "metadata": {
    "execution": {
     "iopub.execute_input": "2024-01-30T08:43:03.377997Z",
     "iopub.status.busy": "2024-01-30T08:43:03.377592Z",
     "iopub.status.idle": "2024-01-30T08:43:03.384209Z",
     "shell.execute_reply": "2024-01-30T08:43:03.382465Z"
    },
    "papermill": {
     "duration": 0.018738,
     "end_time": "2024-01-30T08:43:03.386842",
     "exception": false,
     "start_time": "2024-01-30T08:43:03.368104",
     "status": "completed"
    },
    "tags": []
   },
   "outputs": [],
   "source": [
    "def get_dummies(df, cat_cols):\n",
    "    df = pd.get_dummies(df, columns=cat_cols)\n",
    "    \n",
    "    return df"
   ]
  },
  {
   "cell_type": "markdown",
   "id": "99e08b14",
   "metadata": {
    "id": "OVz_DZCgltFl",
    "papermill": {
     "duration": 0.007431,
     "end_time": "2024-01-30T08:43:03.402420",
     "exception": false,
     "start_time": "2024-01-30T08:43:03.394989",
     "status": "completed"
    },
    "tags": []
   },
   "source": [
    "### 特徴量の選択"
   ]
  },
  {
   "cell_type": "markdown",
   "id": "1c5dd3f7",
   "metadata": {
    "id": "T-uGFwI8luOC",
    "papermill": {
     "duration": 0.007178,
     "end_time": "2024-01-30T08:43:03.417128",
     "exception": false,
     "start_time": "2024-01-30T08:43:03.409950",
     "status": "completed"
    },
    "tags": []
   },
   "source": [
    "#### 特徴量の重要度評価"
   ]
  },
  {
   "cell_type": "code",
   "execution_count": 13,
   "id": "65c57a9c",
   "metadata": {
    "execution": {
     "iopub.execute_input": "2024-01-30T08:43:03.433787Z",
     "iopub.status.busy": "2024-01-30T08:43:03.433428Z",
     "iopub.status.idle": "2024-01-30T08:43:03.440632Z",
     "shell.execute_reply": "2024-01-30T08:43:03.439118Z"
    },
    "id": "IvbTfuG8lrYZ",
    "papermill": {
     "duration": 0.019007,
     "end_time": "2024-01-30T08:43:03.443346",
     "exception": false,
     "start_time": "2024-01-30T08:43:03.424339",
     "status": "completed"
    },
    "tags": []
   },
   "outputs": [],
   "source": [
    "def feature_importance_evaluation(df):\n",
    "    # 訓練データをX(説明変数)とy（目的変数）に分割する\n",
    "    X = df.select_dtypes(include=['float', 'int'])\n",
    "    X = X.drop([target_col], axis=1) # 目的変数を指定する\n",
    "    y = target # 目的変数を指定する\n",
    "\n",
    "    \n",
    "\n",
    "    # 特徴量の重要度評価\n",
    "    clf = LGBMClassifier(\n",
    "        random_state=42,\n",
    "    )\n",
    "\n",
    "    clf.fit(X, y)\n",
    "    importance = clf.feature_importances_\n",
    "\n",
    "    feature_importance = pd.DataFrame(data=importance, index=X.columns, columns=['importance']) \\\n",
    "        .sort_values(ascending=True, by='importance')\n",
    "\n",
    "    return feature_importance"
   ]
  },
  {
   "cell_type": "markdown",
   "id": "1635e196",
   "metadata": {
    "id": "Uu58wE5hl4MK",
    "papermill": {
     "duration": 0.007343,
     "end_time": "2024-01-30T08:43:03.458706",
     "exception": false,
     "start_time": "2024-01-30T08:43:03.451363",
     "status": "completed"
    },
    "tags": []
   },
   "source": [
    "#### 特徴量の削除"
   ]
  },
  {
   "cell_type": "code",
   "execution_count": 14,
   "id": "f3dd5a4a",
   "metadata": {
    "execution": {
     "iopub.execute_input": "2024-01-30T08:43:03.475048Z",
     "iopub.status.busy": "2024-01-30T08:43:03.474653Z",
     "iopub.status.idle": "2024-01-30T08:43:03.480981Z",
     "shell.execute_reply": "2024-01-30T08:43:03.479222Z"
    },
    "id": "LNqYHRC2l0fz",
    "papermill": {
     "duration": 0.017477,
     "end_time": "2024-01-30T08:43:03.483552",
     "exception": false,
     "start_time": "2024-01-30T08:43:03.466075",
     "status": "completed"
    },
    "tags": []
   },
   "outputs": [],
   "source": [
    "def drop_columns(df):\n",
    "    drop_list = [\n",
    "        'CustomerId', 'Surname',\n",
    "        'AgeAdjustedProductUsage',\n",
    "    ]\n",
    "    dropped_df = df.drop(columns=drop_list)\n",
    "\n",
    "    return dropped_df"
   ]
  },
  {
   "cell_type": "markdown",
   "id": "fad22435",
   "metadata": {
    "id": "EzhMZ-IVmC04",
    "papermill": {
     "duration": 0.007868,
     "end_time": "2024-01-30T08:43:03.499438",
     "exception": false,
     "start_time": "2024-01-30T08:43:03.491570",
     "status": "completed"
    },
    "tags": []
   },
   "source": [
    "### データセットの更新"
   ]
  },
  {
   "cell_type": "code",
   "execution_count": 15,
   "id": "179ddeff",
   "metadata": {
    "execution": {
     "iopub.execute_input": "2024-01-30T08:43:03.516676Z",
     "iopub.status.busy": "2024-01-30T08:43:03.516285Z",
     "iopub.status.idle": "2024-01-30T08:43:03.990126Z",
     "shell.execute_reply": "2024-01-30T08:43:03.989200Z"
    },
    "id": "wtp9MwnUl_zY",
    "papermill": {
     "duration": 0.485366,
     "end_time": "2024-01-30T08:43:03.992479",
     "exception": false,
     "start_time": "2024-01-30T08:43:03.507113",
     "status": "completed"
    },
    "tags": []
   },
   "outputs": [],
   "source": [
    "# 前処理\n",
    "df = missing_values(df)\n",
    "df = outlier(df)\n",
    "\n",
    "scale_cols = ['Age','CreditScore', 'Balance','EstimatedSalary']\n",
    "# df = scaling_MinMaxScaler(df, scale_cols) # 標準化したい時のみ実行する\n",
    "\n",
    "# 特徴量エンジニアリング\n",
    "df = create_new_features(df)\n",
    "df = binning(df)\n",
    "df = missing_values(df)\n",
    "df = drop_columns(df)\n",
    "\n",
    "ohe_cols = [] # One-Hot Encodingしたい水準数の少ないカラムを指定する\n",
    "dummies_cols = ['Geography','Gender','IsActiveMember','HasCrCard','NumOfProducts', 'Geo_Gender', 'Customer_Status'] # pd.get_dummiesしたい水準数の少ないカラムを指定する\n",
    "df = one_hot_encoding(df, ohe_cols)\n",
    "df = get_dummies(df, dummies_cols)\n",
    "# df = label_encoder(df)"
   ]
  },
  {
   "cell_type": "code",
   "execution_count": 16,
   "id": "ad709cc6",
   "metadata": {
    "execution": {
     "iopub.execute_input": "2024-01-30T08:43:04.008898Z",
     "iopub.status.busy": "2024-01-30T08:43:04.008578Z",
     "iopub.status.idle": "2024-01-30T08:43:04.169778Z",
     "shell.execute_reply": "2024-01-30T08:43:04.168797Z"
    },
    "id": "DDUYrDzpmD2t",
    "outputId": "453062fd-b278-4ced-f7e2-f903a0067358",
    "papermill": {
     "duration": 0.171474,
     "end_time": "2024-01-30T08:43:04.171702",
     "exception": false,
     "start_time": "2024-01-30T08:43:04.000228",
     "status": "completed"
    },
    "tags": []
   },
   "outputs": [
    {
     "data": {
      "text/html": [
       "<div>\n",
       "<style scoped>\n",
       "    .dataframe tbody tr th:only-of-type {\n",
       "        vertical-align: middle;\n",
       "    }\n",
       "\n",
       "    .dataframe tbody tr th {\n",
       "        vertical-align: top;\n",
       "    }\n",
       "\n",
       "    .dataframe thead th {\n",
       "        text-align: right;\n",
       "    }\n",
       "</style>\n",
       "<table border=\"1\" class=\"dataframe\">\n",
       "  <thead>\n",
       "    <tr style=\"text-align: right;\">\n",
       "      <th></th>\n",
       "      <th>index</th>\n",
       "      <th>CreditScore</th>\n",
       "      <th>Age</th>\n",
       "      <th>Tenure</th>\n",
       "      <th>Balance</th>\n",
       "      <th>EstimatedSalary</th>\n",
       "      <th>Exited</th>\n",
       "      <th>SalaryToBalanceRatio</th>\n",
       "      <th>CreditCard_ActiveMember</th>\n",
       "      <th>ABPInteraction</th>\n",
       "      <th>TotalProductUsage</th>\n",
       "      <th>IsSenior</th>\n",
       "      <th>AgeGroup</th>\n",
       "      <th>BalanceCategory</th>\n",
       "      <th>CreditScoreCategory</th>\n",
       "      <th>TenureGroup</th>\n",
       "      <th>Geography_France</th>\n",
       "      <th>Geography_Germany</th>\n",
       "      <th>Geography_Spain</th>\n",
       "      <th>Gender_Female</th>\n",
       "      <th>Gender_Male</th>\n",
       "      <th>IsActiveMember_0.0</th>\n",
       "      <th>IsActiveMember_1.0</th>\n",
       "      <th>HasCrCard_0.0</th>\n",
       "      <th>HasCrCard_1.0</th>\n",
       "      <th>NumOfProducts_1</th>\n",
       "      <th>NumOfProducts_2</th>\n",
       "      <th>NumOfProducts_3</th>\n",
       "      <th>NumOfProducts_4</th>\n",
       "      <th>Geo_Gender_France_Female</th>\n",
       "      <th>Geo_Gender_France_Male</th>\n",
       "      <th>Geo_Gender_Germany_Female</th>\n",
       "      <th>Geo_Gender_Germany_Male</th>\n",
       "      <th>Geo_Gender_Spain_Female</th>\n",
       "      <th>Geo_Gender_Spain_Male</th>\n",
       "      <th>Customer_Status_Long-term</th>\n",
       "      <th>Customer_Status_New</th>\n",
       "    </tr>\n",
       "  </thead>\n",
       "  <tbody>\n",
       "    <tr>\n",
       "      <th>0</th>\n",
       "      <td>0</td>\n",
       "      <td>668</td>\n",
       "      <td>33.00000</td>\n",
       "      <td>3</td>\n",
       "      <td>0.00000</td>\n",
       "      <td>181449.97000</td>\n",
       "      <td>0.00000</td>\n",
       "      <td>181449.97000</td>\n",
       "      <td>0.00000</td>\n",
       "      <td>0.00000</td>\n",
       "      <td>6</td>\n",
       "      <td>0</td>\n",
       "      <td>2</td>\n",
       "      <td>1</td>\n",
       "      <td>2</td>\n",
       "      <td>1</td>\n",
       "      <td>True</td>\n",
       "      <td>False</td>\n",
       "      <td>False</td>\n",
       "      <td>False</td>\n",
       "      <td>True</td>\n",
       "      <td>True</td>\n",
       "      <td>False</td>\n",
       "      <td>False</td>\n",
       "      <td>True</td>\n",
       "      <td>False</td>\n",
       "      <td>True</td>\n",
       "      <td>False</td>\n",
       "      <td>False</td>\n",
       "      <td>False</td>\n",
       "      <td>True</td>\n",
       "      <td>False</td>\n",
       "      <td>False</td>\n",
       "      <td>False</td>\n",
       "      <td>False</td>\n",
       "      <td>True</td>\n",
       "      <td>False</td>\n",
       "    </tr>\n",
       "    <tr>\n",
       "      <th>1</th>\n",
       "      <td>1</td>\n",
       "      <td>627</td>\n",
       "      <td>33.00000</td>\n",
       "      <td>1</td>\n",
       "      <td>0.00000</td>\n",
       "      <td>49503.50000</td>\n",
       "      <td>0.00000</td>\n",
       "      <td>49503.50000</td>\n",
       "      <td>1.00000</td>\n",
       "      <td>0.00000</td>\n",
       "      <td>2</td>\n",
       "      <td>0</td>\n",
       "      <td>2</td>\n",
       "      <td>1</td>\n",
       "      <td>2</td>\n",
       "      <td>0</td>\n",
       "      <td>True</td>\n",
       "      <td>False</td>\n",
       "      <td>False</td>\n",
       "      <td>False</td>\n",
       "      <td>True</td>\n",
       "      <td>False</td>\n",
       "      <td>True</td>\n",
       "      <td>False</td>\n",
       "      <td>True</td>\n",
       "      <td>False</td>\n",
       "      <td>True</td>\n",
       "      <td>False</td>\n",
       "      <td>False</td>\n",
       "      <td>False</td>\n",
       "      <td>True</td>\n",
       "      <td>False</td>\n",
       "      <td>False</td>\n",
       "      <td>False</td>\n",
       "      <td>False</td>\n",
       "      <td>False</td>\n",
       "      <td>True</td>\n",
       "    </tr>\n",
       "    <tr>\n",
       "      <th>2</th>\n",
       "      <td>2</td>\n",
       "      <td>678</td>\n",
       "      <td>40.00000</td>\n",
       "      <td>10</td>\n",
       "      <td>0.00000</td>\n",
       "      <td>184866.69000</td>\n",
       "      <td>0.00000</td>\n",
       "      <td>184866.69000</td>\n",
       "      <td>0.00000</td>\n",
       "      <td>0.00000</td>\n",
       "      <td>20</td>\n",
       "      <td>0</td>\n",
       "      <td>3</td>\n",
       "      <td>1</td>\n",
       "      <td>2</td>\n",
       "      <td>3</td>\n",
       "      <td>True</td>\n",
       "      <td>False</td>\n",
       "      <td>False</td>\n",
       "      <td>False</td>\n",
       "      <td>True</td>\n",
       "      <td>True</td>\n",
       "      <td>False</td>\n",
       "      <td>False</td>\n",
       "      <td>True</td>\n",
       "      <td>False</td>\n",
       "      <td>True</td>\n",
       "      <td>False</td>\n",
       "      <td>False</td>\n",
       "      <td>False</td>\n",
       "      <td>True</td>\n",
       "      <td>False</td>\n",
       "      <td>False</td>\n",
       "      <td>False</td>\n",
       "      <td>False</td>\n",
       "      <td>True</td>\n",
       "      <td>False</td>\n",
       "    </tr>\n",
       "    <tr>\n",
       "      <th>3</th>\n",
       "      <td>3</td>\n",
       "      <td>581</td>\n",
       "      <td>34.00000</td>\n",
       "      <td>2</td>\n",
       "      <td>148882.54000</td>\n",
       "      <td>84560.88000</td>\n",
       "      <td>0.00000</td>\n",
       "      <td>0.56797</td>\n",
       "      <td>1.00000</td>\n",
       "      <td>5062006.36000</td>\n",
       "      <td>2</td>\n",
       "      <td>0</td>\n",
       "      <td>2</td>\n",
       "      <td>4</td>\n",
       "      <td>1</td>\n",
       "      <td>1</td>\n",
       "      <td>True</td>\n",
       "      <td>False</td>\n",
       "      <td>False</td>\n",
       "      <td>False</td>\n",
       "      <td>True</td>\n",
       "      <td>False</td>\n",
       "      <td>True</td>\n",
       "      <td>False</td>\n",
       "      <td>True</td>\n",
       "      <td>True</td>\n",
       "      <td>False</td>\n",
       "      <td>False</td>\n",
       "      <td>False</td>\n",
       "      <td>False</td>\n",
       "      <td>True</td>\n",
       "      <td>False</td>\n",
       "      <td>False</td>\n",
       "      <td>False</td>\n",
       "      <td>False</td>\n",
       "      <td>True</td>\n",
       "      <td>False</td>\n",
       "    </tr>\n",
       "    <tr>\n",
       "      <th>4</th>\n",
       "      <td>4</td>\n",
       "      <td>716</td>\n",
       "      <td>33.00000</td>\n",
       "      <td>5</td>\n",
       "      <td>0.00000</td>\n",
       "      <td>15068.83000</td>\n",
       "      <td>0.00000</td>\n",
       "      <td>15068.83000</td>\n",
       "      <td>1.00000</td>\n",
       "      <td>0.00000</td>\n",
       "      <td>10</td>\n",
       "      <td>0</td>\n",
       "      <td>2</td>\n",
       "      <td>1</td>\n",
       "      <td>3</td>\n",
       "      <td>2</td>\n",
       "      <td>False</td>\n",
       "      <td>False</td>\n",
       "      <td>True</td>\n",
       "      <td>False</td>\n",
       "      <td>True</td>\n",
       "      <td>False</td>\n",
       "      <td>True</td>\n",
       "      <td>False</td>\n",
       "      <td>True</td>\n",
       "      <td>False</td>\n",
       "      <td>True</td>\n",
       "      <td>False</td>\n",
       "      <td>False</td>\n",
       "      <td>False</td>\n",
       "      <td>False</td>\n",
       "      <td>False</td>\n",
       "      <td>False</td>\n",
       "      <td>False</td>\n",
       "      <td>True</td>\n",
       "      <td>True</td>\n",
       "      <td>False</td>\n",
       "    </tr>\n",
       "  </tbody>\n",
       "</table>\n",
       "</div>"
      ],
      "text/plain": [
       "   index  CreditScore      Age  Tenure      Balance  EstimatedSalary  Exited  \\\n",
       "0      0          668 33.00000       3      0.00000     181449.97000 0.00000   \n",
       "1      1          627 33.00000       1      0.00000      49503.50000 0.00000   \n",
       "2      2          678 40.00000      10      0.00000     184866.69000 0.00000   \n",
       "3      3          581 34.00000       2 148882.54000      84560.88000 0.00000   \n",
       "4      4          716 33.00000       5      0.00000      15068.83000 0.00000   \n",
       "\n",
       "   SalaryToBalanceRatio  CreditCard_ActiveMember  ABPInteraction  \\\n",
       "0          181449.97000                  0.00000         0.00000   \n",
       "1           49503.50000                  1.00000         0.00000   \n",
       "2          184866.69000                  0.00000         0.00000   \n",
       "3               0.56797                  1.00000   5062006.36000   \n",
       "4           15068.83000                  1.00000         0.00000   \n",
       "\n",
       "   TotalProductUsage  IsSenior  AgeGroup  BalanceCategory  \\\n",
       "0                  6         0         2                1   \n",
       "1                  2         0         2                1   \n",
       "2                 20         0         3                1   \n",
       "3                  2         0         2                4   \n",
       "4                 10         0         2                1   \n",
       "\n",
       "   CreditScoreCategory  TenureGroup  Geography_France  Geography_Germany  \\\n",
       "0                    2            1              True              False   \n",
       "1                    2            0              True              False   \n",
       "2                    2            3              True              False   \n",
       "3                    1            1              True              False   \n",
       "4                    3            2             False              False   \n",
       "\n",
       "   Geography_Spain  Gender_Female  Gender_Male  IsActiveMember_0.0  \\\n",
       "0            False          False         True                True   \n",
       "1            False          False         True               False   \n",
       "2            False          False         True                True   \n",
       "3            False          False         True               False   \n",
       "4             True          False         True               False   \n",
       "\n",
       "   IsActiveMember_1.0  HasCrCard_0.0  HasCrCard_1.0  NumOfProducts_1  \\\n",
       "0               False          False           True            False   \n",
       "1                True          False           True            False   \n",
       "2               False          False           True            False   \n",
       "3                True          False           True             True   \n",
       "4                True          False           True            False   \n",
       "\n",
       "   NumOfProducts_2  NumOfProducts_3  NumOfProducts_4  \\\n",
       "0             True            False            False   \n",
       "1             True            False            False   \n",
       "2             True            False            False   \n",
       "3            False            False            False   \n",
       "4             True            False            False   \n",
       "\n",
       "   Geo_Gender_France_Female  Geo_Gender_France_Male  \\\n",
       "0                     False                    True   \n",
       "1                     False                    True   \n",
       "2                     False                    True   \n",
       "3                     False                    True   \n",
       "4                     False                   False   \n",
       "\n",
       "   Geo_Gender_Germany_Female  Geo_Gender_Germany_Male  \\\n",
       "0                      False                    False   \n",
       "1                      False                    False   \n",
       "2                      False                    False   \n",
       "3                      False                    False   \n",
       "4                      False                    False   \n",
       "\n",
       "   Geo_Gender_Spain_Female  Geo_Gender_Spain_Male  Customer_Status_Long-term  \\\n",
       "0                    False                  False                       True   \n",
       "1                    False                  False                      False   \n",
       "2                    False                  False                       True   \n",
       "3                    False                  False                       True   \n",
       "4                    False                   True                       True   \n",
       "\n",
       "   Customer_Status_New  \n",
       "0                False  \n",
       "1                 True  \n",
       "2                False  \n",
       "3                False  \n",
       "4                False  "
      ]
     },
     "execution_count": 16,
     "metadata": {},
     "output_type": "execute_result"
    }
   ],
   "source": [
    "train = df[:165034]\n",
    "test = df[165034:]\n",
    "\n",
    "train_x = train.drop(columns=[target_col])\n",
    "train_y = target\n",
    "test_x = test.drop(columns=[target_col])\n",
    "\n",
    "X = train_x.values\n",
    "y = train_y.values\n",
    "# y = y.astype(int)\n",
    "\n",
    "df.head()"
   ]
  },
  {
   "cell_type": "code",
   "execution_count": 17,
   "id": "140a1ab4",
   "metadata": {
    "execution": {
     "iopub.execute_input": "2024-01-30T08:43:04.190803Z",
     "iopub.status.busy": "2024-01-30T08:43:04.189666Z",
     "iopub.status.idle": "2024-01-30T08:43:06.993203Z",
     "shell.execute_reply": "2024-01-30T08:43:06.991951Z"
    },
    "id": "yIlQ3t2-mxBU",
    "papermill": {
     "duration": 2.81509,
     "end_time": "2024-01-30T08:43:06.995234",
     "exception": false,
     "start_time": "2024-01-30T08:43:04.180144",
     "status": "completed"
    },
    "tags": []
   },
   "outputs": [
    {
     "data": {
      "text/html": [
       "<div>\n",
       "<style scoped>\n",
       "    .dataframe tbody tr th:only-of-type {\n",
       "        vertical-align: middle;\n",
       "    }\n",
       "\n",
       "    .dataframe tbody tr th {\n",
       "        vertical-align: top;\n",
       "    }\n",
       "\n",
       "    .dataframe thead th {\n",
       "        text-align: right;\n",
       "    }\n",
       "</style>\n",
       "<table border=\"1\" class=\"dataframe\">\n",
       "  <thead>\n",
       "    <tr style=\"text-align: right;\">\n",
       "      <th></th>\n",
       "      <th>importance</th>\n",
       "    </tr>\n",
       "  </thead>\n",
       "  <tbody>\n",
       "    <tr>\n",
       "      <th>IsSenior</th>\n",
       "      <td>0</td>\n",
       "    </tr>\n",
       "    <tr>\n",
       "      <th>AgeGroup</th>\n",
       "      <td>0</td>\n",
       "    </tr>\n",
       "    <tr>\n",
       "      <th>CreditScoreCategory</th>\n",
       "      <td>0</td>\n",
       "    </tr>\n",
       "    <tr>\n",
       "      <th>TenureGroup</th>\n",
       "      <td>0</td>\n",
       "    </tr>\n",
       "    <tr>\n",
       "      <th>BalanceCategory</th>\n",
       "      <td>11</td>\n",
       "    </tr>\n",
       "    <tr>\n",
       "      <th>CreditCard_ActiveMember</th>\n",
       "      <td>94</td>\n",
       "    </tr>\n",
       "    <tr>\n",
       "      <th>index</th>\n",
       "      <td>200</td>\n",
       "    </tr>\n",
       "    <tr>\n",
       "      <th>ABPInteraction</th>\n",
       "      <td>219</td>\n",
       "    </tr>\n",
       "    <tr>\n",
       "      <th>EstimatedSalary</th>\n",
       "      <td>237</td>\n",
       "    </tr>\n",
       "    <tr>\n",
       "      <th>SalaryToBalanceRatio</th>\n",
       "      <td>246</td>\n",
       "    </tr>\n",
       "    <tr>\n",
       "      <th>Balance</th>\n",
       "      <td>282</td>\n",
       "    </tr>\n",
       "    <tr>\n",
       "      <th>CreditScore</th>\n",
       "      <td>318</td>\n",
       "    </tr>\n",
       "    <tr>\n",
       "      <th>Age</th>\n",
       "      <td>385</td>\n",
       "    </tr>\n",
       "    <tr>\n",
       "      <th>Tenure</th>\n",
       "      <td>435</td>\n",
       "    </tr>\n",
       "    <tr>\n",
       "      <th>TotalProductUsage</th>\n",
       "      <td>573</td>\n",
       "    </tr>\n",
       "  </tbody>\n",
       "</table>\n",
       "</div>"
      ],
      "text/plain": [
       "                         importance\n",
       "IsSenior                          0\n",
       "AgeGroup                          0\n",
       "CreditScoreCategory               0\n",
       "TenureGroup                       0\n",
       "BalanceCategory                  11\n",
       "CreditCard_ActiveMember          94\n",
       "index                           200\n",
       "ABPInteraction                  219\n",
       "EstimatedSalary                 237\n",
       "SalaryToBalanceRatio            246\n",
       "Balance                         282\n",
       "CreditScore                     318\n",
       "Age                             385\n",
       "Tenure                          435\n",
       "TotalProductUsage               573"
      ]
     },
     "execution_count": 17,
     "metadata": {},
     "output_type": "execute_result"
    }
   ],
   "source": [
    "# 特徴量の重要度評価\n",
    "train_importance = train\n",
    "feature_importance = feature_importance_evaluation(train_importance)\n",
    "feature_importance"
   ]
  },
  {
   "cell_type": "code",
   "execution_count": 18,
   "id": "45574950",
   "metadata": {
    "execution": {
     "iopub.execute_input": "2024-01-30T08:43:07.014098Z",
     "iopub.status.busy": "2024-01-30T08:43:07.013507Z",
     "iopub.status.idle": "2024-01-30T08:43:07.478606Z",
     "shell.execute_reply": "2024-01-30T08:43:07.477355Z"
    },
    "id": "kUDkAd58nOmV",
    "papermill": {
     "duration": 0.477366,
     "end_time": "2024-01-30T08:43:07.481316",
     "exception": false,
     "start_time": "2024-01-30T08:43:07.003950",
     "status": "completed"
    },
    "tags": []
   },
   "outputs": [
    {
     "data": {
      "text/plain": [
       "<Axes: >"
      ]
     },
     "execution_count": 18,
     "metadata": {},
     "output_type": "execute_result"
    },
    {
     "data": {
      "image/png": "[encoded data removed]",
      "text/plain": [
       "<Figure size 1000x1500 with 1 Axes>"
      ]
     },
     "metadata": {},
     "output_type": "display_data"
    }
   ],
   "source": [
    "feature_importance.plot(kind='barh', figsize=(10, 15), color='b')"
   ]
  },
  {
   "cell_type": "code",
   "execution_count": 19,
   "id": "e3161555",
   "metadata": {
    "execution": {
     "iopub.execute_input": "2024-01-30T08:43:07.501552Z",
     "iopub.status.busy": "2024-01-30T08:43:07.501194Z",
     "iopub.status.idle": "2024-01-30T08:43:10.018682Z",
     "shell.execute_reply": "2024-01-30T08:43:10.017555Z"
    },
    "id": "DVYEwrPUnW9Q",
    "papermill": {
     "duration": 2.530628,
     "end_time": "2024-01-30T08:43:10.021111",
     "exception": false,
     "start_time": "2024-01-30T08:43:07.490483",
     "status": "completed"
    },
    "tags": []
   },
   "outputs": [],
   "source": [
    "df.to_csv(OUTPUT_DIR + 'data.csv', index=False)"
   ]
  },
  {
   "cell_type": "code",
   "execution_count": 20,
   "id": "c58dcc09",
   "metadata": {
    "execution": {
     "iopub.execute_input": "2024-01-30T08:43:10.040814Z",
     "iopub.status.busy": "2024-01-30T08:43:10.040475Z",
     "iopub.status.idle": "2024-01-30T08:43:10.048143Z",
     "shell.execute_reply": "2024-01-30T08:43:10.046948Z"
    },
    "id": "zxBoX1zbnYUl",
    "papermill": {
     "duration": 0.020096,
     "end_time": "2024-01-30T08:43:10.050273",
     "exception": false,
     "start_time": "2024-01-30T08:43:10.030177",
     "status": "completed"
    },
    "tags": []
   },
   "outputs": [],
   "source": [
    "def file_to_xy(filename):\n",
    "    data = pd.read_csv(filename, index_col=0)\n",
    "    print(f'読み込み完了 {filename}')\n",
    "    train = data[:165034].reset_index(drop=True)\n",
    "    test = data[165034:].reset_index(drop=True).drop(target_col, axis=1) # 目的変数を指定する\n",
    "    # 目的変数と説明変数に分割\n",
    "    X = train.drop([target_col], axis=1) # 目的変数を指定する\n",
    "    y = train[target_col].values # 目的変数を指定する\n",
    "\n",
    "    return data,test,train,X,y"
   ]
  },
  {
   "cell_type": "code",
   "execution_count": 21,
   "id": "99055442",
   "metadata": {
    "execution": {
     "iopub.execute_input": "2024-01-30T08:43:10.071948Z",
     "iopub.status.busy": "2024-01-30T08:43:10.071547Z",
     "iopub.status.idle": "2024-01-30T08:43:10.696219Z",
     "shell.execute_reply": "2024-01-30T08:43:10.694812Z"
    },
    "id": "DRZhqQjJnfme",
    "outputId": "9cf6043d-315f-4fb6-908b-a67297884126",
    "papermill": {
     "duration": 0.63862,
     "end_time": "2024-01-30T08:43:10.699572",
     "exception": false,
     "start_time": "2024-01-30T08:43:10.060952",
     "status": "completed"
    },
    "tags": []
   },
   "outputs": [
    {
     "name": "stdout",
     "output_type": "stream",
     "text": [
      "読み込み完了 /kaggle/working/data.csv\n"
     ]
    }
   ],
   "source": [
    "filename = 'data.csv'\n",
    "data,test,train,X,y = file_to_xy(OUTPUT_DIR + filename)"
   ]
  },
  {
   "cell_type": "code",
   "execution_count": null,
   "id": "d4c85051",
   "metadata": {
    "papermill": {
     "duration": 0.009328,
     "end_time": "2024-01-30T08:43:10.718645",
     "exception": false,
     "start_time": "2024-01-30T08:43:10.709317",
     "status": "completed"
    },
    "tags": []
   },
   "outputs": [],
   "source": []
  }
 ],
 "metadata": {
  "colab": {
   "provenance": []
  },
  "kaggle": {
   "accelerator": "none",
   "dataSources": [
    {
     "databundleVersionId": 7405009,
     "sourceId": 65711,
     "sourceType": "competition"
    },
    {
     "databundleVersionId": 7604973,
     "datasetId": 4374201,
     "sourceId": 7511696,
     "sourceType": "datasetVersion"
    }
   ],
   "dockerImageVersionId": 30635,
   "isGpuEnabled": false,
   "isInternetEnabled": true,
   "language": "python",
   "sourceType": "notebook"
  },
  "kernelspec": {
   "display_name": "Python 3",
   "language": "python",
   "name": "python3"
  },
  "language_info": {
   "codemirror_mode": {
    "name": "ipython",
    "version": 3
   },
   "file_extension": ".py",
   "mimetype": "text/x-python",
   "name": "python",
   "nbconvert_exporter": "python",
   "pygments_lexer": "ipython3",
   "version": "3.10.12"
  },
  "papermill": {
   "default_parameters": {},
   "duration": 15.797359,
   "end_time": "2024-01-30T08:43:11.348219",
   "environment_variables": {},
   "exception": null,
   "input_path": "__notebook__.ipynb",
   "output_path": "__notebook__.ipynb",
   "parameters": {},
   "start_time": "2024-01-30T08:42:55.550860",
   "version": "2.4.0"
  }
 },
 "nbformat": 4,
 "nbformat_minor": 5
}

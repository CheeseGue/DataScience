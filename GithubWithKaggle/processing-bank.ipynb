{
 "cells": [
  {
   "cell_type": "markdown",
   "id": "1ea9e9bc",
   "metadata": {
    "id": "9jJ7f1atJ0qO",
    "papermill": {
     "duration": 0.009504,
     "end_time": "2024-01-30T05:06:08.315149",
     "exception": false,
     "start_time": "2024-01-30T05:06:08.305645",
     "status": "completed"
    },
    "tags": []
   },
   "source": [
    "# **銀行解約データセットを使用した二項分類**\n",
    "Binary Classification with a Bank Churn Dataset(https://www.kaggle.com/competitions/playground-series-s4e1/code?competitionId=65711&sortBy=voteCount)"
   ]
  },
  {
   "cell_type": "markdown",
   "id": "98cc28fe",
   "metadata": {
    "id": "dRrM5BeJkgj-",
    "papermill": {
     "duration": 0.008967,
     "end_time": "2024-01-30T05:06:08.333869",
     "exception": false,
     "start_time": "2024-01-30T05:06:08.324902",
     "status": "completed"
    },
    "tags": []
   },
   "source": [
    "# 参考資料\n",
    "**書籍**\n",
    "\n",
    "\n",
    "**Kaggle**\n",
    "- [[PlayGround S4E1] 📊 EDA + 🤖 Modeling [XGBoost]](https://www.kaggle.com/code/akhiljethwa/playground-s4e1-eda-modeling-xgboost)\n",
    "\n",
    "\n",
    "**自分で作成したファイル**\n",
    "- Home_Credit_Default_Risk\n",
    "- 肝硬変の転帰の多クラス予測\n",
    "- 馬の健康への影響を予測する\n",
    "- ルワンダにおける CO2 排出量を予測する\n",
    "\n",
    "**その他**\n"
   ]
  },
  {
   "cell_type": "markdown",
   "id": "4185fb6b",
   "metadata": {
    "id": "MV1ptyJ5kn2E",
    "papermill": {
     "duration": 0.00858,
     "end_time": "2024-01-30T05:06:08.351450",
     "exception": false,
     "start_time": "2024-01-30T05:06:08.342870",
     "status": "completed"
    },
    "tags": []
   },
   "source": [
    "## ライブラリ・データセットのインポート"
   ]
  },
  {
   "cell_type": "code",
   "execution_count": 1,
   "id": "f595c722",
   "metadata": {
    "execution": {
     "iopub.execute_input": "2024-01-30T05:06:08.371143Z",
     "iopub.status.busy": "2024-01-30T05:06:08.370461Z",
     "iopub.status.idle": "2024-01-30T05:06:09.319824Z",
     "shell.execute_reply": "2024-01-30T05:06:09.318671Z"
    },
    "id": "cXwErGKbkUpb",
    "papermill": {
     "duration": 0.96257,
     "end_time": "2024-01-30T05:06:09.322743",
     "exception": false,
     "start_time": "2024-01-30T05:06:08.360173",
     "status": "completed"
    },
    "tags": []
   },
   "outputs": [],
   "source": [
    "import numpy as np\n",
    "import pandas as pd\n",
    "\n",
    "import warnings\n",
    "warnings.filterwarnings('ignore')\n",
    "\n",
    "pd.options.display.float_format = '{:.5f}'.format\n",
    "pd.set_option('display.max_columns', None)\n",
    "pd.set_option('display.max_rows', None)"
   ]
  },
  {
   "cell_type": "code",
   "execution_count": 2,
   "id": "4068e53b",
   "metadata": {
    "execution": {
     "iopub.execute_input": "2024-01-30T05:06:09.342484Z",
     "iopub.status.busy": "2024-01-30T05:06:09.341922Z",
     "iopub.status.idle": "2024-01-30T05:06:12.173370Z",
     "shell.execute_reply": "2024-01-30T05:06:12.172302Z"
    },
    "id": "y2vH8YMCko3q",
    "papermill": {
     "duration": 2.844267,
     "end_time": "2024-01-30T05:06:12.176113",
     "exception": false,
     "start_time": "2024-01-30T05:06:09.331846",
     "status": "completed"
    },
    "tags": []
   },
   "outputs": [],
   "source": [
    "from sklearn.preprocessing import LabelEncoder, MinMaxScaler\n",
    "from lightgbm import LGBMClassifier # 特徴量の重要度評価で用いる"
   ]
  },
  {
   "cell_type": "markdown",
   "id": "9f125541",
   "metadata": {
    "id": "xAub7rgGk35P",
    "papermill": {
     "duration": 0.008443,
     "end_time": "2024-01-30T05:06:12.193542",
     "exception": false,
     "start_time": "2024-01-30T05:06:12.185099",
     "status": "completed"
    },
    "tags": []
   },
   "source": [
    "## 実行時間を調べるために使う"
   ]
  },
  {
   "cell_type": "code",
   "execution_count": 3,
   "id": "499afe97",
   "metadata": {
    "execution": {
     "iopub.execute_input": "2024-01-30T05:06:12.212816Z",
     "iopub.status.busy": "2024-01-30T05:06:12.212383Z",
     "iopub.status.idle": "2024-01-30T05:06:12.219722Z",
     "shell.execute_reply": "2024-01-30T05:06:12.218844Z"
    },
    "id": "_hGkGqJtk6M-",
    "papermill": {
     "duration": 0.019476,
     "end_time": "2024-01-30T05:06:12.221642",
     "exception": false,
     "start_time": "2024-01-30T05:06:12.202166",
     "status": "completed"
    },
    "tags": []
   },
   "outputs": [],
   "source": [
    "import datetime\n",
    "import time\n",
    "import math\n",
    "\n",
    "start_time = time.time()\n",
    "\n",
    "def changeHMS(s):\n",
    "    h = math.floor(s / 3600)\n",
    "    if h > 0:\n",
    "        s = s - h * 3600\n",
    "        indi_h = str(h) + 'h'\n",
    "    else:\n",
    "        indi_h = ''\n",
    "    m = math.floor(s / 60)\n",
    "    if m > 0:\n",
    "        indi_m = str(m) + 'm'\n",
    "    else:\n",
    "        indi_m = ''\n",
    "    s = math.floor(s % 60)\n",
    "    time = indi_h + indi_m + str(s) + 's'\n",
    "    return time"
   ]
  },
  {
   "cell_type": "code",
   "execution_count": 4,
   "id": "4de28fcf",
   "metadata": {
    "execution": {
     "iopub.execute_input": "2024-01-30T05:06:12.241099Z",
     "iopub.status.busy": "2024-01-30T05:06:12.240456Z",
     "iopub.status.idle": "2024-01-30T05:06:13.081750Z",
     "shell.execute_reply": "2024-01-30T05:06:13.080658Z"
    },
    "id": "4EzyBOiPkph8",
    "papermill": {
     "duration": 0.85398,
     "end_time": "2024-01-30T05:06:13.084301",
     "exception": false,
     "start_time": "2024-01-30T05:06:12.230321",
     "status": "completed"
    },
    "tags": []
   },
   "outputs": [],
   "source": [
    "FILE_PATH = '/kaggle/input/playground-series-s4e1/'\n",
    "OUTPUT_DIR = '/kaggle/working/'\n",
    "\n",
    "train = pd.read_csv(FILE_PATH + 'train.csv')\n",
    "test = pd.read_csv(FILE_PATH + 'test.csv')\n",
    "\n",
    "train_id = train['id']\n",
    "train.drop('id', axis=1, inplace=True)\n",
    "\n",
    "test_id = test['id']\n",
    "test.drop('id', axis=1, inplace=True)\n",
    "\n",
    "target = train['Exited']\n",
    "target_col = 'Exited'\n",
    "\n",
    "target_name = str(train.iloc[:, [-1]].columns.tolist()) # カラム数-2の値が目的変数\n",
    "\n",
    "df = pd.concat([train, test], axis=0)\n",
    "df.reset_index(inplace=True)\n",
    "\n",
    "# 説明変数をデータ型ごとに代入する\n",
    "numerical_features = df._get_numeric_data().columns\n",
    "categorical_features = df.drop(numerical_features, axis=1).columns"
   ]
  },
  {
   "cell_type": "markdown",
   "id": "9da9f638",
   "metadata": {
    "id": "O1qWEpEsmIsU",
    "papermill": {
     "duration": 0.008836,
     "end_time": "2024-01-30T05:06:13.102289",
     "exception": false,
     "start_time": "2024-01-30T05:06:13.093453",
     "status": "completed"
    },
    "tags": []
   },
   "source": [
    "## 前処理"
   ]
  },
  {
   "cell_type": "markdown",
   "id": "0f39780d",
   "metadata": {
    "id": "Geqin6VhmJw9",
    "papermill": {
     "duration": 0.008748,
     "end_time": "2024-01-30T05:06:13.120381",
     "exception": false,
     "start_time": "2024-01-30T05:06:13.111633",
     "status": "completed"
    },
    "tags": []
   },
   "source": [
    "### 欠損値の補完"
   ]
  },
  {
   "cell_type": "code",
   "execution_count": 5,
   "id": "12d52a96",
   "metadata": {
    "execution": {
     "iopub.execute_input": "2024-01-30T05:06:13.139654Z",
     "iopub.status.busy": "2024-01-30T05:06:13.139269Z",
     "iopub.status.idle": "2024-01-30T05:06:13.143979Z",
     "shell.execute_reply": "2024-01-30T05:06:13.142862Z"
    },
    "id": "pc9ukAPLmKkl",
    "papermill": {
     "duration": 0.01726,
     "end_time": "2024-01-30T05:06:13.146447",
     "exception": false,
     "start_time": "2024-01-30T05:06:13.129187",
     "status": "completed"
    },
    "tags": []
   },
   "outputs": [],
   "source": [
    "def missing_values(df):\n",
    "\n",
    "    return df"
   ]
  },
  {
   "cell_type": "markdown",
   "id": "f9d165af",
   "metadata": {
    "id": "2ZLsziVQmM_s",
    "papermill": {
     "duration": 0.008514,
     "end_time": "2024-01-30T05:06:13.164570",
     "exception": false,
     "start_time": "2024-01-30T05:06:13.156056",
     "status": "completed"
    },
    "tags": []
   },
   "source": [
    "### 外れ値の修正"
   ]
  },
  {
   "cell_type": "code",
   "execution_count": 6,
   "id": "d756b247",
   "metadata": {
    "execution": {
     "iopub.execute_input": "2024-01-30T05:06:13.183827Z",
     "iopub.status.busy": "2024-01-30T05:06:13.183042Z",
     "iopub.status.idle": "2024-01-30T05:06:13.187709Z",
     "shell.execute_reply": "2024-01-30T05:06:13.186656Z"
    },
    "id": "D9RIXWdJmOBI",
    "papermill": {
     "duration": 0.016497,
     "end_time": "2024-01-30T05:06:13.189831",
     "exception": false,
     "start_time": "2024-01-30T05:06:13.173334",
     "status": "completed"
    },
    "tags": []
   },
   "outputs": [],
   "source": [
    "def outlier(df):\n",
    "\n",
    "    return df"
   ]
  },
  {
   "cell_type": "markdown",
   "id": "0b0dec9c",
   "metadata": {
    "id": "L0T_RQ97XYoT",
    "papermill": {
     "duration": 0.008188,
     "end_time": "2024-01-30T05:06:13.206758",
     "exception": false,
     "start_time": "2024-01-30T05:06:13.198570",
     "status": "completed"
    },
    "tags": []
   },
   "source": [
    "### スケーリング（標準化）"
   ]
  },
  {
   "cell_type": "markdown",
   "id": "5a25b527",
   "metadata": {
    "id": "fH7xUj12XcGU",
    "papermill": {
     "duration": 0.008214,
     "end_time": "2024-01-30T05:06:13.223583",
     "exception": false,
     "start_time": "2024-01-30T05:06:13.215369",
     "status": "completed"
    },
    "tags": []
   },
   "source": [
    "- MinMaxScaler(正規化)"
   ]
  },
  {
   "cell_type": "code",
   "execution_count": 7,
   "id": "9e5b7121",
   "metadata": {
    "execution": {
     "iopub.execute_input": "2024-01-30T05:06:13.242552Z",
     "iopub.status.busy": "2024-01-30T05:06:13.242114Z",
     "iopub.status.idle": "2024-01-30T05:06:13.247711Z",
     "shell.execute_reply": "2024-01-30T05:06:13.246425Z"
    },
    "id": "H2MehtAxXd61",
    "papermill": {
     "duration": 0.017462,
     "end_time": "2024-01-30T05:06:13.249800",
     "exception": false,
     "start_time": "2024-01-30T05:06:13.232338",
     "status": "completed"
    },
    "tags": []
   },
   "outputs": [],
   "source": [
    "def scaling_MinMaxScaler(df):\n",
    "    df_scale = df[numerical_features]\n",
    "    sc = MinMaxScaler()\n",
    "    df[numerical_features] = pd.DataFrame(sc.fit_transform(df_scale), columns = df_scale.columns)\n",
    "\n",
    "    return df"
   ]
  },
  {
   "cell_type": "markdown",
   "id": "e39a0c62",
   "metadata": {
    "id": "evWEXqCTliXu",
    "papermill": {
     "duration": 0.008122,
     "end_time": "2024-01-30T05:06:13.266542",
     "exception": false,
     "start_time": "2024-01-30T05:06:13.258420",
     "status": "completed"
    },
    "tags": []
   },
   "source": [
    "## 特徴量エンジニアリング"
   ]
  },
  {
   "cell_type": "markdown",
   "id": "dec02a1c",
   "metadata": {
    "id": "ehRLTpCDlj_m",
    "papermill": {
     "duration": 0.008047,
     "end_time": "2024-01-30T05:06:13.283109",
     "exception": false,
     "start_time": "2024-01-30T05:06:13.275062",
     "status": "completed"
    },
    "tags": []
   },
   "source": [
    "### 特徴量の作成"
   ]
  },
  {
   "cell_type": "code",
   "execution_count": 8,
   "id": "0ffcc8cb",
   "metadata": {
    "execution": {
     "iopub.execute_input": "2024-01-30T05:06:13.301779Z",
     "iopub.status.busy": "2024-01-30T05:06:13.301401Z",
     "iopub.status.idle": "2024-01-30T05:06:13.308285Z",
     "shell.execute_reply": "2024-01-30T05:06:13.307396Z"
    },
    "id": "SJd05F70kskT",
    "papermill": {
     "duration": 0.019036,
     "end_time": "2024-01-30T05:06:13.310662",
     "exception": false,
     "start_time": "2024-01-30T05:06:13.291626",
     "status": "completed"
    },
    "tags": []
   },
   "outputs": [],
   "source": [
    "def create_new_features(df):\n",
    "    # Salary to Balance Ratio\n",
    "    df['SalaryToBalanceRatio'] = df['EstimatedSalary'] / (df['Balance'] + 1)  # Adding 1 to avoid division by zero\n",
    "\n",
    "    # Credit Card and Active Member Interaction\n",
    "    df['CreditCard_ActiveMember'] = df['HasCrCard'] * df['IsActiveMember']\n",
    "\n",
    "\n",
    "    # ABP Interaction\n",
    "    df['ABPInteraction'] = df['Age'] * df['Balance'] / df['NumOfProducts']\n",
    "\n",
    "    df['Geo_Gender'] = df['Geography'] + '_' + df['Gender']\n",
    "    \n",
    "    df['TotalProductUsage'] = df['Tenure'] * df['NumOfProducts']\n",
    "            \n",
    "    df['AgeAdjustedProductUsage'] = df['NumOfProducts']/((df['Tenure']+1) * df['Age'])\n",
    "    \n",
    "    df['Customer_Status'] = df['Tenure'].apply(lambda x: 'New' if x < 2 else 'Long-term')\n",
    "    \n",
    "    return df"
   ]
  },
  {
   "cell_type": "markdown",
   "id": "9f85bb7c",
   "metadata": {
    "papermill": {
     "duration": 0.008882,
     "end_time": "2024-01-30T05:06:13.328596",
     "exception": false,
     "start_time": "2024-01-30T05:06:13.319714",
     "status": "completed"
    },
    "tags": []
   },
   "source": [
    "#### ビンニング"
   ]
  },
  {
   "cell_type": "code",
   "execution_count": 9,
   "id": "6effae61",
   "metadata": {
    "execution": {
     "iopub.execute_input": "2024-01-30T05:06:13.348187Z",
     "iopub.status.busy": "2024-01-30T05:06:13.347104Z",
     "iopub.status.idle": "2024-01-30T05:06:13.355588Z",
     "shell.execute_reply": "2024-01-30T05:06:13.354250Z"
    },
    "papermill": {
     "duration": 0.020715,
     "end_time": "2024-01-30T05:06:13.357938",
     "exception": false,
     "start_time": "2024-01-30T05:06:13.337223",
     "status": "completed"
    },
    "tags": []
   },
   "outputs": [],
   "source": [
    "def binning(df):\n",
    "    # Age Group\n",
    "    age_bins = [0, 18, 30, 40, 50, 60, 100]\n",
    "    df['AgeGroup'] = pd.cut(df['Age'], bins=age_bins, labels=False, right=False)\n",
    "    \n",
    "    # Balance Category\n",
    "    balance_bins = [-np.inf, 0, 10000, 50000, 100000, np.inf]\n",
    "    df['BalanceCategory'] = pd.cut(df['Balance'], bins=balance_bins, labels=False, right=False)\n",
    "    \n",
    "    # Credit Score Category\n",
    "    credit_bins = [0, 500, 600, 700, 800, 900]\n",
    "    df['CreditScoreCategory'] = pd.cut(df['CreditScore'], bins=credit_bins, labels=False, right=False)\n",
    "    \n",
    "    tenure_bins = [0, 2, 5, 10, np.inf]\n",
    "    df['TenureGroup'] = pd.cut(df['Tenure'], bins=tenure_bins, labels=False, right=False)\n",
    "    \n",
    "    return df"
   ]
  },
  {
   "cell_type": "markdown",
   "id": "427d57f3",
   "metadata": {
    "id": "eWE-oFe4loLR",
    "papermill": {
     "duration": 0.008157,
     "end_time": "2024-01-30T05:06:13.374833",
     "exception": false,
     "start_time": "2024-01-30T05:06:13.366676",
     "status": "completed"
    },
    "tags": []
   },
   "source": [
    "### カテゴリ変数のエンコーディング"
   ]
  },
  {
   "cell_type": "markdown",
   "id": "c8fd6834",
   "metadata": {
    "id": "xoRllpoVJi0M",
    "papermill": {
     "duration": 0.010036,
     "end_time": "2024-01-30T05:06:13.461904",
     "exception": false,
     "start_time": "2024-01-30T05:06:13.451868",
     "status": "completed"
    },
    "tags": []
   },
   "source": [
    "* One-HotEncoding"
   ]
  },
  {
   "cell_type": "code",
   "execution_count": 10,
   "id": "b8abd835",
   "metadata": {
    "execution": {
     "iopub.execute_input": "2024-01-30T05:06:13.482722Z",
     "iopub.status.busy": "2024-01-30T05:06:13.481848Z",
     "iopub.status.idle": "2024-01-30T05:06:13.487411Z",
     "shell.execute_reply": "2024-01-30T05:06:13.486166Z"
    },
    "id": "r4FeWb-aJi0N",
    "papermill": {
     "duration": 0.018927,
     "end_time": "2024-01-30T05:06:13.489598",
     "exception": false,
     "start_time": "2024-01-30T05:06:13.470671",
     "status": "completed"
    },
    "tags": []
   },
   "outputs": [],
   "source": [
    "def one_hot_encoding(df, cat_cols):\n",
    "    df = pd.get_dummies(df, columns=cat_cols)\n",
    "\n",
    "    return df"
   ]
  },
  {
   "cell_type": "markdown",
   "id": "fb0f960c",
   "metadata": {
    "id": "sKHw_ipAlpUy",
    "papermill": {
     "duration": 0.00848,
     "end_time": "2024-01-30T05:06:13.506811",
     "exception": false,
     "start_time": "2024-01-30T05:06:13.498331",
     "status": "completed"
    },
    "tags": []
   },
   "source": [
    "- LabelEncoding"
   ]
  },
  {
   "cell_type": "code",
   "execution_count": 11,
   "id": "67448349",
   "metadata": {
    "execution": {
     "iopub.execute_input": "2024-01-30T05:06:13.526866Z",
     "iopub.status.busy": "2024-01-30T05:06:13.526372Z",
     "iopub.status.idle": "2024-01-30T05:06:13.532410Z",
     "shell.execute_reply": "2024-01-30T05:06:13.531302Z"
    },
    "id": "uBNUcljZlmV5",
    "papermill": {
     "duration": 0.019248,
     "end_time": "2024-01-30T05:06:13.534607",
     "exception": false,
     "start_time": "2024-01-30T05:06:13.515359",
     "status": "completed"
    },
    "tags": []
   },
   "outputs": [],
   "source": [
    "def label_encoder(df):\n",
    "    categorical_columns = df.select_dtypes(include=['object']).columns\n",
    "\n",
    "    for column in categorical_columns:\n",
    "        df[column] = df[column].fillna('').astype('str') # 欠損値の補完をする\n",
    "        le = LabelEncoder()\n",
    "        df[column] = le.fit_transform(df[column])\n",
    "\n",
    "    return df"
   ]
  },
  {
   "cell_type": "markdown",
   "id": "cd2f2d49",
   "metadata": {
    "papermill": {
     "duration": 0.008461,
     "end_time": "2024-01-30T05:06:13.551798",
     "exception": false,
     "start_time": "2024-01-30T05:06:13.543337",
     "status": "completed"
    },
    "tags": []
   },
   "source": [
    "- pd.get_dummies"
   ]
  },
  {
   "cell_type": "code",
   "execution_count": 12,
   "id": "ebcec835",
   "metadata": {
    "execution": {
     "iopub.execute_input": "2024-01-30T05:06:13.572137Z",
     "iopub.status.busy": "2024-01-30T05:06:13.571357Z",
     "iopub.status.idle": "2024-01-30T05:06:13.576706Z",
     "shell.execute_reply": "2024-01-30T05:06:13.575661Z"
    },
    "papermill": {
     "duration": 0.018001,
     "end_time": "2024-01-30T05:06:13.578866",
     "exception": false,
     "start_time": "2024-01-30T05:06:13.560865",
     "status": "completed"
    },
    "tags": []
   },
   "outputs": [],
   "source": [
    "def get_dummies(df, cat_cols):\n",
    "    df = pd.get_dummies(df, columns=cat_cols)\n",
    "    \n",
    "    return df"
   ]
  },
  {
   "cell_type": "markdown",
   "id": "ad0f37ed",
   "metadata": {
    "id": "OVz_DZCgltFl",
    "papermill": {
     "duration": 0.012345,
     "end_time": "2024-01-30T05:06:13.603370",
     "exception": false,
     "start_time": "2024-01-30T05:06:13.591025",
     "status": "completed"
    },
    "tags": []
   },
   "source": [
    "### 特徴量の選択"
   ]
  },
  {
   "cell_type": "markdown",
   "id": "6e52a245",
   "metadata": {
    "id": "T-uGFwI8luOC",
    "papermill": {
     "duration": 0.012679,
     "end_time": "2024-01-30T05:06:13.628892",
     "exception": false,
     "start_time": "2024-01-30T05:06:13.616213",
     "status": "completed"
    },
    "tags": []
   },
   "source": [
    "#### 特徴量の重要度評価"
   ]
  },
  {
   "cell_type": "code",
   "execution_count": 13,
   "id": "55601b9b",
   "metadata": {
    "execution": {
     "iopub.execute_input": "2024-01-30T05:06:13.649807Z",
     "iopub.status.busy": "2024-01-30T05:06:13.649308Z",
     "iopub.status.idle": "2024-01-30T05:06:13.657434Z",
     "shell.execute_reply": "2024-01-30T05:06:13.656099Z"
    },
    "id": "IvbTfuG8lrYZ",
    "papermill": {
     "duration": 0.0215,
     "end_time": "2024-01-30T05:06:13.659840",
     "exception": false,
     "start_time": "2024-01-30T05:06:13.638340",
     "status": "completed"
    },
    "tags": []
   },
   "outputs": [],
   "source": [
    "def feature_importance_evaluation(df):\n",
    "    # 訓練データをX(説明変数)とy（目的変数）に分割する\n",
    "    X = df.select_dtypes(include=['float', 'int'])\n",
    "    X = X.drop([target_col], axis=1) # 目的変数を指定する\n",
    "    y = target # 目的変数を指定する\n",
    "\n",
    "    \n",
    "\n",
    "    # 特徴量の重要度評価\n",
    "    clf = LGBMClassifier(\n",
    "        random_state=42,\n",
    "    )\n",
    "\n",
    "    clf.fit(X, y)\n",
    "    importance = clf.feature_importances_\n",
    "\n",
    "    feature_importance = pd.DataFrame(data=importance, index=X.columns, columns=['importance']) \\\n",
    "        .sort_values(ascending=True, by='importance')\n",
    "\n",
    "    return feature_importance"
   ]
  },
  {
   "cell_type": "markdown",
   "id": "88705a58",
   "metadata": {
    "id": "Uu58wE5hl4MK",
    "papermill": {
     "duration": 0.008989,
     "end_time": "2024-01-30T05:06:13.677711",
     "exception": false,
     "start_time": "2024-01-30T05:06:13.668722",
     "status": "completed"
    },
    "tags": []
   },
   "source": [
    "#### 特徴量の削除"
   ]
  },
  {
   "cell_type": "code",
   "execution_count": 14,
   "id": "28d66ad1",
   "metadata": {
    "execution": {
     "iopub.execute_input": "2024-01-30T05:06:13.698836Z",
     "iopub.status.busy": "2024-01-30T05:06:13.698342Z",
     "iopub.status.idle": "2024-01-30T05:06:13.703931Z",
     "shell.execute_reply": "2024-01-30T05:06:13.702765Z"
    },
    "id": "LNqYHRC2l0fz",
    "papermill": {
     "duration": 0.019172,
     "end_time": "2024-01-30T05:06:13.706326",
     "exception": false,
     "start_time": "2024-01-30T05:06:13.687154",
     "status": "completed"
    },
    "tags": []
   },
   "outputs": [],
   "source": [
    "def drop_columns(df):\n",
    "    drop_list = [\n",
    "        'CustomerId', 'Surname'\n",
    "    ]\n",
    "    dropped_df = df.drop(columns=drop_list)\n",
    "\n",
    "    return dropped_df"
   ]
  },
  {
   "cell_type": "markdown",
   "id": "ecf9b7cf",
   "metadata": {
    "id": "EzhMZ-IVmC04",
    "papermill": {
     "duration": 0.009044,
     "end_time": "2024-01-30T05:06:13.724183",
     "exception": false,
     "start_time": "2024-01-30T05:06:13.715139",
     "status": "completed"
    },
    "tags": []
   },
   "source": [
    "### データセットの更新"
   ]
  },
  {
   "cell_type": "code",
   "execution_count": 15,
   "id": "6a010aed",
   "metadata": {
    "execution": {
     "iopub.execute_input": "2024-01-30T05:06:13.745010Z",
     "iopub.status.busy": "2024-01-30T05:06:13.744096Z",
     "iopub.status.idle": "2024-01-30T05:06:14.393270Z",
     "shell.execute_reply": "2024-01-30T05:06:14.392318Z"
    },
    "id": "wtp9MwnUl_zY",
    "papermill": {
     "duration": 0.66243,
     "end_time": "2024-01-30T05:06:14.395886",
     "exception": false,
     "start_time": "2024-01-30T05:06:13.733456",
     "status": "completed"
    },
    "tags": []
   },
   "outputs": [],
   "source": [
    "# 前処理\n",
    "df = missing_values(df)\n",
    "df = outlier(df)\n",
    "# df = scaling_MinMaxScaler(df) # 標準化したい時のみ実行する\n",
    "\n",
    "# 特徴量エンジニアリング\n",
    "df = create_new_features(df)\n",
    "df = binning(df)\n",
    "df = missing_values(df)\n",
    "df = drop_columns(df)\n",
    "\n",
    "ohe_cols = [] # One-Hot Encodingしたい水準数の少ないカラムを指定する\n",
    "dummies_cols = ['Geography','Gender','IsActiveMember','HasCrCard','NumOfProducts', 'Geo_Gender', 'Customer_Status'] # pd.get_dummiesしたい水準数の少ないカラムを指定する\n",
    "df = one_hot_encoding(df, ohe_cols)\n",
    "df = get_dummies(df, dummies_cols)\n",
    "# df = label_encoder(df)"
   ]
  },
  {
   "cell_type": "code",
   "execution_count": 16,
   "id": "2d38ffb5",
   "metadata": {
    "execution": {
     "iopub.execute_input": "2024-01-30T05:06:14.418115Z",
     "iopub.status.busy": "2024-01-30T05:06:14.415842Z",
     "iopub.status.idle": "2024-01-30T05:06:14.654760Z",
     "shell.execute_reply": "2024-01-30T05:06:14.653441Z"
    },
    "id": "DDUYrDzpmD2t",
    "outputId": "453062fd-b278-4ced-f7e2-f903a0067358",
    "papermill": {
     "duration": 0.251892,
     "end_time": "2024-01-30T05:06:14.657449",
     "exception": false,
     "start_time": "2024-01-30T05:06:14.405557",
     "status": "completed"
    },
    "tags": []
   },
   "outputs": [
    {
     "data": {
      "text/html": [
       "<div>\n",
       "<style scoped>\n",
       "    .dataframe tbody tr th:only-of-type {\n",
       "        vertical-align: middle;\n",
       "    }\n",
       "\n",
       "    .dataframe tbody tr th {\n",
       "        vertical-align: top;\n",
       "    }\n",
       "\n",
       "    .dataframe thead th {\n",
       "        text-align: right;\n",
       "    }\n",
       "</style>\n",
       "<table border=\"1\" class=\"dataframe\">\n",
       "  <thead>\n",
       "    <tr style=\"text-align: right;\">\n",
       "      <th></th>\n",
       "      <th>index</th>\n",
       "      <th>CreditScore</th>\n",
       "      <th>Age</th>\n",
       "      <th>Tenure</th>\n",
       "      <th>Balance</th>\n",
       "      <th>EstimatedSalary</th>\n",
       "      <th>Exited</th>\n",
       "      <th>SalaryToBalanceRatio</th>\n",
       "      <th>CreditCard_ActiveMember</th>\n",
       "      <th>ABPInteraction</th>\n",
       "      <th>TotalProductUsage</th>\n",
       "      <th>AgeAdjustedProductUsage</th>\n",
       "      <th>AgeGroup</th>\n",
       "      <th>BalanceCategory</th>\n",
       "      <th>CreditScoreCategory</th>\n",
       "      <th>TenureGroup</th>\n",
       "      <th>Geography_France</th>\n",
       "      <th>Geography_Germany</th>\n",
       "      <th>Geography_Spain</th>\n",
       "      <th>Gender_Female</th>\n",
       "      <th>Gender_Male</th>\n",
       "      <th>IsActiveMember_0.0</th>\n",
       "      <th>IsActiveMember_1.0</th>\n",
       "      <th>HasCrCard_0.0</th>\n",
       "      <th>HasCrCard_1.0</th>\n",
       "      <th>NumOfProducts_1</th>\n",
       "      <th>NumOfProducts_2</th>\n",
       "      <th>NumOfProducts_3</th>\n",
       "      <th>NumOfProducts_4</th>\n",
       "      <th>Geo_Gender_France_Female</th>\n",
       "      <th>Geo_Gender_France_Male</th>\n",
       "      <th>Geo_Gender_Germany_Female</th>\n",
       "      <th>Geo_Gender_Germany_Male</th>\n",
       "      <th>Geo_Gender_Spain_Female</th>\n",
       "      <th>Geo_Gender_Spain_Male</th>\n",
       "      <th>Customer_Status_Long-term</th>\n",
       "      <th>Customer_Status_New</th>\n",
       "    </tr>\n",
       "  </thead>\n",
       "  <tbody>\n",
       "    <tr>\n",
       "      <th>0</th>\n",
       "      <td>0</td>\n",
       "      <td>668</td>\n",
       "      <td>33.00000</td>\n",
       "      <td>3</td>\n",
       "      <td>0.00000</td>\n",
       "      <td>181449.97000</td>\n",
       "      <td>0.00000</td>\n",
       "      <td>181449.97000</td>\n",
       "      <td>0.00000</td>\n",
       "      <td>0.00000</td>\n",
       "      <td>6</td>\n",
       "      <td>0.01515</td>\n",
       "      <td>2</td>\n",
       "      <td>1</td>\n",
       "      <td>2</td>\n",
       "      <td>1</td>\n",
       "      <td>True</td>\n",
       "      <td>False</td>\n",
       "      <td>False</td>\n",
       "      <td>False</td>\n",
       "      <td>True</td>\n",
       "      <td>True</td>\n",
       "      <td>False</td>\n",
       "      <td>False</td>\n",
       "      <td>True</td>\n",
       "      <td>False</td>\n",
       "      <td>True</td>\n",
       "      <td>False</td>\n",
       "      <td>False</td>\n",
       "      <td>False</td>\n",
       "      <td>True</td>\n",
       "      <td>False</td>\n",
       "      <td>False</td>\n",
       "      <td>False</td>\n",
       "      <td>False</td>\n",
       "      <td>True</td>\n",
       "      <td>False</td>\n",
       "    </tr>\n",
       "    <tr>\n",
       "      <th>1</th>\n",
       "      <td>1</td>\n",
       "      <td>627</td>\n",
       "      <td>33.00000</td>\n",
       "      <td>1</td>\n",
       "      <td>0.00000</td>\n",
       "      <td>49503.50000</td>\n",
       "      <td>0.00000</td>\n",
       "      <td>49503.50000</td>\n",
       "      <td>1.00000</td>\n",
       "      <td>0.00000</td>\n",
       "      <td>2</td>\n",
       "      <td>0.03030</td>\n",
       "      <td>2</td>\n",
       "      <td>1</td>\n",
       "      <td>2</td>\n",
       "      <td>0</td>\n",
       "      <td>True</td>\n",
       "      <td>False</td>\n",
       "      <td>False</td>\n",
       "      <td>False</td>\n",
       "      <td>True</td>\n",
       "      <td>False</td>\n",
       "      <td>True</td>\n",
       "      <td>False</td>\n",
       "      <td>True</td>\n",
       "      <td>False</td>\n",
       "      <td>True</td>\n",
       "      <td>False</td>\n",
       "      <td>False</td>\n",
       "      <td>False</td>\n",
       "      <td>True</td>\n",
       "      <td>False</td>\n",
       "      <td>False</td>\n",
       "      <td>False</td>\n",
       "      <td>False</td>\n",
       "      <td>False</td>\n",
       "      <td>True</td>\n",
       "    </tr>\n",
       "    <tr>\n",
       "      <th>2</th>\n",
       "      <td>2</td>\n",
       "      <td>678</td>\n",
       "      <td>40.00000</td>\n",
       "      <td>10</td>\n",
       "      <td>0.00000</td>\n",
       "      <td>184866.69000</td>\n",
       "      <td>0.00000</td>\n",
       "      <td>184866.69000</td>\n",
       "      <td>0.00000</td>\n",
       "      <td>0.00000</td>\n",
       "      <td>20</td>\n",
       "      <td>0.00455</td>\n",
       "      <td>3</td>\n",
       "      <td>1</td>\n",
       "      <td>2</td>\n",
       "      <td>3</td>\n",
       "      <td>True</td>\n",
       "      <td>False</td>\n",
       "      <td>False</td>\n",
       "      <td>False</td>\n",
       "      <td>True</td>\n",
       "      <td>True</td>\n",
       "      <td>False</td>\n",
       "      <td>False</td>\n",
       "      <td>True</td>\n",
       "      <td>False</td>\n",
       "      <td>True</td>\n",
       "      <td>False</td>\n",
       "      <td>False</td>\n",
       "      <td>False</td>\n",
       "      <td>True</td>\n",
       "      <td>False</td>\n",
       "      <td>False</td>\n",
       "      <td>False</td>\n",
       "      <td>False</td>\n",
       "      <td>True</td>\n",
       "      <td>False</td>\n",
       "    </tr>\n",
       "    <tr>\n",
       "      <th>3</th>\n",
       "      <td>3</td>\n",
       "      <td>581</td>\n",
       "      <td>34.00000</td>\n",
       "      <td>2</td>\n",
       "      <td>148882.54000</td>\n",
       "      <td>84560.88000</td>\n",
       "      <td>0.00000</td>\n",
       "      <td>0.56797</td>\n",
       "      <td>1.00000</td>\n",
       "      <td>5062006.36000</td>\n",
       "      <td>2</td>\n",
       "      <td>0.00980</td>\n",
       "      <td>2</td>\n",
       "      <td>4</td>\n",
       "      <td>1</td>\n",
       "      <td>1</td>\n",
       "      <td>True</td>\n",
       "      <td>False</td>\n",
       "      <td>False</td>\n",
       "      <td>False</td>\n",
       "      <td>True</td>\n",
       "      <td>False</td>\n",
       "      <td>True</td>\n",
       "      <td>False</td>\n",
       "      <td>True</td>\n",
       "      <td>True</td>\n",
       "      <td>False</td>\n",
       "      <td>False</td>\n",
       "      <td>False</td>\n",
       "      <td>False</td>\n",
       "      <td>True</td>\n",
       "      <td>False</td>\n",
       "      <td>False</td>\n",
       "      <td>False</td>\n",
       "      <td>False</td>\n",
       "      <td>True</td>\n",
       "      <td>False</td>\n",
       "    </tr>\n",
       "    <tr>\n",
       "      <th>4</th>\n",
       "      <td>4</td>\n",
       "      <td>716</td>\n",
       "      <td>33.00000</td>\n",
       "      <td>5</td>\n",
       "      <td>0.00000</td>\n",
       "      <td>15068.83000</td>\n",
       "      <td>0.00000</td>\n",
       "      <td>15068.83000</td>\n",
       "      <td>1.00000</td>\n",
       "      <td>0.00000</td>\n",
       "      <td>10</td>\n",
       "      <td>0.01010</td>\n",
       "      <td>2</td>\n",
       "      <td>1</td>\n",
       "      <td>3</td>\n",
       "      <td>2</td>\n",
       "      <td>False</td>\n",
       "      <td>False</td>\n",
       "      <td>True</td>\n",
       "      <td>False</td>\n",
       "      <td>True</td>\n",
       "      <td>False</td>\n",
       "      <td>True</td>\n",
       "      <td>False</td>\n",
       "      <td>True</td>\n",
       "      <td>False</td>\n",
       "      <td>True</td>\n",
       "      <td>False</td>\n",
       "      <td>False</td>\n",
       "      <td>False</td>\n",
       "      <td>False</td>\n",
       "      <td>False</td>\n",
       "      <td>False</td>\n",
       "      <td>False</td>\n",
       "      <td>True</td>\n",
       "      <td>True</td>\n",
       "      <td>False</td>\n",
       "    </tr>\n",
       "  </tbody>\n",
       "</table>\n",
       "</div>"
      ],
      "text/plain": [
       "   index  CreditScore      Age  Tenure      Balance  EstimatedSalary  Exited  \\\n",
       "0      0          668 33.00000       3      0.00000     181449.97000 0.00000   \n",
       "1      1          627 33.00000       1      0.00000      49503.50000 0.00000   \n",
       "2      2          678 40.00000      10      0.00000     184866.69000 0.00000   \n",
       "3      3          581 34.00000       2 148882.54000      84560.88000 0.00000   \n",
       "4      4          716 33.00000       5      0.00000      15068.83000 0.00000   \n",
       "\n",
       "   SalaryToBalanceRatio  CreditCard_ActiveMember  ABPInteraction  \\\n",
       "0          181449.97000                  0.00000         0.00000   \n",
       "1           49503.50000                  1.00000         0.00000   \n",
       "2          184866.69000                  0.00000         0.00000   \n",
       "3               0.56797                  1.00000   5062006.36000   \n",
       "4           15068.83000                  1.00000         0.00000   \n",
       "\n",
       "   TotalProductUsage  AgeAdjustedProductUsage  AgeGroup  BalanceCategory  \\\n",
       "0                  6                  0.01515         2                1   \n",
       "1                  2                  0.03030         2                1   \n",
       "2                 20                  0.00455         3                1   \n",
       "3                  2                  0.00980         2                4   \n",
       "4                 10                  0.01010         2                1   \n",
       "\n",
       "   CreditScoreCategory  TenureGroup  Geography_France  Geography_Germany  \\\n",
       "0                    2            1              True              False   \n",
       "1                    2            0              True              False   \n",
       "2                    2            3              True              False   \n",
       "3                    1            1              True              False   \n",
       "4                    3            2             False              False   \n",
       "\n",
       "   Geography_Spain  Gender_Female  Gender_Male  IsActiveMember_0.0  \\\n",
       "0            False          False         True                True   \n",
       "1            False          False         True               False   \n",
       "2            False          False         True                True   \n",
       "3            False          False         True               False   \n",
       "4             True          False         True               False   \n",
       "\n",
       "   IsActiveMember_1.0  HasCrCard_0.0  HasCrCard_1.0  NumOfProducts_1  \\\n",
       "0               False          False           True            False   \n",
       "1                True          False           True            False   \n",
       "2               False          False           True            False   \n",
       "3                True          False           True             True   \n",
       "4                True          False           True            False   \n",
       "\n",
       "   NumOfProducts_2  NumOfProducts_3  NumOfProducts_4  \\\n",
       "0             True            False            False   \n",
       "1             True            False            False   \n",
       "2             True            False            False   \n",
       "3            False            False            False   \n",
       "4             True            False            False   \n",
       "\n",
       "   Geo_Gender_France_Female  Geo_Gender_France_Male  \\\n",
       "0                     False                    True   \n",
       "1                     False                    True   \n",
       "2                     False                    True   \n",
       "3                     False                    True   \n",
       "4                     False                   False   \n",
       "\n",
       "   Geo_Gender_Germany_Female  Geo_Gender_Germany_Male  \\\n",
       "0                      False                    False   \n",
       "1                      False                    False   \n",
       "2                      False                    False   \n",
       "3                      False                    False   \n",
       "4                      False                    False   \n",
       "\n",
       "   Geo_Gender_Spain_Female  Geo_Gender_Spain_Male  Customer_Status_Long-term  \\\n",
       "0                    False                  False                       True   \n",
       "1                    False                  False                      False   \n",
       "2                    False                  False                       True   \n",
       "3                    False                  False                       True   \n",
       "4                    False                   True                       True   \n",
       "\n",
       "   Customer_Status_New  \n",
       "0                False  \n",
       "1                 True  \n",
       "2                False  \n",
       "3                False  \n",
       "4                False  "
      ]
     },
     "execution_count": 16,
     "metadata": {},
     "output_type": "execute_result"
    }
   ],
   "source": [
    "train = df[:165034]\n",
    "test = df[165034:]\n",
    "\n",
    "train_x = train.drop(columns=[target_col])\n",
    "train_y = target\n",
    "test_x = test.drop(columns=[target_col])\n",
    "\n",
    "X = train_x.values\n",
    "y = train_y.values\n",
    "# y = y.astype(int)\n",
    "\n",
    "df.head()"
   ]
  },
  {
   "cell_type": "code",
   "execution_count": 17,
   "id": "da117041",
   "metadata": {
    "execution": {
     "iopub.execute_input": "2024-01-30T05:06:14.678831Z",
     "iopub.status.busy": "2024-01-30T05:06:14.678392Z",
     "iopub.status.idle": "2024-01-30T05:06:16.731879Z",
     "shell.execute_reply": "2024-01-30T05:06:16.730716Z"
    },
    "id": "yIlQ3t2-mxBU",
    "papermill": {
     "duration": 2.067459,
     "end_time": "2024-01-30T05:06:16.734390",
     "exception": false,
     "start_time": "2024-01-30T05:06:14.666931",
     "status": "completed"
    },
    "tags": []
   },
   "outputs": [
    {
     "data": {
      "text/html": [
       "<div>\n",
       "<style scoped>\n",
       "    .dataframe tbody tr th:only-of-type {\n",
       "        vertical-align: middle;\n",
       "    }\n",
       "\n",
       "    .dataframe tbody tr th {\n",
       "        vertical-align: top;\n",
       "    }\n",
       "\n",
       "    .dataframe thead th {\n",
       "        text-align: right;\n",
       "    }\n",
       "</style>\n",
       "<table border=\"1\" class=\"dataframe\">\n",
       "  <thead>\n",
       "    <tr style=\"text-align: right;\">\n",
       "      <th></th>\n",
       "      <th>importance</th>\n",
       "    </tr>\n",
       "  </thead>\n",
       "  <tbody>\n",
       "    <tr>\n",
       "      <th>CreditScoreCategory</th>\n",
       "      <td>0</td>\n",
       "    </tr>\n",
       "    <tr>\n",
       "      <th>AgeGroup</th>\n",
       "      <td>1</td>\n",
       "    </tr>\n",
       "    <tr>\n",
       "      <th>TenureGroup</th>\n",
       "      <td>1</td>\n",
       "    </tr>\n",
       "    <tr>\n",
       "      <th>BalanceCategory</th>\n",
       "      <td>10</td>\n",
       "    </tr>\n",
       "    <tr>\n",
       "      <th>Tenure</th>\n",
       "      <td>89</td>\n",
       "    </tr>\n",
       "    <tr>\n",
       "      <th>CreditCard_ActiveMember</th>\n",
       "      <td>94</td>\n",
       "    </tr>\n",
       "    <tr>\n",
       "      <th>ABPInteraction</th>\n",
       "      <td>164</td>\n",
       "    </tr>\n",
       "    <tr>\n",
       "      <th>index</th>\n",
       "      <td>179</td>\n",
       "    </tr>\n",
       "    <tr>\n",
       "      <th>SalaryToBalanceRatio</th>\n",
       "      <td>225</td>\n",
       "    </tr>\n",
       "    <tr>\n",
       "      <th>EstimatedSalary</th>\n",
       "      <td>228</td>\n",
       "    </tr>\n",
       "    <tr>\n",
       "      <th>Balance</th>\n",
       "      <td>255</td>\n",
       "    </tr>\n",
       "    <tr>\n",
       "      <th>CreditScore</th>\n",
       "      <td>305</td>\n",
       "    </tr>\n",
       "    <tr>\n",
       "      <th>Age</th>\n",
       "      <td>408</td>\n",
       "    </tr>\n",
       "    <tr>\n",
       "      <th>TotalProductUsage</th>\n",
       "      <td>475</td>\n",
       "    </tr>\n",
       "    <tr>\n",
       "      <th>AgeAdjustedProductUsage</th>\n",
       "      <td>566</td>\n",
       "    </tr>\n",
       "  </tbody>\n",
       "</table>\n",
       "</div>"
      ],
      "text/plain": [
       "                         importance\n",
       "CreditScoreCategory               0\n",
       "AgeGroup                          1\n",
       "TenureGroup                       1\n",
       "BalanceCategory                  10\n",
       "Tenure                           89\n",
       "CreditCard_ActiveMember          94\n",
       "ABPInteraction                  164\n",
       "index                           179\n",
       "SalaryToBalanceRatio            225\n",
       "EstimatedSalary                 228\n",
       "Balance                         255\n",
       "CreditScore                     305\n",
       "Age                             408\n",
       "TotalProductUsage               475\n",
       "AgeAdjustedProductUsage         566"
      ]
     },
     "execution_count": 17,
     "metadata": {},
     "output_type": "execute_result"
    }
   ],
   "source": [
    "# 特徴量の重要度評価\n",
    "train_importance = train\n",
    "feature_importance = feature_importance_evaluation(train_importance)\n",
    "feature_importance"
   ]
  },
  {
   "cell_type": "code",
   "execution_count": 18,
   "id": "b30c45b5",
   "metadata": {
    "execution": {
     "iopub.execute_input": "2024-01-30T05:06:16.755486Z",
     "iopub.status.busy": "2024-01-30T05:06:16.755069Z",
     "iopub.status.idle": "2024-01-30T05:06:17.315279Z",
     "shell.execute_reply": "2024-01-30T05:06:17.314103Z"
    },
    "id": "kUDkAd58nOmV",
    "papermill": {
     "duration": 0.574052,
     "end_time": "2024-01-30T05:06:17.317961",
     "exception": false,
     "start_time": "2024-01-30T05:06:16.743909",
     "status": "completed"
    },
    "tags": []
   },
   "outputs": [
    {
     "data": {
      "text/plain": [
       "<Axes: >"
      ]
     },
     "execution_count": 18,
     "metadata": {},
     "output_type": "execute_result"
    },
    {
     "data": {
      "image/png": "[encoded data removed]",
      "text/plain": [
       "<Figure size 1000x1500 with 1 Axes>"
      ]
     },
     "metadata": {},
     "output_type": "display_data"
    }
   ],
   "source": [
    "feature_importance.plot(kind='barh', figsize=(10, 15), color='b')"
   ]
  },
  {
   "cell_type": "code",
   "execution_count": 19,
   "id": "67d6d6fc",
   "metadata": {
    "execution": {
     "iopub.execute_input": "2024-01-30T05:06:17.341882Z",
     "iopub.status.busy": "2024-01-30T05:06:17.341509Z",
     "iopub.status.idle": "2024-01-30T05:06:21.284172Z",
     "shell.execute_reply": "2024-01-30T05:06:21.283287Z"
    },
    "id": "DVYEwrPUnW9Q",
    "papermill": {
     "duration": 3.958056,
     "end_time": "2024-01-30T05:06:21.287027",
     "exception": false,
     "start_time": "2024-01-30T05:06:17.328971",
     "status": "completed"
    },
    "tags": []
   },
   "outputs": [],
   "source": [
    "df.to_csv(OUTPUT_DIR + 'data.csv', index=False)"
   ]
  },
  {
   "cell_type": "code",
   "execution_count": 20,
   "id": "cee85aed",
   "metadata": {
    "execution": {
     "iopub.execute_input": "2024-01-30T05:06:21.311153Z",
     "iopub.status.busy": "2024-01-30T05:06:21.310518Z",
     "iopub.status.idle": "2024-01-30T05:06:21.316682Z",
     "shell.execute_reply": "2024-01-30T05:06:21.315783Z"
    },
    "id": "zxBoX1zbnYUl",
    "papermill": {
     "duration": 0.021022,
     "end_time": "2024-01-30T05:06:21.319040",
     "exception": false,
     "start_time": "2024-01-30T05:06:21.298018",
     "status": "completed"
    },
    "tags": []
   },
   "outputs": [],
   "source": [
    "def file_to_xy(filename):\n",
    "    data = pd.read_csv(filename, index_col=0)\n",
    "    print(f'読み込み完了 {filename}')\n",
    "    train = data[:165034].reset_index(drop=True)\n",
    "    test = data[165034:].reset_index(drop=True).drop(target_col, axis=1) # 目的変数を指定する\n",
    "    # 目的変数と説明変数に分割\n",
    "    X = train.drop([target_col], axis=1) # 目的変数を指定する\n",
    "    y = train[target_col].values # 目的変数を指定する\n",
    "\n",
    "    return data,test,train,X,y"
   ]
  },
  {
   "cell_type": "code",
   "execution_count": 21,
   "id": "eac422fa",
   "metadata": {
    "execution": {
     "iopub.execute_input": "2024-01-30T05:06:21.344131Z",
     "iopub.status.busy": "2024-01-30T05:06:21.343473Z",
     "iopub.status.idle": "2024-01-30T05:06:22.481612Z",
     "shell.execute_reply": "2024-01-30T05:06:22.480749Z"
    },
    "id": "DRZhqQjJnfme",
    "outputId": "9cf6043d-315f-4fb6-908b-a67297884126",
    "papermill": {
     "duration": 1.153943,
     "end_time": "2024-01-30T05:06:22.484302",
     "exception": false,
     "start_time": "2024-01-30T05:06:21.330359",
     "status": "completed"
    },
    "tags": []
   },
   "outputs": [
    {
     "name": "stdout",
     "output_type": "stream",
     "text": [
      "読み込み完了 /kaggle/working/data.csv\n"
     ]
    }
   ],
   "source": [
    "filename = 'data.csv'\n",
    "data,test,train,X,y = file_to_xy(OUTPUT_DIR + filename)"
   ]
  },
  {
   "cell_type": "code",
   "execution_count": null,
   "id": "8f5d3d9f",
   "metadata": {
    "papermill": {
     "duration": 0.010727,
     "end_time": "2024-01-30T05:06:22.506699",
     "exception": false,
     "start_time": "2024-01-30T05:06:22.495972",
     "status": "completed"
    },
    "tags": []
   },
   "outputs": [],
   "source": []
  }
 ],
 "metadata": {
  "colab": {
   "provenance": []
  },
  "kaggle": {
   "accelerator": "none",
   "dataSources": [
    {
     "databundleVersionId": 7405009,
     "sourceId": 65711,
     "sourceType": "competition"
    }
   ],
   "dockerImageVersionId": 30635,
   "isGpuEnabled": false,
   "isInternetEnabled": true,
   "language": "python",
   "sourceType": "notebook"
  },
  "kernelspec": {
   "display_name": "Python 3",
   "language": "python",
   "name": "python3"
  },
  "language_info": {
   "codemirror_mode": {
    "name": "ipython",
    "version": 3
   },
   "file_extension": ".py",
   "mimetype": "text/x-python",
   "name": "python",
   "nbconvert_exporter": "python",
   "pygments_lexer": "ipython3",
   "version": "3.10.12"
  },
  "papermill": {
   "default_parameters": {},
   "duration": 19.170321,
   "end_time": "2024-01-30T05:06:23.338871",
   "environment_variables": {},
   "exception": null,
   "input_path": "__notebook__.ipynb",
   "output_path": "__notebook__.ipynb",
   "parameters": {},
   "start_time": "2024-01-30T05:06:04.168550",
   "version": "2.4.0"
  }
 },
 "nbformat": 4,
 "nbformat_minor": 5
}

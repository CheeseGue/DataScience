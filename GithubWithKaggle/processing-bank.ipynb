{
 "cells": [
  {
   "cell_type": "markdown",
   "id": "9902ab24",
   "metadata": {
    "id": "9jJ7f1atJ0qO",
    "papermill": {
     "duration": 0.008467,
     "end_time": "2024-01-30T05:30:51.450841",
     "exception": false,
     "start_time": "2024-01-30T05:30:51.442374",
     "status": "completed"
    },
    "tags": []
   },
   "source": [
    "# **銀行解約データセットを使用した二項分類**\n",
    "Binary Classification with a Bank Churn Dataset(https://www.kaggle.com/competitions/playground-series-s4e1/code?competitionId=65711&sortBy=voteCount)"
   ]
  },
  {
   "cell_type": "markdown",
   "id": "8efa38c9",
   "metadata": {
    "id": "dRrM5BeJkgj-",
    "papermill": {
     "duration": 0.007099,
     "end_time": "2024-01-30T05:30:51.465574",
     "exception": false,
     "start_time": "2024-01-30T05:30:51.458475",
     "status": "completed"
    },
    "tags": []
   },
   "source": [
    "# 参考資料\n",
    "**書籍**\n",
    "\n",
    "\n",
    "**Kaggle**\n",
    "- [[PlayGround S4E1] 📊 EDA + 🤖 Modeling [XGBoost]](https://www.kaggle.com/code/akhiljethwa/playground-s4e1-eda-modeling-xgboost)\n",
    "- [Bank Churn CatBoost - 0.89626](https://www.kaggle.com/code/aspillai/bank-churn-catboost-0-89626)\n",
    "\n",
    "\n",
    "**自分で作成したファイル**\n",
    "- Home_Credit_Default_Risk\n",
    "- 肝硬変の転帰の多クラス予測\n",
    "- 馬の健康への影響を予測する\n",
    "- ルワンダにおける CO2 排出量を予測する\n",
    "\n",
    "**その他**\n"
   ]
  },
  {
   "cell_type": "markdown",
   "id": "c63b5e0a",
   "metadata": {
    "id": "MV1ptyJ5kn2E",
    "papermill": {
     "duration": 0.007064,
     "end_time": "2024-01-30T05:30:51.479966",
     "exception": false,
     "start_time": "2024-01-30T05:30:51.472902",
     "status": "completed"
    },
    "tags": []
   },
   "source": [
    "## ライブラリ・データセットのインポート"
   ]
  },
  {
   "cell_type": "code",
   "execution_count": 1,
   "id": "9701cd3d",
   "metadata": {
    "execution": {
     "iopub.execute_input": "2024-01-30T05:30:51.496075Z",
     "iopub.status.busy": "2024-01-30T05:30:51.495657Z",
     "iopub.status.idle": "2024-01-30T05:30:52.237579Z",
     "shell.execute_reply": "2024-01-30T05:30:52.236485Z"
    },
    "id": "cXwErGKbkUpb",
    "papermill": {
     "duration": 0.752455,
     "end_time": "2024-01-30T05:30:52.239759",
     "exception": false,
     "start_time": "2024-01-30T05:30:51.487304",
     "status": "completed"
    },
    "tags": []
   },
   "outputs": [],
   "source": [
    "import numpy as np\n",
    "import pandas as pd\n",
    "\n",
    "import warnings\n",
    "warnings.filterwarnings('ignore')\n",
    "\n",
    "pd.options.display.float_format = '{:.5f}'.format\n",
    "pd.set_option('display.max_columns', None)\n",
    "pd.set_option('display.max_rows', None)"
   ]
  },
  {
   "cell_type": "code",
   "execution_count": 2,
   "id": "d9f201a5",
   "metadata": {
    "execution": {
     "iopub.execute_input": "2024-01-30T05:30:52.256694Z",
     "iopub.status.busy": "2024-01-30T05:30:52.256253Z",
     "iopub.status.idle": "2024-01-30T05:30:54.465484Z",
     "shell.execute_reply": "2024-01-30T05:30:54.464352Z"
    },
    "id": "y2vH8YMCko3q",
    "papermill": {
     "duration": 2.220066,
     "end_time": "2024-01-30T05:30:54.467839",
     "exception": false,
     "start_time": "2024-01-30T05:30:52.247773",
     "status": "completed"
    },
    "tags": []
   },
   "outputs": [],
   "source": [
    "from sklearn.preprocessing import LabelEncoder, MinMaxScaler\n",
    "from lightgbm import LGBMClassifier # 特徴量の重要度評価で用いる"
   ]
  },
  {
   "cell_type": "markdown",
   "id": "5cecbda1",
   "metadata": {
    "id": "xAub7rgGk35P",
    "papermill": {
     "duration": 0.007489,
     "end_time": "2024-01-30T05:30:54.483540",
     "exception": false,
     "start_time": "2024-01-30T05:30:54.476051",
     "status": "completed"
    },
    "tags": []
   },
   "source": [
    "## 実行時間を調べるために使う"
   ]
  },
  {
   "cell_type": "code",
   "execution_count": 3,
   "id": "d7a9cbc8",
   "metadata": {
    "execution": {
     "iopub.execute_input": "2024-01-30T05:30:54.500767Z",
     "iopub.status.busy": "2024-01-30T05:30:54.500411Z",
     "iopub.status.idle": "2024-01-30T05:30:54.507374Z",
     "shell.execute_reply": "2024-01-30T05:30:54.506335Z"
    },
    "id": "_hGkGqJtk6M-",
    "papermill": {
     "duration": 0.017764,
     "end_time": "2024-01-30T05:30:54.509183",
     "exception": false,
     "start_time": "2024-01-30T05:30:54.491419",
     "status": "completed"
    },
    "tags": []
   },
   "outputs": [],
   "source": [
    "import datetime\n",
    "import time\n",
    "import math\n",
    "\n",
    "start_time = time.time()\n",
    "\n",
    "def changeHMS(s):\n",
    "    h = math.floor(s / 3600)\n",
    "    if h > 0:\n",
    "        s = s - h * 3600\n",
    "        indi_h = str(h) + 'h'\n",
    "    else:\n",
    "        indi_h = ''\n",
    "    m = math.floor(s / 60)\n",
    "    if m > 0:\n",
    "        indi_m = str(m) + 'm'\n",
    "    else:\n",
    "        indi_m = ''\n",
    "    s = math.floor(s % 60)\n",
    "    time = indi_h + indi_m + str(s) + 's'\n",
    "    return time"
   ]
  },
  {
   "cell_type": "code",
   "execution_count": 4,
   "id": "6c16e5d4",
   "metadata": {
    "execution": {
     "iopub.execute_input": "2024-01-30T05:30:54.526182Z",
     "iopub.status.busy": "2024-01-30T05:30:54.525808Z",
     "iopub.status.idle": "2024-01-30T05:30:55.063369Z",
     "shell.execute_reply": "2024-01-30T05:30:55.062157Z"
    },
    "id": "4EzyBOiPkph8",
    "papermill": {
     "duration": 0.550079,
     "end_time": "2024-01-30T05:30:55.067126",
     "exception": false,
     "start_time": "2024-01-30T05:30:54.517047",
     "status": "completed"
    },
    "tags": []
   },
   "outputs": [],
   "source": [
    "FILE_PATH = '/kaggle/input/playground-series-s4e1/'\n",
    "OUTPUT_DIR = '/kaggle/working/'\n",
    "\n",
    "train = pd.read_csv(FILE_PATH + 'train.csv')\n",
    "test = pd.read_csv(FILE_PATH + 'test.csv')\n",
    "\n",
    "train_id = train['id']\n",
    "train.drop('id', axis=1, inplace=True)\n",
    "\n",
    "test_id = test['id']\n",
    "test.drop('id', axis=1, inplace=True)\n",
    "\n",
    "target = train['Exited']\n",
    "target_col = 'Exited'\n",
    "\n",
    "target_name = str(train.iloc[:, [-1]].columns.tolist()) # カラム数-2の値が目的変数\n",
    "\n",
    "df = pd.concat([train, test], axis=0)\n",
    "df.reset_index(inplace=True)\n",
    "\n",
    "# 説明変数をデータ型ごとに代入する\n",
    "numerical_features = df._get_numeric_data().columns\n",
    "categorical_features = df.drop(numerical_features, axis=1).columns"
   ]
  },
  {
   "cell_type": "markdown",
   "id": "a8a5fdc1",
   "metadata": {
    "id": "O1qWEpEsmIsU",
    "papermill": {
     "duration": 0.007404,
     "end_time": "2024-01-30T05:30:55.084584",
     "exception": false,
     "start_time": "2024-01-30T05:30:55.077180",
     "status": "completed"
    },
    "tags": []
   },
   "source": [
    "## 前処理"
   ]
  },
  {
   "cell_type": "markdown",
   "id": "5d2a9fc6",
   "metadata": {
    "id": "Geqin6VhmJw9",
    "papermill": {
     "duration": 0.006996,
     "end_time": "2024-01-30T05:30:55.099269",
     "exception": false,
     "start_time": "2024-01-30T05:30:55.092273",
     "status": "completed"
    },
    "tags": []
   },
   "source": [
    "### 欠損値の補完"
   ]
  },
  {
   "cell_type": "code",
   "execution_count": 5,
   "id": "f4355cf9",
   "metadata": {
    "execution": {
     "iopub.execute_input": "2024-01-30T05:30:55.115453Z",
     "iopub.status.busy": "2024-01-30T05:30:55.115102Z",
     "iopub.status.idle": "2024-01-30T05:30:55.119077Z",
     "shell.execute_reply": "2024-01-30T05:30:55.118455Z"
    },
    "id": "pc9ukAPLmKkl",
    "papermill": {
     "duration": 0.014103,
     "end_time": "2024-01-30T05:30:55.120776",
     "exception": false,
     "start_time": "2024-01-30T05:30:55.106673",
     "status": "completed"
    },
    "tags": []
   },
   "outputs": [],
   "source": [
    "def missing_values(df):\n",
    "\n",
    "    return df"
   ]
  },
  {
   "cell_type": "markdown",
   "id": "f9c79367",
   "metadata": {
    "id": "2ZLsziVQmM_s",
    "papermill": {
     "duration": 0.007424,
     "end_time": "2024-01-30T05:30:55.136135",
     "exception": false,
     "start_time": "2024-01-30T05:30:55.128711",
     "status": "completed"
    },
    "tags": []
   },
   "source": [
    "### 外れ値の修正"
   ]
  },
  {
   "cell_type": "code",
   "execution_count": 6,
   "id": "c3bb2aae",
   "metadata": {
    "execution": {
     "iopub.execute_input": "2024-01-30T05:30:55.153951Z",
     "iopub.status.busy": "2024-01-30T05:30:55.152924Z",
     "iopub.status.idle": "2024-01-30T05:30:55.157623Z",
     "shell.execute_reply": "2024-01-30T05:30:55.156569Z"
    },
    "id": "D9RIXWdJmOBI",
    "papermill": {
     "duration": 0.015413,
     "end_time": "2024-01-30T05:30:55.159390",
     "exception": false,
     "start_time": "2024-01-30T05:30:55.143977",
     "status": "completed"
    },
    "tags": []
   },
   "outputs": [],
   "source": [
    "def outlier(df):\n",
    "\n",
    "    return df"
   ]
  },
  {
   "cell_type": "markdown",
   "id": "dded01e4",
   "metadata": {
    "id": "L0T_RQ97XYoT",
    "papermill": {
     "duration": 0.007284,
     "end_time": "2024-01-30T05:30:55.174598",
     "exception": false,
     "start_time": "2024-01-30T05:30:55.167314",
     "status": "completed"
    },
    "tags": []
   },
   "source": [
    "### スケーリング（標準化）"
   ]
  },
  {
   "cell_type": "markdown",
   "id": "20e3b7da",
   "metadata": {
    "id": "fH7xUj12XcGU",
    "papermill": {
     "duration": 0.009313,
     "end_time": "2024-01-30T05:30:55.191678",
     "exception": false,
     "start_time": "2024-01-30T05:30:55.182365",
     "status": "completed"
    },
    "tags": []
   },
   "source": [
    "- MinMaxScaler(正規化)"
   ]
  },
  {
   "cell_type": "code",
   "execution_count": 7,
   "id": "4c9a7eea",
   "metadata": {
    "execution": {
     "iopub.execute_input": "2024-01-30T05:30:55.211978Z",
     "iopub.status.busy": "2024-01-30T05:30:55.211055Z",
     "iopub.status.idle": "2024-01-30T05:30:55.216535Z",
     "shell.execute_reply": "2024-01-30T05:30:55.215791Z"
    },
    "id": "H2MehtAxXd61",
    "papermill": {
     "duration": 0.016601,
     "end_time": "2024-01-30T05:30:55.218469",
     "exception": false,
     "start_time": "2024-01-30T05:30:55.201868",
     "status": "completed"
    },
    "tags": []
   },
   "outputs": [],
   "source": [
    "def scaling_MinMaxScaler(df, scale_cols):\n",
    "    df_scale = df[scale_cols]\n",
    "    sc = MinMaxScaler()\n",
    "    df[scale_cols] = pd.DataFrame(sc.fit_transform(df_scale), columns = df_scale.columns)\n",
    "\n",
    "    return df"
   ]
  },
  {
   "cell_type": "markdown",
   "id": "d4e2a5fb",
   "metadata": {
    "id": "evWEXqCTliXu",
    "papermill": {
     "duration": 0.007503,
     "end_time": "2024-01-30T05:30:55.234109",
     "exception": false,
     "start_time": "2024-01-30T05:30:55.226606",
     "status": "completed"
    },
    "tags": []
   },
   "source": [
    "## 特徴量エンジニアリング"
   ]
  },
  {
   "cell_type": "markdown",
   "id": "c36c8b3e",
   "metadata": {
    "id": "ehRLTpCDlj_m",
    "papermill": {
     "duration": 0.009,
     "end_time": "2024-01-30T05:30:55.251352",
     "exception": false,
     "start_time": "2024-01-30T05:30:55.242352",
     "status": "completed"
    },
    "tags": []
   },
   "source": [
    "### 特徴量の作成"
   ]
  },
  {
   "cell_type": "code",
   "execution_count": 8,
   "id": "b772a0c3",
   "metadata": {
    "execution": {
     "iopub.execute_input": "2024-01-30T05:30:55.268571Z",
     "iopub.status.busy": "2024-01-30T05:30:55.267981Z",
     "iopub.status.idle": "2024-01-30T05:30:55.273856Z",
     "shell.execute_reply": "2024-01-30T05:30:55.273275Z"
    },
    "id": "SJd05F70kskT",
    "papermill": {
     "duration": 0.016792,
     "end_time": "2024-01-30T05:30:55.275976",
     "exception": false,
     "start_time": "2024-01-30T05:30:55.259184",
     "status": "completed"
    },
    "tags": []
   },
   "outputs": [],
   "source": [
    "def create_new_features(df):\n",
    "    # Salary to Balance Ratio\n",
    "    df['SalaryToBalanceRatio'] = df['EstimatedSalary'] / (df['Balance'] + 1)  # Adding 1 to avoid division by zero\n",
    "\n",
    "    # Credit Card and Active Member Interaction\n",
    "    df['CreditCard_ActiveMember'] = df['HasCrCard'] * df['IsActiveMember']\n",
    "\n",
    "\n",
    "    # ABP Interaction\n",
    "    df['ABPInteraction'] = df['Age'] * df['Balance'] / df['NumOfProducts']\n",
    "\n",
    "    df['Geo_Gender'] = df['Geography'] + '_' + df['Gender']\n",
    "    \n",
    "    df['TotalProductUsage'] = df['Tenure'] * df['NumOfProducts']\n",
    "            \n",
    "    df['AgeAdjustedProductUsage'] = df['NumOfProducts']/((df['Tenure']+1) * df['Age'])\n",
    "    \n",
    "    df['Customer_Status'] = df['Tenure'].apply(lambda x: 'New' if x < 2 else 'Long-term')\n",
    "    \n",
    "    # 高齢者を1とするカラムを作成する\n",
    "    df['IsSenior'] = df['Age'].apply(lambda x: 1 if x >= 60 else 0)\n",
    "    \n",
    "    return df"
   ]
  },
  {
   "cell_type": "markdown",
   "id": "643b1769",
   "metadata": {
    "papermill": {
     "duration": 0.007368,
     "end_time": "2024-01-30T05:30:55.291256",
     "exception": false,
     "start_time": "2024-01-30T05:30:55.283888",
     "status": "completed"
    },
    "tags": []
   },
   "source": [
    "#### ビンニング"
   ]
  },
  {
   "cell_type": "code",
   "execution_count": 9,
   "id": "d3e38373",
   "metadata": {
    "execution": {
     "iopub.execute_input": "2024-01-30T05:30:55.308250Z",
     "iopub.status.busy": "2024-01-30T05:30:55.307905Z",
     "iopub.status.idle": "2024-01-30T05:30:55.314144Z",
     "shell.execute_reply": "2024-01-30T05:30:55.313272Z"
    },
    "papermill": {
     "duration": 0.017447,
     "end_time": "2024-01-30T05:30:55.316595",
     "exception": false,
     "start_time": "2024-01-30T05:30:55.299148",
     "status": "completed"
    },
    "tags": []
   },
   "outputs": [],
   "source": [
    "def binning(df):\n",
    "    # Age Group\n",
    "    age_bins = [0, 18, 30, 40, 50, 60, 100]\n",
    "    df['AgeGroup'] = pd.cut(df['Age'], bins=age_bins, labels=False, right=False)\n",
    "    \n",
    "    # Balance Category\n",
    "    balance_bins = [-np.inf, 0, 10000, 50000, 100000, np.inf]\n",
    "    df['BalanceCategory'] = pd.cut(df['Balance'], bins=balance_bins, labels=False, right=False)\n",
    "    \n",
    "    # Credit Score Category\n",
    "    credit_bins = [0, 500, 600, 700, 800, 900]\n",
    "    df['CreditScoreCategory'] = pd.cut(df['CreditScore'], bins=credit_bins, labels=False, right=False)\n",
    "    \n",
    "    tenure_bins = [0, 2, 5, 10, np.inf]\n",
    "    df['TenureGroup'] = pd.cut(df['Tenure'], bins=tenure_bins, labels=False, right=False)\n",
    "    \n",
    "    return df"
   ]
  },
  {
   "cell_type": "markdown",
   "id": "df890e9a",
   "metadata": {
    "id": "eWE-oFe4loLR",
    "papermill": {
     "duration": 0.007597,
     "end_time": "2024-01-30T05:30:55.332102",
     "exception": false,
     "start_time": "2024-01-30T05:30:55.324505",
     "status": "completed"
    },
    "tags": []
   },
   "source": [
    "### カテゴリ変数のエンコーディング"
   ]
  },
  {
   "cell_type": "markdown",
   "id": "c238ccd7",
   "metadata": {
    "id": "xoRllpoVJi0M",
    "papermill": {
     "duration": 0.007646,
     "end_time": "2024-01-30T05:30:55.403754",
     "exception": false,
     "start_time": "2024-01-30T05:30:55.396108",
     "status": "completed"
    },
    "tags": []
   },
   "source": [
    "* One-HotEncoding"
   ]
  },
  {
   "cell_type": "code",
   "execution_count": 10,
   "id": "6aee2721",
   "metadata": {
    "execution": {
     "iopub.execute_input": "2024-01-30T05:30:55.421120Z",
     "iopub.status.busy": "2024-01-30T05:30:55.420752Z",
     "iopub.status.idle": "2024-01-30T05:30:55.425367Z",
     "shell.execute_reply": "2024-01-30T05:30:55.424145Z"
    },
    "id": "r4FeWb-aJi0N",
    "papermill": {
     "duration": 0.015722,
     "end_time": "2024-01-30T05:30:55.427380",
     "exception": false,
     "start_time": "2024-01-30T05:30:55.411658",
     "status": "completed"
    },
    "tags": []
   },
   "outputs": [],
   "source": [
    "def one_hot_encoding(df, cat_cols):\n",
    "    df = pd.get_dummies(df, columns=cat_cols)\n",
    "\n",
    "    return df"
   ]
  },
  {
   "cell_type": "markdown",
   "id": "59cf30c2",
   "metadata": {
    "id": "sKHw_ipAlpUy",
    "papermill": {
     "duration": 0.007711,
     "end_time": "2024-01-30T05:30:55.443031",
     "exception": false,
     "start_time": "2024-01-30T05:30:55.435320",
     "status": "completed"
    },
    "tags": []
   },
   "source": [
    "- LabelEncoding"
   ]
  },
  {
   "cell_type": "code",
   "execution_count": 11,
   "id": "d8c0e84c",
   "metadata": {
    "execution": {
     "iopub.execute_input": "2024-01-30T05:30:55.460245Z",
     "iopub.status.busy": "2024-01-30T05:30:55.459688Z",
     "iopub.status.idle": "2024-01-30T05:30:55.464814Z",
     "shell.execute_reply": "2024-01-30T05:30:55.464198Z"
    },
    "id": "uBNUcljZlmV5",
    "papermill": {
     "duration": 0.015983,
     "end_time": "2024-01-30T05:30:55.466721",
     "exception": false,
     "start_time": "2024-01-30T05:30:55.450738",
     "status": "completed"
    },
    "tags": []
   },
   "outputs": [],
   "source": [
    "def label_encoder(df):\n",
    "    categorical_columns = df.select_dtypes(include=['object']).columns\n",
    "\n",
    "    for column in categorical_columns:\n",
    "        df[column] = df[column].fillna('').astype('str') # 欠損値の補完をする\n",
    "        le = LabelEncoder()\n",
    "        df[column] = le.fit_transform(df[column])\n",
    "\n",
    "    return df"
   ]
  },
  {
   "cell_type": "markdown",
   "id": "a894629e",
   "metadata": {
    "papermill": {
     "duration": 0.007248,
     "end_time": "2024-01-30T05:30:55.481795",
     "exception": false,
     "start_time": "2024-01-30T05:30:55.474547",
     "status": "completed"
    },
    "tags": []
   },
   "source": [
    "- pd.get_dummies"
   ]
  },
  {
   "cell_type": "code",
   "execution_count": 12,
   "id": "618d28d9",
   "metadata": {
    "execution": {
     "iopub.execute_input": "2024-01-30T05:30:55.498142Z",
     "iopub.status.busy": "2024-01-30T05:30:55.497776Z",
     "iopub.status.idle": "2024-01-30T05:30:55.502583Z",
     "shell.execute_reply": "2024-01-30T05:30:55.501304Z"
    },
    "papermill": {
     "duration": 0.016381,
     "end_time": "2024-01-30T05:30:55.505379",
     "exception": false,
     "start_time": "2024-01-30T05:30:55.488998",
     "status": "completed"
    },
    "tags": []
   },
   "outputs": [],
   "source": [
    "def get_dummies(df, cat_cols):\n",
    "    df = pd.get_dummies(df, columns=cat_cols)\n",
    "    \n",
    "    return df"
   ]
  },
  {
   "cell_type": "markdown",
   "id": "2e4aeefe",
   "metadata": {
    "id": "OVz_DZCgltFl",
    "papermill": {
     "duration": 0.007683,
     "end_time": "2024-01-30T05:30:55.521306",
     "exception": false,
     "start_time": "2024-01-30T05:30:55.513623",
     "status": "completed"
    },
    "tags": []
   },
   "source": [
    "### 特徴量の選択"
   ]
  },
  {
   "cell_type": "markdown",
   "id": "1e291b52",
   "metadata": {
    "id": "T-uGFwI8luOC",
    "papermill": {
     "duration": 0.007368,
     "end_time": "2024-01-30T05:30:55.536321",
     "exception": false,
     "start_time": "2024-01-30T05:30:55.528953",
     "status": "completed"
    },
    "tags": []
   },
   "source": [
    "#### 特徴量の重要度評価"
   ]
  },
  {
   "cell_type": "code",
   "execution_count": 13,
   "id": "da2b734b",
   "metadata": {
    "execution": {
     "iopub.execute_input": "2024-01-30T05:30:55.553355Z",
     "iopub.status.busy": "2024-01-30T05:30:55.552988Z",
     "iopub.status.idle": "2024-01-30T05:30:55.560498Z",
     "shell.execute_reply": "2024-01-30T05:30:55.559213Z"
    },
    "id": "IvbTfuG8lrYZ",
    "papermill": {
     "duration": 0.019053,
     "end_time": "2024-01-30T05:30:55.562986",
     "exception": false,
     "start_time": "2024-01-30T05:30:55.543933",
     "status": "completed"
    },
    "tags": []
   },
   "outputs": [],
   "source": [
    "def feature_importance_evaluation(df):\n",
    "    # 訓練データをX(説明変数)とy（目的変数）に分割する\n",
    "    X = df.select_dtypes(include=['float', 'int'])\n",
    "    X = X.drop([target_col], axis=1) # 目的変数を指定する\n",
    "    y = target # 目的変数を指定する\n",
    "\n",
    "    \n",
    "\n",
    "    # 特徴量の重要度評価\n",
    "    clf = LGBMClassifier(\n",
    "        random_state=42,\n",
    "    )\n",
    "\n",
    "    clf.fit(X, y)\n",
    "    importance = clf.feature_importances_\n",
    "\n",
    "    feature_importance = pd.DataFrame(data=importance, index=X.columns, columns=['importance']) \\\n",
    "        .sort_values(ascending=True, by='importance')\n",
    "\n",
    "    return feature_importance"
   ]
  },
  {
   "cell_type": "markdown",
   "id": "72459e93",
   "metadata": {
    "id": "Uu58wE5hl4MK",
    "papermill": {
     "duration": 0.007695,
     "end_time": "2024-01-30T05:30:55.578840",
     "exception": false,
     "start_time": "2024-01-30T05:30:55.571145",
     "status": "completed"
    },
    "tags": []
   },
   "source": [
    "#### 特徴量の削除"
   ]
  },
  {
   "cell_type": "code",
   "execution_count": 14,
   "id": "96527234",
   "metadata": {
    "execution": {
     "iopub.execute_input": "2024-01-30T05:30:55.595964Z",
     "iopub.status.busy": "2024-01-30T05:30:55.595619Z",
     "iopub.status.idle": "2024-01-30T05:30:55.600526Z",
     "shell.execute_reply": "2024-01-30T05:30:55.599492Z"
    },
    "id": "LNqYHRC2l0fz",
    "papermill": {
     "duration": 0.016258,
     "end_time": "2024-01-30T05:30:55.602980",
     "exception": false,
     "start_time": "2024-01-30T05:30:55.586722",
     "status": "completed"
    },
    "tags": []
   },
   "outputs": [],
   "source": [
    "def drop_columns(df):\n",
    "    drop_list = [\n",
    "        'CustomerId', 'Surname'\n",
    "    ]\n",
    "    dropped_df = df.drop(columns=drop_list)\n",
    "\n",
    "    return dropped_df"
   ]
  },
  {
   "cell_type": "markdown",
   "id": "4e527836",
   "metadata": {
    "id": "EzhMZ-IVmC04",
    "papermill": {
     "duration": 0.007846,
     "end_time": "2024-01-30T05:30:55.619615",
     "exception": false,
     "start_time": "2024-01-30T05:30:55.611769",
     "status": "completed"
    },
    "tags": []
   },
   "source": [
    "### データセットの更新"
   ]
  },
  {
   "cell_type": "code",
   "execution_count": 15,
   "id": "ff5deacb",
   "metadata": {
    "execution": {
     "iopub.execute_input": "2024-01-30T05:30:55.636228Z",
     "iopub.status.busy": "2024-01-30T05:30:55.635833Z",
     "iopub.status.idle": "2024-01-30T05:30:56.112954Z",
     "shell.execute_reply": "2024-01-30T05:30:56.111992Z"
    },
    "id": "wtp9MwnUl_zY",
    "papermill": {
     "duration": 0.487926,
     "end_time": "2024-01-30T05:30:56.115151",
     "exception": false,
     "start_time": "2024-01-30T05:30:55.627225",
     "status": "completed"
    },
    "tags": []
   },
   "outputs": [],
   "source": [
    "# 前処理\n",
    "df = missing_values(df)\n",
    "df = outlier(df)\n",
    "\n",
    "scale_cols = ['Age','CreditScore', 'Balance','EstimatedSalary']\n",
    "df = scaling_MinMaxScaler(df, scale_cols) # 標準化したい時のみ実行する\n",
    "\n",
    "# 特徴量エンジニアリング\n",
    "df = create_new_features(df)\n",
    "df = binning(df)\n",
    "df = missing_values(df)\n",
    "df = drop_columns(df)\n",
    "\n",
    "ohe_cols = [] # One-Hot Encodingしたい水準数の少ないカラムを指定する\n",
    "dummies_cols = ['Geography','Gender','IsActiveMember','HasCrCard','NumOfProducts', 'Geo_Gender', 'Customer_Status'] # pd.get_dummiesしたい水準数の少ないカラムを指定する\n",
    "df = one_hot_encoding(df, ohe_cols)\n",
    "df = get_dummies(df, dummies_cols)\n",
    "# df = label_encoder(df)"
   ]
  },
  {
   "cell_type": "code",
   "execution_count": 16,
   "id": "1da0ab24",
   "metadata": {
    "execution": {
     "iopub.execute_input": "2024-01-30T05:30:56.131840Z",
     "iopub.status.busy": "2024-01-30T05:30:56.131495Z",
     "iopub.status.idle": "2024-01-30T05:30:56.304788Z",
     "shell.execute_reply": "2024-01-30T05:30:56.304176Z"
    },
    "id": "DDUYrDzpmD2t",
    "outputId": "453062fd-b278-4ced-f7e2-f903a0067358",
    "papermill": {
     "duration": 0.183644,
     "end_time": "2024-01-30T05:30:56.306511",
     "exception": false,
     "start_time": "2024-01-30T05:30:56.122867",
     "status": "completed"
    },
    "tags": []
   },
   "outputs": [
    {
     "data": {
      "text/html": [
       "<div>\n",
       "<style scoped>\n",
       "    .dataframe tbody tr th:only-of-type {\n",
       "        vertical-align: middle;\n",
       "    }\n",
       "\n",
       "    .dataframe tbody tr th {\n",
       "        vertical-align: top;\n",
       "    }\n",
       "\n",
       "    .dataframe thead th {\n",
       "        text-align: right;\n",
       "    }\n",
       "</style>\n",
       "<table border=\"1\" class=\"dataframe\">\n",
       "  <thead>\n",
       "    <tr style=\"text-align: right;\">\n",
       "      <th></th>\n",
       "      <th>index</th>\n",
       "      <th>CreditScore</th>\n",
       "      <th>Age</th>\n",
       "      <th>Tenure</th>\n",
       "      <th>Balance</th>\n",
       "      <th>EstimatedSalary</th>\n",
       "      <th>Exited</th>\n",
       "      <th>SalaryToBalanceRatio</th>\n",
       "      <th>CreditCard_ActiveMember</th>\n",
       "      <th>ABPInteraction</th>\n",
       "      <th>TotalProductUsage</th>\n",
       "      <th>AgeAdjustedProductUsage</th>\n",
       "      <th>IsSenior</th>\n",
       "      <th>AgeGroup</th>\n",
       "      <th>BalanceCategory</th>\n",
       "      <th>CreditScoreCategory</th>\n",
       "      <th>TenureGroup</th>\n",
       "      <th>Geography_France</th>\n",
       "      <th>Geography_Germany</th>\n",
       "      <th>Geography_Spain</th>\n",
       "      <th>Gender_Female</th>\n",
       "      <th>Gender_Male</th>\n",
       "      <th>IsActiveMember_0.0</th>\n",
       "      <th>IsActiveMember_1.0</th>\n",
       "      <th>HasCrCard_0.0</th>\n",
       "      <th>HasCrCard_1.0</th>\n",
       "      <th>NumOfProducts_1</th>\n",
       "      <th>NumOfProducts_2</th>\n",
       "      <th>NumOfProducts_3</th>\n",
       "      <th>NumOfProducts_4</th>\n",
       "      <th>Geo_Gender_France_Female</th>\n",
       "      <th>Geo_Gender_France_Male</th>\n",
       "      <th>Geo_Gender_Germany_Female</th>\n",
       "      <th>Geo_Gender_Germany_Male</th>\n",
       "      <th>Geo_Gender_Spain_Female</th>\n",
       "      <th>Geo_Gender_Spain_Male</th>\n",
       "      <th>Customer_Status_Long-term</th>\n",
       "      <th>Customer_Status_New</th>\n",
       "    </tr>\n",
       "  </thead>\n",
       "  <tbody>\n",
       "    <tr>\n",
       "      <th>0</th>\n",
       "      <td>0</td>\n",
       "      <td>0.63600</td>\n",
       "      <td>0.20270</td>\n",
       "      <td>3</td>\n",
       "      <td>0.00000</td>\n",
       "      <td>0.90728</td>\n",
       "      <td>0.00000</td>\n",
       "      <td>0.90728</td>\n",
       "      <td>0.00000</td>\n",
       "      <td>0.00000</td>\n",
       "      <td>6</td>\n",
       "      <td>2.46667</td>\n",
       "      <td>0</td>\n",
       "      <td>0</td>\n",
       "      <td>1</td>\n",
       "      <td>0</td>\n",
       "      <td>1</td>\n",
       "      <td>True</td>\n",
       "      <td>False</td>\n",
       "      <td>False</td>\n",
       "      <td>False</td>\n",
       "      <td>True</td>\n",
       "      <td>True</td>\n",
       "      <td>False</td>\n",
       "      <td>False</td>\n",
       "      <td>True</td>\n",
       "      <td>False</td>\n",
       "      <td>True</td>\n",
       "      <td>False</td>\n",
       "      <td>False</td>\n",
       "      <td>False</td>\n",
       "      <td>True</td>\n",
       "      <td>False</td>\n",
       "      <td>False</td>\n",
       "      <td>False</td>\n",
       "      <td>False</td>\n",
       "      <td>True</td>\n",
       "      <td>False</td>\n",
       "    </tr>\n",
       "    <tr>\n",
       "      <th>1</th>\n",
       "      <td>1</td>\n",
       "      <td>0.55400</td>\n",
       "      <td>0.20270</td>\n",
       "      <td>1</td>\n",
       "      <td>0.00000</td>\n",
       "      <td>0.24748</td>\n",
       "      <td>0.00000</td>\n",
       "      <td>0.24748</td>\n",
       "      <td>1.00000</td>\n",
       "      <td>0.00000</td>\n",
       "      <td>2</td>\n",
       "      <td>4.93333</td>\n",
       "      <td>0</td>\n",
       "      <td>0</td>\n",
       "      <td>1</td>\n",
       "      <td>0</td>\n",
       "      <td>0</td>\n",
       "      <td>True</td>\n",
       "      <td>False</td>\n",
       "      <td>False</td>\n",
       "      <td>False</td>\n",
       "      <td>True</td>\n",
       "      <td>False</td>\n",
       "      <td>True</td>\n",
       "      <td>False</td>\n",
       "      <td>True</td>\n",
       "      <td>False</td>\n",
       "      <td>True</td>\n",
       "      <td>False</td>\n",
       "      <td>False</td>\n",
       "      <td>False</td>\n",
       "      <td>True</td>\n",
       "      <td>False</td>\n",
       "      <td>False</td>\n",
       "      <td>False</td>\n",
       "      <td>False</td>\n",
       "      <td>False</td>\n",
       "      <td>True</td>\n",
       "    </tr>\n",
       "    <tr>\n",
       "      <th>2</th>\n",
       "      <td>2</td>\n",
       "      <td>0.65600</td>\n",
       "      <td>0.29730</td>\n",
       "      <td>10</td>\n",
       "      <td>0.00000</td>\n",
       "      <td>0.92436</td>\n",
       "      <td>0.00000</td>\n",
       "      <td>0.92436</td>\n",
       "      <td>0.00000</td>\n",
       "      <td>0.00000</td>\n",
       "      <td>20</td>\n",
       "      <td>0.61157</td>\n",
       "      <td>0</td>\n",
       "      <td>0</td>\n",
       "      <td>1</td>\n",
       "      <td>0</td>\n",
       "      <td>3</td>\n",
       "      <td>True</td>\n",
       "      <td>False</td>\n",
       "      <td>False</td>\n",
       "      <td>False</td>\n",
       "      <td>True</td>\n",
       "      <td>True</td>\n",
       "      <td>False</td>\n",
       "      <td>False</td>\n",
       "      <td>True</td>\n",
       "      <td>False</td>\n",
       "      <td>True</td>\n",
       "      <td>False</td>\n",
       "      <td>False</td>\n",
       "      <td>False</td>\n",
       "      <td>True</td>\n",
       "      <td>False</td>\n",
       "      <td>False</td>\n",
       "      <td>False</td>\n",
       "      <td>False</td>\n",
       "      <td>True</td>\n",
       "      <td>False</td>\n",
       "    </tr>\n",
       "    <tr>\n",
       "      <th>3</th>\n",
       "      <td>3</td>\n",
       "      <td>0.46200</td>\n",
       "      <td>0.21622</td>\n",
       "      <td>2</td>\n",
       "      <td>0.59340</td>\n",
       "      <td>0.42279</td>\n",
       "      <td>0.00000</td>\n",
       "      <td>0.26534</td>\n",
       "      <td>1.00000</td>\n",
       "      <td>0.12830</td>\n",
       "      <td>2</td>\n",
       "      <td>1.54167</td>\n",
       "      <td>0</td>\n",
       "      <td>0</td>\n",
       "      <td>1</td>\n",
       "      <td>0</td>\n",
       "      <td>1</td>\n",
       "      <td>True</td>\n",
       "      <td>False</td>\n",
       "      <td>False</td>\n",
       "      <td>False</td>\n",
       "      <td>True</td>\n",
       "      <td>False</td>\n",
       "      <td>True</td>\n",
       "      <td>False</td>\n",
       "      <td>True</td>\n",
       "      <td>True</td>\n",
       "      <td>False</td>\n",
       "      <td>False</td>\n",
       "      <td>False</td>\n",
       "      <td>False</td>\n",
       "      <td>True</td>\n",
       "      <td>False</td>\n",
       "      <td>False</td>\n",
       "      <td>False</td>\n",
       "      <td>False</td>\n",
       "      <td>True</td>\n",
       "      <td>False</td>\n",
       "    </tr>\n",
       "    <tr>\n",
       "      <th>4</th>\n",
       "      <td>4</td>\n",
       "      <td>0.73200</td>\n",
       "      <td>0.20270</td>\n",
       "      <td>5</td>\n",
       "      <td>0.00000</td>\n",
       "      <td>0.07529</td>\n",
       "      <td>0.00000</td>\n",
       "      <td>0.07529</td>\n",
       "      <td>1.00000</td>\n",
       "      <td>0.00000</td>\n",
       "      <td>10</td>\n",
       "      <td>1.64444</td>\n",
       "      <td>0</td>\n",
       "      <td>0</td>\n",
       "      <td>1</td>\n",
       "      <td>0</td>\n",
       "      <td>2</td>\n",
       "      <td>False</td>\n",
       "      <td>False</td>\n",
       "      <td>True</td>\n",
       "      <td>False</td>\n",
       "      <td>True</td>\n",
       "      <td>False</td>\n",
       "      <td>True</td>\n",
       "      <td>False</td>\n",
       "      <td>True</td>\n",
       "      <td>False</td>\n",
       "      <td>True</td>\n",
       "      <td>False</td>\n",
       "      <td>False</td>\n",
       "      <td>False</td>\n",
       "      <td>False</td>\n",
       "      <td>False</td>\n",
       "      <td>False</td>\n",
       "      <td>False</td>\n",
       "      <td>True</td>\n",
       "      <td>True</td>\n",
       "      <td>False</td>\n",
       "    </tr>\n",
       "  </tbody>\n",
       "</table>\n",
       "</div>"
      ],
      "text/plain": [
       "   index  CreditScore     Age  Tenure  Balance  EstimatedSalary  Exited  \\\n",
       "0      0      0.63600 0.20270       3  0.00000          0.90728 0.00000   \n",
       "1      1      0.55400 0.20270       1  0.00000          0.24748 0.00000   \n",
       "2      2      0.65600 0.29730      10  0.00000          0.92436 0.00000   \n",
       "3      3      0.46200 0.21622       2  0.59340          0.42279 0.00000   \n",
       "4      4      0.73200 0.20270       5  0.00000          0.07529 0.00000   \n",
       "\n",
       "   SalaryToBalanceRatio  CreditCard_ActiveMember  ABPInteraction  \\\n",
       "0               0.90728                  0.00000         0.00000   \n",
       "1               0.24748                  1.00000         0.00000   \n",
       "2               0.92436                  0.00000         0.00000   \n",
       "3               0.26534                  1.00000         0.12830   \n",
       "4               0.07529                  1.00000         0.00000   \n",
       "\n",
       "   TotalProductUsage  AgeAdjustedProductUsage  IsSenior  AgeGroup  \\\n",
       "0                  6                  2.46667         0         0   \n",
       "1                  2                  4.93333         0         0   \n",
       "2                 20                  0.61157         0         0   \n",
       "3                  2                  1.54167         0         0   \n",
       "4                 10                  1.64444         0         0   \n",
       "\n",
       "   BalanceCategory  CreditScoreCategory  TenureGroup  Geography_France  \\\n",
       "0                1                    0            1              True   \n",
       "1                1                    0            0              True   \n",
       "2                1                    0            3              True   \n",
       "3                1                    0            1              True   \n",
       "4                1                    0            2             False   \n",
       "\n",
       "   Geography_Germany  Geography_Spain  Gender_Female  Gender_Male  \\\n",
       "0              False            False          False         True   \n",
       "1              False            False          False         True   \n",
       "2              False            False          False         True   \n",
       "3              False            False          False         True   \n",
       "4              False             True          False         True   \n",
       "\n",
       "   IsActiveMember_0.0  IsActiveMember_1.0  HasCrCard_0.0  HasCrCard_1.0  \\\n",
       "0                True               False          False           True   \n",
       "1               False                True          False           True   \n",
       "2                True               False          False           True   \n",
       "3               False                True          False           True   \n",
       "4               False                True          False           True   \n",
       "\n",
       "   NumOfProducts_1  NumOfProducts_2  NumOfProducts_3  NumOfProducts_4  \\\n",
       "0            False             True            False            False   \n",
       "1            False             True            False            False   \n",
       "2            False             True            False            False   \n",
       "3             True            False            False            False   \n",
       "4            False             True            False            False   \n",
       "\n",
       "   Geo_Gender_France_Female  Geo_Gender_France_Male  \\\n",
       "0                     False                    True   \n",
       "1                     False                    True   \n",
       "2                     False                    True   \n",
       "3                     False                    True   \n",
       "4                     False                   False   \n",
       "\n",
       "   Geo_Gender_Germany_Female  Geo_Gender_Germany_Male  \\\n",
       "0                      False                    False   \n",
       "1                      False                    False   \n",
       "2                      False                    False   \n",
       "3                      False                    False   \n",
       "4                      False                    False   \n",
       "\n",
       "   Geo_Gender_Spain_Female  Geo_Gender_Spain_Male  Customer_Status_Long-term  \\\n",
       "0                    False                  False                       True   \n",
       "1                    False                  False                      False   \n",
       "2                    False                  False                       True   \n",
       "3                    False                  False                       True   \n",
       "4                    False                   True                       True   \n",
       "\n",
       "   Customer_Status_New  \n",
       "0                False  \n",
       "1                 True  \n",
       "2                False  \n",
       "3                False  \n",
       "4                False  "
      ]
     },
     "execution_count": 16,
     "metadata": {},
     "output_type": "execute_result"
    }
   ],
   "source": [
    "train = df[:165034]\n",
    "test = df[165034:]\n",
    "\n",
    "train_x = train.drop(columns=[target_col])\n",
    "train_y = target\n",
    "test_x = test.drop(columns=[target_col])\n",
    "\n",
    "X = train_x.values\n",
    "y = train_y.values\n",
    "# y = y.astype(int)\n",
    "\n",
    "df.head()"
   ]
  },
  {
   "cell_type": "code",
   "execution_count": 17,
   "id": "a3a5998c",
   "metadata": {
    "execution": {
     "iopub.execute_input": "2024-01-30T05:30:56.325270Z",
     "iopub.status.busy": "2024-01-30T05:30:56.324325Z",
     "iopub.status.idle": "2024-01-30T05:30:58.406425Z",
     "shell.execute_reply": "2024-01-30T05:30:58.405110Z"
    },
    "id": "yIlQ3t2-mxBU",
    "papermill": {
     "duration": 2.093721,
     "end_time": "2024-01-30T05:30:58.408428",
     "exception": false,
     "start_time": "2024-01-30T05:30:56.314707",
     "status": "completed"
    },
    "tags": []
   },
   "outputs": [
    {
     "data": {
      "text/html": [
       "<div>\n",
       "<style scoped>\n",
       "    .dataframe tbody tr th:only-of-type {\n",
       "        vertical-align: middle;\n",
       "    }\n",
       "\n",
       "    .dataframe tbody tr th {\n",
       "        vertical-align: top;\n",
       "    }\n",
       "\n",
       "    .dataframe thead th {\n",
       "        text-align: right;\n",
       "    }\n",
       "</style>\n",
       "<table border=\"1\" class=\"dataframe\">\n",
       "  <thead>\n",
       "    <tr style=\"text-align: right;\">\n",
       "      <th></th>\n",
       "      <th>importance</th>\n",
       "    </tr>\n",
       "  </thead>\n",
       "  <tbody>\n",
       "    <tr>\n",
       "      <th>IsSenior</th>\n",
       "      <td>0</td>\n",
       "    </tr>\n",
       "    <tr>\n",
       "      <th>AgeGroup</th>\n",
       "      <td>0</td>\n",
       "    </tr>\n",
       "    <tr>\n",
       "      <th>BalanceCategory</th>\n",
       "      <td>0</td>\n",
       "    </tr>\n",
       "    <tr>\n",
       "      <th>CreditScoreCategory</th>\n",
       "      <td>0</td>\n",
       "    </tr>\n",
       "    <tr>\n",
       "      <th>TenureGroup</th>\n",
       "      <td>0</td>\n",
       "    </tr>\n",
       "    <tr>\n",
       "      <th>CreditCard_ActiveMember</th>\n",
       "      <td>95</td>\n",
       "    </tr>\n",
       "    <tr>\n",
       "      <th>SalaryToBalanceRatio</th>\n",
       "      <td>161</td>\n",
       "    </tr>\n",
       "    <tr>\n",
       "      <th>index</th>\n",
       "      <td>179</td>\n",
       "    </tr>\n",
       "    <tr>\n",
       "      <th>EstimatedSalary</th>\n",
       "      <td>181</td>\n",
       "    </tr>\n",
       "    <tr>\n",
       "      <th>ABPInteraction</th>\n",
       "      <td>204</td>\n",
       "    </tr>\n",
       "    <tr>\n",
       "      <th>Tenure</th>\n",
       "      <td>215</td>\n",
       "    </tr>\n",
       "    <tr>\n",
       "      <th>CreditScore</th>\n",
       "      <td>289</td>\n",
       "    </tr>\n",
       "    <tr>\n",
       "      <th>Balance</th>\n",
       "      <td>320</td>\n",
       "    </tr>\n",
       "    <tr>\n",
       "      <th>Age</th>\n",
       "      <td>385</td>\n",
       "    </tr>\n",
       "    <tr>\n",
       "      <th>TotalProductUsage</th>\n",
       "      <td>483</td>\n",
       "    </tr>\n",
       "    <tr>\n",
       "      <th>AgeAdjustedProductUsage</th>\n",
       "      <td>488</td>\n",
       "    </tr>\n",
       "  </tbody>\n",
       "</table>\n",
       "</div>"
      ],
      "text/plain": [
       "                         importance\n",
       "IsSenior                          0\n",
       "AgeGroup                          0\n",
       "BalanceCategory                   0\n",
       "CreditScoreCategory               0\n",
       "TenureGroup                       0\n",
       "CreditCard_ActiveMember          95\n",
       "SalaryToBalanceRatio            161\n",
       "index                           179\n",
       "EstimatedSalary                 181\n",
       "ABPInteraction                  204\n",
       "Tenure                          215\n",
       "CreditScore                     289\n",
       "Balance                         320\n",
       "Age                             385\n",
       "TotalProductUsage               483\n",
       "AgeAdjustedProductUsage         488"
      ]
     },
     "execution_count": 17,
     "metadata": {},
     "output_type": "execute_result"
    }
   ],
   "source": [
    "# 特徴量の重要度評価\n",
    "train_importance = train\n",
    "feature_importance = feature_importance_evaluation(train_importance)\n",
    "feature_importance"
   ]
  },
  {
   "cell_type": "code",
   "execution_count": 18,
   "id": "fbfde4aa",
   "metadata": {
    "execution": {
     "iopub.execute_input": "2024-01-30T05:30:58.427744Z",
     "iopub.status.busy": "2024-01-30T05:30:58.427239Z",
     "iopub.status.idle": "2024-01-30T05:30:58.884349Z",
     "shell.execute_reply": "2024-01-30T05:30:58.883115Z"
    },
    "id": "kUDkAd58nOmV",
    "papermill": {
     "duration": 0.469594,
     "end_time": "2024-01-30T05:30:58.886855",
     "exception": false,
     "start_time": "2024-01-30T05:30:58.417261",
     "status": "completed"
    },
    "tags": []
   },
   "outputs": [
    {
     "data": {
      "text/plain": [
       "<Axes: >"
      ]
     },
     "execution_count": 18,
     "metadata": {},
     "output_type": "execute_result"
    },
    {
     "data": {
      "image/png": "[encoded data removed]",
      "text/plain": [
       "<Figure size 1000x1500 with 1 Axes>"
      ]
     },
     "metadata": {},
     "output_type": "display_data"
    }
   ],
   "source": [
    "feature_importance.plot(kind='barh', figsize=(10, 15), color='b')"
   ]
  },
  {
   "cell_type": "code",
   "execution_count": 19,
   "id": "dc04fc4d",
   "metadata": {
    "execution": {
     "iopub.execute_input": "2024-01-30T05:30:58.908059Z",
     "iopub.status.busy": "2024-01-30T05:30:58.907674Z",
     "iopub.status.idle": "2024-01-30T05:31:02.109525Z",
     "shell.execute_reply": "2024-01-30T05:31:02.108432Z"
    },
    "id": "DVYEwrPUnW9Q",
    "papermill": {
     "duration": 3.214866,
     "end_time": "2024-01-30T05:31:02.111589",
     "exception": false,
     "start_time": "2024-01-30T05:30:58.896723",
     "status": "completed"
    },
    "tags": []
   },
   "outputs": [],
   "source": [
    "df.to_csv(OUTPUT_DIR + 'data.csv', index=False)"
   ]
  },
  {
   "cell_type": "code",
   "execution_count": 20,
   "id": "288414d8",
   "metadata": {
    "execution": {
     "iopub.execute_input": "2024-01-30T05:31:02.132359Z",
     "iopub.status.busy": "2024-01-30T05:31:02.131940Z",
     "iopub.status.idle": "2024-01-30T05:31:02.140277Z",
     "shell.execute_reply": "2024-01-30T05:31:02.138727Z"
    },
    "id": "zxBoX1zbnYUl",
    "papermill": {
     "duration": 0.02193,
     "end_time": "2024-01-30T05:31:02.143291",
     "exception": false,
     "start_time": "2024-01-30T05:31:02.121361",
     "status": "completed"
    },
    "tags": []
   },
   "outputs": [],
   "source": [
    "def file_to_xy(filename):\n",
    "    data = pd.read_csv(filename, index_col=0)\n",
    "    print(f'読み込み完了 {filename}')\n",
    "    train = data[:165034].reset_index(drop=True)\n",
    "    test = data[165034:].reset_index(drop=True).drop(target_col, axis=1) # 目的変数を指定する\n",
    "    # 目的変数と説明変数に分割\n",
    "    X = train.drop([target_col], axis=1) # 目的変数を指定する\n",
    "    y = train[target_col].values # 目的変数を指定する\n",
    "\n",
    "    return data,test,train,X,y"
   ]
  },
  {
   "cell_type": "code",
   "execution_count": 21,
   "id": "a740dc8e",
   "metadata": {
    "execution": {
     "iopub.execute_input": "2024-01-30T05:31:02.163700Z",
     "iopub.status.busy": "2024-01-30T05:31:02.163312Z",
     "iopub.status.idle": "2024-01-30T05:31:02.925534Z",
     "shell.execute_reply": "2024-01-30T05:31:02.924549Z"
    },
    "id": "DRZhqQjJnfme",
    "outputId": "9cf6043d-315f-4fb6-908b-a67297884126",
    "papermill": {
     "duration": 0.774535,
     "end_time": "2024-01-30T05:31:02.927227",
     "exception": false,
     "start_time": "2024-01-30T05:31:02.152692",
     "status": "completed"
    },
    "tags": []
   },
   "outputs": [
    {
     "name": "stdout",
     "output_type": "stream",
     "text": [
      "読み込み完了 /kaggle/working/data.csv\n"
     ]
    }
   ],
   "source": [
    "filename = 'data.csv'\n",
    "data,test,train,X,y = file_to_xy(OUTPUT_DIR + filename)"
   ]
  },
  {
   "cell_type": "code",
   "execution_count": null,
   "id": "1d7287c0",
   "metadata": {
    "papermill": {
     "duration": 0.008953,
     "end_time": "2024-01-30T05:31:02.945534",
     "exception": false,
     "start_time": "2024-01-30T05:31:02.936581",
     "status": "completed"
    },
    "tags": []
   },
   "outputs": [],
   "source": []
  }
 ],
 "metadata": {
  "colab": {
   "provenance": []
  },
  "kaggle": {
   "accelerator": "none",
   "dataSources": [
    {
     "databundleVersionId": 7405009,
     "sourceId": 65711,
     "sourceType": "competition"
    }
   ],
   "dockerImageVersionId": 30635,
   "isGpuEnabled": false,
   "isInternetEnabled": true,
   "language": "python",
   "sourceType": "notebook"
  },
  "kernelspec": {
   "display_name": "Python 3",
   "language": "python",
   "name": "python3"
  },
  "language_info": {
   "codemirror_mode": {
    "name": "ipython",
    "version": 3
   },
   "file_extension": ".py",
   "mimetype": "text/x-python",
   "name": "python",
   "nbconvert_exporter": "python",
   "pygments_lexer": "ipython3",
   "version": "3.10.12"
  },
  "papermill": {
   "default_parameters": {},
   "duration": 15.505843,
   "end_time": "2024-01-30T05:31:03.675228",
   "environment_variables": {},
   "exception": null,
   "input_path": "__notebook__.ipynb",
   "output_path": "__notebook__.ipynb",
   "parameters": {},
   "start_time": "2024-01-30T05:30:48.169385",
   "version": "2.4.0"
  }
 },
 "nbformat": 4,
 "nbformat_minor": 5
}

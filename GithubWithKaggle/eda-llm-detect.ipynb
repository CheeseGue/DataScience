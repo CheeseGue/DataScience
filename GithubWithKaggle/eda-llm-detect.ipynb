{
 "cells": [
  {
   "cell_type": "markdown",
   "id": "c7efed73",
   "metadata": {
    "papermill": {
     "duration": 0.011526,
     "end_time": "2023-12-29T01:24:46.341605",
     "exception": false,
     "start_time": "2023-12-29T01:24:46.330079",
     "status": "completed"
    },
    "tags": []
   },
   "source": [
    "# **LLM - AI 生成テキストの検出**\n",
    "どのエッセイが大規模な言語モデルによって書かれたのかを特定する  \n",
    "LLM - Detect AI Generated Text  </br>(https://www.kaggle.com/competitions/llm-detect-ai-generated-text)"
   ]
  },
  {
   "cell_type": "code",
   "execution_count": 1,
   "id": "66e6f5b8",
   "metadata": {
    "_cell_guid": "b1076dfc-b9ad-4769-8c92-a6c4dae69d19",
    "_uuid": "8f2839f25d086af736a60e9eeb907d3b93b6e0e5",
    "execution": {
     "iopub.execute_input": "2023-12-29T01:24:46.366937Z",
     "iopub.status.busy": "2023-12-29T01:24:46.365386Z",
     "iopub.status.idle": "2023-12-29T01:24:47.365456Z",
     "shell.execute_reply": "2023-12-29T01:24:47.364027Z"
    },
    "papermill": {
     "duration": 1.016029,
     "end_time": "2023-12-29T01:24:47.368783",
     "exception": false,
     "start_time": "2023-12-29T01:24:46.352754",
     "status": "completed"
    },
    "tags": []
   },
   "outputs": [
    {
     "name": "stdout",
     "output_type": "stream",
     "text": [
      "/kaggle/input/llm-detect-ai-generated-text/sample_submission.csv\n",
      "/kaggle/input/llm-detect-ai-generated-text/train_prompts.csv\n",
      "/kaggle/input/llm-detect-ai-generated-text/test_essays.csv\n",
      "/kaggle/input/llm-detect-ai-generated-text/train_essays.csv\n"
     ]
    }
   ],
   "source": [
    "# This Python 3 environment comes with many helpful analytics libraries installed\n",
    "# It is defined by the kaggle/python Docker image: https://github.com/kaggle/docker-python\n",
    "# For example, here's several helpful packages to load\n",
    "\n",
    "import numpy as np # linear algebra\n",
    "import pandas as pd # data processing, CSV file I/O (e.g. pd.read_csv)\n",
    "\n",
    "# Input data files are available in the read-only \"../input/\" directory\n",
    "# For example, running this (by clicking run or pressing Shift+Enter) will list all files under the input directory\n",
    "\n",
    "import os\n",
    "for dirname, _, filenames in os.walk('/kaggle/input'):\n",
    "    for filename in filenames:\n",
    "        print(os.path.join(dirname, filename))\n",
    "\n",
    "# You can write up to 20GB to the current directory (/kaggle/working/) that gets preserved as output when you create a version using \"Save & Run All\" \n",
    "# You can also write temporary files to /kaggle/temp/, but they won't be saved outside of the current session"
   ]
  },
  {
   "cell_type": "markdown",
   "id": "4d2a80d9",
   "metadata": {
    "papermill": {
     "duration": 0.011431,
     "end_time": "2023-12-29T01:24:47.392099",
     "exception": false,
     "start_time": "2023-12-29T01:24:47.380668",
     "status": "completed"
    },
    "tags": []
   },
   "source": [
    "# 参考資料\n",
    "**書籍**\n",
    "\n",
    "**Kaggle**\n",
    "- [AI or Not AI? Delving Into Essays with EDA](https://www.kaggle.com/code/pamin2222/ai-or-not-ai-delving-into-essays-with-eda/notebook)\n",
    "\n",
    "**記事**\n",
    "\n",
    "**自分で作成したファイル**\n",
    "- モース硬度データセットを使用した回帰\n",
    "- 生体信号を使用した喫煙者の状態のバイナリ予測\n",
    "- ソフトウェア欠陥データセットによるバイナリ分類\n",
    "- 肝硬変の転帰の多クラス予測\n",
    "- 馬の健康への影響を予測する"
   ]
  },
  {
   "cell_type": "markdown",
   "id": "1eaf0b7a",
   "metadata": {
    "papermill": {
     "duration": 0.010765,
     "end_time": "2023-12-29T01:24:47.413932",
     "exception": false,
     "start_time": "2023-12-29T01:24:47.403167",
     "status": "completed"
    },
    "tags": []
   },
   "source": [
    "# ライブラリ・データセットのインポート"
   ]
  },
  {
   "cell_type": "code",
   "execution_count": 2,
   "id": "f0c3e9b4",
   "metadata": {
    "execution": {
     "iopub.execute_input": "2023-12-29T01:24:47.437971Z",
     "iopub.status.busy": "2023-12-29T01:24:47.437405Z",
     "iopub.status.idle": "2023-12-29T01:25:19.555666Z",
     "shell.execute_reply": "2023-12-29T01:25:19.554568Z"
    },
    "papermill": {
     "duration": 32.133614,
     "end_time": "2023-12-29T01:25:19.558612",
     "exception": false,
     "start_time": "2023-12-29T01:24:47.424998",
     "status": "completed"
    },
    "tags": []
   },
   "outputs": [
    {
     "name": "stdout",
     "output_type": "stream",
     "text": [
      "Collecting sweetviz\r\n",
      "  Obtaining dependency information for sweetviz from https://files.pythonhosted.org/packages/89/50/8d3f7ca820267a38b42c64778db0f186d85cec6e3f0c5210eab9c16e783f/sweetviz-2.3.1-py3-none-any.whl.metadata\r\n",
      "  Downloading sweetviz-2.3.1-py3-none-any.whl.metadata (24 kB)\r\n",
      "Requirement already satisfied: pandas!=1.0.0,!=1.0.1,!=1.0.2,>=0.25.3 in /opt/conda/lib/python3.10/site-packages (from sweetviz) (2.0.3)\r\n",
      "Requirement already satisfied: numpy>=1.16.0 in /opt/conda/lib/python3.10/site-packages (from sweetviz) (1.24.3)\r\n",
      "Requirement already satisfied: matplotlib>=3.1.3 in /opt/conda/lib/python3.10/site-packages (from sweetviz) (3.7.4)\r\n",
      "Requirement already satisfied: tqdm>=4.43.0 in /opt/conda/lib/python3.10/site-packages (from sweetviz) (4.66.1)\r\n",
      "Requirement already satisfied: scipy>=1.3.2 in /opt/conda/lib/python3.10/site-packages (from sweetviz) (1.11.4)\r\n",
      "Requirement already satisfied: jinja2>=2.11.1 in /opt/conda/lib/python3.10/site-packages (from sweetviz) (3.1.2)\r\n",
      "Requirement already satisfied: importlib-resources>=1.2.0 in /opt/conda/lib/python3.10/site-packages (from sweetviz) (5.13.0)\r\n",
      "Requirement already satisfied: MarkupSafe>=2.0 in /opt/conda/lib/python3.10/site-packages (from jinja2>=2.11.1->sweetviz) (2.1.3)\r\n",
      "Requirement already satisfied: contourpy>=1.0.1 in /opt/conda/lib/python3.10/site-packages (from matplotlib>=3.1.3->sweetviz) (1.1.0)\r\n",
      "Requirement already satisfied: cycler>=0.10 in /opt/conda/lib/python3.10/site-packages (from matplotlib>=3.1.3->sweetviz) (0.11.0)\r\n",
      "Requirement already satisfied: fonttools>=4.22.0 in /opt/conda/lib/python3.10/site-packages (from matplotlib>=3.1.3->sweetviz) (4.42.1)\r\n",
      "Requirement already satisfied: kiwisolver>=1.0.1 in /opt/conda/lib/python3.10/site-packages (from matplotlib>=3.1.3->sweetviz) (1.4.4)\r\n",
      "Requirement already satisfied: packaging>=20.0 in /opt/conda/lib/python3.10/site-packages (from matplotlib>=3.1.3->sweetviz) (21.3)\r\n",
      "Requirement already satisfied: pillow>=6.2.0 in /opt/conda/lib/python3.10/site-packages (from matplotlib>=3.1.3->sweetviz) (10.1.0)\r\n",
      "Requirement already satisfied: pyparsing>=2.3.1 in /opt/conda/lib/python3.10/site-packages (from matplotlib>=3.1.3->sweetviz) (3.0.9)\r\n",
      "Requirement already satisfied: python-dateutil>=2.7 in /opt/conda/lib/python3.10/site-packages (from matplotlib>=3.1.3->sweetviz) (2.8.2)\r\n",
      "Requirement already satisfied: pytz>=2020.1 in /opt/conda/lib/python3.10/site-packages (from pandas!=1.0.0,!=1.0.1,!=1.0.2,>=0.25.3->sweetviz) (2023.3)\r\n",
      "Requirement already satisfied: tzdata>=2022.1 in /opt/conda/lib/python3.10/site-packages (from pandas!=1.0.0,!=1.0.1,!=1.0.2,>=0.25.3->sweetviz) (2023.3)\r\n",
      "Requirement already satisfied: six>=1.5 in /opt/conda/lib/python3.10/site-packages (from python-dateutil>=2.7->matplotlib>=3.1.3->sweetviz) (1.16.0)\r\n",
      "Downloading sweetviz-2.3.1-py3-none-any.whl (15.1 MB)\r\n",
      "\u001b[2K   \u001b[90m━━━━━━━━━━━━━━━━━━━━━━━━━━━━━━━━━━━━━━━━\u001b[0m \u001b[32m15.1/15.1 MB\u001b[0m \u001b[31m54.6 MB/s\u001b[0m eta \u001b[36m0:00:00\u001b[0m\r\n",
      "\u001b[?25hInstalling collected packages: sweetviz\r\n",
      "Successfully installed sweetviz-2.3.1\r\n",
      "Requirement already satisfied: category_encoders in /opt/conda/lib/python3.10/site-packages (2.6.3)\r\n",
      "Requirement already satisfied: numpy>=1.14.0 in /opt/conda/lib/python3.10/site-packages (from category_encoders) (1.24.3)\r\n",
      "Requirement already satisfied: scikit-learn>=0.20.0 in /opt/conda/lib/python3.10/site-packages (from category_encoders) (1.2.2)\r\n",
      "Requirement already satisfied: scipy>=1.0.0 in /opt/conda/lib/python3.10/site-packages (from category_encoders) (1.11.4)\r\n",
      "Requirement already satisfied: statsmodels>=0.9.0 in /opt/conda/lib/python3.10/site-packages (from category_encoders) (0.14.0)\r\n",
      "Requirement already satisfied: pandas>=1.0.5 in /opt/conda/lib/python3.10/site-packages (from category_encoders) (2.0.3)\r\n",
      "Requirement already satisfied: patsy>=0.5.1 in /opt/conda/lib/python3.10/site-packages (from category_encoders) (0.5.3)\r\n",
      "Requirement already satisfied: python-dateutil>=2.8.2 in /opt/conda/lib/python3.10/site-packages (from pandas>=1.0.5->category_encoders) (2.8.2)\r\n",
      "Requirement already satisfied: pytz>=2020.1 in /opt/conda/lib/python3.10/site-packages (from pandas>=1.0.5->category_encoders) (2023.3)\r\n",
      "Requirement already satisfied: tzdata>=2022.1 in /opt/conda/lib/python3.10/site-packages (from pandas>=1.0.5->category_encoders) (2023.3)\r\n",
      "Requirement already satisfied: six in /opt/conda/lib/python3.10/site-packages (from patsy>=0.5.1->category_encoders) (1.16.0)\r\n",
      "Requirement already satisfied: joblib>=1.1.1 in /opt/conda/lib/python3.10/site-packages (from scikit-learn>=0.20.0->category_encoders) (1.3.2)\r\n",
      "Requirement already satisfied: threadpoolctl>=2.0.0 in /opt/conda/lib/python3.10/site-packages (from scikit-learn>=0.20.0->category_encoders) (3.2.0)\r\n",
      "Requirement already satisfied: packaging>=21.3 in /opt/conda/lib/python3.10/site-packages (from statsmodels>=0.9.0->category_encoders) (21.3)\r\n",
      "Requirement already satisfied: pyparsing!=3.0.5,>=2.0.2 in /opt/conda/lib/python3.10/site-packages (from packaging>=21.3->statsmodels>=0.9.0->category_encoders) (3.0.9)\r\n"
     ]
    }
   ],
   "source": [
    "!pip install sweetviz\n",
    "!pip install category_encoders"
   ]
  },
  {
   "cell_type": "code",
   "execution_count": 3,
   "id": "2724caeb",
   "metadata": {
    "execution": {
     "iopub.execute_input": "2023-12-29T01:25:19.586947Z",
     "iopub.status.busy": "2023-12-29T01:25:19.586108Z",
     "iopub.status.idle": "2023-12-29T01:25:22.348282Z",
     "shell.execute_reply": "2023-12-29T01:25:22.347330Z"
    },
    "papermill": {
     "duration": 2.779401,
     "end_time": "2023-12-29T01:25:22.351102",
     "exception": false,
     "start_time": "2023-12-29T01:25:19.571701",
     "status": "completed"
    },
    "tags": []
   },
   "outputs": [],
   "source": [
    "import pandas as pd\n",
    "import numpy as np\n",
    "from scipy import stats\n",
    "from scipy.stats import norm, skew\n",
    "\n",
    "import matplotlib.pyplot as plt\n",
    "import seaborn as sns\n",
    "\n",
    "import plotly.express as px\n",
    "from IPython.display import display\n",
    "import sweetviz as sv\n",
    "\n",
    "import warnings; warnings.filterwarnings(\"ignore\")\n",
    "\n",
    "pd.options.display.float_format = '{:.5f}'.format\n",
    "pd.set_option('display.max_columns', None)\n",
    "pd.set_option('display.max_rows', None)\n",
    "plt.style.use('ggplot')"
   ]
  },
  {
   "cell_type": "code",
   "execution_count": 4,
   "id": "a12ca125",
   "metadata": {
    "execution": {
     "iopub.execute_input": "2023-12-29T01:25:22.378799Z",
     "iopub.status.busy": "2023-12-29T01:25:22.378099Z",
     "iopub.status.idle": "2023-12-29T01:25:24.533943Z",
     "shell.execute_reply": "2023-12-29T01:25:24.532592Z"
    },
    "papermill": {
     "duration": 2.173146,
     "end_time": "2023-12-29T01:25:24.537055",
     "exception": false,
     "start_time": "2023-12-29T01:25:22.363909",
     "status": "completed"
    },
    "tags": []
   },
   "outputs": [],
   "source": [
    "from scipy.cluster.hierarchy import dendrogram, linkage\n",
    "from scipy.spatial.distance import squareform\n",
    "import missingno as msno\n",
    "\n",
    "from sklearn.preprocessing import LabelEncoder\n",
    "from lightgbm import LGBMClassifier # 特徴量の重要度評価で用いる\n",
    "\n",
    "# 敵対性の検証で用いる\n",
    "from category_encoders import OneHotEncoder\n",
    "from sklearn.model_selection import  StratifiedKFold\n",
    "from sklearn.metrics import roc_auc_score, roc_curve\n",
    "from sklearn.pipeline import make_pipeline\n",
    "from xgboost import XGBClassifier"
   ]
  },
  {
   "cell_type": "markdown",
   "id": "8a1f46e5",
   "metadata": {
    "papermill": {
     "duration": 0.012584,
     "end_time": "2023-12-29T01:25:24.563137",
     "exception": false,
     "start_time": "2023-12-29T01:25:24.550553",
     "status": "completed"
    },
    "tags": []
   },
   "source": [
    "## 実行時間を調べるために使う"
   ]
  },
  {
   "cell_type": "code",
   "execution_count": 5,
   "id": "c669970d",
   "metadata": {
    "execution": {
     "iopub.execute_input": "2023-12-29T01:25:24.590696Z",
     "iopub.status.busy": "2023-12-29T01:25:24.589953Z",
     "iopub.status.idle": "2023-12-29T01:25:24.597618Z",
     "shell.execute_reply": "2023-12-29T01:25:24.596674Z"
    },
    "papermill": {
     "duration": 0.023791,
     "end_time": "2023-12-29T01:25:24.599759",
     "exception": false,
     "start_time": "2023-12-29T01:25:24.575968",
     "status": "completed"
    },
    "tags": []
   },
   "outputs": [],
   "source": [
    "import datetime\n",
    "import time\n",
    "import math\n",
    "\n",
    "start_time = time.time()\n",
    "\n",
    "def changeHMS(s):\n",
    "    h = math.floor(s / 3600)\n",
    "    if h > 0:\n",
    "        s = s - h * 3600\n",
    "        indi_h = str(h) + 'h'\n",
    "    else:\n",
    "        indi_h = ''\n",
    "    m = math.floor(s / 60)\n",
    "    if m > 0:\n",
    "        indi_m = str(m) + 'm'\n",
    "    else:\n",
    "        indi_m = ''\n",
    "    s = math.floor(s % 60)\n",
    "    time = indi_h + indi_m + str(s) + 's'\n",
    "    return time"
   ]
  },
  {
   "cell_type": "code",
   "execution_count": 6,
   "id": "539a813d",
   "metadata": {
    "execution": {
     "iopub.execute_input": "2023-12-29T01:25:24.627459Z",
     "iopub.status.busy": "2023-12-29T01:25:24.626694Z",
     "iopub.status.idle": "2023-12-29T01:25:24.737787Z",
     "shell.execute_reply": "2023-12-29T01:25:24.736347Z"
    },
    "papermill": {
     "duration": 0.128496,
     "end_time": "2023-12-29T01:25:24.740904",
     "exception": false,
     "start_time": "2023-12-29T01:25:24.612408",
     "status": "completed"
    },
    "tags": []
   },
   "outputs": [],
   "source": [
    "FILE_PATH = '/kaggle/input/llm-detect-ai-generated-text/'\n",
    "OUTPUT_DIR = '/kaggle/working/'\n",
    "\n",
    "train_essays = pd.read_csv(FILE_PATH + 'train_essays.csv')\n",
    "test = pd.read_csv(FILE_PATH + 'test_essays.csv')\n",
    "train_prompts = pd.read_csv(FILE_PATH + 'train_prompts.csv')"
   ]
  },
  {
   "cell_type": "code",
   "execution_count": 7,
   "id": "0a0cfd65",
   "metadata": {
    "execution": {
     "iopub.execute_input": "2023-12-29T01:25:24.768667Z",
     "iopub.status.busy": "2023-12-29T01:25:24.768176Z",
     "iopub.status.idle": "2023-12-29T01:25:24.787374Z",
     "shell.execute_reply": "2023-12-29T01:25:24.786362Z"
    },
    "papermill": {
     "duration": 0.035902,
     "end_time": "2023-12-29T01:25:24.789889",
     "exception": false,
     "start_time": "2023-12-29T01:25:24.753987",
     "status": "completed"
    },
    "tags": []
   },
   "outputs": [
    {
     "name": "stdout",
     "output_type": "stream",
     "text": [
      "['generated']\n"
     ]
    }
   ],
   "source": [
    "target = train_essays['generated']\n",
    "target_col = 'generated'\n",
    "target_name = str(train_essays.iloc[:, [3]].columns.tolist())\n",
    "print(target_name)"
   ]
  },
  {
   "cell_type": "markdown",
   "id": "a8fd0466",
   "metadata": {
    "papermill": {
     "duration": 0.012555,
     "end_time": "2023-12-29T01:25:24.816253",
     "exception": false,
     "start_time": "2023-12-29T01:25:24.803698",
     "status": "completed"
    },
    "tags": []
   },
   "source": [
    "## データ(DataFrame)の構成を調べる"
   ]
  },
  {
   "cell_type": "code",
   "execution_count": 8,
   "id": "f672f5fb",
   "metadata": {
    "execution": {
     "iopub.execute_input": "2023-12-29T01:25:24.844293Z",
     "iopub.status.busy": "2023-12-29T01:25:24.843869Z",
     "iopub.status.idle": "2023-12-29T01:25:24.864045Z",
     "shell.execute_reply": "2023-12-29T01:25:24.863017Z"
    },
    "papermill": {
     "duration": 0.037311,
     "end_time": "2023-12-29T01:25:24.866636",
     "exception": false,
     "start_time": "2023-12-29T01:25:24.829325",
     "status": "completed"
    },
    "tags": []
   },
   "outputs": [
    {
     "data": {
      "text/html": [
       "<div>\n",
       "<style scoped>\n",
       "    .dataframe tbody tr th:only-of-type {\n",
       "        vertical-align: middle;\n",
       "    }\n",
       "\n",
       "    .dataframe tbody tr th {\n",
       "        vertical-align: top;\n",
       "    }\n",
       "\n",
       "    .dataframe thead th {\n",
       "        text-align: right;\n",
       "    }\n",
       "</style>\n",
       "<table border=\"1\" class=\"dataframe\">\n",
       "  <thead>\n",
       "    <tr style=\"text-align: right;\">\n",
       "      <th></th>\n",
       "      <th>id</th>\n",
       "      <th>prompt_id</th>\n",
       "      <th>text</th>\n",
       "      <th>generated</th>\n",
       "    </tr>\n",
       "  </thead>\n",
       "  <tbody>\n",
       "    <tr>\n",
       "      <th>0</th>\n",
       "      <td>0059830c</td>\n",
       "      <td>0</td>\n",
       "      <td>Cars. Cars have been around since they became ...</td>\n",
       "      <td>0</td>\n",
       "    </tr>\n",
       "    <tr>\n",
       "      <th>1</th>\n",
       "      <td>005db917</td>\n",
       "      <td>0</td>\n",
       "      <td>Transportation is a large necessity in most co...</td>\n",
       "      <td>0</td>\n",
       "    </tr>\n",
       "    <tr>\n",
       "      <th>2</th>\n",
       "      <td>008f63e3</td>\n",
       "      <td>0</td>\n",
       "      <td>\"America's love affair with it's vehicles seem...</td>\n",
       "      <td>0</td>\n",
       "    </tr>\n",
       "    <tr>\n",
       "      <th>3</th>\n",
       "      <td>00940276</td>\n",
       "      <td>0</td>\n",
       "      <td>How often do you ride in a car? Do you drive a...</td>\n",
       "      <td>0</td>\n",
       "    </tr>\n",
       "    <tr>\n",
       "      <th>4</th>\n",
       "      <td>00c39458</td>\n",
       "      <td>0</td>\n",
       "      <td>Cars are a wonderful thing. They are perhaps o...</td>\n",
       "      <td>0</td>\n",
       "    </tr>\n",
       "  </tbody>\n",
       "</table>\n",
       "</div>"
      ],
      "text/plain": [
       "         id  prompt_id                                               text  \\\n",
       "0  0059830c          0  Cars. Cars have been around since they became ...   \n",
       "1  005db917          0  Transportation is a large necessity in most co...   \n",
       "2  008f63e3          0  \"America's love affair with it's vehicles seem...   \n",
       "3  00940276          0  How often do you ride in a car? Do you drive a...   \n",
       "4  00c39458          0  Cars are a wonderful thing. They are perhaps o...   \n",
       "\n",
       "   generated  \n",
       "0          0  \n",
       "1          0  \n",
       "2          0  \n",
       "3          0  \n",
       "4          0  "
      ]
     },
     "execution_count": 8,
     "metadata": {},
     "output_type": "execute_result"
    }
   ],
   "source": [
    "train_essays.head()"
   ]
  },
  {
   "cell_type": "code",
   "execution_count": 9,
   "id": "d83ad081",
   "metadata": {
    "execution": {
     "iopub.execute_input": "2023-12-29T01:25:24.897540Z",
     "iopub.status.busy": "2023-12-29T01:25:24.896677Z",
     "iopub.status.idle": "2023-12-29T01:25:24.908791Z",
     "shell.execute_reply": "2023-12-29T01:25:24.907483Z"
    },
    "papermill": {
     "duration": 0.031815,
     "end_time": "2023-12-29T01:25:24.911602",
     "exception": false,
     "start_time": "2023-12-29T01:25:24.879787",
     "status": "completed"
    },
    "tags": []
   },
   "outputs": [
    {
     "data": {
      "text/html": [
       "<div>\n",
       "<style scoped>\n",
       "    .dataframe tbody tr th:only-of-type {\n",
       "        vertical-align: middle;\n",
       "    }\n",
       "\n",
       "    .dataframe tbody tr th {\n",
       "        vertical-align: top;\n",
       "    }\n",
       "\n",
       "    .dataframe thead th {\n",
       "        text-align: right;\n",
       "    }\n",
       "</style>\n",
       "<table border=\"1\" class=\"dataframe\">\n",
       "  <thead>\n",
       "    <tr style=\"text-align: right;\">\n",
       "      <th></th>\n",
       "      <th>id</th>\n",
       "      <th>prompt_id</th>\n",
       "      <th>text</th>\n",
       "    </tr>\n",
       "  </thead>\n",
       "  <tbody>\n",
       "    <tr>\n",
       "      <th>0</th>\n",
       "      <td>0000aaaa</td>\n",
       "      <td>2</td>\n",
       "      <td>Aaa bbb ccc.</td>\n",
       "    </tr>\n",
       "    <tr>\n",
       "      <th>1</th>\n",
       "      <td>1111bbbb</td>\n",
       "      <td>3</td>\n",
       "      <td>Bbb ccc ddd.</td>\n",
       "    </tr>\n",
       "    <tr>\n",
       "      <th>2</th>\n",
       "      <td>2222cccc</td>\n",
       "      <td>4</td>\n",
       "      <td>CCC ddd eee.</td>\n",
       "    </tr>\n",
       "  </tbody>\n",
       "</table>\n",
       "</div>"
      ],
      "text/plain": [
       "         id  prompt_id          text\n",
       "0  0000aaaa          2  Aaa bbb ccc.\n",
       "1  1111bbbb          3  Bbb ccc ddd.\n",
       "2  2222cccc          4  CCC ddd eee."
      ]
     },
     "execution_count": 9,
     "metadata": {},
     "output_type": "execute_result"
    }
   ],
   "source": [
    "test.head()"
   ]
  },
  {
   "cell_type": "code",
   "execution_count": 10,
   "id": "cc309cfd",
   "metadata": {
    "execution": {
     "iopub.execute_input": "2023-12-29T01:25:24.941075Z",
     "iopub.status.busy": "2023-12-29T01:25:24.940676Z",
     "iopub.status.idle": "2023-12-29T01:25:24.953995Z",
     "shell.execute_reply": "2023-12-29T01:25:24.953112Z"
    },
    "papermill": {
     "duration": 0.031051,
     "end_time": "2023-12-29T01:25:24.956164",
     "exception": false,
     "start_time": "2023-12-29T01:25:24.925113",
     "status": "completed"
    },
    "tags": []
   },
   "outputs": [
    {
     "data": {
      "text/html": [
       "<div>\n",
       "<style scoped>\n",
       "    .dataframe tbody tr th:only-of-type {\n",
       "        vertical-align: middle;\n",
       "    }\n",
       "\n",
       "    .dataframe tbody tr th {\n",
       "        vertical-align: top;\n",
       "    }\n",
       "\n",
       "    .dataframe thead th {\n",
       "        text-align: right;\n",
       "    }\n",
       "</style>\n",
       "<table border=\"1\" class=\"dataframe\">\n",
       "  <thead>\n",
       "    <tr style=\"text-align: right;\">\n",
       "      <th></th>\n",
       "      <th>prompt_id</th>\n",
       "      <th>prompt_name</th>\n",
       "      <th>instructions</th>\n",
       "      <th>source_text</th>\n",
       "    </tr>\n",
       "  </thead>\n",
       "  <tbody>\n",
       "    <tr>\n",
       "      <th>0</th>\n",
       "      <td>0</td>\n",
       "      <td>Car-free cities</td>\n",
       "      <td>Write an explanatory essay to inform fellow ci...</td>\n",
       "      <td># In German Suburb, Life Goes On Without Cars ...</td>\n",
       "    </tr>\n",
       "    <tr>\n",
       "      <th>1</th>\n",
       "      <td>1</td>\n",
       "      <td>Does the electoral college work?</td>\n",
       "      <td>Write a letter to your state senator in which ...</td>\n",
       "      <td># What Is the Electoral College? by the Office...</td>\n",
       "    </tr>\n",
       "  </tbody>\n",
       "</table>\n",
       "</div>"
      ],
      "text/plain": [
       "   prompt_id                       prompt_name  \\\n",
       "0          0                   Car-free cities   \n",
       "1          1  Does the electoral college work?   \n",
       "\n",
       "                                        instructions  \\\n",
       "0  Write an explanatory essay to inform fellow ci...   \n",
       "1  Write a letter to your state senator in which ...   \n",
       "\n",
       "                                         source_text  \n",
       "0  # In German Suburb, Life Goes On Without Cars ...  \n",
       "1  # What Is the Electoral College? by the Office...  "
      ]
     },
     "execution_count": 10,
     "metadata": {},
     "output_type": "execute_result"
    }
   ],
   "source": [
    "train_prompts.head()"
   ]
  },
  {
   "cell_type": "code",
   "execution_count": 11,
   "id": "bbb23068",
   "metadata": {
    "execution": {
     "iopub.execute_input": "2023-12-29T01:25:24.986071Z",
     "iopub.status.busy": "2023-12-29T01:25:24.985624Z",
     "iopub.status.idle": "2023-12-29T01:25:25.024947Z",
     "shell.execute_reply": "2023-12-29T01:25:25.023386Z"
    },
    "papermill": {
     "duration": 0.058014,
     "end_time": "2023-12-29T01:25:25.027716",
     "exception": false,
     "start_time": "2023-12-29T01:25:24.969702",
     "status": "completed"
    },
    "tags": []
   },
   "outputs": [
    {
     "name": "stdout",
     "output_type": "stream",
     "text": [
      "train_essays: \n",
      "(1378, 4)\n",
      "<class 'pandas.core.frame.DataFrame'>\n",
      "RangeIndex: 1378 entries, 0 to 1377\n",
      "Data columns (total 4 columns):\n",
      " #   Column     Non-Null Count  Dtype \n",
      "---  ------     --------------  ----- \n",
      " 0   id         1378 non-null   object\n",
      " 1   prompt_id  1378 non-null   int64 \n",
      " 2   text       1378 non-null   object\n",
      " 3   generated  1378 non-null   int64 \n",
      "dtypes: int64(2), object(2)\n",
      "memory usage: 43.2+ KB\n",
      "None\n",
      "\n",
      "\n",
      "train_prompts: \n",
      "(2, 4)\n",
      "<class 'pandas.core.frame.DataFrame'>\n",
      "RangeIndex: 2 entries, 0 to 1\n",
      "Data columns (total 4 columns):\n",
      " #   Column        Non-Null Count  Dtype \n",
      "---  ------        --------------  ----- \n",
      " 0   prompt_id     2 non-null      int64 \n",
      " 1   prompt_name   2 non-null      object\n",
      " 2   instructions  2 non-null      object\n",
      " 3   source_text   2 non-null      object\n",
      "dtypes: int64(1), object(3)\n",
      "memory usage: 192.0+ bytes\n",
      "None\n",
      "\n",
      "\n",
      "test: \n",
      "(3, 3)\n",
      "<class 'pandas.core.frame.DataFrame'>\n",
      "RangeIndex: 3 entries, 0 to 2\n",
      "Data columns (total 3 columns):\n",
      " #   Column     Non-Null Count  Dtype \n",
      "---  ------     --------------  ----- \n",
      " 0   id         3 non-null      object\n",
      " 1   prompt_id  3 non-null      int64 \n",
      " 2   text       3 non-null      object\n",
      "dtypes: int64(1), object(2)\n",
      "memory usage: 200.0+ bytes\n",
      "None\n"
     ]
    }
   ],
   "source": [
    "print('train_essays: ')\n",
    "print(train_essays.shape)\n",
    "print(train_essays.info())\n",
    "print('\\n')\n",
    "print('train_prompts: ')\n",
    "print(train_prompts.shape)\n",
    "print(train_prompts.info())\n",
    "print('\\n')\n",
    "print('test: ')\n",
    "print(test.shape)\n",
    "print(test.info())"
   ]
  },
  {
   "cell_type": "code",
   "execution_count": 12,
   "id": "649a8a6e",
   "metadata": {
    "execution": {
     "iopub.execute_input": "2023-12-29T01:25:25.057638Z",
     "iopub.status.busy": "2023-12-29T01:25:25.057173Z",
     "iopub.status.idle": "2023-12-29T01:25:25.068373Z",
     "shell.execute_reply": "2023-12-29T01:25:25.066933Z"
    },
    "papermill": {
     "duration": 0.029419,
     "end_time": "2023-12-29T01:25:25.071198",
     "exception": false,
     "start_time": "2023-12-29T01:25:25.041779",
     "status": "completed"
    },
    "tags": []
   },
   "outputs": [
    {
     "name": "stdout",
     "output_type": "stream",
     "text": [
      "train: \n",
      "<class 'pandas.core.indexes.base.Index'>\n",
      "<class 'pandas.core.indexes.range.RangeIndex'>\n",
      "<class 'numpy.ndarray'>\n",
      "\n",
      "\n",
      "train: \n",
      "<class 'pandas.core.indexes.base.Index'>\n",
      "<class 'pandas.core.indexes.range.RangeIndex'>\n",
      "<class 'numpy.ndarray'>\n",
      "\n",
      "\n",
      "test: \n",
      "<class 'pandas.core.indexes.base.Index'>\n",
      "<class 'pandas.core.indexes.range.RangeIndex'>\n",
      "<class 'numpy.ndarray'>\n"
     ]
    }
   ],
   "source": [
    "train_essays_columns = train_essays.columns\n",
    "train_essays_index = train_essays.index\n",
    "train_essays_data = train_essays.values # values\n",
    "\n",
    "train_prompts_columns = train_prompts.columns\n",
    "train_prompts_index = train_prompts.index\n",
    "train_prompts_data = train_prompts.values # values\n",
    "\n",
    "test_columns = test.columns\n",
    "test_index = test.index\n",
    "test_data = test.values # values\n",
    "\n",
    "print('train: ')\n",
    "print(type(train_essays_columns))\n",
    "print(type(train_essays_index))\n",
    "print(type(train_essays_data))\n",
    "print('\\n')\n",
    "print('train: ')\n",
    "print(type(train_prompts_columns))\n",
    "print(type(train_prompts_index))\n",
    "print(type(train_prompts_data))\n",
    "print('\\n')\n",
    "print('test: ')\n",
    "print(type(test_columns))\n",
    "print(type(test_index))\n",
    "print(type(test_data))"
   ]
  },
  {
   "cell_type": "code",
   "execution_count": 13,
   "id": "21af802b",
   "metadata": {
    "execution": {
     "iopub.execute_input": "2023-12-29T01:25:25.102506Z",
     "iopub.status.busy": "2023-12-29T01:25:25.102082Z",
     "iopub.status.idle": "2023-12-29T01:25:25.120021Z",
     "shell.execute_reply": "2023-12-29T01:25:25.118728Z"
    },
    "papermill": {
     "duration": 0.037517,
     "end_time": "2023-12-29T01:25:25.122721",
     "exception": false,
     "start_time": "2023-12-29T01:25:25.085204",
     "status": "completed"
    },
    "tags": []
   },
   "outputs": [
    {
     "data": {
      "text/html": [
       "<div>\n",
       "<style scoped>\n",
       "    .dataframe tbody tr th:only-of-type {\n",
       "        vertical-align: middle;\n",
       "    }\n",
       "\n",
       "    .dataframe tbody tr th {\n",
       "        vertical-align: top;\n",
       "    }\n",
       "\n",
       "    .dataframe thead th {\n",
       "        text-align: right;\n",
       "    }\n",
       "</style>\n",
       "<table border=\"1\" class=\"dataframe\">\n",
       "  <thead>\n",
       "    <tr style=\"text-align: right;\">\n",
       "      <th></th>\n",
       "      <th>id</th>\n",
       "      <th>prompt_id</th>\n",
       "      <th>text</th>\n",
       "      <th>generated</th>\n",
       "    </tr>\n",
       "  </thead>\n",
       "  <tbody>\n",
       "    <tr>\n",
       "      <th>0</th>\n",
       "      <td>0059830c</td>\n",
       "      <td>0</td>\n",
       "      <td>Cars. Cars have been around since they became ...</td>\n",
       "      <td>0</td>\n",
       "    </tr>\n",
       "    <tr>\n",
       "      <th>1</th>\n",
       "      <td>005db917</td>\n",
       "      <td>0</td>\n",
       "      <td>Transportation is a large necessity in most co...</td>\n",
       "      <td>0</td>\n",
       "    </tr>\n",
       "    <tr>\n",
       "      <th>2</th>\n",
       "      <td>008f63e3</td>\n",
       "      <td>0</td>\n",
       "      <td>\"America's love affair with it's vehicles seem...</td>\n",
       "      <td>0</td>\n",
       "    </tr>\n",
       "    <tr>\n",
       "      <th>3</th>\n",
       "      <td>00940276</td>\n",
       "      <td>0</td>\n",
       "      <td>How often do you ride in a car? Do you drive a...</td>\n",
       "      <td>0</td>\n",
       "    </tr>\n",
       "    <tr>\n",
       "      <th>...</th>\n",
       "      <td>...</td>\n",
       "      <td>...</td>\n",
       "      <td>...</td>\n",
       "      <td>...</td>\n",
       "    </tr>\n",
       "    <tr>\n",
       "      <th>1374</th>\n",
       "      <td>ff669174</td>\n",
       "      <td>0</td>\n",
       "      <td>Limiting car usage has many advantages. Such a...</td>\n",
       "      <td>0</td>\n",
       "    </tr>\n",
       "    <tr>\n",
       "      <th>1375</th>\n",
       "      <td>ffa247e0</td>\n",
       "      <td>0</td>\n",
       "      <td>There's a new trend that has been developing f...</td>\n",
       "      <td>0</td>\n",
       "    </tr>\n",
       "    <tr>\n",
       "      <th>1376</th>\n",
       "      <td>ffc237e9</td>\n",
       "      <td>0</td>\n",
       "      <td>As we all know cars are a big part of our soci...</td>\n",
       "      <td>0</td>\n",
       "    </tr>\n",
       "    <tr>\n",
       "      <th>1377</th>\n",
       "      <td>ffe1ca0d</td>\n",
       "      <td>0</td>\n",
       "      <td>Cars have been around since the 1800's and hav...</td>\n",
       "      <td>0</td>\n",
       "    </tr>\n",
       "  </tbody>\n",
       "</table>\n",
       "<p>1378 rows × 4 columns</p>\n",
       "</div>"
      ],
      "text/plain": [
       "            id  prompt_id                                               text  \\\n",
       "0     0059830c          0  Cars. Cars have been around since they became ...   \n",
       "1     005db917          0  Transportation is a large necessity in most co...   \n",
       "2     008f63e3          0  \"America's love affair with it's vehicles seem...   \n",
       "3     00940276          0  How often do you ride in a car? Do you drive a...   \n",
       "...        ...        ...                                                ...   \n",
       "1374  ff669174          0  Limiting car usage has many advantages. Such a...   \n",
       "1375  ffa247e0          0  There's a new trend that has been developing f...   \n",
       "1376  ffc237e9          0  As we all know cars are a big part of our soci...   \n",
       "1377  ffe1ca0d          0  Cars have been around since the 1800's and hav...   \n",
       "\n",
       "      generated  \n",
       "0             0  \n",
       "1             0  \n",
       "2             0  \n",
       "3             0  \n",
       "...         ...  \n",
       "1374          0  \n",
       "1375          0  \n",
       "1376          0  \n",
       "1377          0  \n",
       "\n",
       "[1378 rows x 4 columns]"
      ]
     },
     "metadata": {},
     "output_type": "display_data"
    }
   ],
   "source": [
    "with pd.option_context('display.max_rows', 8):\n",
    "    display(train_essays)"
   ]
  },
  {
   "cell_type": "code",
   "execution_count": 14,
   "id": "b12570b9",
   "metadata": {
    "execution": {
     "iopub.execute_input": "2023-12-29T01:25:25.153313Z",
     "iopub.status.busy": "2023-12-29T01:25:25.152890Z",
     "iopub.status.idle": "2023-12-29T01:25:25.163948Z",
     "shell.execute_reply": "2023-12-29T01:25:25.162723Z"
    },
    "papermill": {
     "duration": 0.029435,
     "end_time": "2023-12-29T01:25:25.166400",
     "exception": false,
     "start_time": "2023-12-29T01:25:25.136965",
     "status": "completed"
    },
    "tags": []
   },
   "outputs": [
    {
     "data": {
      "text/html": [
       "<div>\n",
       "<style scoped>\n",
       "    .dataframe tbody tr th:only-of-type {\n",
       "        vertical-align: middle;\n",
       "    }\n",
       "\n",
       "    .dataframe tbody tr th {\n",
       "        vertical-align: top;\n",
       "    }\n",
       "\n",
       "    .dataframe thead th {\n",
       "        text-align: right;\n",
       "    }\n",
       "</style>\n",
       "<table border=\"1\" class=\"dataframe\">\n",
       "  <thead>\n",
       "    <tr style=\"text-align: right;\">\n",
       "      <th></th>\n",
       "      <th>id</th>\n",
       "      <th>prompt_id</th>\n",
       "      <th>text</th>\n",
       "    </tr>\n",
       "  </thead>\n",
       "  <tbody>\n",
       "    <tr>\n",
       "      <th>0</th>\n",
       "      <td>0000aaaa</td>\n",
       "      <td>2</td>\n",
       "      <td>Aaa bbb ccc.</td>\n",
       "    </tr>\n",
       "    <tr>\n",
       "      <th>1</th>\n",
       "      <td>1111bbbb</td>\n",
       "      <td>3</td>\n",
       "      <td>Bbb ccc ddd.</td>\n",
       "    </tr>\n",
       "    <tr>\n",
       "      <th>2</th>\n",
       "      <td>2222cccc</td>\n",
       "      <td>4</td>\n",
       "      <td>CCC ddd eee.</td>\n",
       "    </tr>\n",
       "  </tbody>\n",
       "</table>\n",
       "</div>"
      ],
      "text/plain": [
       "         id  prompt_id          text\n",
       "0  0000aaaa          2  Aaa bbb ccc.\n",
       "1  1111bbbb          3  Bbb ccc ddd.\n",
       "2  2222cccc          4  CCC ddd eee."
      ]
     },
     "metadata": {},
     "output_type": "display_data"
    }
   ],
   "source": [
    "with pd.option_context('display.max_rows', 8):\n",
    "    display(test)"
   ]
  },
  {
   "cell_type": "code",
   "execution_count": 15,
   "id": "e0b026cb",
   "metadata": {
    "execution": {
     "iopub.execute_input": "2023-12-29T01:25:25.198172Z",
     "iopub.status.busy": "2023-12-29T01:25:25.197400Z",
     "iopub.status.idle": "2023-12-29T01:25:25.208906Z",
     "shell.execute_reply": "2023-12-29T01:25:25.207800Z"
    },
    "papermill": {
     "duration": 0.03045,
     "end_time": "2023-12-29T01:25:25.211358",
     "exception": false,
     "start_time": "2023-12-29T01:25:25.180908",
     "status": "completed"
    },
    "tags": []
   },
   "outputs": [
    {
     "data": {
      "text/html": [
       "<div>\n",
       "<style scoped>\n",
       "    .dataframe tbody tr th:only-of-type {\n",
       "        vertical-align: middle;\n",
       "    }\n",
       "\n",
       "    .dataframe tbody tr th {\n",
       "        vertical-align: top;\n",
       "    }\n",
       "\n",
       "    .dataframe thead th {\n",
       "        text-align: right;\n",
       "    }\n",
       "</style>\n",
       "<table border=\"1\" class=\"dataframe\">\n",
       "  <thead>\n",
       "    <tr style=\"text-align: right;\">\n",
       "      <th></th>\n",
       "      <th>prompt_id</th>\n",
       "      <th>prompt_name</th>\n",
       "      <th>instructions</th>\n",
       "      <th>source_text</th>\n",
       "    </tr>\n",
       "  </thead>\n",
       "  <tbody>\n",
       "    <tr>\n",
       "      <th>0</th>\n",
       "      <td>0</td>\n",
       "      <td>Car-free cities</td>\n",
       "      <td>Write an explanatory essay to inform fellow ci...</td>\n",
       "      <td># In German Suburb, Life Goes On Without Cars ...</td>\n",
       "    </tr>\n",
       "    <tr>\n",
       "      <th>1</th>\n",
       "      <td>1</td>\n",
       "      <td>Does the electoral college work?</td>\n",
       "      <td>Write a letter to your state senator in which ...</td>\n",
       "      <td># What Is the Electoral College? by the Office...</td>\n",
       "    </tr>\n",
       "  </tbody>\n",
       "</table>\n",
       "</div>"
      ],
      "text/plain": [
       "   prompt_id                       prompt_name  \\\n",
       "0          0                   Car-free cities   \n",
       "1          1  Does the electoral college work?   \n",
       "\n",
       "                                        instructions  \\\n",
       "0  Write an explanatory essay to inform fellow ci...   \n",
       "1  Write a letter to your state senator in which ...   \n",
       "\n",
       "                                         source_text  \n",
       "0  # In German Suburb, Life Goes On Without Cars ...  \n",
       "1  # What Is the Electoral College? by the Office...  "
      ]
     },
     "metadata": {},
     "output_type": "display_data"
    }
   ],
   "source": [
    "with pd.option_context('display.max_rows', 8):\n",
    "    display(train_prompts)"
   ]
  },
  {
   "cell_type": "code",
   "execution_count": 16,
   "id": "8692a1d6",
   "metadata": {
    "execution": {
     "iopub.execute_input": "2023-12-29T01:25:25.243341Z",
     "iopub.status.busy": "2023-12-29T01:25:25.242341Z",
     "iopub.status.idle": "2023-12-29T01:25:25.257336Z",
     "shell.execute_reply": "2023-12-29T01:25:25.255466Z"
    },
    "papermill": {
     "duration": 0.033951,
     "end_time": "2023-12-29T01:25:25.259918",
     "exception": false,
     "start_time": "2023-12-29T01:25:25.225967",
     "status": "completed"
    },
    "tags": []
   },
   "outputs": [
    {
     "name": "stdout",
     "output_type": "stream",
     "text": [
      "train_essays: \n",
      "id           object\n",
      "prompt_id     int64\n",
      "text         object\n",
      "generated     int64\n",
      "dtype: object\n",
      "object    2\n",
      "int64     2\n",
      "Name: count, dtype: int64\n",
      "\n",
      "\n",
      "train_prompts: \n",
      "prompt_id        int64\n",
      "prompt_name     object\n",
      "instructions    object\n",
      "source_text     object\n",
      "dtype: object\n",
      "object    3\n",
      "int64     1\n",
      "Name: count, dtype: int64\n",
      "\n",
      "\n",
      "test: \n",
      "id           object\n",
      "prompt_id     int64\n",
      "text         object\n",
      "dtype: object\n",
      "object    2\n",
      "int64     1\n",
      "Name: count, dtype: int64\n"
     ]
    }
   ],
   "source": [
    "print('train_essays: ')\n",
    "print(train_essays.dtypes)\n",
    "print(train_essays.dtypes.value_counts())\n",
    "print('\\n')\n",
    "print('train_prompts: ')\n",
    "print(train_prompts.dtypes)\n",
    "print(train_prompts.dtypes.value_counts())\n",
    "print('\\n')\n",
    "print('test: ')\n",
    "print(test.dtypes)\n",
    "print(test.dtypes.value_counts())"
   ]
  },
  {
   "cell_type": "code",
   "execution_count": 17,
   "id": "81867986",
   "metadata": {
    "execution": {
     "iopub.execute_input": "2023-12-29T01:25:25.291747Z",
     "iopub.status.busy": "2023-12-29T01:25:25.291270Z",
     "iopub.status.idle": "2023-12-29T01:25:25.302181Z",
     "shell.execute_reply": "2023-12-29T01:25:25.300922Z"
    },
    "papermill": {
     "duration": 0.030108,
     "end_time": "2023-12-29T01:25:25.304872",
     "exception": false,
     "start_time": "2023-12-29T01:25:25.274764",
     "status": "completed"
    },
    "tags": []
   },
   "outputs": [
    {
     "data": {
      "text/plain": [
       "(Index(['prompt_id'], dtype='object'), Index(['id', 'text'], dtype='object'))"
      ]
     },
     "execution_count": 17,
     "metadata": {},
     "output_type": "execute_result"
    }
   ],
   "source": [
    "# 説明変数をデータ型ごとに代入する\n",
    "numerical_features = test._get_numeric_data().columns\n",
    "categorical_features = test.drop(numerical_features, axis=1).columns\n",
    "numerical_features, categorical_features"
   ]
  },
  {
   "cell_type": "markdown",
   "id": "d28d3fe1",
   "metadata": {
    "papermill": {
     "duration": 0.01479,
     "end_time": "2023-12-29T01:25:25.335011",
     "exception": false,
     "start_time": "2023-12-29T01:25:25.320221",
     "status": "completed"
    },
    "tags": []
   },
   "source": [
    "# EDA(探索的データ分析)"
   ]
  },
  {
   "cell_type": "markdown",
   "id": "31e20c52",
   "metadata": {
    "papermill": {
     "duration": 0.014816,
     "end_time": "2023-12-29T01:25:25.364825",
     "exception": false,
     "start_time": "2023-12-29T01:25:25.350009",
     "status": "completed"
    },
    "tags": []
   },
   "source": [
    "What's your EDA?  \n",
    "**EDA(探索的データ分析)**: データセットに適宜前処理を施しつつ様々な統計量を抽出して可視化し、そこに内在する特性・パターン・偏りについて探索的に仮説立案・検証を繰り返して分析すること"
   ]
  },
  {
   "cell_type": "markdown",
   "id": "e7138b25",
   "metadata": {
    "papermill": {
     "duration": 0.078843,
     "end_time": "2023-12-29T01:25:25.458734",
     "exception": false,
     "start_time": "2023-12-29T01:25:25.379891",
     "status": "completed"
    },
    "tags": []
   },
   "source": [
    "## 欠損値"
   ]
  },
  {
   "cell_type": "code",
   "execution_count": 18,
   "id": "4bd9a849",
   "metadata": {
    "execution": {
     "iopub.execute_input": "2023-12-29T01:25:25.491491Z",
     "iopub.status.busy": "2023-12-29T01:25:25.490680Z",
     "iopub.status.idle": "2023-12-29T01:25:25.505992Z",
     "shell.execute_reply": "2023-12-29T01:25:25.504097Z"
    },
    "papermill": {
     "duration": 0.034775,
     "end_time": "2023-12-29T01:25:25.508615",
     "exception": false,
     "start_time": "2023-12-29T01:25:25.473840",
     "status": "completed"
    },
    "tags": []
   },
   "outputs": [
    {
     "name": "stdout",
     "output_type": "stream",
     "text": [
      "train: \n",
      "False\n",
      "id           0\n",
      "prompt_id    0\n",
      "text         0\n",
      "generated    0\n",
      "dtype: int64\n",
      "\n",
      "\n",
      "train: \n",
      "False\n",
      "prompt_id       0\n",
      "prompt_name     0\n",
      "instructions    0\n",
      "source_text     0\n",
      "dtype: int64\n",
      "\n",
      "\n",
      "test: \n",
      "False\n",
      "id           0\n",
      "prompt_id    0\n",
      "text         0\n",
      "dtype: int64\n"
     ]
    }
   ],
   "source": [
    "print('train: ')\n",
    "print(train_essays.isna().sum().any())\n",
    "print(train_essays.isnull().sum())\n",
    "print('\\n')\n",
    "print('train: ')\n",
    "print(train_prompts.isna().sum().any())\n",
    "print(train_prompts.isnull().sum())\n",
    "print('\\n')\n",
    "print('test: ')\n",
    "print(test.isna().sum().any())\n",
    "print(test.isnull().sum())"
   ]
  },
  {
   "cell_type": "code",
   "execution_count": 19,
   "id": "796607b5",
   "metadata": {
    "execution": {
     "iopub.execute_input": "2023-12-29T01:25:25.541992Z",
     "iopub.status.busy": "2023-12-29T01:25:25.541283Z",
     "iopub.status.idle": "2023-12-29T01:25:26.933286Z",
     "shell.execute_reply": "2023-12-29T01:25:26.932362Z"
    },
    "papermill": {
     "duration": 1.411516,
     "end_time": "2023-12-29T01:25:26.935783",
     "exception": false,
     "start_time": "2023-12-29T01:25:25.524267",
     "status": "completed"
    },
    "tags": []
   },
   "outputs": [
    {
     "name": "stdout",
     "output_type": "stream",
     "text": [
      "Axes(0.125,0.11;0.698618x0.77)\n",
      "Axes(0.125,0.11;0.698618x0.77)\n",
      "Axes(0.125,0.11;0.698618x0.77)\n"
     ]
    },
    {
     "data": {
      "image/png": "[encoded data removed]",
      "text/plain": [
       "<Figure size 1000x600 with 2 Axes>"
      ]
     },
     "metadata": {},
     "output_type": "display_data"
    },
    {
     "data": {
      "image/png": "[encoded data removed]",
      "text/plain": [
       "<Figure size 1000x600 with 2 Axes>"
      ]
     },
     "metadata": {},
     "output_type": "display_data"
    },
    {
     "data": {
      "image/png": "[encoded data removed]",
      "text/plain": [
       "<Figure size 1000x600 with 2 Axes>"
      ]
     },
     "metadata": {},
     "output_type": "display_data"
    }
   ],
   "source": [
    "# 欠損値の有無を可視化する\n",
    "print(msno.matrix(df=train_essays, figsize=(10, 6), color=(0, .3, .3)))\n",
    "print(msno.matrix(df=train_prompts, figsize=(10, 6), color=(0, .3, .3)))\n",
    "print(msno.matrix(df=test, figsize=(10, 6), color=(0, 0, .3)))"
   ]
  },
  {
   "cell_type": "markdown",
   "id": "e92ad214",
   "metadata": {
    "papermill": {
     "duration": 0.019199,
     "end_time": "2023-12-29T01:25:26.973736",
     "exception": false,
     "start_time": "2023-12-29T01:25:26.954537",
     "status": "completed"
    },
    "tags": []
   },
   "source": [
    "## カラムごとのユニークな値を調べる"
   ]
  },
  {
   "cell_type": "code",
   "execution_count": 20,
   "id": "d6043fc4",
   "metadata": {
    "execution": {
     "iopub.execute_input": "2023-12-29T01:25:27.014195Z",
     "iopub.status.busy": "2023-12-29T01:25:27.013737Z",
     "iopub.status.idle": "2023-12-29T01:25:27.039165Z",
     "shell.execute_reply": "2023-12-29T01:25:27.037923Z"
    },
    "papermill": {
     "duration": 0.04828,
     "end_time": "2023-12-29T01:25:27.041699",
     "exception": false,
     "start_time": "2023-12-29T01:25:26.993419",
     "status": "completed"
    },
    "tags": []
   },
   "outputs": [
    {
     "data": {
      "text/plain": [
       "prompt_id       2\n",
       "generated       2\n",
       "id           1378\n",
       "text         1378\n",
       "dtype: int64"
      ]
     },
     "execution_count": 20,
     "metadata": {},
     "output_type": "execute_result"
    }
   ],
   "source": [
    "train_essays[train_essays.columns].nunique().sort_values(ascending=True)"
   ]
  },
  {
   "cell_type": "code",
   "execution_count": 21,
   "id": "e7432d3e",
   "metadata": {
    "execution": {
     "iopub.execute_input": "2023-12-29T01:25:27.080536Z",
     "iopub.status.busy": "2023-12-29T01:25:27.078866Z",
     "iopub.status.idle": "2023-12-29T01:25:27.091506Z",
     "shell.execute_reply": "2023-12-29T01:25:27.090254Z"
    },
    "papermill": {
     "duration": 0.035313,
     "end_time": "2023-12-29T01:25:27.094064",
     "exception": false,
     "start_time": "2023-12-29T01:25:27.058751",
     "status": "completed"
    },
    "tags": []
   },
   "outputs": [
    {
     "data": {
      "text/plain": [
       "prompt_id       2\n",
       "prompt_name     2\n",
       "instructions    2\n",
       "source_text     2\n",
       "dtype: int64"
      ]
     },
     "execution_count": 21,
     "metadata": {},
     "output_type": "execute_result"
    }
   ],
   "source": [
    "train_prompts[train_prompts.columns].nunique().sort_values(ascending=True)"
   ]
  },
  {
   "cell_type": "markdown",
   "id": "7cd1d55a",
   "metadata": {
    "papermill": {
     "duration": 0.017419,
     "end_time": "2023-12-29T01:25:27.129263",
     "exception": false,
     "start_time": "2023-12-29T01:25:27.111844",
     "status": "completed"
    },
    "tags": []
   },
   "source": [
    "### 目的変数"
   ]
  },
  {
   "cell_type": "code",
   "execution_count": 22,
   "id": "17ce0d95",
   "metadata": {
    "execution": {
     "iopub.execute_input": "2023-12-29T01:25:27.170909Z",
     "iopub.status.busy": "2023-12-29T01:25:27.169511Z",
     "iopub.status.idle": "2023-12-29T01:25:27.176616Z",
     "shell.execute_reply": "2023-12-29T01:25:27.175515Z"
    },
    "papermill": {
     "duration": 0.032754,
     "end_time": "2023-12-29T01:25:27.179402",
     "exception": false,
     "start_time": "2023-12-29T01:25:27.146648",
     "status": "completed"
    },
    "tags": []
   },
   "outputs": [
    {
     "name": "stdout",
     "output_type": "stream",
     "text": [
      "['generated'] Class labels: [0 1]\n"
     ]
    }
   ],
   "source": [
    "print(target_name +' Class labels:', np.unique(target))"
   ]
  },
  {
   "cell_type": "markdown",
   "id": "a2447b64",
   "metadata": {
    "papermill": {
     "duration": 0.016788,
     "end_time": "2023-12-29T01:25:27.217262",
     "exception": false,
     "start_time": "2023-12-29T01:25:27.200474",
     "status": "completed"
    },
    "tags": []
   },
   "source": [
    "### 円グラフと棒グラフ（目的変数）"
   ]
  },
  {
   "cell_type": "code",
   "execution_count": 23,
   "id": "cad4e0bd",
   "metadata": {
    "execution": {
     "iopub.execute_input": "2023-12-29T01:25:27.254725Z",
     "iopub.status.busy": "2023-12-29T01:25:27.253467Z",
     "iopub.status.idle": "2023-12-29T01:25:27.799325Z",
     "shell.execute_reply": "2023-12-29T01:25:27.797047Z"
    },
    "papermill": {
     "duration": 0.567822,
     "end_time": "2023-12-29T01:25:27.802705",
     "exception": false,
     "start_time": "2023-12-29T01:25:27.234883",
     "status": "completed"
    },
    "tags": []
   },
   "outputs": [
    {
     "name": "stdout",
     "output_type": "stream",
     "text": [
      "generated\n",
      "0    1375\n",
      "1       3\n",
      "Name: count, dtype: int64\n"
     ]
    },
    {
     "data": {
      "image/png": "[encoded data removed]",
      "text/plain": [
       "<Figure size 1600x500 with 2 Axes>"
      ]
     },
     "metadata": {},
     "output_type": "display_data"
    }
   ],
   "source": [
    "fig, ax = plt.subplots(1, 2, figsize=(16, 5))\n",
    "ax = ax.flatten()\n",
    "\n",
    "ax[0].pie(\n",
    "    target.value_counts(),\n",
    "    shadow=True,\n",
    "    explode=[.1 for i in range(target.nunique())],\n",
    "    autopct='%1.f%%',\n",
    "    textprops={'size': 14, 'color':'white'}\n",
    ")\n",
    "\n",
    "sns.countplot(data=train_essays, y=target_col, ax=ax[1], palette='viridis', order=train_essays[target_col].value_counts().index)\n",
    "ax[1].yaxis.label.set_size(20)\n",
    "plt.yticks(fontsize=12)\n",
    "ax[1].set_xlabel('Count', fontsize=20)\n",
    "ax[1].set_ylabel(None)\n",
    "plt.xticks(fontsize=12)\n",
    "\n",
    "fig.suptitle(target_name + ' Distribution in Train Dataset', fontsize=25, fontweight='bold')\n",
    "plt.tight_layout()\n",
    "\n",
    "# 目的変数を数える\n",
    "print(f'{train_essays[target_col].value_counts()}')"
   ]
  },
  {
   "cell_type": "code",
   "execution_count": 24,
   "id": "afd622ab",
   "metadata": {
    "execution": {
     "iopub.execute_input": "2023-12-29T01:25:27.841707Z",
     "iopub.status.busy": "2023-12-29T01:25:27.841227Z",
     "iopub.status.idle": "2023-12-29T01:25:27.851459Z",
     "shell.execute_reply": "2023-12-29T01:25:27.850196Z"
    },
    "papermill": {
     "duration": 0.032679,
     "end_time": "2023-12-29T01:25:27.853940",
     "exception": false,
     "start_time": "2023-12-29T01:25:27.821261",
     "status": "completed"
    },
    "tags": []
   },
   "outputs": [
    {
     "data": {
      "text/plain": [
       "prompt_id\n",
       "1    2\n",
       "0    1\n",
       "Name: count, dtype: int64"
      ]
     },
     "execution_count": 24,
     "metadata": {},
     "output_type": "execute_result"
    }
   ],
   "source": [
    "llm_generated_counts = train_essays[train_essays['generated'] == 1]['prompt_id'].value_counts()\n",
    "llm_generated_counts"
   ]
  },
  {
   "cell_type": "code",
   "execution_count": null,
   "id": "d243358d",
   "metadata": {
    "papermill": {
     "duration": 0.018095,
     "end_time": "2023-12-29T01:25:27.891020",
     "exception": false,
     "start_time": "2023-12-29T01:25:27.872925",
     "status": "completed"
    },
    "tags": []
   },
   "outputs": [],
   "source": []
  }
 ],
 "metadata": {
  "kaggle": {
   "accelerator": "none",
   "dataSources": [
    {
     "databundleVersionId": 6888007,
     "sourceId": 61542,
     "sourceType": "competition"
    }
   ],
   "dockerImageVersionId": 30626,
   "isGpuEnabled": false,
   "isInternetEnabled": true,
   "language": "python",
   "sourceType": "notebook"
  },
  "kernelspec": {
   "display_name": "Python 3",
   "language": "python",
   "name": "python3"
  },
  "language_info": {
   "codemirror_mode": {
    "name": "ipython",
    "version": 3
   },
   "file_extension": ".py",
   "mimetype": "text/x-python",
   "name": "python",
   "nbconvert_exporter": "python",
   "pygments_lexer": "ipython3",
   "version": "3.10.12"
  },
  "papermill": {
   "default_parameters": {},
   "duration": 47.450271,
   "end_time": "2023-12-29T01:25:28.833619",
   "environment_variables": {},
   "exception": null,
   "input_path": "__notebook__.ipynb",
   "output_path": "__notebook__.ipynb",
   "parameters": {},
   "start_time": "2023-12-29T01:24:41.383348",
   "version": "2.4.0"
  }
 },
 "nbformat": 4,
 "nbformat_minor": 5
}

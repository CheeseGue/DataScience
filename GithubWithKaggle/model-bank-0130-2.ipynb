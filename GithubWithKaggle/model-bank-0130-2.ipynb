{
 "cells": [
  {
   "cell_type": "code",
   "execution_count": 1,
   "id": "65835dcd",
   "metadata": {
    "_cell_guid": "b1076dfc-b9ad-4769-8c92-a6c4dae69d19",
    "_uuid": "8f2839f25d086af736a60e9eeb907d3b93b6e0e5",
    "execution": {
     "iopub.execute_input": "2024-01-30T09:08:55.644093Z",
     "iopub.status.busy": "2024-01-30T09:08:55.643133Z",
     "iopub.status.idle": "2024-01-30T09:08:56.395345Z",
     "shell.execute_reply": "2024-01-30T09:08:56.394088Z"
    },
    "papermill": {
     "duration": 0.769511,
     "end_time": "2024-01-30T09:08:56.397846",
     "exception": false,
     "start_time": "2024-01-30T09:08:55.628335",
     "status": "completed"
    },
    "tags": []
   },
   "outputs": [
    {
     "name": "stdout",
     "output_type": "stream",
     "text": [
      "/kaggle/input/playground-series-s4e1/sample_submission.csv\n",
      "/kaggle/input/playground-series-s4e1/train.csv\n",
      "/kaggle/input/playground-series-s4e1/test.csv\n",
      "/kaggle/input/my-binary-classification-with-a-bank-churn-dataset/data.csv\n"
     ]
    }
   ],
   "source": [
    "# This Python 3 environment comes with many helpful analytics libraries installed\n",
    "# It is defined by the kaggle/python Docker image: https://github.com/kaggle/docker-python\n",
    "# For example, here's several helpful packages to load\n",
    "\n",
    "import numpy as np # linear algebra\n",
    "import pandas as pd # data processing, CSV file I/O (e.g. pd.read_csv)\n",
    "\n",
    "# Input data files are available in the read-only \"../input/\" directory\n",
    "# For example, running this (by clicking run or pressing Shift+Enter) will list all files under the input directory\n",
    "\n",
    "import os\n",
    "for dirname, _, filenames in os.walk('/kaggle/input'):\n",
    "    for filename in filenames:\n",
    "        print(os.path.join(dirname, filename))\n",
    "\n",
    "# You can write up to 20GB to the current directory (/kaggle/working/) that gets preserved as output when you create a version using \"Save & Run All\" \n",
    "# You can also write temporary files to /kaggle/temp/, but they won't be saved outside of the current session"
   ]
  },
  {
   "cell_type": "markdown",
   "id": "17121f4e",
   "metadata": {
    "papermill": {
     "duration": 0.01239,
     "end_time": "2024-01-30T09:08:56.423220",
     "exception": false,
     "start_time": "2024-01-30T09:08:56.410830",
     "status": "completed"
    },
    "tags": []
   },
   "source": [
    "# **銀行解約データセットを使用した二項分類**\n",
    "Binary Classification with a Bank Churn Dataset(https://www.kaggle.com/competitions/playground-series-s4e1/code?competitionId=65711&sortBy=voteCount)"
   ]
  },
  {
   "cell_type": "markdown",
   "id": "f237d796",
   "metadata": {
    "papermill": {
     "duration": 0.012023,
     "end_time": "2024-01-30T09:08:56.447930",
     "exception": false,
     "start_time": "2024-01-30T09:08:56.435907",
     "status": "completed"
    },
    "tags": []
   },
   "source": [
    "# 参考資料\n",
    "**書籍**\n",
    "- Python実践データ分析100本ノック\n",
    "- Python実践AIモデル構築 100本ノック\n",
    "\n",
    "\n",
    "**Kaggle**\n",
    "- [[PlayGround S4E1] 📊 EDA + 🤖 Modeling [XGBoost]](https://www.kaggle.com/code/akhiljethwa/playground-s4e1-eda-modeling-xgboost)\n",
    "- [🏛️Binary Classification💸 | Bank Churn💰| EDA📈](https://www.kaggle.com/code/tarundirector/binary-classification-bank-churn-eda)\n",
    "\n",
    "\n",
    "**自分で作成したファイル**\n",
    "- 肝硬変の転帰の多クラス予測\n",
    "\n",
    "**その他**\n"
   ]
  },
  {
   "cell_type": "code",
   "execution_count": 2,
   "id": "66308605",
   "metadata": {
    "execution": {
     "iopub.execute_input": "2024-01-30T09:08:56.475271Z",
     "iopub.status.busy": "2024-01-30T09:08:56.474782Z",
     "iopub.status.idle": "2024-01-30T09:08:58.201179Z",
     "shell.execute_reply": "2024-01-30T09:08:58.199941Z"
    },
    "papermill": {
     "duration": 1.743479,
     "end_time": "2024-01-30T09:08:58.203834",
     "exception": false,
     "start_time": "2024-01-30T09:08:56.460355",
     "status": "completed"
    },
    "tags": []
   },
   "outputs": [
    {
     "name": "stdout",
     "output_type": "stream",
     "text": [
      "読み込み完了 /kaggle/input/my-binary-classification-with-a-bank-churn-dataset/data.csv\n"
     ]
    }
   ],
   "source": [
    "import numpy as np\n",
    "import pandas as pd\n",
    "\n",
    "FILE_PATH = '/kaggle/input/playground-series-s4e1/'\n",
    "CREATE_DATA = '/kaggle/input/my-binary-classification-with-a-bank-churn-dataset'\n",
    "\n",
    "\n",
    "# 確認 (data_import.py)\n",
    "def file_to_xy(filename):\n",
    "    data = pd.read_csv(filename, index_col=0)\n",
    "    print(f'読み込み完了 {filename}')\n",
    "    \n",
    "    target_col = 'Exited'\n",
    "    \n",
    "    train = data[:165034].reset_index(drop=True)\n",
    "    test = data[165034:].reset_index(drop=True).drop(target_col, axis=1) # 目的変数を指定する\n",
    "    # 目的変数と説明変数に分割\n",
    "    X = train.drop([target_col], axis=1) # 目的変数を指定する\n",
    "    y = train[target_col].values # 目的変数を指定する\n",
    "\n",
    "    return data,test,train,X,y\n",
    "\n",
    "filename = 'data.csv'\n",
    "data,test,train,X,y = file_to_xy(CREATE_DATA + '/' + filename)"
   ]
  },
  {
   "cell_type": "code",
   "execution_count": 3,
   "id": "6de627de",
   "metadata": {
    "execution": {
     "iopub.execute_input": "2024-01-30T09:08:58.232055Z",
     "iopub.status.busy": "2024-01-30T09:08:58.231720Z",
     "iopub.status.idle": "2024-01-30T09:08:58.246757Z",
     "shell.execute_reply": "2024-01-30T09:08:58.245934Z"
    },
    "papermill": {
     "duration": 0.030917,
     "end_time": "2024-01-30T09:08:58.248981",
     "exception": false,
     "start_time": "2024-01-30T09:08:58.218064",
     "status": "completed"
    },
    "tags": []
   },
   "outputs": [],
   "source": [
    "X = X.copy()\n",
    "y = y.copy()"
   ]
  },
  {
   "cell_type": "markdown",
   "id": "d1d6fa31",
   "metadata": {
    "papermill": {
     "duration": 0.012329,
     "end_time": "2024-01-30T09:08:58.274608",
     "exception": false,
     "start_time": "2024-01-30T09:08:58.262279",
     "status": "completed"
    },
    "tags": []
   },
   "source": [
    "# 機械学習モデルの構築・学習・予測"
   ]
  },
  {
   "cell_type": "markdown",
   "id": "3dbaaeaa",
   "metadata": {
    "papermill": {
     "duration": 0.012275,
     "end_time": "2024-01-30T09:08:58.299384",
     "exception": false,
     "start_time": "2024-01-30T09:08:58.287109",
     "status": "completed"
    },
    "tags": []
   },
   "source": [
    "## ライブラリのインポート"
   ]
  },
  {
   "cell_type": "code",
   "execution_count": 4,
   "id": "bd434110",
   "metadata": {
    "execution": {
     "iopub.execute_input": "2024-01-30T09:08:58.326966Z",
     "iopub.status.busy": "2024-01-30T09:08:58.326583Z",
     "iopub.status.idle": "2024-01-30T09:09:02.964143Z",
     "shell.execute_reply": "2024-01-30T09:09:02.963262Z"
    },
    "papermill": {
     "duration": 4.654412,
     "end_time": "2024-01-30T09:09:02.966750",
     "exception": false,
     "start_time": "2024-01-30T09:08:58.312338",
     "status": "completed"
    },
    "tags": []
   },
   "outputs": [
    {
     "name": "stderr",
     "output_type": "stream",
     "text": [
      "/opt/conda/lib/python3.10/site-packages/scipy/__init__.py:146: UserWarning: A NumPy version >=1.16.5 and <1.23.0 is required for this version of SciPy (detected version 1.24.3\n",
      "  warnings.warn(f\"A NumPy version >={np_minversion} and <{np_maxversion}\"\n",
      "/opt/conda/lib/python3.10/site-packages/dask/dataframe/_pyarrow_compat.py:23: UserWarning: You are using pyarrow version 11.0.0 which is known to be insecure. See https://www.cve.org/CVERecord?id=CVE-2023-47248 for further details. Please upgrade to pyarrow>=14.0.1 or install pyarrow-hotfix to patch your current version.\n",
      "  warnings.warn(\n"
     ]
    }
   ],
   "source": [
    "from sklearn.model_selection import train_test_split\n",
    "from sklearn.preprocessing import StandardScaler\n",
    "\n",
    "# 評価指標\n",
    "from sklearn.metrics import roc_auc_score\n",
    "\n",
    "# 機械学習モデル\n",
    "from sklearn.linear_model import LinearRegression, Lasso, Ridge\n",
    "from sklearn.tree import DecisionTreeClassifier\n",
    "from lightgbm import LGBMClassifier\n",
    "\n",
    "sample_sub = pd.read_csv(FILE_PATH + \"sample_submission.csv\")"
   ]
  },
  {
   "cell_type": "markdown",
   "id": "3758acc4",
   "metadata": {
    "papermill": {
     "duration": 0.011838,
     "end_time": "2024-01-30T09:09:02.991149",
     "exception": false,
     "start_time": "2024-01-30T09:09:02.979311",
     "status": "completed"
    },
    "tags": []
   },
   "source": [
    "## データの分割"
   ]
  },
  {
   "cell_type": "code",
   "execution_count": 5,
   "id": "1d522224",
   "metadata": {
    "execution": {
     "iopub.execute_input": "2024-01-30T09:09:03.016040Z",
     "iopub.status.busy": "2024-01-30T09:09:03.015693Z",
     "iopub.status.idle": "2024-01-30T09:09:03.056333Z",
     "shell.execute_reply": "2024-01-30T09:09:03.055338Z"
    },
    "papermill": {
     "duration": 0.056106,
     "end_time": "2024-01-30T09:09:03.058895",
     "exception": false,
     "start_time": "2024-01-30T09:09:03.002789",
     "status": "completed"
    },
    "tags": []
   },
   "outputs": [],
   "source": [
    "X_train, X_valid, y_train, y_valid = train_test_split(X, y, test_size=0.2, random_state=42)"
   ]
  },
  {
   "cell_type": "markdown",
   "id": "35e1bca9",
   "metadata": {
    "papermill": {
     "duration": 0.012521,
     "end_time": "2024-01-30T09:09:03.084190",
     "exception": false,
     "start_time": "2024-01-30T09:09:03.071669",
     "status": "completed"
    },
    "tags": []
   },
   "source": [
    "## モデルの学習"
   ]
  },
  {
   "cell_type": "markdown",
   "id": "ef0d0213",
   "metadata": {
    "papermill": {
     "duration": 0.01256,
     "end_time": "2024-01-30T09:09:03.109530",
     "exception": false,
     "start_time": "2024-01-30T09:09:03.096970",
     "status": "completed"
    },
    "tags": []
   },
   "source": [
    "### LinearRegression"
   ]
  },
  {
   "cell_type": "code",
   "execution_count": 6,
   "id": "cafc26ac",
   "metadata": {
    "execution": {
     "iopub.execute_input": "2024-01-30T09:09:03.136507Z",
     "iopub.status.busy": "2024-01-30T09:09:03.135758Z",
     "iopub.status.idle": "2024-01-30T09:09:03.770948Z",
     "shell.execute_reply": "2024-01-30T09:09:03.769597Z"
    },
    "papermill": {
     "duration": 0.653203,
     "end_time": "2024-01-30T09:09:03.775149",
     "exception": false,
     "start_time": "2024-01-30T09:09:03.121946",
     "status": "completed"
    },
    "tags": []
   },
   "outputs": [],
   "source": [
    "# 標準化する\n",
    "scaler = StandardScaler()\n",
    "X_train_scaled = scaler.fit_transform(X_train)\n",
    "X_valid_scaled = scaler.transform(X_valid)\n",
    "\n",
    "lr = LinearRegression().fit(X_train_scaled, y_train)"
   ]
  },
  {
   "cell_type": "markdown",
   "id": "5e307311",
   "metadata": {
    "papermill": {
     "duration": 0.025584,
     "end_time": "2024-01-30T09:09:03.830690",
     "exception": false,
     "start_time": "2024-01-30T09:09:03.805106",
     "status": "completed"
    },
    "tags": []
   },
   "source": [
    "### Lasso"
   ]
  },
  {
   "cell_type": "code",
   "execution_count": 7,
   "id": "a29e84ad",
   "metadata": {
    "execution": {
     "iopub.execute_input": "2024-01-30T09:09:03.925894Z",
     "iopub.status.busy": "2024-01-30T09:09:03.925522Z",
     "iopub.status.idle": "2024-01-30T09:09:04.299055Z",
     "shell.execute_reply": "2024-01-30T09:09:04.297339Z"
    },
    "papermill": {
     "duration": 0.447283,
     "end_time": "2024-01-30T09:09:04.304327",
     "exception": false,
     "start_time": "2024-01-30T09:09:03.857044",
     "status": "completed"
    },
    "tags": []
   },
   "outputs": [],
   "source": [
    "lasso = Lasso().fit(X_train, y_train)"
   ]
  },
  {
   "cell_type": "markdown",
   "id": "842347c9",
   "metadata": {
    "papermill": {
     "duration": 0.028459,
     "end_time": "2024-01-30T09:09:04.364146",
     "exception": false,
     "start_time": "2024-01-30T09:09:04.335687",
     "status": "completed"
    },
    "tags": []
   },
   "source": [
    "### Ridge(回帰)"
   ]
  },
  {
   "cell_type": "code",
   "execution_count": 8,
   "id": "3fd2788b",
   "metadata": {
    "execution": {
     "iopub.execute_input": "2024-01-30T09:09:04.425368Z",
     "iopub.status.busy": "2024-01-30T09:09:04.424619Z",
     "iopub.status.idle": "2024-01-30T09:09:04.485045Z",
     "shell.execute_reply": "2024-01-30T09:09:04.483535Z"
    },
    "papermill": {
     "duration": 0.095785,
     "end_time": "2024-01-30T09:09:04.489299",
     "exception": false,
     "start_time": "2024-01-30T09:09:04.393514",
     "status": "completed"
    },
    "tags": []
   },
   "outputs": [],
   "source": [
    "ridge = Ridge().fit(X_train_scaled, y_train)"
   ]
  },
  {
   "cell_type": "markdown",
   "id": "773df98c",
   "metadata": {
    "papermill": {
     "duration": 0.025571,
     "end_time": "2024-01-30T09:09:04.541653",
     "exception": false,
     "start_time": "2024-01-30T09:09:04.516082",
     "status": "completed"
    },
    "tags": []
   },
   "source": [
    "### LGBMClassifier"
   ]
  },
  {
   "cell_type": "code",
   "execution_count": 9,
   "id": "d00b2708",
   "metadata": {
    "execution": {
     "iopub.execute_input": "2024-01-30T09:09:04.598592Z",
     "iopub.status.busy": "2024-01-30T09:09:04.597961Z",
     "iopub.status.idle": "2024-01-30T09:09:08.012169Z",
     "shell.execute_reply": "2024-01-30T09:09:08.011238Z"
    },
    "papermill": {
     "duration": 3.446003,
     "end_time": "2024-01-30T09:09:08.014791",
     "exception": false,
     "start_time": "2024-01-30T09:09:04.568788",
     "status": "completed"
    },
    "tags": []
   },
   "outputs": [
    {
     "data": {
      "text/html": [
       "<style>#sk-container-id-1 {color: black;background-color: white;}#sk-container-id-1 pre{padding: 0;}#sk-container-id-1 div.sk-toggleable {background-color: white;}#sk-container-id-1 label.sk-toggleable__label {cursor: pointer;display: block;width: 100%;margin-bottom: 0;padding: 0.3em;box-sizing: border-box;text-align: center;}#sk-container-id-1 label.sk-toggleable__label-arrow:before {content: \"▸\";float: left;margin-right: 0.25em;color: #696969;}#sk-container-id-1 label.sk-toggleable__label-arrow:hover:before {color: black;}#sk-container-id-1 div.sk-estimator:hover label.sk-toggleable__label-arrow:before {color: black;}#sk-container-id-1 div.sk-toggleable__content {max-height: 0;max-width: 0;overflow: hidden;text-align: left;background-color: #f0f8ff;}#sk-container-id-1 div.sk-toggleable__content pre {margin: 0.2em;color: black;border-radius: 0.25em;background-color: #f0f8ff;}#sk-container-id-1 input.sk-toggleable__control:checked~div.sk-toggleable__content {max-height: 200px;max-width: 100%;overflow: auto;}#sk-container-id-1 input.sk-toggleable__control:checked~label.sk-toggleable__label-arrow:before {content: \"▾\";}#sk-container-id-1 div.sk-estimator input.sk-toggleable__control:checked~label.sk-toggleable__label {background-color: #d4ebff;}#sk-container-id-1 div.sk-label input.sk-toggleable__control:checked~label.sk-toggleable__label {background-color: #d4ebff;}#sk-container-id-1 input.sk-hidden--visually {border: 0;clip: rect(1px 1px 1px 1px);clip: rect(1px, 1px, 1px, 1px);height: 1px;margin: -1px;overflow: hidden;padding: 0;position: absolute;width: 1px;}#sk-container-id-1 div.sk-estimator {font-family: monospace;background-color: #f0f8ff;border: 1px dotted black;border-radius: 0.25em;box-sizing: border-box;margin-bottom: 0.5em;}#sk-container-id-1 div.sk-estimator:hover {background-color: #d4ebff;}#sk-container-id-1 div.sk-parallel-item::after {content: \"\";width: 100%;border-bottom: 1px solid gray;flex-grow: 1;}#sk-container-id-1 div.sk-label:hover label.sk-toggleable__label {background-color: #d4ebff;}#sk-container-id-1 div.sk-serial::before {content: \"\";position: absolute;border-left: 1px solid gray;box-sizing: border-box;top: 0;bottom: 0;left: 50%;z-index: 0;}#sk-container-id-1 div.sk-serial {display: flex;flex-direction: column;align-items: center;background-color: white;padding-right: 0.2em;padding-left: 0.2em;position: relative;}#sk-container-id-1 div.sk-item {position: relative;z-index: 1;}#sk-container-id-1 div.sk-parallel {display: flex;align-items: stretch;justify-content: center;background-color: white;position: relative;}#sk-container-id-1 div.sk-item::before, #sk-container-id-1 div.sk-parallel-item::before {content: \"\";position: absolute;border-left: 1px solid gray;box-sizing: border-box;top: 0;bottom: 0;left: 50%;z-index: -1;}#sk-container-id-1 div.sk-parallel-item {display: flex;flex-direction: column;z-index: 1;position: relative;background-color: white;}#sk-container-id-1 div.sk-parallel-item:first-child::after {align-self: flex-end;width: 50%;}#sk-container-id-1 div.sk-parallel-item:last-child::after {align-self: flex-start;width: 50%;}#sk-container-id-1 div.sk-parallel-item:only-child::after {width: 0;}#sk-container-id-1 div.sk-dashed-wrapped {border: 1px dashed gray;margin: 0 0.4em 0.5em 0.4em;box-sizing: border-box;padding-bottom: 0.4em;background-color: white;}#sk-container-id-1 div.sk-label label {font-family: monospace;font-weight: bold;display: inline-block;line-height: 1.2em;}#sk-container-id-1 div.sk-label-container {text-align: center;}#sk-container-id-1 div.sk-container {/* jupyter's `normalize.less` sets `[hidden] { display: none; }` but bootstrap.min.css set `[hidden] { display: none !important; }` so we also need the `!important` here to be able to override the default hidden behavior on the sphinx rendered scikit-learn.org. See: https://github.com/scikit-learn/scikit-learn/issues/21755 */display: inline-block !important;position: relative;}#sk-container-id-1 div.sk-text-repr-fallback {display: none;}</style><div id=\"sk-container-id-1\" class=\"sk-top-container\"><div class=\"sk-text-repr-fallback\"><pre>LGBMClassifier(random_state=42)</pre><b>In a Jupyter environment, please rerun this cell to show the HTML representation or trust the notebook. <br />On GitHub, the HTML representation is unable to render, please try loading this page with nbviewer.org.</b></div><div class=\"sk-container\" hidden><div class=\"sk-item\"><div class=\"sk-estimator sk-toggleable\"><input class=\"sk-toggleable__control sk-hidden--visually\" id=\"sk-estimator-id-1\" type=\"checkbox\" checked><label for=\"sk-estimator-id-1\" class=\"sk-toggleable__label sk-toggleable__label-arrow\">LGBMClassifier</label><div class=\"sk-toggleable__content\"><pre>LGBMClassifier(random_state=42)</pre></div></div></div></div></div>"
      ],
      "text/plain": [
       "LGBMClassifier(random_state=42)"
      ]
     },
     "execution_count": 9,
     "metadata": {},
     "output_type": "execute_result"
    }
   ],
   "source": [
    "lgb = LGBMClassifier(random_state=42)\n",
    "lgb.fit(X_train, y_train)"
   ]
  },
  {
   "cell_type": "markdown",
   "id": "d2a1d62f",
   "metadata": {
    "papermill": {
     "duration": 0.013486,
     "end_time": "2024-01-30T09:09:08.042419",
     "exception": false,
     "start_time": "2024-01-30T09:09:08.028933",
     "status": "completed"
    },
    "tags": []
   },
   "source": [
    "### DecisionTreeClassifier"
   ]
  },
  {
   "cell_type": "code",
   "execution_count": 10,
   "id": "08130881",
   "metadata": {
    "execution": {
     "iopub.execute_input": "2024-01-30T09:09:08.070313Z",
     "iopub.status.busy": "2024-01-30T09:09:08.069919Z",
     "iopub.status.idle": "2024-01-30T09:09:10.349271Z",
     "shell.execute_reply": "2024-01-30T09:09:10.348280Z"
    },
    "papermill": {
     "duration": 2.296019,
     "end_time": "2024-01-30T09:09:10.351680",
     "exception": false,
     "start_time": "2024-01-30T09:09:08.055661",
     "status": "completed"
    },
    "tags": []
   },
   "outputs": [
    {
     "data": {
      "text/html": [
       "<style>#sk-container-id-2 {color: black;background-color: white;}#sk-container-id-2 pre{padding: 0;}#sk-container-id-2 div.sk-toggleable {background-color: white;}#sk-container-id-2 label.sk-toggleable__label {cursor: pointer;display: block;width: 100%;margin-bottom: 0;padding: 0.3em;box-sizing: border-box;text-align: center;}#sk-container-id-2 label.sk-toggleable__label-arrow:before {content: \"▸\";float: left;margin-right: 0.25em;color: #696969;}#sk-container-id-2 label.sk-toggleable__label-arrow:hover:before {color: black;}#sk-container-id-2 div.sk-estimator:hover label.sk-toggleable__label-arrow:before {color: black;}#sk-container-id-2 div.sk-toggleable__content {max-height: 0;max-width: 0;overflow: hidden;text-align: left;background-color: #f0f8ff;}#sk-container-id-2 div.sk-toggleable__content pre {margin: 0.2em;color: black;border-radius: 0.25em;background-color: #f0f8ff;}#sk-container-id-2 input.sk-toggleable__control:checked~div.sk-toggleable__content {max-height: 200px;max-width: 100%;overflow: auto;}#sk-container-id-2 input.sk-toggleable__control:checked~label.sk-toggleable__label-arrow:before {content: \"▾\";}#sk-container-id-2 div.sk-estimator input.sk-toggleable__control:checked~label.sk-toggleable__label {background-color: #d4ebff;}#sk-container-id-2 div.sk-label input.sk-toggleable__control:checked~label.sk-toggleable__label {background-color: #d4ebff;}#sk-container-id-2 input.sk-hidden--visually {border: 0;clip: rect(1px 1px 1px 1px);clip: rect(1px, 1px, 1px, 1px);height: 1px;margin: -1px;overflow: hidden;padding: 0;position: absolute;width: 1px;}#sk-container-id-2 div.sk-estimator {font-family: monospace;background-color: #f0f8ff;border: 1px dotted black;border-radius: 0.25em;box-sizing: border-box;margin-bottom: 0.5em;}#sk-container-id-2 div.sk-estimator:hover {background-color: #d4ebff;}#sk-container-id-2 div.sk-parallel-item::after {content: \"\";width: 100%;border-bottom: 1px solid gray;flex-grow: 1;}#sk-container-id-2 div.sk-label:hover label.sk-toggleable__label {background-color: #d4ebff;}#sk-container-id-2 div.sk-serial::before {content: \"\";position: absolute;border-left: 1px solid gray;box-sizing: border-box;top: 0;bottom: 0;left: 50%;z-index: 0;}#sk-container-id-2 div.sk-serial {display: flex;flex-direction: column;align-items: center;background-color: white;padding-right: 0.2em;padding-left: 0.2em;position: relative;}#sk-container-id-2 div.sk-item {position: relative;z-index: 1;}#sk-container-id-2 div.sk-parallel {display: flex;align-items: stretch;justify-content: center;background-color: white;position: relative;}#sk-container-id-2 div.sk-item::before, #sk-container-id-2 div.sk-parallel-item::before {content: \"\";position: absolute;border-left: 1px solid gray;box-sizing: border-box;top: 0;bottom: 0;left: 50%;z-index: -1;}#sk-container-id-2 div.sk-parallel-item {display: flex;flex-direction: column;z-index: 1;position: relative;background-color: white;}#sk-container-id-2 div.sk-parallel-item:first-child::after {align-self: flex-end;width: 50%;}#sk-container-id-2 div.sk-parallel-item:last-child::after {align-self: flex-start;width: 50%;}#sk-container-id-2 div.sk-parallel-item:only-child::after {width: 0;}#sk-container-id-2 div.sk-dashed-wrapped {border: 1px dashed gray;margin: 0 0.4em 0.5em 0.4em;box-sizing: border-box;padding-bottom: 0.4em;background-color: white;}#sk-container-id-2 div.sk-label label {font-family: monospace;font-weight: bold;display: inline-block;line-height: 1.2em;}#sk-container-id-2 div.sk-label-container {text-align: center;}#sk-container-id-2 div.sk-container {/* jupyter's `normalize.less` sets `[hidden] { display: none; }` but bootstrap.min.css set `[hidden] { display: none !important; }` so we also need the `!important` here to be able to override the default hidden behavior on the sphinx rendered scikit-learn.org. See: https://github.com/scikit-learn/scikit-learn/issues/21755 */display: inline-block !important;position: relative;}#sk-container-id-2 div.sk-text-repr-fallback {display: none;}</style><div id=\"sk-container-id-2\" class=\"sk-top-container\"><div class=\"sk-text-repr-fallback\"><pre>DecisionTreeClassifier(random_state=42)</pre><b>In a Jupyter environment, please rerun this cell to show the HTML representation or trust the notebook. <br />On GitHub, the HTML representation is unable to render, please try loading this page with nbviewer.org.</b></div><div class=\"sk-container\" hidden><div class=\"sk-item\"><div class=\"sk-estimator sk-toggleable\"><input class=\"sk-toggleable__control sk-hidden--visually\" id=\"sk-estimator-id-2\" type=\"checkbox\" checked><label for=\"sk-estimator-id-2\" class=\"sk-toggleable__label sk-toggleable__label-arrow\">DecisionTreeClassifier</label><div class=\"sk-toggleable__content\"><pre>DecisionTreeClassifier(random_state=42)</pre></div></div></div></div></div>"
      ],
      "text/plain": [
       "DecisionTreeClassifier(random_state=42)"
      ]
     },
     "execution_count": 10,
     "metadata": {},
     "output_type": "execute_result"
    }
   ],
   "source": [
    "dt = DecisionTreeClassifier(random_state=42)\n",
    "dt.fit(X_train, y_train)"
   ]
  },
  {
   "cell_type": "markdown",
   "id": "96dfe228",
   "metadata": {
    "papermill": {
     "duration": 0.013046,
     "end_time": "2024-01-30T09:09:10.378361",
     "exception": false,
     "start_time": "2024-01-30T09:09:10.365315",
     "status": "completed"
    },
    "tags": []
   },
   "source": [
    "### 分割データの予測"
   ]
  },
  {
   "cell_type": "markdown",
   "id": "acd59361",
   "metadata": {
    "papermill": {
     "duration": 0.012348,
     "end_time": "2024-01-30T09:09:10.403305",
     "exception": false,
     "start_time": "2024-01-30T09:09:10.390957",
     "status": "completed"
    },
    "tags": []
   },
   "source": [
    "### LinearRegression"
   ]
  },
  {
   "cell_type": "code",
   "execution_count": 11,
   "id": "f48bcae2",
   "metadata": {
    "execution": {
     "iopub.execute_input": "2024-01-30T09:09:10.431006Z",
     "iopub.status.busy": "2024-01-30T09:09:10.430661Z",
     "iopub.status.idle": "2024-01-30T09:09:10.569009Z",
     "shell.execute_reply": "2024-01-30T09:09:10.567643Z"
    },
    "papermill": {
     "duration": 0.156986,
     "end_time": "2024-01-30T09:09:10.573198",
     "exception": false,
     "start_time": "2024-01-30T09:09:10.416212",
     "status": "completed"
    },
    "tags": []
   },
   "outputs": [
    {
     "name": "stdout",
     "output_type": "stream",
     "text": [
      "Train Score: 0.8737269471047375\n",
      "Valid Score: 0.8750973416767637\n"
     ]
    }
   ],
   "source": [
    "lr_train_pred = lr.predict(X_train_scaled)\n",
    "lr_valid_pred = lr.predict(X_valid_scaled)\n",
    "\n",
    "print(f\"Train Score: {roc_auc_score(y_train, lr_train_pred)}\")\n",
    "print(f\"Valid Score: {roc_auc_score(y_valid, lr_valid_pred)}\")"
   ]
  },
  {
   "cell_type": "markdown",
   "id": "4248a825",
   "metadata": {
    "papermill": {
     "duration": 0.013558,
     "end_time": "2024-01-30T09:09:10.601702",
     "exception": false,
     "start_time": "2024-01-30T09:09:10.588144",
     "status": "completed"
    },
    "tags": []
   },
   "source": [
    "### Lasso"
   ]
  },
  {
   "cell_type": "code",
   "execution_count": 12,
   "id": "87ae8d43",
   "metadata": {
    "execution": {
     "iopub.execute_input": "2024-01-30T09:09:10.630353Z",
     "iopub.status.busy": "2024-01-30T09:09:10.629978Z",
     "iopub.status.idle": "2024-01-30T09:09:10.793721Z",
     "shell.execute_reply": "2024-01-30T09:09:10.792636Z"
    },
    "papermill": {
     "duration": 0.182244,
     "end_time": "2024-01-30T09:09:10.797569",
     "exception": false,
     "start_time": "2024-01-30T09:09:10.615325",
     "status": "completed"
    },
    "tags": []
   },
   "outputs": [
    {
     "name": "stdout",
     "output_type": "stream",
     "text": [
      "Train Score: 0.6249866085998443\n",
      "Valid Score: 0.6240523404885192\n"
     ]
    }
   ],
   "source": [
    "lasso_train_pred = lasso.predict(X_train)\n",
    "lasso_valid_pred = lasso.predict(X_valid)\n",
    "\n",
    "print(f\"Train Score: {roc_auc_score(y_train, lasso_train_pred)}\")\n",
    "print(f\"Valid Score: {roc_auc_score(y_valid, lasso_valid_pred)}\")"
   ]
  },
  {
   "cell_type": "markdown",
   "id": "b3151ce9",
   "metadata": {
    "papermill": {
     "duration": 0.013302,
     "end_time": "2024-01-30T09:09:10.827764",
     "exception": false,
     "start_time": "2024-01-30T09:09:10.814462",
     "status": "completed"
    },
    "tags": []
   },
   "source": [
    "### Ridge"
   ]
  },
  {
   "cell_type": "code",
   "execution_count": 13,
   "id": "9b358969",
   "metadata": {
    "execution": {
     "iopub.execute_input": "2024-01-30T09:09:10.856078Z",
     "iopub.status.busy": "2024-01-30T09:09:10.855700Z",
     "iopub.status.idle": "2024-01-30T09:09:10.996821Z",
     "shell.execute_reply": "2024-01-30T09:09:10.995165Z"
    },
    "papermill": {
     "duration": 0.160042,
     "end_time": "2024-01-30T09:09:11.001240",
     "exception": false,
     "start_time": "2024-01-30T09:09:10.841198",
     "status": "completed"
    },
    "tags": []
   },
   "outputs": [
    {
     "name": "stdout",
     "output_type": "stream",
     "text": [
      "Train Score: 0.4255308832436886\n",
      "Valid Score: 0.42542501956215867\n"
     ]
    },
    {
     "name": "stderr",
     "output_type": "stream",
     "text": [
      "/opt/conda/lib/python3.10/site-packages/sklearn/base.py:439: UserWarning: X does not have valid feature names, but Lasso was fitted with feature names\n",
      "  warnings.warn(\n",
      "/opt/conda/lib/python3.10/site-packages/sklearn/base.py:439: UserWarning: X does not have valid feature names, but Lasso was fitted with feature names\n",
      "  warnings.warn(\n"
     ]
    }
   ],
   "source": [
    "ridge_train_pred = lasso.predict(X_train_scaled)\n",
    "ridge_valid_pred = lasso.predict(X_valid_scaled)\n",
    "\n",
    "print(f\"Train Score: {roc_auc_score(y_train, ridge_train_pred)}\")\n",
    "print(f\"Valid Score: {roc_auc_score(y_valid, ridge_valid_pred)}\")"
   ]
  },
  {
   "cell_type": "markdown",
   "id": "cfb68132",
   "metadata": {
    "papermill": {
     "duration": 0.013234,
     "end_time": "2024-01-30T09:09:11.028718",
     "exception": false,
     "start_time": "2024-01-30T09:09:11.015484",
     "status": "completed"
    },
    "tags": []
   },
   "source": [
    "### LGBMClassifier"
   ]
  },
  {
   "cell_type": "code",
   "execution_count": 14,
   "id": "67cf4902",
   "metadata": {
    "execution": {
     "iopub.execute_input": "2024-01-30T09:09:11.057198Z",
     "iopub.status.busy": "2024-01-30T09:09:11.056855Z",
     "iopub.status.idle": "2024-01-30T09:09:12.235767Z",
     "shell.execute_reply": "2024-01-30T09:09:12.234682Z"
    },
    "papermill": {
     "duration": 1.195928,
     "end_time": "2024-01-30T09:09:12.238391",
     "exception": false,
     "start_time": "2024-01-30T09:09:11.042463",
     "status": "completed"
    },
    "tags": []
   },
   "outputs": [
    {
     "name": "stdout",
     "output_type": "stream",
     "text": [
      "Train Score: 0.8984512875486296\n",
      "Valid Score: 0.8907950785372794\n"
     ]
    }
   ],
   "source": [
    "lgb_train_pred = lgb.predict_proba(X_train)[:, 1]\n",
    "lgb_valid_pred = lgb.predict_proba(X_valid)[:, 1]\n",
    "print(f\"Train Score: {roc_auc_score(y_train, lgb_train_pred)}\")\n",
    "print(f\"Valid Score: {roc_auc_score(y_valid, lgb_valid_pred)}\")"
   ]
  },
  {
   "cell_type": "markdown",
   "id": "038e9c5c",
   "metadata": {
    "papermill": {
     "duration": 0.013789,
     "end_time": "2024-01-30T09:09:12.265849",
     "exception": false,
     "start_time": "2024-01-30T09:09:12.252060",
     "status": "completed"
    },
    "tags": []
   },
   "source": [
    "### DecisionTreeClassifier"
   ]
  },
  {
   "cell_type": "code",
   "execution_count": 15,
   "id": "4843e429",
   "metadata": {
    "execution": {
     "iopub.execute_input": "2024-01-30T09:09:12.295225Z",
     "iopub.status.busy": "2024-01-30T09:09:12.294854Z",
     "iopub.status.idle": "2024-01-30T09:09:12.315039Z",
     "shell.execute_reply": "2024-01-30T09:09:12.313826Z"
    },
    "papermill": {
     "duration": 0.037725,
     "end_time": "2024-01-30T09:09:12.317633",
     "exception": false,
     "start_time": "2024-01-30T09:09:12.279908",
     "status": "completed"
    },
    "tags": []
   },
   "outputs": [
    {
     "name": "stdout",
     "output_type": "stream",
     "text": [
      "[0. 0. 1. ... 1. 0. 0.]\n"
     ]
    }
   ],
   "source": [
    "y_test_pred = dt.predict(X_valid)\n",
    "print(y_test_pred)"
   ]
  },
  {
   "cell_type": "code",
   "execution_count": 16,
   "id": "5e2593b1",
   "metadata": {
    "execution": {
     "iopub.execute_input": "2024-01-30T09:09:12.350077Z",
     "iopub.status.busy": "2024-01-30T09:09:12.349699Z",
     "iopub.status.idle": "2024-01-30T09:09:12.364393Z",
     "shell.execute_reply": "2024-01-30T09:09:12.363373Z"
    },
    "papermill": {
     "duration": 0.033295,
     "end_time": "2024-01-30T09:09:12.366938",
     "exception": false,
     "start_time": "2024-01-30T09:09:12.333643",
     "status": "completed"
    },
    "tags": []
   },
   "outputs": [
    {
     "data": {
      "text/html": [
       "<div>\n",
       "<style scoped>\n",
       "    .dataframe tbody tr th:only-of-type {\n",
       "        vertical-align: middle;\n",
       "    }\n",
       "\n",
       "    .dataframe tbody tr th {\n",
       "        vertical-align: top;\n",
       "    }\n",
       "\n",
       "    .dataframe thead th {\n",
       "        text-align: right;\n",
       "    }\n",
       "</style>\n",
       "<table border=\"1\" class=\"dataframe\">\n",
       "  <thead>\n",
       "    <tr style=\"text-align: right;\">\n",
       "      <th></th>\n",
       "      <th>y_valid</th>\n",
       "      <th>y_pred</th>\n",
       "    </tr>\n",
       "  </thead>\n",
       "  <tbody>\n",
       "    <tr>\n",
       "      <th>0</th>\n",
       "      <td>0</td>\n",
       "      <td>0</td>\n",
       "    </tr>\n",
       "    <tr>\n",
       "      <th>1</th>\n",
       "      <td>0</td>\n",
       "      <td>0</td>\n",
       "    </tr>\n",
       "    <tr>\n",
       "      <th>2</th>\n",
       "      <td>1</td>\n",
       "      <td>1</td>\n",
       "    </tr>\n",
       "    <tr>\n",
       "      <th>3</th>\n",
       "      <td>0</td>\n",
       "      <td>1</td>\n",
       "    </tr>\n",
       "    <tr>\n",
       "      <th>4</th>\n",
       "      <td>0</td>\n",
       "      <td>0</td>\n",
       "    </tr>\n",
       "  </tbody>\n",
       "</table>\n",
       "</div>"
      ],
      "text/plain": [
       "   y_valid  y_pred\n",
       "0        0       0\n",
       "1        0       0\n",
       "2        1       1\n",
       "3        0       1\n",
       "4        0       0"
      ]
     },
     "execution_count": 16,
     "metadata": {},
     "output_type": "execute_result"
    }
   ],
   "source": [
    "results_test = pd.DataFrame({\"y_valid\": y_valid,\n",
    "                           \"y_pred\": y_test_pred})\n",
    "results_test = results_test.astype(int)\n",
    "results_test.head()"
   ]
  },
  {
   "cell_type": "code",
   "execution_count": 17,
   "id": "610c8f3e",
   "metadata": {
    "execution": {
     "iopub.execute_input": "2024-01-30T09:09:12.399618Z",
     "iopub.status.busy": "2024-01-30T09:09:12.398946Z",
     "iopub.status.idle": "2024-01-30T09:09:12.472718Z",
     "shell.execute_reply": "2024-01-30T09:09:12.471272Z"
    },
    "papermill": {
     "duration": 0.09111,
     "end_time": "2024-01-30T09:09:12.475146",
     "exception": false,
     "start_time": "2024-01-30T09:09:12.384036",
     "status": "completed"
    },
    "tags": []
   },
   "outputs": [
    {
     "name": "stdout",
     "output_type": "stream",
     "text": [
      "0.9997727737508237\n"
     ]
    }
   ],
   "source": [
    "print(dt.score(X_train, y_train))"
   ]
  },
  {
   "cell_type": "markdown",
   "id": "f4fbe9ce",
   "metadata": {
    "papermill": {
     "duration": 0.01404,
     "end_time": "2024-01-30T09:09:12.503506",
     "exception": false,
     "start_time": "2024-01-30T09:09:12.489466",
     "status": "completed"
    },
    "tags": []
   },
   "source": [
    "### 特徴重要度を算出する"
   ]
  },
  {
   "cell_type": "code",
   "execution_count": 18,
   "id": "2434e00c",
   "metadata": {
    "execution": {
     "iopub.execute_input": "2024-01-30T09:09:12.534167Z",
     "iopub.status.busy": "2024-01-30T09:09:12.533309Z",
     "iopub.status.idle": "2024-01-30T09:09:12.548545Z",
     "shell.execute_reply": "2024-01-30T09:09:12.547499Z"
    },
    "papermill": {
     "duration": 0.03289,
     "end_time": "2024-01-30T09:09:12.550869",
     "exception": false,
     "start_time": "2024-01-30T09:09:12.517979",
     "status": "completed"
    },
    "tags": []
   },
   "outputs": [
    {
     "data": {
      "text/html": [
       "<div>\n",
       "<style scoped>\n",
       "    .dataframe tbody tr th:only-of-type {\n",
       "        vertical-align: middle;\n",
       "    }\n",
       "\n",
       "    .dataframe tbody tr th {\n",
       "        vertical-align: top;\n",
       "    }\n",
       "\n",
       "    .dataframe thead th {\n",
       "        text-align: right;\n",
       "    }\n",
       "</style>\n",
       "<table border=\"1\" class=\"dataframe\">\n",
       "  <thead>\n",
       "    <tr style=\"text-align: right;\">\n",
       "      <th></th>\n",
       "      <th>feature_names</th>\n",
       "      <th>coefficient</th>\n",
       "    </tr>\n",
       "  </thead>\n",
       "  <tbody>\n",
       "    <tr>\n",
       "      <th>0</th>\n",
       "      <td>CreditScore</td>\n",
       "      <td>0.124912</td>\n",
       "    </tr>\n",
       "    <tr>\n",
       "      <th>1</th>\n",
       "      <td>Age</td>\n",
       "      <td>0.208748</td>\n",
       "    </tr>\n",
       "    <tr>\n",
       "      <th>2</th>\n",
       "      <td>Tenure</td>\n",
       "      <td>0.031354</td>\n",
       "    </tr>\n",
       "    <tr>\n",
       "      <th>3</th>\n",
       "      <td>Balance</td>\n",
       "      <td>0.065353</td>\n",
       "    </tr>\n",
       "    <tr>\n",
       "      <th>4</th>\n",
       "      <td>EstimatedSalary</td>\n",
       "      <td>0.100714</td>\n",
       "    </tr>\n",
       "    <tr>\n",
       "      <th>5</th>\n",
       "      <td>SalaryToBalanceRatio</td>\n",
       "      <td>0.100320</td>\n",
       "    </tr>\n",
       "    <tr>\n",
       "      <th>6</th>\n",
       "      <td>CreditCard_ActiveMember</td>\n",
       "      <td>0.002360</td>\n",
       "    </tr>\n",
       "    <tr>\n",
       "      <th>7</th>\n",
       "      <td>ABPInteraction</td>\n",
       "      <td>0.062784</td>\n",
       "    </tr>\n",
       "    <tr>\n",
       "      <th>8</th>\n",
       "      <td>TotalProductUsage</td>\n",
       "      <td>0.030407</td>\n",
       "    </tr>\n",
       "    <tr>\n",
       "      <th>9</th>\n",
       "      <td>IsSenior</td>\n",
       "      <td>0.000378</td>\n",
       "    </tr>\n",
       "    <tr>\n",
       "      <th>10</th>\n",
       "      <td>AgeGroup</td>\n",
       "      <td>0.003401</td>\n",
       "    </tr>\n",
       "    <tr>\n",
       "      <th>11</th>\n",
       "      <td>BalanceCategory</td>\n",
       "      <td>0.000716</td>\n",
       "    </tr>\n",
       "    <tr>\n",
       "      <th>12</th>\n",
       "      <td>CreditScoreCategory</td>\n",
       "      <td>0.008207</td>\n",
       "    </tr>\n",
       "    <tr>\n",
       "      <th>13</th>\n",
       "      <td>TenureGroup</td>\n",
       "      <td>0.008765</td>\n",
       "    </tr>\n",
       "    <tr>\n",
       "      <th>14</th>\n",
       "      <td>Geography_France</td>\n",
       "      <td>0.003246</td>\n",
       "    </tr>\n",
       "    <tr>\n",
       "      <th>15</th>\n",
       "      <td>Geography_Germany</td>\n",
       "      <td>0.010149</td>\n",
       "    </tr>\n",
       "    <tr>\n",
       "      <th>16</th>\n",
       "      <td>Geography_Spain</td>\n",
       "      <td>0.003699</td>\n",
       "    </tr>\n",
       "    <tr>\n",
       "      <th>17</th>\n",
       "      <td>Gender_Female</td>\n",
       "      <td>0.005898</td>\n",
       "    </tr>\n",
       "    <tr>\n",
       "      <th>18</th>\n",
       "      <td>Gender_Male</td>\n",
       "      <td>0.002510</td>\n",
       "    </tr>\n",
       "    <tr>\n",
       "      <th>19</th>\n",
       "      <td>IsActiveMember_0.0</td>\n",
       "      <td>0.042375</td>\n",
       "    </tr>\n",
       "    <tr>\n",
       "      <th>20</th>\n",
       "      <td>IsActiveMember_1.0</td>\n",
       "      <td>0.000837</td>\n",
       "    </tr>\n",
       "    <tr>\n",
       "      <th>21</th>\n",
       "      <td>HasCrCard_0.0</td>\n",
       "      <td>0.006310</td>\n",
       "    </tr>\n",
       "    <tr>\n",
       "      <th>22</th>\n",
       "      <td>HasCrCard_1.0</td>\n",
       "      <td>0.006061</td>\n",
       "    </tr>\n",
       "    <tr>\n",
       "      <th>23</th>\n",
       "      <td>NumOfProducts_1</td>\n",
       "      <td>0.023929</td>\n",
       "    </tr>\n",
       "    <tr>\n",
       "      <th>24</th>\n",
       "      <td>NumOfProducts_2</td>\n",
       "      <td>0.118457</td>\n",
       "    </tr>\n",
       "    <tr>\n",
       "      <th>25</th>\n",
       "      <td>NumOfProducts_3</td>\n",
       "      <td>0.000170</td>\n",
       "    </tr>\n",
       "    <tr>\n",
       "      <th>26</th>\n",
       "      <td>NumOfProducts_4</td>\n",
       "      <td>0.000134</td>\n",
       "    </tr>\n",
       "    <tr>\n",
       "      <th>27</th>\n",
       "      <td>Geo_Gender_France_Female</td>\n",
       "      <td>0.002711</td>\n",
       "    </tr>\n",
       "    <tr>\n",
       "      <th>28</th>\n",
       "      <td>Geo_Gender_France_Male</td>\n",
       "      <td>0.002951</td>\n",
       "    </tr>\n",
       "    <tr>\n",
       "      <th>29</th>\n",
       "      <td>Geo_Gender_Germany_Female</td>\n",
       "      <td>0.010343</td>\n",
       "    </tr>\n",
       "    <tr>\n",
       "      <th>30</th>\n",
       "      <td>Geo_Gender_Germany_Male</td>\n",
       "      <td>0.003069</td>\n",
       "    </tr>\n",
       "    <tr>\n",
       "      <th>31</th>\n",
       "      <td>Geo_Gender_Spain_Female</td>\n",
       "      <td>0.002234</td>\n",
       "    </tr>\n",
       "    <tr>\n",
       "      <th>32</th>\n",
       "      <td>Geo_Gender_Spain_Male</td>\n",
       "      <td>0.001887</td>\n",
       "    </tr>\n",
       "    <tr>\n",
       "      <th>33</th>\n",
       "      <td>Customer_Status_Long-term</td>\n",
       "      <td>0.002423</td>\n",
       "    </tr>\n",
       "    <tr>\n",
       "      <th>34</th>\n",
       "      <td>Customer_Status_New</td>\n",
       "      <td>0.002189</td>\n",
       "    </tr>\n",
       "  </tbody>\n",
       "</table>\n",
       "</div>"
      ],
      "text/plain": [
       "                feature_names  coefficient\n",
       "0                 CreditScore     0.124912\n",
       "1                         Age     0.208748\n",
       "2                      Tenure     0.031354\n",
       "3                     Balance     0.065353\n",
       "4             EstimatedSalary     0.100714\n",
       "5        SalaryToBalanceRatio     0.100320\n",
       "6     CreditCard_ActiveMember     0.002360\n",
       "7              ABPInteraction     0.062784\n",
       "8           TotalProductUsage     0.030407\n",
       "9                    IsSenior     0.000378\n",
       "10                   AgeGroup     0.003401\n",
       "11            BalanceCategory     0.000716\n",
       "12        CreditScoreCategory     0.008207\n",
       "13                TenureGroup     0.008765\n",
       "14           Geography_France     0.003246\n",
       "15          Geography_Germany     0.010149\n",
       "16            Geography_Spain     0.003699\n",
       "17              Gender_Female     0.005898\n",
       "18                Gender_Male     0.002510\n",
       "19         IsActiveMember_0.0     0.042375\n",
       "20         IsActiveMember_1.0     0.000837\n",
       "21              HasCrCard_0.0     0.006310\n",
       "22              HasCrCard_1.0     0.006061\n",
       "23            NumOfProducts_1     0.023929\n",
       "24            NumOfProducts_2     0.118457\n",
       "25            NumOfProducts_3     0.000170\n",
       "26            NumOfProducts_4     0.000134\n",
       "27   Geo_Gender_France_Female     0.002711\n",
       "28     Geo_Gender_France_Male     0.002951\n",
       "29  Geo_Gender_Germany_Female     0.010343\n",
       "30    Geo_Gender_Germany_Male     0.003069\n",
       "31    Geo_Gender_Spain_Female     0.002234\n",
       "32      Geo_Gender_Spain_Male     0.001887\n",
       "33  Customer_Status_Long-term     0.002423\n",
       "34        Customer_Status_New     0.002189"
      ]
     },
     "execution_count": 18,
     "metadata": {},
     "output_type": "execute_result"
    }
   ],
   "source": [
    "importance = pd.DataFrame({\"feature_names\": X.columns,\n",
    "                          \"coefficient\": dt.feature_importances_})\n",
    "importance"
   ]
  },
  {
   "cell_type": "code",
   "execution_count": 19,
   "id": "8db81091",
   "metadata": {
    "execution": {
     "iopub.execute_input": "2024-01-30T09:09:12.581986Z",
     "iopub.status.busy": "2024-01-30T09:09:12.581639Z",
     "iopub.status.idle": "2024-01-30T09:09:12.595705Z",
     "shell.execute_reply": "2024-01-30T09:09:12.594700Z"
    },
    "papermill": {
     "duration": 0.032187,
     "end_time": "2024-01-30T09:09:12.597989",
     "exception": false,
     "start_time": "2024-01-30T09:09:12.565802",
     "status": "completed"
    },
    "tags": []
   },
   "outputs": [
    {
     "data": {
      "text/html": [
       "<div>\n",
       "<style scoped>\n",
       "    .dataframe tbody tr th:only-of-type {\n",
       "        vertical-align: middle;\n",
       "    }\n",
       "\n",
       "    .dataframe tbody tr th {\n",
       "        vertical-align: top;\n",
       "    }\n",
       "\n",
       "    .dataframe thead th {\n",
       "        text-align: right;\n",
       "    }\n",
       "</style>\n",
       "<table border=\"1\" class=\"dataframe\">\n",
       "  <thead>\n",
       "    <tr style=\"text-align: right;\">\n",
       "      <th></th>\n",
       "      <th>importance</th>\n",
       "    </tr>\n",
       "  </thead>\n",
       "  <tbody>\n",
       "    <tr>\n",
       "      <th>Customer_Status_Long-term</th>\n",
       "      <td>0</td>\n",
       "    </tr>\n",
       "    <tr>\n",
       "      <th>TenureGroup</th>\n",
       "      <td>0</td>\n",
       "    </tr>\n",
       "    <tr>\n",
       "      <th>AgeGroup</th>\n",
       "      <td>0</td>\n",
       "    </tr>\n",
       "    <tr>\n",
       "      <th>IsSenior</th>\n",
       "      <td>0</td>\n",
       "    </tr>\n",
       "    <tr>\n",
       "      <th>HasCrCard_1.0</th>\n",
       "      <td>1</td>\n",
       "    </tr>\n",
       "    <tr>\n",
       "      <th>Customer_Status_New</th>\n",
       "      <td>3</td>\n",
       "    </tr>\n",
       "    <tr>\n",
       "      <th>IsActiveMember_1.0</th>\n",
       "      <td>3</td>\n",
       "    </tr>\n",
       "    <tr>\n",
       "      <th>Gender_Male</th>\n",
       "      <td>3</td>\n",
       "    </tr>\n",
       "    <tr>\n",
       "      <th>CreditScoreCategory</th>\n",
       "      <td>3</td>\n",
       "    </tr>\n",
       "    <tr>\n",
       "      <th>NumOfProducts_4</th>\n",
       "      <td>4</td>\n",
       "    </tr>\n",
       "    <tr>\n",
       "      <th>Geo_Gender_Spain_Male</th>\n",
       "      <td>4</td>\n",
       "    </tr>\n",
       "    <tr>\n",
       "      <th>Geo_Gender_Spain_Female</th>\n",
       "      <td>5</td>\n",
       "    </tr>\n",
       "    <tr>\n",
       "      <th>Geo_Gender_Germany_Male</th>\n",
       "      <td>6</td>\n",
       "    </tr>\n",
       "    <tr>\n",
       "      <th>Geography_Spain</th>\n",
       "      <td>11</td>\n",
       "    </tr>\n",
       "    <tr>\n",
       "      <th>Geo_Gender_France_Female</th>\n",
       "      <td>12</td>\n",
       "    </tr>\n",
       "    <tr>\n",
       "      <th>Geography_France</th>\n",
       "      <td>13</td>\n",
       "    </tr>\n",
       "    <tr>\n",
       "      <th>BalanceCategory</th>\n",
       "      <td>19</td>\n",
       "    </tr>\n",
       "    <tr>\n",
       "      <th>Geo_Gender_France_Male</th>\n",
       "      <td>22</td>\n",
       "    </tr>\n",
       "    <tr>\n",
       "      <th>NumOfProducts_3</th>\n",
       "      <td>29</td>\n",
       "    </tr>\n",
       "    <tr>\n",
       "      <th>HasCrCard_0.0</th>\n",
       "      <td>40</td>\n",
       "    </tr>\n",
       "    <tr>\n",
       "      <th>Geo_Gender_Germany_Female</th>\n",
       "      <td>41</td>\n",
       "    </tr>\n",
       "    <tr>\n",
       "      <th>CreditCard_ActiveMember</th>\n",
       "      <td>59</td>\n",
       "    </tr>\n",
       "    <tr>\n",
       "      <th>NumOfProducts_1</th>\n",
       "      <td>62</td>\n",
       "    </tr>\n",
       "    <tr>\n",
       "      <th>NumOfProducts_2</th>\n",
       "      <td>72</td>\n",
       "    </tr>\n",
       "    <tr>\n",
       "      <th>TotalProductUsage</th>\n",
       "      <td>83</td>\n",
       "    </tr>\n",
       "    <tr>\n",
       "      <th>Gender_Female</th>\n",
       "      <td>110</td>\n",
       "    </tr>\n",
       "    <tr>\n",
       "      <th>Geography_Germany</th>\n",
       "      <td>115</td>\n",
       "    </tr>\n",
       "    <tr>\n",
       "      <th>Tenure</th>\n",
       "      <td>118</td>\n",
       "    </tr>\n",
       "    <tr>\n",
       "      <th>IsActiveMember_0.0</th>\n",
       "      <td>124</td>\n",
       "    </tr>\n",
       "    <tr>\n",
       "      <th>ABPInteraction</th>\n",
       "      <td>229</td>\n",
       "    </tr>\n",
       "    <tr>\n",
       "      <th>SalaryToBalanceRatio</th>\n",
       "      <td>280</td>\n",
       "    </tr>\n",
       "    <tr>\n",
       "      <th>Balance</th>\n",
       "      <td>287</td>\n",
       "    </tr>\n",
       "    <tr>\n",
       "      <th>EstimatedSalary</th>\n",
       "      <td>309</td>\n",
       "    </tr>\n",
       "    <tr>\n",
       "      <th>CreditScore</th>\n",
       "      <td>409</td>\n",
       "    </tr>\n",
       "    <tr>\n",
       "      <th>Age</th>\n",
       "      <td>524</td>\n",
       "    </tr>\n",
       "  </tbody>\n",
       "</table>\n",
       "</div>"
      ],
      "text/plain": [
       "                           importance\n",
       "Customer_Status_Long-term           0\n",
       "TenureGroup                         0\n",
       "AgeGroup                            0\n",
       "IsSenior                            0\n",
       "HasCrCard_1.0                       1\n",
       "Customer_Status_New                 3\n",
       "IsActiveMember_1.0                  3\n",
       "Gender_Male                         3\n",
       "CreditScoreCategory                 3\n",
       "NumOfProducts_4                     4\n",
       "Geo_Gender_Spain_Male               4\n",
       "Geo_Gender_Spain_Female             5\n",
       "Geo_Gender_Germany_Male             6\n",
       "Geography_Spain                    11\n",
       "Geo_Gender_France_Female           12\n",
       "Geography_France                   13\n",
       "BalanceCategory                    19\n",
       "Geo_Gender_France_Male             22\n",
       "NumOfProducts_3                    29\n",
       "HasCrCard_0.0                      40\n",
       "Geo_Gender_Germany_Female          41\n",
       "CreditCard_ActiveMember            59\n",
       "NumOfProducts_1                    62\n",
       "NumOfProducts_2                    72\n",
       "TotalProductUsage                  83\n",
       "Gender_Female                     110\n",
       "Geography_Germany                 115\n",
       "Tenure                            118\n",
       "IsActiveMember_0.0                124\n",
       "ABPInteraction                    229\n",
       "SalaryToBalanceRatio              280\n",
       "Balance                           287\n",
       "EstimatedSalary                   309\n",
       "CreditScore                       409\n",
       "Age                               524"
      ]
     },
     "execution_count": 19,
     "metadata": {},
     "output_type": "execute_result"
    }
   ],
   "source": [
    "importance = lgb.feature_importances_\n",
    "\n",
    "feature_importance = pd.DataFrame(data=importance, index=X.columns, columns=['importance']) \\\n",
    "    .sort_values(ascending=True, by='importance')\n",
    "\n",
    "feature_importance"
   ]
  },
  {
   "cell_type": "code",
   "execution_count": 20,
   "id": "87cbe87b",
   "metadata": {
    "execution": {
     "iopub.execute_input": "2024-01-30T09:09:12.631422Z",
     "iopub.status.busy": "2024-01-30T09:09:12.631076Z",
     "iopub.status.idle": "2024-01-30T09:09:13.368425Z",
     "shell.execute_reply": "2024-01-30T09:09:13.367401Z"
    },
    "papermill": {
     "duration": 0.75652,
     "end_time": "2024-01-30T09:09:13.371615",
     "exception": false,
     "start_time": "2024-01-30T09:09:12.615095",
     "status": "completed"
    },
    "tags": []
   },
   "outputs": [
    {
     "data": {
      "text/plain": [
       "<Axes: >"
      ]
     },
     "execution_count": 20,
     "metadata": {},
     "output_type": "execute_result"
    },
    {
     "data": {
      "image/png": "[encoded data removed]",
      "text/plain": [
       "<Figure size 1000x1500 with 1 Axes>"
      ]
     },
     "metadata": {},
     "output_type": "display_data"
    }
   ],
   "source": [
    "feature_importance.plot(kind='barh', figsize=(10, 15), color='b')"
   ]
  },
  {
   "cell_type": "markdown",
   "id": "0a9bbe7a",
   "metadata": {
    "papermill": {
     "duration": 0.016026,
     "end_time": "2024-01-30T09:09:13.404407",
     "exception": false,
     "start_time": "2024-01-30T09:09:13.388381",
     "status": "completed"
    },
    "tags": []
   },
   "source": [
    "## モデルファイルと評価結果を出力する（ファイルの出力あり）"
   ]
  },
  {
   "cell_type": "code",
   "execution_count": 21,
   "id": "052c59e3",
   "metadata": {
    "execution": {
     "iopub.execute_input": "2024-01-30T09:09:13.438858Z",
     "iopub.status.busy": "2024-01-30T09:09:13.438481Z",
     "iopub.status.idle": "2024-01-30T09:09:13.450969Z",
     "shell.execute_reply": "2024-01-30T09:09:13.449980Z"
    },
    "papermill": {
     "duration": 0.032745,
     "end_time": "2024-01-30T09:09:13.453100",
     "exception": false,
     "start_time": "2024-01-30T09:09:13.420355",
     "status": "completed"
    },
    "tags": []
   },
   "outputs": [],
   "source": [
    "def make_model_and_eval(model, X_train, X_test, y_train, y_test):\n",
    "    model.fit(X_train, y_train)\n",
    "    y_pred_train = model.predict(X_train)\n",
    "    y_pred_test = model.predict(X_test)\n",
    "    \n",
    "    acc_train = accuracy_score(y_train, y_pred_train)\n",
    "    acc_test = accuracy_score(y_test, y_pred_test)\n",
    "    f1_train = f1_score(y_train, y_pred_train)\n",
    "    f1_test = f1_score(y_test, y_pred_test)\n",
    "    recall_train = recall_score(y_train, y_pred_train)\n",
    "    recall_test = recall_score(y_test, y_pred_test)\n",
    "    precision_train = precision_score(y_train, y_pred_train)\n",
    "    precision_test = precision_score(y_test, y_pred_test)\n",
    "\n",
    "    tn_train, fp_train, fn_train, tp_train = confusion_matrix(y_train, y_pred_train).ravel()\n",
    "    tn_test, fp_test, fn_test, tp_test = confusion_matrix(y_test, y_pred_test).ravel()\n",
    "    score_train = pd.DataFrame({'DataCategory':['Train'],\n",
    "                               'acc':[acc_train],\n",
    "                               'f1':[f1_train],\n",
    "                               'recall':[recall_train],\n",
    "                               'precision':[precision_train],\n",
    "                               'tp':[tp_train],\n",
    "                               'fn':[fn_train],\n",
    "                               'fp':[fp_train],\n",
    "                               'tn':[tn_train]})\n",
    "    score_test = pd.DataFrame({'DataCategory':['Valid'],\n",
    "                              'acc':[acc_test],\n",
    "                              'f1':[f1_test],\n",
    "                              'recall':[recall_test],\n",
    "                              'precision':[precision_test],\n",
    "                              'tp':[tp_test],\n",
    "                              'fn':[fn_test],\n",
    "                              'fp':[fp_test],\n",
    "                              'tn':[tn_test]})\n",
    "    score = pd.concat([score_train, score_test], ignore_index=True)\n",
    "    \n",
    "    importance = pd.DataFrame({'cols': X_train.columns,\n",
    "                              'importance': model.feature_importances_})\n",
    "    importance = importance.sort_values('importance', ascending=False)\n",
    "    cols = pd.DataFrame({'X_cols': X_train.columns})\n",
    "    display(score)\n",
    "    \n",
    "    return score, importance, model, cols"
   ]
  },
  {
   "cell_type": "code",
   "execution_count": 22,
   "id": "c3d36c04",
   "metadata": {
    "execution": {
     "iopub.execute_input": "2024-01-30T09:09:13.486507Z",
     "iopub.status.busy": "2024-01-30T09:09:13.486165Z",
     "iopub.status.idle": "2024-01-30T09:10:26.808534Z",
     "shell.execute_reply": "2024-01-30T09:10:26.807324Z"
    },
    "papermill": {
     "duration": 73.348862,
     "end_time": "2024-01-30T09:10:26.818510",
     "exception": false,
     "start_time": "2024-01-30T09:09:13.469648",
     "status": "completed"
    },
    "tags": []
   },
   "outputs": [
    {
     "name": "stdout",
     "output_type": "stream",
     "text": [
      "results_2024013009\n",
      "tree\n"
     ]
    },
    {
     "data": {
      "text/html": [
       "<div>\n",
       "<style scoped>\n",
       "    .dataframe tbody tr th:only-of-type {\n",
       "        vertical-align: middle;\n",
       "    }\n",
       "\n",
       "    .dataframe tbody tr th {\n",
       "        vertical-align: top;\n",
       "    }\n",
       "\n",
       "    .dataframe thead th {\n",
       "        text-align: right;\n",
       "    }\n",
       "</style>\n",
       "<table border=\"1\" class=\"dataframe\">\n",
       "  <thead>\n",
       "    <tr style=\"text-align: right;\">\n",
       "      <th></th>\n",
       "      <th>DataCategory</th>\n",
       "      <th>acc</th>\n",
       "      <th>f1</th>\n",
       "      <th>recall</th>\n",
       "      <th>precision</th>\n",
       "      <th>tp</th>\n",
       "      <th>fn</th>\n",
       "      <th>fp</th>\n",
       "      <th>tn</th>\n",
       "    </tr>\n",
       "  </thead>\n",
       "  <tbody>\n",
       "    <tr>\n",
       "      <th>0</th>\n",
       "      <td>Train</td>\n",
       "      <td>0.999773</td>\n",
       "      <td>0.999463</td>\n",
       "      <td>0.998927</td>\n",
       "      <td>1.000000</td>\n",
       "      <td>27936</td>\n",
       "      <td>30</td>\n",
       "      <td>0</td>\n",
       "      <td>104061</td>\n",
       "    </tr>\n",
       "    <tr>\n",
       "      <th>1</th>\n",
       "      <td>Valid</td>\n",
       "      <td>0.797164</td>\n",
       "      <td>0.531785</td>\n",
       "      <td>0.546657</td>\n",
       "      <td>0.517702</td>\n",
       "      <td>3802</td>\n",
       "      <td>3153</td>\n",
       "      <td>3542</td>\n",
       "      <td>22510</td>\n",
       "    </tr>\n",
       "  </tbody>\n",
       "</table>\n",
       "</div>"
      ],
      "text/plain": [
       "  DataCategory       acc        f1    recall  precision     tp    fn    fp  \\\n",
       "0        Train  0.999773  0.999463  0.998927   1.000000  27936    30     0   \n",
       "1        Valid  0.797164  0.531785  0.546657   0.517702   3802  3153  3542   \n",
       "\n",
       "       tn  \n",
       "0  104061  \n",
       "1   22510  "
      ]
     },
     "metadata": {},
     "output_type": "display_data"
    },
    {
     "name": "stdout",
     "output_type": "stream",
     "text": [
      "RandomForest\n"
     ]
    },
    {
     "data": {
      "text/html": [
       "<div>\n",
       "<style scoped>\n",
       "    .dataframe tbody tr th:only-of-type {\n",
       "        vertical-align: middle;\n",
       "    }\n",
       "\n",
       "    .dataframe tbody tr th {\n",
       "        vertical-align: top;\n",
       "    }\n",
       "\n",
       "    .dataframe thead th {\n",
       "        text-align: right;\n",
       "    }\n",
       "</style>\n",
       "<table border=\"1\" class=\"dataframe\">\n",
       "  <thead>\n",
       "    <tr style=\"text-align: right;\">\n",
       "      <th></th>\n",
       "      <th>DataCategory</th>\n",
       "      <th>acc</th>\n",
       "      <th>f1</th>\n",
       "      <th>recall</th>\n",
       "      <th>precision</th>\n",
       "      <th>tp</th>\n",
       "      <th>fn</th>\n",
       "      <th>fp</th>\n",
       "      <th>tn</th>\n",
       "    </tr>\n",
       "  </thead>\n",
       "  <tbody>\n",
       "    <tr>\n",
       "      <th>0</th>\n",
       "      <td>Train</td>\n",
       "      <td>0.999682</td>\n",
       "      <td>0.999249</td>\n",
       "      <td>0.998927</td>\n",
       "      <td>0.999571</td>\n",
       "      <td>27936</td>\n",
       "      <td>30</td>\n",
       "      <td>12</td>\n",
       "      <td>104049</td>\n",
       "    </tr>\n",
       "    <tr>\n",
       "      <th>1</th>\n",
       "      <td>Valid</td>\n",
       "      <td>0.857939</td>\n",
       "      <td>0.618563</td>\n",
       "      <td>0.546657</td>\n",
       "      <td>0.712252</td>\n",
       "      <td>3802</td>\n",
       "      <td>3153</td>\n",
       "      <td>1536</td>\n",
       "      <td>24516</td>\n",
       "    </tr>\n",
       "  </tbody>\n",
       "</table>\n",
       "</div>"
      ],
      "text/plain": [
       "  DataCategory       acc        f1    recall  precision     tp    fn    fp  \\\n",
       "0        Train  0.999682  0.999249  0.998927   0.999571  27936    30    12   \n",
       "1        Valid  0.857939  0.618563  0.546657   0.712252   3802  3153  1536   \n",
       "\n",
       "       tn  \n",
       "0  104049  \n",
       "1   24516  "
      ]
     },
     "metadata": {},
     "output_type": "display_data"
    },
    {
     "name": "stdout",
     "output_type": "stream",
     "text": [
      "GradientBoostingClassifier\n"
     ]
    },
    {
     "data": {
      "text/html": [
       "<div>\n",
       "<style scoped>\n",
       "    .dataframe tbody tr th:only-of-type {\n",
       "        vertical-align: middle;\n",
       "    }\n",
       "\n",
       "    .dataframe tbody tr th {\n",
       "        vertical-align: top;\n",
       "    }\n",
       "\n",
       "    .dataframe thead th {\n",
       "        text-align: right;\n",
       "    }\n",
       "</style>\n",
       "<table border=\"1\" class=\"dataframe\">\n",
       "  <thead>\n",
       "    <tr style=\"text-align: right;\">\n",
       "      <th></th>\n",
       "      <th>DataCategory</th>\n",
       "      <th>acc</th>\n",
       "      <th>f1</th>\n",
       "      <th>recall</th>\n",
       "      <th>precision</th>\n",
       "      <th>tp</th>\n",
       "      <th>fn</th>\n",
       "      <th>fp</th>\n",
       "      <th>tn</th>\n",
       "    </tr>\n",
       "  </thead>\n",
       "  <tbody>\n",
       "    <tr>\n",
       "      <th>0</th>\n",
       "      <td>Train</td>\n",
       "      <td>0.865300</td>\n",
       "      <td>0.632060</td>\n",
       "      <td>0.546199</td>\n",
       "      <td>0.749951</td>\n",
       "      <td>15275</td>\n",
       "      <td>12691</td>\n",
       "      <td>5093</td>\n",
       "      <td>98968</td>\n",
       "    </tr>\n",
       "    <tr>\n",
       "      <th>1</th>\n",
       "      <td>Valid</td>\n",
       "      <td>0.866362</td>\n",
       "      <td>0.634821</td>\n",
       "      <td>0.551258</td>\n",
       "      <td>0.748244</td>\n",
       "      <td>3834</td>\n",
       "      <td>3121</td>\n",
       "      <td>1290</td>\n",
       "      <td>24762</td>\n",
       "    </tr>\n",
       "  </tbody>\n",
       "</table>\n",
       "</div>"
      ],
      "text/plain": [
       "  DataCategory       acc        f1    recall  precision     tp     fn    fp  \\\n",
       "0        Train  0.865300  0.632060  0.546199   0.749951  15275  12691  5093   \n",
       "1        Valid  0.866362  0.634821  0.551258   0.748244   3834   3121  1290   \n",
       "\n",
       "      tn  \n",
       "0  98968  \n",
       "1  24762  "
      ]
     },
     "metadata": {},
     "output_type": "display_data"
    }
   ],
   "source": [
    "import datetime\n",
    "import pickle\n",
    "from sklearn.metrics import accuracy_score, f1_score, recall_score, precision_score, confusion_matrix\n",
    "\n",
    "now = datetime.datetime.now().strftime(\"%Y%m%d%H\")\n",
    "target_output_dir = 'results_' + now\n",
    "\n",
    "os.makedirs(target_output_dir, exist_ok=True)\n",
    "print(target_output_dir)\n",
    "\n",
    "from sklearn.ensemble import RandomForestClassifier, GradientBoostingClassifier\n",
    "\n",
    "models = {'tree': DecisionTreeClassifier(random_state=0), \n",
    "          'RandomForest':RandomForestClassifier(random_state=0),\n",
    "          'GradientBoostingClassifier':GradientBoostingClassifier(random_state=0)}\n",
    "\n",
    "score_all = []\n",
    "importance_all = []\n",
    "for model_name, model in models.items():\n",
    "    print(model_name)\n",
    "    score, importance, model, cols = make_model_and_eval(model, X_train, X_valid, y_train, y_valid)\n",
    "    score['model_name'] = model_name\n",
    "    importance['model_name'] = model_name\n",
    "    \n",
    "    model_names = f'model_{model_name}.pickle'\n",
    "    model_path = os.path.join(target_output_dir, model_names)\n",
    "    with open(model_path, mode='wb') as f:\n",
    "        pickle.dump(model, f, protocol=2)\n",
    "    score_all.append(score)\n",
    "    importance_all.append(importance)\n",
    "score_all = pd.concat(score_all, ignore_index=True)\n",
    "importance_all = pd.concat(importance_all, ignore_index=True)\n",
    "cols = pd.DataFrame({'X_cols':X_train.columns})\n",
    "\n",
    "score_name = 'score.csv'\n",
    "importance_name = 'importance.csv'\n",
    "cols_name = 'X_cols.csv'\n",
    "\n",
    "score_path = os.path.join(target_output_dir, score_name)\n",
    "importance_path = os.path.join(target_output_dir, importance_name)\n",
    "cols_path = os.path.join(target_output_dir, cols_name)\n",
    "\n",
    "score_all.to_csv(score_path, index=False)\n",
    "importance_all.to_csv(importance_path, index=False)\n",
    "cols.to_csv(cols_path, index=False)"
   ]
  },
  {
   "cell_type": "markdown",
   "id": "feeb252e",
   "metadata": {
    "papermill": {
     "duration": 0.019604,
     "end_time": "2024-01-30T09:10:26.857522",
     "exception": false,
     "start_time": "2024-01-30T09:10:26.837918",
     "status": "completed"
    },
    "tags": []
   },
   "source": [
    "## モデルの予測"
   ]
  },
  {
   "cell_type": "code",
   "execution_count": 23,
   "id": "6c47b1e4",
   "metadata": {
    "execution": {
     "iopub.execute_input": "2024-01-30T09:10:26.901585Z",
     "iopub.status.busy": "2024-01-30T09:10:26.900903Z",
     "iopub.status.idle": "2024-01-30T09:10:27.674184Z",
     "shell.execute_reply": "2024-01-30T09:10:27.673249Z"
    },
    "papermill": {
     "duration": 0.800627,
     "end_time": "2024-01-30T09:10:27.676787",
     "exception": false,
     "start_time": "2024-01-30T09:10:26.876160",
     "status": "completed"
    },
    "tags": []
   },
   "outputs": [],
   "source": [
    "sample_sub['Exited'] = lgb.predict_proba(test)[:, 1]"
   ]
  },
  {
   "cell_type": "markdown",
   "id": "9a76f9f1",
   "metadata": {
    "papermill": {
     "duration": 0.016445,
     "end_time": "2024-01-30T09:10:27.712906",
     "exception": false,
     "start_time": "2024-01-30T09:10:27.696461",
     "status": "completed"
    },
    "tags": []
   },
   "source": [
    "# 提出"
   ]
  },
  {
   "cell_type": "code",
   "execution_count": 24,
   "id": "740ecdc5",
   "metadata": {
    "execution": {
     "iopub.execute_input": "2024-01-30T09:10:27.749585Z",
     "iopub.status.busy": "2024-01-30T09:10:27.748847Z",
     "iopub.status.idle": "2024-01-30T09:10:28.200512Z",
     "shell.execute_reply": "2024-01-30T09:10:28.199612Z"
    },
    "papermill": {
     "duration": 0.472965,
     "end_time": "2024-01-30T09:10:28.202987",
     "exception": false,
     "start_time": "2024-01-30T09:10:27.730022",
     "status": "completed"
    },
    "tags": []
   },
   "outputs": [],
   "source": [
    "sample_sub.to_csv('submission.csv', index=False)"
   ]
  },
  {
   "cell_type": "code",
   "execution_count": 25,
   "id": "95f38224",
   "metadata": {
    "execution": {
     "iopub.execute_input": "2024-01-30T09:10:28.241135Z",
     "iopub.status.busy": "2024-01-30T09:10:28.240802Z",
     "iopub.status.idle": "2024-01-30T09:10:28.251790Z",
     "shell.execute_reply": "2024-01-30T09:10:28.250753Z"
    },
    "papermill": {
     "duration": 0.032248,
     "end_time": "2024-01-30T09:10:28.253931",
     "exception": false,
     "start_time": "2024-01-30T09:10:28.221683",
     "status": "completed"
    },
    "tags": []
   },
   "outputs": [
    {
     "data": {
      "text/html": [
       "<div>\n",
       "<style scoped>\n",
       "    .dataframe tbody tr th:only-of-type {\n",
       "        vertical-align: middle;\n",
       "    }\n",
       "\n",
       "    .dataframe tbody tr th {\n",
       "        vertical-align: top;\n",
       "    }\n",
       "\n",
       "    .dataframe thead th {\n",
       "        text-align: right;\n",
       "    }\n",
       "</style>\n",
       "<table border=\"1\" class=\"dataframe\">\n",
       "  <thead>\n",
       "    <tr style=\"text-align: right;\">\n",
       "      <th></th>\n",
       "      <th>id</th>\n",
       "      <th>Exited</th>\n",
       "    </tr>\n",
       "  </thead>\n",
       "  <tbody>\n",
       "    <tr>\n",
       "      <th>0</th>\n",
       "      <td>165034</td>\n",
       "      <td>0.023592</td>\n",
       "    </tr>\n",
       "    <tr>\n",
       "      <th>1</th>\n",
       "      <td>165035</td>\n",
       "      <td>0.822940</td>\n",
       "    </tr>\n",
       "    <tr>\n",
       "      <th>2</th>\n",
       "      <td>165036</td>\n",
       "      <td>0.025955</td>\n",
       "    </tr>\n",
       "    <tr>\n",
       "      <th>3</th>\n",
       "      <td>165037</td>\n",
       "      <td>0.219659</td>\n",
       "    </tr>\n",
       "    <tr>\n",
       "      <th>4</th>\n",
       "      <td>165038</td>\n",
       "      <td>0.368310</td>\n",
       "    </tr>\n",
       "  </tbody>\n",
       "</table>\n",
       "</div>"
      ],
      "text/plain": [
       "       id    Exited\n",
       "0  165034  0.023592\n",
       "1  165035  0.822940\n",
       "2  165036  0.025955\n",
       "3  165037  0.219659\n",
       "4  165038  0.368310"
      ]
     },
     "execution_count": 25,
     "metadata": {},
     "output_type": "execute_result"
    }
   ],
   "source": [
    "sample_sub.head()"
   ]
  },
  {
   "cell_type": "code",
   "execution_count": null,
   "id": "f079f222",
   "metadata": {
    "papermill": {
     "duration": 0.01782,
     "end_time": "2024-01-30T09:10:28.289936",
     "exception": false,
     "start_time": "2024-01-30T09:10:28.272116",
     "status": "completed"
    },
    "tags": []
   },
   "outputs": [],
   "source": []
  }
 ],
 "metadata": {
  "kaggle": {
   "accelerator": "nvidiaTeslaT4",
   "dataSources": [
    {
     "databundleVersionId": 7405009,
     "sourceId": 65711,
     "sourceType": "competition"
    },
    {
     "databundleVersionId": 7605099,
     "datasetId": 4374201,
     "sourceId": 7511820,
     "sourceType": "datasetVersion"
    }
   ],
   "dockerImageVersionId": 30636,
   "isGpuEnabled": true,
   "isInternetEnabled": true,
   "language": "python",
   "sourceType": "notebook"
  },
  "kernelspec": {
   "display_name": "Python 3",
   "language": "python",
   "name": "python3"
  },
  "language_info": {
   "codemirror_mode": {
    "name": "ipython",
    "version": 3
   },
   "file_extension": ".py",
   "mimetype": "text/x-python",
   "name": "python",
   "nbconvert_exporter": "python",
   "pygments_lexer": "ipython3",
   "version": "3.10.12"
  },
  "papermill": {
   "default_parameters": {},
   "duration": 97.586443,
   "end_time": "2024-01-30T09:10:29.530574",
   "environment_variables": {},
   "exception": null,
   "input_path": "__notebook__.ipynb",
   "output_path": "__notebook__.ipynb",
   "parameters": {},
   "start_time": "2024-01-30T09:08:51.944131",
   "version": "2.4.0"
  }
 },
 "nbformat": 4,
 "nbformat_minor": 5
}

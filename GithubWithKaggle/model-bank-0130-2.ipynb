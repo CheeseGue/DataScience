{
 "cells": [
  {
   "cell_type": "code",
   "execution_count": 1,
   "id": "d5287a52",
   "metadata": {
    "_cell_guid": "b1076dfc-b9ad-4769-8c92-a6c4dae69d19",
    "_uuid": "8f2839f25d086af736a60e9eeb907d3b93b6e0e5",
    "execution": {
     "iopub.execute_input": "2024-01-30T02:10:44.305041Z",
     "iopub.status.busy": "2024-01-30T02:10:44.304737Z",
     "iopub.status.idle": "2024-01-30T02:10:45.553023Z",
     "shell.execute_reply": "2024-01-30T02:10:45.551846Z"
    },
    "papermill": {
     "duration": 1.256941,
     "end_time": "2024-01-30T02:10:45.555130",
     "exception": false,
     "start_time": "2024-01-30T02:10:44.298189",
     "status": "completed"
    },
    "tags": []
   },
   "outputs": [
    {
     "name": "stdout",
     "output_type": "stream",
     "text": [
      "/kaggle/input/playground-series-s4e1/sample_submission.csv\n",
      "/kaggle/input/playground-series-s4e1/train.csv\n",
      "/kaggle/input/playground-series-s4e1/test.csv\n"
     ]
    }
   ],
   "source": [
    "# This Python 3 environment comes with many helpful analytics libraries installed\n",
    "# It is defined by the kaggle/python Docker image: https://github.com/kaggle/docker-python\n",
    "# For example, here's several helpful packages to load\n",
    "\n",
    "import numpy as np # linear algebra\n",
    "import pandas as pd # data processing, CSV file I/O (e.g. pd.read_csv)\n",
    "\n",
    "# Input data files are available in the read-only \"../input/\" directory\n",
    "# For example, running this (by clicking run or pressing Shift+Enter) will list all files under the input directory\n",
    "\n",
    "import os\n",
    "for dirname, _, filenames in os.walk('/kaggle/input'):\n",
    "    for filename in filenames:\n",
    "        print(os.path.join(dirname, filename))\n",
    "\n",
    "# You can write up to 20GB to the current directory (/kaggle/working/) that gets preserved as output when you create a version using \"Save & Run All\" \n",
    "# You can also write temporary files to /kaggle/temp/, but they won't be saved outside of the current session"
   ]
  },
  {
   "cell_type": "markdown",
   "id": "4118483e",
   "metadata": {
    "papermill": {
     "duration": 0.004731,
     "end_time": "2024-01-30T02:10:45.565244",
     "exception": false,
     "start_time": "2024-01-30T02:10:45.560513",
     "status": "completed"
    },
    "tags": []
   },
   "source": [
    "# **銀行解約データセットを使用した二項分類**\n",
    "Binary Classification with a Bank Churn Dataset(https://www.kaggle.com/competitions/playground-series-s4e1/code?competitionId=65711&sortBy=voteCount)"
   ]
  },
  {
   "cell_type": "markdown",
   "id": "886554aa",
   "metadata": {
    "papermill": {
     "duration": 0.004884,
     "end_time": "2024-01-30T02:10:45.575078",
     "exception": false,
     "start_time": "2024-01-30T02:10:45.570194",
     "status": "completed"
    },
    "tags": []
   },
   "source": [
    "# 参考資料\n",
    "**書籍**\n",
    "- Python実践データ分析100本ノック\n",
    "\n",
    "\n",
    "**Kaggle**\n",
    "- [[PlayGround S4E1] 📊 EDA + 🤖 Modeling [XGBoost]](https://www.kaggle.com/code/akhiljethwa/playground-s4e1-eda-modeling-xgboost)\n",
    "- [🏛️Binary Classification💸 | Bank Churn💰| EDA📈](https://www.kaggle.com/code/tarundirector/binary-classification-bank-churn-eda)\n",
    "\n",
    "\n",
    "**自分で作成したファイル**\n",
    "- 肝硬変の転帰の多クラス予測\n",
    "\n",
    "**その他**\n"
   ]
  },
  {
   "cell_type": "code",
   "execution_count": 2,
   "id": "9b7b4700",
   "metadata": {
    "execution": {
     "iopub.execute_input": "2024-01-30T02:10:45.586557Z",
     "iopub.status.busy": "2024-01-30T02:10:45.586159Z",
     "iopub.status.idle": "2024-01-30T02:10:54.939838Z",
     "shell.execute_reply": "2024-01-30T02:10:54.938828Z"
    },
    "papermill": {
     "duration": 9.362026,
     "end_time": "2024-01-30T02:10:54.942014",
     "exception": false,
     "start_time": "2024-01-30T02:10:45.579988",
     "status": "completed"
    },
    "tags": []
   },
   "outputs": [
    {
     "name": "stdout",
     "output_type": "stream",
     "text": [
      "読み込み完了 /kaggle/working/data.csv\n"
     ]
    }
   ],
   "source": [
    "# ライブラリ・データセットのインポート\n",
    "import numpy as np\n",
    "import pandas as pd\n",
    "\n",
    "import warnings\n",
    "warnings.filterwarnings('ignore')\n",
    "\n",
    "pd.options.display.float_format = '{:.5f}'.format\n",
    "pd.set_option('display.max_columns', None)\n",
    "pd.set_option('display.max_rows', None)\n",
    "\n",
    "from sklearn.preprocessing import LabelEncoder, MinMaxScaler\n",
    "\n",
    "## 実行時間を調べるために使う\n",
    "import datetime\n",
    "import time\n",
    "import math\n",
    "\n",
    "start_time = time.time()\n",
    "\n",
    "def changeHMS(s):\n",
    "    h = math.floor(s / 3600)\n",
    "    if h > 0:\n",
    "        s = s - h * 3600\n",
    "        indi_h = str(h) + 'h'\n",
    "    else:\n",
    "        indi_h = ''\n",
    "    m = math.floor(s / 60)\n",
    "    if m > 0:\n",
    "        indi_m = str(m) + 'm'\n",
    "    else:\n",
    "        indi_m = ''\n",
    "    s = math.floor(s % 60)\n",
    "    time = indi_h + indi_m + str(s) + 's'\n",
    "    return time\n",
    "\n",
    "FILE_PATH = '/kaggle/input/playground-series-s4e1/'\n",
    "OUTPUT_DIR = '/kaggle/working/'\n",
    "\n",
    "train = pd.read_csv(FILE_PATH + 'train.csv')\n",
    "test = pd.read_csv(FILE_PATH + 'test.csv')\n",
    "\n",
    "train_id = train['id']\n",
    "train.drop('id', axis=1, inplace=True)\n",
    "\n",
    "test_id = test['id']\n",
    "test.drop('id', axis=1, inplace=True)\n",
    "\n",
    "target = train['Exited']\n",
    "target_col = 'Exited'\n",
    "\n",
    "target_name = str(train.iloc[:, [-1]].columns.tolist()) # カラム数-2の値が目的変数\n",
    "\n",
    "df = pd.concat([train, test], axis=0)\n",
    "df.reset_index(inplace=True)\n",
    "\n",
    "# 説明変数をデータ型ごとに代入する\n",
    "numerical_features = df._get_numeric_data().columns\n",
    "categorical_features = df.drop(numerical_features, axis=1).columns\n",
    "\n",
    "# 前処理\n",
    "# 欠損値の補完\n",
    "def missing_values(df):\n",
    "\n",
    "    return df\n",
    "\n",
    "# 外れ値の削除\n",
    "def outlier(df):\n",
    "\n",
    "    return df\n",
    "\n",
    "# MinMaxScaler(正規化)\n",
    "def scaling_MinMaxScaler(df):\n",
    "    df_scale = df[numerical_features]\n",
    "    sc = MinMaxScaler()\n",
    "    df[numerical_features] = pd.DataFrame(sc.fit_transform(df_scale), columns = df_scale.columns)\n",
    "\n",
    "    return df\n",
    "\n",
    "# 特徴量エンジニアリング\n",
    "# 特徴量の作成\n",
    "def create_new_features(df):\n",
    "    # Salary to Balance Ratio\n",
    "    df['SalaryToBalanceRatio'] = df['EstimatedSalary'] / (df['Balance'] + 1)  # Adding 1 to avoid division by zero\n",
    "\n",
    "    # Credit Card and Active Member Interaction\n",
    "    df['CreditCard_ActiveMember'] = df['HasCrCard'] * df['IsActiveMember']\n",
    "\n",
    "\n",
    "    # ABP Interaction\n",
    "    df['ABPInteraction'] = df['Age'] * df['Balance'] / df['NumOfProducts']\n",
    "\n",
    "    df['Geo_Gender'] = df['Geography'] + '_' + df['Gender']\n",
    "    \n",
    "    df['TotalProductUsage'] = df['Tenure'] * df['NumOfProducts']\n",
    "            \n",
    "    df['AgeAdjustedProductUsage'] = df['NumOfProducts']/((df['Tenure']+1) * df['Age'])\n",
    "    \n",
    "    df['Customer_Status'] = df['Tenure'].apply(lambda x: 'New' if x < 2 else 'Long-term')\n",
    "    \n",
    "    return df\n",
    "\n",
    "# ビンニング\n",
    "def binning(df):\n",
    "    # Age Group\n",
    "    age_bins = [0, 18, 30, 40, 50, 60, 100]\n",
    "    df['AgeGroup'] = pd.cut(df['Age'], bins=age_bins, labels=False, right=False)\n",
    "    \n",
    "    # Balance Category\n",
    "    balance_bins = [-np.inf, 0, 10000, 50000, 100000, np.inf]\n",
    "    df['BalanceCategory'] = pd.cut(df['Balance'], bins=balance_bins, labels=False, right=False)\n",
    "    \n",
    "    # Credit Score Category\n",
    "    credit_bins = [0, 500, 600, 700, 800, 900]\n",
    "    df['CreditScoreCategory'] = pd.cut(df['CreditScore'], bins=credit_bins, labels=False, right=False)\n",
    "    \n",
    "    tenure_bins = [0, 2, 5, 10, np.inf]\n",
    "    df['TenureGroup'] = pd.cut(df['Tenure'], bins=tenure_bins, labels=False, right=False)\n",
    "    \n",
    "    return df\n",
    "\n",
    "# カテゴリ変数のエンコーディング\n",
    "# One-Hot Encoding\n",
    "def one_hot_encoding(df, cat_cols):\n",
    "    df = pd.get_dummies(df, columns=cat_cols)\n",
    "\n",
    "    return df\n",
    "\n",
    "# LabelEncoding\n",
    "def label_encoder(df):\n",
    "    categorical_columns = df.select_dtypes(include=['object']).columns\n",
    "\n",
    "    for column in categorical_columns:\n",
    "        df[column] = df[column].fillna('').astype('str') # 欠損値の補完をする\n",
    "        le = LabelEncoder()\n",
    "        df[column] = le.fit_transform(df[column])\n",
    "\n",
    "    return df\n",
    "\n",
    "# pd.get_dummies\n",
    "def get_dummies(df, cat_cols):\n",
    "    df = pd.get_dummies(df, columns=cat_cols)\n",
    "    \n",
    "    return df\n",
    "\n",
    "# 特徴量の選択\n",
    "# 特徴量の重要度評価\n",
    "def feature_importance_evaluation(df):\n",
    "    # データを対数変換する\n",
    "    \n",
    "    # 訓練データをX(説明変数)とy（目的変数）に分割する\n",
    "    X = df.select_dtypes(include=['float', 'int'])\n",
    "    X = X.drop([target_col], axis=1) # 目的変数を指定する\n",
    "    y = target # 目的変数を指定する\n",
    "\n",
    "    \n",
    "\n",
    "    # 特徴量の重要度評価\n",
    "    clf = LGBMClassifier(\n",
    "        random_state=42,\n",
    "    )\n",
    "\n",
    "    clf.fit(X, y)\n",
    "    importance = clf.feature_importances_\n",
    "\n",
    "    feature_importance = pd.DataFrame(data=importance, index=X.columns, columns=['importance']) \\\n",
    "        .sort_values(ascending=True, by='importance')\n",
    "\n",
    "    return feature_importance\n",
    "\n",
    "# 特徴量の削除\n",
    "def drop_columns(df):\n",
    "    drop_list = [\n",
    "        'CustomerId', 'Surname'\n",
    "    ]\n",
    "    dropped_df = df.drop(columns=drop_list)\n",
    "\n",
    "    return dropped_df\n",
    "\n",
    "# データセットの更新\n",
    "# 前処理\n",
    "df = missing_values(df)\n",
    "df = outlier(df)\n",
    "# df = scaling_MinMaxScaler(df) # 標準化したい時のみ実行する\n",
    "\n",
    "# 特徴量エンジニアリング\n",
    "df = create_new_features(df)\n",
    "df = missing_values(df)\n",
    "df = drop_columns(df)\n",
    "\n",
    "ohe_cols = [] # One-Hot Encodingしたい水準数の少ないカラムを指定する\n",
    "dummies_cols = ['Geography','Gender','IsActiveMember','HasCrCard','NumOfProducts', 'Geo_Gender', 'Customer_Status'] # pd.get_dummiesしたい水準数の少ないカラムを指定する\n",
    "df = one_hot_encoding(df, ohe_cols)\n",
    "df = get_dummies(df, dummies_cols)\n",
    "# df = label_encoder(df)\n",
    "\n",
    "train = df[:165034]\n",
    "test = df[165034:]\n",
    "\n",
    "train_x = train.drop(columns=[target_col])\n",
    "train_y = target\n",
    "test_x = test.drop(columns=[target_col])\n",
    "\n",
    "X = train_x.values\n",
    "y = train_y.values\n",
    "# y = y.astype(int)\n",
    "\n",
    "df.to_csv(OUTPUT_DIR + 'data.csv', index=False)\n",
    "\n",
    "# 確認 (data_import.py)\n",
    "def file_to_xy(filename):\n",
    "    data = pd.read_csv(filename, index_col=0)\n",
    "    print(f'読み込み完了 {filename}')\n",
    "    train = data[:165034].reset_index(drop=True)\n",
    "    test = data[165034:].reset_index(drop=True).drop(target_col, axis=1) # 目的変数を指定する\n",
    "    # 目的変数と説明変数に分割\n",
    "    X = train.drop([target_col], axis=1) # 目的変数を指定する\n",
    "    y = train[target_col].values # 目的変数を指定する\n",
    "\n",
    "    return data,test,train,X,y\n",
    "\n",
    "filename = 'data.csv'\n",
    "data,test,train,X,y = file_to_xy(OUTPUT_DIR + filename)"
   ]
  },
  {
   "cell_type": "code",
   "execution_count": 3,
   "id": "537caa98",
   "metadata": {
    "execution": {
     "iopub.execute_input": "2024-01-30T02:10:54.954591Z",
     "iopub.status.busy": "2024-01-30T02:10:54.953751Z",
     "iopub.status.idle": "2024-01-30T02:10:54.961711Z",
     "shell.execute_reply": "2024-01-30T02:10:54.960836Z"
    },
    "papermill": {
     "duration": 0.016063,
     "end_time": "2024-01-30T02:10:54.963618",
     "exception": false,
     "start_time": "2024-01-30T02:10:54.947555",
     "status": "completed"
    },
    "tags": []
   },
   "outputs": [],
   "source": [
    "X = X.copy()\n",
    "y = y.copy()"
   ]
  },
  {
   "cell_type": "markdown",
   "id": "b91d6cc6",
   "metadata": {
    "papermill": {
     "duration": 0.00497,
     "end_time": "2024-01-30T02:10:54.973816",
     "exception": false,
     "start_time": "2024-01-30T02:10:54.968846",
     "status": "completed"
    },
    "tags": []
   },
   "source": [
    "# 機械学習モデルの構築・学習・予測"
   ]
  },
  {
   "cell_type": "markdown",
   "id": "cbc3846a",
   "metadata": {
    "papermill": {
     "duration": 0.004887,
     "end_time": "2024-01-30T02:10:54.983856",
     "exception": false,
     "start_time": "2024-01-30T02:10:54.978969",
     "status": "completed"
    },
    "tags": []
   },
   "source": [
    "## ライブラリのインポート"
   ]
  },
  {
   "cell_type": "code",
   "execution_count": 4,
   "id": "a84589a7",
   "metadata": {
    "execution": {
     "iopub.execute_input": "2024-01-30T02:10:54.995303Z",
     "iopub.status.busy": "2024-01-30T02:10:54.995035Z",
     "iopub.status.idle": "2024-01-30T02:10:55.538040Z",
     "shell.execute_reply": "2024-01-30T02:10:55.537236Z"
    },
    "papermill": {
     "duration": 0.551368,
     "end_time": "2024-01-30T02:10:55.540307",
     "exception": false,
     "start_time": "2024-01-30T02:10:54.988939",
     "status": "completed"
    },
    "tags": []
   },
   "outputs": [],
   "source": [
    "from sklearn.model_selection import train_test_split\n",
    "from sklearn.tree import DecisionTreeClassifier"
   ]
  },
  {
   "cell_type": "markdown",
   "id": "a60227b6",
   "metadata": {
    "papermill": {
     "duration": 0.004976,
     "end_time": "2024-01-30T02:10:55.550516",
     "exception": false,
     "start_time": "2024-01-30T02:10:55.545540",
     "status": "completed"
    },
    "tags": []
   },
   "source": [
    "## データの分割"
   ]
  },
  {
   "cell_type": "code",
   "execution_count": 5,
   "id": "7b74d611",
   "metadata": {
    "execution": {
     "iopub.execute_input": "2024-01-30T02:10:55.561893Z",
     "iopub.status.busy": "2024-01-30T02:10:55.561593Z",
     "iopub.status.idle": "2024-01-30T02:10:55.587527Z",
     "shell.execute_reply": "2024-01-30T02:10:55.586587Z"
    },
    "papermill": {
     "duration": 0.034185,
     "end_time": "2024-01-30T02:10:55.589621",
     "exception": false,
     "start_time": "2024-01-30T02:10:55.555436",
     "status": "completed"
    },
    "tags": []
   },
   "outputs": [],
   "source": [
    "X_train, X_valid, y_train, y_valid = train_test_split(X, y, test_size=0.2, random_state=42)"
   ]
  },
  {
   "cell_type": "markdown",
   "id": "1a881925",
   "metadata": {
    "papermill": {
     "duration": 0.00489,
     "end_time": "2024-01-30T02:10:55.599614",
     "exception": false,
     "start_time": "2024-01-30T02:10:55.594724",
     "status": "completed"
    },
    "tags": []
   },
   "source": [
    "## モデルの学習"
   ]
  },
  {
   "cell_type": "code",
   "execution_count": 6,
   "id": "f7c56f73",
   "metadata": {
    "execution": {
     "iopub.execute_input": "2024-01-30T02:10:55.610813Z",
     "iopub.status.busy": "2024-01-30T02:10:55.610426Z",
     "iopub.status.idle": "2024-01-30T02:10:57.565564Z",
     "shell.execute_reply": "2024-01-30T02:10:57.564477Z"
    },
    "papermill": {
     "duration": 1.963239,
     "end_time": "2024-01-30T02:10:57.567838",
     "exception": false,
     "start_time": "2024-01-30T02:10:55.604599",
     "status": "completed"
    },
    "tags": []
   },
   "outputs": [
    {
     "data": {
      "text/html": [
       "<style>#sk-container-id-1 {color: black;background-color: white;}#sk-container-id-1 pre{padding: 0;}#sk-container-id-1 div.sk-toggleable {background-color: white;}#sk-container-id-1 label.sk-toggleable__label {cursor: pointer;display: block;width: 100%;margin-bottom: 0;padding: 0.3em;box-sizing: border-box;text-align: center;}#sk-container-id-1 label.sk-toggleable__label-arrow:before {content: \"▸\";float: left;margin-right: 0.25em;color: #696969;}#sk-container-id-1 label.sk-toggleable__label-arrow:hover:before {color: black;}#sk-container-id-1 div.sk-estimator:hover label.sk-toggleable__label-arrow:before {color: black;}#sk-container-id-1 div.sk-toggleable__content {max-height: 0;max-width: 0;overflow: hidden;text-align: left;background-color: #f0f8ff;}#sk-container-id-1 div.sk-toggleable__content pre {margin: 0.2em;color: black;border-radius: 0.25em;background-color: #f0f8ff;}#sk-container-id-1 input.sk-toggleable__control:checked~div.sk-toggleable__content {max-height: 200px;max-width: 100%;overflow: auto;}#sk-container-id-1 input.sk-toggleable__control:checked~label.sk-toggleable__label-arrow:before {content: \"▾\";}#sk-container-id-1 div.sk-estimator input.sk-toggleable__control:checked~label.sk-toggleable__label {background-color: #d4ebff;}#sk-container-id-1 div.sk-label input.sk-toggleable__control:checked~label.sk-toggleable__label {background-color: #d4ebff;}#sk-container-id-1 input.sk-hidden--visually {border: 0;clip: rect(1px 1px 1px 1px);clip: rect(1px, 1px, 1px, 1px);height: 1px;margin: -1px;overflow: hidden;padding: 0;position: absolute;width: 1px;}#sk-container-id-1 div.sk-estimator {font-family: monospace;background-color: #f0f8ff;border: 1px dotted black;border-radius: 0.25em;box-sizing: border-box;margin-bottom: 0.5em;}#sk-container-id-1 div.sk-estimator:hover {background-color: #d4ebff;}#sk-container-id-1 div.sk-parallel-item::after {content: \"\";width: 100%;border-bottom: 1px solid gray;flex-grow: 1;}#sk-container-id-1 div.sk-label:hover label.sk-toggleable__label {background-color: #d4ebff;}#sk-container-id-1 div.sk-serial::before {content: \"\";position: absolute;border-left: 1px solid gray;box-sizing: border-box;top: 0;bottom: 0;left: 50%;z-index: 0;}#sk-container-id-1 div.sk-serial {display: flex;flex-direction: column;align-items: center;background-color: white;padding-right: 0.2em;padding-left: 0.2em;position: relative;}#sk-container-id-1 div.sk-item {position: relative;z-index: 1;}#sk-container-id-1 div.sk-parallel {display: flex;align-items: stretch;justify-content: center;background-color: white;position: relative;}#sk-container-id-1 div.sk-item::before, #sk-container-id-1 div.sk-parallel-item::before {content: \"\";position: absolute;border-left: 1px solid gray;box-sizing: border-box;top: 0;bottom: 0;left: 50%;z-index: -1;}#sk-container-id-1 div.sk-parallel-item {display: flex;flex-direction: column;z-index: 1;position: relative;background-color: white;}#sk-container-id-1 div.sk-parallel-item:first-child::after {align-self: flex-end;width: 50%;}#sk-container-id-1 div.sk-parallel-item:last-child::after {align-self: flex-start;width: 50%;}#sk-container-id-1 div.sk-parallel-item:only-child::after {width: 0;}#sk-container-id-1 div.sk-dashed-wrapped {border: 1px dashed gray;margin: 0 0.4em 0.5em 0.4em;box-sizing: border-box;padding-bottom: 0.4em;background-color: white;}#sk-container-id-1 div.sk-label label {font-family: monospace;font-weight: bold;display: inline-block;line-height: 1.2em;}#sk-container-id-1 div.sk-label-container {text-align: center;}#sk-container-id-1 div.sk-container {/* jupyter's `normalize.less` sets `[hidden] { display: none; }` but bootstrap.min.css set `[hidden] { display: none !important; }` so we also need the `!important` here to be able to override the default hidden behavior on the sphinx rendered scikit-learn.org. See: https://github.com/scikit-learn/scikit-learn/issues/21755 */display: inline-block !important;position: relative;}#sk-container-id-1 div.sk-text-repr-fallback {display: none;}</style><div id=\"sk-container-id-1\" class=\"sk-top-container\"><div class=\"sk-text-repr-fallback\"><pre>DecisionTreeClassifier(random_state=42)</pre><b>In a Jupyter environment, please rerun this cell to show the HTML representation or trust the notebook. <br />On GitHub, the HTML representation is unable to render, please try loading this page with nbviewer.org.</b></div><div class=\"sk-container\" hidden><div class=\"sk-item\"><div class=\"sk-estimator sk-toggleable\"><input class=\"sk-toggleable__control sk-hidden--visually\" id=\"sk-estimator-id-1\" type=\"checkbox\" checked><label for=\"sk-estimator-id-1\" class=\"sk-toggleable__label sk-toggleable__label-arrow\">DecisionTreeClassifier</label><div class=\"sk-toggleable__content\"><pre>DecisionTreeClassifier(random_state=42)</pre></div></div></div></div></div>"
      ],
      "text/plain": [
       "DecisionTreeClassifier(random_state=42)"
      ]
     },
     "execution_count": 6,
     "metadata": {},
     "output_type": "execute_result"
    }
   ],
   "source": [
    "dt = DecisionTreeClassifier(random_state=42)\n",
    "dt.fit(X_train, y_train)"
   ]
  },
  {
   "cell_type": "markdown",
   "id": "b32c7c15",
   "metadata": {
    "papermill": {
     "duration": 0.005488,
     "end_time": "2024-01-30T02:10:57.579043",
     "exception": false,
     "start_time": "2024-01-30T02:10:57.573555",
     "status": "completed"
    },
    "tags": []
   },
   "source": [
    "### 分割データの予測"
   ]
  },
  {
   "cell_type": "code",
   "execution_count": 7,
   "id": "02822a46",
   "metadata": {
    "execution": {
     "iopub.execute_input": "2024-01-30T02:10:57.590899Z",
     "iopub.status.busy": "2024-01-30T02:10:57.590444Z",
     "iopub.status.idle": "2024-01-30T02:10:57.608328Z",
     "shell.execute_reply": "2024-01-30T02:10:57.607429Z"
    },
    "papermill": {
     "duration": 0.02611,
     "end_time": "2024-01-30T02:10:57.610381",
     "exception": false,
     "start_time": "2024-01-30T02:10:57.584271",
     "status": "completed"
    },
    "tags": []
   },
   "outputs": [
    {
     "name": "stdout",
     "output_type": "stream",
     "text": [
      "[0. 0. 1. ... 0. 0. 0.]\n"
     ]
    }
   ],
   "source": [
    "y_test_pred = dt.predict(X_valid)\n",
    "print(y_test_pred)"
   ]
  },
  {
   "cell_type": "code",
   "execution_count": 8,
   "id": "c1360de8",
   "metadata": {
    "execution": {
     "iopub.execute_input": "2024-01-30T02:10:57.622852Z",
     "iopub.status.busy": "2024-01-30T02:10:57.622556Z",
     "iopub.status.idle": "2024-01-30T02:10:57.636838Z",
     "shell.execute_reply": "2024-01-30T02:10:57.635976Z"
    },
    "papermill": {
     "duration": 0.022468,
     "end_time": "2024-01-30T02:10:57.638774",
     "exception": false,
     "start_time": "2024-01-30T02:10:57.616306",
     "status": "completed"
    },
    "tags": []
   },
   "outputs": [
    {
     "data": {
      "text/html": [
       "<div>\n",
       "<style scoped>\n",
       "    .dataframe tbody tr th:only-of-type {\n",
       "        vertical-align: middle;\n",
       "    }\n",
       "\n",
       "    .dataframe tbody tr th {\n",
       "        vertical-align: top;\n",
       "    }\n",
       "\n",
       "    .dataframe thead th {\n",
       "        text-align: right;\n",
       "    }\n",
       "</style>\n",
       "<table border=\"1\" class=\"dataframe\">\n",
       "  <thead>\n",
       "    <tr style=\"text-align: right;\">\n",
       "      <th></th>\n",
       "      <th>y_valid</th>\n",
       "      <th>y_pred</th>\n",
       "    </tr>\n",
       "  </thead>\n",
       "  <tbody>\n",
       "    <tr>\n",
       "      <th>0</th>\n",
       "      <td>0</td>\n",
       "      <td>0</td>\n",
       "    </tr>\n",
       "    <tr>\n",
       "      <th>1</th>\n",
       "      <td>0</td>\n",
       "      <td>0</td>\n",
       "    </tr>\n",
       "    <tr>\n",
       "      <th>2</th>\n",
       "      <td>1</td>\n",
       "      <td>1</td>\n",
       "    </tr>\n",
       "    <tr>\n",
       "      <th>3</th>\n",
       "      <td>0</td>\n",
       "      <td>1</td>\n",
       "    </tr>\n",
       "    <tr>\n",
       "      <th>4</th>\n",
       "      <td>0</td>\n",
       "      <td>0</td>\n",
       "    </tr>\n",
       "  </tbody>\n",
       "</table>\n",
       "</div>"
      ],
      "text/plain": [
       "   y_valid  y_pred\n",
       "0        0       0\n",
       "1        0       0\n",
       "2        1       1\n",
       "3        0       1\n",
       "4        0       0"
      ]
     },
     "execution_count": 8,
     "metadata": {},
     "output_type": "execute_result"
    }
   ],
   "source": [
    "results_test = pd.DataFrame({\"y_valid\": y_valid,\n",
    "                           \"y_pred\": y_test_pred})\n",
    "results_test = results_test.astype(int)\n",
    "results_test.head()"
   ]
  },
  {
   "cell_type": "code",
   "execution_count": null,
   "id": "6c9373a2",
   "metadata": {
    "papermill": {
     "duration": 0.005268,
     "end_time": "2024-01-30T02:10:57.650371",
     "exception": false,
     "start_time": "2024-01-30T02:10:57.645103",
     "status": "completed"
    },
    "tags": []
   },
   "outputs": [],
   "source": []
  },
  {
   "cell_type": "markdown",
   "id": "38baece8",
   "metadata": {
    "papermill": {
     "duration": 0.005531,
     "end_time": "2024-01-30T02:10:57.661271",
     "exception": false,
     "start_time": "2024-01-30T02:10:57.655740",
     "status": "completed"
    },
    "tags": []
   },
   "source": [
    "## モデルの予測"
   ]
  },
  {
   "cell_type": "code",
   "execution_count": null,
   "id": "9da452e8",
   "metadata": {
    "papermill": {
     "duration": 0.005247,
     "end_time": "2024-01-30T02:10:57.671925",
     "exception": false,
     "start_time": "2024-01-30T02:10:57.666678",
     "status": "completed"
    },
    "tags": []
   },
   "outputs": [],
   "source": []
  }
 ],
 "metadata": {
  "kaggle": {
   "accelerator": "nvidiaTeslaT4",
   "dataSources": [
    {
     "databundleVersionId": 7405009,
     "sourceId": 65711,
     "sourceType": "competition"
    }
   ],
   "dockerImageVersionId": 30636,
   "isGpuEnabled": true,
   "isInternetEnabled": true,
   "language": "python",
   "sourceType": "notebook"
  },
  "kernelspec": {
   "display_name": "Python 3",
   "language": "python",
   "name": "python3"
  },
  "language_info": {
   "codemirror_mode": {
    "name": "ipython",
    "version": 3
   },
   "file_extension": ".py",
   "mimetype": "text/x-python",
   "name": "python",
   "nbconvert_exporter": "python",
   "pygments_lexer": "ipython3",
   "version": "3.10.12"
  },
  "papermill": {
   "default_parameters": {},
   "duration": 18.526899,
   "end_time": "2024-01-30T02:10:58.095084",
   "environment_variables": {},
   "exception": null,
   "input_path": "__notebook__.ipynb",
   "output_path": "__notebook__.ipynb",
   "parameters": {},
   "start_time": "2024-01-30T02:10:39.568185",
   "version": "2.4.0"
  }
 },
 "nbformat": 4,
 "nbformat_minor": 5
}

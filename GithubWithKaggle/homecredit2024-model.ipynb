{
 "cells": [
  {
   "cell_type": "code",
   "execution_count": 1,
   "id": "fa1ca2cd",
   "metadata": {
    "_cell_guid": "b1076dfc-b9ad-4769-8c92-a6c4dae69d19",
    "_uuid": "8f2839f25d086af736a60e9eeb907d3b93b6e0e5",
    "execution": {
     "iopub.execute_input": "2024-03-14T11:26:49.018494Z",
     "iopub.status.busy": "2024-03-14T11:26:49.017625Z",
     "iopub.status.idle": "2024-03-14T11:26:50.069953Z",
     "shell.execute_reply": "2024-03-14T11:26:50.068840Z"
    },
    "papermill": {
     "duration": 1.065907,
     "end_time": "2024-03-14T11:26:50.073422",
     "exception": false,
     "start_time": "2024-03-14T11:26:49.007515",
     "status": "completed"
    },
    "tags": []
   },
   "outputs": [
    {
     "name": "stdout",
     "output_type": "stream",
     "text": [
      "/kaggle/input/home-credit-credit-risk-model-stability/sample_submission.csv\n",
      "/kaggle/input/home-credit-credit-risk-model-stability/feature_definitions.csv\n",
      "/kaggle/input/home-credit-credit-risk-model-stability/parquet_files/test/test_deposit_1.parquet\n",
      "/kaggle/input/home-credit-credit-risk-model-stability/parquet_files/test/test_applprev_2.parquet\n",
      "/kaggle/input/home-credit-credit-risk-model-stability/parquet_files/test/test_static_cb_0.parquet\n",
      "/kaggle/input/home-credit-credit-risk-model-stability/parquet_files/test/test_static_0_0.parquet\n",
      "/kaggle/input/home-credit-credit-risk-model-stability/parquet_files/test/test_credit_bureau_a_1_3.parquet\n",
      "/kaggle/input/home-credit-credit-risk-model-stability/parquet_files/test/test_credit_bureau_a_1_2.parquet\n",
      "/kaggle/input/home-credit-credit-risk-model-stability/parquet_files/test/test_tax_registry_b_1.parquet\n",
      "/kaggle/input/home-credit-credit-risk-model-stability/parquet_files/test/test_static_0_2.parquet\n",
      "/kaggle/input/home-credit-credit-risk-model-stability/parquet_files/test/test_credit_bureau_a_2_3.parquet\n",
      "/kaggle/input/home-credit-credit-risk-model-stability/parquet_files/test/test_credit_bureau_a_2_9.parquet\n",
      "/kaggle/input/home-credit-credit-risk-model-stability/parquet_files/test/test_debitcard_1.parquet\n",
      "/kaggle/input/home-credit-credit-risk-model-stability/parquet_files/test/test_credit_bureau_a_1_1.parquet\n",
      "/kaggle/input/home-credit-credit-risk-model-stability/parquet_files/test/test_credit_bureau_a_2_2.parquet\n",
      "/kaggle/input/home-credit-credit-risk-model-stability/parquet_files/test/test_credit_bureau_a_2_11.parquet\n",
      "/kaggle/input/home-credit-credit-risk-model-stability/parquet_files/test/test_applprev_1_2.parquet\n",
      "/kaggle/input/home-credit-credit-risk-model-stability/parquet_files/test/test_credit_bureau_a_2_1.parquet\n",
      "/kaggle/input/home-credit-credit-risk-model-stability/parquet_files/test/test_credit_bureau_a_1_4.parquet\n",
      "/kaggle/input/home-credit-credit-risk-model-stability/parquet_files/test/test_tax_registry_c_1.parquet\n",
      "/kaggle/input/home-credit-credit-risk-model-stability/parquet_files/test/test_applprev_1_0.parquet\n",
      "/kaggle/input/home-credit-credit-risk-model-stability/parquet_files/test/test_tax_registry_a_1.parquet\n",
      "/kaggle/input/home-credit-credit-risk-model-stability/parquet_files/test/test_credit_bureau_a_2_6.parquet\n",
      "/kaggle/input/home-credit-credit-risk-model-stability/parquet_files/test/test_credit_bureau_a_2_5.parquet\n",
      "/kaggle/input/home-credit-credit-risk-model-stability/parquet_files/test/test_credit_bureau_b_1.parquet\n",
      "/kaggle/input/home-credit-credit-risk-model-stability/parquet_files/test/test_other_1.parquet\n",
      "/kaggle/input/home-credit-credit-risk-model-stability/parquet_files/test/test_static_0_1.parquet\n",
      "/kaggle/input/home-credit-credit-risk-model-stability/parquet_files/test/test_credit_bureau_a_2_0.parquet\n",
      "/kaggle/input/home-credit-credit-risk-model-stability/parquet_files/test/test_applprev_1_1.parquet\n",
      "/kaggle/input/home-credit-credit-risk-model-stability/parquet_files/test/test_base.parquet\n",
      "/kaggle/input/home-credit-credit-risk-model-stability/parquet_files/test/test_person_1.parquet\n",
      "/kaggle/input/home-credit-credit-risk-model-stability/parquet_files/test/test_credit_bureau_a_2_7.parquet\n",
      "/kaggle/input/home-credit-credit-risk-model-stability/parquet_files/test/test_credit_bureau_a_2_10.parquet\n",
      "/kaggle/input/home-credit-credit-risk-model-stability/parquet_files/test/test_credit_bureau_b_2.parquet\n",
      "/kaggle/input/home-credit-credit-risk-model-stability/parquet_files/test/test_credit_bureau_a_2_8.parquet\n",
      "/kaggle/input/home-credit-credit-risk-model-stability/parquet_files/test/test_credit_bureau_a_1_0.parquet\n",
      "/kaggle/input/home-credit-credit-risk-model-stability/parquet_files/test/test_credit_bureau_a_2_4.parquet\n",
      "/kaggle/input/home-credit-credit-risk-model-stability/parquet_files/test/test_person_2.parquet\n",
      "/kaggle/input/home-credit-credit-risk-model-stability/parquet_files/train/train_tax_registry_c_1.parquet\n",
      "/kaggle/input/home-credit-credit-risk-model-stability/parquet_files/train/train_static_0_0.parquet\n",
      "/kaggle/input/home-credit-credit-risk-model-stability/parquet_files/train/train_credit_bureau_a_1_3.parquet\n",
      "/kaggle/input/home-credit-credit-risk-model-stability/parquet_files/train/train_credit_bureau_b_2.parquet\n",
      "/kaggle/input/home-credit-credit-risk-model-stability/parquet_files/train/train_applprev_1_1.parquet\n",
      "/kaggle/input/home-credit-credit-risk-model-stability/parquet_files/train/train_static_cb_0.parquet\n",
      "/kaggle/input/home-credit-credit-risk-model-stability/parquet_files/train/train_other_1.parquet\n",
      "/kaggle/input/home-credit-credit-risk-model-stability/parquet_files/train/train_credit_bureau_a_2_6.parquet\n",
      "/kaggle/input/home-credit-credit-risk-model-stability/parquet_files/train/train_tax_registry_a_1.parquet\n",
      "/kaggle/input/home-credit-credit-risk-model-stability/parquet_files/train/train_tax_registry_b_1.parquet\n",
      "/kaggle/input/home-credit-credit-risk-model-stability/parquet_files/train/train_credit_bureau_a_2_1.parquet\n",
      "/kaggle/input/home-credit-credit-risk-model-stability/parquet_files/train/train_person_1.parquet\n",
      "/kaggle/input/home-credit-credit-risk-model-stability/parquet_files/train/train_person_2.parquet\n",
      "/kaggle/input/home-credit-credit-risk-model-stability/parquet_files/train/train_credit_bureau_b_1.parquet\n",
      "/kaggle/input/home-credit-credit-risk-model-stability/parquet_files/train/train_credit_bureau_a_2_0.parquet\n",
      "/kaggle/input/home-credit-credit-risk-model-stability/parquet_files/train/train_credit_bureau_a_2_7.parquet\n",
      "/kaggle/input/home-credit-credit-risk-model-stability/parquet_files/train/train_deposit_1.parquet\n",
      "/kaggle/input/home-credit-credit-risk-model-stability/parquet_files/train/train_debitcard_1.parquet\n",
      "/kaggle/input/home-credit-credit-risk-model-stability/parquet_files/train/train_credit_bureau_a_2_5.parquet\n",
      "/kaggle/input/home-credit-credit-risk-model-stability/parquet_files/train/train_credit_bureau_a_2_2.parquet\n",
      "/kaggle/input/home-credit-credit-risk-model-stability/parquet_files/train/train_credit_bureau_a_2_4.parquet\n",
      "/kaggle/input/home-credit-credit-risk-model-stability/parquet_files/train/train_base.parquet\n",
      "/kaggle/input/home-credit-credit-risk-model-stability/parquet_files/train/train_credit_bureau_a_2_9.parquet\n",
      "/kaggle/input/home-credit-credit-risk-model-stability/parquet_files/train/train_credit_bureau_a_2_3.parquet\n",
      "/kaggle/input/home-credit-credit-risk-model-stability/parquet_files/train/train_applprev_2.parquet\n",
      "/kaggle/input/home-credit-credit-risk-model-stability/parquet_files/train/train_credit_bureau_a_2_10.parquet\n",
      "/kaggle/input/home-credit-credit-risk-model-stability/parquet_files/train/train_credit_bureau_a_2_8.parquet\n",
      "/kaggle/input/home-credit-credit-risk-model-stability/parquet_files/train/train_credit_bureau_a_1_2.parquet\n",
      "/kaggle/input/home-credit-credit-risk-model-stability/parquet_files/train/train_static_0_1.parquet\n",
      "/kaggle/input/home-credit-credit-risk-model-stability/parquet_files/train/train_credit_bureau_a_1_0.parquet\n",
      "/kaggle/input/home-credit-credit-risk-model-stability/parquet_files/train/train_credit_bureau_a_1_1.parquet\n",
      "/kaggle/input/home-credit-credit-risk-model-stability/parquet_files/train/train_applprev_1_0.parquet\n",
      "/kaggle/input/home-credit-credit-risk-model-stability/csv_files/test/test_credit_bureau_a_2_6.csv\n",
      "/kaggle/input/home-credit-credit-risk-model-stability/csv_files/test/test_credit_bureau_a_2_11.csv\n",
      "/kaggle/input/home-credit-credit-risk-model-stability/csv_files/test/test_credit_bureau_a_2_0.csv\n",
      "/kaggle/input/home-credit-credit-risk-model-stability/csv_files/test/test_credit_bureau_a_2_9.csv\n",
      "/kaggle/input/home-credit-credit-risk-model-stability/csv_files/test/test_base.csv\n",
      "/kaggle/input/home-credit-credit-risk-model-stability/csv_files/test/test_credit_bureau_a_1_1.csv\n",
      "/kaggle/input/home-credit-credit-risk-model-stability/csv_files/test/test_credit_bureau_b_2.csv\n",
      "/kaggle/input/home-credit-credit-risk-model-stability/csv_files/test/test_credit_bureau_a_2_10.csv\n",
      "/kaggle/input/home-credit-credit-risk-model-stability/csv_files/test/test_credit_bureau_a_2_4.csv\n",
      "/kaggle/input/home-credit-credit-risk-model-stability/csv_files/test/test_static_0_0.csv\n",
      "/kaggle/input/home-credit-credit-risk-model-stability/csv_files/test/test_static_cb_0.csv\n",
      "/kaggle/input/home-credit-credit-risk-model-stability/csv_files/test/test_credit_bureau_a_2_2.csv\n",
      "/kaggle/input/home-credit-credit-risk-model-stability/csv_files/test/test_credit_bureau_b_1.csv\n",
      "/kaggle/input/home-credit-credit-risk-model-stability/csv_files/test/test_tax_registry_b_1.csv\n",
      "/kaggle/input/home-credit-credit-risk-model-stability/csv_files/test/test_person_2.csv\n",
      "/kaggle/input/home-credit-credit-risk-model-stability/csv_files/test/test_person_1.csv\n",
      "/kaggle/input/home-credit-credit-risk-model-stability/csv_files/test/test_credit_bureau_a_2_8.csv\n",
      "/kaggle/input/home-credit-credit-risk-model-stability/csv_files/test/test_applprev_1_2.csv\n",
      "/kaggle/input/home-credit-credit-risk-model-stability/csv_files/test/test_applprev_1_1.csv\n",
      "/kaggle/input/home-credit-credit-risk-model-stability/csv_files/test/test_credit_bureau_a_1_0.csv\n",
      "/kaggle/input/home-credit-credit-risk-model-stability/csv_files/test/test_applprev_2.csv\n",
      "/kaggle/input/home-credit-credit-risk-model-stability/csv_files/test/test_credit_bureau_a_2_7.csv\n",
      "/kaggle/input/home-credit-credit-risk-model-stability/csv_files/test/test_other_1.csv\n",
      "/kaggle/input/home-credit-credit-risk-model-stability/csv_files/test/test_tax_registry_c_1.csv\n",
      "/kaggle/input/home-credit-credit-risk-model-stability/csv_files/test/test_credit_bureau_a_1_3.csv\n",
      "/kaggle/input/home-credit-credit-risk-model-stability/csv_files/test/test_static_0_2.csv\n",
      "/kaggle/input/home-credit-credit-risk-model-stability/csv_files/test/test_credit_bureau_a_2_5.csv\n",
      "/kaggle/input/home-credit-credit-risk-model-stability/csv_files/test/test_credit_bureau_a_1_2.csv\n",
      "/kaggle/input/home-credit-credit-risk-model-stability/csv_files/test/test_debitcard_1.csv\n",
      "/kaggle/input/home-credit-credit-risk-model-stability/csv_files/test/test_credit_bureau_a_1_4.csv\n",
      "/kaggle/input/home-credit-credit-risk-model-stability/csv_files/test/test_deposit_1.csv\n",
      "/kaggle/input/home-credit-credit-risk-model-stability/csv_files/test/test_static_0_1.csv\n",
      "/kaggle/input/home-credit-credit-risk-model-stability/csv_files/test/test_credit_bureau_a_2_1.csv\n",
      "/kaggle/input/home-credit-credit-risk-model-stability/csv_files/test/test_applprev_1_0.csv\n",
      "/kaggle/input/home-credit-credit-risk-model-stability/csv_files/test/test_tax_registry_a_1.csv\n",
      "/kaggle/input/home-credit-credit-risk-model-stability/csv_files/test/test_credit_bureau_a_2_3.csv\n",
      "/kaggle/input/home-credit-credit-risk-model-stability/csv_files/train/train_credit_bureau_a_1_3.csv\n",
      "/kaggle/input/home-credit-credit-risk-model-stability/csv_files/train/train_static_cb_0.csv\n",
      "/kaggle/input/home-credit-credit-risk-model-stability/csv_files/train/train_applprev_1_0.csv\n",
      "/kaggle/input/home-credit-credit-risk-model-stability/csv_files/train/train_person_2.csv\n",
      "/kaggle/input/home-credit-credit-risk-model-stability/csv_files/train/train_base.csv\n",
      "/kaggle/input/home-credit-credit-risk-model-stability/csv_files/train/train_tax_registry_a_1.csv\n",
      "/kaggle/input/home-credit-credit-risk-model-stability/csv_files/train/train_static_0_0.csv\n",
      "/kaggle/input/home-credit-credit-risk-model-stability/csv_files/train/train_credit_bureau_a_1_0.csv\n",
      "/kaggle/input/home-credit-credit-risk-model-stability/csv_files/train/train_applprev_2.csv\n",
      "/kaggle/input/home-credit-credit-risk-model-stability/csv_files/train/train_credit_bureau_a_2_6.csv\n",
      "/kaggle/input/home-credit-credit-risk-model-stability/csv_files/train/train_credit_bureau_a_1_2.csv\n",
      "/kaggle/input/home-credit-credit-risk-model-stability/csv_files/train/train_person_1.csv\n",
      "/kaggle/input/home-credit-credit-risk-model-stability/csv_files/train/train_credit_bureau_a_1_1.csv\n",
      "/kaggle/input/home-credit-credit-risk-model-stability/csv_files/train/train_tax_registry_c_1.csv\n",
      "/kaggle/input/home-credit-credit-risk-model-stability/csv_files/train/train_credit_bureau_a_2_4.csv\n",
      "/kaggle/input/home-credit-credit-risk-model-stability/csv_files/train/train_credit_bureau_a_2_9.csv\n",
      "/kaggle/input/home-credit-credit-risk-model-stability/csv_files/train/train_credit_bureau_a_2_3.csv\n",
      "/kaggle/input/home-credit-credit-risk-model-stability/csv_files/train/train_credit_bureau_a_2_7.csv\n",
      "/kaggle/input/home-credit-credit-risk-model-stability/csv_files/train/train_credit_bureau_b_2.csv\n",
      "/kaggle/input/home-credit-credit-risk-model-stability/csv_files/train/train_credit_bureau_a_2_2.csv\n",
      "/kaggle/input/home-credit-credit-risk-model-stability/csv_files/train/train_static_0_1.csv\n",
      "/kaggle/input/home-credit-credit-risk-model-stability/csv_files/train/train_deposit_1.csv\n",
      "/kaggle/input/home-credit-credit-risk-model-stability/csv_files/train/train_credit_bureau_a_2_10.csv\n",
      "/kaggle/input/home-credit-credit-risk-model-stability/csv_files/train/train_tax_registry_b_1.csv\n",
      "/kaggle/input/home-credit-credit-risk-model-stability/csv_files/train/train_applprev_1_1.csv\n",
      "/kaggle/input/home-credit-credit-risk-model-stability/csv_files/train/train_credit_bureau_a_2_1.csv\n",
      "/kaggle/input/home-credit-credit-risk-model-stability/csv_files/train/train_credit_bureau_a_2_8.csv\n",
      "/kaggle/input/home-credit-credit-risk-model-stability/csv_files/train/train_credit_bureau_a_2_5.csv\n",
      "/kaggle/input/home-credit-credit-risk-model-stability/csv_files/train/train_credit_bureau_b_1.csv\n",
      "/kaggle/input/home-credit-credit-risk-model-stability/csv_files/train/train_credit_bureau_a_2_0.csv\n",
      "/kaggle/input/home-credit-credit-risk-model-stability/csv_files/train/train_other_1.csv\n",
      "/kaggle/input/home-credit-credit-risk-model-stability/csv_files/train/train_debitcard_1.csv\n",
      "/kaggle/input/my-home-credit-credit-risk-model-stability/base_test.csv\n",
      "/kaggle/input/my-home-credit-credit-risk-model-stability/y_valid.csv\n",
      "/kaggle/input/my-home-credit-credit-risk-model-stability/X_valid.csv\n",
      "/kaggle/input/my-home-credit-credit-risk-model-stability/y_test.csv\n",
      "/kaggle/input/my-home-credit-credit-risk-model-stability/X_test.csv\n",
      "/kaggle/input/my-home-credit-credit-risk-model-stability/y_train.csv\n",
      "/kaggle/input/my-home-credit-credit-risk-model-stability/X_train.csv\n",
      "/kaggle/input/my-home-credit-credit-risk-model-stability/base_train.csv\n",
      "/kaggle/input/my-home-credit-credit-risk-model-stability/base_valid.csv\n"
     ]
    }
   ],
   "source": [
    "# This Python 3 environment comes with many helpful analytics libraries installed\n",
    "# It is defined by the kaggle/python Docker image: https://github.com/kaggle/docker-python\n",
    "# For example, here's several helpful packages to load\n",
    "\n",
    "import numpy as np # linear algebra\n",
    "import pandas as pd # data processing, CSV file I/O (e.g. pd.read_csv)\n",
    "\n",
    "# Input data files are available in the read-only \"../input/\" directory\n",
    "# For example, running this (by clicking run or pressing Shift+Enter) will list all files under the input directory\n",
    "\n",
    "import os\n",
    "for dirname, _, filenames in os.walk('/kaggle/input'):\n",
    "    for filename in filenames:\n",
    "        print(os.path.join(dirname, filename))\n",
    "\n",
    "# You can write up to 20GB to the current directory (/kaggle/working/) that gets preserved as output when you create a version using \"Save & Run All\" \n",
    "# You can also write temporary files to /kaggle/temp/, but they won't be saved outside of the current session"
   ]
  },
  {
   "cell_type": "code",
   "execution_count": 2,
   "id": "8e0173d6",
   "metadata": {
    "execution": {
     "iopub.execute_input": "2024-03-14T11:26:50.091999Z",
     "iopub.status.busy": "2024-03-14T11:26:50.091113Z",
     "iopub.status.idle": "2024-03-14T11:26:53.029102Z",
     "shell.execute_reply": "2024-03-14T11:26:53.027555Z"
    },
    "papermill": {
     "duration": 2.950471,
     "end_time": "2024-03-14T11:26:53.032108",
     "exception": false,
     "start_time": "2024-03-14T11:26:50.081637",
     "status": "completed"
    },
    "tags": []
   },
   "outputs": [],
   "source": [
    "import polars as pl\n",
    "import numpy as np\n",
    "import pandas as pd\n",
    "import lightgbm as lgb\n",
    "from sklearn.model_selection import train_test_split\n",
    "from sklearn.metrics import roc_auc_score \n",
    "\n",
    "dataPath = \"/kaggle/input/home-credit-credit-risk-model-stability/\"\n",
    "InputFile = \"/kaggle/input/my-home-credit-credit-risk-model-stability\""
   ]
  },
  {
   "cell_type": "code",
   "execution_count": 3,
   "id": "427cc749",
   "metadata": {
    "execution": {
     "iopub.execute_input": "2024-03-14T11:26:53.050533Z",
     "iopub.status.busy": "2024-03-14T11:26:53.049430Z",
     "iopub.status.idle": "2024-03-14T11:27:11.380242Z",
     "shell.execute_reply": "2024-03-14T11:27:11.379149Z"
    },
    "papermill": {
     "duration": 18.343424,
     "end_time": "2024-03-14T11:27:11.383166",
     "exception": false,
     "start_time": "2024-03-14T11:26:53.039742",
     "status": "completed"
    },
    "tags": []
   },
   "outputs": [],
   "source": [
    "X_train = pd.read_csv(InputFile + \"/X_train.csv\")\n",
    "X_valid = pd.read_csv(InputFile + \"/X_valid.csv\")\n",
    "X_test = pd.read_csv(InputFile + \"/X_test.csv\")\n",
    "\n",
    "y_train = pd.read_csv(InputFile + \"/y_train.csv\")\n",
    "y_valid = pd.read_csv(InputFile + \"/y_valid.csv\")\n",
    "y_test = pd.read_csv(InputFile + \"/y_test.csv\")\n",
    "\n",
    "base_train = pd.read_csv(InputFile + \"/base_train.csv\")\n",
    "base_valid = pd.read_csv(InputFile + \"/base_valid.csv\")\n",
    "base_test = pd.read_csv(InputFile + \"/base_test.csv\")"
   ]
  },
  {
   "cell_type": "code",
   "execution_count": 4,
   "id": "7eecf34f",
   "metadata": {
    "execution": {
     "iopub.execute_input": "2024-03-14T11:27:11.401735Z",
     "iopub.status.busy": "2024-03-14T11:27:11.401196Z",
     "iopub.status.idle": "2024-03-14T11:27:17.022454Z",
     "shell.execute_reply": "2024-03-14T11:27:17.020856Z"
    },
    "papermill": {
     "duration": 5.634523,
     "end_time": "2024-03-14T11:27:17.025832",
     "exception": false,
     "start_time": "2024-03-14T11:27:11.391309",
     "status": "completed"
    },
    "tags": []
   },
   "outputs": [],
   "source": [
    "def convert_strings(df: pd.DataFrame) -> pd.DataFrame:\n",
    "    for col in df.columns:\n",
    "        if df[col].dtype.name in ['object', 'string']:\n",
    "            df[col] = df[col].astype(\"string\").astype('category')\n",
    "            current_categories = df[col].cat.categories\n",
    "            new_categories = current_categories.to_list() + [\"Unknown\"]\n",
    "            new_dtype = pd.CategoricalDtype(categories=new_categories, ordered=True)\n",
    "            df[col] = df[col].astype(new_dtype)\n",
    "            \n",
    "    return df\n",
    "\n",
    "for df in [X_train, X_valid, X_test]:\n",
    "    df = convert_strings(df)"
   ]
  },
  {
   "cell_type": "markdown",
   "id": "1861d565",
   "metadata": {
    "papermill": {
     "duration": 0.008144,
     "end_time": "2024-03-14T11:27:17.042685",
     "exception": false,
     "start_time": "2024-03-14T11:27:17.034541",
     "status": "completed"
    },
    "tags": []
   },
   "source": [
    "# 機械学習モデルの構築・学習・予測"
   ]
  },
  {
   "cell_type": "markdown",
   "id": "a371524a",
   "metadata": {
    "papermill": {
     "duration": 0.007614,
     "end_time": "2024-03-14T11:27:17.058366",
     "exception": false,
     "start_time": "2024-03-14T11:27:17.050752",
     "status": "completed"
    },
    "tags": []
   },
   "source": [
    "## ライブラリのインポート"
   ]
  },
  {
   "cell_type": "code",
   "execution_count": 5,
   "id": "0659f2d2",
   "metadata": {
    "execution": {
     "iopub.execute_input": "2024-03-14T11:27:17.076790Z",
     "iopub.status.busy": "2024-03-14T11:27:17.076076Z",
     "iopub.status.idle": "2024-03-14T11:27:17.976880Z",
     "shell.execute_reply": "2024-03-14T11:27:17.974644Z"
    },
    "papermill": {
     "duration": 0.914204,
     "end_time": "2024-03-14T11:27:17.980719",
     "exception": false,
     "start_time": "2024-03-14T11:27:17.066515",
     "status": "completed"
    },
    "tags": []
   },
   "outputs": [],
   "source": [
    "from sklearn.model_selection import train_test_split\n",
    "from sklearn.preprocessing import StandardScaler\n",
    "\n",
    "# 評価指標\n",
    "from sklearn.metrics import roc_auc_score, accuracy_score, f1_score, recall_score, precision_score, confusion_matrix, mean_absolute_error, mean_squared_error, r2_score\n",
    "\n",
    "# 機械学習モデル\n",
    "from sklearn.linear_model import LinearRegression, Lasso, Ridge\n",
    "from sklearn.tree import DecisionTreeClassifier\n",
    "from sklearn.ensemble import RandomForestClassifier, GradientBoostingClassifier, AdaBoostClassifier, ExtraTreesClassifier\n",
    "from xgboost import XGBClassifier\n",
    "from lightgbm import LGBMClassifier\n",
    "from catboost import CatBoostClassifier\n",
    "\n",
    "\n",
    "# 実験\n",
    "import datetime\n",
    "import pickle"
   ]
  },
  {
   "cell_type": "code",
   "execution_count": 6,
   "id": "db51647f",
   "metadata": {
    "execution": {
     "iopub.execute_input": "2024-03-14T11:27:18.001304Z",
     "iopub.status.busy": "2024-03-14T11:27:18.000543Z",
     "iopub.status.idle": "2024-03-14T11:27:18.008580Z",
     "shell.execute_reply": "2024-03-14T11:27:18.006657Z"
    },
    "papermill": {
     "duration": 0.02283,
     "end_time": "2024-03-14T11:27:18.012315",
     "exception": false,
     "start_time": "2024-03-14T11:27:17.989485",
     "status": "completed"
    },
    "tags": []
   },
   "outputs": [],
   "source": [
    "lgb_params = {'lambda_l1': 1.683094921772377, 'lambda_l2': 0.002665604099762467, 'num_leaves': 21, 'feature_fraction': 0.815220742109687, 'bagging_fraction': 0.7163065619735258, 'bagging_freq': 2, 'min_child_samples': 74}\n",
    "xgb_params = {}\n",
    "cat_params = {}"
   ]
  },
  {
   "cell_type": "code",
   "execution_count": 7,
   "id": "fa2a355f",
   "metadata": {
    "execution": {
     "iopub.execute_input": "2024-03-14T11:27:18.031184Z",
     "iopub.status.busy": "2024-03-14T11:27:18.030790Z",
     "iopub.status.idle": "2024-03-14T11:27:18.163986Z",
     "shell.execute_reply": "2024-03-14T11:27:18.161966Z"
    },
    "papermill": {
     "duration": 0.147311,
     "end_time": "2024-03-14T11:27:18.168137",
     "exception": false,
     "start_time": "2024-03-14T11:27:18.020826",
     "status": "completed"
    },
    "tags": []
   },
   "outputs": [],
   "source": [
    "def make_model_and_eval(model, X_train, X_test, y_train, y_test):\n",
    "    model.fit(X_train, y_train)\n",
    "    y_pred_train = model.predict(X_train)\n",
    "    y_pred_test = model.predict(X_test)\n",
    "    \n",
    "    # accuracy\n",
    "    acc_train = accuracy_score(y_train, y_pred_train)\n",
    "    acc_test = accuracy_score(y_test, y_pred_test)\n",
    "    # F1_score\n",
    "    f1_train = f1_score(y_train, y_pred_train, average='macro')\n",
    "    f1_test = f1_score(y_test, y_pred_test, average='macro')\n",
    "    # recall\n",
    "    recall_train = recall_score(y_train, y_pred_train, average='macro')\n",
    "    recall_test = recall_score(y_test, y_pred_test, average='macro')\n",
    "    # precision\n",
    "    precision_train = precision_score(y_train, y_pred_train, average='macro')\n",
    "    precision_test = precision_score(y_test, y_pred_test, average='macro')\n",
    "#    # AUC\n",
    "    auc_train = roc_auc_score(y_train, y_pred_train)\n",
    "    auc_test = roc_auc_score(y_test, y_pred_test)\n",
    "   # MAE\n",
    "    mae_train = mean_absolute_error(y_train, y_pred_train)\n",
    "    mae_test = mean_absolute_error(y_test, y_pred_test)\n",
    "   # MSE\n",
    "    mse_train = mean_squared_error(y_train, y_pred_train)\n",
    "    mse_test = mean_squared_error(y_test, y_pred_test)\n",
    "   # RMSE\n",
    "    rmse_train = np.sqrt(mse_train)\n",
    "    rmse_test = np.sqrt(mse_test)\n",
    "   # r2_score\n",
    "    r2_train = r2_score(y_train, y_pred_train)\n",
    "    r2_test = r2_score(y_test, y_pred_test)\n",
    "\n",
    "    tn_train, fp_train, fn_train, tp_train = confusion_matrix(y_train, y_pred_train).ravel()\n",
    "    tn_test, fp_test, fn_test, tp_test = confusion_matrix(y_test, y_pred_test).ravel()\n",
    "    score_train = pd.DataFrame({'DataCategory':['Train'],\n",
    "                               'auc':[auc_train],\n",
    "                               'accuracy':[acc_train],\n",
    "                               'f1':[f1_train],\n",
    "                               'recall':[recall_train],\n",
    "                               'precision':[precision_train],\n",
    "                               'MAE':[mae_train],\n",
    "                               'MSE':[mse_train],\n",
    "                               'RMSE':[rmse_train],\n",
    "                               'r2':[r2_train],\n",
    "                               'tp':[tp_train],\n",
    "                               'fn':[fn_train],\n",
    "                               'fp':[fp_train],\n",
    "                               'tn':[tn_train]\n",
    "                               })\n",
    "    score_test = pd.DataFrame({'DataCategory':['Valid'],\n",
    "                              'auc':[auc_test],\n",
    "                              'accuracy':[acc_test],\n",
    "                              'f1':[f1_test],\n",
    "                              'recall':[recall_test],\n",
    "                              'precision':[precision_test],\n",
    "                              'MAE':[mae_test],\n",
    "                              'MSE':[mse_test],\n",
    "                              'RMSE':[rmse_train],\n",
    "                              'r2':[r2_train],\n",
    "                              'tp':[tp_test],\n",
    "                              'fn':[fn_test],\n",
    "                              'fp':[fp_test],\n",
    "                              'tn':[tn_test]\n",
    "                              })\n",
    "    score = pd.concat([score_train, score_test], ignore_index=True)\n",
    "    \n",
    "    importance = pd.DataFrame({'cols': X_train.columns,\n",
    "                              'importance': model.feature_importances_})\n",
    "    importance = importance.sort_values('importance', ascending=False)\n",
    "    cols = pd.DataFrame({'X_cols': X_train.columns})\n",
    "    display(score)\n",
    "    \n",
    "    return score, importance, model, cols"
   ]
  },
  {
   "cell_type": "code",
   "execution_count": 8,
   "id": "58d153b4",
   "metadata": {
    "execution": {
     "iopub.execute_input": "2024-03-14T11:27:18.186728Z",
     "iopub.status.busy": "2024-03-14T11:27:18.186188Z",
     "iopub.status.idle": "2024-03-14T11:27:57.261000Z",
     "shell.execute_reply": "2024-03-14T11:27:57.259487Z"
    },
    "papermill": {
     "duration": 39.088305,
     "end_time": "2024-03-14T11:27:57.264117",
     "exception": false,
     "start_time": "2024-03-14T11:27:18.175812",
     "status": "completed"
    },
    "tags": []
   },
   "outputs": [
    {
     "name": "stdout",
     "output_type": "stream",
     "text": [
      "results_2024031411\n",
      "lightgbm\n"
     ]
    },
    {
     "name": "stderr",
     "output_type": "stream",
     "text": [
      "/opt/conda/lib/python3.10/site-packages/sklearn/preprocessing/_label.py:99: DataConversionWarning: A column-vector y was passed when a 1d array was expected. Please change the shape of y to (n_samples, ), for example using ravel().\n",
      "  y = column_or_1d(y, warn=True)\n",
      "/opt/conda/lib/python3.10/site-packages/sklearn/preprocessing/_label.py:134: DataConversionWarning: A column-vector y was passed when a 1d array was expected. Please change the shape of y to (n_samples, ), for example using ravel().\n",
      "  y = column_or_1d(y, dtype=self.classes_.dtype, warn=True)\n"
     ]
    },
    {
     "name": "stdout",
     "output_type": "stream",
     "text": [
      "[LightGBM] [Warning] feature_fraction is set=0.815220742109687, colsample_bytree=1.0 will be ignored. Current value: feature_fraction=0.815220742109687\n",
      "[LightGBM] [Warning] lambda_l2 is set=0.002665604099762467, reg_lambda=0.0 will be ignored. Current value: lambda_l2=0.002665604099762467\n",
      "[LightGBM] [Warning] lambda_l1 is set=1.683094921772377, reg_alpha=0.0 will be ignored. Current value: lambda_l1=1.683094921772377\n",
      "[LightGBM] [Warning] bagging_fraction is set=0.7163065619735258, subsample=1.0 will be ignored. Current value: bagging_fraction=0.7163065619735258\n",
      "[LightGBM] [Warning] bagging_freq is set=2, subsample_freq=0 will be ignored. Current value: bagging_freq=2\n",
      "[LightGBM] [Warning] feature_fraction is set=0.815220742109687, colsample_bytree=1.0 will be ignored. Current value: feature_fraction=0.815220742109687\n",
      "[LightGBM] [Warning] lambda_l2 is set=0.002665604099762467, reg_lambda=0.0 will be ignored. Current value: lambda_l2=0.002665604099762467\n",
      "[LightGBM] [Warning] lambda_l1 is set=1.683094921772377, reg_alpha=0.0 will be ignored. Current value: lambda_l1=1.683094921772377\n",
      "[LightGBM] [Warning] bagging_fraction is set=0.7163065619735258, subsample=1.0 will be ignored. Current value: bagging_fraction=0.7163065619735258\n",
      "[LightGBM] [Warning] bagging_freq is set=2, subsample_freq=0 will be ignored. Current value: bagging_freq=2\n",
      "[LightGBM] [Info] Number of positive: 28872, number of negative: 887123\n",
      "[LightGBM] [Info] Auto-choosing row-wise multi-threading, the overhead of testing was 0.364990 seconds.\n",
      "You can set `force_row_wise=true` to remove the overhead.\n",
      "And if memory is not enough, you can set `force_col_wise=true`.\n",
      "[LightGBM] [Info] Total Bins 8980\n",
      "[LightGBM] [Info] Number of data points in the train set: 915995, number of used features: 48\n",
      "[LightGBM] [Info] [binary:BoostFromScore]: pavg=0.031520 -> initscore=-3.425111\n",
      "[LightGBM] [Info] Start training from score -3.425111\n",
      "[LightGBM] [Warning] feature_fraction is set=0.815220742109687, colsample_bytree=1.0 will be ignored. Current value: feature_fraction=0.815220742109687\n",
      "[LightGBM] [Warning] lambda_l2 is set=0.002665604099762467, reg_lambda=0.0 will be ignored. Current value: lambda_l2=0.002665604099762467\n",
      "[LightGBM] [Warning] lambda_l1 is set=1.683094921772377, reg_alpha=0.0 will be ignored. Current value: lambda_l1=1.683094921772377\n",
      "[LightGBM] [Warning] bagging_fraction is set=0.7163065619735258, subsample=1.0 will be ignored. Current value: bagging_fraction=0.7163065619735258\n",
      "[LightGBM] [Warning] bagging_freq is set=2, subsample_freq=0 will be ignored. Current value: bagging_freq=2\n",
      "[LightGBM] [Warning] feature_fraction is set=0.815220742109687, colsample_bytree=1.0 will be ignored. Current value: feature_fraction=0.815220742109687\n",
      "[LightGBM] [Warning] lambda_l2 is set=0.002665604099762467, reg_lambda=0.0 will be ignored. Current value: lambda_l2=0.002665604099762467\n",
      "[LightGBM] [Warning] lambda_l1 is set=1.683094921772377, reg_alpha=0.0 will be ignored. Current value: lambda_l1=1.683094921772377\n",
      "[LightGBM] [Warning] bagging_fraction is set=0.7163065619735258, subsample=1.0 will be ignored. Current value: bagging_fraction=0.7163065619735258\n",
      "[LightGBM] [Warning] bagging_freq is set=2, subsample_freq=0 will be ignored. Current value: bagging_freq=2\n"
     ]
    },
    {
     "data": {
      "text/html": [
       "<div>\n",
       "<style scoped>\n",
       "    .dataframe tbody tr th:only-of-type {\n",
       "        vertical-align: middle;\n",
       "    }\n",
       "\n",
       "    .dataframe tbody tr th {\n",
       "        vertical-align: top;\n",
       "    }\n",
       "\n",
       "    .dataframe thead th {\n",
       "        text-align: right;\n",
       "    }\n",
       "</style>\n",
       "<table border=\"1\" class=\"dataframe\">\n",
       "  <thead>\n",
       "    <tr style=\"text-align: right;\">\n",
       "      <th></th>\n",
       "      <th>DataCategory</th>\n",
       "      <th>auc</th>\n",
       "      <th>accuracy</th>\n",
       "      <th>f1</th>\n",
       "      <th>recall</th>\n",
       "      <th>precision</th>\n",
       "      <th>MAE</th>\n",
       "      <th>MSE</th>\n",
       "      <th>RMSE</th>\n",
       "      <th>r2</th>\n",
       "      <th>tp</th>\n",
       "      <th>fn</th>\n",
       "      <th>fp</th>\n",
       "      <th>tn</th>\n",
       "    </tr>\n",
       "  </thead>\n",
       "  <tbody>\n",
       "    <tr>\n",
       "      <th>0</th>\n",
       "      <td>Train</td>\n",
       "      <td>0.500758</td>\n",
       "      <td>0.968489</td>\n",
       "      <td>0.49355</td>\n",
       "      <td>0.500758</td>\n",
       "      <td>0.758653</td>\n",
       "      <td>0.031511</td>\n",
       "      <td>0.031511</td>\n",
       "      <td>0.177514</td>\n",
       "      <td>-0.03226</td>\n",
       "      <td>45</td>\n",
       "      <td>28827</td>\n",
       "      <td>37</td>\n",
       "      <td>887086</td>\n",
       "    </tr>\n",
       "    <tr>\n",
       "      <th>1</th>\n",
       "      <td>Valid</td>\n",
       "      <td>0.500666</td>\n",
       "      <td>0.969076</td>\n",
       "      <td>0.49352</td>\n",
       "      <td>0.500666</td>\n",
       "      <td>0.734558</td>\n",
       "      <td>0.030924</td>\n",
       "      <td>0.030924</td>\n",
       "      <td>0.177514</td>\n",
       "      <td>-0.03226</td>\n",
       "      <td>13</td>\n",
       "      <td>9429</td>\n",
       "      <td>13</td>\n",
       "      <td>295877</td>\n",
       "    </tr>\n",
       "  </tbody>\n",
       "</table>\n",
       "</div>"
      ],
      "text/plain": [
       "  DataCategory       auc  accuracy       f1    recall  precision       MAE  \\\n",
       "0        Train  0.500758  0.968489  0.49355  0.500758   0.758653  0.031511   \n",
       "1        Valid  0.500666  0.969076  0.49352  0.500666   0.734558  0.030924   \n",
       "\n",
       "        MSE      RMSE       r2  tp     fn  fp      tn  \n",
       "0  0.031511  0.177514 -0.03226  45  28827  37  887086  \n",
       "1  0.030924  0.177514 -0.03226  13   9429  13  295877  "
      ]
     },
     "metadata": {},
     "output_type": "display_data"
    }
   ],
   "source": [
    "now = datetime.datetime.now().strftime(\"%Y%m%d%H\")\n",
    "target_output_dir = 'results_' + now\n",
    "\n",
    "os.makedirs(target_output_dir, exist_ok=True)\n",
    "print(target_output_dir)\n",
    "\n",
    "\n",
    "\n",
    "models = {\n",
    "#           'DecisionTreeClassifier': DecisionTreeClassifier(random_state=42), \n",
    "#           'RandomForest':RandomForestClassifier(random_state=42),\n",
    "#           'GradientBoostingClassifier':GradientBoostingClassifier(random_state=42),\n",
    "          'lightgbm': LGBMClassifier(**lgb_params),\n",
    "#           'xgboost': XGBClassifier(**xgb_params),\n",
    "#           'AdaBoostClassifier': AdaBoostClassifier(random_state=42),\n",
    "#           'CatBoostClassifier': CatBoostClassifier(**cat_params),\n",
    "#           'ExtraTreesClassifier': ExtraTreesClassifier(random_state=42),\n",
    "         }\n",
    "\n",
    "score_all = []\n",
    "importance_all = []\n",
    "for model_name, model in models.items():\n",
    "    print(model_name)\n",
    "    score, importance, model, cols = make_model_and_eval(model, X_train, X_valid, y_train, y_valid)\n",
    "    score['model_name'] = model_name\n",
    "    importance['model_name'] = model_name\n",
    "    \n",
    "    model_names = f'model_{model_name}.pickle'\n",
    "    model_path = os.path.join(target_output_dir, model_names)\n",
    "    with open(model_path, mode='wb') as f:\n",
    "        pickle.dump(model, f, protocol=2)\n",
    "    score_all.append(score)\n",
    "    importance_all.append(importance)\n",
    "score_all = pd.concat(score_all, ignore_index=True)\n",
    "importance_all = pd.concat(importance_all, ignore_index=True)\n",
    "cols = pd.DataFrame({'X_cols':X_train.columns})\n",
    "\n",
    "score_name = 'score.csv'\n",
    "importance_name = 'importance.csv'\n",
    "cols_name = 'X_cols.csv'\n",
    "\n",
    "score_path = os.path.join(target_output_dir, score_name)\n",
    "importance_path = os.path.join(target_output_dir, importance_name)\n",
    "cols_path = os.path.join(target_output_dir, cols_name)\n",
    "\n",
    "score_all.to_csv(score_path, index=False)\n",
    "importance_all.to_csv(importance_path, index=False)\n",
    "cols.to_csv(cols_path, index=False)"
   ]
  },
  {
   "cell_type": "markdown",
   "id": "aca5bdcf",
   "metadata": {
    "papermill": {
     "duration": 0.008975,
     "end_time": "2024-03-14T11:27:57.282149",
     "exception": false,
     "start_time": "2024-03-14T11:27:57.273174",
     "status": "completed"
    },
    "tags": []
   },
   "source": [
    "# pickleファイルのインポート"
   ]
  },
  {
   "cell_type": "code",
   "execution_count": 9,
   "id": "2c0f44f9",
   "metadata": {
    "execution": {
     "iopub.execute_input": "2024-03-14T11:27:57.302329Z",
     "iopub.status.busy": "2024-03-14T11:27:57.301928Z",
     "iopub.status.idle": "2024-03-14T11:27:57.316350Z",
     "shell.execute_reply": "2024-03-14T11:27:57.314882Z"
    },
    "papermill": {
     "duration": 0.027458,
     "end_time": "2024-03-14T11:27:57.319231",
     "exception": false,
     "start_time": "2024-03-14T11:27:57.291773",
     "status": "completed"
    },
    "tags": []
   },
   "outputs": [
    {
     "name": "stdout",
     "output_type": "stream",
     "text": [
      "LGBMClassifier(bagging_fraction=0.7163065619735258, bagging_freq=2,\n",
      "               feature_fraction=0.815220742109687, lambda_l1=1.683094921772377,\n",
      "               lambda_l2=0.002665604099762467, min_child_samples=74,\n",
      "               num_leaves=21)\n"
     ]
    }
   ],
   "source": [
    "import pickle\n",
    "\n",
    "model_name = 'model_lightgbm.pickle'\n",
    "\n",
    "model_path = os.path.join(target_output_dir, model_name)\n",
    "\n",
    "with open(model_path, mode='rb') as f:\n",
    "    model = pickle.load(f)\n",
    "    \n",
    "print(model)"
   ]
  },
  {
   "cell_type": "code",
   "execution_count": 10,
   "id": "e2d250c6",
   "metadata": {
    "execution": {
     "iopub.execute_input": "2024-03-14T11:27:57.339032Z",
     "iopub.status.busy": "2024-03-14T11:27:57.338626Z",
     "iopub.status.idle": "2024-03-14T11:28:13.897441Z",
     "shell.execute_reply": "2024-03-14T11:28:13.896475Z"
    },
    "papermill": {
     "duration": 16.57287,
     "end_time": "2024-03-14T11:28:13.901053",
     "exception": false,
     "start_time": "2024-03-14T11:27:57.328183",
     "status": "completed"
    },
    "tags": []
   },
   "outputs": [
    {
     "name": "stdout",
     "output_type": "stream",
     "text": [
      "[LightGBM] [Info] Auto-choosing col-wise multi-threading, the overhead of testing was 0.413024 seconds.\n",
      "You can set `force_col_wise=true` to remove the overhead.\n",
      "[LightGBM] [Info] Total Bins 8980\n",
      "[LightGBM] [Info] Number of data points in the train set: 915995, number of used features: 48\n",
      "[LightGBM] [Info] Start training from score 0.031520\n",
      "Training until validation scores don't improve for 10 rounds\n",
      "[50]\tvalid_0's l2: 0.0290654\n",
      "[100]\tvalid_0's l2: 0.0289564\n",
      "Did not meet early stopping. Best iteration is:\n",
      "[100]\tvalid_0's l2: 0.0289564\n"
     ]
    }
   ],
   "source": [
    "lgb_train = lgb.Dataset(X_train, label=y_train)\n",
    "lgb_valid = lgb.Dataset(X_valid, label=y_valid, reference=lgb_train)\n",
    "\n",
    "model = lgb.train(\n",
    "    lgb_params,\n",
    "    lgb_train,\n",
    "    valid_sets=lgb_valid,\n",
    "    callbacks=[lgb.log_evaluation(50), lgb.early_stopping(10)]\n",
    ")"
   ]
  },
  {
   "cell_type": "markdown",
   "id": "9bd70585",
   "metadata": {
    "papermill": {
     "duration": 0.009691,
     "end_time": "2024-03-14T11:28:13.921036",
     "exception": false,
     "start_time": "2024-03-14T11:28:13.911345",
     "status": "completed"
    },
    "tags": []
   },
   "source": [
    "# モデルの予測"
   ]
  },
  {
   "cell_type": "code",
   "execution_count": 11,
   "id": "97f60044",
   "metadata": {
    "execution": {
     "iopub.execute_input": "2024-03-14T11:28:13.943706Z",
     "iopub.status.busy": "2024-03-14T11:28:13.942924Z",
     "iopub.status.idle": "2024-03-14T11:28:19.710390Z",
     "shell.execute_reply": "2024-03-14T11:28:19.709440Z"
    },
    "papermill": {
     "duration": 5.781538,
     "end_time": "2024-03-14T11:28:19.713078",
     "exception": false,
     "start_time": "2024-03-14T11:28:13.931540",
     "status": "completed"
    },
    "tags": []
   },
   "outputs": [
    {
     "name": "stdout",
     "output_type": "stream",
     "text": [
      "The AUC score on the train set is: 0.7546949136327021\n",
      "The AUC score on the valid set is: 0.7440430673509578\n",
      "The AUC score on the test set is: 0.7401315666534131\n"
     ]
    }
   ],
   "source": [
    "for base, X in [(base_train, X_train), (base_valid, X_valid), (base_test, X_test)]:\n",
    "    y_pred = model.predict(X)\n",
    "    base[\"score\"] = y_pred\n",
    "\n",
    "print(f'The AUC score on the train set is: {roc_auc_score(base_train[\"target\"], base_train[\"score\"])}')\n",
    "print(f'The AUC score on the valid set is: {roc_auc_score(base_valid[\"target\"], base_valid[\"score\"])}')\n",
    "print(f'The AUC score on the test set is: {roc_auc_score(base_test[\"target\"], base_test[\"score\"])}')"
   ]
  },
  {
   "cell_type": "code",
   "execution_count": 12,
   "id": "75607b6c",
   "metadata": {
    "execution": {
     "iopub.execute_input": "2024-03-14T11:28:19.737355Z",
     "iopub.status.busy": "2024-03-14T11:28:19.736703Z",
     "iopub.status.idle": "2024-03-14T11:28:20.919414Z",
     "shell.execute_reply": "2024-03-14T11:28:20.918486Z"
    },
    "papermill": {
     "duration": 1.198327,
     "end_time": "2024-03-14T11:28:20.922186",
     "exception": false,
     "start_time": "2024-03-14T11:28:19.723859",
     "status": "completed"
    },
    "tags": []
   },
   "outputs": [
    {
     "name": "stdout",
     "output_type": "stream",
     "text": [
      "The stability score on the train set is: 0.48044755058573424\n",
      "The stability score on the valid set is: 0.457462360622432\n",
      "The stability score on the test set is: 0.4400468019011745\n"
     ]
    }
   ],
   "source": [
    "def gini_stability(base, w_fallingrate=88.0, w_resstd=-0.5):\n",
    "    gini_in_time = base.loc[:, [\"WEEK_NUM\", \"target\", \"score\"]]\\\n",
    "        .sort_values(\"WEEK_NUM\")\\\n",
    "        .groupby(\"WEEK_NUM\")[[\"target\", \"score\"]]\\\n",
    "        .apply(lambda x: 2*roc_auc_score(x[\"target\"], x[\"score\"])-1).tolist()\n",
    "    \n",
    "    x = np.arange(len(gini_in_time))\n",
    "    y = gini_in_time\n",
    "    a, b = np.polyfit(x, y, 1)\n",
    "    y_hat = a*x + b\n",
    "    residuals = y - y_hat\n",
    "    res_std = np.std(residuals)\n",
    "    avg_gini = np.mean(gini_in_time)\n",
    "    \n",
    "    return avg_gini + w_fallingrate * min(0, a) + w_resstd * res_std\n",
    "\n",
    "stability_score_train = gini_stability(base_train)\n",
    "stability_score_valid = gini_stability(base_valid)\n",
    "stability_score_test = gini_stability(base_test)\n",
    "\n",
    "print(f'The stability score on the train set is: {stability_score_train}')\n",
    "print(f'The stability score on the valid set is: {stability_score_valid}')\n",
    "print(f'The stability score on the test set is: {stability_score_test}')"
   ]
  },
  {
   "cell_type": "markdown",
   "id": "dbab0704",
   "metadata": {
    "papermill": {
     "duration": 0.009933,
     "end_time": "2024-03-14T11:28:20.942264",
     "exception": false,
     "start_time": "2024-03-14T11:28:20.932331",
     "status": "completed"
    },
    "tags": []
   },
   "source": [
    "# 提出"
   ]
  },
  {
   "cell_type": "code",
   "execution_count": 13,
   "id": "b256dcbb",
   "metadata": {
    "execution": {
     "iopub.execute_input": "2024-03-14T11:28:20.964651Z",
     "iopub.status.busy": "2024-03-14T11:28:20.964000Z",
     "iopub.status.idle": "2024-03-14T11:28:21.220824Z",
     "shell.execute_reply": "2024-03-14T11:28:21.219938Z"
    },
    "papermill": {
     "duration": 0.271453,
     "end_time": "2024-03-14T11:28:21.223753",
     "exception": false,
     "start_time": "2024-03-14T11:28:20.952300",
     "status": "completed"
    },
    "tags": []
   },
   "outputs": [],
   "source": [
    "def set_table_dtypes(df: pl.DataFrame) -> pl.DataFrame:\n",
    "    for col in df.columns:\n",
    "        if col[-1] in (\"P\", \"A\"):\n",
    "            df = df.with_columns(pl.col(col).cast(pl.Float64).alias(col))\n",
    "            \n",
    "    return df\n",
    "\n",
    "test_basetable = pl.read_csv(dataPath + \"csv_files/test/test_base.csv\")\n",
    "test_static = pl.concat(\n",
    "[\n",
    "    pl.read_csv(dataPath + \"csv_files/test/test_static_0_0.csv\").pipe(set_table_dtypes),\n",
    "    pl.read_csv(dataPath + \"csv_files/test/test_static_0_1.csv\").pipe(set_table_dtypes),\n",
    "    pl.read_csv(dataPath + \"csv_files/test/test_static_0_2.csv\").pipe(set_table_dtypes),\n",
    "],\n",
    "    how=\"vertical_relaxed\",\n",
    ")\n",
    "test_static_cb = pl.read_csv(dataPath + \"csv_files/test/test_static_cb_0.csv\").pipe(set_table_dtypes)\n",
    "test_person_1 = pl.read_csv(dataPath + \"csv_files/test/test_person_1.csv\").pipe(set_table_dtypes)\n",
    "test_credit_bureau_b_2 = pl.read_csv(dataPath + \"csv_files/test/test_credit_bureau_b_2.csv\").pipe(set_table_dtypes)\n",
    "\n",
    "selected_static_cols = []\n",
    "for col in test_static.columns:\n",
    "    if col[-1] in (\"A\", \"M\"):\n",
    "        selected_static_cols.append(col)\n",
    "selected_static_cb_cols = []\n",
    "for col in test_static_cb.columns:\n",
    "    if col[-1] in (\"A\", \"M\"):\n",
    "        selected_static_cb_cols.append(col)\n",
    "\n",
    "test_person_1_feats_1 = test_person_1.group_by(\"case_id\").agg(\n",
    "    pl.col(\"mainoccupationinc_384A\").max().alias(\"mainoccupationinc_384Amax\"),\n",
    "    (pl.col(\"incometype_1044T\") == \"SELFEMPLOYED\").max().alias(\"mainoccupationinc_384A_any_selfemployed\")\n",
    ")\n",
    "\n",
    "test_person_1_feats_2 = test_person_1.select([\"case_id\", \"num_group1\", \"housetype_905L\"]).filter(\n",
    "    pl.col(\"num_group1\") == 0\n",
    ").drop(\"num_group1\").rename({\"housetype_905L\": \"person_housetype\"})\n",
    "\n",
    "test_credit_bureau_b_2_feats = test_credit_bureau_b_2.group_by(\"case_id\").agg(\n",
    "    pl.col(\"pmts_pmtsoverdue_635A\").max().alias(\"pmts_pmtsoverdue_635A_max\"),\n",
    "    (pl.col(\"pmts_dpdvalue_108P\") > 31).max().alias(\"pmts_dpdvalue_108P_over31\")\n",
    ")\n",
    "        \n",
    "data_submission = test_basetable.join(\n",
    "    test_static.select([\"case_id\"] + selected_static_cols), how=\"left\", on=\"case_id\"\n",
    ").join(\n",
    "    test_static_cb.select([\"case_id\"] + selected_static_cb_cols), how=\"left\", on=\"case_id\"\n",
    ").join(\n",
    "    test_person_1_feats_1, how=\"left\", on=\"case_id\"\n",
    ").join(\n",
    "    test_person_1_feats_2, how=\"left\", on=\"case_id\"\n",
    ").join(\n",
    "    test_credit_bureau_b_2_feats, how=\"left\", on=\"case_id\"\n",
    ")\n",
    "\n",
    "cols_pred = []\n",
    "for col in X_train.columns:\n",
    "    if col[-1].isupper() and col[:-1].islower():\n",
    "        cols_pred.append(col)"
   ]
  },
  {
   "cell_type": "code",
   "execution_count": 14,
   "id": "21893953",
   "metadata": {
    "execution": {
     "iopub.execute_input": "2024-03-14T11:28:21.248040Z",
     "iopub.status.busy": "2024-03-14T11:28:21.247377Z",
     "iopub.status.idle": "2024-03-14T11:28:21.387146Z",
     "shell.execute_reply": "2024-03-14T11:28:21.386067Z"
    },
    "papermill": {
     "duration": 0.15582,
     "end_time": "2024-03-14T11:28:21.390623",
     "exception": false,
     "start_time": "2024-03-14T11:28:21.234803",
     "status": "completed"
    },
    "tags": []
   },
   "outputs": [],
   "source": [
    "X_submission = data_submission[cols_pred].to_pandas()\n",
    "X_submission = convert_strings(X_submission)\n",
    "categorical_cols = X_train.select_dtypes(include=['category']).columns\n",
    "\n",
    "for col in categorical_cols:\n",
    "    train_categories = set(X_train[col].cat.categories)\n",
    "    submission_categories = set(X_submission[col].cat.categories)\n",
    "    new_categories = submission_categories - train_categories\n",
    "    X_submission.loc[X_submission[col].isin(new_categories), col] = \"Unknown\"\n",
    "    new_dtype = pd.CategoricalDtype(categories=train_categories, ordered=True)\n",
    "    X_train[col] = X_train[col].astype(new_dtype)\n",
    "    X_submission[col] = X_submission[col].astype(new_dtype)\n",
    "    \n",
    "y_submission_pred = model.predict(X_submission)"
   ]
  },
  {
   "cell_type": "code",
   "execution_count": 15,
   "id": "c2115a4f",
   "metadata": {
    "execution": {
     "iopub.execute_input": "2024-03-14T11:28:21.415186Z",
     "iopub.status.busy": "2024-03-14T11:28:21.414440Z",
     "iopub.status.idle": "2024-03-14T11:28:21.426535Z",
     "shell.execute_reply": "2024-03-14T11:28:21.425374Z"
    },
    "papermill": {
     "duration": 0.028571,
     "end_time": "2024-03-14T11:28:21.429804",
     "exception": false,
     "start_time": "2024-03-14T11:28:21.401233",
     "status": "completed"
    },
    "tags": []
   },
   "outputs": [],
   "source": [
    "submission = pd.DataFrame({\n",
    "    \"case_id\": data_submission[\"case_id\"].to_numpy(),\n",
    "    \"score\": y_submission_pred\n",
    "}).set_index('case_id')\n",
    "submission.to_csv(\"./submission.csv\")"
   ]
  },
  {
   "cell_type": "code",
   "execution_count": 16,
   "id": "df44b810",
   "metadata": {
    "execution": {
     "iopub.execute_input": "2024-03-14T11:28:21.453873Z",
     "iopub.status.busy": "2024-03-14T11:28:21.453185Z",
     "iopub.status.idle": "2024-03-14T11:28:21.463312Z",
     "shell.execute_reply": "2024-03-14T11:28:21.462381Z"
    },
    "papermill": {
     "duration": 0.025898,
     "end_time": "2024-03-14T11:28:21.466108",
     "exception": false,
     "start_time": "2024-03-14T11:28:21.440210",
     "status": "completed"
    },
    "tags": []
   },
   "outputs": [
    {
     "data": {
      "text/html": [
       "<div>\n",
       "<style scoped>\n",
       "    .dataframe tbody tr th:only-of-type {\n",
       "        vertical-align: middle;\n",
       "    }\n",
       "\n",
       "    .dataframe tbody tr th {\n",
       "        vertical-align: top;\n",
       "    }\n",
       "\n",
       "    .dataframe thead th {\n",
       "        text-align: right;\n",
       "    }\n",
       "</style>\n",
       "<table border=\"1\" class=\"dataframe\">\n",
       "  <thead>\n",
       "    <tr style=\"text-align: right;\">\n",
       "      <th></th>\n",
       "      <th>score</th>\n",
       "    </tr>\n",
       "    <tr>\n",
       "      <th>case_id</th>\n",
       "      <th></th>\n",
       "    </tr>\n",
       "  </thead>\n",
       "  <tbody>\n",
       "    <tr>\n",
       "      <th>57543</th>\n",
       "      <td>0.007796</td>\n",
       "    </tr>\n",
       "    <tr>\n",
       "      <th>57549</th>\n",
       "      <td>0.043594</td>\n",
       "    </tr>\n",
       "    <tr>\n",
       "      <th>57551</th>\n",
       "      <td>0.007675</td>\n",
       "    </tr>\n",
       "    <tr>\n",
       "      <th>57552</th>\n",
       "      <td>0.015167</td>\n",
       "    </tr>\n",
       "    <tr>\n",
       "      <th>57569</th>\n",
       "      <td>0.098063</td>\n",
       "    </tr>\n",
       "  </tbody>\n",
       "</table>\n",
       "</div>"
      ],
      "text/plain": [
       "            score\n",
       "case_id          \n",
       "57543    0.007796\n",
       "57549    0.043594\n",
       "57551    0.007675\n",
       "57552    0.015167\n",
       "57569    0.098063"
      ]
     },
     "execution_count": 16,
     "metadata": {},
     "output_type": "execute_result"
    }
   ],
   "source": [
    "submission.head()"
   ]
  },
  {
   "cell_type": "code",
   "execution_count": null,
   "id": "eb7c4b4b",
   "metadata": {
    "papermill": {
     "duration": 0.010514,
     "end_time": "2024-03-14T11:28:21.489239",
     "exception": false,
     "start_time": "2024-03-14T11:28:21.478725",
     "status": "completed"
    },
    "tags": []
   },
   "outputs": [],
   "source": []
  }
 ],
 "metadata": {
  "kaggle": {
   "accelerator": "none",
   "dataSources": [
    {
     "databundleVersionId": 7921029,
     "sourceId": 50160,
     "sourceType": "competition"
    },
    {
     "datasetId": 4596894,
     "sourceId": 7841273,
     "sourceType": "datasetVersion"
    }
   ],
   "dockerImageVersionId": 30664,
   "isGpuEnabled": false,
   "isInternetEnabled": false,
   "language": "python",
   "sourceType": "notebook"
  },
  "kernelspec": {
   "display_name": "Python 3",
   "language": "python",
   "name": "python3"
  },
  "language_info": {
   "codemirror_mode": {
    "name": "ipython",
    "version": 3
   },
   "file_extension": ".py",
   "mimetype": "text/x-python",
   "name": "python",
   "nbconvert_exporter": "python",
   "pygments_lexer": "ipython3",
   "version": "3.10.13"
  },
  "papermill": {
   "default_parameters": {},
   "duration": 96.555745,
   "end_time": "2024-03-14T11:28:22.325219",
   "environment_variables": {},
   "exception": null,
   "input_path": "__notebook__.ipynb",
   "output_path": "__notebook__.ipynb",
   "parameters": {},
   "start_time": "2024-03-14T11:26:45.769474",
   "version": "2.5.0"
  }
 },
 "nbformat": 4,
 "nbformat_minor": 5
}

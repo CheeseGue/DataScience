{
 "cells": [
  {
   "cell_type": "code",
   "execution_count": 1,
   "id": "9e806772",
   "metadata": {
    "_cell_guid": "b1076dfc-b9ad-4769-8c92-a6c4dae69d19",
    "_uuid": "8f2839f25d086af736a60e9eeb907d3b93b6e0e5",
    "execution": {
     "iopub.execute_input": "2024-03-14T10:52:18.188124Z",
     "iopub.status.busy": "2024-03-14T10:52:18.187452Z",
     "iopub.status.idle": "2024-03-14T10:52:19.237676Z",
     "shell.execute_reply": "2024-03-14T10:52:19.236496Z"
    },
    "papermill": {
     "duration": 1.063584,
     "end_time": "2024-03-14T10:52:19.241813",
     "exception": false,
     "start_time": "2024-03-14T10:52:18.178229",
     "status": "completed"
    },
    "tags": []
   },
   "outputs": [
    {
     "name": "stdout",
     "output_type": "stream",
     "text": [
      "/kaggle/input/my-home-credit-credit-risk-model-stability/base_test.csv\n",
      "/kaggle/input/my-home-credit-credit-risk-model-stability/y_valid.csv\n",
      "/kaggle/input/my-home-credit-credit-risk-model-stability/X_valid.csv\n",
      "/kaggle/input/my-home-credit-credit-risk-model-stability/y_test.csv\n",
      "/kaggle/input/my-home-credit-credit-risk-model-stability/X_test.csv\n",
      "/kaggle/input/my-home-credit-credit-risk-model-stability/y_train.csv\n",
      "/kaggle/input/my-home-credit-credit-risk-model-stability/X_train.csv\n",
      "/kaggle/input/my-home-credit-credit-risk-model-stability/base_train.csv\n",
      "/kaggle/input/my-home-credit-credit-risk-model-stability/base_valid.csv\n",
      "/kaggle/input/home-credit-credit-risk-model-stability/sample_submission.csv\n",
      "/kaggle/input/home-credit-credit-risk-model-stability/feature_definitions.csv\n",
      "/kaggle/input/home-credit-credit-risk-model-stability/parquet_files/test/test_deposit_1.parquet\n",
      "/kaggle/input/home-credit-credit-risk-model-stability/parquet_files/test/test_applprev_2.parquet\n",
      "/kaggle/input/home-credit-credit-risk-model-stability/parquet_files/test/test_static_cb_0.parquet\n",
      "/kaggle/input/home-credit-credit-risk-model-stability/parquet_files/test/test_static_0_0.parquet\n",
      "/kaggle/input/home-credit-credit-risk-model-stability/parquet_files/test/test_credit_bureau_a_1_3.parquet\n",
      "/kaggle/input/home-credit-credit-risk-model-stability/parquet_files/test/test_credit_bureau_a_1_2.parquet\n",
      "/kaggle/input/home-credit-credit-risk-model-stability/parquet_files/test/test_tax_registry_b_1.parquet\n",
      "/kaggle/input/home-credit-credit-risk-model-stability/parquet_files/test/test_static_0_2.parquet\n",
      "/kaggle/input/home-credit-credit-risk-model-stability/parquet_files/test/test_credit_bureau_a_2_3.parquet\n",
      "/kaggle/input/home-credit-credit-risk-model-stability/parquet_files/test/test_credit_bureau_a_2_9.parquet\n",
      "/kaggle/input/home-credit-credit-risk-model-stability/parquet_files/test/test_debitcard_1.parquet\n",
      "/kaggle/input/home-credit-credit-risk-model-stability/parquet_files/test/test_credit_bureau_a_1_1.parquet\n",
      "/kaggle/input/home-credit-credit-risk-model-stability/parquet_files/test/test_credit_bureau_a_2_2.parquet\n",
      "/kaggle/input/home-credit-credit-risk-model-stability/parquet_files/test/test_credit_bureau_a_2_11.parquet\n",
      "/kaggle/input/home-credit-credit-risk-model-stability/parquet_files/test/test_applprev_1_2.parquet\n",
      "/kaggle/input/home-credit-credit-risk-model-stability/parquet_files/test/test_credit_bureau_a_2_1.parquet\n",
      "/kaggle/input/home-credit-credit-risk-model-stability/parquet_files/test/test_credit_bureau_a_1_4.parquet\n",
      "/kaggle/input/home-credit-credit-risk-model-stability/parquet_files/test/test_tax_registry_c_1.parquet\n",
      "/kaggle/input/home-credit-credit-risk-model-stability/parquet_files/test/test_applprev_1_0.parquet\n",
      "/kaggle/input/home-credit-credit-risk-model-stability/parquet_files/test/test_tax_registry_a_1.parquet\n",
      "/kaggle/input/home-credit-credit-risk-model-stability/parquet_files/test/test_credit_bureau_a_2_6.parquet\n",
      "/kaggle/input/home-credit-credit-risk-model-stability/parquet_files/test/test_credit_bureau_a_2_5.parquet\n",
      "/kaggle/input/home-credit-credit-risk-model-stability/parquet_files/test/test_credit_bureau_b_1.parquet\n",
      "/kaggle/input/home-credit-credit-risk-model-stability/parquet_files/test/test_other_1.parquet\n",
      "/kaggle/input/home-credit-credit-risk-model-stability/parquet_files/test/test_static_0_1.parquet\n",
      "/kaggle/input/home-credit-credit-risk-model-stability/parquet_files/test/test_credit_bureau_a_2_0.parquet\n",
      "/kaggle/input/home-credit-credit-risk-model-stability/parquet_files/test/test_applprev_1_1.parquet\n",
      "/kaggle/input/home-credit-credit-risk-model-stability/parquet_files/test/test_base.parquet\n",
      "/kaggle/input/home-credit-credit-risk-model-stability/parquet_files/test/test_person_1.parquet\n",
      "/kaggle/input/home-credit-credit-risk-model-stability/parquet_files/test/test_credit_bureau_a_2_7.parquet\n",
      "/kaggle/input/home-credit-credit-risk-model-stability/parquet_files/test/test_credit_bureau_a_2_10.parquet\n",
      "/kaggle/input/home-credit-credit-risk-model-stability/parquet_files/test/test_credit_bureau_b_2.parquet\n",
      "/kaggle/input/home-credit-credit-risk-model-stability/parquet_files/test/test_credit_bureau_a_2_8.parquet\n",
      "/kaggle/input/home-credit-credit-risk-model-stability/parquet_files/test/test_credit_bureau_a_1_0.parquet\n",
      "/kaggle/input/home-credit-credit-risk-model-stability/parquet_files/test/test_credit_bureau_a_2_4.parquet\n",
      "/kaggle/input/home-credit-credit-risk-model-stability/parquet_files/test/test_person_2.parquet\n",
      "/kaggle/input/home-credit-credit-risk-model-stability/parquet_files/train/train_tax_registry_c_1.parquet\n",
      "/kaggle/input/home-credit-credit-risk-model-stability/parquet_files/train/train_static_0_0.parquet\n",
      "/kaggle/input/home-credit-credit-risk-model-stability/parquet_files/train/train_credit_bureau_a_1_3.parquet\n",
      "/kaggle/input/home-credit-credit-risk-model-stability/parquet_files/train/train_credit_bureau_b_2.parquet\n",
      "/kaggle/input/home-credit-credit-risk-model-stability/parquet_files/train/train_applprev_1_1.parquet\n",
      "/kaggle/input/home-credit-credit-risk-model-stability/parquet_files/train/train_static_cb_0.parquet\n",
      "/kaggle/input/home-credit-credit-risk-model-stability/parquet_files/train/train_other_1.parquet\n",
      "/kaggle/input/home-credit-credit-risk-model-stability/parquet_files/train/train_credit_bureau_a_2_6.parquet\n",
      "/kaggle/input/home-credit-credit-risk-model-stability/parquet_files/train/train_tax_registry_a_1.parquet\n",
      "/kaggle/input/home-credit-credit-risk-model-stability/parquet_files/train/train_tax_registry_b_1.parquet\n",
      "/kaggle/input/home-credit-credit-risk-model-stability/parquet_files/train/train_credit_bureau_a_2_1.parquet\n",
      "/kaggle/input/home-credit-credit-risk-model-stability/parquet_files/train/train_person_1.parquet\n",
      "/kaggle/input/home-credit-credit-risk-model-stability/parquet_files/train/train_person_2.parquet\n",
      "/kaggle/input/home-credit-credit-risk-model-stability/parquet_files/train/train_credit_bureau_b_1.parquet\n",
      "/kaggle/input/home-credit-credit-risk-model-stability/parquet_files/train/train_credit_bureau_a_2_0.parquet\n",
      "/kaggle/input/home-credit-credit-risk-model-stability/parquet_files/train/train_credit_bureau_a_2_7.parquet\n",
      "/kaggle/input/home-credit-credit-risk-model-stability/parquet_files/train/train_deposit_1.parquet\n",
      "/kaggle/input/home-credit-credit-risk-model-stability/parquet_files/train/train_debitcard_1.parquet\n",
      "/kaggle/input/home-credit-credit-risk-model-stability/parquet_files/train/train_credit_bureau_a_2_5.parquet\n",
      "/kaggle/input/home-credit-credit-risk-model-stability/parquet_files/train/train_credit_bureau_a_2_2.parquet\n",
      "/kaggle/input/home-credit-credit-risk-model-stability/parquet_files/train/train_credit_bureau_a_2_4.parquet\n",
      "/kaggle/input/home-credit-credit-risk-model-stability/parquet_files/train/train_base.parquet\n",
      "/kaggle/input/home-credit-credit-risk-model-stability/parquet_files/train/train_credit_bureau_a_2_9.parquet\n",
      "/kaggle/input/home-credit-credit-risk-model-stability/parquet_files/train/train_credit_bureau_a_2_3.parquet\n",
      "/kaggle/input/home-credit-credit-risk-model-stability/parquet_files/train/train_applprev_2.parquet\n",
      "/kaggle/input/home-credit-credit-risk-model-stability/parquet_files/train/train_credit_bureau_a_2_10.parquet\n",
      "/kaggle/input/home-credit-credit-risk-model-stability/parquet_files/train/train_credit_bureau_a_2_8.parquet\n",
      "/kaggle/input/home-credit-credit-risk-model-stability/parquet_files/train/train_credit_bureau_a_1_2.parquet\n",
      "/kaggle/input/home-credit-credit-risk-model-stability/parquet_files/train/train_static_0_1.parquet\n",
      "/kaggle/input/home-credit-credit-risk-model-stability/parquet_files/train/train_credit_bureau_a_1_0.parquet\n",
      "/kaggle/input/home-credit-credit-risk-model-stability/parquet_files/train/train_credit_bureau_a_1_1.parquet\n",
      "/kaggle/input/home-credit-credit-risk-model-stability/parquet_files/train/train_applprev_1_0.parquet\n",
      "/kaggle/input/home-credit-credit-risk-model-stability/csv_files/test/test_credit_bureau_a_2_6.csv\n",
      "/kaggle/input/home-credit-credit-risk-model-stability/csv_files/test/test_credit_bureau_a_2_11.csv\n",
      "/kaggle/input/home-credit-credit-risk-model-stability/csv_files/test/test_credit_bureau_a_2_0.csv\n",
      "/kaggle/input/home-credit-credit-risk-model-stability/csv_files/test/test_credit_bureau_a_2_9.csv\n",
      "/kaggle/input/home-credit-credit-risk-model-stability/csv_files/test/test_base.csv\n",
      "/kaggle/input/home-credit-credit-risk-model-stability/csv_files/test/test_credit_bureau_a_1_1.csv\n",
      "/kaggle/input/home-credit-credit-risk-model-stability/csv_files/test/test_credit_bureau_b_2.csv\n",
      "/kaggle/input/home-credit-credit-risk-model-stability/csv_files/test/test_credit_bureau_a_2_10.csv\n",
      "/kaggle/input/home-credit-credit-risk-model-stability/csv_files/test/test_credit_bureau_a_2_4.csv\n",
      "/kaggle/input/home-credit-credit-risk-model-stability/csv_files/test/test_static_0_0.csv\n",
      "/kaggle/input/home-credit-credit-risk-model-stability/csv_files/test/test_static_cb_0.csv\n",
      "/kaggle/input/home-credit-credit-risk-model-stability/csv_files/test/test_credit_bureau_a_2_2.csv\n",
      "/kaggle/input/home-credit-credit-risk-model-stability/csv_files/test/test_credit_bureau_b_1.csv\n",
      "/kaggle/input/home-credit-credit-risk-model-stability/csv_files/test/test_tax_registry_b_1.csv\n",
      "/kaggle/input/home-credit-credit-risk-model-stability/csv_files/test/test_person_2.csv\n",
      "/kaggle/input/home-credit-credit-risk-model-stability/csv_files/test/test_person_1.csv\n",
      "/kaggle/input/home-credit-credit-risk-model-stability/csv_files/test/test_credit_bureau_a_2_8.csv\n",
      "/kaggle/input/home-credit-credit-risk-model-stability/csv_files/test/test_applprev_1_2.csv\n",
      "/kaggle/input/home-credit-credit-risk-model-stability/csv_files/test/test_applprev_1_1.csv\n",
      "/kaggle/input/home-credit-credit-risk-model-stability/csv_files/test/test_credit_bureau_a_1_0.csv\n",
      "/kaggle/input/home-credit-credit-risk-model-stability/csv_files/test/test_applprev_2.csv\n",
      "/kaggle/input/home-credit-credit-risk-model-stability/csv_files/test/test_credit_bureau_a_2_7.csv\n",
      "/kaggle/input/home-credit-credit-risk-model-stability/csv_files/test/test_other_1.csv\n",
      "/kaggle/input/home-credit-credit-risk-model-stability/csv_files/test/test_tax_registry_c_1.csv\n",
      "/kaggle/input/home-credit-credit-risk-model-stability/csv_files/test/test_credit_bureau_a_1_3.csv\n",
      "/kaggle/input/home-credit-credit-risk-model-stability/csv_files/test/test_static_0_2.csv\n",
      "/kaggle/input/home-credit-credit-risk-model-stability/csv_files/test/test_credit_bureau_a_2_5.csv\n",
      "/kaggle/input/home-credit-credit-risk-model-stability/csv_files/test/test_credit_bureau_a_1_2.csv\n",
      "/kaggle/input/home-credit-credit-risk-model-stability/csv_files/test/test_debitcard_1.csv\n",
      "/kaggle/input/home-credit-credit-risk-model-stability/csv_files/test/test_credit_bureau_a_1_4.csv\n",
      "/kaggle/input/home-credit-credit-risk-model-stability/csv_files/test/test_deposit_1.csv\n",
      "/kaggle/input/home-credit-credit-risk-model-stability/csv_files/test/test_static_0_1.csv\n",
      "/kaggle/input/home-credit-credit-risk-model-stability/csv_files/test/test_credit_bureau_a_2_1.csv\n",
      "/kaggle/input/home-credit-credit-risk-model-stability/csv_files/test/test_applprev_1_0.csv\n",
      "/kaggle/input/home-credit-credit-risk-model-stability/csv_files/test/test_tax_registry_a_1.csv\n",
      "/kaggle/input/home-credit-credit-risk-model-stability/csv_files/test/test_credit_bureau_a_2_3.csv\n",
      "/kaggle/input/home-credit-credit-risk-model-stability/csv_files/train/train_credit_bureau_a_1_3.csv\n",
      "/kaggle/input/home-credit-credit-risk-model-stability/csv_files/train/train_static_cb_0.csv\n",
      "/kaggle/input/home-credit-credit-risk-model-stability/csv_files/train/train_applprev_1_0.csv\n",
      "/kaggle/input/home-credit-credit-risk-model-stability/csv_files/train/train_person_2.csv\n",
      "/kaggle/input/home-credit-credit-risk-model-stability/csv_files/train/train_base.csv\n",
      "/kaggle/input/home-credit-credit-risk-model-stability/csv_files/train/train_tax_registry_a_1.csv\n",
      "/kaggle/input/home-credit-credit-risk-model-stability/csv_files/train/train_static_0_0.csv\n",
      "/kaggle/input/home-credit-credit-risk-model-stability/csv_files/train/train_credit_bureau_a_1_0.csv\n",
      "/kaggle/input/home-credit-credit-risk-model-stability/csv_files/train/train_applprev_2.csv\n",
      "/kaggle/input/home-credit-credit-risk-model-stability/csv_files/train/train_credit_bureau_a_2_6.csv\n",
      "/kaggle/input/home-credit-credit-risk-model-stability/csv_files/train/train_credit_bureau_a_1_2.csv\n",
      "/kaggle/input/home-credit-credit-risk-model-stability/csv_files/train/train_person_1.csv\n",
      "/kaggle/input/home-credit-credit-risk-model-stability/csv_files/train/train_credit_bureau_a_1_1.csv\n",
      "/kaggle/input/home-credit-credit-risk-model-stability/csv_files/train/train_tax_registry_c_1.csv\n",
      "/kaggle/input/home-credit-credit-risk-model-stability/csv_files/train/train_credit_bureau_a_2_4.csv\n",
      "/kaggle/input/home-credit-credit-risk-model-stability/csv_files/train/train_credit_bureau_a_2_9.csv\n",
      "/kaggle/input/home-credit-credit-risk-model-stability/csv_files/train/train_credit_bureau_a_2_3.csv\n",
      "/kaggle/input/home-credit-credit-risk-model-stability/csv_files/train/train_credit_bureau_a_2_7.csv\n",
      "/kaggle/input/home-credit-credit-risk-model-stability/csv_files/train/train_credit_bureau_b_2.csv\n",
      "/kaggle/input/home-credit-credit-risk-model-stability/csv_files/train/train_credit_bureau_a_2_2.csv\n",
      "/kaggle/input/home-credit-credit-risk-model-stability/csv_files/train/train_static_0_1.csv\n",
      "/kaggle/input/home-credit-credit-risk-model-stability/csv_files/train/train_deposit_1.csv\n",
      "/kaggle/input/home-credit-credit-risk-model-stability/csv_files/train/train_credit_bureau_a_2_10.csv\n",
      "/kaggle/input/home-credit-credit-risk-model-stability/csv_files/train/train_tax_registry_b_1.csv\n",
      "/kaggle/input/home-credit-credit-risk-model-stability/csv_files/train/train_applprev_1_1.csv\n",
      "/kaggle/input/home-credit-credit-risk-model-stability/csv_files/train/train_credit_bureau_a_2_1.csv\n",
      "/kaggle/input/home-credit-credit-risk-model-stability/csv_files/train/train_credit_bureau_a_2_8.csv\n",
      "/kaggle/input/home-credit-credit-risk-model-stability/csv_files/train/train_credit_bureau_a_2_5.csv\n",
      "/kaggle/input/home-credit-credit-risk-model-stability/csv_files/train/train_credit_bureau_b_1.csv\n",
      "/kaggle/input/home-credit-credit-risk-model-stability/csv_files/train/train_credit_bureau_a_2_0.csv\n",
      "/kaggle/input/home-credit-credit-risk-model-stability/csv_files/train/train_other_1.csv\n",
      "/kaggle/input/home-credit-credit-risk-model-stability/csv_files/train/train_debitcard_1.csv\n"
     ]
    }
   ],
   "source": [
    "# This Python 3 environment comes with many helpful analytics libraries installed\n",
    "# It is defined by the kaggle/python Docker image: https://github.com/kaggle/docker-python\n",
    "# For example, here's several helpful packages to load\n",
    "\n",
    "import numpy as np # linear algebra\n",
    "import pandas as pd # data processing, CSV file I/O (e.g. pd.read_csv)\n",
    "\n",
    "# Input data files are available in the read-only \"../input/\" directory\n",
    "# For example, running this (by clicking run or pressing Shift+Enter) will list all files under the input directory\n",
    "\n",
    "import os\n",
    "for dirname, _, filenames in os.walk('/kaggle/input'):\n",
    "    for filename in filenames:\n",
    "        print(os.path.join(dirname, filename))\n",
    "\n",
    "# You can write up to 20GB to the current directory (/kaggle/working/) that gets preserved as output when you create a version using \"Save & Run All\" \n",
    "# You can also write temporary files to /kaggle/temp/, but they won't be saved outside of the current session"
   ]
  },
  {
   "cell_type": "code",
   "execution_count": 2,
   "id": "564d2f18",
   "metadata": {
    "execution": {
     "iopub.execute_input": "2024-03-14T10:52:19.256839Z",
     "iopub.status.busy": "2024-03-14T10:52:19.255668Z",
     "iopub.status.idle": "2024-03-14T10:52:22.121223Z",
     "shell.execute_reply": "2024-03-14T10:52:22.119796Z"
    },
    "papermill": {
     "duration": 2.876349,
     "end_time": "2024-03-14T10:52:22.124441",
     "exception": false,
     "start_time": "2024-03-14T10:52:19.248092",
     "status": "completed"
    },
    "tags": []
   },
   "outputs": [],
   "source": [
    "import polars as pl\n",
    "import numpy as np\n",
    "import pandas as pd\n",
    "import lightgbm as lgb\n",
    "from sklearn.model_selection import train_test_split\n",
    "from sklearn.metrics import roc_auc_score \n",
    "\n",
    "dataPath = \"/kaggle/input/home-credit-credit-risk-model-stability/\"\n",
    "InputFile = \"/kaggle/input/my-home-credit-credit-risk-model-stability\""
   ]
  },
  {
   "cell_type": "code",
   "execution_count": 3,
   "id": "5c5b44b9",
   "metadata": {
    "execution": {
     "iopub.execute_input": "2024-03-14T10:52:22.140347Z",
     "iopub.status.busy": "2024-03-14T10:52:22.139211Z",
     "iopub.status.idle": "2024-03-14T10:52:39.852853Z",
     "shell.execute_reply": "2024-03-14T10:52:39.851283Z"
    },
    "papermill": {
     "duration": 17.72499,
     "end_time": "2024-03-14T10:52:39.855979",
     "exception": false,
     "start_time": "2024-03-14T10:52:22.130989",
     "status": "completed"
    },
    "tags": []
   },
   "outputs": [],
   "source": [
    "X_train = pd.read_csv(InputFile + \"/X_train.csv\")\n",
    "X_valid = pd.read_csv(InputFile + \"/X_valid.csv\")\n",
    "X_test = pd.read_csv(InputFile + \"/X_test.csv\")\n",
    "\n",
    "y_train = pd.read_csv(InputFile + \"/y_train.csv\")\n",
    "y_valid = pd.read_csv(InputFile + \"/y_valid.csv\")\n",
    "y_test = pd.read_csv(InputFile + \"/y_test.csv\")\n",
    "\n",
    "base_train = pd.read_csv(InputFile + \"/base_train.csv\")\n",
    "base_valid = pd.read_csv(InputFile + \"/base_valid.csv\")\n",
    "base_test = pd.read_csv(InputFile + \"/base_test.csv\")"
   ]
  },
  {
   "cell_type": "code",
   "execution_count": 4,
   "id": "082a0db0",
   "metadata": {
    "execution": {
     "iopub.execute_input": "2024-03-14T10:52:39.871728Z",
     "iopub.status.busy": "2024-03-14T10:52:39.871252Z",
     "iopub.status.idle": "2024-03-14T10:52:42.983777Z",
     "shell.execute_reply": "2024-03-14T10:52:42.982332Z"
    },
    "papermill": {
     "duration": 3.124021,
     "end_time": "2024-03-14T10:52:42.986964",
     "exception": false,
     "start_time": "2024-03-14T10:52:39.862943",
     "status": "completed"
    },
    "tags": []
   },
   "outputs": [],
   "source": [
    "def convert_strings(df: pd.DataFrame) -> pd.DataFrame:\n",
    "    for col in df.columns:\n",
    "        if df[col].dtype.name in ['object', 'string']:\n",
    "            df[col] = df[col].astype(\"string\").astype('category')\n",
    "            current_categories = df[col].cat.categories\n",
    "            new_categories = current_categories.to_list() + [\"Unknown\"]\n",
    "            new_dtype = pd.CategoricalDtype(categories=new_categories, ordered=True)\n",
    "            df[col] = df[col].astype(new_dtype)\n",
    "            \n",
    "    return df\n",
    "\n",
    "for df in [X_train, X_valid, X_test]:\n",
    "    df = convert_strings(df)"
   ]
  },
  {
   "cell_type": "markdown",
   "id": "7acd2f55",
   "metadata": {
    "papermill": {
     "duration": 0.006541,
     "end_time": "2024-03-14T10:52:43.000051",
     "exception": false,
     "start_time": "2024-03-14T10:52:42.993510",
     "status": "completed"
    },
    "tags": []
   },
   "source": [
    "# 機械学習モデルの構築・学習・予測"
   ]
  },
  {
   "cell_type": "markdown",
   "id": "b5ffea5e",
   "metadata": {
    "papermill": {
     "duration": 0.006353,
     "end_time": "2024-03-14T10:52:43.013271",
     "exception": false,
     "start_time": "2024-03-14T10:52:43.006918",
     "status": "completed"
    },
    "tags": []
   },
   "source": [
    "## ライブラリのインポート"
   ]
  },
  {
   "cell_type": "code",
   "execution_count": 5,
   "id": "79728e0b",
   "metadata": {
    "execution": {
     "iopub.execute_input": "2024-03-14T10:52:43.028922Z",
     "iopub.status.busy": "2024-03-14T10:52:43.028489Z",
     "iopub.status.idle": "2024-03-14T10:52:43.824047Z",
     "shell.execute_reply": "2024-03-14T10:52:43.822814Z"
    },
    "papermill": {
     "duration": 0.807138,
     "end_time": "2024-03-14T10:52:43.827188",
     "exception": false,
     "start_time": "2024-03-14T10:52:43.020050",
     "status": "completed"
    },
    "tags": []
   },
   "outputs": [],
   "source": [
    "from sklearn.model_selection import train_test_split\n",
    "from sklearn.preprocessing import StandardScaler\n",
    "\n",
    "# 評価指標\n",
    "from sklearn.metrics import roc_auc_score, accuracy_score, f1_score, recall_score, precision_score, confusion_matrix, mean_absolute_error, mean_squared_error, r2_score\n",
    "\n",
    "# 機械学習モデル\n",
    "from sklearn.linear_model import LinearRegression, Lasso, Ridge\n",
    "from sklearn.tree import DecisionTreeClassifier\n",
    "from sklearn.ensemble import RandomForestClassifier, GradientBoostingClassifier, AdaBoostClassifier, ExtraTreesClassifier\n",
    "from xgboost import XGBClassifier\n",
    "from lightgbm import LGBMClassifier\n",
    "from catboost import CatBoostClassifier\n",
    "\n",
    "\n",
    "# 実験\n",
    "import datetime\n",
    "import pickle"
   ]
  },
  {
   "cell_type": "code",
   "execution_count": 6,
   "id": "e6c579c2",
   "metadata": {
    "execution": {
     "iopub.execute_input": "2024-03-14T10:52:43.843331Z",
     "iopub.status.busy": "2024-03-14T10:52:43.842237Z",
     "iopub.status.idle": "2024-03-14T10:52:43.849696Z",
     "shell.execute_reply": "2024-03-14T10:52:43.848363Z"
    },
    "papermill": {
     "duration": 0.017975,
     "end_time": "2024-03-14T10:52:43.852365",
     "exception": false,
     "start_time": "2024-03-14T10:52:43.834390",
     "status": "completed"
    },
    "tags": []
   },
   "outputs": [],
   "source": [
    "lgb_params = {'lambda_l1': 2.1027501459454756, \n",
    "              'lambda_l2': 5.127117846679184e-05, \n",
    "              'num_leaves': 33, \n",
    "              'feature_fraction': 0.9791930917480678, \n",
    "              'bagging_fraction': 0.5791835574482972, \n",
    "              'bagging_freq': 3, \n",
    "              'min_child_samples': 84,\n",
    "              \"n_estimators\": 1000,\n",
    "              \"verbose\": -1,\n",
    "              \"boosting_type\": \"gbdt\",\n",
    "              \"objective\": \"binary\",\n",
    "              \"metric\": \"auc\",\n",
    "              \"max_depth\": 3,\n",
    "              \"learning_rate\": 0.05,\n",
    "             }\n",
    "xgb_params = {}\n",
    "cat_params = {}"
   ]
  },
  {
   "cell_type": "code",
   "execution_count": 7,
   "id": "6da588f6",
   "metadata": {
    "execution": {
     "iopub.execute_input": "2024-03-14T10:52:43.867574Z",
     "iopub.status.busy": "2024-03-14T10:52:43.867181Z",
     "iopub.status.idle": "2024-03-14T10:52:43.992533Z",
     "shell.execute_reply": "2024-03-14T10:52:43.990913Z"
    },
    "papermill": {
     "duration": 0.136389,
     "end_time": "2024-03-14T10:52:43.995522",
     "exception": false,
     "start_time": "2024-03-14T10:52:43.859133",
     "status": "completed"
    },
    "tags": []
   },
   "outputs": [],
   "source": [
    "def make_model_and_eval(model, X_train, X_test, y_train, y_test):\n",
    "    model.fit(X_train, y_train)\n",
    "    y_pred_train = model.predict(X_train)\n",
    "    y_pred_test = model.predict(X_test)\n",
    "    \n",
    "    # accuracy\n",
    "    acc_train = accuracy_score(y_train, y_pred_train)\n",
    "    acc_test = accuracy_score(y_test, y_pred_test)\n",
    "    # F1_score\n",
    "    f1_train = f1_score(y_train, y_pred_train, average='macro')\n",
    "    f1_test = f1_score(y_test, y_pred_test, average='macro')\n",
    "    # recall\n",
    "    recall_train = recall_score(y_train, y_pred_train, average='macro')\n",
    "    recall_test = recall_score(y_test, y_pred_test, average='macro')\n",
    "    # precision\n",
    "    precision_train = precision_score(y_train, y_pred_train, average='macro')\n",
    "    precision_test = precision_score(y_test, y_pred_test, average='macro')\n",
    "#    # AUC\n",
    "    auc_train = roc_auc_score(y_train, y_pred_train)\n",
    "    auc_test = roc_auc_score(y_test, y_pred_test)\n",
    "   # MAE\n",
    "    mae_train = mean_absolute_error(y_train, y_pred_train)\n",
    "    mae_test = mean_absolute_error(y_test, y_pred_test)\n",
    "   # MSE\n",
    "    mse_train = mean_squared_error(y_train, y_pred_train)\n",
    "    mse_test = mean_squared_error(y_test, y_pred_test)\n",
    "   # RMSE\n",
    "    rmse_train = np.sqrt(mse_train)\n",
    "    rmse_test = np.sqrt(mse_test)\n",
    "   # r2_score\n",
    "    r2_train = r2_score(y_train, y_pred_train)\n",
    "    r2_test = r2_score(y_test, y_pred_test)\n",
    "\n",
    "    tn_train, fp_train, fn_train, tp_train = confusion_matrix(y_train, y_pred_train).ravel()\n",
    "    tn_test, fp_test, fn_test, tp_test = confusion_matrix(y_test, y_pred_test).ravel()\n",
    "    score_train = pd.DataFrame({'DataCategory':['Train'],\n",
    "                               'auc':[auc_train],\n",
    "                               'accuracy':[acc_train],\n",
    "                               'f1':[f1_train],\n",
    "                               'recall':[recall_train],\n",
    "                               'precision':[precision_train],\n",
    "                               'MAE':[mae_train],\n",
    "                               'MSE':[mse_train],\n",
    "                               'RMSE':[rmse_train],\n",
    "                               'r2':[r2_train],\n",
    "                               'tp':[tp_train],\n",
    "                               'fn':[fn_train],\n",
    "                               'fp':[fp_train],\n",
    "                               'tn':[tn_train]\n",
    "                               })\n",
    "    score_test = pd.DataFrame({'DataCategory':['Valid'],\n",
    "                              'auc':[auc_test],\n",
    "                              'accuracy':[acc_test],\n",
    "                              'f1':[f1_test],\n",
    "                              'recall':[recall_test],\n",
    "                              'precision':[precision_test],\n",
    "                              'MAE':[mae_test],\n",
    "                              'MSE':[mse_test],\n",
    "                              'RMSE':[rmse_train],\n",
    "                              'r2':[r2_train],\n",
    "                              'tp':[tp_test],\n",
    "                              'fn':[fn_test],\n",
    "                              'fp':[fp_test],\n",
    "                              'tn':[tn_test]\n",
    "                              })\n",
    "    score = pd.concat([score_train, score_test], ignore_index=True)\n",
    "    \n",
    "    importance = pd.DataFrame({'cols': X_train.columns,\n",
    "                              'importance': model.feature_importances_})\n",
    "    importance = importance.sort_values('importance', ascending=False)\n",
    "    cols = pd.DataFrame({'X_cols': X_train.columns})\n",
    "    display(score)\n",
    "    \n",
    "    return score, importance, model, cols"
   ]
  },
  {
   "cell_type": "code",
   "execution_count": 8,
   "id": "e8c917fd",
   "metadata": {
    "execution": {
     "iopub.execute_input": "2024-03-14T10:52:44.009677Z",
     "iopub.status.busy": "2024-03-14T10:52:44.009281Z",
     "iopub.status.idle": "2024-03-14T10:55:42.045741Z",
     "shell.execute_reply": "2024-03-14T10:55:42.044715Z"
    },
    "papermill": {
     "duration": 178.046749,
     "end_time": "2024-03-14T10:55:42.048428",
     "exception": false,
     "start_time": "2024-03-14T10:52:44.001679",
     "status": "completed"
    },
    "tags": []
   },
   "outputs": [
    {
     "name": "stdout",
     "output_type": "stream",
     "text": [
      "results_2024031410\n",
      "lightgbm\n"
     ]
    },
    {
     "name": "stderr",
     "output_type": "stream",
     "text": [
      "/opt/conda/lib/python3.10/site-packages/sklearn/preprocessing/_label.py:99: DataConversionWarning: A column-vector y was passed when a 1d array was expected. Please change the shape of y to (n_samples, ), for example using ravel().\n",
      "  y = column_or_1d(y, warn=True)\n",
      "/opt/conda/lib/python3.10/site-packages/sklearn/preprocessing/_label.py:134: DataConversionWarning: A column-vector y was passed when a 1d array was expected. Please change the shape of y to (n_samples, ), for example using ravel().\n",
      "  y = column_or_1d(y, dtype=self.classes_.dtype, warn=True)\n"
     ]
    },
    {
     "data": {
      "text/html": [
       "<div>\n",
       "<style scoped>\n",
       "    .dataframe tbody tr th:only-of-type {\n",
       "        vertical-align: middle;\n",
       "    }\n",
       "\n",
       "    .dataframe tbody tr th {\n",
       "        vertical-align: top;\n",
       "    }\n",
       "\n",
       "    .dataframe thead th {\n",
       "        text-align: right;\n",
       "    }\n",
       "</style>\n",
       "<table border=\"1\" class=\"dataframe\">\n",
       "  <thead>\n",
       "    <tr style=\"text-align: right;\">\n",
       "      <th></th>\n",
       "      <th>DataCategory</th>\n",
       "      <th>auc</th>\n",
       "      <th>accuracy</th>\n",
       "      <th>f1</th>\n",
       "      <th>recall</th>\n",
       "      <th>precision</th>\n",
       "      <th>MAE</th>\n",
       "      <th>MSE</th>\n",
       "      <th>RMSE</th>\n",
       "      <th>r2</th>\n",
       "      <th>tp</th>\n",
       "      <th>fn</th>\n",
       "      <th>fp</th>\n",
       "      <th>tn</th>\n",
       "    </tr>\n",
       "  </thead>\n",
       "  <tbody>\n",
       "    <tr>\n",
       "      <th>0</th>\n",
       "      <td>Train</td>\n",
       "      <td>0.501706</td>\n",
       "      <td>0.968474</td>\n",
       "      <td>0.495499</td>\n",
       "      <td>0.501706</td>\n",
       "      <td>0.727149</td>\n",
       "      <td>0.031526</td>\n",
       "      <td>0.031526</td>\n",
       "      <td>0.177557</td>\n",
       "      <td>-0.03276</td>\n",
       "      <td>102</td>\n",
       "      <td>28770</td>\n",
       "      <td>108</td>\n",
       "      <td>887015</td>\n",
       "    </tr>\n",
       "    <tr>\n",
       "      <th>1</th>\n",
       "      <td>Valid</td>\n",
       "      <td>0.501415</td>\n",
       "      <td>0.969037</td>\n",
       "      <td>0.495081</td>\n",
       "      <td>0.501415</td>\n",
       "      <td>0.690463</td>\n",
       "      <td>0.030963</td>\n",
       "      <td>0.030963</td>\n",
       "      <td>0.177557</td>\n",
       "      <td>-0.03276</td>\n",
       "      <td>28</td>\n",
       "      <td>9414</td>\n",
       "      <td>40</td>\n",
       "      <td>295850</td>\n",
       "    </tr>\n",
       "  </tbody>\n",
       "</table>\n",
       "</div>"
      ],
      "text/plain": [
       "  DataCategory       auc  accuracy        f1    recall  precision       MAE  \\\n",
       "0        Train  0.501706  0.968474  0.495499  0.501706   0.727149  0.031526   \n",
       "1        Valid  0.501415  0.969037  0.495081  0.501415   0.690463  0.030963   \n",
       "\n",
       "        MSE      RMSE       r2   tp     fn   fp      tn  \n",
       "0  0.031526  0.177557 -0.03276  102  28770  108  887015  \n",
       "1  0.030963  0.177557 -0.03276   28   9414   40  295850  "
      ]
     },
     "metadata": {},
     "output_type": "display_data"
    }
   ],
   "source": [
    "now = datetime.datetime.now().strftime(\"%Y%m%d%H\")\n",
    "target_output_dir = 'results_' + now\n",
    "\n",
    "os.makedirs(target_output_dir, exist_ok=True)\n",
    "print(target_output_dir)\n",
    "\n",
    "\n",
    "\n",
    "models = {\n",
    "#           'DecisionTreeClassifier': DecisionTreeClassifier(random_state=42), \n",
    "#           'RandomForest':RandomForestClassifier(random_state=42),\n",
    "#           'GradientBoostingClassifier':GradientBoostingClassifier(random_state=42),\n",
    "          'lightgbm': LGBMClassifier(**lgb_params),\n",
    "#           'xgboost': XGBClassifier(**xgb_params),\n",
    "#           'AdaBoostClassifier': AdaBoostClassifier(random_state=42),\n",
    "#           'CatBoostClassifier': CatBoostClassifier(**cat_params),\n",
    "#           'ExtraTreesClassifier': ExtraTreesClassifier(random_state=42),\n",
    "         }\n",
    "\n",
    "score_all = []\n",
    "importance_all = []\n",
    "for model_name, model in models.items():\n",
    "    print(model_name)\n",
    "    score, importance, model, cols = make_model_and_eval(model, X_train, X_valid, y_train, y_valid)\n",
    "    score['model_name'] = model_name\n",
    "    importance['model_name'] = model_name\n",
    "    \n",
    "    model_names = f'model_{model_name}.pickle'\n",
    "    model_path = os.path.join(target_output_dir, model_names)\n",
    "    with open(model_path, mode='wb') as f:\n",
    "        pickle.dump(model, f, protocol=2)\n",
    "    score_all.append(score)\n",
    "    importance_all.append(importance)\n",
    "score_all = pd.concat(score_all, ignore_index=True)\n",
    "importance_all = pd.concat(importance_all, ignore_index=True)\n",
    "cols = pd.DataFrame({'X_cols':X_train.columns})\n",
    "\n",
    "score_name = 'score.csv'\n",
    "importance_name = 'importance.csv'\n",
    "cols_name = 'X_cols.csv'\n",
    "\n",
    "score_path = os.path.join(target_output_dir, score_name)\n",
    "importance_path = os.path.join(target_output_dir, importance_name)\n",
    "cols_path = os.path.join(target_output_dir, cols_name)\n",
    "\n",
    "score_all.to_csv(score_path, index=False)\n",
    "importance_all.to_csv(importance_path, index=False)\n",
    "cols.to_csv(cols_path, index=False)"
   ]
  },
  {
   "cell_type": "markdown",
   "id": "95d575f6",
   "metadata": {
    "papermill": {
     "duration": 0.006136,
     "end_time": "2024-03-14T10:55:42.061387",
     "exception": false,
     "start_time": "2024-03-14T10:55:42.055251",
     "status": "completed"
    },
    "tags": []
   },
   "source": [
    "# pickleファイルのインポート"
   ]
  },
  {
   "cell_type": "code",
   "execution_count": 9,
   "id": "ef5ce0ac",
   "metadata": {
    "execution": {
     "iopub.execute_input": "2024-03-14T10:55:42.076242Z",
     "iopub.status.busy": "2024-03-14T10:55:42.075531Z",
     "iopub.status.idle": "2024-03-14T10:55:42.098027Z",
     "shell.execute_reply": "2024-03-14T10:55:42.096799Z"
    },
    "papermill": {
     "duration": 0.032774,
     "end_time": "2024-03-14T10:55:42.100526",
     "exception": false,
     "start_time": "2024-03-14T10:55:42.067752",
     "status": "completed"
    },
    "tags": []
   },
   "outputs": [
    {
     "name": "stdout",
     "output_type": "stream",
     "text": [
      "LGBMClassifier(bagging_fraction=0.5791835574482972, bagging_freq=3,\n",
      "               feature_fraction=0.9791930917480678,\n",
      "               lambda_l1=2.1027501459454756, lambda_l2=5.127117846679184e-05,\n",
      "               learning_rate=0.05, max_depth=3, metric='auc',\n",
      "               min_child_samples=84, n_estimators=1000, num_leaves=33,\n",
      "               objective='binary', verbose=-1)\n"
     ]
    }
   ],
   "source": [
    "import pickle\n",
    "\n",
    "model_name = 'model_lightgbm.pickle'\n",
    "\n",
    "model_path = os.path.join(target_output_dir, model_name)\n",
    "\n",
    "with open(model_path, mode='rb') as f:\n",
    "    model = pickle.load(f)\n",
    "    \n",
    "print(model)"
   ]
  },
  {
   "cell_type": "code",
   "execution_count": 10,
   "id": "07d5947f",
   "metadata": {
    "execution": {
     "iopub.execute_input": "2024-03-14T10:55:42.116766Z",
     "iopub.status.busy": "2024-03-14T10:55:42.116118Z",
     "iopub.status.idle": "2024-03-14T10:57:27.210122Z",
     "shell.execute_reply": "2024-03-14T10:57:27.208176Z"
    },
    "papermill": {
     "duration": 105.10599,
     "end_time": "2024-03-14T10:57:27.213278",
     "exception": false,
     "start_time": "2024-03-14T10:55:42.107288",
     "status": "completed"
    },
    "tags": []
   },
   "outputs": [
    {
     "name": "stderr",
     "output_type": "stream",
     "text": [
      "/opt/conda/lib/python3.10/site-packages/lightgbm/engine.py:172: UserWarning: Found `n_estimators` in params. Will use it instead of argument\n",
      "  _log_warning(f\"Found `{alias}` in params. Will use it instead of argument\")\n"
     ]
    },
    {
     "name": "stdout",
     "output_type": "stream",
     "text": [
      "Training until validation scores don't improve for 10 rounds\n",
      "[50]\tvalid_0's auc: 0.705108\n",
      "[100]\tvalid_0's auc: 0.724319\n",
      "[150]\tvalid_0's auc: 0.731642\n",
      "[200]\tvalid_0's auc: 0.735681\n",
      "[250]\tvalid_0's auc: 0.739215\n",
      "[300]\tvalid_0's auc: 0.741274\n",
      "[350]\tvalid_0's auc: 0.74328\n",
      "[400]\tvalid_0's auc: 0.745356\n",
      "[450]\tvalid_0's auc: 0.746816\n",
      "[500]\tvalid_0's auc: 0.748071\n",
      "[550]\tvalid_0's auc: 0.749205\n",
      "[600]\tvalid_0's auc: 0.7499\n",
      "[650]\tvalid_0's auc: 0.750735\n",
      "[700]\tvalid_0's auc: 0.751578\n",
      "[750]\tvalid_0's auc: 0.752397\n",
      "[800]\tvalid_0's auc: 0.752914\n",
      "[850]\tvalid_0's auc: 0.753443\n",
      "[900]\tvalid_0's auc: 0.753931\n",
      "[950]\tvalid_0's auc: 0.754323\n",
      "[1000]\tvalid_0's auc: 0.754793\n",
      "Did not meet early stopping. Best iteration is:\n",
      "[1000]\tvalid_0's auc: 0.754793\n"
     ]
    }
   ],
   "source": [
    "lgb_train = lgb.Dataset(X_train, label=y_train)\n",
    "lgb_valid = lgb.Dataset(X_valid, label=y_valid, reference=lgb_train)\n",
    "\n",
    "model = lgb.train(\n",
    "    lgb_params,\n",
    "    lgb_train,\n",
    "    valid_sets=lgb_valid,\n",
    "    callbacks=[lgb.log_evaluation(50), lgb.early_stopping(10)]\n",
    ")"
   ]
  },
  {
   "cell_type": "markdown",
   "id": "d8995b45",
   "metadata": {
    "papermill": {
     "duration": 0.007688,
     "end_time": "2024-03-14T10:57:27.229382",
     "exception": false,
     "start_time": "2024-03-14T10:57:27.221694",
     "status": "completed"
    },
    "tags": []
   },
   "source": [
    "# モデルの予測"
   ]
  },
  {
   "cell_type": "code",
   "execution_count": 11,
   "id": "7fa1ef18",
   "metadata": {
    "execution": {
     "iopub.execute_input": "2024-03-14T10:57:27.247782Z",
     "iopub.status.busy": "2024-03-14T10:57:27.247084Z",
     "iopub.status.idle": "2024-03-14T10:57:55.817963Z",
     "shell.execute_reply": "2024-03-14T10:57:55.816913Z"
    },
    "papermill": {
     "duration": 28.582881,
     "end_time": "2024-03-14T10:57:55.820168",
     "exception": false,
     "start_time": "2024-03-14T10:57:27.237287",
     "status": "completed"
    },
    "tags": []
   },
   "outputs": [
    {
     "name": "stdout",
     "output_type": "stream",
     "text": [
      "The AUC score on the train set is: 0.7694204271355157\n",
      "The AUC score on the valid set is: 0.7547927334554713\n",
      "The AUC score on the test set is: 0.7514004051823603\n"
     ]
    }
   ],
   "source": [
    "for base, X in [(base_train, X_train), (base_valid, X_valid), (base_test, X_test)]:\n",
    "    y_pred = model.predict(X)\n",
    "    base[\"score\"] = y_pred\n",
    "\n",
    "print(f'The AUC score on the train set is: {roc_auc_score(base_train[\"target\"], base_train[\"score\"])}')\n",
    "print(f'The AUC score on the valid set is: {roc_auc_score(base_valid[\"target\"], base_valid[\"score\"])}')\n",
    "print(f'The AUC score on the test set is: {roc_auc_score(base_test[\"target\"], base_test[\"score\"])}')"
   ]
  },
  {
   "cell_type": "code",
   "execution_count": 12,
   "id": "24ec8d17",
   "metadata": {
    "execution": {
     "iopub.execute_input": "2024-03-14T10:57:55.838976Z",
     "iopub.status.busy": "2024-03-14T10:57:55.838262Z",
     "iopub.status.idle": "2024-03-14T10:57:56.945743Z",
     "shell.execute_reply": "2024-03-14T10:57:56.944464Z"
    },
    "papermill": {
     "duration": 1.119895,
     "end_time": "2024-03-14T10:57:56.948296",
     "exception": false,
     "start_time": "2024-03-14T10:57:55.828401",
     "status": "completed"
    },
    "tags": []
   },
   "outputs": [
    {
     "name": "stdout",
     "output_type": "stream",
     "text": [
      "The stability score on the train set is: 0.5089863457502912\n",
      "The stability score on the valid set is: 0.48084241778046377\n",
      "The stability score on the test set is: 0.4652965518025257\n"
     ]
    }
   ],
   "source": [
    "def gini_stability(base, w_fallingrate=88.0, w_resstd=-0.5):\n",
    "    gini_in_time = base.loc[:, [\"WEEK_NUM\", \"target\", \"score\"]]\\\n",
    "        .sort_values(\"WEEK_NUM\")\\\n",
    "        .groupby(\"WEEK_NUM\")[[\"target\", \"score\"]]\\\n",
    "        .apply(lambda x: 2*roc_auc_score(x[\"target\"], x[\"score\"])-1).tolist()\n",
    "    \n",
    "    x = np.arange(len(gini_in_time))\n",
    "    y = gini_in_time\n",
    "    a, b = np.polyfit(x, y, 1)\n",
    "    y_hat = a*x + b\n",
    "    residuals = y - y_hat\n",
    "    res_std = np.std(residuals)\n",
    "    avg_gini = np.mean(gini_in_time)\n",
    "    \n",
    "    return avg_gini + w_fallingrate * min(0, a) + w_resstd * res_std\n",
    "\n",
    "stability_score_train = gini_stability(base_train)\n",
    "stability_score_valid = gini_stability(base_valid)\n",
    "stability_score_test = gini_stability(base_test)\n",
    "\n",
    "print(f'The stability score on the train set is: {stability_score_train}')\n",
    "print(f'The stability score on the valid set is: {stability_score_valid}')\n",
    "print(f'The stability score on the test set is: {stability_score_test}')"
   ]
  },
  {
   "cell_type": "markdown",
   "id": "9ccbbb6a",
   "metadata": {
    "papermill": {
     "duration": 0.007835,
     "end_time": "2024-03-14T10:57:56.964351",
     "exception": false,
     "start_time": "2024-03-14T10:57:56.956516",
     "status": "completed"
    },
    "tags": []
   },
   "source": [
    "# 提出"
   ]
  },
  {
   "cell_type": "code",
   "execution_count": 13,
   "id": "a932598a",
   "metadata": {
    "execution": {
     "iopub.execute_input": "2024-03-14T10:57:56.983940Z",
     "iopub.status.busy": "2024-03-14T10:57:56.983198Z",
     "iopub.status.idle": "2024-03-14T10:57:57.235844Z",
     "shell.execute_reply": "2024-03-14T10:57:57.234484Z"
    },
    "papermill": {
     "duration": 0.265344,
     "end_time": "2024-03-14T10:57:57.238546",
     "exception": false,
     "start_time": "2024-03-14T10:57:56.973202",
     "status": "completed"
    },
    "tags": []
   },
   "outputs": [],
   "source": [
    "def set_table_dtypes(df: pl.DataFrame) -> pl.DataFrame:\n",
    "    for col in df.columns:\n",
    "        if col[-1] in (\"P\", \"A\"):\n",
    "            df = df.with_columns(pl.col(col).cast(pl.Float64).alias(col))\n",
    "            \n",
    "    return df\n",
    "\n",
    "test_basetable = pl.read_csv(dataPath + \"csv_files/test/test_base.csv\")\n",
    "test_static = pl.concat(\n",
    "[\n",
    "    pl.read_csv(dataPath + \"csv_files/test/test_static_0_0.csv\").pipe(set_table_dtypes),\n",
    "    pl.read_csv(dataPath + \"csv_files/test/test_static_0_1.csv\").pipe(set_table_dtypes),\n",
    "    pl.read_csv(dataPath + \"csv_files/test/test_static_0_2.csv\").pipe(set_table_dtypes),\n",
    "],\n",
    "    how=\"vertical_relaxed\",\n",
    ")\n",
    "test_static_cb = pl.read_csv(dataPath + \"csv_files/test/test_static_cb_0.csv\").pipe(set_table_dtypes)\n",
    "test_person_1 = pl.read_csv(dataPath + \"csv_files/test/test_person_1.csv\").pipe(set_table_dtypes)\n",
    "test_credit_bureau_b_2 = pl.read_csv(dataPath + \"csv_files/test/test_credit_bureau_b_2.csv\").pipe(set_table_dtypes)\n",
    "\n",
    "selected_static_cols = []\n",
    "for col in test_static.columns:\n",
    "    if col[-1] in (\"A\", \"M\"):\n",
    "        selected_static_cols.append(col)\n",
    "selected_static_cb_cols = []\n",
    "for col in test_static_cb.columns:\n",
    "    if col[-1] in (\"A\", \"M\"):\n",
    "        selected_static_cb_cols.append(col)\n",
    "\n",
    "test_person_1_feats_1 = test_person_1.group_by(\"case_id\").agg(\n",
    "    pl.col(\"mainoccupationinc_384A\").max().alias(\"mainoccupationinc_384Amax\"),\n",
    "    (pl.col(\"incometype_1044T\") == \"SELFEMPLOYED\").max().alias(\"mainoccupationinc_384A_any_selfemployed\")\n",
    ")\n",
    "\n",
    "test_person_1_feats_2 = test_person_1.select([\"case_id\", \"num_group1\", \"housetype_905L\"]).filter(\n",
    "    pl.col(\"num_group1\") == 0\n",
    ").drop(\"num_group1\").rename({\"housetype_905L\": \"person_housetype\"})\n",
    "\n",
    "test_credit_bureau_b_2_feats = test_credit_bureau_b_2.group_by(\"case_id\").agg(\n",
    "    pl.col(\"pmts_pmtsoverdue_635A\").max().alias(\"pmts_pmtsoverdue_635A_max\"),\n",
    "    (pl.col(\"pmts_dpdvalue_108P\") > 31).max().alias(\"pmts_dpdvalue_108P_over31\")\n",
    ")\n",
    "        \n",
    "data_submission = test_basetable.join(\n",
    "    test_static.select([\"case_id\"] + selected_static_cols), how=\"left\", on=\"case_id\"\n",
    ").join(\n",
    "    test_static_cb.select([\"case_id\"] + selected_static_cb_cols), how=\"left\", on=\"case_id\"\n",
    ").join(\n",
    "    test_person_1_feats_1, how=\"left\", on=\"case_id\"\n",
    ").join(\n",
    "    test_person_1_feats_2, how=\"left\", on=\"case_id\"\n",
    ").join(\n",
    "    test_credit_bureau_b_2_feats, how=\"left\", on=\"case_id\"\n",
    ")\n",
    "\n",
    "cols_pred = []\n",
    "for col in X_train.columns:\n",
    "    if col[-1].isupper() and col[:-1].islower():\n",
    "        cols_pred.append(col)"
   ]
  },
  {
   "cell_type": "code",
   "execution_count": 14,
   "id": "1a443a30",
   "metadata": {
    "execution": {
     "iopub.execute_input": "2024-03-14T10:57:57.257894Z",
     "iopub.status.busy": "2024-03-14T10:57:57.257096Z",
     "iopub.status.idle": "2024-03-14T10:57:57.412545Z",
     "shell.execute_reply": "2024-03-14T10:57:57.411078Z"
    },
    "papermill": {
     "duration": 0.168114,
     "end_time": "2024-03-14T10:57:57.415306",
     "exception": false,
     "start_time": "2024-03-14T10:57:57.247192",
     "status": "completed"
    },
    "tags": []
   },
   "outputs": [],
   "source": [
    "X_submission = data_submission[cols_pred].to_pandas()\n",
    "X_submission = convert_strings(X_submission)\n",
    "categorical_cols = X_train.select_dtypes(include=['category']).columns\n",
    "\n",
    "for col in categorical_cols:\n",
    "    train_categories = set(X_train[col].cat.categories)\n",
    "    submission_categories = set(X_submission[col].cat.categories)\n",
    "    new_categories = submission_categories - train_categories\n",
    "    X_submission.loc[X_submission[col].isin(new_categories), col] = \"Unknown\"\n",
    "    new_dtype = pd.CategoricalDtype(categories=train_categories, ordered=True)\n",
    "    X_train[col] = X_train[col].astype(new_dtype)\n",
    "    X_submission[col] = X_submission[col].astype(new_dtype)\n",
    "    \n",
    "y_submission_pred = model.predict(X_submission)"
   ]
  },
  {
   "cell_type": "code",
   "execution_count": 15,
   "id": "865c96ff",
   "metadata": {
    "execution": {
     "iopub.execute_input": "2024-03-14T10:57:57.434189Z",
     "iopub.status.busy": "2024-03-14T10:57:57.433731Z",
     "iopub.status.idle": "2024-03-14T10:57:57.446471Z",
     "shell.execute_reply": "2024-03-14T10:57:57.445034Z"
    },
    "papermill": {
     "duration": 0.025228,
     "end_time": "2024-03-14T10:57:57.449405",
     "exception": false,
     "start_time": "2024-03-14T10:57:57.424177",
     "status": "completed"
    },
    "tags": []
   },
   "outputs": [],
   "source": [
    "submission = pd.DataFrame({\n",
    "    \"case_id\": data_submission[\"case_id\"].to_numpy(),\n",
    "    \"score\": y_submission_pred\n",
    "}).set_index('case_id')\n",
    "submission.to_csv(\"./submission.csv\")"
   ]
  },
  {
   "cell_type": "code",
   "execution_count": 16,
   "id": "c245a297",
   "metadata": {
    "execution": {
     "iopub.execute_input": "2024-03-14T10:57:57.467666Z",
     "iopub.status.busy": "2024-03-14T10:57:57.467210Z",
     "iopub.status.idle": "2024-03-14T10:57:57.483126Z",
     "shell.execute_reply": "2024-03-14T10:57:57.481643Z"
    },
    "papermill": {
     "duration": 0.028616,
     "end_time": "2024-03-14T10:57:57.486115",
     "exception": false,
     "start_time": "2024-03-14T10:57:57.457499",
     "status": "completed"
    },
    "tags": []
   },
   "outputs": [
    {
     "data": {
      "text/html": [
       "<div>\n",
       "<style scoped>\n",
       "    .dataframe tbody tr th:only-of-type {\n",
       "        vertical-align: middle;\n",
       "    }\n",
       "\n",
       "    .dataframe tbody tr th {\n",
       "        vertical-align: top;\n",
       "    }\n",
       "\n",
       "    .dataframe thead th {\n",
       "        text-align: right;\n",
       "    }\n",
       "</style>\n",
       "<table border=\"1\" class=\"dataframe\">\n",
       "  <thead>\n",
       "    <tr style=\"text-align: right;\">\n",
       "      <th></th>\n",
       "      <th>score</th>\n",
       "    </tr>\n",
       "    <tr>\n",
       "      <th>case_id</th>\n",
       "      <th></th>\n",
       "    </tr>\n",
       "  </thead>\n",
       "  <tbody>\n",
       "    <tr>\n",
       "      <th>57543</th>\n",
       "      <td>0.007776</td>\n",
       "    </tr>\n",
       "    <tr>\n",
       "      <th>57549</th>\n",
       "      <td>0.020471</td>\n",
       "    </tr>\n",
       "    <tr>\n",
       "      <th>57551</th>\n",
       "      <td>0.005541</td>\n",
       "    </tr>\n",
       "    <tr>\n",
       "      <th>57552</th>\n",
       "      <td>0.010647</td>\n",
       "    </tr>\n",
       "    <tr>\n",
       "      <th>57569</th>\n",
       "      <td>0.098290</td>\n",
       "    </tr>\n",
       "  </tbody>\n",
       "</table>\n",
       "</div>"
      ],
      "text/plain": [
       "            score\n",
       "case_id          \n",
       "57543    0.007776\n",
       "57549    0.020471\n",
       "57551    0.005541\n",
       "57552    0.010647\n",
       "57569    0.098290"
      ]
     },
     "execution_count": 16,
     "metadata": {},
     "output_type": "execute_result"
    }
   ],
   "source": [
    "submission.head()"
   ]
  },
  {
   "cell_type": "code",
   "execution_count": null,
   "id": "4db68a4d",
   "metadata": {
    "papermill": {
     "duration": 0.008263,
     "end_time": "2024-03-14T10:57:57.502872",
     "exception": false,
     "start_time": "2024-03-14T10:57:57.494609",
     "status": "completed"
    },
    "tags": []
   },
   "outputs": [],
   "source": []
  }
 ],
 "metadata": {
  "kaggle": {
   "accelerator": "none",
   "dataSources": [
    {
     "databundleVersionId": 7921029,
     "sourceId": 50160,
     "sourceType": "competition"
    },
    {
     "datasetId": 4596894,
     "sourceId": 7841273,
     "sourceType": "datasetVersion"
    }
   ],
   "dockerImageVersionId": 30664,
   "isGpuEnabled": false,
   "isInternetEnabled": false,
   "language": "python",
   "sourceType": "notebook"
  },
  "kernelspec": {
   "display_name": "Python 3",
   "language": "python",
   "name": "python3"
  },
  "language_info": {
   "codemirror_mode": {
    "name": "ipython",
    "version": 3
   },
   "file_extension": ".py",
   "mimetype": "text/x-python",
   "name": "python",
   "nbconvert_exporter": "python",
   "pygments_lexer": "ipython3",
   "version": "3.10.13"
  },
  "papermill": {
   "default_parameters": {},
   "duration": 343.548649,
   "end_time": "2024-03-14T10:57:58.638208",
   "environment_variables": {},
   "exception": null,
   "input_path": "__notebook__.ipynb",
   "output_path": "__notebook__.ipynb",
   "parameters": {},
   "start_time": "2024-03-14T10:52:15.089559",
   "version": "2.5.0"
  }
 },
 "nbformat": 4,
 "nbformat_minor": 5
}

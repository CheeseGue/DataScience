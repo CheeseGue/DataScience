{
 "cells": [
  {
   "cell_type": "markdown",
   "id": "3968bb59",
   "metadata": {
    "id": "9jJ7f1atJ0qO",
    "papermill": {
     "duration": 0.012603,
     "end_time": "2024-02-04T01:30:48.682994",
     "exception": false,
     "start_time": "2024-02-04T01:30:48.670391",
     "status": "completed"
    },
    "tags": []
   },
   "source": [
    "# **肥満リスクの多クラス予測**\n",
    "(Multi-Class Prediction of Obesity Risk)"
   ]
  },
  {
   "cell_type": "markdown",
   "id": "1bdd8f7e",
   "metadata": {
    "id": "dRrM5BeJkgj-",
    "papermill": {
     "duration": 0.012081,
     "end_time": "2024-02-04T01:30:48.707398",
     "exception": false,
     "start_time": "2024-02-04T01:30:48.695317",
     "status": "completed"
    },
    "tags": []
   },
   "source": [
    "# 参考資料\n",
    "**書籍**\n",
    "\n",
    "\n",
    "**Kaggle**\n",
    "- [easy peasy EDA & XGBoost is all you need](https://www.kaggle.com/code/lucamassaron/easy-peasy-eda-xgboost-is-all-you-need)\n",
    "\n",
    "**自分で作成したファイル**\n",
    "- 銀行解約データセットを使用した二項分類\n",
    "- Home_Credit_Default_Risk\n",
    "- 肝硬変の転帰の多クラス予測\n",
    "- 馬の健康への影響を予測する\n",
    "- ルワンダにおける CO2 排出量を予測する\n",
    "\n",
    "**その他**\n"
   ]
  },
  {
   "cell_type": "markdown",
   "id": "f0116df1",
   "metadata": {
    "id": "MV1ptyJ5kn2E",
    "papermill": {
     "duration": 0.011821,
     "end_time": "2024-02-04T01:30:48.731423",
     "exception": false,
     "start_time": "2024-02-04T01:30:48.719602",
     "status": "completed"
    },
    "tags": []
   },
   "source": [
    "## ライブラリ・データセットのインポート"
   ]
  },
  {
   "cell_type": "code",
   "execution_count": 1,
   "id": "88210cb7",
   "metadata": {
    "execution": {
     "iopub.execute_input": "2024-02-04T01:30:48.758092Z",
     "iopub.status.busy": "2024-02-04T01:30:48.757623Z",
     "iopub.status.idle": "2024-02-04T01:30:49.663029Z",
     "shell.execute_reply": "2024-02-04T01:30:49.661935Z"
    },
    "id": "cXwErGKbkUpb",
    "papermill": {
     "duration": 0.922234,
     "end_time": "2024-02-04T01:30:49.665966",
     "exception": false,
     "start_time": "2024-02-04T01:30:48.743732",
     "status": "completed"
    },
    "tags": []
   },
   "outputs": [],
   "source": [
    "import numpy as np\n",
    "import pandas as pd\n",
    "\n",
    "import warnings\n",
    "warnings.filterwarnings('ignore')\n",
    "\n",
    "pd.options.display.float_format = '{:.5f}'.format\n",
    "pd.set_option('display.max_columns', None)\n",
    "pd.set_option('display.max_rows', None)"
   ]
  },
  {
   "cell_type": "code",
   "execution_count": 2,
   "id": "104eadab",
   "metadata": {
    "execution": {
     "iopub.execute_input": "2024-02-04T01:30:49.692565Z",
     "iopub.status.busy": "2024-02-04T01:30:49.692048Z",
     "iopub.status.idle": "2024-02-04T01:30:52.399796Z",
     "shell.execute_reply": "2024-02-04T01:30:52.398673Z"
    },
    "id": "y2vH8YMCko3q",
    "papermill": {
     "duration": 2.724424,
     "end_time": "2024-02-04T01:30:52.402759",
     "exception": false,
     "start_time": "2024-02-04T01:30:49.678335",
     "status": "completed"
    },
    "tags": []
   },
   "outputs": [],
   "source": [
    "from sklearn.preprocessing import LabelEncoder, MinMaxScaler\n",
    "from lightgbm import LGBMClassifier # 特徴量の重要度評価で用いる"
   ]
  },
  {
   "cell_type": "markdown",
   "id": "f99d1e38",
   "metadata": {
    "id": "xAub7rgGk35P",
    "papermill": {
     "duration": 0.011875,
     "end_time": "2024-02-04T01:30:52.426993",
     "exception": false,
     "start_time": "2024-02-04T01:30:52.415118",
     "status": "completed"
    },
    "tags": []
   },
   "source": [
    "## 実行時間を調べるために使う"
   ]
  },
  {
   "cell_type": "code",
   "execution_count": 3,
   "id": "e58cff20",
   "metadata": {
    "execution": {
     "iopub.execute_input": "2024-02-04T01:30:52.455275Z",
     "iopub.status.busy": "2024-02-04T01:30:52.454874Z",
     "iopub.status.idle": "2024-02-04T01:30:52.462380Z",
     "shell.execute_reply": "2024-02-04T01:30:52.461386Z"
    },
    "id": "_hGkGqJtk6M-",
    "papermill": {
     "duration": 0.023921,
     "end_time": "2024-02-04T01:30:52.464723",
     "exception": false,
     "start_time": "2024-02-04T01:30:52.440802",
     "status": "completed"
    },
    "tags": []
   },
   "outputs": [],
   "source": [
    "import datetime\n",
    "import time\n",
    "import math\n",
    "\n",
    "start_time = time.time()\n",
    "\n",
    "def changeHMS(s):\n",
    "    h = math.floor(s / 3600)\n",
    "    if h > 0:\n",
    "        s = s - h * 3600\n",
    "        indi_h = str(h) + 'h'\n",
    "    else:\n",
    "        indi_h = ''\n",
    "    m = math.floor(s / 60)\n",
    "    if m > 0:\n",
    "        indi_m = str(m) + 'm'\n",
    "    else:\n",
    "        indi_m = ''\n",
    "    s = math.floor(s % 60)\n",
    "    time = indi_h + indi_m + str(s) + 's'\n",
    "    return time"
   ]
  },
  {
   "cell_type": "code",
   "execution_count": 4,
   "id": "5c76e4f0",
   "metadata": {
    "execution": {
     "iopub.execute_input": "2024-02-04T01:30:52.491921Z",
     "iopub.status.busy": "2024-02-04T01:30:52.491455Z",
     "iopub.status.idle": "2024-02-04T01:30:52.726163Z",
     "shell.execute_reply": "2024-02-04T01:30:52.724959Z"
    },
    "id": "4EzyBOiPkph8",
    "papermill": {
     "duration": 0.251513,
     "end_time": "2024-02-04T01:30:52.729087",
     "exception": false,
     "start_time": "2024-02-04T01:30:52.477574",
     "status": "completed"
    },
    "tags": []
   },
   "outputs": [],
   "source": [
    "FILE_PATH = '/kaggle/input/playground-series-s4e2/'\n",
    "OUTPUT_DIR = '/kaggle/working/'\n",
    "\n",
    "train = pd.read_csv(FILE_PATH + 'train.csv')\n",
    "test = pd.read_csv(FILE_PATH + 'test.csv')\n",
    "\n",
    "train_id = train['id']\n",
    "train.drop('id', axis=1, inplace=True)\n",
    "\n",
    "test_id = test['id']\n",
    "test.drop('id', axis=1, inplace=True)\n",
    "\n",
    "target = train['NObeyesdad']\n",
    "target_col = 'NObeyesdad'\n",
    "\n",
    "target_name = str(train.iloc[:, [-1]].columns.tolist()) # カラム数-2の値が目的変数\n",
    "\n",
    "df = pd.concat([train, test], axis=0)\n",
    "df.reset_index(inplace=True)\n",
    "\n",
    "# 説明変数をデータ型ごとに代入する\n",
    "numerical_features = df._get_numeric_data().columns\n",
    "categorical_features = df.drop(numerical_features, axis=1).columns\n",
    "\n",
    "categorical_features = df.drop(target_col, axis=1).columns"
   ]
  },
  {
   "cell_type": "markdown",
   "id": "8acb91b8",
   "metadata": {
    "id": "O1qWEpEsmIsU",
    "papermill": {
     "duration": 0.012245,
     "end_time": "2024-02-04T01:30:52.754115",
     "exception": false,
     "start_time": "2024-02-04T01:30:52.741870",
     "status": "completed"
    },
    "tags": []
   },
   "source": [
    "## 前処理"
   ]
  },
  {
   "cell_type": "markdown",
   "id": "ceb15652",
   "metadata": {
    "id": "Geqin6VhmJw9",
    "papermill": {
     "duration": 0.012022,
     "end_time": "2024-02-04T01:30:52.779033",
     "exception": false,
     "start_time": "2024-02-04T01:30:52.767011",
     "status": "completed"
    },
    "tags": []
   },
   "source": [
    "### 欠損値の補完"
   ]
  },
  {
   "cell_type": "code",
   "execution_count": 5,
   "id": "eebf3325",
   "metadata": {
    "execution": {
     "iopub.execute_input": "2024-02-04T01:30:52.805412Z",
     "iopub.status.busy": "2024-02-04T01:30:52.805007Z",
     "iopub.status.idle": "2024-02-04T01:30:52.809664Z",
     "shell.execute_reply": "2024-02-04T01:30:52.808801Z"
    },
    "id": "pc9ukAPLmKkl",
    "papermill": {
     "duration": 0.020575,
     "end_time": "2024-02-04T01:30:52.811975",
     "exception": false,
     "start_time": "2024-02-04T01:30:52.791400",
     "status": "completed"
    },
    "tags": []
   },
   "outputs": [],
   "source": [
    "def missing_values(df):\n",
    "\n",
    "    return df"
   ]
  },
  {
   "cell_type": "markdown",
   "id": "f31b2be4",
   "metadata": {
    "id": "2ZLsziVQmM_s",
    "papermill": {
     "duration": 0.011935,
     "end_time": "2024-02-04T01:30:52.836549",
     "exception": false,
     "start_time": "2024-02-04T01:30:52.824614",
     "status": "completed"
    },
    "tags": []
   },
   "source": [
    "### 外れ値の修正"
   ]
  },
  {
   "cell_type": "code",
   "execution_count": 6,
   "id": "2090752c",
   "metadata": {
    "execution": {
     "iopub.execute_input": "2024-02-04T01:30:52.862845Z",
     "iopub.status.busy": "2024-02-04T01:30:52.862384Z",
     "iopub.status.idle": "2024-02-04T01:30:52.867196Z",
     "shell.execute_reply": "2024-02-04T01:30:52.866180Z"
    },
    "id": "D9RIXWdJmOBI",
    "papermill": {
     "duration": 0.020417,
     "end_time": "2024-02-04T01:30:52.869392",
     "exception": false,
     "start_time": "2024-02-04T01:30:52.848975",
     "status": "completed"
    },
    "tags": []
   },
   "outputs": [],
   "source": [
    "def outlier(df):\n",
    "\n",
    "    return df"
   ]
  },
  {
   "cell_type": "markdown",
   "id": "6da8efe6",
   "metadata": {
    "id": "L0T_RQ97XYoT",
    "papermill": {
     "duration": 0.011781,
     "end_time": "2024-02-04T01:30:52.893752",
     "exception": false,
     "start_time": "2024-02-04T01:30:52.881971",
     "status": "completed"
    },
    "tags": []
   },
   "source": [
    "### スケーリング（標準化）"
   ]
  },
  {
   "cell_type": "markdown",
   "id": "cf72751b",
   "metadata": {
    "id": "fH7xUj12XcGU",
    "papermill": {
     "duration": 0.012015,
     "end_time": "2024-02-04T01:30:52.918100",
     "exception": false,
     "start_time": "2024-02-04T01:30:52.906085",
     "status": "completed"
    },
    "tags": []
   },
   "source": [
    "- MinMaxScaler(正規化)"
   ]
  },
  {
   "cell_type": "code",
   "execution_count": 7,
   "id": "71001042",
   "metadata": {
    "execution": {
     "iopub.execute_input": "2024-02-04T01:30:52.945250Z",
     "iopub.status.busy": "2024-02-04T01:30:52.944456Z",
     "iopub.status.idle": "2024-02-04T01:30:52.950569Z",
     "shell.execute_reply": "2024-02-04T01:30:52.949338Z"
    },
    "id": "H2MehtAxXd61",
    "papermill": {
     "duration": 0.02254,
     "end_time": "2024-02-04T01:30:52.952941",
     "exception": false,
     "start_time": "2024-02-04T01:30:52.930401",
     "status": "completed"
    },
    "tags": []
   },
   "outputs": [],
   "source": [
    "def scaling_MinMaxScaler(df, scale_cols):\n",
    "    df_scale = df[scale_cols]\n",
    "    sc = MinMaxScaler()\n",
    "    df[scale_cols] = pd.DataFrame(sc.fit_transform(df_scale), columns = df_scale.columns)\n",
    "\n",
    "    return df"
   ]
  },
  {
   "cell_type": "markdown",
   "id": "6199d02b",
   "metadata": {
    "id": "evWEXqCTliXu",
    "papermill": {
     "duration": 0.012022,
     "end_time": "2024-02-04T01:30:52.977254",
     "exception": false,
     "start_time": "2024-02-04T01:30:52.965232",
     "status": "completed"
    },
    "tags": []
   },
   "source": [
    "## 特徴量エンジニアリング"
   ]
  },
  {
   "cell_type": "markdown",
   "id": "9d08d7a3",
   "metadata": {
    "id": "ehRLTpCDlj_m",
    "papermill": {
     "duration": 0.012449,
     "end_time": "2024-02-04T01:30:53.002076",
     "exception": false,
     "start_time": "2024-02-04T01:30:52.989627",
     "status": "completed"
    },
    "tags": []
   },
   "source": [
    "### 特徴量の作成"
   ]
  },
  {
   "cell_type": "code",
   "execution_count": 8,
   "id": "6cacfaf9",
   "metadata": {
    "execution": {
     "iopub.execute_input": "2024-02-04T01:30:53.028803Z",
     "iopub.status.busy": "2024-02-04T01:30:53.028329Z",
     "iopub.status.idle": "2024-02-04T01:30:53.034941Z",
     "shell.execute_reply": "2024-02-04T01:30:53.033971Z"
    },
    "id": "SJd05F70kskT",
    "papermill": {
     "duration": 0.022822,
     "end_time": "2024-02-04T01:30:53.037433",
     "exception": false,
     "start_time": "2024-02-04T01:30:53.014611",
     "status": "completed"
    },
    "tags": []
   },
   "outputs": [],
   "source": [
    "def create_new_features(df):\n",
    "#     # BMI\n",
    "#     df['BMI'] = df['Weight'] / (df['Height'] ** 2)\n",
    "    \n",
    "#     # 身体のアクティビティレベル\n",
    "#     df['Physical_Activity_Level'] = df['FAF'] - df['TUE']\n",
    "    \n",
    "#     # 食習慣\n",
    "#     df['Meal_Habits'] = df['FCVC'] * df['NCP']\n",
    "    \n",
    "#     # 健康栄養習慣\n",
    "#     df['Healthy_Nutrition_Habits'] = df['FCVC'] / (2 * df['FAVC_no'] - 1)\n",
    "    \n",
    "#     # 技術使用法スコア\n",
    "#     df['Tech_Usage_Score'] = df['TUE'] / df['Age']\n",
    "    \n",
    "    return df"
   ]
  },
  {
   "cell_type": "markdown",
   "id": "f93997f7",
   "metadata": {
    "papermill": {
     "duration": 0.011839,
     "end_time": "2024-02-04T01:30:53.061803",
     "exception": false,
     "start_time": "2024-02-04T01:30:53.049964",
     "status": "completed"
    },
    "tags": []
   },
   "source": [
    "#### ビンニング"
   ]
  },
  {
   "cell_type": "code",
   "execution_count": 9,
   "id": "fe2f6c02",
   "metadata": {
    "execution": {
     "iopub.execute_input": "2024-02-04T01:30:53.088136Z",
     "iopub.status.busy": "2024-02-04T01:30:53.087703Z",
     "iopub.status.idle": "2024-02-04T01:30:53.091843Z",
     "shell.execute_reply": "2024-02-04T01:30:53.091012Z"
    },
    "papermill": {
     "duration": 0.02,
     "end_time": "2024-02-04T01:30:53.094096",
     "exception": false,
     "start_time": "2024-02-04T01:30:53.074096",
     "status": "completed"
    },
    "tags": []
   },
   "outputs": [],
   "source": [
    "def binning(df):\n",
    "    \n",
    "    return df"
   ]
  },
  {
   "cell_type": "markdown",
   "id": "08fb774f",
   "metadata": {
    "id": "eWE-oFe4loLR",
    "papermill": {
     "duration": 0.012162,
     "end_time": "2024-02-04T01:30:53.118835",
     "exception": false,
     "start_time": "2024-02-04T01:30:53.106673",
     "status": "completed"
    },
    "tags": []
   },
   "source": [
    "### カテゴリ変数のエンコーディング"
   ]
  },
  {
   "cell_type": "markdown",
   "id": "b2f27a1a",
   "metadata": {
    "id": "xoRllpoVJi0M",
    "papermill": {
     "duration": 0.011826,
     "end_time": "2024-02-04T01:30:53.142999",
     "exception": false,
     "start_time": "2024-02-04T01:30:53.131173",
     "status": "completed"
    },
    "tags": []
   },
   "source": [
    "* One-HotEncoding"
   ]
  },
  {
   "cell_type": "code",
   "execution_count": 10,
   "id": "4a830e24",
   "metadata": {
    "execution": {
     "iopub.execute_input": "2024-02-04T01:30:53.172354Z",
     "iopub.status.busy": "2024-02-04T01:30:53.171954Z",
     "iopub.status.idle": "2024-02-04T01:30:53.179097Z",
     "shell.execute_reply": "2024-02-04T01:30:53.177678Z"
    },
    "id": "r4FeWb-aJi0N",
    "papermill": {
     "duration": 0.024268,
     "end_time": "2024-02-04T01:30:53.181517",
     "exception": false,
     "start_time": "2024-02-04T01:30:53.157249",
     "status": "completed"
    },
    "tags": []
   },
   "outputs": [],
   "source": [
    "def one_hot_encoding(df, cat_cols):\n",
    "    df[target_col] = df[target_col].map({\n",
    "    \"Insufficient_Weight\":0,\n",
    "    \"Normal_Weight\":1,\n",
    "    \"Obesity_Type_I\":2,\n",
    "    \"Obesity_Type_II\":3,\n",
    "    \"Obesity_Type_III\":4,\n",
    "    \"Overweight_Level_I\":5,\n",
    "    \"Overweight_Level_II\":6,\n",
    "    })\n",
    "\n",
    "    df = pd.get_dummies(df, columns=cat_cols)\n",
    "\n",
    "    return df"
   ]
  },
  {
   "cell_type": "markdown",
   "id": "6f631bf8",
   "metadata": {
    "id": "sKHw_ipAlpUy",
    "papermill": {
     "duration": 0.011737,
     "end_time": "2024-02-04T01:30:53.206137",
     "exception": false,
     "start_time": "2024-02-04T01:30:53.194400",
     "status": "completed"
    },
    "tags": []
   },
   "source": [
    "- LabelEncoding"
   ]
  },
  {
   "cell_type": "code",
   "execution_count": 11,
   "id": "ad5a5b9a",
   "metadata": {
    "execution": {
     "iopub.execute_input": "2024-02-04T01:30:53.232680Z",
     "iopub.status.busy": "2024-02-04T01:30:53.231913Z",
     "iopub.status.idle": "2024-02-04T01:30:53.238341Z",
     "shell.execute_reply": "2024-02-04T01:30:53.237193Z"
    },
    "id": "uBNUcljZlmV5",
    "papermill": {
     "duration": 0.023082,
     "end_time": "2024-02-04T01:30:53.241465",
     "exception": false,
     "start_time": "2024-02-04T01:30:53.218383",
     "status": "completed"
    },
    "tags": []
   },
   "outputs": [],
   "source": [
    "def label_encoder(df, categorical_columns):\n",
    "#     categorical_columns = df.select_dtypes(include=['object']).columns\n",
    "\n",
    "    for column in categorical_columns:\n",
    "        df[column] = df[column].fillna('').astype('str') # 欠損値の補完をする\n",
    "        le = LabelEncoder()\n",
    "        df[column] = le.fit_transform(df[column])\n",
    "\n",
    "    return df"
   ]
  },
  {
   "cell_type": "markdown",
   "id": "78f888e8",
   "metadata": {
    "papermill": {
     "duration": 0.012494,
     "end_time": "2024-02-04T01:30:53.266288",
     "exception": false,
     "start_time": "2024-02-04T01:30:53.253794",
     "status": "completed"
    },
    "tags": []
   },
   "source": [
    "- pd.get_dummies"
   ]
  },
  {
   "cell_type": "code",
   "execution_count": 12,
   "id": "c4296167",
   "metadata": {
    "execution": {
     "iopub.execute_input": "2024-02-04T01:30:53.293095Z",
     "iopub.status.busy": "2024-02-04T01:30:53.292685Z",
     "iopub.status.idle": "2024-02-04T01:30:53.297783Z",
     "shell.execute_reply": "2024-02-04T01:30:53.296552Z"
    },
    "papermill": {
     "duration": 0.021255,
     "end_time": "2024-02-04T01:30:53.300275",
     "exception": false,
     "start_time": "2024-02-04T01:30:53.279020",
     "status": "completed"
    },
    "tags": []
   },
   "outputs": [],
   "source": [
    "def get_dummies(df, cat_cols):\n",
    "    df = pd.get_dummies(df, columns=cat_cols)\n",
    "    \n",
    "    return df"
   ]
  },
  {
   "cell_type": "markdown",
   "id": "34b66a6e",
   "metadata": {
    "id": "OVz_DZCgltFl",
    "papermill": {
     "duration": 0.012147,
     "end_time": "2024-02-04T01:30:53.325290",
     "exception": false,
     "start_time": "2024-02-04T01:30:53.313143",
     "status": "completed"
    },
    "tags": []
   },
   "source": [
    "### 特徴量の選択"
   ]
  },
  {
   "cell_type": "markdown",
   "id": "6a036493",
   "metadata": {
    "id": "T-uGFwI8luOC",
    "papermill": {
     "duration": 0.011816,
     "end_time": "2024-02-04T01:30:53.349332",
     "exception": false,
     "start_time": "2024-02-04T01:30:53.337516",
     "status": "completed"
    },
    "tags": []
   },
   "source": [
    "#### 特徴量の重要度評価"
   ]
  },
  {
   "cell_type": "code",
   "execution_count": 13,
   "id": "acf47617",
   "metadata": {
    "execution": {
     "iopub.execute_input": "2024-02-04T01:30:53.375964Z",
     "iopub.status.busy": "2024-02-04T01:30:53.375219Z",
     "iopub.status.idle": "2024-02-04T01:30:53.383039Z",
     "shell.execute_reply": "2024-02-04T01:30:53.381801Z"
    },
    "id": "IvbTfuG8lrYZ",
    "papermill": {
     "duration": 0.024078,
     "end_time": "2024-02-04T01:30:53.385663",
     "exception": false,
     "start_time": "2024-02-04T01:30:53.361585",
     "status": "completed"
    },
    "tags": []
   },
   "outputs": [],
   "source": [
    "def feature_importance_evaluation(df):\n",
    "    # 訓練データをX(説明変数)とy（目的変数）に分割する\n",
    "    X = df.select_dtypes(include=['float', 'int'])\n",
    "#     X = X.drop([target_col], axis=1) # 目的変数を指定する\n",
    "    y = target # 目的変数を指定する\n",
    "\n",
    "    \n",
    "\n",
    "    # 特徴量の重要度評価\n",
    "    clf = LGBMClassifier(\n",
    "        random_state=42,\n",
    "    )\n",
    "\n",
    "    clf.fit(X, y)\n",
    "    importance = clf.feature_importances_\n",
    "\n",
    "    feature_importance = pd.DataFrame(data=importance, index=X.columns, columns=['importance']) \\\n",
    "        .sort_values(ascending=True, by='importance')\n",
    "\n",
    "    return feature_importance"
   ]
  },
  {
   "cell_type": "markdown",
   "id": "45ed0aa6",
   "metadata": {
    "id": "Uu58wE5hl4MK",
    "papermill": {
     "duration": 0.012619,
     "end_time": "2024-02-04T01:30:53.411156",
     "exception": false,
     "start_time": "2024-02-04T01:30:53.398537",
     "status": "completed"
    },
    "tags": []
   },
   "source": [
    "#### 特徴量の削除"
   ]
  },
  {
   "cell_type": "code",
   "execution_count": 14,
   "id": "4a0c3d4f",
   "metadata": {
    "execution": {
     "iopub.execute_input": "2024-02-04T01:30:53.439245Z",
     "iopub.status.busy": "2024-02-04T01:30:53.438563Z",
     "iopub.status.idle": "2024-02-04T01:30:53.443802Z",
     "shell.execute_reply": "2024-02-04T01:30:53.442991Z"
    },
    "id": "LNqYHRC2l0fz",
    "papermill": {
     "duration": 0.022169,
     "end_time": "2024-02-04T01:30:53.446399",
     "exception": false,
     "start_time": "2024-02-04T01:30:53.424230",
     "status": "completed"
    },
    "tags": []
   },
   "outputs": [],
   "source": [
    "def drop_columns(df):\n",
    "    drop_list = [\n",
    "        \n",
    "    ]\n",
    "    dropped_df = df.drop(columns=drop_list)\n",
    "\n",
    "    return dropped_df"
   ]
  },
  {
   "cell_type": "markdown",
   "id": "99cdc68c",
   "metadata": {
    "id": "EzhMZ-IVmC04",
    "papermill": {
     "duration": 0.012233,
     "end_time": "2024-02-04T01:30:53.470899",
     "exception": false,
     "start_time": "2024-02-04T01:30:53.458666",
     "status": "completed"
    },
    "tags": []
   },
   "source": [
    "### データセットの更新"
   ]
  },
  {
   "cell_type": "code",
   "execution_count": 15,
   "id": "68a1b0bf",
   "metadata": {
    "execution": {
     "iopub.execute_input": "2024-02-04T01:30:53.497676Z",
     "iopub.status.busy": "2024-02-04T01:30:53.496999Z",
     "iopub.status.idle": "2024-02-04T01:30:54.147576Z",
     "shell.execute_reply": "2024-02-04T01:30:54.146503Z"
    },
    "id": "wtp9MwnUl_zY",
    "papermill": {
     "duration": 0.667322,
     "end_time": "2024-02-04T01:30:54.150593",
     "exception": false,
     "start_time": "2024-02-04T01:30:53.483271",
     "status": "completed"
    },
    "tags": []
   },
   "outputs": [],
   "source": [
    "# 前処理\n",
    "df = missing_values(df)\n",
    "df = outlier(df)\n",
    "\n",
    "scale_cols = []\n",
    "# df = scaling_MinMaxScaler(df, scale_cols) # 標準化したい時のみ実行する\n",
    "\n",
    "# 特徴量エンジニアリング\n",
    "df = create_new_features(df)\n",
    "df = binning(df)\n",
    "df = missing_values(df)\n",
    "df = drop_columns(df)\n",
    "\n",
    "ohe_cols = [] # One-Hot Encodingしたい水準数の少ないカラムを指定する\n",
    "dummies_cols = [] # pd.get_dummiesしたい水準数の少ないカラムを指定する\n",
    "df = one_hot_encoding(df, ohe_cols)\n",
    "df = get_dummies(df, dummies_cols)\n",
    "df = label_encoder(df, categorical_features)"
   ]
  },
  {
   "cell_type": "code",
   "execution_count": 16,
   "id": "efcb0d36",
   "metadata": {
    "execution": {
     "iopub.execute_input": "2024-02-04T01:30:54.181299Z",
     "iopub.status.busy": "2024-02-04T01:30:54.180866Z",
     "iopub.status.idle": "2024-02-04T01:30:54.206993Z",
     "shell.execute_reply": "2024-02-04T01:30:54.205444Z"
    },
    "id": "DDUYrDzpmD2t",
    "outputId": "453062fd-b278-4ced-f7e2-f903a0067358",
    "papermill": {
     "duration": 0.043333,
     "end_time": "2024-02-04T01:30:54.209503",
     "exception": false,
     "start_time": "2024-02-04T01:30:54.166170",
     "status": "completed"
    },
    "tags": []
   },
   "outputs": [
    {
     "data": {
      "text/html": [
       "<div>\n",
       "<style scoped>\n",
       "    .dataframe tbody tr th:only-of-type {\n",
       "        vertical-align: middle;\n",
       "    }\n",
       "\n",
       "    .dataframe tbody tr th {\n",
       "        vertical-align: top;\n",
       "    }\n",
       "\n",
       "    .dataframe thead th {\n",
       "        text-align: right;\n",
       "    }\n",
       "</style>\n",
       "<table border=\"1\" class=\"dataframe\">\n",
       "  <thead>\n",
       "    <tr style=\"text-align: right;\">\n",
       "      <th></th>\n",
       "      <th>index</th>\n",
       "      <th>Gender</th>\n",
       "      <th>Age</th>\n",
       "      <th>Height</th>\n",
       "      <th>Weight</th>\n",
       "      <th>family_history_with_overweight</th>\n",
       "      <th>FAVC</th>\n",
       "      <th>FCVC</th>\n",
       "      <th>NCP</th>\n",
       "      <th>CAEC</th>\n",
       "      <th>SMOKE</th>\n",
       "      <th>CH2O</th>\n",
       "      <th>SCC</th>\n",
       "      <th>FAF</th>\n",
       "      <th>TUE</th>\n",
       "      <th>CALC</th>\n",
       "      <th>MTRANS</th>\n",
       "      <th>NObeyesdad</th>\n",
       "    </tr>\n",
       "  </thead>\n",
       "  <tbody>\n",
       "    <tr>\n",
       "      <th>0</th>\n",
       "      <td>0</td>\n",
       "      <td>1</td>\n",
       "      <td>1095</td>\n",
       "      <td>933</td>\n",
       "      <td>1839</td>\n",
       "      <td>1</td>\n",
       "      <td>1</td>\n",
       "      <td>265</td>\n",
       "      <td>589</td>\n",
       "      <td>2</td>\n",
       "      <td>0</td>\n",
       "      <td>1491</td>\n",
       "      <td>0</td>\n",
       "      <td>0</td>\n",
       "      <td>1053</td>\n",
       "      <td>2</td>\n",
       "      <td>3</td>\n",
       "      <td>6.00000</td>\n",
       "    </tr>\n",
       "    <tr>\n",
       "      <th>1</th>\n",
       "      <td>1</td>\n",
       "      <td>0</td>\n",
       "      <td>108</td>\n",
       "      <td>128</td>\n",
       "      <td>1376</td>\n",
       "      <td>1</td>\n",
       "      <td>1</td>\n",
       "      <td>265</td>\n",
       "      <td>624</td>\n",
       "      <td>1</td>\n",
       "      <td>0</td>\n",
       "      <td>756</td>\n",
       "      <td>0</td>\n",
       "      <td>751</td>\n",
       "      <td>1068</td>\n",
       "      <td>3</td>\n",
       "      <td>0</td>\n",
       "      <td>1.00000</td>\n",
       "    </tr>\n",
       "    <tr>\n",
       "      <th>2</th>\n",
       "      <td>11112</td>\n",
       "      <td>0</td>\n",
       "      <td>108</td>\n",
       "      <td>1040</td>\n",
       "      <td>1253</td>\n",
       "      <td>1</td>\n",
       "      <td>1</td>\n",
       "      <td>206</td>\n",
       "      <td>127</td>\n",
       "      <td>2</td>\n",
       "      <td>0</td>\n",
       "      <td>659</td>\n",
       "      <td>0</td>\n",
       "      <td>587</td>\n",
       "      <td>1322</td>\n",
       "      <td>3</td>\n",
       "      <td>3</td>\n",
       "      <td>0.00000</td>\n",
       "    </tr>\n",
       "    <tr>\n",
       "      <th>3</th>\n",
       "      <td>12981</td>\n",
       "      <td>0</td>\n",
       "      <td>522</td>\n",
       "      <td>1035</td>\n",
       "      <td>936</td>\n",
       "      <td>1</td>\n",
       "      <td>1</td>\n",
       "      <td>1053</td>\n",
       "      <td>624</td>\n",
       "      <td>2</td>\n",
       "      <td>0</td>\n",
       "      <td>464</td>\n",
       "      <td>0</td>\n",
       "      <td>1040</td>\n",
       "      <td>806</td>\n",
       "      <td>2</td>\n",
       "      <td>3</td>\n",
       "      <td>4.00000</td>\n",
       "    </tr>\n",
       "    <tr>\n",
       "      <th>4</th>\n",
       "      <td>14092</td>\n",
       "      <td>1</td>\n",
       "      <td>1605</td>\n",
       "      <td>2050</td>\n",
       "      <td>2205</td>\n",
       "      <td>1</td>\n",
       "      <td>1</td>\n",
       "      <td>735</td>\n",
       "      <td>252</td>\n",
       "      <td>2</td>\n",
       "      <td>0</td>\n",
       "      <td>727</td>\n",
       "      <td>0</td>\n",
       "      <td>1330</td>\n",
       "      <td>995</td>\n",
       "      <td>2</td>\n",
       "      <td>3</td>\n",
       "      <td>6.00000</td>\n",
       "    </tr>\n",
       "  </tbody>\n",
       "</table>\n",
       "</div>"
      ],
      "text/plain": [
       "   index  Gender   Age  Height  Weight  family_history_with_overweight  FAVC  \\\n",
       "0      0       1  1095     933    1839                               1     1   \n",
       "1      1       0   108     128    1376                               1     1   \n",
       "2  11112       0   108    1040    1253                               1     1   \n",
       "3  12981       0   522    1035     936                               1     1   \n",
       "4  14092       1  1605    2050    2205                               1     1   \n",
       "\n",
       "   FCVC  NCP  CAEC  SMOKE  CH2O  SCC   FAF   TUE  CALC  MTRANS  NObeyesdad  \n",
       "0   265  589     2      0  1491    0     0  1053     2       3     6.00000  \n",
       "1   265  624     1      0   756    0   751  1068     3       0     1.00000  \n",
       "2   206  127     2      0   659    0   587  1322     3       3     0.00000  \n",
       "3  1053  624     2      0   464    0  1040   806     2       3     4.00000  \n",
       "4   735  252     2      0   727    0  1330   995     2       3     6.00000  "
      ]
     },
     "execution_count": 16,
     "metadata": {},
     "output_type": "execute_result"
    }
   ],
   "source": [
    "train = df[:20758]\n",
    "test = df[20758:]\n",
    "\n",
    "# train_x = train.drop(columns=[target_col])\n",
    "# train_y = target\n",
    "# test_x = test.drop(columns=[target_col])\n",
    "\n",
    "train_x = train\n",
    "train_y = target\n",
    "test_x = test\n",
    "\n",
    "X = train_x.values\n",
    "y = train_y.values\n",
    "# y = y.astype(int)\n",
    "\n",
    "df.head()"
   ]
  },
  {
   "cell_type": "code",
   "execution_count": 17,
   "id": "7800bc53",
   "metadata": {
    "execution": {
     "iopub.execute_input": "2024-02-04T01:30:54.236533Z",
     "iopub.status.busy": "2024-02-04T01:30:54.236125Z",
     "iopub.status.idle": "2024-02-04T01:30:57.966173Z",
     "shell.execute_reply": "2024-02-04T01:30:57.965018Z"
    },
    "id": "yIlQ3t2-mxBU",
    "papermill": {
     "duration": 3.747105,
     "end_time": "2024-02-04T01:30:57.969322",
     "exception": false,
     "start_time": "2024-02-04T01:30:54.222217",
     "status": "completed"
    },
    "tags": []
   },
   "outputs": [
    {
     "name": "stdout",
     "output_type": "stream",
     "text": [
      "[LightGBM] [Info] Auto-choosing row-wise multi-threading, the overhead of testing was 0.005979 seconds.\n",
      "You can set `force_row_wise=true` to remove the overhead.\n",
      "And if memory is not enough, you can set `force_col_wise=true`.\n",
      "[LightGBM] [Info] Total Bins 2308\n",
      "[LightGBM] [Info] Number of data points in the train set: 20758, number of used features: 18\n",
      "[LightGBM] [Info] Start training from score -2.107483\n",
      "[LightGBM] [Info] Start training from score -1.907353\n",
      "[LightGBM] [Info] Start training from score -1.964779\n",
      "[LightGBM] [Info] Start training from score -1.854892\n",
      "[LightGBM] [Info] Start training from score -1.635203\n",
      "[LightGBM] [Info] Start training from score -2.146276\n",
      "[LightGBM] [Info] Start training from score -2.107879\n",
      "[LightGBM] [Warning] No further splits with positive gain, best gain: -inf\n",
      "[LightGBM] [Warning] No further splits with positive gain, best gain: -inf\n",
      "[LightGBM] [Warning] No further splits with positive gain, best gain: -inf\n",
      "[LightGBM] [Warning] No further splits with positive gain, best gain: -inf\n",
      "[LightGBM] [Warning] No further splits with positive gain, best gain: -inf\n",
      "[LightGBM] [Warning] No further splits with positive gain, best gain: -inf\n",
      "[LightGBM] [Warning] No further splits with positive gain, best gain: -inf\n",
      "[LightGBM] [Warning] No further splits with positive gain, best gain: -inf\n",
      "[LightGBM] [Warning] No further splits with positive gain, best gain: -inf\n",
      "[LightGBM] [Warning] No further splits with positive gain, best gain: -inf\n",
      "[LightGBM] [Warning] No further splits with positive gain, best gain: -inf\n",
      "[LightGBM] [Warning] No further splits with positive gain, best gain: -inf\n",
      "[LightGBM] [Warning] No further splits with positive gain, best gain: -inf\n",
      "[LightGBM] [Warning] No further splits with positive gain, best gain: -inf\n",
      "[LightGBM] [Warning] No further splits with positive gain, best gain: -inf\n",
      "[LightGBM] [Warning] No further splits with positive gain, best gain: -inf\n",
      "[LightGBM] [Warning] No further splits with positive gain, best gain: -inf\n",
      "[LightGBM] [Warning] No further splits with positive gain, best gain: -inf\n",
      "[LightGBM] [Warning] No further splits with positive gain, best gain: -inf\n",
      "[LightGBM] [Warning] No further splits with positive gain, best gain: -inf\n",
      "[LightGBM] [Warning] No further splits with positive gain, best gain: -inf\n",
      "[LightGBM] [Warning] No further splits with positive gain, best gain: -inf\n",
      "[LightGBM] [Warning] No further splits with positive gain, best gain: -inf\n",
      "[LightGBM] [Warning] No further splits with positive gain, best gain: -inf\n",
      "[LightGBM] [Warning] No further splits with positive gain, best gain: -inf\n",
      "[LightGBM] [Warning] No further splits with positive gain, best gain: -inf\n",
      "[LightGBM] [Warning] No further splits with positive gain, best gain: -inf\n",
      "[LightGBM] [Warning] No further splits with positive gain, best gain: -inf\n",
      "[LightGBM] [Warning] No further splits with positive gain, best gain: -inf\n",
      "[LightGBM] [Warning] No further splits with positive gain, best gain: -inf\n",
      "[LightGBM] [Warning] No further splits with positive gain, best gain: -inf\n",
      "[LightGBM] [Warning] No further splits with positive gain, best gain: -inf\n",
      "[LightGBM] [Warning] No further splits with positive gain, best gain: -inf\n",
      "[LightGBM] [Warning] No further splits with positive gain, best gain: -inf\n",
      "[LightGBM] [Warning] No further splits with positive gain, best gain: -inf\n",
      "[LightGBM] [Warning] No further splits with positive gain, best gain: -inf\n",
      "[LightGBM] [Warning] No further splits with positive gain, best gain: -inf\n",
      "[LightGBM] [Warning] No further splits with positive gain, best gain: -inf\n",
      "[LightGBM] [Warning] No further splits with positive gain, best gain: -inf\n",
      "[LightGBM] [Warning] No further splits with positive gain, best gain: -inf\n",
      "[LightGBM] [Warning] No further splits with positive gain, best gain: -inf\n",
      "[LightGBM] [Warning] No further splits with positive gain, best gain: -inf\n",
      "[LightGBM] [Warning] No further splits with positive gain, best gain: -inf\n",
      "[LightGBM] [Warning] No further splits with positive gain, best gain: -inf\n",
      "[LightGBM] [Warning] No further splits with positive gain, best gain: -inf\n",
      "[LightGBM] [Warning] No further splits with positive gain, best gain: -inf\n",
      "[LightGBM] [Warning] No further splits with positive gain, best gain: -inf\n",
      "[LightGBM] [Warning] No further splits with positive gain, best gain: -inf\n",
      "[LightGBM] [Warning] No further splits with positive gain, best gain: -inf\n",
      "[LightGBM] [Warning] No further splits with positive gain, best gain: -inf\n",
      "[LightGBM] [Warning] No further splits with positive gain, best gain: -inf\n",
      "[LightGBM] [Warning] No further splits with positive gain, best gain: -inf\n",
      "[LightGBM] [Warning] No further splits with positive gain, best gain: -inf\n",
      "[LightGBM] [Warning] No further splits with positive gain, best gain: -inf\n",
      "[LightGBM] [Warning] No further splits with positive gain, best gain: -inf\n",
      "[LightGBM] [Warning] No further splits with positive gain, best gain: -inf\n",
      "[LightGBM] [Warning] No further splits with positive gain, best gain: -inf\n",
      "[LightGBM] [Warning] No further splits with positive gain, best gain: -inf\n",
      "[LightGBM] [Warning] No further splits with positive gain, best gain: -inf\n",
      "[LightGBM] [Warning] No further splits with positive gain, best gain: -inf\n",
      "[LightGBM] [Warning] No further splits with positive gain, best gain: -inf\n",
      "[LightGBM] [Warning] No further splits with positive gain, best gain: -inf\n",
      "[LightGBM] [Warning] No further splits with positive gain, best gain: -inf\n",
      "[LightGBM] [Warning] No further splits with positive gain, best gain: -inf\n",
      "[LightGBM] [Warning] No further splits with positive gain, best gain: -inf\n",
      "[LightGBM] [Warning] No further splits with positive gain, best gain: -inf\n",
      "[LightGBM] [Warning] No further splits with positive gain, best gain: -inf\n",
      "[LightGBM] [Warning] No further splits with positive gain, best gain: -inf\n",
      "[LightGBM] [Warning] No further splits with positive gain, best gain: -inf\n",
      "[LightGBM] [Warning] No further splits with positive gain, best gain: -inf\n",
      "[LightGBM] [Warning] No further splits with positive gain, best gain: -inf\n",
      "[LightGBM] [Warning] No further splits with positive gain, best gain: -inf\n",
      "[LightGBM] [Warning] No further splits with positive gain, best gain: -inf\n",
      "[LightGBM] [Warning] No further splits with positive gain, best gain: -inf\n",
      "[LightGBM] [Warning] No further splits with positive gain, best gain: -inf\n",
      "[LightGBM] [Warning] No further splits with positive gain, best gain: -inf\n",
      "[LightGBM] [Warning] No further splits with positive gain, best gain: -inf\n",
      "[LightGBM] [Warning] No further splits with positive gain, best gain: -inf\n",
      "[LightGBM] [Warning] No further splits with positive gain, best gain: -inf\n",
      "[LightGBM] [Warning] No further splits with positive gain, best gain: -inf\n",
      "[LightGBM] [Warning] No further splits with positive gain, best gain: -inf\n",
      "[LightGBM] [Warning] No further splits with positive gain, best gain: -inf\n",
      "[LightGBM] [Warning] No further splits with positive gain, best gain: -inf\n",
      "[LightGBM] [Warning] No further splits with positive gain, best gain: -inf\n",
      "[LightGBM] [Warning] No further splits with positive gain, best gain: -inf\n",
      "[LightGBM] [Warning] No further splits with positive gain, best gain: -inf\n",
      "[LightGBM] [Warning] No further splits with positive gain, best gain: -inf\n",
      "[LightGBM] [Warning] No further splits with positive gain, best gain: -inf\n",
      "[LightGBM] [Warning] No further splits with positive gain, best gain: -inf\n",
      "[LightGBM] [Warning] No further splits with positive gain, best gain: -inf\n",
      "[LightGBM] [Warning] No further splits with positive gain, best gain: -inf\n",
      "[LightGBM] [Warning] No further splits with positive gain, best gain: -inf\n",
      "[LightGBM] [Warning] No further splits with positive gain, best gain: -inf\n",
      "[LightGBM] [Warning] No further splits with positive gain, best gain: -inf\n",
      "[LightGBM] [Warning] No further splits with positive gain, best gain: -inf\n",
      "[LightGBM] [Warning] No further splits with positive gain, best gain: -inf\n",
      "[LightGBM] [Warning] No further splits with positive gain, best gain: -inf\n",
      "[LightGBM] [Warning] No further splits with positive gain, best gain: -inf\n",
      "[LightGBM] [Warning] No further splits with positive gain, best gain: -inf\n",
      "[LightGBM] [Warning] No further splits with positive gain, best gain: -inf\n",
      "[LightGBM] [Warning] No further splits with positive gain, best gain: -inf\n",
      "[LightGBM] [Warning] No further splits with positive gain, best gain: -inf\n",
      "[LightGBM] [Warning] No further splits with positive gain, best gain: -inf\n",
      "[LightGBM] [Warning] No further splits with positive gain, best gain: -inf\n",
      "[LightGBM] [Warning] No further splits with positive gain, best gain: -inf\n",
      "[LightGBM] [Warning] No further splits with positive gain, best gain: -inf\n",
      "[LightGBM] [Warning] No further splits with positive gain, best gain: -inf\n",
      "[LightGBM] [Warning] No further splits with positive gain, best gain: -inf\n",
      "[LightGBM] [Warning] No further splits with positive gain, best gain: -inf\n",
      "[LightGBM] [Warning] No further splits with positive gain, best gain: -inf\n",
      "[LightGBM] [Warning] No further splits with positive gain, best gain: -inf\n",
      "[LightGBM] [Warning] No further splits with positive gain, best gain: -inf\n",
      "[LightGBM] [Warning] No further splits with positive gain, best gain: -inf\n",
      "[LightGBM] [Warning] No further splits with positive gain, best gain: -inf\n",
      "[LightGBM] [Warning] No further splits with positive gain, best gain: -inf\n",
      "[LightGBM] [Warning] No further splits with positive gain, best gain: -inf\n",
      "[LightGBM] [Warning] No further splits with positive gain, best gain: -inf\n",
      "[LightGBM] [Warning] No further splits with positive gain, best gain: -inf\n",
      "[LightGBM] [Warning] No further splits with positive gain, best gain: -inf\n",
      "[LightGBM] [Warning] No further splits with positive gain, best gain: -inf\n",
      "[LightGBM] [Warning] No further splits with positive gain, best gain: -inf\n",
      "[LightGBM] [Warning] No further splits with positive gain, best gain: -inf\n",
      "[LightGBM] [Warning] No further splits with positive gain, best gain: -inf\n",
      "[LightGBM] [Warning] No further splits with positive gain, best gain: -inf\n",
      "[LightGBM] [Warning] No further splits with positive gain, best gain: -inf\n",
      "[LightGBM] [Warning] No further splits with positive gain, best gain: -inf\n",
      "[LightGBM] [Warning] No further splits with positive gain, best gain: -inf\n",
      "[LightGBM] [Warning] No further splits with positive gain, best gain: -inf\n",
      "[LightGBM] [Warning] No further splits with positive gain, best gain: -inf\n",
      "[LightGBM] [Warning] No further splits with positive gain, best gain: -inf\n",
      "[LightGBM] [Warning] No further splits with positive gain, best gain: -inf\n",
      "[LightGBM] [Warning] No further splits with positive gain, best gain: -inf\n",
      "[LightGBM] [Warning] No further splits with positive gain, best gain: -inf\n",
      "[LightGBM] [Warning] No further splits with positive gain, best gain: -inf\n",
      "[LightGBM] [Warning] No further splits with positive gain, best gain: -inf\n",
      "[LightGBM] [Warning] No further splits with positive gain, best gain: -inf\n",
      "[LightGBM] [Warning] No further splits with positive gain, best gain: -inf\n",
      "[LightGBM] [Warning] No further splits with positive gain, best gain: -inf\n",
      "[LightGBM] [Warning] No further splits with positive gain, best gain: -inf\n",
      "[LightGBM] [Warning] No further splits with positive gain, best gain: -inf\n",
      "[LightGBM] [Warning] No further splits with positive gain, best gain: -inf\n",
      "[LightGBM] [Warning] No further splits with positive gain, best gain: -inf\n",
      "[LightGBM] [Warning] No further splits with positive gain, best gain: -inf\n",
      "[LightGBM] [Warning] No further splits with positive gain, best gain: -inf\n",
      "[LightGBM] [Warning] No further splits with positive gain, best gain: -inf\n",
      "[LightGBM] [Warning] No further splits with positive gain, best gain: -inf\n",
      "[LightGBM] [Warning] No further splits with positive gain, best gain: -inf\n",
      "[LightGBM] [Warning] No further splits with positive gain, best gain: -inf\n",
      "[LightGBM] [Warning] No further splits with positive gain, best gain: -inf\n",
      "[LightGBM] [Warning] No further splits with positive gain, best gain: -inf\n",
      "[LightGBM] [Warning] No further splits with positive gain, best gain: -inf\n",
      "[LightGBM] [Warning] No further splits with positive gain, best gain: -inf\n",
      "[LightGBM] [Warning] No further splits with positive gain, best gain: -inf\n",
      "[LightGBM] [Warning] No further splits with positive gain, best gain: -inf\n",
      "[LightGBM] [Warning] No further splits with positive gain, best gain: -inf\n",
      "[LightGBM] [Warning] No further splits with positive gain, best gain: -inf\n",
      "[LightGBM] [Warning] No further splits with positive gain, best gain: -inf\n",
      "[LightGBM] [Warning] No further splits with positive gain, best gain: -inf\n",
      "[LightGBM] [Warning] No further splits with positive gain, best gain: -inf\n",
      "[LightGBM] [Warning] No further splits with positive gain, best gain: -inf\n",
      "[LightGBM] [Warning] No further splits with positive gain, best gain: -inf\n",
      "[LightGBM] [Warning] No further splits with positive gain, best gain: -inf\n",
      "[LightGBM] [Warning] No further splits with positive gain, best gain: -inf\n",
      "[LightGBM] [Warning] No further splits with positive gain, best gain: -inf\n",
      "[LightGBM] [Warning] No further splits with positive gain, best gain: -inf\n",
      "[LightGBM] [Warning] No further splits with positive gain, best gain: -inf\n",
      "[LightGBM] [Warning] No further splits with positive gain, best gain: -inf\n",
      "[LightGBM] [Warning] No further splits with positive gain, best gain: -inf\n",
      "[LightGBM] [Warning] No further splits with positive gain, best gain: -inf\n",
      "[LightGBM] [Warning] No further splits with positive gain, best gain: -inf\n",
      "[LightGBM] [Warning] No further splits with positive gain, best gain: -inf\n",
      "[LightGBM] [Warning] No further splits with positive gain, best gain: -inf\n",
      "[LightGBM] [Warning] No further splits with positive gain, best gain: -inf\n",
      "[LightGBM] [Warning] No further splits with positive gain, best gain: -inf\n",
      "[LightGBM] [Warning] No further splits with positive gain, best gain: -inf\n",
      "[LightGBM] [Warning] No further splits with positive gain, best gain: -inf\n",
      "[LightGBM] [Warning] No further splits with positive gain, best gain: -inf\n",
      "[LightGBM] [Warning] No further splits with positive gain, best gain: -inf\n",
      "[LightGBM] [Warning] No further splits with positive gain, best gain: -inf\n",
      "[LightGBM] [Warning] No further splits with positive gain, best gain: -inf\n",
      "[LightGBM] [Warning] No further splits with positive gain, best gain: -inf\n",
      "[LightGBM] [Warning] No further splits with positive gain, best gain: -inf\n",
      "[LightGBM] [Warning] No further splits with positive gain, best gain: -inf\n",
      "[LightGBM] [Warning] No further splits with positive gain, best gain: -inf\n",
      "[LightGBM] [Warning] No further splits with positive gain, best gain: -inf\n",
      "[LightGBM] [Warning] No further splits with positive gain, best gain: -inf\n",
      "[LightGBM] [Warning] No further splits with positive gain, best gain: -inf\n",
      "[LightGBM] [Warning] No further splits with positive gain, best gain: -inf\n",
      "[LightGBM] [Warning] No further splits with positive gain, best gain: -inf\n",
      "[LightGBM] [Warning] No further splits with positive gain, best gain: -inf\n",
      "[LightGBM] [Warning] No further splits with positive gain, best gain: -inf\n",
      "[LightGBM] [Warning] No further splits with positive gain, best gain: -inf\n",
      "[LightGBM] [Warning] No further splits with positive gain, best gain: -inf\n",
      "[LightGBM] [Warning] No further splits with positive gain, best gain: -inf\n",
      "[LightGBM] [Warning] No further splits with positive gain, best gain: -inf\n",
      "[LightGBM] [Warning] No further splits with positive gain, best gain: -inf\n",
      "[LightGBM] [Warning] No further splits with positive gain, best gain: -inf\n",
      "[LightGBM] [Warning] No further splits with positive gain, best gain: -inf\n",
      "[LightGBM] [Warning] No further splits with positive gain, best gain: -inf\n",
      "[LightGBM] [Warning] No further splits with positive gain, best gain: -inf\n",
      "[LightGBM] [Warning] No further splits with positive gain, best gain: -inf\n",
      "[LightGBM] [Warning] No further splits with positive gain, best gain: -inf\n",
      "[LightGBM] [Warning] No further splits with positive gain, best gain: -inf\n",
      "[LightGBM] [Warning] No further splits with positive gain, best gain: -inf\n",
      "[LightGBM] [Warning] No further splits with positive gain, best gain: -inf\n",
      "[LightGBM] [Warning] No further splits with positive gain, best gain: -inf\n",
      "[LightGBM] [Warning] No further splits with positive gain, best gain: -inf\n",
      "[LightGBM] [Warning] No further splits with positive gain, best gain: -inf\n",
      "[LightGBM] [Warning] No further splits with positive gain, best gain: -inf\n",
      "[LightGBM] [Warning] No further splits with positive gain, best gain: -inf\n",
      "[LightGBM] [Warning] No further splits with positive gain, best gain: -inf\n",
      "[LightGBM] [Warning] No further splits with positive gain, best gain: -inf\n",
      "[LightGBM] [Warning] No further splits with positive gain, best gain: -inf\n",
      "[LightGBM] [Warning] No further splits with positive gain, best gain: -inf\n",
      "[LightGBM] [Warning] No further splits with positive gain, best gain: -inf\n",
      "[LightGBM] [Warning] No further splits with positive gain, best gain: -inf\n",
      "[LightGBM] [Warning] No further splits with positive gain, best gain: -inf\n",
      "[LightGBM] [Warning] No further splits with positive gain, best gain: -inf\n",
      "[LightGBM] [Warning] No further splits with positive gain, best gain: -inf\n",
      "[LightGBM] [Warning] No further splits with positive gain, best gain: -inf\n",
      "[LightGBM] [Warning] No further splits with positive gain, best gain: -inf\n",
      "[LightGBM] [Warning] No further splits with positive gain, best gain: -inf\n",
      "[LightGBM] [Warning] No further splits with positive gain, best gain: -inf\n",
      "[LightGBM] [Warning] No further splits with positive gain, best gain: -inf\n",
      "[LightGBM] [Warning] No further splits with positive gain, best gain: -inf\n",
      "[LightGBM] [Warning] No further splits with positive gain, best gain: -inf\n",
      "[LightGBM] [Warning] No further splits with positive gain, best gain: -inf\n"
     ]
    },
    {
     "data": {
      "text/html": [
       "<div>\n",
       "<style scoped>\n",
       "    .dataframe tbody tr th:only-of-type {\n",
       "        vertical-align: middle;\n",
       "    }\n",
       "\n",
       "    .dataframe tbody tr th {\n",
       "        vertical-align: top;\n",
       "    }\n",
       "\n",
       "    .dataframe thead th {\n",
       "        text-align: right;\n",
       "    }\n",
       "</style>\n",
       "<table border=\"1\" class=\"dataframe\">\n",
       "  <thead>\n",
       "    <tr style=\"text-align: right;\">\n",
       "      <th></th>\n",
       "      <th>importance</th>\n",
       "    </tr>\n",
       "  </thead>\n",
       "  <tbody>\n",
       "    <tr>\n",
       "      <th>SMOKE</th>\n",
       "      <td>0</td>\n",
       "    </tr>\n",
       "    <tr>\n",
       "      <th>SCC</th>\n",
       "      <td>0</td>\n",
       "    </tr>\n",
       "    <tr>\n",
       "      <th>family_history_with_overweight</th>\n",
       "      <td>3</td>\n",
       "    </tr>\n",
       "    <tr>\n",
       "      <th>MTRANS</th>\n",
       "      <td>7</td>\n",
       "    </tr>\n",
       "    <tr>\n",
       "      <th>CAEC</th>\n",
       "      <td>30</td>\n",
       "    </tr>\n",
       "    <tr>\n",
       "      <th>FAVC</th>\n",
       "      <td>72</td>\n",
       "    </tr>\n",
       "    <tr>\n",
       "      <th>CALC</th>\n",
       "      <td>169</td>\n",
       "    </tr>\n",
       "    <tr>\n",
       "      <th>Gender</th>\n",
       "      <td>188</td>\n",
       "    </tr>\n",
       "    <tr>\n",
       "      <th>FAF</th>\n",
       "      <td>265</td>\n",
       "    </tr>\n",
       "    <tr>\n",
       "      <th>TUE</th>\n",
       "      <td>600</td>\n",
       "    </tr>\n",
       "    <tr>\n",
       "      <th>FCVC</th>\n",
       "      <td>953</td>\n",
       "    </tr>\n",
       "    <tr>\n",
       "      <th>NCP</th>\n",
       "      <td>986</td>\n",
       "    </tr>\n",
       "    <tr>\n",
       "      <th>CH2O</th>\n",
       "      <td>1387</td>\n",
       "    </tr>\n",
       "    <tr>\n",
       "      <th>Height</th>\n",
       "      <td>1553</td>\n",
       "    </tr>\n",
       "    <tr>\n",
       "      <th>index</th>\n",
       "      <td>1586</td>\n",
       "    </tr>\n",
       "    <tr>\n",
       "      <th>Age</th>\n",
       "      <td>1770</td>\n",
       "    </tr>\n",
       "    <tr>\n",
       "      <th>NObeyesdad</th>\n",
       "      <td>2671</td>\n",
       "    </tr>\n",
       "    <tr>\n",
       "      <th>Weight</th>\n",
       "      <td>3563</td>\n",
       "    </tr>\n",
       "  </tbody>\n",
       "</table>\n",
       "</div>"
      ],
      "text/plain": [
       "                                importance\n",
       "SMOKE                                    0\n",
       "SCC                                      0\n",
       "family_history_with_overweight           3\n",
       "MTRANS                                   7\n",
       "CAEC                                    30\n",
       "FAVC                                    72\n",
       "CALC                                   169\n",
       "Gender                                 188\n",
       "FAF                                    265\n",
       "TUE                                    600\n",
       "FCVC                                   953\n",
       "NCP                                    986\n",
       "CH2O                                  1387\n",
       "Height                                1553\n",
       "index                                 1586\n",
       "Age                                   1770\n",
       "NObeyesdad                            2671\n",
       "Weight                                3563"
      ]
     },
     "execution_count": 17,
     "metadata": {},
     "output_type": "execute_result"
    }
   ],
   "source": [
    "# 特徴量の重要度評価\n",
    "train_importance = train\n",
    "feature_importance = feature_importance_evaluation(train_importance)\n",
    "feature_importance"
   ]
  },
  {
   "cell_type": "code",
   "execution_count": 18,
   "id": "07715e3e",
   "metadata": {
    "execution": {
     "iopub.execute_input": "2024-02-04T01:30:58.012165Z",
     "iopub.status.busy": "2024-02-04T01:30:58.011690Z",
     "iopub.status.idle": "2024-02-04T01:30:58.591885Z",
     "shell.execute_reply": "2024-02-04T01:30:58.590749Z"
    },
    "id": "kUDkAd58nOmV",
    "papermill": {
     "duration": 0.604228,
     "end_time": "2024-02-04T01:30:58.594295",
     "exception": false,
     "start_time": "2024-02-04T01:30:57.990067",
     "status": "completed"
    },
    "tags": []
   },
   "outputs": [
    {
     "data": {
      "text/plain": [
       "<Axes: >"
      ]
     },
     "execution_count": 18,
     "metadata": {},
     "output_type": "execute_result"
    },
    {
     "data": {
      "image/png": "[encoded data removed]",
      "text/plain": [
       "<Figure size 1000x1500 with 1 Axes>"
      ]
     },
     "metadata": {},
     "output_type": "display_data"
    }
   ],
   "source": [
    "feature_importance.plot(kind='barh', figsize=(10, 15), color='b')"
   ]
  },
  {
   "cell_type": "code",
   "execution_count": 19,
   "id": "6fe76bdc",
   "metadata": {
    "execution": {
     "iopub.execute_input": "2024-02-04T01:30:58.625890Z",
     "iopub.status.busy": "2024-02-04T01:30:58.625438Z",
     "iopub.status.idle": "2024-02-04T01:30:58.935937Z",
     "shell.execute_reply": "2024-02-04T01:30:58.934785Z"
    },
    "id": "DVYEwrPUnW9Q",
    "papermill": {
     "duration": 0.329659,
     "end_time": "2024-02-04T01:30:58.938700",
     "exception": false,
     "start_time": "2024-02-04T01:30:58.609041",
     "status": "completed"
    },
    "tags": []
   },
   "outputs": [],
   "source": [
    "df.to_csv(OUTPUT_DIR + 'data.csv', index=False)"
   ]
  },
  {
   "cell_type": "code",
   "execution_count": 20,
   "id": "58df703e",
   "metadata": {
    "execution": {
     "iopub.execute_input": "2024-02-04T01:30:58.970723Z",
     "iopub.status.busy": "2024-02-04T01:30:58.970303Z",
     "iopub.status.idle": "2024-02-04T01:30:58.977818Z",
     "shell.execute_reply": "2024-02-04T01:30:58.976594Z"
    },
    "id": "zxBoX1zbnYUl",
    "papermill": {
     "duration": 0.026227,
     "end_time": "2024-02-04T01:30:58.980191",
     "exception": false,
     "start_time": "2024-02-04T01:30:58.953964",
     "status": "completed"
    },
    "tags": []
   },
   "outputs": [],
   "source": [
    "def file_to_xy(filename):\n",
    "    data = pd.read_csv(filename, index_col=0)\n",
    "    print(f'読み込み完了 {filename}')\n",
    "    train = data[:20758].reset_index(drop=True)\n",
    "    test = data[20758:].reset_index(drop=True).drop(target_col, axis=1) # 目的変数を指定する\n",
    "    # 目的変数と説明変数に分割\n",
    "    X = train.drop([target_col], axis=1) # 目的変数を指定する\n",
    "    y = train[target_col].values # 目的変数を指定する\n",
    "\n",
    "    return data,test,train,X,y"
   ]
  },
  {
   "cell_type": "code",
   "execution_count": 21,
   "id": "852ad430",
   "metadata": {
    "execution": {
     "iopub.execute_input": "2024-02-04T01:30:59.012306Z",
     "iopub.status.busy": "2024-02-04T01:30:59.011891Z",
     "iopub.status.idle": "2024-02-04T01:30:59.107663Z",
     "shell.execute_reply": "2024-02-04T01:30:59.106010Z"
    },
    "id": "DRZhqQjJnfme",
    "outputId": "9cf6043d-315f-4fb6-908b-a67297884126",
    "papermill": {
     "duration": 0.11499,
     "end_time": "2024-02-04T01:30:59.110295",
     "exception": false,
     "start_time": "2024-02-04T01:30:58.995305",
     "status": "completed"
    },
    "tags": []
   },
   "outputs": [
    {
     "name": "stdout",
     "output_type": "stream",
     "text": [
      "読み込み完了 /kaggle/working/data.csv\n"
     ]
    }
   ],
   "source": [
    "filename = 'data.csv'\n",
    "data,test,train,X,y = file_to_xy(OUTPUT_DIR + filename)"
   ]
  },
  {
   "cell_type": "code",
   "execution_count": 22,
   "id": "a4a00c6d",
   "metadata": {
    "execution": {
     "iopub.execute_input": "2024-02-04T01:30:59.142917Z",
     "iopub.status.busy": "2024-02-04T01:30:59.142458Z",
     "iopub.status.idle": "2024-02-04T01:30:59.159811Z",
     "shell.execute_reply": "2024-02-04T01:30:59.158934Z"
    },
    "papermill": {
     "duration": 0.036787,
     "end_time": "2024-02-04T01:30:59.162217",
     "exception": false,
     "start_time": "2024-02-04T01:30:59.125430",
     "status": "completed"
    },
    "tags": []
   },
   "outputs": [
    {
     "data": {
      "text/html": [
       "<div>\n",
       "<style scoped>\n",
       "    .dataframe tbody tr th:only-of-type {\n",
       "        vertical-align: middle;\n",
       "    }\n",
       "\n",
       "    .dataframe tbody tr th {\n",
       "        vertical-align: top;\n",
       "    }\n",
       "\n",
       "    .dataframe thead th {\n",
       "        text-align: right;\n",
       "    }\n",
       "</style>\n",
       "<table border=\"1\" class=\"dataframe\">\n",
       "  <thead>\n",
       "    <tr style=\"text-align: right;\">\n",
       "      <th></th>\n",
       "      <th>Gender</th>\n",
       "      <th>Age</th>\n",
       "      <th>Height</th>\n",
       "      <th>Weight</th>\n",
       "      <th>family_history_with_overweight</th>\n",
       "      <th>FAVC</th>\n",
       "      <th>FCVC</th>\n",
       "      <th>NCP</th>\n",
       "      <th>CAEC</th>\n",
       "      <th>SMOKE</th>\n",
       "      <th>CH2O</th>\n",
       "      <th>SCC</th>\n",
       "      <th>FAF</th>\n",
       "      <th>TUE</th>\n",
       "      <th>CALC</th>\n",
       "      <th>MTRANS</th>\n",
       "      <th>NObeyesdad</th>\n",
       "    </tr>\n",
       "    <tr>\n",
       "      <th>index</th>\n",
       "      <th></th>\n",
       "      <th></th>\n",
       "      <th></th>\n",
       "      <th></th>\n",
       "      <th></th>\n",
       "      <th></th>\n",
       "      <th></th>\n",
       "      <th></th>\n",
       "      <th></th>\n",
       "      <th></th>\n",
       "      <th></th>\n",
       "      <th></th>\n",
       "      <th></th>\n",
       "      <th></th>\n",
       "      <th></th>\n",
       "      <th></th>\n",
       "      <th></th>\n",
       "    </tr>\n",
       "  </thead>\n",
       "  <tbody>\n",
       "    <tr>\n",
       "      <th>0</th>\n",
       "      <td>1</td>\n",
       "      <td>1095</td>\n",
       "      <td>933</td>\n",
       "      <td>1839</td>\n",
       "      <td>1</td>\n",
       "      <td>1</td>\n",
       "      <td>265</td>\n",
       "      <td>589</td>\n",
       "      <td>2</td>\n",
       "      <td>0</td>\n",
       "      <td>1491</td>\n",
       "      <td>0</td>\n",
       "      <td>0</td>\n",
       "      <td>1053</td>\n",
       "      <td>2</td>\n",
       "      <td>3</td>\n",
       "      <td>6.00000</td>\n",
       "    </tr>\n",
       "    <tr>\n",
       "      <th>1</th>\n",
       "      <td>0</td>\n",
       "      <td>108</td>\n",
       "      <td>128</td>\n",
       "      <td>1376</td>\n",
       "      <td>1</td>\n",
       "      <td>1</td>\n",
       "      <td>265</td>\n",
       "      <td>624</td>\n",
       "      <td>1</td>\n",
       "      <td>0</td>\n",
       "      <td>756</td>\n",
       "      <td>0</td>\n",
       "      <td>751</td>\n",
       "      <td>1068</td>\n",
       "      <td>3</td>\n",
       "      <td>0</td>\n",
       "      <td>1.00000</td>\n",
       "    </tr>\n",
       "    <tr>\n",
       "      <th>11112</th>\n",
       "      <td>0</td>\n",
       "      <td>108</td>\n",
       "      <td>1040</td>\n",
       "      <td>1253</td>\n",
       "      <td>1</td>\n",
       "      <td>1</td>\n",
       "      <td>206</td>\n",
       "      <td>127</td>\n",
       "      <td>2</td>\n",
       "      <td>0</td>\n",
       "      <td>659</td>\n",
       "      <td>0</td>\n",
       "      <td>587</td>\n",
       "      <td>1322</td>\n",
       "      <td>3</td>\n",
       "      <td>3</td>\n",
       "      <td>0.00000</td>\n",
       "    </tr>\n",
       "    <tr>\n",
       "      <th>12981</th>\n",
       "      <td>0</td>\n",
       "      <td>522</td>\n",
       "      <td>1035</td>\n",
       "      <td>936</td>\n",
       "      <td>1</td>\n",
       "      <td>1</td>\n",
       "      <td>1053</td>\n",
       "      <td>624</td>\n",
       "      <td>2</td>\n",
       "      <td>0</td>\n",
       "      <td>464</td>\n",
       "      <td>0</td>\n",
       "      <td>1040</td>\n",
       "      <td>806</td>\n",
       "      <td>2</td>\n",
       "      <td>3</td>\n",
       "      <td>4.00000</td>\n",
       "    </tr>\n",
       "    <tr>\n",
       "      <th>14092</th>\n",
       "      <td>1</td>\n",
       "      <td>1605</td>\n",
       "      <td>2050</td>\n",
       "      <td>2205</td>\n",
       "      <td>1</td>\n",
       "      <td>1</td>\n",
       "      <td>735</td>\n",
       "      <td>252</td>\n",
       "      <td>2</td>\n",
       "      <td>0</td>\n",
       "      <td>727</td>\n",
       "      <td>0</td>\n",
       "      <td>1330</td>\n",
       "      <td>995</td>\n",
       "      <td>2</td>\n",
       "      <td>3</td>\n",
       "      <td>6.00000</td>\n",
       "    </tr>\n",
       "  </tbody>\n",
       "</table>\n",
       "</div>"
      ],
      "text/plain": [
       "       Gender   Age  Height  Weight  family_history_with_overweight  FAVC  \\\n",
       "index                                                                       \n",
       "0           1  1095     933    1839                               1     1   \n",
       "1           0   108     128    1376                               1     1   \n",
       "11112       0   108    1040    1253                               1     1   \n",
       "12981       0   522    1035     936                               1     1   \n",
       "14092       1  1605    2050    2205                               1     1   \n",
       "\n",
       "       FCVC  NCP  CAEC  SMOKE  CH2O  SCC   FAF   TUE  CALC  MTRANS  NObeyesdad  \n",
       "index                                                                           \n",
       "0       265  589     2      0  1491    0     0  1053     2       3     6.00000  \n",
       "1       265  624     1      0   756    0   751  1068     3       0     1.00000  \n",
       "11112   206  127     2      0   659    0   587  1322     3       3     0.00000  \n",
       "12981  1053  624     2      0   464    0  1040   806     2       3     4.00000  \n",
       "14092   735  252     2      0   727    0  1330   995     2       3     6.00000  "
      ]
     },
     "execution_count": 22,
     "metadata": {},
     "output_type": "execute_result"
    }
   ],
   "source": [
    "data.head()"
   ]
  },
  {
   "cell_type": "code",
   "execution_count": null,
   "id": "0d825257",
   "metadata": {
    "papermill": {
     "duration": 0.017362,
     "end_time": "2024-02-04T01:30:59.195197",
     "exception": false,
     "start_time": "2024-02-04T01:30:59.177835",
     "status": "completed"
    },
    "tags": []
   },
   "outputs": [],
   "source": []
  }
 ],
 "metadata": {
  "colab": {
   "provenance": []
  },
  "kaggle": {
   "accelerator": "none",
   "dataSources": [
    {
     "databundleVersionId": 7609535,
     "sourceId": 68479,
     "sourceType": "competition"
    }
   ],
   "dockerImageVersionId": 30646,
   "isGpuEnabled": false,
   "isInternetEnabled": true,
   "language": "python",
   "sourceType": "notebook"
  },
  "kernelspec": {
   "display_name": "Python 3",
   "language": "python",
   "name": "python3"
  },
  "language_info": {
   "codemirror_mode": {
    "name": "ipython",
    "version": 3
   },
   "file_extension": ".py",
   "mimetype": "text/x-python",
   "name": "python",
   "nbconvert_exporter": "python",
   "pygments_lexer": "ipython3",
   "version": "3.10.13"
  },
  "papermill": {
   "default_parameters": {},
   "duration": 14.337769,
   "end_time": "2024-02-04T01:30:59.996570",
   "environment_variables": {},
   "exception": null,
   "input_path": "__notebook__.ipynb",
   "output_path": "__notebook__.ipynb",
   "parameters": {},
   "start_time": "2024-02-04T01:30:45.658801",
   "version": "2.4.0"
  }
 },
 "nbformat": 4,
 "nbformat_minor": 5
}

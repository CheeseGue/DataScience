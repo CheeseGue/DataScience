{
 "cells": [
  {
   "cell_type": "markdown",
   "id": "6beafd0c",
   "metadata": {
    "id": "9jJ7f1atJ0qO",
    "papermill": {
     "duration": 0.010802,
     "end_time": "2024-02-01T01:41:43.796779",
     "exception": false,
     "start_time": "2024-02-01T01:41:43.785977",
     "status": "completed"
    },
    "tags": []
   },
   "source": [
    "# **肥満リスクの多クラス予測**\n",
    "(Multi-Class Prediction of Obesity Risk)"
   ]
  },
  {
   "cell_type": "markdown",
   "id": "d70463ae",
   "metadata": {
    "id": "dRrM5BeJkgj-",
    "papermill": {
     "duration": 0.010175,
     "end_time": "2024-02-01T01:41:43.817894",
     "exception": false,
     "start_time": "2024-02-01T01:41:43.807719",
     "status": "completed"
    },
    "tags": []
   },
   "source": [
    "# 参考資料\n",
    "**書籍**\n",
    "\n",
    "\n",
    "**Kaggle**\n",
    "\n",
    "\n",
    "**自分で作成したファイル**\n",
    "- 銀行解約データセットを使用した二項分類\n",
    "- Home_Credit_Default_Risk\n",
    "- 肝硬変の転帰の多クラス予測\n",
    "- 馬の健康への影響を予測する\n",
    "- ルワンダにおける CO2 排出量を予測する\n",
    "\n",
    "**その他**\n"
   ]
  },
  {
   "cell_type": "markdown",
   "id": "166a63a5",
   "metadata": {
    "id": "MV1ptyJ5kn2E",
    "papermill": {
     "duration": 0.010133,
     "end_time": "2024-02-01T01:41:43.838267",
     "exception": false,
     "start_time": "2024-02-01T01:41:43.828134",
     "status": "completed"
    },
    "tags": []
   },
   "source": [
    "## ライブラリ・データセットのインポート"
   ]
  },
  {
   "cell_type": "code",
   "execution_count": 1,
   "id": "24e1b55f",
   "metadata": {
    "execution": {
     "iopub.execute_input": "2024-02-01T01:41:43.865013Z",
     "iopub.status.busy": "2024-02-01T01:41:43.864240Z",
     "iopub.status.idle": "2024-02-01T01:41:44.672328Z",
     "shell.execute_reply": "2024-02-01T01:41:44.671327Z"
    },
    "id": "cXwErGKbkUpb",
    "papermill": {
     "duration": 0.822896,
     "end_time": "2024-02-01T01:41:44.675133",
     "exception": false,
     "start_time": "2024-02-01T01:41:43.852237",
     "status": "completed"
    },
    "tags": []
   },
   "outputs": [],
   "source": [
    "import numpy as np\n",
    "import pandas as pd\n",
    "\n",
    "import warnings\n",
    "warnings.filterwarnings('ignore')\n",
    "\n",
    "pd.options.display.float_format = '{:.5f}'.format\n",
    "pd.set_option('display.max_columns', None)\n",
    "pd.set_option('display.max_rows', None)"
   ]
  },
  {
   "cell_type": "code",
   "execution_count": 2,
   "id": "6e517267",
   "metadata": {
    "execution": {
     "iopub.execute_input": "2024-02-01T01:41:44.699655Z",
     "iopub.status.busy": "2024-02-01T01:41:44.699136Z",
     "iopub.status.idle": "2024-02-01T01:41:47.362880Z",
     "shell.execute_reply": "2024-02-01T01:41:47.361922Z"
    },
    "id": "y2vH8YMCko3q",
    "papermill": {
     "duration": 2.679108,
     "end_time": "2024-02-01T01:41:47.365674",
     "exception": false,
     "start_time": "2024-02-01T01:41:44.686566",
     "status": "completed"
    },
    "tags": []
   },
   "outputs": [],
   "source": [
    "from sklearn.preprocessing import LabelEncoder, MinMaxScaler\n",
    "from lightgbm import LGBMClassifier # 特徴量の重要度評価で用いる"
   ]
  },
  {
   "cell_type": "markdown",
   "id": "0db92626",
   "metadata": {
    "id": "xAub7rgGk35P",
    "papermill": {
     "duration": 0.010185,
     "end_time": "2024-02-01T01:41:47.386356",
     "exception": false,
     "start_time": "2024-02-01T01:41:47.376171",
     "status": "completed"
    },
    "tags": []
   },
   "source": [
    "## 実行時間を調べるために使う"
   ]
  },
  {
   "cell_type": "code",
   "execution_count": 3,
   "id": "347a22a8",
   "metadata": {
    "execution": {
     "iopub.execute_input": "2024-02-01T01:41:47.411773Z",
     "iopub.status.busy": "2024-02-01T01:41:47.410874Z",
     "iopub.status.idle": "2024-02-01T01:41:47.418596Z",
     "shell.execute_reply": "2024-02-01T01:41:47.417747Z"
    },
    "id": "_hGkGqJtk6M-",
    "papermill": {
     "duration": 0.024046,
     "end_time": "2024-02-01T01:41:47.420728",
     "exception": false,
     "start_time": "2024-02-01T01:41:47.396682",
     "status": "completed"
    },
    "tags": []
   },
   "outputs": [],
   "source": [
    "import datetime\n",
    "import time\n",
    "import math\n",
    "\n",
    "start_time = time.time()\n",
    "\n",
    "def changeHMS(s):\n",
    "    h = math.floor(s / 3600)\n",
    "    if h > 0:\n",
    "        s = s - h * 3600\n",
    "        indi_h = str(h) + 'h'\n",
    "    else:\n",
    "        indi_h = ''\n",
    "    m = math.floor(s / 60)\n",
    "    if m > 0:\n",
    "        indi_m = str(m) + 'm'\n",
    "    else:\n",
    "        indi_m = ''\n",
    "    s = math.floor(s % 60)\n",
    "    time = indi_h + indi_m + str(s) + 's'\n",
    "    return time"
   ]
  },
  {
   "cell_type": "code",
   "execution_count": 4,
   "id": "4a100447",
   "metadata": {
    "execution": {
     "iopub.execute_input": "2024-02-01T01:41:47.443918Z",
     "iopub.status.busy": "2024-02-01T01:41:47.443272Z",
     "iopub.status.idle": "2024-02-01T01:41:47.654593Z",
     "shell.execute_reply": "2024-02-01T01:41:47.653730Z"
    },
    "id": "4EzyBOiPkph8",
    "papermill": {
     "duration": 0.225911,
     "end_time": "2024-02-01T01:41:47.657197",
     "exception": false,
     "start_time": "2024-02-01T01:41:47.431286",
     "status": "completed"
    },
    "tags": []
   },
   "outputs": [],
   "source": [
    "FILE_PATH = '/kaggle/input/playground-series-s4e2/'\n",
    "OUTPUT_DIR = '/kaggle/working/'\n",
    "\n",
    "train = pd.read_csv(FILE_PATH + 'train.csv')\n",
    "test = pd.read_csv(FILE_PATH + 'test.csv')\n",
    "\n",
    "train_id = train['id']\n",
    "train.drop('id', axis=1, inplace=True)\n",
    "\n",
    "test_id = test['id']\n",
    "test.drop('id', axis=1, inplace=True)\n",
    "\n",
    "target = train['NObeyesdad']\n",
    "target_col = 'NObeyesdad'\n",
    "\n",
    "target_name = str(train.iloc[:, [-1]].columns.tolist()) # カラム数-2の値が目的変数\n",
    "\n",
    "df = pd.concat([train, test], axis=0)\n",
    "df.reset_index(inplace=True)\n",
    "\n",
    "# 説明変数をデータ型ごとに代入する\n",
    "numerical_features = df._get_numeric_data().columns\n",
    "categorical_features = df.drop(numerical_features, axis=1).columns"
   ]
  },
  {
   "cell_type": "markdown",
   "id": "576b3596",
   "metadata": {
    "id": "O1qWEpEsmIsU",
    "papermill": {
     "duration": 0.010277,
     "end_time": "2024-02-01T01:41:47.678140",
     "exception": false,
     "start_time": "2024-02-01T01:41:47.667863",
     "status": "completed"
    },
    "tags": []
   },
   "source": [
    "## 前処理"
   ]
  },
  {
   "cell_type": "markdown",
   "id": "6b6b21cf",
   "metadata": {
    "id": "Geqin6VhmJw9",
    "papermill": {
     "duration": 0.010319,
     "end_time": "2024-02-01T01:41:47.699081",
     "exception": false,
     "start_time": "2024-02-01T01:41:47.688762",
     "status": "completed"
    },
    "tags": []
   },
   "source": [
    "### 欠損値の補完"
   ]
  },
  {
   "cell_type": "code",
   "execution_count": 5,
   "id": "18fc4d01",
   "metadata": {
    "execution": {
     "iopub.execute_input": "2024-02-01T01:41:47.722069Z",
     "iopub.status.busy": "2024-02-01T01:41:47.721651Z",
     "iopub.status.idle": "2024-02-01T01:41:47.726082Z",
     "shell.execute_reply": "2024-02-01T01:41:47.725253Z"
    },
    "id": "pc9ukAPLmKkl",
    "papermill": {
     "duration": 0.018496,
     "end_time": "2024-02-01T01:41:47.728124",
     "exception": false,
     "start_time": "2024-02-01T01:41:47.709628",
     "status": "completed"
    },
    "tags": []
   },
   "outputs": [],
   "source": [
    "def missing_values(df):\n",
    "\n",
    "    return df"
   ]
  },
  {
   "cell_type": "markdown",
   "id": "834a86ab",
   "metadata": {
    "id": "2ZLsziVQmM_s",
    "papermill": {
     "duration": 0.010363,
     "end_time": "2024-02-01T01:41:47.749217",
     "exception": false,
     "start_time": "2024-02-01T01:41:47.738854",
     "status": "completed"
    },
    "tags": []
   },
   "source": [
    "### 外れ値の修正"
   ]
  },
  {
   "cell_type": "code",
   "execution_count": 6,
   "id": "bf503b0b",
   "metadata": {
    "execution": {
     "iopub.execute_input": "2024-02-01T01:41:47.773276Z",
     "iopub.status.busy": "2024-02-01T01:41:47.772276Z",
     "iopub.status.idle": "2024-02-01T01:41:47.777230Z",
     "shell.execute_reply": "2024-02-01T01:41:47.776236Z"
    },
    "id": "D9RIXWdJmOBI",
    "papermill": {
     "duration": 0.019304,
     "end_time": "2024-02-01T01:41:47.779612",
     "exception": false,
     "start_time": "2024-02-01T01:41:47.760308",
     "status": "completed"
    },
    "tags": []
   },
   "outputs": [],
   "source": [
    "def outlier(df):\n",
    "\n",
    "    return df"
   ]
  },
  {
   "cell_type": "markdown",
   "id": "96f1845e",
   "metadata": {
    "id": "L0T_RQ97XYoT",
    "papermill": {
     "duration": 0.010682,
     "end_time": "2024-02-01T01:41:47.801051",
     "exception": false,
     "start_time": "2024-02-01T01:41:47.790369",
     "status": "completed"
    },
    "tags": []
   },
   "source": [
    "### スケーリング（標準化）"
   ]
  },
  {
   "cell_type": "markdown",
   "id": "16ce2c28",
   "metadata": {
    "id": "fH7xUj12XcGU",
    "papermill": {
     "duration": 0.010451,
     "end_time": "2024-02-01T01:41:47.822706",
     "exception": false,
     "start_time": "2024-02-01T01:41:47.812255",
     "status": "completed"
    },
    "tags": []
   },
   "source": [
    "- MinMaxScaler(正規化)"
   ]
  },
  {
   "cell_type": "code",
   "execution_count": 7,
   "id": "39c1acb1",
   "metadata": {
    "execution": {
     "iopub.execute_input": "2024-02-01T01:41:47.846537Z",
     "iopub.status.busy": "2024-02-01T01:41:47.845890Z",
     "iopub.status.idle": "2024-02-01T01:41:47.850750Z",
     "shell.execute_reply": "2024-02-01T01:41:47.849987Z"
    },
    "id": "H2MehtAxXd61",
    "papermill": {
     "duration": 0.019329,
     "end_time": "2024-02-01T01:41:47.852850",
     "exception": false,
     "start_time": "2024-02-01T01:41:47.833521",
     "status": "completed"
    },
    "tags": []
   },
   "outputs": [],
   "source": [
    "def scaling_MinMaxScaler(df, scale_cols):\n",
    "    df_scale = df[scale_cols]\n",
    "    sc = MinMaxScaler()\n",
    "    df[scale_cols] = pd.DataFrame(sc.fit_transform(df_scale), columns = df_scale.columns)\n",
    "\n",
    "    return df"
   ]
  },
  {
   "cell_type": "markdown",
   "id": "53fdfbdf",
   "metadata": {
    "id": "evWEXqCTliXu",
    "papermill": {
     "duration": 0.010726,
     "end_time": "2024-02-01T01:41:47.874286",
     "exception": false,
     "start_time": "2024-02-01T01:41:47.863560",
     "status": "completed"
    },
    "tags": []
   },
   "source": [
    "## 特徴量エンジニアリング"
   ]
  },
  {
   "cell_type": "markdown",
   "id": "d86e0b64",
   "metadata": {
    "id": "ehRLTpCDlj_m",
    "papermill": {
     "duration": 0.010463,
     "end_time": "2024-02-01T01:41:47.895476",
     "exception": false,
     "start_time": "2024-02-01T01:41:47.885013",
     "status": "completed"
    },
    "tags": []
   },
   "source": [
    "### 特徴量の作成"
   ]
  },
  {
   "cell_type": "code",
   "execution_count": 8,
   "id": "993175d7",
   "metadata": {
    "execution": {
     "iopub.execute_input": "2024-02-01T01:41:47.919353Z",
     "iopub.status.busy": "2024-02-01T01:41:47.918648Z",
     "iopub.status.idle": "2024-02-01T01:41:47.922722Z",
     "shell.execute_reply": "2024-02-01T01:41:47.921962Z"
    },
    "id": "SJd05F70kskT",
    "papermill": {
     "duration": 0.018602,
     "end_time": "2024-02-01T01:41:47.924932",
     "exception": false,
     "start_time": "2024-02-01T01:41:47.906330",
     "status": "completed"
    },
    "tags": []
   },
   "outputs": [],
   "source": [
    "def create_new_features(df):\n",
    "    \n",
    "    return df"
   ]
  },
  {
   "cell_type": "markdown",
   "id": "a4b64108",
   "metadata": {
    "papermill": {
     "duration": 0.0112,
     "end_time": "2024-02-01T01:41:47.947476",
     "exception": false,
     "start_time": "2024-02-01T01:41:47.936276",
     "status": "completed"
    },
    "tags": []
   },
   "source": [
    "#### ビンニング"
   ]
  },
  {
   "cell_type": "code",
   "execution_count": 9,
   "id": "b98ed5ad",
   "metadata": {
    "execution": {
     "iopub.execute_input": "2024-02-01T01:41:47.971569Z",
     "iopub.status.busy": "2024-02-01T01:41:47.970901Z",
     "iopub.status.idle": "2024-02-01T01:41:47.975170Z",
     "shell.execute_reply": "2024-02-01T01:41:47.974187Z"
    },
    "papermill": {
     "duration": 0.019072,
     "end_time": "2024-02-01T01:41:47.977548",
     "exception": false,
     "start_time": "2024-02-01T01:41:47.958476",
     "status": "completed"
    },
    "tags": []
   },
   "outputs": [],
   "source": [
    "def binning(df):\n",
    "    \n",
    "    return df"
   ]
  },
  {
   "cell_type": "markdown",
   "id": "9adcd930",
   "metadata": {
    "id": "eWE-oFe4loLR",
    "papermill": {
     "duration": 0.010684,
     "end_time": "2024-02-01T01:41:47.999459",
     "exception": false,
     "start_time": "2024-02-01T01:41:47.988775",
     "status": "completed"
    },
    "tags": []
   },
   "source": [
    "### カテゴリ変数のエンコーディング"
   ]
  },
  {
   "cell_type": "markdown",
   "id": "a4a5b60d",
   "metadata": {
    "id": "xoRllpoVJi0M",
    "papermill": {
     "duration": 0.010671,
     "end_time": "2024-02-01T01:41:48.021191",
     "exception": false,
     "start_time": "2024-02-01T01:41:48.010520",
     "status": "completed"
    },
    "tags": []
   },
   "source": [
    "* One-HotEncoding"
   ]
  },
  {
   "cell_type": "code",
   "execution_count": 10,
   "id": "6d745afb",
   "metadata": {
    "execution": {
     "iopub.execute_input": "2024-02-01T01:41:48.044837Z",
     "iopub.status.busy": "2024-02-01T01:41:48.044422Z",
     "iopub.status.idle": "2024-02-01T01:41:48.049301Z",
     "shell.execute_reply": "2024-02-01T01:41:48.048192Z"
    },
    "id": "r4FeWb-aJi0N",
    "papermill": {
     "duration": 0.019703,
     "end_time": "2024-02-01T01:41:48.051752",
     "exception": false,
     "start_time": "2024-02-01T01:41:48.032049",
     "status": "completed"
    },
    "tags": []
   },
   "outputs": [],
   "source": [
    "def one_hot_encoding(df, cat_cols):\n",
    "    df = pd.get_dummies(df, columns=cat_cols)\n",
    "\n",
    "    return df"
   ]
  },
  {
   "cell_type": "markdown",
   "id": "f4591789",
   "metadata": {
    "id": "sKHw_ipAlpUy",
    "papermill": {
     "duration": 0.010636,
     "end_time": "2024-02-01T01:41:48.073556",
     "exception": false,
     "start_time": "2024-02-01T01:41:48.062920",
     "status": "completed"
    },
    "tags": []
   },
   "source": [
    "- LabelEncoding"
   ]
  },
  {
   "cell_type": "code",
   "execution_count": 11,
   "id": "14508a43",
   "metadata": {
    "execution": {
     "iopub.execute_input": "2024-02-01T01:41:48.097143Z",
     "iopub.status.busy": "2024-02-01T01:41:48.096739Z",
     "iopub.status.idle": "2024-02-01T01:41:48.103015Z",
     "shell.execute_reply": "2024-02-01T01:41:48.101879Z"
    },
    "id": "uBNUcljZlmV5",
    "papermill": {
     "duration": 0.020847,
     "end_time": "2024-02-01T01:41:48.105235",
     "exception": false,
     "start_time": "2024-02-01T01:41:48.084388",
     "status": "completed"
    },
    "tags": []
   },
   "outputs": [],
   "source": [
    "def label_encoder(df):\n",
    "    categorical_columns = df.select_dtypes(include=['object']).columns\n",
    "\n",
    "    for column in categorical_columns:\n",
    "        df[column] = df[column].fillna('').astype('str') # 欠損値の補完をする\n",
    "        le = LabelEncoder()\n",
    "        df[column] = le.fit_transform(df[column])\n",
    "\n",
    "    return df"
   ]
  },
  {
   "cell_type": "markdown",
   "id": "5990d07a",
   "metadata": {
    "papermill": {
     "duration": 0.010722,
     "end_time": "2024-02-01T01:41:48.126953",
     "exception": false,
     "start_time": "2024-02-01T01:41:48.116231",
     "status": "completed"
    },
    "tags": []
   },
   "source": [
    "- pd.get_dummies"
   ]
  },
  {
   "cell_type": "code",
   "execution_count": 12,
   "id": "f34aca77",
   "metadata": {
    "execution": {
     "iopub.execute_input": "2024-02-01T01:41:48.150868Z",
     "iopub.status.busy": "2024-02-01T01:41:48.150416Z",
     "iopub.status.idle": "2024-02-01T01:41:48.155866Z",
     "shell.execute_reply": "2024-02-01T01:41:48.154765Z"
    },
    "papermill": {
     "duration": 0.020113,
     "end_time": "2024-02-01T01:41:48.158150",
     "exception": false,
     "start_time": "2024-02-01T01:41:48.138037",
     "status": "completed"
    },
    "tags": []
   },
   "outputs": [],
   "source": [
    "def get_dummies(df, cat_cols):\n",
    "    df = pd.get_dummies(df, columns=cat_cols)\n",
    "    \n",
    "    return df"
   ]
  },
  {
   "cell_type": "markdown",
   "id": "9e47194d",
   "metadata": {
    "id": "OVz_DZCgltFl",
    "papermill": {
     "duration": 0.010833,
     "end_time": "2024-02-01T01:41:48.179962",
     "exception": false,
     "start_time": "2024-02-01T01:41:48.169129",
     "status": "completed"
    },
    "tags": []
   },
   "source": [
    "### 特徴量の選択"
   ]
  },
  {
   "cell_type": "markdown",
   "id": "b92001ee",
   "metadata": {
    "id": "T-uGFwI8luOC",
    "papermill": {
     "duration": 0.010704,
     "end_time": "2024-02-01T01:41:48.201855",
     "exception": false,
     "start_time": "2024-02-01T01:41:48.191151",
     "status": "completed"
    },
    "tags": []
   },
   "source": [
    "#### 特徴量の重要度評価"
   ]
  },
  {
   "cell_type": "code",
   "execution_count": 13,
   "id": "3262d1aa",
   "metadata": {
    "execution": {
     "iopub.execute_input": "2024-02-01T01:41:48.225603Z",
     "iopub.status.busy": "2024-02-01T01:41:48.225195Z",
     "iopub.status.idle": "2024-02-01T01:41:48.232743Z",
     "shell.execute_reply": "2024-02-01T01:41:48.231486Z"
    },
    "id": "IvbTfuG8lrYZ",
    "papermill": {
     "duration": 0.022264,
     "end_time": "2024-02-01T01:41:48.235228",
     "exception": false,
     "start_time": "2024-02-01T01:41:48.212964",
     "status": "completed"
    },
    "tags": []
   },
   "outputs": [],
   "source": [
    "def feature_importance_evaluation(df):\n",
    "    # 訓練データをX(説明変数)とy（目的変数）に分割する\n",
    "    X = df.select_dtypes(include=['float', 'int'])\n",
    "#     X = X.drop([target_col], axis=1) # 目的変数を指定する\n",
    "    y = target # 目的変数を指定する\n",
    "\n",
    "    \n",
    "\n",
    "    # 特徴量の重要度評価\n",
    "    clf = LGBMClassifier(\n",
    "        random_state=42,\n",
    "    )\n",
    "\n",
    "    clf.fit(X, y)\n",
    "    importance = clf.feature_importances_\n",
    "\n",
    "    feature_importance = pd.DataFrame(data=importance, index=X.columns, columns=['importance']) \\\n",
    "        .sort_values(ascending=True, by='importance')\n",
    "\n",
    "    return feature_importance"
   ]
  },
  {
   "cell_type": "markdown",
   "id": "ebc14a42",
   "metadata": {
    "id": "Uu58wE5hl4MK",
    "papermill": {
     "duration": 0.010872,
     "end_time": "2024-02-01T01:41:48.257389",
     "exception": false,
     "start_time": "2024-02-01T01:41:48.246517",
     "status": "completed"
    },
    "tags": []
   },
   "source": [
    "#### 特徴量の削除"
   ]
  },
  {
   "cell_type": "code",
   "execution_count": 14,
   "id": "98d187f0",
   "metadata": {
    "execution": {
     "iopub.execute_input": "2024-02-01T01:41:48.281394Z",
     "iopub.status.busy": "2024-02-01T01:41:48.281014Z",
     "iopub.status.idle": "2024-02-01T01:41:48.286318Z",
     "shell.execute_reply": "2024-02-01T01:41:48.285063Z"
    },
    "id": "LNqYHRC2l0fz",
    "papermill": {
     "duration": 0.020023,
     "end_time": "2024-02-01T01:41:48.288552",
     "exception": false,
     "start_time": "2024-02-01T01:41:48.268529",
     "status": "completed"
    },
    "tags": []
   },
   "outputs": [],
   "source": [
    "def drop_columns(df):\n",
    "    drop_list = [\n",
    "        \n",
    "    ]\n",
    "    dropped_df = df.drop(columns=drop_list)\n",
    "\n",
    "    return dropped_df"
   ]
  },
  {
   "cell_type": "markdown",
   "id": "9be40ed8",
   "metadata": {
    "id": "EzhMZ-IVmC04",
    "papermill": {
     "duration": 0.010953,
     "end_time": "2024-02-01T01:41:48.310885",
     "exception": false,
     "start_time": "2024-02-01T01:41:48.299932",
     "status": "completed"
    },
    "tags": []
   },
   "source": [
    "### データセットの更新"
   ]
  },
  {
   "cell_type": "code",
   "execution_count": 15,
   "id": "4b2b71b4",
   "metadata": {
    "execution": {
     "iopub.execute_input": "2024-02-01T01:41:48.335551Z",
     "iopub.status.busy": "2024-02-01T01:41:48.335166Z",
     "iopub.status.idle": "2024-02-01T01:41:48.545226Z",
     "shell.execute_reply": "2024-02-01T01:41:48.544175Z"
    },
    "id": "wtp9MwnUl_zY",
    "papermill": {
     "duration": 0.225721,
     "end_time": "2024-02-01T01:41:48.547832",
     "exception": false,
     "start_time": "2024-02-01T01:41:48.322111",
     "status": "completed"
    },
    "tags": []
   },
   "outputs": [],
   "source": [
    "# 前処理\n",
    "df = missing_values(df)\n",
    "df = outlier(df)\n",
    "\n",
    "scale_cols = []\n",
    "# df = scaling_MinMaxScaler(df, scale_cols) # 標準化したい時のみ実行する\n",
    "\n",
    "# 特徴量エンジニアリング\n",
    "df = create_new_features(df)\n",
    "df = binning(df)\n",
    "df = missing_values(df)\n",
    "df = drop_columns(df)\n",
    "\n",
    "ohe_cols = [] # One-Hot Encodingしたい水準数の少ないカラムを指定する\n",
    "dummies_cols = [] # pd.get_dummiesしたい水準数の少ないカラムを指定する\n",
    "df = one_hot_encoding(df, ohe_cols)\n",
    "df = get_dummies(df, dummies_cols)\n",
    "df = label_encoder(df)"
   ]
  },
  {
   "cell_type": "code",
   "execution_count": 16,
   "id": "788e25bc",
   "metadata": {
    "execution": {
     "iopub.execute_input": "2024-02-01T01:41:48.572489Z",
     "iopub.status.busy": "2024-02-01T01:41:48.572104Z",
     "iopub.status.idle": "2024-02-01T01:41:48.598338Z",
     "shell.execute_reply": "2024-02-01T01:41:48.597497Z"
    },
    "id": "DDUYrDzpmD2t",
    "outputId": "453062fd-b278-4ced-f7e2-f903a0067358",
    "papermill": {
     "duration": 0.041217,
     "end_time": "2024-02-01T01:41:48.600603",
     "exception": false,
     "start_time": "2024-02-01T01:41:48.559386",
     "status": "completed"
    },
    "tags": []
   },
   "outputs": [
    {
     "data": {
      "text/html": [
       "<div>\n",
       "<style scoped>\n",
       "    .dataframe tbody tr th:only-of-type {\n",
       "        vertical-align: middle;\n",
       "    }\n",
       "\n",
       "    .dataframe tbody tr th {\n",
       "        vertical-align: top;\n",
       "    }\n",
       "\n",
       "    .dataframe thead th {\n",
       "        text-align: right;\n",
       "    }\n",
       "</style>\n",
       "<table border=\"1\" class=\"dataframe\">\n",
       "  <thead>\n",
       "    <tr style=\"text-align: right;\">\n",
       "      <th></th>\n",
       "      <th>index</th>\n",
       "      <th>Gender</th>\n",
       "      <th>Age</th>\n",
       "      <th>Height</th>\n",
       "      <th>Weight</th>\n",
       "      <th>family_history_with_overweight</th>\n",
       "      <th>FAVC</th>\n",
       "      <th>FCVC</th>\n",
       "      <th>NCP</th>\n",
       "      <th>CAEC</th>\n",
       "      <th>SMOKE</th>\n",
       "      <th>CH2O</th>\n",
       "      <th>SCC</th>\n",
       "      <th>FAF</th>\n",
       "      <th>TUE</th>\n",
       "      <th>CALC</th>\n",
       "      <th>MTRANS</th>\n",
       "      <th>NObeyesdad</th>\n",
       "    </tr>\n",
       "  </thead>\n",
       "  <tbody>\n",
       "    <tr>\n",
       "      <th>0</th>\n",
       "      <td>0</td>\n",
       "      <td>1</td>\n",
       "      <td>24.44301</td>\n",
       "      <td>1.70000</td>\n",
       "      <td>81.66995</td>\n",
       "      <td>1</td>\n",
       "      <td>1</td>\n",
       "      <td>2.00000</td>\n",
       "      <td>2.98330</td>\n",
       "      <td>2</td>\n",
       "      <td>0</td>\n",
       "      <td>2.76357</td>\n",
       "      <td>0</td>\n",
       "      <td>0.00000</td>\n",
       "      <td>0.97647</td>\n",
       "      <td>2</td>\n",
       "      <td>3</td>\n",
       "      <td>7</td>\n",
       "    </tr>\n",
       "    <tr>\n",
       "      <th>1</th>\n",
       "      <td>1</td>\n",
       "      <td>0</td>\n",
       "      <td>18.00000</td>\n",
       "      <td>1.56000</td>\n",
       "      <td>57.00000</td>\n",
       "      <td>1</td>\n",
       "      <td>1</td>\n",
       "      <td>2.00000</td>\n",
       "      <td>3.00000</td>\n",
       "      <td>1</td>\n",
       "      <td>0</td>\n",
       "      <td>2.00000</td>\n",
       "      <td>0</td>\n",
       "      <td>1.00000</td>\n",
       "      <td>1.00000</td>\n",
       "      <td>3</td>\n",
       "      <td>0</td>\n",
       "      <td>2</td>\n",
       "    </tr>\n",
       "    <tr>\n",
       "      <th>2</th>\n",
       "      <td>2</td>\n",
       "      <td>0</td>\n",
       "      <td>18.00000</td>\n",
       "      <td>1.71146</td>\n",
       "      <td>50.16575</td>\n",
       "      <td>1</td>\n",
       "      <td>1</td>\n",
       "      <td>1.88053</td>\n",
       "      <td>1.41169</td>\n",
       "      <td>2</td>\n",
       "      <td>0</td>\n",
       "      <td>1.91038</td>\n",
       "      <td>0</td>\n",
       "      <td>0.86604</td>\n",
       "      <td>1.67358</td>\n",
       "      <td>3</td>\n",
       "      <td>3</td>\n",
       "      <td>1</td>\n",
       "    </tr>\n",
       "    <tr>\n",
       "      <th>3</th>\n",
       "      <td>3</td>\n",
       "      <td>0</td>\n",
       "      <td>20.95274</td>\n",
       "      <td>1.71073</td>\n",
       "      <td>131.27485</td>\n",
       "      <td>1</td>\n",
       "      <td>1</td>\n",
       "      <td>3.00000</td>\n",
       "      <td>3.00000</td>\n",
       "      <td>2</td>\n",
       "      <td>0</td>\n",
       "      <td>1.67406</td>\n",
       "      <td>0</td>\n",
       "      <td>1.46786</td>\n",
       "      <td>0.78020</td>\n",
       "      <td>2</td>\n",
       "      <td>3</td>\n",
       "      <td>5</td>\n",
       "    </tr>\n",
       "    <tr>\n",
       "      <th>4</th>\n",
       "      <td>4</td>\n",
       "      <td>1</td>\n",
       "      <td>31.64108</td>\n",
       "      <td>1.91419</td>\n",
       "      <td>93.79806</td>\n",
       "      <td>1</td>\n",
       "      <td>1</td>\n",
       "      <td>2.67966</td>\n",
       "      <td>1.97147</td>\n",
       "      <td>2</td>\n",
       "      <td>0</td>\n",
       "      <td>1.97985</td>\n",
       "      <td>0</td>\n",
       "      <td>1.96797</td>\n",
       "      <td>0.93172</td>\n",
       "      <td>2</td>\n",
       "      <td>3</td>\n",
       "      <td>7</td>\n",
       "    </tr>\n",
       "  </tbody>\n",
       "</table>\n",
       "</div>"
      ],
      "text/plain": [
       "   index  Gender      Age  Height    Weight  family_history_with_overweight  \\\n",
       "0      0       1 24.44301 1.70000  81.66995                               1   \n",
       "1      1       0 18.00000 1.56000  57.00000                               1   \n",
       "2      2       0 18.00000 1.71146  50.16575                               1   \n",
       "3      3       0 20.95274 1.71073 131.27485                               1   \n",
       "4      4       1 31.64108 1.91419  93.79806                               1   \n",
       "\n",
       "   FAVC    FCVC     NCP  CAEC  SMOKE    CH2O  SCC     FAF     TUE  CALC  \\\n",
       "0     1 2.00000 2.98330     2      0 2.76357    0 0.00000 0.97647     2   \n",
       "1     1 2.00000 3.00000     1      0 2.00000    0 1.00000 1.00000     3   \n",
       "2     1 1.88053 1.41169     2      0 1.91038    0 0.86604 1.67358     3   \n",
       "3     1 3.00000 3.00000     2      0 1.67406    0 1.46786 0.78020     2   \n",
       "4     1 2.67966 1.97147     2      0 1.97985    0 1.96797 0.93172     2   \n",
       "\n",
       "   MTRANS  NObeyesdad  \n",
       "0       3           7  \n",
       "1       0           2  \n",
       "2       3           1  \n",
       "3       3           5  \n",
       "4       3           7  "
      ]
     },
     "execution_count": 16,
     "metadata": {},
     "output_type": "execute_result"
    }
   ],
   "source": [
    "train = df[:20758]\n",
    "test = df[20758:]\n",
    "\n",
    "# train_x = train.drop(columns=[target_col])\n",
    "# train_y = target\n",
    "# test_x = test.drop(columns=[target_col])\n",
    "\n",
    "train_x = train\n",
    "train_y = target\n",
    "test_x = test\n",
    "\n",
    "X = train_x.values\n",
    "y = train_y.values\n",
    "# y = y.astype(int)\n",
    "\n",
    "df.head()"
   ]
  },
  {
   "cell_type": "code",
   "execution_count": 17,
   "id": "7b525148",
   "metadata": {
    "execution": {
     "iopub.execute_input": "2024-02-01T01:41:48.625995Z",
     "iopub.status.busy": "2024-02-01T01:41:48.625608Z",
     "iopub.status.idle": "2024-02-01T01:41:51.939079Z",
     "shell.execute_reply": "2024-02-01T01:41:51.938152Z"
    },
    "id": "yIlQ3t2-mxBU",
    "papermill": {
     "duration": 3.329035,
     "end_time": "2024-02-01T01:41:51.941628",
     "exception": false,
     "start_time": "2024-02-01T01:41:48.612593",
     "status": "completed"
    },
    "tags": []
   },
   "outputs": [
    {
     "name": "stdout",
     "output_type": "stream",
     "text": [
      "[LightGBM] [Info] Auto-choosing row-wise multi-threading, the overhead of testing was 0.006517 seconds.\n",
      "You can set `force_row_wise=true` to remove the overhead.\n",
      "And if memory is not enough, you can set `force_col_wise=true`.\n",
      "[LightGBM] [Info] Total Bins 2310\n",
      "[LightGBM] [Info] Number of data points in the train set: 20758, number of used features: 18\n",
      "[LightGBM] [Info] Start training from score -2.107483\n",
      "[LightGBM] [Info] Start training from score -1.907353\n",
      "[LightGBM] [Info] Start training from score -1.964779\n",
      "[LightGBM] [Info] Start training from score -1.854892\n",
      "[LightGBM] [Info] Start training from score -1.635203\n",
      "[LightGBM] [Info] Start training from score -2.146276\n",
      "[LightGBM] [Info] Start training from score -2.107879\n",
      "[LightGBM] [Warning] No further splits with positive gain, best gain: -inf\n",
      "[LightGBM] [Warning] No further splits with positive gain, best gain: -inf\n",
      "[LightGBM] [Warning] No further splits with positive gain, best gain: -inf\n",
      "[LightGBM] [Warning] No further splits with positive gain, best gain: -inf\n",
      "[LightGBM] [Warning] No further splits with positive gain, best gain: -inf\n",
      "[LightGBM] [Warning] No further splits with positive gain, best gain: -inf\n",
      "[LightGBM] [Warning] No further splits with positive gain, best gain: -inf\n",
      "[LightGBM] [Warning] No further splits with positive gain, best gain: -inf\n",
      "[LightGBM] [Warning] No further splits with positive gain, best gain: -inf\n",
      "[LightGBM] [Warning] No further splits with positive gain, best gain: -inf\n",
      "[LightGBM] [Warning] No further splits with positive gain, best gain: -inf\n",
      "[LightGBM] [Warning] No further splits with positive gain, best gain: -inf\n",
      "[LightGBM] [Warning] No further splits with positive gain, best gain: -inf\n",
      "[LightGBM] [Warning] No further splits with positive gain, best gain: -inf\n",
      "[LightGBM] [Warning] No further splits with positive gain, best gain: -inf\n",
      "[LightGBM] [Warning] No further splits with positive gain, best gain: -inf\n",
      "[LightGBM] [Warning] No further splits with positive gain, best gain: -inf\n",
      "[LightGBM] [Warning] No further splits with positive gain, best gain: -inf\n",
      "[LightGBM] [Warning] No further splits with positive gain, best gain: -inf\n",
      "[LightGBM] [Warning] No further splits with positive gain, best gain: -inf\n",
      "[LightGBM] [Warning] No further splits with positive gain, best gain: -inf\n",
      "[LightGBM] [Warning] No further splits with positive gain, best gain: -inf\n",
      "[LightGBM] [Warning] No further splits with positive gain, best gain: -inf\n",
      "[LightGBM] [Warning] No further splits with positive gain, best gain: -inf\n",
      "[LightGBM] [Warning] No further splits with positive gain, best gain: -inf\n",
      "[LightGBM] [Warning] No further splits with positive gain, best gain: -inf\n",
      "[LightGBM] [Warning] No further splits with positive gain, best gain: -inf\n",
      "[LightGBM] [Warning] No further splits with positive gain, best gain: -inf\n",
      "[LightGBM] [Warning] No further splits with positive gain, best gain: -inf\n",
      "[LightGBM] [Warning] No further splits with positive gain, best gain: -inf\n",
      "[LightGBM] [Warning] No further splits with positive gain, best gain: -inf\n",
      "[LightGBM] [Warning] No further splits with positive gain, best gain: -inf\n",
      "[LightGBM] [Warning] No further splits with positive gain, best gain: -inf\n",
      "[LightGBM] [Warning] No further splits with positive gain, best gain: -inf\n",
      "[LightGBM] [Warning] No further splits with positive gain, best gain: -inf\n",
      "[LightGBM] [Warning] No further splits with positive gain, best gain: -inf\n",
      "[LightGBM] [Warning] No further splits with positive gain, best gain: -inf\n",
      "[LightGBM] [Warning] No further splits with positive gain, best gain: -inf\n",
      "[LightGBM] [Warning] No further splits with positive gain, best gain: -inf\n",
      "[LightGBM] [Warning] No further splits with positive gain, best gain: -inf\n",
      "[LightGBM] [Warning] No further splits with positive gain, best gain: -inf\n",
      "[LightGBM] [Warning] No further splits with positive gain, best gain: -inf\n",
      "[LightGBM] [Warning] No further splits with positive gain, best gain: -inf\n",
      "[LightGBM] [Warning] No further splits with positive gain, best gain: -inf\n",
      "[LightGBM] [Warning] No further splits with positive gain, best gain: -inf\n",
      "[LightGBM] [Warning] No further splits with positive gain, best gain: -inf\n",
      "[LightGBM] [Warning] No further splits with positive gain, best gain: -inf\n",
      "[LightGBM] [Warning] No further splits with positive gain, best gain: -inf\n",
      "[LightGBM] [Warning] No further splits with positive gain, best gain: -inf\n",
      "[LightGBM] [Warning] No further splits with positive gain, best gain: -inf\n",
      "[LightGBM] [Warning] No further splits with positive gain, best gain: -inf\n",
      "[LightGBM] [Warning] No further splits with positive gain, best gain: -inf\n",
      "[LightGBM] [Warning] No further splits with positive gain, best gain: -inf\n",
      "[LightGBM] [Warning] No further splits with positive gain, best gain: -inf\n",
      "[LightGBM] [Warning] No further splits with positive gain, best gain: -inf\n",
      "[LightGBM] [Warning] No further splits with positive gain, best gain: -inf\n",
      "[LightGBM] [Warning] No further splits with positive gain, best gain: -inf\n",
      "[LightGBM] [Warning] No further splits with positive gain, best gain: -inf\n",
      "[LightGBM] [Warning] No further splits with positive gain, best gain: -inf\n",
      "[LightGBM] [Warning] No further splits with positive gain, best gain: -inf\n",
      "[LightGBM] [Warning] No further splits with positive gain, best gain: -inf\n",
      "[LightGBM] [Warning] No further splits with positive gain, best gain: -inf\n",
      "[LightGBM] [Warning] No further splits with positive gain, best gain: -inf\n",
      "[LightGBM] [Warning] No further splits with positive gain, best gain: -inf\n",
      "[LightGBM] [Warning] No further splits with positive gain, best gain: -inf\n",
      "[LightGBM] [Warning] No further splits with positive gain, best gain: -inf\n",
      "[LightGBM] [Warning] No further splits with positive gain, best gain: -inf\n",
      "[LightGBM] [Warning] No further splits with positive gain, best gain: -inf\n",
      "[LightGBM] [Warning] No further splits with positive gain, best gain: -inf\n",
      "[LightGBM] [Warning] No further splits with positive gain, best gain: -inf\n",
      "[LightGBM] [Warning] No further splits with positive gain, best gain: -inf\n",
      "[LightGBM] [Warning] No further splits with positive gain, best gain: -inf\n",
      "[LightGBM] [Warning] No further splits with positive gain, best gain: -inf\n",
      "[LightGBM] [Warning] No further splits with positive gain, best gain: -inf\n",
      "[LightGBM] [Warning] No further splits with positive gain, best gain: -inf\n",
      "[LightGBM] [Warning] No further splits with positive gain, best gain: -inf\n",
      "[LightGBM] [Warning] No further splits with positive gain, best gain: -inf\n",
      "[LightGBM] [Warning] No further splits with positive gain, best gain: -inf\n",
      "[LightGBM] [Warning] No further splits with positive gain, best gain: -inf\n",
      "[LightGBM] [Warning] No further splits with positive gain, best gain: -inf\n",
      "[LightGBM] [Warning] No further splits with positive gain, best gain: -inf\n",
      "[LightGBM] [Warning] No further splits with positive gain, best gain: -inf\n",
      "[LightGBM] [Warning] No further splits with positive gain, best gain: -inf\n",
      "[LightGBM] [Warning] No further splits with positive gain, best gain: -inf\n",
      "[LightGBM] [Warning] No further splits with positive gain, best gain: -inf\n",
      "[LightGBM] [Warning] No further splits with positive gain, best gain: -inf\n",
      "[LightGBM] [Warning] No further splits with positive gain, best gain: -inf\n",
      "[LightGBM] [Warning] No further splits with positive gain, best gain: -inf\n",
      "[LightGBM] [Warning] No further splits with positive gain, best gain: -inf\n",
      "[LightGBM] [Warning] No further splits with positive gain, best gain: -inf\n",
      "[LightGBM] [Warning] No further splits with positive gain, best gain: -inf\n",
      "[LightGBM] [Warning] No further splits with positive gain, best gain: -inf\n",
      "[LightGBM] [Warning] No further splits with positive gain, best gain: -inf\n",
      "[LightGBM] [Warning] No further splits with positive gain, best gain: -inf\n",
      "[LightGBM] [Warning] No further splits with positive gain, best gain: -inf\n",
      "[LightGBM] [Warning] No further splits with positive gain, best gain: -inf\n",
      "[LightGBM] [Warning] No further splits with positive gain, best gain: -inf\n",
      "[LightGBM] [Warning] No further splits with positive gain, best gain: -inf\n",
      "[LightGBM] [Warning] No further splits with positive gain, best gain: -inf\n",
      "[LightGBM] [Warning] No further splits with positive gain, best gain: -inf\n",
      "[LightGBM] [Warning] No further splits with positive gain, best gain: -inf\n",
      "[LightGBM] [Warning] No further splits with positive gain, best gain: -inf\n",
      "[LightGBM] [Warning] No further splits with positive gain, best gain: -inf\n",
      "[LightGBM] [Warning] No further splits with positive gain, best gain: -inf\n",
      "[LightGBM] [Warning] No further splits with positive gain, best gain: -inf\n",
      "[LightGBM] [Warning] No further splits with positive gain, best gain: -inf\n",
      "[LightGBM] [Warning] No further splits with positive gain, best gain: -inf\n",
      "[LightGBM] [Warning] No further splits with positive gain, best gain: -inf\n",
      "[LightGBM] [Warning] No further splits with positive gain, best gain: -inf\n",
      "[LightGBM] [Warning] No further splits with positive gain, best gain: -inf\n",
      "[LightGBM] [Warning] No further splits with positive gain, best gain: -inf\n",
      "[LightGBM] [Warning] No further splits with positive gain, best gain: -inf\n",
      "[LightGBM] [Warning] No further splits with positive gain, best gain: -inf\n",
      "[LightGBM] [Warning] No further splits with positive gain, best gain: -inf\n",
      "[LightGBM] [Warning] No further splits with positive gain, best gain: -inf\n",
      "[LightGBM] [Warning] No further splits with positive gain, best gain: -inf\n",
      "[LightGBM] [Warning] No further splits with positive gain, best gain: -inf\n",
      "[LightGBM] [Warning] No further splits with positive gain, best gain: -inf\n",
      "[LightGBM] [Warning] No further splits with positive gain, best gain: -inf\n",
      "[LightGBM] [Warning] No further splits with positive gain, best gain: -inf\n",
      "[LightGBM] [Warning] No further splits with positive gain, best gain: -inf\n",
      "[LightGBM] [Warning] No further splits with positive gain, best gain: -inf\n",
      "[LightGBM] [Warning] No further splits with positive gain, best gain: -inf\n",
      "[LightGBM] [Warning] No further splits with positive gain, best gain: -inf\n",
      "[LightGBM] [Warning] No further splits with positive gain, best gain: -inf\n",
      "[LightGBM] [Warning] No further splits with positive gain, best gain: -inf\n",
      "[LightGBM] [Warning] No further splits with positive gain, best gain: -inf\n",
      "[LightGBM] [Warning] No further splits with positive gain, best gain: -inf\n",
      "[LightGBM] [Warning] No further splits with positive gain, best gain: -inf\n",
      "[LightGBM] [Warning] No further splits with positive gain, best gain: -inf\n",
      "[LightGBM] [Warning] No further splits with positive gain, best gain: -inf\n",
      "[LightGBM] [Warning] No further splits with positive gain, best gain: -inf\n",
      "[LightGBM] [Warning] No further splits with positive gain, best gain: -inf\n",
      "[LightGBM] [Warning] No further splits with positive gain, best gain: -inf\n",
      "[LightGBM] [Warning] No further splits with positive gain, best gain: -inf\n",
      "[LightGBM] [Warning] No further splits with positive gain, best gain: -inf\n",
      "[LightGBM] [Warning] No further splits with positive gain, best gain: -inf\n",
      "[LightGBM] [Warning] No further splits with positive gain, best gain: -inf\n",
      "[LightGBM] [Warning] No further splits with positive gain, best gain: -inf\n",
      "[LightGBM] [Warning] No further splits with positive gain, best gain: -inf\n",
      "[LightGBM] [Warning] No further splits with positive gain, best gain: -inf\n",
      "[LightGBM] [Warning] No further splits with positive gain, best gain: -inf\n",
      "[LightGBM] [Warning] No further splits with positive gain, best gain: -inf\n",
      "[LightGBM] [Warning] No further splits with positive gain, best gain: -inf\n",
      "[LightGBM] [Warning] No further splits with positive gain, best gain: -inf\n",
      "[LightGBM] [Warning] No further splits with positive gain, best gain: -inf\n",
      "[LightGBM] [Warning] No further splits with positive gain, best gain: -inf\n",
      "[LightGBM] [Warning] No further splits with positive gain, best gain: -inf\n",
      "[LightGBM] [Warning] No further splits with positive gain, best gain: -inf\n",
      "[LightGBM] [Warning] No further splits with positive gain, best gain: -inf\n",
      "[LightGBM] [Warning] No further splits with positive gain, best gain: -inf\n",
      "[LightGBM] [Warning] No further splits with positive gain, best gain: -inf\n",
      "[LightGBM] [Warning] No further splits with positive gain, best gain: -inf\n",
      "[LightGBM] [Warning] No further splits with positive gain, best gain: -inf\n",
      "[LightGBM] [Warning] No further splits with positive gain, best gain: -inf\n",
      "[LightGBM] [Warning] No further splits with positive gain, best gain: -inf\n",
      "[LightGBM] [Warning] No further splits with positive gain, best gain: -inf\n",
      "[LightGBM] [Warning] No further splits with positive gain, best gain: -inf\n",
      "[LightGBM] [Warning] No further splits with positive gain, best gain: -inf\n",
      "[LightGBM] [Warning] No further splits with positive gain, best gain: -inf\n",
      "[LightGBM] [Warning] No further splits with positive gain, best gain: -inf\n",
      "[LightGBM] [Warning] No further splits with positive gain, best gain: -inf\n",
      "[LightGBM] [Warning] No further splits with positive gain, best gain: -inf\n",
      "[LightGBM] [Warning] No further splits with positive gain, best gain: -inf\n",
      "[LightGBM] [Warning] No further splits with positive gain, best gain: -inf\n",
      "[LightGBM] [Warning] No further splits with positive gain, best gain: -inf\n",
      "[LightGBM] [Warning] No further splits with positive gain, best gain: -inf\n",
      "[LightGBM] [Warning] No further splits with positive gain, best gain: -inf\n",
      "[LightGBM] [Warning] No further splits with positive gain, best gain: -inf\n",
      "[LightGBM] [Warning] No further splits with positive gain, best gain: -inf\n",
      "[LightGBM] [Warning] No further splits with positive gain, best gain: -inf\n",
      "[LightGBM] [Warning] No further splits with positive gain, best gain: -inf\n",
      "[LightGBM] [Warning] No further splits with positive gain, best gain: -inf\n",
      "[LightGBM] [Warning] No further splits with positive gain, best gain: -inf\n",
      "[LightGBM] [Warning] No further splits with positive gain, best gain: -inf\n",
      "[LightGBM] [Warning] No further splits with positive gain, best gain: -inf\n",
      "[LightGBM] [Warning] No further splits with positive gain, best gain: -inf\n",
      "[LightGBM] [Warning] No further splits with positive gain, best gain: -inf\n",
      "[LightGBM] [Warning] No further splits with positive gain, best gain: -inf\n",
      "[LightGBM] [Warning] No further splits with positive gain, best gain: -inf\n",
      "[LightGBM] [Warning] No further splits with positive gain, best gain: -inf\n",
      "[LightGBM] [Warning] No further splits with positive gain, best gain: -inf\n",
      "[LightGBM] [Warning] No further splits with positive gain, best gain: -inf\n",
      "[LightGBM] [Warning] No further splits with positive gain, best gain: -inf\n",
      "[LightGBM] [Warning] No further splits with positive gain, best gain: -inf\n",
      "[LightGBM] [Warning] No further splits with positive gain, best gain: -inf\n",
      "[LightGBM] [Warning] No further splits with positive gain, best gain: -inf\n",
      "[LightGBM] [Warning] No further splits with positive gain, best gain: -inf\n",
      "[LightGBM] [Warning] No further splits with positive gain, best gain: -inf\n",
      "[LightGBM] [Warning] No further splits with positive gain, best gain: -inf\n",
      "[LightGBM] [Warning] No further splits with positive gain, best gain: -inf\n",
      "[LightGBM] [Warning] No further splits with positive gain, best gain: -inf\n",
      "[LightGBM] [Warning] No further splits with positive gain, best gain: -inf\n",
      "[LightGBM] [Warning] No further splits with positive gain, best gain: -inf\n",
      "[LightGBM] [Warning] No further splits with positive gain, best gain: -inf\n",
      "[LightGBM] [Warning] No further splits with positive gain, best gain: -inf\n",
      "[LightGBM] [Warning] No further splits with positive gain, best gain: -inf\n",
      "[LightGBM] [Warning] No further splits with positive gain, best gain: -inf\n",
      "[LightGBM] [Warning] No further splits with positive gain, best gain: -inf\n",
      "[LightGBM] [Warning] No further splits with positive gain, best gain: -inf\n",
      "[LightGBM] [Warning] No further splits with positive gain, best gain: -inf\n",
      "[LightGBM] [Warning] No further splits with positive gain, best gain: -inf\n",
      "[LightGBM] [Warning] No further splits with positive gain, best gain: -inf\n",
      "[LightGBM] [Warning] No further splits with positive gain, best gain: -inf\n",
      "[LightGBM] [Warning] No further splits with positive gain, best gain: -inf\n",
      "[LightGBM] [Warning] No further splits with positive gain, best gain: -inf\n",
      "[LightGBM] [Warning] No further splits with positive gain, best gain: -inf\n",
      "[LightGBM] [Warning] No further splits with positive gain, best gain: -inf\n",
      "[LightGBM] [Warning] No further splits with positive gain, best gain: -inf\n",
      "[LightGBM] [Warning] No further splits with positive gain, best gain: -inf\n",
      "[LightGBM] [Warning] No further splits with positive gain, best gain: -inf\n",
      "[LightGBM] [Warning] No further splits with positive gain, best gain: -inf\n",
      "[LightGBM] [Warning] No further splits with positive gain, best gain: -inf\n",
      "[LightGBM] [Warning] No further splits with positive gain, best gain: -inf\n",
      "[LightGBM] [Warning] No further splits with positive gain, best gain: -inf\n",
      "[LightGBM] [Warning] No further splits with positive gain, best gain: -inf\n",
      "[LightGBM] [Warning] No further splits with positive gain, best gain: -inf\n",
      "[LightGBM] [Warning] No further splits with positive gain, best gain: -inf\n",
      "[LightGBM] [Warning] No further splits with positive gain, best gain: -inf\n",
      "[LightGBM] [Warning] No further splits with positive gain, best gain: -inf\n",
      "[LightGBM] [Warning] No further splits with positive gain, best gain: -inf\n",
      "[LightGBM] [Warning] No further splits with positive gain, best gain: -inf\n",
      "[LightGBM] [Warning] No further splits with positive gain, best gain: -inf\n",
      "[LightGBM] [Warning] No further splits with positive gain, best gain: -inf\n",
      "[LightGBM] [Warning] No further splits with positive gain, best gain: -inf\n"
     ]
    },
    {
     "data": {
      "text/html": [
       "<div>\n",
       "<style scoped>\n",
       "    .dataframe tbody tr th:only-of-type {\n",
       "        vertical-align: middle;\n",
       "    }\n",
       "\n",
       "    .dataframe tbody tr th {\n",
       "        vertical-align: top;\n",
       "    }\n",
       "\n",
       "    .dataframe thead th {\n",
       "        text-align: right;\n",
       "    }\n",
       "</style>\n",
       "<table border=\"1\" class=\"dataframe\">\n",
       "  <thead>\n",
       "    <tr style=\"text-align: right;\">\n",
       "      <th></th>\n",
       "      <th>importance</th>\n",
       "    </tr>\n",
       "  </thead>\n",
       "  <tbody>\n",
       "    <tr>\n",
       "      <th>SCC</th>\n",
       "      <td>0</td>\n",
       "    </tr>\n",
       "    <tr>\n",
       "      <th>FAVC</th>\n",
       "      <td>2</td>\n",
       "    </tr>\n",
       "    <tr>\n",
       "      <th>CAEC</th>\n",
       "      <td>2</td>\n",
       "    </tr>\n",
       "    <tr>\n",
       "      <th>MTRANS</th>\n",
       "      <td>9</td>\n",
       "    </tr>\n",
       "    <tr>\n",
       "      <th>family_history_with_overweight</th>\n",
       "      <td>21</td>\n",
       "    </tr>\n",
       "    <tr>\n",
       "      <th>CALC</th>\n",
       "      <td>22</td>\n",
       "    </tr>\n",
       "    <tr>\n",
       "      <th>SMOKE</th>\n",
       "      <td>36</td>\n",
       "    </tr>\n",
       "    <tr>\n",
       "      <th>FAF</th>\n",
       "      <td>232</td>\n",
       "    </tr>\n",
       "    <tr>\n",
       "      <th>Gender</th>\n",
       "      <td>314</td>\n",
       "    </tr>\n",
       "    <tr>\n",
       "      <th>TUE</th>\n",
       "      <td>617</td>\n",
       "    </tr>\n",
       "    <tr>\n",
       "      <th>CH2O</th>\n",
       "      <td>719</td>\n",
       "    </tr>\n",
       "    <tr>\n",
       "      <th>index</th>\n",
       "      <td>1164</td>\n",
       "    </tr>\n",
       "    <tr>\n",
       "      <th>Height</th>\n",
       "      <td>1244</td>\n",
       "    </tr>\n",
       "    <tr>\n",
       "      <th>FCVC</th>\n",
       "      <td>1330</td>\n",
       "    </tr>\n",
       "    <tr>\n",
       "      <th>NCP</th>\n",
       "      <td>1500</td>\n",
       "    </tr>\n",
       "    <tr>\n",
       "      <th>Age</th>\n",
       "      <td>2546</td>\n",
       "    </tr>\n",
       "    <tr>\n",
       "      <th>NObeyesdad</th>\n",
       "      <td>3014</td>\n",
       "    </tr>\n",
       "    <tr>\n",
       "      <th>Weight</th>\n",
       "      <td>3103</td>\n",
       "    </tr>\n",
       "  </tbody>\n",
       "</table>\n",
       "</div>"
      ],
      "text/plain": [
       "                                importance\n",
       "SCC                                      0\n",
       "FAVC                                     2\n",
       "CAEC                                     2\n",
       "MTRANS                                   9\n",
       "family_history_with_overweight          21\n",
       "CALC                                    22\n",
       "SMOKE                                   36\n",
       "FAF                                    232\n",
       "Gender                                 314\n",
       "TUE                                    617\n",
       "CH2O                                   719\n",
       "index                                 1164\n",
       "Height                                1244\n",
       "FCVC                                  1330\n",
       "NCP                                   1500\n",
       "Age                                   2546\n",
       "NObeyesdad                            3014\n",
       "Weight                                3103"
      ]
     },
     "execution_count": 17,
     "metadata": {},
     "output_type": "execute_result"
    }
   ],
   "source": [
    "# 特徴量の重要度評価\n",
    "train_importance = train\n",
    "feature_importance = feature_importance_evaluation(train_importance)\n",
    "feature_importance"
   ]
  },
  {
   "cell_type": "code",
   "execution_count": 18,
   "id": "17e1218c",
   "metadata": {
    "execution": {
     "iopub.execute_input": "2024-02-01T01:41:51.971194Z",
     "iopub.status.busy": "2024-02-01T01:41:51.970105Z",
     "iopub.status.idle": "2024-02-01T01:41:52.536955Z",
     "shell.execute_reply": "2024-02-01T01:41:52.536136Z"
    },
    "id": "kUDkAd58nOmV",
    "papermill": {
     "duration": 0.583501,
     "end_time": "2024-02-01T01:41:52.539225",
     "exception": false,
     "start_time": "2024-02-01T01:41:51.955724",
     "status": "completed"
    },
    "tags": []
   },
   "outputs": [
    {
     "data": {
      "text/plain": [
       "<Axes: >"
      ]
     },
     "execution_count": 18,
     "metadata": {},
     "output_type": "execute_result"
    },
    {
     "data": {
      "image/png": "[encoded data removed]",
      "text/plain": [
       "<Figure size 1000x1500 with 1 Axes>"
      ]
     },
     "metadata": {},
     "output_type": "display_data"
    }
   ],
   "source": [
    "feature_importance.plot(kind='barh', figsize=(10, 15), color='b')"
   ]
  },
  {
   "cell_type": "code",
   "execution_count": 19,
   "id": "dad369fd",
   "metadata": {
    "execution": {
     "iopub.execute_input": "2024-02-01T01:41:52.569675Z",
     "iopub.status.busy": "2024-02-01T01:41:52.568962Z",
     "iopub.status.idle": "2024-02-01T01:41:53.028403Z",
     "shell.execute_reply": "2024-02-01T01:41:53.027499Z"
    },
    "id": "DVYEwrPUnW9Q",
    "papermill": {
     "duration": 0.477556,
     "end_time": "2024-02-01T01:41:53.031118",
     "exception": false,
     "start_time": "2024-02-01T01:41:52.553562",
     "status": "completed"
    },
    "tags": []
   },
   "outputs": [],
   "source": [
    "df.to_csv(OUTPUT_DIR + 'data.csv', index=False)"
   ]
  },
  {
   "cell_type": "code",
   "execution_count": 20,
   "id": "7cb8a5dc",
   "metadata": {
    "execution": {
     "iopub.execute_input": "2024-02-01T01:41:53.063676Z",
     "iopub.status.busy": "2024-02-01T01:41:53.061211Z",
     "iopub.status.idle": "2024-02-01T01:41:53.070823Z",
     "shell.execute_reply": "2024-02-01T01:41:53.069879Z"
    },
    "id": "zxBoX1zbnYUl",
    "papermill": {
     "duration": 0.027836,
     "end_time": "2024-02-01T01:41:53.073057",
     "exception": false,
     "start_time": "2024-02-01T01:41:53.045221",
     "status": "completed"
    },
    "tags": []
   },
   "outputs": [],
   "source": [
    "def file_to_xy(filename):\n",
    "    data = pd.read_csv(filename, index_col=0)\n",
    "    print(f'読み込み完了 {filename}')\n",
    "    train = data[:20758].reset_index(drop=True)\n",
    "    test = data[20758:].reset_index(drop=True).drop(target_col, axis=1) # 目的変数を指定する\n",
    "    # 目的変数と説明変数に分割\n",
    "    X = train.drop([target_col], axis=1) # 目的変数を指定する\n",
    "    y = train[target_col].values # 目的変数を指定する\n",
    "\n",
    "    return data,test,train,X,y"
   ]
  },
  {
   "cell_type": "code",
   "execution_count": 21,
   "id": "77a2afdd",
   "metadata": {
    "execution": {
     "iopub.execute_input": "2024-02-01T01:41:53.103609Z",
     "iopub.status.busy": "2024-02-01T01:41:53.102780Z",
     "iopub.status.idle": "2024-02-01T01:41:53.198422Z",
     "shell.execute_reply": "2024-02-01T01:41:53.197141Z"
    },
    "id": "DRZhqQjJnfme",
    "outputId": "9cf6043d-315f-4fb6-908b-a67297884126",
    "papermill": {
     "duration": 0.113614,
     "end_time": "2024-02-01T01:41:53.200922",
     "exception": false,
     "start_time": "2024-02-01T01:41:53.087308",
     "status": "completed"
    },
    "tags": []
   },
   "outputs": [
    {
     "name": "stdout",
     "output_type": "stream",
     "text": [
      "読み込み完了 /kaggle/working/data.csv\n"
     ]
    }
   ],
   "source": [
    "filename = 'data.csv'\n",
    "data,test,train,X,y = file_to_xy(OUTPUT_DIR + filename)"
   ]
  },
  {
   "cell_type": "code",
   "execution_count": null,
   "id": "bdf27c8d",
   "metadata": {
    "papermill": {
     "duration": 0.013978,
     "end_time": "2024-02-01T01:41:53.229447",
     "exception": false,
     "start_time": "2024-02-01T01:41:53.215469",
     "status": "completed"
    },
    "tags": []
   },
   "outputs": [],
   "source": []
  }
 ],
 "metadata": {
  "colab": {
   "provenance": []
  },
  "kaggle": {
   "accelerator": "none",
   "dataSources": [
    {
     "databundleVersionId": 7609535,
     "sourceId": 68479,
     "sourceType": "competition"
    }
   ],
   "dockerImageVersionId": 30646,
   "isGpuEnabled": false,
   "isInternetEnabled": true,
   "language": "python",
   "sourceType": "notebook"
  },
  "kernelspec": {
   "display_name": "Python 3",
   "language": "python",
   "name": "python3"
  },
  "language_info": {
   "codemirror_mode": {
    "name": "ipython",
    "version": 3
   },
   "file_extension": ".py",
   "mimetype": "text/x-python",
   "name": "python",
   "nbconvert_exporter": "python",
   "pygments_lexer": "ipython3",
   "version": "3.10.13"
  },
  "papermill": {
   "default_parameters": {},
   "duration": 13.093318,
   "end_time": "2024-02-01T01:41:53.966156",
   "environment_variables": {},
   "exception": null,
   "input_path": "__notebook__.ipynb",
   "output_path": "__notebook__.ipynb",
   "parameters": {},
   "start_time": "2024-02-01T01:41:40.872838",
   "version": "2.4.0"
  }
 },
 "nbformat": 4,
 "nbformat_minor": 5
}

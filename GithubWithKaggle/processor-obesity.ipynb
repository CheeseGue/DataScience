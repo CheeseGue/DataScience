{
 "cells": [
  {
   "cell_type": "markdown",
   "id": "44dd9b8f",
   "metadata": {
    "id": "9jJ7f1atJ0qO",
    "papermill": {
     "duration": 0.01456,
     "end_time": "2024-02-01T02:31:10.998945",
     "exception": false,
     "start_time": "2024-02-01T02:31:10.984385",
     "status": "completed"
    },
    "tags": []
   },
   "source": [
    "# **肥満リスクの多クラス予測**\n",
    "(Multi-Class Prediction of Obesity Risk)"
   ]
  },
  {
   "cell_type": "markdown",
   "id": "e28f719e",
   "metadata": {
    "id": "dRrM5BeJkgj-",
    "papermill": {
     "duration": 0.014025,
     "end_time": "2024-02-01T02:31:11.027021",
     "exception": false,
     "start_time": "2024-02-01T02:31:11.012996",
     "status": "completed"
    },
    "tags": []
   },
   "source": [
    "# 参考資料\n",
    "**書籍**\n",
    "\n",
    "\n",
    "**Kaggle**\n",
    "\n",
    "\n",
    "**自分で作成したファイル**\n",
    "- 銀行解約データセットを使用した二項分類\n",
    "- Home_Credit_Default_Risk\n",
    "- 肝硬変の転帰の多クラス予測\n",
    "- 馬の健康への影響を予測する\n",
    "- ルワンダにおける CO2 排出量を予測する\n",
    "\n",
    "**その他**\n"
   ]
  },
  {
   "cell_type": "markdown",
   "id": "c35334f5",
   "metadata": {
    "id": "MV1ptyJ5kn2E",
    "papermill": {
     "duration": 0.012735,
     "end_time": "2024-02-01T02:31:11.053174",
     "exception": false,
     "start_time": "2024-02-01T02:31:11.040439",
     "status": "completed"
    },
    "tags": []
   },
   "source": [
    "## ライブラリ・データセットのインポート"
   ]
  },
  {
   "cell_type": "code",
   "execution_count": 1,
   "id": "92adadb7",
   "metadata": {
    "execution": {
     "iopub.execute_input": "2024-02-01T02:31:11.081889Z",
     "iopub.status.busy": "2024-02-01T02:31:11.081337Z",
     "iopub.status.idle": "2024-02-01T02:31:12.125360Z",
     "shell.execute_reply": "2024-02-01T02:31:12.123717Z"
    },
    "id": "cXwErGKbkUpb",
    "papermill": {
     "duration": 1.062064,
     "end_time": "2024-02-01T02:31:12.128772",
     "exception": false,
     "start_time": "2024-02-01T02:31:11.066708",
     "status": "completed"
    },
    "tags": []
   },
   "outputs": [],
   "source": [
    "import numpy as np\n",
    "import pandas as pd\n",
    "\n",
    "import warnings\n",
    "warnings.filterwarnings('ignore')\n",
    "\n",
    "pd.options.display.float_format = '{:.5f}'.format\n",
    "pd.set_option('display.max_columns', None)\n",
    "pd.set_option('display.max_rows', None)"
   ]
  },
  {
   "cell_type": "code",
   "execution_count": 2,
   "id": "1d7a130c",
   "metadata": {
    "execution": {
     "iopub.execute_input": "2024-02-01T02:31:12.156376Z",
     "iopub.status.busy": "2024-02-01T02:31:12.155619Z",
     "iopub.status.idle": "2024-02-01T02:31:15.219441Z",
     "shell.execute_reply": "2024-02-01T02:31:15.218122Z"
    },
    "id": "y2vH8YMCko3q",
    "papermill": {
     "duration": 3.081678,
     "end_time": "2024-02-01T02:31:15.223076",
     "exception": false,
     "start_time": "2024-02-01T02:31:12.141398",
     "status": "completed"
    },
    "tags": []
   },
   "outputs": [],
   "source": [
    "from sklearn.preprocessing import LabelEncoder, MinMaxScaler\n",
    "from lightgbm import LGBMClassifier # 特徴量の重要度評価で用いる"
   ]
  },
  {
   "cell_type": "markdown",
   "id": "523f6fc5",
   "metadata": {
    "id": "xAub7rgGk35P",
    "papermill": {
     "duration": 0.013138,
     "end_time": "2024-02-01T02:31:15.250522",
     "exception": false,
     "start_time": "2024-02-01T02:31:15.237384",
     "status": "completed"
    },
    "tags": []
   },
   "source": [
    "## 実行時間を調べるために使う"
   ]
  },
  {
   "cell_type": "code",
   "execution_count": 3,
   "id": "59633d02",
   "metadata": {
    "execution": {
     "iopub.execute_input": "2024-02-01T02:31:15.279253Z",
     "iopub.status.busy": "2024-02-01T02:31:15.278790Z",
     "iopub.status.idle": "2024-02-01T02:31:15.287583Z",
     "shell.execute_reply": "2024-02-01T02:31:15.286035Z"
    },
    "id": "_hGkGqJtk6M-",
    "papermill": {
     "duration": 0.025908,
     "end_time": "2024-02-01T02:31:15.290472",
     "exception": false,
     "start_time": "2024-02-01T02:31:15.264564",
     "status": "completed"
    },
    "tags": []
   },
   "outputs": [],
   "source": [
    "import datetime\n",
    "import time\n",
    "import math\n",
    "\n",
    "start_time = time.time()\n",
    "\n",
    "def changeHMS(s):\n",
    "    h = math.floor(s / 3600)\n",
    "    if h > 0:\n",
    "        s = s - h * 3600\n",
    "        indi_h = str(h) + 'h'\n",
    "    else:\n",
    "        indi_h = ''\n",
    "    m = math.floor(s / 60)\n",
    "    if m > 0:\n",
    "        indi_m = str(m) + 'm'\n",
    "    else:\n",
    "        indi_m = ''\n",
    "    s = math.floor(s % 60)\n",
    "    time = indi_h + indi_m + str(s) + 's'\n",
    "    return time"
   ]
  },
  {
   "cell_type": "code",
   "execution_count": 4,
   "id": "a689b40c",
   "metadata": {
    "execution": {
     "iopub.execute_input": "2024-02-01T02:31:15.319467Z",
     "iopub.status.busy": "2024-02-01T02:31:15.319005Z",
     "iopub.status.idle": "2024-02-01T02:31:15.591163Z",
     "shell.execute_reply": "2024-02-01T02:31:15.589850Z"
    },
    "id": "4EzyBOiPkph8",
    "papermill": {
     "duration": 0.290183,
     "end_time": "2024-02-01T02:31:15.594041",
     "exception": false,
     "start_time": "2024-02-01T02:31:15.303858",
     "status": "completed"
    },
    "tags": []
   },
   "outputs": [],
   "source": [
    "FILE_PATH = '/kaggle/input/playground-series-s4e2/'\n",
    "OUTPUT_DIR = '/kaggle/working/'\n",
    "\n",
    "train = pd.read_csv(FILE_PATH + 'train.csv')\n",
    "test = pd.read_csv(FILE_PATH + 'test.csv')\n",
    "\n",
    "train_id = train['id']\n",
    "train.drop('id', axis=1, inplace=True)\n",
    "\n",
    "test_id = test['id']\n",
    "test.drop('id', axis=1, inplace=True)\n",
    "\n",
    "target = train['NObeyesdad']\n",
    "target_col = 'NObeyesdad'\n",
    "\n",
    "target_name = str(train.iloc[:, [-1]].columns.tolist()) # カラム数-2の値が目的変数\n",
    "\n",
    "df = pd.concat([train, test], axis=0)\n",
    "df.reset_index(inplace=True)\n",
    "\n",
    "# 説明変数をデータ型ごとに代入する\n",
    "numerical_features = df._get_numeric_data().columns\n",
    "categorical_features = df.drop(numerical_features, axis=1).columns\n",
    "\n",
    "categorical_features = df.drop(target_col, axis=1).columns"
   ]
  },
  {
   "cell_type": "markdown",
   "id": "5d5e75d8",
   "metadata": {
    "id": "O1qWEpEsmIsU",
    "papermill": {
     "duration": 0.011849,
     "end_time": "2024-02-01T02:31:15.618339",
     "exception": false,
     "start_time": "2024-02-01T02:31:15.606490",
     "status": "completed"
    },
    "tags": []
   },
   "source": [
    "## 前処理"
   ]
  },
  {
   "cell_type": "markdown",
   "id": "029067cb",
   "metadata": {
    "id": "Geqin6VhmJw9",
    "papermill": {
     "duration": 0.015358,
     "end_time": "2024-02-01T02:31:15.648764",
     "exception": false,
     "start_time": "2024-02-01T02:31:15.633406",
     "status": "completed"
    },
    "tags": []
   },
   "source": [
    "### 欠損値の補完"
   ]
  },
  {
   "cell_type": "code",
   "execution_count": 5,
   "id": "ae690f21",
   "metadata": {
    "execution": {
     "iopub.execute_input": "2024-02-01T02:31:15.681895Z",
     "iopub.status.busy": "2024-02-01T02:31:15.680472Z",
     "iopub.status.idle": "2024-02-01T02:31:15.687317Z",
     "shell.execute_reply": "2024-02-01T02:31:15.685989Z"
    },
    "id": "pc9ukAPLmKkl",
    "papermill": {
     "duration": 0.027654,
     "end_time": "2024-02-01T02:31:15.689911",
     "exception": false,
     "start_time": "2024-02-01T02:31:15.662257",
     "status": "completed"
    },
    "tags": []
   },
   "outputs": [],
   "source": [
    "def missing_values(df):\n",
    "\n",
    "    return df"
   ]
  },
  {
   "cell_type": "markdown",
   "id": "6ed8d3b6",
   "metadata": {
    "id": "2ZLsziVQmM_s",
    "papermill": {
     "duration": 0.012471,
     "end_time": "2024-02-01T02:31:15.715965",
     "exception": false,
     "start_time": "2024-02-01T02:31:15.703494",
     "status": "completed"
    },
    "tags": []
   },
   "source": [
    "### 外れ値の修正"
   ]
  },
  {
   "cell_type": "code",
   "execution_count": 6,
   "id": "09310652",
   "metadata": {
    "execution": {
     "iopub.execute_input": "2024-02-01T02:31:15.743776Z",
     "iopub.status.busy": "2024-02-01T02:31:15.742306Z",
     "iopub.status.idle": "2024-02-01T02:31:15.749132Z",
     "shell.execute_reply": "2024-02-01T02:31:15.747558Z"
    },
    "id": "D9RIXWdJmOBI",
    "papermill": {
     "duration": 0.023323,
     "end_time": "2024-02-01T02:31:15.751701",
     "exception": false,
     "start_time": "2024-02-01T02:31:15.728378",
     "status": "completed"
    },
    "tags": []
   },
   "outputs": [],
   "source": [
    "def outlier(df):\n",
    "\n",
    "    return df"
   ]
  },
  {
   "cell_type": "markdown",
   "id": "013ce9cd",
   "metadata": {
    "id": "L0T_RQ97XYoT",
    "papermill": {
     "duration": 0.015466,
     "end_time": "2024-02-01T02:31:15.779652",
     "exception": false,
     "start_time": "2024-02-01T02:31:15.764186",
     "status": "completed"
    },
    "tags": []
   },
   "source": [
    "### スケーリング（標準化）"
   ]
  },
  {
   "cell_type": "markdown",
   "id": "92899000",
   "metadata": {
    "id": "fH7xUj12XcGU",
    "papermill": {
     "duration": 0.017926,
     "end_time": "2024-02-01T02:31:15.810294",
     "exception": false,
     "start_time": "2024-02-01T02:31:15.792368",
     "status": "completed"
    },
    "tags": []
   },
   "source": [
    "- MinMaxScaler(正規化)"
   ]
  },
  {
   "cell_type": "code",
   "execution_count": 7,
   "id": "0d4366a1",
   "metadata": {
    "execution": {
     "iopub.execute_input": "2024-02-01T02:31:15.848727Z",
     "iopub.status.busy": "2024-02-01T02:31:15.846955Z",
     "iopub.status.idle": "2024-02-01T02:31:15.864183Z",
     "shell.execute_reply": "2024-02-01T02:31:15.858769Z"
    },
    "id": "H2MehtAxXd61",
    "papermill": {
     "duration": 0.04188,
     "end_time": "2024-02-01T02:31:15.869118",
     "exception": false,
     "start_time": "2024-02-01T02:31:15.827238",
     "status": "completed"
    },
    "tags": []
   },
   "outputs": [],
   "source": [
    "def scaling_MinMaxScaler(df, scale_cols):\n",
    "    df_scale = df[scale_cols]\n",
    "    sc = MinMaxScaler()\n",
    "    df[scale_cols] = pd.DataFrame(sc.fit_transform(df_scale), columns = df_scale.columns)\n",
    "\n",
    "    return df"
   ]
  },
  {
   "cell_type": "markdown",
   "id": "73c3479c",
   "metadata": {
    "id": "evWEXqCTliXu",
    "papermill": {
     "duration": 0.01435,
     "end_time": "2024-02-01T02:31:15.900004",
     "exception": false,
     "start_time": "2024-02-01T02:31:15.885654",
     "status": "completed"
    },
    "tags": []
   },
   "source": [
    "## 特徴量エンジニアリング"
   ]
  },
  {
   "cell_type": "markdown",
   "id": "76653fa9",
   "metadata": {
    "id": "ehRLTpCDlj_m",
    "papermill": {
     "duration": 0.0141,
     "end_time": "2024-02-01T02:31:15.931081",
     "exception": false,
     "start_time": "2024-02-01T02:31:15.916981",
     "status": "completed"
    },
    "tags": []
   },
   "source": [
    "### 特徴量の作成"
   ]
  },
  {
   "cell_type": "code",
   "execution_count": 8,
   "id": "a47ad007",
   "metadata": {
    "execution": {
     "iopub.execute_input": "2024-02-01T02:31:15.959584Z",
     "iopub.status.busy": "2024-02-01T02:31:15.959111Z",
     "iopub.status.idle": "2024-02-01T02:31:15.965343Z",
     "shell.execute_reply": "2024-02-01T02:31:15.963699Z"
    },
    "id": "SJd05F70kskT",
    "papermill": {
     "duration": 0.023079,
     "end_time": "2024-02-01T02:31:15.967986",
     "exception": false,
     "start_time": "2024-02-01T02:31:15.944907",
     "status": "completed"
    },
    "tags": []
   },
   "outputs": [],
   "source": [
    "def create_new_features(df):\n",
    "    \n",
    "    return df"
   ]
  },
  {
   "cell_type": "markdown",
   "id": "ee4de693",
   "metadata": {
    "papermill": {
     "duration": 0.014963,
     "end_time": "2024-02-01T02:31:15.996120",
     "exception": false,
     "start_time": "2024-02-01T02:31:15.981157",
     "status": "completed"
    },
    "tags": []
   },
   "source": [
    "#### ビンニング"
   ]
  },
  {
   "cell_type": "code",
   "execution_count": 9,
   "id": "32e8a6ba",
   "metadata": {
    "execution": {
     "iopub.execute_input": "2024-02-01T02:31:16.028910Z",
     "iopub.status.busy": "2024-02-01T02:31:16.027521Z",
     "iopub.status.idle": "2024-02-01T02:31:16.033927Z",
     "shell.execute_reply": "2024-02-01T02:31:16.032671Z"
    },
    "papermill": {
     "duration": 0.024378,
     "end_time": "2024-02-01T02:31:16.036630",
     "exception": false,
     "start_time": "2024-02-01T02:31:16.012252",
     "status": "completed"
    },
    "tags": []
   },
   "outputs": [],
   "source": [
    "def binning(df):\n",
    "    \n",
    "    return df"
   ]
  },
  {
   "cell_type": "markdown",
   "id": "230e2262",
   "metadata": {
    "id": "eWE-oFe4loLR",
    "papermill": {
     "duration": 0.015973,
     "end_time": "2024-02-01T02:31:16.065781",
     "exception": false,
     "start_time": "2024-02-01T02:31:16.049808",
     "status": "completed"
    },
    "tags": []
   },
   "source": [
    "### カテゴリ変数のエンコーディング"
   ]
  },
  {
   "cell_type": "markdown",
   "id": "5d119b89",
   "metadata": {
    "id": "xoRllpoVJi0M",
    "papermill": {
     "duration": 0.012104,
     "end_time": "2024-02-01T02:31:16.091102",
     "exception": false,
     "start_time": "2024-02-01T02:31:16.078998",
     "status": "completed"
    },
    "tags": []
   },
   "source": [
    "* One-HotEncoding"
   ]
  },
  {
   "cell_type": "code",
   "execution_count": 10,
   "id": "deb54c12",
   "metadata": {
    "execution": {
     "iopub.execute_input": "2024-02-01T02:31:16.118613Z",
     "iopub.status.busy": "2024-02-01T02:31:16.117814Z",
     "iopub.status.idle": "2024-02-01T02:31:16.123239Z",
     "shell.execute_reply": "2024-02-01T02:31:16.122042Z"
    },
    "id": "r4FeWb-aJi0N",
    "papermill": {
     "duration": 0.022119,
     "end_time": "2024-02-01T02:31:16.125875",
     "exception": false,
     "start_time": "2024-02-01T02:31:16.103756",
     "status": "completed"
    },
    "tags": []
   },
   "outputs": [],
   "source": [
    "def one_hot_encoding(df, cat_cols):\n",
    "    df = pd.get_dummies(df, columns=cat_cols)\n",
    "\n",
    "    return df"
   ]
  },
  {
   "cell_type": "markdown",
   "id": "446b6250",
   "metadata": {
    "id": "sKHw_ipAlpUy",
    "papermill": {
     "duration": 0.012465,
     "end_time": "2024-02-01T02:31:16.151263",
     "exception": false,
     "start_time": "2024-02-01T02:31:16.138798",
     "status": "completed"
    },
    "tags": []
   },
   "source": [
    "- LabelEncoding"
   ]
  },
  {
   "cell_type": "code",
   "execution_count": 11,
   "id": "73163e04",
   "metadata": {
    "execution": {
     "iopub.execute_input": "2024-02-01T02:31:16.179914Z",
     "iopub.status.busy": "2024-02-01T02:31:16.179157Z",
     "iopub.status.idle": "2024-02-01T02:31:16.185241Z",
     "shell.execute_reply": "2024-02-01T02:31:16.183966Z"
    },
    "id": "uBNUcljZlmV5",
    "papermill": {
     "duration": 0.023358,
     "end_time": "2024-02-01T02:31:16.188254",
     "exception": false,
     "start_time": "2024-02-01T02:31:16.164896",
     "status": "completed"
    },
    "tags": []
   },
   "outputs": [],
   "source": [
    "def label_encoder(df, categorical_columns):\n",
    "#     categorical_columns = df.select_dtypes(include=['object']).columns\n",
    "\n",
    "    for column in categorical_columns:\n",
    "        df[column] = df[column].fillna('').astype('str') # 欠損値の補完をする\n",
    "        le = LabelEncoder()\n",
    "        df[column] = le.fit_transform(df[column])\n",
    "\n",
    "    return df"
   ]
  },
  {
   "cell_type": "markdown",
   "id": "691f8bea",
   "metadata": {
    "papermill": {
     "duration": 0.012132,
     "end_time": "2024-02-01T02:31:16.213161",
     "exception": false,
     "start_time": "2024-02-01T02:31:16.201029",
     "status": "completed"
    },
    "tags": []
   },
   "source": [
    "- pd.get_dummies"
   ]
  },
  {
   "cell_type": "code",
   "execution_count": 12,
   "id": "b9aea282",
   "metadata": {
    "execution": {
     "iopub.execute_input": "2024-02-01T02:31:16.240271Z",
     "iopub.status.busy": "2024-02-01T02:31:16.239307Z",
     "iopub.status.idle": "2024-02-01T02:31:16.244367Z",
     "shell.execute_reply": "2024-02-01T02:31:16.243260Z"
    },
    "papermill": {
     "duration": 0.021265,
     "end_time": "2024-02-01T02:31:16.246999",
     "exception": false,
     "start_time": "2024-02-01T02:31:16.225734",
     "status": "completed"
    },
    "tags": []
   },
   "outputs": [],
   "source": [
    "def get_dummies(df, cat_cols):\n",
    "    df = pd.get_dummies(df, columns=cat_cols)\n",
    "    \n",
    "    return df"
   ]
  },
  {
   "cell_type": "markdown",
   "id": "dda0b2bc",
   "metadata": {
    "id": "OVz_DZCgltFl",
    "papermill": {
     "duration": 0.012405,
     "end_time": "2024-02-01T02:31:16.272238",
     "exception": false,
     "start_time": "2024-02-01T02:31:16.259833",
     "status": "completed"
    },
    "tags": []
   },
   "source": [
    "### 特徴量の選択"
   ]
  },
  {
   "cell_type": "markdown",
   "id": "1569284c",
   "metadata": {
    "id": "T-uGFwI8luOC",
    "papermill": {
     "duration": 0.012741,
     "end_time": "2024-02-01T02:31:16.297631",
     "exception": false,
     "start_time": "2024-02-01T02:31:16.284890",
     "status": "completed"
    },
    "tags": []
   },
   "source": [
    "#### 特徴量の重要度評価"
   ]
  },
  {
   "cell_type": "code",
   "execution_count": 13,
   "id": "ee40bf65",
   "metadata": {
    "execution": {
     "iopub.execute_input": "2024-02-01T02:31:16.324864Z",
     "iopub.status.busy": "2024-02-01T02:31:16.324447Z",
     "iopub.status.idle": "2024-02-01T02:31:16.332176Z",
     "shell.execute_reply": "2024-02-01T02:31:16.330693Z"
    },
    "id": "IvbTfuG8lrYZ",
    "papermill": {
     "duration": 0.024364,
     "end_time": "2024-02-01T02:31:16.334634",
     "exception": false,
     "start_time": "2024-02-01T02:31:16.310270",
     "status": "completed"
    },
    "tags": []
   },
   "outputs": [],
   "source": [
    "def feature_importance_evaluation(df):\n",
    "    # 訓練データをX(説明変数)とy（目的変数）に分割する\n",
    "    X = df.select_dtypes(include=['float', 'int'])\n",
    "#     X = X.drop([target_col], axis=1) # 目的変数を指定する\n",
    "    y = target # 目的変数を指定する\n",
    "\n",
    "    \n",
    "\n",
    "    # 特徴量の重要度評価\n",
    "    clf = LGBMClassifier(\n",
    "        random_state=42,\n",
    "    )\n",
    "\n",
    "    clf.fit(X, y)\n",
    "    importance = clf.feature_importances_\n",
    "\n",
    "    feature_importance = pd.DataFrame(data=importance, index=X.columns, columns=['importance']) \\\n",
    "        .sort_values(ascending=True, by='importance')\n",
    "\n",
    "    return feature_importance"
   ]
  },
  {
   "cell_type": "markdown",
   "id": "7213434a",
   "metadata": {
    "id": "Uu58wE5hl4MK",
    "papermill": {
     "duration": 0.012228,
     "end_time": "2024-02-01T02:31:16.359921",
     "exception": false,
     "start_time": "2024-02-01T02:31:16.347693",
     "status": "completed"
    },
    "tags": []
   },
   "source": [
    "#### 特徴量の削除"
   ]
  },
  {
   "cell_type": "code",
   "execution_count": 14,
   "id": "413de666",
   "metadata": {
    "execution": {
     "iopub.execute_input": "2024-02-01T02:31:16.387553Z",
     "iopub.status.busy": "2024-02-01T02:31:16.386350Z",
     "iopub.status.idle": "2024-02-01T02:31:16.392698Z",
     "shell.execute_reply": "2024-02-01T02:31:16.391618Z"
    },
    "id": "LNqYHRC2l0fz",
    "papermill": {
     "duration": 0.022781,
     "end_time": "2024-02-01T02:31:16.395298",
     "exception": false,
     "start_time": "2024-02-01T02:31:16.372517",
     "status": "completed"
    },
    "tags": []
   },
   "outputs": [],
   "source": [
    "def drop_columns(df):\n",
    "    drop_list = [\n",
    "        \n",
    "    ]\n",
    "    dropped_df = df.drop(columns=drop_list)\n",
    "\n",
    "    return dropped_df"
   ]
  },
  {
   "cell_type": "markdown",
   "id": "d9b01476",
   "metadata": {
    "id": "EzhMZ-IVmC04",
    "papermill": {
     "duration": 0.012593,
     "end_time": "2024-02-01T02:31:16.421018",
     "exception": false,
     "start_time": "2024-02-01T02:31:16.408425",
     "status": "completed"
    },
    "tags": []
   },
   "source": [
    "### データセットの更新"
   ]
  },
  {
   "cell_type": "code",
   "execution_count": 15,
   "id": "8b81aab2",
   "metadata": {
    "execution": {
     "iopub.execute_input": "2024-02-01T02:31:16.448565Z",
     "iopub.status.busy": "2024-02-01T02:31:16.447889Z",
     "iopub.status.idle": "2024-02-01T02:31:17.121450Z",
     "shell.execute_reply": "2024-02-01T02:31:17.120059Z"
    },
    "id": "wtp9MwnUl_zY",
    "papermill": {
     "duration": 0.690679,
     "end_time": "2024-02-01T02:31:17.124568",
     "exception": false,
     "start_time": "2024-02-01T02:31:16.433889",
     "status": "completed"
    },
    "tags": []
   },
   "outputs": [],
   "source": [
    "# 前処理\n",
    "df = missing_values(df)\n",
    "df = outlier(df)\n",
    "\n",
    "scale_cols = []\n",
    "# df = scaling_MinMaxScaler(df, scale_cols) # 標準化したい時のみ実行する\n",
    "\n",
    "# 特徴量エンジニアリング\n",
    "df = create_new_features(df)\n",
    "df = binning(df)\n",
    "df = missing_values(df)\n",
    "df = drop_columns(df)\n",
    "\n",
    "ohe_cols = [] # One-Hot Encodingしたい水準数の少ないカラムを指定する\n",
    "dummies_cols = [] # pd.get_dummiesしたい水準数の少ないカラムを指定する\n",
    "df = one_hot_encoding(df, ohe_cols)\n",
    "df = get_dummies(df, dummies_cols)\n",
    "df = label_encoder(df, categorical_features)"
   ]
  },
  {
   "cell_type": "code",
   "execution_count": 16,
   "id": "85c184b5",
   "metadata": {
    "execution": {
     "iopub.execute_input": "2024-02-01T02:31:17.151850Z",
     "iopub.status.busy": "2024-02-01T02:31:17.151343Z",
     "iopub.status.idle": "2024-02-01T02:31:17.196533Z",
     "shell.execute_reply": "2024-02-01T02:31:17.195387Z"
    },
    "id": "DDUYrDzpmD2t",
    "outputId": "453062fd-b278-4ced-f7e2-f903a0067358",
    "papermill": {
     "duration": 0.062088,
     "end_time": "2024-02-01T02:31:17.199239",
     "exception": false,
     "start_time": "2024-02-01T02:31:17.137151",
     "status": "completed"
    },
    "tags": []
   },
   "outputs": [
    {
     "data": {
      "text/html": [
       "<div>\n",
       "<style scoped>\n",
       "    .dataframe tbody tr th:only-of-type {\n",
       "        vertical-align: middle;\n",
       "    }\n",
       "\n",
       "    .dataframe tbody tr th {\n",
       "        vertical-align: top;\n",
       "    }\n",
       "\n",
       "    .dataframe thead th {\n",
       "        text-align: right;\n",
       "    }\n",
       "</style>\n",
       "<table border=\"1\" class=\"dataframe\">\n",
       "  <thead>\n",
       "    <tr style=\"text-align: right;\">\n",
       "      <th></th>\n",
       "      <th>index</th>\n",
       "      <th>Gender</th>\n",
       "      <th>Age</th>\n",
       "      <th>Height</th>\n",
       "      <th>Weight</th>\n",
       "      <th>family_history_with_overweight</th>\n",
       "      <th>FAVC</th>\n",
       "      <th>FCVC</th>\n",
       "      <th>NCP</th>\n",
       "      <th>CAEC</th>\n",
       "      <th>SMOKE</th>\n",
       "      <th>CH2O</th>\n",
       "      <th>SCC</th>\n",
       "      <th>FAF</th>\n",
       "      <th>TUE</th>\n",
       "      <th>CALC</th>\n",
       "      <th>MTRANS</th>\n",
       "      <th>NObeyesdad</th>\n",
       "    </tr>\n",
       "  </thead>\n",
       "  <tbody>\n",
       "    <tr>\n",
       "      <th>0</th>\n",
       "      <td>0</td>\n",
       "      <td>1</td>\n",
       "      <td>1095</td>\n",
       "      <td>933</td>\n",
       "      <td>1839</td>\n",
       "      <td>1</td>\n",
       "      <td>1</td>\n",
       "      <td>265</td>\n",
       "      <td>589</td>\n",
       "      <td>2</td>\n",
       "      <td>0</td>\n",
       "      <td>1491</td>\n",
       "      <td>0</td>\n",
       "      <td>0</td>\n",
       "      <td>1053</td>\n",
       "      <td>2</td>\n",
       "      <td>3</td>\n",
       "      <td>Overweight_Level_II</td>\n",
       "    </tr>\n",
       "    <tr>\n",
       "      <th>1</th>\n",
       "      <td>1</td>\n",
       "      <td>0</td>\n",
       "      <td>108</td>\n",
       "      <td>128</td>\n",
       "      <td>1376</td>\n",
       "      <td>1</td>\n",
       "      <td>1</td>\n",
       "      <td>265</td>\n",
       "      <td>624</td>\n",
       "      <td>1</td>\n",
       "      <td>0</td>\n",
       "      <td>756</td>\n",
       "      <td>0</td>\n",
       "      <td>751</td>\n",
       "      <td>1068</td>\n",
       "      <td>3</td>\n",
       "      <td>0</td>\n",
       "      <td>Normal_Weight</td>\n",
       "    </tr>\n",
       "    <tr>\n",
       "      <th>2</th>\n",
       "      <td>11112</td>\n",
       "      <td>0</td>\n",
       "      <td>108</td>\n",
       "      <td>1040</td>\n",
       "      <td>1253</td>\n",
       "      <td>1</td>\n",
       "      <td>1</td>\n",
       "      <td>206</td>\n",
       "      <td>127</td>\n",
       "      <td>2</td>\n",
       "      <td>0</td>\n",
       "      <td>659</td>\n",
       "      <td>0</td>\n",
       "      <td>587</td>\n",
       "      <td>1322</td>\n",
       "      <td>3</td>\n",
       "      <td>3</td>\n",
       "      <td>Insufficient_Weight</td>\n",
       "    </tr>\n",
       "    <tr>\n",
       "      <th>3</th>\n",
       "      <td>12981</td>\n",
       "      <td>0</td>\n",
       "      <td>522</td>\n",
       "      <td>1035</td>\n",
       "      <td>936</td>\n",
       "      <td>1</td>\n",
       "      <td>1</td>\n",
       "      <td>1053</td>\n",
       "      <td>624</td>\n",
       "      <td>2</td>\n",
       "      <td>0</td>\n",
       "      <td>464</td>\n",
       "      <td>0</td>\n",
       "      <td>1040</td>\n",
       "      <td>806</td>\n",
       "      <td>2</td>\n",
       "      <td>3</td>\n",
       "      <td>Obesity_Type_III</td>\n",
       "    </tr>\n",
       "    <tr>\n",
       "      <th>4</th>\n",
       "      <td>14092</td>\n",
       "      <td>1</td>\n",
       "      <td>1605</td>\n",
       "      <td>2050</td>\n",
       "      <td>2205</td>\n",
       "      <td>1</td>\n",
       "      <td>1</td>\n",
       "      <td>735</td>\n",
       "      <td>252</td>\n",
       "      <td>2</td>\n",
       "      <td>0</td>\n",
       "      <td>727</td>\n",
       "      <td>0</td>\n",
       "      <td>1330</td>\n",
       "      <td>995</td>\n",
       "      <td>2</td>\n",
       "      <td>3</td>\n",
       "      <td>Overweight_Level_II</td>\n",
       "    </tr>\n",
       "  </tbody>\n",
       "</table>\n",
       "</div>"
      ],
      "text/plain": [
       "   index  Gender   Age  Height  Weight  family_history_with_overweight  FAVC  \\\n",
       "0      0       1  1095     933    1839                               1     1   \n",
       "1      1       0   108     128    1376                               1     1   \n",
       "2  11112       0   108    1040    1253                               1     1   \n",
       "3  12981       0   522    1035     936                               1     1   \n",
       "4  14092       1  1605    2050    2205                               1     1   \n",
       "\n",
       "   FCVC  NCP  CAEC  SMOKE  CH2O  SCC   FAF   TUE  CALC  MTRANS  \\\n",
       "0   265  589     2      0  1491    0     0  1053     2       3   \n",
       "1   265  624     1      0   756    0   751  1068     3       0   \n",
       "2   206  127     2      0   659    0   587  1322     3       3   \n",
       "3  1053  624     2      0   464    0  1040   806     2       3   \n",
       "4   735  252     2      0   727    0  1330   995     2       3   \n",
       "\n",
       "            NObeyesdad  \n",
       "0  Overweight_Level_II  \n",
       "1        Normal_Weight  \n",
       "2  Insufficient_Weight  \n",
       "3     Obesity_Type_III  \n",
       "4  Overweight_Level_II  "
      ]
     },
     "execution_count": 16,
     "metadata": {},
     "output_type": "execute_result"
    }
   ],
   "source": [
    "train = df[:20758]\n",
    "test = df[20758:]\n",
    "\n",
    "# train_x = train.drop(columns=[target_col])\n",
    "# train_y = target\n",
    "# test_x = test.drop(columns=[target_col])\n",
    "\n",
    "train_x = train\n",
    "train_y = target\n",
    "test_x = test\n",
    "\n",
    "X = train_x.values\n",
    "y = train_y.values\n",
    "# y = y.astype(int)\n",
    "\n",
    "df.head()"
   ]
  },
  {
   "cell_type": "code",
   "execution_count": 17,
   "id": "d87c7a93",
   "metadata": {
    "execution": {
     "iopub.execute_input": "2024-02-01T02:31:17.226656Z",
     "iopub.status.busy": "2024-02-01T02:31:17.225868Z",
     "iopub.status.idle": "2024-02-01T02:31:22.183511Z",
     "shell.execute_reply": "2024-02-01T02:31:22.181926Z"
    },
    "id": "yIlQ3t2-mxBU",
    "papermill": {
     "duration": 4.974584,
     "end_time": "2024-02-01T02:31:22.186351",
     "exception": false,
     "start_time": "2024-02-01T02:31:17.211767",
     "status": "completed"
    },
    "tags": []
   },
   "outputs": [
    {
     "name": "stdout",
     "output_type": "stream",
     "text": [
      "[LightGBM] [Info] Auto-choosing row-wise multi-threading, the overhead of testing was 0.007974 seconds.\n",
      "You can set `force_row_wise=true` to remove the overhead.\n",
      "And if memory is not enough, you can set `force_col_wise=true`.\n",
      "[LightGBM] [Info] Total Bins 2301\n",
      "[LightGBM] [Info] Number of data points in the train set: 20758, number of used features: 17\n",
      "[LightGBM] [Info] Start training from score -2.107483\n",
      "[LightGBM] [Info] Start training from score -1.907353\n",
      "[LightGBM] [Info] Start training from score -1.964779\n",
      "[LightGBM] [Info] Start training from score -1.854892\n",
      "[LightGBM] [Info] Start training from score -1.635203\n",
      "[LightGBM] [Info] Start training from score -2.146276\n",
      "[LightGBM] [Info] Start training from score -2.107879\n"
     ]
    },
    {
     "data": {
      "text/html": [
       "<div>\n",
       "<style scoped>\n",
       "    .dataframe tbody tr th:only-of-type {\n",
       "        vertical-align: middle;\n",
       "    }\n",
       "\n",
       "    .dataframe tbody tr th {\n",
       "        vertical-align: top;\n",
       "    }\n",
       "\n",
       "    .dataframe thead th {\n",
       "        text-align: right;\n",
       "    }\n",
       "</style>\n",
       "<table border=\"1\" class=\"dataframe\">\n",
       "  <thead>\n",
       "    <tr style=\"text-align: right;\">\n",
       "      <th></th>\n",
       "      <th>importance</th>\n",
       "    </tr>\n",
       "  </thead>\n",
       "  <tbody>\n",
       "    <tr>\n",
       "      <th>SMOKE</th>\n",
       "      <td>61</td>\n",
       "    </tr>\n",
       "    <tr>\n",
       "      <th>SCC</th>\n",
       "      <td>147</td>\n",
       "    </tr>\n",
       "    <tr>\n",
       "      <th>FAVC</th>\n",
       "      <td>261</td>\n",
       "    </tr>\n",
       "    <tr>\n",
       "      <th>MTRANS</th>\n",
       "      <td>381</td>\n",
       "    </tr>\n",
       "    <tr>\n",
       "      <th>family_history_with_overweight</th>\n",
       "      <td>389</td>\n",
       "    </tr>\n",
       "    <tr>\n",
       "      <th>Gender</th>\n",
       "      <td>409</td>\n",
       "    </tr>\n",
       "    <tr>\n",
       "      <th>CAEC</th>\n",
       "      <td>434</td>\n",
       "    </tr>\n",
       "    <tr>\n",
       "      <th>CALC</th>\n",
       "      <td>499</td>\n",
       "    </tr>\n",
       "    <tr>\n",
       "      <th>NCP</th>\n",
       "      <td>983</td>\n",
       "    </tr>\n",
       "    <tr>\n",
       "      <th>FCVC</th>\n",
       "      <td>1157</td>\n",
       "    </tr>\n",
       "    <tr>\n",
       "      <th>TUE</th>\n",
       "      <td>1219</td>\n",
       "    </tr>\n",
       "    <tr>\n",
       "      <th>CH2O</th>\n",
       "      <td>1345</td>\n",
       "    </tr>\n",
       "    <tr>\n",
       "      <th>FAF</th>\n",
       "      <td>1377</td>\n",
       "    </tr>\n",
       "    <tr>\n",
       "      <th>Age</th>\n",
       "      <td>2644</td>\n",
       "    </tr>\n",
       "    <tr>\n",
       "      <th>Height</th>\n",
       "      <td>2852</td>\n",
       "    </tr>\n",
       "    <tr>\n",
       "      <th>index</th>\n",
       "      <td>2875</td>\n",
       "    </tr>\n",
       "    <tr>\n",
       "      <th>Weight</th>\n",
       "      <td>3967</td>\n",
       "    </tr>\n",
       "  </tbody>\n",
       "</table>\n",
       "</div>"
      ],
      "text/plain": [
       "                                importance\n",
       "SMOKE                                   61\n",
       "SCC                                    147\n",
       "FAVC                                   261\n",
       "MTRANS                                 381\n",
       "family_history_with_overweight         389\n",
       "Gender                                 409\n",
       "CAEC                                   434\n",
       "CALC                                   499\n",
       "NCP                                    983\n",
       "FCVC                                  1157\n",
       "TUE                                   1219\n",
       "CH2O                                  1345\n",
       "FAF                                   1377\n",
       "Age                                   2644\n",
       "Height                                2852\n",
       "index                                 2875\n",
       "Weight                                3967"
      ]
     },
     "execution_count": 17,
     "metadata": {},
     "output_type": "execute_result"
    }
   ],
   "source": [
    "# 特徴量の重要度評価\n",
    "train_importance = train\n",
    "feature_importance = feature_importance_evaluation(train_importance)\n",
    "feature_importance"
   ]
  },
  {
   "cell_type": "code",
   "execution_count": 18,
   "id": "5f1d504e",
   "metadata": {
    "execution": {
     "iopub.execute_input": "2024-02-01T02:31:22.214829Z",
     "iopub.status.busy": "2024-02-01T02:31:22.214399Z",
     "iopub.status.idle": "2024-02-01T02:31:22.816567Z",
     "shell.execute_reply": "2024-02-01T02:31:22.815118Z"
    },
    "id": "kUDkAd58nOmV",
    "papermill": {
     "duration": 0.619673,
     "end_time": "2024-02-01T02:31:22.819474",
     "exception": false,
     "start_time": "2024-02-01T02:31:22.199801",
     "status": "completed"
    },
    "tags": []
   },
   "outputs": [
    {
     "data": {
      "text/plain": [
       "<Axes: >"
      ]
     },
     "execution_count": 18,
     "metadata": {},
     "output_type": "execute_result"
    },
    {
     "data": {
      "image/png": "[encoded data removed]",
      "text/plain": [
       "<Figure size 1000x1500 with 1 Axes>"
      ]
     },
     "metadata": {},
     "output_type": "display_data"
    }
   ],
   "source": [
    "feature_importance.plot(kind='barh', figsize=(10, 15), color='b')"
   ]
  },
  {
   "cell_type": "code",
   "execution_count": 19,
   "id": "3398a158",
   "metadata": {
    "execution": {
     "iopub.execute_input": "2024-02-01T02:31:22.849788Z",
     "iopub.status.busy": "2024-02-01T02:31:22.849341Z",
     "iopub.status.idle": "2024-02-01T02:31:23.170195Z",
     "shell.execute_reply": "2024-02-01T02:31:23.168640Z"
    },
    "id": "DVYEwrPUnW9Q",
    "papermill": {
     "duration": 0.340322,
     "end_time": "2024-02-01T02:31:23.173954",
     "exception": false,
     "start_time": "2024-02-01T02:31:22.833632",
     "status": "completed"
    },
    "tags": []
   },
   "outputs": [],
   "source": [
    "df.to_csv(OUTPUT_DIR + 'data.csv', index=False)"
   ]
  },
  {
   "cell_type": "code",
   "execution_count": 20,
   "id": "1ee116aa",
   "metadata": {
    "execution": {
     "iopub.execute_input": "2024-02-01T02:31:23.206553Z",
     "iopub.status.busy": "2024-02-01T02:31:23.206083Z",
     "iopub.status.idle": "2024-02-01T02:31:23.215133Z",
     "shell.execute_reply": "2024-02-01T02:31:23.213618Z"
    },
    "id": "zxBoX1zbnYUl",
    "papermill": {
     "duration": 0.028434,
     "end_time": "2024-02-01T02:31:23.217993",
     "exception": false,
     "start_time": "2024-02-01T02:31:23.189559",
     "status": "completed"
    },
    "tags": []
   },
   "outputs": [],
   "source": [
    "def file_to_xy(filename):\n",
    "    data = pd.read_csv(filename, index_col=0)\n",
    "    print(f'読み込み完了 {filename}')\n",
    "    train = data[:20758].reset_index(drop=True)\n",
    "    test = data[20758:].reset_index(drop=True).drop(target_col, axis=1) # 目的変数を指定する\n",
    "    # 目的変数と説明変数に分割\n",
    "    X = train.drop([target_col], axis=1) # 目的変数を指定する\n",
    "    y = train[target_col].values # 目的変数を指定する\n",
    "\n",
    "    return data,test,train,X,y"
   ]
  },
  {
   "cell_type": "code",
   "execution_count": 21,
   "id": "14d99d1a",
   "metadata": {
    "execution": {
     "iopub.execute_input": "2024-02-01T02:31:23.249276Z",
     "iopub.status.busy": "2024-02-01T02:31:23.248813Z",
     "iopub.status.idle": "2024-02-01T02:31:23.369502Z",
     "shell.execute_reply": "2024-02-01T02:31:23.367940Z"
    },
    "id": "DRZhqQjJnfme",
    "outputId": "9cf6043d-315f-4fb6-908b-a67297884126",
    "papermill": {
     "duration": 0.13986,
     "end_time": "2024-02-01T02:31:23.372843",
     "exception": false,
     "start_time": "2024-02-01T02:31:23.232983",
     "status": "completed"
    },
    "tags": []
   },
   "outputs": [
    {
     "name": "stdout",
     "output_type": "stream",
     "text": [
      "読み込み完了 /kaggle/working/data.csv\n"
     ]
    }
   ],
   "source": [
    "filename = 'data.csv'\n",
    "data,test,train,X,y = file_to_xy(OUTPUT_DIR + filename)"
   ]
  },
  {
   "cell_type": "code",
   "execution_count": 22,
   "id": "468f050c",
   "metadata": {
    "execution": {
     "iopub.execute_input": "2024-02-01T02:31:23.404400Z",
     "iopub.status.busy": "2024-02-01T02:31:23.403918Z",
     "iopub.status.idle": "2024-02-01T02:31:23.427068Z",
     "shell.execute_reply": "2024-02-01T02:31:23.425818Z"
    },
    "papermill": {
     "duration": 0.04238,
     "end_time": "2024-02-01T02:31:23.430130",
     "exception": false,
     "start_time": "2024-02-01T02:31:23.387750",
     "status": "completed"
    },
    "tags": []
   },
   "outputs": [
    {
     "data": {
      "text/html": [
       "<div>\n",
       "<style scoped>\n",
       "    .dataframe tbody tr th:only-of-type {\n",
       "        vertical-align: middle;\n",
       "    }\n",
       "\n",
       "    .dataframe tbody tr th {\n",
       "        vertical-align: top;\n",
       "    }\n",
       "\n",
       "    .dataframe thead th {\n",
       "        text-align: right;\n",
       "    }\n",
       "</style>\n",
       "<table border=\"1\" class=\"dataframe\">\n",
       "  <thead>\n",
       "    <tr style=\"text-align: right;\">\n",
       "      <th></th>\n",
       "      <th>Gender</th>\n",
       "      <th>Age</th>\n",
       "      <th>Height</th>\n",
       "      <th>Weight</th>\n",
       "      <th>family_history_with_overweight</th>\n",
       "      <th>FAVC</th>\n",
       "      <th>FCVC</th>\n",
       "      <th>NCP</th>\n",
       "      <th>CAEC</th>\n",
       "      <th>SMOKE</th>\n",
       "      <th>CH2O</th>\n",
       "      <th>SCC</th>\n",
       "      <th>FAF</th>\n",
       "      <th>TUE</th>\n",
       "      <th>CALC</th>\n",
       "      <th>MTRANS</th>\n",
       "      <th>NObeyesdad</th>\n",
       "    </tr>\n",
       "    <tr>\n",
       "      <th>index</th>\n",
       "      <th></th>\n",
       "      <th></th>\n",
       "      <th></th>\n",
       "      <th></th>\n",
       "      <th></th>\n",
       "      <th></th>\n",
       "      <th></th>\n",
       "      <th></th>\n",
       "      <th></th>\n",
       "      <th></th>\n",
       "      <th></th>\n",
       "      <th></th>\n",
       "      <th></th>\n",
       "      <th></th>\n",
       "      <th></th>\n",
       "      <th></th>\n",
       "      <th></th>\n",
       "    </tr>\n",
       "  </thead>\n",
       "  <tbody>\n",
       "    <tr>\n",
       "      <th>0</th>\n",
       "      <td>1</td>\n",
       "      <td>1095</td>\n",
       "      <td>933</td>\n",
       "      <td>1839</td>\n",
       "      <td>1</td>\n",
       "      <td>1</td>\n",
       "      <td>265</td>\n",
       "      <td>589</td>\n",
       "      <td>2</td>\n",
       "      <td>0</td>\n",
       "      <td>1491</td>\n",
       "      <td>0</td>\n",
       "      <td>0</td>\n",
       "      <td>1053</td>\n",
       "      <td>2</td>\n",
       "      <td>3</td>\n",
       "      <td>Overweight_Level_II</td>\n",
       "    </tr>\n",
       "    <tr>\n",
       "      <th>1</th>\n",
       "      <td>0</td>\n",
       "      <td>108</td>\n",
       "      <td>128</td>\n",
       "      <td>1376</td>\n",
       "      <td>1</td>\n",
       "      <td>1</td>\n",
       "      <td>265</td>\n",
       "      <td>624</td>\n",
       "      <td>1</td>\n",
       "      <td>0</td>\n",
       "      <td>756</td>\n",
       "      <td>0</td>\n",
       "      <td>751</td>\n",
       "      <td>1068</td>\n",
       "      <td>3</td>\n",
       "      <td>0</td>\n",
       "      <td>Normal_Weight</td>\n",
       "    </tr>\n",
       "    <tr>\n",
       "      <th>11112</th>\n",
       "      <td>0</td>\n",
       "      <td>108</td>\n",
       "      <td>1040</td>\n",
       "      <td>1253</td>\n",
       "      <td>1</td>\n",
       "      <td>1</td>\n",
       "      <td>206</td>\n",
       "      <td>127</td>\n",
       "      <td>2</td>\n",
       "      <td>0</td>\n",
       "      <td>659</td>\n",
       "      <td>0</td>\n",
       "      <td>587</td>\n",
       "      <td>1322</td>\n",
       "      <td>3</td>\n",
       "      <td>3</td>\n",
       "      <td>Insufficient_Weight</td>\n",
       "    </tr>\n",
       "    <tr>\n",
       "      <th>12981</th>\n",
       "      <td>0</td>\n",
       "      <td>522</td>\n",
       "      <td>1035</td>\n",
       "      <td>936</td>\n",
       "      <td>1</td>\n",
       "      <td>1</td>\n",
       "      <td>1053</td>\n",
       "      <td>624</td>\n",
       "      <td>2</td>\n",
       "      <td>0</td>\n",
       "      <td>464</td>\n",
       "      <td>0</td>\n",
       "      <td>1040</td>\n",
       "      <td>806</td>\n",
       "      <td>2</td>\n",
       "      <td>3</td>\n",
       "      <td>Obesity_Type_III</td>\n",
       "    </tr>\n",
       "    <tr>\n",
       "      <th>14092</th>\n",
       "      <td>1</td>\n",
       "      <td>1605</td>\n",
       "      <td>2050</td>\n",
       "      <td>2205</td>\n",
       "      <td>1</td>\n",
       "      <td>1</td>\n",
       "      <td>735</td>\n",
       "      <td>252</td>\n",
       "      <td>2</td>\n",
       "      <td>0</td>\n",
       "      <td>727</td>\n",
       "      <td>0</td>\n",
       "      <td>1330</td>\n",
       "      <td>995</td>\n",
       "      <td>2</td>\n",
       "      <td>3</td>\n",
       "      <td>Overweight_Level_II</td>\n",
       "    </tr>\n",
       "  </tbody>\n",
       "</table>\n",
       "</div>"
      ],
      "text/plain": [
       "       Gender   Age  Height  Weight  family_history_with_overweight  FAVC  \\\n",
       "index                                                                       \n",
       "0           1  1095     933    1839                               1     1   \n",
       "1           0   108     128    1376                               1     1   \n",
       "11112       0   108    1040    1253                               1     1   \n",
       "12981       0   522    1035     936                               1     1   \n",
       "14092       1  1605    2050    2205                               1     1   \n",
       "\n",
       "       FCVC  NCP  CAEC  SMOKE  CH2O  SCC   FAF   TUE  CALC  MTRANS  \\\n",
       "index                                                                \n",
       "0       265  589     2      0  1491    0     0  1053     2       3   \n",
       "1       265  624     1      0   756    0   751  1068     3       0   \n",
       "11112   206  127     2      0   659    0   587  1322     3       3   \n",
       "12981  1053  624     2      0   464    0  1040   806     2       3   \n",
       "14092   735  252     2      0   727    0  1330   995     2       3   \n",
       "\n",
       "                NObeyesdad  \n",
       "index                       \n",
       "0      Overweight_Level_II  \n",
       "1            Normal_Weight  \n",
       "11112  Insufficient_Weight  \n",
       "12981     Obesity_Type_III  \n",
       "14092  Overweight_Level_II  "
      ]
     },
     "execution_count": 22,
     "metadata": {},
     "output_type": "execute_result"
    }
   ],
   "source": [
    "data.head()"
   ]
  },
  {
   "cell_type": "code",
   "execution_count": null,
   "id": "242cf3fc",
   "metadata": {
    "papermill": {
     "duration": 0.014605,
     "end_time": "2024-02-01T02:31:23.459752",
     "exception": false,
     "start_time": "2024-02-01T02:31:23.445147",
     "status": "completed"
    },
    "tags": []
   },
   "outputs": [],
   "source": []
  }
 ],
 "metadata": {
  "colab": {
   "provenance": []
  },
  "kaggle": {
   "accelerator": "none",
   "dataSources": [
    {
     "databundleVersionId": 7609535,
     "sourceId": 68479,
     "sourceType": "competition"
    }
   ],
   "dockerImageVersionId": 30646,
   "isGpuEnabled": false,
   "isInternetEnabled": true,
   "language": "python",
   "sourceType": "notebook"
  },
  "kernelspec": {
   "display_name": "Python 3",
   "language": "python",
   "name": "python3"
  },
  "language_info": {
   "codemirror_mode": {
    "name": "ipython",
    "version": 3
   },
   "file_extension": ".py",
   "mimetype": "text/x-python",
   "name": "python",
   "nbconvert_exporter": "python",
   "pygments_lexer": "ipython3",
   "version": "3.10.13"
  },
  "papermill": {
   "default_parameters": {},
   "duration": 17.082633,
   "end_time": "2024-02-01T02:31:24.699140",
   "environment_variables": {},
   "exception": null,
   "input_path": "__notebook__.ipynb",
   "output_path": "__notebook__.ipynb",
   "parameters": {},
   "start_time": "2024-02-01T02:31:07.616507",
   "version": "2.4.0"
  }
 },
 "nbformat": 4,
 "nbformat_minor": 5
}

{
 "cells": [
  {
   "cell_type": "markdown",
   "id": "a83faf88",
   "metadata": {
    "id": "9jJ7f1atJ0qO",
    "papermill": {
     "duration": 0.013422,
     "end_time": "2024-02-01T01:35:01.984957",
     "exception": false,
     "start_time": "2024-02-01T01:35:01.971535",
     "status": "completed"
    },
    "tags": []
   },
   "source": [
    "# **肥満リスクの多クラス予測**\n",
    "(Multi-Class Prediction of Obesity Risk)"
   ]
  },
  {
   "cell_type": "markdown",
   "id": "c62b273b",
   "metadata": {
    "id": "dRrM5BeJkgj-",
    "papermill": {
     "duration": 0.013452,
     "end_time": "2024-02-01T01:35:02.011122",
     "exception": false,
     "start_time": "2024-02-01T01:35:01.997670",
     "status": "completed"
    },
    "tags": []
   },
   "source": [
    "# 参考資料\n",
    "**書籍**\n",
    "\n",
    "\n",
    "**Kaggle**\n",
    "\n",
    "\n",
    "**自分で作成したファイル**\n",
    "- 銀行解約データセットを使用した二項分類\n",
    "- Home_Credit_Default_Risk\n",
    "- 肝硬変の転帰の多クラス予測\n",
    "- 馬の健康への影響を予測する\n",
    "- ルワンダにおける CO2 排出量を予測する\n",
    "\n",
    "**その他**\n"
   ]
  },
  {
   "cell_type": "markdown",
   "id": "fcfedd47",
   "metadata": {
    "id": "MV1ptyJ5kn2E",
    "papermill": {
     "duration": 0.011762,
     "end_time": "2024-02-01T01:35:02.035888",
     "exception": false,
     "start_time": "2024-02-01T01:35:02.024126",
     "status": "completed"
    },
    "tags": []
   },
   "source": [
    "## ライブラリ・データセットのインポート"
   ]
  },
  {
   "cell_type": "code",
   "execution_count": 1,
   "id": "fa28da61",
   "metadata": {
    "execution": {
     "iopub.execute_input": "2024-02-01T01:35:02.062861Z",
     "iopub.status.busy": "2024-02-01T01:35:02.061997Z",
     "iopub.status.idle": "2024-02-01T01:35:03.097789Z",
     "shell.execute_reply": "2024-02-01T01:35:03.096159Z"
    },
    "id": "cXwErGKbkUpb",
    "papermill": {
     "duration": 1.053056,
     "end_time": "2024-02-01T01:35:03.101042",
     "exception": false,
     "start_time": "2024-02-01T01:35:02.047986",
     "status": "completed"
    },
    "tags": []
   },
   "outputs": [],
   "source": [
    "import numpy as np\n",
    "import pandas as pd\n",
    "\n",
    "import warnings\n",
    "warnings.filterwarnings('ignore')\n",
    "\n",
    "pd.options.display.float_format = '{:.5f}'.format\n",
    "pd.set_option('display.max_columns', None)\n",
    "pd.set_option('display.max_rows', None)"
   ]
  },
  {
   "cell_type": "code",
   "execution_count": 2,
   "id": "a1922278",
   "metadata": {
    "execution": {
     "iopub.execute_input": "2024-02-01T01:35:03.128450Z",
     "iopub.status.busy": "2024-02-01T01:35:03.127888Z",
     "iopub.status.idle": "2024-02-01T01:35:06.350554Z",
     "shell.execute_reply": "2024-02-01T01:35:06.349211Z"
    },
    "id": "y2vH8YMCko3q",
    "papermill": {
     "duration": 3.240234,
     "end_time": "2024-02-01T01:35:06.353807",
     "exception": false,
     "start_time": "2024-02-01T01:35:03.113573",
     "status": "completed"
    },
    "tags": []
   },
   "outputs": [],
   "source": [
    "from sklearn.preprocessing import LabelEncoder, MinMaxScaler\n",
    "from lightgbm import LGBMClassifier # 特徴量の重要度評価で用いる"
   ]
  },
  {
   "cell_type": "markdown",
   "id": "d43ecaa1",
   "metadata": {
    "id": "xAub7rgGk35P",
    "papermill": {
     "duration": 0.012074,
     "end_time": "2024-02-01T01:35:06.378535",
     "exception": false,
     "start_time": "2024-02-01T01:35:06.366461",
     "status": "completed"
    },
    "tags": []
   },
   "source": [
    "## 実行時間を調べるために使う"
   ]
  },
  {
   "cell_type": "code",
   "execution_count": 3,
   "id": "db84701d",
   "metadata": {
    "execution": {
     "iopub.execute_input": "2024-02-01T01:35:06.407113Z",
     "iopub.status.busy": "2024-02-01T01:35:06.406331Z",
     "iopub.status.idle": "2024-02-01T01:35:06.415154Z",
     "shell.execute_reply": "2024-02-01T01:35:06.413827Z"
    },
    "id": "_hGkGqJtk6M-",
    "papermill": {
     "duration": 0.025278,
     "end_time": "2024-02-01T01:35:06.417689",
     "exception": false,
     "start_time": "2024-02-01T01:35:06.392411",
     "status": "completed"
    },
    "tags": []
   },
   "outputs": [],
   "source": [
    "import datetime\n",
    "import time\n",
    "import math\n",
    "\n",
    "start_time = time.time()\n",
    "\n",
    "def changeHMS(s):\n",
    "    h = math.floor(s / 3600)\n",
    "    if h > 0:\n",
    "        s = s - h * 3600\n",
    "        indi_h = str(h) + 'h'\n",
    "    else:\n",
    "        indi_h = ''\n",
    "    m = math.floor(s / 60)\n",
    "    if m > 0:\n",
    "        indi_m = str(m) + 'm'\n",
    "    else:\n",
    "        indi_m = ''\n",
    "    s = math.floor(s % 60)\n",
    "    time = indi_h + indi_m + str(s) + 's'\n",
    "    return time"
   ]
  },
  {
   "cell_type": "code",
   "execution_count": 4,
   "id": "60b9fcd4",
   "metadata": {
    "execution": {
     "iopub.execute_input": "2024-02-01T01:35:06.445016Z",
     "iopub.status.busy": "2024-02-01T01:35:06.444487Z",
     "iopub.status.idle": "2024-02-01T01:35:06.720623Z",
     "shell.execute_reply": "2024-02-01T01:35:06.719340Z"
    },
    "id": "4EzyBOiPkph8",
    "papermill": {
     "duration": 0.293349,
     "end_time": "2024-02-01T01:35:06.723755",
     "exception": false,
     "start_time": "2024-02-01T01:35:06.430406",
     "status": "completed"
    },
    "tags": []
   },
   "outputs": [],
   "source": [
    "FILE_PATH = '/kaggle/input/playground-series-s4e2/'\n",
    "OUTPUT_DIR = '/kaggle/working/'\n",
    "\n",
    "train = pd.read_csv(FILE_PATH + 'train.csv')\n",
    "test = pd.read_csv(FILE_PATH + 'test.csv')\n",
    "\n",
    "train_id = train['id']\n",
    "train.drop('id', axis=1, inplace=True)\n",
    "\n",
    "test_id = test['id']\n",
    "test.drop('id', axis=1, inplace=True)\n",
    "\n",
    "target = train['NObeyesdad']\n",
    "target_col = 'NObeyesdad'\n",
    "\n",
    "target_name = str(train.iloc[:, [-1]].columns.tolist()) # カラム数-2の値が目的変数\n",
    "\n",
    "df = pd.concat([train, test], axis=0)\n",
    "df.reset_index(inplace=True)\n",
    "\n",
    "# 説明変数をデータ型ごとに代入する\n",
    "numerical_features = df._get_numeric_data().columns\n",
    "categorical_features = df.drop(numerical_features, axis=1).columns"
   ]
  },
  {
   "cell_type": "markdown",
   "id": "7b35cbb9",
   "metadata": {
    "id": "O1qWEpEsmIsU",
    "papermill": {
     "duration": 0.012096,
     "end_time": "2024-02-01T01:35:06.748924",
     "exception": false,
     "start_time": "2024-02-01T01:35:06.736828",
     "status": "completed"
    },
    "tags": []
   },
   "source": [
    "## 前処理"
   ]
  },
  {
   "cell_type": "markdown",
   "id": "23683475",
   "metadata": {
    "id": "Geqin6VhmJw9",
    "papermill": {
     "duration": 0.012045,
     "end_time": "2024-02-01T01:35:06.773533",
     "exception": false,
     "start_time": "2024-02-01T01:35:06.761488",
     "status": "completed"
    },
    "tags": []
   },
   "source": [
    "### 欠損値の補完"
   ]
  },
  {
   "cell_type": "code",
   "execution_count": 5,
   "id": "bc558882",
   "metadata": {
    "execution": {
     "iopub.execute_input": "2024-02-01T01:35:06.804904Z",
     "iopub.status.busy": "2024-02-01T01:35:06.804118Z",
     "iopub.status.idle": "2024-02-01T01:35:06.812074Z",
     "shell.execute_reply": "2024-02-01T01:35:06.810373Z"
    },
    "id": "pc9ukAPLmKkl",
    "papermill": {
     "duration": 0.0307,
     "end_time": "2024-02-01T01:35:06.817037",
     "exception": false,
     "start_time": "2024-02-01T01:35:06.786337",
     "status": "completed"
    },
    "tags": []
   },
   "outputs": [],
   "source": [
    "def missing_values(df):\n",
    "\n",
    "    return df"
   ]
  },
  {
   "cell_type": "markdown",
   "id": "3502b51d",
   "metadata": {
    "id": "2ZLsziVQmM_s",
    "papermill": {
     "duration": 0.017845,
     "end_time": "2024-02-01T01:35:06.852893",
     "exception": false,
     "start_time": "2024-02-01T01:35:06.835048",
     "status": "completed"
    },
    "tags": []
   },
   "source": [
    "### 外れ値の修正"
   ]
  },
  {
   "cell_type": "code",
   "execution_count": 6,
   "id": "d3ecbc04",
   "metadata": {
    "execution": {
     "iopub.execute_input": "2024-02-01T01:35:06.893027Z",
     "iopub.status.busy": "2024-02-01T01:35:06.892380Z",
     "iopub.status.idle": "2024-02-01T01:35:06.898385Z",
     "shell.execute_reply": "2024-02-01T01:35:06.897402Z"
    },
    "id": "D9RIXWdJmOBI",
    "papermill": {
     "duration": 0.029651,
     "end_time": "2024-02-01T01:35:06.901915",
     "exception": false,
     "start_time": "2024-02-01T01:35:06.872264",
     "status": "completed"
    },
    "tags": []
   },
   "outputs": [],
   "source": [
    "def outlier(df):\n",
    "\n",
    "    return df"
   ]
  },
  {
   "cell_type": "markdown",
   "id": "56917419",
   "metadata": {
    "id": "L0T_RQ97XYoT",
    "papermill": {
     "duration": 0.014326,
     "end_time": "2024-02-01T01:35:06.935833",
     "exception": false,
     "start_time": "2024-02-01T01:35:06.921507",
     "status": "completed"
    },
    "tags": []
   },
   "source": [
    "### スケーリング（標準化）"
   ]
  },
  {
   "cell_type": "markdown",
   "id": "09e891d4",
   "metadata": {
    "id": "fH7xUj12XcGU",
    "papermill": {
     "duration": 0.011929,
     "end_time": "2024-02-01T01:35:06.960252",
     "exception": false,
     "start_time": "2024-02-01T01:35:06.948323",
     "status": "completed"
    },
    "tags": []
   },
   "source": [
    "- MinMaxScaler(正規化)"
   ]
  },
  {
   "cell_type": "code",
   "execution_count": 7,
   "id": "09534d8b",
   "metadata": {
    "execution": {
     "iopub.execute_input": "2024-02-01T01:35:06.988778Z",
     "iopub.status.busy": "2024-02-01T01:35:06.988289Z",
     "iopub.status.idle": "2024-02-01T01:35:06.993763Z",
     "shell.execute_reply": "2024-02-01T01:35:06.992881Z"
    },
    "id": "H2MehtAxXd61",
    "papermill": {
     "duration": 0.023808,
     "end_time": "2024-02-01T01:35:06.996833",
     "exception": false,
     "start_time": "2024-02-01T01:35:06.973025",
     "status": "completed"
    },
    "tags": []
   },
   "outputs": [],
   "source": [
    "def scaling_MinMaxScaler(df, scale_cols):\n",
    "    df_scale = df[scale_cols]\n",
    "    sc = MinMaxScaler()\n",
    "    df[scale_cols] = pd.DataFrame(sc.fit_transform(df_scale), columns = df_scale.columns)\n",
    "\n",
    "    return df"
   ]
  },
  {
   "cell_type": "markdown",
   "id": "de605f1a",
   "metadata": {
    "id": "evWEXqCTliXu",
    "papermill": {
     "duration": 0.01279,
     "end_time": "2024-02-01T01:35:07.025749",
     "exception": false,
     "start_time": "2024-02-01T01:35:07.012959",
     "status": "completed"
    },
    "tags": []
   },
   "source": [
    "## 特徴量エンジニアリング"
   ]
  },
  {
   "cell_type": "markdown",
   "id": "22aaa64f",
   "metadata": {
    "id": "ehRLTpCDlj_m",
    "papermill": {
     "duration": 0.011864,
     "end_time": "2024-02-01T01:35:07.054967",
     "exception": false,
     "start_time": "2024-02-01T01:35:07.043103",
     "status": "completed"
    },
    "tags": []
   },
   "source": [
    "### 特徴量の作成"
   ]
  },
  {
   "cell_type": "code",
   "execution_count": 8,
   "id": "4e365feb",
   "metadata": {
    "execution": {
     "iopub.execute_input": "2024-02-01T01:35:07.083580Z",
     "iopub.status.busy": "2024-02-01T01:35:07.082311Z",
     "iopub.status.idle": "2024-02-01T01:35:07.088952Z",
     "shell.execute_reply": "2024-02-01T01:35:07.087750Z"
    },
    "id": "SJd05F70kskT",
    "papermill": {
     "duration": 0.024255,
     "end_time": "2024-02-01T01:35:07.091534",
     "exception": false,
     "start_time": "2024-02-01T01:35:07.067279",
     "status": "completed"
    },
    "tags": []
   },
   "outputs": [],
   "source": [
    "def create_new_features(df):\n",
    "    \n",
    "    return df"
   ]
  },
  {
   "cell_type": "markdown",
   "id": "934ccf6a",
   "metadata": {
    "papermill": {
     "duration": 0.011935,
     "end_time": "2024-02-01T01:35:07.117123",
     "exception": false,
     "start_time": "2024-02-01T01:35:07.105188",
     "status": "completed"
    },
    "tags": []
   },
   "source": [
    "#### ビンニング"
   ]
  },
  {
   "cell_type": "code",
   "execution_count": 9,
   "id": "85a51ffe",
   "metadata": {
    "execution": {
     "iopub.execute_input": "2024-02-01T01:35:07.143732Z",
     "iopub.status.busy": "2024-02-01T01:35:07.142782Z",
     "iopub.status.idle": "2024-02-01T01:35:07.148999Z",
     "shell.execute_reply": "2024-02-01T01:35:07.147622Z"
    },
    "papermill": {
     "duration": 0.022146,
     "end_time": "2024-02-01T01:35:07.151407",
     "exception": false,
     "start_time": "2024-02-01T01:35:07.129261",
     "status": "completed"
    },
    "tags": []
   },
   "outputs": [],
   "source": [
    "def binning(df):\n",
    "    \n",
    "    return df"
   ]
  },
  {
   "cell_type": "markdown",
   "id": "20f793bc",
   "metadata": {
    "id": "eWE-oFe4loLR",
    "papermill": {
     "duration": 0.012015,
     "end_time": "2024-02-01T01:35:07.175414",
     "exception": false,
     "start_time": "2024-02-01T01:35:07.163399",
     "status": "completed"
    },
    "tags": []
   },
   "source": [
    "### カテゴリ変数のエンコーディング"
   ]
  },
  {
   "cell_type": "markdown",
   "id": "7b0f364a",
   "metadata": {
    "id": "xoRllpoVJi0M",
    "papermill": {
     "duration": 0.013054,
     "end_time": "2024-02-01T01:35:07.202150",
     "exception": false,
     "start_time": "2024-02-01T01:35:07.189096",
     "status": "completed"
    },
    "tags": []
   },
   "source": [
    "* One-HotEncoding"
   ]
  },
  {
   "cell_type": "code",
   "execution_count": 10,
   "id": "490f609f",
   "metadata": {
    "execution": {
     "iopub.execute_input": "2024-02-01T01:35:07.228524Z",
     "iopub.status.busy": "2024-02-01T01:35:07.227428Z",
     "iopub.status.idle": "2024-02-01T01:35:07.232667Z",
     "shell.execute_reply": "2024-02-01T01:35:07.231842Z"
    },
    "id": "r4FeWb-aJi0N",
    "papermill": {
     "duration": 0.020728,
     "end_time": "2024-02-01T01:35:07.234871",
     "exception": false,
     "start_time": "2024-02-01T01:35:07.214143",
     "status": "completed"
    },
    "tags": []
   },
   "outputs": [],
   "source": [
    "def one_hot_encoding(df, cat_cols):\n",
    "    df = pd.get_dummies(df, columns=cat_cols)\n",
    "\n",
    "    return df"
   ]
  },
  {
   "cell_type": "markdown",
   "id": "c1cd8ed8",
   "metadata": {
    "id": "sKHw_ipAlpUy",
    "papermill": {
     "duration": 0.0121,
     "end_time": "2024-02-01T01:35:07.258860",
     "exception": false,
     "start_time": "2024-02-01T01:35:07.246760",
     "status": "completed"
    },
    "tags": []
   },
   "source": [
    "- LabelEncoding"
   ]
  },
  {
   "cell_type": "code",
   "execution_count": 11,
   "id": "a36d3f50",
   "metadata": {
    "execution": {
     "iopub.execute_input": "2024-02-01T01:35:07.285368Z",
     "iopub.status.busy": "2024-02-01T01:35:07.284522Z",
     "iopub.status.idle": "2024-02-01T01:35:07.291127Z",
     "shell.execute_reply": "2024-02-01T01:35:07.289899Z"
    },
    "id": "uBNUcljZlmV5",
    "papermill": {
     "duration": 0.023073,
     "end_time": "2024-02-01T01:35:07.293819",
     "exception": false,
     "start_time": "2024-02-01T01:35:07.270746",
     "status": "completed"
    },
    "tags": []
   },
   "outputs": [],
   "source": [
    "def label_encoder(df):\n",
    "    categorical_columns = df.select_dtypes(include=['object']).columns\n",
    "\n",
    "    for column in categorical_columns:\n",
    "        df[column] = df[column].fillna('').astype('str') # 欠損値の補完をする\n",
    "        le = LabelEncoder()\n",
    "        df[column] = le.fit_transform(df[column])\n",
    "\n",
    "    return df"
   ]
  },
  {
   "cell_type": "markdown",
   "id": "c2f71077",
   "metadata": {
    "papermill": {
     "duration": 0.011595,
     "end_time": "2024-02-01T01:35:07.318641",
     "exception": false,
     "start_time": "2024-02-01T01:35:07.307046",
     "status": "completed"
    },
    "tags": []
   },
   "source": [
    "- pd.get_dummies"
   ]
  },
  {
   "cell_type": "code",
   "execution_count": 12,
   "id": "e5377d96",
   "metadata": {
    "execution": {
     "iopub.execute_input": "2024-02-01T01:35:07.344362Z",
     "iopub.status.busy": "2024-02-01T01:35:07.343918Z",
     "iopub.status.idle": "2024-02-01T01:35:07.349446Z",
     "shell.execute_reply": "2024-02-01T01:35:07.348511Z"
    },
    "papermill": {
     "duration": 0.021106,
     "end_time": "2024-02-01T01:35:07.351599",
     "exception": false,
     "start_time": "2024-02-01T01:35:07.330493",
     "status": "completed"
    },
    "tags": []
   },
   "outputs": [],
   "source": [
    "def get_dummies(df, cat_cols):\n",
    "    df = pd.get_dummies(df, columns=cat_cols)\n",
    "    \n",
    "    return df"
   ]
  },
  {
   "cell_type": "markdown",
   "id": "5f805ba4",
   "metadata": {
    "id": "OVz_DZCgltFl",
    "papermill": {
     "duration": 0.011684,
     "end_time": "2024-02-01T01:35:07.375172",
     "exception": false,
     "start_time": "2024-02-01T01:35:07.363488",
     "status": "completed"
    },
    "tags": []
   },
   "source": [
    "### 特徴量の選択"
   ]
  },
  {
   "cell_type": "markdown",
   "id": "52153550",
   "metadata": {
    "id": "T-uGFwI8luOC",
    "papermill": {
     "duration": 0.011565,
     "end_time": "2024-02-01T01:35:07.398721",
     "exception": false,
     "start_time": "2024-02-01T01:35:07.387156",
     "status": "completed"
    },
    "tags": []
   },
   "source": [
    "#### 特徴量の重要度評価"
   ]
  },
  {
   "cell_type": "code",
   "execution_count": 13,
   "id": "a8e5a0f4",
   "metadata": {
    "execution": {
     "iopub.execute_input": "2024-02-01T01:35:07.425698Z",
     "iopub.status.busy": "2024-02-01T01:35:07.424178Z",
     "iopub.status.idle": "2024-02-01T01:35:07.432126Z",
     "shell.execute_reply": "2024-02-01T01:35:07.431131Z"
    },
    "id": "IvbTfuG8lrYZ",
    "papermill": {
     "duration": 0.023999,
     "end_time": "2024-02-01T01:35:07.434700",
     "exception": false,
     "start_time": "2024-02-01T01:35:07.410701",
     "status": "completed"
    },
    "tags": []
   },
   "outputs": [],
   "source": [
    "def feature_importance_evaluation(df):\n",
    "    # 訓練データをX(説明変数)とy（目的変数）に分割する\n",
    "    X = df.select_dtypes(include=['float', 'int'])\n",
    "#     X = X.drop([target_col], axis=1) # 目的変数を指定する\n",
    "    y = target # 目的変数を指定する\n",
    "\n",
    "    \n",
    "\n",
    "    # 特徴量の重要度評価\n",
    "    clf = LGBMClassifier(\n",
    "        random_state=42,\n",
    "    )\n",
    "\n",
    "    clf.fit(X, y)\n",
    "    importance = clf.feature_importances_\n",
    "\n",
    "    feature_importance = pd.DataFrame(data=importance, index=X.columns, columns=['importance']) \\\n",
    "        .sort_values(ascending=True, by='importance')\n",
    "\n",
    "    return feature_importance"
   ]
  },
  {
   "cell_type": "markdown",
   "id": "50d2dfd4",
   "metadata": {
    "id": "Uu58wE5hl4MK",
    "papermill": {
     "duration": 0.01182,
     "end_time": "2024-02-01T01:35:07.458970",
     "exception": false,
     "start_time": "2024-02-01T01:35:07.447150",
     "status": "completed"
    },
    "tags": []
   },
   "source": [
    "#### 特徴量の削除"
   ]
  },
  {
   "cell_type": "code",
   "execution_count": 14,
   "id": "d10aef73",
   "metadata": {
    "execution": {
     "iopub.execute_input": "2024-02-01T01:35:07.486270Z",
     "iopub.status.busy": "2024-02-01T01:35:07.484942Z",
     "iopub.status.idle": "2024-02-01T01:35:07.490367Z",
     "shell.execute_reply": "2024-02-01T01:35:07.489510Z"
    },
    "id": "LNqYHRC2l0fz",
    "papermill": {
     "duration": 0.021526,
     "end_time": "2024-02-01T01:35:07.492584",
     "exception": false,
     "start_time": "2024-02-01T01:35:07.471058",
     "status": "completed"
    },
    "tags": []
   },
   "outputs": [],
   "source": [
    "def drop_columns(df):\n",
    "    drop_list = [\n",
    "        \n",
    "    ]\n",
    "    dropped_df = df.drop(columns=drop_list)\n",
    "\n",
    "    return dropped_df"
   ]
  },
  {
   "cell_type": "markdown",
   "id": "ef3eaf09",
   "metadata": {
    "id": "EzhMZ-IVmC04",
    "papermill": {
     "duration": 0.01157,
     "end_time": "2024-02-01T01:35:07.516103",
     "exception": false,
     "start_time": "2024-02-01T01:35:07.504533",
     "status": "completed"
    },
    "tags": []
   },
   "source": [
    "### データセットの更新"
   ]
  },
  {
   "cell_type": "code",
   "execution_count": 15,
   "id": "b0d45c8b",
   "metadata": {
    "execution": {
     "iopub.execute_input": "2024-02-01T01:35:07.542827Z",
     "iopub.status.busy": "2024-02-01T01:35:07.542079Z",
     "iopub.status.idle": "2024-02-01T01:35:07.607142Z",
     "shell.execute_reply": "2024-02-01T01:35:07.606073Z"
    },
    "id": "wtp9MwnUl_zY",
    "papermill": {
     "duration": 0.081681,
     "end_time": "2024-02-01T01:35:07.610242",
     "exception": false,
     "start_time": "2024-02-01T01:35:07.528561",
     "status": "completed"
    },
    "tags": []
   },
   "outputs": [],
   "source": [
    "# 前処理\n",
    "df = missing_values(df)\n",
    "df = outlier(df)\n",
    "\n",
    "scale_cols = []\n",
    "# df = scaling_MinMaxScaler(df, scale_cols) # 標準化したい時のみ実行する\n",
    "\n",
    "# 特徴量エンジニアリング\n",
    "df = create_new_features(df)\n",
    "df = binning(df)\n",
    "df = missing_values(df)\n",
    "df = drop_columns(df)\n",
    "\n",
    "ohe_cols = [] # One-Hot Encodingしたい水準数の少ないカラムを指定する\n",
    "dummies_cols = [] # pd.get_dummiesしたい水準数の少ないカラムを指定する\n",
    "df = one_hot_encoding(df, ohe_cols)\n",
    "df = get_dummies(df, dummies_cols)\n",
    "# df = label_encoder(df)"
   ]
  },
  {
   "cell_type": "code",
   "execution_count": 16,
   "id": "7dc3be43",
   "metadata": {
    "execution": {
     "iopub.execute_input": "2024-02-01T01:35:07.637303Z",
     "iopub.status.busy": "2024-02-01T01:35:07.636809Z",
     "iopub.status.idle": "2024-02-01T01:35:07.682603Z",
     "shell.execute_reply": "2024-02-01T01:35:07.681054Z"
    },
    "id": "DDUYrDzpmD2t",
    "outputId": "453062fd-b278-4ced-f7e2-f903a0067358",
    "papermill": {
     "duration": 0.063631,
     "end_time": "2024-02-01T01:35:07.686499",
     "exception": false,
     "start_time": "2024-02-01T01:35:07.622868",
     "status": "completed"
    },
    "tags": []
   },
   "outputs": [
    {
     "data": {
      "text/html": [
       "<div>\n",
       "<style scoped>\n",
       "    .dataframe tbody tr th:only-of-type {\n",
       "        vertical-align: middle;\n",
       "    }\n",
       "\n",
       "    .dataframe tbody tr th {\n",
       "        vertical-align: top;\n",
       "    }\n",
       "\n",
       "    .dataframe thead th {\n",
       "        text-align: right;\n",
       "    }\n",
       "</style>\n",
       "<table border=\"1\" class=\"dataframe\">\n",
       "  <thead>\n",
       "    <tr style=\"text-align: right;\">\n",
       "      <th></th>\n",
       "      <th>index</th>\n",
       "      <th>Gender</th>\n",
       "      <th>Age</th>\n",
       "      <th>Height</th>\n",
       "      <th>Weight</th>\n",
       "      <th>family_history_with_overweight</th>\n",
       "      <th>FAVC</th>\n",
       "      <th>FCVC</th>\n",
       "      <th>NCP</th>\n",
       "      <th>CAEC</th>\n",
       "      <th>SMOKE</th>\n",
       "      <th>CH2O</th>\n",
       "      <th>SCC</th>\n",
       "      <th>FAF</th>\n",
       "      <th>TUE</th>\n",
       "      <th>CALC</th>\n",
       "      <th>MTRANS</th>\n",
       "      <th>NObeyesdad</th>\n",
       "    </tr>\n",
       "  </thead>\n",
       "  <tbody>\n",
       "    <tr>\n",
       "      <th>0</th>\n",
       "      <td>0</td>\n",
       "      <td>Male</td>\n",
       "      <td>24.44301</td>\n",
       "      <td>1.70000</td>\n",
       "      <td>81.66995</td>\n",
       "      <td>yes</td>\n",
       "      <td>yes</td>\n",
       "      <td>2.00000</td>\n",
       "      <td>2.98330</td>\n",
       "      <td>Sometimes</td>\n",
       "      <td>no</td>\n",
       "      <td>2.76357</td>\n",
       "      <td>no</td>\n",
       "      <td>0.00000</td>\n",
       "      <td>0.97647</td>\n",
       "      <td>Sometimes</td>\n",
       "      <td>Public_Transportation</td>\n",
       "      <td>Overweight_Level_II</td>\n",
       "    </tr>\n",
       "    <tr>\n",
       "      <th>1</th>\n",
       "      <td>1</td>\n",
       "      <td>Female</td>\n",
       "      <td>18.00000</td>\n",
       "      <td>1.56000</td>\n",
       "      <td>57.00000</td>\n",
       "      <td>yes</td>\n",
       "      <td>yes</td>\n",
       "      <td>2.00000</td>\n",
       "      <td>3.00000</td>\n",
       "      <td>Frequently</td>\n",
       "      <td>no</td>\n",
       "      <td>2.00000</td>\n",
       "      <td>no</td>\n",
       "      <td>1.00000</td>\n",
       "      <td>1.00000</td>\n",
       "      <td>no</td>\n",
       "      <td>Automobile</td>\n",
       "      <td>Normal_Weight</td>\n",
       "    </tr>\n",
       "    <tr>\n",
       "      <th>2</th>\n",
       "      <td>2</td>\n",
       "      <td>Female</td>\n",
       "      <td>18.00000</td>\n",
       "      <td>1.71146</td>\n",
       "      <td>50.16575</td>\n",
       "      <td>yes</td>\n",
       "      <td>yes</td>\n",
       "      <td>1.88053</td>\n",
       "      <td>1.41169</td>\n",
       "      <td>Sometimes</td>\n",
       "      <td>no</td>\n",
       "      <td>1.91038</td>\n",
       "      <td>no</td>\n",
       "      <td>0.86604</td>\n",
       "      <td>1.67358</td>\n",
       "      <td>no</td>\n",
       "      <td>Public_Transportation</td>\n",
       "      <td>Insufficient_Weight</td>\n",
       "    </tr>\n",
       "    <tr>\n",
       "      <th>3</th>\n",
       "      <td>3</td>\n",
       "      <td>Female</td>\n",
       "      <td>20.95274</td>\n",
       "      <td>1.71073</td>\n",
       "      <td>131.27485</td>\n",
       "      <td>yes</td>\n",
       "      <td>yes</td>\n",
       "      <td>3.00000</td>\n",
       "      <td>3.00000</td>\n",
       "      <td>Sometimes</td>\n",
       "      <td>no</td>\n",
       "      <td>1.67406</td>\n",
       "      <td>no</td>\n",
       "      <td>1.46786</td>\n",
       "      <td>0.78020</td>\n",
       "      <td>Sometimes</td>\n",
       "      <td>Public_Transportation</td>\n",
       "      <td>Obesity_Type_III</td>\n",
       "    </tr>\n",
       "    <tr>\n",
       "      <th>4</th>\n",
       "      <td>4</td>\n",
       "      <td>Male</td>\n",
       "      <td>31.64108</td>\n",
       "      <td>1.91419</td>\n",
       "      <td>93.79806</td>\n",
       "      <td>yes</td>\n",
       "      <td>yes</td>\n",
       "      <td>2.67966</td>\n",
       "      <td>1.97147</td>\n",
       "      <td>Sometimes</td>\n",
       "      <td>no</td>\n",
       "      <td>1.97985</td>\n",
       "      <td>no</td>\n",
       "      <td>1.96797</td>\n",
       "      <td>0.93172</td>\n",
       "      <td>Sometimes</td>\n",
       "      <td>Public_Transportation</td>\n",
       "      <td>Overweight_Level_II</td>\n",
       "    </tr>\n",
       "  </tbody>\n",
       "</table>\n",
       "</div>"
      ],
      "text/plain": [
       "   index  Gender      Age  Height    Weight family_history_with_overweight  \\\n",
       "0      0    Male 24.44301 1.70000  81.66995                            yes   \n",
       "1      1  Female 18.00000 1.56000  57.00000                            yes   \n",
       "2      2  Female 18.00000 1.71146  50.16575                            yes   \n",
       "3      3  Female 20.95274 1.71073 131.27485                            yes   \n",
       "4      4    Male 31.64108 1.91419  93.79806                            yes   \n",
       "\n",
       "  FAVC    FCVC     NCP        CAEC SMOKE    CH2O SCC     FAF     TUE  \\\n",
       "0  yes 2.00000 2.98330   Sometimes    no 2.76357  no 0.00000 0.97647   \n",
       "1  yes 2.00000 3.00000  Frequently    no 2.00000  no 1.00000 1.00000   \n",
       "2  yes 1.88053 1.41169   Sometimes    no 1.91038  no 0.86604 1.67358   \n",
       "3  yes 3.00000 3.00000   Sometimes    no 1.67406  no 1.46786 0.78020   \n",
       "4  yes 2.67966 1.97147   Sometimes    no 1.97985  no 1.96797 0.93172   \n",
       "\n",
       "        CALC                 MTRANS           NObeyesdad  \n",
       "0  Sometimes  Public_Transportation  Overweight_Level_II  \n",
       "1         no             Automobile        Normal_Weight  \n",
       "2         no  Public_Transportation  Insufficient_Weight  \n",
       "3  Sometimes  Public_Transportation     Obesity_Type_III  \n",
       "4  Sometimes  Public_Transportation  Overweight_Level_II  "
      ]
     },
     "execution_count": 16,
     "metadata": {},
     "output_type": "execute_result"
    }
   ],
   "source": [
    "train = df[:20758]\n",
    "test = df[20758:]\n",
    "\n",
    "# train_x = train.drop(columns=[target_col])\n",
    "# train_y = target\n",
    "# test_x = test.drop(columns=[target_col])\n",
    "\n",
    "train_x = train\n",
    "train_y = target\n",
    "test_x = test\n",
    "\n",
    "X = train_x.values\n",
    "y = train_y.values\n",
    "# y = y.astype(int)\n",
    "\n",
    "df.head()"
   ]
  },
  {
   "cell_type": "code",
   "execution_count": 17,
   "id": "d0d84834",
   "metadata": {
    "execution": {
     "iopub.execute_input": "2024-02-01T01:35:07.714786Z",
     "iopub.status.busy": "2024-02-01T01:35:07.714271Z",
     "iopub.status.idle": "2024-02-01T01:35:10.881614Z",
     "shell.execute_reply": "2024-02-01T01:35:10.880514Z"
    },
    "id": "yIlQ3t2-mxBU",
    "papermill": {
     "duration": 3.184236,
     "end_time": "2024-02-01T01:35:10.884108",
     "exception": false,
     "start_time": "2024-02-01T01:35:07.699872",
     "status": "completed"
    },
    "tags": []
   },
   "outputs": [
    {
     "name": "stdout",
     "output_type": "stream",
     "text": [
      "[LightGBM] [Info] Auto-choosing col-wise multi-threading, the overhead of testing was 0.004661 seconds.\n",
      "You can set `force_col_wise=true` to remove the overhead.\n",
      "[LightGBM] [Info] Total Bins 2279\n",
      "[LightGBM] [Info] Number of data points in the train set: 20758, number of used features: 9\n",
      "[LightGBM] [Info] Start training from score -2.107483\n",
      "[LightGBM] [Info] Start training from score -1.907353\n",
      "[LightGBM] [Info] Start training from score -1.964779\n",
      "[LightGBM] [Info] Start training from score -1.854892\n",
      "[LightGBM] [Info] Start training from score -1.635203\n",
      "[LightGBM] [Info] Start training from score -2.146276\n",
      "[LightGBM] [Info] Start training from score -2.107879\n"
     ]
    },
    {
     "data": {
      "text/html": [
       "<div>\n",
       "<style scoped>\n",
       "    .dataframe tbody tr th:only-of-type {\n",
       "        vertical-align: middle;\n",
       "    }\n",
       "\n",
       "    .dataframe tbody tr th {\n",
       "        vertical-align: top;\n",
       "    }\n",
       "\n",
       "    .dataframe thead th {\n",
       "        text-align: right;\n",
       "    }\n",
       "</style>\n",
       "<table border=\"1\" class=\"dataframe\">\n",
       "  <thead>\n",
       "    <tr style=\"text-align: right;\">\n",
       "      <th></th>\n",
       "      <th>importance</th>\n",
       "    </tr>\n",
       "  </thead>\n",
       "  <tbody>\n",
       "    <tr>\n",
       "      <th>NCP</th>\n",
       "      <td>1105</td>\n",
       "    </tr>\n",
       "    <tr>\n",
       "      <th>FCVC</th>\n",
       "      <td>1235</td>\n",
       "    </tr>\n",
       "    <tr>\n",
       "      <th>FAF</th>\n",
       "      <td>1503</td>\n",
       "    </tr>\n",
       "    <tr>\n",
       "      <th>TUE</th>\n",
       "      <td>1513</td>\n",
       "    </tr>\n",
       "    <tr>\n",
       "      <th>CH2O</th>\n",
       "      <td>1525</td>\n",
       "    </tr>\n",
       "    <tr>\n",
       "      <th>Age</th>\n",
       "      <td>3102</td>\n",
       "    </tr>\n",
       "    <tr>\n",
       "      <th>index</th>\n",
       "      <td>3407</td>\n",
       "    </tr>\n",
       "    <tr>\n",
       "      <th>Height</th>\n",
       "      <td>3424</td>\n",
       "    </tr>\n",
       "    <tr>\n",
       "      <th>Weight</th>\n",
       "      <td>4186</td>\n",
       "    </tr>\n",
       "  </tbody>\n",
       "</table>\n",
       "</div>"
      ],
      "text/plain": [
       "        importance\n",
       "NCP           1105\n",
       "FCVC          1235\n",
       "FAF           1503\n",
       "TUE           1513\n",
       "CH2O          1525\n",
       "Age           3102\n",
       "index         3407\n",
       "Height        3424\n",
       "Weight        4186"
      ]
     },
     "execution_count": 17,
     "metadata": {},
     "output_type": "execute_result"
    }
   ],
   "source": [
    "# 特徴量の重要度評価\n",
    "train_importance = train\n",
    "feature_importance = feature_importance_evaluation(train_importance)\n",
    "feature_importance"
   ]
  },
  {
   "cell_type": "code",
   "execution_count": 18,
   "id": "3cff34ec",
   "metadata": {
    "execution": {
     "iopub.execute_input": "2024-02-01T01:35:10.913444Z",
     "iopub.status.busy": "2024-02-01T01:35:10.912964Z",
     "iopub.status.idle": "2024-02-01T01:35:11.308858Z",
     "shell.execute_reply": "2024-02-01T01:35:11.307601Z"
    },
    "id": "kUDkAd58nOmV",
    "papermill": {
     "duration": 0.413646,
     "end_time": "2024-02-01T01:35:11.311342",
     "exception": false,
     "start_time": "2024-02-01T01:35:10.897696",
     "status": "completed"
    },
    "tags": []
   },
   "outputs": [
    {
     "data": {
      "text/plain": [
       "<Axes: >"
      ]
     },
     "execution_count": 18,
     "metadata": {},
     "output_type": "execute_result"
    },
    {
     "data": {
      "image/png": "[encoded data removed]",
      "text/plain": [
       "<Figure size 1000x1500 with 1 Axes>"
      ]
     },
     "metadata": {},
     "output_type": "display_data"
    }
   ],
   "source": [
    "feature_importance.plot(kind='barh', figsize=(10, 15), color='b')"
   ]
  },
  {
   "cell_type": "code",
   "execution_count": 19,
   "id": "54163a4a",
   "metadata": {
    "execution": {
     "iopub.execute_input": "2024-02-01T01:35:11.341033Z",
     "iopub.status.busy": "2024-02-01T01:35:11.340521Z",
     "iopub.status.idle": "2024-02-01T01:35:12.066129Z",
     "shell.execute_reply": "2024-02-01T01:35:12.065046Z"
    },
    "id": "DVYEwrPUnW9Q",
    "papermill": {
     "duration": 0.743865,
     "end_time": "2024-02-01T01:35:12.069065",
     "exception": false,
     "start_time": "2024-02-01T01:35:11.325200",
     "status": "completed"
    },
    "tags": []
   },
   "outputs": [],
   "source": [
    "df.to_csv(OUTPUT_DIR + 'data.csv', index=False)"
   ]
  },
  {
   "cell_type": "code",
   "execution_count": 20,
   "id": "c00444ff",
   "metadata": {
    "execution": {
     "iopub.execute_input": "2024-02-01T01:35:12.101261Z",
     "iopub.status.busy": "2024-02-01T01:35:12.099994Z",
     "iopub.status.idle": "2024-02-01T01:35:12.110111Z",
     "shell.execute_reply": "2024-02-01T01:35:12.108747Z"
    },
    "id": "zxBoX1zbnYUl",
    "papermill": {
     "duration": 0.028807,
     "end_time": "2024-02-01T01:35:12.113230",
     "exception": false,
     "start_time": "2024-02-01T01:35:12.084423",
     "status": "completed"
    },
    "tags": []
   },
   "outputs": [],
   "source": [
    "def file_to_xy(filename):\n",
    "    data = pd.read_csv(filename, index_col=0)\n",
    "    print(f'読み込み完了 {filename}')\n",
    "    train = data[:20758].reset_index(drop=True)\n",
    "    test = data[20758:].reset_index(drop=True).drop(target_col, axis=1) # 目的変数を指定する\n",
    "    # 目的変数と説明変数に分割\n",
    "    X = train.drop([target_col], axis=1) # 目的変数を指定する\n",
    "    y = train[target_col].values # 目的変数を指定する\n",
    "\n",
    "    return data,test,train,X,y"
   ]
  },
  {
   "cell_type": "code",
   "execution_count": 21,
   "id": "5d634de3",
   "metadata": {
    "execution": {
     "iopub.execute_input": "2024-02-01T01:35:12.144636Z",
     "iopub.status.busy": "2024-02-01T01:35:12.143203Z",
     "iopub.status.idle": "2024-02-01T01:35:12.327599Z",
     "shell.execute_reply": "2024-02-01T01:35:12.326307Z"
    },
    "id": "DRZhqQjJnfme",
    "outputId": "9cf6043d-315f-4fb6-908b-a67297884126",
    "papermill": {
     "duration": 0.202545,
     "end_time": "2024-02-01T01:35:12.330256",
     "exception": false,
     "start_time": "2024-02-01T01:35:12.127711",
     "status": "completed"
    },
    "tags": []
   },
   "outputs": [
    {
     "name": "stdout",
     "output_type": "stream",
     "text": [
      "読み込み完了 /kaggle/working/data.csv\n"
     ]
    }
   ],
   "source": [
    "filename = 'data.csv'\n",
    "data,test,train,X,y = file_to_xy(OUTPUT_DIR + filename)"
   ]
  },
  {
   "cell_type": "code",
   "execution_count": null,
   "id": "3a625364",
   "metadata": {
    "papermill": {
     "duration": 0.013404,
     "end_time": "2024-02-01T01:35:12.357508",
     "exception": false,
     "start_time": "2024-02-01T01:35:12.344104",
     "status": "completed"
    },
    "tags": []
   },
   "outputs": [],
   "source": []
  }
 ],
 "metadata": {
  "colab": {
   "provenance": []
  },
  "kaggle": {
   "accelerator": "none",
   "dataSources": [
    {
     "databundleVersionId": 7609535,
     "sourceId": 68479,
     "sourceType": "competition"
    }
   ],
   "dockerImageVersionId": 30646,
   "isGpuEnabled": false,
   "isInternetEnabled": true,
   "language": "python",
   "sourceType": "notebook"
  },
  "kernelspec": {
   "display_name": "Python 3",
   "language": "python",
   "name": "python3"
  },
  "language_info": {
   "codemirror_mode": {
    "name": "ipython",
    "version": 3
   },
   "file_extension": ".py",
   "mimetype": "text/x-python",
   "name": "python",
   "nbconvert_exporter": "python",
   "pygments_lexer": "ipython3",
   "version": "3.10.13"
  },
  "papermill": {
   "default_parameters": {},
   "duration": 14.95452,
   "end_time": "2024-02-01T01:35:13.497116",
   "environment_variables": {},
   "exception": null,
   "input_path": "__notebook__.ipynb",
   "output_path": "__notebook__.ipynb",
   "parameters": {},
   "start_time": "2024-02-01T01:34:58.542596",
   "version": "2.4.0"
  }
 },
 "nbformat": 4,
 "nbformat_minor": 5
}

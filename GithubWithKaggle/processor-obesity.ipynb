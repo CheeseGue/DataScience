{
 "cells": [
  {
   "cell_type": "markdown",
   "id": "dc47a321",
   "metadata": {
    "id": "9jJ7f1atJ0qO",
    "papermill": {
     "duration": 0.013105,
     "end_time": "2024-02-04T01:26:44.909513",
     "exception": false,
     "start_time": "2024-02-04T01:26:44.896408",
     "status": "completed"
    },
    "tags": []
   },
   "source": [
    "# **肥満リスクの多クラス予測**\n",
    "(Multi-Class Prediction of Obesity Risk)"
   ]
  },
  {
   "cell_type": "markdown",
   "id": "dcdf3d8c",
   "metadata": {
    "id": "dRrM5BeJkgj-",
    "papermill": {
     "duration": 0.012448,
     "end_time": "2024-02-04T01:26:44.936457",
     "exception": false,
     "start_time": "2024-02-04T01:26:44.924009",
     "status": "completed"
    },
    "tags": []
   },
   "source": [
    "# 参考資料\n",
    "**書籍**\n",
    "\n",
    "\n",
    "**Kaggle**\n",
    "- [easy peasy EDA & XGBoost is all you need](https://www.kaggle.com/code/lucamassaron/easy-peasy-eda-xgboost-is-all-you-need)\n",
    "\n",
    "**自分で作成したファイル**\n",
    "- 銀行解約データセットを使用した二項分類\n",
    "- Home_Credit_Default_Risk\n",
    "- 肝硬変の転帰の多クラス予測\n",
    "- 馬の健康への影響を予測する\n",
    "- ルワンダにおける CO2 排出量を予測する\n",
    "\n",
    "**その他**\n"
   ]
  },
  {
   "cell_type": "markdown",
   "id": "a74a0fdf",
   "metadata": {
    "id": "MV1ptyJ5kn2E",
    "papermill": {
     "duration": 0.011996,
     "end_time": "2024-02-04T01:26:44.961036",
     "exception": false,
     "start_time": "2024-02-04T01:26:44.949040",
     "status": "completed"
    },
    "tags": []
   },
   "source": [
    "## ライブラリ・データセットのインポート"
   ]
  },
  {
   "cell_type": "code",
   "execution_count": 1,
   "id": "dff5ae06",
   "metadata": {
    "execution": {
     "iopub.execute_input": "2024-02-04T01:26:44.987963Z",
     "iopub.status.busy": "2024-02-04T01:26:44.987500Z",
     "iopub.status.idle": "2024-02-04T01:26:45.977545Z",
     "shell.execute_reply": "2024-02-04T01:26:45.976315Z"
    },
    "id": "cXwErGKbkUpb",
    "papermill": {
     "duration": 1.007114,
     "end_time": "2024-02-04T01:26:45.980572",
     "exception": false,
     "start_time": "2024-02-04T01:26:44.973458",
     "status": "completed"
    },
    "tags": []
   },
   "outputs": [],
   "source": [
    "import numpy as np\n",
    "import pandas as pd\n",
    "\n",
    "import warnings\n",
    "warnings.filterwarnings('ignore')\n",
    "\n",
    "pd.options.display.float_format = '{:.5f}'.format\n",
    "pd.set_option('display.max_columns', None)\n",
    "pd.set_option('display.max_rows', None)"
   ]
  },
  {
   "cell_type": "code",
   "execution_count": 2,
   "id": "a71057b9",
   "metadata": {
    "execution": {
     "iopub.execute_input": "2024-02-04T01:26:46.008199Z",
     "iopub.status.busy": "2024-02-04T01:26:46.007595Z",
     "iopub.status.idle": "2024-02-04T01:26:48.890024Z",
     "shell.execute_reply": "2024-02-04T01:26:48.888711Z"
    },
    "id": "y2vH8YMCko3q",
    "papermill": {
     "duration": 2.899879,
     "end_time": "2024-02-04T01:26:48.893064",
     "exception": false,
     "start_time": "2024-02-04T01:26:45.993185",
     "status": "completed"
    },
    "tags": []
   },
   "outputs": [],
   "source": [
    "from sklearn.preprocessing import LabelEncoder, MinMaxScaler\n",
    "from lightgbm import LGBMClassifier # 特徴量の重要度評価で用いる"
   ]
  },
  {
   "cell_type": "markdown",
   "id": "01d12c82",
   "metadata": {
    "id": "xAub7rgGk35P",
    "papermill": {
     "duration": 0.012055,
     "end_time": "2024-02-04T01:26:48.918364",
     "exception": false,
     "start_time": "2024-02-04T01:26:48.906309",
     "status": "completed"
    },
    "tags": []
   },
   "source": [
    "## 実行時間を調べるために使う"
   ]
  },
  {
   "cell_type": "code",
   "execution_count": 3,
   "id": "516d7186",
   "metadata": {
    "execution": {
     "iopub.execute_input": "2024-02-04T01:26:48.946911Z",
     "iopub.status.busy": "2024-02-04T01:26:48.946490Z",
     "iopub.status.idle": "2024-02-04T01:26:48.954786Z",
     "shell.execute_reply": "2024-02-04T01:26:48.953251Z"
    },
    "id": "_hGkGqJtk6M-",
    "papermill": {
     "duration": 0.024797,
     "end_time": "2024-02-04T01:26:48.957385",
     "exception": false,
     "start_time": "2024-02-04T01:26:48.932588",
     "status": "completed"
    },
    "tags": []
   },
   "outputs": [],
   "source": [
    "import datetime\n",
    "import time\n",
    "import math\n",
    "\n",
    "start_time = time.time()\n",
    "\n",
    "def changeHMS(s):\n",
    "    h = math.floor(s / 3600)\n",
    "    if h > 0:\n",
    "        s = s - h * 3600\n",
    "        indi_h = str(h) + 'h'\n",
    "    else:\n",
    "        indi_h = ''\n",
    "    m = math.floor(s / 60)\n",
    "    if m > 0:\n",
    "        indi_m = str(m) + 'm'\n",
    "    else:\n",
    "        indi_m = ''\n",
    "    s = math.floor(s % 60)\n",
    "    time = indi_h + indi_m + str(s) + 's'\n",
    "    return time"
   ]
  },
  {
   "cell_type": "code",
   "execution_count": 4,
   "id": "c2cf98ef",
   "metadata": {
    "execution": {
     "iopub.execute_input": "2024-02-04T01:26:48.984501Z",
     "iopub.status.busy": "2024-02-04T01:26:48.984059Z",
     "iopub.status.idle": "2024-02-04T01:26:49.241494Z",
     "shell.execute_reply": "2024-02-04T01:26:49.240319Z"
    },
    "id": "4EzyBOiPkph8",
    "papermill": {
     "duration": 0.273712,
     "end_time": "2024-02-04T01:26:49.244184",
     "exception": false,
     "start_time": "2024-02-04T01:26:48.970472",
     "status": "completed"
    },
    "tags": []
   },
   "outputs": [],
   "source": [
    "FILE_PATH = '/kaggle/input/playground-series-s4e2/'\n",
    "OUTPUT_DIR = '/kaggle/working/'\n",
    "\n",
    "train = pd.read_csv(FILE_PATH + 'train.csv')\n",
    "test = pd.read_csv(FILE_PATH + 'test.csv')\n",
    "\n",
    "train_id = train['id']\n",
    "train.drop('id', axis=1, inplace=True)\n",
    "\n",
    "test_id = test['id']\n",
    "test.drop('id', axis=1, inplace=True)\n",
    "\n",
    "target = train['NObeyesdad']\n",
    "target_col = 'NObeyesdad'\n",
    "\n",
    "target_name = str(train.iloc[:, [-1]].columns.tolist()) # カラム数-2の値が目的変数\n",
    "\n",
    "df = pd.concat([train, test], axis=0)\n",
    "df.reset_index(inplace=True)\n",
    "\n",
    "# 説明変数をデータ型ごとに代入する\n",
    "numerical_features = df._get_numeric_data().columns\n",
    "categorical_features = df.drop(numerical_features, axis=1).columns\n",
    "\n",
    "categorical_features = df.drop(target_col, axis=1).columns"
   ]
  },
  {
   "cell_type": "markdown",
   "id": "175c5012",
   "metadata": {
    "id": "O1qWEpEsmIsU",
    "papermill": {
     "duration": 0.011845,
     "end_time": "2024-02-04T01:26:49.268766",
     "exception": false,
     "start_time": "2024-02-04T01:26:49.256921",
     "status": "completed"
    },
    "tags": []
   },
   "source": [
    "## 前処理"
   ]
  },
  {
   "cell_type": "markdown",
   "id": "91c8de68",
   "metadata": {
    "id": "Geqin6VhmJw9",
    "papermill": {
     "duration": 0.011867,
     "end_time": "2024-02-04T01:26:49.292755",
     "exception": false,
     "start_time": "2024-02-04T01:26:49.280888",
     "status": "completed"
    },
    "tags": []
   },
   "source": [
    "### 欠損値の補完"
   ]
  },
  {
   "cell_type": "code",
   "execution_count": 5,
   "id": "864348b6",
   "metadata": {
    "execution": {
     "iopub.execute_input": "2024-02-04T01:26:49.318797Z",
     "iopub.status.busy": "2024-02-04T01:26:49.318382Z",
     "iopub.status.idle": "2024-02-04T01:26:49.323384Z",
     "shell.execute_reply": "2024-02-04T01:26:49.322488Z"
    },
    "id": "pc9ukAPLmKkl",
    "papermill": {
     "duration": 0.020756,
     "end_time": "2024-02-04T01:26:49.325648",
     "exception": false,
     "start_time": "2024-02-04T01:26:49.304892",
     "status": "completed"
    },
    "tags": []
   },
   "outputs": [],
   "source": [
    "def missing_values(df):\n",
    "\n",
    "    return df"
   ]
  },
  {
   "cell_type": "markdown",
   "id": "b3c20dfd",
   "metadata": {
    "id": "2ZLsziVQmM_s",
    "papermill": {
     "duration": 0.011728,
     "end_time": "2024-02-04T01:26:49.349451",
     "exception": false,
     "start_time": "2024-02-04T01:26:49.337723",
     "status": "completed"
    },
    "tags": []
   },
   "source": [
    "### 外れ値の修正"
   ]
  },
  {
   "cell_type": "code",
   "execution_count": 6,
   "id": "01b9b04d",
   "metadata": {
    "execution": {
     "iopub.execute_input": "2024-02-04T01:26:49.375641Z",
     "iopub.status.busy": "2024-02-04T01:26:49.374866Z",
     "iopub.status.idle": "2024-02-04T01:26:49.379712Z",
     "shell.execute_reply": "2024-02-04T01:26:49.378653Z"
    },
    "id": "D9RIXWdJmOBI",
    "papermill": {
     "duration": 0.021249,
     "end_time": "2024-02-04T01:26:49.382654",
     "exception": false,
     "start_time": "2024-02-04T01:26:49.361405",
     "status": "completed"
    },
    "tags": []
   },
   "outputs": [],
   "source": [
    "def outlier(df):\n",
    "\n",
    "    return df"
   ]
  },
  {
   "cell_type": "markdown",
   "id": "fc66f2b9",
   "metadata": {
    "id": "L0T_RQ97XYoT",
    "papermill": {
     "duration": 0.012115,
     "end_time": "2024-02-04T01:26:49.407495",
     "exception": false,
     "start_time": "2024-02-04T01:26:49.395380",
     "status": "completed"
    },
    "tags": []
   },
   "source": [
    "### スケーリング（標準化）"
   ]
  },
  {
   "cell_type": "markdown",
   "id": "8614bf0a",
   "metadata": {
    "id": "fH7xUj12XcGU",
    "papermill": {
     "duration": 0.012021,
     "end_time": "2024-02-04T01:26:49.431980",
     "exception": false,
     "start_time": "2024-02-04T01:26:49.419959",
     "status": "completed"
    },
    "tags": []
   },
   "source": [
    "- MinMaxScaler(正規化)"
   ]
  },
  {
   "cell_type": "code",
   "execution_count": 7,
   "id": "776785a2",
   "metadata": {
    "execution": {
     "iopub.execute_input": "2024-02-04T01:26:49.459657Z",
     "iopub.status.busy": "2024-02-04T01:26:49.458630Z",
     "iopub.status.idle": "2024-02-04T01:26:49.465362Z",
     "shell.execute_reply": "2024-02-04T01:26:49.464169Z"
    },
    "id": "H2MehtAxXd61",
    "papermill": {
     "duration": 0.023316,
     "end_time": "2024-02-04T01:26:49.467809",
     "exception": false,
     "start_time": "2024-02-04T01:26:49.444493",
     "status": "completed"
    },
    "tags": []
   },
   "outputs": [],
   "source": [
    "def scaling_MinMaxScaler(df, scale_cols):\n",
    "    df_scale = df[scale_cols]\n",
    "    sc = MinMaxScaler()\n",
    "    df[scale_cols] = pd.DataFrame(sc.fit_transform(df_scale), columns = df_scale.columns)\n",
    "\n",
    "    return df"
   ]
  },
  {
   "cell_type": "markdown",
   "id": "e040c850",
   "metadata": {
    "id": "evWEXqCTliXu",
    "papermill": {
     "duration": 0.012151,
     "end_time": "2024-02-04T01:26:49.493021",
     "exception": false,
     "start_time": "2024-02-04T01:26:49.480870",
     "status": "completed"
    },
    "tags": []
   },
   "source": [
    "## 特徴量エンジニアリング"
   ]
  },
  {
   "cell_type": "markdown",
   "id": "c5d21283",
   "metadata": {
    "id": "ehRLTpCDlj_m",
    "papermill": {
     "duration": 0.011964,
     "end_time": "2024-02-04T01:26:49.517528",
     "exception": false,
     "start_time": "2024-02-04T01:26:49.505564",
     "status": "completed"
    },
    "tags": []
   },
   "source": [
    "### 特徴量の作成"
   ]
  },
  {
   "cell_type": "code",
   "execution_count": 8,
   "id": "57c8a115",
   "metadata": {
    "execution": {
     "iopub.execute_input": "2024-02-04T01:26:49.544741Z",
     "iopub.status.busy": "2024-02-04T01:26:49.544309Z",
     "iopub.status.idle": "2024-02-04T01:26:49.550623Z",
     "shell.execute_reply": "2024-02-04T01:26:49.549464Z"
    },
    "id": "SJd05F70kskT",
    "papermill": {
     "duration": 0.02296,
     "end_time": "2024-02-04T01:26:49.552944",
     "exception": false,
     "start_time": "2024-02-04T01:26:49.529984",
     "status": "completed"
    },
    "tags": []
   },
   "outputs": [],
   "source": [
    "def create_new_features(df):\n",
    "    # BMI\n",
    "    df['BMI'] = df['Weight'] / (df['Height'] ** 2)\n",
    "    \n",
    "#     # 身体のアクティビティレベル\n",
    "#     df['Physical_Activity_Level'] = df['FAF'] - df['TUE']\n",
    "    \n",
    "    # 食習慣\n",
    "    df['Meal_Habits'] = df['FCVC'] * df['NCP']\n",
    "    \n",
    "#     # 健康栄養習慣\n",
    "#     df['Healthy_Nutrition_Habits'] = df['FCVC'] / (2 * df['FAVC_no'] - 1)\n",
    "    \n",
    "#     # 技術使用法スコア\n",
    "#     df['Tech_Usage_Score'] = df['TUE'] / df['Age']\n",
    "    \n",
    "    return df"
   ]
  },
  {
   "cell_type": "markdown",
   "id": "fee673bf",
   "metadata": {
    "papermill": {
     "duration": 0.011916,
     "end_time": "2024-02-04T01:26:49.577313",
     "exception": false,
     "start_time": "2024-02-04T01:26:49.565397",
     "status": "completed"
    },
    "tags": []
   },
   "source": [
    "#### ビンニング"
   ]
  },
  {
   "cell_type": "code",
   "execution_count": 9,
   "id": "bfa3de7f",
   "metadata": {
    "execution": {
     "iopub.execute_input": "2024-02-04T01:26:49.605546Z",
     "iopub.status.busy": "2024-02-04T01:26:49.604692Z",
     "iopub.status.idle": "2024-02-04T01:26:49.609931Z",
     "shell.execute_reply": "2024-02-04T01:26:49.609057Z"
    },
    "papermill": {
     "duration": 0.022442,
     "end_time": "2024-02-04T01:26:49.612406",
     "exception": false,
     "start_time": "2024-02-04T01:26:49.589964",
     "status": "completed"
    },
    "tags": []
   },
   "outputs": [],
   "source": [
    "def binning(df):\n",
    "    \n",
    "    return df"
   ]
  },
  {
   "cell_type": "markdown",
   "id": "76fb1e27",
   "metadata": {
    "id": "eWE-oFe4loLR",
    "papermill": {
     "duration": 0.012042,
     "end_time": "2024-02-04T01:26:49.637412",
     "exception": false,
     "start_time": "2024-02-04T01:26:49.625370",
     "status": "completed"
    },
    "tags": []
   },
   "source": [
    "### カテゴリ変数のエンコーディング"
   ]
  },
  {
   "cell_type": "markdown",
   "id": "b71ca904",
   "metadata": {
    "id": "xoRllpoVJi0M",
    "papermill": {
     "duration": 0.012071,
     "end_time": "2024-02-04T01:26:49.662090",
     "exception": false,
     "start_time": "2024-02-04T01:26:49.650019",
     "status": "completed"
    },
    "tags": []
   },
   "source": [
    "* One-HotEncoding"
   ]
  },
  {
   "cell_type": "code",
   "execution_count": 10,
   "id": "d0b6a88d",
   "metadata": {
    "execution": {
     "iopub.execute_input": "2024-02-04T01:26:49.688941Z",
     "iopub.status.busy": "2024-02-04T01:26:49.688529Z",
     "iopub.status.idle": "2024-02-04T01:26:49.695552Z",
     "shell.execute_reply": "2024-02-04T01:26:49.694398Z"
    },
    "id": "r4FeWb-aJi0N",
    "papermill": {
     "duration": 0.02371,
     "end_time": "2024-02-04T01:26:49.698404",
     "exception": false,
     "start_time": "2024-02-04T01:26:49.674694",
     "status": "completed"
    },
    "tags": []
   },
   "outputs": [],
   "source": [
    "def one_hot_encoding(df, cat_cols):\n",
    "    df[target_col] = df[target_col].map({\n",
    "    \"Insufficient_Weight\":0,\n",
    "    \"Normal_Weight\":1,\n",
    "    \"Obesity_Type_I\":2,\n",
    "    \"Obesity_Type_II\":3,\n",
    "    \"Obesity_Type_III\":4,\n",
    "    \"Overweight_Level_I\":5,\n",
    "    \"Overweight_Level_II\":6,\n",
    "    })\n",
    "\n",
    "    df = pd.get_dummies(df, columns=cat_cols)\n",
    "\n",
    "    return df"
   ]
  },
  {
   "cell_type": "markdown",
   "id": "e01db987",
   "metadata": {
    "id": "sKHw_ipAlpUy",
    "papermill": {
     "duration": 0.011877,
     "end_time": "2024-02-04T01:26:49.722780",
     "exception": false,
     "start_time": "2024-02-04T01:26:49.710903",
     "status": "completed"
    },
    "tags": []
   },
   "source": [
    "- LabelEncoding"
   ]
  },
  {
   "cell_type": "code",
   "execution_count": 11,
   "id": "7626ae1d",
   "metadata": {
    "execution": {
     "iopub.execute_input": "2024-02-04T01:26:49.749489Z",
     "iopub.status.busy": "2024-02-04T01:26:49.748710Z",
     "iopub.status.idle": "2024-02-04T01:26:49.755084Z",
     "shell.execute_reply": "2024-02-04T01:26:49.754222Z"
    },
    "id": "uBNUcljZlmV5",
    "papermill": {
     "duration": 0.022819,
     "end_time": "2024-02-04T01:26:49.757819",
     "exception": false,
     "start_time": "2024-02-04T01:26:49.735000",
     "status": "completed"
    },
    "tags": []
   },
   "outputs": [],
   "source": [
    "def label_encoder(df, categorical_columns):\n",
    "#     categorical_columns = df.select_dtypes(include=['object']).columns\n",
    "\n",
    "    for column in categorical_columns:\n",
    "        df[column] = df[column].fillna('').astype('str') # 欠損値の補完をする\n",
    "        le = LabelEncoder()\n",
    "        df[column] = le.fit_transform(df[column])\n",
    "\n",
    "    return df"
   ]
  },
  {
   "cell_type": "markdown",
   "id": "4be75a89",
   "metadata": {
    "papermill": {
     "duration": 0.012036,
     "end_time": "2024-02-04T01:26:49.782070",
     "exception": false,
     "start_time": "2024-02-04T01:26:49.770034",
     "status": "completed"
    },
    "tags": []
   },
   "source": [
    "- pd.get_dummies"
   ]
  },
  {
   "cell_type": "code",
   "execution_count": 12,
   "id": "e65b5352",
   "metadata": {
    "execution": {
     "iopub.execute_input": "2024-02-04T01:26:49.809007Z",
     "iopub.status.busy": "2024-02-04T01:26:49.808563Z",
     "iopub.status.idle": "2024-02-04T01:26:49.814190Z",
     "shell.execute_reply": "2024-02-04T01:26:49.812924Z"
    },
    "papermill": {
     "duration": 0.021949,
     "end_time": "2024-02-04T01:26:49.816454",
     "exception": false,
     "start_time": "2024-02-04T01:26:49.794505",
     "status": "completed"
    },
    "tags": []
   },
   "outputs": [],
   "source": [
    "def get_dummies(df, cat_cols):\n",
    "    df = pd.get_dummies(df, columns=cat_cols)\n",
    "    \n",
    "    return df"
   ]
  },
  {
   "cell_type": "markdown",
   "id": "a60eeb18",
   "metadata": {
    "id": "OVz_DZCgltFl",
    "papermill": {
     "duration": 0.011758,
     "end_time": "2024-02-04T01:26:49.840409",
     "exception": false,
     "start_time": "2024-02-04T01:26:49.828651",
     "status": "completed"
    },
    "tags": []
   },
   "source": [
    "### 特徴量の選択"
   ]
  },
  {
   "cell_type": "markdown",
   "id": "6c6d71d0",
   "metadata": {
    "id": "T-uGFwI8luOC",
    "papermill": {
     "duration": 0.01162,
     "end_time": "2024-02-04T01:26:49.864209",
     "exception": false,
     "start_time": "2024-02-04T01:26:49.852589",
     "status": "completed"
    },
    "tags": []
   },
   "source": [
    "#### 特徴量の重要度評価"
   ]
  },
  {
   "cell_type": "code",
   "execution_count": 13,
   "id": "5c137b5c",
   "metadata": {
    "execution": {
     "iopub.execute_input": "2024-02-04T01:26:49.890374Z",
     "iopub.status.busy": "2024-02-04T01:26:49.889943Z",
     "iopub.status.idle": "2024-02-04T01:26:49.897343Z",
     "shell.execute_reply": "2024-02-04T01:26:49.896073Z"
    },
    "id": "IvbTfuG8lrYZ",
    "papermill": {
     "duration": 0.023498,
     "end_time": "2024-02-04T01:26:49.899765",
     "exception": false,
     "start_time": "2024-02-04T01:26:49.876267",
     "status": "completed"
    },
    "tags": []
   },
   "outputs": [],
   "source": [
    "def feature_importance_evaluation(df):\n",
    "    # 訓練データをX(説明変数)とy（目的変数）に分割する\n",
    "    X = df.select_dtypes(include=['float', 'int'])\n",
    "#     X = X.drop([target_col], axis=1) # 目的変数を指定する\n",
    "    y = target # 目的変数を指定する\n",
    "\n",
    "    \n",
    "\n",
    "    # 特徴量の重要度評価\n",
    "    clf = LGBMClassifier(\n",
    "        random_state=42,\n",
    "    )\n",
    "\n",
    "    clf.fit(X, y)\n",
    "    importance = clf.feature_importances_\n",
    "\n",
    "    feature_importance = pd.DataFrame(data=importance, index=X.columns, columns=['importance']) \\\n",
    "        .sort_values(ascending=True, by='importance')\n",
    "\n",
    "    return feature_importance"
   ]
  },
  {
   "cell_type": "markdown",
   "id": "b2b7c7e2",
   "metadata": {
    "id": "Uu58wE5hl4MK",
    "papermill": {
     "duration": 0.012804,
     "end_time": "2024-02-04T01:26:49.925957",
     "exception": false,
     "start_time": "2024-02-04T01:26:49.913153",
     "status": "completed"
    },
    "tags": []
   },
   "source": [
    "#### 特徴量の削除"
   ]
  },
  {
   "cell_type": "code",
   "execution_count": 14,
   "id": "da6009e3",
   "metadata": {
    "execution": {
     "iopub.execute_input": "2024-02-04T01:26:49.953576Z",
     "iopub.status.busy": "2024-02-04T01:26:49.952754Z",
     "iopub.status.idle": "2024-02-04T01:26:49.958243Z",
     "shell.execute_reply": "2024-02-04T01:26:49.957387Z"
    },
    "id": "LNqYHRC2l0fz",
    "papermill": {
     "duration": 0.02162,
     "end_time": "2024-02-04T01:26:49.960544",
     "exception": false,
     "start_time": "2024-02-04T01:26:49.938924",
     "status": "completed"
    },
    "tags": []
   },
   "outputs": [],
   "source": [
    "def drop_columns(df):\n",
    "    drop_list = [\n",
    "        \n",
    "    ]\n",
    "    dropped_df = df.drop(columns=drop_list)\n",
    "\n",
    "    return dropped_df"
   ]
  },
  {
   "cell_type": "markdown",
   "id": "4d646e91",
   "metadata": {
    "id": "EzhMZ-IVmC04",
    "papermill": {
     "duration": 0.011885,
     "end_time": "2024-02-04T01:26:49.984611",
     "exception": false,
     "start_time": "2024-02-04T01:26:49.972726",
     "status": "completed"
    },
    "tags": []
   },
   "source": [
    "### データセットの更新"
   ]
  },
  {
   "cell_type": "code",
   "execution_count": 15,
   "id": "63c1a79a",
   "metadata": {
    "execution": {
     "iopub.execute_input": "2024-02-04T01:26:50.012321Z",
     "iopub.status.busy": "2024-02-04T01:26:50.011490Z",
     "iopub.status.idle": "2024-02-04T01:26:50.746900Z",
     "shell.execute_reply": "2024-02-04T01:26:50.745553Z"
    },
    "id": "wtp9MwnUl_zY",
    "papermill": {
     "duration": 0.752677,
     "end_time": "2024-02-04T01:26:50.749864",
     "exception": false,
     "start_time": "2024-02-04T01:26:49.997187",
     "status": "completed"
    },
    "tags": []
   },
   "outputs": [],
   "source": [
    "# 前処理\n",
    "df = missing_values(df)\n",
    "df = outlier(df)\n",
    "\n",
    "scale_cols = []\n",
    "# df = scaling_MinMaxScaler(df, scale_cols) # 標準化したい時のみ実行する\n",
    "\n",
    "# 特徴量エンジニアリング\n",
    "df = create_new_features(df)\n",
    "df = binning(df)\n",
    "df = missing_values(df)\n",
    "df = drop_columns(df)\n",
    "\n",
    "ohe_cols = [] # One-Hot Encodingしたい水準数の少ないカラムを指定する\n",
    "dummies_cols = [] # pd.get_dummiesしたい水準数の少ないカラムを指定する\n",
    "df = one_hot_encoding(df, ohe_cols)\n",
    "df = get_dummies(df, dummies_cols)\n",
    "df = label_encoder(df, categorical_features)"
   ]
  },
  {
   "cell_type": "code",
   "execution_count": 16,
   "id": "d0019959",
   "metadata": {
    "execution": {
     "iopub.execute_input": "2024-02-04T01:26:50.776090Z",
     "iopub.status.busy": "2024-02-04T01:26:50.775621Z",
     "iopub.status.idle": "2024-02-04T01:26:50.803770Z",
     "shell.execute_reply": "2024-02-04T01:26:50.802629Z"
    },
    "id": "DDUYrDzpmD2t",
    "outputId": "453062fd-b278-4ced-f7e2-f903a0067358",
    "papermill": {
     "duration": 0.044241,
     "end_time": "2024-02-04T01:26:50.806240",
     "exception": false,
     "start_time": "2024-02-04T01:26:50.761999",
     "status": "completed"
    },
    "tags": []
   },
   "outputs": [
    {
     "data": {
      "text/html": [
       "<div>\n",
       "<style scoped>\n",
       "    .dataframe tbody tr th:only-of-type {\n",
       "        vertical-align: middle;\n",
       "    }\n",
       "\n",
       "    .dataframe tbody tr th {\n",
       "        vertical-align: top;\n",
       "    }\n",
       "\n",
       "    .dataframe thead th {\n",
       "        text-align: right;\n",
       "    }\n",
       "</style>\n",
       "<table border=\"1\" class=\"dataframe\">\n",
       "  <thead>\n",
       "    <tr style=\"text-align: right;\">\n",
       "      <th></th>\n",
       "      <th>index</th>\n",
       "      <th>Gender</th>\n",
       "      <th>Age</th>\n",
       "      <th>Height</th>\n",
       "      <th>Weight</th>\n",
       "      <th>family_history_with_overweight</th>\n",
       "      <th>FAVC</th>\n",
       "      <th>FCVC</th>\n",
       "      <th>NCP</th>\n",
       "      <th>CAEC</th>\n",
       "      <th>SMOKE</th>\n",
       "      <th>CH2O</th>\n",
       "      <th>SCC</th>\n",
       "      <th>FAF</th>\n",
       "      <th>TUE</th>\n",
       "      <th>CALC</th>\n",
       "      <th>MTRANS</th>\n",
       "      <th>NObeyesdad</th>\n",
       "      <th>BMI</th>\n",
       "      <th>Meal_Habits</th>\n",
       "    </tr>\n",
       "  </thead>\n",
       "  <tbody>\n",
       "    <tr>\n",
       "      <th>0</th>\n",
       "      <td>0</td>\n",
       "      <td>1</td>\n",
       "      <td>1095</td>\n",
       "      <td>933</td>\n",
       "      <td>1839</td>\n",
       "      <td>1</td>\n",
       "      <td>1</td>\n",
       "      <td>265</td>\n",
       "      <td>589</td>\n",
       "      <td>2</td>\n",
       "      <td>0</td>\n",
       "      <td>1491</td>\n",
       "      <td>0</td>\n",
       "      <td>0</td>\n",
       "      <td>1053</td>\n",
       "      <td>2</td>\n",
       "      <td>3</td>\n",
       "      <td>6.00000</td>\n",
       "      <td>28.25956</td>\n",
       "      <td>5.96659</td>\n",
       "    </tr>\n",
       "    <tr>\n",
       "      <th>1</th>\n",
       "      <td>1</td>\n",
       "      <td>0</td>\n",
       "      <td>108</td>\n",
       "      <td>128</td>\n",
       "      <td>1376</td>\n",
       "      <td>1</td>\n",
       "      <td>1</td>\n",
       "      <td>265</td>\n",
       "      <td>624</td>\n",
       "      <td>1</td>\n",
       "      <td>0</td>\n",
       "      <td>756</td>\n",
       "      <td>0</td>\n",
       "      <td>751</td>\n",
       "      <td>1068</td>\n",
       "      <td>3</td>\n",
       "      <td>0</td>\n",
       "      <td>1.00000</td>\n",
       "      <td>23.42209</td>\n",
       "      <td>6.00000</td>\n",
       "    </tr>\n",
       "    <tr>\n",
       "      <th>2</th>\n",
       "      <td>11112</td>\n",
       "      <td>0</td>\n",
       "      <td>108</td>\n",
       "      <td>1040</td>\n",
       "      <td>1253</td>\n",
       "      <td>1</td>\n",
       "      <td>1</td>\n",
       "      <td>206</td>\n",
       "      <td>127</td>\n",
       "      <td>2</td>\n",
       "      <td>0</td>\n",
       "      <td>659</td>\n",
       "      <td>0</td>\n",
       "      <td>587</td>\n",
       "      <td>1322</td>\n",
       "      <td>3</td>\n",
       "      <td>3</td>\n",
       "      <td>0.00000</td>\n",
       "      <td>17.12671</td>\n",
       "      <td>2.65472</td>\n",
       "    </tr>\n",
       "    <tr>\n",
       "      <th>3</th>\n",
       "      <td>12981</td>\n",
       "      <td>0</td>\n",
       "      <td>522</td>\n",
       "      <td>1035</td>\n",
       "      <td>936</td>\n",
       "      <td>1</td>\n",
       "      <td>1</td>\n",
       "      <td>1053</td>\n",
       "      <td>624</td>\n",
       "      <td>2</td>\n",
       "      <td>0</td>\n",
       "      <td>464</td>\n",
       "      <td>0</td>\n",
       "      <td>1040</td>\n",
       "      <td>806</td>\n",
       "      <td>2</td>\n",
       "      <td>3</td>\n",
       "      <td>4.00000</td>\n",
       "      <td>44.85580</td>\n",
       "      <td>9.00000</td>\n",
       "    </tr>\n",
       "    <tr>\n",
       "      <th>4</th>\n",
       "      <td>14092</td>\n",
       "      <td>1</td>\n",
       "      <td>1605</td>\n",
       "      <td>2050</td>\n",
       "      <td>2205</td>\n",
       "      <td>1</td>\n",
       "      <td>1</td>\n",
       "      <td>735</td>\n",
       "      <td>252</td>\n",
       "      <td>2</td>\n",
       "      <td>0</td>\n",
       "      <td>727</td>\n",
       "      <td>0</td>\n",
       "      <td>1330</td>\n",
       "      <td>995</td>\n",
       "      <td>2</td>\n",
       "      <td>3</td>\n",
       "      <td>6.00000</td>\n",
       "      <td>25.59915</td>\n",
       "      <td>5.28288</td>\n",
       "    </tr>\n",
       "  </tbody>\n",
       "</table>\n",
       "</div>"
      ],
      "text/plain": [
       "   index  Gender   Age  Height  Weight  family_history_with_overweight  FAVC  \\\n",
       "0      0       1  1095     933    1839                               1     1   \n",
       "1      1       0   108     128    1376                               1     1   \n",
       "2  11112       0   108    1040    1253                               1     1   \n",
       "3  12981       0   522    1035     936                               1     1   \n",
       "4  14092       1  1605    2050    2205                               1     1   \n",
       "\n",
       "   FCVC  NCP  CAEC  SMOKE  CH2O  SCC   FAF   TUE  CALC  MTRANS  NObeyesdad  \\\n",
       "0   265  589     2      0  1491    0     0  1053     2       3     6.00000   \n",
       "1   265  624     1      0   756    0   751  1068     3       0     1.00000   \n",
       "2   206  127     2      0   659    0   587  1322     3       3     0.00000   \n",
       "3  1053  624     2      0   464    0  1040   806     2       3     4.00000   \n",
       "4   735  252     2      0   727    0  1330   995     2       3     6.00000   \n",
       "\n",
       "       BMI  Meal_Habits  \n",
       "0 28.25956      5.96659  \n",
       "1 23.42209      6.00000  \n",
       "2 17.12671      2.65472  \n",
       "3 44.85580      9.00000  \n",
       "4 25.59915      5.28288  "
      ]
     },
     "execution_count": 16,
     "metadata": {},
     "output_type": "execute_result"
    }
   ],
   "source": [
    "train = df[:20758]\n",
    "test = df[20758:]\n",
    "\n",
    "# train_x = train.drop(columns=[target_col])\n",
    "# train_y = target\n",
    "# test_x = test.drop(columns=[target_col])\n",
    "\n",
    "train_x = train\n",
    "train_y = target\n",
    "test_x = test\n",
    "\n",
    "X = train_x.values\n",
    "y = train_y.values\n",
    "# y = y.astype(int)\n",
    "\n",
    "df.head()"
   ]
  },
  {
   "cell_type": "code",
   "execution_count": 17,
   "id": "6f1478c7",
   "metadata": {
    "execution": {
     "iopub.execute_input": "2024-02-04T01:26:50.833891Z",
     "iopub.status.busy": "2024-02-04T01:26:50.833033Z",
     "iopub.status.idle": "2024-02-04T01:26:54.920039Z",
     "shell.execute_reply": "2024-02-04T01:26:54.918833Z"
    },
    "id": "yIlQ3t2-mxBU",
    "papermill": {
     "duration": 4.103788,
     "end_time": "2024-02-04T01:26:54.922624",
     "exception": false,
     "start_time": "2024-02-04T01:26:50.818836",
     "status": "completed"
    },
    "tags": []
   },
   "outputs": [
    {
     "name": "stdout",
     "output_type": "stream",
     "text": [
      "[LightGBM] [Info] Auto-choosing row-wise multi-threading, the overhead of testing was 0.008087 seconds.\n",
      "You can set `force_row_wise=true` to remove the overhead.\n",
      "And if memory is not enough, you can set `force_col_wise=true`.\n",
      "[LightGBM] [Info] Total Bins 2818\n",
      "[LightGBM] [Info] Number of data points in the train set: 20758, number of used features: 20\n",
      "[LightGBM] [Info] Start training from score -2.107483\n",
      "[LightGBM] [Info] Start training from score -1.907353\n",
      "[LightGBM] [Info] Start training from score -1.964779\n",
      "[LightGBM] [Info] Start training from score -1.854892\n",
      "[LightGBM] [Info] Start training from score -1.635203\n",
      "[LightGBM] [Info] Start training from score -2.146276\n",
      "[LightGBM] [Info] Start training from score -2.107879\n",
      "[LightGBM] [Warning] No further splits with positive gain, best gain: -inf\n",
      "[LightGBM] [Warning] No further splits with positive gain, best gain: -inf\n",
      "[LightGBM] [Warning] No further splits with positive gain, best gain: -inf\n",
      "[LightGBM] [Warning] No further splits with positive gain, best gain: -inf\n",
      "[LightGBM] [Warning] No further splits with positive gain, best gain: -inf\n",
      "[LightGBM] [Warning] No further splits with positive gain, best gain: -inf\n",
      "[LightGBM] [Warning] No further splits with positive gain, best gain: -inf\n",
      "[LightGBM] [Warning] No further splits with positive gain, best gain: -inf\n",
      "[LightGBM] [Warning] No further splits with positive gain, best gain: -inf\n",
      "[LightGBM] [Warning] No further splits with positive gain, best gain: -inf\n",
      "[LightGBM] [Warning] No further splits with positive gain, best gain: -inf\n",
      "[LightGBM] [Warning] No further splits with positive gain, best gain: -inf\n",
      "[LightGBM] [Warning] No further splits with positive gain, best gain: -inf\n",
      "[LightGBM] [Warning] No further splits with positive gain, best gain: -inf\n",
      "[LightGBM] [Warning] No further splits with positive gain, best gain: -inf\n",
      "[LightGBM] [Warning] No further splits with positive gain, best gain: -inf\n",
      "[LightGBM] [Warning] No further splits with positive gain, best gain: -inf\n",
      "[LightGBM] [Warning] No further splits with positive gain, best gain: -inf\n",
      "[LightGBM] [Warning] No further splits with positive gain, best gain: -inf\n",
      "[LightGBM] [Warning] No further splits with positive gain, best gain: -inf\n",
      "[LightGBM] [Warning] No further splits with positive gain, best gain: -inf\n",
      "[LightGBM] [Warning] No further splits with positive gain, best gain: -inf\n",
      "[LightGBM] [Warning] No further splits with positive gain, best gain: -inf\n",
      "[LightGBM] [Warning] No further splits with positive gain, best gain: -inf\n",
      "[LightGBM] [Warning] No further splits with positive gain, best gain: -inf\n",
      "[LightGBM] [Warning] No further splits with positive gain, best gain: -inf\n",
      "[LightGBM] [Warning] No further splits with positive gain, best gain: -inf\n",
      "[LightGBM] [Warning] No further splits with positive gain, best gain: -inf\n",
      "[LightGBM] [Warning] No further splits with positive gain, best gain: -inf\n",
      "[LightGBM] [Warning] No further splits with positive gain, best gain: -inf\n",
      "[LightGBM] [Warning] No further splits with positive gain, best gain: -inf\n",
      "[LightGBM] [Warning] No further splits with positive gain, best gain: -inf\n",
      "[LightGBM] [Warning] No further splits with positive gain, best gain: -inf\n",
      "[LightGBM] [Warning] No further splits with positive gain, best gain: -inf\n",
      "[LightGBM] [Warning] No further splits with positive gain, best gain: -inf\n",
      "[LightGBM] [Warning] No further splits with positive gain, best gain: -inf\n",
      "[LightGBM] [Warning] No further splits with positive gain, best gain: -inf\n",
      "[LightGBM] [Warning] No further splits with positive gain, best gain: -inf\n",
      "[LightGBM] [Warning] No further splits with positive gain, best gain: -inf\n",
      "[LightGBM] [Warning] No further splits with positive gain, best gain: -inf\n",
      "[LightGBM] [Warning] No further splits with positive gain, best gain: -inf\n",
      "[LightGBM] [Warning] No further splits with positive gain, best gain: -inf\n",
      "[LightGBM] [Warning] No further splits with positive gain, best gain: -inf\n",
      "[LightGBM] [Warning] No further splits with positive gain, best gain: -inf\n",
      "[LightGBM] [Warning] No further splits with positive gain, best gain: -inf\n",
      "[LightGBM] [Warning] No further splits with positive gain, best gain: -inf\n",
      "[LightGBM] [Warning] No further splits with positive gain, best gain: -inf\n",
      "[LightGBM] [Warning] No further splits with positive gain, best gain: -inf\n",
      "[LightGBM] [Warning] No further splits with positive gain, best gain: -inf\n",
      "[LightGBM] [Warning] No further splits with positive gain, best gain: -inf\n",
      "[LightGBM] [Warning] No further splits with positive gain, best gain: -inf\n",
      "[LightGBM] [Warning] No further splits with positive gain, best gain: -inf\n",
      "[LightGBM] [Warning] No further splits with positive gain, best gain: -inf\n",
      "[LightGBM] [Warning] No further splits with positive gain, best gain: -inf\n",
      "[LightGBM] [Warning] No further splits with positive gain, best gain: -inf\n",
      "[LightGBM] [Warning] No further splits with positive gain, best gain: -inf\n",
      "[LightGBM] [Warning] No further splits with positive gain, best gain: -inf\n",
      "[LightGBM] [Warning] No further splits with positive gain, best gain: -inf\n",
      "[LightGBM] [Warning] No further splits with positive gain, best gain: -inf\n",
      "[LightGBM] [Warning] No further splits with positive gain, best gain: -inf\n",
      "[LightGBM] [Warning] No further splits with positive gain, best gain: -inf\n",
      "[LightGBM] [Warning] No further splits with positive gain, best gain: -inf\n",
      "[LightGBM] [Warning] No further splits with positive gain, best gain: -inf\n",
      "[LightGBM] [Warning] No further splits with positive gain, best gain: -inf\n",
      "[LightGBM] [Warning] No further splits with positive gain, best gain: -inf\n",
      "[LightGBM] [Warning] No further splits with positive gain, best gain: -inf\n",
      "[LightGBM] [Warning] No further splits with positive gain, best gain: -inf\n",
      "[LightGBM] [Warning] No further splits with positive gain, best gain: -inf\n",
      "[LightGBM] [Warning] No further splits with positive gain, best gain: -inf\n",
      "[LightGBM] [Warning] No further splits with positive gain, best gain: -inf\n",
      "[LightGBM] [Warning] No further splits with positive gain, best gain: -inf\n",
      "[LightGBM] [Warning] No further splits with positive gain, best gain: -inf\n",
      "[LightGBM] [Warning] No further splits with positive gain, best gain: -inf\n",
      "[LightGBM] [Warning] No further splits with positive gain, best gain: -inf\n",
      "[LightGBM] [Warning] No further splits with positive gain, best gain: -inf\n",
      "[LightGBM] [Warning] No further splits with positive gain, best gain: -inf\n",
      "[LightGBM] [Warning] No further splits with positive gain, best gain: -inf\n",
      "[LightGBM] [Warning] No further splits with positive gain, best gain: -inf\n",
      "[LightGBM] [Warning] No further splits with positive gain, best gain: -inf\n",
      "[LightGBM] [Warning] No further splits with positive gain, best gain: -inf\n",
      "[LightGBM] [Warning] No further splits with positive gain, best gain: -inf\n",
      "[LightGBM] [Warning] No further splits with positive gain, best gain: -inf\n",
      "[LightGBM] [Warning] No further splits with positive gain, best gain: -inf\n",
      "[LightGBM] [Warning] No further splits with positive gain, best gain: -inf\n",
      "[LightGBM] [Warning] No further splits with positive gain, best gain: -inf\n",
      "[LightGBM] [Warning] No further splits with positive gain, best gain: -inf\n",
      "[LightGBM] [Warning] No further splits with positive gain, best gain: -inf\n",
      "[LightGBM] [Warning] No further splits with positive gain, best gain: -inf\n",
      "[LightGBM] [Warning] No further splits with positive gain, best gain: -inf\n",
      "[LightGBM] [Warning] No further splits with positive gain, best gain: -inf\n",
      "[LightGBM] [Warning] No further splits with positive gain, best gain: -inf\n",
      "[LightGBM] [Warning] No further splits with positive gain, best gain: -inf\n",
      "[LightGBM] [Warning] No further splits with positive gain, best gain: -inf\n",
      "[LightGBM] [Warning] No further splits with positive gain, best gain: -inf\n",
      "[LightGBM] [Warning] No further splits with positive gain, best gain: -inf\n",
      "[LightGBM] [Warning] No further splits with positive gain, best gain: -inf\n",
      "[LightGBM] [Warning] No further splits with positive gain, best gain: -inf\n",
      "[LightGBM] [Warning] No further splits with positive gain, best gain: -inf\n",
      "[LightGBM] [Warning] No further splits with positive gain, best gain: -inf\n",
      "[LightGBM] [Warning] No further splits with positive gain, best gain: -inf\n",
      "[LightGBM] [Warning] No further splits with positive gain, best gain: -inf\n",
      "[LightGBM] [Warning] No further splits with positive gain, best gain: -inf\n",
      "[LightGBM] [Warning] No further splits with positive gain, best gain: -inf\n",
      "[LightGBM] [Warning] No further splits with positive gain, best gain: -inf\n",
      "[LightGBM] [Warning] No further splits with positive gain, best gain: -inf\n",
      "[LightGBM] [Warning] No further splits with positive gain, best gain: -inf\n",
      "[LightGBM] [Warning] No further splits with positive gain, best gain: -inf\n",
      "[LightGBM] [Warning] No further splits with positive gain, best gain: -inf\n",
      "[LightGBM] [Warning] No further splits with positive gain, best gain: -inf\n",
      "[LightGBM] [Warning] No further splits with positive gain, best gain: -inf\n",
      "[LightGBM] [Warning] No further splits with positive gain, best gain: -inf\n",
      "[LightGBM] [Warning] No further splits with positive gain, best gain: -inf\n",
      "[LightGBM] [Warning] No further splits with positive gain, best gain: -inf\n",
      "[LightGBM] [Warning] No further splits with positive gain, best gain: -inf\n",
      "[LightGBM] [Warning] No further splits with positive gain, best gain: -inf\n",
      "[LightGBM] [Warning] No further splits with positive gain, best gain: -inf\n",
      "[LightGBM] [Warning] No further splits with positive gain, best gain: -inf\n",
      "[LightGBM] [Warning] No further splits with positive gain, best gain: -inf\n",
      "[LightGBM] [Warning] No further splits with positive gain, best gain: -inf\n",
      "[LightGBM] [Warning] No further splits with positive gain, best gain: -inf\n",
      "[LightGBM] [Warning] No further splits with positive gain, best gain: -inf\n",
      "[LightGBM] [Warning] No further splits with positive gain, best gain: -inf\n",
      "[LightGBM] [Warning] No further splits with positive gain, best gain: -inf\n",
      "[LightGBM] [Warning] No further splits with positive gain, best gain: -inf\n",
      "[LightGBM] [Warning] No further splits with positive gain, best gain: -inf\n",
      "[LightGBM] [Warning] No further splits with positive gain, best gain: -inf\n",
      "[LightGBM] [Warning] No further splits with positive gain, best gain: -inf\n",
      "[LightGBM] [Warning] No further splits with positive gain, best gain: -inf\n",
      "[LightGBM] [Warning] No further splits with positive gain, best gain: -inf\n",
      "[LightGBM] [Warning] No further splits with positive gain, best gain: -inf\n",
      "[LightGBM] [Warning] No further splits with positive gain, best gain: -inf\n",
      "[LightGBM] [Warning] No further splits with positive gain, best gain: -inf\n",
      "[LightGBM] [Warning] No further splits with positive gain, best gain: -inf\n",
      "[LightGBM] [Warning] No further splits with positive gain, best gain: -inf\n",
      "[LightGBM] [Warning] No further splits with positive gain, best gain: -inf\n",
      "[LightGBM] [Warning] No further splits with positive gain, best gain: -inf\n",
      "[LightGBM] [Warning] No further splits with positive gain, best gain: -inf\n",
      "[LightGBM] [Warning] No further splits with positive gain, best gain: -inf\n",
      "[LightGBM] [Warning] No further splits with positive gain, best gain: -inf\n",
      "[LightGBM] [Warning] No further splits with positive gain, best gain: -inf\n",
      "[LightGBM] [Warning] No further splits with positive gain, best gain: -inf\n",
      "[LightGBM] [Warning] No further splits with positive gain, best gain: -inf\n",
      "[LightGBM] [Warning] No further splits with positive gain, best gain: -inf\n",
      "[LightGBM] [Warning] No further splits with positive gain, best gain: -inf\n",
      "[LightGBM] [Warning] No further splits with positive gain, best gain: -inf\n",
      "[LightGBM] [Warning] No further splits with positive gain, best gain: -inf\n",
      "[LightGBM] [Warning] No further splits with positive gain, best gain: -inf\n",
      "[LightGBM] [Warning] No further splits with positive gain, best gain: -inf\n",
      "[LightGBM] [Warning] No further splits with positive gain, best gain: -inf\n",
      "[LightGBM] [Warning] No further splits with positive gain, best gain: -inf\n",
      "[LightGBM] [Warning] No further splits with positive gain, best gain: -inf\n",
      "[LightGBM] [Warning] No further splits with positive gain, best gain: -inf\n",
      "[LightGBM] [Warning] No further splits with positive gain, best gain: -inf\n",
      "[LightGBM] [Warning] No further splits with positive gain, best gain: -inf\n",
      "[LightGBM] [Warning] No further splits with positive gain, best gain: -inf\n",
      "[LightGBM] [Warning] No further splits with positive gain, best gain: -inf\n",
      "[LightGBM] [Warning] No further splits with positive gain, best gain: -inf\n",
      "[LightGBM] [Warning] No further splits with positive gain, best gain: -inf\n",
      "[LightGBM] [Warning] No further splits with positive gain, best gain: -inf\n",
      "[LightGBM] [Warning] No further splits with positive gain, best gain: -inf\n",
      "[LightGBM] [Warning] No further splits with positive gain, best gain: -inf\n",
      "[LightGBM] [Warning] No further splits with positive gain, best gain: -inf\n",
      "[LightGBM] [Warning] No further splits with positive gain, best gain: -inf\n",
      "[LightGBM] [Warning] No further splits with positive gain, best gain: -inf\n",
      "[LightGBM] [Warning] No further splits with positive gain, best gain: -inf\n",
      "[LightGBM] [Warning] No further splits with positive gain, best gain: -inf\n",
      "[LightGBM] [Warning] No further splits with positive gain, best gain: -inf\n",
      "[LightGBM] [Warning] No further splits with positive gain, best gain: -inf\n",
      "[LightGBM] [Warning] No further splits with positive gain, best gain: -inf\n",
      "[LightGBM] [Warning] No further splits with positive gain, best gain: -inf\n",
      "[LightGBM] [Warning] No further splits with positive gain, best gain: -inf\n",
      "[LightGBM] [Warning] No further splits with positive gain, best gain: -inf\n",
      "[LightGBM] [Warning] No further splits with positive gain, best gain: -inf\n",
      "[LightGBM] [Warning] No further splits with positive gain, best gain: -inf\n",
      "[LightGBM] [Warning] No further splits with positive gain, best gain: -inf\n",
      "[LightGBM] [Warning] No further splits with positive gain, best gain: -inf\n",
      "[LightGBM] [Warning] No further splits with positive gain, best gain: -inf\n",
      "[LightGBM] [Warning] No further splits with positive gain, best gain: -inf\n",
      "[LightGBM] [Warning] No further splits with positive gain, best gain: -inf\n",
      "[LightGBM] [Warning] No further splits with positive gain, best gain: -inf\n",
      "[LightGBM] [Warning] No further splits with positive gain, best gain: -inf\n",
      "[LightGBM] [Warning] No further splits with positive gain, best gain: -inf\n",
      "[LightGBM] [Warning] No further splits with positive gain, best gain: -inf\n",
      "[LightGBM] [Warning] No further splits with positive gain, best gain: -inf\n",
      "[LightGBM] [Warning] No further splits with positive gain, best gain: -inf\n",
      "[LightGBM] [Warning] No further splits with positive gain, best gain: -inf\n",
      "[LightGBM] [Warning] No further splits with positive gain, best gain: -inf\n",
      "[LightGBM] [Warning] No further splits with positive gain, best gain: -inf\n",
      "[LightGBM] [Warning] No further splits with positive gain, best gain: -inf\n",
      "[LightGBM] [Warning] No further splits with positive gain, best gain: -inf\n",
      "[LightGBM] [Warning] No further splits with positive gain, best gain: -inf\n",
      "[LightGBM] [Warning] No further splits with positive gain, best gain: -inf\n",
      "[LightGBM] [Warning] No further splits with positive gain, best gain: -inf\n",
      "[LightGBM] [Warning] No further splits with positive gain, best gain: -inf\n",
      "[LightGBM] [Warning] No further splits with positive gain, best gain: -inf\n",
      "[LightGBM] [Warning] No further splits with positive gain, best gain: -inf\n",
      "[LightGBM] [Warning] No further splits with positive gain, best gain: -inf\n",
      "[LightGBM] [Warning] No further splits with positive gain, best gain: -inf\n",
      "[LightGBM] [Warning] No further splits with positive gain, best gain: -inf\n",
      "[LightGBM] [Warning] No further splits with positive gain, best gain: -inf\n",
      "[LightGBM] [Warning] No further splits with positive gain, best gain: -inf\n",
      "[LightGBM] [Warning] No further splits with positive gain, best gain: -inf\n",
      "[LightGBM] [Warning] No further splits with positive gain, best gain: -inf\n",
      "[LightGBM] [Warning] No further splits with positive gain, best gain: -inf\n",
      "[LightGBM] [Warning] No further splits with positive gain, best gain: -inf\n",
      "[LightGBM] [Warning] No further splits with positive gain, best gain: -inf\n",
      "[LightGBM] [Warning] No further splits with positive gain, best gain: -inf\n",
      "[LightGBM] [Warning] No further splits with positive gain, best gain: -inf\n",
      "[LightGBM] [Warning] No further splits with positive gain, best gain: -inf\n",
      "[LightGBM] [Warning] No further splits with positive gain, best gain: -inf\n",
      "[LightGBM] [Warning] No further splits with positive gain, best gain: -inf\n",
      "[LightGBM] [Warning] No further splits with positive gain, best gain: -inf\n",
      "[LightGBM] [Warning] No further splits with positive gain, best gain: -inf\n",
      "[LightGBM] [Warning] No further splits with positive gain, best gain: -inf\n",
      "[LightGBM] [Warning] No further splits with positive gain, best gain: -inf\n",
      "[LightGBM] [Warning] No further splits with positive gain, best gain: -inf\n",
      "[LightGBM] [Warning] No further splits with positive gain, best gain: -inf\n"
     ]
    },
    {
     "data": {
      "text/html": [
       "<div>\n",
       "<style scoped>\n",
       "    .dataframe tbody tr th:only-of-type {\n",
       "        vertical-align: middle;\n",
       "    }\n",
       "\n",
       "    .dataframe tbody tr th {\n",
       "        vertical-align: top;\n",
       "    }\n",
       "\n",
       "    .dataframe thead th {\n",
       "        text-align: right;\n",
       "    }\n",
       "</style>\n",
       "<table border=\"1\" class=\"dataframe\">\n",
       "  <thead>\n",
       "    <tr style=\"text-align: right;\">\n",
       "      <th></th>\n",
       "      <th>importance</th>\n",
       "    </tr>\n",
       "  </thead>\n",
       "  <tbody>\n",
       "    <tr>\n",
       "      <th>SCC</th>\n",
       "      <td>0</td>\n",
       "    </tr>\n",
       "    <tr>\n",
       "      <th>MTRANS</th>\n",
       "      <td>4</td>\n",
       "    </tr>\n",
       "    <tr>\n",
       "      <th>family_history_with_overweight</th>\n",
       "      <td>4</td>\n",
       "    </tr>\n",
       "    <tr>\n",
       "      <th>FAVC</th>\n",
       "      <td>17</td>\n",
       "    </tr>\n",
       "    <tr>\n",
       "      <th>CAEC</th>\n",
       "      <td>26</td>\n",
       "    </tr>\n",
       "    <tr>\n",
       "      <th>SMOKE</th>\n",
       "      <td>26</td>\n",
       "    </tr>\n",
       "    <tr>\n",
       "      <th>CALC</th>\n",
       "      <td>85</td>\n",
       "    </tr>\n",
       "    <tr>\n",
       "      <th>TUE</th>\n",
       "      <td>247</td>\n",
       "    </tr>\n",
       "    <tr>\n",
       "      <th>NCP</th>\n",
       "      <td>272</td>\n",
       "    </tr>\n",
       "    <tr>\n",
       "      <th>Gender</th>\n",
       "      <td>340</td>\n",
       "    </tr>\n",
       "    <tr>\n",
       "      <th>FAF</th>\n",
       "      <td>461</td>\n",
       "    </tr>\n",
       "    <tr>\n",
       "      <th>Meal_Habits</th>\n",
       "      <td>655</td>\n",
       "    </tr>\n",
       "    <tr>\n",
       "      <th>FCVC</th>\n",
       "      <td>1055</td>\n",
       "    </tr>\n",
       "    <tr>\n",
       "      <th>CH2O</th>\n",
       "      <td>1169</td>\n",
       "    </tr>\n",
       "    <tr>\n",
       "      <th>index</th>\n",
       "      <td>1180</td>\n",
       "    </tr>\n",
       "    <tr>\n",
       "      <th>Height</th>\n",
       "      <td>1271</td>\n",
       "    </tr>\n",
       "    <tr>\n",
       "      <th>Age</th>\n",
       "      <td>1305</td>\n",
       "    </tr>\n",
       "    <tr>\n",
       "      <th>BMI</th>\n",
       "      <td>1984</td>\n",
       "    </tr>\n",
       "    <tr>\n",
       "      <th>NObeyesdad</th>\n",
       "      <td>2417</td>\n",
       "    </tr>\n",
       "    <tr>\n",
       "      <th>Weight</th>\n",
       "      <td>3398</td>\n",
       "    </tr>\n",
       "  </tbody>\n",
       "</table>\n",
       "</div>"
      ],
      "text/plain": [
       "                                importance\n",
       "SCC                                      0\n",
       "MTRANS                                   4\n",
       "family_history_with_overweight           4\n",
       "FAVC                                    17\n",
       "CAEC                                    26\n",
       "SMOKE                                   26\n",
       "CALC                                    85\n",
       "TUE                                    247\n",
       "NCP                                    272\n",
       "Gender                                 340\n",
       "FAF                                    461\n",
       "Meal_Habits                            655\n",
       "FCVC                                  1055\n",
       "CH2O                                  1169\n",
       "index                                 1180\n",
       "Height                                1271\n",
       "Age                                   1305\n",
       "BMI                                   1984\n",
       "NObeyesdad                            2417\n",
       "Weight                                3398"
      ]
     },
     "execution_count": 17,
     "metadata": {},
     "output_type": "execute_result"
    }
   ],
   "source": [
    "# 特徴量の重要度評価\n",
    "train_importance = train\n",
    "feature_importance = feature_importance_evaluation(train_importance)\n",
    "feature_importance"
   ]
  },
  {
   "cell_type": "code",
   "execution_count": 18,
   "id": "3359de96",
   "metadata": {
    "execution": {
     "iopub.execute_input": "2024-02-04T01:26:54.954312Z",
     "iopub.status.busy": "2024-02-04T01:26:54.953540Z",
     "iopub.status.idle": "2024-02-04T01:26:55.583109Z",
     "shell.execute_reply": "2024-02-04T01:26:55.581631Z"
    },
    "id": "kUDkAd58nOmV",
    "papermill": {
     "duration": 0.648743,
     "end_time": "2024-02-04T01:26:55.585924",
     "exception": false,
     "start_time": "2024-02-04T01:26:54.937181",
     "status": "completed"
    },
    "tags": []
   },
   "outputs": [
    {
     "data": {
      "text/plain": [
       "<Axes: >"
      ]
     },
     "execution_count": 18,
     "metadata": {},
     "output_type": "execute_result"
    },
    {
     "data": {
      "image/png": "[encoded data removed]",
      "text/plain": [
       "<Figure size 1000x1500 with 1 Axes>"
      ]
     },
     "metadata": {},
     "output_type": "display_data"
    }
   ],
   "source": [
    "feature_importance.plot(kind='barh', figsize=(10, 15), color='b')"
   ]
  },
  {
   "cell_type": "code",
   "execution_count": 19,
   "id": "0943d888",
   "metadata": {
    "execution": {
     "iopub.execute_input": "2024-02-04T01:26:55.618322Z",
     "iopub.status.busy": "2024-02-04T01:26:55.617912Z",
     "iopub.status.idle": "2024-02-04T01:26:56.059249Z",
     "shell.execute_reply": "2024-02-04T01:26:56.057956Z"
    },
    "id": "DVYEwrPUnW9Q",
    "papermill": {
     "duration": 0.461672,
     "end_time": "2024-02-04T01:26:56.062595",
     "exception": false,
     "start_time": "2024-02-04T01:26:55.600923",
     "status": "completed"
    },
    "tags": []
   },
   "outputs": [],
   "source": [
    "df.to_csv(OUTPUT_DIR + 'data.csv', index=False)"
   ]
  },
  {
   "cell_type": "code",
   "execution_count": 20,
   "id": "29a7b1c7",
   "metadata": {
    "execution": {
     "iopub.execute_input": "2024-02-04T01:26:56.093606Z",
     "iopub.status.busy": "2024-02-04T01:26:56.093210Z",
     "iopub.status.idle": "2024-02-04T01:26:56.100820Z",
     "shell.execute_reply": "2024-02-04T01:26:56.099553Z"
    },
    "id": "zxBoX1zbnYUl",
    "papermill": {
     "duration": 0.025761,
     "end_time": "2024-02-04T01:26:56.103102",
     "exception": false,
     "start_time": "2024-02-04T01:26:56.077341",
     "status": "completed"
    },
    "tags": []
   },
   "outputs": [],
   "source": [
    "def file_to_xy(filename):\n",
    "    data = pd.read_csv(filename, index_col=0)\n",
    "    print(f'読み込み完了 {filename}')\n",
    "    train = data[:20758].reset_index(drop=True)\n",
    "    test = data[20758:].reset_index(drop=True).drop(target_col, axis=1) # 目的変数を指定する\n",
    "    # 目的変数と説明変数に分割\n",
    "    X = train.drop([target_col], axis=1) # 目的変数を指定する\n",
    "    y = train[target_col].values # 目的変数を指定する\n",
    "\n",
    "    return data,test,train,X,y"
   ]
  },
  {
   "cell_type": "code",
   "execution_count": 21,
   "id": "7f9a6f4c",
   "metadata": {
    "execution": {
     "iopub.execute_input": "2024-02-04T01:26:56.135184Z",
     "iopub.status.busy": "2024-02-04T01:26:56.134783Z",
     "iopub.status.idle": "2024-02-04T01:26:56.258589Z",
     "shell.execute_reply": "2024-02-04T01:26:56.257103Z"
    },
    "id": "DRZhqQjJnfme",
    "outputId": "9cf6043d-315f-4fb6-908b-a67297884126",
    "papermill": {
     "duration": 0.142119,
     "end_time": "2024-02-04T01:26:56.260864",
     "exception": false,
     "start_time": "2024-02-04T01:26:56.118745",
     "status": "completed"
    },
    "tags": []
   },
   "outputs": [
    {
     "name": "stdout",
     "output_type": "stream",
     "text": [
      "読み込み完了 /kaggle/working/data.csv\n"
     ]
    }
   ],
   "source": [
    "filename = 'data.csv'\n",
    "data,test,train,X,y = file_to_xy(OUTPUT_DIR + filename)"
   ]
  },
  {
   "cell_type": "code",
   "execution_count": 22,
   "id": "1b3fa09d",
   "metadata": {
    "execution": {
     "iopub.execute_input": "2024-02-04T01:26:56.293703Z",
     "iopub.status.busy": "2024-02-04T01:26:56.292516Z",
     "iopub.status.idle": "2024-02-04T01:26:56.314695Z",
     "shell.execute_reply": "2024-02-04T01:26:56.313378Z"
    },
    "papermill": {
     "duration": 0.041038,
     "end_time": "2024-02-04T01:26:56.317456",
     "exception": false,
     "start_time": "2024-02-04T01:26:56.276418",
     "status": "completed"
    },
    "tags": []
   },
   "outputs": [
    {
     "data": {
      "text/html": [
       "<div>\n",
       "<style scoped>\n",
       "    .dataframe tbody tr th:only-of-type {\n",
       "        vertical-align: middle;\n",
       "    }\n",
       "\n",
       "    .dataframe tbody tr th {\n",
       "        vertical-align: top;\n",
       "    }\n",
       "\n",
       "    .dataframe thead th {\n",
       "        text-align: right;\n",
       "    }\n",
       "</style>\n",
       "<table border=\"1\" class=\"dataframe\">\n",
       "  <thead>\n",
       "    <tr style=\"text-align: right;\">\n",
       "      <th></th>\n",
       "      <th>Gender</th>\n",
       "      <th>Age</th>\n",
       "      <th>Height</th>\n",
       "      <th>Weight</th>\n",
       "      <th>family_history_with_overweight</th>\n",
       "      <th>FAVC</th>\n",
       "      <th>FCVC</th>\n",
       "      <th>NCP</th>\n",
       "      <th>CAEC</th>\n",
       "      <th>SMOKE</th>\n",
       "      <th>CH2O</th>\n",
       "      <th>SCC</th>\n",
       "      <th>FAF</th>\n",
       "      <th>TUE</th>\n",
       "      <th>CALC</th>\n",
       "      <th>MTRANS</th>\n",
       "      <th>NObeyesdad</th>\n",
       "      <th>BMI</th>\n",
       "      <th>Meal_Habits</th>\n",
       "    </tr>\n",
       "    <tr>\n",
       "      <th>index</th>\n",
       "      <th></th>\n",
       "      <th></th>\n",
       "      <th></th>\n",
       "      <th></th>\n",
       "      <th></th>\n",
       "      <th></th>\n",
       "      <th></th>\n",
       "      <th></th>\n",
       "      <th></th>\n",
       "      <th></th>\n",
       "      <th></th>\n",
       "      <th></th>\n",
       "      <th></th>\n",
       "      <th></th>\n",
       "      <th></th>\n",
       "      <th></th>\n",
       "      <th></th>\n",
       "      <th></th>\n",
       "      <th></th>\n",
       "    </tr>\n",
       "  </thead>\n",
       "  <tbody>\n",
       "    <tr>\n",
       "      <th>0</th>\n",
       "      <td>1</td>\n",
       "      <td>1095</td>\n",
       "      <td>933</td>\n",
       "      <td>1839</td>\n",
       "      <td>1</td>\n",
       "      <td>1</td>\n",
       "      <td>265</td>\n",
       "      <td>589</td>\n",
       "      <td>2</td>\n",
       "      <td>0</td>\n",
       "      <td>1491</td>\n",
       "      <td>0</td>\n",
       "      <td>0</td>\n",
       "      <td>1053</td>\n",
       "      <td>2</td>\n",
       "      <td>3</td>\n",
       "      <td>6.00000</td>\n",
       "      <td>28.25956</td>\n",
       "      <td>5.96659</td>\n",
       "    </tr>\n",
       "    <tr>\n",
       "      <th>1</th>\n",
       "      <td>0</td>\n",
       "      <td>108</td>\n",
       "      <td>128</td>\n",
       "      <td>1376</td>\n",
       "      <td>1</td>\n",
       "      <td>1</td>\n",
       "      <td>265</td>\n",
       "      <td>624</td>\n",
       "      <td>1</td>\n",
       "      <td>0</td>\n",
       "      <td>756</td>\n",
       "      <td>0</td>\n",
       "      <td>751</td>\n",
       "      <td>1068</td>\n",
       "      <td>3</td>\n",
       "      <td>0</td>\n",
       "      <td>1.00000</td>\n",
       "      <td>23.42209</td>\n",
       "      <td>6.00000</td>\n",
       "    </tr>\n",
       "    <tr>\n",
       "      <th>11112</th>\n",
       "      <td>0</td>\n",
       "      <td>108</td>\n",
       "      <td>1040</td>\n",
       "      <td>1253</td>\n",
       "      <td>1</td>\n",
       "      <td>1</td>\n",
       "      <td>206</td>\n",
       "      <td>127</td>\n",
       "      <td>2</td>\n",
       "      <td>0</td>\n",
       "      <td>659</td>\n",
       "      <td>0</td>\n",
       "      <td>587</td>\n",
       "      <td>1322</td>\n",
       "      <td>3</td>\n",
       "      <td>3</td>\n",
       "      <td>0.00000</td>\n",
       "      <td>17.12671</td>\n",
       "      <td>2.65472</td>\n",
       "    </tr>\n",
       "    <tr>\n",
       "      <th>12981</th>\n",
       "      <td>0</td>\n",
       "      <td>522</td>\n",
       "      <td>1035</td>\n",
       "      <td>936</td>\n",
       "      <td>1</td>\n",
       "      <td>1</td>\n",
       "      <td>1053</td>\n",
       "      <td>624</td>\n",
       "      <td>2</td>\n",
       "      <td>0</td>\n",
       "      <td>464</td>\n",
       "      <td>0</td>\n",
       "      <td>1040</td>\n",
       "      <td>806</td>\n",
       "      <td>2</td>\n",
       "      <td>3</td>\n",
       "      <td>4.00000</td>\n",
       "      <td>44.85580</td>\n",
       "      <td>9.00000</td>\n",
       "    </tr>\n",
       "    <tr>\n",
       "      <th>14092</th>\n",
       "      <td>1</td>\n",
       "      <td>1605</td>\n",
       "      <td>2050</td>\n",
       "      <td>2205</td>\n",
       "      <td>1</td>\n",
       "      <td>1</td>\n",
       "      <td>735</td>\n",
       "      <td>252</td>\n",
       "      <td>2</td>\n",
       "      <td>0</td>\n",
       "      <td>727</td>\n",
       "      <td>0</td>\n",
       "      <td>1330</td>\n",
       "      <td>995</td>\n",
       "      <td>2</td>\n",
       "      <td>3</td>\n",
       "      <td>6.00000</td>\n",
       "      <td>25.59915</td>\n",
       "      <td>5.28288</td>\n",
       "    </tr>\n",
       "  </tbody>\n",
       "</table>\n",
       "</div>"
      ],
      "text/plain": [
       "       Gender   Age  Height  Weight  family_history_with_overweight  FAVC  \\\n",
       "index                                                                       \n",
       "0           1  1095     933    1839                               1     1   \n",
       "1           0   108     128    1376                               1     1   \n",
       "11112       0   108    1040    1253                               1     1   \n",
       "12981       0   522    1035     936                               1     1   \n",
       "14092       1  1605    2050    2205                               1     1   \n",
       "\n",
       "       FCVC  NCP  CAEC  SMOKE  CH2O  SCC   FAF   TUE  CALC  MTRANS  \\\n",
       "index                                                                \n",
       "0       265  589     2      0  1491    0     0  1053     2       3   \n",
       "1       265  624     1      0   756    0   751  1068     3       0   \n",
       "11112   206  127     2      0   659    0   587  1322     3       3   \n",
       "12981  1053  624     2      0   464    0  1040   806     2       3   \n",
       "14092   735  252     2      0   727    0  1330   995     2       3   \n",
       "\n",
       "       NObeyesdad      BMI  Meal_Habits  \n",
       "index                                    \n",
       "0         6.00000 28.25956      5.96659  \n",
       "1         1.00000 23.42209      6.00000  \n",
       "11112     0.00000 17.12671      2.65472  \n",
       "12981     4.00000 44.85580      9.00000  \n",
       "14092     6.00000 25.59915      5.28288  "
      ]
     },
     "execution_count": 22,
     "metadata": {},
     "output_type": "execute_result"
    }
   ],
   "source": [
    "data.head()"
   ]
  },
  {
   "cell_type": "code",
   "execution_count": null,
   "id": "fcda6696",
   "metadata": {
    "papermill": {
     "duration": 0.015928,
     "end_time": "2024-02-04T01:26:56.349330",
     "exception": false,
     "start_time": "2024-02-04T01:26:56.333402",
     "status": "completed"
    },
    "tags": []
   },
   "outputs": [],
   "source": []
  }
 ],
 "metadata": {
  "colab": {
   "provenance": []
  },
  "kaggle": {
   "accelerator": "none",
   "dataSources": [
    {
     "databundleVersionId": 7609535,
     "sourceId": 68479,
     "sourceType": "competition"
    }
   ],
   "dockerImageVersionId": 30646,
   "isGpuEnabled": false,
   "isInternetEnabled": true,
   "language": "python",
   "sourceType": "notebook"
  },
  "kernelspec": {
   "display_name": "Python 3",
   "language": "python",
   "name": "python3"
  },
  "language_info": {
   "codemirror_mode": {
    "name": "ipython",
    "version": 3
   },
   "file_extension": ".py",
   "mimetype": "text/x-python",
   "name": "python",
   "nbconvert_exporter": "python",
   "pygments_lexer": "ipython3",
   "version": "3.10.13"
  },
  "papermill": {
   "default_parameters": {},
   "duration": 15.46204,
   "end_time": "2024-02-04T01:26:57.277961",
   "environment_variables": {},
   "exception": null,
   "input_path": "__notebook__.ipynb",
   "output_path": "__notebook__.ipynb",
   "parameters": {},
   "start_time": "2024-02-04T01:26:41.815921",
   "version": "2.4.0"
  }
 },
 "nbformat": 4,
 "nbformat_minor": 5
}

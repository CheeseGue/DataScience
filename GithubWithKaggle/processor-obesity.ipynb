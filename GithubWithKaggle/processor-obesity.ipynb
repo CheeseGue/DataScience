{
 "cells": [
  {
   "cell_type": "markdown",
   "id": "ab0e00ff",
   "metadata": {
    "id": "9jJ7f1atJ0qO",
    "papermill": {
     "duration": 0.0132,
     "end_time": "2024-02-04T01:22:33.929399",
     "exception": false,
     "start_time": "2024-02-04T01:22:33.916199",
     "status": "completed"
    },
    "tags": []
   },
   "source": [
    "# **肥満リスクの多クラス予測**\n",
    "(Multi-Class Prediction of Obesity Risk)"
   ]
  },
  {
   "cell_type": "markdown",
   "id": "a422bf49",
   "metadata": {
    "id": "dRrM5BeJkgj-",
    "papermill": {
     "duration": 0.012347,
     "end_time": "2024-02-04T01:22:33.955902",
     "exception": false,
     "start_time": "2024-02-04T01:22:33.943555",
     "status": "completed"
    },
    "tags": []
   },
   "source": [
    "# 参考資料\n",
    "**書籍**\n",
    "\n",
    "\n",
    "**Kaggle**\n",
    "- [easy peasy EDA & XGBoost is all you need](https://www.kaggle.com/code/lucamassaron/easy-peasy-eda-xgboost-is-all-you-need)\n",
    "\n",
    "**自分で作成したファイル**\n",
    "- 銀行解約データセットを使用した二項分類\n",
    "- Home_Credit_Default_Risk\n",
    "- 肝硬変の転帰の多クラス予測\n",
    "- 馬の健康への影響を予測する\n",
    "- ルワンダにおける CO2 排出量を予測する\n",
    "\n",
    "**その他**\n"
   ]
  },
  {
   "cell_type": "markdown",
   "id": "df6317e0",
   "metadata": {
    "id": "MV1ptyJ5kn2E",
    "papermill": {
     "duration": 0.012248,
     "end_time": "2024-02-04T01:22:33.981297",
     "exception": false,
     "start_time": "2024-02-04T01:22:33.969049",
     "status": "completed"
    },
    "tags": []
   },
   "source": [
    "## ライブラリ・データセットのインポート"
   ]
  },
  {
   "cell_type": "code",
   "execution_count": 1,
   "id": "1520ba84",
   "metadata": {
    "execution": {
     "iopub.execute_input": "2024-02-04T01:22:34.008777Z",
     "iopub.status.busy": "2024-02-04T01:22:34.008258Z",
     "iopub.status.idle": "2024-02-04T01:22:35.154332Z",
     "shell.execute_reply": "2024-02-04T01:22:35.152619Z"
    },
    "id": "cXwErGKbkUpb",
    "papermill": {
     "duration": 1.164061,
     "end_time": "2024-02-04T01:22:35.157805",
     "exception": false,
     "start_time": "2024-02-04T01:22:33.993744",
     "status": "completed"
    },
    "tags": []
   },
   "outputs": [],
   "source": [
    "import numpy as np\n",
    "import pandas as pd\n",
    "\n",
    "import warnings\n",
    "warnings.filterwarnings('ignore')\n",
    "\n",
    "pd.options.display.float_format = '{:.5f}'.format\n",
    "pd.set_option('display.max_columns', None)\n",
    "pd.set_option('display.max_rows', None)"
   ]
  },
  {
   "cell_type": "code",
   "execution_count": 2,
   "id": "67f9c9cc",
   "metadata": {
    "execution": {
     "iopub.execute_input": "2024-02-04T01:22:35.187357Z",
     "iopub.status.busy": "2024-02-04T01:22:35.186772Z",
     "iopub.status.idle": "2024-02-04T01:22:38.214456Z",
     "shell.execute_reply": "2024-02-04T01:22:38.213091Z"
    },
    "id": "y2vH8YMCko3q",
    "papermill": {
     "duration": 3.046624,
     "end_time": "2024-02-04T01:22:38.217334",
     "exception": false,
     "start_time": "2024-02-04T01:22:35.170710",
     "status": "completed"
    },
    "tags": []
   },
   "outputs": [],
   "source": [
    "from sklearn.preprocessing import LabelEncoder, MinMaxScaler\n",
    "from lightgbm import LGBMClassifier # 特徴量の重要度評価で用いる"
   ]
  },
  {
   "cell_type": "markdown",
   "id": "8c5ec623",
   "metadata": {
    "id": "xAub7rgGk35P",
    "papermill": {
     "duration": 0.012438,
     "end_time": "2024-02-04T01:22:38.242421",
     "exception": false,
     "start_time": "2024-02-04T01:22:38.229983",
     "status": "completed"
    },
    "tags": []
   },
   "source": [
    "## 実行時間を調べるために使う"
   ]
  },
  {
   "cell_type": "code",
   "execution_count": 3,
   "id": "9ed4c26d",
   "metadata": {
    "execution": {
     "iopub.execute_input": "2024-02-04T01:22:38.270775Z",
     "iopub.status.busy": "2024-02-04T01:22:38.270244Z",
     "iopub.status.idle": "2024-02-04T01:22:38.280608Z",
     "shell.execute_reply": "2024-02-04T01:22:38.279246Z"
    },
    "id": "_hGkGqJtk6M-",
    "papermill": {
     "duration": 0.027543,
     "end_time": "2024-02-04T01:22:38.283762",
     "exception": false,
     "start_time": "2024-02-04T01:22:38.256219",
     "status": "completed"
    },
    "tags": []
   },
   "outputs": [],
   "source": [
    "import datetime\n",
    "import time\n",
    "import math\n",
    "\n",
    "start_time = time.time()\n",
    "\n",
    "def changeHMS(s):\n",
    "    h = math.floor(s / 3600)\n",
    "    if h > 0:\n",
    "        s = s - h * 3600\n",
    "        indi_h = str(h) + 'h'\n",
    "    else:\n",
    "        indi_h = ''\n",
    "    m = math.floor(s / 60)\n",
    "    if m > 0:\n",
    "        indi_m = str(m) + 'm'\n",
    "    else:\n",
    "        indi_m = ''\n",
    "    s = math.floor(s % 60)\n",
    "    time = indi_h + indi_m + str(s) + 's'\n",
    "    return time"
   ]
  },
  {
   "cell_type": "code",
   "execution_count": 4,
   "id": "07cebe64",
   "metadata": {
    "execution": {
     "iopub.execute_input": "2024-02-04T01:22:38.313868Z",
     "iopub.status.busy": "2024-02-04T01:22:38.312917Z",
     "iopub.status.idle": "2024-02-04T01:22:38.587037Z",
     "shell.execute_reply": "2024-02-04T01:22:38.585376Z"
    },
    "id": "4EzyBOiPkph8",
    "papermill": {
     "duration": 0.292565,
     "end_time": "2024-02-04T01:22:38.590378",
     "exception": false,
     "start_time": "2024-02-04T01:22:38.297813",
     "status": "completed"
    },
    "tags": []
   },
   "outputs": [],
   "source": [
    "FILE_PATH = '/kaggle/input/playground-series-s4e2/'\n",
    "OUTPUT_DIR = '/kaggle/working/'\n",
    "\n",
    "train = pd.read_csv(FILE_PATH + 'train.csv')\n",
    "test = pd.read_csv(FILE_PATH + 'test.csv')\n",
    "\n",
    "train_id = train['id']\n",
    "train.drop('id', axis=1, inplace=True)\n",
    "\n",
    "test_id = test['id']\n",
    "test.drop('id', axis=1, inplace=True)\n",
    "\n",
    "target = train['NObeyesdad']\n",
    "target_col = 'NObeyesdad'\n",
    "\n",
    "target_name = str(train.iloc[:, [-1]].columns.tolist()) # カラム数-2の値が目的変数\n",
    "\n",
    "df = pd.concat([train, test], axis=0)\n",
    "df.reset_index(inplace=True)\n",
    "\n",
    "# 説明変数をデータ型ごとに代入する\n",
    "numerical_features = df._get_numeric_data().columns\n",
    "categorical_features = df.drop(numerical_features, axis=1).columns\n",
    "\n",
    "categorical_features = df.drop(target_col, axis=1).columns"
   ]
  },
  {
   "cell_type": "markdown",
   "id": "14f5bd75",
   "metadata": {
    "id": "O1qWEpEsmIsU",
    "papermill": {
     "duration": 0.012842,
     "end_time": "2024-02-04T01:22:38.616210",
     "exception": false,
     "start_time": "2024-02-04T01:22:38.603368",
     "status": "completed"
    },
    "tags": []
   },
   "source": [
    "## 前処理"
   ]
  },
  {
   "cell_type": "markdown",
   "id": "c0408a38",
   "metadata": {
    "id": "Geqin6VhmJw9",
    "papermill": {
     "duration": 0.01236,
     "end_time": "2024-02-04T01:22:38.641664",
     "exception": false,
     "start_time": "2024-02-04T01:22:38.629304",
     "status": "completed"
    },
    "tags": []
   },
   "source": [
    "### 欠損値の補完"
   ]
  },
  {
   "cell_type": "code",
   "execution_count": 5,
   "id": "50f830ce",
   "metadata": {
    "execution": {
     "iopub.execute_input": "2024-02-04T01:22:38.668700Z",
     "iopub.status.busy": "2024-02-04T01:22:38.668255Z",
     "iopub.status.idle": "2024-02-04T01:22:38.674025Z",
     "shell.execute_reply": "2024-02-04T01:22:38.672441Z"
    },
    "id": "pc9ukAPLmKkl",
    "papermill": {
     "duration": 0.022429,
     "end_time": "2024-02-04T01:22:38.676815",
     "exception": false,
     "start_time": "2024-02-04T01:22:38.654386",
     "status": "completed"
    },
    "tags": []
   },
   "outputs": [],
   "source": [
    "def missing_values(df):\n",
    "\n",
    "    return df"
   ]
  },
  {
   "cell_type": "markdown",
   "id": "63252d23",
   "metadata": {
    "id": "2ZLsziVQmM_s",
    "papermill": {
     "duration": 0.012118,
     "end_time": "2024-02-04T01:22:38.701968",
     "exception": false,
     "start_time": "2024-02-04T01:22:38.689850",
     "status": "completed"
    },
    "tags": []
   },
   "source": [
    "### 外れ値の修正"
   ]
  },
  {
   "cell_type": "code",
   "execution_count": 6,
   "id": "15143366",
   "metadata": {
    "execution": {
     "iopub.execute_input": "2024-02-04T01:22:38.730240Z",
     "iopub.status.busy": "2024-02-04T01:22:38.729261Z",
     "iopub.status.idle": "2024-02-04T01:22:38.735497Z",
     "shell.execute_reply": "2024-02-04T01:22:38.734533Z"
    },
    "id": "D9RIXWdJmOBI",
    "papermill": {
     "duration": 0.023877,
     "end_time": "2024-02-04T01:22:38.738440",
     "exception": false,
     "start_time": "2024-02-04T01:22:38.714563",
     "status": "completed"
    },
    "tags": []
   },
   "outputs": [],
   "source": [
    "def outlier(df):\n",
    "\n",
    "    return df"
   ]
  },
  {
   "cell_type": "markdown",
   "id": "8c267a04",
   "metadata": {
    "id": "L0T_RQ97XYoT",
    "papermill": {
     "duration": 0.013623,
     "end_time": "2024-02-04T01:22:38.765836",
     "exception": false,
     "start_time": "2024-02-04T01:22:38.752213",
     "status": "completed"
    },
    "tags": []
   },
   "source": [
    "### スケーリング（標準化）"
   ]
  },
  {
   "cell_type": "markdown",
   "id": "6f6a249b",
   "metadata": {
    "id": "fH7xUj12XcGU",
    "papermill": {
     "duration": 0.012144,
     "end_time": "2024-02-04T01:22:38.790972",
     "exception": false,
     "start_time": "2024-02-04T01:22:38.778828",
     "status": "completed"
    },
    "tags": []
   },
   "source": [
    "- MinMaxScaler(正規化)"
   ]
  },
  {
   "cell_type": "code",
   "execution_count": 7,
   "id": "029fa05a",
   "metadata": {
    "execution": {
     "iopub.execute_input": "2024-02-04T01:22:38.818764Z",
     "iopub.status.busy": "2024-02-04T01:22:38.817857Z",
     "iopub.status.idle": "2024-02-04T01:22:38.824275Z",
     "shell.execute_reply": "2024-02-04T01:22:38.823301Z"
    },
    "id": "H2MehtAxXd61",
    "papermill": {
     "duration": 0.023769,
     "end_time": "2024-02-04T01:22:38.827304",
     "exception": false,
     "start_time": "2024-02-04T01:22:38.803535",
     "status": "completed"
    },
    "tags": []
   },
   "outputs": [],
   "source": [
    "def scaling_MinMaxScaler(df, scale_cols):\n",
    "    df_scale = df[scale_cols]\n",
    "    sc = MinMaxScaler()\n",
    "    df[scale_cols] = pd.DataFrame(sc.fit_transform(df_scale), columns = df_scale.columns)\n",
    "\n",
    "    return df"
   ]
  },
  {
   "cell_type": "markdown",
   "id": "b569de97",
   "metadata": {
    "id": "evWEXqCTliXu",
    "papermill": {
     "duration": 0.012161,
     "end_time": "2024-02-04T01:22:38.852305",
     "exception": false,
     "start_time": "2024-02-04T01:22:38.840144",
     "status": "completed"
    },
    "tags": []
   },
   "source": [
    "## 特徴量エンジニアリング"
   ]
  },
  {
   "cell_type": "markdown",
   "id": "dc17e5f0",
   "metadata": {
    "id": "ehRLTpCDlj_m",
    "papermill": {
     "duration": 0.012085,
     "end_time": "2024-02-04T01:22:38.877009",
     "exception": false,
     "start_time": "2024-02-04T01:22:38.864924",
     "status": "completed"
    },
    "tags": []
   },
   "source": [
    "### 特徴量の作成"
   ]
  },
  {
   "cell_type": "code",
   "execution_count": 8,
   "id": "a8c70a86",
   "metadata": {
    "execution": {
     "iopub.execute_input": "2024-02-04T01:22:38.905921Z",
     "iopub.status.busy": "2024-02-04T01:22:38.904530Z",
     "iopub.status.idle": "2024-02-04T01:22:38.912925Z",
     "shell.execute_reply": "2024-02-04T01:22:38.911736Z"
    },
    "id": "SJd05F70kskT",
    "papermill": {
     "duration": 0.026719,
     "end_time": "2024-02-04T01:22:38.916440",
     "exception": false,
     "start_time": "2024-02-04T01:22:38.889721",
     "status": "completed"
    },
    "tags": []
   },
   "outputs": [],
   "source": [
    "def create_new_features(df):\n",
    "    # BMI\n",
    "    df['BMI'] = df['Weight'] / (df['Height'] ** 2)\n",
    "    \n",
    "    # 身体のアクティビティレベル\n",
    "    df['Physical_Activity_Level'] = df['FAF'] - df['TUE']\n",
    "    \n",
    "    # 食習慣\n",
    "    df['Meal_Habits'] = df['FCVC'] * df['NCP']\n",
    "    \n",
    "    # 健康栄養習慣\n",
    "#     df['Healthy_Nutrition_Habits'] = df['FCVC'] / (2 * df['FAVC_no'] - 1)\n",
    "    \n",
    "    # 技術使用法スコア\n",
    "    df['Tech_Usage_Score'] = df['TUE'] / df['Age']\n",
    "    \n",
    "    return df"
   ]
  },
  {
   "cell_type": "markdown",
   "id": "bac6c9ed",
   "metadata": {
    "papermill": {
     "duration": 0.013086,
     "end_time": "2024-02-04T01:22:38.943890",
     "exception": false,
     "start_time": "2024-02-04T01:22:38.930804",
     "status": "completed"
    },
    "tags": []
   },
   "source": [
    "#### ビンニング"
   ]
  },
  {
   "cell_type": "code",
   "execution_count": 9,
   "id": "a6d8e1e2",
   "metadata": {
    "execution": {
     "iopub.execute_input": "2024-02-04T01:22:38.974362Z",
     "iopub.status.busy": "2024-02-04T01:22:38.973189Z",
     "iopub.status.idle": "2024-02-04T01:22:38.978848Z",
     "shell.execute_reply": "2024-02-04T01:22:38.977933Z"
    },
    "papermill": {
     "duration": 0.02321,
     "end_time": "2024-02-04T01:22:38.981356",
     "exception": false,
     "start_time": "2024-02-04T01:22:38.958146",
     "status": "completed"
    },
    "tags": []
   },
   "outputs": [],
   "source": [
    "def binning(df):\n",
    "    \n",
    "    return df"
   ]
  },
  {
   "cell_type": "markdown",
   "id": "b2a53082",
   "metadata": {
    "id": "eWE-oFe4loLR",
    "papermill": {
     "duration": 0.020116,
     "end_time": "2024-02-04T01:22:39.017045",
     "exception": false,
     "start_time": "2024-02-04T01:22:38.996929",
     "status": "completed"
    },
    "tags": []
   },
   "source": [
    "### カテゴリ変数のエンコーディング"
   ]
  },
  {
   "cell_type": "markdown",
   "id": "503453b6",
   "metadata": {
    "id": "xoRllpoVJi0M",
    "papermill": {
     "duration": 0.01831,
     "end_time": "2024-02-04T01:22:39.053828",
     "exception": false,
     "start_time": "2024-02-04T01:22:39.035518",
     "status": "completed"
    },
    "tags": []
   },
   "source": [
    "* One-HotEncoding"
   ]
  },
  {
   "cell_type": "code",
   "execution_count": 10,
   "id": "faead835",
   "metadata": {
    "execution": {
     "iopub.execute_input": "2024-02-04T01:22:39.086663Z",
     "iopub.status.busy": "2024-02-04T01:22:39.086188Z",
     "iopub.status.idle": "2024-02-04T01:22:39.093800Z",
     "shell.execute_reply": "2024-02-04T01:22:39.092260Z"
    },
    "id": "r4FeWb-aJi0N",
    "papermill": {
     "duration": 0.02477,
     "end_time": "2024-02-04T01:22:39.096161",
     "exception": false,
     "start_time": "2024-02-04T01:22:39.071391",
     "status": "completed"
    },
    "tags": []
   },
   "outputs": [],
   "source": [
    "def one_hot_encoding(df, cat_cols):\n",
    "    df[target_col] = df[target_col].map({\n",
    "    \"Insufficient_Weight\":0,\n",
    "    \"Normal_Weight\":1,\n",
    "    \"Obesity_Type_I\":2,\n",
    "    \"Obesity_Type_II\":3,\n",
    "    \"Obesity_Type_III\":4,\n",
    "    \"Overweight_Level_I\":5,\n",
    "    \"Overweight_Level_II\":6,\n",
    "    })\n",
    "\n",
    "    df = pd.get_dummies(df, columns=cat_cols)\n",
    "\n",
    "    return df"
   ]
  },
  {
   "cell_type": "markdown",
   "id": "6b319850",
   "metadata": {
    "id": "sKHw_ipAlpUy",
    "papermill": {
     "duration": 0.011853,
     "end_time": "2024-02-04T01:22:39.121065",
     "exception": false,
     "start_time": "2024-02-04T01:22:39.109212",
     "status": "completed"
    },
    "tags": []
   },
   "source": [
    "- LabelEncoding"
   ]
  },
  {
   "cell_type": "code",
   "execution_count": 11,
   "id": "2bb8d058",
   "metadata": {
    "execution": {
     "iopub.execute_input": "2024-02-04T01:22:39.149775Z",
     "iopub.status.busy": "2024-02-04T01:22:39.149356Z",
     "iopub.status.idle": "2024-02-04T01:22:39.156776Z",
     "shell.execute_reply": "2024-02-04T01:22:39.155266Z"
    },
    "id": "uBNUcljZlmV5",
    "papermill": {
     "duration": 0.0263,
     "end_time": "2024-02-04T01:22:39.159486",
     "exception": false,
     "start_time": "2024-02-04T01:22:39.133186",
     "status": "completed"
    },
    "tags": []
   },
   "outputs": [],
   "source": [
    "def label_encoder(df, categorical_columns):\n",
    "#     categorical_columns = df.select_dtypes(include=['object']).columns\n",
    "\n",
    "    for column in categorical_columns:\n",
    "        df[column] = df[column].fillna('').astype('str') # 欠損値の補完をする\n",
    "        le = LabelEncoder()\n",
    "        df[column] = le.fit_transform(df[column])\n",
    "\n",
    "    return df"
   ]
  },
  {
   "cell_type": "markdown",
   "id": "968c2169",
   "metadata": {
    "papermill": {
     "duration": 0.01794,
     "end_time": "2024-02-04T01:22:39.191398",
     "exception": false,
     "start_time": "2024-02-04T01:22:39.173458",
     "status": "completed"
    },
    "tags": []
   },
   "source": [
    "- pd.get_dummies"
   ]
  },
  {
   "cell_type": "code",
   "execution_count": 12,
   "id": "1713518d",
   "metadata": {
    "execution": {
     "iopub.execute_input": "2024-02-04T01:22:39.230871Z",
     "iopub.status.busy": "2024-02-04T01:22:39.230026Z",
     "iopub.status.idle": "2024-02-04T01:22:39.236277Z",
     "shell.execute_reply": "2024-02-04T01:22:39.235115Z"
    },
    "papermill": {
     "duration": 0.02805,
     "end_time": "2024-02-04T01:22:39.239518",
     "exception": false,
     "start_time": "2024-02-04T01:22:39.211468",
     "status": "completed"
    },
    "tags": []
   },
   "outputs": [],
   "source": [
    "def get_dummies(df, cat_cols):\n",
    "    df = pd.get_dummies(df, columns=cat_cols)\n",
    "    \n",
    "    return df"
   ]
  },
  {
   "cell_type": "markdown",
   "id": "4b409ede",
   "metadata": {
    "id": "OVz_DZCgltFl",
    "papermill": {
     "duration": 0.013089,
     "end_time": "2024-02-04T01:22:39.271414",
     "exception": false,
     "start_time": "2024-02-04T01:22:39.258325",
     "status": "completed"
    },
    "tags": []
   },
   "source": [
    "### 特徴量の選択"
   ]
  },
  {
   "cell_type": "markdown",
   "id": "32e3e3d1",
   "metadata": {
    "id": "T-uGFwI8luOC",
    "papermill": {
     "duration": 0.011994,
     "end_time": "2024-02-04T01:22:39.300929",
     "exception": false,
     "start_time": "2024-02-04T01:22:39.288935",
     "status": "completed"
    },
    "tags": []
   },
   "source": [
    "#### 特徴量の重要度評価"
   ]
  },
  {
   "cell_type": "code",
   "execution_count": 13,
   "id": "226759e7",
   "metadata": {
    "execution": {
     "iopub.execute_input": "2024-02-04T01:22:39.328324Z",
     "iopub.status.busy": "2024-02-04T01:22:39.326983Z",
     "iopub.status.idle": "2024-02-04T01:22:39.335049Z",
     "shell.execute_reply": "2024-02-04T01:22:39.333710Z"
    },
    "id": "IvbTfuG8lrYZ",
    "papermill": {
     "duration": 0.024571,
     "end_time": "2024-02-04T01:22:39.337709",
     "exception": false,
     "start_time": "2024-02-04T01:22:39.313138",
     "status": "completed"
    },
    "tags": []
   },
   "outputs": [],
   "source": [
    "def feature_importance_evaluation(df):\n",
    "    # 訓練データをX(説明変数)とy（目的変数）に分割する\n",
    "    X = df.select_dtypes(include=['float', 'int'])\n",
    "#     X = X.drop([target_col], axis=1) # 目的変数を指定する\n",
    "    y = target # 目的変数を指定する\n",
    "\n",
    "    \n",
    "\n",
    "    # 特徴量の重要度評価\n",
    "    clf = LGBMClassifier(\n",
    "        random_state=42,\n",
    "    )\n",
    "\n",
    "    clf.fit(X, y)\n",
    "    importance = clf.feature_importances_\n",
    "\n",
    "    feature_importance = pd.DataFrame(data=importance, index=X.columns, columns=['importance']) \\\n",
    "        .sort_values(ascending=True, by='importance')\n",
    "\n",
    "    return feature_importance"
   ]
  },
  {
   "cell_type": "markdown",
   "id": "69d7f249",
   "metadata": {
    "id": "Uu58wE5hl4MK",
    "papermill": {
     "duration": 0.014882,
     "end_time": "2024-02-04T01:22:39.366111",
     "exception": false,
     "start_time": "2024-02-04T01:22:39.351229",
     "status": "completed"
    },
    "tags": []
   },
   "source": [
    "#### 特徴量の削除"
   ]
  },
  {
   "cell_type": "code",
   "execution_count": 14,
   "id": "e970b90c",
   "metadata": {
    "execution": {
     "iopub.execute_input": "2024-02-04T01:22:39.401023Z",
     "iopub.status.busy": "2024-02-04T01:22:39.399437Z",
     "iopub.status.idle": "2024-02-04T01:22:39.406596Z",
     "shell.execute_reply": "2024-02-04T01:22:39.405333Z"
    },
    "id": "LNqYHRC2l0fz",
    "papermill": {
     "duration": 0.030182,
     "end_time": "2024-02-04T01:22:39.409914",
     "exception": false,
     "start_time": "2024-02-04T01:22:39.379732",
     "status": "completed"
    },
    "tags": []
   },
   "outputs": [],
   "source": [
    "def drop_columns(df):\n",
    "    drop_list = [\n",
    "        \n",
    "    ]\n",
    "    dropped_df = df.drop(columns=drop_list)\n",
    "\n",
    "    return dropped_df"
   ]
  },
  {
   "cell_type": "markdown",
   "id": "ff09b33e",
   "metadata": {
    "id": "EzhMZ-IVmC04",
    "papermill": {
     "duration": 0.015171,
     "end_time": "2024-02-04T01:22:39.443089",
     "exception": false,
     "start_time": "2024-02-04T01:22:39.427918",
     "status": "completed"
    },
    "tags": []
   },
   "source": [
    "### データセットの更新"
   ]
  },
  {
   "cell_type": "code",
   "execution_count": 15,
   "id": "01d5dea2",
   "metadata": {
    "execution": {
     "iopub.execute_input": "2024-02-04T01:22:39.472114Z",
     "iopub.status.busy": "2024-02-04T01:22:39.471628Z",
     "iopub.status.idle": "2024-02-04T01:22:40.203682Z",
     "shell.execute_reply": "2024-02-04T01:22:40.202684Z"
    },
    "id": "wtp9MwnUl_zY",
    "papermill": {
     "duration": 0.749737,
     "end_time": "2024-02-04T01:22:40.206451",
     "exception": false,
     "start_time": "2024-02-04T01:22:39.456714",
     "status": "completed"
    },
    "tags": []
   },
   "outputs": [],
   "source": [
    "# 前処理\n",
    "df = missing_values(df)\n",
    "df = outlier(df)\n",
    "\n",
    "scale_cols = []\n",
    "# df = scaling_MinMaxScaler(df, scale_cols) # 標準化したい時のみ実行する\n",
    "\n",
    "# 特徴量エンジニアリング\n",
    "df = create_new_features(df)\n",
    "df = binning(df)\n",
    "df = missing_values(df)\n",
    "df = drop_columns(df)\n",
    "\n",
    "ohe_cols = [] # One-Hot Encodingしたい水準数の少ないカラムを指定する\n",
    "dummies_cols = [] # pd.get_dummiesしたい水準数の少ないカラムを指定する\n",
    "df = one_hot_encoding(df, ohe_cols)\n",
    "df = get_dummies(df, dummies_cols)\n",
    "df = label_encoder(df, categorical_features)"
   ]
  },
  {
   "cell_type": "code",
   "execution_count": 16,
   "id": "9000a7e2",
   "metadata": {
    "execution": {
     "iopub.execute_input": "2024-02-04T01:22:40.242116Z",
     "iopub.status.busy": "2024-02-04T01:22:40.241453Z",
     "iopub.status.idle": "2024-02-04T01:22:40.269397Z",
     "shell.execute_reply": "2024-02-04T01:22:40.268288Z"
    },
    "id": "DDUYrDzpmD2t",
    "outputId": "453062fd-b278-4ced-f7e2-f903a0067358",
    "papermill": {
     "duration": 0.044327,
     "end_time": "2024-02-04T01:22:40.271982",
     "exception": false,
     "start_time": "2024-02-04T01:22:40.227655",
     "status": "completed"
    },
    "tags": []
   },
   "outputs": [
    {
     "data": {
      "text/html": [
       "<div>\n",
       "<style scoped>\n",
       "    .dataframe tbody tr th:only-of-type {\n",
       "        vertical-align: middle;\n",
       "    }\n",
       "\n",
       "    .dataframe tbody tr th {\n",
       "        vertical-align: top;\n",
       "    }\n",
       "\n",
       "    .dataframe thead th {\n",
       "        text-align: right;\n",
       "    }\n",
       "</style>\n",
       "<table border=\"1\" class=\"dataframe\">\n",
       "  <thead>\n",
       "    <tr style=\"text-align: right;\">\n",
       "      <th></th>\n",
       "      <th>index</th>\n",
       "      <th>Gender</th>\n",
       "      <th>Age</th>\n",
       "      <th>Height</th>\n",
       "      <th>Weight</th>\n",
       "      <th>family_history_with_overweight</th>\n",
       "      <th>FAVC</th>\n",
       "      <th>FCVC</th>\n",
       "      <th>NCP</th>\n",
       "      <th>CAEC</th>\n",
       "      <th>SMOKE</th>\n",
       "      <th>CH2O</th>\n",
       "      <th>SCC</th>\n",
       "      <th>FAF</th>\n",
       "      <th>TUE</th>\n",
       "      <th>CALC</th>\n",
       "      <th>MTRANS</th>\n",
       "      <th>NObeyesdad</th>\n",
       "      <th>BMI</th>\n",
       "      <th>Physical_Activity_Level</th>\n",
       "      <th>Meal_Habits</th>\n",
       "      <th>Tech_Usage_Score</th>\n",
       "    </tr>\n",
       "  </thead>\n",
       "  <tbody>\n",
       "    <tr>\n",
       "      <th>0</th>\n",
       "      <td>0</td>\n",
       "      <td>1</td>\n",
       "      <td>1095</td>\n",
       "      <td>933</td>\n",
       "      <td>1839</td>\n",
       "      <td>1</td>\n",
       "      <td>1</td>\n",
       "      <td>265</td>\n",
       "      <td>589</td>\n",
       "      <td>2</td>\n",
       "      <td>0</td>\n",
       "      <td>1491</td>\n",
       "      <td>0</td>\n",
       "      <td>0</td>\n",
       "      <td>1053</td>\n",
       "      <td>2</td>\n",
       "      <td>3</td>\n",
       "      <td>6.00000</td>\n",
       "      <td>28.25956</td>\n",
       "      <td>-0.97647</td>\n",
       "      <td>5.96659</td>\n",
       "      <td>0.03995</td>\n",
       "    </tr>\n",
       "    <tr>\n",
       "      <th>1</th>\n",
       "      <td>1</td>\n",
       "      <td>0</td>\n",
       "      <td>108</td>\n",
       "      <td>128</td>\n",
       "      <td>1376</td>\n",
       "      <td>1</td>\n",
       "      <td>1</td>\n",
       "      <td>265</td>\n",
       "      <td>624</td>\n",
       "      <td>1</td>\n",
       "      <td>0</td>\n",
       "      <td>756</td>\n",
       "      <td>0</td>\n",
       "      <td>751</td>\n",
       "      <td>1068</td>\n",
       "      <td>3</td>\n",
       "      <td>0</td>\n",
       "      <td>1.00000</td>\n",
       "      <td>23.42209</td>\n",
       "      <td>0.00000</td>\n",
       "      <td>6.00000</td>\n",
       "      <td>0.05556</td>\n",
       "    </tr>\n",
       "    <tr>\n",
       "      <th>2</th>\n",
       "      <td>11112</td>\n",
       "      <td>0</td>\n",
       "      <td>108</td>\n",
       "      <td>1040</td>\n",
       "      <td>1253</td>\n",
       "      <td>1</td>\n",
       "      <td>1</td>\n",
       "      <td>206</td>\n",
       "      <td>127</td>\n",
       "      <td>2</td>\n",
       "      <td>0</td>\n",
       "      <td>659</td>\n",
       "      <td>0</td>\n",
       "      <td>587</td>\n",
       "      <td>1322</td>\n",
       "      <td>3</td>\n",
       "      <td>3</td>\n",
       "      <td>0.00000</td>\n",
       "      <td>17.12671</td>\n",
       "      <td>-0.80754</td>\n",
       "      <td>2.65472</td>\n",
       "      <td>0.09298</td>\n",
       "    </tr>\n",
       "    <tr>\n",
       "      <th>3</th>\n",
       "      <td>12981</td>\n",
       "      <td>0</td>\n",
       "      <td>522</td>\n",
       "      <td>1035</td>\n",
       "      <td>936</td>\n",
       "      <td>1</td>\n",
       "      <td>1</td>\n",
       "      <td>1053</td>\n",
       "      <td>624</td>\n",
       "      <td>2</td>\n",
       "      <td>0</td>\n",
       "      <td>464</td>\n",
       "      <td>0</td>\n",
       "      <td>1040</td>\n",
       "      <td>806</td>\n",
       "      <td>2</td>\n",
       "      <td>3</td>\n",
       "      <td>4.00000</td>\n",
       "      <td>44.85580</td>\n",
       "      <td>0.68766</td>\n",
       "      <td>9.00000</td>\n",
       "      <td>0.03724</td>\n",
       "    </tr>\n",
       "    <tr>\n",
       "      <th>4</th>\n",
       "      <td>14092</td>\n",
       "      <td>1</td>\n",
       "      <td>1605</td>\n",
       "      <td>2050</td>\n",
       "      <td>2205</td>\n",
       "      <td>1</td>\n",
       "      <td>1</td>\n",
       "      <td>735</td>\n",
       "      <td>252</td>\n",
       "      <td>2</td>\n",
       "      <td>0</td>\n",
       "      <td>727</td>\n",
       "      <td>0</td>\n",
       "      <td>1330</td>\n",
       "      <td>995</td>\n",
       "      <td>2</td>\n",
       "      <td>3</td>\n",
       "      <td>6.00000</td>\n",
       "      <td>25.59915</td>\n",
       "      <td>1.03625</td>\n",
       "      <td>5.28288</td>\n",
       "      <td>0.02945</td>\n",
       "    </tr>\n",
       "  </tbody>\n",
       "</table>\n",
       "</div>"
      ],
      "text/plain": [
       "   index  Gender   Age  Height  Weight  family_history_with_overweight  FAVC  \\\n",
       "0      0       1  1095     933    1839                               1     1   \n",
       "1      1       0   108     128    1376                               1     1   \n",
       "2  11112       0   108    1040    1253                               1     1   \n",
       "3  12981       0   522    1035     936                               1     1   \n",
       "4  14092       1  1605    2050    2205                               1     1   \n",
       "\n",
       "   FCVC  NCP  CAEC  SMOKE  CH2O  SCC   FAF   TUE  CALC  MTRANS  NObeyesdad  \\\n",
       "0   265  589     2      0  1491    0     0  1053     2       3     6.00000   \n",
       "1   265  624     1      0   756    0   751  1068     3       0     1.00000   \n",
       "2   206  127     2      0   659    0   587  1322     3       3     0.00000   \n",
       "3  1053  624     2      0   464    0  1040   806     2       3     4.00000   \n",
       "4   735  252     2      0   727    0  1330   995     2       3     6.00000   \n",
       "\n",
       "       BMI  Physical_Activity_Level  Meal_Habits  Tech_Usage_Score  \n",
       "0 28.25956                 -0.97647      5.96659           0.03995  \n",
       "1 23.42209                  0.00000      6.00000           0.05556  \n",
       "2 17.12671                 -0.80754      2.65472           0.09298  \n",
       "3 44.85580                  0.68766      9.00000           0.03724  \n",
       "4 25.59915                  1.03625      5.28288           0.02945  "
      ]
     },
     "execution_count": 16,
     "metadata": {},
     "output_type": "execute_result"
    }
   ],
   "source": [
    "train = df[:20758]\n",
    "test = df[20758:]\n",
    "\n",
    "# train_x = train.drop(columns=[target_col])\n",
    "# train_y = target\n",
    "# test_x = test.drop(columns=[target_col])\n",
    "\n",
    "train_x = train\n",
    "train_y = target\n",
    "test_x = test\n",
    "\n",
    "X = train_x.values\n",
    "y = train_y.values\n",
    "# y = y.astype(int)\n",
    "\n",
    "df.head()"
   ]
  },
  {
   "cell_type": "code",
   "execution_count": 17,
   "id": "76d62987",
   "metadata": {
    "execution": {
     "iopub.execute_input": "2024-02-04T01:22:40.300463Z",
     "iopub.status.busy": "2024-02-04T01:22:40.299795Z",
     "iopub.status.idle": "2024-02-04T01:22:44.865606Z",
     "shell.execute_reply": "2024-02-04T01:22:44.864122Z"
    },
    "id": "yIlQ3t2-mxBU",
    "papermill": {
     "duration": 4.583214,
     "end_time": "2024-02-04T01:22:44.868471",
     "exception": false,
     "start_time": "2024-02-04T01:22:40.285257",
     "status": "completed"
    },
    "tags": []
   },
   "outputs": [
    {
     "name": "stdout",
     "output_type": "stream",
     "text": [
      "[LightGBM] [Info] Auto-choosing row-wise multi-threading, the overhead of testing was 0.010228 seconds.\n",
      "You can set `force_row_wise=true` to remove the overhead.\n",
      "And if memory is not enough, you can set `force_col_wise=true`.\n",
      "[LightGBM] [Info] Total Bins 3328\n",
      "[LightGBM] [Info] Number of data points in the train set: 20758, number of used features: 22\n",
      "[LightGBM] [Info] Start training from score -2.107483\n",
      "[LightGBM] [Info] Start training from score -1.907353\n",
      "[LightGBM] [Info] Start training from score -1.964779\n",
      "[LightGBM] [Info] Start training from score -1.854892\n",
      "[LightGBM] [Info] Start training from score -1.635203\n",
      "[LightGBM] [Info] Start training from score -2.146276\n",
      "[LightGBM] [Info] Start training from score -2.107879\n",
      "[LightGBM] [Warning] No further splits with positive gain, best gain: -inf\n",
      "[LightGBM] [Warning] No further splits with positive gain, best gain: -inf\n",
      "[LightGBM] [Warning] No further splits with positive gain, best gain: -inf\n",
      "[LightGBM] [Warning] No further splits with positive gain, best gain: -inf\n",
      "[LightGBM] [Warning] No further splits with positive gain, best gain: -inf\n",
      "[LightGBM] [Warning] No further splits with positive gain, best gain: -inf\n",
      "[LightGBM] [Warning] No further splits with positive gain, best gain: -inf\n",
      "[LightGBM] [Warning] No further splits with positive gain, best gain: -inf\n",
      "[LightGBM] [Warning] No further splits with positive gain, best gain: -inf\n",
      "[LightGBM] [Warning] No further splits with positive gain, best gain: -inf\n",
      "[LightGBM] [Warning] No further splits with positive gain, best gain: -inf\n",
      "[LightGBM] [Warning] No further splits with positive gain, best gain: -inf\n",
      "[LightGBM] [Warning] No further splits with positive gain, best gain: -inf\n",
      "[LightGBM] [Warning] No further splits with positive gain, best gain: -inf\n",
      "[LightGBM] [Warning] No further splits with positive gain, best gain: -inf\n",
      "[LightGBM] [Warning] No further splits with positive gain, best gain: -inf\n",
      "[LightGBM] [Warning] No further splits with positive gain, best gain: -inf\n",
      "[LightGBM] [Warning] No further splits with positive gain, best gain: -inf\n",
      "[LightGBM] [Warning] No further splits with positive gain, best gain: -inf\n",
      "[LightGBM] [Warning] No further splits with positive gain, best gain: -inf\n",
      "[LightGBM] [Warning] No further splits with positive gain, best gain: -inf\n",
      "[LightGBM] [Warning] No further splits with positive gain, best gain: -inf\n",
      "[LightGBM] [Warning] No further splits with positive gain, best gain: -inf\n",
      "[LightGBM] [Warning] No further splits with positive gain, best gain: -inf\n",
      "[LightGBM] [Warning] No further splits with positive gain, best gain: -inf\n",
      "[LightGBM] [Warning] No further splits with positive gain, best gain: -inf\n",
      "[LightGBM] [Warning] No further splits with positive gain, best gain: -inf\n",
      "[LightGBM] [Warning] No further splits with positive gain, best gain: -inf\n",
      "[LightGBM] [Warning] No further splits with positive gain, best gain: -inf\n",
      "[LightGBM] [Warning] No further splits with positive gain, best gain: -inf\n",
      "[LightGBM] [Warning] No further splits with positive gain, best gain: -inf\n",
      "[LightGBM] [Warning] No further splits with positive gain, best gain: -inf\n",
      "[LightGBM] [Warning] No further splits with positive gain, best gain: -inf\n",
      "[LightGBM] [Warning] No further splits with positive gain, best gain: -inf\n",
      "[LightGBM] [Warning] No further splits with positive gain, best gain: -inf\n",
      "[LightGBM] [Warning] No further splits with positive gain, best gain: -inf\n",
      "[LightGBM] [Warning] No further splits with positive gain, best gain: -inf\n",
      "[LightGBM] [Warning] No further splits with positive gain, best gain: -inf\n",
      "[LightGBM] [Warning] No further splits with positive gain, best gain: -inf\n",
      "[LightGBM] [Warning] No further splits with positive gain, best gain: -inf\n",
      "[LightGBM] [Warning] No further splits with positive gain, best gain: -inf\n",
      "[LightGBM] [Warning] No further splits with positive gain, best gain: -inf\n",
      "[LightGBM] [Warning] No further splits with positive gain, best gain: -inf\n",
      "[LightGBM] [Warning] No further splits with positive gain, best gain: -inf\n",
      "[LightGBM] [Warning] No further splits with positive gain, best gain: -inf\n",
      "[LightGBM] [Warning] No further splits with positive gain, best gain: -inf\n",
      "[LightGBM] [Warning] No further splits with positive gain, best gain: -inf\n",
      "[LightGBM] [Warning] No further splits with positive gain, best gain: -inf\n",
      "[LightGBM] [Warning] No further splits with positive gain, best gain: -inf\n",
      "[LightGBM] [Warning] No further splits with positive gain, best gain: -inf\n",
      "[LightGBM] [Warning] No further splits with positive gain, best gain: -inf\n",
      "[LightGBM] [Warning] No further splits with positive gain, best gain: -inf\n",
      "[LightGBM] [Warning] No further splits with positive gain, best gain: -inf\n",
      "[LightGBM] [Warning] No further splits with positive gain, best gain: -inf\n",
      "[LightGBM] [Warning] No further splits with positive gain, best gain: -inf\n",
      "[LightGBM] [Warning] No further splits with positive gain, best gain: -inf\n",
      "[LightGBM] [Warning] No further splits with positive gain, best gain: -inf\n",
      "[LightGBM] [Warning] No further splits with positive gain, best gain: -inf\n",
      "[LightGBM] [Warning] No further splits with positive gain, best gain: -inf\n",
      "[LightGBM] [Warning] No further splits with positive gain, best gain: -inf\n",
      "[LightGBM] [Warning] No further splits with positive gain, best gain: -inf\n",
      "[LightGBM] [Warning] No further splits with positive gain, best gain: -inf\n",
      "[LightGBM] [Warning] No further splits with positive gain, best gain: -inf\n",
      "[LightGBM] [Warning] No further splits with positive gain, best gain: -inf\n",
      "[LightGBM] [Warning] No further splits with positive gain, best gain: -inf\n",
      "[LightGBM] [Warning] No further splits with positive gain, best gain: -inf\n",
      "[LightGBM] [Warning] No further splits with positive gain, best gain: -inf\n",
      "[LightGBM] [Warning] No further splits with positive gain, best gain: -inf\n",
      "[LightGBM] [Warning] No further splits with positive gain, best gain: -inf\n",
      "[LightGBM] [Warning] No further splits with positive gain, best gain: -inf\n",
      "[LightGBM] [Warning] No further splits with positive gain, best gain: -inf\n",
      "[LightGBM] [Warning] No further splits with positive gain, best gain: -inf\n",
      "[LightGBM] [Warning] No further splits with positive gain, best gain: -inf\n",
      "[LightGBM] [Warning] No further splits with positive gain, best gain: -inf\n",
      "[LightGBM] [Warning] No further splits with positive gain, best gain: -inf\n",
      "[LightGBM] [Warning] No further splits with positive gain, best gain: -inf\n",
      "[LightGBM] [Warning] No further splits with positive gain, best gain: -inf\n",
      "[LightGBM] [Warning] No further splits with positive gain, best gain: -inf\n",
      "[LightGBM] [Warning] No further splits with positive gain, best gain: -inf\n",
      "[LightGBM] [Warning] No further splits with positive gain, best gain: -inf\n",
      "[LightGBM] [Warning] No further splits with positive gain, best gain: -inf\n",
      "[LightGBM] [Warning] No further splits with positive gain, best gain: -inf\n",
      "[LightGBM] [Warning] No further splits with positive gain, best gain: -inf\n",
      "[LightGBM] [Warning] No further splits with positive gain, best gain: -inf\n",
      "[LightGBM] [Warning] No further splits with positive gain, best gain: -inf\n",
      "[LightGBM] [Warning] No further splits with positive gain, best gain: -inf\n",
      "[LightGBM] [Warning] No further splits with positive gain, best gain: -inf\n",
      "[LightGBM] [Warning] No further splits with positive gain, best gain: -inf\n",
      "[LightGBM] [Warning] No further splits with positive gain, best gain: -inf\n",
      "[LightGBM] [Warning] No further splits with positive gain, best gain: -inf\n",
      "[LightGBM] [Warning] No further splits with positive gain, best gain: -inf\n",
      "[LightGBM] [Warning] No further splits with positive gain, best gain: -inf\n",
      "[LightGBM] [Warning] No further splits with positive gain, best gain: -inf\n",
      "[LightGBM] [Warning] No further splits with positive gain, best gain: -inf\n",
      "[LightGBM] [Warning] No further splits with positive gain, best gain: -inf\n",
      "[LightGBM] [Warning] No further splits with positive gain, best gain: -inf\n",
      "[LightGBM] [Warning] No further splits with positive gain, best gain: -inf\n",
      "[LightGBM] [Warning] No further splits with positive gain, best gain: -inf\n",
      "[LightGBM] [Warning] No further splits with positive gain, best gain: -inf\n",
      "[LightGBM] [Warning] No further splits with positive gain, best gain: -inf\n",
      "[LightGBM] [Warning] No further splits with positive gain, best gain: -inf\n",
      "[LightGBM] [Warning] No further splits with positive gain, best gain: -inf\n",
      "[LightGBM] [Warning] No further splits with positive gain, best gain: -inf\n",
      "[LightGBM] [Warning] No further splits with positive gain, best gain: -inf\n",
      "[LightGBM] [Warning] No further splits with positive gain, best gain: -inf\n",
      "[LightGBM] [Warning] No further splits with positive gain, best gain: -inf\n",
      "[LightGBM] [Warning] No further splits with positive gain, best gain: -inf\n",
      "[LightGBM] [Warning] No further splits with positive gain, best gain: -inf\n",
      "[LightGBM] [Warning] No further splits with positive gain, best gain: -inf\n",
      "[LightGBM] [Warning] No further splits with positive gain, best gain: -inf\n",
      "[LightGBM] [Warning] No further splits with positive gain, best gain: -inf\n",
      "[LightGBM] [Warning] No further splits with positive gain, best gain: -inf\n",
      "[LightGBM] [Warning] No further splits with positive gain, best gain: -inf\n",
      "[LightGBM] [Warning] No further splits with positive gain, best gain: -inf\n",
      "[LightGBM] [Warning] No further splits with positive gain, best gain: -inf\n",
      "[LightGBM] [Warning] No further splits with positive gain, best gain: -inf\n",
      "[LightGBM] [Warning] No further splits with positive gain, best gain: -inf\n",
      "[LightGBM] [Warning] No further splits with positive gain, best gain: -inf\n",
      "[LightGBM] [Warning] No further splits with positive gain, best gain: -inf\n",
      "[LightGBM] [Warning] No further splits with positive gain, best gain: -inf\n",
      "[LightGBM] [Warning] No further splits with positive gain, best gain: -inf\n",
      "[LightGBM] [Warning] No further splits with positive gain, best gain: -inf\n",
      "[LightGBM] [Warning] No further splits with positive gain, best gain: -inf\n",
      "[LightGBM] [Warning] No further splits with positive gain, best gain: -inf\n",
      "[LightGBM] [Warning] No further splits with positive gain, best gain: -inf\n",
      "[LightGBM] [Warning] No further splits with positive gain, best gain: -inf\n",
      "[LightGBM] [Warning] No further splits with positive gain, best gain: -inf\n",
      "[LightGBM] [Warning] No further splits with positive gain, best gain: -inf\n",
      "[LightGBM] [Warning] No further splits with positive gain, best gain: -inf\n",
      "[LightGBM] [Warning] No further splits with positive gain, best gain: -inf\n",
      "[LightGBM] [Warning] No further splits with positive gain, best gain: -inf\n",
      "[LightGBM] [Warning] No further splits with positive gain, best gain: -inf\n",
      "[LightGBM] [Warning] No further splits with positive gain, best gain: -inf\n",
      "[LightGBM] [Warning] No further splits with positive gain, best gain: -inf\n",
      "[LightGBM] [Warning] No further splits with positive gain, best gain: -inf\n",
      "[LightGBM] [Warning] No further splits with positive gain, best gain: -inf\n",
      "[LightGBM] [Warning] No further splits with positive gain, best gain: -inf\n",
      "[LightGBM] [Warning] No further splits with positive gain, best gain: -inf\n",
      "[LightGBM] [Warning] No further splits with positive gain, best gain: -inf\n",
      "[LightGBM] [Warning] No further splits with positive gain, best gain: -inf\n",
      "[LightGBM] [Warning] No further splits with positive gain, best gain: -inf\n",
      "[LightGBM] [Warning] No further splits with positive gain, best gain: -inf\n",
      "[LightGBM] [Warning] No further splits with positive gain, best gain: -inf\n",
      "[LightGBM] [Warning] No further splits with positive gain, best gain: -inf\n",
      "[LightGBM] [Warning] No further splits with positive gain, best gain: -inf\n",
      "[LightGBM] [Warning] No further splits with positive gain, best gain: -inf\n",
      "[LightGBM] [Warning] No further splits with positive gain, best gain: -inf\n",
      "[LightGBM] [Warning] No further splits with positive gain, best gain: -inf\n",
      "[LightGBM] [Warning] No further splits with positive gain, best gain: -inf\n",
      "[LightGBM] [Warning] No further splits with positive gain, best gain: -inf\n",
      "[LightGBM] [Warning] No further splits with positive gain, best gain: -inf\n",
      "[LightGBM] [Warning] No further splits with positive gain, best gain: -inf\n",
      "[LightGBM] [Warning] No further splits with positive gain, best gain: -inf\n",
      "[LightGBM] [Warning] No further splits with positive gain, best gain: -inf\n",
      "[LightGBM] [Warning] No further splits with positive gain, best gain: -inf\n",
      "[LightGBM] [Warning] No further splits with positive gain, best gain: -inf\n",
      "[LightGBM] [Warning] No further splits with positive gain, best gain: -inf\n",
      "[LightGBM] [Warning] No further splits with positive gain, best gain: -inf\n",
      "[LightGBM] [Warning] No further splits with positive gain, best gain: -inf\n",
      "[LightGBM] [Warning] No further splits with positive gain, best gain: -inf\n",
      "[LightGBM] [Warning] No further splits with positive gain, best gain: -inf\n",
      "[LightGBM] [Warning] No further splits with positive gain, best gain: -inf\n",
      "[LightGBM] [Warning] No further splits with positive gain, best gain: -inf\n",
      "[LightGBM] [Warning] No further splits with positive gain, best gain: -inf\n",
      "[LightGBM] [Warning] No further splits with positive gain, best gain: -inf\n",
      "[LightGBM] [Warning] No further splits with positive gain, best gain: -inf\n",
      "[LightGBM] [Warning] No further splits with positive gain, best gain: -inf\n",
      "[LightGBM] [Warning] No further splits with positive gain, best gain: -inf\n",
      "[LightGBM] [Warning] No further splits with positive gain, best gain: -inf\n",
      "[LightGBM] [Warning] No further splits with positive gain, best gain: -inf\n",
      "[LightGBM] [Warning] No further splits with positive gain, best gain: -inf\n",
      "[LightGBM] [Warning] No further splits with positive gain, best gain: -inf\n",
      "[LightGBM] [Warning] No further splits with positive gain, best gain: -inf\n",
      "[LightGBM] [Warning] No further splits with positive gain, best gain: -inf\n",
      "[LightGBM] [Warning] No further splits with positive gain, best gain: -inf\n",
      "[LightGBM] [Warning] No further splits with positive gain, best gain: -inf\n",
      "[LightGBM] [Warning] No further splits with positive gain, best gain: -inf\n",
      "[LightGBM] [Warning] No further splits with positive gain, best gain: -inf\n",
      "[LightGBM] [Warning] No further splits with positive gain, best gain: -inf\n",
      "[LightGBM] [Warning] No further splits with positive gain, best gain: -inf\n",
      "[LightGBM] [Warning] No further splits with positive gain, best gain: -inf\n",
      "[LightGBM] [Warning] No further splits with positive gain, best gain: -inf\n",
      "[LightGBM] [Warning] No further splits with positive gain, best gain: -inf\n",
      "[LightGBM] [Warning] No further splits with positive gain, best gain: -inf\n",
      "[LightGBM] [Warning] No further splits with positive gain, best gain: -inf\n",
      "[LightGBM] [Warning] No further splits with positive gain, best gain: -inf\n",
      "[LightGBM] [Warning] No further splits with positive gain, best gain: -inf\n",
      "[LightGBM] [Warning] No further splits with positive gain, best gain: -inf\n",
      "[LightGBM] [Warning] No further splits with positive gain, best gain: -inf\n",
      "[LightGBM] [Warning] No further splits with positive gain, best gain: -inf\n",
      "[LightGBM] [Warning] No further splits with positive gain, best gain: -inf\n",
      "[LightGBM] [Warning] No further splits with positive gain, best gain: -inf\n",
      "[LightGBM] [Warning] No further splits with positive gain, best gain: -inf\n",
      "[LightGBM] [Warning] No further splits with positive gain, best gain: -inf\n",
      "[LightGBM] [Warning] No further splits with positive gain, best gain: -inf\n",
      "[LightGBM] [Warning] No further splits with positive gain, best gain: -inf\n",
      "[LightGBM] [Warning] No further splits with positive gain, best gain: -inf\n",
      "[LightGBM] [Warning] No further splits with positive gain, best gain: -inf\n",
      "[LightGBM] [Warning] No further splits with positive gain, best gain: -inf\n",
      "[LightGBM] [Warning] No further splits with positive gain, best gain: -inf\n",
      "[LightGBM] [Warning] No further splits with positive gain, best gain: -inf\n",
      "[LightGBM] [Warning] No further splits with positive gain, best gain: -inf\n",
      "[LightGBM] [Warning] No further splits with positive gain, best gain: -inf\n",
      "[LightGBM] [Warning] No further splits with positive gain, best gain: -inf\n",
      "[LightGBM] [Warning] No further splits with positive gain, best gain: -inf\n",
      "[LightGBM] [Warning] No further splits with positive gain, best gain: -inf\n",
      "[LightGBM] [Warning] No further splits with positive gain, best gain: -inf\n",
      "[LightGBM] [Warning] No further splits with positive gain, best gain: -inf\n",
      "[LightGBM] [Warning] No further splits with positive gain, best gain: -inf\n",
      "[LightGBM] [Warning] No further splits with positive gain, best gain: -inf\n",
      "[LightGBM] [Warning] No further splits with positive gain, best gain: -inf\n",
      "[LightGBM] [Warning] No further splits with positive gain, best gain: -inf\n",
      "[LightGBM] [Warning] No further splits with positive gain, best gain: -inf\n",
      "[LightGBM] [Warning] No further splits with positive gain, best gain: -inf\n",
      "[LightGBM] [Warning] No further splits with positive gain, best gain: -inf\n",
      "[LightGBM] [Warning] No further splits with positive gain, best gain: -inf\n",
      "[LightGBM] [Warning] No further splits with positive gain, best gain: -inf\n",
      "[LightGBM] [Warning] No further splits with positive gain, best gain: -inf\n",
      "[LightGBM] [Warning] No further splits with positive gain, best gain: -inf\n"
     ]
    },
    {
     "data": {
      "text/html": [
       "<div>\n",
       "<style scoped>\n",
       "    .dataframe tbody tr th:only-of-type {\n",
       "        vertical-align: middle;\n",
       "    }\n",
       "\n",
       "    .dataframe tbody tr th {\n",
       "        vertical-align: top;\n",
       "    }\n",
       "\n",
       "    .dataframe thead th {\n",
       "        text-align: right;\n",
       "    }\n",
       "</style>\n",
       "<table border=\"1\" class=\"dataframe\">\n",
       "  <thead>\n",
       "    <tr style=\"text-align: right;\">\n",
       "      <th></th>\n",
       "      <th>importance</th>\n",
       "    </tr>\n",
       "  </thead>\n",
       "  <tbody>\n",
       "    <tr>\n",
       "      <th>SCC</th>\n",
       "      <td>0</td>\n",
       "    </tr>\n",
       "    <tr>\n",
       "      <th>family_history_with_overweight</th>\n",
       "      <td>4</td>\n",
       "    </tr>\n",
       "    <tr>\n",
       "      <th>MTRANS</th>\n",
       "      <td>6</td>\n",
       "    </tr>\n",
       "    <tr>\n",
       "      <th>FAVC</th>\n",
       "      <td>17</td>\n",
       "    </tr>\n",
       "    <tr>\n",
       "      <th>SMOKE</th>\n",
       "      <td>23</td>\n",
       "    </tr>\n",
       "    <tr>\n",
       "      <th>CAEC</th>\n",
       "      <td>24</td>\n",
       "    </tr>\n",
       "    <tr>\n",
       "      <th>CALC</th>\n",
       "      <td>80</td>\n",
       "    </tr>\n",
       "    <tr>\n",
       "      <th>Tech_Usage_Score</th>\n",
       "      <td>121</td>\n",
       "    </tr>\n",
       "    <tr>\n",
       "      <th>TUE</th>\n",
       "      <td>201</td>\n",
       "    </tr>\n",
       "    <tr>\n",
       "      <th>NCP</th>\n",
       "      <td>258</td>\n",
       "    </tr>\n",
       "    <tr>\n",
       "      <th>Physical_Activity_Level</th>\n",
       "      <td>296</td>\n",
       "    </tr>\n",
       "    <tr>\n",
       "      <th>Gender</th>\n",
       "      <td>316</td>\n",
       "    </tr>\n",
       "    <tr>\n",
       "      <th>FAF</th>\n",
       "      <td>348</td>\n",
       "    </tr>\n",
       "    <tr>\n",
       "      <th>Meal_Habits</th>\n",
       "      <td>639</td>\n",
       "    </tr>\n",
       "    <tr>\n",
       "      <th>FCVC</th>\n",
       "      <td>999</td>\n",
       "    </tr>\n",
       "    <tr>\n",
       "      <th>CH2O</th>\n",
       "      <td>1150</td>\n",
       "    </tr>\n",
       "    <tr>\n",
       "      <th>index</th>\n",
       "      <td>1168</td>\n",
       "    </tr>\n",
       "    <tr>\n",
       "      <th>Height</th>\n",
       "      <td>1226</td>\n",
       "    </tr>\n",
       "    <tr>\n",
       "      <th>Age</th>\n",
       "      <td>1318</td>\n",
       "    </tr>\n",
       "    <tr>\n",
       "      <th>BMI</th>\n",
       "      <td>1981</td>\n",
       "    </tr>\n",
       "    <tr>\n",
       "      <th>NObeyesdad</th>\n",
       "      <td>2433</td>\n",
       "    </tr>\n",
       "    <tr>\n",
       "      <th>Weight</th>\n",
       "      <td>3315</td>\n",
       "    </tr>\n",
       "  </tbody>\n",
       "</table>\n",
       "</div>"
      ],
      "text/plain": [
       "                                importance\n",
       "SCC                                      0\n",
       "family_history_with_overweight           4\n",
       "MTRANS                                   6\n",
       "FAVC                                    17\n",
       "SMOKE                                   23\n",
       "CAEC                                    24\n",
       "CALC                                    80\n",
       "Tech_Usage_Score                       121\n",
       "TUE                                    201\n",
       "NCP                                    258\n",
       "Physical_Activity_Level                296\n",
       "Gender                                 316\n",
       "FAF                                    348\n",
       "Meal_Habits                            639\n",
       "FCVC                                   999\n",
       "CH2O                                  1150\n",
       "index                                 1168\n",
       "Height                                1226\n",
       "Age                                   1318\n",
       "BMI                                   1981\n",
       "NObeyesdad                            2433\n",
       "Weight                                3315"
      ]
     },
     "execution_count": 17,
     "metadata": {},
     "output_type": "execute_result"
    }
   ],
   "source": [
    "# 特徴量の重要度評価\n",
    "train_importance = train\n",
    "feature_importance = feature_importance_evaluation(train_importance)\n",
    "feature_importance"
   ]
  },
  {
   "cell_type": "code",
   "execution_count": 18,
   "id": "d9bdb2ff",
   "metadata": {
    "execution": {
     "iopub.execute_input": "2024-02-04T01:22:44.898835Z",
     "iopub.status.busy": "2024-02-04T01:22:44.898356Z",
     "iopub.status.idle": "2024-02-04T01:22:45.591311Z",
     "shell.execute_reply": "2024-02-04T01:22:45.589746Z"
    },
    "id": "kUDkAd58nOmV",
    "papermill": {
     "duration": 0.711548,
     "end_time": "2024-02-04T01:22:45.594308",
     "exception": false,
     "start_time": "2024-02-04T01:22:44.882760",
     "status": "completed"
    },
    "tags": []
   },
   "outputs": [
    {
     "data": {
      "text/plain": [
       "<Axes: >"
      ]
     },
     "execution_count": 18,
     "metadata": {},
     "output_type": "execute_result"
    },
    {
     "data": {
      "image/png": "[encoded data removed]",
      "text/plain": [
       "<Figure size 1000x1500 with 1 Axes>"
      ]
     },
     "metadata": {},
     "output_type": "display_data"
    }
   ],
   "source": [
    "feature_importance.plot(kind='barh', figsize=(10, 15), color='b')"
   ]
  },
  {
   "cell_type": "code",
   "execution_count": 19,
   "id": "e28b160c",
   "metadata": {
    "execution": {
     "iopub.execute_input": "2024-02-04T01:22:45.627808Z",
     "iopub.status.busy": "2024-02-04T01:22:45.627392Z",
     "iopub.status.idle": "2024-02-04T01:22:46.171631Z",
     "shell.execute_reply": "2024-02-04T01:22:46.170373Z"
    },
    "id": "DVYEwrPUnW9Q",
    "papermill": {
     "duration": 0.564735,
     "end_time": "2024-02-04T01:22:46.174557",
     "exception": false,
     "start_time": "2024-02-04T01:22:45.609822",
     "status": "completed"
    },
    "tags": []
   },
   "outputs": [],
   "source": [
    "df.to_csv(OUTPUT_DIR + 'data.csv', index=False)"
   ]
  },
  {
   "cell_type": "code",
   "execution_count": 20,
   "id": "311cca04",
   "metadata": {
    "execution": {
     "iopub.execute_input": "2024-02-04T01:22:46.206391Z",
     "iopub.status.busy": "2024-02-04T01:22:46.205974Z",
     "iopub.status.idle": "2024-02-04T01:22:46.214483Z",
     "shell.execute_reply": "2024-02-04T01:22:46.213142Z"
    },
    "id": "zxBoX1zbnYUl",
    "papermill": {
     "duration": 0.027112,
     "end_time": "2024-02-04T01:22:46.216950",
     "exception": false,
     "start_time": "2024-02-04T01:22:46.189838",
     "status": "completed"
    },
    "tags": []
   },
   "outputs": [],
   "source": [
    "def file_to_xy(filename):\n",
    "    data = pd.read_csv(filename, index_col=0)\n",
    "    print(f'読み込み完了 {filename}')\n",
    "    train = data[:20758].reset_index(drop=True)\n",
    "    test = data[20758:].reset_index(drop=True).drop(target_col, axis=1) # 目的変数を指定する\n",
    "    # 目的変数と説明変数に分割\n",
    "    X = train.drop([target_col], axis=1) # 目的変数を指定する\n",
    "    y = train[target_col].values # 目的変数を指定する\n",
    "\n",
    "    return data,test,train,X,y"
   ]
  },
  {
   "cell_type": "code",
   "execution_count": 21,
   "id": "b5454910",
   "metadata": {
    "execution": {
     "iopub.execute_input": "2024-02-04T01:22:46.248418Z",
     "iopub.status.busy": "2024-02-04T01:22:46.248028Z",
     "iopub.status.idle": "2024-02-04T01:22:46.377655Z",
     "shell.execute_reply": "2024-02-04T01:22:46.375819Z"
    },
    "id": "DRZhqQjJnfme",
    "outputId": "9cf6043d-315f-4fb6-908b-a67297884126",
    "papermill": {
     "duration": 0.148752,
     "end_time": "2024-02-04T01:22:46.380504",
     "exception": false,
     "start_time": "2024-02-04T01:22:46.231752",
     "status": "completed"
    },
    "tags": []
   },
   "outputs": [
    {
     "name": "stdout",
     "output_type": "stream",
     "text": [
      "読み込み完了 /kaggle/working/data.csv\n"
     ]
    }
   ],
   "source": [
    "filename = 'data.csv'\n",
    "data,test,train,X,y = file_to_xy(OUTPUT_DIR + filename)"
   ]
  },
  {
   "cell_type": "code",
   "execution_count": 22,
   "id": "e726fb07",
   "metadata": {
    "execution": {
     "iopub.execute_input": "2024-02-04T01:22:46.412202Z",
     "iopub.status.busy": "2024-02-04T01:22:46.411809Z",
     "iopub.status.idle": "2024-02-04T01:22:46.435961Z",
     "shell.execute_reply": "2024-02-04T01:22:46.434652Z"
    },
    "papermill": {
     "duration": 0.043251,
     "end_time": "2024-02-04T01:22:46.438743",
     "exception": false,
     "start_time": "2024-02-04T01:22:46.395492",
     "status": "completed"
    },
    "tags": []
   },
   "outputs": [
    {
     "data": {
      "text/html": [
       "<div>\n",
       "<style scoped>\n",
       "    .dataframe tbody tr th:only-of-type {\n",
       "        vertical-align: middle;\n",
       "    }\n",
       "\n",
       "    .dataframe tbody tr th {\n",
       "        vertical-align: top;\n",
       "    }\n",
       "\n",
       "    .dataframe thead th {\n",
       "        text-align: right;\n",
       "    }\n",
       "</style>\n",
       "<table border=\"1\" class=\"dataframe\">\n",
       "  <thead>\n",
       "    <tr style=\"text-align: right;\">\n",
       "      <th></th>\n",
       "      <th>Gender</th>\n",
       "      <th>Age</th>\n",
       "      <th>Height</th>\n",
       "      <th>Weight</th>\n",
       "      <th>family_history_with_overweight</th>\n",
       "      <th>FAVC</th>\n",
       "      <th>FCVC</th>\n",
       "      <th>NCP</th>\n",
       "      <th>CAEC</th>\n",
       "      <th>SMOKE</th>\n",
       "      <th>CH2O</th>\n",
       "      <th>SCC</th>\n",
       "      <th>FAF</th>\n",
       "      <th>TUE</th>\n",
       "      <th>CALC</th>\n",
       "      <th>MTRANS</th>\n",
       "      <th>NObeyesdad</th>\n",
       "      <th>BMI</th>\n",
       "      <th>Physical_Activity_Level</th>\n",
       "      <th>Meal_Habits</th>\n",
       "      <th>Tech_Usage_Score</th>\n",
       "    </tr>\n",
       "    <tr>\n",
       "      <th>index</th>\n",
       "      <th></th>\n",
       "      <th></th>\n",
       "      <th></th>\n",
       "      <th></th>\n",
       "      <th></th>\n",
       "      <th></th>\n",
       "      <th></th>\n",
       "      <th></th>\n",
       "      <th></th>\n",
       "      <th></th>\n",
       "      <th></th>\n",
       "      <th></th>\n",
       "      <th></th>\n",
       "      <th></th>\n",
       "      <th></th>\n",
       "      <th></th>\n",
       "      <th></th>\n",
       "      <th></th>\n",
       "      <th></th>\n",
       "      <th></th>\n",
       "      <th></th>\n",
       "    </tr>\n",
       "  </thead>\n",
       "  <tbody>\n",
       "    <tr>\n",
       "      <th>0</th>\n",
       "      <td>1</td>\n",
       "      <td>1095</td>\n",
       "      <td>933</td>\n",
       "      <td>1839</td>\n",
       "      <td>1</td>\n",
       "      <td>1</td>\n",
       "      <td>265</td>\n",
       "      <td>589</td>\n",
       "      <td>2</td>\n",
       "      <td>0</td>\n",
       "      <td>1491</td>\n",
       "      <td>0</td>\n",
       "      <td>0</td>\n",
       "      <td>1053</td>\n",
       "      <td>2</td>\n",
       "      <td>3</td>\n",
       "      <td>6.00000</td>\n",
       "      <td>28.25956</td>\n",
       "      <td>-0.97647</td>\n",
       "      <td>5.96659</td>\n",
       "      <td>0.03995</td>\n",
       "    </tr>\n",
       "    <tr>\n",
       "      <th>1</th>\n",
       "      <td>0</td>\n",
       "      <td>108</td>\n",
       "      <td>128</td>\n",
       "      <td>1376</td>\n",
       "      <td>1</td>\n",
       "      <td>1</td>\n",
       "      <td>265</td>\n",
       "      <td>624</td>\n",
       "      <td>1</td>\n",
       "      <td>0</td>\n",
       "      <td>756</td>\n",
       "      <td>0</td>\n",
       "      <td>751</td>\n",
       "      <td>1068</td>\n",
       "      <td>3</td>\n",
       "      <td>0</td>\n",
       "      <td>1.00000</td>\n",
       "      <td>23.42209</td>\n",
       "      <td>0.00000</td>\n",
       "      <td>6.00000</td>\n",
       "      <td>0.05556</td>\n",
       "    </tr>\n",
       "    <tr>\n",
       "      <th>11112</th>\n",
       "      <td>0</td>\n",
       "      <td>108</td>\n",
       "      <td>1040</td>\n",
       "      <td>1253</td>\n",
       "      <td>1</td>\n",
       "      <td>1</td>\n",
       "      <td>206</td>\n",
       "      <td>127</td>\n",
       "      <td>2</td>\n",
       "      <td>0</td>\n",
       "      <td>659</td>\n",
       "      <td>0</td>\n",
       "      <td>587</td>\n",
       "      <td>1322</td>\n",
       "      <td>3</td>\n",
       "      <td>3</td>\n",
       "      <td>0.00000</td>\n",
       "      <td>17.12671</td>\n",
       "      <td>-0.80754</td>\n",
       "      <td>2.65472</td>\n",
       "      <td>0.09298</td>\n",
       "    </tr>\n",
       "    <tr>\n",
       "      <th>12981</th>\n",
       "      <td>0</td>\n",
       "      <td>522</td>\n",
       "      <td>1035</td>\n",
       "      <td>936</td>\n",
       "      <td>1</td>\n",
       "      <td>1</td>\n",
       "      <td>1053</td>\n",
       "      <td>624</td>\n",
       "      <td>2</td>\n",
       "      <td>0</td>\n",
       "      <td>464</td>\n",
       "      <td>0</td>\n",
       "      <td>1040</td>\n",
       "      <td>806</td>\n",
       "      <td>2</td>\n",
       "      <td>3</td>\n",
       "      <td>4.00000</td>\n",
       "      <td>44.85580</td>\n",
       "      <td>0.68766</td>\n",
       "      <td>9.00000</td>\n",
       "      <td>0.03724</td>\n",
       "    </tr>\n",
       "    <tr>\n",
       "      <th>14092</th>\n",
       "      <td>1</td>\n",
       "      <td>1605</td>\n",
       "      <td>2050</td>\n",
       "      <td>2205</td>\n",
       "      <td>1</td>\n",
       "      <td>1</td>\n",
       "      <td>735</td>\n",
       "      <td>252</td>\n",
       "      <td>2</td>\n",
       "      <td>0</td>\n",
       "      <td>727</td>\n",
       "      <td>0</td>\n",
       "      <td>1330</td>\n",
       "      <td>995</td>\n",
       "      <td>2</td>\n",
       "      <td>3</td>\n",
       "      <td>6.00000</td>\n",
       "      <td>25.59915</td>\n",
       "      <td>1.03625</td>\n",
       "      <td>5.28288</td>\n",
       "      <td>0.02945</td>\n",
       "    </tr>\n",
       "  </tbody>\n",
       "</table>\n",
       "</div>"
      ],
      "text/plain": [
       "       Gender   Age  Height  Weight  family_history_with_overweight  FAVC  \\\n",
       "index                                                                       \n",
       "0           1  1095     933    1839                               1     1   \n",
       "1           0   108     128    1376                               1     1   \n",
       "11112       0   108    1040    1253                               1     1   \n",
       "12981       0   522    1035     936                               1     1   \n",
       "14092       1  1605    2050    2205                               1     1   \n",
       "\n",
       "       FCVC  NCP  CAEC  SMOKE  CH2O  SCC   FAF   TUE  CALC  MTRANS  \\\n",
       "index                                                                \n",
       "0       265  589     2      0  1491    0     0  1053     2       3   \n",
       "1       265  624     1      0   756    0   751  1068     3       0   \n",
       "11112   206  127     2      0   659    0   587  1322     3       3   \n",
       "12981  1053  624     2      0   464    0  1040   806     2       3   \n",
       "14092   735  252     2      0   727    0  1330   995     2       3   \n",
       "\n",
       "       NObeyesdad      BMI  Physical_Activity_Level  Meal_Habits  \\\n",
       "index                                                              \n",
       "0         6.00000 28.25956                 -0.97647      5.96659   \n",
       "1         1.00000 23.42209                  0.00000      6.00000   \n",
       "11112     0.00000 17.12671                 -0.80754      2.65472   \n",
       "12981     4.00000 44.85580                  0.68766      9.00000   \n",
       "14092     6.00000 25.59915                  1.03625      5.28288   \n",
       "\n",
       "       Tech_Usage_Score  \n",
       "index                    \n",
       "0               0.03995  \n",
       "1               0.05556  \n",
       "11112           0.09298  \n",
       "12981           0.03724  \n",
       "14092           0.02945  "
      ]
     },
     "execution_count": 22,
     "metadata": {},
     "output_type": "execute_result"
    }
   ],
   "source": [
    "data.head()"
   ]
  },
  {
   "cell_type": "code",
   "execution_count": null,
   "id": "bd245896",
   "metadata": {
    "papermill": {
     "duration": 0.015466,
     "end_time": "2024-02-04T01:22:46.469840",
     "exception": false,
     "start_time": "2024-02-04T01:22:46.454374",
     "status": "completed"
    },
    "tags": []
   },
   "outputs": [],
   "source": []
  }
 ],
 "metadata": {
  "colab": {
   "provenance": []
  },
  "kaggle": {
   "accelerator": "none",
   "dataSources": [
    {
     "databundleVersionId": 7609535,
     "sourceId": 68479,
     "sourceType": "competition"
    }
   ],
   "dockerImageVersionId": 30646,
   "isGpuEnabled": false,
   "isInternetEnabled": true,
   "language": "python",
   "sourceType": "notebook"
  },
  "kernelspec": {
   "display_name": "Python 3",
   "language": "python",
   "name": "python3"
  },
  "language_info": {
   "codemirror_mode": {
    "name": "ipython",
    "version": 3
   },
   "file_extension": ".py",
   "mimetype": "text/x-python",
   "name": "python",
   "nbconvert_exporter": "python",
   "pygments_lexer": "ipython3",
   "version": "3.10.13"
  },
  "papermill": {
   "default_parameters": {},
   "duration": 19.168787,
   "end_time": "2024-02-04T01:22:49.957159",
   "environment_variables": {},
   "exception": null,
   "input_path": "__notebook__.ipynb",
   "output_path": "__notebook__.ipynb",
   "parameters": {},
   "start_time": "2024-02-04T01:22:30.788372",
   "version": "2.4.0"
  }
 },
 "nbformat": 4,
 "nbformat_minor": 5
}

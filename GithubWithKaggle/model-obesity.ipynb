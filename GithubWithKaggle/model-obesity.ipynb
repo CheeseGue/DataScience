{
 "cells": [
  {
   "cell_type": "code",
   "execution_count": 1,
   "id": "ae0682d3",
   "metadata": {
    "_cell_guid": "b1076dfc-b9ad-4769-8c92-a6c4dae69d19",
    "_uuid": "8f2839f25d086af736a60e9eeb907d3b93b6e0e5",
    "execution": {
     "iopub.execute_input": "2024-02-01T23:49:12.196517Z",
     "iopub.status.busy": "2024-02-01T23:49:12.195803Z",
     "iopub.status.idle": "2024-02-01T23:49:13.440726Z",
     "shell.execute_reply": "2024-02-01T23:49:13.439839Z"
    },
    "papermill": {
     "duration": 1.258179,
     "end_time": "2024-02-01T23:49:13.442939",
     "exception": false,
     "start_time": "2024-02-01T23:49:12.184760",
     "status": "completed"
    },
    "tags": []
   },
   "outputs": [
    {
     "name": "stdout",
     "output_type": "stream",
     "text": [
      "/kaggle/input/my-multi-class-prediction-of-obesity-risk/data.csv\n",
      "/kaggle/input/playground-series-s4e2/sample_submission.csv\n",
      "/kaggle/input/playground-series-s4e2/train.csv\n",
      "/kaggle/input/playground-series-s4e2/test.csv\n"
     ]
    }
   ],
   "source": [
    "# This Python 3 environment comes with many helpful analytics libraries installed\n",
    "# It is defined by the kaggle/python Docker image: https://github.com/kaggle/docker-python\n",
    "# For example, here's several helpful packages to load\n",
    "\n",
    "import numpy as np # linear algebra\n",
    "import pandas as pd # data processing, CSV file I/O (e.g. pd.read_csv)\n",
    "\n",
    "# Input data files are available in the read-only \"../input/\" directory\n",
    "# For example, running this (by clicking run or pressing Shift+Enter) will list all files under the input directory\n",
    "\n",
    "import os\n",
    "for dirname, _, filenames in os.walk('/kaggle/input'):\n",
    "    for filename in filenames:\n",
    "        print(os.path.join(dirname, filename))\n",
    "\n",
    "# You can write up to 20GB to the current directory (/kaggle/working/) that gets preserved as output when you create a version using \"Save & Run All\" \n",
    "# You can also write temporary files to /kaggle/temp/, but they won't be saved outside of the current session"
   ]
  },
  {
   "cell_type": "markdown",
   "id": "8bbb66ac",
   "metadata": {
    "papermill": {
     "duration": 0.005902,
     "end_time": "2024-02-01T23:49:13.455206",
     "exception": false,
     "start_time": "2024-02-01T23:49:13.449304",
     "status": "completed"
    },
    "tags": []
   },
   "source": [
    "# **肥満リスクの多クラス予測**\n",
    "(Multi-Class Prediction of Obesity Risk)"
   ]
  },
  {
   "cell_type": "markdown",
   "id": "3e1f8eab",
   "metadata": {
    "papermill": {
     "duration": 0.00574,
     "end_time": "2024-02-01T23:49:13.466762",
     "exception": false,
     "start_time": "2024-02-01T23:49:13.461022",
     "status": "completed"
    },
    "tags": []
   },
   "source": [
    "# 参考資料\n",
    "**書籍**\n",
    "\n",
    "\n",
    "**Kaggle**\n",
    "- The fat CatBoost😼\n",
    "\n",
    "**自分で作成したファイル**\n",
    "- 銀行解約データセットを使用した二項分類\n",
    "- 肝硬変の転帰の多クラス予測\n",
    "\n",
    "**その他**\n"
   ]
  },
  {
   "cell_type": "code",
   "execution_count": 2,
   "id": "44ecaedb",
   "metadata": {
    "execution": {
     "iopub.execute_input": "2024-02-01T23:49:13.479870Z",
     "iopub.status.busy": "2024-02-01T23:49:13.479484Z",
     "iopub.status.idle": "2024-02-01T23:49:13.617621Z",
     "shell.execute_reply": "2024-02-01T23:49:13.616706Z"
    },
    "papermill": {
     "duration": 0.147209,
     "end_time": "2024-02-01T23:49:13.619863",
     "exception": false,
     "start_time": "2024-02-01T23:49:13.472654",
     "status": "completed"
    },
    "tags": []
   },
   "outputs": [
    {
     "name": "stdout",
     "output_type": "stream",
     "text": [
      "読み込み完了 /kaggle/input/my-multi-class-prediction-of-obesity-risk/data.csv\n"
     ]
    }
   ],
   "source": [
    "import numpy as np\n",
    "import pandas as pd\n",
    "\n",
    "FILE_PATH = '/kaggle/input/playground-series-s4e2/'\n",
    "CREATE_DATA = '/kaggle/input/my-multi-class-prediction-of-obesity-risk'\n",
    "\n",
    "\n",
    "# 確認 (data_import.py)\n",
    "def file_to_xy(filename):\n",
    "    data = pd.read_csv(filename, index_col=0)\n",
    "    print(f'読み込み完了 {filename}')\n",
    "    \n",
    "    target_col = 'NObeyesdad'\n",
    "    \n",
    "    train = data[:20758].reset_index(drop=True)\n",
    "    test = data[20758:].reset_index(drop=True).drop(target_col, axis=1) # 目的変数を指定する\n",
    "    # 目的変数と説明変数に分割\n",
    "    X = train.drop([target_col], axis=1) # 目的変数を指定する\n",
    "    y = train[target_col].values # 目的変数を指定する\n",
    "\n",
    "    return data,test,train,X,y\n",
    "\n",
    "filename = 'data.csv'\n",
    "data,test,train,X,y = file_to_xy(CREATE_DATA + '/' + filename)"
   ]
  },
  {
   "cell_type": "code",
   "execution_count": 3,
   "id": "c3cbee7b",
   "metadata": {
    "execution": {
     "iopub.execute_input": "2024-02-01T23:49:13.633492Z",
     "iopub.status.busy": "2024-02-01T23:49:13.633233Z",
     "iopub.status.idle": "2024-02-01T23:49:13.638783Z",
     "shell.execute_reply": "2024-02-01T23:49:13.638092Z"
    },
    "papermill": {
     "duration": 0.014533,
     "end_time": "2024-02-01T23:49:13.640649",
     "exception": false,
     "start_time": "2024-02-01T23:49:13.626116",
     "status": "completed"
    },
    "tags": []
   },
   "outputs": [],
   "source": [
    "X = X.copy()\n",
    "y = y.copy()"
   ]
  },
  {
   "cell_type": "markdown",
   "id": "e78ec8d0",
   "metadata": {
    "papermill": {
     "duration": 0.00574,
     "end_time": "2024-02-01T23:49:13.652662",
     "exception": false,
     "start_time": "2024-02-01T23:49:13.646922",
     "status": "completed"
    },
    "tags": []
   },
   "source": [
    "# 機械学習モデルの構築・学習・予測"
   ]
  },
  {
   "cell_type": "markdown",
   "id": "86d7d401",
   "metadata": {
    "papermill": {
     "duration": 0.005862,
     "end_time": "2024-02-01T23:49:13.664609",
     "exception": false,
     "start_time": "2024-02-01T23:49:13.658747",
     "status": "completed"
    },
    "tags": []
   },
   "source": [
    "## ライブラリのインポート"
   ]
  },
  {
   "cell_type": "code",
   "execution_count": 4,
   "id": "2a710b74",
   "metadata": {
    "execution": {
     "iopub.execute_input": "2024-02-01T23:49:13.677807Z",
     "iopub.status.busy": "2024-02-01T23:49:13.677529Z",
     "iopub.status.idle": "2024-02-01T23:49:22.880167Z",
     "shell.execute_reply": "2024-02-01T23:49:22.879351Z"
    },
    "papermill": {
     "duration": 9.211813,
     "end_time": "2024-02-01T23:49:22.882411",
     "exception": false,
     "start_time": "2024-02-01T23:49:13.670598",
     "status": "completed"
    },
    "tags": []
   },
   "outputs": [
    {
     "name": "stderr",
     "output_type": "stream",
     "text": [
      "/opt/conda/lib/python3.10/site-packages/dask/dataframe/_pyarrow_compat.py:23: UserWarning: You are using pyarrow version 11.0.0 which is known to be insecure. See https://www.cve.org/CVERecord?id=CVE-2023-47248 for further details. Please upgrade to pyarrow>=14.0.1 or install pyarrow-hotfix to patch your current version.\n",
      "  warnings.warn(\n"
     ]
    }
   ],
   "source": [
    "from sklearn.model_selection import train_test_split\n",
    "from sklearn.preprocessing import StandardScaler\n",
    "\n",
    "# 評価指標\n",
    "from sklearn.metrics import roc_auc_score, accuracy_score, f1_score, recall_score, precision_score, confusion_matrix, mean_absolute_error, mean_squared_error, r2_score\n",
    "\n",
    "# 機械学習モデル\n",
    "from sklearn.linear_model import LinearRegression, Lasso, Ridge\n",
    "from sklearn.tree import DecisionTreeClassifier\n",
    "from sklearn.ensemble import RandomForestClassifier, GradientBoostingClassifier, BaggingClassifier, AdaBoostClassifier\n",
    "from xgboost import XGBClassifier\n",
    "from lightgbm import LGBMClassifier\n",
    "from catboost import CatBoostClassifier\n",
    "\n",
    "\n",
    "# 実験\n",
    "import datetime\n",
    "import pickle\n",
    "\n",
    "\n",
    "sample_sub = pd.read_csv(FILE_PATH + \"sample_submission.csv\")"
   ]
  },
  {
   "cell_type": "markdown",
   "id": "b7915274",
   "metadata": {
    "papermill": {
     "duration": 0.006075,
     "end_time": "2024-02-01T23:49:22.895061",
     "exception": false,
     "start_time": "2024-02-01T23:49:22.888986",
     "status": "completed"
    },
    "tags": []
   },
   "source": [
    "## データの分割"
   ]
  },
  {
   "cell_type": "code",
   "execution_count": 5,
   "id": "04b8671e",
   "metadata": {
    "execution": {
     "iopub.execute_input": "2024-02-01T23:49:22.910019Z",
     "iopub.status.busy": "2024-02-01T23:49:22.909624Z",
     "iopub.status.idle": "2024-02-01T23:49:22.925180Z",
     "shell.execute_reply": "2024-02-01T23:49:22.924110Z"
    },
    "papermill": {
     "duration": 0.025062,
     "end_time": "2024-02-01T23:49:22.927332",
     "exception": false,
     "start_time": "2024-02-01T23:49:22.902270",
     "status": "completed"
    },
    "tags": []
   },
   "outputs": [],
   "source": [
    "X_train, X_valid, y_train, y_valid = train_test_split(X, y, test_size=0.2, random_state=42)"
   ]
  },
  {
   "cell_type": "markdown",
   "id": "1fa41a1d",
   "metadata": {
    "papermill": {
     "duration": 0.00597,
     "end_time": "2024-02-01T23:49:22.940134",
     "exception": false,
     "start_time": "2024-02-01T23:49:22.934164",
     "status": "completed"
    },
    "tags": []
   },
   "source": [
    "## ハイパーパラメータ"
   ]
  },
  {
   "cell_type": "code",
   "execution_count": 6,
   "id": "70fe33d8",
   "metadata": {
    "execution": {
     "iopub.execute_input": "2024-02-01T23:49:22.953299Z",
     "iopub.status.busy": "2024-02-01T23:49:22.953043Z",
     "iopub.status.idle": "2024-02-01T23:49:22.958015Z",
     "shell.execute_reply": "2024-02-01T23:49:22.957183Z"
    },
    "papermill": {
     "duration": 0.01361,
     "end_time": "2024-02-01T23:49:22.959861",
     "exception": false,
     "start_time": "2024-02-01T23:49:22.946251",
     "status": "completed"
    },
    "tags": []
   },
   "outputs": [],
   "source": [
    "xgb_params = {'max_depth': 10,\n",
    "    'min_child_weight': 1,\n",
    "    'learning_rate': 0.733656719765889,\n",
    "    'n_estimators': 696,\n",
    "    'subsample': 0.7928524918864644,\n",
    "    'colsample_bytree': 0.1345360036201174,\n",
    "    'random_state': 42,\n",
    "    'njobs': -1}\n",
    "\n",
    "cat_params = {'iterations': 526,\n",
    "    'depth': 3,\n",
    "    'min_data_in_leaf': 13,\n",
    "    'learning_rate': 0.0008029819794568197}"
   ]
  },
  {
   "cell_type": "markdown",
   "id": "e8a86b06",
   "metadata": {
    "papermill": {
     "duration": 0.005964,
     "end_time": "2024-02-01T23:49:22.971899",
     "exception": false,
     "start_time": "2024-02-01T23:49:22.965935",
     "status": "completed"
    },
    "tags": []
   },
   "source": [
    "## モデルファイルと評価結果を出力する（ファイルの出力あり）, Main"
   ]
  },
  {
   "cell_type": "code",
   "execution_count": 7,
   "id": "74839a1e",
   "metadata": {
    "execution": {
     "iopub.execute_input": "2024-02-01T23:49:22.985839Z",
     "iopub.status.busy": "2024-02-01T23:49:22.985377Z",
     "iopub.status.idle": "2024-02-01T23:49:22.998725Z",
     "shell.execute_reply": "2024-02-01T23:49:22.997900Z"
    },
    "papermill": {
     "duration": 0.022294,
     "end_time": "2024-02-01T23:49:23.000476",
     "exception": false,
     "start_time": "2024-02-01T23:49:22.978182",
     "status": "completed"
    },
    "tags": []
   },
   "outputs": [],
   "source": [
    "def make_model_and_eval(model, X_train, X_test, y_train, y_test):\n",
    "    model.fit(X_train, y_train)\n",
    "    y_pred_train = model.predict(X_train)\n",
    "    y_pred_test = model.predict(X_test)\n",
    "    \n",
    "    # accuracy\n",
    "    acc_train = accuracy_score(y_train, y_pred_train)\n",
    "    acc_test = accuracy_score(y_test, y_pred_test)\n",
    "    # F1_score\n",
    "    f1_train = f1_score(y_train, y_pred_train, average='macro')\n",
    "    f1_test = f1_score(y_test, y_pred_test, average='macro')\n",
    "    # recall\n",
    "    recall_train = recall_score(y_train, y_pred_train, average='macro')\n",
    "    recall_test = recall_score(y_test, y_pred_test, average='macro')\n",
    "    # precision\n",
    "    precision_train = precision_score(y_train, y_pred_train, average='macro')\n",
    "    precision_test = precision_score(y_test, y_pred_test, average='macro')\n",
    "#    # AUC\n",
    "#     auc_train = roc_auc_score(y_train, y_pred_train)\n",
    "#     auc_test = roc_auc_score(y_test, y_pred_test)\n",
    "   # MAE\n",
    "    mae_train = mean_absolute_error(y_train, y_pred_train)\n",
    "    mae_test = mean_absolute_error(y_test, y_pred_test)\n",
    "   # MSE\n",
    "    mse_train = mean_squared_error(y_train, y_pred_train)\n",
    "    mse_test = mean_squared_error(y_test, y_pred_test)\n",
    "   # RMSE\n",
    "    rmse_train = np.sqrt(mse_train)\n",
    "    rmse_test = np.sqrt(mse_test)\n",
    "   # r2_score\n",
    "    r2_train = r2_score(y_train, y_pred_train)\n",
    "    r2_test = r2_score(y_test, y_pred_test)\n",
    "\n",
    "#     tn_train, fp_train, fn_train, tp_train = confusion_matrix(y_train, y_pred_train).ravel()\n",
    "#     tn_test, fp_test, fn_test, tp_test = confusion_matrix(y_test, y_pred_test).ravel()\n",
    "    score_train = pd.DataFrame({'DataCategory':['Train'],\n",
    "#                                'auc':[auc_train],\n",
    "                               'accuracy':[acc_train],\n",
    "                               'f1':[f1_train],\n",
    "                               'recall':[recall_train],\n",
    "                               'precision':[precision_train],\n",
    "                               'MAE':[mae_train],\n",
    "                               'MSE':[mse_train],\n",
    "                               'RMSE':[rmse_train],\n",
    "                               'r2':[r2_train],\n",
    "#                                'tp':[tp_train],\n",
    "#                                'fn':[fn_train],\n",
    "#                                'fp':[fp_train],\n",
    "#                                'tn':[tn_train]\n",
    "                               })\n",
    "    score_test = pd.DataFrame({'DataCategory':['Valid'],\n",
    "#                               'auc':[auc_test],\n",
    "                              'accuracy':[acc_test],\n",
    "                              'f1':[f1_test],\n",
    "                              'recall':[recall_test],\n",
    "                              'precision':[precision_test],\n",
    "                              'MAE':[mae_test],\n",
    "                              'MSE':[mse_test],\n",
    "                              'RMSE':[rmse_train],\n",
    "                              'r2':[r2_train],\n",
    "#                               'tp':[tp_test],\n",
    "#                               'fn':[fn_test],\n",
    "#                               'fp':[fp_test],\n",
    "#                               'tn':[tn_test]\n",
    "                              })\n",
    "    score = pd.concat([score_train, score_test], ignore_index=True)\n",
    "    \n",
    "    importance = pd.DataFrame({'cols': X_train.columns,\n",
    "                              'importance': model.feature_importances_})\n",
    "    importance = importance.sort_values('importance', ascending=False)\n",
    "    cols = pd.DataFrame({'X_cols': X_train.columns})\n",
    "    display(score)\n",
    "    \n",
    "    return score, importance, model, cols"
   ]
  },
  {
   "cell_type": "code",
   "execution_count": 8,
   "id": "daa6088c",
   "metadata": {
    "execution": {
     "iopub.execute_input": "2024-02-01T23:49:23.013726Z",
     "iopub.status.busy": "2024-02-01T23:49:23.013454Z",
     "iopub.status.idle": "2024-02-01T23:49:48.191406Z",
     "shell.execute_reply": "2024-02-01T23:49:48.190636Z"
    },
    "papermill": {
     "duration": 25.186888,
     "end_time": "2024-02-01T23:49:48.193486",
     "exception": false,
     "start_time": "2024-02-01T23:49:23.006598",
     "status": "completed"
    },
    "tags": []
   },
   "outputs": [
    {
     "name": "stdout",
     "output_type": "stream",
     "text": [
      "results_2024020123\n",
      "DecisionTreeClassifier\n"
     ]
    },
    {
     "data": {
      "text/html": [
       "<div>\n",
       "<style scoped>\n",
       "    .dataframe tbody tr th:only-of-type {\n",
       "        vertical-align: middle;\n",
       "    }\n",
       "\n",
       "    .dataframe tbody tr th {\n",
       "        vertical-align: top;\n",
       "    }\n",
       "\n",
       "    .dataframe thead th {\n",
       "        text-align: right;\n",
       "    }\n",
       "</style>\n",
       "<table border=\"1\" class=\"dataframe\">\n",
       "  <thead>\n",
       "    <tr style=\"text-align: right;\">\n",
       "      <th></th>\n",
       "      <th>DataCategory</th>\n",
       "      <th>accuracy</th>\n",
       "      <th>f1</th>\n",
       "      <th>recall</th>\n",
       "      <th>precision</th>\n",
       "      <th>MAE</th>\n",
       "      <th>MSE</th>\n",
       "      <th>RMSE</th>\n",
       "      <th>r2</th>\n",
       "    </tr>\n",
       "  </thead>\n",
       "  <tbody>\n",
       "    <tr>\n",
       "      <th>0</th>\n",
       "      <td>Train</td>\n",
       "      <td>1.000000</td>\n",
       "      <td>1.000000</td>\n",
       "      <td>1.000000</td>\n",
       "      <td>1.000000</td>\n",
       "      <td>0.000000</td>\n",
       "      <td>0.000000</td>\n",
       "      <td>0.0</td>\n",
       "      <td>1.0</td>\n",
       "    </tr>\n",
       "    <tr>\n",
       "      <th>1</th>\n",
       "      <td>Valid</td>\n",
       "      <td>0.847303</td>\n",
       "      <td>0.831943</td>\n",
       "      <td>0.831859</td>\n",
       "      <td>0.832185</td>\n",
       "      <td>0.376204</td>\n",
       "      <td>1.277457</td>\n",
       "      <td>0.0</td>\n",
       "      <td>1.0</td>\n",
       "    </tr>\n",
       "  </tbody>\n",
       "</table>\n",
       "</div>"
      ],
      "text/plain": [
       "  DataCategory  accuracy        f1    recall  precision       MAE       MSE  \\\n",
       "0        Train  1.000000  1.000000  1.000000   1.000000  0.000000  0.000000   \n",
       "1        Valid  0.847303  0.831943  0.831859   0.832185  0.376204  1.277457   \n",
       "\n",
       "   RMSE   r2  \n",
       "0   0.0  1.0  \n",
       "1   0.0  1.0  "
      ]
     },
     "metadata": {},
     "output_type": "display_data"
    },
    {
     "name": "stdout",
     "output_type": "stream",
     "text": [
      "RandomForest\n"
     ]
    },
    {
     "data": {
      "text/html": [
       "<div>\n",
       "<style scoped>\n",
       "    .dataframe tbody tr th:only-of-type {\n",
       "        vertical-align: middle;\n",
       "    }\n",
       "\n",
       "    .dataframe tbody tr th {\n",
       "        vertical-align: top;\n",
       "    }\n",
       "\n",
       "    .dataframe thead th {\n",
       "        text-align: right;\n",
       "    }\n",
       "</style>\n",
       "<table border=\"1\" class=\"dataframe\">\n",
       "  <thead>\n",
       "    <tr style=\"text-align: right;\">\n",
       "      <th></th>\n",
       "      <th>DataCategory</th>\n",
       "      <th>accuracy</th>\n",
       "      <th>f1</th>\n",
       "      <th>recall</th>\n",
       "      <th>precision</th>\n",
       "      <th>MAE</th>\n",
       "      <th>MSE</th>\n",
       "      <th>RMSE</th>\n",
       "      <th>r2</th>\n",
       "    </tr>\n",
       "  </thead>\n",
       "  <tbody>\n",
       "    <tr>\n",
       "      <th>0</th>\n",
       "      <td>Train</td>\n",
       "      <td>1.000000</td>\n",
       "      <td>1.000000</td>\n",
       "      <td>1.000000</td>\n",
       "      <td>1.000000</td>\n",
       "      <td>0.000000</td>\n",
       "      <td>0.000000</td>\n",
       "      <td>0.0</td>\n",
       "      <td>1.0</td>\n",
       "    </tr>\n",
       "    <tr>\n",
       "      <th>1</th>\n",
       "      <td>Valid</td>\n",
       "      <td>0.893064</td>\n",
       "      <td>0.881411</td>\n",
       "      <td>0.880445</td>\n",
       "      <td>0.882909</td>\n",
       "      <td>0.271195</td>\n",
       "      <td>0.942678</td>\n",
       "      <td>0.0</td>\n",
       "      <td>1.0</td>\n",
       "    </tr>\n",
       "  </tbody>\n",
       "</table>\n",
       "</div>"
      ],
      "text/plain": [
       "  DataCategory  accuracy        f1    recall  precision       MAE       MSE  \\\n",
       "0        Train  1.000000  1.000000  1.000000   1.000000  0.000000  0.000000   \n",
       "1        Valid  0.893064  0.881411  0.880445   0.882909  0.271195  0.942678   \n",
       "\n",
       "   RMSE   r2  \n",
       "0   0.0  1.0  \n",
       "1   0.0  1.0  "
      ]
     },
     "metadata": {},
     "output_type": "display_data"
    },
    {
     "name": "stdout",
     "output_type": "stream",
     "text": [
      "GradientBoostingClassifier\n"
     ]
    },
    {
     "data": {
      "text/html": [
       "<div>\n",
       "<style scoped>\n",
       "    .dataframe tbody tr th:only-of-type {\n",
       "        vertical-align: middle;\n",
       "    }\n",
       "\n",
       "    .dataframe tbody tr th {\n",
       "        vertical-align: top;\n",
       "    }\n",
       "\n",
       "    .dataframe thead th {\n",
       "        text-align: right;\n",
       "    }\n",
       "</style>\n",
       "<table border=\"1\" class=\"dataframe\">\n",
       "  <thead>\n",
       "    <tr style=\"text-align: right;\">\n",
       "      <th></th>\n",
       "      <th>DataCategory</th>\n",
       "      <th>accuracy</th>\n",
       "      <th>f1</th>\n",
       "      <th>recall</th>\n",
       "      <th>precision</th>\n",
       "      <th>MAE</th>\n",
       "      <th>MSE</th>\n",
       "      <th>RMSE</th>\n",
       "      <th>r2</th>\n",
       "    </tr>\n",
       "  </thead>\n",
       "  <tbody>\n",
       "    <tr>\n",
       "      <th>0</th>\n",
       "      <td>Train</td>\n",
       "      <td>0.920330</td>\n",
       "      <td>0.911652</td>\n",
       "      <td>0.911558</td>\n",
       "      <td>0.911907</td>\n",
       "      <td>0.197037</td>\n",
       "      <td>0.671805</td>\n",
       "      <td>0.819637</td>\n",
       "      <td>0.811767</td>\n",
       "    </tr>\n",
       "    <tr>\n",
       "      <th>1</th>\n",
       "      <td>Valid</td>\n",
       "      <td>0.900771</td>\n",
       "      <td>0.890185</td>\n",
       "      <td>0.889953</td>\n",
       "      <td>0.890471</td>\n",
       "      <td>0.244220</td>\n",
       "      <td>0.831888</td>\n",
       "      <td>0.819637</td>\n",
       "      <td>0.811767</td>\n",
       "    </tr>\n",
       "  </tbody>\n",
       "</table>\n",
       "</div>"
      ],
      "text/plain": [
       "  DataCategory  accuracy        f1    recall  precision       MAE       MSE  \\\n",
       "0        Train  0.920330  0.911652  0.911558   0.911907  0.197037  0.671805   \n",
       "1        Valid  0.900771  0.890185  0.889953   0.890471  0.244220  0.831888   \n",
       "\n",
       "       RMSE        r2  \n",
       "0  0.819637  0.811767  \n",
       "1  0.819637  0.811767  "
      ]
     },
     "metadata": {},
     "output_type": "display_data"
    },
    {
     "name": "stdout",
     "output_type": "stream",
     "text": [
      "lightgbm\n",
      "[LightGBM] [Info] Auto-choosing row-wise multi-threading, the overhead of testing was 0.004985 seconds.\n",
      "You can set `force_row_wise=true` to remove the overhead.\n",
      "And if memory is not enough, you can set `force_col_wise=true`.\n",
      "[LightGBM] [Info] Total Bins 2043\n",
      "[LightGBM] [Info] Number of data points in the train set: 16606, number of used features: 16\n",
      "[LightGBM] [Info] Start training from score -2.117117\n",
      "[LightGBM] [Info] Start training from score -1.911230\n",
      "[LightGBM] [Info] Start training from score -1.948141\n",
      "[LightGBM] [Info] Start training from score -1.857720\n",
      "[LightGBM] [Info] Start training from score -1.633574\n",
      "[LightGBM] [Info] Start training from score -2.145531\n",
      "[LightGBM] [Info] Start training from score -2.112625\n"
     ]
    },
    {
     "data": {
      "text/html": [
       "<div>\n",
       "<style scoped>\n",
       "    .dataframe tbody tr th:only-of-type {\n",
       "        vertical-align: middle;\n",
       "    }\n",
       "\n",
       "    .dataframe tbody tr th {\n",
       "        vertical-align: top;\n",
       "    }\n",
       "\n",
       "    .dataframe thead th {\n",
       "        text-align: right;\n",
       "    }\n",
       "</style>\n",
       "<table border=\"1\" class=\"dataframe\">\n",
       "  <thead>\n",
       "    <tr style=\"text-align: right;\">\n",
       "      <th></th>\n",
       "      <th>DataCategory</th>\n",
       "      <th>accuracy</th>\n",
       "      <th>f1</th>\n",
       "      <th>recall</th>\n",
       "      <th>precision</th>\n",
       "      <th>MAE</th>\n",
       "      <th>MSE</th>\n",
       "      <th>RMSE</th>\n",
       "      <th>r2</th>\n",
       "    </tr>\n",
       "  </thead>\n",
       "  <tbody>\n",
       "    <tr>\n",
       "      <th>0</th>\n",
       "      <td>Train</td>\n",
       "      <td>0.979766</td>\n",
       "      <td>0.977217</td>\n",
       "      <td>0.977060</td>\n",
       "      <td>0.977446</td>\n",
       "      <td>0.051728</td>\n",
       "      <td>0.177827</td>\n",
       "      <td>0.421696</td>\n",
       "      <td>0.950175</td>\n",
       "    </tr>\n",
       "    <tr>\n",
       "      <th>1</th>\n",
       "      <td>Valid</td>\n",
       "      <td>0.903420</td>\n",
       "      <td>0.893093</td>\n",
       "      <td>0.892806</td>\n",
       "      <td>0.893439</td>\n",
       "      <td>0.239403</td>\n",
       "      <td>0.811175</td>\n",
       "      <td>0.421696</td>\n",
       "      <td>0.950175</td>\n",
       "    </tr>\n",
       "  </tbody>\n",
       "</table>\n",
       "</div>"
      ],
      "text/plain": [
       "  DataCategory  accuracy        f1    recall  precision       MAE       MSE  \\\n",
       "0        Train  0.979766  0.977217  0.977060   0.977446  0.051728  0.177827   \n",
       "1        Valid  0.903420  0.893093  0.892806   0.893439  0.239403  0.811175   \n",
       "\n",
       "       RMSE        r2  \n",
       "0  0.421696  0.950175  \n",
       "1  0.421696  0.950175  "
      ]
     },
     "metadata": {},
     "output_type": "display_data"
    },
    {
     "name": "stdout",
     "output_type": "stream",
     "text": [
      "xgboost\n"
     ]
    },
    {
     "data": {
      "text/html": [
       "<div>\n",
       "<style scoped>\n",
       "    .dataframe tbody tr th:only-of-type {\n",
       "        vertical-align: middle;\n",
       "    }\n",
       "\n",
       "    .dataframe tbody tr th {\n",
       "        vertical-align: top;\n",
       "    }\n",
       "\n",
       "    .dataframe thead th {\n",
       "        text-align: right;\n",
       "    }\n",
       "</style>\n",
       "<table border=\"1\" class=\"dataframe\">\n",
       "  <thead>\n",
       "    <tr style=\"text-align: right;\">\n",
       "      <th></th>\n",
       "      <th>DataCategory</th>\n",
       "      <th>accuracy</th>\n",
       "      <th>f1</th>\n",
       "      <th>recall</th>\n",
       "      <th>precision</th>\n",
       "      <th>MAE</th>\n",
       "      <th>MSE</th>\n",
       "      <th>RMSE</th>\n",
       "      <th>r2</th>\n",
       "    </tr>\n",
       "  </thead>\n",
       "  <tbody>\n",
       "    <tr>\n",
       "      <th>0</th>\n",
       "      <td>Train</td>\n",
       "      <td>0.985848</td>\n",
       "      <td>0.984105</td>\n",
       "      <td>0.984044</td>\n",
       "      <td>0.984209</td>\n",
       "      <td>0.035529</td>\n",
       "      <td>0.121884</td>\n",
       "      <td>0.349118</td>\n",
       "      <td>0.96585</td>\n",
       "    </tr>\n",
       "    <tr>\n",
       "      <th>1</th>\n",
       "      <td>Valid</td>\n",
       "      <td>0.904624</td>\n",
       "      <td>0.894678</td>\n",
       "      <td>0.894613</td>\n",
       "      <td>0.894786</td>\n",
       "      <td>0.240848</td>\n",
       "      <td>0.835260</td>\n",
       "      <td>0.349118</td>\n",
       "      <td>0.96585</td>\n",
       "    </tr>\n",
       "  </tbody>\n",
       "</table>\n",
       "</div>"
      ],
      "text/plain": [
       "  DataCategory  accuracy        f1    recall  precision       MAE       MSE  \\\n",
       "0        Train  0.985848  0.984105  0.984044   0.984209  0.035529  0.121884   \n",
       "1        Valid  0.904624  0.894678  0.894613   0.894786  0.240848  0.835260   \n",
       "\n",
       "       RMSE       r2  \n",
       "0  0.349118  0.96585  \n",
       "1  0.349118  0.96585  "
      ]
     },
     "metadata": {},
     "output_type": "display_data"
    },
    {
     "name": "stdout",
     "output_type": "stream",
     "text": [
      "AdaBoostClassifier\n"
     ]
    },
    {
     "data": {
      "text/html": [
       "<div>\n",
       "<style scoped>\n",
       "    .dataframe tbody tr th:only-of-type {\n",
       "        vertical-align: middle;\n",
       "    }\n",
       "\n",
       "    .dataframe tbody tr th {\n",
       "        vertical-align: top;\n",
       "    }\n",
       "\n",
       "    .dataframe thead th {\n",
       "        text-align: right;\n",
       "    }\n",
       "</style>\n",
       "<table border=\"1\" class=\"dataframe\">\n",
       "  <thead>\n",
       "    <tr style=\"text-align: right;\">\n",
       "      <th></th>\n",
       "      <th>DataCategory</th>\n",
       "      <th>accuracy</th>\n",
       "      <th>f1</th>\n",
       "      <th>recall</th>\n",
       "      <th>precision</th>\n",
       "      <th>MAE</th>\n",
       "      <th>MSE</th>\n",
       "      <th>RMSE</th>\n",
       "      <th>r2</th>\n",
       "    </tr>\n",
       "  </thead>\n",
       "  <tbody>\n",
       "    <tr>\n",
       "      <th>0</th>\n",
       "      <td>Train</td>\n",
       "      <td>0.629411</td>\n",
       "      <td>0.567442</td>\n",
       "      <td>0.599230</td>\n",
       "      <td>0.621253</td>\n",
       "      <td>0.884500</td>\n",
       "      <td>2.879682</td>\n",
       "      <td>1.696963</td>\n",
       "      <td>0.193144</td>\n",
       "    </tr>\n",
       "    <tr>\n",
       "      <th>1</th>\n",
       "      <td>Valid</td>\n",
       "      <td>0.625482</td>\n",
       "      <td>0.558456</td>\n",
       "      <td>0.590388</td>\n",
       "      <td>0.609543</td>\n",
       "      <td>0.905588</td>\n",
       "      <td>2.980250</td>\n",
       "      <td>1.696963</td>\n",
       "      <td>0.193144</td>\n",
       "    </tr>\n",
       "  </tbody>\n",
       "</table>\n",
       "</div>"
      ],
      "text/plain": [
       "  DataCategory  accuracy        f1    recall  precision       MAE       MSE  \\\n",
       "0        Train  0.629411  0.567442  0.599230   0.621253  0.884500  2.879682   \n",
       "1        Valid  0.625482  0.558456  0.590388   0.609543  0.905588  2.980250   \n",
       "\n",
       "       RMSE        r2  \n",
       "0  1.696963  0.193144  \n",
       "1  1.696963  0.193144  "
      ]
     },
     "metadata": {},
     "output_type": "display_data"
    }
   ],
   "source": [
    "now = datetime.datetime.now().strftime(\"%Y%m%d%H\")\n",
    "target_output_dir = 'results_' + now\n",
    "\n",
    "os.makedirs(target_output_dir, exist_ok=True)\n",
    "print(target_output_dir)\n",
    "\n",
    "\n",
    "\n",
    "models = {'DecisionTreeClassifier': DecisionTreeClassifier(random_state=42), \n",
    "          'RandomForest':RandomForestClassifier(random_state=42),\n",
    "          'GradientBoostingClassifier':GradientBoostingClassifier(random_state=42),\n",
    "          'lightgbm': LGBMClassifier(random_state=42),\n",
    "          'xgboost': XGBClassifier(random_state=42),\n",
    "#           'BaggingClassifier': BaggingClassifier(random_state=42),\n",
    "          'AdaBoostClassifier': AdaBoostClassifier(random_state=42),\n",
    "#           'CatBoostClassifier': CatBoostClassifier(**cat_params),\n",
    "         }\n",
    "\n",
    "score_all = []\n",
    "importance_all = []\n",
    "for model_name, model in models.items():\n",
    "    print(model_name)\n",
    "    score, importance, model, cols = make_model_and_eval(model, X_train, X_valid, y_train, y_valid)\n",
    "    score['model_name'] = model_name\n",
    "    importance['model_name'] = model_name\n",
    "    \n",
    "    model_names = f'model_{model_name}.pickle'\n",
    "    model_path = os.path.join(target_output_dir, model_names)\n",
    "    with open(model_path, mode='wb') as f:\n",
    "        pickle.dump(model, f, protocol=2)\n",
    "    score_all.append(score)\n",
    "    importance_all.append(importance)\n",
    "score_all = pd.concat(score_all, ignore_index=True)\n",
    "importance_all = pd.concat(importance_all, ignore_index=True)\n",
    "cols = pd.DataFrame({'X_cols':X_train.columns})\n",
    "\n",
    "score_name = 'score.csv'\n",
    "importance_name = 'importance.csv'\n",
    "cols_name = 'X_cols.csv'\n",
    "\n",
    "score_path = os.path.join(target_output_dir, score_name)\n",
    "importance_path = os.path.join(target_output_dir, importance_name)\n",
    "cols_path = os.path.join(target_output_dir, cols_name)\n",
    "\n",
    "score_all.to_csv(score_path, index=False)\n",
    "importance_all.to_csv(importance_path, index=False)\n",
    "cols.to_csv(cols_path, index=False)"
   ]
  },
  {
   "cell_type": "markdown",
   "id": "2ca2b2a0",
   "metadata": {
    "papermill": {
     "duration": 0.007733,
     "end_time": "2024-02-01T23:49:48.209609",
     "exception": false,
     "start_time": "2024-02-01T23:49:48.201876",
     "status": "completed"
    },
    "tags": []
   },
   "source": [
    "#### pickleファイルのインポート"
   ]
  },
  {
   "cell_type": "code",
   "execution_count": 9,
   "id": "8c8bce83",
   "metadata": {
    "execution": {
     "iopub.execute_input": "2024-02-01T23:49:48.227360Z",
     "iopub.status.busy": "2024-02-01T23:49:48.227055Z",
     "iopub.status.idle": "2024-02-01T23:49:48.254917Z",
     "shell.execute_reply": "2024-02-01T23:49:48.254085Z"
    },
    "papermill": {
     "duration": 0.038299,
     "end_time": "2024-02-01T23:49:48.256794",
     "exception": false,
     "start_time": "2024-02-01T23:49:48.218495",
     "status": "completed"
    },
    "tags": []
   },
   "outputs": [
    {
     "name": "stdout",
     "output_type": "stream",
     "text": [
      "XGBClassifier(base_score=None, booster=None, callbacks=None,\n",
      "              colsample_bylevel=None, colsample_bynode=None,\n",
      "              colsample_bytree=None, device=None, early_stopping_rounds=None,\n",
      "              enable_categorical=False, eval_metric=None, feature_types=None,\n",
      "              gamma=None, grow_policy=None, importance_type=None,\n",
      "              interaction_constraints=None, learning_rate=None, max_bin=None,\n",
      "              max_cat_threshold=None, max_cat_to_onehot=None,\n",
      "              max_delta_step=None, max_depth=None, max_leaves=None,\n",
      "              min_child_weight=None, missing=nan, monotone_constraints=None,\n",
      "              multi_strategy=None, n_estimators=None, n_jobs=None,\n",
      "              num_parallel_tree=None, objective='multi:softprob', ...)\n"
     ]
    }
   ],
   "source": [
    "import pickle\n",
    "\n",
    "model_name = 'model_xgboost.pickle'\n",
    "\n",
    "model_path = os.path.join(target_output_dir, model_name)\n",
    "\n",
    "with open(model_path, mode='rb') as f:\n",
    "    model = pickle.load(f)\n",
    "    \n",
    "print(model)"
   ]
  },
  {
   "cell_type": "markdown",
   "id": "45c99763",
   "metadata": {
    "papermill": {
     "duration": 0.008009,
     "end_time": "2024-02-01T23:49:48.273353",
     "exception": false,
     "start_time": "2024-02-01T23:49:48.265344",
     "status": "completed"
    },
    "tags": []
   },
   "source": [
    "## モデルの予測"
   ]
  },
  {
   "cell_type": "code",
   "execution_count": 10,
   "id": "85c18e6d",
   "metadata": {
    "execution": {
     "iopub.execute_input": "2024-02-01T23:49:48.290544Z",
     "iopub.status.busy": "2024-02-01T23:49:48.290275Z",
     "iopub.status.idle": "2024-02-01T23:49:48.377649Z",
     "shell.execute_reply": "2024-02-01T23:49:48.376878Z"
    },
    "papermill": {
     "duration": 0.098101,
     "end_time": "2024-02-01T23:49:48.379489",
     "exception": false,
     "start_time": "2024-02-01T23:49:48.281388",
     "status": "completed"
    },
    "tags": []
   },
   "outputs": [],
   "source": [
    "target_col = 'NObeyesdad'\n",
    "sample_sub[target_col] = model.predict(test)"
   ]
  },
  {
   "cell_type": "markdown",
   "id": "dab51f36",
   "metadata": {
    "papermill": {
     "duration": 0.008368,
     "end_time": "2024-02-01T23:49:48.397478",
     "exception": false,
     "start_time": "2024-02-01T23:49:48.389110",
     "status": "completed"
    },
    "tags": []
   },
   "source": [
    "# 提出"
   ]
  },
  {
   "cell_type": "code",
   "execution_count": 11,
   "id": "258fd024",
   "metadata": {
    "execution": {
     "iopub.execute_input": "2024-02-01T23:49:48.414929Z",
     "iopub.status.busy": "2024-02-01T23:49:48.414412Z",
     "iopub.status.idle": "2024-02-01T23:49:48.449465Z",
     "shell.execute_reply": "2024-02-01T23:49:48.448646Z"
    },
    "papermill": {
     "duration": 0.046033,
     "end_time": "2024-02-01T23:49:48.451479",
     "exception": false,
     "start_time": "2024-02-01T23:49:48.405446",
     "status": "completed"
    },
    "tags": []
   },
   "outputs": [
    {
     "data": {
      "text/html": [
       "<div>\n",
       "<style scoped>\n",
       "    .dataframe tbody tr th:only-of-type {\n",
       "        vertical-align: middle;\n",
       "    }\n",
       "\n",
       "    .dataframe tbody tr th {\n",
       "        vertical-align: top;\n",
       "    }\n",
       "\n",
       "    .dataframe thead th {\n",
       "        text-align: right;\n",
       "    }\n",
       "</style>\n",
       "<table border=\"1\" class=\"dataframe\">\n",
       "  <thead>\n",
       "    <tr style=\"text-align: right;\">\n",
       "      <th></th>\n",
       "      <th>id</th>\n",
       "      <th>NObeyesdad</th>\n",
       "    </tr>\n",
       "  </thead>\n",
       "  <tbody>\n",
       "    <tr>\n",
       "      <th>0</th>\n",
       "      <td>20758</td>\n",
       "      <td>Obesity_Type_II</td>\n",
       "    </tr>\n",
       "    <tr>\n",
       "      <th>1</th>\n",
       "      <td>20759</td>\n",
       "      <td>Overweight_Level_I</td>\n",
       "    </tr>\n",
       "    <tr>\n",
       "      <th>2</th>\n",
       "      <td>20760</td>\n",
       "      <td>Obesity_Type_III</td>\n",
       "    </tr>\n",
       "    <tr>\n",
       "      <th>3</th>\n",
       "      <td>20761</td>\n",
       "      <td>Obesity_Type_I</td>\n",
       "    </tr>\n",
       "    <tr>\n",
       "      <th>4</th>\n",
       "      <td>20762</td>\n",
       "      <td>Obesity_Type_III</td>\n",
       "    </tr>\n",
       "  </tbody>\n",
       "</table>\n",
       "</div>"
      ],
      "text/plain": [
       "      id          NObeyesdad\n",
       "0  20758     Obesity_Type_II\n",
       "1  20759  Overweight_Level_I\n",
       "2  20760    Obesity_Type_III\n",
       "3  20761      Obesity_Type_I\n",
       "4  20762    Obesity_Type_III"
      ]
     },
     "execution_count": 11,
     "metadata": {},
     "output_type": "execute_result"
    }
   ],
   "source": [
    "inverse_mapping = {\n",
    "                   0: 'Insufficient_Weight',\n",
    "                   1: 'Normal_Weight', \n",
    "                   2: 'Obesity_Type_I',\n",
    "                   3: 'Obesity_Type_II', \n",
    "                   4: 'Obesity_Type_III', \n",
    "                   5: 'Overweight_Level_I', \n",
    "                   6: 'Overweight_Level_II'\n",
    "                  }\n",
    "\n",
    "sample_sub[target_col] = sample_sub[target_col].map(inverse_mapping)\n",
    "sample_sub.to_csv('submission.csv', index=False)\n",
    "sample_sub.head()"
   ]
  },
  {
   "cell_type": "markdown",
   "id": "3a258b44",
   "metadata": {
    "papermill": {
     "duration": 0.008241,
     "end_time": "2024-02-01T23:49:48.468396",
     "exception": false,
     "start_time": "2024-02-01T23:49:48.460155",
     "status": "completed"
    },
    "tags": []
   },
   "source": [
    "# 導入検討"
   ]
  },
  {
   "cell_type": "markdown",
   "id": "f24fe5f6",
   "metadata": {
    "papermill": {
     "duration": 0.008185,
     "end_time": "2024-02-01T23:49:48.484667",
     "exception": false,
     "start_time": "2024-02-01T23:49:48.476482",
     "status": "completed"
    },
    "tags": []
   },
   "source": [
    "### 標準化を行なったモデル"
   ]
  },
  {
   "cell_type": "code",
   "execution_count": 12,
   "id": "fe1dc590",
   "metadata": {
    "execution": {
     "iopub.execute_input": "2024-02-01T23:49:48.502653Z",
     "iopub.status.busy": "2024-02-01T23:49:48.502352Z",
     "iopub.status.idle": "2024-02-01T23:49:51.713380Z",
     "shell.execute_reply": "2024-02-01T23:49:51.712036Z"
    },
    "papermill": {
     "duration": 3.222356,
     "end_time": "2024-02-01T23:49:51.715535",
     "exception": false,
     "start_time": "2024-02-01T23:49:48.493179",
     "status": "completed"
    },
    "tags": []
   },
   "outputs": [
    {
     "name": "stdout",
     "output_type": "stream",
     "text": [
      "10-fold cross validation:\n",
      "\n",
      "Accuracy: 0.64 (+/- 0.01) [Logistic regression]\n",
      "Accuracy: 0.34 (+/- 0.00) [Decision tree]\n",
      "Accuracy: 0.73 (+/- 0.01) [KNN]\n"
     ]
    }
   ],
   "source": [
    "import numpy as np\n",
    "from sklearn.linear_model import LogisticRegression\n",
    "from sklearn.tree import DecisionTreeClassifier\n",
    "from sklearn.neighbors import KNeighborsClassifier\n",
    "from sklearn.pipeline import Pipeline\n",
    "from sklearn.model_selection import cross_val_score\n",
    "\n",
    "clf1 = LogisticRegression(penalty='l2',\n",
    "                         C=0.001,\n",
    "                         solver='lbfgs',\n",
    "                         random_state=1)\n",
    "clf2 = DecisionTreeClassifier(max_depth=1,\n",
    "                             criterion='entropy',\n",
    "                             random_state=0)\n",
    "clf3 = KNeighborsClassifier(n_neighbors=1,\n",
    "                           p=2,\n",
    "                           metric='minkowski')\n",
    "\n",
    "pipe1 = Pipeline([['sc', StandardScaler()],\n",
    "                 ['clf', clf1]])\n",
    "pipe3 = Pipeline([['sc', StandardScaler()],\n",
    "                 ['clf', clf3]])\n",
    "\n",
    "clf_labels = ['Logistic regression', 'Decision tree', 'KNN']\n",
    "\n",
    "print('10-fold cross validation:\\n')\n",
    "\n",
    "for clf, label in zip([pipe1, clf2, pipe3], clf_labels):\n",
    "    scores = cross_val_score(estimator=clf,\n",
    "                            X=X_train,\n",
    "                            y=y_train,\n",
    "                            cv=10,\n",
    "                            scoring='accuracy')\n",
    "    print(\"Accuracy: %0.2f (+/- %0.2f) [%s]\" % (scores.mean(), scores.std(), label))"
   ]
  }
 ],
 "metadata": {
  "kaggle": {
   "accelerator": "nvidiaTeslaT4",
   "dataSources": [
    {
     "databundleVersionId": 7609535,
     "sourceId": 68479,
     "sourceType": "competition"
    },
    {
     "datasetId": 4383550,
     "sourceId": 7527406,
     "sourceType": "datasetVersion"
    }
   ],
   "dockerImageVersionId": 30648,
   "isGpuEnabled": true,
   "isInternetEnabled": true,
   "language": "python",
   "sourceType": "notebook"
  },
  "kernelspec": {
   "display_name": "Python 3",
   "language": "python",
   "name": "python3"
  },
  "language_info": {
   "codemirror_mode": {
    "name": "ipython",
    "version": 3
   },
   "file_extension": ".py",
   "mimetype": "text/x-python",
   "name": "python",
   "nbconvert_exporter": "python",
   "pygments_lexer": "ipython3",
   "version": "3.10.13"
  },
  "papermill": {
   "default_parameters": {},
   "duration": 44.143724,
   "end_time": "2024-02-01T23:49:52.544139",
   "environment_variables": {},
   "exception": null,
   "input_path": "__notebook__.ipynb",
   "output_path": "__notebook__.ipynb",
   "parameters": {},
   "start_time": "2024-02-01T23:49:08.400415",
   "version": "2.4.0"
  }
 },
 "nbformat": 4,
 "nbformat_minor": 5
}

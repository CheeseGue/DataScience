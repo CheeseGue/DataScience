{
 "cells": [
  {
   "cell_type": "code",
   "execution_count": 1,
   "id": "76ea9804",
   "metadata": {
    "_cell_guid": "b1076dfc-b9ad-4769-8c92-a6c4dae69d19",
    "_uuid": "8f2839f25d086af736a60e9eeb907d3b93b6e0e5",
    "execution": {
     "iopub.execute_input": "2024-02-04T01:38:50.306674Z",
     "iopub.status.busy": "2024-02-04T01:38:50.306281Z",
     "iopub.status.idle": "2024-02-04T01:38:51.046290Z",
     "shell.execute_reply": "2024-02-04T01:38:51.045272Z"
    },
    "papermill": {
     "duration": 0.750955,
     "end_time": "2024-02-04T01:38:51.048495",
     "exception": false,
     "start_time": "2024-02-04T01:38:50.297540",
     "status": "completed"
    },
    "tags": []
   },
   "outputs": [
    {
     "name": "stdout",
     "output_type": "stream",
     "text": [
      "/kaggle/input/playground-series-s4e2/sample_submission.csv\n",
      "/kaggle/input/playground-series-s4e2/train.csv\n",
      "/kaggle/input/playground-series-s4e2/test.csv\n",
      "/kaggle/input/my-multi-class-prediction-of-obesity-risk/data.csv\n"
     ]
    }
   ],
   "source": [
    "# This Python 3 environment comes with many helpful analytics libraries installed\n",
    "# It is defined by the kaggle/python Docker image: https://github.com/kaggle/docker-python\n",
    "# For example, here's several helpful packages to load\n",
    "\n",
    "import numpy as np # linear algebra\n",
    "import pandas as pd # data processing, CSV file I/O (e.g. pd.read_csv)\n",
    "\n",
    "# Input data files are available in the read-only \"../input/\" directory\n",
    "# For example, running this (by clicking run or pressing Shift+Enter) will list all files under the input directory\n",
    "\n",
    "import os\n",
    "for dirname, _, filenames in os.walk('/kaggle/input'):\n",
    "    for filename in filenames:\n",
    "        print(os.path.join(dirname, filename))\n",
    "\n",
    "# You can write up to 20GB to the current directory (/kaggle/working/) that gets preserved as output when you create a version using \"Save & Run All\" \n",
    "# You can also write temporary files to /kaggle/temp/, but they won't be saved outside of the current session"
   ]
  },
  {
   "cell_type": "markdown",
   "id": "7a790cc0",
   "metadata": {
    "papermill": {
     "duration": 0.007678,
     "end_time": "2024-02-04T01:38:51.063041",
     "exception": false,
     "start_time": "2024-02-04T01:38:51.055363",
     "status": "completed"
    },
    "tags": []
   },
   "source": [
    "# **肥満リスクの多クラス予測**\n",
    "(Multi-Class Prediction of Obesity Risk)"
   ]
  },
  {
   "cell_type": "markdown",
   "id": "c3a8bcad",
   "metadata": {
    "papermill": {
     "duration": 0.00616,
     "end_time": "2024-02-04T01:38:51.075674",
     "exception": false,
     "start_time": "2024-02-04T01:38:51.069514",
     "status": "completed"
    },
    "tags": []
   },
   "source": [
    "# 参考資料\n",
    "**書籍**\n",
    "\n",
    "\n",
    "**Kaggle**\n",
    "- The fat CatBoost😼\n",
    "\n",
    "**自分で作成したファイル**\n",
    "- 銀行解約データセットを使用した二項分類\n",
    "- 肝硬変の転帰の多クラス予測\n",
    "\n",
    "**その他**\n"
   ]
  },
  {
   "cell_type": "code",
   "execution_count": 2,
   "id": "3f886055",
   "metadata": {
    "execution": {
     "iopub.execute_input": "2024-02-04T01:38:51.089990Z",
     "iopub.status.busy": "2024-02-04T01:38:51.089536Z",
     "iopub.status.idle": "2024-02-04T01:38:51.209415Z",
     "shell.execute_reply": "2024-02-04T01:38:51.208348Z"
    },
    "papermill": {
     "duration": 0.129518,
     "end_time": "2024-02-04T01:38:51.211538",
     "exception": false,
     "start_time": "2024-02-04T01:38:51.082020",
     "status": "completed"
    },
    "tags": []
   },
   "outputs": [
    {
     "name": "stdout",
     "output_type": "stream",
     "text": [
      "読み込み完了 /kaggle/input/my-multi-class-prediction-of-obesity-risk/data.csv\n"
     ]
    }
   ],
   "source": [
    "import numpy as np\n",
    "import pandas as pd\n",
    "\n",
    "FILE_PATH = '/kaggle/input/playground-series-s4e2/'\n",
    "CREATE_DATA = '/kaggle/input/my-multi-class-prediction-of-obesity-risk'\n",
    "\n",
    "\n",
    "# 確認 (data_import.py)\n",
    "def file_to_xy(filename):\n",
    "    data = pd.read_csv(filename, index_col=0)\n",
    "    print(f'読み込み完了 {filename}')\n",
    "    \n",
    "    target_col = 'NObeyesdad'\n",
    "    \n",
    "    train = data[:20758].reset_index(drop=True)\n",
    "    test = data[20758:].reset_index(drop=True).drop(target_col, axis=1) # 目的変数を指定する\n",
    "    # 目的変数と説明変数に分割\n",
    "    X = train.drop([target_col], axis=1) # 目的変数を指定する\n",
    "    y = train[target_col].values # 目的変数を指定する\n",
    "\n",
    "    return data,test,train,X,y\n",
    "\n",
    "filename = 'data.csv'\n",
    "data,test,train,X,y = file_to_xy(CREATE_DATA + '/' + filename)"
   ]
  },
  {
   "cell_type": "code",
   "execution_count": 3,
   "id": "e8a76193",
   "metadata": {
    "execution": {
     "iopub.execute_input": "2024-02-04T01:38:51.227478Z",
     "iopub.status.busy": "2024-02-04T01:38:51.227172Z",
     "iopub.status.idle": "2024-02-04T01:38:51.233126Z",
     "shell.execute_reply": "2024-02-04T01:38:51.232257Z"
    },
    "papermill": {
     "duration": 0.016095,
     "end_time": "2024-02-04T01:38:51.234998",
     "exception": false,
     "start_time": "2024-02-04T01:38:51.218903",
     "status": "completed"
    },
    "tags": []
   },
   "outputs": [],
   "source": [
    "X = X.copy()\n",
    "y = y.copy()"
   ]
  },
  {
   "cell_type": "markdown",
   "id": "1ce1351d",
   "metadata": {
    "papermill": {
     "duration": 0.006379,
     "end_time": "2024-02-04T01:38:51.247941",
     "exception": false,
     "start_time": "2024-02-04T01:38:51.241562",
     "status": "completed"
    },
    "tags": []
   },
   "source": [
    "# 機械学習モデルの構築・学習・予測"
   ]
  },
  {
   "cell_type": "markdown",
   "id": "71b3277a",
   "metadata": {
    "papermill": {
     "duration": 0.00619,
     "end_time": "2024-02-04T01:38:51.260547",
     "exception": false,
     "start_time": "2024-02-04T01:38:51.254357",
     "status": "completed"
    },
    "tags": []
   },
   "source": [
    "## ライブラリのインポート"
   ]
  },
  {
   "cell_type": "code",
   "execution_count": 4,
   "id": "56ca16f7",
   "metadata": {
    "execution": {
     "iopub.execute_input": "2024-02-04T01:38:51.275134Z",
     "iopub.status.busy": "2024-02-04T01:38:51.274821Z",
     "iopub.status.idle": "2024-02-04T01:38:56.676492Z",
     "shell.execute_reply": "2024-02-04T01:38:56.675717Z"
    },
    "papermill": {
     "duration": 5.411613,
     "end_time": "2024-02-04T01:38:56.678687",
     "exception": false,
     "start_time": "2024-02-04T01:38:51.267074",
     "status": "completed"
    },
    "tags": []
   },
   "outputs": [
    {
     "name": "stderr",
     "output_type": "stream",
     "text": [
      "/opt/conda/lib/python3.10/site-packages/dask/dataframe/_pyarrow_compat.py:23: UserWarning: You are using pyarrow version 11.0.0 which is known to be insecure. See https://www.cve.org/CVERecord?id=CVE-2023-47248 for further details. Please upgrade to pyarrow>=14.0.1 or install pyarrow-hotfix to patch your current version.\n",
      "  warnings.warn(\n"
     ]
    }
   ],
   "source": [
    "from sklearn.model_selection import train_test_split\n",
    "from sklearn.preprocessing import StandardScaler\n",
    "\n",
    "# 評価指標\n",
    "from sklearn.metrics import roc_auc_score, accuracy_score, f1_score, recall_score, precision_score, confusion_matrix, mean_absolute_error, mean_squared_error, r2_score\n",
    "\n",
    "# 機械学習モデル\n",
    "from sklearn.linear_model import LinearRegression, Lasso, Ridge\n",
    "from sklearn.tree import DecisionTreeClassifier\n",
    "from sklearn.ensemble import RandomForestClassifier, GradientBoostingClassifier, BaggingClassifier, AdaBoostClassifier\n",
    "from xgboost import XGBClassifier\n",
    "from lightgbm import LGBMClassifier\n",
    "from catboost import CatBoostClassifier\n",
    "\n",
    "\n",
    "# 実験\n",
    "import datetime\n",
    "import pickle\n",
    "\n",
    "\n",
    "sample_sub = pd.read_csv(FILE_PATH + \"sample_submission.csv\")"
   ]
  },
  {
   "cell_type": "markdown",
   "id": "02681c82",
   "metadata": {
    "papermill": {
     "duration": 0.006543,
     "end_time": "2024-02-04T01:38:56.692071",
     "exception": false,
     "start_time": "2024-02-04T01:38:56.685528",
     "status": "completed"
    },
    "tags": []
   },
   "source": [
    "## データの分割"
   ]
  },
  {
   "cell_type": "code",
   "execution_count": 5,
   "id": "656e9609",
   "metadata": {
    "execution": {
     "iopub.execute_input": "2024-02-04T01:38:56.707422Z",
     "iopub.status.busy": "2024-02-04T01:38:56.707104Z",
     "iopub.status.idle": "2024-02-04T01:38:56.719200Z",
     "shell.execute_reply": "2024-02-04T01:38:56.718505Z"
    },
    "papermill": {
     "duration": 0.02182,
     "end_time": "2024-02-04T01:38:56.721421",
     "exception": false,
     "start_time": "2024-02-04T01:38:56.699601",
     "status": "completed"
    },
    "tags": []
   },
   "outputs": [],
   "source": [
    "X_train, X_valid, y_train, y_valid = train_test_split(X, y, test_size=0.2, random_state=42)"
   ]
  },
  {
   "cell_type": "markdown",
   "id": "3a546e16",
   "metadata": {
    "papermill": {
     "duration": 0.006415,
     "end_time": "2024-02-04T01:38:56.734556",
     "exception": false,
     "start_time": "2024-02-04T01:38:56.728141",
     "status": "completed"
    },
    "tags": []
   },
   "source": [
    "## ハイパーパラメータ"
   ]
  },
  {
   "cell_type": "code",
   "execution_count": 6,
   "id": "2ad577ef",
   "metadata": {
    "execution": {
     "iopub.execute_input": "2024-02-04T01:38:56.748866Z",
     "iopub.status.busy": "2024-02-04T01:38:56.748468Z",
     "iopub.status.idle": "2024-02-04T01:38:56.754686Z",
     "shell.execute_reply": "2024-02-04T01:38:56.753793Z"
    },
    "papermill": {
     "duration": 0.015636,
     "end_time": "2024-02-04T01:38:56.756610",
     "exception": false,
     "start_time": "2024-02-04T01:38:56.740974",
     "status": "completed"
    },
    "tags": []
   },
   "outputs": [],
   "source": [
    "lgb_params = {'lambda_l1': 1.3019828669773963, \n",
    "              'lambda_l2': 1.0378733814005926e-05, \n",
    "              'num_leaves': 43, \n",
    "              'feature_fraction': 0.5200508885969131, \n",
    "              'bagging_fraction': 0.8788385892118535, \n",
    "              'bagging_freq': 7, \n",
    "              'min_child_samples': 49}\n",
    "\n",
    "xgb_params = {'max_depth': 7, \n",
    "              'min_child_weight': 5, \n",
    "              'learning_rate': 0.028015114445880215, \n",
    "              'n_estimators': 559, \n",
    "              'subsample': 0.9518356320628734, \n",
    "              'colsample_bytree': 0.46507972699185773, \n",
    "              'random_state': 42}\n",
    "\n",
    "cat_params = {'iterations': 526,\n",
    "    'depth': 3,\n",
    "    'min_data_in_leaf': 13,\n",
    "    'learning_rate': 0.0008029819794568197}\n",
    "\n"
   ]
  },
  {
   "cell_type": "markdown",
   "id": "688e822e",
   "metadata": {
    "papermill": {
     "duration": 0.006251,
     "end_time": "2024-02-04T01:38:56.769327",
     "exception": false,
     "start_time": "2024-02-04T01:38:56.763076",
     "status": "completed"
    },
    "tags": []
   },
   "source": [
    "## モデルファイルと評価結果を出力する（ファイルの出力あり）, Main"
   ]
  },
  {
   "cell_type": "code",
   "execution_count": 7,
   "id": "4389cfd2",
   "metadata": {
    "execution": {
     "iopub.execute_input": "2024-02-04T01:38:56.783982Z",
     "iopub.status.busy": "2024-02-04T01:38:56.783387Z",
     "iopub.status.idle": "2024-02-04T01:38:56.797054Z",
     "shell.execute_reply": "2024-02-04T01:38:56.796338Z"
    },
    "papermill": {
     "duration": 0.023066,
     "end_time": "2024-02-04T01:38:56.798960",
     "exception": false,
     "start_time": "2024-02-04T01:38:56.775894",
     "status": "completed"
    },
    "tags": []
   },
   "outputs": [],
   "source": [
    "def make_model_and_eval(model, X_train, X_test, y_train, y_test):\n",
    "    model.fit(X_train, y_train)\n",
    "    y_pred_train = model.predict(X_train)\n",
    "    y_pred_test = model.predict(X_test)\n",
    "    \n",
    "    # accuracy\n",
    "    acc_train = accuracy_score(y_train, y_pred_train)\n",
    "    acc_test = accuracy_score(y_test, y_pred_test)\n",
    "    # F1_score\n",
    "    f1_train = f1_score(y_train, y_pred_train, average='macro')\n",
    "    f1_test = f1_score(y_test, y_pred_test, average='macro')\n",
    "    # recall\n",
    "    recall_train = recall_score(y_train, y_pred_train, average='macro')\n",
    "    recall_test = recall_score(y_test, y_pred_test, average='macro')\n",
    "    # precision\n",
    "    precision_train = precision_score(y_train, y_pred_train, average='macro')\n",
    "    precision_test = precision_score(y_test, y_pred_test, average='macro')\n",
    "#    # AUC\n",
    "#     auc_train = roc_auc_score(y_train, y_pred_train)\n",
    "#     auc_test = roc_auc_score(y_test, y_pred_test)\n",
    "   # MAE\n",
    "    mae_train = mean_absolute_error(y_train, y_pred_train)\n",
    "    mae_test = mean_absolute_error(y_test, y_pred_test)\n",
    "   # MSE\n",
    "    mse_train = mean_squared_error(y_train, y_pred_train)\n",
    "    mse_test = mean_squared_error(y_test, y_pred_test)\n",
    "   # RMSE\n",
    "    rmse_train = np.sqrt(mse_train)\n",
    "    rmse_test = np.sqrt(mse_test)\n",
    "   # r2_score\n",
    "    r2_train = r2_score(y_train, y_pred_train)\n",
    "    r2_test = r2_score(y_test, y_pred_test)\n",
    "\n",
    "#     tn_train, fp_train, fn_train, tp_train = confusion_matrix(y_train, y_pred_train).ravel()\n",
    "#     tn_test, fp_test, fn_test, tp_test = confusion_matrix(y_test, y_pred_test).ravel()\n",
    "    score_train = pd.DataFrame({'DataCategory':['Train'],\n",
    "#                                'auc':[auc_train],\n",
    "                               'accuracy':[acc_train],\n",
    "                               'f1':[f1_train],\n",
    "                               'recall':[recall_train],\n",
    "                               'precision':[precision_train],\n",
    "                               'MAE':[mae_train],\n",
    "                               'MSE':[mse_train],\n",
    "                               'RMSE':[rmse_train],\n",
    "                               'r2':[r2_train],\n",
    "#                                'tp':[tp_train],\n",
    "#                                'fn':[fn_train],\n",
    "#                                'fp':[fp_train],\n",
    "#                                'tn':[tn_train]\n",
    "                               })\n",
    "    score_test = pd.DataFrame({'DataCategory':['Valid'],\n",
    "#                               'auc':[auc_test],\n",
    "                              'accuracy':[acc_test],\n",
    "                              'f1':[f1_test],\n",
    "                              'recall':[recall_test],\n",
    "                              'precision':[precision_test],\n",
    "                              'MAE':[mae_test],\n",
    "                              'MSE':[mse_test],\n",
    "                              'RMSE':[rmse_test],\n",
    "                              'r2':[r2_test],\n",
    "#                               'tp':[tp_test],\n",
    "#                               'fn':[fn_test],\n",
    "#                               'fp':[fp_test],\n",
    "#                               'tn':[tn_test]\n",
    "                              })\n",
    "    score = pd.concat([score_train, score_test], ignore_index=True)\n",
    "    \n",
    "    importance = pd.DataFrame({'cols': X_train.columns,\n",
    "                              'importance': model.feature_importances_})\n",
    "    importance = importance.sort_values('importance', ascending=False)\n",
    "    cols = pd.DataFrame({'X_cols': X_train.columns})\n",
    "    display(score)\n",
    "    \n",
    "    return score, importance, model, cols"
   ]
  },
  {
   "cell_type": "code",
   "execution_count": 8,
   "id": "0a03b6c9",
   "metadata": {
    "execution": {
     "iopub.execute_input": "2024-02-04T01:38:56.813398Z",
     "iopub.status.busy": "2024-02-04T01:38:56.813068Z",
     "iopub.status.idle": "2024-02-04T01:39:30.514550Z",
     "shell.execute_reply": "2024-02-04T01:39:30.513773Z"
    },
    "papermill": {
     "duration": 33.71135,
     "end_time": "2024-02-04T01:39:30.516833",
     "exception": false,
     "start_time": "2024-02-04T01:38:56.805483",
     "status": "completed"
    },
    "tags": []
   },
   "outputs": [
    {
     "name": "stdout",
     "output_type": "stream",
     "text": [
      "results_2024020401\n",
      "DecisionTreeClassifier\n"
     ]
    },
    {
     "data": {
      "text/html": [
       "<div>\n",
       "<style scoped>\n",
       "    .dataframe tbody tr th:only-of-type {\n",
       "        vertical-align: middle;\n",
       "    }\n",
       "\n",
       "    .dataframe tbody tr th {\n",
       "        vertical-align: top;\n",
       "    }\n",
       "\n",
       "    .dataframe thead th {\n",
       "        text-align: right;\n",
       "    }\n",
       "</style>\n",
       "<table border=\"1\" class=\"dataframe\">\n",
       "  <thead>\n",
       "    <tr style=\"text-align: right;\">\n",
       "      <th></th>\n",
       "      <th>DataCategory</th>\n",
       "      <th>accuracy</th>\n",
       "      <th>f1</th>\n",
       "      <th>recall</th>\n",
       "      <th>precision</th>\n",
       "      <th>MAE</th>\n",
       "      <th>MSE</th>\n",
       "      <th>RMSE</th>\n",
       "      <th>r2</th>\n",
       "    </tr>\n",
       "  </thead>\n",
       "  <tbody>\n",
       "    <tr>\n",
       "      <th>0</th>\n",
       "      <td>Train</td>\n",
       "      <td>1.000000</td>\n",
       "      <td>1.000000</td>\n",
       "      <td>1.000000</td>\n",
       "      <td>1.000000</td>\n",
       "      <td>0.000000</td>\n",
       "      <td>0.000000</td>\n",
       "      <td>0.000000</td>\n",
       "      <td>1.000000</td>\n",
       "    </tr>\n",
       "    <tr>\n",
       "      <th>1</th>\n",
       "      <td>Valid</td>\n",
       "      <td>0.847303</td>\n",
       "      <td>0.831943</td>\n",
       "      <td>0.831859</td>\n",
       "      <td>0.832185</td>\n",
       "      <td>0.376204</td>\n",
       "      <td>1.277457</td>\n",
       "      <td>1.130246</td>\n",
       "      <td>0.649399</td>\n",
       "    </tr>\n",
       "  </tbody>\n",
       "</table>\n",
       "</div>"
      ],
      "text/plain": [
       "  DataCategory  accuracy        f1    recall  precision       MAE       MSE  \\\n",
       "0        Train  1.000000  1.000000  1.000000   1.000000  0.000000  0.000000   \n",
       "1        Valid  0.847303  0.831943  0.831859   0.832185  0.376204  1.277457   \n",
       "\n",
       "       RMSE        r2  \n",
       "0  0.000000  1.000000  \n",
       "1  1.130246  0.649399  "
      ]
     },
     "metadata": {},
     "output_type": "display_data"
    },
    {
     "name": "stdout",
     "output_type": "stream",
     "text": [
      "RandomForest\n"
     ]
    },
    {
     "data": {
      "text/html": [
       "<div>\n",
       "<style scoped>\n",
       "    .dataframe tbody tr th:only-of-type {\n",
       "        vertical-align: middle;\n",
       "    }\n",
       "\n",
       "    .dataframe tbody tr th {\n",
       "        vertical-align: top;\n",
       "    }\n",
       "\n",
       "    .dataframe thead th {\n",
       "        text-align: right;\n",
       "    }\n",
       "</style>\n",
       "<table border=\"1\" class=\"dataframe\">\n",
       "  <thead>\n",
       "    <tr style=\"text-align: right;\">\n",
       "      <th></th>\n",
       "      <th>DataCategory</th>\n",
       "      <th>accuracy</th>\n",
       "      <th>f1</th>\n",
       "      <th>recall</th>\n",
       "      <th>precision</th>\n",
       "      <th>MAE</th>\n",
       "      <th>MSE</th>\n",
       "      <th>RMSE</th>\n",
       "      <th>r2</th>\n",
       "    </tr>\n",
       "  </thead>\n",
       "  <tbody>\n",
       "    <tr>\n",
       "      <th>0</th>\n",
       "      <td>Train</td>\n",
       "      <td>1.000000</td>\n",
       "      <td>1.000000</td>\n",
       "      <td>1.000000</td>\n",
       "      <td>1.000000</td>\n",
       "      <td>0.000000</td>\n",
       "      <td>0.000000</td>\n",
       "      <td>0.000000</td>\n",
       "      <td>1.00000</td>\n",
       "    </tr>\n",
       "    <tr>\n",
       "      <th>1</th>\n",
       "      <td>Valid</td>\n",
       "      <td>0.893064</td>\n",
       "      <td>0.881411</td>\n",
       "      <td>0.880445</td>\n",
       "      <td>0.882909</td>\n",
       "      <td>0.271195</td>\n",
       "      <td>0.942678</td>\n",
       "      <td>0.970916</td>\n",
       "      <td>0.74128</td>\n",
       "    </tr>\n",
       "  </tbody>\n",
       "</table>\n",
       "</div>"
      ],
      "text/plain": [
       "  DataCategory  accuracy        f1    recall  precision       MAE       MSE  \\\n",
       "0        Train  1.000000  1.000000  1.000000   1.000000  0.000000  0.000000   \n",
       "1        Valid  0.893064  0.881411  0.880445   0.882909  0.271195  0.942678   \n",
       "\n",
       "       RMSE       r2  \n",
       "0  0.000000  1.00000  \n",
       "1  0.970916  0.74128  "
      ]
     },
     "metadata": {},
     "output_type": "display_data"
    },
    {
     "name": "stdout",
     "output_type": "stream",
     "text": [
      "GradientBoostingClassifier\n"
     ]
    },
    {
     "data": {
      "text/html": [
       "<div>\n",
       "<style scoped>\n",
       "    .dataframe tbody tr th:only-of-type {\n",
       "        vertical-align: middle;\n",
       "    }\n",
       "\n",
       "    .dataframe tbody tr th {\n",
       "        vertical-align: top;\n",
       "    }\n",
       "\n",
       "    .dataframe thead th {\n",
       "        text-align: right;\n",
       "    }\n",
       "</style>\n",
       "<table border=\"1\" class=\"dataframe\">\n",
       "  <thead>\n",
       "    <tr style=\"text-align: right;\">\n",
       "      <th></th>\n",
       "      <th>DataCategory</th>\n",
       "      <th>accuracy</th>\n",
       "      <th>f1</th>\n",
       "      <th>recall</th>\n",
       "      <th>precision</th>\n",
       "      <th>MAE</th>\n",
       "      <th>MSE</th>\n",
       "      <th>RMSE</th>\n",
       "      <th>r2</th>\n",
       "    </tr>\n",
       "  </thead>\n",
       "  <tbody>\n",
       "    <tr>\n",
       "      <th>0</th>\n",
       "      <td>Train</td>\n",
       "      <td>0.920330</td>\n",
       "      <td>0.911652</td>\n",
       "      <td>0.911558</td>\n",
       "      <td>0.911907</td>\n",
       "      <td>0.197037</td>\n",
       "      <td>0.671805</td>\n",
       "      <td>0.819637</td>\n",
       "      <td>0.811767</td>\n",
       "    </tr>\n",
       "    <tr>\n",
       "      <th>1</th>\n",
       "      <td>Valid</td>\n",
       "      <td>0.900771</td>\n",
       "      <td>0.890185</td>\n",
       "      <td>0.889953</td>\n",
       "      <td>0.890471</td>\n",
       "      <td>0.244220</td>\n",
       "      <td>0.831888</td>\n",
       "      <td>0.912079</td>\n",
       "      <td>0.771687</td>\n",
       "    </tr>\n",
       "  </tbody>\n",
       "</table>\n",
       "</div>"
      ],
      "text/plain": [
       "  DataCategory  accuracy        f1    recall  precision       MAE       MSE  \\\n",
       "0        Train  0.920330  0.911652  0.911558   0.911907  0.197037  0.671805   \n",
       "1        Valid  0.900771  0.890185  0.889953   0.890471  0.244220  0.831888   \n",
       "\n",
       "       RMSE        r2  \n",
       "0  0.819637  0.811767  \n",
       "1  0.912079  0.771687  "
      ]
     },
     "metadata": {},
     "output_type": "display_data"
    },
    {
     "name": "stdout",
     "output_type": "stream",
     "text": [
      "lightgbm\n",
      "[LightGBM] [Warning] feature_fraction is set=0.5200508885969131, colsample_bytree=1.0 will be ignored. Current value: feature_fraction=0.5200508885969131\n",
      "[LightGBM] [Warning] lambda_l2 is set=1.0378733814005926e-05, reg_lambda=0.0 will be ignored. Current value: lambda_l2=1.0378733814005926e-05\n",
      "[LightGBM] [Warning] lambda_l1 is set=1.3019828669773963, reg_alpha=0.0 will be ignored. Current value: lambda_l1=1.3019828669773963\n",
      "[LightGBM] [Warning] bagging_fraction is set=0.8788385892118535, subsample=1.0 will be ignored. Current value: bagging_fraction=0.8788385892118535\n",
      "[LightGBM] [Warning] bagging_freq is set=7, subsample_freq=0 will be ignored. Current value: bagging_freq=7\n",
      "[LightGBM] [Warning] feature_fraction is set=0.5200508885969131, colsample_bytree=1.0 will be ignored. Current value: feature_fraction=0.5200508885969131\n",
      "[LightGBM] [Warning] lambda_l2 is set=1.0378733814005926e-05, reg_lambda=0.0 will be ignored. Current value: lambda_l2=1.0378733814005926e-05\n",
      "[LightGBM] [Warning] lambda_l1 is set=1.3019828669773963, reg_alpha=0.0 will be ignored. Current value: lambda_l1=1.3019828669773963\n",
      "[LightGBM] [Warning] bagging_fraction is set=0.8788385892118535, subsample=1.0 will be ignored. Current value: bagging_fraction=0.8788385892118535\n",
      "[LightGBM] [Warning] bagging_freq is set=7, subsample_freq=0 will be ignored. Current value: bagging_freq=7\n",
      "[LightGBM] [Info] Auto-choosing row-wise multi-threading, the overhead of testing was 0.002592 seconds.\n",
      "You can set `force_row_wise=true` to remove the overhead.\n",
      "And if memory is not enough, you can set `force_col_wise=true`.\n",
      "[LightGBM] [Info] Total Bins 2043\n",
      "[LightGBM] [Info] Number of data points in the train set: 16606, number of used features: 16\n",
      "[LightGBM] [Info] Start training from score -2.117117\n",
      "[LightGBM] [Info] Start training from score -1.911230\n",
      "[LightGBM] [Info] Start training from score -1.948141\n",
      "[LightGBM] [Info] Start training from score -1.857720\n",
      "[LightGBM] [Info] Start training from score -1.633574\n",
      "[LightGBM] [Info] Start training from score -2.145531\n",
      "[LightGBM] [Info] Start training from score -2.112625\n",
      "[LightGBM] [Warning] No further splits with positive gain, best gain: -inf\n",
      "[LightGBM] [Warning] No further splits with positive gain, best gain: -inf\n",
      "[LightGBM] [Warning] No further splits with positive gain, best gain: -inf\n",
      "[LightGBM] [Warning] No further splits with positive gain, best gain: -inf\n",
      "[LightGBM] [Warning] No further splits with positive gain, best gain: -inf\n",
      "[LightGBM] [Warning] No further splits with positive gain, best gain: -inf\n",
      "[LightGBM] [Warning] No further splits with positive gain, best gain: -inf\n",
      "[LightGBM] [Warning] No further splits with positive gain, best gain: -inf\n",
      "[LightGBM] [Warning] No further splits with positive gain, best gain: -inf\n",
      "[LightGBM] [Warning] No further splits with positive gain, best gain: -inf\n",
      "[LightGBM] [Warning] No further splits with positive gain, best gain: -inf\n",
      "[LightGBM] [Warning] No further splits with positive gain, best gain: -inf\n",
      "[LightGBM] [Warning] No further splits with positive gain, best gain: -inf\n",
      "[LightGBM] [Warning] No further splits with positive gain, best gain: -inf\n",
      "[LightGBM] [Warning] No further splits with positive gain, best gain: -inf\n",
      "[LightGBM] [Warning] No further splits with positive gain, best gain: -inf\n",
      "[LightGBM] [Warning] No further splits with positive gain, best gain: -inf\n",
      "[LightGBM] [Warning] No further splits with positive gain, best gain: -inf\n",
      "[LightGBM] [Warning] No further splits with positive gain, best gain: -inf\n",
      "[LightGBM] [Warning] No further splits with positive gain, best gain: -inf\n",
      "[LightGBM] [Warning] No further splits with positive gain, best gain: -inf\n",
      "[LightGBM] [Warning] No further splits with positive gain, best gain: -inf\n",
      "[LightGBM] [Warning] No further splits with positive gain, best gain: -inf\n",
      "[LightGBM] [Warning] No further splits with positive gain, best gain: -inf\n",
      "[LightGBM] [Warning] No further splits with positive gain, best gain: -inf\n",
      "[LightGBM] [Warning] No further splits with positive gain, best gain: -inf\n",
      "[LightGBM] [Warning] No further splits with positive gain, best gain: -inf\n",
      "[LightGBM] [Warning] No further splits with positive gain, best gain: -inf\n",
      "[LightGBM] [Warning] No further splits with positive gain, best gain: -inf\n",
      "[LightGBM] [Warning] No further splits with positive gain, best gain: -inf\n",
      "[LightGBM] [Warning] No further splits with positive gain, best gain: -inf\n",
      "[LightGBM] [Warning] No further splits with positive gain, best gain: -inf\n",
      "[LightGBM] [Warning] No further splits with positive gain, best gain: -inf\n",
      "[LightGBM] [Warning] No further splits with positive gain, best gain: -inf\n",
      "[LightGBM] [Warning] No further splits with positive gain, best gain: -inf\n",
      "[LightGBM] [Warning] No further splits with positive gain, best gain: -inf\n",
      "[LightGBM] [Warning] No further splits with positive gain, best gain: -inf\n",
      "[LightGBM] [Warning] No further splits with positive gain, best gain: -inf\n",
      "[LightGBM] [Warning] No further splits with positive gain, best gain: -inf\n",
      "[LightGBM] [Warning] No further splits with positive gain, best gain: -inf\n",
      "[LightGBM] [Warning] No further splits with positive gain, best gain: -inf\n",
      "[LightGBM] [Warning] No further splits with positive gain, best gain: -inf\n",
      "[LightGBM] [Warning] No further splits with positive gain, best gain: -inf\n",
      "[LightGBM] [Warning] No further splits with positive gain, best gain: -inf\n",
      "[LightGBM] [Warning] No further splits with positive gain, best gain: -inf\n",
      "[LightGBM] [Warning] No further splits with positive gain, best gain: -inf\n",
      "[LightGBM] [Warning] No further splits with positive gain, best gain: -inf\n",
      "[LightGBM] [Warning] No further splits with positive gain, best gain: -inf\n",
      "[LightGBM] [Warning] No further splits with positive gain, best gain: -inf\n",
      "[LightGBM] [Warning] No further splits with positive gain, best gain: -inf\n",
      "[LightGBM] [Warning] No further splits with positive gain, best gain: -inf\n",
      "[LightGBM] [Warning] No further splits with positive gain, best gain: -inf\n",
      "[LightGBM] [Warning] No further splits with positive gain, best gain: -inf\n",
      "[LightGBM] [Warning] No further splits with positive gain, best gain: -inf\n",
      "[LightGBM] [Warning] No further splits with positive gain, best gain: -inf\n",
      "[LightGBM] [Warning] No further splits with positive gain, best gain: -inf\n",
      "[LightGBM] [Warning] No further splits with positive gain, best gain: -inf\n",
      "[LightGBM] [Warning] No further splits with positive gain, best gain: -inf\n",
      "[LightGBM] [Warning] No further splits with positive gain, best gain: -inf\n",
      "[LightGBM] [Warning] No further splits with positive gain, best gain: -inf\n",
      "[LightGBM] [Warning] No further splits with positive gain, best gain: -inf\n",
      "[LightGBM] [Warning] No further splits with positive gain, best gain: -inf\n",
      "[LightGBM] [Warning] No further splits with positive gain, best gain: -inf\n",
      "[LightGBM] [Warning] No further splits with positive gain, best gain: -inf\n",
      "[LightGBM] [Warning] No further splits with positive gain, best gain: -inf\n",
      "[LightGBM] [Warning] No further splits with positive gain, best gain: -inf\n",
      "[LightGBM] [Warning] No further splits with positive gain, best gain: -inf\n",
      "[LightGBM] [Warning] No further splits with positive gain, best gain: -inf\n",
      "[LightGBM] [Warning] No further splits with positive gain, best gain: -inf\n",
      "[LightGBM] [Warning] No further splits with positive gain, best gain: -inf\n",
      "[LightGBM] [Warning] No further splits with positive gain, best gain: -inf\n",
      "[LightGBM] [Warning] No further splits with positive gain, best gain: -inf\n",
      "[LightGBM] [Warning] No further splits with positive gain, best gain: -inf\n",
      "[LightGBM] [Warning] No further splits with positive gain, best gain: -inf\n",
      "[LightGBM] [Warning] No further splits with positive gain, best gain: -inf\n",
      "[LightGBM] [Warning] No further splits with positive gain, best gain: -inf\n",
      "[LightGBM] [Warning] No further splits with positive gain, best gain: -inf\n",
      "[LightGBM] [Warning] No further splits with positive gain, best gain: -inf\n",
      "[LightGBM] [Warning] No further splits with positive gain, best gain: -inf\n",
      "[LightGBM] [Warning] No further splits with positive gain, best gain: -inf\n",
      "[LightGBM] [Warning] No further splits with positive gain, best gain: -inf\n",
      "[LightGBM] [Warning] No further splits with positive gain, best gain: -inf\n",
      "[LightGBM] [Warning] No further splits with positive gain, best gain: -inf\n",
      "[LightGBM] [Warning] No further splits with positive gain, best gain: -inf\n",
      "[LightGBM] [Warning] No further splits with positive gain, best gain: -inf\n",
      "[LightGBM] [Warning] No further splits with positive gain, best gain: -inf\n",
      "[LightGBM] [Warning] No further splits with positive gain, best gain: -inf\n",
      "[LightGBM] [Warning] No further splits with positive gain, best gain: -inf\n",
      "[LightGBM] [Warning] No further splits with positive gain, best gain: -inf\n",
      "[LightGBM] [Warning] No further splits with positive gain, best gain: -inf\n",
      "[LightGBM] [Warning] No further splits with positive gain, best gain: -inf\n",
      "[LightGBM] [Warning] No further splits with positive gain, best gain: -inf\n",
      "[LightGBM] [Warning] No further splits with positive gain, best gain: -inf\n",
      "[LightGBM] [Warning] No further splits with positive gain, best gain: -inf\n",
      "[LightGBM] [Warning] No further splits with positive gain, best gain: -inf\n",
      "[LightGBM] [Warning] No further splits with positive gain, best gain: -inf\n",
      "[LightGBM] [Warning] No further splits with positive gain, best gain: -inf\n",
      "[LightGBM] [Warning] No further splits with positive gain, best gain: -inf\n",
      "[LightGBM] [Warning] No further splits with positive gain, best gain: -inf\n",
      "[LightGBM] [Warning] No further splits with positive gain, best gain: -inf\n",
      "[LightGBM] [Warning] No further splits with positive gain, best gain: -inf\n",
      "[LightGBM] [Warning] No further splits with positive gain, best gain: -inf\n",
      "[LightGBM] [Warning] No further splits with positive gain, best gain: -inf\n",
      "[LightGBM] [Warning] No further splits with positive gain, best gain: -inf\n",
      "[LightGBM] [Warning] No further splits with positive gain, best gain: -inf\n",
      "[LightGBM] [Warning] No further splits with positive gain, best gain: -inf\n",
      "[LightGBM] [Warning] No further splits with positive gain, best gain: -inf\n",
      "[LightGBM] [Warning] No further splits with positive gain, best gain: -inf\n",
      "[LightGBM] [Warning] No further splits with positive gain, best gain: -inf\n",
      "[LightGBM] [Warning] No further splits with positive gain, best gain: -inf\n",
      "[LightGBM] [Warning] No further splits with positive gain, best gain: -inf\n",
      "[LightGBM] [Warning] No further splits with positive gain, best gain: -inf\n",
      "[LightGBM] [Warning] No further splits with positive gain, best gain: -inf\n",
      "[LightGBM] [Warning] No further splits with positive gain, best gain: -inf\n",
      "[LightGBM] [Warning] No further splits with positive gain, best gain: -inf\n",
      "[LightGBM] [Warning] No further splits with positive gain, best gain: -inf\n",
      "[LightGBM] [Warning] No further splits with positive gain, best gain: -inf\n",
      "[LightGBM] [Warning] No further splits with positive gain, best gain: -inf\n",
      "[LightGBM] [Warning] No further splits with positive gain, best gain: -inf\n",
      "[LightGBM] [Warning] No further splits with positive gain, best gain: -inf\n",
      "[LightGBM] [Warning] No further splits with positive gain, best gain: -inf\n",
      "[LightGBM] [Warning] No further splits with positive gain, best gain: -inf\n",
      "[LightGBM] [Warning] No further splits with positive gain, best gain: -inf\n",
      "[LightGBM] [Warning] No further splits with positive gain, best gain: -inf\n",
      "[LightGBM] [Warning] No further splits with positive gain, best gain: -inf\n",
      "[LightGBM] [Warning] No further splits with positive gain, best gain: -inf\n",
      "[LightGBM] [Warning] No further splits with positive gain, best gain: -inf\n",
      "[LightGBM] [Warning] No further splits with positive gain, best gain: -inf\n",
      "[LightGBM] [Warning] No further splits with positive gain, best gain: -inf\n",
      "[LightGBM] [Warning] No further splits with positive gain, best gain: -inf\n",
      "[LightGBM] [Warning] No further splits with positive gain, best gain: -inf\n",
      "[LightGBM] [Warning] No further splits with positive gain, best gain: -inf\n",
      "[LightGBM] [Warning] No further splits with positive gain, best gain: -inf\n",
      "[LightGBM] [Warning] No further splits with positive gain, best gain: -inf\n",
      "[LightGBM] [Warning] No further splits with positive gain, best gain: -inf\n",
      "[LightGBM] [Warning] No further splits with positive gain, best gain: -inf\n",
      "[LightGBM] [Warning] No further splits with positive gain, best gain: -inf\n",
      "[LightGBM] [Warning] No further splits with positive gain, best gain: -inf\n",
      "[LightGBM] [Warning] No further splits with positive gain, best gain: -inf\n",
      "[LightGBM] [Warning] No further splits with positive gain, best gain: -inf\n",
      "[LightGBM] [Warning] No further splits with positive gain, best gain: -inf\n",
      "[LightGBM] [Warning] No further splits with positive gain, best gain: -inf\n",
      "[LightGBM] [Warning] No further splits with positive gain, best gain: -inf\n",
      "[LightGBM] [Warning] No further splits with positive gain, best gain: -inf\n",
      "[LightGBM] [Warning] No further splits with positive gain, best gain: -inf\n",
      "[LightGBM] [Warning] No further splits with positive gain, best gain: -inf\n",
      "[LightGBM] [Warning] No further splits with positive gain, best gain: -inf\n",
      "[LightGBM] [Warning] No further splits with positive gain, best gain: -inf\n",
      "[LightGBM] [Warning] No further splits with positive gain, best gain: -inf\n",
      "[LightGBM] [Warning] No further splits with positive gain, best gain: -inf\n",
      "[LightGBM] [Warning] No further splits with positive gain, best gain: -inf\n",
      "[LightGBM] [Warning] No further splits with positive gain, best gain: -inf\n",
      "[LightGBM] [Warning] No further splits with positive gain, best gain: -inf\n",
      "[LightGBM] [Warning] No further splits with positive gain, best gain: -inf\n",
      "[LightGBM] [Warning] No further splits with positive gain, best gain: -inf\n",
      "[LightGBM] [Warning] No further splits with positive gain, best gain: -inf\n",
      "[LightGBM] [Warning] No further splits with positive gain, best gain: -inf\n",
      "[LightGBM] [Warning] No further splits with positive gain, best gain: -inf\n",
      "[LightGBM] [Warning] No further splits with positive gain, best gain: -inf\n",
      "[LightGBM] [Warning] No further splits with positive gain, best gain: -inf\n",
      "[LightGBM] [Warning] No further splits with positive gain, best gain: -inf\n",
      "[LightGBM] [Warning] No further splits with positive gain, best gain: -inf\n",
      "[LightGBM] [Warning] No further splits with positive gain, best gain: -inf\n",
      "[LightGBM] [Warning] No further splits with positive gain, best gain: -inf\n",
      "[LightGBM] [Warning] No further splits with positive gain, best gain: -inf\n",
      "[LightGBM] [Warning] No further splits with positive gain, best gain: -inf\n",
      "[LightGBM] [Warning] No further splits with positive gain, best gain: -inf\n",
      "[LightGBM] [Warning] No further splits with positive gain, best gain: -inf\n",
      "[LightGBM] [Warning] No further splits with positive gain, best gain: -inf\n",
      "[LightGBM] [Warning] No further splits with positive gain, best gain: -inf\n",
      "[LightGBM] [Warning] No further splits with positive gain, best gain: -inf\n",
      "[LightGBM] [Warning] No further splits with positive gain, best gain: -inf\n",
      "[LightGBM] [Warning] No further splits with positive gain, best gain: -inf\n",
      "[LightGBM] [Warning] No further splits with positive gain, best gain: -inf\n",
      "[LightGBM] [Warning] No further splits with positive gain, best gain: -inf\n",
      "[LightGBM] [Warning] No further splits with positive gain, best gain: -inf\n",
      "[LightGBM] [Warning] No further splits with positive gain, best gain: -inf\n",
      "[LightGBM] [Warning] No further splits with positive gain, best gain: -inf\n",
      "[LightGBM] [Warning] No further splits with positive gain, best gain: -inf\n",
      "[LightGBM] [Warning] No further splits with positive gain, best gain: -inf\n",
      "[LightGBM] [Warning] No further splits with positive gain, best gain: -inf\n",
      "[LightGBM] [Warning] No further splits with positive gain, best gain: -inf\n",
      "[LightGBM] [Warning] No further splits with positive gain, best gain: -inf\n",
      "[LightGBM] [Warning] No further splits with positive gain, best gain: -inf\n",
      "[LightGBM] [Warning] No further splits with positive gain, best gain: -inf\n",
      "[LightGBM] [Warning] No further splits with positive gain, best gain: -inf\n",
      "[LightGBM] [Warning] No further splits with positive gain, best gain: -inf\n",
      "[LightGBM] [Warning] No further splits with positive gain, best gain: -inf\n",
      "[LightGBM] [Warning] No further splits with positive gain, best gain: -inf\n",
      "[LightGBM] [Warning] No further splits with positive gain, best gain: -inf\n",
      "[LightGBM] [Warning] No further splits with positive gain, best gain: -inf\n",
      "[LightGBM] [Warning] No further splits with positive gain, best gain: -inf\n",
      "[LightGBM] [Warning] No further splits with positive gain, best gain: -inf\n",
      "[LightGBM] [Warning] No further splits with positive gain, best gain: -inf\n",
      "[LightGBM] [Warning] No further splits with positive gain, best gain: -inf\n",
      "[LightGBM] [Warning] No further splits with positive gain, best gain: -inf\n",
      "[LightGBM] [Warning] No further splits with positive gain, best gain: -inf\n",
      "[LightGBM] [Warning] No further splits with positive gain, best gain: -inf\n",
      "[LightGBM] [Warning] No further splits with positive gain, best gain: -inf\n",
      "[LightGBM] [Warning] No further splits with positive gain, best gain: -inf\n",
      "[LightGBM] [Warning] No further splits with positive gain, best gain: -inf\n",
      "[LightGBM] [Warning] No further splits with positive gain, best gain: -inf\n",
      "[LightGBM] [Warning] No further splits with positive gain, best gain: -inf\n",
      "[LightGBM] [Warning] No further splits with positive gain, best gain: -inf\n",
      "[LightGBM] [Warning] No further splits with positive gain, best gain: -inf\n",
      "[LightGBM] [Warning] No further splits with positive gain, best gain: -inf\n",
      "[LightGBM] [Warning] No further splits with positive gain, best gain: -inf\n",
      "[LightGBM] [Warning] No further splits with positive gain, best gain: -inf\n",
      "[LightGBM] [Warning] No further splits with positive gain, best gain: -inf\n",
      "[LightGBM] [Warning] No further splits with positive gain, best gain: -inf\n",
      "[LightGBM] [Warning] No further splits with positive gain, best gain: -inf\n",
      "[LightGBM] [Warning] No further splits with positive gain, best gain: -inf\n",
      "[LightGBM] [Warning] No further splits with positive gain, best gain: -inf\n",
      "[LightGBM] [Warning] No further splits with positive gain, best gain: -inf\n",
      "[LightGBM] [Warning] No further splits with positive gain, best gain: -inf\n",
      "[LightGBM] [Warning] No further splits with positive gain, best gain: -inf\n",
      "[LightGBM] [Warning] No further splits with positive gain, best gain: -inf\n",
      "[LightGBM] [Warning] No further splits with positive gain, best gain: -inf\n",
      "[LightGBM] [Warning] No further splits with positive gain, best gain: -inf\n",
      "[LightGBM] [Warning] No further splits with positive gain, best gain: -inf\n",
      "[LightGBM] [Warning] No further splits with positive gain, best gain: -inf\n",
      "[LightGBM] [Warning] No further splits with positive gain, best gain: -inf\n",
      "[LightGBM] [Warning] No further splits with positive gain, best gain: -inf\n",
      "[LightGBM] [Warning] No further splits with positive gain, best gain: -inf\n",
      "[LightGBM] [Warning] No further splits with positive gain, best gain: -inf\n",
      "[LightGBM] [Warning] No further splits with positive gain, best gain: -inf\n",
      "[LightGBM] [Warning] No further splits with positive gain, best gain: -inf\n",
      "[LightGBM] [Warning] No further splits with positive gain, best gain: -inf\n",
      "[LightGBM] [Warning] No further splits with positive gain, best gain: -inf\n",
      "[LightGBM] [Warning] No further splits with positive gain, best gain: -inf\n",
      "[LightGBM] [Warning] No further splits with positive gain, best gain: -inf\n",
      "[LightGBM] [Warning] No further splits with positive gain, best gain: -inf\n",
      "[LightGBM] [Warning] No further splits with positive gain, best gain: -inf\n",
      "[LightGBM] [Warning] No further splits with positive gain, best gain: -inf\n",
      "[LightGBM] [Warning] No further splits with positive gain, best gain: -inf\n",
      "[LightGBM] [Warning] No further splits with positive gain, best gain: -inf\n",
      "[LightGBM] [Warning] No further splits with positive gain, best gain: -inf\n",
      "[LightGBM] [Warning] No further splits with positive gain, best gain: -inf\n",
      "[LightGBM] [Warning] No further splits with positive gain, best gain: -inf\n",
      "[LightGBM] [Warning] No further splits with positive gain, best gain: -inf\n",
      "[LightGBM] [Warning] No further splits with positive gain, best gain: -inf\n",
      "[LightGBM] [Warning] No further splits with positive gain, best gain: -inf\n",
      "[LightGBM] [Warning] No further splits with positive gain, best gain: -inf\n",
      "[LightGBM] [Warning] No further splits with positive gain, best gain: -inf\n",
      "[LightGBM] [Warning] No further splits with positive gain, best gain: -inf\n",
      "[LightGBM] [Warning] No further splits with positive gain, best gain: -inf\n",
      "[LightGBM] [Warning] No further splits with positive gain, best gain: -inf\n",
      "[LightGBM] [Warning] No further splits with positive gain, best gain: -inf\n",
      "[LightGBM] [Warning] No further splits with positive gain, best gain: -inf\n",
      "[LightGBM] [Warning] No further splits with positive gain, best gain: -inf\n",
      "[LightGBM] [Warning] No further splits with positive gain, best gain: -inf\n",
      "[LightGBM] [Warning] No further splits with positive gain, best gain: -inf\n",
      "[LightGBM] [Warning] No further splits with positive gain, best gain: -inf\n",
      "[LightGBM] [Warning] No further splits with positive gain, best gain: -inf\n",
      "[LightGBM] [Warning] No further splits with positive gain, best gain: -inf\n",
      "[LightGBM] [Warning] No further splits with positive gain, best gain: -inf\n",
      "[LightGBM] [Warning] No further splits with positive gain, best gain: -inf\n",
      "[LightGBM] [Warning] No further splits with positive gain, best gain: -inf\n",
      "[LightGBM] [Warning] No further splits with positive gain, best gain: -inf\n",
      "[LightGBM] [Warning] No further splits with positive gain, best gain: -inf\n",
      "[LightGBM] [Warning] No further splits with positive gain, best gain: -inf\n",
      "[LightGBM] [Warning] No further splits with positive gain, best gain: -inf\n",
      "[LightGBM] [Warning] No further splits with positive gain, best gain: -inf\n",
      "[LightGBM] [Warning] No further splits with positive gain, best gain: -inf\n",
      "[LightGBM] [Warning] No further splits with positive gain, best gain: -inf\n",
      "[LightGBM] [Warning] No further splits with positive gain, best gain: -inf\n",
      "[LightGBM] [Warning] No further splits with positive gain, best gain: -inf\n",
      "[LightGBM] [Warning] No further splits with positive gain, best gain: -inf\n",
      "[LightGBM] [Warning] No further splits with positive gain, best gain: -inf\n",
      "[LightGBM] [Warning] No further splits with positive gain, best gain: -inf\n",
      "[LightGBM] [Warning] No further splits with positive gain, best gain: -inf\n",
      "[LightGBM] [Warning] No further splits with positive gain, best gain: -inf\n",
      "[LightGBM] [Warning] No further splits with positive gain, best gain: -inf\n",
      "[LightGBM] [Warning] No further splits with positive gain, best gain: -inf\n",
      "[LightGBM] [Warning] No further splits with positive gain, best gain: -inf\n",
      "[LightGBM] [Warning] No further splits with positive gain, best gain: -inf\n",
      "[LightGBM] [Warning] No further splits with positive gain, best gain: -inf\n",
      "[LightGBM] [Warning] No further splits with positive gain, best gain: -inf\n",
      "[LightGBM] [Warning] No further splits with positive gain, best gain: -inf\n",
      "[LightGBM] [Warning] No further splits with positive gain, best gain: -inf\n",
      "[LightGBM] [Warning] No further splits with positive gain, best gain: -inf\n",
      "[LightGBM] [Warning] No further splits with positive gain, best gain: -inf\n",
      "[LightGBM] [Warning] No further splits with positive gain, best gain: -inf\n",
      "[LightGBM] [Warning] No further splits with positive gain, best gain: -inf\n",
      "[LightGBM] [Warning] No further splits with positive gain, best gain: -inf\n",
      "[LightGBM] [Warning] No further splits with positive gain, best gain: -inf\n",
      "[LightGBM] [Warning] No further splits with positive gain, best gain: -inf\n",
      "[LightGBM] [Warning] No further splits with positive gain, best gain: -inf\n",
      "[LightGBM] [Warning] No further splits with positive gain, best gain: -inf\n",
      "[LightGBM] [Warning] No further splits with positive gain, best gain: -inf\n",
      "[LightGBM] [Warning] No further splits with positive gain, best gain: -inf\n",
      "[LightGBM] [Warning] feature_fraction is set=0.5200508885969131, colsample_bytree=1.0 will be ignored. Current value: feature_fraction=0.5200508885969131\n",
      "[LightGBM] [Warning] lambda_l2 is set=1.0378733814005926e-05, reg_lambda=0.0 will be ignored. Current value: lambda_l2=1.0378733814005926e-05\n",
      "[LightGBM] [Warning] lambda_l1 is set=1.3019828669773963, reg_alpha=0.0 will be ignored. Current value: lambda_l1=1.3019828669773963\n",
      "[LightGBM] [Warning] bagging_fraction is set=0.8788385892118535, subsample=1.0 will be ignored. Current value: bagging_fraction=0.8788385892118535\n",
      "[LightGBM] [Warning] bagging_freq is set=7, subsample_freq=0 will be ignored. Current value: bagging_freq=7\n",
      "[LightGBM] [Warning] feature_fraction is set=0.5200508885969131, colsample_bytree=1.0 will be ignored. Current value: feature_fraction=0.5200508885969131\n",
      "[LightGBM] [Warning] lambda_l2 is set=1.0378733814005926e-05, reg_lambda=0.0 will be ignored. Current value: lambda_l2=1.0378733814005926e-05\n",
      "[LightGBM] [Warning] lambda_l1 is set=1.3019828669773963, reg_alpha=0.0 will be ignored. Current value: lambda_l1=1.3019828669773963\n",
      "[LightGBM] [Warning] bagging_fraction is set=0.8788385892118535, subsample=1.0 will be ignored. Current value: bagging_fraction=0.8788385892118535\n",
      "[LightGBM] [Warning] bagging_freq is set=7, subsample_freq=0 will be ignored. Current value: bagging_freq=7\n"
     ]
    },
    {
     "data": {
      "text/html": [
       "<div>\n",
       "<style scoped>\n",
       "    .dataframe tbody tr th:only-of-type {\n",
       "        vertical-align: middle;\n",
       "    }\n",
       "\n",
       "    .dataframe tbody tr th {\n",
       "        vertical-align: top;\n",
       "    }\n",
       "\n",
       "    .dataframe thead th {\n",
       "        text-align: right;\n",
       "    }\n",
       "</style>\n",
       "<table border=\"1\" class=\"dataframe\">\n",
       "  <thead>\n",
       "    <tr style=\"text-align: right;\">\n",
       "      <th></th>\n",
       "      <th>DataCategory</th>\n",
       "      <th>accuracy</th>\n",
       "      <th>f1</th>\n",
       "      <th>recall</th>\n",
       "      <th>precision</th>\n",
       "      <th>MAE</th>\n",
       "      <th>MSE</th>\n",
       "      <th>RMSE</th>\n",
       "      <th>r2</th>\n",
       "    </tr>\n",
       "  </thead>\n",
       "  <tbody>\n",
       "    <tr>\n",
       "      <th>0</th>\n",
       "      <td>Train</td>\n",
       "      <td>0.959472</td>\n",
       "      <td>0.955134</td>\n",
       "      <td>0.954834</td>\n",
       "      <td>0.955545</td>\n",
       "      <td>0.103216</td>\n",
       "      <td>0.359388</td>\n",
       "      <td>0.599490</td>\n",
       "      <td>0.899303</td>\n",
       "    </tr>\n",
       "    <tr>\n",
       "      <th>1</th>\n",
       "      <td>Valid</td>\n",
       "      <td>0.910886</td>\n",
       "      <td>0.901325</td>\n",
       "      <td>0.901067</td>\n",
       "      <td>0.901632</td>\n",
       "      <td>0.221821</td>\n",
       "      <td>0.755539</td>\n",
       "      <td>0.869218</td>\n",
       "      <td>0.792641</td>\n",
       "    </tr>\n",
       "  </tbody>\n",
       "</table>\n",
       "</div>"
      ],
      "text/plain": [
       "  DataCategory  accuracy        f1    recall  precision       MAE       MSE  \\\n",
       "0        Train  0.959472  0.955134  0.954834   0.955545  0.103216  0.359388   \n",
       "1        Valid  0.910886  0.901325  0.901067   0.901632  0.221821  0.755539   \n",
       "\n",
       "       RMSE        r2  \n",
       "0  0.599490  0.899303  \n",
       "1  0.869218  0.792641  "
      ]
     },
     "metadata": {},
     "output_type": "display_data"
    },
    {
     "name": "stdout",
     "output_type": "stream",
     "text": [
      "xgboost\n"
     ]
    },
    {
     "data": {
      "text/html": [
       "<div>\n",
       "<style scoped>\n",
       "    .dataframe tbody tr th:only-of-type {\n",
       "        vertical-align: middle;\n",
       "    }\n",
       "\n",
       "    .dataframe tbody tr th {\n",
       "        vertical-align: top;\n",
       "    }\n",
       "\n",
       "    .dataframe thead th {\n",
       "        text-align: right;\n",
       "    }\n",
       "</style>\n",
       "<table border=\"1\" class=\"dataframe\">\n",
       "  <thead>\n",
       "    <tr style=\"text-align: right;\">\n",
       "      <th></th>\n",
       "      <th>DataCategory</th>\n",
       "      <th>accuracy</th>\n",
       "      <th>f1</th>\n",
       "      <th>recall</th>\n",
       "      <th>precision</th>\n",
       "      <th>MAE</th>\n",
       "      <th>MSE</th>\n",
       "      <th>RMSE</th>\n",
       "      <th>r2</th>\n",
       "    </tr>\n",
       "  </thead>\n",
       "  <tbody>\n",
       "    <tr>\n",
       "      <th>0</th>\n",
       "      <td>Train</td>\n",
       "      <td>0.959954</td>\n",
       "      <td>0.955448</td>\n",
       "      <td>0.955174</td>\n",
       "      <td>0.955867</td>\n",
       "      <td>0.098759</td>\n",
       "      <td>0.336866</td>\n",
       "      <td>0.580402</td>\n",
       "      <td>0.905614</td>\n",
       "    </tr>\n",
       "    <tr>\n",
       "      <th>1</th>\n",
       "      <td>Valid</td>\n",
       "      <td>0.907996</td>\n",
       "      <td>0.898087</td>\n",
       "      <td>0.897706</td>\n",
       "      <td>0.898589</td>\n",
       "      <td>0.235308</td>\n",
       "      <td>0.813825</td>\n",
       "      <td>0.902122</td>\n",
       "      <td>0.776644</td>\n",
       "    </tr>\n",
       "  </tbody>\n",
       "</table>\n",
       "</div>"
      ],
      "text/plain": [
       "  DataCategory  accuracy        f1    recall  precision       MAE       MSE  \\\n",
       "0        Train  0.959954  0.955448  0.955174   0.955867  0.098759  0.336866   \n",
       "1        Valid  0.907996  0.898087  0.897706   0.898589  0.235308  0.813825   \n",
       "\n",
       "       RMSE        r2  \n",
       "0  0.580402  0.905614  \n",
       "1  0.902122  0.776644  "
      ]
     },
     "metadata": {},
     "output_type": "display_data"
    },
    {
     "name": "stdout",
     "output_type": "stream",
     "text": [
      "AdaBoostClassifier\n"
     ]
    },
    {
     "data": {
      "text/html": [
       "<div>\n",
       "<style scoped>\n",
       "    .dataframe tbody tr th:only-of-type {\n",
       "        vertical-align: middle;\n",
       "    }\n",
       "\n",
       "    .dataframe tbody tr th {\n",
       "        vertical-align: top;\n",
       "    }\n",
       "\n",
       "    .dataframe thead th {\n",
       "        text-align: right;\n",
       "    }\n",
       "</style>\n",
       "<table border=\"1\" class=\"dataframe\">\n",
       "  <thead>\n",
       "    <tr style=\"text-align: right;\">\n",
       "      <th></th>\n",
       "      <th>DataCategory</th>\n",
       "      <th>accuracy</th>\n",
       "      <th>f1</th>\n",
       "      <th>recall</th>\n",
       "      <th>precision</th>\n",
       "      <th>MAE</th>\n",
       "      <th>MSE</th>\n",
       "      <th>RMSE</th>\n",
       "      <th>r2</th>\n",
       "    </tr>\n",
       "  </thead>\n",
       "  <tbody>\n",
       "    <tr>\n",
       "      <th>0</th>\n",
       "      <td>Train</td>\n",
       "      <td>0.629411</td>\n",
       "      <td>0.567442</td>\n",
       "      <td>0.599230</td>\n",
       "      <td>0.621253</td>\n",
       "      <td>0.884500</td>\n",
       "      <td>2.879682</td>\n",
       "      <td>1.696963</td>\n",
       "      <td>0.193144</td>\n",
       "    </tr>\n",
       "    <tr>\n",
       "      <th>1</th>\n",
       "      <td>Valid</td>\n",
       "      <td>0.625482</td>\n",
       "      <td>0.558456</td>\n",
       "      <td>0.590388</td>\n",
       "      <td>0.609543</td>\n",
       "      <td>0.905588</td>\n",
       "      <td>2.980250</td>\n",
       "      <td>1.726340</td>\n",
       "      <td>0.182064</td>\n",
       "    </tr>\n",
       "  </tbody>\n",
       "</table>\n",
       "</div>"
      ],
      "text/plain": [
       "  DataCategory  accuracy        f1    recall  precision       MAE       MSE  \\\n",
       "0        Train  0.629411  0.567442  0.599230   0.621253  0.884500  2.879682   \n",
       "1        Valid  0.625482  0.558456  0.590388   0.609543  0.905588  2.980250   \n",
       "\n",
       "       RMSE        r2  \n",
       "0  1.696963  0.193144  \n",
       "1  1.726340  0.182064  "
      ]
     },
     "metadata": {},
     "output_type": "display_data"
    }
   ],
   "source": [
    "now = datetime.datetime.now().strftime(\"%Y%m%d%H\")\n",
    "target_output_dir = 'results_' + now\n",
    "\n",
    "os.makedirs(target_output_dir, exist_ok=True)\n",
    "print(target_output_dir)\n",
    "\n",
    "\n",
    "\n",
    "models = {'DecisionTreeClassifier': DecisionTreeClassifier(random_state=42), \n",
    "          'RandomForest':RandomForestClassifier(random_state=42),\n",
    "          'GradientBoostingClassifier':GradientBoostingClassifier(random_state=42),\n",
    "          'lightgbm': LGBMClassifier(**lgb_params),\n",
    "          'xgboost': XGBClassifier(**xgb_params),\n",
    "#           'BaggingClassifier': BaggingClassifier(random_state=42),\n",
    "          'AdaBoostClassifier': AdaBoostClassifier(random_state=42),\n",
    "#           'CatBoostClassifier': CatBoostClassifier(**cat_params),\n",
    "         }\n",
    "\n",
    "score_all = []\n",
    "importance_all = []\n",
    "for model_name, model in models.items():\n",
    "    print(model_name)\n",
    "    score, importance, model, cols = make_model_and_eval(model, X_train, X_valid, y_train, y_valid)\n",
    "    score['model_name'] = model_name\n",
    "    importance['model_name'] = model_name\n",
    "    \n",
    "    model_names = f'model_{model_name}.pickle'\n",
    "    model_path = os.path.join(target_output_dir, model_names)\n",
    "    with open(model_path, mode='wb') as f:\n",
    "        pickle.dump(model, f, protocol=2)\n",
    "    score_all.append(score)\n",
    "    importance_all.append(importance)\n",
    "score_all = pd.concat(score_all, ignore_index=True)\n",
    "importance_all = pd.concat(importance_all, ignore_index=True)\n",
    "cols = pd.DataFrame({'X_cols':X_train.columns})\n",
    "\n",
    "score_name = 'score.csv'\n",
    "importance_name = 'importance.csv'\n",
    "cols_name = 'X_cols.csv'\n",
    "\n",
    "score_path = os.path.join(target_output_dir, score_name)\n",
    "importance_path = os.path.join(target_output_dir, importance_name)\n",
    "cols_path = os.path.join(target_output_dir, cols_name)\n",
    "\n",
    "score_all.to_csv(score_path, index=False)\n",
    "importance_all.to_csv(importance_path, index=False)\n",
    "cols.to_csv(cols_path, index=False)"
   ]
  },
  {
   "cell_type": "markdown",
   "id": "197da386",
   "metadata": {
    "papermill": {
     "duration": 0.009385,
     "end_time": "2024-02-04T01:39:30.536025",
     "exception": false,
     "start_time": "2024-02-04T01:39:30.526640",
     "status": "completed"
    },
    "tags": []
   },
   "source": [
    "#### pickleファイルのインポート"
   ]
  },
  {
   "cell_type": "code",
   "execution_count": 9,
   "id": "f2ddb13c",
   "metadata": {
    "execution": {
     "iopub.execute_input": "2024-02-04T01:39:30.556380Z",
     "iopub.status.busy": "2024-02-04T01:39:30.556023Z",
     "iopub.status.idle": "2024-02-04T01:39:30.575430Z",
     "shell.execute_reply": "2024-02-04T01:39:30.574456Z"
    },
    "papermill": {
     "duration": 0.032103,
     "end_time": "2024-02-04T01:39:30.577461",
     "exception": false,
     "start_time": "2024-02-04T01:39:30.545358",
     "status": "completed"
    },
    "tags": []
   },
   "outputs": [
    {
     "name": "stdout",
     "output_type": "stream",
     "text": [
      "LGBMClassifier(bagging_fraction=0.8788385892118535, bagging_freq=7,\n",
      "               feature_fraction=0.5200508885969131,\n",
      "               lambda_l1=1.3019828669773963, lambda_l2=1.0378733814005926e-05,\n",
      "               min_child_samples=49, num_leaves=43)\n"
     ]
    }
   ],
   "source": [
    "import pickle\n",
    "\n",
    "model_name = 'model_lightgbm.pickle'\n",
    "\n",
    "model_path = os.path.join(target_output_dir, model_name)\n",
    "\n",
    "with open(model_path, mode='rb') as f:\n",
    "    model = pickle.load(f)\n",
    "    \n",
    "print(model)"
   ]
  },
  {
   "cell_type": "markdown",
   "id": "d181884b",
   "metadata": {
    "papermill": {
     "duration": 0.009703,
     "end_time": "2024-02-04T01:39:30.597714",
     "exception": false,
     "start_time": "2024-02-04T01:39:30.588011",
     "status": "completed"
    },
    "tags": []
   },
   "source": [
    "## モデルの予測"
   ]
  },
  {
   "cell_type": "code",
   "execution_count": 10,
   "id": "dafb62a6",
   "metadata": {
    "execution": {
     "iopub.execute_input": "2024-02-04T01:39:30.618478Z",
     "iopub.status.busy": "2024-02-04T01:39:30.618193Z",
     "iopub.status.idle": "2024-02-04T01:39:31.084980Z",
     "shell.execute_reply": "2024-02-04T01:39:31.084073Z"
    },
    "papermill": {
     "duration": 0.480006,
     "end_time": "2024-02-04T01:39:31.087573",
     "exception": false,
     "start_time": "2024-02-04T01:39:30.607567",
     "status": "completed"
    },
    "tags": []
   },
   "outputs": [
    {
     "name": "stdout",
     "output_type": "stream",
     "text": [
      "[LightGBM] [Warning] feature_fraction is set=0.5200508885969131, colsample_bytree=1.0 will be ignored. Current value: feature_fraction=0.5200508885969131\n",
      "[LightGBM] [Warning] lambda_l2 is set=1.0378733814005926e-05, reg_lambda=0.0 will be ignored. Current value: lambda_l2=1.0378733814005926e-05\n",
      "[LightGBM] [Warning] lambda_l1 is set=1.3019828669773963, reg_alpha=0.0 will be ignored. Current value: lambda_l1=1.3019828669773963\n",
      "[LightGBM] [Warning] bagging_fraction is set=0.8788385892118535, subsample=1.0 will be ignored. Current value: bagging_fraction=0.8788385892118535\n",
      "[LightGBM] [Warning] bagging_freq is set=7, subsample_freq=0 will be ignored. Current value: bagging_freq=7\n"
     ]
    }
   ],
   "source": [
    "target_col = 'NObeyesdad'\n",
    "sample_sub[target_col] = model.predict(test)"
   ]
  },
  {
   "cell_type": "markdown",
   "id": "6ecd2e08",
   "metadata": {
    "papermill": {
     "duration": 0.009502,
     "end_time": "2024-02-04T01:39:31.107943",
     "exception": false,
     "start_time": "2024-02-04T01:39:31.098441",
     "status": "completed"
    },
    "tags": []
   },
   "source": [
    "# 提出"
   ]
  },
  {
   "cell_type": "code",
   "execution_count": 11,
   "id": "d793bd06",
   "metadata": {
    "execution": {
     "iopub.execute_input": "2024-02-04T01:39:31.129780Z",
     "iopub.status.busy": "2024-02-04T01:39:31.129300Z",
     "iopub.status.idle": "2024-02-04T01:39:31.166550Z",
     "shell.execute_reply": "2024-02-04T01:39:31.165552Z"
    },
    "papermill": {
     "duration": 0.050717,
     "end_time": "2024-02-04T01:39:31.168707",
     "exception": false,
     "start_time": "2024-02-04T01:39:31.117990",
     "status": "completed"
    },
    "tags": []
   },
   "outputs": [
    {
     "data": {
      "text/html": [
       "<div>\n",
       "<style scoped>\n",
       "    .dataframe tbody tr th:only-of-type {\n",
       "        vertical-align: middle;\n",
       "    }\n",
       "\n",
       "    .dataframe tbody tr th {\n",
       "        vertical-align: top;\n",
       "    }\n",
       "\n",
       "    .dataframe thead th {\n",
       "        text-align: right;\n",
       "    }\n",
       "</style>\n",
       "<table border=\"1\" class=\"dataframe\">\n",
       "  <thead>\n",
       "    <tr style=\"text-align: right;\">\n",
       "      <th></th>\n",
       "      <th>id</th>\n",
       "      <th>NObeyesdad</th>\n",
       "    </tr>\n",
       "  </thead>\n",
       "  <tbody>\n",
       "    <tr>\n",
       "      <th>0</th>\n",
       "      <td>20758</td>\n",
       "      <td>Obesity_Type_II</td>\n",
       "    </tr>\n",
       "    <tr>\n",
       "      <th>1</th>\n",
       "      <td>20759</td>\n",
       "      <td>Overweight_Level_I</td>\n",
       "    </tr>\n",
       "    <tr>\n",
       "      <th>2</th>\n",
       "      <td>20760</td>\n",
       "      <td>Obesity_Type_III</td>\n",
       "    </tr>\n",
       "    <tr>\n",
       "      <th>3</th>\n",
       "      <td>20761</td>\n",
       "      <td>Obesity_Type_I</td>\n",
       "    </tr>\n",
       "    <tr>\n",
       "      <th>4</th>\n",
       "      <td>20762</td>\n",
       "      <td>Obesity_Type_III</td>\n",
       "    </tr>\n",
       "  </tbody>\n",
       "</table>\n",
       "</div>"
      ],
      "text/plain": [
       "      id          NObeyesdad\n",
       "0  20758     Obesity_Type_II\n",
       "1  20759  Overweight_Level_I\n",
       "2  20760    Obesity_Type_III\n",
       "3  20761      Obesity_Type_I\n",
       "4  20762    Obesity_Type_III"
      ]
     },
     "execution_count": 11,
     "metadata": {},
     "output_type": "execute_result"
    }
   ],
   "source": [
    "inverse_mapping = {\n",
    "                   0: 'Insufficient_Weight',\n",
    "                   1: 'Normal_Weight', \n",
    "                   2: 'Obesity_Type_I',\n",
    "                   3: 'Obesity_Type_II', \n",
    "                   4: 'Obesity_Type_III', \n",
    "                   5: 'Overweight_Level_I', \n",
    "                   6: 'Overweight_Level_II'\n",
    "                  }\n",
    "\n",
    "sample_sub[target_col] = sample_sub[target_col].map(inverse_mapping)\n",
    "sample_sub.to_csv('submission.csv', index=False)\n",
    "sample_sub.head()"
   ]
  },
  {
   "cell_type": "markdown",
   "id": "d5b190d0",
   "metadata": {
    "papermill": {
     "duration": 0.009607,
     "end_time": "2024-02-04T01:39:31.188990",
     "exception": false,
     "start_time": "2024-02-04T01:39:31.179383",
     "status": "completed"
    },
    "tags": []
   },
   "source": [
    "# 導入検討"
   ]
  },
  {
   "cell_type": "markdown",
   "id": "1d4edd2d",
   "metadata": {
    "papermill": {
     "duration": 0.009679,
     "end_time": "2024-02-04T01:39:31.208552",
     "exception": false,
     "start_time": "2024-02-04T01:39:31.198873",
     "status": "completed"
    },
    "tags": []
   },
   "source": [
    "### 標準化を行なったモデル"
   ]
  },
  {
   "cell_type": "code",
   "execution_count": 12,
   "id": "1c83fd74",
   "metadata": {
    "execution": {
     "iopub.execute_input": "2024-02-04T01:39:31.230355Z",
     "iopub.status.busy": "2024-02-04T01:39:31.229808Z",
     "iopub.status.idle": "2024-02-04T01:39:34.459987Z",
     "shell.execute_reply": "2024-02-04T01:39:34.458789Z"
    },
    "papermill": {
     "duration": 3.243893,
     "end_time": "2024-02-04T01:39:34.462314",
     "exception": false,
     "start_time": "2024-02-04T01:39:31.218421",
     "status": "completed"
    },
    "tags": []
   },
   "outputs": [
    {
     "name": "stdout",
     "output_type": "stream",
     "text": [
      "10-fold cross validation:\n",
      "\n",
      "Accuracy: 0.64 (+/- 0.01) [Logistic regression]\n",
      "Accuracy: 0.34 (+/- 0.00) [Decision tree]\n",
      "Accuracy: 0.73 (+/- 0.01) [KNN]\n"
     ]
    }
   ],
   "source": [
    "import numpy as np\n",
    "from sklearn.linear_model import LogisticRegression\n",
    "from sklearn.tree import DecisionTreeClassifier\n",
    "from sklearn.neighbors import KNeighborsClassifier\n",
    "from sklearn.pipeline import Pipeline\n",
    "from sklearn.model_selection import cross_val_score\n",
    "\n",
    "clf1 = LogisticRegression(penalty='l2',\n",
    "                         C=0.001,\n",
    "                         solver='lbfgs',\n",
    "                         random_state=1)\n",
    "clf2 = DecisionTreeClassifier(max_depth=1,\n",
    "                             criterion='entropy',\n",
    "                             random_state=0)\n",
    "clf3 = KNeighborsClassifier(n_neighbors=1,\n",
    "                           p=2,\n",
    "                           metric='minkowski')\n",
    "\n",
    "pipe1 = Pipeline([['sc', StandardScaler()],\n",
    "                 ['clf', clf1]])\n",
    "pipe3 = Pipeline([['sc', StandardScaler()],\n",
    "                 ['clf', clf3]])\n",
    "\n",
    "clf_labels = ['Logistic regression', 'Decision tree', 'KNN']\n",
    "\n",
    "print('10-fold cross validation:\\n')\n",
    "\n",
    "for clf, label in zip([pipe1, clf2, pipe3], clf_labels):\n",
    "    scores = cross_val_score(estimator=clf,\n",
    "                            X=X_train,\n",
    "                            y=y_train,\n",
    "                            cv=10,\n",
    "                            scoring='accuracy')\n",
    "    print(\"Accuracy: %0.2f (+/- %0.2f) [%s]\" % (scores.mean(), scores.std(), label))"
   ]
  },
  {
   "cell_type": "code",
   "execution_count": null,
   "id": "6e57af27",
   "metadata": {
    "papermill": {
     "duration": 0.011277,
     "end_time": "2024-02-04T01:39:34.485374",
     "exception": false,
     "start_time": "2024-02-04T01:39:34.474097",
     "status": "completed"
    },
    "tags": []
   },
   "outputs": [],
   "source": []
  }
 ],
 "metadata": {
  "kaggle": {
   "accelerator": "nvidiaTeslaT4",
   "dataSources": [
    {
     "databundleVersionId": 7609535,
     "sourceId": 68479,
     "sourceType": "competition"
    },
    {
     "datasetId": 4383550,
     "sourceId": 7548946,
     "sourceType": "datasetVersion"
    }
   ],
   "dockerImageVersionId": 30648,
   "isGpuEnabled": true,
   "isInternetEnabled": true,
   "language": "python",
   "sourceType": "notebook"
  },
  "kernelspec": {
   "display_name": "Python 3",
   "language": "python",
   "name": "python3"
  },
  "language_info": {
   "codemirror_mode": {
    "name": "ipython",
    "version": 3
   },
   "file_extension": ".py",
   "mimetype": "text/x-python",
   "name": "python",
   "nbconvert_exporter": "python",
   "pygments_lexer": "ipython3",
   "version": "3.10.13"
  },
  "papermill": {
   "default_parameters": {},
   "duration": 47.825109,
   "end_time": "2024-02-04T01:39:35.317254",
   "environment_variables": {},
   "exception": null,
   "input_path": "__notebook__.ipynb",
   "output_path": "__notebook__.ipynb",
   "parameters": {},
   "start_time": "2024-02-04T01:38:47.492145",
   "version": "2.4.0"
  }
 },
 "nbformat": 4,
 "nbformat_minor": 5
}

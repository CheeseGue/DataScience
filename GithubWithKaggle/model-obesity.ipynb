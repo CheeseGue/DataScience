{
 "cells": [
  {
   "cell_type": "code",
   "execution_count": 1,
   "id": "0bcbc479",
   "metadata": {
    "_cell_guid": "b1076dfc-b9ad-4769-8c92-a6c4dae69d19",
    "_uuid": "8f2839f25d086af736a60e9eeb907d3b93b6e0e5",
    "execution": {
     "iopub.execute_input": "2024-02-01T02:35:43.392928Z",
     "iopub.status.busy": "2024-02-01T02:35:43.392186Z",
     "iopub.status.idle": "2024-02-01T02:35:44.237824Z",
     "shell.execute_reply": "2024-02-01T02:35:44.236837Z"
    },
    "papermill": {
     "duration": 0.860973,
     "end_time": "2024-02-01T02:35:44.239838",
     "exception": false,
     "start_time": "2024-02-01T02:35:43.378865",
     "status": "completed"
    },
    "tags": []
   },
   "outputs": [
    {
     "name": "stdout",
     "output_type": "stream",
     "text": [
      "/kaggle/input/my-multi-class-prediction-of-obesity-risk/data.csv\n",
      "/kaggle/input/playground-series-s4e2/sample_submission.csv\n",
      "/kaggle/input/playground-series-s4e2/train.csv\n",
      "/kaggle/input/playground-series-s4e2/test.csv\n"
     ]
    }
   ],
   "source": [
    "# This Python 3 environment comes with many helpful analytics libraries installed\n",
    "# It is defined by the kaggle/python Docker image: https://github.com/kaggle/docker-python\n",
    "# For example, here's several helpful packages to load\n",
    "\n",
    "import numpy as np # linear algebra\n",
    "import pandas as pd # data processing, CSV file I/O (e.g. pd.read_csv)\n",
    "\n",
    "# Input data files are available in the read-only \"../input/\" directory\n",
    "# For example, running this (by clicking run or pressing Shift+Enter) will list all files under the input directory\n",
    "\n",
    "import os\n",
    "for dirname, _, filenames in os.walk('/kaggle/input'):\n",
    "    for filename in filenames:\n",
    "        print(os.path.join(dirname, filename))\n",
    "\n",
    "# You can write up to 20GB to the current directory (/kaggle/working/) that gets preserved as output when you create a version using \"Save & Run All\" \n",
    "# You can also write temporary files to /kaggle/temp/, but they won't be saved outside of the current session"
   ]
  },
  {
   "cell_type": "markdown",
   "id": "79fcf24d",
   "metadata": {
    "papermill": {
     "duration": 0.011728,
     "end_time": "2024-02-01T02:35:44.263836",
     "exception": false,
     "start_time": "2024-02-01T02:35:44.252108",
     "status": "completed"
    },
    "tags": []
   },
   "source": [
    "# **銀行解約データセットを使用した二項分類**\n",
    "Binary Classification with a Bank Churn Dataset(https://www.kaggle.com/competitions/playground-series-s4e1/code?competitionId=65711&sortBy=voteCount)"
   ]
  },
  {
   "cell_type": "markdown",
   "id": "b8f127be",
   "metadata": {
    "papermill": {
     "duration": 0.012001,
     "end_time": "2024-02-01T02:35:44.287998",
     "exception": false,
     "start_time": "2024-02-01T02:35:44.275997",
     "status": "completed"
    },
    "tags": []
   },
   "source": [
    "# 参考資料\n",
    "**書籍**\n",
    "- Python実践データ分析100本ノック\n",
    "- Python実践AIモデル構築 100本ノック\n",
    "- Python実践機械学習システム 100本ノック\n",
    "\n",
    "\n",
    "**Kaggle**\n",
    "- [[PlayGround S4E1] 📊 EDA + 🤖 Modeling [XGBoost]](https://www.kaggle.com/code/akhiljethwa/playground-s4e1-eda-modeling-xgboost)\n",
    "- [🏛️Binary Classification💸 | Bank Churn💰| EDA📈](https://www.kaggle.com/code/tarundirector/binary-classification-bank-churn-eda)\n",
    "\n",
    "\n",
    "**自分で作成したファイル**\n",
    "- 肝硬変の転帰の多クラス予測\n",
    "\n",
    "**その他**\n"
   ]
  },
  {
   "cell_type": "code",
   "execution_count": 2,
   "id": "ab43e341",
   "metadata": {
    "execution": {
     "iopub.execute_input": "2024-02-01T02:35:44.315387Z",
     "iopub.status.busy": "2024-02-01T02:35:44.314930Z",
     "iopub.status.idle": "2024-02-01T02:35:44.438482Z",
     "shell.execute_reply": "2024-02-01T02:35:44.437391Z"
    },
    "papermill": {
     "duration": 0.141057,
     "end_time": "2024-02-01T02:35:44.441441",
     "exception": false,
     "start_time": "2024-02-01T02:35:44.300384",
     "status": "completed"
    },
    "tags": []
   },
   "outputs": [
    {
     "name": "stdout",
     "output_type": "stream",
     "text": [
      "読み込み完了 /kaggle/input/my-multi-class-prediction-of-obesity-risk/data.csv\n"
     ]
    },
    {
     "name": "stderr",
     "output_type": "stream",
     "text": [
      "/tmp/ipykernel_25/358891333.py:10: DtypeWarning: Columns (17) have mixed types. Specify dtype option on import or set low_memory=False.\n",
      "  data = pd.read_csv(filename, index_col=0)\n"
     ]
    }
   ],
   "source": [
    "import numpy as np\n",
    "import pandas as pd\n",
    "\n",
    "FILE_PATH = '/kaggle/input/playground-series-s4e2/'\n",
    "CREATE_DATA = '/kaggle/input/my-multi-class-prediction-of-obesity-risk'\n",
    "\n",
    "\n",
    "# 確認 (data_import.py)\n",
    "def file_to_xy(filename):\n",
    "    data = pd.read_csv(filename, index_col=0)\n",
    "    print(f'読み込み完了 {filename}')\n",
    "    \n",
    "    target_col = 'NObeyesdad'\n",
    "    \n",
    "    train = data[:20758].reset_index(drop=True)\n",
    "    test = data[20758:].reset_index(drop=True).drop(target_col, axis=1) # 目的変数を指定する\n",
    "    # 目的変数と説明変数に分割\n",
    "    X = train.drop([target_col], axis=1) # 目的変数を指定する\n",
    "    y = train[target_col].values # 目的変数を指定する\n",
    "\n",
    "    return data,test,train,X,y\n",
    "\n",
    "filename = 'data.csv'\n",
    "data,test,train,X,y = file_to_xy(CREATE_DATA + '/' + filename)"
   ]
  },
  {
   "cell_type": "code",
   "execution_count": 3,
   "id": "aef0bfea",
   "metadata": {
    "execution": {
     "iopub.execute_input": "2024-02-01T02:35:44.468225Z",
     "iopub.status.busy": "2024-02-01T02:35:44.467899Z",
     "iopub.status.idle": "2024-02-01T02:35:44.473941Z",
     "shell.execute_reply": "2024-02-01T02:35:44.473267Z"
    },
    "papermill": {
     "duration": 0.021253,
     "end_time": "2024-02-01T02:35:44.475823",
     "exception": false,
     "start_time": "2024-02-01T02:35:44.454570",
     "status": "completed"
    },
    "tags": []
   },
   "outputs": [],
   "source": [
    "X = X.copy()\n",
    "y = y.copy()"
   ]
  },
  {
   "cell_type": "markdown",
   "id": "788289a7",
   "metadata": {
    "papermill": {
     "duration": 0.01117,
     "end_time": "2024-02-01T02:35:44.498584",
     "exception": false,
     "start_time": "2024-02-01T02:35:44.487414",
     "status": "completed"
    },
    "tags": []
   },
   "source": [
    "# 機械学習モデルの構築・学習・予測"
   ]
  },
  {
   "cell_type": "markdown",
   "id": "b56a4c6b",
   "metadata": {
    "papermill": {
     "duration": 0.011183,
     "end_time": "2024-02-01T02:35:44.521186",
     "exception": false,
     "start_time": "2024-02-01T02:35:44.510003",
     "status": "completed"
    },
    "tags": []
   },
   "source": [
    "## ライブラリのインポート"
   ]
  },
  {
   "cell_type": "code",
   "execution_count": 4,
   "id": "c05c0619",
   "metadata": {
    "execution": {
     "iopub.execute_input": "2024-02-01T02:35:44.545618Z",
     "iopub.status.busy": "2024-02-01T02:35:44.545330Z",
     "iopub.status.idle": "2024-02-01T02:35:50.637383Z",
     "shell.execute_reply": "2024-02-01T02:35:50.636513Z"
    },
    "papermill": {
     "duration": 6.107251,
     "end_time": "2024-02-01T02:35:50.639717",
     "exception": false,
     "start_time": "2024-02-01T02:35:44.532466",
     "status": "completed"
    },
    "tags": []
   },
   "outputs": [
    {
     "name": "stderr",
     "output_type": "stream",
     "text": [
      "/opt/conda/lib/python3.10/site-packages/dask/dataframe/_pyarrow_compat.py:23: UserWarning: You are using pyarrow version 11.0.0 which is known to be insecure. See https://www.cve.org/CVERecord?id=CVE-2023-47248 for further details. Please upgrade to pyarrow>=14.0.1 or install pyarrow-hotfix to patch your current version.\n",
      "  warnings.warn(\n"
     ]
    }
   ],
   "source": [
    "from sklearn.model_selection import train_test_split\n",
    "from sklearn.preprocessing import StandardScaler\n",
    "\n",
    "# 評価指標\n",
    "from sklearn.metrics import roc_auc_score, accuracy_score, f1_score, recall_score, precision_score, confusion_matrix, mean_absolute_error, mean_squared_error, r2_score\n",
    "\n",
    "# 機械学習モデル\n",
    "from sklearn.linear_model import LinearRegression, Lasso, Ridge\n",
    "from sklearn.tree import DecisionTreeClassifier\n",
    "from sklearn.ensemble import RandomForestClassifier, GradientBoostingClassifier\n",
    "from xgboost import XGBClassifier\n",
    "from lightgbm import LGBMClassifier\n",
    "\n",
    "# 実験\n",
    "import datetime\n",
    "import pickle\n",
    "\n",
    "\n",
    "sample_sub = pd.read_csv(FILE_PATH + \"sample_submission.csv\")"
   ]
  },
  {
   "cell_type": "markdown",
   "id": "2e44b69e",
   "metadata": {
    "papermill": {
     "duration": 0.012078,
     "end_time": "2024-02-01T02:35:50.664890",
     "exception": false,
     "start_time": "2024-02-01T02:35:50.652812",
     "status": "completed"
    },
    "tags": []
   },
   "source": [
    "## データの分割"
   ]
  },
  {
   "cell_type": "code",
   "execution_count": 5,
   "id": "3d267c56",
   "metadata": {
    "execution": {
     "iopub.execute_input": "2024-02-01T02:35:50.689579Z",
     "iopub.status.busy": "2024-02-01T02:35:50.689289Z",
     "iopub.status.idle": "2024-02-01T02:35:50.702150Z",
     "shell.execute_reply": "2024-02-01T02:35:50.701423Z"
    },
    "papermill": {
     "duration": 0.027028,
     "end_time": "2024-02-01T02:35:50.703986",
     "exception": false,
     "start_time": "2024-02-01T02:35:50.676958",
     "status": "completed"
    },
    "tags": []
   },
   "outputs": [],
   "source": [
    "X_train, X_valid, y_train, y_valid = train_test_split(X, y, test_size=0.2, random_state=42)"
   ]
  },
  {
   "cell_type": "markdown",
   "id": "b30d1a69",
   "metadata": {
    "papermill": {
     "duration": 0.011898,
     "end_time": "2024-02-01T02:35:50.728186",
     "exception": false,
     "start_time": "2024-02-01T02:35:50.716288",
     "status": "completed"
    },
    "tags": []
   },
   "source": [
    "## モデルの学習"
   ]
  },
  {
   "cell_type": "markdown",
   "id": "36aac8d3",
   "metadata": {
    "papermill": {
     "duration": 0.011135,
     "end_time": "2024-02-01T02:35:50.750737",
     "exception": false,
     "start_time": "2024-02-01T02:35:50.739602",
     "status": "completed"
    },
    "tags": []
   },
   "source": [
    "### LinearRegression"
   ]
  },
  {
   "cell_type": "code",
   "execution_count": 6,
   "id": "9eb58f23",
   "metadata": {
    "execution": {
     "iopub.execute_input": "2024-02-01T02:35:50.774658Z",
     "iopub.status.busy": "2024-02-01T02:35:50.774390Z",
     "iopub.status.idle": "2024-02-01T02:35:50.777972Z",
     "shell.execute_reply": "2024-02-01T02:35:50.777205Z"
    },
    "papermill": {
     "duration": 0.017726,
     "end_time": "2024-02-01T02:35:50.779835",
     "exception": false,
     "start_time": "2024-02-01T02:35:50.762109",
     "status": "completed"
    },
    "tags": []
   },
   "outputs": [],
   "source": [
    "# # 標準化する\n",
    "# scaler = StandardScaler()\n",
    "# X_train_scaled = scaler.fit_transform(X_train)\n",
    "# X_valid_scaled = scaler.transform(X_valid)\n",
    "\n",
    "# lr = LinearRegression().fit(X_train_scaled, y_train)"
   ]
  },
  {
   "cell_type": "markdown",
   "id": "10c39a2d",
   "metadata": {
    "papermill": {
     "duration": 0.01139,
     "end_time": "2024-02-01T02:35:50.802676",
     "exception": false,
     "start_time": "2024-02-01T02:35:50.791286",
     "status": "completed"
    },
    "tags": []
   },
   "source": [
    "### Lasso"
   ]
  },
  {
   "cell_type": "code",
   "execution_count": 7,
   "id": "17f51b0c",
   "metadata": {
    "execution": {
     "iopub.execute_input": "2024-02-01T02:35:50.826631Z",
     "iopub.status.busy": "2024-02-01T02:35:50.826381Z",
     "iopub.status.idle": "2024-02-01T02:35:50.830017Z",
     "shell.execute_reply": "2024-02-01T02:35:50.829253Z"
    },
    "papermill": {
     "duration": 0.017589,
     "end_time": "2024-02-01T02:35:50.831838",
     "exception": false,
     "start_time": "2024-02-01T02:35:50.814249",
     "status": "completed"
    },
    "tags": []
   },
   "outputs": [],
   "source": [
    "# lasso = Lasso().fit(X_train, y_train)"
   ]
  },
  {
   "cell_type": "markdown",
   "id": "dfadec7c",
   "metadata": {
    "papermill": {
     "duration": 0.011137,
     "end_time": "2024-02-01T02:35:50.854456",
     "exception": false,
     "start_time": "2024-02-01T02:35:50.843319",
     "status": "completed"
    },
    "tags": []
   },
   "source": [
    "### Ridge(回帰)"
   ]
  },
  {
   "cell_type": "code",
   "execution_count": 8,
   "id": "a3b92dc3",
   "metadata": {
    "execution": {
     "iopub.execute_input": "2024-02-01T02:35:50.878279Z",
     "iopub.status.busy": "2024-02-01T02:35:50.878002Z",
     "iopub.status.idle": "2024-02-01T02:35:50.881584Z",
     "shell.execute_reply": "2024-02-01T02:35:50.880830Z"
    },
    "papermill": {
     "duration": 0.017569,
     "end_time": "2024-02-01T02:35:50.883421",
     "exception": false,
     "start_time": "2024-02-01T02:35:50.865852",
     "status": "completed"
    },
    "tags": []
   },
   "outputs": [],
   "source": [
    "# ridge = Ridge().fit(X_train_scaled, y_train)"
   ]
  },
  {
   "cell_type": "markdown",
   "id": "b8ef0089",
   "metadata": {
    "papermill": {
     "duration": 0.011121,
     "end_time": "2024-02-01T02:35:50.906089",
     "exception": false,
     "start_time": "2024-02-01T02:35:50.894968",
     "status": "completed"
    },
    "tags": []
   },
   "source": [
    "### LGBMClassifier"
   ]
  },
  {
   "cell_type": "code",
   "execution_count": 9,
   "id": "be9075f7",
   "metadata": {
    "execution": {
     "iopub.execute_input": "2024-02-01T02:35:50.931086Z",
     "iopub.status.busy": "2024-02-01T02:35:50.930821Z",
     "iopub.status.idle": "2024-02-01T02:35:52.465606Z",
     "shell.execute_reply": "2024-02-01T02:35:52.464657Z"
    },
    "papermill": {
     "duration": 1.550149,
     "end_time": "2024-02-01T02:35:52.468336",
     "exception": false,
     "start_time": "2024-02-01T02:35:50.918187",
     "status": "completed"
    },
    "tags": []
   },
   "outputs": [
    {
     "name": "stdout",
     "output_type": "stream",
     "text": [
      "[LightGBM] [Info] Auto-choosing row-wise multi-threading, the overhead of testing was 0.003472 seconds.\n",
      "You can set `force_row_wise=true` to remove the overhead.\n",
      "And if memory is not enough, you can set `force_col_wise=true`.\n",
      "[LightGBM] [Info] Total Bins 2043\n",
      "[LightGBM] [Info] Number of data points in the train set: 16606, number of used features: 16\n",
      "[LightGBM] [Info] Start training from score -2.117117\n",
      "[LightGBM] [Info] Start training from score -1.911230\n",
      "[LightGBM] [Info] Start training from score -1.948141\n",
      "[LightGBM] [Info] Start training from score -1.857720\n",
      "[LightGBM] [Info] Start training from score -1.633574\n",
      "[LightGBM] [Info] Start training from score -2.145531\n",
      "[LightGBM] [Info] Start training from score -2.112625\n"
     ]
    },
    {
     "data": {
      "text/html": [
       "<style>#sk-container-id-1 {color: black;background-color: white;}#sk-container-id-1 pre{padding: 0;}#sk-container-id-1 div.sk-toggleable {background-color: white;}#sk-container-id-1 label.sk-toggleable__label {cursor: pointer;display: block;width: 100%;margin-bottom: 0;padding: 0.3em;box-sizing: border-box;text-align: center;}#sk-container-id-1 label.sk-toggleable__label-arrow:before {content: \"▸\";float: left;margin-right: 0.25em;color: #696969;}#sk-container-id-1 label.sk-toggleable__label-arrow:hover:before {color: black;}#sk-container-id-1 div.sk-estimator:hover label.sk-toggleable__label-arrow:before {color: black;}#sk-container-id-1 div.sk-toggleable__content {max-height: 0;max-width: 0;overflow: hidden;text-align: left;background-color: #f0f8ff;}#sk-container-id-1 div.sk-toggleable__content pre {margin: 0.2em;color: black;border-radius: 0.25em;background-color: #f0f8ff;}#sk-container-id-1 input.sk-toggleable__control:checked~div.sk-toggleable__content {max-height: 200px;max-width: 100%;overflow: auto;}#sk-container-id-1 input.sk-toggleable__control:checked~label.sk-toggleable__label-arrow:before {content: \"▾\";}#sk-container-id-1 div.sk-estimator input.sk-toggleable__control:checked~label.sk-toggleable__label {background-color: #d4ebff;}#sk-container-id-1 div.sk-label input.sk-toggleable__control:checked~label.sk-toggleable__label {background-color: #d4ebff;}#sk-container-id-1 input.sk-hidden--visually {border: 0;clip: rect(1px 1px 1px 1px);clip: rect(1px, 1px, 1px, 1px);height: 1px;margin: -1px;overflow: hidden;padding: 0;position: absolute;width: 1px;}#sk-container-id-1 div.sk-estimator {font-family: monospace;background-color: #f0f8ff;border: 1px dotted black;border-radius: 0.25em;box-sizing: border-box;margin-bottom: 0.5em;}#sk-container-id-1 div.sk-estimator:hover {background-color: #d4ebff;}#sk-container-id-1 div.sk-parallel-item::after {content: \"\";width: 100%;border-bottom: 1px solid gray;flex-grow: 1;}#sk-container-id-1 div.sk-label:hover label.sk-toggleable__label {background-color: #d4ebff;}#sk-container-id-1 div.sk-serial::before {content: \"\";position: absolute;border-left: 1px solid gray;box-sizing: border-box;top: 0;bottom: 0;left: 50%;z-index: 0;}#sk-container-id-1 div.sk-serial {display: flex;flex-direction: column;align-items: center;background-color: white;padding-right: 0.2em;padding-left: 0.2em;position: relative;}#sk-container-id-1 div.sk-item {position: relative;z-index: 1;}#sk-container-id-1 div.sk-parallel {display: flex;align-items: stretch;justify-content: center;background-color: white;position: relative;}#sk-container-id-1 div.sk-item::before, #sk-container-id-1 div.sk-parallel-item::before {content: \"\";position: absolute;border-left: 1px solid gray;box-sizing: border-box;top: 0;bottom: 0;left: 50%;z-index: -1;}#sk-container-id-1 div.sk-parallel-item {display: flex;flex-direction: column;z-index: 1;position: relative;background-color: white;}#sk-container-id-1 div.sk-parallel-item:first-child::after {align-self: flex-end;width: 50%;}#sk-container-id-1 div.sk-parallel-item:last-child::after {align-self: flex-start;width: 50%;}#sk-container-id-1 div.sk-parallel-item:only-child::after {width: 0;}#sk-container-id-1 div.sk-dashed-wrapped {border: 1px dashed gray;margin: 0 0.4em 0.5em 0.4em;box-sizing: border-box;padding-bottom: 0.4em;background-color: white;}#sk-container-id-1 div.sk-label label {font-family: monospace;font-weight: bold;display: inline-block;line-height: 1.2em;}#sk-container-id-1 div.sk-label-container {text-align: center;}#sk-container-id-1 div.sk-container {/* jupyter's `normalize.less` sets `[hidden] { display: none; }` but bootstrap.min.css set `[hidden] { display: none !important; }` so we also need the `!important` here to be able to override the default hidden behavior on the sphinx rendered scikit-learn.org. See: https://github.com/scikit-learn/scikit-learn/issues/21755 */display: inline-block !important;position: relative;}#sk-container-id-1 div.sk-text-repr-fallback {display: none;}</style><div id=\"sk-container-id-1\" class=\"sk-top-container\"><div class=\"sk-text-repr-fallback\"><pre>LGBMClassifier(random_state=42)</pre><b>In a Jupyter environment, please rerun this cell to show the HTML representation or trust the notebook. <br />On GitHub, the HTML representation is unable to render, please try loading this page with nbviewer.org.</b></div><div class=\"sk-container\" hidden><div class=\"sk-item\"><div class=\"sk-estimator sk-toggleable\"><input class=\"sk-toggleable__control sk-hidden--visually\" id=\"sk-estimator-id-1\" type=\"checkbox\" checked><label for=\"sk-estimator-id-1\" class=\"sk-toggleable__label sk-toggleable__label-arrow\">LGBMClassifier</label><div class=\"sk-toggleable__content\"><pre>LGBMClassifier(random_state=42)</pre></div></div></div></div></div>"
      ],
      "text/plain": [
       "LGBMClassifier(random_state=42)"
      ]
     },
     "execution_count": 9,
     "metadata": {},
     "output_type": "execute_result"
    }
   ],
   "source": [
    "lgb = LGBMClassifier(random_state=42)\n",
    "lgb.fit(X_train, y_train)"
   ]
  },
  {
   "cell_type": "markdown",
   "id": "b57e8d6f",
   "metadata": {
    "papermill": {
     "duration": 0.01181,
     "end_time": "2024-02-01T02:35:52.492543",
     "exception": false,
     "start_time": "2024-02-01T02:35:52.480733",
     "status": "completed"
    },
    "tags": []
   },
   "source": [
    "### DecisionTreeClassifier"
   ]
  },
  {
   "cell_type": "code",
   "execution_count": 10,
   "id": "e9b47c66",
   "metadata": {
    "execution": {
     "iopub.execute_input": "2024-02-01T02:35:52.518970Z",
     "iopub.status.busy": "2024-02-01T02:35:52.518602Z",
     "iopub.status.idle": "2024-02-01T02:35:52.659520Z",
     "shell.execute_reply": "2024-02-01T02:35:52.658523Z"
    },
    "papermill": {
     "duration": 0.155865,
     "end_time": "2024-02-01T02:35:52.661398",
     "exception": false,
     "start_time": "2024-02-01T02:35:52.505533",
     "status": "completed"
    },
    "tags": []
   },
   "outputs": [
    {
     "data": {
      "text/html": [
       "<style>#sk-container-id-2 {color: black;background-color: white;}#sk-container-id-2 pre{padding: 0;}#sk-container-id-2 div.sk-toggleable {background-color: white;}#sk-container-id-2 label.sk-toggleable__label {cursor: pointer;display: block;width: 100%;margin-bottom: 0;padding: 0.3em;box-sizing: border-box;text-align: center;}#sk-container-id-2 label.sk-toggleable__label-arrow:before {content: \"▸\";float: left;margin-right: 0.25em;color: #696969;}#sk-container-id-2 label.sk-toggleable__label-arrow:hover:before {color: black;}#sk-container-id-2 div.sk-estimator:hover label.sk-toggleable__label-arrow:before {color: black;}#sk-container-id-2 div.sk-toggleable__content {max-height: 0;max-width: 0;overflow: hidden;text-align: left;background-color: #f0f8ff;}#sk-container-id-2 div.sk-toggleable__content pre {margin: 0.2em;color: black;border-radius: 0.25em;background-color: #f0f8ff;}#sk-container-id-2 input.sk-toggleable__control:checked~div.sk-toggleable__content {max-height: 200px;max-width: 100%;overflow: auto;}#sk-container-id-2 input.sk-toggleable__control:checked~label.sk-toggleable__label-arrow:before {content: \"▾\";}#sk-container-id-2 div.sk-estimator input.sk-toggleable__control:checked~label.sk-toggleable__label {background-color: #d4ebff;}#sk-container-id-2 div.sk-label input.sk-toggleable__control:checked~label.sk-toggleable__label {background-color: #d4ebff;}#sk-container-id-2 input.sk-hidden--visually {border: 0;clip: rect(1px 1px 1px 1px);clip: rect(1px, 1px, 1px, 1px);height: 1px;margin: -1px;overflow: hidden;padding: 0;position: absolute;width: 1px;}#sk-container-id-2 div.sk-estimator {font-family: monospace;background-color: #f0f8ff;border: 1px dotted black;border-radius: 0.25em;box-sizing: border-box;margin-bottom: 0.5em;}#sk-container-id-2 div.sk-estimator:hover {background-color: #d4ebff;}#sk-container-id-2 div.sk-parallel-item::after {content: \"\";width: 100%;border-bottom: 1px solid gray;flex-grow: 1;}#sk-container-id-2 div.sk-label:hover label.sk-toggleable__label {background-color: #d4ebff;}#sk-container-id-2 div.sk-serial::before {content: \"\";position: absolute;border-left: 1px solid gray;box-sizing: border-box;top: 0;bottom: 0;left: 50%;z-index: 0;}#sk-container-id-2 div.sk-serial {display: flex;flex-direction: column;align-items: center;background-color: white;padding-right: 0.2em;padding-left: 0.2em;position: relative;}#sk-container-id-2 div.sk-item {position: relative;z-index: 1;}#sk-container-id-2 div.sk-parallel {display: flex;align-items: stretch;justify-content: center;background-color: white;position: relative;}#sk-container-id-2 div.sk-item::before, #sk-container-id-2 div.sk-parallel-item::before {content: \"\";position: absolute;border-left: 1px solid gray;box-sizing: border-box;top: 0;bottom: 0;left: 50%;z-index: -1;}#sk-container-id-2 div.sk-parallel-item {display: flex;flex-direction: column;z-index: 1;position: relative;background-color: white;}#sk-container-id-2 div.sk-parallel-item:first-child::after {align-self: flex-end;width: 50%;}#sk-container-id-2 div.sk-parallel-item:last-child::after {align-self: flex-start;width: 50%;}#sk-container-id-2 div.sk-parallel-item:only-child::after {width: 0;}#sk-container-id-2 div.sk-dashed-wrapped {border: 1px dashed gray;margin: 0 0.4em 0.5em 0.4em;box-sizing: border-box;padding-bottom: 0.4em;background-color: white;}#sk-container-id-2 div.sk-label label {font-family: monospace;font-weight: bold;display: inline-block;line-height: 1.2em;}#sk-container-id-2 div.sk-label-container {text-align: center;}#sk-container-id-2 div.sk-container {/* jupyter's `normalize.less` sets `[hidden] { display: none; }` but bootstrap.min.css set `[hidden] { display: none !important; }` so we also need the `!important` here to be able to override the default hidden behavior on the sphinx rendered scikit-learn.org. See: https://github.com/scikit-learn/scikit-learn/issues/21755 */display: inline-block !important;position: relative;}#sk-container-id-2 div.sk-text-repr-fallback {display: none;}</style><div id=\"sk-container-id-2\" class=\"sk-top-container\"><div class=\"sk-text-repr-fallback\"><pre>DecisionTreeClassifier(random_state=42)</pre><b>In a Jupyter environment, please rerun this cell to show the HTML representation or trust the notebook. <br />On GitHub, the HTML representation is unable to render, please try loading this page with nbviewer.org.</b></div><div class=\"sk-container\" hidden><div class=\"sk-item\"><div class=\"sk-estimator sk-toggleable\"><input class=\"sk-toggleable__control sk-hidden--visually\" id=\"sk-estimator-id-2\" type=\"checkbox\" checked><label for=\"sk-estimator-id-2\" class=\"sk-toggleable__label sk-toggleable__label-arrow\">DecisionTreeClassifier</label><div class=\"sk-toggleable__content\"><pre>DecisionTreeClassifier(random_state=42)</pre></div></div></div></div></div>"
      ],
      "text/plain": [
       "DecisionTreeClassifier(random_state=42)"
      ]
     },
     "execution_count": 10,
     "metadata": {},
     "output_type": "execute_result"
    }
   ],
   "source": [
    "dt = DecisionTreeClassifier(random_state=42)\n",
    "dt.fit(X_train, y_train)"
   ]
  },
  {
   "cell_type": "markdown",
   "id": "5a578f48",
   "metadata": {
    "papermill": {
     "duration": 0.011825,
     "end_time": "2024-02-01T02:35:52.685370",
     "exception": false,
     "start_time": "2024-02-01T02:35:52.673545",
     "status": "completed"
    },
    "tags": []
   },
   "source": [
    "### 分割データの予測"
   ]
  },
  {
   "cell_type": "markdown",
   "id": "e6788765",
   "metadata": {
    "papermill": {
     "duration": 0.011896,
     "end_time": "2024-02-01T02:35:52.709521",
     "exception": false,
     "start_time": "2024-02-01T02:35:52.697625",
     "status": "completed"
    },
    "tags": []
   },
   "source": [
    "### LinearRegression"
   ]
  },
  {
   "cell_type": "code",
   "execution_count": 11,
   "id": "b225bc2c",
   "metadata": {
    "execution": {
     "iopub.execute_input": "2024-02-01T02:35:52.734897Z",
     "iopub.status.busy": "2024-02-01T02:35:52.734600Z",
     "iopub.status.idle": "2024-02-01T02:35:52.738321Z",
     "shell.execute_reply": "2024-02-01T02:35:52.737494Z"
    },
    "papermill": {
     "duration": 0.018732,
     "end_time": "2024-02-01T02:35:52.740234",
     "exception": false,
     "start_time": "2024-02-01T02:35:52.721502",
     "status": "completed"
    },
    "tags": []
   },
   "outputs": [],
   "source": [
    "# lr_train_pred = lr.predict(X_train_scaled)\n",
    "# lr_valid_pred = lr.predict(X_valid_scaled)\n",
    "\n",
    "# print(f\"Train Score: {accuracy_score(y_train, lr_train_pred)}\")\n",
    "# print(f\"Valid Score: {accuracy_score(y_valid, lr_valid_pred)}\")"
   ]
  },
  {
   "cell_type": "markdown",
   "id": "c7d7c3d0",
   "metadata": {
    "papermill": {
     "duration": 0.011889,
     "end_time": "2024-02-01T02:35:52.764175",
     "exception": false,
     "start_time": "2024-02-01T02:35:52.752286",
     "status": "completed"
    },
    "tags": []
   },
   "source": [
    "### Lasso"
   ]
  },
  {
   "cell_type": "code",
   "execution_count": 12,
   "id": "661e4620",
   "metadata": {
    "execution": {
     "iopub.execute_input": "2024-02-01T02:35:52.789355Z",
     "iopub.status.busy": "2024-02-01T02:35:52.789047Z",
     "iopub.status.idle": "2024-02-01T02:35:52.792765Z",
     "shell.execute_reply": "2024-02-01T02:35:52.791916Z"
    },
    "papermill": {
     "duration": 0.018348,
     "end_time": "2024-02-01T02:35:52.794651",
     "exception": false,
     "start_time": "2024-02-01T02:35:52.776303",
     "status": "completed"
    },
    "tags": []
   },
   "outputs": [],
   "source": [
    "# lasso_train_pred = lasso.predict(X_train)\n",
    "# lasso_valid_pred = lasso.predict(X_valid)\n",
    "\n",
    "# print(f\"Train Score: {roc_auc_score(y_train, lasso_train_pred)}\")\n",
    "# print(f\"Valid Score: {roc_auc_score(y_valid, lasso_valid_pred)}\")"
   ]
  },
  {
   "cell_type": "markdown",
   "id": "1f0c4b00",
   "metadata": {
    "papermill": {
     "duration": 0.011764,
     "end_time": "2024-02-01T02:35:52.818526",
     "exception": false,
     "start_time": "2024-02-01T02:35:52.806762",
     "status": "completed"
    },
    "tags": []
   },
   "source": [
    "### Ridge"
   ]
  },
  {
   "cell_type": "code",
   "execution_count": 13,
   "id": "e38018ed",
   "metadata": {
    "execution": {
     "iopub.execute_input": "2024-02-01T02:35:52.843535Z",
     "iopub.status.busy": "2024-02-01T02:35:52.843258Z",
     "iopub.status.idle": "2024-02-01T02:35:52.846934Z",
     "shell.execute_reply": "2024-02-01T02:35:52.846052Z"
    },
    "papermill": {
     "duration": 0.018338,
     "end_time": "2024-02-01T02:35:52.848857",
     "exception": false,
     "start_time": "2024-02-01T02:35:52.830519",
     "status": "completed"
    },
    "tags": []
   },
   "outputs": [],
   "source": [
    "# ridge_train_pred = lasso.predict(X_train_scaled)\n",
    "# ridge_valid_pred = lasso.predict(X_valid_scaled)\n",
    "\n",
    "# print(f\"Train Score: {roc_auc_score(y_train, ridge_train_pred)}\")\n",
    "# print(f\"Valid Score: {roc_auc_score(y_valid, ridge_valid_pred)}\")"
   ]
  },
  {
   "cell_type": "markdown",
   "id": "323f3626",
   "metadata": {
    "papermill": {
     "duration": 0.049794,
     "end_time": "2024-02-01T02:35:52.910914",
     "exception": false,
     "start_time": "2024-02-01T02:35:52.861120",
     "status": "completed"
    },
    "tags": []
   },
   "source": [
    "### LGBMClassifier"
   ]
  },
  {
   "cell_type": "code",
   "execution_count": 14,
   "id": "2cc93da9",
   "metadata": {
    "execution": {
     "iopub.execute_input": "2024-02-01T02:35:52.937585Z",
     "iopub.status.busy": "2024-02-01T02:35:52.937225Z",
     "iopub.status.idle": "2024-02-01T02:35:52.941418Z",
     "shell.execute_reply": "2024-02-01T02:35:52.940399Z"
    },
    "papermill": {
     "duration": 0.019978,
     "end_time": "2024-02-01T02:35:52.943398",
     "exception": false,
     "start_time": "2024-02-01T02:35:52.923420",
     "status": "completed"
    },
    "tags": []
   },
   "outputs": [],
   "source": [
    "# lgb_train_pred = lgb.predict_proba(X_train)[:, 1]\n",
    "# lgb_valid_pred = lgb.predict_proba(X_valid)[:, 1]\n",
    "# print(f\"Train Score: {accuracy_score(y_train, lgb_train_pred)}\")\n",
    "# print(f\"Valid Score: {accuracy_score(y_valid, lgb_valid_pred)}\")"
   ]
  },
  {
   "cell_type": "markdown",
   "id": "e056378e",
   "metadata": {
    "papermill": {
     "duration": 0.012066,
     "end_time": "2024-02-01T02:35:52.968025",
     "exception": false,
     "start_time": "2024-02-01T02:35:52.955959",
     "status": "completed"
    },
    "tags": []
   },
   "source": [
    "### DecisionTreeClassifier"
   ]
  },
  {
   "cell_type": "code",
   "execution_count": 15,
   "id": "e302bc55",
   "metadata": {
    "execution": {
     "iopub.execute_input": "2024-02-01T02:35:52.994483Z",
     "iopub.status.busy": "2024-02-01T02:35:52.993419Z",
     "iopub.status.idle": "2024-02-01T02:35:53.001649Z",
     "shell.execute_reply": "2024-02-01T02:35:53.000688Z"
    },
    "papermill": {
     "duration": 0.023314,
     "end_time": "2024-02-01T02:35:53.003593",
     "exception": false,
     "start_time": "2024-02-01T02:35:52.980279",
     "status": "completed"
    },
    "tags": []
   },
   "outputs": [
    {
     "name": "stdout",
     "output_type": "stream",
     "text": [
      "['Obesity_Type_III' 'Overweight_Level_I' 'Obesity_Type_I' ...\n",
      " 'Obesity_Type_I' 'Overweight_Level_I' 'Overweight_Level_I']\n"
     ]
    }
   ],
   "source": [
    "y_test_pred = dt.predict(X_valid)\n",
    "print(y_test_pred)"
   ]
  },
  {
   "cell_type": "code",
   "execution_count": 16,
   "id": "c56b2488",
   "metadata": {
    "execution": {
     "iopub.execute_input": "2024-02-01T02:35:53.029641Z",
     "iopub.status.busy": "2024-02-01T02:35:53.029371Z",
     "iopub.status.idle": "2024-02-01T02:35:53.041737Z",
     "shell.execute_reply": "2024-02-01T02:35:53.040899Z"
    },
    "papermill": {
     "duration": 0.027885,
     "end_time": "2024-02-01T02:35:53.043587",
     "exception": false,
     "start_time": "2024-02-01T02:35:53.015702",
     "status": "completed"
    },
    "tags": []
   },
   "outputs": [
    {
     "data": {
      "text/html": [
       "<div>\n",
       "<style scoped>\n",
       "    .dataframe tbody tr th:only-of-type {\n",
       "        vertical-align: middle;\n",
       "    }\n",
       "\n",
       "    .dataframe tbody tr th {\n",
       "        vertical-align: top;\n",
       "    }\n",
       "\n",
       "    .dataframe thead th {\n",
       "        text-align: right;\n",
       "    }\n",
       "</style>\n",
       "<table border=\"1\" class=\"dataframe\">\n",
       "  <thead>\n",
       "    <tr style=\"text-align: right;\">\n",
       "      <th></th>\n",
       "      <th>y_valid</th>\n",
       "      <th>y_pred</th>\n",
       "    </tr>\n",
       "  </thead>\n",
       "  <tbody>\n",
       "    <tr>\n",
       "      <th>0</th>\n",
       "      <td>Obesity_Type_III</td>\n",
       "      <td>Obesity_Type_III</td>\n",
       "    </tr>\n",
       "    <tr>\n",
       "      <th>1</th>\n",
       "      <td>Overweight_Level_I</td>\n",
       "      <td>Overweight_Level_I</td>\n",
       "    </tr>\n",
       "    <tr>\n",
       "      <th>2</th>\n",
       "      <td>Obesity_Type_I</td>\n",
       "      <td>Obesity_Type_I</td>\n",
       "    </tr>\n",
       "    <tr>\n",
       "      <th>3</th>\n",
       "      <td>Obesity_Type_II</td>\n",
       "      <td>Obesity_Type_II</td>\n",
       "    </tr>\n",
       "    <tr>\n",
       "      <th>4</th>\n",
       "      <td>Insufficient_Weight</td>\n",
       "      <td>Insufficient_Weight</td>\n",
       "    </tr>\n",
       "  </tbody>\n",
       "</table>\n",
       "</div>"
      ],
      "text/plain": [
       "               y_valid               y_pred\n",
       "0     Obesity_Type_III     Obesity_Type_III\n",
       "1   Overweight_Level_I   Overweight_Level_I\n",
       "2       Obesity_Type_I       Obesity_Type_I\n",
       "3      Obesity_Type_II      Obesity_Type_II\n",
       "4  Insufficient_Weight  Insufficient_Weight"
      ]
     },
     "execution_count": 16,
     "metadata": {},
     "output_type": "execute_result"
    }
   ],
   "source": [
    "results_test = pd.DataFrame({\"y_valid\": y_valid,\n",
    "                           \"y_pred\": y_test_pred})\n",
    "results_test = results_test\n",
    "results_test.head()"
   ]
  },
  {
   "cell_type": "code",
   "execution_count": 17,
   "id": "814a8e45",
   "metadata": {
    "execution": {
     "iopub.execute_input": "2024-02-01T02:35:53.069857Z",
     "iopub.status.busy": "2024-02-01T02:35:53.069588Z",
     "iopub.status.idle": "2024-02-01T02:35:53.104945Z",
     "shell.execute_reply": "2024-02-01T02:35:53.103912Z"
    },
    "papermill": {
     "duration": 0.05084,
     "end_time": "2024-02-01T02:35:53.107114",
     "exception": false,
     "start_time": "2024-02-01T02:35:53.056274",
     "status": "completed"
    },
    "tags": []
   },
   "outputs": [
    {
     "name": "stdout",
     "output_type": "stream",
     "text": [
      "1.0\n"
     ]
    }
   ],
   "source": [
    "print(dt.score(X_train, y_train))"
   ]
  },
  {
   "cell_type": "markdown",
   "id": "3305a40c",
   "metadata": {
    "papermill": {
     "duration": 0.012781,
     "end_time": "2024-02-01T02:35:53.133027",
     "exception": false,
     "start_time": "2024-02-01T02:35:53.120246",
     "status": "completed"
    },
    "tags": []
   },
   "source": [
    "### 特徴重要度を算出する"
   ]
  },
  {
   "cell_type": "code",
   "execution_count": 18,
   "id": "54da635d",
   "metadata": {
    "execution": {
     "iopub.execute_input": "2024-02-01T02:35:53.159544Z",
     "iopub.status.busy": "2024-02-01T02:35:53.159273Z",
     "iopub.status.idle": "2024-02-01T02:35:53.170873Z",
     "shell.execute_reply": "2024-02-01T02:35:53.169661Z"
    },
    "papermill": {
     "duration": 0.027514,
     "end_time": "2024-02-01T02:35:53.173050",
     "exception": false,
     "start_time": "2024-02-01T02:35:53.145536",
     "status": "completed"
    },
    "tags": []
   },
   "outputs": [
    {
     "data": {
      "text/html": [
       "<div>\n",
       "<style scoped>\n",
       "    .dataframe tbody tr th:only-of-type {\n",
       "        vertical-align: middle;\n",
       "    }\n",
       "\n",
       "    .dataframe tbody tr th {\n",
       "        vertical-align: top;\n",
       "    }\n",
       "\n",
       "    .dataframe thead th {\n",
       "        text-align: right;\n",
       "    }\n",
       "</style>\n",
       "<table border=\"1\" class=\"dataframe\">\n",
       "  <thead>\n",
       "    <tr style=\"text-align: right;\">\n",
       "      <th></th>\n",
       "      <th>feature_names</th>\n",
       "      <th>coefficient</th>\n",
       "    </tr>\n",
       "  </thead>\n",
       "  <tbody>\n",
       "    <tr>\n",
       "      <th>0</th>\n",
       "      <td>Gender</td>\n",
       "      <td>0.194412</td>\n",
       "    </tr>\n",
       "    <tr>\n",
       "      <th>1</th>\n",
       "      <td>Age</td>\n",
       "      <td>0.040132</td>\n",
       "    </tr>\n",
       "    <tr>\n",
       "      <th>2</th>\n",
       "      <td>Height</td>\n",
       "      <td>0.142818</td>\n",
       "    </tr>\n",
       "    <tr>\n",
       "      <th>3</th>\n",
       "      <td>Weight</td>\n",
       "      <td>0.481392</td>\n",
       "    </tr>\n",
       "    <tr>\n",
       "      <th>4</th>\n",
       "      <td>family_history_with_overweight</td>\n",
       "      <td>0.006322</td>\n",
       "    </tr>\n",
       "    <tr>\n",
       "      <th>5</th>\n",
       "      <td>FAVC</td>\n",
       "      <td>0.011755</td>\n",
       "    </tr>\n",
       "    <tr>\n",
       "      <th>6</th>\n",
       "      <td>FCVC</td>\n",
       "      <td>0.017445</td>\n",
       "    </tr>\n",
       "    <tr>\n",
       "      <th>7</th>\n",
       "      <td>NCP</td>\n",
       "      <td>0.017399</td>\n",
       "    </tr>\n",
       "    <tr>\n",
       "      <th>8</th>\n",
       "      <td>CAEC</td>\n",
       "      <td>0.010198</td>\n",
       "    </tr>\n",
       "    <tr>\n",
       "      <th>9</th>\n",
       "      <td>SMOKE</td>\n",
       "      <td>0.000732</td>\n",
       "    </tr>\n",
       "    <tr>\n",
       "      <th>10</th>\n",
       "      <td>CH2O</td>\n",
       "      <td>0.018683</td>\n",
       "    </tr>\n",
       "    <tr>\n",
       "      <th>11</th>\n",
       "      <td>SCC</td>\n",
       "      <td>0.002951</td>\n",
       "    </tr>\n",
       "    <tr>\n",
       "      <th>12</th>\n",
       "      <td>FAF</td>\n",
       "      <td>0.020378</td>\n",
       "    </tr>\n",
       "    <tr>\n",
       "      <th>13</th>\n",
       "      <td>TUE</td>\n",
       "      <td>0.015689</td>\n",
       "    </tr>\n",
       "    <tr>\n",
       "      <th>14</th>\n",
       "      <td>CALC</td>\n",
       "      <td>0.013848</td>\n",
       "    </tr>\n",
       "    <tr>\n",
       "      <th>15</th>\n",
       "      <td>MTRANS</td>\n",
       "      <td>0.005846</td>\n",
       "    </tr>\n",
       "  </tbody>\n",
       "</table>\n",
       "</div>"
      ],
      "text/plain": [
       "                     feature_names  coefficient\n",
       "0                           Gender     0.194412\n",
       "1                              Age     0.040132\n",
       "2                           Height     0.142818\n",
       "3                           Weight     0.481392\n",
       "4   family_history_with_overweight     0.006322\n",
       "5                             FAVC     0.011755\n",
       "6                             FCVC     0.017445\n",
       "7                              NCP     0.017399\n",
       "8                             CAEC     0.010198\n",
       "9                            SMOKE     0.000732\n",
       "10                            CH2O     0.018683\n",
       "11                             SCC     0.002951\n",
       "12                             FAF     0.020378\n",
       "13                             TUE     0.015689\n",
       "14                            CALC     0.013848\n",
       "15                          MTRANS     0.005846"
      ]
     },
     "execution_count": 18,
     "metadata": {},
     "output_type": "execute_result"
    }
   ],
   "source": [
    "importance = pd.DataFrame({\"feature_names\": X.columns,\n",
    "                          \"coefficient\": dt.feature_importances_})\n",
    "importance"
   ]
  },
  {
   "cell_type": "code",
   "execution_count": 19,
   "id": "d8cb1ca3",
   "metadata": {
    "execution": {
     "iopub.execute_input": "2024-02-01T02:35:53.199501Z",
     "iopub.status.busy": "2024-02-01T02:35:53.199252Z",
     "iopub.status.idle": "2024-02-01T02:35:53.211110Z",
     "shell.execute_reply": "2024-02-01T02:35:53.210198Z"
    },
    "papermill": {
     "duration": 0.027326,
     "end_time": "2024-02-01T02:35:53.213131",
     "exception": false,
     "start_time": "2024-02-01T02:35:53.185805",
     "status": "completed"
    },
    "tags": []
   },
   "outputs": [
    {
     "data": {
      "text/html": [
       "<div>\n",
       "<style scoped>\n",
       "    .dataframe tbody tr th:only-of-type {\n",
       "        vertical-align: middle;\n",
       "    }\n",
       "\n",
       "    .dataframe tbody tr th {\n",
       "        vertical-align: top;\n",
       "    }\n",
       "\n",
       "    .dataframe thead th {\n",
       "        text-align: right;\n",
       "    }\n",
       "</style>\n",
       "<table border=\"1\" class=\"dataframe\">\n",
       "  <thead>\n",
       "    <tr style=\"text-align: right;\">\n",
       "      <th></th>\n",
       "      <th>importance</th>\n",
       "    </tr>\n",
       "  </thead>\n",
       "  <tbody>\n",
       "    <tr>\n",
       "      <th>SMOKE</th>\n",
       "      <td>54</td>\n",
       "    </tr>\n",
       "    <tr>\n",
       "      <th>SCC</th>\n",
       "      <td>155</td>\n",
       "    </tr>\n",
       "    <tr>\n",
       "      <th>FAVC</th>\n",
       "      <td>295</td>\n",
       "    </tr>\n",
       "    <tr>\n",
       "      <th>family_history_with_overweight</th>\n",
       "      <td>423</td>\n",
       "    </tr>\n",
       "    <tr>\n",
       "      <th>MTRANS</th>\n",
       "      <td>436</td>\n",
       "    </tr>\n",
       "    <tr>\n",
       "      <th>Gender</th>\n",
       "      <td>474</td>\n",
       "    </tr>\n",
       "    <tr>\n",
       "      <th>CAEC</th>\n",
       "      <td>523</td>\n",
       "    </tr>\n",
       "    <tr>\n",
       "      <th>CALC</th>\n",
       "      <td>631</td>\n",
       "    </tr>\n",
       "    <tr>\n",
       "      <th>NCP</th>\n",
       "      <td>1132</td>\n",
       "    </tr>\n",
       "    <tr>\n",
       "      <th>FCVC</th>\n",
       "      <td>1293</td>\n",
       "    </tr>\n",
       "    <tr>\n",
       "      <th>TUE</th>\n",
       "      <td>1401</td>\n",
       "    </tr>\n",
       "    <tr>\n",
       "      <th>CH2O</th>\n",
       "      <td>1533</td>\n",
       "    </tr>\n",
       "    <tr>\n",
       "      <th>FAF</th>\n",
       "      <td>1622</td>\n",
       "    </tr>\n",
       "    <tr>\n",
       "      <th>Age</th>\n",
       "      <td>3081</td>\n",
       "    </tr>\n",
       "    <tr>\n",
       "      <th>Height</th>\n",
       "      <td>3497</td>\n",
       "    </tr>\n",
       "    <tr>\n",
       "      <th>Weight</th>\n",
       "      <td>4450</td>\n",
       "    </tr>\n",
       "  </tbody>\n",
       "</table>\n",
       "</div>"
      ],
      "text/plain": [
       "                                importance\n",
       "SMOKE                                   54\n",
       "SCC                                    155\n",
       "FAVC                                   295\n",
       "family_history_with_overweight         423\n",
       "MTRANS                                 436\n",
       "Gender                                 474\n",
       "CAEC                                   523\n",
       "CALC                                   631\n",
       "NCP                                   1132\n",
       "FCVC                                  1293\n",
       "TUE                                   1401\n",
       "CH2O                                  1533\n",
       "FAF                                   1622\n",
       "Age                                   3081\n",
       "Height                                3497\n",
       "Weight                                4450"
      ]
     },
     "execution_count": 19,
     "metadata": {},
     "output_type": "execute_result"
    }
   ],
   "source": [
    "importance = lgb.feature_importances_\n",
    "\n",
    "feature_importance = pd.DataFrame(data=importance, index=X.columns, columns=['importance']) \\\n",
    "    .sort_values(ascending=True, by='importance')\n",
    "\n",
    "feature_importance"
   ]
  },
  {
   "cell_type": "code",
   "execution_count": 20,
   "id": "5c7bbbbd",
   "metadata": {
    "execution": {
     "iopub.execute_input": "2024-02-01T02:35:53.242108Z",
     "iopub.status.busy": "2024-02-01T02:35:53.241604Z",
     "iopub.status.idle": "2024-02-01T02:35:53.622606Z",
     "shell.execute_reply": "2024-02-01T02:35:53.621741Z"
    },
    "papermill": {
     "duration": 0.397306,
     "end_time": "2024-02-01T02:35:53.624811",
     "exception": false,
     "start_time": "2024-02-01T02:35:53.227505",
     "status": "completed"
    },
    "tags": []
   },
   "outputs": [
    {
     "data": {
      "text/plain": [
       "<Axes: >"
      ]
     },
     "execution_count": 20,
     "metadata": {},
     "output_type": "execute_result"
    },
    {
     "data": {
      "image/png": "[encoded data removed]",
      "text/plain": [
       "<Figure size 1000x1500 with 1 Axes>"
      ]
     },
     "metadata": {},
     "output_type": "display_data"
    }
   ],
   "source": [
    "feature_importance.plot(kind='barh', figsize=(10, 15), color='b')"
   ]
  },
  {
   "cell_type": "markdown",
   "id": "fd990ea8",
   "metadata": {
    "papermill": {
     "duration": 0.013792,
     "end_time": "2024-02-01T02:35:53.652590",
     "exception": false,
     "start_time": "2024-02-01T02:35:53.638798",
     "status": "completed"
    },
    "tags": []
   },
   "source": [
    "## モデルファイルと評価結果を出力する（ファイルの出力あり）"
   ]
  },
  {
   "cell_type": "code",
   "execution_count": 21,
   "id": "91a8a70b",
   "metadata": {
    "execution": {
     "iopub.execute_input": "2024-02-01T02:35:53.681752Z",
     "iopub.status.busy": "2024-02-01T02:35:53.681471Z",
     "iopub.status.idle": "2024-02-01T02:35:53.692931Z",
     "shell.execute_reply": "2024-02-01T02:35:53.692178Z"
    },
    "papermill": {
     "duration": 0.028498,
     "end_time": "2024-02-01T02:35:53.694784",
     "exception": false,
     "start_time": "2024-02-01T02:35:53.666286",
     "status": "completed"
    },
    "tags": []
   },
   "outputs": [],
   "source": [
    "def make_model_and_eval(model, X_train, X_test, y_train, y_test):\n",
    "    model.fit(X_train, y_train)\n",
    "    y_pred_train = model.predict(X_train)\n",
    "    y_pred_test = model.predict(X_test)\n",
    "    \n",
    "    # accuracy\n",
    "    acc_train = accuracy_score(y_train, y_pred_train)\n",
    "    acc_test = accuracy_score(y_test, y_pred_test)\n",
    "    # F1_score\n",
    "    f1_train = f1_score(y_train, y_pred_train, average='macro')\n",
    "    f1_test = f1_score(y_test, y_pred_test, average='macro')\n",
    "    # recall\n",
    "    recall_train = recall_score(y_train, y_pred_train, average='macro')\n",
    "    recall_test = recall_score(y_test, y_pred_test, average='macro')\n",
    "    # precision\n",
    "    precision_train = precision_score(y_train, y_pred_train, average='macro')\n",
    "    precision_test = precision_score(y_test, y_pred_test, average='macro')\n",
    "    # AUC\n",
    "#     auc_train = roc_auc_score(y_train, y_pred_train)\n",
    "#     auc_test = roc_auc_score(y_test, y_pred_test)\n",
    "    # MAE\n",
    "#     mae_train = mean_absolute_error(y_train, y_pred_train)\n",
    "#     mae_test = mean_absolute_error(y_test, y_pred_test)\n",
    "    # MSE\n",
    "#     mse_train = mean_squared_error(y_train, y_pred_train)\n",
    "#     mse_test = mean_squared_error(y_test, y_pred_test)\n",
    "    # RMSE\n",
    "#     rmse_train = np.sqrt(mse_train)\n",
    "#     rmse_test = np.sqrt(mse_test)\n",
    "    # r2_score\n",
    "#     r2_train = r2_score(y_train, y_pred_train)\n",
    "#     r2_test = r2_score(y_test, y_pred_test)\n",
    "\n",
    "#     tn_train, fp_train, fn_train, tp_train = confusion_matrix(y_train, y_pred_train).ravel()\n",
    "#     tn_test, fp_test, fn_test, tp_test = confusion_matrix(y_test, y_pred_test).ravel()\n",
    "    score_train = pd.DataFrame({'DataCategory':['Train'],\n",
    "#                                'auc':[auc_train],\n",
    "                               'accuracy':[acc_train],\n",
    "                               'f1':[f1_train],\n",
    "                               'recall':[recall_train],\n",
    "                               'precision':[precision_train],\n",
    "#                                'MAE':[mae_train],\n",
    "#                                'MSE':[mse_train],\n",
    "#                                'RMSE':[rmse_train],\n",
    "#                                'r2':[r2_train],\n",
    "#                                'tp':[tp_train],\n",
    "#                                'fn':[fn_train],\n",
    "#                                'fp':[fp_train],\n",
    "#                                'tn':[tn_train]\n",
    "                               })\n",
    "    score_test = pd.DataFrame({'DataCategory':['Valid'],\n",
    "#                               'auc':[auc_test],\n",
    "                              'accuracy':[acc_test],\n",
    "                              'f1':[f1_test],\n",
    "                              'recall':[recall_test],\n",
    "                              'precision':[precision_test],\n",
    "#                               'MAE':[mae_test],\n",
    "#                               'MSE':[mse_test],\n",
    "#                               'RMSE':[rmse_train],\n",
    "#                               'r2':[r2_train],\n",
    "#                               'tp':[tp_test],\n",
    "#                               'fn':[fn_test],\n",
    "#                               'fp':[fp_test],\n",
    "#                               'tn':[tn_test]\n",
    "                              })\n",
    "    score = pd.concat([score_train, score_test], ignore_index=True)\n",
    "    \n",
    "    importance = pd.DataFrame({'cols': X_train.columns,\n",
    "                              'importance': model.feature_importances_})\n",
    "    importance = importance.sort_values('importance', ascending=False)\n",
    "    cols = pd.DataFrame({'X_cols': X_train.columns})\n",
    "    display(score)\n",
    "    \n",
    "    return score, importance, model, cols"
   ]
  },
  {
   "cell_type": "code",
   "execution_count": 22,
   "id": "264fe596",
   "metadata": {
    "execution": {
     "iopub.execute_input": "2024-02-01T02:35:53.723784Z",
     "iopub.status.busy": "2024-02-01T02:35:53.723512Z",
     "iopub.status.idle": "2024-02-01T02:36:19.424100Z",
     "shell.execute_reply": "2024-02-01T02:36:19.423133Z"
    },
    "papermill": {
     "duration": 25.718019,
     "end_time": "2024-02-01T02:36:19.426509",
     "exception": false,
     "start_time": "2024-02-01T02:35:53.708490",
     "status": "completed"
    },
    "tags": []
   },
   "outputs": [
    {
     "name": "stdout",
     "output_type": "stream",
     "text": [
      "results_2024020102\n",
      "DecisionTreeClassifier\n"
     ]
    },
    {
     "data": {
      "text/html": [
       "<div>\n",
       "<style scoped>\n",
       "    .dataframe tbody tr th:only-of-type {\n",
       "        vertical-align: middle;\n",
       "    }\n",
       "\n",
       "    .dataframe tbody tr th {\n",
       "        vertical-align: top;\n",
       "    }\n",
       "\n",
       "    .dataframe thead th {\n",
       "        text-align: right;\n",
       "    }\n",
       "</style>\n",
       "<table border=\"1\" class=\"dataframe\">\n",
       "  <thead>\n",
       "    <tr style=\"text-align: right;\">\n",
       "      <th></th>\n",
       "      <th>DataCategory</th>\n",
       "      <th>accuracy</th>\n",
       "      <th>f1</th>\n",
       "      <th>recall</th>\n",
       "      <th>precision</th>\n",
       "    </tr>\n",
       "  </thead>\n",
       "  <tbody>\n",
       "    <tr>\n",
       "      <th>0</th>\n",
       "      <td>Train</td>\n",
       "      <td>1.000000</td>\n",
       "      <td>1.000000</td>\n",
       "      <td>1.000000</td>\n",
       "      <td>1.000000</td>\n",
       "    </tr>\n",
       "    <tr>\n",
       "      <th>1</th>\n",
       "      <td>Valid</td>\n",
       "      <td>0.847303</td>\n",
       "      <td>0.831943</td>\n",
       "      <td>0.831859</td>\n",
       "      <td>0.832185</td>\n",
       "    </tr>\n",
       "  </tbody>\n",
       "</table>\n",
       "</div>"
      ],
      "text/plain": [
       "  DataCategory  accuracy        f1    recall  precision\n",
       "0        Train  1.000000  1.000000  1.000000   1.000000\n",
       "1        Valid  0.847303  0.831943  0.831859   0.832185"
      ]
     },
     "metadata": {},
     "output_type": "display_data"
    },
    {
     "name": "stdout",
     "output_type": "stream",
     "text": [
      "RandomForest\n"
     ]
    },
    {
     "data": {
      "text/html": [
       "<div>\n",
       "<style scoped>\n",
       "    .dataframe tbody tr th:only-of-type {\n",
       "        vertical-align: middle;\n",
       "    }\n",
       "\n",
       "    .dataframe tbody tr th {\n",
       "        vertical-align: top;\n",
       "    }\n",
       "\n",
       "    .dataframe thead th {\n",
       "        text-align: right;\n",
       "    }\n",
       "</style>\n",
       "<table border=\"1\" class=\"dataframe\">\n",
       "  <thead>\n",
       "    <tr style=\"text-align: right;\">\n",
       "      <th></th>\n",
       "      <th>DataCategory</th>\n",
       "      <th>accuracy</th>\n",
       "      <th>f1</th>\n",
       "      <th>recall</th>\n",
       "      <th>precision</th>\n",
       "    </tr>\n",
       "  </thead>\n",
       "  <tbody>\n",
       "    <tr>\n",
       "      <th>0</th>\n",
       "      <td>Train</td>\n",
       "      <td>1.000000</td>\n",
       "      <td>1.000000</td>\n",
       "      <td>1.000000</td>\n",
       "      <td>1.000000</td>\n",
       "    </tr>\n",
       "    <tr>\n",
       "      <th>1</th>\n",
       "      <td>Valid</td>\n",
       "      <td>0.893064</td>\n",
       "      <td>0.881411</td>\n",
       "      <td>0.880445</td>\n",
       "      <td>0.882909</td>\n",
       "    </tr>\n",
       "  </tbody>\n",
       "</table>\n",
       "</div>"
      ],
      "text/plain": [
       "  DataCategory  accuracy        f1    recall  precision\n",
       "0        Train  1.000000  1.000000  1.000000   1.000000\n",
       "1        Valid  0.893064  0.881411  0.880445   0.882909"
      ]
     },
     "metadata": {},
     "output_type": "display_data"
    },
    {
     "name": "stdout",
     "output_type": "stream",
     "text": [
      "GradientBoostingClassifier\n"
     ]
    },
    {
     "data": {
      "text/html": [
       "<div>\n",
       "<style scoped>\n",
       "    .dataframe tbody tr th:only-of-type {\n",
       "        vertical-align: middle;\n",
       "    }\n",
       "\n",
       "    .dataframe tbody tr th {\n",
       "        vertical-align: top;\n",
       "    }\n",
       "\n",
       "    .dataframe thead th {\n",
       "        text-align: right;\n",
       "    }\n",
       "</style>\n",
       "<table border=\"1\" class=\"dataframe\">\n",
       "  <thead>\n",
       "    <tr style=\"text-align: right;\">\n",
       "      <th></th>\n",
       "      <th>DataCategory</th>\n",
       "      <th>accuracy</th>\n",
       "      <th>f1</th>\n",
       "      <th>recall</th>\n",
       "      <th>precision</th>\n",
       "    </tr>\n",
       "  </thead>\n",
       "  <tbody>\n",
       "    <tr>\n",
       "      <th>0</th>\n",
       "      <td>Train</td>\n",
       "      <td>0.920330</td>\n",
       "      <td>0.911652</td>\n",
       "      <td>0.911558</td>\n",
       "      <td>0.911907</td>\n",
       "    </tr>\n",
       "    <tr>\n",
       "      <th>1</th>\n",
       "      <td>Valid</td>\n",
       "      <td>0.900771</td>\n",
       "      <td>0.890185</td>\n",
       "      <td>0.889953</td>\n",
       "      <td>0.890471</td>\n",
       "    </tr>\n",
       "  </tbody>\n",
       "</table>\n",
       "</div>"
      ],
      "text/plain": [
       "  DataCategory  accuracy        f1    recall  precision\n",
       "0        Train  0.920330  0.911652  0.911558   0.911907\n",
       "1        Valid  0.900771  0.890185  0.889953   0.890471"
      ]
     },
     "metadata": {},
     "output_type": "display_data"
    },
    {
     "name": "stdout",
     "output_type": "stream",
     "text": [
      "lightgbm\n",
      "[LightGBM] [Info] Auto-choosing row-wise multi-threading, the overhead of testing was 0.001753 seconds.\n",
      "You can set `force_row_wise=true` to remove the overhead.\n",
      "And if memory is not enough, you can set `force_col_wise=true`.\n",
      "[LightGBM] [Info] Total Bins 2043\n",
      "[LightGBM] [Info] Number of data points in the train set: 16606, number of used features: 16\n",
      "[LightGBM] [Info] Start training from score -2.117117\n",
      "[LightGBM] [Info] Start training from score -1.911230\n",
      "[LightGBM] [Info] Start training from score -1.948141\n",
      "[LightGBM] [Info] Start training from score -1.857720\n",
      "[LightGBM] [Info] Start training from score -1.633574\n",
      "[LightGBM] [Info] Start training from score -2.145531\n",
      "[LightGBM] [Info] Start training from score -2.112625\n"
     ]
    },
    {
     "data": {
      "text/html": [
       "<div>\n",
       "<style scoped>\n",
       "    .dataframe tbody tr th:only-of-type {\n",
       "        vertical-align: middle;\n",
       "    }\n",
       "\n",
       "    .dataframe tbody tr th {\n",
       "        vertical-align: top;\n",
       "    }\n",
       "\n",
       "    .dataframe thead th {\n",
       "        text-align: right;\n",
       "    }\n",
       "</style>\n",
       "<table border=\"1\" class=\"dataframe\">\n",
       "  <thead>\n",
       "    <tr style=\"text-align: right;\">\n",
       "      <th></th>\n",
       "      <th>DataCategory</th>\n",
       "      <th>accuracy</th>\n",
       "      <th>f1</th>\n",
       "      <th>recall</th>\n",
       "      <th>precision</th>\n",
       "    </tr>\n",
       "  </thead>\n",
       "  <tbody>\n",
       "    <tr>\n",
       "      <th>0</th>\n",
       "      <td>Train</td>\n",
       "      <td>0.979766</td>\n",
       "      <td>0.977217</td>\n",
       "      <td>0.977060</td>\n",
       "      <td>0.977446</td>\n",
       "    </tr>\n",
       "    <tr>\n",
       "      <th>1</th>\n",
       "      <td>Valid</td>\n",
       "      <td>0.903420</td>\n",
       "      <td>0.893093</td>\n",
       "      <td>0.892806</td>\n",
       "      <td>0.893439</td>\n",
       "    </tr>\n",
       "  </tbody>\n",
       "</table>\n",
       "</div>"
      ],
      "text/plain": [
       "  DataCategory  accuracy        f1    recall  precision\n",
       "0        Train  0.979766  0.977217  0.977060   0.977446\n",
       "1        Valid  0.903420  0.893093  0.892806   0.893439"
      ]
     },
     "metadata": {},
     "output_type": "display_data"
    }
   ],
   "source": [
    "now = datetime.datetime.now().strftime(\"%Y%m%d%H\")\n",
    "target_output_dir = 'results_' + now\n",
    "\n",
    "os.makedirs(target_output_dir, exist_ok=True)\n",
    "print(target_output_dir)\n",
    "\n",
    "\n",
    "\n",
    "models = {'DecisionTreeClassifier': DecisionTreeClassifier(random_state=42), \n",
    "          'RandomForest':RandomForestClassifier(random_state=42),\n",
    "          'GradientBoostingClassifier':GradientBoostingClassifier(random_state=42),\n",
    "          'lightgbm': LGBMClassifier(random_state=42),\n",
    "#           'xgboost': XGBClassifier(random_state=42)\n",
    "         }\n",
    "\n",
    "score_all = []\n",
    "importance_all = []\n",
    "for model_name, model in models.items():\n",
    "    print(model_name)\n",
    "    score, importance, model, cols = make_model_and_eval(model, X_train, X_valid, y_train, y_valid)\n",
    "    score['model_name'] = model_name\n",
    "    importance['model_name'] = model_name\n",
    "    \n",
    "    model_names = f'model_{model_name}.pickle'\n",
    "    model_path = os.path.join(target_output_dir, model_names)\n",
    "    with open(model_path, mode='wb') as f:\n",
    "        pickle.dump(model, f, protocol=2)\n",
    "    score_all.append(score)\n",
    "    importance_all.append(importance)\n",
    "score_all = pd.concat(score_all, ignore_index=True)\n",
    "importance_all = pd.concat(importance_all, ignore_index=True)\n",
    "cols = pd.DataFrame({'X_cols':X_train.columns})\n",
    "\n",
    "score_name = 'score.csv'\n",
    "importance_name = 'importance.csv'\n",
    "cols_name = 'X_cols.csv'\n",
    "\n",
    "score_path = os.path.join(target_output_dir, score_name)\n",
    "importance_path = os.path.join(target_output_dir, importance_name)\n",
    "cols_path = os.path.join(target_output_dir, cols_name)\n",
    "\n",
    "score_all.to_csv(score_path, index=False)\n",
    "importance_all.to_csv(importance_path, index=False)\n",
    "cols.to_csv(cols_path, index=False)"
   ]
  },
  {
   "cell_type": "markdown",
   "id": "fd770c46",
   "metadata": {
    "papermill": {
     "duration": 0.015686,
     "end_time": "2024-02-01T02:36:19.458196",
     "exception": false,
     "start_time": "2024-02-01T02:36:19.442510",
     "status": "completed"
    },
    "tags": []
   },
   "source": [
    "#### pickleファイルのインポート"
   ]
  },
  {
   "cell_type": "code",
   "execution_count": 23,
   "id": "b155dd79",
   "metadata": {
    "execution": {
     "iopub.execute_input": "2024-02-01T02:36:19.489242Z",
     "iopub.status.busy": "2024-02-01T02:36:19.488919Z",
     "iopub.status.idle": "2024-02-01T02:36:19.505188Z",
     "shell.execute_reply": "2024-02-01T02:36:19.504006Z"
    },
    "papermill": {
     "duration": 0.033859,
     "end_time": "2024-02-01T02:36:19.507173",
     "exception": false,
     "start_time": "2024-02-01T02:36:19.473314",
     "status": "completed"
    },
    "tags": []
   },
   "outputs": [
    {
     "name": "stdout",
     "output_type": "stream",
     "text": [
      "LGBMClassifier(random_state=42)\n"
     ]
    }
   ],
   "source": [
    "import pickle\n",
    "\n",
    "model_name = 'model_lightgbm.pickle'\n",
    "\n",
    "model_path = os.path.join(target_output_dir, model_name)\n",
    "\n",
    "with open(model_path, mode='rb') as f:\n",
    "    model = pickle.load(f)\n",
    "    \n",
    "print(model)"
   ]
  },
  {
   "cell_type": "markdown",
   "id": "37cc3953",
   "metadata": {
    "papermill": {
     "duration": 0.014632,
     "end_time": "2024-02-01T02:36:19.536451",
     "exception": false,
     "start_time": "2024-02-01T02:36:19.521819",
     "status": "completed"
    },
    "tags": []
   },
   "source": [
    "## モデルの予測"
   ]
  },
  {
   "cell_type": "code",
   "execution_count": 24,
   "id": "a485a91e",
   "metadata": {
    "execution": {
     "iopub.execute_input": "2024-02-01T02:36:19.567228Z",
     "iopub.status.busy": "2024-02-01T02:36:19.566932Z",
     "iopub.status.idle": "2024-02-01T02:36:19.938635Z",
     "shell.execute_reply": "2024-02-01T02:36:19.937799Z"
    },
    "papermill": {
     "duration": 0.389932,
     "end_time": "2024-02-01T02:36:19.941058",
     "exception": false,
     "start_time": "2024-02-01T02:36:19.551126",
     "status": "completed"
    },
    "tags": []
   },
   "outputs": [],
   "source": [
    "target_col = 'NObeyesdad'\n",
    "sample_sub[target_col] = model.predict(test)"
   ]
  },
  {
   "cell_type": "markdown",
   "id": "3f355ac5",
   "metadata": {
    "papermill": {
     "duration": 0.014685,
     "end_time": "2024-02-01T02:36:19.972818",
     "exception": false,
     "start_time": "2024-02-01T02:36:19.958133",
     "status": "completed"
    },
    "tags": []
   },
   "source": [
    "# 提出"
   ]
  },
  {
   "cell_type": "code",
   "execution_count": 25,
   "id": "947fa0b8",
   "metadata": {
    "execution": {
     "iopub.execute_input": "2024-02-01T02:36:20.004862Z",
     "iopub.status.busy": "2024-02-01T02:36:20.004542Z",
     "iopub.status.idle": "2024-02-01T02:36:20.034149Z",
     "shell.execute_reply": "2024-02-01T02:36:20.033282Z"
    },
    "papermill": {
     "duration": 0.047852,
     "end_time": "2024-02-01T02:36:20.036011",
     "exception": false,
     "start_time": "2024-02-01T02:36:19.988159",
     "status": "completed"
    },
    "tags": []
   },
   "outputs": [],
   "source": [
    "sample_sub.to_csv('submission.csv', index=False)"
   ]
  },
  {
   "cell_type": "code",
   "execution_count": 26,
   "id": "095cf398",
   "metadata": {
    "execution": {
     "iopub.execute_input": "2024-02-01T02:36:20.066937Z",
     "iopub.status.busy": "2024-02-01T02:36:20.066644Z",
     "iopub.status.idle": "2024-02-01T02:36:20.075240Z",
     "shell.execute_reply": "2024-02-01T02:36:20.074382Z"
    },
    "papermill": {
     "duration": 0.026542,
     "end_time": "2024-02-01T02:36:20.077384",
     "exception": false,
     "start_time": "2024-02-01T02:36:20.050842",
     "status": "completed"
    },
    "tags": []
   },
   "outputs": [
    {
     "data": {
      "text/html": [
       "<div>\n",
       "<style scoped>\n",
       "    .dataframe tbody tr th:only-of-type {\n",
       "        vertical-align: middle;\n",
       "    }\n",
       "\n",
       "    .dataframe tbody tr th {\n",
       "        vertical-align: top;\n",
       "    }\n",
       "\n",
       "    .dataframe thead th {\n",
       "        text-align: right;\n",
       "    }\n",
       "</style>\n",
       "<table border=\"1\" class=\"dataframe\">\n",
       "  <thead>\n",
       "    <tr style=\"text-align: right;\">\n",
       "      <th></th>\n",
       "      <th>id</th>\n",
       "      <th>NObeyesdad</th>\n",
       "    </tr>\n",
       "  </thead>\n",
       "  <tbody>\n",
       "    <tr>\n",
       "      <th>0</th>\n",
       "      <td>20758</td>\n",
       "      <td>Obesity_Type_II</td>\n",
       "    </tr>\n",
       "    <tr>\n",
       "      <th>1</th>\n",
       "      <td>20759</td>\n",
       "      <td>Overweight_Level_I</td>\n",
       "    </tr>\n",
       "    <tr>\n",
       "      <th>2</th>\n",
       "      <td>20760</td>\n",
       "      <td>Obesity_Type_III</td>\n",
       "    </tr>\n",
       "    <tr>\n",
       "      <th>3</th>\n",
       "      <td>20761</td>\n",
       "      <td>Obesity_Type_I</td>\n",
       "    </tr>\n",
       "    <tr>\n",
       "      <th>4</th>\n",
       "      <td>20762</td>\n",
       "      <td>Obesity_Type_III</td>\n",
       "    </tr>\n",
       "  </tbody>\n",
       "</table>\n",
       "</div>"
      ],
      "text/plain": [
       "      id          NObeyesdad\n",
       "0  20758     Obesity_Type_II\n",
       "1  20759  Overweight_Level_I\n",
       "2  20760    Obesity_Type_III\n",
       "3  20761      Obesity_Type_I\n",
       "4  20762    Obesity_Type_III"
      ]
     },
     "execution_count": 26,
     "metadata": {},
     "output_type": "execute_result"
    }
   ],
   "source": [
    "sample_sub.head()"
   ]
  },
  {
   "cell_type": "code",
   "execution_count": 27,
   "id": "5cd7d241",
   "metadata": {
    "execution": {
     "iopub.execute_input": "2024-02-01T02:36:20.109634Z",
     "iopub.status.busy": "2024-02-01T02:36:20.109370Z",
     "iopub.status.idle": "2024-02-01T02:36:20.120097Z",
     "shell.execute_reply": "2024-02-01T02:36:20.119318Z"
    },
    "papermill": {
     "duration": 0.028517,
     "end_time": "2024-02-01T02:36:20.121952",
     "exception": false,
     "start_time": "2024-02-01T02:36:20.093435",
     "status": "completed"
    },
    "tags": []
   },
   "outputs": [
    {
     "data": {
      "text/plain": [
       "NObeyesdad\n",
       "Obesity_Type_III       4046\n",
       "Obesity_Type_II        3248\n",
       "Normal_Weight          3082\n",
       "Obesity_Type_I         2910\n",
       "Insufficient_Weight    2523\n",
       "Overweight_Level_II    2522\n",
       "Overweight_Level_I     2427\n",
       "Name: count, dtype: int64"
      ]
     },
     "execution_count": 27,
     "metadata": {},
     "output_type": "execute_result"
    }
   ],
   "source": [
    "train[target_col].value_counts()"
   ]
  },
  {
   "cell_type": "code",
   "execution_count": null,
   "id": "d7550c6e",
   "metadata": {
    "papermill": {
     "duration": 0.014847,
     "end_time": "2024-02-01T02:36:20.151816",
     "exception": false,
     "start_time": "2024-02-01T02:36:20.136969",
     "status": "completed"
    },
    "tags": []
   },
   "outputs": [],
   "source": []
  }
 ],
 "metadata": {
  "kaggle": {
   "accelerator": "nvidiaTeslaT4",
   "dataSources": [
    {
     "databundleVersionId": 7609535,
     "sourceId": 68479,
     "sourceType": "competition"
    },
    {
     "datasetId": 4383550,
     "sourceId": 7526160,
     "sourceType": "datasetVersion"
    }
   ],
   "dockerImageVersionId": 30648,
   "isGpuEnabled": true,
   "isInternetEnabled": true,
   "language": "python",
   "sourceType": "notebook"
  },
  "kernelspec": {
   "display_name": "Python 3",
   "language": "python",
   "name": "python3"
  },
  "language_info": {
   "codemirror_mode": {
    "name": "ipython",
    "version": 3
   },
   "file_extension": ".py",
   "mimetype": "text/x-python",
   "name": "python",
   "nbconvert_exporter": "python",
   "pygments_lexer": "ipython3",
   "version": "3.10.13"
  },
  "papermill": {
   "default_parameters": {},
   "duration": 40.493659,
   "end_time": "2024-02-01T02:36:20.886944",
   "environment_variables": {},
   "exception": null,
   "input_path": "__notebook__.ipynb",
   "output_path": "__notebook__.ipynb",
   "parameters": {},
   "start_time": "2024-02-01T02:35:40.393285",
   "version": "2.4.0"
  }
 },
 "nbformat": 4,
 "nbformat_minor": 5
}

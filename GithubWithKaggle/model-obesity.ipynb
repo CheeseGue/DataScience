{
 "cells": [
  {
   "cell_type": "code",
   "execution_count": 1,
   "id": "7e5ad958",
   "metadata": {
    "_cell_guid": "b1076dfc-b9ad-4769-8c92-a6c4dae69d19",
    "_uuid": "8f2839f25d086af736a60e9eeb907d3b93b6e0e5",
    "execution": {
     "iopub.execute_input": "2024-02-01T02:16:13.483230Z",
     "iopub.status.busy": "2024-02-01T02:16:13.482908Z",
     "iopub.status.idle": "2024-02-01T02:16:14.342542Z",
     "shell.execute_reply": "2024-02-01T02:16:14.341640Z"
    },
    "papermill": {
     "duration": 0.875827,
     "end_time": "2024-02-01T02:16:14.344731",
     "exception": false,
     "start_time": "2024-02-01T02:16:13.468904",
     "status": "completed"
    },
    "tags": []
   },
   "outputs": [
    {
     "name": "stdout",
     "output_type": "stream",
     "text": [
      "/kaggle/input/playground-series-s4e2/sample_submission.csv\n",
      "/kaggle/input/playground-series-s4e2/train.csv\n",
      "/kaggle/input/playground-series-s4e2/test.csv\n",
      "/kaggle/input/my-multi-class-prediction-of-obesity-risk/data.csv\n"
     ]
    }
   ],
   "source": [
    "# This Python 3 environment comes with many helpful analytics libraries installed\n",
    "# It is defined by the kaggle/python Docker image: https://github.com/kaggle/docker-python\n",
    "# For example, here's several helpful packages to load\n",
    "\n",
    "import numpy as np # linear algebra\n",
    "import pandas as pd # data processing, CSV file I/O (e.g. pd.read_csv)\n",
    "\n",
    "# Input data files are available in the read-only \"../input/\" directory\n",
    "# For example, running this (by clicking run or pressing Shift+Enter) will list all files under the input directory\n",
    "\n",
    "import os\n",
    "for dirname, _, filenames in os.walk('/kaggle/input'):\n",
    "    for filename in filenames:\n",
    "        print(os.path.join(dirname, filename))\n",
    "\n",
    "# You can write up to 20GB to the current directory (/kaggle/working/) that gets preserved as output when you create a version using \"Save & Run All\" \n",
    "# You can also write temporary files to /kaggle/temp/, but they won't be saved outside of the current session"
   ]
  },
  {
   "cell_type": "markdown",
   "id": "4410ca4f",
   "metadata": {
    "papermill": {
     "duration": 0.011165,
     "end_time": "2024-02-01T02:16:14.367437",
     "exception": false,
     "start_time": "2024-02-01T02:16:14.356272",
     "status": "completed"
    },
    "tags": []
   },
   "source": [
    "# **銀行解約データセットを使用した二項分類**\n",
    "Binary Classification with a Bank Churn Dataset(https://www.kaggle.com/competitions/playground-series-s4e1/code?competitionId=65711&sortBy=voteCount)"
   ]
  },
  {
   "cell_type": "markdown",
   "id": "eff2571a",
   "metadata": {
    "papermill": {
     "duration": 0.010778,
     "end_time": "2024-02-01T02:16:14.389290",
     "exception": false,
     "start_time": "2024-02-01T02:16:14.378512",
     "status": "completed"
    },
    "tags": []
   },
   "source": [
    "# 参考資料\n",
    "**書籍**\n",
    "- Python実践データ分析100本ノック\n",
    "- Python実践AIモデル構築 100本ノック\n",
    "- Python実践機械学習システム 100本ノック\n",
    "\n",
    "\n",
    "**Kaggle**\n",
    "- [[PlayGround S4E1] 📊 EDA + 🤖 Modeling [XGBoost]](https://www.kaggle.com/code/akhiljethwa/playground-s4e1-eda-modeling-xgboost)\n",
    "- [🏛️Binary Classification💸 | Bank Churn💰| EDA📈](https://www.kaggle.com/code/tarundirector/binary-classification-bank-churn-eda)\n",
    "\n",
    "\n",
    "**自分で作成したファイル**\n",
    "- 肝硬変の転帰の多クラス予測\n",
    "\n",
    "**その他**\n"
   ]
  },
  {
   "cell_type": "code",
   "execution_count": 2,
   "id": "4ba64f77",
   "metadata": {
    "execution": {
     "iopub.execute_input": "2024-02-01T02:16:14.413499Z",
     "iopub.status.busy": "2024-02-01T02:16:14.413118Z",
     "iopub.status.idle": "2024-02-01T02:16:14.552125Z",
     "shell.execute_reply": "2024-02-01T02:16:14.551081Z"
    },
    "papermill": {
     "duration": 0.1541,
     "end_time": "2024-02-01T02:16:14.554353",
     "exception": false,
     "start_time": "2024-02-01T02:16:14.400253",
     "status": "completed"
    },
    "tags": []
   },
   "outputs": [
    {
     "name": "stdout",
     "output_type": "stream",
     "text": [
      "読み込み完了 /kaggle/input/my-multi-class-prediction-of-obesity-risk/data.csv\n"
     ]
    }
   ],
   "source": [
    "import numpy as np\n",
    "import pandas as pd\n",
    "\n",
    "FILE_PATH = '/kaggle/input/playground-series-s4e2/'\n",
    "CREATE_DATA = '/kaggle/input/my-multi-class-prediction-of-obesity-risk'\n",
    "\n",
    "\n",
    "# 確認 (data_import.py)\n",
    "def file_to_xy(filename):\n",
    "    data = pd.read_csv(filename, index_col=0)\n",
    "    print(f'読み込み完了 {filename}')\n",
    "    \n",
    "    target_col = 'NObeyesdad'\n",
    "    \n",
    "    train = data[:20758].reset_index(drop=True)\n",
    "    test = data[20758:].reset_index(drop=True).drop(target_col, axis=1) # 目的変数を指定する\n",
    "    # 目的変数と説明変数に分割\n",
    "    X = train.drop([target_col], axis=1) # 目的変数を指定する\n",
    "    y = train[target_col].values # 目的変数を指定する\n",
    "\n",
    "    return data,test,train,X,y\n",
    "\n",
    "filename = 'data.csv'\n",
    "data,test,train,X,y = file_to_xy(CREATE_DATA + '/' + filename)"
   ]
  },
  {
   "cell_type": "code",
   "execution_count": 3,
   "id": "19a1b881",
   "metadata": {
    "execution": {
     "iopub.execute_input": "2024-02-01T02:16:14.578390Z",
     "iopub.status.busy": "2024-02-01T02:16:14.578125Z",
     "iopub.status.idle": "2024-02-01T02:16:14.583314Z",
     "shell.execute_reply": "2024-02-01T02:16:14.582513Z"
    },
    "papermill": {
     "duration": 0.019151,
     "end_time": "2024-02-01T02:16:14.585168",
     "exception": false,
     "start_time": "2024-02-01T02:16:14.566017",
     "status": "completed"
    },
    "tags": []
   },
   "outputs": [],
   "source": [
    "X = X.copy()\n",
    "y = y.copy()"
   ]
  },
  {
   "cell_type": "markdown",
   "id": "5dfb4382",
   "metadata": {
    "papermill": {
     "duration": 0.010854,
     "end_time": "2024-02-01T02:16:14.607506",
     "exception": false,
     "start_time": "2024-02-01T02:16:14.596652",
     "status": "completed"
    },
    "tags": []
   },
   "source": [
    "# 機械学習モデルの構築・学習・予測"
   ]
  },
  {
   "cell_type": "markdown",
   "id": "36fa5160",
   "metadata": {
    "papermill": {
     "duration": 0.010965,
     "end_time": "2024-02-01T02:16:14.629726",
     "exception": false,
     "start_time": "2024-02-01T02:16:14.618761",
     "status": "completed"
    },
    "tags": []
   },
   "source": [
    "## ライブラリのインポート"
   ]
  },
  {
   "cell_type": "code",
   "execution_count": 4,
   "id": "3f7be583",
   "metadata": {
    "execution": {
     "iopub.execute_input": "2024-02-01T02:16:14.652843Z",
     "iopub.status.busy": "2024-02-01T02:16:14.652584Z",
     "iopub.status.idle": "2024-02-01T02:16:20.679090Z",
     "shell.execute_reply": "2024-02-01T02:16:20.678264Z"
    },
    "papermill": {
     "duration": 6.040719,
     "end_time": "2024-02-01T02:16:20.681403",
     "exception": false,
     "start_time": "2024-02-01T02:16:14.640684",
     "status": "completed"
    },
    "tags": []
   },
   "outputs": [
    {
     "name": "stderr",
     "output_type": "stream",
     "text": [
      "/opt/conda/lib/python3.10/site-packages/dask/dataframe/_pyarrow_compat.py:23: UserWarning: You are using pyarrow version 11.0.0 which is known to be insecure. See https://www.cve.org/CVERecord?id=CVE-2023-47248 for further details. Please upgrade to pyarrow>=14.0.1 or install pyarrow-hotfix to patch your current version.\n",
      "  warnings.warn(\n"
     ]
    }
   ],
   "source": [
    "from sklearn.model_selection import train_test_split\n",
    "from sklearn.preprocessing import StandardScaler\n",
    "\n",
    "# 評価指標\n",
    "from sklearn.metrics import roc_auc_score, accuracy_score, f1_score, recall_score, precision_score, confusion_matrix, mean_absolute_error, mean_squared_error, r2_score\n",
    "\n",
    "# 機械学習モデル\n",
    "from sklearn.linear_model import LinearRegression, Lasso, Ridge\n",
    "from sklearn.tree import DecisionTreeClassifier\n",
    "from sklearn.ensemble import RandomForestClassifier, GradientBoostingClassifier\n",
    "from xgboost import XGBClassifier\n",
    "from lightgbm import LGBMClassifier\n",
    "\n",
    "# 実験\n",
    "import datetime\n",
    "import pickle\n",
    "\n",
    "\n",
    "sample_sub = pd.read_csv(FILE_PATH + \"sample_submission.csv\")"
   ]
  },
  {
   "cell_type": "markdown",
   "id": "0bf4e503",
   "metadata": {
    "papermill": {
     "duration": 0.011402,
     "end_time": "2024-02-01T02:16:20.704676",
     "exception": false,
     "start_time": "2024-02-01T02:16:20.693274",
     "status": "completed"
    },
    "tags": []
   },
   "source": [
    "## データの分割"
   ]
  },
  {
   "cell_type": "code",
   "execution_count": 5,
   "id": "164bb20c",
   "metadata": {
    "execution": {
     "iopub.execute_input": "2024-02-01T02:16:20.728604Z",
     "iopub.status.busy": "2024-02-01T02:16:20.728265Z",
     "iopub.status.idle": "2024-02-01T02:16:20.739843Z",
     "shell.execute_reply": "2024-02-01T02:16:20.739040Z"
    },
    "papermill": {
     "duration": 0.025724,
     "end_time": "2024-02-01T02:16:20.741751",
     "exception": false,
     "start_time": "2024-02-01T02:16:20.716027",
     "status": "completed"
    },
    "tags": []
   },
   "outputs": [],
   "source": [
    "X_train, X_valid, y_train, y_valid = train_test_split(X, y, test_size=0.2, random_state=42)"
   ]
  },
  {
   "cell_type": "markdown",
   "id": "c15546ec",
   "metadata": {
    "papermill": {
     "duration": 0.011244,
     "end_time": "2024-02-01T02:16:20.764212",
     "exception": false,
     "start_time": "2024-02-01T02:16:20.752968",
     "status": "completed"
    },
    "tags": []
   },
   "source": [
    "## モデルの学習"
   ]
  },
  {
   "cell_type": "markdown",
   "id": "ffe31872",
   "metadata": {
    "papermill": {
     "duration": 0.010835,
     "end_time": "2024-02-01T02:16:20.786144",
     "exception": false,
     "start_time": "2024-02-01T02:16:20.775309",
     "status": "completed"
    },
    "tags": []
   },
   "source": [
    "### LinearRegression"
   ]
  },
  {
   "cell_type": "code",
   "execution_count": 6,
   "id": "0927db9f",
   "metadata": {
    "execution": {
     "iopub.execute_input": "2024-02-01T02:16:20.809443Z",
     "iopub.status.busy": "2024-02-01T02:16:20.809175Z",
     "iopub.status.idle": "2024-02-01T02:16:20.856277Z",
     "shell.execute_reply": "2024-02-01T02:16:20.855025Z"
    },
    "papermill": {
     "duration": 0.062419,
     "end_time": "2024-02-01T02:16:20.859667",
     "exception": false,
     "start_time": "2024-02-01T02:16:20.797248",
     "status": "completed"
    },
    "tags": []
   },
   "outputs": [],
   "source": [
    "# 標準化する\n",
    "scaler = StandardScaler()\n",
    "X_train_scaled = scaler.fit_transform(X_train)\n",
    "X_valid_scaled = scaler.transform(X_valid)\n",
    "\n",
    "lr = LinearRegression().fit(X_train_scaled, y_train)"
   ]
  },
  {
   "cell_type": "markdown",
   "id": "69002402",
   "metadata": {
    "papermill": {
     "duration": 0.025888,
     "end_time": "2024-02-01T02:16:20.909211",
     "exception": false,
     "start_time": "2024-02-01T02:16:20.883323",
     "status": "completed"
    },
    "tags": []
   },
   "source": [
    "### Lasso"
   ]
  },
  {
   "cell_type": "code",
   "execution_count": 7,
   "id": "b24ab6d1",
   "metadata": {
    "execution": {
     "iopub.execute_input": "2024-02-01T02:16:20.958979Z",
     "iopub.status.busy": "2024-02-01T02:16:20.957609Z",
     "iopub.status.idle": "2024-02-01T02:16:20.978499Z",
     "shell.execute_reply": "2024-02-01T02:16:20.977382Z"
    },
    "papermill": {
     "duration": 0.049015,
     "end_time": "2024-02-01T02:16:20.981883",
     "exception": false,
     "start_time": "2024-02-01T02:16:20.932868",
     "status": "completed"
    },
    "tags": []
   },
   "outputs": [],
   "source": [
    "lasso = Lasso().fit(X_train, y_train)"
   ]
  },
  {
   "cell_type": "markdown",
   "id": "b8e261ba",
   "metadata": {
    "papermill": {
     "duration": 0.022901,
     "end_time": "2024-02-01T02:16:21.028554",
     "exception": false,
     "start_time": "2024-02-01T02:16:21.005653",
     "status": "completed"
    },
    "tags": []
   },
   "source": [
    "### Ridge(回帰)"
   ]
  },
  {
   "cell_type": "code",
   "execution_count": 8,
   "id": "be18fb69",
   "metadata": {
    "execution": {
     "iopub.execute_input": "2024-02-01T02:16:21.076829Z",
     "iopub.status.busy": "2024-02-01T02:16:21.076372Z",
     "iopub.status.idle": "2024-02-01T02:16:21.093103Z",
     "shell.execute_reply": "2024-02-01T02:16:21.091933Z"
    },
    "papermill": {
     "duration": 0.044926,
     "end_time": "2024-02-01T02:16:21.096831",
     "exception": false,
     "start_time": "2024-02-01T02:16:21.051905",
     "status": "completed"
    },
    "tags": []
   },
   "outputs": [],
   "source": [
    "ridge = Ridge().fit(X_train_scaled, y_train)"
   ]
  },
  {
   "cell_type": "markdown",
   "id": "773156ea",
   "metadata": {
    "papermill": {
     "duration": 0.023517,
     "end_time": "2024-02-01T02:16:21.144803",
     "exception": false,
     "start_time": "2024-02-01T02:16:21.121286",
     "status": "completed"
    },
    "tags": []
   },
   "source": [
    "### LGBMClassifier"
   ]
  },
  {
   "cell_type": "code",
   "execution_count": 9,
   "id": "6ed0b2d0",
   "metadata": {
    "execution": {
     "iopub.execute_input": "2024-02-01T02:16:21.195146Z",
     "iopub.status.busy": "2024-02-01T02:16:21.194707Z",
     "iopub.status.idle": "2024-02-01T02:16:22.717535Z",
     "shell.execute_reply": "2024-02-01T02:16:22.716667Z"
    },
    "papermill": {
     "duration": 1.550452,
     "end_time": "2024-02-01T02:16:22.720228",
     "exception": false,
     "start_time": "2024-02-01T02:16:21.169776",
     "status": "completed"
    },
    "tags": []
   },
   "outputs": [
    {
     "name": "stdout",
     "output_type": "stream",
     "text": [
      "[LightGBM] [Info] Auto-choosing row-wise multi-threading, the overhead of testing was 0.003621 seconds.\n",
      "You can set `force_row_wise=true` to remove the overhead.\n",
      "And if memory is not enough, you can set `force_col_wise=true`.\n",
      "[LightGBM] [Info] Total Bins 2044\n",
      "[LightGBM] [Info] Number of data points in the train set: 16606, number of used features: 16\n",
      "[LightGBM] [Info] Start training from score -2.117117\n",
      "[LightGBM] [Info] Start training from score -1.911230\n",
      "[LightGBM] [Info] Start training from score -1.948141\n",
      "[LightGBM] [Info] Start training from score -1.857720\n",
      "[LightGBM] [Info] Start training from score -1.633574\n",
      "[LightGBM] [Info] Start training from score -2.145531\n",
      "[LightGBM] [Info] Start training from score -2.112625\n"
     ]
    },
    {
     "data": {
      "text/html": [
       "<style>#sk-container-id-1 {color: black;background-color: white;}#sk-container-id-1 pre{padding: 0;}#sk-container-id-1 div.sk-toggleable {background-color: white;}#sk-container-id-1 label.sk-toggleable__label {cursor: pointer;display: block;width: 100%;margin-bottom: 0;padding: 0.3em;box-sizing: border-box;text-align: center;}#sk-container-id-1 label.sk-toggleable__label-arrow:before {content: \"▸\";float: left;margin-right: 0.25em;color: #696969;}#sk-container-id-1 label.sk-toggleable__label-arrow:hover:before {color: black;}#sk-container-id-1 div.sk-estimator:hover label.sk-toggleable__label-arrow:before {color: black;}#sk-container-id-1 div.sk-toggleable__content {max-height: 0;max-width: 0;overflow: hidden;text-align: left;background-color: #f0f8ff;}#sk-container-id-1 div.sk-toggleable__content pre {margin: 0.2em;color: black;border-radius: 0.25em;background-color: #f0f8ff;}#sk-container-id-1 input.sk-toggleable__control:checked~div.sk-toggleable__content {max-height: 200px;max-width: 100%;overflow: auto;}#sk-container-id-1 input.sk-toggleable__control:checked~label.sk-toggleable__label-arrow:before {content: \"▾\";}#sk-container-id-1 div.sk-estimator input.sk-toggleable__control:checked~label.sk-toggleable__label {background-color: #d4ebff;}#sk-container-id-1 div.sk-label input.sk-toggleable__control:checked~label.sk-toggleable__label {background-color: #d4ebff;}#sk-container-id-1 input.sk-hidden--visually {border: 0;clip: rect(1px 1px 1px 1px);clip: rect(1px, 1px, 1px, 1px);height: 1px;margin: -1px;overflow: hidden;padding: 0;position: absolute;width: 1px;}#sk-container-id-1 div.sk-estimator {font-family: monospace;background-color: #f0f8ff;border: 1px dotted black;border-radius: 0.25em;box-sizing: border-box;margin-bottom: 0.5em;}#sk-container-id-1 div.sk-estimator:hover {background-color: #d4ebff;}#sk-container-id-1 div.sk-parallel-item::after {content: \"\";width: 100%;border-bottom: 1px solid gray;flex-grow: 1;}#sk-container-id-1 div.sk-label:hover label.sk-toggleable__label {background-color: #d4ebff;}#sk-container-id-1 div.sk-serial::before {content: \"\";position: absolute;border-left: 1px solid gray;box-sizing: border-box;top: 0;bottom: 0;left: 50%;z-index: 0;}#sk-container-id-1 div.sk-serial {display: flex;flex-direction: column;align-items: center;background-color: white;padding-right: 0.2em;padding-left: 0.2em;position: relative;}#sk-container-id-1 div.sk-item {position: relative;z-index: 1;}#sk-container-id-1 div.sk-parallel {display: flex;align-items: stretch;justify-content: center;background-color: white;position: relative;}#sk-container-id-1 div.sk-item::before, #sk-container-id-1 div.sk-parallel-item::before {content: \"\";position: absolute;border-left: 1px solid gray;box-sizing: border-box;top: 0;bottom: 0;left: 50%;z-index: -1;}#sk-container-id-1 div.sk-parallel-item {display: flex;flex-direction: column;z-index: 1;position: relative;background-color: white;}#sk-container-id-1 div.sk-parallel-item:first-child::after {align-self: flex-end;width: 50%;}#sk-container-id-1 div.sk-parallel-item:last-child::after {align-self: flex-start;width: 50%;}#sk-container-id-1 div.sk-parallel-item:only-child::after {width: 0;}#sk-container-id-1 div.sk-dashed-wrapped {border: 1px dashed gray;margin: 0 0.4em 0.5em 0.4em;box-sizing: border-box;padding-bottom: 0.4em;background-color: white;}#sk-container-id-1 div.sk-label label {font-family: monospace;font-weight: bold;display: inline-block;line-height: 1.2em;}#sk-container-id-1 div.sk-label-container {text-align: center;}#sk-container-id-1 div.sk-container {/* jupyter's `normalize.less` sets `[hidden] { display: none; }` but bootstrap.min.css set `[hidden] { display: none !important; }` so we also need the `!important` here to be able to override the default hidden behavior on the sphinx rendered scikit-learn.org. See: https://github.com/scikit-learn/scikit-learn/issues/21755 */display: inline-block !important;position: relative;}#sk-container-id-1 div.sk-text-repr-fallback {display: none;}</style><div id=\"sk-container-id-1\" class=\"sk-top-container\"><div class=\"sk-text-repr-fallback\"><pre>LGBMClassifier(random_state=42)</pre><b>In a Jupyter environment, please rerun this cell to show the HTML representation or trust the notebook. <br />On GitHub, the HTML representation is unable to render, please try loading this page with nbviewer.org.</b></div><div class=\"sk-container\" hidden><div class=\"sk-item\"><div class=\"sk-estimator sk-toggleable\"><input class=\"sk-toggleable__control sk-hidden--visually\" id=\"sk-estimator-id-1\" type=\"checkbox\" checked><label for=\"sk-estimator-id-1\" class=\"sk-toggleable__label sk-toggleable__label-arrow\">LGBMClassifier</label><div class=\"sk-toggleable__content\"><pre>LGBMClassifier(random_state=42)</pre></div></div></div></div></div>"
      ],
      "text/plain": [
       "LGBMClassifier(random_state=42)"
      ]
     },
     "execution_count": 9,
     "metadata": {},
     "output_type": "execute_result"
    }
   ],
   "source": [
    "lgb = LGBMClassifier(random_state=42)\n",
    "lgb.fit(X_train, y_train)"
   ]
  },
  {
   "cell_type": "markdown",
   "id": "1874f587",
   "metadata": {
    "papermill": {
     "duration": 0.011348,
     "end_time": "2024-02-01T02:16:22.743551",
     "exception": false,
     "start_time": "2024-02-01T02:16:22.732203",
     "status": "completed"
    },
    "tags": []
   },
   "source": [
    "### DecisionTreeClassifier"
   ]
  },
  {
   "cell_type": "code",
   "execution_count": 10,
   "id": "b957d3ec",
   "metadata": {
    "execution": {
     "iopub.execute_input": "2024-02-01T02:16:22.767923Z",
     "iopub.status.busy": "2024-02-01T02:16:22.767631Z",
     "iopub.status.idle": "2024-02-01T02:16:22.878349Z",
     "shell.execute_reply": "2024-02-01T02:16:22.877557Z"
    },
    "papermill": {
     "duration": 0.125353,
     "end_time": "2024-02-01T02:16:22.880286",
     "exception": false,
     "start_time": "2024-02-01T02:16:22.754933",
     "status": "completed"
    },
    "tags": []
   },
   "outputs": [
    {
     "data": {
      "text/html": [
       "<style>#sk-container-id-2 {color: black;background-color: white;}#sk-container-id-2 pre{padding: 0;}#sk-container-id-2 div.sk-toggleable {background-color: white;}#sk-container-id-2 label.sk-toggleable__label {cursor: pointer;display: block;width: 100%;margin-bottom: 0;padding: 0.3em;box-sizing: border-box;text-align: center;}#sk-container-id-2 label.sk-toggleable__label-arrow:before {content: \"▸\";float: left;margin-right: 0.25em;color: #696969;}#sk-container-id-2 label.sk-toggleable__label-arrow:hover:before {color: black;}#sk-container-id-2 div.sk-estimator:hover label.sk-toggleable__label-arrow:before {color: black;}#sk-container-id-2 div.sk-toggleable__content {max-height: 0;max-width: 0;overflow: hidden;text-align: left;background-color: #f0f8ff;}#sk-container-id-2 div.sk-toggleable__content pre {margin: 0.2em;color: black;border-radius: 0.25em;background-color: #f0f8ff;}#sk-container-id-2 input.sk-toggleable__control:checked~div.sk-toggleable__content {max-height: 200px;max-width: 100%;overflow: auto;}#sk-container-id-2 input.sk-toggleable__control:checked~label.sk-toggleable__label-arrow:before {content: \"▾\";}#sk-container-id-2 div.sk-estimator input.sk-toggleable__control:checked~label.sk-toggleable__label {background-color: #d4ebff;}#sk-container-id-2 div.sk-label input.sk-toggleable__control:checked~label.sk-toggleable__label {background-color: #d4ebff;}#sk-container-id-2 input.sk-hidden--visually {border: 0;clip: rect(1px 1px 1px 1px);clip: rect(1px, 1px, 1px, 1px);height: 1px;margin: -1px;overflow: hidden;padding: 0;position: absolute;width: 1px;}#sk-container-id-2 div.sk-estimator {font-family: monospace;background-color: #f0f8ff;border: 1px dotted black;border-radius: 0.25em;box-sizing: border-box;margin-bottom: 0.5em;}#sk-container-id-2 div.sk-estimator:hover {background-color: #d4ebff;}#sk-container-id-2 div.sk-parallel-item::after {content: \"\";width: 100%;border-bottom: 1px solid gray;flex-grow: 1;}#sk-container-id-2 div.sk-label:hover label.sk-toggleable__label {background-color: #d4ebff;}#sk-container-id-2 div.sk-serial::before {content: \"\";position: absolute;border-left: 1px solid gray;box-sizing: border-box;top: 0;bottom: 0;left: 50%;z-index: 0;}#sk-container-id-2 div.sk-serial {display: flex;flex-direction: column;align-items: center;background-color: white;padding-right: 0.2em;padding-left: 0.2em;position: relative;}#sk-container-id-2 div.sk-item {position: relative;z-index: 1;}#sk-container-id-2 div.sk-parallel {display: flex;align-items: stretch;justify-content: center;background-color: white;position: relative;}#sk-container-id-2 div.sk-item::before, #sk-container-id-2 div.sk-parallel-item::before {content: \"\";position: absolute;border-left: 1px solid gray;box-sizing: border-box;top: 0;bottom: 0;left: 50%;z-index: -1;}#sk-container-id-2 div.sk-parallel-item {display: flex;flex-direction: column;z-index: 1;position: relative;background-color: white;}#sk-container-id-2 div.sk-parallel-item:first-child::after {align-self: flex-end;width: 50%;}#sk-container-id-2 div.sk-parallel-item:last-child::after {align-self: flex-start;width: 50%;}#sk-container-id-2 div.sk-parallel-item:only-child::after {width: 0;}#sk-container-id-2 div.sk-dashed-wrapped {border: 1px dashed gray;margin: 0 0.4em 0.5em 0.4em;box-sizing: border-box;padding-bottom: 0.4em;background-color: white;}#sk-container-id-2 div.sk-label label {font-family: monospace;font-weight: bold;display: inline-block;line-height: 1.2em;}#sk-container-id-2 div.sk-label-container {text-align: center;}#sk-container-id-2 div.sk-container {/* jupyter's `normalize.less` sets `[hidden] { display: none; }` but bootstrap.min.css set `[hidden] { display: none !important; }` so we also need the `!important` here to be able to override the default hidden behavior on the sphinx rendered scikit-learn.org. See: https://github.com/scikit-learn/scikit-learn/issues/21755 */display: inline-block !important;position: relative;}#sk-container-id-2 div.sk-text-repr-fallback {display: none;}</style><div id=\"sk-container-id-2\" class=\"sk-top-container\"><div class=\"sk-text-repr-fallback\"><pre>DecisionTreeClassifier(random_state=42)</pre><b>In a Jupyter environment, please rerun this cell to show the HTML representation or trust the notebook. <br />On GitHub, the HTML representation is unable to render, please try loading this page with nbviewer.org.</b></div><div class=\"sk-container\" hidden><div class=\"sk-item\"><div class=\"sk-estimator sk-toggleable\"><input class=\"sk-toggleable__control sk-hidden--visually\" id=\"sk-estimator-id-2\" type=\"checkbox\" checked><label for=\"sk-estimator-id-2\" class=\"sk-toggleable__label sk-toggleable__label-arrow\">DecisionTreeClassifier</label><div class=\"sk-toggleable__content\"><pre>DecisionTreeClassifier(random_state=42)</pre></div></div></div></div></div>"
      ],
      "text/plain": [
       "DecisionTreeClassifier(random_state=42)"
      ]
     },
     "execution_count": 10,
     "metadata": {},
     "output_type": "execute_result"
    }
   ],
   "source": [
    "dt = DecisionTreeClassifier(random_state=42)\n",
    "dt.fit(X_train, y_train)"
   ]
  },
  {
   "cell_type": "markdown",
   "id": "e613fc13",
   "metadata": {
    "papermill": {
     "duration": 0.011595,
     "end_time": "2024-02-01T02:16:22.903681",
     "exception": false,
     "start_time": "2024-02-01T02:16:22.892086",
     "status": "completed"
    },
    "tags": []
   },
   "source": [
    "### 分割データの予測"
   ]
  },
  {
   "cell_type": "markdown",
   "id": "8cf896aa",
   "metadata": {
    "papermill": {
     "duration": 0.011307,
     "end_time": "2024-02-01T02:16:22.927289",
     "exception": false,
     "start_time": "2024-02-01T02:16:22.915982",
     "status": "completed"
    },
    "tags": []
   },
   "source": [
    "### LinearRegression"
   ]
  },
  {
   "cell_type": "code",
   "execution_count": 11,
   "id": "1f82a3f5",
   "metadata": {
    "execution": {
     "iopub.execute_input": "2024-02-01T02:16:22.951731Z",
     "iopub.status.busy": "2024-02-01T02:16:22.951405Z",
     "iopub.status.idle": "2024-02-01T02:16:22.955128Z",
     "shell.execute_reply": "2024-02-01T02:16:22.954322Z"
    },
    "papermill": {
     "duration": 0.01795,
     "end_time": "2024-02-01T02:16:22.956956",
     "exception": false,
     "start_time": "2024-02-01T02:16:22.939006",
     "status": "completed"
    },
    "tags": []
   },
   "outputs": [],
   "source": [
    "# lr_train_pred = lr.predict(X_train_scaled)\n",
    "# lr_valid_pred = lr.predict(X_valid_scaled)\n",
    "\n",
    "# print(f\"Train Score: {accuracy_score(y_train, lr_train_pred)}\")\n",
    "# print(f\"Valid Score: {accuracy_score(y_valid, lr_valid_pred)}\")"
   ]
  },
  {
   "cell_type": "markdown",
   "id": "fee09846",
   "metadata": {
    "papermill": {
     "duration": 0.011468,
     "end_time": "2024-02-01T02:16:22.980055",
     "exception": false,
     "start_time": "2024-02-01T02:16:22.968587",
     "status": "completed"
    },
    "tags": []
   },
   "source": [
    "### Lasso"
   ]
  },
  {
   "cell_type": "code",
   "execution_count": 12,
   "id": "a000c81c",
   "metadata": {
    "execution": {
     "iopub.execute_input": "2024-02-01T02:16:23.004565Z",
     "iopub.status.busy": "2024-02-01T02:16:23.004257Z",
     "iopub.status.idle": "2024-02-01T02:16:23.008022Z",
     "shell.execute_reply": "2024-02-01T02:16:23.007194Z"
    },
    "papermill": {
     "duration": 0.017903,
     "end_time": "2024-02-01T02:16:23.009945",
     "exception": false,
     "start_time": "2024-02-01T02:16:22.992042",
     "status": "completed"
    },
    "tags": []
   },
   "outputs": [],
   "source": [
    "# lasso_train_pred = lasso.predict(X_train)\n",
    "# lasso_valid_pred = lasso.predict(X_valid)\n",
    "\n",
    "# print(f\"Train Score: {roc_auc_score(y_train, lasso_train_pred)}\")\n",
    "# print(f\"Valid Score: {roc_auc_score(y_valid, lasso_valid_pred)}\")"
   ]
  },
  {
   "cell_type": "markdown",
   "id": "20d4896b",
   "metadata": {
    "papermill": {
     "duration": 0.01128,
     "end_time": "2024-02-01T02:16:23.032753",
     "exception": false,
     "start_time": "2024-02-01T02:16:23.021473",
     "status": "completed"
    },
    "tags": []
   },
   "source": [
    "### Ridge"
   ]
  },
  {
   "cell_type": "code",
   "execution_count": 13,
   "id": "431696b7",
   "metadata": {
    "execution": {
     "iopub.execute_input": "2024-02-01T02:16:23.056841Z",
     "iopub.status.busy": "2024-02-01T02:16:23.056595Z",
     "iopub.status.idle": "2024-02-01T02:16:23.060211Z",
     "shell.execute_reply": "2024-02-01T02:16:23.059345Z"
    },
    "papermill": {
     "duration": 0.017986,
     "end_time": "2024-02-01T02:16:23.062244",
     "exception": false,
     "start_time": "2024-02-01T02:16:23.044258",
     "status": "completed"
    },
    "tags": []
   },
   "outputs": [],
   "source": [
    "# ridge_train_pred = lasso.predict(X_train_scaled)\n",
    "# ridge_valid_pred = lasso.predict(X_valid_scaled)\n",
    "\n",
    "# print(f\"Train Score: {roc_auc_score(y_train, ridge_train_pred)}\")\n",
    "# print(f\"Valid Score: {roc_auc_score(y_valid, ridge_valid_pred)}\")"
   ]
  },
  {
   "cell_type": "markdown",
   "id": "8cdfae6a",
   "metadata": {
    "papermill": {
     "duration": 0.011359,
     "end_time": "2024-02-01T02:16:23.086062",
     "exception": false,
     "start_time": "2024-02-01T02:16:23.074703",
     "status": "completed"
    },
    "tags": []
   },
   "source": [
    "### LGBMClassifier"
   ]
  },
  {
   "cell_type": "code",
   "execution_count": 14,
   "id": "19ef27b1",
   "metadata": {
    "execution": {
     "iopub.execute_input": "2024-02-01T02:16:23.111254Z",
     "iopub.status.busy": "2024-02-01T02:16:23.110992Z",
     "iopub.status.idle": "2024-02-01T02:16:23.114676Z",
     "shell.execute_reply": "2024-02-01T02:16:23.113816Z"
    },
    "papermill": {
     "duration": 0.018189,
     "end_time": "2024-02-01T02:16:23.116657",
     "exception": false,
     "start_time": "2024-02-01T02:16:23.098468",
     "status": "completed"
    },
    "tags": []
   },
   "outputs": [],
   "source": [
    "# lgb_train_pred = lgb.predict_proba(X_train)[:, 1]\n",
    "# lgb_valid_pred = lgb.predict_proba(X_valid)[:, 1]\n",
    "# print(f\"Train Score: {accuracy_score(y_train, lgb_train_pred)}\")\n",
    "# print(f\"Valid Score: {accuracy_score(y_valid, lgb_valid_pred)}\")"
   ]
  },
  {
   "cell_type": "markdown",
   "id": "4b0869c2",
   "metadata": {
    "papermill": {
     "duration": 0.011475,
     "end_time": "2024-02-01T02:16:23.140156",
     "exception": false,
     "start_time": "2024-02-01T02:16:23.128681",
     "status": "completed"
    },
    "tags": []
   },
   "source": [
    "### DecisionTreeClassifier"
   ]
  },
  {
   "cell_type": "code",
   "execution_count": 15,
   "id": "45437baa",
   "metadata": {
    "execution": {
     "iopub.execute_input": "2024-02-01T02:16:23.164187Z",
     "iopub.status.busy": "2024-02-01T02:16:23.163935Z",
     "iopub.status.idle": "2024-02-01T02:16:23.171593Z",
     "shell.execute_reply": "2024-02-01T02:16:23.170709Z"
    },
    "papermill": {
     "duration": 0.021668,
     "end_time": "2024-02-01T02:16:23.173367",
     "exception": false,
     "start_time": "2024-02-01T02:16:23.151699",
     "status": "completed"
    },
    "tags": []
   },
   "outputs": [
    {
     "name": "stdout",
     "output_type": "stream",
     "text": [
      "[5 6 3 ... 3 6 7]\n"
     ]
    }
   ],
   "source": [
    "y_test_pred = dt.predict(X_valid)\n",
    "print(y_test_pred)"
   ]
  },
  {
   "cell_type": "code",
   "execution_count": 16,
   "id": "600121d4",
   "metadata": {
    "execution": {
     "iopub.execute_input": "2024-02-01T02:16:23.197994Z",
     "iopub.status.busy": "2024-02-01T02:16:23.197751Z",
     "iopub.status.idle": "2024-02-01T02:16:23.210406Z",
     "shell.execute_reply": "2024-02-01T02:16:23.209595Z"
    },
    "papermill": {
     "duration": 0.026838,
     "end_time": "2024-02-01T02:16:23.212233",
     "exception": false,
     "start_time": "2024-02-01T02:16:23.185395",
     "status": "completed"
    },
    "tags": []
   },
   "outputs": [
    {
     "data": {
      "text/html": [
       "<div>\n",
       "<style scoped>\n",
       "    .dataframe tbody tr th:only-of-type {\n",
       "        vertical-align: middle;\n",
       "    }\n",
       "\n",
       "    .dataframe tbody tr th {\n",
       "        vertical-align: top;\n",
       "    }\n",
       "\n",
       "    .dataframe thead th {\n",
       "        text-align: right;\n",
       "    }\n",
       "</style>\n",
       "<table border=\"1\" class=\"dataframe\">\n",
       "  <thead>\n",
       "    <tr style=\"text-align: right;\">\n",
       "      <th></th>\n",
       "      <th>y_valid</th>\n",
       "      <th>y_pred</th>\n",
       "    </tr>\n",
       "  </thead>\n",
       "  <tbody>\n",
       "    <tr>\n",
       "      <th>0</th>\n",
       "      <td>5</td>\n",
       "      <td>5</td>\n",
       "    </tr>\n",
       "    <tr>\n",
       "      <th>1</th>\n",
       "      <td>6</td>\n",
       "      <td>6</td>\n",
       "    </tr>\n",
       "    <tr>\n",
       "      <th>2</th>\n",
       "      <td>3</td>\n",
       "      <td>3</td>\n",
       "    </tr>\n",
       "    <tr>\n",
       "      <th>3</th>\n",
       "      <td>4</td>\n",
       "      <td>4</td>\n",
       "    </tr>\n",
       "    <tr>\n",
       "      <th>4</th>\n",
       "      <td>1</td>\n",
       "      <td>1</td>\n",
       "    </tr>\n",
       "  </tbody>\n",
       "</table>\n",
       "</div>"
      ],
      "text/plain": [
       "   y_valid  y_pred\n",
       "0        5       5\n",
       "1        6       6\n",
       "2        3       3\n",
       "3        4       4\n",
       "4        1       1"
      ]
     },
     "execution_count": 16,
     "metadata": {},
     "output_type": "execute_result"
    }
   ],
   "source": [
    "results_test = pd.DataFrame({\"y_valid\": y_valid,\n",
    "                           \"y_pred\": y_test_pred})\n",
    "results_test = results_test.astype(int)\n",
    "results_test.head()"
   ]
  },
  {
   "cell_type": "code",
   "execution_count": 17,
   "id": "ec8e228a",
   "metadata": {
    "execution": {
     "iopub.execute_input": "2024-02-01T02:16:23.237527Z",
     "iopub.status.busy": "2024-02-01T02:16:23.236983Z",
     "iopub.status.idle": "2024-02-01T02:16:23.247253Z",
     "shell.execute_reply": "2024-02-01T02:16:23.246271Z"
    },
    "papermill": {
     "duration": 0.024809,
     "end_time": "2024-02-01T02:16:23.249181",
     "exception": false,
     "start_time": "2024-02-01T02:16:23.224372",
     "status": "completed"
    },
    "tags": []
   },
   "outputs": [
    {
     "name": "stdout",
     "output_type": "stream",
     "text": [
      "1.0\n"
     ]
    }
   ],
   "source": [
    "print(dt.score(X_train, y_train))"
   ]
  },
  {
   "cell_type": "markdown",
   "id": "abd0f359",
   "metadata": {
    "papermill": {
     "duration": 0.012171,
     "end_time": "2024-02-01T02:16:23.273336",
     "exception": false,
     "start_time": "2024-02-01T02:16:23.261165",
     "status": "completed"
    },
    "tags": []
   },
   "source": [
    "### 特徴重要度を算出する"
   ]
  },
  {
   "cell_type": "code",
   "execution_count": 18,
   "id": "e9ccfe2c",
   "metadata": {
    "execution": {
     "iopub.execute_input": "2024-02-01T02:16:23.339107Z",
     "iopub.status.busy": "2024-02-01T02:16:23.338822Z",
     "iopub.status.idle": "2024-02-01T02:16:23.350121Z",
     "shell.execute_reply": "2024-02-01T02:16:23.349202Z"
    },
    "papermill": {
     "duration": 0.066275,
     "end_time": "2024-02-01T02:16:23.352026",
     "exception": false,
     "start_time": "2024-02-01T02:16:23.285751",
     "status": "completed"
    },
    "tags": []
   },
   "outputs": [
    {
     "data": {
      "text/html": [
       "<div>\n",
       "<style scoped>\n",
       "    .dataframe tbody tr th:only-of-type {\n",
       "        vertical-align: middle;\n",
       "    }\n",
       "\n",
       "    .dataframe tbody tr th {\n",
       "        vertical-align: top;\n",
       "    }\n",
       "\n",
       "    .dataframe thead th {\n",
       "        text-align: right;\n",
       "    }\n",
       "</style>\n",
       "<table border=\"1\" class=\"dataframe\">\n",
       "  <thead>\n",
       "    <tr style=\"text-align: right;\">\n",
       "      <th></th>\n",
       "      <th>feature_names</th>\n",
       "      <th>coefficient</th>\n",
       "    </tr>\n",
       "  </thead>\n",
       "  <tbody>\n",
       "    <tr>\n",
       "      <th>0</th>\n",
       "      <td>Gender</td>\n",
       "      <td>0.196201</td>\n",
       "    </tr>\n",
       "    <tr>\n",
       "      <th>1</th>\n",
       "      <td>Age</td>\n",
       "      <td>0.040502</td>\n",
       "    </tr>\n",
       "    <tr>\n",
       "      <th>2</th>\n",
       "      <td>Height</td>\n",
       "      <td>0.144949</td>\n",
       "    </tr>\n",
       "    <tr>\n",
       "      <th>3</th>\n",
       "      <td>Weight</td>\n",
       "      <td>0.464298</td>\n",
       "    </tr>\n",
       "    <tr>\n",
       "      <th>4</th>\n",
       "      <td>family_history_with_overweight</td>\n",
       "      <td>0.006162</td>\n",
       "    </tr>\n",
       "    <tr>\n",
       "      <th>5</th>\n",
       "      <td>FAVC</td>\n",
       "      <td>0.011441</td>\n",
       "    </tr>\n",
       "    <tr>\n",
       "      <th>6</th>\n",
       "      <td>FCVC</td>\n",
       "      <td>0.018977</td>\n",
       "    </tr>\n",
       "    <tr>\n",
       "      <th>7</th>\n",
       "      <td>NCP</td>\n",
       "      <td>0.016024</td>\n",
       "    </tr>\n",
       "    <tr>\n",
       "      <th>8</th>\n",
       "      <td>CAEC</td>\n",
       "      <td>0.010415</td>\n",
       "    </tr>\n",
       "    <tr>\n",
       "      <th>9</th>\n",
       "      <td>SMOKE</td>\n",
       "      <td>0.000620</td>\n",
       "    </tr>\n",
       "    <tr>\n",
       "      <th>10</th>\n",
       "      <td>CH2O</td>\n",
       "      <td>0.032864</td>\n",
       "    </tr>\n",
       "    <tr>\n",
       "      <th>11</th>\n",
       "      <td>SCC</td>\n",
       "      <td>0.003092</td>\n",
       "    </tr>\n",
       "    <tr>\n",
       "      <th>12</th>\n",
       "      <td>FAF</td>\n",
       "      <td>0.018158</td>\n",
       "    </tr>\n",
       "    <tr>\n",
       "      <th>13</th>\n",
       "      <td>TUE</td>\n",
       "      <td>0.016406</td>\n",
       "    </tr>\n",
       "    <tr>\n",
       "      <th>14</th>\n",
       "      <td>CALC</td>\n",
       "      <td>0.013643</td>\n",
       "    </tr>\n",
       "    <tr>\n",
       "      <th>15</th>\n",
       "      <td>MTRANS</td>\n",
       "      <td>0.006246</td>\n",
       "    </tr>\n",
       "  </tbody>\n",
       "</table>\n",
       "</div>"
      ],
      "text/plain": [
       "                     feature_names  coefficient\n",
       "0                           Gender     0.196201\n",
       "1                              Age     0.040502\n",
       "2                           Height     0.144949\n",
       "3                           Weight     0.464298\n",
       "4   family_history_with_overweight     0.006162\n",
       "5                             FAVC     0.011441\n",
       "6                             FCVC     0.018977\n",
       "7                              NCP     0.016024\n",
       "8                             CAEC     0.010415\n",
       "9                            SMOKE     0.000620\n",
       "10                            CH2O     0.032864\n",
       "11                             SCC     0.003092\n",
       "12                             FAF     0.018158\n",
       "13                             TUE     0.016406\n",
       "14                            CALC     0.013643\n",
       "15                          MTRANS     0.006246"
      ]
     },
     "execution_count": 18,
     "metadata": {},
     "output_type": "execute_result"
    }
   ],
   "source": [
    "importance = pd.DataFrame({\"feature_names\": X.columns,\n",
    "                          \"coefficient\": dt.feature_importances_})\n",
    "importance"
   ]
  },
  {
   "cell_type": "code",
   "execution_count": 19,
   "id": "78b5d973",
   "metadata": {
    "execution": {
     "iopub.execute_input": "2024-02-01T02:16:23.378818Z",
     "iopub.status.busy": "2024-02-01T02:16:23.378548Z",
     "iopub.status.idle": "2024-02-01T02:16:23.389932Z",
     "shell.execute_reply": "2024-02-01T02:16:23.389092Z"
    },
    "papermill": {
     "duration": 0.026968,
     "end_time": "2024-02-01T02:16:23.392030",
     "exception": false,
     "start_time": "2024-02-01T02:16:23.365062",
     "status": "completed"
    },
    "tags": []
   },
   "outputs": [
    {
     "data": {
      "text/html": [
       "<div>\n",
       "<style scoped>\n",
       "    .dataframe tbody tr th:only-of-type {\n",
       "        vertical-align: middle;\n",
       "    }\n",
       "\n",
       "    .dataframe tbody tr th {\n",
       "        vertical-align: top;\n",
       "    }\n",
       "\n",
       "    .dataframe thead th {\n",
       "        text-align: right;\n",
       "    }\n",
       "</style>\n",
       "<table border=\"1\" class=\"dataframe\">\n",
       "  <thead>\n",
       "    <tr style=\"text-align: right;\">\n",
       "      <th></th>\n",
       "      <th>importance</th>\n",
       "    </tr>\n",
       "  </thead>\n",
       "  <tbody>\n",
       "    <tr>\n",
       "      <th>SMOKE</th>\n",
       "      <td>47</td>\n",
       "    </tr>\n",
       "    <tr>\n",
       "      <th>SCC</th>\n",
       "      <td>198</td>\n",
       "    </tr>\n",
       "    <tr>\n",
       "      <th>FAVC</th>\n",
       "      <td>258</td>\n",
       "    </tr>\n",
       "    <tr>\n",
       "      <th>family_history_with_overweight</th>\n",
       "      <td>398</td>\n",
       "    </tr>\n",
       "    <tr>\n",
       "      <th>MTRANS</th>\n",
       "      <td>455</td>\n",
       "    </tr>\n",
       "    <tr>\n",
       "      <th>Gender</th>\n",
       "      <td>464</td>\n",
       "    </tr>\n",
       "    <tr>\n",
       "      <th>CAEC</th>\n",
       "      <td>547</td>\n",
       "    </tr>\n",
       "    <tr>\n",
       "      <th>CALC</th>\n",
       "      <td>631</td>\n",
       "    </tr>\n",
       "    <tr>\n",
       "      <th>NCP</th>\n",
       "      <td>1128</td>\n",
       "    </tr>\n",
       "    <tr>\n",
       "      <th>FCVC</th>\n",
       "      <td>1307</td>\n",
       "    </tr>\n",
       "    <tr>\n",
       "      <th>TUE</th>\n",
       "      <td>1396</td>\n",
       "    </tr>\n",
       "    <tr>\n",
       "      <th>CH2O</th>\n",
       "      <td>1566</td>\n",
       "    </tr>\n",
       "    <tr>\n",
       "      <th>FAF</th>\n",
       "      <td>1689</td>\n",
       "    </tr>\n",
       "    <tr>\n",
       "      <th>Age</th>\n",
       "      <td>3043</td>\n",
       "    </tr>\n",
       "    <tr>\n",
       "      <th>Height</th>\n",
       "      <td>3622</td>\n",
       "    </tr>\n",
       "    <tr>\n",
       "      <th>Weight</th>\n",
       "      <td>4251</td>\n",
       "    </tr>\n",
       "  </tbody>\n",
       "</table>\n",
       "</div>"
      ],
      "text/plain": [
       "                                importance\n",
       "SMOKE                                   47\n",
       "SCC                                    198\n",
       "FAVC                                   258\n",
       "family_history_with_overweight         398\n",
       "MTRANS                                 455\n",
       "Gender                                 464\n",
       "CAEC                                   547\n",
       "CALC                                   631\n",
       "NCP                                   1128\n",
       "FCVC                                  1307\n",
       "TUE                                   1396\n",
       "CH2O                                  1566\n",
       "FAF                                   1689\n",
       "Age                                   3043\n",
       "Height                                3622\n",
       "Weight                                4251"
      ]
     },
     "execution_count": 19,
     "metadata": {},
     "output_type": "execute_result"
    }
   ],
   "source": [
    "importance = lgb.feature_importances_\n",
    "\n",
    "feature_importance = pd.DataFrame(data=importance, index=X.columns, columns=['importance']) \\\n",
    "    .sort_values(ascending=True, by='importance')\n",
    "\n",
    "feature_importance"
   ]
  },
  {
   "cell_type": "code",
   "execution_count": 20,
   "id": "9fc08580",
   "metadata": {
    "execution": {
     "iopub.execute_input": "2024-02-01T02:16:23.418465Z",
     "iopub.status.busy": "2024-02-01T02:16:23.418222Z",
     "iopub.status.idle": "2024-02-01T02:16:23.808418Z",
     "shell.execute_reply": "2024-02-01T02:16:23.807525Z"
    },
    "papermill": {
     "duration": 0.40538,
     "end_time": "2024-02-01T02:16:23.810401",
     "exception": false,
     "start_time": "2024-02-01T02:16:23.405021",
     "status": "completed"
    },
    "tags": []
   },
   "outputs": [
    {
     "data": {
      "text/plain": [
       "<Axes: >"
      ]
     },
     "execution_count": 20,
     "metadata": {},
     "output_type": "execute_result"
    },
    {
     "data": {
      "image/png": "[encoded data removed]",
      "text/plain": [
       "<Figure size 1000x1500 with 1 Axes>"
      ]
     },
     "metadata": {},
     "output_type": "display_data"
    }
   ],
   "source": [
    "feature_importance.plot(kind='barh', figsize=(10, 15), color='b')"
   ]
  },
  {
   "cell_type": "markdown",
   "id": "8b7b84f7",
   "metadata": {
    "papermill": {
     "duration": 0.013296,
     "end_time": "2024-02-01T02:16:23.837262",
     "exception": false,
     "start_time": "2024-02-01T02:16:23.823966",
     "status": "completed"
    },
    "tags": []
   },
   "source": [
    "## モデルファイルと評価結果を出力する（ファイルの出力あり）"
   ]
  },
  {
   "cell_type": "code",
   "execution_count": 21,
   "id": "2809be67",
   "metadata": {
    "execution": {
     "iopub.execute_input": "2024-02-01T02:16:23.866203Z",
     "iopub.status.busy": "2024-02-01T02:16:23.865901Z",
     "iopub.status.idle": "2024-02-01T02:16:23.878781Z",
     "shell.execute_reply": "2024-02-01T02:16:23.878007Z"
    },
    "papermill": {
     "duration": 0.029133,
     "end_time": "2024-02-01T02:16:23.880640",
     "exception": false,
     "start_time": "2024-02-01T02:16:23.851507",
     "status": "completed"
    },
    "tags": []
   },
   "outputs": [],
   "source": [
    "def make_model_and_eval(model, X_train, X_test, y_train, y_test):\n",
    "    model.fit(X_train, y_train)\n",
    "    y_pred_train = model.predict(X_train)\n",
    "    y_pred_test = model.predict(X_test)\n",
    "    \n",
    "    # accuracy\n",
    "    acc_train = accuracy_score(y_train, y_pred_train)\n",
    "    acc_test = accuracy_score(y_test, y_pred_test)\n",
    "    # F1_score\n",
    "    f1_train = f1_score(y_train, y_pred_train, average='macro')\n",
    "    f1_test = f1_score(y_test, y_pred_test, average='macro')\n",
    "    # recall\n",
    "    recall_train = recall_score(y_train, y_pred_train, average='macro')\n",
    "    recall_test = recall_score(y_test, y_pred_test, average='macro')\n",
    "    # precision\n",
    "    precision_train = precision_score(y_train, y_pred_train, average='macro')\n",
    "    precision_test = precision_score(y_test, y_pred_test, average='macro')\n",
    "    # AUC\n",
    "#     auc_train = roc_auc_score(y_train, y_pred_train)\n",
    "#     auc_test = roc_auc_score(y_test, y_pred_test)\n",
    "    # MAE\n",
    "    mae_train = mean_absolute_error(y_train, y_pred_train)\n",
    "    mae_test = mean_absolute_error(y_test, y_pred_test)\n",
    "    # MSE\n",
    "    mse_train = mean_squared_error(y_train, y_pred_train)\n",
    "    mse_test = mean_squared_error(y_test, y_pred_test)\n",
    "    # RMSE\n",
    "    rmse_train = np.sqrt(mse_train)\n",
    "    rmse_test = np.sqrt(mse_test)\n",
    "    # r2_score\n",
    "    r2_train = r2_score(y_train, y_pred_train)\n",
    "    r2_test = r2_score(y_test, y_pred_test)\n",
    "\n",
    "#     tn_train, fp_train, fn_train, tp_train = confusion_matrix(y_train, y_pred_train).ravel()\n",
    "#     tn_test, fp_test, fn_test, tp_test = confusion_matrix(y_test, y_pred_test).ravel()\n",
    "    score_train = pd.DataFrame({'DataCategory':['Train'],\n",
    "#                                'auc':[auc_train],\n",
    "                               'accuracy':[acc_train],\n",
    "                               'f1':[f1_train],\n",
    "                               'recall':[recall_train],\n",
    "                               'precision':[precision_train],\n",
    "                               'MAE':[mae_train],\n",
    "                               'MSE':[mse_train],\n",
    "                               'RMSE':[rmse_train],\n",
    "                               'r2':[r2_train],\n",
    "#                                'tp':[tp_train],\n",
    "#                                'fn':[fn_train],\n",
    "#                                'fp':[fp_train],\n",
    "#                                'tn':[tn_train]\n",
    "                               })\n",
    "    score_test = pd.DataFrame({'DataCategory':['Valid'],\n",
    "#                               'auc':[auc_test],\n",
    "                              'accuracy':[acc_test],\n",
    "                              'f1':[f1_test],\n",
    "                              'recall':[recall_test],\n",
    "                              'precision':[precision_test],\n",
    "                              'MAE':[mae_test],\n",
    "                              'MSE':[mse_test],\n",
    "                              'RMSE':[rmse_train],\n",
    "                              'r2':[r2_train],\n",
    "#                               'tp':[tp_test],\n",
    "#                               'fn':[fn_test],\n",
    "#                               'fp':[fp_test],\n",
    "#                               'tn':[tn_test]\n",
    "                              })\n",
    "    score = pd.concat([score_train, score_test], ignore_index=True)\n",
    "    \n",
    "    importance = pd.DataFrame({'cols': X_train.columns,\n",
    "                              'importance': model.feature_importances_})\n",
    "    importance = importance.sort_values('importance', ascending=False)\n",
    "    cols = pd.DataFrame({'X_cols': X_train.columns})\n",
    "    display(score)\n",
    "    \n",
    "    return score, importance, model, cols"
   ]
  },
  {
   "cell_type": "code",
   "execution_count": 22,
   "id": "2ef1ce59",
   "metadata": {
    "execution": {
     "iopub.execute_input": "2024-02-01T02:16:23.908728Z",
     "iopub.status.busy": "2024-02-01T02:16:23.908389Z",
     "iopub.status.idle": "2024-02-01T02:16:46.323287Z",
     "shell.execute_reply": "2024-02-01T02:16:46.322376Z"
    },
    "papermill": {
     "duration": 22.431865,
     "end_time": "2024-02-01T02:16:46.325649",
     "exception": false,
     "start_time": "2024-02-01T02:16:23.893784",
     "status": "completed"
    },
    "tags": []
   },
   "outputs": [
    {
     "name": "stdout",
     "output_type": "stream",
     "text": [
      "results_2024020102\n",
      "DecisionTreeClassifier\n"
     ]
    },
    {
     "data": {
      "text/html": [
       "<div>\n",
       "<style scoped>\n",
       "    .dataframe tbody tr th:only-of-type {\n",
       "        vertical-align: middle;\n",
       "    }\n",
       "\n",
       "    .dataframe tbody tr th {\n",
       "        vertical-align: top;\n",
       "    }\n",
       "\n",
       "    .dataframe thead th {\n",
       "        text-align: right;\n",
       "    }\n",
       "</style>\n",
       "<table border=\"1\" class=\"dataframe\">\n",
       "  <thead>\n",
       "    <tr style=\"text-align: right;\">\n",
       "      <th></th>\n",
       "      <th>DataCategory</th>\n",
       "      <th>accuracy</th>\n",
       "      <th>f1</th>\n",
       "      <th>recall</th>\n",
       "      <th>precision</th>\n",
       "      <th>MAE</th>\n",
       "      <th>MSE</th>\n",
       "      <th>RMSE</th>\n",
       "      <th>r2</th>\n",
       "    </tr>\n",
       "  </thead>\n",
       "  <tbody>\n",
       "    <tr>\n",
       "      <th>0</th>\n",
       "      <td>Train</td>\n",
       "      <td>1.000000</td>\n",
       "      <td>1.000000</td>\n",
       "      <td>1.000000</td>\n",
       "      <td>1.000000</td>\n",
       "      <td>0.000000</td>\n",
       "      <td>0.000000</td>\n",
       "      <td>0.0</td>\n",
       "      <td>1.0</td>\n",
       "    </tr>\n",
       "    <tr>\n",
       "      <th>1</th>\n",
       "      <td>Valid</td>\n",
       "      <td>0.847303</td>\n",
       "      <td>0.831585</td>\n",
       "      <td>0.831555</td>\n",
       "      <td>0.831647</td>\n",
       "      <td>0.379817</td>\n",
       "      <td>1.293593</td>\n",
       "      <td>0.0</td>\n",
       "      <td>1.0</td>\n",
       "    </tr>\n",
       "  </tbody>\n",
       "</table>\n",
       "</div>"
      ],
      "text/plain": [
       "  DataCategory  accuracy        f1    recall  precision       MAE       MSE  \\\n",
       "0        Train  1.000000  1.000000  1.000000   1.000000  0.000000  0.000000   \n",
       "1        Valid  0.847303  0.831585  0.831555   0.831647  0.379817  1.293593   \n",
       "\n",
       "   RMSE   r2  \n",
       "0   0.0  1.0  \n",
       "1   0.0  1.0  "
      ]
     },
     "metadata": {},
     "output_type": "display_data"
    },
    {
     "name": "stdout",
     "output_type": "stream",
     "text": [
      "RandomForest\n"
     ]
    },
    {
     "data": {
      "text/html": [
       "<div>\n",
       "<style scoped>\n",
       "    .dataframe tbody tr th:only-of-type {\n",
       "        vertical-align: middle;\n",
       "    }\n",
       "\n",
       "    .dataframe tbody tr th {\n",
       "        vertical-align: top;\n",
       "    }\n",
       "\n",
       "    .dataframe thead th {\n",
       "        text-align: right;\n",
       "    }\n",
       "</style>\n",
       "<table border=\"1\" class=\"dataframe\">\n",
       "  <thead>\n",
       "    <tr style=\"text-align: right;\">\n",
       "      <th></th>\n",
       "      <th>DataCategory</th>\n",
       "      <th>accuracy</th>\n",
       "      <th>f1</th>\n",
       "      <th>recall</th>\n",
       "      <th>precision</th>\n",
       "      <th>MAE</th>\n",
       "      <th>MSE</th>\n",
       "      <th>RMSE</th>\n",
       "      <th>r2</th>\n",
       "    </tr>\n",
       "  </thead>\n",
       "  <tbody>\n",
       "    <tr>\n",
       "      <th>0</th>\n",
       "      <td>Train</td>\n",
       "      <td>1.000000</td>\n",
       "      <td>1.000000</td>\n",
       "      <td>1.000000</td>\n",
       "      <td>1.000000</td>\n",
       "      <td>0.000000</td>\n",
       "      <td>0.000000</td>\n",
       "      <td>0.0</td>\n",
       "      <td>1.0</td>\n",
       "    </tr>\n",
       "    <tr>\n",
       "      <th>1</th>\n",
       "      <td>Valid</td>\n",
       "      <td>0.895954</td>\n",
       "      <td>0.884642</td>\n",
       "      <td>0.884018</td>\n",
       "      <td>0.885563</td>\n",
       "      <td>0.265896</td>\n",
       "      <td>0.923892</td>\n",
       "      <td>0.0</td>\n",
       "      <td>1.0</td>\n",
       "    </tr>\n",
       "  </tbody>\n",
       "</table>\n",
       "</div>"
      ],
      "text/plain": [
       "  DataCategory  accuracy        f1    recall  precision       MAE       MSE  \\\n",
       "0        Train  1.000000  1.000000  1.000000   1.000000  0.000000  0.000000   \n",
       "1        Valid  0.895954  0.884642  0.884018   0.885563  0.265896  0.923892   \n",
       "\n",
       "   RMSE   r2  \n",
       "0   0.0  1.0  \n",
       "1   0.0  1.0  "
      ]
     },
     "metadata": {},
     "output_type": "display_data"
    },
    {
     "name": "stdout",
     "output_type": "stream",
     "text": [
      "GradientBoostingClassifier\n"
     ]
    },
    {
     "data": {
      "text/html": [
       "<div>\n",
       "<style scoped>\n",
       "    .dataframe tbody tr th:only-of-type {\n",
       "        vertical-align: middle;\n",
       "    }\n",
       "\n",
       "    .dataframe tbody tr th {\n",
       "        vertical-align: top;\n",
       "    }\n",
       "\n",
       "    .dataframe thead th {\n",
       "        text-align: right;\n",
       "    }\n",
       "</style>\n",
       "<table border=\"1\" class=\"dataframe\">\n",
       "  <thead>\n",
       "    <tr style=\"text-align: right;\">\n",
       "      <th></th>\n",
       "      <th>DataCategory</th>\n",
       "      <th>accuracy</th>\n",
       "      <th>f1</th>\n",
       "      <th>recall</th>\n",
       "      <th>precision</th>\n",
       "      <th>MAE</th>\n",
       "      <th>MSE</th>\n",
       "      <th>RMSE</th>\n",
       "      <th>r2</th>\n",
       "    </tr>\n",
       "  </thead>\n",
       "  <tbody>\n",
       "    <tr>\n",
       "      <th>0</th>\n",
       "      <td>Train</td>\n",
       "      <td>0.921835</td>\n",
       "      <td>0.913080</td>\n",
       "      <td>0.912982</td>\n",
       "      <td>0.913368</td>\n",
       "      <td>0.194749</td>\n",
       "      <td>0.667470</td>\n",
       "      <td>0.816988</td>\n",
       "      <td>0.812982</td>\n",
       "    </tr>\n",
       "    <tr>\n",
       "      <th>1</th>\n",
       "      <td>Valid</td>\n",
       "      <td>0.902697</td>\n",
       "      <td>0.892202</td>\n",
       "      <td>0.892028</td>\n",
       "      <td>0.892397</td>\n",
       "      <td>0.244461</td>\n",
       "      <td>0.836946</td>\n",
       "      <td>0.816988</td>\n",
       "      <td>0.812982</td>\n",
       "    </tr>\n",
       "  </tbody>\n",
       "</table>\n",
       "</div>"
      ],
      "text/plain": [
       "  DataCategory  accuracy        f1    recall  precision       MAE       MSE  \\\n",
       "0        Train  0.921835  0.913080  0.912982   0.913368  0.194749  0.667470   \n",
       "1        Valid  0.902697  0.892202  0.892028   0.892397  0.244461  0.836946   \n",
       "\n",
       "       RMSE        r2  \n",
       "0  0.816988  0.812982  \n",
       "1  0.816988  0.812982  "
      ]
     },
     "metadata": {},
     "output_type": "display_data"
    },
    {
     "name": "stdout",
     "output_type": "stream",
     "text": [
      "lightgbm\n",
      "[LightGBM] [Info] Auto-choosing col-wise multi-threading, the overhead of testing was 0.003830 seconds.\n",
      "You can set `force_col_wise=true` to remove the overhead.\n",
      "[LightGBM] [Info] Total Bins 2044\n",
      "[LightGBM] [Info] Number of data points in the train set: 16606, number of used features: 16\n",
      "[LightGBM] [Info] Start training from score -2.117117\n",
      "[LightGBM] [Info] Start training from score -1.911230\n",
      "[LightGBM] [Info] Start training from score -1.948141\n",
      "[LightGBM] [Info] Start training from score -1.857720\n",
      "[LightGBM] [Info] Start training from score -1.633574\n",
      "[LightGBM] [Info] Start training from score -2.145531\n",
      "[LightGBM] [Info] Start training from score -2.112625\n"
     ]
    },
    {
     "data": {
      "text/html": [
       "<div>\n",
       "<style scoped>\n",
       "    .dataframe tbody tr th:only-of-type {\n",
       "        vertical-align: middle;\n",
       "    }\n",
       "\n",
       "    .dataframe tbody tr th {\n",
       "        vertical-align: top;\n",
       "    }\n",
       "\n",
       "    .dataframe thead th {\n",
       "        text-align: right;\n",
       "    }\n",
       "</style>\n",
       "<table border=\"1\" class=\"dataframe\">\n",
       "  <thead>\n",
       "    <tr style=\"text-align: right;\">\n",
       "      <th></th>\n",
       "      <th>DataCategory</th>\n",
       "      <th>accuracy</th>\n",
       "      <th>f1</th>\n",
       "      <th>recall</th>\n",
       "      <th>precision</th>\n",
       "      <th>MAE</th>\n",
       "      <th>MSE</th>\n",
       "      <th>RMSE</th>\n",
       "      <th>r2</th>\n",
       "    </tr>\n",
       "  </thead>\n",
       "  <tbody>\n",
       "    <tr>\n",
       "      <th>0</th>\n",
       "      <td>Train</td>\n",
       "      <td>0.981934</td>\n",
       "      <td>0.979612</td>\n",
       "      <td>0.979411</td>\n",
       "      <td>0.979871</td>\n",
       "      <td>0.046971</td>\n",
       "      <td>0.163194</td>\n",
       "      <td>0.403973</td>\n",
       "      <td>0.954275</td>\n",
       "    </tr>\n",
       "    <tr>\n",
       "      <th>1</th>\n",
       "      <td>Valid</td>\n",
       "      <td>0.905106</td>\n",
       "      <td>0.894996</td>\n",
       "      <td>0.894681</td>\n",
       "      <td>0.895372</td>\n",
       "      <td>0.238921</td>\n",
       "      <td>0.815992</td>\n",
       "      <td>0.403973</td>\n",
       "      <td>0.954275</td>\n",
       "    </tr>\n",
       "  </tbody>\n",
       "</table>\n",
       "</div>"
      ],
      "text/plain": [
       "  DataCategory  accuracy        f1    recall  precision       MAE       MSE  \\\n",
       "0        Train  0.981934  0.979612  0.979411   0.979871  0.046971  0.163194   \n",
       "1        Valid  0.905106  0.894996  0.894681   0.895372  0.238921  0.815992   \n",
       "\n",
       "       RMSE        r2  \n",
       "0  0.403973  0.954275  \n",
       "1  0.403973  0.954275  "
      ]
     },
     "metadata": {},
     "output_type": "display_data"
    }
   ],
   "source": [
    "now = datetime.datetime.now().strftime(\"%Y%m%d%H\")\n",
    "target_output_dir = 'results_' + now\n",
    "\n",
    "os.makedirs(target_output_dir, exist_ok=True)\n",
    "print(target_output_dir)\n",
    "\n",
    "\n",
    "\n",
    "models = {'DecisionTreeClassifier': DecisionTreeClassifier(random_state=42), \n",
    "          'RandomForest':RandomForestClassifier(random_state=42),\n",
    "          'GradientBoostingClassifier':GradientBoostingClassifier(random_state=42),\n",
    "          'lightgbm': LGBMClassifier(random_state=42),\n",
    "#           'xgboost': XGBClassifier(random_state=42)\n",
    "         }\n",
    "\n",
    "score_all = []\n",
    "importance_all = []\n",
    "for model_name, model in models.items():\n",
    "    print(model_name)\n",
    "    score, importance, model, cols = make_model_and_eval(model, X_train, X_valid, y_train, y_valid)\n",
    "    score['model_name'] = model_name\n",
    "    importance['model_name'] = model_name\n",
    "    \n",
    "    model_names = f'model_{model_name}.pickle'\n",
    "    model_path = os.path.join(target_output_dir, model_names)\n",
    "    with open(model_path, mode='wb') as f:\n",
    "        pickle.dump(model, f, protocol=2)\n",
    "    score_all.append(score)\n",
    "    importance_all.append(importance)\n",
    "score_all = pd.concat(score_all, ignore_index=True)\n",
    "importance_all = pd.concat(importance_all, ignore_index=True)\n",
    "cols = pd.DataFrame({'X_cols':X_train.columns})\n",
    "\n",
    "score_name = 'score.csv'\n",
    "importance_name = 'importance.csv'\n",
    "cols_name = 'X_cols.csv'\n",
    "\n",
    "score_path = os.path.join(target_output_dir, score_name)\n",
    "importance_path = os.path.join(target_output_dir, importance_name)\n",
    "cols_path = os.path.join(target_output_dir, cols_name)\n",
    "\n",
    "score_all.to_csv(score_path, index=False)\n",
    "importance_all.to_csv(importance_path, index=False)\n",
    "cols.to_csv(cols_path, index=False)"
   ]
  },
  {
   "cell_type": "markdown",
   "id": "97f8f732",
   "metadata": {
    "papermill": {
     "duration": 0.014246,
     "end_time": "2024-02-01T02:16:46.354973",
     "exception": false,
     "start_time": "2024-02-01T02:16:46.340727",
     "status": "completed"
    },
    "tags": []
   },
   "source": [
    "#### pickleファイルのインポート"
   ]
  },
  {
   "cell_type": "code",
   "execution_count": 23,
   "id": "a03e3c99",
   "metadata": {
    "execution": {
     "iopub.execute_input": "2024-02-01T02:16:46.385949Z",
     "iopub.status.busy": "2024-02-01T02:16:46.385648Z",
     "iopub.status.idle": "2024-02-01T02:16:46.401235Z",
     "shell.execute_reply": "2024-02-01T02:16:46.400325Z"
    },
    "papermill": {
     "duration": 0.033037,
     "end_time": "2024-02-01T02:16:46.403155",
     "exception": false,
     "start_time": "2024-02-01T02:16:46.370118",
     "status": "completed"
    },
    "tags": []
   },
   "outputs": [
    {
     "name": "stdout",
     "output_type": "stream",
     "text": [
      "LGBMClassifier(random_state=42)\n"
     ]
    }
   ],
   "source": [
    "import pickle\n",
    "\n",
    "model_name = 'model_lightgbm.pickle'\n",
    "\n",
    "model_path = os.path.join(target_output_dir, model_name)\n",
    "\n",
    "with open(model_path, mode='rb') as f:\n",
    "    model = pickle.load(f)\n",
    "    \n",
    "print(model)"
   ]
  },
  {
   "cell_type": "markdown",
   "id": "942c3491",
   "metadata": {
    "papermill": {
     "duration": 0.014248,
     "end_time": "2024-02-01T02:16:46.433077",
     "exception": false,
     "start_time": "2024-02-01T02:16:46.418829",
     "status": "completed"
    },
    "tags": []
   },
   "source": [
    "## モデルの予測"
   ]
  },
  {
   "cell_type": "code",
   "execution_count": 24,
   "id": "ac4a86c5",
   "metadata": {
    "execution": {
     "iopub.execute_input": "2024-02-01T02:16:46.463307Z",
     "iopub.status.busy": "2024-02-01T02:16:46.463024Z",
     "iopub.status.idle": "2024-02-01T02:16:46.788740Z",
     "shell.execute_reply": "2024-02-01T02:16:46.787938Z"
    },
    "papermill": {
     "duration": 0.343175,
     "end_time": "2024-02-01T02:16:46.790898",
     "exception": false,
     "start_time": "2024-02-01T02:16:46.447723",
     "status": "completed"
    },
    "tags": []
   },
   "outputs": [],
   "source": [
    "target_col = 'NObeyesdad'\n",
    "sample_sub[target_col] = model.predict(test)"
   ]
  },
  {
   "cell_type": "markdown",
   "id": "d7d89fe4",
   "metadata": {
    "papermill": {
     "duration": 0.014524,
     "end_time": "2024-02-01T02:16:46.821539",
     "exception": false,
     "start_time": "2024-02-01T02:16:46.807015",
     "status": "completed"
    },
    "tags": []
   },
   "source": [
    "# 提出"
   ]
  },
  {
   "cell_type": "code",
   "execution_count": 25,
   "id": "df59654b",
   "metadata": {
    "execution": {
     "iopub.execute_input": "2024-02-01T02:16:46.851962Z",
     "iopub.status.busy": "2024-02-01T02:16:46.851679Z",
     "iopub.status.idle": "2024-02-01T02:16:46.872306Z",
     "shell.execute_reply": "2024-02-01T02:16:46.871432Z"
    },
    "papermill": {
     "duration": 0.037967,
     "end_time": "2024-02-01T02:16:46.874256",
     "exception": false,
     "start_time": "2024-02-01T02:16:46.836289",
     "status": "completed"
    },
    "tags": []
   },
   "outputs": [],
   "source": [
    "sample_sub.to_csv('submission.csv', index=False)"
   ]
  },
  {
   "cell_type": "code",
   "execution_count": 26,
   "id": "d6d3387b",
   "metadata": {
    "execution": {
     "iopub.execute_input": "2024-02-01T02:16:46.904450Z",
     "iopub.status.busy": "2024-02-01T02:16:46.904179Z",
     "iopub.status.idle": "2024-02-01T02:16:46.912545Z",
     "shell.execute_reply": "2024-02-01T02:16:46.911718Z"
    },
    "papermill": {
     "duration": 0.025716,
     "end_time": "2024-02-01T02:16:46.914523",
     "exception": false,
     "start_time": "2024-02-01T02:16:46.888807",
     "status": "completed"
    },
    "tags": []
   },
   "outputs": [
    {
     "data": {
      "text/html": [
       "<div>\n",
       "<style scoped>\n",
       "    .dataframe tbody tr th:only-of-type {\n",
       "        vertical-align: middle;\n",
       "    }\n",
       "\n",
       "    .dataframe tbody tr th {\n",
       "        vertical-align: top;\n",
       "    }\n",
       "\n",
       "    .dataframe thead th {\n",
       "        text-align: right;\n",
       "    }\n",
       "</style>\n",
       "<table border=\"1\" class=\"dataframe\">\n",
       "  <thead>\n",
       "    <tr style=\"text-align: right;\">\n",
       "      <th></th>\n",
       "      <th>id</th>\n",
       "      <th>NObeyesdad</th>\n",
       "    </tr>\n",
       "  </thead>\n",
       "  <tbody>\n",
       "    <tr>\n",
       "      <th>0</th>\n",
       "      <td>20758</td>\n",
       "      <td>4</td>\n",
       "    </tr>\n",
       "    <tr>\n",
       "      <th>1</th>\n",
       "      <td>20759</td>\n",
       "      <td>6</td>\n",
       "    </tr>\n",
       "    <tr>\n",
       "      <th>2</th>\n",
       "      <td>20760</td>\n",
       "      <td>5</td>\n",
       "    </tr>\n",
       "    <tr>\n",
       "      <th>3</th>\n",
       "      <td>20761</td>\n",
       "      <td>3</td>\n",
       "    </tr>\n",
       "    <tr>\n",
       "      <th>4</th>\n",
       "      <td>20762</td>\n",
       "      <td>5</td>\n",
       "    </tr>\n",
       "  </tbody>\n",
       "</table>\n",
       "</div>"
      ],
      "text/plain": [
       "      id  NObeyesdad\n",
       "0  20758           4\n",
       "1  20759           6\n",
       "2  20760           5\n",
       "3  20761           3\n",
       "4  20762           5"
      ]
     },
     "execution_count": 26,
     "metadata": {},
     "output_type": "execute_result"
    }
   ],
   "source": [
    "sample_sub.head()"
   ]
  },
  {
   "cell_type": "code",
   "execution_count": null,
   "id": "f23fca63",
   "metadata": {
    "papermill": {
     "duration": 0.014827,
     "end_time": "2024-02-01T02:16:46.946598",
     "exception": false,
     "start_time": "2024-02-01T02:16:46.931771",
     "status": "completed"
    },
    "tags": []
   },
   "outputs": [],
   "source": []
  }
 ],
 "metadata": {
  "kaggle": {
   "accelerator": "nvidiaTeslaT4",
   "dataSources": [
    {
     "databundleVersionId": 7609535,
     "sourceId": 68479,
     "sourceType": "competition"
    },
    {
     "datasetId": 4383550,
     "sourceId": 7525902,
     "sourceType": "datasetVersion"
    }
   ],
   "dockerImageVersionId": 30648,
   "isGpuEnabled": true,
   "isInternetEnabled": true,
   "language": "python",
   "sourceType": "notebook"
  },
  "kernelspec": {
   "display_name": "Python 3",
   "language": "python",
   "name": "python3"
  },
  "language_info": {
   "codemirror_mode": {
    "name": "ipython",
    "version": 3
   },
   "file_extension": ".py",
   "mimetype": "text/x-python",
   "name": "python",
   "nbconvert_exporter": "python",
   "pygments_lexer": "ipython3",
   "version": "3.10.13"
  },
  "papermill": {
   "default_parameters": {},
   "duration": 37.029609,
   "end_time": "2024-02-01T02:16:47.680863",
   "environment_variables": {},
   "exception": null,
   "input_path": "__notebook__.ipynb",
   "output_path": "__notebook__.ipynb",
   "parameters": {},
   "start_time": "2024-02-01T02:16:10.651254",
   "version": "2.4.0"
  }
 },
 "nbformat": 4,
 "nbformat_minor": 5
}

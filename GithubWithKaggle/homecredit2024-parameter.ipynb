{
 "cells": [
  {
   "cell_type": "code",
   "execution_count": 1,
   "id": "456b3a13",
   "metadata": {
    "_cell_guid": "b1076dfc-b9ad-4769-8c92-a6c4dae69d19",
    "_uuid": "8f2839f25d086af736a60e9eeb907d3b93b6e0e5",
    "execution": {
     "iopub.execute_input": "2024-03-14T10:19:18.253456Z",
     "iopub.status.busy": "2024-03-14T10:19:18.253147Z",
     "iopub.status.idle": "2024-03-14T10:19:19.620901Z",
     "shell.execute_reply": "2024-03-14T10:19:19.620055Z"
    },
    "papermill": {
     "duration": 1.377628,
     "end_time": "2024-03-14T10:19:19.623960",
     "exception": false,
     "start_time": "2024-03-14T10:19:18.246332",
     "status": "completed"
    },
    "tags": []
   },
   "outputs": [
    {
     "name": "stdout",
     "output_type": "stream",
     "text": [
      "/kaggle/input/home-credit-credit-risk-model-stability/sample_submission.csv\n",
      "/kaggle/input/home-credit-credit-risk-model-stability/feature_definitions.csv\n",
      "/kaggle/input/home-credit-credit-risk-model-stability/parquet_files/test/test_deposit_1.parquet\n",
      "/kaggle/input/home-credit-credit-risk-model-stability/parquet_files/test/test_applprev_2.parquet\n",
      "/kaggle/input/home-credit-credit-risk-model-stability/parquet_files/test/test_static_cb_0.parquet\n",
      "/kaggle/input/home-credit-credit-risk-model-stability/parquet_files/test/test_static_0_0.parquet\n",
      "/kaggle/input/home-credit-credit-risk-model-stability/parquet_files/test/test_credit_bureau_a_1_3.parquet\n",
      "/kaggle/input/home-credit-credit-risk-model-stability/parquet_files/test/test_credit_bureau_a_1_2.parquet\n",
      "/kaggle/input/home-credit-credit-risk-model-stability/parquet_files/test/test_tax_registry_b_1.parquet\n",
      "/kaggle/input/home-credit-credit-risk-model-stability/parquet_files/test/test_static_0_2.parquet\n",
      "/kaggle/input/home-credit-credit-risk-model-stability/parquet_files/test/test_credit_bureau_a_2_3.parquet\n",
      "/kaggle/input/home-credit-credit-risk-model-stability/parquet_files/test/test_credit_bureau_a_2_9.parquet\n",
      "/kaggle/input/home-credit-credit-risk-model-stability/parquet_files/test/test_debitcard_1.parquet\n",
      "/kaggle/input/home-credit-credit-risk-model-stability/parquet_files/test/test_credit_bureau_a_1_1.parquet\n",
      "/kaggle/input/home-credit-credit-risk-model-stability/parquet_files/test/test_credit_bureau_a_2_2.parquet\n",
      "/kaggle/input/home-credit-credit-risk-model-stability/parquet_files/test/test_credit_bureau_a_2_11.parquet\n",
      "/kaggle/input/home-credit-credit-risk-model-stability/parquet_files/test/test_applprev_1_2.parquet\n",
      "/kaggle/input/home-credit-credit-risk-model-stability/parquet_files/test/test_credit_bureau_a_2_1.parquet\n",
      "/kaggle/input/home-credit-credit-risk-model-stability/parquet_files/test/test_credit_bureau_a_1_4.parquet\n",
      "/kaggle/input/home-credit-credit-risk-model-stability/parquet_files/test/test_tax_registry_c_1.parquet\n",
      "/kaggle/input/home-credit-credit-risk-model-stability/parquet_files/test/test_applprev_1_0.parquet\n",
      "/kaggle/input/home-credit-credit-risk-model-stability/parquet_files/test/test_tax_registry_a_1.parquet\n",
      "/kaggle/input/home-credit-credit-risk-model-stability/parquet_files/test/test_credit_bureau_a_2_6.parquet\n",
      "/kaggle/input/home-credit-credit-risk-model-stability/parquet_files/test/test_credit_bureau_a_2_5.parquet\n",
      "/kaggle/input/home-credit-credit-risk-model-stability/parquet_files/test/test_credit_bureau_b_1.parquet\n",
      "/kaggle/input/home-credit-credit-risk-model-stability/parquet_files/test/test_other_1.parquet\n",
      "/kaggle/input/home-credit-credit-risk-model-stability/parquet_files/test/test_static_0_1.parquet\n",
      "/kaggle/input/home-credit-credit-risk-model-stability/parquet_files/test/test_credit_bureau_a_2_0.parquet\n",
      "/kaggle/input/home-credit-credit-risk-model-stability/parquet_files/test/test_applprev_1_1.parquet\n",
      "/kaggle/input/home-credit-credit-risk-model-stability/parquet_files/test/test_base.parquet\n",
      "/kaggle/input/home-credit-credit-risk-model-stability/parquet_files/test/test_person_1.parquet\n",
      "/kaggle/input/home-credit-credit-risk-model-stability/parquet_files/test/test_credit_bureau_a_2_7.parquet\n",
      "/kaggle/input/home-credit-credit-risk-model-stability/parquet_files/test/test_credit_bureau_a_2_10.parquet\n",
      "/kaggle/input/home-credit-credit-risk-model-stability/parquet_files/test/test_credit_bureau_b_2.parquet\n",
      "/kaggle/input/home-credit-credit-risk-model-stability/parquet_files/test/test_credit_bureau_a_2_8.parquet\n",
      "/kaggle/input/home-credit-credit-risk-model-stability/parquet_files/test/test_credit_bureau_a_1_0.parquet\n",
      "/kaggle/input/home-credit-credit-risk-model-stability/parquet_files/test/test_credit_bureau_a_2_4.parquet\n",
      "/kaggle/input/home-credit-credit-risk-model-stability/parquet_files/test/test_person_2.parquet\n",
      "/kaggle/input/home-credit-credit-risk-model-stability/parquet_files/train/train_tax_registry_c_1.parquet\n",
      "/kaggle/input/home-credit-credit-risk-model-stability/parquet_files/train/train_static_0_0.parquet\n",
      "/kaggle/input/home-credit-credit-risk-model-stability/parquet_files/train/train_credit_bureau_a_1_3.parquet\n",
      "/kaggle/input/home-credit-credit-risk-model-stability/parquet_files/train/train_credit_bureau_b_2.parquet\n",
      "/kaggle/input/home-credit-credit-risk-model-stability/parquet_files/train/train_applprev_1_1.parquet\n",
      "/kaggle/input/home-credit-credit-risk-model-stability/parquet_files/train/train_static_cb_0.parquet\n",
      "/kaggle/input/home-credit-credit-risk-model-stability/parquet_files/train/train_other_1.parquet\n",
      "/kaggle/input/home-credit-credit-risk-model-stability/parquet_files/train/train_credit_bureau_a_2_6.parquet\n",
      "/kaggle/input/home-credit-credit-risk-model-stability/parquet_files/train/train_tax_registry_a_1.parquet\n",
      "/kaggle/input/home-credit-credit-risk-model-stability/parquet_files/train/train_tax_registry_b_1.parquet\n",
      "/kaggle/input/home-credit-credit-risk-model-stability/parquet_files/train/train_credit_bureau_a_2_1.parquet\n",
      "/kaggle/input/home-credit-credit-risk-model-stability/parquet_files/train/train_person_1.parquet\n",
      "/kaggle/input/home-credit-credit-risk-model-stability/parquet_files/train/train_person_2.parquet\n",
      "/kaggle/input/home-credit-credit-risk-model-stability/parquet_files/train/train_credit_bureau_b_1.parquet\n",
      "/kaggle/input/home-credit-credit-risk-model-stability/parquet_files/train/train_credit_bureau_a_2_0.parquet\n",
      "/kaggle/input/home-credit-credit-risk-model-stability/parquet_files/train/train_credit_bureau_a_2_7.parquet\n",
      "/kaggle/input/home-credit-credit-risk-model-stability/parquet_files/train/train_deposit_1.parquet\n",
      "/kaggle/input/home-credit-credit-risk-model-stability/parquet_files/train/train_debitcard_1.parquet\n",
      "/kaggle/input/home-credit-credit-risk-model-stability/parquet_files/train/train_credit_bureau_a_2_5.parquet\n",
      "/kaggle/input/home-credit-credit-risk-model-stability/parquet_files/train/train_credit_bureau_a_2_2.parquet\n",
      "/kaggle/input/home-credit-credit-risk-model-stability/parquet_files/train/train_credit_bureau_a_2_4.parquet\n",
      "/kaggle/input/home-credit-credit-risk-model-stability/parquet_files/train/train_base.parquet\n",
      "/kaggle/input/home-credit-credit-risk-model-stability/parquet_files/train/train_credit_bureau_a_2_9.parquet\n",
      "/kaggle/input/home-credit-credit-risk-model-stability/parquet_files/train/train_credit_bureau_a_2_3.parquet\n",
      "/kaggle/input/home-credit-credit-risk-model-stability/parquet_files/train/train_applprev_2.parquet\n",
      "/kaggle/input/home-credit-credit-risk-model-stability/parquet_files/train/train_credit_bureau_a_2_10.parquet\n",
      "/kaggle/input/home-credit-credit-risk-model-stability/parquet_files/train/train_credit_bureau_a_2_8.parquet\n",
      "/kaggle/input/home-credit-credit-risk-model-stability/parquet_files/train/train_credit_bureau_a_1_2.parquet\n",
      "/kaggle/input/home-credit-credit-risk-model-stability/parquet_files/train/train_static_0_1.parquet\n",
      "/kaggle/input/home-credit-credit-risk-model-stability/parquet_files/train/train_credit_bureau_a_1_0.parquet\n",
      "/kaggle/input/home-credit-credit-risk-model-stability/parquet_files/train/train_credit_bureau_a_1_1.parquet\n",
      "/kaggle/input/home-credit-credit-risk-model-stability/parquet_files/train/train_applprev_1_0.parquet\n",
      "/kaggle/input/home-credit-credit-risk-model-stability/csv_files/test/test_credit_bureau_a_2_6.csv\n",
      "/kaggle/input/home-credit-credit-risk-model-stability/csv_files/test/test_credit_bureau_a_2_11.csv\n",
      "/kaggle/input/home-credit-credit-risk-model-stability/csv_files/test/test_credit_bureau_a_2_0.csv\n",
      "/kaggle/input/home-credit-credit-risk-model-stability/csv_files/test/test_credit_bureau_a_2_9.csv\n",
      "/kaggle/input/home-credit-credit-risk-model-stability/csv_files/test/test_base.csv\n",
      "/kaggle/input/home-credit-credit-risk-model-stability/csv_files/test/test_credit_bureau_a_1_1.csv\n",
      "/kaggle/input/home-credit-credit-risk-model-stability/csv_files/test/test_credit_bureau_b_2.csv\n",
      "/kaggle/input/home-credit-credit-risk-model-stability/csv_files/test/test_credit_bureau_a_2_10.csv\n",
      "/kaggle/input/home-credit-credit-risk-model-stability/csv_files/test/test_credit_bureau_a_2_4.csv\n",
      "/kaggle/input/home-credit-credit-risk-model-stability/csv_files/test/test_static_0_0.csv\n",
      "/kaggle/input/home-credit-credit-risk-model-stability/csv_files/test/test_static_cb_0.csv\n",
      "/kaggle/input/home-credit-credit-risk-model-stability/csv_files/test/test_credit_bureau_a_2_2.csv\n",
      "/kaggle/input/home-credit-credit-risk-model-stability/csv_files/test/test_credit_bureau_b_1.csv\n",
      "/kaggle/input/home-credit-credit-risk-model-stability/csv_files/test/test_tax_registry_b_1.csv\n",
      "/kaggle/input/home-credit-credit-risk-model-stability/csv_files/test/test_person_2.csv\n",
      "/kaggle/input/home-credit-credit-risk-model-stability/csv_files/test/test_person_1.csv\n",
      "/kaggle/input/home-credit-credit-risk-model-stability/csv_files/test/test_credit_bureau_a_2_8.csv\n",
      "/kaggle/input/home-credit-credit-risk-model-stability/csv_files/test/test_applprev_1_2.csv\n",
      "/kaggle/input/home-credit-credit-risk-model-stability/csv_files/test/test_applprev_1_1.csv\n",
      "/kaggle/input/home-credit-credit-risk-model-stability/csv_files/test/test_credit_bureau_a_1_0.csv\n",
      "/kaggle/input/home-credit-credit-risk-model-stability/csv_files/test/test_applprev_2.csv\n",
      "/kaggle/input/home-credit-credit-risk-model-stability/csv_files/test/test_credit_bureau_a_2_7.csv\n",
      "/kaggle/input/home-credit-credit-risk-model-stability/csv_files/test/test_other_1.csv\n",
      "/kaggle/input/home-credit-credit-risk-model-stability/csv_files/test/test_tax_registry_c_1.csv\n",
      "/kaggle/input/home-credit-credit-risk-model-stability/csv_files/test/test_credit_bureau_a_1_3.csv\n",
      "/kaggle/input/home-credit-credit-risk-model-stability/csv_files/test/test_static_0_2.csv\n",
      "/kaggle/input/home-credit-credit-risk-model-stability/csv_files/test/test_credit_bureau_a_2_5.csv\n",
      "/kaggle/input/home-credit-credit-risk-model-stability/csv_files/test/test_credit_bureau_a_1_2.csv\n",
      "/kaggle/input/home-credit-credit-risk-model-stability/csv_files/test/test_debitcard_1.csv\n",
      "/kaggle/input/home-credit-credit-risk-model-stability/csv_files/test/test_credit_bureau_a_1_4.csv\n",
      "/kaggle/input/home-credit-credit-risk-model-stability/csv_files/test/test_deposit_1.csv\n",
      "/kaggle/input/home-credit-credit-risk-model-stability/csv_files/test/test_static_0_1.csv\n",
      "/kaggle/input/home-credit-credit-risk-model-stability/csv_files/test/test_credit_bureau_a_2_1.csv\n",
      "/kaggle/input/home-credit-credit-risk-model-stability/csv_files/test/test_applprev_1_0.csv\n",
      "/kaggle/input/home-credit-credit-risk-model-stability/csv_files/test/test_tax_registry_a_1.csv\n",
      "/kaggle/input/home-credit-credit-risk-model-stability/csv_files/test/test_credit_bureau_a_2_3.csv\n",
      "/kaggle/input/home-credit-credit-risk-model-stability/csv_files/train/train_credit_bureau_a_1_3.csv\n",
      "/kaggle/input/home-credit-credit-risk-model-stability/csv_files/train/train_static_cb_0.csv\n",
      "/kaggle/input/home-credit-credit-risk-model-stability/csv_files/train/train_applprev_1_0.csv\n",
      "/kaggle/input/home-credit-credit-risk-model-stability/csv_files/train/train_person_2.csv\n",
      "/kaggle/input/home-credit-credit-risk-model-stability/csv_files/train/train_base.csv\n",
      "/kaggle/input/home-credit-credit-risk-model-stability/csv_files/train/train_tax_registry_a_1.csv\n",
      "/kaggle/input/home-credit-credit-risk-model-stability/csv_files/train/train_static_0_0.csv\n",
      "/kaggle/input/home-credit-credit-risk-model-stability/csv_files/train/train_credit_bureau_a_1_0.csv\n",
      "/kaggle/input/home-credit-credit-risk-model-stability/csv_files/train/train_applprev_2.csv\n",
      "/kaggle/input/home-credit-credit-risk-model-stability/csv_files/train/train_credit_bureau_a_2_6.csv\n",
      "/kaggle/input/home-credit-credit-risk-model-stability/csv_files/train/train_credit_bureau_a_1_2.csv\n",
      "/kaggle/input/home-credit-credit-risk-model-stability/csv_files/train/train_person_1.csv\n",
      "/kaggle/input/home-credit-credit-risk-model-stability/csv_files/train/train_credit_bureau_a_1_1.csv\n",
      "/kaggle/input/home-credit-credit-risk-model-stability/csv_files/train/train_tax_registry_c_1.csv\n",
      "/kaggle/input/home-credit-credit-risk-model-stability/csv_files/train/train_credit_bureau_a_2_4.csv\n",
      "/kaggle/input/home-credit-credit-risk-model-stability/csv_files/train/train_credit_bureau_a_2_9.csv\n",
      "/kaggle/input/home-credit-credit-risk-model-stability/csv_files/train/train_credit_bureau_a_2_3.csv\n",
      "/kaggle/input/home-credit-credit-risk-model-stability/csv_files/train/train_credit_bureau_a_2_7.csv\n",
      "/kaggle/input/home-credit-credit-risk-model-stability/csv_files/train/train_credit_bureau_b_2.csv\n",
      "/kaggle/input/home-credit-credit-risk-model-stability/csv_files/train/train_credit_bureau_a_2_2.csv\n",
      "/kaggle/input/home-credit-credit-risk-model-stability/csv_files/train/train_static_0_1.csv\n",
      "/kaggle/input/home-credit-credit-risk-model-stability/csv_files/train/train_deposit_1.csv\n",
      "/kaggle/input/home-credit-credit-risk-model-stability/csv_files/train/train_credit_bureau_a_2_10.csv\n",
      "/kaggle/input/home-credit-credit-risk-model-stability/csv_files/train/train_tax_registry_b_1.csv\n",
      "/kaggle/input/home-credit-credit-risk-model-stability/csv_files/train/train_applprev_1_1.csv\n",
      "/kaggle/input/home-credit-credit-risk-model-stability/csv_files/train/train_credit_bureau_a_2_1.csv\n",
      "/kaggle/input/home-credit-credit-risk-model-stability/csv_files/train/train_credit_bureau_a_2_8.csv\n",
      "/kaggle/input/home-credit-credit-risk-model-stability/csv_files/train/train_credit_bureau_a_2_5.csv\n",
      "/kaggle/input/home-credit-credit-risk-model-stability/csv_files/train/train_credit_bureau_b_1.csv\n",
      "/kaggle/input/home-credit-credit-risk-model-stability/csv_files/train/train_credit_bureau_a_2_0.csv\n",
      "/kaggle/input/home-credit-credit-risk-model-stability/csv_files/train/train_other_1.csv\n",
      "/kaggle/input/home-credit-credit-risk-model-stability/csv_files/train/train_debitcard_1.csv\n",
      "/kaggle/input/my-home-credit-credit-risk-model-stability/base_test.csv\n",
      "/kaggle/input/my-home-credit-credit-risk-model-stability/y_valid.csv\n",
      "/kaggle/input/my-home-credit-credit-risk-model-stability/X_valid.csv\n",
      "/kaggle/input/my-home-credit-credit-risk-model-stability/y_test.csv\n",
      "/kaggle/input/my-home-credit-credit-risk-model-stability/X_test.csv\n",
      "/kaggle/input/my-home-credit-credit-risk-model-stability/y_train.csv\n",
      "/kaggle/input/my-home-credit-credit-risk-model-stability/X_train.csv\n",
      "/kaggle/input/my-home-credit-credit-risk-model-stability/base_train.csv\n",
      "/kaggle/input/my-home-credit-credit-risk-model-stability/base_valid.csv\n"
     ]
    }
   ],
   "source": [
    "# This Python 3 environment comes with many helpful analytics libraries installed\n",
    "# It is defined by the kaggle/python Docker image: https://github.com/kaggle/docker-python\n",
    "# For example, here's several helpful packages to load\n",
    "\n",
    "import numpy as np # linear algebra\n",
    "import pandas as pd # data processing, CSV file I/O (e.g. pd.read_csv)\n",
    "\n",
    "# Input data files are available in the read-only \"../input/\" directory\n",
    "# For example, running this (by clicking run or pressing Shift+Enter) will list all files under the input directory\n",
    "\n",
    "import os\n",
    "for dirname, _, filenames in os.walk('/kaggle/input'):\n",
    "    for filename in filenames:\n",
    "        print(os.path.join(dirname, filename))\n",
    "\n",
    "# You can write up to 20GB to the current directory (/kaggle/working/) that gets preserved as output when you create a version using \"Save & Run All\" \n",
    "# You can also write temporary files to /kaggle/temp/, but they won't be saved outside of the current session"
   ]
  },
  {
   "cell_type": "code",
   "execution_count": 2,
   "id": "77a6e583",
   "metadata": {
    "execution": {
     "iopub.execute_input": "2024-03-14T10:19:19.636320Z",
     "iopub.status.busy": "2024-03-14T10:19:19.635946Z",
     "iopub.status.idle": "2024-03-14T10:19:28.608640Z",
     "shell.execute_reply": "2024-03-14T10:19:28.607620Z"
    },
    "papermill": {
     "duration": 8.981472,
     "end_time": "2024-03-14T10:19:28.611107",
     "exception": false,
     "start_time": "2024-03-14T10:19:19.629635",
     "status": "completed"
    },
    "tags": []
   },
   "outputs": [
    {
     "name": "stderr",
     "output_type": "stream",
     "text": [
      "/opt/conda/lib/python3.10/site-packages/dask/dataframe/_pyarrow_compat.py:23: UserWarning: You are using pyarrow version 11.0.0 which is known to be insecure. See https://www.cve.org/CVERecord?id=CVE-2023-47248 for further details. Please upgrade to pyarrow>=14.0.1 or install pyarrow-hotfix to patch your current version.\n",
      "  warnings.warn(\n"
     ]
    }
   ],
   "source": [
    "import polars as pl\n",
    "import numpy as np\n",
    "import pandas as pd\n",
    "import lightgbm as lgb\n",
    "from sklearn.model_selection import train_test_split\n",
    "from sklearn.metrics import roc_auc_score \n",
    "\n",
    "dataPath = \"/kaggle/input/home-credit-credit-risk-model-stability/\"\n",
    "InputFile = \"/kaggle/input/my-home-credit-credit-risk-model-stability\""
   ]
  },
  {
   "cell_type": "code",
   "execution_count": 3,
   "id": "b214b83b",
   "metadata": {
    "execution": {
     "iopub.execute_input": "2024-03-14T10:19:28.624338Z",
     "iopub.status.busy": "2024-03-14T10:19:28.623617Z",
     "iopub.status.idle": "2024-03-14T10:19:42.160977Z",
     "shell.execute_reply": "2024-03-14T10:19:42.160118Z"
    },
    "papermill": {
     "duration": 13.546316,
     "end_time": "2024-03-14T10:19:42.163449",
     "exception": false,
     "start_time": "2024-03-14T10:19:28.617133",
     "status": "completed"
    },
    "tags": []
   },
   "outputs": [],
   "source": [
    "X_train = pd.read_csv(InputFile + \"/X_train.csv\")\n",
    "X_valid = pd.read_csv(InputFile + \"/X_valid.csv\")\n",
    "X_test = pd.read_csv(InputFile + \"/X_test.csv\")\n",
    "\n",
    "y_train = pd.read_csv(InputFile + \"/y_train.csv\")\n",
    "y_valid = pd.read_csv(InputFile + \"/y_valid.csv\")\n",
    "y_test = pd.read_csv(InputFile + \"/y_test.csv\")\n",
    "\n",
    "base_train = pd.read_csv(InputFile + \"/base_train.csv\")\n",
    "base_valid = pd.read_csv(InputFile + \"/base_valid.csv\")\n",
    "base_test = pd.read_csv(InputFile + \"/base_test.csv\")"
   ]
  },
  {
   "cell_type": "code",
   "execution_count": 4,
   "id": "6e1b8a79",
   "metadata": {
    "execution": {
     "iopub.execute_input": "2024-03-14T10:19:42.177770Z",
     "iopub.status.busy": "2024-03-14T10:19:42.177124Z",
     "iopub.status.idle": "2024-03-14T10:19:46.789934Z",
     "shell.execute_reply": "2024-03-14T10:19:46.789144Z"
    },
    "papermill": {
     "duration": 4.622271,
     "end_time": "2024-03-14T10:19:46.792215",
     "exception": false,
     "start_time": "2024-03-14T10:19:42.169944",
     "status": "completed"
    },
    "tags": []
   },
   "outputs": [],
   "source": [
    "def convert_strings(df: pd.DataFrame) -> pd.DataFrame:\n",
    "    for col in df.columns:\n",
    "        if df[col].dtype.name in ['object', 'string']:\n",
    "            df[col] = df[col].astype(\"string\").astype('category')\n",
    "            current_categories = df[col].cat.categories\n",
    "            new_categories = current_categories.to_list() + [\"Unknown\"]\n",
    "            new_dtype = pd.CategoricalDtype(categories=new_categories, ordered=True)\n",
    "            df[col] = df[col].astype(new_dtype)\n",
    "            \n",
    "    return df\n",
    "\n",
    "for df in [X_train, X_valid, X_test]:\n",
    "    df = convert_strings(df)"
   ]
  },
  {
   "cell_type": "markdown",
   "id": "9237b379",
   "metadata": {
    "papermill": {
     "duration": 0.005577,
     "end_time": "2024-03-14T10:19:46.803694",
     "exception": false,
     "start_time": "2024-03-14T10:19:46.798117",
     "status": "completed"
    },
    "tags": []
   },
   "source": [
    "# 機械学習モデルの構築・学習・予測"
   ]
  },
  {
   "cell_type": "code",
   "execution_count": 5,
   "id": "aeb87ab3",
   "metadata": {
    "execution": {
     "iopub.execute_input": "2024-03-14T10:19:46.816539Z",
     "iopub.status.busy": "2024-03-14T10:19:46.816220Z",
     "iopub.status.idle": "2024-03-14T10:19:47.570283Z",
     "shell.execute_reply": "2024-03-14T10:19:47.569448Z"
    },
    "papermill": {
     "duration": 0.763002,
     "end_time": "2024-03-14T10:19:47.572650",
     "exception": false,
     "start_time": "2024-03-14T10:19:46.809648",
     "status": "completed"
    },
    "tags": []
   },
   "outputs": [],
   "source": [
    "from sklearn.model_selection import train_test_split\n",
    "from sklearn.metrics import accuracy_score\n",
    "\n",
    "from xgboost import XGBClassifier\n",
    "from lightgbm import LGBMClassifier\n",
    "from catboost import CatBoostClassifier\n",
    "\n",
    "from sklearn.metrics import confusion_matrix\n",
    "from sklearn.metrics import ConfusionMatrixDisplay\n",
    "import matplotlib.pyplot as plt\n",
    "\n",
    "seed = 42\n",
    "\n",
    "xgb = XGBClassifier(random_state=seed)\n",
    "lgb = LGBMClassifier(random_state=seed)\n",
    "cb = CatBoostClassifier(random_state=seed, verbose=0)\n",
    "\n",
    "submit = True"
   ]
  },
  {
   "cell_type": "markdown",
   "id": "fa7bc1f6",
   "metadata": {
    "papermill": {
     "duration": 0.005993,
     "end_time": "2024-03-14T10:19:47.585281",
     "exception": false,
     "start_time": "2024-03-14T10:19:47.579288",
     "status": "completed"
    },
    "tags": []
   },
   "source": [
    "# ハイパーパラメータ(optuna)"
   ]
  },
  {
   "cell_type": "markdown",
   "id": "09d60dea",
   "metadata": {
    "papermill": {
     "duration": 0.005481,
     "end_time": "2024-03-14T10:19:47.596669",
     "exception": false,
     "start_time": "2024-03-14T10:19:47.591188",
     "status": "completed"
    },
    "tags": []
   },
   "source": [
    "## LGBMClassifier"
   ]
  },
  {
   "cell_type": "code",
   "execution_count": 6,
   "id": "1c27d41e",
   "metadata": {
    "execution": {
     "iopub.execute_input": "2024-03-14T10:19:47.609476Z",
     "iopub.status.busy": "2024-03-14T10:19:47.609148Z",
     "iopub.status.idle": "2024-03-14T10:19:47.614501Z",
     "shell.execute_reply": "2024-03-14T10:19:47.613685Z"
    },
    "papermill": {
     "duration": 0.0141,
     "end_time": "2024-03-14T10:19:47.616379",
     "exception": false,
     "start_time": "2024-03-14T10:19:47.602279",
     "status": "completed"
    },
    "tags": []
   },
   "outputs": [],
   "source": [
    "import pandas as pd\n",
    "import numpy as np\n",
    "\n",
    "from sklearn.model_selection import train_test_split\n",
    "import lightgbm as lgb\n",
    "\n",
    "from sklearn.metrics import confusion_matrix, ConfusionMatrixDisplay\n",
    "from sklearn.metrics import accuracy_score, classification_report\n",
    "\n",
    "from optuna.samplers import TPESampler\n",
    "import optuna\n",
    "\n",
    "import warnings\n",
    "warnings.filterwarnings(\"ignore\")"
   ]
  },
  {
   "cell_type": "code",
   "execution_count": 7,
   "id": "b15841f5",
   "metadata": {
    "execution": {
     "iopub.execute_input": "2024-03-14T10:19:47.629373Z",
     "iopub.status.busy": "2024-03-14T10:19:47.629067Z",
     "iopub.status.idle": "2024-03-14T10:19:47.636505Z",
     "shell.execute_reply": "2024-03-14T10:19:47.635652Z"
    },
    "papermill": {
     "duration": 0.016299,
     "end_time": "2024-03-14T10:19:47.638469",
     "exception": false,
     "start_time": "2024-03-14T10:19:47.622170",
     "status": "completed"
    },
    "tags": []
   },
   "outputs": [],
   "source": [
    "def objective(trial):\n",
    "    param = {\n",
    "        \"objective\": \"binary\",\n",
    "        \"metric\": \"auc\",\n",
    "        \"verbose\": -1,\n",
    "        \"boosting_type\": \"gbdt\",\n",
    "#         \"num_class\": 7,\n",
    "        \"lambda_l1\": trial.suggest_float(\"lambda_l1\", 1e-8, 10.0, log=True),\n",
    "        \"lambda_l2\": trial.suggest_float(\"lambda_l2\", 1e-8, 10.0, log=True),\n",
    "        \"num_leaves\": trial.suggest_int(\"num_leaves\", 2, 256),\n",
    "        \"feature_fraction\": trial.suggest_float(\"feature_fraction\", 0.4, 1.0),\n",
    "        \"bagging_fraction\": trial.suggest_float(\"bagging_fraction\", 0.4, 1.0),\n",
    "        \"bagging_freq\": trial.suggest_int(\"bagging_freq\", 1, 7),\n",
    "        \"min_child_samples\": trial.suggest_int(\"min_child_samples\", 5, 100),\n",
    "        \"random_state\": 42,\n",
    "    }\n",
    "    \n",
    "    gbm = lgb.LGBMClassifier(**param)\n",
    "    gbm.fit(X_train, y_train)\n",
    "    preds = gbm.predict(X_valid)\n",
    "    accuracy = accuracy_score(y_valid, preds)\n",
    "    \n",
    "    return accuracy"
   ]
  },
  {
   "cell_type": "code",
   "execution_count": 8,
   "id": "41666eb9",
   "metadata": {
    "execution": {
     "iopub.execute_input": "2024-03-14T10:19:47.651267Z",
     "iopub.status.busy": "2024-03-14T10:19:47.650996Z",
     "iopub.status.idle": "2024-03-14T11:00:45.277597Z",
     "shell.execute_reply": "2024-03-14T11:00:45.276614Z"
    },
    "papermill": {
     "duration": 2457.635369,
     "end_time": "2024-03-14T11:00:45.279586",
     "exception": false,
     "start_time": "2024-03-14T10:19:47.644217",
     "status": "completed"
    },
    "tags": []
   },
   "outputs": [
    {
     "name": "stderr",
     "output_type": "stream",
     "text": [
      "[I 2024-03-14 10:19:47,653] A new study created in memory with name: lightgbm\n",
      "[I 2024-03-14 10:20:17,814] Trial 0 finished with value: 0.9690075065829982 and parameters: {'lambda_l1': 2.348881295853308e-05, 'lambda_l2': 3.6010467344475403, 'num_leaves': 188, 'feature_fraction': 0.759195090518222, 'bagging_fraction': 0.4936111842654619, 'bagging_freq': 2, 'min_child_samples': 10}. Best is trial 0 with value: 0.9690075065829982.\n",
      "[I 2024-03-14 10:20:47,308] Trial 1 finished with value: 0.9689682051013323 and parameters: {'lambda_l1': 0.6245760287469893, 'lambda_l2': 0.002570603566117598, 'num_leaves': 182, 'feature_fraction': 0.41235069657748147, 'bagging_fraction': 0.9819459112971965, 'bagging_freq': 6, 'min_child_samples': 25}. Best is trial 0 with value: 0.9690075065829982.\n",
      "[I 2024-03-14 10:21:11,650] Trial 2 finished with value: 0.9690206070768868 and parameters: {'lambda_l1': 4.329370014459266e-07, 'lambda_l2': 4.4734294104626844e-07, 'num_leaves': 79, 'feature_fraction': 0.7148538589793427, 'bagging_fraction': 0.6591670111852694, 'bagging_freq': 3, 'min_child_samples': 63}. Best is trial 2 with value: 0.9690206070768868.\n",
      "[I 2024-03-14 10:21:41,853] Trial 3 finished with value: 0.9690107817064704 and parameters: {'lambda_l1': 1.8007140198129195e-07, 'lambda_l2': 4.258943089524393e-06, 'num_leaves': 95, 'feature_fraction': 0.6736419905302216, 'bagging_fraction': 0.8711055768358081, 'bagging_freq': 2, 'min_child_samples': 54}. Best is trial 2 with value: 0.9690206070768868.\n",
      "[I 2024-03-14 10:22:03,753] Trial 4 finished with value: 0.9689845807186931 and parameters: {'lambda_l1': 0.0021465011216654484, 'lambda_l2': 2.6185068507773707e-08, 'num_leaves': 156, 'feature_fraction': 0.502314474212375, 'bagging_fraction': 0.43903095579116774, 'bagging_freq': 7, 'min_child_samples': 97}. Best is trial 2 with value: 0.9690206070768868.\n",
      "[I 2024-03-14 10:22:22,290] Trial 5 finished with value: 0.9690697339289691 and parameters: {'lambda_l1': 0.18861495878553936, 'lambda_l2': 5.514725787121931e-06, 'num_leaves': 26, 'feature_fraction': 0.8105398159072941, 'bagging_fraction': 0.6640914962437607, 'bagging_freq': 1, 'min_child_samples': 52}. Best is trial 5 with value: 0.9690697339289691.\n",
      "[I 2024-03-14 10:22:45,534] Trial 6 finished with value: 0.969066458805497 and parameters: {'lambda_l1': 2.039373116525212e-08, 'lambda_l2': 1.527156759251193, 'num_leaves': 67, 'feature_fraction': 0.7975133706123891, 'bagging_fraction': 0.5870266456536466, 'bagging_freq': 4, 'min_child_samples': 57}. Best is trial 5 with value: 0.9690697339289691.\n",
      "[I 2024-03-14 10:23:22,257] Trial 7 finished with value: 0.9690566334350805 and parameters: {'lambda_l1': 4.609885087947832e-07, 'lambda_l2': 5.324289357128436, 'num_leaves': 199, 'feature_fraction': 0.9636993649385135, 'bagging_fraction': 0.9368964102565893, 'bagging_freq': 5, 'min_child_samples': 93}. Best is trial 5 with value: 0.9690697339289691.\n",
      "[I 2024-03-14 10:23:41,284] Trial 8 finished with value: 0.9690697339289691 and parameters: {'lambda_l1': 6.257956190096665e-08, 'lambda_l2': 5.805581976088804e-07, 'num_leaves': 13, 'feature_fraction': 0.5951981984579586, 'bagging_fraction': 0.6332063738136893, 'bagging_freq': 2, 'min_child_samples': 84}. Best is trial 5 with value: 0.9690697339289691.\n",
      "[I 2024-03-14 10:24:03,024] Trial 9 finished with value: 0.9690009563360539 and parameters: {'lambda_l1': 1.6247252885719427e-05, 'lambda_l2': 3.376063348877853e-06, 'num_leaves': 140, 'feature_fraction': 0.4845545349848576, 'bagging_fraction': 0.8813181884524238, 'bagging_freq': 1, 'min_child_samples': 99}. Best is trial 5 with value: 0.9690697339289691.\n",
      "[I 2024-03-14 10:24:32,809] Trial 10 finished with value: 0.9690042314595261 and parameters: {'lambda_l1': 6.135399532356546, 'lambda_l2': 0.0010706760408431444, 'num_leaves': 249, 'feature_fraction': 0.9222961838648158, 'bagging_fraction': 0.7840531014805339, 'bagging_freq': 1, 'min_child_samples': 36}. Best is trial 5 with value: 0.9690697339289691.\n",
      "[I 2024-03-14 10:24:46,316] Trial 11 finished with value: 0.9690762841759134 and parameters: {'lambda_l1': 0.021488223126238822, 'lambda_l2': 8.964640297553506e-05, 'num_leaves': 3, 'feature_fraction': 0.6021085229279542, 'bagging_fraction': 0.6876941210333852, 'bagging_freq': 3, 'min_child_samples': 76}. Best is trial 11 with value: 0.9690762841759134.\n",
      "[I 2024-03-14 10:25:00,197] Trial 12 finished with value: 0.9690762841759134 and parameters: {'lambda_l1': 0.02568991126324227, 'lambda_l2': 5.200036016621037e-05, 'num_leaves': 4, 'feature_fraction': 0.8605755986204748, 'bagging_fraction': 0.7515172174384414, 'bagging_freq': 4, 'min_child_samples': 75}. Best is trial 11 with value: 0.9690762841759134.\n",
      "[I 2024-03-14 10:25:17,167] Trial 13 finished with value: 0.9690762841759134 and parameters: {'lambda_l1': 0.015942445123428885, 'lambda_l2': 0.0210855575380188, 'num_leaves': 8, 'feature_fraction': 0.8794690217966241, 'bagging_fraction': 0.7400885496795202, 'bagging_freq': 4, 'min_child_samples': 73}. Best is trial 11 with value: 0.9690762841759134.\n",
      "[I 2024-03-14 10:25:41,952] Trial 14 finished with value: 0.9690304324473032 and parameters: {'lambda_l1': 0.009263706846277935, 'lambda_l2': 0.00011682665785598863, 'num_leaves': 50, 'feature_fraction': 0.5973786180185324, 'bagging_fraction': 0.799512453201279, 'bagging_freq': 4, 'min_child_samples': 76}. Best is trial 11 with value: 0.9690762841759134.\n",
      "[I 2024-03-14 10:26:04,718] Trial 15 finished with value: 0.9689551046074437 and parameters: {'lambda_l1': 0.00034664929676398934, 'lambda_l2': 7.953707959611572e-05, 'num_leaves': 115, 'feature_fraction': 0.6336637455429674, 'bagging_fraction': 0.5262576568832046, 'bagging_freq': 5, 'min_child_samples': 71}. Best is trial 11 with value: 0.9690762841759134.\n",
      "[I 2024-03-14 10:26:30,488] Trial 16 finished with value: 0.969046808064664 and parameters: {'lambda_l1': 0.11215540437786899, 'lambda_l2': 0.08491648665143585, 'num_leaves': 54, 'feature_fraction': 0.8549341702078442, 'bagging_fraction': 0.7252487954731633, 'bagging_freq': 3, 'min_child_samples': 42}. Best is trial 11 with value: 0.9690762841759134.\n",
      "[I 2024-03-14 10:26:51,431] Trial 17 finished with value: 0.9690861095463299 and parameters: {'lambda_l1': 2.1027501459454756, 'lambda_l2': 5.127117846679184e-05, 'num_leaves': 33, 'feature_fraction': 0.9791930917480678, 'bagging_fraction': 0.5791835574482972, 'bagging_freq': 3, 'min_child_samples': 84}. Best is trial 17 with value: 0.9690861095463299.\n",
      "[I 2024-03-14 10:27:11,584] Trial 18 finished with value: 0.9690533583116083 and parameters: {'lambda_l1': 8.061607476502928, 'lambda_l2': 0.011466902422054562, 'num_leaves': 36, 'feature_fraction': 0.5275782177581845, 'bagging_fraction': 0.5618664424616499, 'bagging_freq': 3, 'min_child_samples': 85}. Best is trial 17 with value: 0.9690861095463299.\n",
      "[I 2024-03-14 10:27:34,546] Trial 19 finished with value: 0.9689289036196664 and parameters: {'lambda_l1': 0.9238283341321879, 'lambda_l2': 1.3616267517477989e-08, 'num_leaves': 106, 'feature_fraction': 0.9695829684016494, 'bagging_fraction': 0.41170837844894226, 'bagging_freq': 3, 'min_child_samples': 85}. Best is trial 17 with value: 0.9690861095463299.\n",
      "[I 2024-03-14 10:27:57,122] Trial 20 finished with value: 0.9690075065829982 and parameters: {'lambda_l1': 0.0011606812030628075, 'lambda_l2': 0.0006183359651251041, 'num_leaves': 76, 'feature_fraction': 0.6747418164840702, 'bagging_fraction': 0.6006252124966275, 'bagging_freq': 5, 'min_child_samples': 65}. Best is trial 17 with value: 0.9690861095463299.\n",
      "[I 2024-03-14 10:28:17,787] Trial 21 finished with value: 0.9690369826942475 and parameters: {'lambda_l1': 0.034729136690861404, 'lambda_l2': 3.3791701195414194e-05, 'num_leaves': 28, 'feature_fraction': 0.9886654324069657, 'bagging_fraction': 0.7021133053285501, 'bagging_freq': 4, 'min_child_samples': 80}. Best is trial 17 with value: 0.9690861095463299.\n",
      "[I 2024-03-14 10:28:29,977] Trial 22 finished with value: 0.9690762841759134 and parameters: {'lambda_l1': 1.1127287860687627, 'lambda_l2': 4.920211857677161e-05, 'num_leaves': 2, 'feature_fraction': 0.9064449211330521, 'bagging_fraction': 0.7935424819976383, 'bagging_freq': 3, 'min_child_samples': 91}. Best is trial 17 with value: 0.9690861095463299.\n",
      "[I 2024-03-14 10:28:57,075] Trial 23 finished with value: 0.9690926597932742 and parameters: {'lambda_l1': 3.9588135005628626e-05, 'lambda_l2': 1.0137542716800138e-05, 'num_leaves': 42, 'feature_fraction': 0.8238500211165573, 'bagging_fraction': 0.8461464854535333, 'bagging_freq': 2, 'min_child_samples': 68}. Best is trial 23 with value: 0.9690926597932742.\n",
      "[I 2024-03-14 10:29:23,722] Trial 24 finished with value: 0.9690369826942475 and parameters: {'lambda_l1': 1.8771908594079914e-05, 'lambda_l2': 2.733677308740838e-07, 'num_leaves': 43, 'feature_fraction': 0.7503182280567129, 'bagging_fraction': 0.8528396192081222, 'bagging_freq': 2, 'min_child_samples': 61}. Best is trial 23 with value: 0.9690926597932742.\n",
      "[I 2024-03-14 10:29:45,818] Trial 25 finished with value: 0.9689780304717488 and parameters: {'lambda_l1': 0.00034868116218423364, 'lambda_l2': 1.1053582340002114e-05, 'num_leaves': 66, 'feature_fraction': 0.8276394103662976, 'bagging_fraction': 0.48165324065536336, 'bagging_freq': 2, 'min_child_samples': 68}. Best is trial 23 with value: 0.9690926597932742.\n",
      "[I 2024-03-14 10:30:05,864] Trial 26 finished with value: 0.9690500831881362 and parameters: {'lambda_l1': 3.3685684447672443e-06, 'lambda_l2': 0.00041104953358097885, 'num_leaves': 20, 'feature_fraction': 0.5626567178162752, 'bagging_fraction': 0.6761383683670309, 'bagging_freq': 3, 'min_child_samples': 47}. Best is trial 23 with value: 0.9690926597932742.\n",
      "[I 2024-03-14 10:30:32,220] Trial 27 finished with value: 0.9689944060891096 and parameters: {'lambda_l1': 5.738421746790189e-05, 'lambda_l2': 1.1520553560161557e-06, 'num_leaves': 96, 'feature_fraction': 0.7518504346325774, 'bagging_fraction': 0.6198514628313088, 'bagging_freq': 2, 'min_child_samples': 88}. Best is trial 23 with value: 0.9690926597932742.\n",
      "[I 2024-03-14 10:30:50,861] Trial 28 finished with value: 0.9690402578177197 and parameters: {'lambda_l1': 0.002176890805708916, 'lambda_l2': 1.2078306659206338e-07, 'num_leaves': 42, 'feature_fraction': 0.9325894058024046, 'bagging_fraction': 0.8391370933281083, 'bagging_freq': 1, 'min_child_samples': 79}. Best is trial 23 with value: 0.9690926597932742.\n",
      "[I 2024-03-14 10:31:12,406] Trial 29 finished with value: 0.9690206070768868 and parameters: {'lambda_l1': 2.6805070936504914e-06, 'lambda_l2': 0.0031564530722047656, 'num_leaves': 58, 'feature_fraction': 0.7127877801307446, 'bagging_fraction': 0.5345936548860093, 'bagging_freq': 2, 'min_child_samples': 33}. Best is trial 23 with value: 0.9690926597932742.\n",
      "[I 2024-03-14 10:31:38,754] Trial 30 finished with value: 0.9689158031257779 and parameters: {'lambda_l1': 0.12751323263194153, 'lambda_l2': 1.3160642112007131e-05, 'num_leaves': 84, 'feature_fraction': 0.4455319068785594, 'bagging_fraction': 0.9160245126181087, 'bagging_freq': 3, 'min_child_samples': 7}. Best is trial 23 with value: 0.9690926597932742.\n",
      "[I 2024-03-14 10:32:00,860] Trial 31 finished with value: 0.9690566334350805 and parameters: {'lambda_l1': 8.294579312528034e-05, 'lambda_l2': 0.00014758668525875754, 'num_leaves': 23, 'feature_fraction': 0.872387794184559, 'bagging_fraction': 0.7515978565396022, 'bagging_freq': 4, 'min_child_samples': 73}. Best is trial 23 with value: 0.9690926597932742.\n",
      "[I 2024-03-14 10:32:13,988] Trial 32 finished with value: 0.9690762841759134 and parameters: {'lambda_l1': 0.006648782111685874, 'lambda_l2': 2.286185079536987e-05, 'num_leaves': 4, 'feature_fraction': 0.7724014558034853, 'bagging_fraction': 0.7613128129896118, 'bagging_freq': 5, 'min_child_samples': 69}. Best is trial 23 with value: 0.9690926597932742.\n",
      "[I 2024-03-14 10:32:35,578] Trial 33 finished with value: 0.9690435329411918 and parameters: {'lambda_l1': 0.05003536134587371, 'lambda_l2': 2.4042448283919397e-06, 'num_leaves': 33, 'feature_fraction': 0.9986412611997484, 'bagging_fraction': 0.709329421923366, 'bagging_freq': 3, 'min_child_samples': 17}. Best is trial 23 with value: 0.9690926597932742.\n",
      "[I 2024-03-14 10:32:57,836] Trial 34 finished with value: 0.9690893846698021 and parameters: {'lambda_l1': 0.3863987962499027, 'lambda_l2': 0.0001847459322096952, 'num_leaves': 17, 'feature_fraction': 0.9349975590886282, 'bagging_fraction': 0.9844503761582373, 'bagging_freq': 6, 'min_child_samples': 78}. Best is trial 23 with value: 0.9690926597932742.\n",
      "[I 2024-03-14 10:33:27,596] Trial 35 finished with value: 0.9690926597932742 and parameters: {'lambda_l1': 1.5468172078518363, 'lambda_l2': 0.0002229101325087084, 'num_leaves': 43, 'feature_fraction': 0.9317467873197222, 'bagging_fraction': 0.9978491408952097, 'bagging_freq': 2, 'min_child_samples': 62}. Best is trial 23 with value: 0.9690926597932742.\n",
      "[I 2024-03-14 10:34:02,617] Trial 36 finished with value: 0.9690500831881362 and parameters: {'lambda_l1': 2.7401000071028054, 'lambda_l2': 0.0017490834537287352, 'num_leaves': 177, 'feature_fraction': 0.9464262127236756, 'bagging_fraction': 0.9812054931769858, 'bagging_freq': 7, 'min_child_samples': 63}. Best is trial 23 with value: 0.9690926597932742.\n",
      "[I 2024-03-14 10:34:31,085] Trial 37 finished with value: 0.9690697339289691 and parameters: {'lambda_l1': 0.42079549957611584, 'lambda_l2': 0.00027073212501562425, 'num_leaves': 85, 'feature_fraction': 0.8999692101377037, 'bagging_fraction': 0.9927857673791651, 'bagging_freq': 6, 'min_child_samples': 57}. Best is trial 23 with value: 0.9690926597932742.\n",
      "[I 2024-03-14 10:35:02,597] Trial 38 finished with value: 0.9690435329411918 and parameters: {'lambda_l1': 1.8022811721909224, 'lambda_l2': 0.008237144359351571, 'num_leaves': 129, 'feature_fraction': 0.9471726039746219, 'bagging_fraction': 0.9417666223499873, 'bagging_freq': 6, 'min_child_samples': 53}. Best is trial 23 with value: 0.9690926597932742.\n",
      "[I 2024-03-14 10:35:33,746] Trial 39 finished with value: 0.9690730090524413 and parameters: {'lambda_l1': 0.3920981843112885, 'lambda_l2': 7.990539513122404e-06, 'num_leaves': 53, 'feature_fraction': 0.8237264530752054, 'bagging_fraction': 0.9574666470717058, 'bagging_freq': 2, 'min_child_samples': 48}. Best is trial 23 with value: 0.9690926597932742.\n",
      "[I 2024-03-14 10:35:56,673] Trial 40 finished with value: 0.969066458805497 and parameters: {'lambda_l1': 3.088208113447043, 'lambda_l2': 0.12265494738583436, 'num_leaves': 21, 'feature_fraction': 0.8963628208848027, 'bagging_fraction': 0.8902605879289022, 'bagging_freq': 6, 'min_child_samples': 94}. Best is trial 23 with value: 0.9690926597932742.\n",
      "[I 2024-03-14 10:36:23,852] Trial 41 finished with value: 0.9690566334350805 and parameters: {'lambda_l1': 0.27418783403433067, 'lambda_l2': 0.00023569396634766268, 'num_leaves': 37, 'feature_fraction': 0.9720071385789844, 'bagging_fraction': 0.9158920146303545, 'bagging_freq': 2, 'min_child_samples': 79}. Best is trial 23 with value: 0.9690926597932742.\n",
      "[I 2024-03-14 10:36:43,250] Trial 42 finished with value: 0.9690730090524413 and parameters: {'lambda_l1': 0.08017450346345491, 'lambda_l2': 0.0007025785910262428, 'num_leaves': 16, 'feature_fraction': 0.8457927363606076, 'bagging_fraction': 0.8194999824469958, 'bagging_freq': 1, 'min_child_samples': 60}. Best is trial 23 with value: 0.9690926597932742.\n",
      "[I 2024-03-14 10:37:13,050] Trial 43 finished with value: 0.969046808064664 and parameters: {'lambda_l1': 0.7386582471066984, 'lambda_l2': 2.214655712391642e-05, 'num_leaves': 72, 'feature_fraction': 0.9243665171579372, 'bagging_fraction': 0.9705028569725235, 'bagging_freq': 3, 'min_child_samples': 66}. Best is trial 23 with value: 0.9690926597932742.\n",
      "[I 2024-03-14 10:37:52,960] Trial 44 finished with value: 0.9690828344228577 and parameters: {'lambda_l1': 9.201030660440315, 'lambda_l2': 0.004210944317188008, 'num_leaves': 219, 'feature_fraction': 0.6432635392550948, 'bagging_fraction': 0.99973613206503, 'bagging_freq': 7, 'min_child_samples': 82}. Best is trial 23 with value: 0.9690926597932742.\n",
      "[I 2024-03-14 10:38:30,365] Trial 45 finished with value: 0.969046808064664 and parameters: {'lambda_l1': 9.744178663017529, 'lambda_l2': 0.0032624568947723746, 'num_leaves': 210, 'feature_fraction': 0.6516115854268305, 'bagging_fraction': 0.9114532857929112, 'bagging_freq': 7, 'min_child_samples': 82}. Best is trial 23 with value: 0.9690926597932742.\n",
      "[I 2024-03-14 10:39:06,896] Trial 46 finished with value: 0.9690402578177197 and parameters: {'lambda_l1': 2.7712688024027896, 'lambda_l2': 2.501849565072541e-06, 'num_leaves': 229, 'feature_fraction': 0.6815339067967752, 'bagging_fraction': 0.9966411398606243, 'bagging_freq': 7, 'min_child_samples': 100}. Best is trial 23 with value: 0.9690926597932742.\n",
      "[I 2024-03-14 10:39:39,860] Trial 47 finished with value: 0.9689911309656374 and parameters: {'lambda_l1': 4.609002528569423e-06, 'lambda_l2': 0.04790069590379512, 'num_leaves': 184, 'feature_fraction': 0.8041202485949461, 'bagging_fraction': 0.9472812246647752, 'bagging_freq': 7, 'min_child_samples': 88}. Best is trial 23 with value: 0.9690926597932742.\n",
      "[I 2024-03-14 10:40:16,712] Trial 48 finished with value: 0.9690369826942475 and parameters: {'lambda_l1': 4.974186333302866, 'lambda_l2': 0.0013163133890880258, 'num_leaves': 162, 'feature_fraction': 0.7826798624412215, 'bagging_fraction': 0.9660842591967853, 'bagging_freq': 6, 'min_child_samples': 70}. Best is trial 23 with value: 0.9690926597932742.\n",
      "[I 2024-03-14 10:40:42,354] Trial 49 finished with value: 0.9690173319534147 and parameters: {'lambda_l1': 8.029353572069664e-07, 'lambda_l2': 0.4605268483544354, 'num_leaves': 152, 'feature_fraction': 0.7283885712952756, 'bagging_fraction': 0.8845822315589769, 'bagging_freq': 1, 'min_child_samples': 95}. Best is trial 23 with value: 0.9690926597932742.\n",
      "[I 2024-03-14 10:41:18,271] Trial 50 finished with value: 0.9690337075707754 and parameters: {'lambda_l1': 1.1468423516312178, 'lambda_l2': 0.0055533730992027635, 'num_leaves': 252, 'feature_fraction': 0.9521642504759523, 'bagging_fraction': 0.9260194843511246, 'bagging_freq': 6, 'min_child_samples': 89}. Best is trial 23 with value: 0.9690926597932742.\n",
      "[I 2024-03-14 10:41:38,557] Trial 51 finished with value: 0.9690828344228577 and parameters: {'lambda_l1': 0.2055632132191491, 'lambda_l2': 0.00012223555873338567, 'num_leaves': 16, 'feature_fraction': 0.6434311340599954, 'bagging_fraction': 0.656757868816299, 'bagging_freq': 2, 'min_child_samples': 77}. Best is trial 23 with value: 0.9690926597932742.\n",
      "[I 2024-03-14 10:42:03,215] Trial 52 finished with value: 0.969023882200359 and parameters: {'lambda_l1': 0.20969701318251546, 'lambda_l2': 0.00015030549234891323, 'num_leaves': 64, 'feature_fraction': 0.6920516194585818, 'bagging_fraction': 0.6485518878259344, 'bagging_freq': 2, 'min_child_samples': 76}. Best is trial 23 with value: 0.9690926597932742.\n",
      "[I 2024-03-14 10:42:18,421] Trial 53 finished with value: 0.9690730090524413 and parameters: {'lambda_l1': 4.240008283558274, 'lambda_l2': 7.086181142815023e-05, 'num_leaves': 14, 'feature_fraction': 0.626069342402692, 'bagging_fraction': 0.5751116175085983, 'bagging_freq': 1, 'min_child_samples': 82}. Best is trial 23 with value: 0.9690926597932742.\n",
      "[I 2024-03-14 10:42:47,442] Trial 54 finished with value: 0.9690828344228577 and parameters: {'lambda_l1': 1.5976135285750852, 'lambda_l2': 0.000475355513941563, 'num_leaves': 44, 'feature_fraction': 0.5491271019657341, 'bagging_fraction': 0.9985276917798139, 'bagging_freq': 2, 'min_child_samples': 76}. Best is trial 23 with value: 0.9690926597932742.\n",
      "[I 2024-03-14 10:43:06,662] Trial 55 finished with value: 0.9690730090524413 and parameters: {'lambda_l1': 0.6293473312992355, 'lambda_l2': 5.382920143056992e-06, 'num_leaves': 29, 'feature_fraction': 0.6393401310658636, 'bagging_fraction': 0.6099226655255444, 'bagging_freq': 7, 'min_child_samples': 58}. Best is trial 23 with value: 0.9690926597932742.\n",
      "[I 2024-03-14 10:43:37,154] Trial 56 finished with value: 0.9689714802248045 and parameters: {'lambda_l1': 0.0001826508140973697, 'lambda_l2': 0.022884950026888378, 'num_leaves': 241, 'feature_fraction': 0.8869968257949546, 'bagging_fraction': 0.64205983846324, 'bagging_freq': 5, 'min_child_samples': 86}. Best is trial 23 with value: 0.9690926597932742.\n",
      "[I 2024-03-14 10:43:58,959] Trial 57 finished with value: 0.9690566334350805 and parameters: {'lambda_l1': 8.338465668640523e-06, 'lambda_l2': 3.796673899394536e-05, 'num_leaves': 12, 'feature_fraction': 0.9832010636066907, 'bagging_fraction': 0.8592003372959218, 'bagging_freq': 2, 'min_child_samples': 73}. Best is trial 23 with value: 0.9690926597932742.\n",
      "[I 2024-03-14 10:44:26,723] Trial 58 finished with value: 0.9690337075707754 and parameters: {'lambda_l1': 9.414361035633615, 'lambda_l2': 0.00018446028355894372, 'num_leaves': 200, 'feature_fraction': 0.6123427039465545, 'bagging_fraction': 0.4913546671205469, 'bagging_freq': 4, 'min_child_samples': 66}. Best is trial 23 with value: 0.9690926597932742.\n",
      "[I 2024-03-14 10:44:44,952] Trial 59 finished with value: 0.9690337075707754 and parameters: {'lambda_l1': 0.0009052845013921493, 'lambda_l2': 0.0007527882256652387, 'num_leaves': 49, 'feature_fraction': 0.9124791985048217, 'bagging_fraction': 0.6727800404545862, 'bagging_freq': 1, 'min_child_samples': 79}. Best is trial 23 with value: 0.9690926597932742.\n",
      "[I 2024-03-14 10:45:17,017] Trial 60 finished with value: 0.9690173319534147 and parameters: {'lambda_l1': 1.9124143414191027e-08, 'lambda_l2': 1.8590158192808015e-05, 'num_leaves': 118, 'feature_fraction': 0.5810436910587811, 'bagging_fraction': 0.9505343131454463, 'bagging_freq': 2, 'min_child_samples': 91}. Best is trial 23 with value: 0.9690926597932742.\n",
      "[I 2024-03-14 10:45:43,782] Trial 61 finished with value: 0.9690599085585526 and parameters: {'lambda_l1': 1.2952434801989414, 'lambda_l2': 0.00042853434764389495, 'num_leaves': 43, 'feature_fraction': 0.4027084924690354, 'bagging_fraction': 0.9986435479980014, 'bagging_freq': 2, 'min_child_samples': 76}. Best is trial 23 with value: 0.9690926597932742.\n",
      "[I 2024-03-14 10:46:11,751] Trial 62 finished with value: 0.9690631836820248 and parameters: {'lambda_l1': 1.8927101926159973, 'lambda_l2': 7.310204695055626e-05, 'num_leaves': 27, 'feature_fraction': 0.6548410949596245, 'bagging_fraction': 0.9770593645416095, 'bagging_freq': 2, 'min_child_samples': 82}. Best is trial 23 with value: 0.9690926597932742.\n",
      "[I 2024-03-14 10:46:38,480] Trial 63 finished with value: 0.9690533583116083 and parameters: {'lambda_l1': 0.5026497554418318, 'lambda_l2': 0.0021478391985351487, 'num_leaves': 58, 'feature_fraction': 0.5167994872217364, 'bagging_fraction': 0.901274310763557, 'bagging_freq': 3, 'min_child_samples': 72}. Best is trial 23 with value: 0.9690926597932742.\n",
      "[I 2024-03-14 10:47:05,403] Trial 64 finished with value: 0.9690599085585526 and parameters: {'lambda_l1': 0.16817263862042697, 'lambda_l2': 0.0003147985202191761, 'num_leaves': 39, 'feature_fraction': 0.5486863727164182, 'bagging_fraction': 0.9339653189675022, 'bagging_freq': 2, 'min_child_samples': 64}. Best is trial 23 with value: 0.9690926597932742.\n",
      "[I 2024-03-14 10:47:30,836] Trial 65 finished with value: 0.9690500831881362 and parameters: {'lambda_l1': 0.07209554160535094, 'lambda_l2': 0.0010505806434372568, 'num_leaves': 47, 'feature_fraction': 0.4601844271853684, 'bagging_fraction': 0.9642230733964657, 'bagging_freq': 3, 'min_child_samples': 68}. Best is trial 23 with value: 0.9690926597932742.\n",
      "[I 2024-03-14 10:47:51,242] Trial 66 finished with value: 0.9690697339289691 and parameters: {'lambda_l1': 5.021230419852466, 'lambda_l2': 4.5834059069905524e-05, 'num_leaves': 32, 'feature_fraction': 0.5525525922579582, 'bagging_fraction': 0.9995852463303019, 'bagging_freq': 1, 'min_child_samples': 77}. Best is trial 23 with value: 0.9690926597932742.\n",
      "[I 2024-03-14 10:48:15,096] Trial 67 finished with value: 0.969066458805497 and parameters: {'lambda_l1': 5.045730008119376e-05, 'lambda_l2': 9.152524603245565, 'num_leaves': 62, 'feature_fraction': 0.49093501566576503, 'bagging_fraction': 0.5890082990605756, 'bagging_freq': 2, 'min_child_samples': 82}. Best is trial 23 with value: 0.9690926597932742.\n",
      "[I 2024-03-14 10:48:31,490] Trial 68 finished with value: 0.9690730090524413 and parameters: {'lambda_l1': 0.011827629295958205, 'lambda_l2': 1.3071340695228971e-06, 'num_leaves': 10, 'feature_fraction': 0.5799794956458385, 'bagging_fraction': 0.5611397363012693, 'bagging_freq': 3, 'min_child_samples': 85}. Best is trial 23 with value: 0.9690926597932742.\n",
      "[I 2024-03-14 10:48:54,542] Trial 69 finished with value: 0.9690828344228577 and parameters: {'lambda_l1': 1.7255954860595268, 'lambda_l2': 0.0045124497895754, 'num_leaves': 24, 'feature_fraction': 0.7177824573704427, 'bagging_fraction': 0.7209442101593454, 'bagging_freq': 2, 'min_child_samples': 74}. Best is trial 23 with value: 0.9690926597932742.\n",
      "[I 2024-03-14 10:49:16,484] Trial 70 finished with value: 0.9689420041135551 and parameters: {'lambda_l1': 0.28777885642187273, 'lambda_l2': 0.00011505110130341097, 'num_leaves': 103, 'feature_fraction': 0.8700184470289793, 'bagging_fraction': 0.44901576443394575, 'bagging_freq': 4, 'min_child_samples': 71}. Best is trial 23 with value: 0.9690926597932742.\n",
      "[I 2024-03-14 10:49:36,877] Trial 71 finished with value: 0.969066458805497 and parameters: {'lambda_l1': 1.3011492511356846, 'lambda_l2': 0.014382152958455007, 'num_leaves': 20, 'feature_fraction': 0.7050930915782777, 'bagging_fraction': 0.6252237479878274, 'bagging_freq': 2, 'min_child_samples': 75}. Best is trial 23 with value: 0.9690926597932742.\n",
      "[I 2024-03-14 10:50:01,961] Trial 72 finished with value: 0.969046808064664 and parameters: {'lambda_l1': 2.137039503190298, 'lambda_l2': 0.004424479475756561, 'num_leaves': 33, 'feature_fraction': 0.7311103485779146, 'bagging_fraction': 0.7788004638041511, 'bagging_freq': 2, 'min_child_samples': 79}. Best is trial 23 with value: 0.9690926597932742.\n",
      "[I 2024-03-14 10:50:26,047] Trial 73 finished with value: 0.9690893846698021 and parameters: {'lambda_l1': 4.708139719504843, 'lambda_l2': 0.0005051129910135602, 'num_leaves': 22, 'feature_fraction': 0.8364427193582905, 'bagging_fraction': 0.7165052692826601, 'bagging_freq': 2, 'min_child_samples': 61}. Best is trial 23 with value: 0.9690926597932742.\n",
      "[I 2024-03-14 10:50:39,956] Trial 74 finished with value: 0.9690762841759134 and parameters: {'lambda_l1': 6.1140994632701515, 'lambda_l2': 0.00044466284774330515, 'num_leaves': 3, 'feature_fraction': 0.9335279594944379, 'bagging_fraction': 0.8077063259942515, 'bagging_freq': 3, 'min_child_samples': 63}. Best is trial 23 with value: 0.9690926597932742.\n",
      "[I 2024-03-14 10:51:00,561] Trial 75 finished with value: 0.9690271573238312 and parameters: {'lambda_l1': 0.8575088569272511, 'lambda_l2': 0.001427121657411527, 'num_leaves': 71, 'feature_fraction': 0.837881516410025, 'bagging_fraction': 0.5238898421820536, 'bagging_freq': 1, 'min_child_samples': 55}. Best is trial 23 with value: 0.9690926597932742.\n",
      "[I 2024-03-14 10:51:28,486] Trial 76 finished with value: 0.969066458805497 and parameters: {'lambda_l1': 2.7602868111369876, 'lambda_l2': 9.243879195268254e-06, 'num_leaves': 46, 'feature_fraction': 0.66441282783343, 'bagging_fraction': 0.8311435468904614, 'bagging_freq': 2, 'min_child_samples': 50}. Best is trial 23 with value: 0.9690926597932742.\n",
      "[I 2024-03-14 10:51:55,271] Trial 77 finished with value: 0.9690042314595261 and parameters: {'lambda_l1': 0.503368560839023, 'lambda_l2': 0.00019588265410779417, 'num_leaves': 82, 'feature_fraction': 0.9734639645154471, 'bagging_fraction': 0.686809151879036, 'bagging_freq': 2, 'min_child_samples': 68}. Best is trial 23 with value: 0.9690926597932742.\n",
      "[I 2024-03-14 10:52:23,071] Trial 78 finished with value: 0.9690795592993856 and parameters: {'lambda_l1': 4.515918786186976, 'lambda_l2': 8.682436241443487e-05, 'num_leaves': 37, 'feature_fraction': 0.9524260361854752, 'bagging_fraction': 0.9746838252013434, 'bagging_freq': 3, 'min_child_samples': 60}. Best is trial 23 with value: 0.9690926597932742.\n",
      "[I 2024-03-14 10:52:44,324] Trial 79 finished with value: 0.9690795592993856 and parameters: {'lambda_l1': 0.0060814980290011325, 'lambda_l2': 0.0006269965925496693, 'num_leaves': 14, 'feature_fraction': 0.99853657519297, 'bagging_fraction': 0.9832177420542334, 'bagging_freq': 7, 'min_child_samples': 61}. Best is trial 23 with value: 0.9690926597932742.\n",
      "[I 2024-03-14 10:53:11,717] Trial 80 finished with value: 0.9690762841759134 and parameters: {'lambda_l1': 3.551387690154912e-05, 'lambda_l2': 3.567866183409257e-05, 'num_leaves': 91, 'feature_fraction': 0.6132597477772375, 'bagging_fraction': 0.8665809393417508, 'bagging_freq': 6, 'min_child_samples': 97}. Best is trial 23 with value: 0.9690926597932742.\n",
      "[I 2024-03-14 10:53:34,674] Trial 81 finished with value: 0.9691057602871628 and parameters: {'lambda_l1': 1.683094921772377, 'lambda_l2': 0.002665604099762467, 'num_leaves': 21, 'feature_fraction': 0.815220742109687, 'bagging_fraction': 0.7163065619735258, 'bagging_freq': 2, 'min_child_samples': 74}. Best is trial 81 with value: 0.9691057602871628.\n",
      "[I 2024-03-14 10:53:58,557] Trial 82 finished with value: 0.9690795592993856 and parameters: {'lambda_l1': 3.6865763895044075, 'lambda_l2': 0.0026952734288314727, 'num_leaves': 25, 'feature_fraction': 0.7835288319627978, 'bagging_fraction': 0.7308928081977419, 'bagging_freq': 2, 'min_child_samples': 67}. Best is trial 81 with value: 0.9691057602871628.\n",
      "[I 2024-03-14 10:54:21,893] Trial 83 finished with value: 0.9690762841759134 and parameters: {'lambda_l1': 0.8194028516562144, 'lambda_l2': 0.00826302254736535, 'num_leaves': 17, 'feature_fraction': 0.8505126230727673, 'bagging_fraction': 0.7767165905854426, 'bagging_freq': 2, 'min_child_samples': 71}. Best is trial 81 with value: 0.9691057602871628.\n",
      "[I 2024-03-14 10:54:42,088] Trial 84 finished with value: 0.9690566334350805 and parameters: {'lambda_l1': 0.30215397618917417, 'lambda_l2': 0.00030725440915819064, 'num_leaves': 39, 'feature_fraction': 0.819975319672661, 'bagging_fraction': 0.6961138433143201, 'bagging_freq': 1, 'min_child_samples': 78}. Best is trial 81 with value: 0.9691057602871628.\n",
      "[I 2024-03-14 10:54:58,764] Trial 85 finished with value: 0.9690697339289691 and parameters: {'lambda_l1': 9.418094760703267, 'lambda_l2': 0.0007888699474037361, 'num_leaves': 8, 'feature_fraction': 0.9152842268700395, 'bagging_fraction': 0.6660831255979344, 'bagging_freq': 3, 'min_child_samples': 84}. Best is trial 81 with value: 0.9691057602871628.\n",
      "[I 2024-03-14 10:55:24,725] Trial 86 finished with value: 0.969046808064664 and parameters: {'lambda_l1': 0.08816701738598294, 'lambda_l2': 1.4159789143073807e-05, 'num_leaves': 55, 'feature_fraction': 0.7612381612309402, 'bagging_fraction': 0.7086019555948929, 'bagging_freq': 2, 'min_child_samples': 91}. Best is trial 81 with value: 0.9691057602871628.\n",
      "[I 2024-03-14 10:55:48,578] Trial 87 finished with value: 0.9690566334350805 and parameters: {'lambda_l1': 1.3873001742036652, 'lambda_l2': 2.3233173725757995e-05, 'num_leaves': 28, 'feature_fraction': 0.9380993981116074, 'bagging_fraction': 0.7490795508491099, 'bagging_freq': 2, 'min_child_samples': 55}. Best is trial 81 with value: 0.9691057602871628.\n",
      "[I 2024-03-14 10:56:22,450] Trial 88 finished with value: 0.9689845807186931 and parameters: {'lambda_l1': 0.18988154542416436, 'lambda_l2': 0.00011030296948434589, 'num_leaves': 218, 'feature_fraction': 0.8879413439803064, 'bagging_fraction': 0.9542835880248596, 'bagging_freq': 5, 'min_child_samples': 81}. Best is trial 81 with value: 0.9691057602871628.\n",
      "[I 2024-03-14 10:56:57,938] Trial 89 finished with value: 0.969046808064664 and parameters: {'lambda_l1': 6.583679375758616, 'lambda_l2': 0.026032051241491782, 'num_leaves': 168, 'feature_fraction': 0.7998534669964522, 'bagging_fraction': 0.7664073107424599, 'bagging_freq': 3, 'min_child_samples': 74}. Best is trial 81 with value: 0.9691057602871628.\n",
      "[I 2024-03-14 10:57:18,975] Trial 90 finished with value: 0.9690762841759134 and parameters: {'lambda_l1': 3.1592227431541247, 'lambda_l2': 0.0018239473928897533, 'num_leaves': 18, 'feature_fraction': 0.8353985881322339, 'bagging_fraction': 0.9341921962463129, 'bagging_freq': 1, 'min_child_samples': 44}. Best is trial 81 with value: 0.9691057602871628.\n",
      "[I 2024-03-14 10:57:42,921] Trial 91 finished with value: 0.9690795592993856 and parameters: {'lambda_l1': 1.890555687570235, 'lambda_l2': 0.004754684351883266, 'num_leaves': 26, 'feature_fraction': 0.86284910292203, 'bagging_fraction': 0.7152017596470355, 'bagging_freq': 2, 'min_child_samples': 74}. Best is trial 81 with value: 0.9691057602871628.\n",
      "[I 2024-03-14 10:58:06,740] Trial 92 finished with value: 0.9690599085585526 and parameters: {'lambda_l1': 0.681609329111696, 'lambda_l2': 0.0011752908518412645, 'num_leaves': 33, 'feature_fraction': 0.735792949316273, 'bagging_fraction': 0.7300376994960655, 'bagging_freq': 2, 'min_child_samples': 70}. Best is trial 81 with value: 0.9691057602871628.\n",
      "[I 2024-03-14 10:58:28,831] Trial 93 finished with value: 0.9690533583116083 and parameters: {'lambda_l1': 1.8064103631241266, 'lambda_l2': 0.0003983505922508327, 'num_leaves': 21, 'feature_fraction': 0.9593542039484659, 'bagging_fraction': 0.6854044222162511, 'bagging_freq': 2, 'min_child_samples': 77}. Best is trial 81 with value: 0.9691057602871628.\n",
      "[I 2024-03-14 10:59:03,865] Trial 94 finished with value: 0.9690304324473032 and parameters: {'lambda_l1': 0.39051138541177594, 'lambda_l2': 0.0001630687478216958, 'num_leaves': 137, 'feature_fraction': 0.8151874966143875, 'bagging_fraction': 0.9877432661112203, 'bagging_freq': 2, 'min_child_samples': 84}. Best is trial 81 with value: 0.9691057602871628.\n",
      "[I 2024-03-14 10:59:22,092] Trial 95 finished with value: 0.9690762841759134 and parameters: {'lambda_l1': 1.0856558225094133, 'lambda_l2': 0.0028161640161078944, 'num_leaves': 8, 'feature_fraction': 0.6847942290451984, 'bagging_fraction': 0.7235270637684282, 'bagging_freq': 2, 'min_child_samples': 65}. Best is trial 81 with value: 0.9691057602871628.\n",
      "[I 2024-03-14 10:59:43,536] Trial 96 finished with value: 0.9690369826942475 and parameters: {'lambda_l1': 6.737253513676102e-08, 'lambda_l2': 0.009103904353672669, 'num_leaves': 43, 'feature_fraction': 0.7917670004009254, 'bagging_fraction': 0.6607829451447647, 'bagging_freq': 5, 'min_child_samples': 88}. Best is trial 81 with value: 0.9691057602871628.\n",
      "[I 2024-03-14 11:00:01,934] Trial 97 finished with value: 0.9690697339289691 and parameters: {'lambda_l1': 0.00011869902890528456, 'lambda_l2': 5.8943384342693035e-05, 'num_leaves': 23, 'feature_fraction': 0.7200227093268011, 'bagging_fraction': 0.739063964114874, 'bagging_freq': 1, 'min_child_samples': 17}. Best is trial 81 with value: 0.9691057602871628.\n",
      "[I 2024-03-14 11:00:27,239] Trial 98 finished with value: 0.9690533583116083 and parameters: {'lambda_l1': 3.0696173319625477, 'lambda_l2': 0.000936956095073743, 'num_leaves': 50, 'feature_fraction': 0.7577710677110443, 'bagging_fraction': 0.6443469658169291, 'bagging_freq': 2, 'min_child_samples': 80}. Best is trial 81 with value: 0.9691057602871628.\n",
      "[I 2024-03-14 11:00:45,273] Trial 99 finished with value: 0.9690533583116083 and parameters: {'lambda_l1': 0.132109230345297, 'lambda_l2': 0.04745535957891691, 'num_leaves': 32, 'feature_fraction': 0.6361296416260294, 'bagging_fraction': 0.5464813339622545, 'bagging_freq': 7, 'min_child_samples': 72}. Best is trial 81 with value: 0.9691057602871628.\n"
     ]
    }
   ],
   "source": [
    "sampler = TPESampler(seed=42)\n",
    "lgb_study = optuna.create_study(study_name=\"lightgbm\", direction=\"maximize\", sampler=sampler)\n",
    "lgb_study.optimize(objective, n_trials=100)"
   ]
  },
  {
   "cell_type": "code",
   "execution_count": 9,
   "id": "460602f1",
   "metadata": {
    "execution": {
     "iopub.execute_input": "2024-03-14T11:00:45.308482Z",
     "iopub.status.busy": "2024-03-14T11:00:45.308195Z",
     "iopub.status.idle": "2024-03-14T11:00:45.313029Z",
     "shell.execute_reply": "2024-03-14T11:00:45.312204Z"
    },
    "papermill": {
     "duration": 0.021445,
     "end_time": "2024-03-14T11:00:45.315045",
     "exception": false,
     "start_time": "2024-03-14T11:00:45.293600",
     "status": "completed"
    },
    "tags": []
   },
   "outputs": [
    {
     "name": "stdout",
     "output_type": "stream",
     "text": [
      "Best parameters: {'lambda_l1': 1.683094921772377, 'lambda_l2': 0.002665604099762467, 'num_leaves': 21, 'feature_fraction': 0.815220742109687, 'bagging_fraction': 0.7163065619735258, 'bagging_freq': 2, 'min_child_samples': 74}\n"
     ]
    }
   ],
   "source": [
    "print('Best parameters:', lgb_study.best_params)"
   ]
  },
  {
   "cell_type": "code",
   "execution_count": 10,
   "id": "a92b5cd4",
   "metadata": {
    "execution": {
     "iopub.execute_input": "2024-03-14T11:00:45.344149Z",
     "iopub.status.busy": "2024-03-14T11:00:45.343856Z",
     "iopub.status.idle": "2024-03-14T11:00:45.348467Z",
     "shell.execute_reply": "2024-03-14T11:00:45.347637Z"
    },
    "papermill": {
     "duration": 0.021495,
     "end_time": "2024-03-14T11:00:45.350366",
     "exception": false,
     "start_time": "2024-03-14T11:00:45.328871",
     "status": "completed"
    },
    "tags": []
   },
   "outputs": [
    {
     "name": "stdout",
     "output_type": "stream",
     "text": [
      "Best value: 0.9691057602871628\n"
     ]
    }
   ],
   "source": [
    "print('Best value:', lgb_study.best_value)"
   ]
  },
  {
   "cell_type": "code",
   "execution_count": 11,
   "id": "85a46148",
   "metadata": {
    "execution": {
     "iopub.execute_input": "2024-03-14T11:00:45.379464Z",
     "iopub.status.busy": "2024-03-14T11:00:45.379166Z",
     "iopub.status.idle": "2024-03-14T11:00:45.384092Z",
     "shell.execute_reply": "2024-03-14T11:00:45.383206Z"
    },
    "papermill": {
     "duration": 0.021788,
     "end_time": "2024-03-14T11:00:45.386091",
     "exception": false,
     "start_time": "2024-03-14T11:00:45.364303",
     "status": "completed"
    },
    "tags": []
   },
   "outputs": [
    {
     "name": "stdout",
     "output_type": "stream",
     "text": [
      "Best trial: FrozenTrial(number=81, state=TrialState.COMPLETE, values=[0.9691057602871628], datetime_start=datetime.datetime(2024, 3, 14, 10, 53, 11, 718141), datetime_complete=datetime.datetime(2024, 3, 14, 10, 53, 34, 674366), params={'lambda_l1': 1.683094921772377, 'lambda_l2': 0.002665604099762467, 'num_leaves': 21, 'feature_fraction': 0.815220742109687, 'bagging_fraction': 0.7163065619735258, 'bagging_freq': 2, 'min_child_samples': 74}, user_attrs={}, system_attrs={}, intermediate_values={}, distributions={'lambda_l1': FloatDistribution(high=10.0, log=True, low=1e-08, step=None), 'lambda_l2': FloatDistribution(high=10.0, log=True, low=1e-08, step=None), 'num_leaves': IntDistribution(high=256, log=False, low=2, step=1), 'feature_fraction': FloatDistribution(high=1.0, log=False, low=0.4, step=None), 'bagging_fraction': FloatDistribution(high=1.0, log=False, low=0.4, step=None), 'bagging_freq': IntDistribution(high=7, log=False, low=1, step=1), 'min_child_samples': IntDistribution(high=100, log=False, low=5, step=1)}, trial_id=81, value=None)\n"
     ]
    }
   ],
   "source": [
    "print('Best trial:', lgb_study.best_trial)"
   ]
  },
  {
   "cell_type": "markdown",
   "id": "db661e63",
   "metadata": {
    "papermill": {
     "duration": 0.014158,
     "end_time": "2024-03-14T11:00:45.414216",
     "exception": false,
     "start_time": "2024-03-14T11:00:45.400058",
     "status": "completed"
    },
    "tags": []
   },
   "source": [
    "# XGBClassifier"
   ]
  },
  {
   "cell_type": "code",
   "execution_count": 12,
   "id": "fe17e454",
   "metadata": {
    "execution": {
     "iopub.execute_input": "2024-03-14T11:00:45.444147Z",
     "iopub.status.busy": "2024-03-14T11:00:45.443310Z",
     "iopub.status.idle": "2024-03-14T11:00:45.453779Z",
     "shell.execute_reply": "2024-03-14T11:00:45.452823Z"
    },
    "papermill": {
     "duration": 0.02749,
     "end_time": "2024-03-14T11:00:45.455706",
     "exception": false,
     "start_time": "2024-03-14T11:00:45.428216",
     "status": "completed"
    },
    "tags": []
   },
   "outputs": [],
   "source": [
    "if submit == False:\n",
    "    import optuna\n",
    "    from xgboost import XGBClassifier\n",
    "    from sklearn.model_selection import train_test_split\n",
    "    from sklearn.metrics import roc_auc_score\n",
    "\n",
    "    # Assuming 'X' is your feature matrix and 'y' is your target variable\n",
    "\n",
    "\n",
    "    def objective(trial):\n",
    "\n",
    "        params = {\n",
    "            'max_depth': trial.suggest_int('max_depth', 5, 10),\n",
    "            'min_child_weight': trial.suggest_int('min_child_weight', 1, 10),\n",
    "            'learning_rate': trial.suggest_float('learning_rate', 0.01, 1.0),\n",
    "            'n_estimators': trial.suggest_int('n_estimators', 150, 1000),\n",
    "            'subsample': trial.suggest_float('subsample', 0.01, 1.0),\n",
    "            'colsample_bytree': trial.suggest_float('colsample_bytree', 0.01, 1.0),\n",
    "            'random_state': trial.suggest_categorical('random_state', [42]),\n",
    "            'tree_method': 'hist',  # Use GPU for training\n",
    "            'device': 'cuda',\n",
    "            'njobs': -1,\n",
    "            'eval_metric': 'auc',  # Evaluation metric\n",
    "            'verbosity': 2,  # Set verbosity to 0 for less output\n",
    "        }\n",
    "\n",
    "        model = XGBClassifier(**params)\n",
    "\n",
    "        model.fit(X_train, y_train, eval_set=[(X_valid, y_valid)], early_stopping_rounds=100, verbose=False)\n",
    "\n",
    "        y_pred = model.predict_proba(X_valid)[:, 1]\n",
    "        auc = roc_auc_score(y_valid, y_pred)\n",
    "\n",
    "        return auc\n",
    "\n",
    "    study = optuna.create_study(direction='maximize')\n",
    "    study.optimize(objective, n_trials=100)\n",
    "\n",
    "    print('Number of finished trials: ', len(study.trials))\n",
    "    print('Best trial:')\n",
    "    trial = study.best_trial\n",
    "\n",
    "    print('Value: ', trial.value)\n",
    "    print('Params: ')\n",
    "    for key, value in trial.params.items():\n",
    "        print(f'    {key}: {value}')"
   ]
  },
  {
   "cell_type": "markdown",
   "id": "d25e8aff",
   "metadata": {
    "papermill": {
     "duration": 0.013829,
     "end_time": "2024-03-14T11:00:45.484368",
     "exception": false,
     "start_time": "2024-03-14T11:00:45.470539",
     "status": "completed"
    },
    "tags": []
   },
   "source": [
    "# Catboost"
   ]
  },
  {
   "cell_type": "code",
   "execution_count": 13,
   "id": "a3f83d86",
   "metadata": {
    "execution": {
     "iopub.execute_input": "2024-03-14T11:00:45.513602Z",
     "iopub.status.busy": "2024-03-14T11:00:45.513290Z",
     "iopub.status.idle": "2024-03-14T11:00:45.522324Z",
     "shell.execute_reply": "2024-03-14T11:00:45.521465Z"
    },
    "papermill": {
     "duration": 0.025902,
     "end_time": "2024-03-14T11:00:45.524193",
     "exception": false,
     "start_time": "2024-03-14T11:00:45.498291",
     "status": "completed"
    },
    "tags": []
   },
   "outputs": [],
   "source": [
    "if submit==False:\n",
    "\n",
    "    import optuna\n",
    "    from catboost import CatBoostClassifier\n",
    "    from sklearn.model_selection import train_test_split\n",
    "    from sklearn.metrics import roc_auc_score\n",
    "\n",
    "    # Assuming 'X' is your feature matrix and 'y' is your target variable\n",
    "\n",
    "\n",
    "    def objective(trial):\n",
    "\n",
    "        params = {\n",
    "            'iterations': trial.suggest_int('iterations', 200, 1000),\n",
    "            'depth': trial.suggest_int('depth', 3, 10),\n",
    "            'min_data_in_leaf': trial.suggest_int('min_data_in_leaf', 2, 20),\n",
    "            'learning_rate': trial.suggest_float('learning_rate', 1e-4, 0.2, log=True),\n",
    "            'random_state': 42,\n",
    "            'verbose': 0,\n",
    "            'eval_metric': 'AUC',\n",
    "        }\n",
    "\n",
    "        model = CatBoostClassifier(**params)\n",
    "\n",
    "        model.fit(X_train, y_train, eval_set=[(X_valid, y_valid)], early_stopping_rounds=50)\n",
    "\n",
    "        y_pred = model.predict_proba(X_valid)[:, 1]\n",
    "        auc = roc_auc_score(y_valid, y_pred)\n",
    "\n",
    "        return auc\n",
    "\n",
    "    cat_study = optuna.create_study(direction='maximize')\n",
    "    cat_study.optimize(objective, n_trials=100)\n",
    "\n",
    "    print('Number of finished trials: ', len(cat_study.trials))\n",
    "    print('Best trial:')\n",
    "    trial = cat_study.best_trial\n",
    "\n",
    "    print('Value: ', trial.value)\n",
    "    print('Params: ')\n",
    "    for key, value in trial.params.items():\n",
    "        print(f'    {key}: {value}')"
   ]
  },
  {
   "cell_type": "markdown",
   "id": "a71e71cf",
   "metadata": {
    "papermill": {
     "duration": 0.01408,
     "end_time": "2024-03-14T11:00:45.552494",
     "exception": false,
     "start_time": "2024-03-14T11:00:45.538414",
     "status": "completed"
    },
    "tags": []
   },
   "source": [
    "# パラメータ"
   ]
  },
  {
   "cell_type": "code",
   "execution_count": 14,
   "id": "31ed2a1f",
   "metadata": {
    "execution": {
     "iopub.execute_input": "2024-03-14T11:00:45.581880Z",
     "iopub.status.busy": "2024-03-14T11:00:45.581545Z",
     "iopub.status.idle": "2024-03-14T11:00:45.585550Z",
     "shell.execute_reply": "2024-03-14T11:00:45.584714Z"
    },
    "papermill": {
     "duration": 0.020971,
     "end_time": "2024-03-14T11:00:45.587458",
     "exception": false,
     "start_time": "2024-03-14T11:00:45.566487",
     "status": "completed"
    },
    "tags": []
   },
   "outputs": [],
   "source": [
    "lgb_params = {}\n",
    "xgb_params = {}\n",
    "cat_params = {}"
   ]
  },
  {
   "cell_type": "code",
   "execution_count": 15,
   "id": "8216c6e0",
   "metadata": {
    "execution": {
     "iopub.execute_input": "2024-03-14T11:00:45.617049Z",
     "iopub.status.busy": "2024-03-14T11:00:45.616760Z",
     "iopub.status.idle": "2024-03-14T11:00:45.621120Z",
     "shell.execute_reply": "2024-03-14T11:00:45.620284Z"
    },
    "papermill": {
     "duration": 0.021326,
     "end_time": "2024-03-14T11:00:45.622915",
     "exception": false,
     "start_time": "2024-03-14T11:00:45.601589",
     "status": "completed"
    },
    "tags": []
   },
   "outputs": [],
   "source": [
    "lgb_model = LGBMClassifier(**lgb_params)\n",
    "xgb_model = XGBClassifier(**xgb_params)\n",
    "cat_model = CatBoostClassifier(**cat_params)"
   ]
  },
  {
   "cell_type": "code",
   "execution_count": null,
   "id": "927f9242",
   "metadata": {
    "papermill": {
     "duration": 0.014047,
     "end_time": "2024-03-14T11:00:45.651176",
     "exception": false,
     "start_time": "2024-03-14T11:00:45.637129",
     "status": "completed"
    },
    "tags": []
   },
   "outputs": [],
   "source": []
  }
 ],
 "metadata": {
  "kaggle": {
   "accelerator": "nvidiaTeslaT4",
   "dataSources": [
    {
     "databundleVersionId": 7921029,
     "sourceId": 50160,
     "sourceType": "competition"
    },
    {
     "datasetId": 4596894,
     "sourceId": 7841273,
     "sourceType": "datasetVersion"
    }
   ],
   "dockerImageVersionId": 30665,
   "isGpuEnabled": true,
   "isInternetEnabled": true,
   "language": "python",
   "sourceType": "notebook"
  },
  "kernelspec": {
   "display_name": "Python 3",
   "language": "python",
   "name": "python3"
  },
  "language_info": {
   "codemirror_mode": {
    "name": "ipython",
    "version": 3
   },
   "file_extension": ".py",
   "mimetype": "text/x-python",
   "name": "python",
   "nbconvert_exporter": "python",
   "pygments_lexer": "ipython3",
   "version": "3.10.13"
  },
  "papermill": {
   "default_parameters": {},
   "duration": 2492.37549,
   "end_time": "2024-03-14T11:00:46.692206",
   "environment_variables": {},
   "exception": null,
   "input_path": "__notebook__.ipynb",
   "output_path": "__notebook__.ipynb",
   "parameters": {},
   "start_time": "2024-03-14T10:19:14.316716",
   "version": "2.5.0"
  }
 },
 "nbformat": 4,
 "nbformat_minor": 5
}

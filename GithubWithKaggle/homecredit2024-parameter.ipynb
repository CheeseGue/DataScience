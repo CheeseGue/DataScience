{
 "cells": [
  {
   "cell_type": "code",
   "execution_count": 1,
   "id": "ffdc6328",
   "metadata": {
    "_cell_guid": "b1076dfc-b9ad-4769-8c92-a6c4dae69d19",
    "_uuid": "8f2839f25d086af736a60e9eeb907d3b93b6e0e5",
    "execution": {
     "iopub.execute_input": "2024-03-16T14:03:09.186304Z",
     "iopub.status.busy": "2024-03-16T14:03:09.185867Z",
     "iopub.status.idle": "2024-03-16T14:03:10.440413Z",
     "shell.execute_reply": "2024-03-16T14:03:10.439303Z"
    },
    "papermill": {
     "duration": 1.266931,
     "end_time": "2024-03-16T14:03:10.443834",
     "exception": false,
     "start_time": "2024-03-16T14:03:09.176903",
     "status": "completed"
    },
    "tags": []
   },
   "outputs": [
    {
     "name": "stdout",
     "output_type": "stream",
     "text": [
      "/kaggle/input/my-home-credit-credit-risk-model-stability/base_test.csv\n",
      "/kaggle/input/my-home-credit-credit-risk-model-stability/y_valid.csv\n",
      "/kaggle/input/my-home-credit-credit-risk-model-stability/X_valid.csv\n",
      "/kaggle/input/my-home-credit-credit-risk-model-stability/y_test.csv\n",
      "/kaggle/input/my-home-credit-credit-risk-model-stability/X_test.csv\n",
      "/kaggle/input/my-home-credit-credit-risk-model-stability/y_train.csv\n",
      "/kaggle/input/my-home-credit-credit-risk-model-stability/X_train.csv\n",
      "/kaggle/input/my-home-credit-credit-risk-model-stability/base_train.csv\n",
      "/kaggle/input/my-home-credit-credit-risk-model-stability/base_valid.csv\n",
      "/kaggle/input/my2-home-credit-credit-risk-model-stability/df_train.csv\n",
      "/kaggle/input/my2-home-credit-credit-risk-model-stability/df_test.csv\n",
      "/kaggle/input/home-credit-credit-risk-model-stability/sample_submission.csv\n",
      "/kaggle/input/home-credit-credit-risk-model-stability/feature_definitions.csv\n",
      "/kaggle/input/home-credit-credit-risk-model-stability/parquet_files/test/test_deposit_1.parquet\n",
      "/kaggle/input/home-credit-credit-risk-model-stability/parquet_files/test/test_applprev_2.parquet\n",
      "/kaggle/input/home-credit-credit-risk-model-stability/parquet_files/test/test_static_cb_0.parquet\n",
      "/kaggle/input/home-credit-credit-risk-model-stability/parquet_files/test/test_static_0_0.parquet\n",
      "/kaggle/input/home-credit-credit-risk-model-stability/parquet_files/test/test_credit_bureau_a_1_3.parquet\n",
      "/kaggle/input/home-credit-credit-risk-model-stability/parquet_files/test/test_credit_bureau_a_1_2.parquet\n",
      "/kaggle/input/home-credit-credit-risk-model-stability/parquet_files/test/test_tax_registry_b_1.parquet\n",
      "/kaggle/input/home-credit-credit-risk-model-stability/parquet_files/test/test_static_0_2.parquet\n",
      "/kaggle/input/home-credit-credit-risk-model-stability/parquet_files/test/test_credit_bureau_a_2_3.parquet\n",
      "/kaggle/input/home-credit-credit-risk-model-stability/parquet_files/test/test_credit_bureau_a_2_9.parquet\n",
      "/kaggle/input/home-credit-credit-risk-model-stability/parquet_files/test/test_debitcard_1.parquet\n",
      "/kaggle/input/home-credit-credit-risk-model-stability/parquet_files/test/test_credit_bureau_a_1_1.parquet\n",
      "/kaggle/input/home-credit-credit-risk-model-stability/parquet_files/test/test_credit_bureau_a_2_2.parquet\n",
      "/kaggle/input/home-credit-credit-risk-model-stability/parquet_files/test/test_credit_bureau_a_2_11.parquet\n",
      "/kaggle/input/home-credit-credit-risk-model-stability/parquet_files/test/test_applprev_1_2.parquet\n",
      "/kaggle/input/home-credit-credit-risk-model-stability/parquet_files/test/test_credit_bureau_a_2_1.parquet\n",
      "/kaggle/input/home-credit-credit-risk-model-stability/parquet_files/test/test_credit_bureau_a_1_4.parquet\n",
      "/kaggle/input/home-credit-credit-risk-model-stability/parquet_files/test/test_tax_registry_c_1.parquet\n",
      "/kaggle/input/home-credit-credit-risk-model-stability/parquet_files/test/test_applprev_1_0.parquet\n",
      "/kaggle/input/home-credit-credit-risk-model-stability/parquet_files/test/test_tax_registry_a_1.parquet\n",
      "/kaggle/input/home-credit-credit-risk-model-stability/parquet_files/test/test_credit_bureau_a_2_6.parquet\n",
      "/kaggle/input/home-credit-credit-risk-model-stability/parquet_files/test/test_credit_bureau_a_2_5.parquet\n",
      "/kaggle/input/home-credit-credit-risk-model-stability/parquet_files/test/test_credit_bureau_b_1.parquet\n",
      "/kaggle/input/home-credit-credit-risk-model-stability/parquet_files/test/test_other_1.parquet\n",
      "/kaggle/input/home-credit-credit-risk-model-stability/parquet_files/test/test_static_0_1.parquet\n",
      "/kaggle/input/home-credit-credit-risk-model-stability/parquet_files/test/test_credit_bureau_a_2_0.parquet\n",
      "/kaggle/input/home-credit-credit-risk-model-stability/parquet_files/test/test_applprev_1_1.parquet\n",
      "/kaggle/input/home-credit-credit-risk-model-stability/parquet_files/test/test_base.parquet\n",
      "/kaggle/input/home-credit-credit-risk-model-stability/parquet_files/test/test_person_1.parquet\n",
      "/kaggle/input/home-credit-credit-risk-model-stability/parquet_files/test/test_credit_bureau_a_2_7.parquet\n",
      "/kaggle/input/home-credit-credit-risk-model-stability/parquet_files/test/test_credit_bureau_a_2_10.parquet\n",
      "/kaggle/input/home-credit-credit-risk-model-stability/parquet_files/test/test_credit_bureau_b_2.parquet\n",
      "/kaggle/input/home-credit-credit-risk-model-stability/parquet_files/test/test_credit_bureau_a_2_8.parquet\n",
      "/kaggle/input/home-credit-credit-risk-model-stability/parquet_files/test/test_credit_bureau_a_1_0.parquet\n",
      "/kaggle/input/home-credit-credit-risk-model-stability/parquet_files/test/test_credit_bureau_a_2_4.parquet\n",
      "/kaggle/input/home-credit-credit-risk-model-stability/parquet_files/test/test_person_2.parquet\n",
      "/kaggle/input/home-credit-credit-risk-model-stability/parquet_files/train/train_tax_registry_c_1.parquet\n",
      "/kaggle/input/home-credit-credit-risk-model-stability/parquet_files/train/train_static_0_0.parquet\n",
      "/kaggle/input/home-credit-credit-risk-model-stability/parquet_files/train/train_credit_bureau_a_1_3.parquet\n",
      "/kaggle/input/home-credit-credit-risk-model-stability/parquet_files/train/train_credit_bureau_b_2.parquet\n",
      "/kaggle/input/home-credit-credit-risk-model-stability/parquet_files/train/train_applprev_1_1.parquet\n",
      "/kaggle/input/home-credit-credit-risk-model-stability/parquet_files/train/train_static_cb_0.parquet\n",
      "/kaggle/input/home-credit-credit-risk-model-stability/parquet_files/train/train_other_1.parquet\n",
      "/kaggle/input/home-credit-credit-risk-model-stability/parquet_files/train/train_credit_bureau_a_2_6.parquet\n",
      "/kaggle/input/home-credit-credit-risk-model-stability/parquet_files/train/train_tax_registry_a_1.parquet\n",
      "/kaggle/input/home-credit-credit-risk-model-stability/parquet_files/train/train_tax_registry_b_1.parquet\n",
      "/kaggle/input/home-credit-credit-risk-model-stability/parquet_files/train/train_credit_bureau_a_2_1.parquet\n",
      "/kaggle/input/home-credit-credit-risk-model-stability/parquet_files/train/train_person_1.parquet\n",
      "/kaggle/input/home-credit-credit-risk-model-stability/parquet_files/train/train_person_2.parquet\n",
      "/kaggle/input/home-credit-credit-risk-model-stability/parquet_files/train/train_credit_bureau_b_1.parquet\n",
      "/kaggle/input/home-credit-credit-risk-model-stability/parquet_files/train/train_credit_bureau_a_2_0.parquet\n",
      "/kaggle/input/home-credit-credit-risk-model-stability/parquet_files/train/train_credit_bureau_a_2_7.parquet\n",
      "/kaggle/input/home-credit-credit-risk-model-stability/parquet_files/train/train_deposit_1.parquet\n",
      "/kaggle/input/home-credit-credit-risk-model-stability/parquet_files/train/train_debitcard_1.parquet\n",
      "/kaggle/input/home-credit-credit-risk-model-stability/parquet_files/train/train_credit_bureau_a_2_5.parquet\n",
      "/kaggle/input/home-credit-credit-risk-model-stability/parquet_files/train/train_credit_bureau_a_2_2.parquet\n",
      "/kaggle/input/home-credit-credit-risk-model-stability/parquet_files/train/train_credit_bureau_a_2_4.parquet\n",
      "/kaggle/input/home-credit-credit-risk-model-stability/parquet_files/train/train_base.parquet\n",
      "/kaggle/input/home-credit-credit-risk-model-stability/parquet_files/train/train_credit_bureau_a_2_9.parquet\n",
      "/kaggle/input/home-credit-credit-risk-model-stability/parquet_files/train/train_credit_bureau_a_2_3.parquet\n",
      "/kaggle/input/home-credit-credit-risk-model-stability/parquet_files/train/train_applprev_2.parquet\n",
      "/kaggle/input/home-credit-credit-risk-model-stability/parquet_files/train/train_credit_bureau_a_2_10.parquet\n",
      "/kaggle/input/home-credit-credit-risk-model-stability/parquet_files/train/train_credit_bureau_a_2_8.parquet\n",
      "/kaggle/input/home-credit-credit-risk-model-stability/parquet_files/train/train_credit_bureau_a_1_2.parquet\n",
      "/kaggle/input/home-credit-credit-risk-model-stability/parquet_files/train/train_static_0_1.parquet\n",
      "/kaggle/input/home-credit-credit-risk-model-stability/parquet_files/train/train_credit_bureau_a_1_0.parquet\n",
      "/kaggle/input/home-credit-credit-risk-model-stability/parquet_files/train/train_credit_bureau_a_1_1.parquet\n",
      "/kaggle/input/home-credit-credit-risk-model-stability/parquet_files/train/train_applprev_1_0.parquet\n",
      "/kaggle/input/home-credit-credit-risk-model-stability/csv_files/test/test_credit_bureau_a_2_6.csv\n",
      "/kaggle/input/home-credit-credit-risk-model-stability/csv_files/test/test_credit_bureau_a_2_11.csv\n",
      "/kaggle/input/home-credit-credit-risk-model-stability/csv_files/test/test_credit_bureau_a_2_0.csv\n",
      "/kaggle/input/home-credit-credit-risk-model-stability/csv_files/test/test_credit_bureau_a_2_9.csv\n",
      "/kaggle/input/home-credit-credit-risk-model-stability/csv_files/test/test_base.csv\n",
      "/kaggle/input/home-credit-credit-risk-model-stability/csv_files/test/test_credit_bureau_a_1_1.csv\n",
      "/kaggle/input/home-credit-credit-risk-model-stability/csv_files/test/test_credit_bureau_b_2.csv\n",
      "/kaggle/input/home-credit-credit-risk-model-stability/csv_files/test/test_credit_bureau_a_2_10.csv\n",
      "/kaggle/input/home-credit-credit-risk-model-stability/csv_files/test/test_credit_bureau_a_2_4.csv\n",
      "/kaggle/input/home-credit-credit-risk-model-stability/csv_files/test/test_static_0_0.csv\n",
      "/kaggle/input/home-credit-credit-risk-model-stability/csv_files/test/test_static_cb_0.csv\n",
      "/kaggle/input/home-credit-credit-risk-model-stability/csv_files/test/test_credit_bureau_a_2_2.csv\n",
      "/kaggle/input/home-credit-credit-risk-model-stability/csv_files/test/test_credit_bureau_b_1.csv\n",
      "/kaggle/input/home-credit-credit-risk-model-stability/csv_files/test/test_tax_registry_b_1.csv\n",
      "/kaggle/input/home-credit-credit-risk-model-stability/csv_files/test/test_person_2.csv\n",
      "/kaggle/input/home-credit-credit-risk-model-stability/csv_files/test/test_person_1.csv\n",
      "/kaggle/input/home-credit-credit-risk-model-stability/csv_files/test/test_credit_bureau_a_2_8.csv\n",
      "/kaggle/input/home-credit-credit-risk-model-stability/csv_files/test/test_applprev_1_2.csv\n",
      "/kaggle/input/home-credit-credit-risk-model-stability/csv_files/test/test_applprev_1_1.csv\n",
      "/kaggle/input/home-credit-credit-risk-model-stability/csv_files/test/test_credit_bureau_a_1_0.csv\n",
      "/kaggle/input/home-credit-credit-risk-model-stability/csv_files/test/test_applprev_2.csv\n",
      "/kaggle/input/home-credit-credit-risk-model-stability/csv_files/test/test_credit_bureau_a_2_7.csv\n",
      "/kaggle/input/home-credit-credit-risk-model-stability/csv_files/test/test_other_1.csv\n",
      "/kaggle/input/home-credit-credit-risk-model-stability/csv_files/test/test_tax_registry_c_1.csv\n",
      "/kaggle/input/home-credit-credit-risk-model-stability/csv_files/test/test_credit_bureau_a_1_3.csv\n",
      "/kaggle/input/home-credit-credit-risk-model-stability/csv_files/test/test_static_0_2.csv\n",
      "/kaggle/input/home-credit-credit-risk-model-stability/csv_files/test/test_credit_bureau_a_2_5.csv\n",
      "/kaggle/input/home-credit-credit-risk-model-stability/csv_files/test/test_credit_bureau_a_1_2.csv\n",
      "/kaggle/input/home-credit-credit-risk-model-stability/csv_files/test/test_debitcard_1.csv\n",
      "/kaggle/input/home-credit-credit-risk-model-stability/csv_files/test/test_credit_bureau_a_1_4.csv\n",
      "/kaggle/input/home-credit-credit-risk-model-stability/csv_files/test/test_deposit_1.csv\n",
      "/kaggle/input/home-credit-credit-risk-model-stability/csv_files/test/test_static_0_1.csv\n",
      "/kaggle/input/home-credit-credit-risk-model-stability/csv_files/test/test_credit_bureau_a_2_1.csv\n",
      "/kaggle/input/home-credit-credit-risk-model-stability/csv_files/test/test_applprev_1_0.csv\n",
      "/kaggle/input/home-credit-credit-risk-model-stability/csv_files/test/test_tax_registry_a_1.csv\n",
      "/kaggle/input/home-credit-credit-risk-model-stability/csv_files/test/test_credit_bureau_a_2_3.csv\n",
      "/kaggle/input/home-credit-credit-risk-model-stability/csv_files/train/train_credit_bureau_a_1_3.csv\n",
      "/kaggle/input/home-credit-credit-risk-model-stability/csv_files/train/train_static_cb_0.csv\n",
      "/kaggle/input/home-credit-credit-risk-model-stability/csv_files/train/train_applprev_1_0.csv\n",
      "/kaggle/input/home-credit-credit-risk-model-stability/csv_files/train/train_person_2.csv\n",
      "/kaggle/input/home-credit-credit-risk-model-stability/csv_files/train/train_base.csv\n",
      "/kaggle/input/home-credit-credit-risk-model-stability/csv_files/train/train_tax_registry_a_1.csv\n",
      "/kaggle/input/home-credit-credit-risk-model-stability/csv_files/train/train_static_0_0.csv\n",
      "/kaggle/input/home-credit-credit-risk-model-stability/csv_files/train/train_credit_bureau_a_1_0.csv\n",
      "/kaggle/input/home-credit-credit-risk-model-stability/csv_files/train/train_applprev_2.csv\n",
      "/kaggle/input/home-credit-credit-risk-model-stability/csv_files/train/train_credit_bureau_a_2_6.csv\n",
      "/kaggle/input/home-credit-credit-risk-model-stability/csv_files/train/train_credit_bureau_a_1_2.csv\n",
      "/kaggle/input/home-credit-credit-risk-model-stability/csv_files/train/train_person_1.csv\n",
      "/kaggle/input/home-credit-credit-risk-model-stability/csv_files/train/train_credit_bureau_a_1_1.csv\n",
      "/kaggle/input/home-credit-credit-risk-model-stability/csv_files/train/train_tax_registry_c_1.csv\n",
      "/kaggle/input/home-credit-credit-risk-model-stability/csv_files/train/train_credit_bureau_a_2_4.csv\n",
      "/kaggle/input/home-credit-credit-risk-model-stability/csv_files/train/train_credit_bureau_a_2_9.csv\n",
      "/kaggle/input/home-credit-credit-risk-model-stability/csv_files/train/train_credit_bureau_a_2_3.csv\n",
      "/kaggle/input/home-credit-credit-risk-model-stability/csv_files/train/train_credit_bureau_a_2_7.csv\n",
      "/kaggle/input/home-credit-credit-risk-model-stability/csv_files/train/train_credit_bureau_b_2.csv\n",
      "/kaggle/input/home-credit-credit-risk-model-stability/csv_files/train/train_credit_bureau_a_2_2.csv\n",
      "/kaggle/input/home-credit-credit-risk-model-stability/csv_files/train/train_static_0_1.csv\n",
      "/kaggle/input/home-credit-credit-risk-model-stability/csv_files/train/train_deposit_1.csv\n",
      "/kaggle/input/home-credit-credit-risk-model-stability/csv_files/train/train_credit_bureau_a_2_10.csv\n",
      "/kaggle/input/home-credit-credit-risk-model-stability/csv_files/train/train_tax_registry_b_1.csv\n",
      "/kaggle/input/home-credit-credit-risk-model-stability/csv_files/train/train_applprev_1_1.csv\n",
      "/kaggle/input/home-credit-credit-risk-model-stability/csv_files/train/train_credit_bureau_a_2_1.csv\n",
      "/kaggle/input/home-credit-credit-risk-model-stability/csv_files/train/train_credit_bureau_a_2_8.csv\n",
      "/kaggle/input/home-credit-credit-risk-model-stability/csv_files/train/train_credit_bureau_a_2_5.csv\n",
      "/kaggle/input/home-credit-credit-risk-model-stability/csv_files/train/train_credit_bureau_b_1.csv\n",
      "/kaggle/input/home-credit-credit-risk-model-stability/csv_files/train/train_credit_bureau_a_2_0.csv\n",
      "/kaggle/input/home-credit-credit-risk-model-stability/csv_files/train/train_other_1.csv\n",
      "/kaggle/input/home-credit-credit-risk-model-stability/csv_files/train/train_debitcard_1.csv\n"
     ]
    }
   ],
   "source": [
    "# This Python 3 environment comes with many helpful analytics libraries installed\n",
    "# It is defined by the kaggle/python Docker image: https://github.com/kaggle/docker-python\n",
    "# For example, here's several helpful packages to load\n",
    "\n",
    "import numpy as np # linear algebra\n",
    "import pandas as pd # data processing, CSV file I/O (e.g. pd.read_csv)\n",
    "\n",
    "# Input data files are available in the read-only \"../input/\" directory\n",
    "# For example, running this (by clicking run or pressing Shift+Enter) will list all files under the input directory\n",
    "\n",
    "import os\n",
    "for dirname, _, filenames in os.walk('/kaggle/input'):\n",
    "    for filename in filenames:\n",
    "        print(os.path.join(dirname, filename))\n",
    "\n",
    "# You can write up to 20GB to the current directory (/kaggle/working/) that gets preserved as output when you create a version using \"Save & Run All\" \n",
    "# You can also write temporary files to /kaggle/temp/, but they won't be saved outside of the current session"
   ]
  },
  {
   "cell_type": "code",
   "execution_count": 2,
   "id": "1760c108",
   "metadata": {
    "execution": {
     "iopub.execute_input": "2024-03-16T14:03:10.459150Z",
     "iopub.status.busy": "2024-03-16T14:03:10.458718Z",
     "iopub.status.idle": "2024-03-16T14:03:19.557574Z",
     "shell.execute_reply": "2024-03-16T14:03:19.556723Z"
    },
    "papermill": {
     "duration": 9.109194,
     "end_time": "2024-03-16T14:03:19.560014",
     "exception": false,
     "start_time": "2024-03-16T14:03:10.450820",
     "status": "completed"
    },
    "tags": []
   },
   "outputs": [
    {
     "name": "stderr",
     "output_type": "stream",
     "text": [
      "/opt/conda/lib/python3.10/site-packages/dask/dataframe/_pyarrow_compat.py:23: UserWarning: You are using pyarrow version 11.0.0 which is known to be insecure. See https://www.cve.org/CVERecord?id=CVE-2023-47248 for further details. Please upgrade to pyarrow>=14.0.1 or install pyarrow-hotfix to patch your current version.\n",
      "  warnings.warn(\n"
     ]
    }
   ],
   "source": [
    "import polars as pl\n",
    "import numpy as np\n",
    "import pandas as pd\n",
    "import lightgbm as lgb\n",
    "from sklearn.model_selection import train_test_split\n",
    "from sklearn.metrics import roc_auc_score \n",
    "\n",
    "dataPath = \"/kaggle/input/home-credit-credit-risk-model-stability/\"\n",
    "InputFile = \"/kaggle/input/my2-home-credit-credit-risk-model-stability/\""
   ]
  },
  {
   "cell_type": "code",
   "execution_count": 3,
   "id": "bb5395fb",
   "metadata": {
    "execution": {
     "iopub.execute_input": "2024-03-16T14:03:19.574388Z",
     "iopub.status.busy": "2024-03-16T14:03:19.574068Z",
     "iopub.status.idle": "2024-03-16T14:03:19.578080Z",
     "shell.execute_reply": "2024-03-16T14:03:19.577174Z"
    },
    "papermill": {
     "duration": 0.013372,
     "end_time": "2024-03-16T14:03:19.580105",
     "exception": false,
     "start_time": "2024-03-16T14:03:19.566733",
     "status": "completed"
    },
    "tags": []
   },
   "outputs": [],
   "source": [
    "# X_train = pd.read_csv(InputFile + \"/X_train.csv\")\n",
    "# X_valid = pd.read_csv(InputFile + \"/X_valid.csv\")\n",
    "# X_test = pd.read_csv(InputFile + \"/X_test.csv\")\n",
    "\n",
    "# y_train = pd.read_csv(InputFile + \"/y_train.csv\")\n",
    "# y_valid = pd.read_csv(InputFile + \"/y_valid.csv\")\n",
    "# y_test = pd.read_csv(InputFile + \"/y_test.csv\")\n",
    "\n",
    "# base_train = pd.read_csv(InputFile + \"/base_train.csv\")\n",
    "# base_valid = pd.read_csv(InputFile + \"/base_valid.csv\")\n",
    "# base_test = pd.read_csv(InputFile + \"/base_test.csv\")"
   ]
  },
  {
   "cell_type": "code",
   "execution_count": 4,
   "id": "c12baa9c",
   "metadata": {
    "execution": {
     "iopub.execute_input": "2024-03-16T14:03:19.593806Z",
     "iopub.status.busy": "2024-03-16T14:03:19.593533Z",
     "iopub.status.idle": "2024-03-16T14:05:01.977177Z",
     "shell.execute_reply": "2024-03-16T14:05:01.976083Z"
    },
    "papermill": {
     "duration": 102.393225,
     "end_time": "2024-03-16T14:05:01.979727",
     "exception": false,
     "start_time": "2024-03-16T14:03:19.586502",
     "status": "completed"
    },
    "tags": []
   },
   "outputs": [
    {
     "name": "stderr",
     "output_type": "stream",
     "text": [
      "/tmp/ipykernel_26/3060466645.py:1: DtypeWarning: Columns (15,16,17,20,21,29,54,167,222,275,276,277,278,279,280,281,282,283,284,285,320,321,322,323,325,334,347,348,349,350,351,352) have mixed types. Specify dtype option on import or set low_memory=False.\n",
      "  df_train = pd.read_csv(InputFile + \"df_train.csv\")\n"
     ]
    }
   ],
   "source": [
    "df_train = pd.read_csv(InputFile + \"df_train.csv\")\n",
    "df_test = pd.read_csv(InputFile + \"df_test.csv\")"
   ]
  },
  {
   "cell_type": "code",
   "execution_count": 5,
   "id": "f91e7528",
   "metadata": {
    "execution": {
     "iopub.execute_input": "2024-03-16T14:05:01.995097Z",
     "iopub.status.busy": "2024-03-16T14:05:01.994315Z",
     "iopub.status.idle": "2024-03-16T14:05:01.998955Z",
     "shell.execute_reply": "2024-03-16T14:05:01.998089Z"
    },
    "papermill": {
     "duration": 0.014304,
     "end_time": "2024-03-16T14:05:02.000943",
     "exception": false,
     "start_time": "2024-03-16T14:05:01.986639",
     "status": "completed"
    },
    "tags": []
   },
   "outputs": [],
   "source": [
    "# def convert_strings(df: pd.DataFrame) -> pd.DataFrame:\n",
    "#     for col in df.columns:\n",
    "#         if df[col].dtype.name in ['object', 'string']:\n",
    "#             df[col] = df[col].astype(\"string\").astype('category')\n",
    "#             current_categories = df[col].cat.categories\n",
    "#             new_categories = current_categories.to_list() + [\"Unknown\"]\n",
    "#             new_dtype = pd.CategoricalDtype(categories=new_categories, ordered=True)\n",
    "#             df[col] = df[col].astype(new_dtype)\n",
    "            \n",
    "#     return df\n",
    "\n",
    "# for df in [X_train, X_valid, X_test]:\n",
    "#     df = convert_strings(df)"
   ]
  },
  {
   "cell_type": "code",
   "execution_count": 6,
   "id": "91deac34",
   "metadata": {
    "execution": {
     "iopub.execute_input": "2024-03-16T14:05:02.014679Z",
     "iopub.status.busy": "2024-03-16T14:05:02.014403Z",
     "iopub.status.idle": "2024-03-16T14:05:20.326805Z",
     "shell.execute_reply": "2024-03-16T14:05:20.325945Z"
    },
    "papermill": {
     "duration": 18.321918,
     "end_time": "2024-03-16T14:05:20.329173",
     "exception": false,
     "start_time": "2024-03-16T14:05:02.007255",
     "status": "completed"
    },
    "tags": []
   },
   "outputs": [],
   "source": [
    "def to_pandas(df_data, cat_cols=None):\n",
    "#     df_data = df_data.to_pandas()\n",
    "    \n",
    "    if cat_cols is None:\n",
    "        cat_cols = list(df_data.select_dtypes(\"object\").columns)\n",
    "    \n",
    "    df_data[cat_cols] = df_data[cat_cols].astype(\"category\")\n",
    "    \n",
    "    return df_data, cat_cols\n",
    "\n",
    "train, cat_cols = to_pandas(df_train)\n",
    "test, cat_cols = to_pandas(df_test, cat_cols)"
   ]
  },
  {
   "cell_type": "markdown",
   "id": "077367c3",
   "metadata": {
    "papermill": {
     "duration": 0.006447,
     "end_time": "2024-03-16T14:05:20.343046",
     "exception": false,
     "start_time": "2024-03-16T14:05:20.336599",
     "status": "completed"
    },
    "tags": []
   },
   "source": [
    "# 機械学習モデルの構築・学習・予測"
   ]
  },
  {
   "cell_type": "code",
   "execution_count": 7,
   "id": "76aed89e",
   "metadata": {
    "execution": {
     "iopub.execute_input": "2024-03-16T14:05:20.359797Z",
     "iopub.status.busy": "2024-03-16T14:05:20.358956Z",
     "iopub.status.idle": "2024-03-16T14:05:21.061030Z",
     "shell.execute_reply": "2024-03-16T14:05:21.060199Z"
    },
    "papermill": {
     "duration": 0.71332,
     "end_time": "2024-03-16T14:05:21.063289",
     "exception": false,
     "start_time": "2024-03-16T14:05:20.349969",
     "status": "completed"
    },
    "tags": []
   },
   "outputs": [],
   "source": [
    "from sklearn.model_selection import train_test_split\n",
    "from sklearn.metrics import accuracy_score\n",
    "\n",
    "from xgboost import XGBClassifier\n",
    "from lightgbm import LGBMClassifier\n",
    "from catboost import CatBoostClassifier\n",
    "\n",
    "from sklearn.metrics import confusion_matrix\n",
    "from sklearn.metrics import ConfusionMatrixDisplay\n",
    "import matplotlib.pyplot as plt\n",
    "\n",
    "seed = 42\n",
    "\n",
    "xgb = XGBClassifier(random_state=seed)\n",
    "lgb = LGBMClassifier(random_state=seed)\n",
    "cb = CatBoostClassifier(random_state=seed, verbose=0)\n",
    "\n",
    "submit = True"
   ]
  },
  {
   "cell_type": "markdown",
   "id": "ac2bd5c8",
   "metadata": {
    "papermill": {
     "duration": 0.006376,
     "end_time": "2024-03-16T14:05:21.076950",
     "exception": false,
     "start_time": "2024-03-16T14:05:21.070574",
     "status": "completed"
    },
    "tags": []
   },
   "source": [
    "# ハイパーパラメータ(optuna)"
   ]
  },
  {
   "cell_type": "markdown",
   "id": "296c9f64",
   "metadata": {
    "papermill": {
     "duration": 0.006375,
     "end_time": "2024-03-16T14:05:21.089929",
     "exception": false,
     "start_time": "2024-03-16T14:05:21.083554",
     "status": "completed"
    },
    "tags": []
   },
   "source": [
    "## LGBMClassifier"
   ]
  },
  {
   "cell_type": "code",
   "execution_count": 8,
   "id": "f9d5caaa",
   "metadata": {
    "execution": {
     "iopub.execute_input": "2024-03-16T14:05:21.104547Z",
     "iopub.status.busy": "2024-03-16T14:05:21.104187Z",
     "iopub.status.idle": "2024-03-16T14:05:21.110154Z",
     "shell.execute_reply": "2024-03-16T14:05:21.109231Z"
    },
    "papermill": {
     "duration": 0.0157,
     "end_time": "2024-03-16T14:05:21.112251",
     "exception": false,
     "start_time": "2024-03-16T14:05:21.096551",
     "status": "completed"
    },
    "tags": []
   },
   "outputs": [],
   "source": [
    "import pandas as pd\n",
    "import numpy as np\n",
    "\n",
    "from sklearn.model_selection import train_test_split\n",
    "import lightgbm as lgb\n",
    "\n",
    "from sklearn.metrics import confusion_matrix, ConfusionMatrixDisplay\n",
    "from sklearn.metrics import accuracy_score, classification_report, roc_auc_score\n",
    "\n",
    "from optuna.samplers import TPESampler\n",
    "import optuna\n",
    "\n",
    "import warnings\n",
    "warnings.filterwarnings(\"ignore\")"
   ]
  },
  {
   "cell_type": "code",
   "execution_count": 9,
   "id": "922f1455",
   "metadata": {
    "execution": {
     "iopub.execute_input": "2024-03-16T14:05:21.126380Z",
     "iopub.status.busy": "2024-03-16T14:05:21.126075Z",
     "iopub.status.idle": "2024-03-16T14:05:26.891627Z",
     "shell.execute_reply": "2024-03-16T14:05:26.890760Z"
    },
    "papermill": {
     "duration": 5.775476,
     "end_time": "2024-03-16T14:05:26.894170",
     "exception": false,
     "start_time": "2024-03-16T14:05:21.118694",
     "status": "completed"
    },
    "tags": []
   },
   "outputs": [],
   "source": [
    "target_col = 'target'\n",
    "\n",
    "X = train.drop([target_col], axis=1)\n",
    "y = train[target_col].values\n",
    "X_train, X_valid, y_train, y_valid = train_test_split(X, y, test_size=0.2, random_state=42)\n",
    "\n",
    "def objective(trial):\n",
    "    param = {\n",
    "        \"objective\": \"binary\",\n",
    "        \"metric\": \"auc\",\n",
    "        \"verbose\": -1,\n",
    "        \"boosting_type\": \"gbdt\",\n",
    "#         \"num_class\": 7,\n",
    "        \"lambda_l1\": trial.suggest_float(\"lambda_l1\", 1e-8, 10.0, log=True),\n",
    "        \"lambda_l2\": trial.suggest_float(\"lambda_l2\", 1e-8, 10.0, log=True),\n",
    "        \"num_leaves\": trial.suggest_int(\"num_leaves\", 2, 256),\n",
    "        \"feature_fraction\": trial.suggest_float(\"feature_fraction\", 0.4, 1.0),\n",
    "        \"bagging_fraction\": trial.suggest_float(\"bagging_fraction\", 0.4, 1.0),\n",
    "        \"bagging_freq\": trial.suggest_int(\"bagging_freq\", 1, 7),\n",
    "        \"min_child_samples\": trial.suggest_int(\"min_child_samples\", 5, 100),\n",
    "        \"random_state\": 42,\n",
    "    }\n",
    "    \n",
    "    gbm = lgb.LGBMClassifier(**param)\n",
    "    gbm.fit(X_train, y_train)\n",
    "    preds = gbm.predict(X_valid)\n",
    "    auc = roc_auc_score(y_valid, preds)\n",
    "    \n",
    "    return auc"
   ]
  },
  {
   "cell_type": "code",
   "execution_count": 10,
   "id": "1cb23474",
   "metadata": {
    "execution": {
     "iopub.execute_input": "2024-03-16T14:05:26.910278Z",
     "iopub.status.busy": "2024-03-16T14:05:26.909947Z",
     "iopub.status.idle": "2024-03-16T18:11:24.802775Z",
     "shell.execute_reply": "2024-03-16T18:11:24.801701Z"
    },
    "papermill": {
     "duration": 14757.918794,
     "end_time": "2024-03-16T18:11:24.820548",
     "exception": false,
     "start_time": "2024-03-16T14:05:26.901754",
     "status": "completed"
    },
    "tags": []
   },
   "outputs": [
    {
     "name": "stderr",
     "output_type": "stream",
     "text": [
      "[I 2024-03-16 14:05:26,913] A new study created in memory with name: lightgbm\n",
      "[I 2024-03-16 14:08:21,480] Trial 0 finished with value: 0.5108017234358742 and parameters: {'lambda_l1': 2.348881295853308e-05, 'lambda_l2': 3.6010467344475403, 'num_leaves': 188, 'feature_fraction': 0.759195090518222, 'bagging_fraction': 0.4936111842654619, 'bagging_freq': 2, 'min_child_samples': 10}. Best is trial 0 with value: 0.5108017234358742.\n",
      "[I 2024-03-16 14:11:27,606] Trial 1 finished with value: 0.5114381862311074 and parameters: {'lambda_l1': 0.6245760287469893, 'lambda_l2': 0.002570603566117598, 'num_leaves': 182, 'feature_fraction': 0.41235069657748147, 'bagging_fraction': 0.9819459112971965, 'bagging_freq': 6, 'min_child_samples': 25}. Best is trial 1 with value: 0.5114381862311074.\n",
      "[I 2024-03-16 14:14:04,189] Trial 2 finished with value: 0.5110515881726062 and parameters: {'lambda_l1': 4.329370014459266e-07, 'lambda_l2': 4.4734294104626844e-07, 'num_leaves': 79, 'feature_fraction': 0.7148538589793427, 'bagging_fraction': 0.6591670111852694, 'bagging_freq': 3, 'min_child_samples': 63}. Best is trial 1 with value: 0.5114381862311074.\n",
      "[I 2024-03-16 14:17:13,894] Trial 3 finished with value: 0.5090914218357783 and parameters: {'lambda_l1': 1.8007140198129195e-07, 'lambda_l2': 4.258943089524393e-06, 'num_leaves': 95, 'feature_fraction': 0.6736419905302216, 'bagging_fraction': 0.8711055768358081, 'bagging_freq': 2, 'min_child_samples': 54}. Best is trial 1 with value: 0.5114381862311074.\n",
      "[I 2024-03-16 14:19:59,863] Trial 4 finished with value: 0.5134302134964418 and parameters: {'lambda_l1': 0.0021465011216654484, 'lambda_l2': 2.6185068507773707e-08, 'num_leaves': 156, 'feature_fraction': 0.502314474212375, 'bagging_fraction': 0.43903095579116774, 'bagging_freq': 7, 'min_child_samples': 97}. Best is trial 4 with value: 0.5134302134964418.\n",
      "[I 2024-03-16 14:22:28,407] Trial 5 finished with value: 0.5051898129498612 and parameters: {'lambda_l1': 0.18861495878553936, 'lambda_l2': 5.514725787121931e-06, 'num_leaves': 26, 'feature_fraction': 0.8105398159072941, 'bagging_fraction': 0.6640914962437607, 'bagging_freq': 1, 'min_child_samples': 52}. Best is trial 4 with value: 0.5134302134964418.\n",
      "[I 2024-03-16 14:25:05,671] Trial 6 finished with value: 0.5094207377843949 and parameters: {'lambda_l1': 2.039373116525212e-08, 'lambda_l2': 1.527156759251193, 'num_leaves': 67, 'feature_fraction': 0.7975133706123891, 'bagging_fraction': 0.5870266456536466, 'bagging_freq': 4, 'min_child_samples': 57}. Best is trial 4 with value: 0.5134302134964418.\n",
      "[I 2024-03-16 14:28:41,646] Trial 7 finished with value: 0.509959347638143 and parameters: {'lambda_l1': 4.609885087947832e-07, 'lambda_l2': 5.324289357128436, 'num_leaves': 199, 'feature_fraction': 0.9636993649385135, 'bagging_fraction': 0.9368964102565893, 'bagging_freq': 5, 'min_child_samples': 93}. Best is trial 4 with value: 0.5134302134964418.\n",
      "[I 2024-03-16 14:30:52,422] Trial 8 finished with value: 0.5040097333585576 and parameters: {'lambda_l1': 6.257956190096665e-08, 'lambda_l2': 5.805581976088804e-07, 'num_leaves': 13, 'feature_fraction': 0.5951981984579586, 'bagging_fraction': 0.6332063738136893, 'bagging_freq': 2, 'min_child_samples': 84}. Best is trial 4 with value: 0.5134302134964418.\n",
      "[I 2024-03-16 14:34:03,131] Trial 9 finished with value: 0.5116256330923772 and parameters: {'lambda_l1': 1.6247252885719427e-05, 'lambda_l2': 3.376063348877853e-06, 'num_leaves': 140, 'feature_fraction': 0.4845545349848576, 'bagging_fraction': 0.8813181884524238, 'bagging_freq': 1, 'min_child_samples': 99}. Best is trial 4 with value: 0.5134302134964418.\n",
      "[I 2024-03-16 14:36:57,110] Trial 10 finished with value: 0.51538342479312 and parameters: {'lambda_l1': 0.005590251105591032, 'lambda_l2': 1.1323342574942027e-08, 'num_leaves': 249, 'feature_fraction': 0.5497751985047137, 'bagging_fraction': 0.40872452509741863, 'bagging_freq': 7, 'min_child_samples': 75}. Best is trial 10 with value: 0.51538342479312.\n",
      "[I 2024-03-16 14:39:50,971] Trial 11 finished with value: 0.5152061206397502 and parameters: {'lambda_l1': 0.00551754389510453, 'lambda_l2': 2.0358558645362716e-08, 'num_leaves': 256, 'feature_fraction': 0.525755004485781, 'bagging_fraction': 0.40522321671903583, 'bagging_freq': 7, 'min_child_samples': 74}. Best is trial 10 with value: 0.51538342479312.\n",
      "[I 2024-03-16 14:42:29,726] Trial 12 finished with value: 0.5155454504730116 and parameters: {'lambda_l1': 0.009355533609793718, 'lambda_l2': 1.513679538486934e-08, 'num_leaves': 255, 'feature_fraction': 0.5842936031540851, 'bagging_fraction': 0.404660001912353, 'bagging_freq': 7, 'min_child_samples': 75}. Best is trial 12 with value: 0.5155454504730116.\n",
      "[I 2024-03-16 14:45:08,832] Trial 13 finished with value: 0.5100874998800731 and parameters: {'lambda_l1': 9.328271906708137, 'lambda_l2': 0.00020511600540203261, 'num_leaves': 246, 'feature_fraction': 0.6200822215639807, 'bagging_fraction': 0.5428207021754159, 'bagging_freq': 6, 'min_child_samples': 73}. Best is trial 12 with value: 0.5155454504730116.\n",
      "[I 2024-03-16 14:48:11,995] Trial 14 finished with value: 0.5129997281153343 and parameters: {'lambda_l1': 0.0072300654465254095, 'lambda_l2': 1.033235381352526e-08, 'num_leaves': 223, 'feature_fraction': 0.5996864988761527, 'bagging_fraction': 0.7715007264424555, 'bagging_freq': 6, 'min_child_samples': 40}. Best is trial 12 with value: 0.5155454504730116.\n",
      "[I 2024-03-16 14:50:51,732] Trial 15 finished with value: 0.5146643231182518 and parameters: {'lambda_l1': 0.00014211618981379673, 'lambda_l2': 0.000356588213641769, 'num_leaves': 222, 'feature_fraction': 0.4274890930328548, 'bagging_fraction': 0.4782768497969628, 'bagging_freq': 5, 'min_child_samples': 77}. Best is trial 12 with value: 0.5155454504730116.\n",
      "[I 2024-03-16 14:54:13,398] Trial 16 finished with value: 0.5122113823481097 and parameters: {'lambda_l1': 0.07871191465220775, 'lambda_l2': 0.015936847132186974, 'num_leaves': 217, 'feature_fraction': 0.5627191444878437, 'bagging_fraction': 0.7537591011074556, 'bagging_freq': 7, 'min_child_samples': 40}. Best is trial 12 with value: 0.5155454504730116.\n",
      "[I 2024-03-16 14:56:26,841] Trial 17 finished with value: 0.5149429899389955 and parameters: {'lambda_l1': 0.0004693779627632642, 'lambda_l2': 2.1433902717868604e-07, 'num_leaves': 164, 'feature_fraction': 0.895860879615838, 'bagging_fraction': 0.5317770216676396, 'bagging_freq': 5, 'min_child_samples': 84}. Best is trial 12 with value: 0.5155454504730116.\n",
      "[I 2024-03-16 14:58:23,872] Trial 18 finished with value: 0.5135703277208442 and parameters: {'lambda_l1': 0.02088470998812928, 'lambda_l2': 8.302671458616012e-05, 'num_leaves': 115, 'feature_fraction': 0.6324281872863611, 'bagging_fraction': 0.40028405007323953, 'bagging_freq': 4, 'min_child_samples': 66}. Best is trial 12 with value: 0.5155454504730116.\n",
      "[I 2024-03-16 15:01:22,019] Trial 19 finished with value: 0.5124325094124579 and parameters: {'lambda_l1': 2.5350114313877747, 'lambda_l2': 1.1934025714095966e-07, 'num_leaves': 241, 'feature_fraction': 0.7018040258083734, 'bagging_fraction': 0.5903074458622968, 'bagging_freq': 6, 'min_child_samples': 84}. Best is trial 12 with value: 0.5155454504730116.\n",
      "[I 2024-03-16 15:04:22,812] Trial 20 finished with value: 0.5117825230066911 and parameters: {'lambda_l1': 0.0003844275633459835, 'lambda_l2': 0.14733577113525026, 'num_leaves': 204, 'feature_fraction': 0.4634071015533328, 'bagging_fraction': 0.7390323709376256, 'bagging_freq': 7, 'min_child_samples': 45}. Best is trial 12 with value: 0.5155454504730116.\n",
      "[I 2024-03-16 15:07:16,206] Trial 21 finished with value: 0.5160806794241264 and parameters: {'lambda_l1': 0.0055247748602168184, 'lambda_l2': 4.335522034971604e-08, 'num_leaves': 252, 'feature_fraction': 0.5370197262532346, 'bagging_fraction': 0.40098971044558107, 'bagging_freq': 7, 'min_child_samples': 69}. Best is trial 21 with value: 0.5160806794241264.\n",
      "[I 2024-03-16 15:10:15,397] Trial 22 finished with value: 0.5162243033744176 and parameters: {'lambda_l1': 0.042659133753552334, 'lambda_l2': 7.008645507169413e-08, 'num_leaves': 256, 'feature_fraction': 0.5504545874819609, 'bagging_fraction': 0.4645262111635143, 'bagging_freq': 7, 'min_child_samples': 65}. Best is trial 22 with value: 0.5162243033744176.\n",
      "[I 2024-03-16 15:12:42,003] Trial 23 finished with value: 0.5149968911462466 and parameters: {'lambda_l1': 0.04769101477609308, 'lambda_l2': 9.254766204441979e-08, 'num_leaves': 228, 'feature_fraction': 0.6487674580242819, 'bagging_fraction': 0.4835534152733839, 'bagging_freq': 6, 'min_child_samples': 65}. Best is trial 22 with value: 0.5162243033744176.\n",
      "[I 2024-03-16 15:15:39,587] Trial 24 finished with value: 0.5162581124007515 and parameters: {'lambda_l1': 0.21353204250957505, 'lambda_l2': 2.7152322073635154e-05, 'num_leaves': 233, 'feature_fraction': 0.5491520640297651, 'bagging_fraction': 0.4569567408065942, 'bagging_freq': 7, 'min_child_samples': 65}. Best is trial 24 with value: 0.5162581124007515.\n",
      "[I 2024-03-16 15:18:23,531] Trial 25 finished with value: 0.5150089175403465 and parameters: {'lambda_l1': 0.6781536550746688, 'lambda_l2': 2.7217278948374996e-05, 'num_leaves': 180, 'feature_fraction': 0.4714195582768782, 'bagging_fraction': 0.4617822445397811, 'bagging_freq': 5, 'min_child_samples': 60}. Best is trial 24 with value: 0.5162581124007515.\n",
      "[I 2024-03-16 15:21:23,342] Trial 26 finished with value: 0.5155878405791844 and parameters: {'lambda_l1': 0.1566347313741468, 'lambda_l2': 1.757536250579663e-06, 'num_leaves': 232, 'feature_fraction': 0.5258704896883981, 'bagging_fraction': 0.5288757870322899, 'bagging_freq': 6, 'min_child_samples': 46}. Best is trial 24 with value: 0.5162581124007515.\n",
      "[I 2024-03-16 15:24:16,349] Trial 27 finished with value: 0.5138725320367661 and parameters: {'lambda_l1': 0.4837873668950282, 'lambda_l2': 0.004226014072172183, 'num_leaves': 204, 'feature_fraction': 0.45702304919963327, 'bagging_fraction': 0.5984748178449866, 'bagging_freq': 7, 'min_child_samples': 28}. Best is trial 24 with value: 0.5162581124007515.\n",
      "[I 2024-03-16 15:27:16,630] Trial 28 finished with value: 0.5139467830714451 and parameters: {'lambda_l1': 0.0017545183628401905, 'lambda_l2': 2.0019252983780872e-05, 'num_leaves': 213, 'feature_fraction': 0.5414012030721793, 'bagging_fraction': 0.5132434620246451, 'bagging_freq': 6, 'min_child_samples': 68}. Best is trial 24 with value: 0.5162581124007515.\n",
      "[I 2024-03-16 15:29:41,576] Trial 29 finished with value: 0.5168305312808333 and parameters: {'lambda_l1': 3.230953776777884e-05, 'lambda_l2': 9.927923193645255e-07, 'num_leaves': 190, 'feature_fraction': 0.741050222328992, 'bagging_fraction': 0.4380987402963342, 'bagging_freq': 5, 'min_child_samples': 90}. Best is trial 29 with value: 0.5168305312808333.\n",
      "[I 2024-03-16 15:32:02,596] Trial 30 finished with value: 0.5209990539889017 and parameters: {'lambda_l1': 6.30108717365868e-06, 'lambda_l2': 1.1112807035040835e-06, 'num_leaves': 195, 'feature_fraction': 0.7522186511792583, 'bagging_fraction': 0.4488459839741153, 'bagging_freq': 3, 'min_child_samples': 7}. Best is trial 30 with value: 0.5209990539889017.\n",
      "[I 2024-03-16 15:34:21,065] Trial 31 finished with value: 0.5164347080262165 and parameters: {'lambda_l1': 7.4058532514497995e-06, 'lambda_l2': 9.427962161041569e-07, 'num_leaves': 167, 'feature_fraction': 0.7623579540001041, 'bagging_fraction': 0.4570023144729223, 'bagging_freq': 3, 'min_child_samples': 10}. Best is trial 30 with value: 0.5209990539889017.\n",
      "[I 2024-03-16 15:36:38,575] Trial 32 finished with value: 0.5206118118141235 and parameters: {'lambda_l1': 6.3591920508955525e-06, 'lambda_l2': 9.166548418253604e-07, 'num_leaves': 176, 'feature_fraction': 0.7513452202010005, 'bagging_fraction': 0.44690995380317144, 'bagging_freq': 3, 'min_child_samples': 5}. Best is trial 30 with value: 0.5209990539889017.\n",
      "[I 2024-03-16 15:39:21,618] Trial 33 finished with value: 0.5181022974620013 and parameters: {'lambda_l1': 4.449420232688447e-06, 'lambda_l2': 8.277276051063474e-07, 'num_leaves': 182, 'feature_fraction': 0.7607616339547086, 'bagging_fraction': 0.5684840291668174, 'bagging_freq': 3, 'min_child_samples': 6}. Best is trial 30 with value: 0.5209990539889017.\n",
      "[I 2024-03-16 15:41:41,659] Trial 34 finished with value: 0.5188533888886311 and parameters: {'lambda_l1': 2.81558583772117e-06, 'lambda_l2': 3.083332332959228e-07, 'num_leaves': 188, 'feature_fraction': 0.856868202564101, 'bagging_fraction': 0.564669178681719, 'bagging_freq': 3, 'min_child_samples': 6}. Best is trial 30 with value: 0.5209990539889017.\n",
      "[I 2024-03-16 15:43:53,824] Trial 35 finished with value: 0.5148561972171949 and parameters: {'lambda_l1': 1.950901994776962e-06, 'lambda_l2': 1.8169989011863164e-07, 'num_leaves': 143, 'feature_fraction': 0.8529904551250473, 'bagging_fraction': 0.5705902932686575, 'bagging_freq': 3, 'min_child_samples': 8}. Best is trial 30 with value: 0.5209990539889017.\n",
      "[I 2024-03-16 15:46:31,181] Trial 36 finished with value: 0.5145359776414387 and parameters: {'lambda_l1': 2.2520029230142216e-06, 'lambda_l2': 1.0378733814005926e-05, 'num_leaves': 177, 'feature_fraction': 0.8690293134146692, 'bagging_fraction': 0.692156039221067, 'bagging_freq': 2, 'min_child_samples': 16}. Best is trial 30 with value: 0.5209990539889017.\n",
      "[I 2024-03-16 15:48:47,415] Trial 37 finished with value: 0.5133575885014516 and parameters: {'lambda_l1': 6.971538204017188e-05, 'lambda_l2': 2.1737390983420927e-06, 'num_leaves': 120, 'feature_fraction': 0.7988777768891442, 'bagging_fraction': 0.6282223436198007, 'bagging_freq': 3, 'min_child_samples': 20}. Best is trial 30 with value: 0.5209990539889017.\n",
      "[I 2024-03-16 15:51:09,691] Trial 38 finished with value: 0.5182268111547874 and parameters: {'lambda_l1': 1.9207513508132963e-06, 'lambda_l2': 3.9072078247906884e-07, 'num_leaves': 154, 'feature_fraction': 0.7458729133823953, 'bagging_fraction': 0.49950789547006225, 'bagging_freq': 3, 'min_child_samples': 5}. Best is trial 30 with value: 0.5209990539889017.\n",
      "[I 2024-03-16 15:53:23,593] Trial 39 finished with value: 0.5152786812231127 and parameters: {'lambda_l1': 3.493773227256029e-07, 'lambda_l2': 3.4049373246621237e-07, 'num_leaves': 152, 'feature_fraction': 0.6734115498552222, 'bagging_fraction': 0.5016602811780116, 'bagging_freq': 4, 'min_child_samples': 16}. Best is trial 30 with value: 0.5209990539889017.\n",
      "[I 2024-03-16 15:55:26,168] Trial 40 finished with value: 0.5110126433806946 and parameters: {'lambda_l1': 9.152140784758344e-08, 'lambda_l2': 8.756504435300832e-06, 'num_leaves': 88, 'feature_fraction': 0.9282955643134492, 'bagging_fraction': 0.5461087326872631, 'bagging_freq': 2, 'min_child_samples': 28}. Best is trial 30 with value: 0.5209990539889017.\n",
      "[I 2024-03-16 15:57:55,262] Trial 41 finished with value: 0.5188932511923273 and parameters: {'lambda_l1': 1.862125844779617e-06, 'lambda_l2': 4.2706749276039014e-07, 'num_leaves': 192, 'feature_fraction': 0.7584045733322049, 'bagging_fraction': 0.49684154325258645, 'bagging_freq': 3, 'min_child_samples': 5}. Best is trial 30 with value: 0.5209990539889017.\n",
      "[I 2024-03-16 16:00:22,816] Trial 42 finished with value: 0.5166274838879472 and parameters: {'lambda_l1': 9.566664852231362e-07, 'lambda_l2': 2.506227569312722e-07, 'num_leaves': 194, 'feature_fraction': 0.728495306998643, 'bagging_fraction': 0.5010269833665997, 'bagging_freq': 4, 'min_child_samples': 15}. Best is trial 30 with value: 0.5209990539889017.\n",
      "[I 2024-03-16 16:02:28,184] Trial 43 finished with value: 0.5154830325975494 and parameters: {'lambda_l1': 1.449790461523986e-05, 'lambda_l2': 3.94482789041082e-06, 'num_leaves': 168, 'feature_fraction': 0.8282596489610748, 'bagging_fraction': 0.5018843154681494, 'bagging_freq': 3, 'min_child_samples': 21}. Best is trial 30 with value: 0.5209990539889017.\n",
      "[I 2024-03-16 16:04:39,627] Trial 44 finished with value: 0.517088799611518 and parameters: {'lambda_l1': 1.674360935678512e-08, 'lambda_l2': 4.7453205230521615e-08, 'num_leaves': 130, 'feature_fraction': 0.7864001620454671, 'bagging_fraction': 0.43948930083129956, 'bagging_freq': 2, 'min_child_samples': 5}. Best is trial 30 with value: 0.5209990539889017.\n",
      "[I 2024-03-16 16:07:15,126] Trial 45 finished with value: 0.5137659691921868 and parameters: {'lambda_l1': 8.254875462336956e-07, 'lambda_l2': 7.46125183677828e-07, 'num_leaves': 153, 'feature_fraction': 0.6879476373217391, 'bagging_fraction': 0.62191824863023, 'bagging_freq': 3, 'min_child_samples': 12}. Best is trial 30 with value: 0.5209990539889017.\n",
      "[I 2024-03-16 16:09:13,681] Trial 46 finished with value: 0.5158628044391561 and parameters: {'lambda_l1': 1.660733447389223e-07, 'lambda_l2': 3.7605001985533413e-07, 'num_leaves': 171, 'feature_fraction': 0.8275204448982725, 'bagging_fraction': 0.4337852992455802, 'bagging_freq': 4, 'min_child_samples': 22}. Best is trial 30 with value: 0.5209990539889017.\n",
      "[I 2024-03-16 16:11:54,348] Trial 47 finished with value: 0.516061826813132 and parameters: {'lambda_l1': 4.609002528569423e-06, 'lambda_l2': 1.9759492495955783e-06, 'num_leaves': 190, 'feature_fraction': 0.7785002011908981, 'bagging_fraction': 0.551778813752877, 'bagging_freq': 3, 'min_child_samples': 11}. Best is trial 30 with value: 0.5209990539889017.\n",
      "[I 2024-03-16 16:14:58,134] Trial 48 finished with value: 0.5098591601290643 and parameters: {'lambda_l1': 4.369808304565934e-08, 'lambda_l2': 6.535562863086423e-05, 'num_leaves': 104, 'feature_fraction': 0.9919036428998613, 'bagging_fraction': 0.9777696606617974, 'bagging_freq': 1, 'min_child_samples': 5}. Best is trial 30 with value: 0.5209990539889017.\n",
      "[I 2024-03-16 16:17:45,700] Trial 49 finished with value: 0.506650249813225 and parameters: {'lambda_l1': 3.893081261428473e-05, 'lambda_l2': 0.0009008548028184517, 'num_leaves': 47, 'feature_fraction': 0.7283885712952756, 'bagging_fraction': 0.805082610472599, 'bagging_freq': 2, 'min_child_samples': 33}. Best is trial 30 with value: 0.5209990539889017.\n",
      "[I 2024-03-16 16:19:39,342] Trial 50 finished with value: 0.5160821122289324 and parameters: {'lambda_l1': 1.0145432002401979e-05, 'lambda_l2': 2.807410510808559e-08, 'num_leaves': 139, 'feature_fraction': 0.9063050871406453, 'bagging_fraction': 0.42790885873191997, 'bagging_freq': 3, 'min_child_samples': 13}. Best is trial 30 with value: 0.5209990539889017.\n",
      "[I 2024-03-16 16:22:20,742] Trial 51 finished with value: 0.5192617695793662 and parameters: {'lambda_l1': 2.3323767523268597e-06, 'lambda_l2': 6.08787030876031e-07, 'num_leaves': 182, 'feature_fraction': 0.772977396360818, 'bagging_fraction': 0.5605864562593312, 'bagging_freq': 3, 'min_child_samples': 5}. Best is trial 30 with value: 0.5209990539889017.\n",
      "[I 2024-03-16 16:24:56,252] Trial 52 finished with value: 0.5148414984483661 and parameters: {'lambda_l1': 2.147958327315758e-06, 'lambda_l2': 6.244178542344834e-06, 'num_leaves': 209, 'feature_fraction': 0.818094364462457, 'bagging_fraction': 0.670620457580897, 'bagging_freq': 4, 'min_child_samples': 18}. Best is trial 30 with value: 0.5209990539889017.\n",
      "[I 2024-03-16 16:27:20,652] Trial 53 finished with value: 0.516750629187555 and parameters: {'lambda_l1': 3.9594263013458284e-07, 'lambda_l2': 1.35228408286857e-07, 'num_leaves': 157, 'feature_fraction': 0.7445980486342315, 'bagging_fraction': 0.5152569411897894, 'bagging_freq': 3, 'min_child_samples': 9}. Best is trial 30 with value: 0.5209990539889017.\n",
      "[I 2024-03-16 16:29:41,514] Trial 54 finished with value: 0.5180617266304006 and parameters: {'lambda_l1': 1.0022333669070088e-06, 'lambda_l2': 4.4716514775829627e-07, 'num_leaves': 197, 'feature_fraction': 0.7133617338500156, 'bagging_fraction': 0.4740699110284812, 'bagging_freq': 2, 'min_child_samples': 8}. Best is trial 30 with value: 0.5209990539889017.\n",
      "[I 2024-03-16 16:32:04,281] Trial 55 finished with value: 0.5156838742460973 and parameters: {'lambda_l1': 4.406707281929008e-06, 'lambda_l2': 2.943414117176087e-06, 'num_leaves': 175, 'feature_fraction': 0.857061072751996, 'bagging_fraction': 0.6078673931922425, 'bagging_freq': 4, 'min_child_samples': 13}. Best is trial 30 with value: 0.5209990539889017.\n",
      "[I 2024-03-16 16:34:29,858] Trial 56 finished with value: 0.5137322889891083 and parameters: {'lambda_l1': 0.00010012670118885707, 'lambda_l2': 1.0960434937277555e-06, 'num_leaves': 158, 'feature_fraction': 0.6587342034326171, 'bagging_fraction': 0.561800854519788, 'bagging_freq': 3, 'min_child_samples': 24}. Best is trial 30 with value: 0.5209990539889017.\n",
      "[I 2024-03-16 16:37:06,736] Trial 57 finished with value: 0.518554114593949 and parameters: {'lambda_l1': 1.6233242570333625e-07, 'lambda_l2': 7.661765525915593e-08, 'num_leaves': 188, 'feature_fraction': 0.775033427950194, 'bagging_fraction': 0.5292605053090689, 'bagging_freq': 4, 'min_child_samples': 5}. Best is trial 30 with value: 0.5209990539889017.\n",
      "[I 2024-03-16 16:39:44,705] Trial 58 finished with value: 0.5147974823025045 and parameters: {'lambda_l1': 1.463074284622431e-07, 'lambda_l2': 5.320724657889115e-08, 'num_leaves': 183, 'feature_fraction': 0.7752689737638006, 'bagging_fraction': 0.53366655029918, 'bagging_freq': 4, 'min_child_samples': 18}. Best is trial 30 with value: 0.5209990539889017.\n",
      "[I 2024-03-16 16:42:39,125] Trial 59 finished with value: 0.5167910711959003 and parameters: {'lambda_l1': 2.760858114534315e-08, 'lambda_l2': 2.1483102373692306e-08, 'num_leaves': 200, 'feature_fraction': 0.8087621584128408, 'bagging_fraction': 0.5823938550545781, 'bagging_freq': 4, 'min_child_samples': 9}. Best is trial 30 with value: 0.5209990539889017.\n",
      "[I 2024-03-16 16:45:14,301] Trial 60 finished with value: 0.5155252938804668 and parameters: {'lambda_l1': 0.0002135928323809846, 'lambda_l2': 9.396196014758683e-08, 'num_leaves': 210, 'feature_fraction': 0.8764026790081216, 'bagging_fraction': 0.6516512913041257, 'bagging_freq': 2, 'min_child_samples': 27}. Best is trial 30 with value: 0.5209990539889017.\n",
      "[I 2024-03-16 16:47:39,974] Trial 61 finished with value: 0.5184744701471813 and parameters: {'lambda_l1': 2.2555809054437008e-05, 'lambda_l2': 2.1418163422187006e-07, 'num_leaves': 186, 'feature_fraction': 0.747438329372118, 'bagging_fraction': 0.4863668115193688, 'bagging_freq': 3, 'min_child_samples': 5}. Best is trial 30 with value: 0.5209990539889017.\n",
      "[I 2024-03-16 16:50:03,439] Trial 62 finished with value: 0.5125033795445035 and parameters: {'lambda_l1': 2.0582094239119218e-05, 'lambda_l2': 1.0812855172659952, 'num_leaves': 219, 'feature_fraction': 0.7037758082051306, 'bagging_fraction': 0.420772741708839, 'bagging_freq': 3, 'min_child_samples': 14}. Best is trial 30 with value: 0.5209990539889017.\n",
      "[I 2024-03-16 16:52:40,346] Trial 63 finished with value: 0.5185497517679034 and parameters: {'lambda_l1': 3.0000453090977994e-07, 'lambda_l2': 1.9719552490324643e-07, 'num_leaves': 187, 'feature_fraction': 0.8452138194722434, 'bagging_fraction': 0.48747408399052083, 'bagging_freq': 3, 'min_child_samples': 8}. Best is trial 30 with value: 0.5209990539889017.\n",
      "[I 2024-03-16 16:55:25,907] Trial 64 finished with value: 0.517155757798912 and parameters: {'lambda_l1': 3.733867681106206e-07, 'lambda_l2': 3.297069673290977e-08, 'num_leaves': 195, 'feature_fraction': 0.8384515219542197, 'bagging_fraction': 0.5188644136722524, 'bagging_freq': 3, 'min_child_samples': 11}. Best is trial 30 with value: 0.5209990539889017.\n",
      "[I 2024-03-16 16:57:33,229] Trial 65 finished with value: 0.5203898960612462 and parameters: {'lambda_l1': 8.585971841124053e-08, 'lambda_l2': 1.2648829500656323e-07, 'num_leaves': 206, 'feature_fraction': 0.9305183889859772, 'bagging_fraction': 0.4695897682160581, 'bagging_freq': 4, 'min_child_samples': 8}. Best is trial 30 with value: 0.5209990539889017.\n",
      "[I 2024-03-16 16:59:44,347] Trial 66 finished with value: 0.5218095688581263 and parameters: {'lambda_l1': 8.00638250019855e-07, 'lambda_l2': 1.2453775718734522e-08, 'num_leaves': 239, 'feature_fraction': 0.954717332799543, 'bagging_fraction': 0.44979998817083244, 'bagging_freq': 5, 'min_child_samples': 8}. Best is trial 66 with value: 0.5218095688581263.\n",
      "[I 2024-03-16 17:01:55,747] Trial 67 finished with value: 0.5193318510228828 and parameters: {'lambda_l1': 6.928133940872764e-07, 'lambda_l2': 1.3022302302798922e-08, 'num_leaves': 242, 'feature_fraction': 0.9576096048537925, 'bagging_fraction': 0.4547628269630251, 'bagging_freq': 5, 'min_child_samples': 15}. Best is trial 66 with value: 0.5218095688581263.\n",
      "[I 2024-03-16 17:04:07,584] Trial 68 finished with value: 0.5197153258252613 and parameters: {'lambda_l1': 6.871927425599645e-07, 'lambda_l2': 1.4539881040120764e-08, 'num_leaves': 243, 'feature_fraction': 0.9571156046554963, 'bagging_fraction': 0.4556248074675523, 'bagging_freq': 5, 'min_child_samples': 18}. Best is trial 66 with value: 0.5218095688581263.\n",
      "[I 2024-03-16 17:06:19,551] Trial 69 finished with value: 0.5192985572895705 and parameters: {'lambda_l1': 1.0743255023214856e-08, 'lambda_l2': 1.3815577803276339e-08, 'num_leaves': 232, 'feature_fraction': 0.9343122378511027, 'bagging_fraction': 0.4586862646115754, 'bagging_freq': 5, 'min_child_samples': 31}. Best is trial 66 with value: 0.5218095688581263.\n",
      "[I 2024-03-16 17:08:31,283] Trial 70 finished with value: 0.5176894895335931 and parameters: {'lambda_l1': 1.1943581784472121e-08, 'lambda_l2': 1.2516781203223801e-08, 'num_leaves': 242, 'feature_fraction': 0.9488549373443814, 'bagging_fraction': 0.4474324783379913, 'bagging_freq': 5, 'min_child_samples': 31}. Best is trial 66 with value: 0.5218095688581263.\n",
      "[I 2024-03-16 17:10:37,584] Trial 71 finished with value: 0.5181063224809116 and parameters: {'lambda_l1': 4.9909839814799797e-08, 'lambda_l2': 1.3398544494234512e-08, 'num_leaves': 237, 'feature_fraction': 0.9903997116791686, 'bagging_fraction': 0.41923631236143094, 'bagging_freq': 5, 'min_child_samples': 19}. Best is trial 66 with value: 0.5218095688581263.\n",
      "[I 2024-03-16 17:12:48,665] Trial 72 finished with value: 0.5176996322414932 and parameters: {'lambda_l1': 7.506109567317725e-08, 'lambda_l2': 2.5127045698033474e-08, 'num_leaves': 225, 'feature_fraction': 0.9537982234169385, 'bagging_fraction': 0.46481308487899065, 'bagging_freq': 5, 'min_child_samples': 23}. Best is trial 66 with value: 0.5218095688581263.\n",
      "[I 2024-03-16 17:15:02,577] Trial 73 finished with value: 0.5177384482101495 and parameters: {'lambda_l1': 1.0019106521925037e-06, 'lambda_l2': 1.750402539183674e-08, 'num_leaves': 247, 'feature_fraction': 0.9276905264770364, 'bagging_fraction': 0.44443578749487744, 'bagging_freq': 5, 'min_child_samples': 35}. Best is trial 66 with value: 0.5218095688581263.\n",
      "[I 2024-03-16 17:17:16,063] Trial 74 finished with value: 0.5198571949126082 and parameters: {'lambda_l1': 2.9917448535456615e-08, 'lambda_l2': 4.3254855529082325e-08, 'num_leaves': 231, 'feature_fraction': 0.9709933488585942, 'bagging_fraction': 0.4718095843592404, 'bagging_freq': 5, 'min_child_samples': 16}. Best is trial 66 with value: 0.5218095688581263.\n",
      "[I 2024-03-16 17:19:29,102] Trial 75 finished with value: 0.5193152041562267 and parameters: {'lambda_l1': 3.776074025571785e-08, 'lambda_l2': 1.0008700381773812e-08, 'num_leaves': 231, 'feature_fraction': 0.9735516237018471, 'bagging_fraction': 0.4634439839577357, 'bagging_freq': 5, 'min_child_samples': 16}. Best is trial 66 with value: 0.5218095688581263.\n",
      "[I 2024-03-16 17:21:36,198] Trial 76 finished with value: 0.5207535363292182 and parameters: {'lambda_l1': 2.8985206613134047e-08, 'lambda_l2': 4.7090824131381935e-08, 'num_leaves': 242, 'feature_fraction': 0.9745234309026514, 'bagging_fraction': 0.417851932002773, 'bagging_freq': 5, 'min_child_samples': 15}. Best is trial 66 with value: 0.5218095688581263.\n",
      "[I 2024-03-16 17:23:41,066] Trial 77 finished with value: 0.5194579907553579 and parameters: {'lambda_l1': 1.046339342094055e-07, 'lambda_l2': 4.253318466241118e-08, 'num_leaves': 242, 'feature_fraction': 0.9744387011750818, 'bagging_fraction': 0.4001644234877401, 'bagging_freq': 6, 'min_child_samples': 11}. Best is trial 66 with value: 0.5218095688581263.\n",
      "[I 2024-03-16 17:25:43,896] Trial 78 finished with value: 0.517437161406012 and parameters: {'lambda_l1': 2.5212650835917244e-08, 'lambda_l2': 4.35960623218681e-08, 'num_leaves': 217, 'feature_fraction': 0.9725212410043893, 'bagging_fraction': 0.4147675562625957, 'bagging_freq': 6, 'min_child_samples': 11}. Best is trial 66 with value: 0.5218095688581263.\n",
      "[I 2024-03-16 17:27:51,713] Trial 79 finished with value: 0.518582385635942 and parameters: {'lambda_l1': 1.198563390918416e-07, 'lambda_l2': 1.016027308082294e-07, 'num_leaves': 253, 'feature_fraction': 0.9088033785986074, 'bagging_fraction': 0.411313815453251, 'bagging_freq': 6, 'min_child_samples': 18}. Best is trial 66 with value: 0.5218095688581263.\n",
      "[I 2024-03-16 17:29:54,455] Trial 80 finished with value: 0.5168012139038004 and parameters: {'lambda_l1': 7.233633817808897e-08, 'lambda_l2': 6.953259219778258e-08, 'num_leaves': 222, 'feature_fraction': 0.9990572152398232, 'bagging_fraction': 0.40328404696208375, 'bagging_freq': 6, 'min_child_samples': 25}. Best is trial 66 with value: 0.5218095688581263.\n",
      "[I 2024-03-16 17:32:11,773] Trial 81 finished with value: 0.5187645679083787 and parameters: {'lambda_l1': 6.559228509488366e-07, 'lambda_l2': 3.5409337852446574e-08, 'num_leaves': 241, 'feature_fraction': 0.9462630430010274, 'bagging_fraction': 0.47587170635086057, 'bagging_freq': 5, 'min_child_samples': 14}. Best is trial 66 with value: 0.5218095688581263.\n",
      "[I 2024-03-16 17:34:21,022] Trial 82 finished with value: 0.5206666147841623 and parameters: {'lambda_l1': 2.519358810715942e-07, 'lambda_l2': 2.430650746467938e-08, 'num_leaves': 246, 'feature_fraction': 0.9672216950962315, 'bagging_fraction': 0.43277261016513435, 'bagging_freq': 5, 'min_child_samples': 9}. Best is trial 66 with value: 0.5218095688581263.\n",
      "[I 2024-03-16 17:36:31,536] Trial 83 finished with value: 0.521049638705147 and parameters: {'lambda_l1': 1.86485463329201e-08, 'lambda_l2': 2.5901976462527782e-08, 'num_leaves': 237, 'feature_fraction': 0.9760086396538001, 'bagging_fraction': 0.4306741631162078, 'bagging_freq': 5, 'min_child_samples': 8}. Best is trial 66 with value: 0.5218095688581263.\n",
      "[I 2024-03-16 17:38:37,893] Trial 84 finished with value: 0.5209286347382497 and parameters: {'lambda_l1': 2.2128132539465922e-07, 'lambda_l2': 1.3253815012734532e-07, 'num_leaves': 248, 'feature_fraction': 0.8891352921597644, 'bagging_fraction': 0.42771031222905287, 'bagging_freq': 5, 'min_child_samples': 10}. Best is trial 66 with value: 0.5218095688581263.\n",
      "[I 2024-03-16 17:40:47,258] Trial 85 finished with value: 0.5221894051113607 and parameters: {'lambda_l1': 2.310658420963098e-07, 'lambda_l2': 1.3938218788133255e-07, 'num_leaves': 249, 'feature_fraction': 0.8914856333435002, 'bagging_fraction': 0.43202039969120004, 'bagging_freq': 5, 'min_child_samples': 8}. Best is trial 85 with value: 0.5221894051113607.\n",
      "[I 2024-03-16 17:42:54,596] Trial 86 finished with value: 0.5217283627832975 and parameters: {'lambda_l1': 2.1706885881053457e-07, 'lambda_l2': 1.4000900988261307e-07, 'num_leaves': 249, 'feature_fraction': 0.8930049976422577, 'bagging_fraction': 0.4280919207535577, 'bagging_freq': 5, 'min_child_samples': 8}. Best is trial 85 with value: 0.5221894051113607.\n",
      "[I 2024-03-16 17:45:04,984] Trial 87 finished with value: 0.5187550049051277 and parameters: {'lambda_l1': 2.1824262497615138e-07, 'lambda_l2': 1.3845088786715051e-06, 'num_leaves': 248, 'feature_fraction': 0.8848140831803453, 'bagging_fraction': 0.4279226257342491, 'bagging_freq': 5, 'min_child_samples': 51}. Best is trial 85 with value: 0.5221894051113607.\n",
      "[I 2024-03-16 17:47:14,016] Trial 88 finished with value: 0.5213706312204355 and parameters: {'lambda_l1': 1.7807104288383592e-08, 'lambda_l2': 1.2919591072952563e-07, 'num_leaves': 254, 'feature_fraction': 0.9105484438364548, 'bagging_fraction': 0.43472171707115614, 'bagging_freq': 5, 'min_child_samples': 9}. Best is trial 85 with value: 0.5221894051113607.\n",
      "[I 2024-03-16 17:49:23,884] Trial 89 finished with value: 0.523474163861044 and parameters: {'lambda_l1': 1.723771406255249e-08, 'lambda_l2': 1.7162698693402178e-07, 'num_leaves': 256, 'feature_fraction': 0.9050764284882327, 'bagging_fraction': 0.4338513230485769, 'bagging_freq': 5, 'min_child_samples': 8}. Best is trial 89 with value: 0.523474163861044.\n",
      "[I 2024-03-16 17:51:32,128] Trial 90 finished with value: 0.5196691683466892 and parameters: {'lambda_l1': 1.7624702811880443e-08, 'lambda_l2': 1.6560688529196814e-07, 'num_leaves': 255, 'feature_fraction': 0.9131123638868875, 'bagging_fraction': 0.4228427485922645, 'bagging_freq': 5, 'min_child_samples': 12}. Best is trial 89 with value: 0.523474163861044.\n",
      "[I 2024-03-16 17:53:39,865] Trial 91 finished with value: 0.5201854158635542 and parameters: {'lambda_l1': 2.3983426422157334e-07, 'lambda_l2': 8.086061625695668e-08, 'num_leaves': 236, 'feature_fraction': 0.9031069795078903, 'bagging_fraction': 0.437821858827178, 'bagging_freq': 5, 'min_child_samples': 8}. Best is trial 89 with value: 0.523474163861044.\n",
      "[I 2024-03-16 17:55:49,252] Trial 92 finished with value: 0.5207749324916859 and parameters: {'lambda_l1': 5.768273527324956e-08, 'lambda_l2': 2.5275753914387444e-08, 'num_leaves': 248, 'feature_fraction': 0.8920268247400589, 'bagging_fraction': 0.44338983337749227, 'bagging_freq': 5, 'min_child_samples': 10}. Best is trial 89 with value: 0.523474163861044.\n",
      "[I 2024-03-16 17:59:00,354] Trial 93 finished with value: 0.5152194510154008 and parameters: {'lambda_l1': 5.174576708580508e-08, 'lambda_l2': 2.738625174143112e-07, 'num_leaves': 256, 'feature_fraction': 0.8914284209545901, 'bagging_fraction': 0.8584604292972107, 'bagging_freq': 5, 'min_child_samples': 10}. Best is trial 89 with value: 0.523474163861044.\n",
      "[I 2024-03-16 18:01:03,461] Trial 94 finished with value: 0.5219236821965015 and parameters: {'lambda_l1': 1.4351607474894417e-08, 'lambda_l2': 6.56223114539815e-08, 'num_leaves': 250, 'feature_fraction': 0.8652797803085237, 'bagging_fraction': 0.4154731994381958, 'bagging_freq': 6, 'min_child_samples': 7}. Best is trial 89 with value: 0.523474163861044.\n",
      "[I 2024-03-16 18:03:12,873] Trial 95 finished with value: 0.5194585060483794 and parameters: {'lambda_l1': 1.4323481204814997e-08, 'lambda_l2': 1.3620227374703939e-07, 'num_leaves': 251, 'feature_fraction': 0.8722445548365818, 'bagging_fraction': 0.4453498775490866, 'bagging_freq': 6, 'min_child_samples': 13}. Best is trial 89 with value: 0.523474163861044.\n",
      "[I 2024-03-16 18:05:16,952] Trial 96 finished with value: 0.521015443209047 and parameters: {'lambda_l1': 5.4165563873812416e-08, 'lambda_l2': 6.683426137227009e-08, 'num_leaves': 237, 'feature_fraction': 0.9178443729197476, 'bagging_fraction': 0.4145028497466594, 'bagging_freq': 6, 'min_child_samples': 7}. Best is trial 89 with value: 0.523474163861044.\n",
      "[I 2024-03-16 18:07:20,060] Trial 97 finished with value: 0.522747913911143 and parameters: {'lambda_l1': 1.907876414388961e-08, 'lambda_l2': 5.887961268523227e-08, 'num_leaves': 227, 'feature_fraction': 0.8603933661856424, 'bagging_fraction': 0.42725125555332144, 'bagging_freq': 6, 'min_child_samples': 7}. Best is trial 89 with value: 0.523474163861044.\n",
      "[I 2024-03-16 18:09:23,377] Trial 98 finished with value: 0.5216030761509792 and parameters: {'lambda_l1': 1.7520205283960364e-08, 'lambda_l2': 6.080453345248844e-07, 'num_leaves': 229, 'feature_fraction': 0.9223683613586608, 'bagging_fraction': 0.4117378584066181, 'bagging_freq': 6, 'min_child_samples': 7}. Best is trial 89 with value: 0.523474163861044.\n",
      "[I 2024-03-16 18:11:24,798] Trial 99 finished with value: 0.5193772355619228 and parameters: {'lambda_l1': 2.3570776594225384e-08, 'lambda_l2': 0.036457238647194266, 'num_leaves': 225, 'feature_fraction': 0.9154977751813254, 'bagging_fraction': 0.4059146014171247, 'bagging_freq': 6, 'min_child_samples': 8}. Best is trial 89 with value: 0.523474163861044.\n"
     ]
    }
   ],
   "source": [
    "sampler = TPESampler(seed=42)\n",
    "lgb_study = optuna.create_study(study_name=\"lightgbm\", direction=\"maximize\", sampler=sampler)\n",
    "lgb_study.optimize(objective, n_trials=100)"
   ]
  },
  {
   "cell_type": "code",
   "execution_count": 11,
   "id": "1491ed9e",
   "metadata": {
    "execution": {
     "iopub.execute_input": "2024-03-16T18:11:24.855142Z",
     "iopub.status.busy": "2024-03-16T18:11:24.854794Z",
     "iopub.status.idle": "2024-03-16T18:11:24.860232Z",
     "shell.execute_reply": "2024-03-16T18:11:24.859311Z"
    },
    "papermill": {
     "duration": 0.025849,
     "end_time": "2024-03-16T18:11:24.862916",
     "exception": false,
     "start_time": "2024-03-16T18:11:24.837067",
     "status": "completed"
    },
    "tags": []
   },
   "outputs": [
    {
     "name": "stdout",
     "output_type": "stream",
     "text": [
      "Best parameters: {'lambda_l1': 1.723771406255249e-08, 'lambda_l2': 1.7162698693402178e-07, 'num_leaves': 256, 'feature_fraction': 0.9050764284882327, 'bagging_fraction': 0.4338513230485769, 'bagging_freq': 5, 'min_child_samples': 8}\n"
     ]
    }
   ],
   "source": [
    "print('Best parameters:', lgb_study.best_params)"
   ]
  },
  {
   "cell_type": "code",
   "execution_count": 12,
   "id": "21df8039",
   "metadata": {
    "execution": {
     "iopub.execute_input": "2024-03-16T18:11:24.898019Z",
     "iopub.status.busy": "2024-03-16T18:11:24.897699Z",
     "iopub.status.idle": "2024-03-16T18:11:24.902672Z",
     "shell.execute_reply": "2024-03-16T18:11:24.901783Z"
    },
    "papermill": {
     "duration": 0.025469,
     "end_time": "2024-03-16T18:11:24.905128",
     "exception": false,
     "start_time": "2024-03-16T18:11:24.879659",
     "status": "completed"
    },
    "tags": []
   },
   "outputs": [
    {
     "name": "stdout",
     "output_type": "stream",
     "text": [
      "Best value: 0.523474163861044\n"
     ]
    }
   ],
   "source": [
    "print('Best value:', lgb_study.best_value)"
   ]
  },
  {
   "cell_type": "code",
   "execution_count": 13,
   "id": "eedb114b",
   "metadata": {
    "execution": {
     "iopub.execute_input": "2024-03-16T18:11:24.939010Z",
     "iopub.status.busy": "2024-03-16T18:11:24.938698Z",
     "iopub.status.idle": "2024-03-16T18:11:24.944419Z",
     "shell.execute_reply": "2024-03-16T18:11:24.943385Z"
    },
    "papermill": {
     "duration": 0.025511,
     "end_time": "2024-03-16T18:11:24.946476",
     "exception": false,
     "start_time": "2024-03-16T18:11:24.920965",
     "status": "completed"
    },
    "tags": []
   },
   "outputs": [
    {
     "name": "stdout",
     "output_type": "stream",
     "text": [
      "Best trial: FrozenTrial(number=89, state=TrialState.COMPLETE, values=[0.523474163861044], datetime_start=datetime.datetime(2024, 3, 16, 17, 47, 14, 17770), datetime_complete=datetime.datetime(2024, 3, 16, 17, 49, 23, 883403), params={'lambda_l1': 1.723771406255249e-08, 'lambda_l2': 1.7162698693402178e-07, 'num_leaves': 256, 'feature_fraction': 0.9050764284882327, 'bagging_fraction': 0.4338513230485769, 'bagging_freq': 5, 'min_child_samples': 8}, user_attrs={}, system_attrs={}, intermediate_values={}, distributions={'lambda_l1': FloatDistribution(high=10.0, log=True, low=1e-08, step=None), 'lambda_l2': FloatDistribution(high=10.0, log=True, low=1e-08, step=None), 'num_leaves': IntDistribution(high=256, log=False, low=2, step=1), 'feature_fraction': FloatDistribution(high=1.0, log=False, low=0.4, step=None), 'bagging_fraction': FloatDistribution(high=1.0, log=False, low=0.4, step=None), 'bagging_freq': IntDistribution(high=7, log=False, low=1, step=1), 'min_child_samples': IntDistribution(high=100, log=False, low=5, step=1)}, trial_id=89, value=None)\n"
     ]
    }
   ],
   "source": [
    "print('Best trial:', lgb_study.best_trial)"
   ]
  },
  {
   "cell_type": "markdown",
   "id": "710989af",
   "metadata": {
    "papermill": {
     "duration": 0.016253,
     "end_time": "2024-03-16T18:11:24.979016",
     "exception": false,
     "start_time": "2024-03-16T18:11:24.962763",
     "status": "completed"
    },
    "tags": []
   },
   "source": [
    "# XGBClassifier"
   ]
  },
  {
   "cell_type": "code",
   "execution_count": 14,
   "id": "d8d2e8e6",
   "metadata": {
    "execution": {
     "iopub.execute_input": "2024-03-16T18:11:25.013103Z",
     "iopub.status.busy": "2024-03-16T18:11:25.012253Z",
     "iopub.status.idle": "2024-03-16T18:11:25.023523Z",
     "shell.execute_reply": "2024-03-16T18:11:25.022782Z"
    },
    "papermill": {
     "duration": 0.030592,
     "end_time": "2024-03-16T18:11:25.025430",
     "exception": false,
     "start_time": "2024-03-16T18:11:24.994838",
     "status": "completed"
    },
    "tags": []
   },
   "outputs": [],
   "source": [
    "if submit == False:\n",
    "    import optuna\n",
    "    from xgboost import XGBClassifier\n",
    "    from sklearn.model_selection import train_test_split\n",
    "    from sklearn.metrics import roc_auc_score\n",
    "\n",
    "    # Assuming 'X' is your feature matrix and 'y' is your target variable\n",
    "\n",
    "\n",
    "    def objective(trial):\n",
    "\n",
    "        params = {\n",
    "            'max_depth': trial.suggest_int('max_depth', 5, 10),\n",
    "            'min_child_weight': trial.suggest_int('min_child_weight', 1, 10),\n",
    "            'learning_rate': trial.suggest_float('learning_rate', 0.01, 1.0),\n",
    "            'n_estimators': trial.suggest_int('n_estimators', 150, 1000),\n",
    "            'subsample': trial.suggest_float('subsample', 0.01, 1.0),\n",
    "            'colsample_bytree': trial.suggest_float('colsample_bytree', 0.01, 1.0),\n",
    "            'random_state': trial.suggest_categorical('random_state', [42]),\n",
    "            'tree_method': 'hist',  # Use GPU for training\n",
    "            'device': 'cuda',\n",
    "            'njobs': -1,\n",
    "            'eval_metric': 'auc',  # Evaluation metric\n",
    "            'verbosity': 2,  # Set verbosity to 0 for less output\n",
    "        }\n",
    "\n",
    "        model = XGBClassifier(**params)\n",
    "\n",
    "        model.fit(X_train, y_train, eval_set=[(X_valid, y_valid)], early_stopping_rounds=100, verbose=False)\n",
    "\n",
    "        y_pred = model.predict_proba(X_valid)[:, 1]\n",
    "        auc = roc_auc_score(y_valid, y_pred)\n",
    "\n",
    "        return auc\n",
    "\n",
    "    study = optuna.create_study(direction='maximize')\n",
    "    study.optimize(objective, n_trials=100)\n",
    "\n",
    "    print('Number of finished trials: ', len(study.trials))\n",
    "    print('Best trial:')\n",
    "    trial = study.best_trial\n",
    "\n",
    "    print('Value: ', trial.value)\n",
    "    print('Params: ')\n",
    "    for key, value in trial.params.items():\n",
    "        print(f'    {key}: {value}')"
   ]
  },
  {
   "cell_type": "markdown",
   "id": "e9306d86",
   "metadata": {
    "papermill": {
     "duration": 0.015119,
     "end_time": "2024-03-16T18:11:25.056047",
     "exception": false,
     "start_time": "2024-03-16T18:11:25.040928",
     "status": "completed"
    },
    "tags": []
   },
   "source": [
    "# Catboost"
   ]
  },
  {
   "cell_type": "code",
   "execution_count": 15,
   "id": "a62aa02e",
   "metadata": {
    "execution": {
     "iopub.execute_input": "2024-03-16T18:11:25.089336Z",
     "iopub.status.busy": "2024-03-16T18:11:25.089017Z",
     "iopub.status.idle": "2024-03-16T18:11:25.098967Z",
     "shell.execute_reply": "2024-03-16T18:11:25.098044Z"
    },
    "papermill": {
     "duration": 0.029262,
     "end_time": "2024-03-16T18:11:25.100936",
     "exception": false,
     "start_time": "2024-03-16T18:11:25.071674",
     "status": "completed"
    },
    "tags": []
   },
   "outputs": [],
   "source": [
    "if submit==False:\n",
    "\n",
    "    import optuna\n",
    "    from catboost import CatBoostClassifier\n",
    "    from sklearn.model_selection import train_test_split\n",
    "    from sklearn.metrics import roc_auc_score\n",
    "\n",
    "    # Assuming 'X' is your feature matrix and 'y' is your target variable\n",
    "\n",
    "\n",
    "    def objective(trial):\n",
    "\n",
    "        params = {\n",
    "            'iterations': trial.suggest_int('iterations', 200, 1000),\n",
    "            'depth': trial.suggest_int('depth', 3, 10),\n",
    "            'min_data_in_leaf': trial.suggest_int('min_data_in_leaf', 2, 20),\n",
    "            'learning_rate': trial.suggest_float('learning_rate', 1e-4, 0.2, log=True),\n",
    "            'random_state': 42,\n",
    "            'verbose': 0,\n",
    "            'eval_metric': 'AUC',\n",
    "        }\n",
    "\n",
    "        model = CatBoostClassifier(**params)\n",
    "\n",
    "        model.fit(X_train, y_train, eval_set=[(X_valid, y_valid)], early_stopping_rounds=50)\n",
    "\n",
    "        y_pred = model.predict_proba(X_valid)[:, 1]\n",
    "        auc = roc_auc_score(y_valid, y_pred)\n",
    "\n",
    "        return auc\n",
    "\n",
    "    cat_study = optuna.create_study(direction='maximize')\n",
    "    cat_study.optimize(objective, n_trials=100)\n",
    "\n",
    "    print('Number of finished trials: ', len(cat_study.trials))\n",
    "    print('Best trial:')\n",
    "    trial = cat_study.best_trial\n",
    "\n",
    "    print('Value: ', trial.value)\n",
    "    print('Params: ')\n",
    "    for key, value in trial.params.items():\n",
    "        print(f'    {key}: {value}')"
   ]
  },
  {
   "cell_type": "markdown",
   "id": "ae54a729",
   "metadata": {
    "papermill": {
     "duration": 0.016303,
     "end_time": "2024-03-16T18:11:25.133881",
     "exception": false,
     "start_time": "2024-03-16T18:11:25.117578",
     "status": "completed"
    },
    "tags": []
   },
   "source": [
    "# パラメータ"
   ]
  },
  {
   "cell_type": "code",
   "execution_count": 16,
   "id": "86fa0fa5",
   "metadata": {
    "execution": {
     "iopub.execute_input": "2024-03-16T18:11:25.168763Z",
     "iopub.status.busy": "2024-03-16T18:11:25.168442Z",
     "iopub.status.idle": "2024-03-16T18:11:25.172791Z",
     "shell.execute_reply": "2024-03-16T18:11:25.171902Z"
    },
    "papermill": {
     "duration": 0.02447,
     "end_time": "2024-03-16T18:11:25.175110",
     "exception": false,
     "start_time": "2024-03-16T18:11:25.150640",
     "status": "completed"
    },
    "tags": []
   },
   "outputs": [],
   "source": [
    "lgb_params = {}\n",
    "xgb_params = {}\n",
    "cat_params = {}"
   ]
  },
  {
   "cell_type": "code",
   "execution_count": 17,
   "id": "5ae3cb42",
   "metadata": {
    "execution": {
     "iopub.execute_input": "2024-03-16T18:11:25.210161Z",
     "iopub.status.busy": "2024-03-16T18:11:25.209859Z",
     "iopub.status.idle": "2024-03-16T18:11:25.214554Z",
     "shell.execute_reply": "2024-03-16T18:11:25.213611Z"
    },
    "papermill": {
     "duration": 0.024896,
     "end_time": "2024-03-16T18:11:25.216749",
     "exception": false,
     "start_time": "2024-03-16T18:11:25.191853",
     "status": "completed"
    },
    "tags": []
   },
   "outputs": [],
   "source": [
    "lgb_model = LGBMClassifier(**lgb_params)\n",
    "xgb_model = XGBClassifier(**xgb_params)\n",
    "cat_model = CatBoostClassifier(**cat_params)"
   ]
  },
  {
   "cell_type": "code",
   "execution_count": null,
   "id": "3b749fc3",
   "metadata": {
    "papermill": {
     "duration": 0.016945,
     "end_time": "2024-03-16T18:11:25.250687",
     "exception": false,
     "start_time": "2024-03-16T18:11:25.233742",
     "status": "completed"
    },
    "tags": []
   },
   "outputs": [],
   "source": []
  }
 ],
 "metadata": {
  "kaggle": {
   "accelerator": "nvidiaTeslaT4",
   "dataSources": [
    {
     "databundleVersionId": 7921029,
     "sourceId": 50160,
     "sourceType": "competition"
    },
    {
     "datasetId": 4596894,
     "sourceId": 7841273,
     "sourceType": "datasetVersion"
    },
    {
     "datasetId": 4609695,
     "sourceId": 7859511,
     "sourceType": "datasetVersion"
    }
   ],
   "dockerImageVersionId": 30665,
   "isGpuEnabled": true,
   "isInternetEnabled": true,
   "language": "python",
   "sourceType": "notebook"
  },
  "kernelspec": {
   "display_name": "Python 3",
   "language": "python",
   "name": "python3"
  },
  "language_info": {
   "codemirror_mode": {
    "name": "ipython",
    "version": 3
   },
   "file_extension": ".py",
   "mimetype": "text/x-python",
   "name": "python",
   "nbconvert_exporter": "python",
   "pygments_lexer": "ipython3",
   "version": "3.10.13"
  },
  "papermill": {
   "default_parameters": {},
   "duration": 14901.395552,
   "end_time": "2024-03-16T18:11:26.426226",
   "environment_variables": {},
   "exception": null,
   "input_path": "__notebook__.ipynb",
   "output_path": "__notebook__.ipynb",
   "parameters": {},
   "start_time": "2024-03-16T14:03:05.030674",
   "version": "2.5.0"
  }
 },
 "nbformat": 4,
 "nbformat_minor": 5
}

{
 "cells": [
  {
   "cell_type": "code",
   "execution_count": 1,
   "id": "5be2286e",
   "metadata": {
    "_cell_guid": "b1076dfc-b9ad-4769-8c92-a6c4dae69d19",
    "_uuid": "8f2839f25d086af736a60e9eeb907d3b93b6e0e5",
    "execution": {
     "iopub.execute_input": "2024-02-11T01:41:04.625045Z",
     "iopub.status.busy": "2024-02-11T01:41:04.624690Z",
     "iopub.status.idle": "2024-02-11T01:41:05.556749Z",
     "shell.execute_reply": "2024-02-11T01:41:05.553219Z"
    },
    "papermill": {
     "duration": 0.941334,
     "end_time": "2024-02-11T01:41:05.559079",
     "exception": false,
     "start_time": "2024-02-11T01:41:04.617745",
     "status": "completed"
    },
    "tags": []
   },
   "outputs": [
    {
     "name": "stdout",
     "output_type": "stream",
     "text": [
      "/kaggle/input/home-credit-credit-risk-model-stability/sample_submission.csv\n",
      "/kaggle/input/home-credit-credit-risk-model-stability/feature_definitions.csv\n",
      "/kaggle/input/home-credit-credit-risk-model-stability/parquet_files/test/test_deposit_1.parquet\n",
      "/kaggle/input/home-credit-credit-risk-model-stability/parquet_files/test/test_applprev_2.parquet\n",
      "/kaggle/input/home-credit-credit-risk-model-stability/parquet_files/test/test_static_cb_0.parquet\n",
      "/kaggle/input/home-credit-credit-risk-model-stability/parquet_files/test/test_static_0_0.parquet\n",
      "/kaggle/input/home-credit-credit-risk-model-stability/parquet_files/test/test_credit_bureau_a_1_3.parquet\n",
      "/kaggle/input/home-credit-credit-risk-model-stability/parquet_files/test/test_credit_bureau_a_1_2.parquet\n",
      "/kaggle/input/home-credit-credit-risk-model-stability/parquet_files/test/test_tax_registry_b_1.parquet\n",
      "/kaggle/input/home-credit-credit-risk-model-stability/parquet_files/test/test_static_0_2.parquet\n",
      "/kaggle/input/home-credit-credit-risk-model-stability/parquet_files/test/test_credit_bureau_a_2_3.parquet\n",
      "/kaggle/input/home-credit-credit-risk-model-stability/parquet_files/test/test_credit_bureau_a_2_9.parquet\n",
      "/kaggle/input/home-credit-credit-risk-model-stability/parquet_files/test/test_debitcard_1.parquet\n",
      "/kaggle/input/home-credit-credit-risk-model-stability/parquet_files/test/test_credit_bureau_a_1_1.parquet\n",
      "/kaggle/input/home-credit-credit-risk-model-stability/parquet_files/test/test_credit_bureau_a_2_2.parquet\n",
      "/kaggle/input/home-credit-credit-risk-model-stability/parquet_files/test/test_credit_bureau_a_2_11.parquet\n",
      "/kaggle/input/home-credit-credit-risk-model-stability/parquet_files/test/test_applprev_1_2.parquet\n",
      "/kaggle/input/home-credit-credit-risk-model-stability/parquet_files/test/test_credit_bureau_a_2_1.parquet\n",
      "/kaggle/input/home-credit-credit-risk-model-stability/parquet_files/test/test_credit_bureau_a_1_4.parquet\n",
      "/kaggle/input/home-credit-credit-risk-model-stability/parquet_files/test/test_tax_registry_c_1.parquet\n",
      "/kaggle/input/home-credit-credit-risk-model-stability/parquet_files/test/test_applprev_1_0.parquet\n",
      "/kaggle/input/home-credit-credit-risk-model-stability/parquet_files/test/test_tax_registry_a_1.parquet\n",
      "/kaggle/input/home-credit-credit-risk-model-stability/parquet_files/test/test_credit_bureau_a_2_6.parquet\n",
      "/kaggle/input/home-credit-credit-risk-model-stability/parquet_files/test/test_credit_bureau_a_2_5.parquet\n",
      "/kaggle/input/home-credit-credit-risk-model-stability/parquet_files/test/test_credit_bureau_b_1.parquet\n",
      "/kaggle/input/home-credit-credit-risk-model-stability/parquet_files/test/test_other_1.parquet\n",
      "/kaggle/input/home-credit-credit-risk-model-stability/parquet_files/test/test_static_0_1.parquet\n",
      "/kaggle/input/home-credit-credit-risk-model-stability/parquet_files/test/test_credit_bureau_a_2_0.parquet\n",
      "/kaggle/input/home-credit-credit-risk-model-stability/parquet_files/test/test_applprev_1_1.parquet\n",
      "/kaggle/input/home-credit-credit-risk-model-stability/parquet_files/test/test_base.parquet\n",
      "/kaggle/input/home-credit-credit-risk-model-stability/parquet_files/test/test_person_1.parquet\n",
      "/kaggle/input/home-credit-credit-risk-model-stability/parquet_files/test/test_credit_bureau_a_2_7.parquet\n",
      "/kaggle/input/home-credit-credit-risk-model-stability/parquet_files/test/test_credit_bureau_a_2_10.parquet\n",
      "/kaggle/input/home-credit-credit-risk-model-stability/parquet_files/test/test_credit_bureau_b_2.parquet\n",
      "/kaggle/input/home-credit-credit-risk-model-stability/parquet_files/test/test_credit_bureau_a_2_8.parquet\n",
      "/kaggle/input/home-credit-credit-risk-model-stability/parquet_files/test/test_credit_bureau_a_1_0.parquet\n",
      "/kaggle/input/home-credit-credit-risk-model-stability/parquet_files/test/test_credit_bureau_a_2_4.parquet\n",
      "/kaggle/input/home-credit-credit-risk-model-stability/parquet_files/test/test_person_2.parquet\n",
      "/kaggle/input/home-credit-credit-risk-model-stability/parquet_files/train/train_tax_registry_c_1.parquet\n",
      "/kaggle/input/home-credit-credit-risk-model-stability/parquet_files/train/train_static_0_0.parquet\n",
      "/kaggle/input/home-credit-credit-risk-model-stability/parquet_files/train/train_credit_bureau_a_1_3.parquet\n",
      "/kaggle/input/home-credit-credit-risk-model-stability/parquet_files/train/train_credit_bureau_b_2.parquet\n",
      "/kaggle/input/home-credit-credit-risk-model-stability/parquet_files/train/train_applprev_1_1.parquet\n",
      "/kaggle/input/home-credit-credit-risk-model-stability/parquet_files/train/train_static_cb_0.parquet\n",
      "/kaggle/input/home-credit-credit-risk-model-stability/parquet_files/train/train_other_1.parquet\n",
      "/kaggle/input/home-credit-credit-risk-model-stability/parquet_files/train/train_credit_bureau_a_2_6.parquet\n",
      "/kaggle/input/home-credit-credit-risk-model-stability/parquet_files/train/train_tax_registry_a_1.parquet\n",
      "/kaggle/input/home-credit-credit-risk-model-stability/parquet_files/train/train_tax_registry_b_1.parquet\n",
      "/kaggle/input/home-credit-credit-risk-model-stability/parquet_files/train/train_credit_bureau_a_2_1.parquet\n",
      "/kaggle/input/home-credit-credit-risk-model-stability/parquet_files/train/train_person_1.parquet\n",
      "/kaggle/input/home-credit-credit-risk-model-stability/parquet_files/train/train_person_2.parquet\n",
      "/kaggle/input/home-credit-credit-risk-model-stability/parquet_files/train/train_credit_bureau_b_1.parquet\n",
      "/kaggle/input/home-credit-credit-risk-model-stability/parquet_files/train/train_credit_bureau_a_2_0.parquet\n",
      "/kaggle/input/home-credit-credit-risk-model-stability/parquet_files/train/train_credit_bureau_a_2_7.parquet\n",
      "/kaggle/input/home-credit-credit-risk-model-stability/parquet_files/train/train_deposit_1.parquet\n",
      "/kaggle/input/home-credit-credit-risk-model-stability/parquet_files/train/train_debitcard_1.parquet\n",
      "/kaggle/input/home-credit-credit-risk-model-stability/parquet_files/train/train_credit_bureau_a_2_5.parquet\n",
      "/kaggle/input/home-credit-credit-risk-model-stability/parquet_files/train/train_credit_bureau_a_2_2.parquet\n",
      "/kaggle/input/home-credit-credit-risk-model-stability/parquet_files/train/train_credit_bureau_a_2_4.parquet\n",
      "/kaggle/input/home-credit-credit-risk-model-stability/parquet_files/train/train_base.parquet\n",
      "/kaggle/input/home-credit-credit-risk-model-stability/parquet_files/train/train_credit_bureau_a_2_9.parquet\n",
      "/kaggle/input/home-credit-credit-risk-model-stability/parquet_files/train/train_credit_bureau_a_2_3.parquet\n",
      "/kaggle/input/home-credit-credit-risk-model-stability/parquet_files/train/train_applprev_2.parquet\n",
      "/kaggle/input/home-credit-credit-risk-model-stability/parquet_files/train/train_credit_bureau_a_2_10.parquet\n",
      "/kaggle/input/home-credit-credit-risk-model-stability/parquet_files/train/train_credit_bureau_a_2_8.parquet\n",
      "/kaggle/input/home-credit-credit-risk-model-stability/parquet_files/train/train_credit_bureau_a_1_2.parquet\n",
      "/kaggle/input/home-credit-credit-risk-model-stability/parquet_files/train/train_static_0_1.parquet\n",
      "/kaggle/input/home-credit-credit-risk-model-stability/parquet_files/train/train_credit_bureau_a_1_0.parquet\n",
      "/kaggle/input/home-credit-credit-risk-model-stability/parquet_files/train/train_credit_bureau_a_1_1.parquet\n",
      "/kaggle/input/home-credit-credit-risk-model-stability/parquet_files/train/train_applprev_1_0.parquet\n",
      "/kaggle/input/home-credit-credit-risk-model-stability/csv_files/test/test_credit_bureau_a_2_6.csv\n",
      "/kaggle/input/home-credit-credit-risk-model-stability/csv_files/test/test_credit_bureau_a_2_11.csv\n",
      "/kaggle/input/home-credit-credit-risk-model-stability/csv_files/test/test_credit_bureau_a_2_0.csv\n",
      "/kaggle/input/home-credit-credit-risk-model-stability/csv_files/test/test_credit_bureau_a_2_9.csv\n",
      "/kaggle/input/home-credit-credit-risk-model-stability/csv_files/test/test_base.csv\n",
      "/kaggle/input/home-credit-credit-risk-model-stability/csv_files/test/test_credit_bureau_a_1_1.csv\n",
      "/kaggle/input/home-credit-credit-risk-model-stability/csv_files/test/test_credit_bureau_b_2.csv\n",
      "/kaggle/input/home-credit-credit-risk-model-stability/csv_files/test/test_credit_bureau_a_2_10.csv\n",
      "/kaggle/input/home-credit-credit-risk-model-stability/csv_files/test/test_credit_bureau_a_2_4.csv\n",
      "/kaggle/input/home-credit-credit-risk-model-stability/csv_files/test/test_static_0_0.csv\n",
      "/kaggle/input/home-credit-credit-risk-model-stability/csv_files/test/test_static_cb_0.csv\n",
      "/kaggle/input/home-credit-credit-risk-model-stability/csv_files/test/test_credit_bureau_a_2_2.csv\n",
      "/kaggle/input/home-credit-credit-risk-model-stability/csv_files/test/test_credit_bureau_b_1.csv\n",
      "/kaggle/input/home-credit-credit-risk-model-stability/csv_files/test/test_tax_registry_b_1.csv\n",
      "/kaggle/input/home-credit-credit-risk-model-stability/csv_files/test/test_person_2.csv\n",
      "/kaggle/input/home-credit-credit-risk-model-stability/csv_files/test/test_person_1.csv\n",
      "/kaggle/input/home-credit-credit-risk-model-stability/csv_files/test/test_credit_bureau_a_2_8.csv\n",
      "/kaggle/input/home-credit-credit-risk-model-stability/csv_files/test/test_applprev_1_2.csv\n",
      "/kaggle/input/home-credit-credit-risk-model-stability/csv_files/test/test_applprev_1_1.csv\n",
      "/kaggle/input/home-credit-credit-risk-model-stability/csv_files/test/test_credit_bureau_a_1_0.csv\n",
      "/kaggle/input/home-credit-credit-risk-model-stability/csv_files/test/test_applprev_2.csv\n",
      "/kaggle/input/home-credit-credit-risk-model-stability/csv_files/test/test_credit_bureau_a_2_7.csv\n",
      "/kaggle/input/home-credit-credit-risk-model-stability/csv_files/test/test_other_1.csv\n",
      "/kaggle/input/home-credit-credit-risk-model-stability/csv_files/test/test_tax_registry_c_1.csv\n",
      "/kaggle/input/home-credit-credit-risk-model-stability/csv_files/test/test_credit_bureau_a_1_3.csv\n",
      "/kaggle/input/home-credit-credit-risk-model-stability/csv_files/test/test_static_0_2.csv\n",
      "/kaggle/input/home-credit-credit-risk-model-stability/csv_files/test/test_credit_bureau_a_2_5.csv\n",
      "/kaggle/input/home-credit-credit-risk-model-stability/csv_files/test/test_credit_bureau_a_1_2.csv\n",
      "/kaggle/input/home-credit-credit-risk-model-stability/csv_files/test/test_debitcard_1.csv\n",
      "/kaggle/input/home-credit-credit-risk-model-stability/csv_files/test/test_credit_bureau_a_1_4.csv\n",
      "/kaggle/input/home-credit-credit-risk-model-stability/csv_files/test/test_deposit_1.csv\n",
      "/kaggle/input/home-credit-credit-risk-model-stability/csv_files/test/test_static_0_1.csv\n",
      "/kaggle/input/home-credit-credit-risk-model-stability/csv_files/test/test_credit_bureau_a_2_1.csv\n",
      "/kaggle/input/home-credit-credit-risk-model-stability/csv_files/test/test_applprev_1_0.csv\n",
      "/kaggle/input/home-credit-credit-risk-model-stability/csv_files/test/test_tax_registry_a_1.csv\n",
      "/kaggle/input/home-credit-credit-risk-model-stability/csv_files/test/test_credit_bureau_a_2_3.csv\n",
      "/kaggle/input/home-credit-credit-risk-model-stability/csv_files/train/train_credit_bureau_a_1_3.csv\n",
      "/kaggle/input/home-credit-credit-risk-model-stability/csv_files/train/train_static_cb_0.csv\n",
      "/kaggle/input/home-credit-credit-risk-model-stability/csv_files/train/train_applprev_1_0.csv\n",
      "/kaggle/input/home-credit-credit-risk-model-stability/csv_files/train/train_person_2.csv\n",
      "/kaggle/input/home-credit-credit-risk-model-stability/csv_files/train/train_base.csv\n",
      "/kaggle/input/home-credit-credit-risk-model-stability/csv_files/train/train_tax_registry_a_1.csv\n",
      "/kaggle/input/home-credit-credit-risk-model-stability/csv_files/train/train_static_0_0.csv\n",
      "/kaggle/input/home-credit-credit-risk-model-stability/csv_files/train/train_credit_bureau_a_1_0.csv\n",
      "/kaggle/input/home-credit-credit-risk-model-stability/csv_files/train/train_applprev_2.csv\n",
      "/kaggle/input/home-credit-credit-risk-model-stability/csv_files/train/train_credit_bureau_a_2_6.csv\n",
      "/kaggle/input/home-credit-credit-risk-model-stability/csv_files/train/train_credit_bureau_a_1_2.csv\n",
      "/kaggle/input/home-credit-credit-risk-model-stability/csv_files/train/train_person_1.csv\n",
      "/kaggle/input/home-credit-credit-risk-model-stability/csv_files/train/train_credit_bureau_a_1_1.csv\n",
      "/kaggle/input/home-credit-credit-risk-model-stability/csv_files/train/train_tax_registry_c_1.csv\n",
      "/kaggle/input/home-credit-credit-risk-model-stability/csv_files/train/train_credit_bureau_a_2_4.csv\n",
      "/kaggle/input/home-credit-credit-risk-model-stability/csv_files/train/train_credit_bureau_a_2_9.csv\n",
      "/kaggle/input/home-credit-credit-risk-model-stability/csv_files/train/train_credit_bureau_a_2_3.csv\n",
      "/kaggle/input/home-credit-credit-risk-model-stability/csv_files/train/train_credit_bureau_a_2_7.csv\n",
      "/kaggle/input/home-credit-credit-risk-model-stability/csv_files/train/train_credit_bureau_b_2.csv\n",
      "/kaggle/input/home-credit-credit-risk-model-stability/csv_files/train/train_credit_bureau_a_2_2.csv\n",
      "/kaggle/input/home-credit-credit-risk-model-stability/csv_files/train/train_static_0_1.csv\n",
      "/kaggle/input/home-credit-credit-risk-model-stability/csv_files/train/train_deposit_1.csv\n",
      "/kaggle/input/home-credit-credit-risk-model-stability/csv_files/train/train_credit_bureau_a_2_10.csv\n",
      "/kaggle/input/home-credit-credit-risk-model-stability/csv_files/train/train_tax_registry_b_1.csv\n",
      "/kaggle/input/home-credit-credit-risk-model-stability/csv_files/train/train_applprev_1_1.csv\n",
      "/kaggle/input/home-credit-credit-risk-model-stability/csv_files/train/train_credit_bureau_a_2_1.csv\n",
      "/kaggle/input/home-credit-credit-risk-model-stability/csv_files/train/train_credit_bureau_a_2_8.csv\n",
      "/kaggle/input/home-credit-credit-risk-model-stability/csv_files/train/train_credit_bureau_a_2_5.csv\n",
      "/kaggle/input/home-credit-credit-risk-model-stability/csv_files/train/train_credit_bureau_b_1.csv\n",
      "/kaggle/input/home-credit-credit-risk-model-stability/csv_files/train/train_credit_bureau_a_2_0.csv\n",
      "/kaggle/input/home-credit-credit-risk-model-stability/csv_files/train/train_other_1.csv\n",
      "/kaggle/input/home-credit-credit-risk-model-stability/csv_files/train/train_debitcard_1.csv\n"
     ]
    }
   ],
   "source": [
    "# This Python 3 environment comes with many helpful analytics libraries installed\n",
    "# It is defined by the kaggle/python Docker image: https://github.com/kaggle/docker-python\n",
    "# For example, here's several helpful packages to load\n",
    "\n",
    "import numpy as np # linear algebra\n",
    "import pandas as pd # data processing, CSV file I/O (e.g. pd.read_csv)\n",
    "\n",
    "# Input data files are available in the read-only \"../input/\" directory\n",
    "# For example, running this (by clicking run or pressing Shift+Enter) will list all files under the input directory\n",
    "\n",
    "import os\n",
    "for dirname, _, filenames in os.walk('/kaggle/input'):\n",
    "    for filename in filenames:\n",
    "        print(os.path.join(dirname, filename))\n",
    "\n",
    "# You can write up to 20GB to the current directory (/kaggle/working/) that gets preserved as output when you create a version using \"Save & Run All\" \n",
    "# You can also write temporary files to /kaggle/temp/, but they won't be saved outside of the current session"
   ]
  },
  {
   "cell_type": "code",
   "execution_count": 2,
   "id": "29713448",
   "metadata": {
    "execution": {
     "iopub.execute_input": "2024-02-11T01:41:05.570986Z",
     "iopub.status.busy": "2024-02-11T01:41:05.570489Z",
     "iopub.status.idle": "2024-02-11T01:41:08.427106Z",
     "shell.execute_reply": "2024-02-11T01:41:08.425842Z"
    },
    "papermill": {
     "duration": 2.865498,
     "end_time": "2024-02-11T01:41:08.429877",
     "exception": false,
     "start_time": "2024-02-11T01:41:05.564379",
     "status": "completed"
    },
    "tags": []
   },
   "outputs": [],
   "source": [
    "import polars as pl\n",
    "import numpy as np\n",
    "import pandas as pd\n",
    "import lightgbm as lgb\n",
    "from sklearn.model_selection import train_test_split\n",
    "from sklearn.metrics import roc_auc_score\n",
    "\n",
    "dataPath = \"/kaggle/input/home-credit-credit-risk-model-stability/\""
   ]
  },
  {
   "cell_type": "code",
   "execution_count": 3,
   "id": "f94e4c1e",
   "metadata": {
    "execution": {
     "iopub.execute_input": "2024-02-11T01:41:08.441650Z",
     "iopub.status.busy": "2024-02-11T01:41:08.440892Z",
     "iopub.status.idle": "2024-02-11T01:41:08.448095Z",
     "shell.execute_reply": "2024-02-11T01:41:08.447349Z"
    },
    "papermill": {
     "duration": 0.015343,
     "end_time": "2024-02-11T01:41:08.450154",
     "exception": false,
     "start_time": "2024-02-11T01:41:08.434811",
     "status": "completed"
    },
    "tags": []
   },
   "outputs": [],
   "source": [
    "def set_table_dtypes(df: pl.DataFrame) -> pl.DataFrame:\n",
    "    for col in df.columns:\n",
    "        if col[-1] in (\"P\", \"A\"):\n",
    "            df = df.with_columns(pl.col(col).cast(pl.Float64).alias(col))\n",
    "            \n",
    "    return df\n",
    "\n",
    "def convert_strings(df: pd.DataFrame) -> pd.DataFrame:\n",
    "    for col in df.columns:\n",
    "        if df[col].dtype.name in ['object', 'string']:\n",
    "            df[col] = df[col].astype(\"string\").astype('category')\n",
    "            current_categories = df[col].cat.categories\n",
    "            new_categories = current_categories.to_list() + [\"Unknown\"]\n",
    "            new_dtype = pd.CategoricalDtype(categories=new_categories, ordered=True)\n",
    "            df[col] = df[col].astype(new_dtype)\n",
    "            \n",
    "    return df"
   ]
  },
  {
   "cell_type": "code",
   "execution_count": 4,
   "id": "5f26bfc1",
   "metadata": {
    "execution": {
     "iopub.execute_input": "2024-02-11T01:41:08.461147Z",
     "iopub.status.busy": "2024-02-11T01:41:08.460736Z",
     "iopub.status.idle": "2024-02-11T01:41:23.142269Z",
     "shell.execute_reply": "2024-02-11T01:41:23.141363Z"
    },
    "papermill": {
     "duration": 14.689772,
     "end_time": "2024-02-11T01:41:23.144723",
     "exception": false,
     "start_time": "2024-02-11T01:41:08.454951",
     "status": "completed"
    },
    "tags": []
   },
   "outputs": [],
   "source": [
    "train_basetable = pl.read_csv(dataPath + \"csv_files/train/train_base.csv\")\n",
    "train_static = pl.concat(\n",
    "    [\n",
    "    pl.read_csv(dataPath + \"csv_files/train/train_static_0_0.csv\").pipe(set_table_dtypes),\n",
    "    pl.read_csv(dataPath + \"csv_files/train/train_static_0_1.csv\").pipe(set_table_dtypes),\n",
    "    ],\n",
    "    how=\"vertical_relaxed\",\n",
    ")\n",
    "\n",
    "train_static_cb = pl.read_csv(dataPath + \"csv_files/train/train_static_cb_0.csv\").pipe(set_table_dtypes)\n",
    "train_person_1 = pl.read_csv(dataPath + \"csv_files/train/train_person_1.csv\").pipe(set_table_dtypes)\n",
    "train_credit_bureau_b_2 = pl.read_csv(dataPath + \"csv_files/train/train_credit_bureau_b_2.csv\").pipe(set_table_dtypes)"
   ]
  },
  {
   "cell_type": "code",
   "execution_count": 5,
   "id": "12e99751",
   "metadata": {
    "execution": {
     "iopub.execute_input": "2024-02-11T01:41:23.156734Z",
     "iopub.status.busy": "2024-02-11T01:41:23.156052Z",
     "iopub.status.idle": "2024-02-11T01:41:23.210630Z",
     "shell.execute_reply": "2024-02-11T01:41:23.209641Z"
    },
    "papermill": {
     "duration": 0.063374,
     "end_time": "2024-02-11T01:41:23.213112",
     "exception": false,
     "start_time": "2024-02-11T01:41:23.149738",
     "status": "completed"
    },
    "tags": []
   },
   "outputs": [],
   "source": [
    "test_basetable = pl.read_csv(dataPath + \"csv_files/test/test_base.csv\")\n",
    "test_static = pl.concat(\n",
    "    [\n",
    "    pl.read_csv(dataPath + \"csv_files/test/test_static_0_0.csv\").pipe(set_table_dtypes),\n",
    "    pl.read_csv(dataPath + \"csv_files/test/test_static_0_1.csv\").pipe(set_table_dtypes),\n",
    "    ],\n",
    "    how=\"vertical_relaxed\",\n",
    ")\n",
    "\n",
    "test_static_cb = pl.read_csv(dataPath + \"csv_files/test/test_static_cb_0.csv\").pipe(set_table_dtypes)\n",
    "test_person_1 = pl.read_csv(dataPath + \"csv_files/test/test_person_1.csv\").pipe(set_table_dtypes)\n",
    "test_credit_bureau_b_2 = pl.read_csv(dataPath + \"csv_files/test/test_credit_bureau_b_2.csv\").pipe(set_table_dtypes)"
   ]
  },
  {
   "cell_type": "code",
   "execution_count": 6,
   "id": "438d44ac",
   "metadata": {
    "execution": {
     "iopub.execute_input": "2024-02-11T01:41:23.224666Z",
     "iopub.status.busy": "2024-02-11T01:41:23.224268Z",
     "iopub.status.idle": "2024-02-11T01:41:24.290061Z",
     "shell.execute_reply": "2024-02-11T01:41:24.289057Z"
    },
    "papermill": {
     "duration": 1.074449,
     "end_time": "2024-02-11T01:41:24.292551",
     "exception": false,
     "start_time": "2024-02-11T01:41:23.218102",
     "status": "completed"
    },
    "tags": []
   },
   "outputs": [],
   "source": [
    "train_person_1_feats_1 = train_person_1.group_by(\"case_id\").agg(\n",
    "    pl.col(\"mainoccupationinc_384A\").max().alias(\"mainoccupationinc_384A_max\"),\n",
    "    (pl.col(\"incometype_1044T\") == \"SELFEMPLOYED\").max().alias(\"mainoccupationinc_384A_any_selfemployed\")\n",
    ")\n",
    "\n",
    "# Here num_group1=0 has special meaning, it is the person who applied for the loan.\n",
    "train_person_1_feats_2 = train_person_1.select([\"case_id\", \"num_group1\", \"housetype_905L\"]).filter(\n",
    "    pl.col(\"num_group1\") == 0\n",
    ").drop(\"num_group1\").rename({\"housetype_905L\": \"person_housetype\"})\n",
    "\n",
    "# Here we have num_goup1 and num_group2, so we need to aggregate again.\n",
    "train_credit_bureau_b_2_feats = train_credit_bureau_b_2.group_by(\"case_id\").agg(\n",
    "    pl.col(\"pmts_pmtsoverdue_635A\").max().alias(\"pmts_pmtsoverdue_635A_max\"),\n",
    "    (pl.col(\"pmts_dpdvalue_108P\") > 31).max().alias(\"pmts_dpdvalue_108P_over31\")\n",
    ")"
   ]
  },
  {
   "cell_type": "code",
   "execution_count": 7,
   "id": "5da5c901",
   "metadata": {
    "execution": {
     "iopub.execute_input": "2024-02-11T01:41:24.304580Z",
     "iopub.status.busy": "2024-02-11T01:41:24.303407Z",
     "iopub.status.idle": "2024-02-11T01:41:25.655792Z",
     "shell.execute_reply": "2024-02-11T01:41:25.654801Z"
    },
    "papermill": {
     "duration": 1.361043,
     "end_time": "2024-02-11T01:41:25.658369",
     "exception": false,
     "start_time": "2024-02-11T01:41:24.297326",
     "status": "completed"
    },
    "tags": []
   },
   "outputs": [
    {
     "name": "stdout",
     "output_type": "stream",
     "text": [
      "['amtinstpaidbefduel24m_4187115A', 'annuity_780A', 'annuitynextmonth_57A', 'avginstallast24m_3658937A', 'avglnamtstart24m_4525187A', 'avgoutstandbalancel6m_4187114A', 'avgpmtlast12m_4525200A', 'credamount_770A', 'currdebt_22A', 'currdebtcredtyperange_828A', 'disbursedcredamount_1113A', 'downpmt_116A', 'inittransactionamount_650A', 'lastapprcommoditycat_1041M', 'lastapprcommoditytypec_5251766M', 'lastapprcredamount_781A', 'lastcancelreason_561M', 'lastotherinc_902A', 'lastotherlnsexpense_631A', 'lastrejectcommoditycat_161M', 'lastrejectcommodtypec_5251769M', 'lastrejectcredamount_222A', 'lastrejectreason_759M', 'lastrejectreasonclient_4145040M', 'maininc_215A', 'maxannuity_159A', 'maxannuity_4075009A', 'maxdebt4_972A', 'maxinstallast24m_3658928A', 'maxlnamtstart6m_4525199A', 'maxoutstandbalancel12m_4187113A', 'maxpmtlast3m_4525190A', 'previouscontdistrict_112M', 'price_1097A', 'sumoutstandtotal_3546847A', 'sumoutstandtotalest_4493215A', 'totaldebt_9A', 'totalsettled_863A', 'totinstallast1m_4525188A']\n",
      "['description_5085714M', 'education_1103M', 'education_88M', 'maritalst_385M', 'maritalst_893M', 'pmtaverage_3A', 'pmtaverage_4527227A', 'pmtaverage_4955615A', 'pmtssum_45A']\n"
     ]
    }
   ],
   "source": [
    "selected_static_cols = []\n",
    "for col in train_static.columns:\n",
    "    if col[-1] in (\"A\", \"M\"):\n",
    "        selected_static_cols.append(col)\n",
    "print(selected_static_cols)\n",
    "\n",
    "selected_static_cb_cols = []\n",
    "for col in train_static_cb.columns:\n",
    "    if col[-1] in (\"A\", \"M\"):\n",
    "        selected_static_cb_cols.append(col)\n",
    "print(selected_static_cb_cols)\n",
    "\n",
    "data = train_basetable.join(\n",
    "    train_static.select([\"case_id\"] + selected_static_cols), how=\"left\", on=\"case_id\"\n",
    ").join(\n",
    "    train_static_cb.select([\"case_id\"] + selected_static_cb_cols), how=\"left\", on=\"case_id\"\n",
    ").join(\n",
    "    train_person_1_feats_1, how=\"left\", on=\"case_id\"\n",
    ").join(\n",
    "    train_person_1_feats_2, how=\"left\", on=\"case_id\"\n",
    ").join(\n",
    "    train_credit_bureau_b_2_feats, how=\"left\", on=\"case_id\"\n",
    ")"
   ]
  },
  {
   "cell_type": "code",
   "execution_count": 8,
   "id": "fbfba5d0",
   "metadata": {
    "execution": {
     "iopub.execute_input": "2024-02-11T01:41:25.670096Z",
     "iopub.status.busy": "2024-02-11T01:41:25.669743Z",
     "iopub.status.idle": "2024-02-11T01:41:25.681700Z",
     "shell.execute_reply": "2024-02-11T01:41:25.680826Z"
    },
    "papermill": {
     "duration": 0.020757,
     "end_time": "2024-02-11T01:41:25.684158",
     "exception": false,
     "start_time": "2024-02-11T01:41:25.663401",
     "status": "completed"
    },
    "tags": []
   },
   "outputs": [],
   "source": [
    "test_person_1_feats_1 = test_person_1.group_by(\"case_id\").agg(\n",
    "    pl.col(\"mainoccupationinc_384A\").max().alias(\"mainoccupationinc_384A_max\"),\n",
    "    (pl.col(\"incometype_1044T\") == \"SELFEMPLOYED\").max().alias(\"mainoccupationinc_384A_any_selfemployed\")\n",
    ")\n",
    "\n",
    "test_person_1_feats_2 = test_person_1.select([\"case_id\", \"num_group1\", \"housetype_905L\"]).filter(\n",
    "    pl.col(\"num_group1\") == 0\n",
    ").drop(\"num_group1\").rename({\"housetype_905L\": \"person_housetype\"})\n",
    "\n",
    "test_credit_bureau_b_2_feats = test_credit_bureau_b_2.group_by(\"case_id\").agg(\n",
    "    pl.col(\"pmts_pmtsoverdue_635A\").max().alias(\"pmts_pmtsoverdue_635A_max\"),\n",
    "    (pl.col(\"pmts_dpdvalue_108P\") > 31).max().alias(\"pmts_dpdvalue_108P_over31\")\n",
    ")\n",
    "\n",
    "data_submission = test_basetable.join(\n",
    "    test_static.select([\"case_id\"]+selected_static_cols), how=\"left\", on=\"case_id\"\n",
    ").join(\n",
    "    test_static_cb.select([\"case_id\"]+selected_static_cb_cols), how=\"left\", on=\"case_id\"\n",
    ").join(\n",
    "    test_person_1_feats_1, how=\"left\", on=\"case_id\"\n",
    ").join(\n",
    "    test_person_1_feats_2, how=\"left\", on=\"case_id\"\n",
    ").join(\n",
    "    test_credit_bureau_b_2_feats, how=\"left\", on=\"case_id\"\n",
    ")"
   ]
  },
  {
   "cell_type": "code",
   "execution_count": 9,
   "id": "f3a2b45a",
   "metadata": {
    "execution": {
     "iopub.execute_input": "2024-02-11T01:41:25.696348Z",
     "iopub.status.busy": "2024-02-11T01:41:25.695940Z",
     "iopub.status.idle": "2024-02-11T01:41:32.336916Z",
     "shell.execute_reply": "2024-02-11T01:41:32.335691Z"
    },
    "papermill": {
     "duration": 6.650376,
     "end_time": "2024-02-11T01:41:32.339653",
     "exception": false,
     "start_time": "2024-02-11T01:41:25.689277",
     "status": "completed"
    },
    "tags": []
   },
   "outputs": [
    {
     "name": "stdout",
     "output_type": "stream",
     "text": [
      "['amtinstpaidbefduel24m_4187115A', 'annuity_780A', 'annuitynextmonth_57A', 'avginstallast24m_3658937A', 'avglnamtstart24m_4525187A', 'avgoutstandbalancel6m_4187114A', 'avgpmtlast12m_4525200A', 'credamount_770A', 'currdebt_22A', 'currdebtcredtyperange_828A', 'disbursedcredamount_1113A', 'downpmt_116A', 'inittransactionamount_650A', 'lastapprcommoditycat_1041M', 'lastapprcommoditytypec_5251766M', 'lastapprcredamount_781A', 'lastcancelreason_561M', 'lastotherinc_902A', 'lastotherlnsexpense_631A', 'lastrejectcommoditycat_161M', 'lastrejectcommodtypec_5251769M', 'lastrejectcredamount_222A', 'lastrejectreason_759M', 'lastrejectreasonclient_4145040M', 'maininc_215A', 'maxannuity_159A', 'maxannuity_4075009A', 'maxdebt4_972A', 'maxinstallast24m_3658928A', 'maxlnamtstart6m_4525199A', 'maxoutstandbalancel12m_4187113A', 'maxpmtlast3m_4525190A', 'previouscontdistrict_112M', 'price_1097A', 'sumoutstandtotal_3546847A', 'sumoutstandtotalest_4493215A', 'totaldebt_9A', 'totalsettled_863A', 'totinstallast1m_4525188A', 'description_5085714M', 'education_1103M', 'education_88M', 'maritalst_385M', 'maritalst_893M', 'pmtaverage_3A', 'pmtaverage_4527227A', 'pmtaverage_4955615A', 'pmtssum_45A']\n"
     ]
    }
   ],
   "source": [
    "case_ids = data[\"case_id\"].unique().shuffle(seed=1)\n",
    "case_ids_train, case_ids_test = train_test_split(case_ids, train_size=0.6, random_state=1)\n",
    "case_ids_valid, case_ids_test = train_test_split(case_ids_test, train_size=0.5, random_state=1)\n",
    "\n",
    "cols_pred = []\n",
    "for col in data.columns:\n",
    "    if col[-1].isupper() and col[:-1].islower():\n",
    "        cols_pred.append(col)\n",
    "        \n",
    "print(cols_pred)\n",
    "\n",
    "def from_polars_to_pandas(case_ids: pl.DataFrame) -> pl.DataFrame:\n",
    "    return (\n",
    "        data.filter(pl.col(\"case_id\").is_in(case_ids))[[\"case_id\", \"WEEK_NUM\", \"target\"]].to_pandas(),\n",
    "        data.filter(pl.col(\"case_id\").is_in(case_ids))[cols_pred].to_pandas(),\n",
    "        data.filter(pl.col(\"case_id\").is_in(case_ids))[\"target\"].to_pandas()\n",
    "    )\n",
    "\n",
    "base_train, X_train, y_train = from_polars_to_pandas(case_ids_train)\n",
    "base_valid, X_valid, y_valid = from_polars_to_pandas(case_ids_valid)\n",
    "base_test, X_test, y_test = from_polars_to_pandas(case_ids_test)\n",
    "\n",
    "for df in [X_train, X_valid, X_test]:\n",
    "    df = convert_strings(df)"
   ]
  },
  {
   "cell_type": "code",
   "execution_count": 10,
   "id": "1594d990",
   "metadata": {
    "execution": {
     "iopub.execute_input": "2024-02-11T01:41:32.351623Z",
     "iopub.status.busy": "2024-02-11T01:41:32.351230Z",
     "iopub.status.idle": "2024-02-11T01:41:32.356107Z",
     "shell.execute_reply": "2024-02-11T01:41:32.355344Z"
    },
    "papermill": {
     "duration": 0.01395,
     "end_time": "2024-02-11T01:41:32.358737",
     "exception": false,
     "start_time": "2024-02-11T01:41:32.344787",
     "status": "completed"
    },
    "tags": []
   },
   "outputs": [
    {
     "name": "stdout",
     "output_type": "stream",
     "text": [
      "Train: (915995, 48)\n",
      "Valid: (305332, 48)\n",
      "Test: (305332, 48)\n"
     ]
    }
   ],
   "source": [
    "print(f\"Train: {X_train.shape}\")\n",
    "print(f\"Valid: {X_valid.shape}\")\n",
    "print(f\"Test: {X_test.shape}\")"
   ]
  },
  {
   "cell_type": "code",
   "execution_count": 11,
   "id": "0f097130",
   "metadata": {
    "execution": {
     "iopub.execute_input": "2024-02-11T01:41:32.371045Z",
     "iopub.status.busy": "2024-02-11T01:41:32.370137Z",
     "iopub.status.idle": "2024-02-11T01:42:50.055230Z",
     "shell.execute_reply": "2024-02-11T01:42:50.054025Z"
    },
    "papermill": {
     "duration": 77.693682,
     "end_time": "2024-02-11T01:42:50.057538",
     "exception": false,
     "start_time": "2024-02-11T01:41:32.363856",
     "status": "completed"
    },
    "tags": []
   },
   "outputs": [
    {
     "name": "stderr",
     "output_type": "stream",
     "text": [
      "/opt/conda/lib/python3.10/site-packages/lightgbm/engine.py:172: UserWarning: Found `n_estimators` in params. Will use it instead of argument\n",
      "  _log_warning(f\"Found `{alias}` in params. Will use it instead of argument\")\n"
     ]
    },
    {
     "name": "stdout",
     "output_type": "stream",
     "text": [
      "Training until validation scores don't improve for 10 rounds\n",
      "[50]\tvalid_0's auc: 0.705963\n",
      "[100]\tvalid_0's auc: 0.724362\n",
      "[150]\tvalid_0's auc: 0.731423\n",
      "[200]\tvalid_0's auc: 0.735874\n",
      "[250]\tvalid_0's auc: 0.739009\n",
      "[300]\tvalid_0's auc: 0.740965\n",
      "[350]\tvalid_0's auc: 0.742924\n",
      "[400]\tvalid_0's auc: 0.744582\n",
      "[450]\tvalid_0's auc: 0.745977\n",
      "[500]\tvalid_0's auc: 0.747033\n",
      "[550]\tvalid_0's auc: 0.747877\n",
      "[600]\tvalid_0's auc: 0.749039\n",
      "[650]\tvalid_0's auc: 0.750087\n",
      "[700]\tvalid_0's auc: 0.750863\n",
      "Early stopping, best iteration is:\n",
      "[739]\tvalid_0's auc: 0.751216\n"
     ]
    }
   ],
   "source": [
    "lgb_train = lgb.Dataset(X_train, label=y_train)\n",
    "lgb_valid = lgb.Dataset(X_valid, label=y_valid, reference=lgb_train)\n",
    "\n",
    "params = {\n",
    "    \"boosting_type\": \"gbdt\",\n",
    "    \"objective\": \"binary\",\n",
    "    \"metric\": \"auc\",\n",
    "    \"max_depth\": 3,\n",
    "    \"num_leaves\": 31,\n",
    "    \"learning_rate\": 0.05,\n",
    "    \"feature_fraction\": 0.9,\n",
    "    \"bagging_fraction\": 0.8,\n",
    "    \"bagging_freq\": 5,\n",
    "    \"n_estimators\": 1000,\n",
    "    \"verbose\": -1,\n",
    "}\n",
    "\n",
    "gbm = lgb.train(\n",
    "    params,\n",
    "    lgb_train,\n",
    "    valid_sets=lgb_valid,\n",
    "    callbacks=[lgb.log_evaluation(50), lgb.early_stopping(10)]\n",
    ")"
   ]
  },
  {
   "cell_type": "code",
   "execution_count": 12,
   "id": "f48ed2ad",
   "metadata": {
    "execution": {
     "iopub.execute_input": "2024-02-11T01:42:50.072835Z",
     "iopub.status.busy": "2024-02-11T01:42:50.071703Z",
     "iopub.status.idle": "2024-02-11T01:43:09.081054Z",
     "shell.execute_reply": "2024-02-11T01:43:09.079861Z"
    },
    "papermill": {
     "duration": 19.019738,
     "end_time": "2024-02-11T01:43:09.083507",
     "exception": false,
     "start_time": "2024-02-11T01:42:50.063769",
     "status": "completed"
    },
    "tags": []
   },
   "outputs": [
    {
     "name": "stdout",
     "output_type": "stream",
     "text": [
      "The AUC score on the train set is: 0.764122917660593\n",
      "The AUC score on the valid set is: 0.7512157223309048\n",
      "The AUC score on the test set is: 0.7483072129459662\n"
     ]
    }
   ],
   "source": [
    "for base, X in [(base_train, X_train), (base_valid, X_valid), (base_test, X_test)]:\n",
    "    y_pred = gbm.predict(X, num_iteration=gbm.best_iteration)\n",
    "    base[\"score\"] = y_pred\n",
    "    \n",
    "print(f'The AUC score on the train set is: {roc_auc_score(base_train[\"target\"], base_train[\"score\"])}')\n",
    "print(f'The AUC score on the valid set is: {roc_auc_score(base_valid[\"target\"], base_valid[\"score\"])}')\n",
    "print(f'The AUC score on the test set is: {roc_auc_score(base_test[\"target\"], base_test[\"score\"])}')"
   ]
  },
  {
   "cell_type": "code",
   "execution_count": 13,
   "id": "3b80bcbd",
   "metadata": {
    "execution": {
     "iopub.execute_input": "2024-02-11T01:43:09.099148Z",
     "iopub.status.busy": "2024-02-11T01:43:09.098761Z",
     "iopub.status.idle": "2024-02-11T01:43:10.125030Z",
     "shell.execute_reply": "2024-02-11T01:43:10.123663Z"
    },
    "papermill": {
     "duration": 1.036568,
     "end_time": "2024-02-11T01:43:10.127437",
     "exception": false,
     "start_time": "2024-02-11T01:43:09.090869",
     "status": "completed"
    },
    "tags": []
   },
   "outputs": [
    {
     "name": "stdout",
     "output_type": "stream",
     "text": [
      "The stability score on the train set is: 0.4976648127691175\n",
      "The stability score on the valid set is: 0.4726726686264489\n",
      "The stability score on the test set is: 0.4583643686935092\n"
     ]
    }
   ],
   "source": [
    "def gini_stability(base, w_fallingrate=88.0, w_resstd=-0.5):\n",
    "    gini_in_time = base.loc[:, [\"WEEK_NUM\", \"target\", \"score\"]]\\\n",
    "        .sort_values(\"WEEK_NUM\")\\\n",
    "        .groupby(\"WEEK_NUM\")[[\"target\", \"score\"]]\\\n",
    "        .apply(lambda x: 2*roc_auc_score(x[\"target\"], x[\"score\"])-1).tolist()\n",
    "    \n",
    "    x = np.arange(len(gini_in_time))\n",
    "    y = gini_in_time\n",
    "    a, b = np.polyfit(x, y, 1)\n",
    "    y_hat = a*x + b\n",
    "    residuals = y - y_hat\n",
    "    res_std = np.std(residuals)\n",
    "    avg_gini = np.mean(gini_in_time)\n",
    "    \n",
    "    return avg_gini + w_fallingrate * min(0, a) + w_resstd * res_std\n",
    "\n",
    "stability_score_train = gini_stability(base_train)\n",
    "stability_score_valid = gini_stability(base_valid)\n",
    "stability_score_test = gini_stability(base_test)\n",
    "\n",
    "print(f'The stability score on the train set is: {stability_score_train}')\n",
    "print(f'The stability score on the valid set is: {stability_score_valid}')\n",
    "print(f'The stability score on the test set is: {stability_score_test}')"
   ]
  },
  {
   "cell_type": "code",
   "execution_count": 14,
   "id": "5ee13da2",
   "metadata": {
    "execution": {
     "iopub.execute_input": "2024-02-11T01:43:10.142256Z",
     "iopub.status.busy": "2024-02-11T01:43:10.141839Z",
     "iopub.status.idle": "2024-02-11T01:43:10.248319Z",
     "shell.execute_reply": "2024-02-11T01:43:10.247226Z"
    },
    "papermill": {
     "duration": 0.116857,
     "end_time": "2024-02-11T01:43:10.250832",
     "exception": false,
     "start_time": "2024-02-11T01:43:10.133975",
     "status": "completed"
    },
    "tags": []
   },
   "outputs": [],
   "source": [
    "X_submission = data_submission[cols_pred].to_pandas()\n",
    "X_submission = convert_strings(X_submission)\n",
    "categorical_cols = X_train.select_dtypes(include=['category']).columns\n",
    "\n",
    "for col in categorical_cols:\n",
    "    train_categories = set(X_train[col].cat.categories)\n",
    "    submission_categories = set(X_submission[col].cat.categories)\n",
    "    new_categories = submission_categories - train_categories\n",
    "    X_submission.loc[X_submission[col].isin(new_categories), col] = \"Unknown\"\n",
    "    new_dtype = pd.CategoricalDtype(categories=train_categories, ordered=True)\n",
    "    X_train[col] = X_train[col].astype(new_dtype)\n",
    "    X_submission[col] = X_submission[col].astype(new_dtype)\n",
    "    \n",
    "y_submission_pred = gbm.predict(X_submission, num_iteration=gbm.best_iteration)"
   ]
  },
  {
   "cell_type": "code",
   "execution_count": 15,
   "id": "ff1db0e2",
   "metadata": {
    "execution": {
     "iopub.execute_input": "2024-02-11T01:43:10.265358Z",
     "iopub.status.busy": "2024-02-11T01:43:10.264928Z",
     "iopub.status.idle": "2024-02-11T01:43:10.276444Z",
     "shell.execute_reply": "2024-02-11T01:43:10.275375Z"
    },
    "papermill": {
     "duration": 0.021716,
     "end_time": "2024-02-11T01:43:10.279041",
     "exception": false,
     "start_time": "2024-02-11T01:43:10.257325",
     "status": "completed"
    },
    "tags": []
   },
   "outputs": [],
   "source": [
    "submission = pd.DataFrame({\n",
    "    \"case_id\": data_submission[\"case_id\"].to_numpy(),\n",
    "    \"score\": y_submission_pred\n",
    "}).set_index('case_id')\n",
    "submission.to_csv(\"./submission.csv\")"
   ]
  },
  {
   "cell_type": "code",
   "execution_count": null,
   "id": "7c335346",
   "metadata": {
    "papermill": {
     "duration": 0.006178,
     "end_time": "2024-02-11T01:43:10.291910",
     "exception": false,
     "start_time": "2024-02-11T01:43:10.285732",
     "status": "completed"
    },
    "tags": []
   },
   "outputs": [],
   "source": []
  }
 ],
 "metadata": {
  "kaggle": {
   "accelerator": "none",
   "dataSources": [
    {
     "databundleVersionId": 7602123,
     "sourceId": 50160,
     "sourceType": "competition"
    }
   ],
   "dockerImageVersionId": 30646,
   "isGpuEnabled": false,
   "isInternetEnabled": true,
   "language": "python",
   "sourceType": "notebook"
  },
  "kernelspec": {
   "display_name": "Python 3",
   "language": "python",
   "name": "python3"
  },
  "language_info": {
   "codemirror_mode": {
    "name": "ipython",
    "version": 3
   },
   "file_extension": ".py",
   "mimetype": "text/x-python",
   "name": "python",
   "nbconvert_exporter": "python",
   "pygments_lexer": "ipython3",
   "version": "3.10.13"
  },
  "papermill": {
   "default_parameters": {},
   "duration": 129.711067,
   "end_time": "2024-02-11T01:43:11.621441",
   "environment_variables": {},
   "exception": null,
   "input_path": "__notebook__.ipynb",
   "output_path": "__notebook__.ipynb",
   "parameters": {},
   "start_time": "2024-02-11T01:41:01.910374",
   "version": "2.5.0"
  }
 },
 "nbformat": 4,
 "nbformat_minor": 5
}

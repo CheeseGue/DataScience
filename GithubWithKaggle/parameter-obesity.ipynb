{
 "cells": [
  {
   "cell_type": "code",
   "execution_count": 1,
   "id": "d57c2498",
   "metadata": {
    "_cell_guid": "b1076dfc-b9ad-4769-8c92-a6c4dae69d19",
    "_uuid": "8f2839f25d086af736a60e9eeb907d3b93b6e0e5",
    "execution": {
     "iopub.execute_input": "2024-02-05T09:17:43.019028Z",
     "iopub.status.busy": "2024-02-05T09:17:43.018303Z",
     "iopub.status.idle": "2024-02-05T09:17:43.723310Z",
     "shell.execute_reply": "2024-02-05T09:17:43.722124Z"
    },
    "papermill": {
     "duration": 0.716633,
     "end_time": "2024-02-05T09:17:43.725533",
     "exception": false,
     "start_time": "2024-02-05T09:17:43.008900",
     "status": "completed"
    },
    "tags": []
   },
   "outputs": [
    {
     "name": "stdout",
     "output_type": "stream",
     "text": [
      "/kaggle/input/playground-series-s4e2/sample_submission.csv\n",
      "/kaggle/input/playground-series-s4e2/train.csv\n",
      "/kaggle/input/playground-series-s4e2/test.csv\n",
      "/kaggle/input/my-multi-class-prediction-of-obesity-risk/data.csv\n"
     ]
    }
   ],
   "source": [
    "# This Python 3 environment comes with many helpful analytics libraries installed\n",
    "# It is defined by the kaggle/python Docker image: https://github.com/kaggle/docker-python\n",
    "# For example, here's several helpful packages to load\n",
    "\n",
    "import numpy as np # linear algebra\n",
    "import pandas as pd # data processing, CSV file I/O (e.g. pd.read_csv)\n",
    "\n",
    "# Input data files are available in the read-only \"../input/\" directory\n",
    "# For example, running this (by clicking run or pressing Shift+Enter) will list all files under the input directory\n",
    "\n",
    "import os\n",
    "for dirname, _, filenames in os.walk('/kaggle/input'):\n",
    "    for filename in filenames:\n",
    "        print(os.path.join(dirname, filename))\n",
    "\n",
    "# You can write up to 20GB to the current directory (/kaggle/working/) that gets preserved as output when you create a version using \"Save & Run All\" \n",
    "# You can also write temporary files to /kaggle/temp/, but they won't be saved outside of the current session"
   ]
  },
  {
   "cell_type": "markdown",
   "id": "9152cfb3",
   "metadata": {
    "papermill": {
     "duration": 0.007524,
     "end_time": "2024-02-05T09:17:43.740997",
     "exception": false,
     "start_time": "2024-02-05T09:17:43.733473",
     "status": "completed"
    },
    "tags": []
   },
   "source": [
    "# **肥満リスクの多クラス予測**\n",
    "(Multi-Class Prediction of Obesity Risk)"
   ]
  },
  {
   "cell_type": "markdown",
   "id": "3e03436c",
   "metadata": {
    "papermill": {
     "duration": 0.007308,
     "end_time": "2024-02-05T09:17:43.755817",
     "exception": false,
     "start_time": "2024-02-05T09:17:43.748509",
     "status": "completed"
    },
    "tags": []
   },
   "source": [
    "# 参考資料\n",
    "**書籍**\n",
    "\n",
    "\n",
    "**Kaggle**\n",
    "- [Obesity! | EDA | XGBoost | Py](https://www.kaggle.com/code/khsamaha/obesity-eda-xgboost-py)\n",
    "- [[PlayGround S4E2] 📊 EDA + 🤖 Modeling [LightGBM]](https://www.kaggle.com/code/akhiljethwa/playground-s4e2-eda-modeling-lightgbm)\n",
    "\n",
    "**自分で作成したファイル**\n",
    "- 銀行解約データセットを使用した二項分類\n",
    "- 肝硬変の転帰の多クラス予測\n",
    "\n",
    "**その他**\n"
   ]
  },
  {
   "cell_type": "code",
   "execution_count": 2,
   "id": "942dadcc",
   "metadata": {
    "execution": {
     "iopub.execute_input": "2024-02-05T09:17:43.773132Z",
     "iopub.status.busy": "2024-02-05T09:17:43.772765Z",
     "iopub.status.idle": "2024-02-05T09:17:43.881794Z",
     "shell.execute_reply": "2024-02-05T09:17:43.880747Z"
    },
    "papermill": {
     "duration": 0.120572,
     "end_time": "2024-02-05T09:17:43.883901",
     "exception": false,
     "start_time": "2024-02-05T09:17:43.763329",
     "status": "completed"
    },
    "tags": []
   },
   "outputs": [
    {
     "name": "stdout",
     "output_type": "stream",
     "text": [
      "読み込み完了 /kaggle/input/my-multi-class-prediction-of-obesity-risk/data.csv\n"
     ]
    }
   ],
   "source": [
    "import numpy as np\n",
    "import pandas as pd\n",
    "\n",
    "FILE_PATH = '/kaggle/input/playground-series-s4e2/'\n",
    "CREATE_DATA = '/kaggle/input/my-multi-class-prediction-of-obesity-risk'\n",
    "\n",
    "\n",
    "# 確認 (data_import.py)\n",
    "def file_to_xy(filename):\n",
    "    data = pd.read_csv(filename, index_col=0)\n",
    "    print(f'読み込み完了 {filename}')\n",
    "    \n",
    "    target_col = 'NObeyesdad'\n",
    "    \n",
    "    train = data[:20758].reset_index(drop=True)\n",
    "    test = data[20758:].reset_index(drop=True).drop(target_col, axis=1) # 目的変数を指定する\n",
    "    # 目的変数と説明変数に分割\n",
    "    X = train.drop([target_col], axis=1) # 目的変数を指定する\n",
    "    y = train[target_col].values # 目的変数を指定する\n",
    "\n",
    "    return data,test,train,X,y\n",
    "\n",
    "filename = 'data.csv'\n",
    "data,test,train,X,y = file_to_xy(CREATE_DATA + '/' + filename)"
   ]
  },
  {
   "cell_type": "code",
   "execution_count": 3,
   "id": "5cd6ab09",
   "metadata": {
    "execution": {
     "iopub.execute_input": "2024-02-05T09:17:43.901472Z",
     "iopub.status.busy": "2024-02-05T09:17:43.900653Z",
     "iopub.status.idle": "2024-02-05T09:17:43.904904Z",
     "shell.execute_reply": "2024-02-05T09:17:43.904067Z"
    },
    "papermill": {
     "duration": 0.014925,
     "end_time": "2024-02-05T09:17:43.906725",
     "exception": false,
     "start_time": "2024-02-05T09:17:43.891800",
     "status": "completed"
    },
    "tags": []
   },
   "outputs": [],
   "source": [
    "# condlist = [train[\"NObeyesdad\"] == \"Insufficient_Weight\",\n",
    "#             train[\"NObeyesdad\"] == \"Normal_Weight\",\n",
    "#             train[\"NObeyesdad\"] == \"Obesity_Type_I\",\n",
    "#             train[\"NObeyesdad\"] == \"Obesity_Type_II\",\n",
    "#             train[\"NObeyesdad\"] == \"Obesity_Type_III\",\n",
    "#             train[\"NObeyesdad\"] == \"Overweight_Level_I\",\n",
    "#             train[\"NObeyesdad\"] == \"Overweight_Level_II\",\n",
    "#            ]\n",
    "# choicelist = [0,1,2,3,4,5,6]\n",
    "\n",
    "# train[\"NObeyesdad\"] = np.select(condlist, choicelist)"
   ]
  },
  {
   "cell_type": "code",
   "execution_count": 4,
   "id": "39634cb6",
   "metadata": {
    "execution": {
     "iopub.execute_input": "2024-02-05T09:17:43.922870Z",
     "iopub.status.busy": "2024-02-05T09:17:43.922592Z",
     "iopub.status.idle": "2024-02-05T09:17:43.940325Z",
     "shell.execute_reply": "2024-02-05T09:17:43.939456Z"
    },
    "papermill": {
     "duration": 0.028004,
     "end_time": "2024-02-05T09:17:43.942272",
     "exception": false,
     "start_time": "2024-02-05T09:17:43.914268",
     "status": "completed"
    },
    "tags": []
   },
   "outputs": [
    {
     "data": {
      "text/html": [
       "<div>\n",
       "<style scoped>\n",
       "    .dataframe tbody tr th:only-of-type {\n",
       "        vertical-align: middle;\n",
       "    }\n",
       "\n",
       "    .dataframe tbody tr th {\n",
       "        vertical-align: top;\n",
       "    }\n",
       "\n",
       "    .dataframe thead th {\n",
       "        text-align: right;\n",
       "    }\n",
       "</style>\n",
       "<table border=\"1\" class=\"dataframe\">\n",
       "  <thead>\n",
       "    <tr style=\"text-align: right;\">\n",
       "      <th></th>\n",
       "      <th>Gender</th>\n",
       "      <th>Age</th>\n",
       "      <th>Height</th>\n",
       "      <th>Weight</th>\n",
       "      <th>family_history_with_overweight</th>\n",
       "      <th>FAVC</th>\n",
       "      <th>FCVC</th>\n",
       "      <th>NCP</th>\n",
       "      <th>CAEC</th>\n",
       "      <th>SMOKE</th>\n",
       "      <th>CH2O</th>\n",
       "      <th>SCC</th>\n",
       "      <th>FAF</th>\n",
       "      <th>TUE</th>\n",
       "      <th>CALC</th>\n",
       "      <th>MTRANS</th>\n",
       "      <th>NObeyesdad</th>\n",
       "    </tr>\n",
       "  </thead>\n",
       "  <tbody>\n",
       "    <tr>\n",
       "      <th>0</th>\n",
       "      <td>1</td>\n",
       "      <td>1095</td>\n",
       "      <td>933</td>\n",
       "      <td>1839</td>\n",
       "      <td>1</td>\n",
       "      <td>1</td>\n",
       "      <td>265</td>\n",
       "      <td>589</td>\n",
       "      <td>2</td>\n",
       "      <td>0</td>\n",
       "      <td>1491</td>\n",
       "      <td>0</td>\n",
       "      <td>0</td>\n",
       "      <td>1053</td>\n",
       "      <td>2</td>\n",
       "      <td>3</td>\n",
       "      <td>6.0</td>\n",
       "    </tr>\n",
       "    <tr>\n",
       "      <th>1</th>\n",
       "      <td>0</td>\n",
       "      <td>108</td>\n",
       "      <td>128</td>\n",
       "      <td>1376</td>\n",
       "      <td>1</td>\n",
       "      <td>1</td>\n",
       "      <td>265</td>\n",
       "      <td>624</td>\n",
       "      <td>1</td>\n",
       "      <td>0</td>\n",
       "      <td>756</td>\n",
       "      <td>0</td>\n",
       "      <td>751</td>\n",
       "      <td>1068</td>\n",
       "      <td>3</td>\n",
       "      <td>0</td>\n",
       "      <td>1.0</td>\n",
       "    </tr>\n",
       "    <tr>\n",
       "      <th>2</th>\n",
       "      <td>0</td>\n",
       "      <td>108</td>\n",
       "      <td>1040</td>\n",
       "      <td>1253</td>\n",
       "      <td>1</td>\n",
       "      <td>1</td>\n",
       "      <td>206</td>\n",
       "      <td>127</td>\n",
       "      <td>2</td>\n",
       "      <td>0</td>\n",
       "      <td>659</td>\n",
       "      <td>0</td>\n",
       "      <td>587</td>\n",
       "      <td>1322</td>\n",
       "      <td>3</td>\n",
       "      <td>3</td>\n",
       "      <td>0.0</td>\n",
       "    </tr>\n",
       "    <tr>\n",
       "      <th>3</th>\n",
       "      <td>0</td>\n",
       "      <td>522</td>\n",
       "      <td>1035</td>\n",
       "      <td>936</td>\n",
       "      <td>1</td>\n",
       "      <td>1</td>\n",
       "      <td>1053</td>\n",
       "      <td>624</td>\n",
       "      <td>2</td>\n",
       "      <td>0</td>\n",
       "      <td>464</td>\n",
       "      <td>0</td>\n",
       "      <td>1040</td>\n",
       "      <td>806</td>\n",
       "      <td>2</td>\n",
       "      <td>3</td>\n",
       "      <td>4.0</td>\n",
       "    </tr>\n",
       "    <tr>\n",
       "      <th>4</th>\n",
       "      <td>1</td>\n",
       "      <td>1605</td>\n",
       "      <td>2050</td>\n",
       "      <td>2205</td>\n",
       "      <td>1</td>\n",
       "      <td>1</td>\n",
       "      <td>735</td>\n",
       "      <td>252</td>\n",
       "      <td>2</td>\n",
       "      <td>0</td>\n",
       "      <td>727</td>\n",
       "      <td>0</td>\n",
       "      <td>1330</td>\n",
       "      <td>995</td>\n",
       "      <td>2</td>\n",
       "      <td>3</td>\n",
       "      <td>6.0</td>\n",
       "    </tr>\n",
       "  </tbody>\n",
       "</table>\n",
       "</div>"
      ],
      "text/plain": [
       "   Gender   Age  Height  Weight  family_history_with_overweight  FAVC  FCVC  \\\n",
       "0       1  1095     933    1839                               1     1   265   \n",
       "1       0   108     128    1376                               1     1   265   \n",
       "2       0   108    1040    1253                               1     1   206   \n",
       "3       0   522    1035     936                               1     1  1053   \n",
       "4       1  1605    2050    2205                               1     1   735   \n",
       "\n",
       "   NCP  CAEC  SMOKE  CH2O  SCC   FAF   TUE  CALC  MTRANS  NObeyesdad  \n",
       "0  589     2      0  1491    0     0  1053     2       3         6.0  \n",
       "1  624     1      0   756    0   751  1068     3       0         1.0  \n",
       "2  127     2      0   659    0   587  1322     3       3         0.0  \n",
       "3  624     2      0   464    0  1040   806     2       3         4.0  \n",
       "4  252     2      0   727    0  1330   995     2       3         6.0  "
      ]
     },
     "execution_count": 4,
     "metadata": {},
     "output_type": "execute_result"
    }
   ],
   "source": [
    "train.head()"
   ]
  },
  {
   "cell_type": "code",
   "execution_count": 5,
   "id": "0a4750df",
   "metadata": {
    "execution": {
     "iopub.execute_input": "2024-02-05T09:17:43.959977Z",
     "iopub.status.busy": "2024-02-05T09:17:43.959707Z",
     "iopub.status.idle": "2024-02-05T09:17:43.966189Z",
     "shell.execute_reply": "2024-02-05T09:17:43.965345Z"
    },
    "papermill": {
     "duration": 0.017898,
     "end_time": "2024-02-05T09:17:43.968164",
     "exception": false,
     "start_time": "2024-02-05T09:17:43.950266",
     "status": "completed"
    },
    "tags": []
   },
   "outputs": [],
   "source": [
    "target_col = 'NObeyesdad'\n",
    "\n",
    "X = train.drop([target_col], axis=1) # 目的変数を指定する\n",
    "y = train[target_col].values # 目的変数を指定する"
   ]
  },
  {
   "cell_type": "markdown",
   "id": "6238c0bb",
   "metadata": {
    "papermill": {
     "duration": 0.007643,
     "end_time": "2024-02-05T09:17:43.983685",
     "exception": false,
     "start_time": "2024-02-05T09:17:43.976042",
     "status": "completed"
    },
    "tags": []
   },
   "source": [
    "# 機械学習モデルの構築・学習・予測"
   ]
  },
  {
   "cell_type": "code",
   "execution_count": 6,
   "id": "a392fd75",
   "metadata": {
    "execution": {
     "iopub.execute_input": "2024-02-05T09:17:44.000344Z",
     "iopub.status.busy": "2024-02-05T09:17:44.000087Z",
     "iopub.status.idle": "2024-02-05T09:17:49.148303Z",
     "shell.execute_reply": "2024-02-05T09:17:49.147289Z"
    },
    "papermill": {
     "duration": 5.159064,
     "end_time": "2024-02-05T09:17:49.150566",
     "exception": false,
     "start_time": "2024-02-05T09:17:43.991502",
     "status": "completed"
    },
    "tags": []
   },
   "outputs": [
    {
     "name": "stderr",
     "output_type": "stream",
     "text": [
      "/opt/conda/lib/python3.10/site-packages/dask/dataframe/_pyarrow_compat.py:23: UserWarning: You are using pyarrow version 11.0.0 which is known to be insecure. See https://www.cve.org/CVERecord?id=CVE-2023-47248 for further details. Please upgrade to pyarrow>=14.0.1 or install pyarrow-hotfix to patch your current version.\n",
      "  warnings.warn(\n"
     ]
    }
   ],
   "source": [
    "from sklearn.model_selection import train_test_split\n",
    "from sklearn.metrics import accuracy_score\n",
    "\n",
    "from xgboost import XGBClassifier\n",
    "from lightgbm import LGBMClassifier\n",
    "from catboost import CatBoostClassifier\n",
    "\n",
    "sample_sub = pd.read_csv(FILE_PATH + \"sample_submission.csv\")"
   ]
  },
  {
   "cell_type": "code",
   "execution_count": 7,
   "id": "419e3d3d",
   "metadata": {
    "execution": {
     "iopub.execute_input": "2024-02-05T09:17:49.168375Z",
     "iopub.status.busy": "2024-02-05T09:17:49.168080Z",
     "iopub.status.idle": "2024-02-05T09:17:49.175291Z",
     "shell.execute_reply": "2024-02-05T09:17:49.174437Z"
    },
    "papermill": {
     "duration": 0.018174,
     "end_time": "2024-02-05T09:17:49.177163",
     "exception": false,
     "start_time": "2024-02-05T09:17:49.158989",
     "status": "completed"
    },
    "tags": []
   },
   "outputs": [],
   "source": [
    "# 混同行列\n",
    "from sklearn.metrics import confusion_matrix\n",
    "from sklearn.metrics import ConfusionMatrixDisplay\n",
    "import matplotlib.pyplot as plt\n",
    "\n",
    "# 機械学習モデルのフォーマットを設定\n",
    "seed = 42\n",
    "\n",
    "xgb = XGBClassifier(random_state=seed)\n",
    "lgb = LGBMClassifier(random_state=seed)\n",
    "cb = CatBoostClassifier(random_state=seed, verbose=0)\n",
    "\n",
    "submit = False"
   ]
  },
  {
   "cell_type": "markdown",
   "id": "6bd8e98d",
   "metadata": {
    "papermill": {
     "duration": 0.00783,
     "end_time": "2024-02-05T09:17:49.192962",
     "exception": false,
     "start_time": "2024-02-05T09:17:49.185132",
     "status": "completed"
    },
    "tags": []
   },
   "source": [
    "## ハイパーパラメータ(optuna)"
   ]
  },
  {
   "cell_type": "markdown",
   "id": "e65fc8b2",
   "metadata": {
    "papermill": {
     "duration": 0.007662,
     "end_time": "2024-02-05T09:17:49.208559",
     "exception": false,
     "start_time": "2024-02-05T09:17:49.200897",
     "status": "completed"
    },
    "tags": []
   },
   "source": [
    "### Catboost"
   ]
  },
  {
   "cell_type": "code",
   "execution_count": 8,
   "id": "0d096e4a",
   "metadata": {
    "execution": {
     "iopub.execute_input": "2024-02-05T09:17:49.226222Z",
     "iopub.status.busy": "2024-02-05T09:17:49.225298Z",
     "iopub.status.idle": "2024-02-05T09:32:36.613105Z",
     "shell.execute_reply": "2024-02-05T09:32:36.612192Z"
    },
    "papermill": {
     "duration": 887.400103,
     "end_time": "2024-02-05T09:32:36.616662",
     "exception": false,
     "start_time": "2024-02-05T09:17:49.216559",
     "status": "completed"
    },
    "tags": []
   },
   "outputs": [
    {
     "name": "stderr",
     "output_type": "stream",
     "text": [
      "[I 2024-02-05 09:17:49,236] A new study created in memory with name: no-name-ba7a0780-6aca-489d-893a-9c71e59366e5\n",
      "[I 2024-02-05 09:18:33,512] Trial 0 finished with value: 0.11681117533718689 and parameters: {'iterations': 440, 'depth': 10, 'min_data_in_leaf': 7, 'learning_rate': 0.00013620028659802253}. Best is trial 0 with value: 0.11681117533718689.\n",
      "[I 2024-02-05 09:18:49,301] Trial 1 finished with value: 0.11464354527938343 and parameters: {'iterations': 406, 'depth': 8, 'min_data_in_leaf': 9, 'learning_rate': 0.0008417003450499742}. Best is trial 0 with value: 0.11681117533718689.\n",
      "[I 2024-02-05 09:19:26,446] Trial 2 finished with value: 0.11753371868978806 and parameters: {'iterations': 621, 'depth': 9, 'min_data_in_leaf': 13, 'learning_rate': 0.0003687113525182468}. Best is trial 2 with value: 0.11753371868978806.\n",
      "[I 2024-02-05 09:19:31,387] Trial 3 finished with value: 0.12789017341040462 and parameters: {'iterations': 627, 'depth': 3, 'min_data_in_leaf': 12, 'learning_rate': 0.006958339417222834}. Best is trial 3 with value: 0.12789017341040462.\n",
      "[I 2024-02-05 09:19:38,587] Trial 4 finished with value: 0.15895953757225434 and parameters: {'iterations': 978, 'depth': 3, 'min_data_in_leaf': 12, 'learning_rate': 0.0874081083097452}. Best is trial 4 with value: 0.15895953757225434.\n",
      "[I 2024-02-05 09:19:51,287] Trial 5 finished with value: 0.10404624277456648 and parameters: {'iterations': 989, 'depth': 5, 'min_data_in_leaf': 3, 'learning_rate': 0.00034940234489053493}. Best is trial 4 with value: 0.15895953757225434.\n",
      "[I 2024-02-05 09:21:25,437] Trial 6 finished with value: 0.11946050096339114 and parameters: {'iterations': 933, 'depth': 10, 'min_data_in_leaf': 9, 'learning_rate': 0.00047174590256113914}. Best is trial 4 with value: 0.15895953757225434.\n",
      "[I 2024-02-05 09:21:36,416] Trial 7 finished with value: 0.09971098265895954 and parameters: {'iterations': 680, 'depth': 6, 'min_data_in_leaf': 17, 'learning_rate': 0.00032159001430796184}. Best is trial 4 with value: 0.15895953757225434.\n",
      "[I 2024-02-05 09:21:55,210] Trial 8 finished with value: 0.12789017341040462 and parameters: {'iterations': 930, 'depth': 7, 'min_data_in_leaf': 7, 'learning_rate': 0.07473135047092042}. Best is trial 4 with value: 0.15895953757225434.\n",
      "[I 2024-02-05 09:22:02,499] Trial 9 finished with value: 0.12620423892100194 and parameters: {'iterations': 621, 'depth': 5, 'min_data_in_leaf': 11, 'learning_rate': 0.012988755099606869}. Best is trial 4 with value: 0.15895953757225434.\n",
      "[I 2024-02-05 09:22:04,340] Trial 10 finished with value: 0.12740847784200385 and parameters: {'iterations': 241, 'depth': 3, 'min_data_in_leaf': 18, 'learning_rate': 0.16265693408475276}. Best is trial 4 with value: 0.15895953757225434.\n",
      "[I 2024-02-05 09:22:10,305] Trial 11 finished with value: 0.125 and parameters: {'iterations': 780, 'depth': 3, 'min_data_in_leaf': 14, 'learning_rate': 0.01204272896662568}. Best is trial 4 with value: 0.15895953757225434.\n",
      "[I 2024-02-05 09:22:18,472] Trial 12 finished with value: 0.13053949903660886 and parameters: {'iterations': 824, 'depth': 4, 'min_data_in_leaf': 14, 'learning_rate': 0.002446259464033803}. Best is trial 4 with value: 0.15895953757225434.\n",
      "[I 2024-02-05 09:22:26,968] Trial 13 finished with value: 0.13029865125240847 and parameters: {'iterations': 834, 'depth': 4, 'min_data_in_leaf': 20, 'learning_rate': 0.002405981291800373}. Best is trial 4 with value: 0.15895953757225434.\n",
      "[I 2024-02-05 09:22:35,790] Trial 14 finished with value: 0.12861271676300579 and parameters: {'iterations': 801, 'depth': 5, 'min_data_in_leaf': 15, 'learning_rate': 0.03550719577103258}. Best is trial 4 with value: 0.15895953757225434.\n",
      "[I 2024-02-05 09:22:44,722] Trial 15 finished with value: 0.11873795761078998 and parameters: {'iterations': 879, 'depth': 4, 'min_data_in_leaf': 16, 'learning_rate': 0.0017356702580941378}. Best is trial 4 with value: 0.15895953757225434.\n",
      "[I 2024-02-05 09:22:51,185] Trial 16 finished with value: 0.12764932562620424 and parameters: {'iterations': 728, 'depth': 4, 'min_data_in_leaf': 2, 'learning_rate': 0.038412537726205655}. Best is trial 4 with value: 0.15895953757225434.\n",
      "[I 2024-02-05 09:23:06,202] Trial 17 finished with value: 0.12548169556840078 and parameters: {'iterations': 993, 'depth': 6, 'min_data_in_leaf': 10, 'learning_rate': 0.005560978129576968}. Best is trial 4 with value: 0.15895953757225434.\n",
      "[I 2024-02-05 09:23:10,624] Trial 18 finished with value: 0.12789017341040462 and parameters: {'iterations': 506, 'depth': 4, 'min_data_in_leaf': 19, 'learning_rate': 0.19476152364239785}. Best is trial 4 with value: 0.15895953757225434.\n",
      "[I 2024-02-05 09:23:17,903] Trial 19 finished with value: 0.11921965317919075 and parameters: {'iterations': 883, 'depth': 3, 'min_data_in_leaf': 6, 'learning_rate': 0.002304352995641158}. Best is trial 4 with value: 0.15895953757225434.\n",
      "[I 2024-02-05 09:23:38,109] Trial 20 finished with value: 0.12692678227360307 and parameters: {'iterations': 750, 'depth': 7, 'min_data_in_leaf': 14, 'learning_rate': 0.02118404844802736}. Best is trial 4 with value: 0.15895953757225434.\n",
      "[I 2024-02-05 09:23:46,517] Trial 21 finished with value: 0.1315028901734104 and parameters: {'iterations': 843, 'depth': 4, 'min_data_in_leaf': 18, 'learning_rate': 0.0023226379340403453}. Best is trial 4 with value: 0.15895953757225434.\n",
      "[I 2024-02-05 09:23:57,196] Trial 22 finished with value: 0.10645472061657033 and parameters: {'iterations': 854, 'depth': 5, 'min_data_in_leaf': 16, 'learning_rate': 0.0011337419048504807}. Best is trial 4 with value: 0.15895953757225434.\n",
      "[I 2024-02-05 09:24:06,326] Trial 23 finished with value: 0.1252408477842004 and parameters: {'iterations': 910, 'depth': 4, 'min_data_in_leaf': 12, 'learning_rate': 0.004395225098861269}. Best is trial 4 with value: 0.15895953757225434.\n",
      "[I 2024-02-05 09:24:12,146] Trial 24 finished with value: 0.13198458574181118 and parameters: {'iterations': 716, 'depth': 3, 'min_data_in_leaf': 17, 'learning_rate': 0.0037183438971322}. Best is trial 4 with value: 0.15895953757225434.\n",
      "[I 2024-02-05 09:24:17,799] Trial 25 finished with value: 0.13126204238921002 and parameters: {'iterations': 706, 'depth': 3, 'min_data_in_leaf': 20, 'learning_rate': 0.004356088673532837}. Best is trial 4 with value: 0.15895953757225434.\n",
      "[I 2024-02-05 09:24:21,739] Trial 26 finished with value: 0.128131021194605 and parameters: {'iterations': 502, 'depth': 3, 'min_data_in_leaf': 18, 'learning_rate': 0.010884701368439813}. Best is trial 4 with value: 0.15895953757225434.\n",
      "[I 2024-02-05 09:24:37,368] Trial 27 finished with value: 0.11657032755298652 and parameters: {'iterations': 953, 'depth': 6, 'min_data_in_leaf': 17, 'learning_rate': 0.0009473353196314048}. Best is trial 4 with value: 0.15895953757225434.\n",
      "[I 2024-02-05 09:24:42,569] Trial 28 finished with value: 0.125 and parameters: {'iterations': 669, 'depth': 3, 'min_data_in_leaf': 16, 'learning_rate': 0.03043794987573117}. Best is trial 4 with value: 0.15895953757225434.\n",
      "[I 2024-02-05 09:24:48,272] Trial 29 finished with value: 0.12764932562620424 and parameters: {'iterations': 521, 'depth': 5, 'min_data_in_leaf': 5, 'learning_rate': 0.07439329236184362}. Best is trial 4 with value: 0.15895953757225434.\n",
      "[I 2024-02-05 09:25:34,155] Trial 30 finished with value: 0.12668593448940269 and parameters: {'iterations': 762, 'depth': 9, 'min_data_in_leaf': 18, 'learning_rate': 0.008298122543139119}. Best is trial 4 with value: 0.15895953757225434.\n",
      "[I 2024-02-05 09:25:40,395] Trial 31 finished with value: 0.13222543352601157 and parameters: {'iterations': 702, 'depth': 3, 'min_data_in_leaf': 20, 'learning_rate': 0.004134960597536981}. Best is trial 4 with value: 0.15895953757225434.\n",
      "[I 2024-02-05 09:25:46,345] Trial 32 finished with value: 0.18762042389210018 and parameters: {'iterations': 585, 'depth': 4, 'min_data_in_leaf': 20, 'learning_rate': 0.0001333589425499975}. Best is trial 32 with value: 0.18762042389210018.\n",
      "[I 2024-02-05 09:25:51,180] Trial 33 finished with value: 0.18762042389210018 and parameters: {'iterations': 559, 'depth': 3, 'min_data_in_leaf': 20, 'learning_rate': 0.00012637625292855395}. Best is trial 32 with value: 0.18762042389210018.\n",
      "[I 2024-02-05 09:25:55,953] Trial 34 finished with value: 0.18762042389210018 and parameters: {'iterations': 561, 'depth': 3, 'min_data_in_leaf': 20, 'learning_rate': 0.00012196989886541382}. Best is trial 32 with value: 0.18762042389210018.\n",
      "[I 2024-02-05 09:25:59,958] Trial 35 finished with value: 0.18762042389210018 and parameters: {'iterations': 392, 'depth': 4, 'min_data_in_leaf': 19, 'learning_rate': 0.00010626518227579037}. Best is trial 32 with value: 0.18762042389210018.\n",
      "[I 2024-02-05 09:26:03,763] Trial 36 finished with value: 0.18762042389210018 and parameters: {'iterations': 375, 'depth': 4, 'min_data_in_leaf': 19, 'learning_rate': 0.0001077892675341924}. Best is trial 32 with value: 0.18762042389210018.\n",
      "[I 2024-02-05 09:26:11,408] Trial 37 finished with value: 0.09393063583815028 and parameters: {'iterations': 575, 'depth': 5, 'min_data_in_leaf': 19, 'learning_rate': 0.0001648516755563523}. Best is trial 32 with value: 0.18762042389210018.\n",
      "[I 2024-02-05 09:26:15,374] Trial 38 finished with value: 0.18762042389210018 and parameters: {'iterations': 390, 'depth': 4, 'min_data_in_leaf': 20, 'learning_rate': 0.00017104632586032852}. Best is trial 32 with value: 0.18762042389210018.\n",
      "[I 2024-02-05 09:26:27,261] Trial 39 finished with value: 0.10139691714836223 and parameters: {'iterations': 312, 'depth': 8, 'min_data_in_leaf': 19, 'learning_rate': 0.00024070493614603407}. Best is trial 32 with value: 0.18762042389210018.\n",
      "[I 2024-02-05 09:26:31,168] Trial 40 finished with value: 0.18762042389210018 and parameters: {'iterations': 445, 'depth': 3, 'min_data_in_leaf': 20, 'learning_rate': 0.000539707792113728}. Best is trial 32 with value: 0.18762042389210018.\n",
      "[I 2024-02-05 09:26:37,034] Trial 41 finished with value: 0.18762042389210018 and parameters: {'iterations': 570, 'depth': 4, 'min_data_in_leaf': 19, 'learning_rate': 0.0001022727216958854}. Best is trial 32 with value: 0.18762042389210018.\n",
      "[I 2024-02-05 09:26:41,206] Trial 42 finished with value: 0.18762042389210018 and parameters: {'iterations': 376, 'depth': 4, 'min_data_in_leaf': 19, 'learning_rate': 0.00010312095061616332}. Best is trial 32 with value: 0.18762042389210018.\n",
      "[I 2024-02-05 09:26:47,021] Trial 43 finished with value: 0.09995183044315992 and parameters: {'iterations': 446, 'depth': 5, 'min_data_in_leaf': 17, 'learning_rate': 0.00026704819847001}. Best is trial 32 with value: 0.18762042389210018.\n",
      "[I 2024-02-05 09:26:49,918] Trial 44 finished with value: 0.18762042389210018 and parameters: {'iterations': 326, 'depth': 3, 'min_data_in_leaf': 18, 'learning_rate': 0.0001998190215216776}. Best is trial 32 with value: 0.18762042389210018.\n",
      "[I 2024-02-05 09:26:52,926] Trial 45 finished with value: 0.09441233140655106 and parameters: {'iterations': 232, 'depth': 5, 'min_data_in_leaf': 20, 'learning_rate': 0.0005082707932076935}. Best is trial 32 with value: 0.18762042389210018.\n",
      "[I 2024-02-05 09:27:01,837] Trial 46 finished with value: 0.10476878612716763 and parameters: {'iterations': 543, 'depth': 6, 'min_data_in_leaf': 15, 'learning_rate': 0.0001323528540897924}. Best is trial 32 with value: 0.18762042389210018.\n",
      "[I 2024-02-05 09:27:06,704] Trial 47 finished with value: 0.18762042389210018 and parameters: {'iterations': 472, 'depth': 4, 'min_data_in_leaf': 19, 'learning_rate': 0.0003509695304533465}. Best is trial 32 with value: 0.18762042389210018.\n",
      "[I 2024-02-05 09:27:12,567] Trial 48 finished with value: 0.18762042389210018 and parameters: {'iterations': 653, 'depth': 3, 'min_data_in_leaf': 17, 'learning_rate': 0.00013546425536014936}. Best is trial 32 with value: 0.18762042389210018.\n",
      "[I 2024-02-05 09:27:16,408] Trial 49 finished with value: 0.18762042389210018 and parameters: {'iterations': 344, 'depth': 4, 'min_data_in_leaf': 18, 'learning_rate': 0.0006710298650134932}. Best is trial 32 with value: 0.18762042389210018.\n",
      "[I 2024-02-05 09:27:18,789] Trial 50 finished with value: 0.18762042389210018 and parameters: {'iterations': 269, 'depth': 3, 'min_data_in_leaf': 20, 'learning_rate': 0.00021167232981200463}. Best is trial 32 with value: 0.18762042389210018.\n",
      "[I 2024-02-05 09:27:22,671] Trial 51 finished with value: 0.18762042389210018 and parameters: {'iterations': 380, 'depth': 4, 'min_data_in_leaf': 20, 'learning_rate': 0.00015996915292114974}. Best is trial 32 with value: 0.18762042389210018.\n",
      "[I 2024-02-05 09:27:26,931] Trial 52 finished with value: 0.18762042389210018 and parameters: {'iterations': 415, 'depth': 4, 'min_data_in_leaf': 19, 'learning_rate': 0.0002903864377788895}. Best is trial 32 with value: 0.18762042389210018.\n",
      "[I 2024-02-05 09:27:33,114] Trial 53 finished with value: 0.18762042389210018 and parameters: {'iterations': 608, 'depth': 4, 'min_data_in_leaf': 20, 'learning_rate': 0.00010599174058413056}. Best is trial 32 with value: 0.18762042389210018.\n",
      "[I 2024-02-05 09:27:39,274] Trial 54 finished with value: 0.09417148362235067 and parameters: {'iterations': 478, 'depth': 5, 'min_data_in_leaf': 8, 'learning_rate': 0.00019768096288264362}. Best is trial 32 with value: 0.18762042389210018.\n",
      "[I 2024-02-05 09:27:44,009] Trial 55 finished with value: 0.18762042389210018 and parameters: {'iterations': 548, 'depth': 3, 'min_data_in_leaf': 18, 'learning_rate': 0.0003833168247137372}. Best is trial 32 with value: 0.18762042389210018.\n",
      "[I 2024-02-05 09:27:48,458] Trial 56 finished with value: 0.18762042389210018 and parameters: {'iterations': 394, 'depth': 4, 'min_data_in_leaf': 19, 'learning_rate': 0.00013589916953333706}. Best is trial 32 with value: 0.18762042389210018.\n",
      "[I 2024-02-05 09:27:53,786] Trial 57 finished with value: 0.08959537572254335 and parameters: {'iterations': 420, 'depth': 5, 'min_data_in_leaf': 15, 'learning_rate': 0.00015695100146206057}. Best is trial 32 with value: 0.18762042389210018.\n",
      "[I 2024-02-05 09:27:56,351] Trial 58 finished with value: 0.18762042389210018 and parameters: {'iterations': 296, 'depth': 3, 'min_data_in_leaf': 13, 'learning_rate': 0.00040739284356493483}. Best is trial 32 with value: 0.18762042389210018.\n",
      "[I 2024-02-05 09:28:05,892] Trial 59 finished with value: 0.0968208092485549 and parameters: {'iterations': 360, 'depth': 7, 'min_data_in_leaf': 17, 'learning_rate': 0.00024120239515222283}. Best is trial 32 with value: 0.18762042389210018.\n",
      "[I 2024-02-05 09:28:08,042] Trial 60 finished with value: 0.18762042389210018 and parameters: {'iterations': 204, 'depth': 4, 'min_data_in_leaf': 20, 'learning_rate': 0.0001833693560226031}. Best is trial 32 with value: 0.18762042389210018.\n",
      "[I 2024-02-05 09:28:12,076] Trial 61 finished with value: 0.18762042389210018 and parameters: {'iterations': 466, 'depth': 3, 'min_data_in_leaf': 20, 'learning_rate': 0.0005481390824505652}. Best is trial 32 with value: 0.18762042389210018.\n",
      "[I 2024-02-05 09:28:18,017] Trial 62 finished with value: 0.18762042389210018 and parameters: {'iterations': 637, 'depth': 3, 'min_data_in_leaf': 19, 'learning_rate': 0.00012409166763015852}. Best is trial 32 with value: 0.18762042389210018.\n",
      "[I 2024-02-05 09:28:21,719] Trial 63 finished with value: 0.18762042389210018 and parameters: {'iterations': 432, 'depth': 3, 'min_data_in_leaf': 20, 'learning_rate': 0.00028735460600596196}. Best is trial 32 with value: 0.18762042389210018.\n",
      "[I 2024-02-05 09:28:27,624] Trial 64 finished with value: 0.18762042389210018 and parameters: {'iterations': 582, 'depth': 4, 'min_data_in_leaf': 18, 'learning_rate': 0.00010010490051462928}. Best is trial 32 with value: 0.18762042389210018.\n",
      "[I 2024-02-05 09:28:31,920] Trial 65 finished with value: 0.18762042389210018 and parameters: {'iterations': 497, 'depth': 3, 'min_data_in_leaf': 19, 'learning_rate': 0.00016878857394207186}. Best is trial 32 with value: 0.18762042389210018.\n",
      "[I 2024-02-05 09:28:36,572] Trial 66 finished with value: 0.18762042389210018 and parameters: {'iterations': 453, 'depth': 4, 'min_data_in_leaf': 11, 'learning_rate': 0.000784385477716545}. Best is trial 32 with value: 0.18762042389210018.\n",
      "[I 2024-02-05 09:28:41,348] Trial 67 finished with value: 0.18762042389210018 and parameters: {'iterations': 532, 'depth': 3, 'min_data_in_leaf': 18, 'learning_rate': 0.0011687216504359162}. Best is trial 32 with value: 0.18762042389210018.\n",
      "[I 2024-02-05 09:28:46,379] Trial 68 finished with value: 0.08935452793834296 and parameters: {'iterations': 396, 'depth': 5, 'min_data_in_leaf': 16, 'learning_rate': 0.0001266467668069525}. Best is trial 32 with value: 0.18762042389210018.\n",
      "[I 2024-02-05 09:28:52,875] Trial 69 finished with value: 0.18762042389210018 and parameters: {'iterations': 599, 'depth': 4, 'min_data_in_leaf': 4, 'learning_rate': 0.00020325331564852503}. Best is trial 32 with value: 0.18762042389210018.\n",
      "[I 2024-02-05 09:29:06,296] Trial 70 finished with value: 0.10380539499036609 and parameters: {'iterations': 353, 'depth': 8, 'min_data_in_leaf': 20, 'learning_rate': 0.000307911018748835}. Best is trial 32 with value: 0.18762042389210018.\n",
      "[I 2024-02-05 09:29:12,192] Trial 71 finished with value: 0.18762042389210018 and parameters: {'iterations': 575, 'depth': 4, 'min_data_in_leaf': 19, 'learning_rate': 0.00010459000620271523}. Best is trial 32 with value: 0.18762042389210018.\n",
      "[I 2024-02-05 09:29:17,923] Trial 72 finished with value: 0.18762042389210018 and parameters: {'iterations': 559, 'depth': 4, 'min_data_in_leaf': 19, 'learning_rate': 0.00014876062151747405}. Best is trial 32 with value: 0.18762042389210018.\n",
      "[I 2024-02-05 09:30:09,681] Trial 73 finished with value: 0.11681117533718689 and parameters: {'iterations': 507, 'depth': 10, 'min_data_in_leaf': 20, 'learning_rate': 0.00011629350059832364}. Best is trial 32 with value: 0.18762042389210018.\n",
      "[I 2024-02-05 09:30:14,948] Trial 74 finished with value: 0.18762042389210018 and parameters: {'iterations': 613, 'depth': 3, 'min_data_in_leaf': 18, 'learning_rate': 0.0002361898713853449}. Best is trial 32 with value: 0.18762042389210018.\n",
      "[I 2024-02-05 09:30:22,053] Trial 75 finished with value: 0.10476878612716763 and parameters: {'iterations': 439, 'depth': 6, 'min_data_in_leaf': 19, 'learning_rate': 0.00017687447663654348}. Best is trial 32 with value: 0.18762042389210018.\n",
      "[I 2024-02-05 09:31:00,799] Trial 76 finished with value: 0.11777456647398844 and parameters: {'iterations': 633, 'depth': 9, 'min_data_in_leaf': 20, 'learning_rate': 0.00044524973252449423}. Best is trial 32 with value: 0.18762042389210018.\n",
      "[I 2024-02-05 09:31:06,502] Trial 77 finished with value: 0.18762042389210018 and parameters: {'iterations': 675, 'depth': 3, 'min_data_in_leaf': 17, 'learning_rate': 0.00013959893416239905}. Best is trial 32 with value: 0.18762042389210018.\n",
      "[I 2024-02-05 09:31:11,447] Trial 78 finished with value: 0.18762042389210018 and parameters: {'iterations': 484, 'depth': 4, 'min_data_in_leaf': 19, 'learning_rate': 0.00010028468805012171}. Best is trial 32 with value: 0.18762042389210018.\n",
      "[I 2024-02-05 09:31:16,797] Trial 79 finished with value: 0.18762042389210018 and parameters: {'iterations': 525, 'depth': 4, 'min_data_in_leaf': 20, 'learning_rate': 0.0002395559029666282}. Best is trial 32 with value: 0.18762042389210018.\n",
      "[I 2024-02-05 09:31:19,299] Trial 80 finished with value: 0.18762042389210018 and parameters: {'iterations': 284, 'depth': 3, 'min_data_in_leaf': 18, 'learning_rate': 0.00012331121993027882}. Best is trial 32 with value: 0.18762042389210018.\n",
      "[I 2024-02-05 09:31:23,147] Trial 81 finished with value: 0.18762042389210018 and parameters: {'iterations': 377, 'depth': 4, 'min_data_in_leaf': 19, 'learning_rate': 0.00015826526889033861}. Best is trial 32 with value: 0.18762042389210018.\n",
      "[I 2024-02-05 09:31:26,642] Trial 82 finished with value: 0.18762042389210018 and parameters: {'iterations': 337, 'depth': 4, 'min_data_in_leaf': 19, 'learning_rate': 0.00010210327745710138}. Best is trial 32 with value: 0.18762042389210018.\n",
      "[I 2024-02-05 09:31:31,787] Trial 83 finished with value: 0.08959537572254335 and parameters: {'iterations': 378, 'depth': 5, 'min_data_in_leaf': 20, 'learning_rate': 0.00020236025593180798}. Best is trial 32 with value: 0.18762042389210018.\n",
      "[I 2024-02-05 09:31:35,020] Trial 84 finished with value: 0.18762042389210018 and parameters: {'iterations': 314, 'depth': 4, 'min_data_in_leaf': 18, 'learning_rate': 0.0001265266308156235}. Best is trial 32 with value: 0.18762042389210018.\n",
      "[I 2024-02-05 09:31:40,167] Trial 85 finished with value: 0.18762042389210018 and parameters: {'iterations': 590, 'depth': 3, 'min_data_in_leaf': 19, 'learning_rate': 0.00031578398220070145}. Best is trial 32 with value: 0.18762042389210018.\n",
      "[I 2024-02-05 09:31:45,975] Trial 86 finished with value: 0.1052504816955684 and parameters: {'iterations': 561, 'depth': 4, 'min_data_in_leaf': 17, 'learning_rate': 0.0016242165331717517}. Best is trial 32 with value: 0.18762042389210018.\n",
      "[I 2024-02-05 09:31:51,357] Trial 87 finished with value: 0.08959537572254335 and parameters: {'iterations': 418, 'depth': 5, 'min_data_in_leaf': 20, 'learning_rate': 0.00016651179613659604}. Best is trial 32 with value: 0.18762042389210018.\n",
      "[I 2024-02-05 09:31:56,006] Trial 88 finished with value: 0.18762042389210018 and parameters: {'iterations': 362, 'depth': 5, 'min_data_in_leaf': 19, 'learning_rate': 0.0001208961869808032}. Best is trial 32 with value: 0.18762042389210018.\n",
      "[I 2024-02-05 09:31:59,890] Trial 89 finished with value: 0.18762042389210018 and parameters: {'iterations': 401, 'depth': 3, 'min_data_in_leaf': 18, 'learning_rate': 0.0005967626239851634}. Best is trial 32 with value: 0.18762042389210018.\n",
      "[I 2024-02-05 09:32:04,570] Trial 90 finished with value: 0.18762042389210018 and parameters: {'iterations': 458, 'depth': 4, 'min_data_in_leaf': 16, 'learning_rate': 0.00024541529137968624}. Best is trial 32 with value: 0.18762042389210018.\n",
      "[I 2024-02-05 09:32:07,415] Trial 91 finished with value: 0.18762042389210018 and parameters: {'iterations': 327, 'depth': 3, 'min_data_in_leaf': 18, 'learning_rate': 0.0001960835222927856}. Best is trial 32 with value: 0.18762042389210018.\n",
      "[I 2024-02-05 09:32:09,793] Trial 92 finished with value: 0.18762042389210018 and parameters: {'iterations': 270, 'depth': 3, 'min_data_in_leaf': 20, 'learning_rate': 0.00014647593854040514}. Best is trial 32 with value: 0.18762042389210018.\n",
      "[I 2024-02-05 09:32:12,576] Trial 93 finished with value: 0.18762042389210018 and parameters: {'iterations': 320, 'depth': 3, 'min_data_in_leaf': 20, 'learning_rate': 0.000183148664102587}. Best is trial 32 with value: 0.18762042389210018.\n",
      "[I 2024-02-05 09:32:15,659] Trial 94 finished with value: 0.18762042389210018 and parameters: {'iterations': 300, 'depth': 4, 'min_data_in_leaf': 19, 'learning_rate': 0.00011682854196461349}. Best is trial 32 with value: 0.18762042389210018.\n",
      "[I 2024-02-05 09:32:19,132] Trial 95 finished with value: 0.18762042389210018 and parameters: {'iterations': 386, 'depth': 3, 'min_data_in_leaf': 18, 'learning_rate': 0.0001464647082993037}. Best is trial 32 with value: 0.18762042389210018.\n",
      "[I 2024-02-05 09:32:25,709] Trial 96 finished with value: 0.12933526011560695 and parameters: {'iterations': 657, 'depth': 4, 'min_data_in_leaf': 19, 'learning_rate': 0.0030755806689119836}. Best is trial 32 with value: 0.18762042389210018.\n",
      "[I 2024-02-05 09:32:29,429] Trial 97 finished with value: 0.18762042389210018 and parameters: {'iterations': 424, 'depth': 3, 'min_data_in_leaf': 20, 'learning_rate': 0.00021873130585162542}. Best is trial 32 with value: 0.18762042389210018.\n",
      "[I 2024-02-05 09:32:33,596] Trial 98 finished with value: 0.18762042389210018 and parameters: {'iterations': 370, 'depth': 4, 'min_data_in_leaf': 9, 'learning_rate': 0.00027541753972883825}. Best is trial 32 with value: 0.18762042389210018.\n",
      "[I 2024-02-05 09:32:36,593] Trial 99 finished with value: 0.18762042389210018 and parameters: {'iterations': 344, 'depth': 3, 'min_data_in_leaf': 17, 'learning_rate': 0.000379518612850057}. Best is trial 32 with value: 0.18762042389210018.\n"
     ]
    },
    {
     "name": "stdout",
     "output_type": "stream",
     "text": [
      "Number of finished trials:  100\n",
      "Best trial:\n",
      "Value:  0.18762042389210018\n",
      "Params: \n",
      "    iterations: 585\n",
      "    depth: 4\n",
      "    min_data_in_leaf: 20\n",
      "    learning_rate: 0.0001333589425499975\n"
     ]
    }
   ],
   "source": [
    "if submit==False:\n",
    "\n",
    "    import optuna\n",
    "    from catboost import CatBoostClassifier\n",
    "    from sklearn.model_selection import train_test_split\n",
    "    from sklearn.metrics import accuracy_score\n",
    "\n",
    "    # Assuming 'X' is your feature matrix and 'y' is your target variable\n",
    "    X = X.copy()\n",
    "    y = y.copy()\n",
    "\n",
    "    def objective(trial):\n",
    "        X_train, X_val, y_train, y_val = train_test_split(X, y, test_size=0.2, random_state=42)\n",
    "\n",
    "        params = {\n",
    "            'iterations': trial.suggest_int('iterations', 200, 1000),\n",
    "            'depth': trial.suggest_int('depth', 3, 10),\n",
    "            'min_data_in_leaf': trial.suggest_int('min_data_in_leaf', 2, 20),\n",
    "            'learning_rate': trial.suggest_float('learning_rate', 1e-4, 0.2, log=True),\n",
    "            'random_state': 42,\n",
    "            'verbose': 0,\n",
    "#             'eval_metric': 'Accuracy',\n",
    "        }\n",
    "\n",
    "        model = CatBoostClassifier(**params)\n",
    "\n",
    "        model.fit(X_train, y_train, eval_set=[(X_val, y_val)], early_stopping_rounds=50)\n",
    "\n",
    "        y_pred = model.predict(X_val)\n",
    "        metrics = model.score(y_val, y_pred)\n",
    "\n",
    "        return metrics\n",
    "\n",
    "    study = optuna.create_study(direction='maximize')\n",
    "    study.optimize(objective, n_trials=100)\n",
    "\n",
    "    print('Number of finished trials: ', len(study.trials))\n",
    "    print('Best trial:')\n",
    "    trial = study.best_trial\n",
    "\n",
    "    print('Value: ', trial.value)\n",
    "    print('Params: ')\n",
    "    for key, value in trial.params.items():\n",
    "        print(f'    {key}: {value}')"
   ]
  },
  {
   "cell_type": "markdown",
   "id": "a154b50c",
   "metadata": {
    "papermill": {
     "duration": 0.015607,
     "end_time": "2024-02-05T09:32:36.648243",
     "exception": false,
     "start_time": "2024-02-05T09:32:36.632636",
     "status": "completed"
    },
    "tags": []
   },
   "source": [
    "### XGBClassifier"
   ]
  },
  {
   "cell_type": "code",
   "execution_count": 9,
   "id": "fb4b35eb",
   "metadata": {
    "execution": {
     "iopub.execute_input": "2024-02-05T09:32:36.681287Z",
     "iopub.status.busy": "2024-02-05T09:32:36.681002Z",
     "iopub.status.idle": "2024-02-05T09:52:14.356018Z",
     "shell.execute_reply": "2024-02-05T09:52:14.355122Z"
    },
    "papermill": {
     "duration": 1177.694021,
     "end_time": "2024-02-05T09:52:14.357961",
     "exception": false,
     "start_time": "2024-02-05T09:32:36.663940",
     "status": "completed"
    },
    "tags": []
   },
   "outputs": [
    {
     "name": "stderr",
     "output_type": "stream",
     "text": [
      "[I 2024-02-05 09:32:36,689] A new study created in memory with name: no-name-14dbdf83-20ef-4e8d-8f01-c8fd27261d18\n",
      "[I 2024-02-05 09:32:46,240] Trial 0 finished with value: 0.5070016777507109 and parameters: {'max_depth': 10, 'min_child_weight': 1, 'learning_rate': 0.7658188331108071, 'n_estimators': 815, 'subsample': 0.7102768830872299, 'colsample_bytree': 0.36920278338862583, 'random_state': 42}. Best is trial 0 with value: 0.5070016777507109.\n",
      "[I 2024-02-05 09:32:52,480] Trial 1 finished with value: 0.8649815925060949 and parameters: {'max_depth': 7, 'min_child_weight': 4, 'learning_rate': 0.6918074050436975, 'n_estimators': 881, 'subsample': 0.08530859350497609, 'colsample_bytree': 0.8173680429362606, 'random_state': 42}. Best is trial 0 with value: 0.5070016777507109.\n",
      "[I 2024-02-05 09:32:58,593] Trial 2 finished with value: 0.41814729440302173 and parameters: {'max_depth': 7, 'min_child_weight': 8, 'learning_rate': 0.6156217200579644, 'n_estimators': 641, 'subsample': 0.5834286322185378, 'colsample_bytree': 0.45666762683293594, 'random_state': 42}. Best is trial 2 with value: 0.41814729440302173.\n",
      "[I 2024-02-05 09:33:02,694] Trial 3 finished with value: 0.44425862460125853 and parameters: {'max_depth': 5, 'min_child_weight': 6, 'learning_rate': 0.5508915223739332, 'n_estimators': 624, 'subsample': 0.06697983984962848, 'colsample_bytree': 0.5493311472025248, 'random_state': 42}. Best is trial 2 with value: 0.41814729440302173.\n",
      "[I 2024-02-05 09:33:11,139] Trial 4 finished with value: 0.3674662051904642 and parameters: {'max_depth': 9, 'min_child_weight': 6, 'learning_rate': 0.6373319550220073, 'n_estimators': 951, 'subsample': 0.9905443835265301, 'colsample_bytree': 0.1444235433545343, 'random_state': 42}. Best is trial 4 with value: 0.3674662051904642.\n",
      "[I 2024-02-05 09:33:18,581] Trial 5 finished with value: 0.44244581509034286 and parameters: {'max_depth': 5, 'min_child_weight': 10, 'learning_rate': 0.7114458708809424, 'n_estimators': 944, 'subsample': 0.9998450226089958, 'colsample_bytree': 0.9011629652959401, 'random_state': 42}. Best is trial 4 with value: 0.3674662051904642.\n",
      "[I 2024-02-05 09:33:20,077] Trial 6 finished with value: 0.4204423075716136 and parameters: {'max_depth': 5, 'min_child_weight': 6, 'learning_rate': 0.9858740189300035, 'n_estimators': 172, 'subsample': 0.5177580054619919, 'colsample_bytree': 0.8092150447905879, 'random_state': 42}. Best is trial 4 with value: 0.3674662051904642.\n",
      "[I 2024-02-05 09:33:21,924] Trial 7 finished with value: 0.2972100495468438 and parameters: {'max_depth': 7, 'min_child_weight': 6, 'learning_rate': 0.25516100367242445, 'n_estimators': 187, 'subsample': 0.15878208850068667, 'colsample_bytree': 0.7254838829562578, 'random_state': 42}. Best is trial 7 with value: 0.2972100495468438.\n",
      "[I 2024-02-05 09:33:26,117] Trial 8 finished with value: 0.7843048768209547 and parameters: {'max_depth': 6, 'min_child_weight': 4, 'learning_rate': 0.8327172825116032, 'n_estimators': 500, 'subsample': 0.1730502552680837, 'colsample_bytree': 0.9162211420941544, 'random_state': 42}. Best is trial 7 with value: 0.2972100495468438.\n",
      "[I 2024-02-05 09:33:31,256] Trial 9 finished with value: 0.33270484586116933 and parameters: {'max_depth': 10, 'min_child_weight': 5, 'learning_rate': 0.1880469307775513, 'n_estimators': 627, 'subsample': 0.6955855206995981, 'colsample_bytree': 0.11565479628159088, 'random_state': 42}. Best is trial 7 with value: 0.2972100495468438.\n",
      "[I 2024-02-05 09:33:34,105] Trial 10 finished with value: 0.30243033001116526 and parameters: {'max_depth': 8, 'min_child_weight': 2, 'learning_rate': 0.22902254152332438, 'n_estimators': 197, 'subsample': 0.29578215972279365, 'colsample_bytree': 0.6221042833220946, 'random_state': 42}. Best is trial 7 with value: 0.2972100495468438.\n",
      "[I 2024-02-05 09:33:36,731] Trial 11 finished with value: 0.3253032460943287 and parameters: {'max_depth': 8, 'min_child_weight': 1, 'learning_rate': 0.2621260135990825, 'n_estimators': 173, 'subsample': 0.2878159644515816, 'colsample_bytree': 0.6414751298740096, 'random_state': 42}. Best is trial 7 with value: 0.2972100495468438.\n",
      "[I 2024-02-05 09:33:41,893] Trial 12 finished with value: 0.2709557710463473 and parameters: {'max_depth': 8, 'min_child_weight': 3, 'learning_rate': 0.024524258748241407, 'n_estimators': 349, 'subsample': 0.3282876912019498, 'colsample_bytree': 0.6831327162917435, 'random_state': 42}. Best is trial 12 with value: 0.2709557710463473.\n",
      "[I 2024-02-05 09:33:48,258] Trial 13 finished with value: 0.26624135982951347 and parameters: {'max_depth': 9, 'min_child_weight': 3, 'learning_rate': 0.0329119978483407, 'n_estimators': 406, 'subsample': 0.3263114105127131, 'colsample_bytree': 0.7099664600600597, 'random_state': 42}. Best is trial 13 with value: 0.26624135982951347.\n",
      "[I 2024-02-05 09:33:54,577] Trial 14 finished with value: 0.37096217722412045 and parameters: {'max_depth': 9, 'min_child_weight': 3, 'learning_rate': 0.019773804687414822, 'n_estimators': 374, 'subsample': 0.43858584437086817, 'colsample_bytree': 0.29712340920248514, 'random_state': 42}. Best is trial 13 with value: 0.26624135982951347.\n",
      "[I 2024-02-05 09:34:00,539] Trial 15 finished with value: 0.26623353594048615 and parameters: {'max_depth': 9, 'min_child_weight': 3, 'learning_rate': 0.026794820000134594, 'n_estimators': 368, 'subsample': 0.3557269152489647, 'colsample_bytree': 0.7013378453458647, 'random_state': 42}. Best is trial 15 with value: 0.26623353594048615.\n",
      "[I 2024-02-05 09:34:05,930] Trial 16 finished with value: 0.4034908186977105 and parameters: {'max_depth': 9, 'min_child_weight': 3, 'learning_rate': 0.45801184863502004, 'n_estimators': 434, 'subsample': 0.43739801741511797, 'colsample_bytree': 0.4876981905573377, 'random_state': 42}. Best is trial 15 with value: 0.26623353594048615.\n",
      "[I 2024-02-05 09:34:10,052] Trial 17 finished with value: 0.4053912890163196 and parameters: {'max_depth': 10, 'min_child_weight': 2, 'learning_rate': 0.4014020592762826, 'n_estimators': 292, 'subsample': 0.38222778405668917, 'colsample_bytree': 0.9618692448059014, 'random_state': 42}. Best is trial 15 with value: 0.26623353594048615.\n",
      "[I 2024-02-05 09:34:16,370] Trial 18 finished with value: 0.3232811931764573 and parameters: {'max_depth': 9, 'min_child_weight': 4, 'learning_rate': 0.1507734374824971, 'n_estimators': 532, 'subsample': 0.20151712670357674, 'colsample_bytree': 0.768529998756824, 'random_state': 42}. Best is trial 15 with value: 0.26623353594048615.\n",
      "[I 2024-02-05 09:34:26,501] Trial 19 finished with value: 0.299267433593161 and parameters: {'max_depth': 9, 'min_child_weight': 8, 'learning_rate': 0.08751499105016393, 'n_estimators': 766, 'subsample': 0.6267422023460534, 'colsample_bytree': 0.5719527703787797, 'random_state': 42}. Best is trial 15 with value: 0.26623353594048615.\n",
      "[I 2024-02-05 09:34:30,956] Trial 20 finished with value: 0.34601414699442773 and parameters: {'max_depth': 10, 'min_child_weight': 2, 'learning_rate': 0.37015716575876606, 'n_estimators': 287, 'subsample': 0.838424230473626, 'colsample_bytree': 0.28884942850558964, 'random_state': 42}. Best is trial 15 with value: 0.26623353594048615.\n",
      "[I 2024-02-05 09:34:36,219] Trial 21 finished with value: 0.2685510906819758 and parameters: {'max_depth': 8, 'min_child_weight': 3, 'learning_rate': 0.05076642682523998, 'n_estimators': 365, 'subsample': 0.33708796955222303, 'colsample_bytree': 0.6579677294499868, 'random_state': 42}. Best is trial 15 with value: 0.26623353594048615.\n",
      "[I 2024-02-05 09:34:42,178] Trial 22 finished with value: 0.2845246876174463 and parameters: {'max_depth': 8, 'min_child_weight': 5, 'learning_rate': 0.09353963731431697, 'n_estimators': 465, 'subsample': 0.2715406685003504, 'colsample_bytree': 0.7103897516393459, 'random_state': 42}. Best is trial 15 with value: 0.26623353594048615.\n",
      "[I 2024-02-05 09:34:47,652] Trial 23 finished with value: 0.3092376616320061 and parameters: {'max_depth': 8, 'min_child_weight': 3, 'learning_rate': 0.11972461377608201, 'n_estimators': 396, 'subsample': 0.4612201000024093, 'colsample_bytree': 0.8486757597676055, 'random_state': 42}. Best is trial 15 with value: 0.26623353594048615.\n",
      "[I 2024-02-05 09:34:52,216] Trial 24 finished with value: 0.37563630307799506 and parameters: {'max_depth': 9, 'min_child_weight': 1, 'learning_rate': 0.2979107646889633, 'n_estimators': 295, 'subsample': 0.3779509919144926, 'colsample_bytree': 0.6115473861123213, 'random_state': 42}. Best is trial 15 with value: 0.26623353594048615.\n",
      "[I 2024-02-05 09:34:58,024] Trial 25 finished with value: 0.26833488169012354 and parameters: {'max_depth': 6, 'min_child_weight': 4, 'learning_rate': 0.0359408248711694, 'n_estimators': 555, 'subsample': 0.2342531945539561, 'colsample_bytree': 0.3987877072398452, 'random_state': 42}. Best is trial 15 with value: 0.26623353594048615.\n",
      "[I 2024-02-05 09:35:03,487] Trial 26 finished with value: 0.3039917102255973 and parameters: {'max_depth': 6, 'min_child_weight': 4, 'learning_rate': 0.16219532219322452, 'n_estimators': 559, 'subsample': 0.22924396525012844, 'colsample_bytree': 0.4449212049845263, 'random_state': 42}. Best is trial 15 with value: 0.26623353594048615.\n",
      "[I 2024-02-05 09:35:07,493] Trial 27 finished with value: 0.3579100119721762 and parameters: {'max_depth': 6, 'min_child_weight': 5, 'learning_rate': 0.33124224101842165, 'n_estimators': 724, 'subsample': 0.027276000003202266, 'colsample_bytree': 0.19844189437826, 'random_state': 42}. Best is trial 15 with value: 0.26623353594048615.\n",
      "[I 2024-02-05 09:35:10,908] Trial 28 finished with value: 0.3391271686325264 and parameters: {'max_depth': 6, 'min_child_weight': 7, 'learning_rate': 0.17287942341684454, 'n_estimators': 463, 'subsample': 0.5265548971021573, 'colsample_bytree': 0.02442003707103846, 'random_state': 42}. Best is trial 15 with value: 0.26623353594048615.\n",
      "[I 2024-02-05 09:35:14,109] Trial 29 finished with value: 0.5990587652975625 and parameters: {'max_depth': 7, 'min_child_weight': 2, 'learning_rate': 0.012473892970954824, 'n_estimators': 251, 'subsample': 0.10794357354427264, 'colsample_bytree': 0.33881036845581847, 'random_state': 42}. Best is trial 15 with value: 0.26623353594048615.\n",
      "[I 2024-02-05 09:35:25,640] Trial 30 finished with value: 0.32262353806549693 and parameters: {'max_depth': 10, 'min_child_weight': 1, 'learning_rate': 0.09481899542936284, 'n_estimators': 720, 'subsample': 0.23080739415774315, 'colsample_bytree': 0.5403696653565395, 'random_state': 42}. Best is trial 15 with value: 0.26623353594048615.\n",
      "[I 2024-02-05 09:35:30,960] Trial 31 finished with value: 0.2668277400457974 and parameters: {'max_depth': 9, 'min_child_weight': 3, 'learning_rate': 0.05876688751213782, 'n_estimators': 342, 'subsample': 0.36250087052652175, 'colsample_bytree': 0.389404004644476, 'random_state': 42}. Best is trial 15 with value: 0.26623353594048615.\n",
      "[I 2024-02-05 09:35:37,009] Trial 32 finished with value: 0.2760584483446775 and parameters: {'max_depth': 9, 'min_child_weight': 4, 'learning_rate': 0.08315340583633388, 'n_estimators': 419, 'subsample': 0.39467645557686437, 'colsample_bytree': 0.3993808956986819, 'random_state': 42}. Best is trial 15 with value: 0.26623353594048615.\n",
      "[I 2024-02-05 09:35:44,478] Trial 33 finished with value: 0.37111332267009634 and parameters: {'max_depth': 10, 'min_child_weight': 4, 'learning_rate': 0.01143493019515487, 'n_estimators': 492, 'subsample': 0.13592953545570244, 'colsample_bytree': 0.40337700572913393, 'random_state': 42}. Best is trial 15 with value: 0.26623353594048615.\n",
      "[I 2024-02-05 09:35:48,831] Trial 34 finished with value: 0.32673468468922 and parameters: {'max_depth': 7, 'min_child_weight': 2, 'learning_rate': 0.2151443847422724, 'n_estimators': 340, 'subsample': 0.5925068766410715, 'colsample_bytree': 0.5001370412722853, 'random_state': 42}. Best is trial 15 with value: 0.26623353594048615.\n",
      "[I 2024-02-05 09:35:56,268] Trial 35 finished with value: 0.2913421025246776 and parameters: {'max_depth': 9, 'min_child_weight': 3, 'learning_rate': 0.14143076339891597, 'n_estimators': 598, 'subsample': 0.2601716263980993, 'colsample_bytree': 0.2686079711196907, 'random_state': 42}. Best is trial 15 with value: 0.26623353594048615.\n",
      "[I 2024-02-05 09:36:03,535] Trial 36 finished with value: 0.2727714428979269 and parameters: {'max_depth': 9, 'min_child_weight': 5, 'learning_rate': 0.0640672188748494, 'n_estimators': 546, 'subsample': 0.32270102431874115, 'colsample_bytree': 0.34241727881828565, 'random_state': 42}. Best is trial 15 with value: 0.26623353594048615.\n",
      "[I 2024-02-05 09:36:06,909] Trial 37 finished with value: 0.33426305788779503 and parameters: {'max_depth': 7, 'min_child_weight': 10, 'learning_rate': 0.4651511296511012, 'n_estimators': 331, 'subsample': 0.4848426474299721, 'colsample_bytree': 0.45141004192478734, 'random_state': 42}. Best is trial 15 with value: 0.26623353594048615.\n",
      "[I 2024-02-05 09:36:12,582] Trial 38 finished with value: 0.4829611236269975 and parameters: {'max_depth': 5, 'min_child_weight': 3, 'learning_rate': 0.5686619456466748, 'n_estimators': 673, 'subsample': 0.38207841851106267, 'colsample_bytree': 0.7594810808224504, 'random_state': 42}. Best is trial 15 with value: 0.26623353594048615.\n",
      "[I 2024-02-05 09:36:16,079] Trial 39 finished with value: 0.2832255548829548 and parameters: {'max_depth': 8, 'min_child_weight': 4, 'learning_rate': 0.13283453370724746, 'n_estimators': 252, 'subsample': 0.5394981994335868, 'colsample_bytree': 0.5609934778728871, 'random_state': 42}. Best is trial 15 with value: 0.26623353594048615.\n",
      "[I 2024-02-05 09:36:20,871] Trial 40 finished with value: 0.5760448992944824 and parameters: {'max_depth': 9, 'min_child_weight': 7, 'learning_rate': 0.9730912782282557, 'n_estimators': 884, 'subsample': 0.06936720767173132, 'colsample_bytree': 0.2200668414545875, 'random_state': 42}. Best is trial 15 with value: 0.26623353594048615.\n",
      "[I 2024-02-05 09:36:26,468] Trial 41 finished with value: 0.270605051753597 and parameters: {'max_depth': 8, 'min_child_weight': 3, 'learning_rate': 0.05136222393708121, 'n_estimators': 399, 'subsample': 0.33640300858680444, 'colsample_bytree': 0.655629046834633, 'random_state': 42}. Best is trial 15 with value: 0.26623353594048615.\n",
      "[I 2024-02-05 09:36:29,822] Trial 42 finished with value: 0.27131851680018393 and parameters: {'max_depth': 8, 'min_child_weight': 2, 'learning_rate': 0.060482126966577614, 'n_estimators': 237, 'subsample': 0.19550320059682824, 'colsample_bytree': 0.8306583103396294, 'random_state': 42}. Best is trial 15 with value: 0.26623353594048615.\n",
      "[I 2024-02-05 09:36:35,976] Trial 43 finished with value: 0.34344805025455316 and parameters: {'max_depth': 9, 'min_child_weight': 3, 'learning_rate': 0.19148181478581966, 'n_estimators': 447, 'subsample': 0.4200898897077905, 'colsample_bytree': 0.7557833737971925, 'random_state': 42}. Best is trial 15 with value: 0.26623353594048615.\n",
      "[I 2024-02-05 09:36:42,481] Trial 44 finished with value: 0.360616430023139 and parameters: {'max_depth': 10, 'min_child_weight': 4, 'learning_rate': 0.27769220100013847, 'n_estimators': 506, 'subsample': 0.3533837748978448, 'colsample_bytree': 0.6031888725526132, 'random_state': 42}. Best is trial 15 with value: 0.26623353594048615.\n",
      "[I 2024-02-05 09:36:46,702] Trial 45 finished with value: 0.2774281629600489 and parameters: {'max_depth': 7, 'min_child_weight': 5, 'learning_rate': 0.10646750559449533, 'n_estimators': 367, 'subsample': 0.30675083139376635, 'colsample_bytree': 0.6821239060698262, 'random_state': 42}. Best is trial 15 with value: 0.26623353594048615.\n",
      "[I 2024-02-05 09:36:49,744] Trial 46 finished with value: 0.30694380881390115 and parameters: {'max_depth': 5, 'min_child_weight': 2, 'learning_rate': 0.21539574163494635, 'n_estimators': 328, 'subsample': 0.26156419339878, 'colsample_bytree': 0.5127608480196915, 'random_state': 42}. Best is trial 15 with value: 0.26623353594048615.\n",
      "[I 2024-02-05 09:36:52,013] Trial 47 finished with value: 0.5431400648350181 and parameters: {'max_depth': 8, 'min_child_weight': 4, 'learning_rate': 0.6901228270033115, 'n_estimators': 224, 'subsample': 0.14486139093860878, 'colsample_bytree': 0.7978905314139013, 'random_state': 42}. Best is trial 15 with value: 0.26623353594048615.\n",
      "[I 2024-02-05 09:37:00,223] Trial 48 finished with value: 0.27003237536774927 and parameters: {'max_depth': 9, 'min_child_weight': 3, 'learning_rate': 0.0562931879920984, 'n_estimators': 600, 'subsample': 0.22696007788042932, 'colsample_bytree': 0.3735767192298386, 'random_state': 42}. Best is trial 15 with value: 0.26623353594048615.\n",
      "[I 2024-02-05 09:37:01,973] Trial 49 finished with value: 0.4632038187987261 and parameters: {'max_depth': 6, 'min_child_weight': 1, 'learning_rate': 0.8425040664532728, 'n_estimators': 151, 'subsample': 0.46471328225748687, 'colsample_bytree': 0.8610158084953723, 'random_state': 42}. Best is trial 15 with value: 0.26623353594048615.\n",
      "[I 2024-02-05 09:37:14,296] Trial 50 finished with value: 0.27109156274884616 and parameters: {'max_depth': 9, 'min_child_weight': 9, 'learning_rate': 0.03428216391389877, 'n_estimators': 999, 'subsample': 0.3505399060031907, 'colsample_bytree': 0.7255373664233504, 'random_state': 42}. Best is trial 15 with value: 0.26623353594048615.\n",
      "[I 2024-02-05 09:37:22,969] Trial 51 finished with value: 0.2683530096909397 and parameters: {'max_depth': 9, 'min_child_weight': 3, 'learning_rate': 0.05343895604692096, 'n_estimators': 633, 'subsample': 0.21324982306926904, 'colsample_bytree': 0.4045251585372277, 'random_state': 42}. Best is trial 15 with value: 0.26623353594048615.\n",
      "[I 2024-02-05 09:37:32,499] Trial 52 finished with value: 0.2956696097166762 and parameters: {'max_depth': 10, 'min_child_weight': 3, 'learning_rate': 0.10031381767318827, 'n_estimators': 683, 'subsample': 0.2764652842506237, 'colsample_bytree': 0.41669444073618467, 'random_state': 42}. Best is trial 15 with value: 0.26623353594048615.\n",
      "[I 2024-02-05 09:37:43,658] Trial 53 finished with value: 0.26989575504072383 and parameters: {'max_depth': 9, 'min_child_weight': 2, 'learning_rate': 0.046553184260045524, 'n_estimators': 802, 'subsample': 0.1805568735065909, 'colsample_bytree': 0.3304343487722631, 'random_state': 42}. Best is trial 15 with value: 0.26623353594048615.\n",
      "[I 2024-02-05 09:37:49,377] Trial 54 finished with value: 0.3005029847069379 and parameters: {'max_depth': 8, 'min_child_weight': 3, 'learning_rate': 0.1280062486329993, 'n_estimators': 376, 'subsample': 0.9103638040109698, 'colsample_bytree': 0.47811753280650915, 'random_state': 42}. Best is trial 15 with value: 0.26623353594048615.\n",
      "[I 2024-02-05 09:38:00,497] Trial 55 finished with value: 0.26591995271352714 and parameters: {'max_depth': 10, 'min_child_weight': 4, 'learning_rate': 0.015745857665643494, 'n_estimators': 643, 'subsample': 0.4070121616207798, 'colsample_bytree': 0.6703421543258987, 'random_state': 42}. Best is trial 55 with value: 0.26591995271352714.\n",
      "[I 2024-02-05 09:38:09,033] Trial 56 finished with value: 0.35509810775110384 and parameters: {'max_depth': 10, 'min_child_weight': 4, 'learning_rate': 0.16809629101130152, 'n_estimators': 641, 'subsample': 0.424234661483103, 'colsample_bytree': 0.9861817230577995, 'random_state': 42}. Best is trial 55 with value: 0.26591995271352714.\n",
      "[I 2024-02-05 09:38:18,278] Trial 57 finished with value: 0.2736614712347371 and parameters: {'max_depth': 10, 'min_child_weight': 6, 'learning_rate': 0.015217457324691975, 'n_estimators': 597, 'subsample': 0.30055769028520135, 'colsample_bytree': 0.5795490555652434, 'random_state': 42}. Best is trial 55 with value: 0.26591995271352714.\n",
      "[I 2024-02-05 09:38:24,322] Trial 58 finished with value: 0.3262906931336557 and parameters: {'max_depth': 10, 'min_child_weight': 5, 'learning_rate': 0.24741537982689132, 'n_estimators': 680, 'subsample': 0.10530521314195246, 'colsample_bytree': 0.5276812176353288, 'random_state': 42}. Best is trial 55 with value: 0.26591995271352714.\n",
      "[I 2024-02-05 09:38:32,024] Trial 59 finished with value: 0.3066516982103334 and parameters: {'max_depth': 9, 'min_child_weight': 4, 'learning_rate': 0.07719165713455736, 'n_estimators': 509, 'subsample': 0.7005664203671087, 'colsample_bytree': 0.8998497220197765, 'random_state': 42}. Best is trial 55 with value: 0.26591995271352714.\n",
      "[I 2024-02-05 09:38:41,959] Trial 60 finished with value: 0.33387582220066264 and parameters: {'max_depth': 10, 'min_child_weight': 2, 'learning_rate': 0.19046905298754915, 'n_estimators': 738, 'subsample': 0.40513051778346865, 'colsample_bytree': 0.2583906819242846, 'random_state': 42}. Best is trial 55 with value: 0.26591995271352714.\n",
      "[I 2024-02-05 09:38:47,141] Trial 61 finished with value: 0.4012624909825775 and parameters: {'max_depth': 9, 'min_child_weight': 3, 'learning_rate': 0.01045400230121419, 'n_estimators': 295, 'subsample': 0.3528031766385956, 'colsample_bytree': 0.6529667169398303, 'random_state': 42}. Best is trial 55 with value: 0.26591995271352714.\n",
      "[I 2024-02-05 09:38:52,790] Trial 62 finished with value: 0.2718537019413479 and parameters: {'max_depth': 8, 'min_child_weight': 3, 'learning_rate': 0.05265411944384743, 'n_estimators': 421, 'subsample': 0.23989290712675365, 'colsample_bytree': 0.7296448843025989, 'random_state': 42}. Best is trial 55 with value: 0.26591995271352714.\n",
      "[I 2024-02-05 09:39:00,235] Trial 63 finished with value: 0.3079923845839493 and parameters: {'max_depth': 9, 'min_child_weight': 4, 'learning_rate': 0.11885520408178075, 'n_estimators': 561, 'subsample': 0.3121482128900395, 'colsample_bytree': 0.7008594715795889, 'random_state': 42}. Best is trial 55 with value: 0.26591995271352714.\n",
      "[I 2024-02-05 09:39:07,482] Trial 64 finished with value: 0.29607608086203024 and parameters: {'max_depth': 9, 'min_child_weight': 3, 'learning_rate': 0.08081733268820032, 'n_estimators': 477, 'subsample': 0.44896645978227173, 'colsample_bytree': 0.6326523529428564, 'random_state': 42}. Best is trial 55 with value: 0.26591995271352714.\n",
      "[I 2024-02-05 09:39:15,287] Trial 65 finished with value: 0.2661034887095301 and parameters: {'max_depth': 9, 'min_child_weight': 4, 'learning_rate': 0.03984599374534067, 'n_estimators': 523, 'subsample': 0.3713358979934917, 'colsample_bytree': 0.43145330824008726, 'random_state': 42}. Best is trial 55 with value: 0.26591995271352714.\n",
      "[I 2024-02-05 09:39:22,026] Trial 66 finished with value: 0.29870389635801814 and parameters: {'max_depth': 9, 'min_child_weight': 5, 'learning_rate': 0.14890778215202016, 'n_estimators': 521, 'subsample': 0.3754798627858057, 'colsample_bytree': 0.4312514775479736, 'random_state': 42}. Best is trial 55 with value: 0.26591995271352714.\n",
      "[I 2024-02-05 09:39:32,275] Trial 67 finished with value: 0.2684061752761299 and parameters: {'max_depth': 10, 'min_child_weight': 4, 'learning_rate': 0.03815545805055992, 'n_estimators': 615, 'subsample': 0.4974716917839868, 'colsample_bytree': 0.3808295727516137, 'random_state': 42}. Best is trial 55 with value: 0.26591995271352714.\n",
      "[I 2024-02-05 09:39:39,094] Trial 68 finished with value: 0.2851682000195311 and parameters: {'max_depth': 9, 'min_child_weight': 5, 'learning_rate': 0.10938846136446667, 'n_estimators': 576, 'subsample': 0.20472928838990911, 'colsample_bytree': 0.46594029283483374, 'random_state': 42}. Best is trial 55 with value: 0.26591995271352714.\n",
      "[I 2024-02-05 09:39:47,578] Trial 69 finished with value: 0.27627617872720334 and parameters: {'max_depth': 9, 'min_child_weight': 4, 'learning_rate': 0.07583277378966265, 'n_estimators': 644, 'subsample': 0.29207934770233834, 'colsample_bytree': 0.33176875695979496, 'random_state': 42}. Best is trial 55 with value: 0.26591995271352714.\n",
      "[I 2024-02-05 09:39:56,474] Trial 70 finished with value: 0.27347137333265664 and parameters: {'max_depth': 10, 'min_child_weight': 6, 'learning_rate': 0.031742185134254204, 'n_estimators': 542, 'subsample': 0.5511737881373767, 'colsample_bytree': 0.352832649210154, 'random_state': 42}. Best is trial 55 with value: 0.26591995271352714.\n",
      "[I 2024-02-05 09:40:07,428] Trial 71 finished with value: 0.26954706081467367 and parameters: {'max_depth': 10, 'min_child_weight': 4, 'learning_rate': 0.0382800828868558, 'n_estimators': 665, 'subsample': 0.5049114023032654, 'colsample_bytree': 0.3813776821846009, 'random_state': 42}. Best is trial 55 with value: 0.26591995271352714.\n",
      "[I 2024-02-05 09:40:17,127] Trial 72 finished with value: 0.291188182454682 and parameters: {'max_depth': 10, 'min_child_weight': 4, 'learning_rate': 0.0812326679044553, 'n_estimators': 619, 'subsample': 0.5769452892045519, 'colsample_bytree': 0.42382200160888545, 'random_state': 42}. Best is trial 55 with value: 0.26591995271352714.\n",
      "[I 2024-02-05 09:40:26,844] Trial 73 finished with value: 0.305120814348896 and parameters: {'max_depth': 10, 'min_child_weight': 3, 'learning_rate': 0.13534319324895505, 'n_estimators': 702, 'subsample': 0.4695128011396601, 'colsample_bytree': 0.3044537557990167, 'random_state': 42}. Best is trial 55 with value: 0.26591995271352714.\n",
      "[I 2024-02-05 09:40:36,456] Trial 74 finished with value: 0.2660465931193459 and parameters: {'max_depth': 10, 'min_child_weight': 4, 'learning_rate': 0.037312619340790006, 'n_estimators': 571, 'subsample': 0.4904732607210211, 'colsample_bytree': 0.39565893500132804, 'random_state': 42}. Best is trial 55 with value: 0.26591995271352714.\n",
      "[I 2024-02-05 09:40:41,747] Trial 75 finished with value: 0.2844225206776038 and parameters: {'max_depth': 6, 'min_child_weight': 2, 'learning_rate': 0.10519320730523321, 'n_estimators': 483, 'subsample': 0.41764372298031976, 'colsample_bytree': 0.47101080938579976, 'random_state': 42}. Best is trial 55 with value: 0.26591995271352714.\n",
      "[I 2024-02-05 09:40:52,010] Trial 76 finished with value: 0.27837946264050956 and parameters: {'max_depth': 9, 'min_child_weight': 5, 'learning_rate': 0.013435234634122472, 'n_estimators': 575, 'subsample': 0.7417925490060143, 'colsample_bytree': 0.502958832721023, 'random_state': 42}. Best is trial 55 with value: 0.26591995271352714.\n",
      "[I 2024-02-05 09:40:58,484] Trial 77 finished with value: 0.27528026037704234 and parameters: {'max_depth': 9, 'min_child_weight': 4, 'learning_rate': 0.06404110059777585, 'n_estimators': 441, 'subsample': 0.3751606134901785, 'colsample_bytree': 0.5930446579754618, 'random_state': 42}. Best is trial 55 with value: 0.26591995271352714.\n",
      "[I 2024-02-05 09:41:04,411] Trial 78 finished with value: 0.3104847781131803 and parameters: {'max_depth': 9, 'min_child_weight': 3, 'learning_rate': 0.16242225974240954, 'n_estimators': 411, 'subsample': 0.43733111578168815, 'colsample_bytree': 0.39699822549293345, 'random_state': 42}. Best is trial 55 with value: 0.26591995271352714.\n",
      "[I 2024-02-05 09:41:08,741] Trial 79 finished with value: 0.3136242741310282 and parameters: {'max_depth': 8, 'min_child_weight': 2, 'learning_rate': 0.19616753064342893, 'n_estimators': 322, 'subsample': 0.25486046634997805, 'colsample_bytree': 0.4435062216492305, 'random_state': 42}. Best is trial 55 with value: 0.26591995271352714.\n",
      "[I 2024-02-05 09:41:18,106] Trial 80 finished with value: 0.3240959112106547 and parameters: {'max_depth': 10, 'min_child_weight': 3, 'learning_rate': 0.10447078153679508, 'n_estimators': 647, 'subsample': 0.3347954830469588, 'colsample_bytree': 0.7967724718304166, 'random_state': 42}. Best is trial 55 with value: 0.26591995271352714.\n",
      "[I 2024-02-05 09:41:28,261] Trial 81 finished with value: 0.2683162590517954 and parameters: {'max_depth': 10, 'min_child_weight': 4, 'learning_rate': 0.0363311568188711, 'n_estimators': 611, 'subsample': 0.49445520814778887, 'colsample_bytree': 0.37358599591878067, 'random_state': 42}. Best is trial 55 with value: 0.26591995271352714.\n",
      "[I 2024-02-05 09:41:37,093] Trial 82 finished with value: 0.2753623092429174 and parameters: {'max_depth': 10, 'min_child_weight': 4, 'learning_rate': 0.03869082271850867, 'n_estimators': 580, 'subsample': 0.3953704781871745, 'colsample_bytree': 0.30995268511749663, 'random_state': 42}. Best is trial 55 with value: 0.26591995271352714.\n",
      "[I 2024-02-05 09:41:45,095] Trial 83 finished with value: 0.27309678147637534 and parameters: {'max_depth': 10, 'min_child_weight': 5, 'learning_rate': 0.06112951669989947, 'n_estimators': 540, 'subsample': 0.5100421765824927, 'colsample_bytree': 0.2661386563362015, 'random_state': 42}. Best is trial 55 with value: 0.26591995271352714.\n",
      "[I 2024-02-05 09:41:52,311] Trial 84 finished with value: 0.29319006831769046 and parameters: {'max_depth': 10, 'min_child_weight': 4, 'learning_rate': 0.09053835612065618, 'n_estimators': 458, 'subsample': 0.4821606142181941, 'colsample_bytree': 0.6863256192558375, 'random_state': 42}. Best is trial 55 with value: 0.26591995271352714.\n",
      "[I 2024-02-05 09:41:59,811] Trial 85 finished with value: 0.391229018705042 and parameters: {'max_depth': 9, 'min_child_weight': 3, 'learning_rate': 0.38939350527242983, 'n_estimators': 607, 'subsample': 0.6012890970692951, 'colsample_bytree': 0.3706400484672887, 'random_state': 42}. Best is trial 55 with value: 0.26591995271352714.\n",
      "[I 2024-02-05 09:42:04,418] Trial 86 finished with value: 0.2848048480050935 and parameters: {'max_depth': 7, 'min_child_weight': 4, 'learning_rate': 0.1299414009777622, 'n_estimators': 389, 'subsample': 0.36386282964309435, 'colsample_bytree': 0.40827511453353277, 'random_state': 42}. Best is trial 55 with value: 0.26591995271352714.\n",
      "[I 2024-02-05 09:42:15,188] Trial 87 finished with value: 0.26776137181306275 and parameters: {'max_depth': 10, 'min_child_weight': 3, 'learning_rate': 0.03298814376900542, 'n_estimators': 763, 'subsample': 0.16577963709256444, 'colsample_bytree': 0.5449630195391395, 'random_state': 42}. Best is trial 55 with value: 0.26591995271352714.\n",
      "[I 2024-02-05 09:42:24,069] Trial 88 finished with value: 0.46020237878671977 and parameters: {'max_depth': 10, 'min_child_weight': 3, 'learning_rate': 0.5488872910769848, 'n_estimators': 820, 'subsample': 0.6388566600356647, 'colsample_bytree': 0.548176637947704, 'random_state': 42}. Best is trial 55 with value: 0.26591995271352714.\n",
      "[I 2024-02-05 09:42:36,508] Trial 89 finished with value: 0.2750770429113389 and parameters: {'max_depth': 10, 'min_child_weight': 5, 'learning_rate': 0.02738273941958616, 'n_estimators': 761, 'subsample': 0.5512341946856277, 'colsample_bytree': 0.7759283953741742, 'random_state': 42}. Best is trial 55 with value: 0.26591995271352714.\n",
      "[I 2024-02-05 09:42:38,876] Trial 90 finished with value: 0.3469164133137927 and parameters: {'max_depth': 10, 'min_child_weight': 3, 'learning_rate': 0.07585371615828791, 'n_estimators': 349, 'subsample': 0.01269668141206548, 'colsample_bytree': 0.7364490198959549, 'random_state': 42}. Best is trial 55 with value: 0.26591995271352714.\n",
      "[I 2024-02-05 09:42:49,856] Trial 91 finished with value: 0.27163404258818996 and parameters: {'max_depth': 9, 'min_child_weight': 3, 'learning_rate': 0.04368836954057031, 'n_estimators': 825, 'subsample': 0.18316192237496917, 'colsample_bytree': 0.4482655304616574, 'random_state': 42}. Best is trial 55 with value: 0.26591995271352714.\n",
      "[I 2024-02-05 09:42:59,699] Trial 92 finished with value: 0.3181386277577347 and parameters: {'max_depth': 10, 'min_child_weight': 4, 'learning_rate': 0.014289189754745073, 'n_estimators': 659, 'subsample': 0.1630380610763395, 'colsample_bytree': 0.3594496366565301, 'random_state': 42}. Best is trial 55 with value: 0.26591995271352714.\n",
      "[I 2024-02-05 09:43:08,027] Trial 93 finished with value: 0.2745831957490671 and parameters: {'max_depth': 9, 'min_child_weight': 2, 'learning_rate': 0.06333241876080298, 'n_estimators': 632, 'subsample': 0.12346768943960232, 'colsample_bytree': 0.48605383918492406, 'random_state': 42}. Best is trial 55 with value: 0.26591995271352714.\n",
      "[I 2024-02-05 09:43:19,763] Trial 94 finished with value: 0.2916173108720691 and parameters: {'max_depth': 10, 'min_child_weight': 3, 'learning_rate': 0.010329249154464145, 'n_estimators': 700, 'subsample': 0.21877540154392042, 'colsample_bytree': 0.5223787555914984, 'random_state': 42}. Best is trial 55 with value: 0.26591995271352714.\n",
      "[I 2024-02-05 09:43:24,103] Trial 95 finished with value: 0.2812625284168981 and parameters: {'max_depth': 5, 'min_child_weight': 4, 'learning_rate': 0.11452038825301272, 'n_estimators': 520, 'subsample': 0.28406394458090284, 'colsample_bytree': 0.23163531426848943, 'random_state': 42}. Best is trial 55 with value: 0.26591995271352714.\n",
      "[I 2024-02-05 09:43:28,123] Trial 96 finished with value: 0.26984135786937186 and parameters: {'max_depth': 9, 'min_child_weight': 4, 'learning_rate': 0.08690778671578755, 'n_estimators': 266, 'subsample': 0.3206826543386945, 'colsample_bytree': 0.3926174847034135, 'random_state': 42}. Best is trial 55 with value: 0.26591995271352714.\n",
      "[I 2024-02-05 09:43:38,543] Trial 97 finished with value: 0.2708529688903088 and parameters: {'max_depth': 10, 'min_child_weight': 2, 'learning_rate': 0.03699014901728245, 'n_estimators': 591, 'subsample': 0.39644255016413554, 'colsample_bytree': 0.31842456026261323, 'random_state': 42}. Best is trial 55 with value: 0.26591995271352714.\n",
      "[I 2024-02-05 09:43:46,371] Trial 98 finished with value: 0.34053672692178455 and parameters: {'max_depth': 9, 'min_child_weight': 3, 'learning_rate': 0.1535239023365742, 'n_estimators': 563, 'subsample': 0.4474448829273797, 'colsample_bytree': 0.6717481868327232, 'random_state': 42}. Best is trial 55 with value: 0.26591995271352714.\n",
      "[I 2024-02-05 09:43:51,770] Trial 99 finished with value: 0.605718893623102 and parameters: {'max_depth': 10, 'min_child_weight': 3, 'learning_rate': 0.7891257666960776, 'n_estimators': 496, 'subsample': 0.250456799722241, 'colsample_bytree': 0.4166920166512089, 'random_state': 42}. Best is trial 55 with value: 0.26591995271352714.\n",
      "[I 2024-02-05 09:43:56,219] Trial 100 finished with value: 0.26828732632003693 and parameters: {'max_depth': 8, 'min_child_weight': 5, 'learning_rate': 0.05863729029383695, 'n_estimators': 315, 'subsample': 0.5275034956180099, 'colsample_bytree': 0.6309608077897627, 'random_state': 42}. Best is trial 55 with value: 0.26591995271352714.\n",
      "[I 2024-02-05 09:44:06,707] Trial 101 finished with value: 0.2864356601165227 and parameters: {'max_depth': 7, 'min_child_weight': 5, 'learning_rate': 0.05161842527923747, 'n_estimators': 877, 'subsample': 0.5219995581082416, 'colsample_bytree': 0.6412946064908326, 'random_state': 42}. Best is trial 55 with value: 0.26591995271352714.\n",
      "[I 2024-02-05 09:44:11,107] Trial 102 finished with value: 0.2699346166248894 and parameters: {'max_depth': 8, 'min_child_weight': 4, 'learning_rate': 0.07003028340705394, 'n_estimators': 315, 'subsample': 0.41708335419054166, 'colsample_bytree': 0.6127164373493414, 'random_state': 42}. Best is trial 55 with value: 0.26591995271352714.\n",
      "[I 2024-02-05 09:44:16,006] Trial 103 finished with value: 0.266262096243864 and parameters: {'max_depth': 8, 'min_child_weight': 7, 'learning_rate': 0.03065412928191463, 'n_estimators': 354, 'subsample': 0.4765336787305922, 'colsample_bytree': 0.7059936382471118, 'random_state': 42}. Best is trial 55 with value: 0.26591995271352714.\n",
      "[I 2024-02-05 09:44:19,960] Trial 104 finished with value: 0.27624018920693727 and parameters: {'max_depth': 8, 'min_child_weight': 7, 'learning_rate': 0.030009923152621285, 'n_estimators': 275, 'subsample': 0.4771502585215436, 'colsample_bytree': 0.581401289131396, 'random_state': 42}. Best is trial 55 with value: 0.26591995271352714.\n",
      "[I 2024-02-05 09:44:24,925] Trial 105 finished with value: 0.2852717871903918 and parameters: {'max_depth': 8, 'min_child_weight': 5, 'learning_rate': 0.09476677367046134, 'n_estimators': 364, 'subsample': 0.5739364202257615, 'colsample_bytree': 0.748719108258467, 'random_state': 42}. Best is trial 55 with value: 0.26591995271352714.\n",
      "[I 2024-02-05 09:44:29,194] Trial 106 finished with value: 0.2675993501324472 and parameters: {'max_depth': 8, 'min_child_weight': 8, 'learning_rate': 0.03168845979385599, 'n_estimators': 312, 'subsample': 0.4539885066998787, 'colsample_bytree': 0.7079582900854962, 'random_state': 42}. Best is trial 55 with value: 0.26591995271352714.\n",
      "[I 2024-02-05 09:44:31,760] Trial 107 finished with value: 0.30995238624668514 and parameters: {'max_depth': 8, 'min_child_weight': 8, 'learning_rate': 0.31879236671458056, 'n_estimators': 210, 'subsample': 0.43640583322274035, 'colsample_bytree': 0.7155137321196057, 'random_state': 42}. Best is trial 55 with value: 0.26591995271352714.\n",
      "[I 2024-02-05 09:44:36,171] Trial 108 finished with value: 0.2699616561186575 and parameters: {'max_depth': 8, 'min_child_weight': 8, 'learning_rate': 0.02805018059125477, 'n_estimators': 316, 'subsample': 0.49564237431186625, 'colsample_bytree': 0.7071146175728132, 'random_state': 42}. Best is trial 55 with value: 0.26591995271352714.\n",
      "[I 2024-02-05 09:44:40,512] Trial 109 finished with value: 0.28481406380751817 and parameters: {'max_depth': 8, 'min_child_weight': 9, 'learning_rate': 0.13015131026322185, 'n_estimators': 348, 'subsample': 0.5375489453195039, 'colsample_bytree': 0.6741973261544796, 'random_state': 42}. Best is trial 55 with value: 0.26591995271352714.\n",
      "[I 2024-02-05 09:44:44,607] Trial 110 finished with value: 0.26796146135254156 and parameters: {'max_depth': 8, 'min_child_weight': 7, 'learning_rate': 0.0628432067833844, 'n_estimators': 304, 'subsample': 0.4621881021406169, 'colsample_bytree': 0.6991651526138257, 'random_state': 42}. Best is trial 55 with value: 0.26591995271352714.\n",
      "[I 2024-02-05 09:44:48,614] Trial 111 finished with value: 0.2674438292568132 and parameters: {'max_depth': 8, 'min_child_weight': 7, 'learning_rate': 0.06501383823053737, 'n_estimators': 298, 'subsample': 0.46732908190268674, 'colsample_bytree': 0.6917290468360895, 'random_state': 42}. Best is trial 55 with value: 0.26591995271352714.\n",
      "[I 2024-02-05 09:44:52,711] Trial 112 finished with value: 0.2674122336908555 and parameters: {'max_depth': 8, 'min_child_weight': 7, 'learning_rate': 0.06953873548766884, 'n_estimators': 307, 'subsample': 0.45701446680490854, 'colsample_bytree': 0.6242398161411096, 'random_state': 42}. Best is trial 55 with value: 0.26591995271352714.\n",
      "[I 2024-02-05 09:44:56,540] Trial 113 finished with value: 0.2738026741650825 and parameters: {'max_depth': 8, 'min_child_weight': 7, 'learning_rate': 0.09160036178931914, 'n_estimators': 293, 'subsample': 0.4652997918510549, 'colsample_bytree': 0.6940654748471947, 'random_state': 42}. Best is trial 55 with value: 0.26591995271352714.\n",
      "[I 2024-02-05 09:44:59,992] Trial 114 finished with value: 0.2700384989620785 and parameters: {'max_depth': 8, 'min_child_weight': 7, 'learning_rate': 0.07300699985749715, 'n_estimators': 257, 'subsample': 0.4508451366716924, 'colsample_bytree': 0.7781676499273077, 'random_state': 42}. Best is trial 55 with value: 0.26591995271352714.\n",
      "[I 2024-02-05 09:45:04,815] Trial 115 finished with value: 0.28097491147365244 and parameters: {'max_depth': 8, 'min_child_weight': 7, 'learning_rate': 0.11004815189598466, 'n_estimators': 384, 'subsample': 0.40184873222199047, 'colsample_bytree': 0.6692462774275499, 'random_state': 42}. Best is trial 55 with value: 0.26591995271352714.\n",
      "[I 2024-02-05 09:45:08,354] Trial 116 finished with value: 0.43751971229235187 and parameters: {'max_depth': 8, 'min_child_weight': 8, 'learning_rate': 0.010961493441363733, 'n_estimators': 240, 'subsample': 0.42805574378168093, 'colsample_bytree': 0.7511059838439721, 'random_state': 42}. Best is trial 55 with value: 0.26591995271352714.\n",
      "[I 2024-02-05 09:45:12,982] Trial 117 finished with value: 0.2668525702889985 and parameters: {'max_depth': 8, 'min_child_weight': 7, 'learning_rate': 0.05096504189808329, 'n_estimators': 357, 'subsample': 0.3617157581335467, 'colsample_bytree': 0.6222875172783303, 'random_state': 42}. Best is trial 55 with value: 0.26591995271352714.\n",
      "[I 2024-02-05 09:45:15,895] Trial 118 finished with value: 0.3868700078795218 and parameters: {'max_depth': 8, 'min_child_weight': 9, 'learning_rate': 0.667831114227182, 'n_estimators': 280, 'subsample': 0.3699080041604547, 'colsample_bytree': 0.6528402256013757, 'random_state': 42}. Best is trial 55 with value: 0.26591995271352714.\n",
      "[I 2024-02-05 09:45:19,921] Trial 119 finished with value: 0.2671887248090349 and parameters: {'max_depth': 7, 'min_child_weight': 7, 'learning_rate': 0.04822934549347531, 'n_estimators': 338, 'subsample': 0.34398926076745256, 'colsample_bytree': 0.5594750377088156, 'random_state': 42}. Best is trial 55 with value: 0.26591995271352714.\n",
      "[I 2024-02-05 09:45:23,668] Trial 120 finished with value: 0.2815631747323085 and parameters: {'max_depth': 7, 'min_child_weight': 7, 'learning_rate': 0.1440161981800867, 'n_estimators': 338, 'subsample': 0.340981545602947, 'colsample_bytree': 0.6247596102907337, 'random_state': 42}. Best is trial 55 with value: 0.26591995271352714.\n",
      "[I 2024-02-05 09:45:28,478] Trial 121 finished with value: 0.2656087004876263 and parameters: {'max_depth': 7, 'min_child_weight': 6, 'learning_rate': 0.04860158207341775, 'n_estimators': 406, 'subsample': 0.35999011072229065, 'colsample_bytree': 0.5642591556463286, 'random_state': 42}. Best is trial 121 with value: 0.2656087004876263.\n",
      "[I 2024-02-05 09:45:33,332] Trial 122 finished with value: 0.26618996051492483 and parameters: {'max_depth': 7, 'min_child_weight': 6, 'learning_rate': 0.05037103163355238, 'n_estimators': 405, 'subsample': 0.38711798423152627, 'colsample_bytree': 0.5664069244251297, 'random_state': 42}. Best is trial 121 with value: 0.2656087004876263.\n",
      "[I 2024-02-05 09:45:37,586] Trial 123 finished with value: 0.37292744462998595 and parameters: {'max_depth': 7, 'min_child_weight': 6, 'learning_rate': 0.43032112221641655, 'n_estimators': 407, 'subsample': 0.3597681439864689, 'colsample_bytree': 0.5943954241350383, 'random_state': 42}. Best is trial 121 with value: 0.2656087004876263.\n",
      "[I 2024-02-05 09:45:42,588] Trial 124 finished with value: 0.2668663377617192 and parameters: {'max_depth': 7, 'min_child_weight': 6, 'learning_rate': 0.04866271080590401, 'n_estimators': 425, 'subsample': 0.3171921924176922, 'colsample_bytree': 0.5589939060445136, 'random_state': 42}. Best is trial 121 with value: 0.2656087004876263.\n",
      "[I 2024-02-05 09:45:46,711] Trial 125 finished with value: 0.273563929093094 and parameters: {'max_depth': 7, 'min_child_weight': 6, 'learning_rate': 0.08636797729412116, 'n_estimators': 360, 'subsample': 0.3139102608766751, 'colsample_bytree': 0.5671712476923567, 'random_state': 42}. Best is trial 121 with value: 0.2656087004876263.\n",
      "[I 2024-02-05 09:45:51,930] Trial 126 finished with value: 0.26741024100549005 and parameters: {'max_depth': 7, 'min_child_weight': 6, 'learning_rate': 0.045568982306387805, 'n_estimators': 435, 'subsample': 0.381531448038738, 'colsample_bytree': 0.5327530423550493, 'random_state': 42}. Best is trial 121 with value: 0.2656087004876263.\n",
      "[I 2024-02-05 09:45:56,691] Trial 127 finished with value: 0.2838273340277088 and parameters: {'max_depth': 7, 'min_child_weight': 6, 'learning_rate': 0.11888749172832518, 'n_estimators': 423, 'subsample': 0.34375651209346625, 'colsample_bytree': 0.5301543203246567, 'random_state': 42}. Best is trial 121 with value: 0.2656087004876263.\n",
      "[I 2024-02-05 09:46:01,434] Trial 128 finished with value: 0.26782446543779703 and parameters: {'max_depth': 7, 'min_child_weight': 6, 'learning_rate': 0.05067273449054626, 'n_estimators': 395, 'subsample': 0.3780408697973338, 'colsample_bytree': 0.5590025915792047, 'random_state': 42}. Best is trial 121 with value: 0.2656087004876263.\n",
      "[I 2024-02-05 09:46:05,589] Trial 129 finished with value: 0.5646737188346345 and parameters: {'max_depth': 7, 'min_child_weight': 6, 'learning_rate': 0.9617658524201408, 'n_estimators': 438, 'subsample': 0.3319886034886701, 'colsample_bytree': 0.5081373743254743, 'random_state': 42}. Best is trial 121 with value: 0.2656087004876263.\n",
      "[I 2024-02-05 09:46:09,852] Trial 130 finished with value: 0.2730084463852911 and parameters: {'max_depth': 7, 'min_child_weight': 6, 'learning_rate': 0.09246403398866507, 'n_estimators': 375, 'subsample': 0.28890150238760814, 'colsample_bytree': 0.5902060817512619, 'random_state': 42}. Best is trial 121 with value: 0.2656087004876263.\n",
      "[I 2024-02-05 09:46:14,830] Trial 131 finished with value: 0.26720835016102423 and parameters: {'max_depth': 7, 'min_child_weight': 7, 'learning_rate': 0.053249502346416254, 'n_estimators': 426, 'subsample': 0.38742212660246106, 'colsample_bytree': 0.6141022970933245, 'random_state': 42}. Best is trial 121 with value: 0.2656087004876263.\n",
      "[I 2024-02-05 09:46:20,771] Trial 132 finished with value: 0.32528390269193125 and parameters: {'max_depth': 7, 'min_child_weight': 6, 'learning_rate': 0.010977819624633213, 'n_estimators': 457, 'subsample': 0.38862010890907656, 'colsample_bytree': 0.5729163917798437, 'random_state': 42}. Best is trial 121 with value: 0.2656087004876263.\n",
      "[I 2024-02-05 09:46:25,802] Trial 133 finished with value: 0.26686299007026826 and parameters: {'max_depth': 7, 'min_child_weight': 6, 'learning_rate': 0.04926926578478763, 'n_estimators': 423, 'subsample': 0.36112919259270604, 'colsample_bytree': 0.49128422750797324, 'random_state': 42}. Best is trial 121 with value: 0.2656087004876263.\n",
      "[I 2024-02-05 09:46:30,619] Trial 134 finished with value: 0.26682564273935483 and parameters: {'max_depth': 7, 'min_child_weight': 6, 'learning_rate': 0.04856986700855727, 'n_estimators': 405, 'subsample': 0.35454055665267825, 'colsample_bytree': 0.6043919469347945, 'random_state': 42}. Best is trial 121 with value: 0.2656087004876263.\n",
      "[I 2024-02-05 09:46:35,687] Trial 135 finished with value: 0.2787912221305954 and parameters: {'max_depth': 7, 'min_child_weight': 6, 'learning_rate': 0.026638043270926788, 'n_estimators': 401, 'subsample': 0.3532676682636893, 'colsample_bytree': 0.4641179072032876, 'random_state': 42}. Best is trial 121 with value: 0.2656087004876263.\n",
      "[I 2024-02-05 09:46:39,784] Trial 136 finished with value: 0.2735385739224654 and parameters: {'max_depth': 7, 'min_child_weight': 6, 'learning_rate': 0.10523334963307762, 'n_estimators': 358, 'subsample': 0.3265836268316222, 'colsample_bytree': 0.49519756825373057, 'random_state': 42}. Best is trial 121 with value: 0.2656087004876263.\n",
      "[I 2024-02-05 09:46:44,196] Trial 137 finished with value: 0.270125087618255 and parameters: {'max_depth': 7, 'min_child_weight': 6, 'learning_rate': 0.07659254733754262, 'n_estimators': 384, 'subsample': 0.3047734869239893, 'colsample_bytree': 0.5519808070945305, 'random_state': 42}. Best is trial 121 with value: 0.2656087004876263.\n",
      "[I 2024-02-05 09:46:49,479] Trial 138 finished with value: 0.26869673585773785 and parameters: {'max_depth': 7, 'min_child_weight': 7, 'learning_rate': 0.04304530543082974, 'n_estimators': 468, 'subsample': 0.2713016025835746, 'colsample_bytree': 0.6381565218152687, 'random_state': 42}. Best is trial 121 with value: 0.2656087004876263.\n",
      "[I 2024-02-05 09:46:53,976] Trial 139 finished with value: 0.3726437648488366 and parameters: {'max_depth': 7, 'min_child_weight': 6, 'learning_rate': 0.011369779466978711, 'n_estimators': 340, 'subsample': 0.4173542570418981, 'colsample_bytree': 0.604773215579713, 'random_state': 42}. Best is trial 121 with value: 0.2656087004876263.\n",
      "[I 2024-02-05 09:46:58,274] Trial 140 finished with value: 0.26617691889857337 and parameters: {'max_depth': 6, 'min_child_weight': 6, 'learning_rate': 0.054229590827107786, 'n_estimators': 409, 'subsample': 0.36143317904733824, 'colsample_bytree': 0.6596148417952405, 'random_state': 42}. Best is trial 121 with value: 0.2656087004876263.\n",
      "[I 2024-02-05 09:47:02,592] Trial 141 finished with value: 0.2669612474628174 and parameters: {'max_depth': 6, 'min_child_weight': 6, 'learning_rate': 0.053795465521220526, 'n_estimators': 410, 'subsample': 0.355125259814303, 'colsample_bytree': 0.6463073662235232, 'random_state': 42}. Best is trial 121 with value: 0.2656087004876263.\n",
      "[I 2024-02-05 09:47:06,851] Trial 142 finished with value: 0.26969974154068393 and parameters: {'max_depth': 6, 'min_child_weight': 6, 'learning_rate': 0.07081070276667802, 'n_estimators': 401, 'subsample': 0.36210892441707804, 'colsample_bytree': 0.6659177615553947, 'random_state': 42}. Best is trial 121 with value: 0.2656087004876263.\n",
      "[I 2024-02-05 09:47:11,790] Trial 143 finished with value: 0.2696300465600753 and parameters: {'max_depth': 6, 'min_child_weight': 6, 'learning_rate': 0.02493360567245632, 'n_estimators': 446, 'subsample': 0.41112172007561737, 'colsample_bytree': 0.6508061710394961, 'random_state': 42}. Best is trial 121 with value: 0.2656087004876263.\n",
      "[I 2024-02-05 09:47:15,580] Trial 144 finished with value: 0.27408874277694145 and parameters: {'max_depth': 6, 'min_child_weight': 6, 'learning_rate': 0.0921810045401265, 'n_estimators': 372, 'subsample': 0.32284814788429833, 'colsample_bytree': 0.7346368718437027, 'random_state': 42}. Best is trial 121 with value: 0.2656087004876263.\n",
      "[I 2024-02-05 09:47:20,025] Trial 145 finished with value: 0.2680447460416016 and parameters: {'max_depth': 6, 'min_child_weight': 6, 'learning_rate': 0.04497339189621952, 'n_estimators': 426, 'subsample': 0.29574114754115705, 'colsample_bytree': 0.4383049600516376, 'random_state': 42}. Best is trial 121 with value: 0.2656087004876263.\n",
      "[I 2024-02-05 09:47:24,359] Trial 146 finished with value: 0.2731476287175779 and parameters: {'max_depth': 6, 'min_child_weight': 5, 'learning_rate': 0.07773725135893783, 'n_estimators': 412, 'subsample': 0.3684823084818585, 'colsample_bytree': 0.602876278488003, 'random_state': 42}. Best is trial 121 with value: 0.2656087004876263.\n",
      "[I 2024-02-05 09:47:28,594] Trial 147 finished with value: 0.26885253556770333 and parameters: {'max_depth': 6, 'min_child_weight': 5, 'learning_rate': 0.028221424346268568, 'n_estimators': 385, 'subsample': 0.40627621927654917, 'colsample_bytree': 0.6800984487062539, 'random_state': 42}. Best is trial 121 with value: 0.2656087004876263.\n",
      "[I 2024-02-05 09:47:33,383] Trial 148 finished with value: 0.28844458469125567 and parameters: {'max_depth': 6, 'min_child_weight': 6, 'learning_rate': 0.12478638322117018, 'n_estimators': 482, 'subsample': 0.3112729968876545, 'colsample_bytree': 0.6555037627360457, 'random_state': 42}. Best is trial 121 with value: 0.2656087004876263.\n",
      "[I 2024-02-05 09:47:39,622] Trial 149 finished with value: 0.27287642060347816 and parameters: {'max_depth': 9, 'min_child_weight': 6, 'learning_rate': 0.05731121885414494, 'n_estimators': 451, 'subsample': 0.35437941124162253, 'colsample_bytree': 0.6370630818781496, 'random_state': 42}. Best is trial 121 with value: 0.2656087004876263.\n",
      "[I 2024-02-05 09:47:43,523] Trial 150 finished with value: 0.2745681137182409 and parameters: {'max_depth': 5, 'min_child_weight': 6, 'learning_rate': 0.030996364558013457, 'n_estimators': 415, 'subsample': 0.3968819076163169, 'colsample_bytree': 0.5123932289672332, 'random_state': 42}. Best is trial 121 with value: 0.2656087004876263.\n",
      "[I 2024-02-05 09:47:47,708] Trial 151 finished with value: 0.2669491708997756 and parameters: {'max_depth': 7, 'min_child_weight': 7, 'learning_rate': 0.05184089129368081, 'n_estimators': 359, 'subsample': 0.3376840034696607, 'colsample_bytree': 0.5704692536215946, 'random_state': 42}. Best is trial 121 with value: 0.2656087004876263.\n",
      "[I 2024-02-05 09:47:51,624] Trial 152 finished with value: 0.3519812261672049 and parameters: {'max_depth': 7, 'min_child_weight': 7, 'learning_rate': 0.05595044173670331, 'n_estimators': 398, 'subsample': 0.32741806460319545, 'colsample_bytree': 0.1420859842955277, 'random_state': 42}. Best is trial 121 with value: 0.2656087004876263.\n",
      "[I 2024-02-05 09:47:55,670] Trial 153 finished with value: 0.27442424284783795 and parameters: {'max_depth': 7, 'min_child_weight': 7, 'learning_rate': 0.09906103698891541, 'n_estimators': 359, 'subsample': 0.3474694816379774, 'colsample_bytree': 0.5812979277638526, 'random_state': 42}. Best is trial 121 with value: 0.2656087004876263.\n",
      "[I 2024-02-05 09:48:00,175] Trial 154 finished with value: 0.27264546379549226 and parameters: {'max_depth': 7, 'min_child_weight': 6, 'learning_rate': 0.07754509574038763, 'n_estimators': 384, 'subsample': 0.37239199536624834, 'colsample_bytree': 0.7204311336906184, 'random_state': 42}. Best is trial 121 with value: 0.2656087004876263.\n",
      "[I 2024-02-05 09:48:04,602] Trial 155 finished with value: 0.2751237954221828 and parameters: {'max_depth': 7, 'min_child_weight': 7, 'learning_rate': 0.026779006846008174, 'n_estimators': 369, 'subsample': 0.3072748061595405, 'colsample_bytree': 0.6190517418786682, 'random_state': 42}. Best is trial 121 with value: 0.2656087004876263.\n",
      "[I 2024-02-05 09:48:09,363] Trial 156 finished with value: 0.26927759099294346 and parameters: {'max_depth': 9, 'min_child_weight': 6, 'learning_rate': 0.04503203193181801, 'n_estimators': 333, 'subsample': 0.2756556698374979, 'colsample_bytree': 0.48108126524995065, 'random_state': 42}. Best is trial 121 with value: 0.2656087004876263.\n",
      "[I 2024-02-05 09:48:14,190] Trial 157 finished with value: 0.3317348720773412 and parameters: {'max_depth': 6, 'min_child_weight': 7, 'learning_rate': 0.012212251414037163, 'n_estimators': 419, 'subsample': 0.42608712377593283, 'colsample_bytree': 0.5906417137195631, 'random_state': 42}. Best is trial 121 with value: 0.2656087004876263.\n",
      "[I 2024-02-05 09:48:18,485] Trial 158 finished with value: 0.2682014676214534 and parameters: {'max_depth': 7, 'min_child_weight': 5, 'learning_rate': 0.05902109566184617, 'n_estimators': 351, 'subsample': 0.3847787455134008, 'colsample_bytree': 0.5351493250059842, 'random_state': 42}. Best is trial 121 with value: 0.2656087004876263.\n",
      "[I 2024-02-05 09:48:24,111] Trial 159 finished with value: 0.28489954918363786 and parameters: {'max_depth': 9, 'min_child_weight': 6, 'learning_rate': 0.10858904258563878, 'n_estimators': 435, 'subsample': 0.33366789554135745, 'colsample_bytree': 0.569307056609919, 'random_state': 42}. Best is trial 121 with value: 0.2656087004876263.\n",
      "[I 2024-02-05 09:48:28,581] Trial 160 finished with value: 0.38896159833896043 and parameters: {'max_depth': 9, 'min_child_weight': 6, 'learning_rate': 0.5209916066498742, 'n_estimators': 398, 'subsample': 0.36228132165902993, 'colsample_bytree': 0.6832378111195478, 'random_state': 42}. Best is trial 121 with value: 0.2656087004876263.\n",
      "[I 2024-02-05 09:48:31,933] Trial 161 finished with value: 0.4042614861708326 and parameters: {'max_depth': 7, 'min_child_weight': 7, 'learning_rate': 0.6135331410483018, 'n_estimators': 335, 'subsample': 0.34422927592600205, 'colsample_bytree': 0.5636359092308705, 'random_state': 42}. Best is trial 121 with value: 0.2656087004876263.\n",
      "[I 2024-02-05 09:48:36,310] Trial 162 finished with value: 0.26664603846554197 and parameters: {'max_depth': 7, 'min_child_weight': 7, 'learning_rate': 0.04622354322288436, 'n_estimators': 369, 'subsample': 0.3535379992826461, 'colsample_bytree': 0.5557728864464765, 'random_state': 42}. Best is trial 121 with value: 0.2656087004876263.\n",
      "[I 2024-02-05 09:48:40,792] Trial 163 finished with value: 0.2702857702306292 and parameters: {'max_depth': 7, 'min_child_weight': 7, 'learning_rate': 0.0741794265683074, 'n_estimators': 377, 'subsample': 0.40156326889417093, 'colsample_bytree': 0.6116378608733156, 'random_state': 42}. Best is trial 121 with value: 0.2656087004876263.\n",
      "[I 2024-02-05 09:48:45,079] Trial 164 finished with value: 0.265079452463471 and parameters: {'max_depth': 7, 'min_child_weight': 7, 'learning_rate': 0.044372824815069996, 'n_estimators': 359, 'subsample': 0.3674954321932482, 'colsample_bytree': 0.644066585292397, 'random_state': 42}. Best is trial 164 with value: 0.265079452463471.\n",
      "[I 2024-02-05 09:48:49,525] Trial 165 finished with value: 0.26916678449409465 and parameters: {'max_depth': 7, 'min_child_weight': 7, 'learning_rate': 0.03622988878162385, 'n_estimators': 365, 'subsample': 0.3774697180876193, 'colsample_bytree': 0.5200601324790313, 'random_state': 42}. Best is trial 164 with value: 0.265079452463471.\n",
      "[I 2024-02-05 09:48:53,959] Trial 166 finished with value: 0.37739705090783976 and parameters: {'max_depth': 7, 'min_child_weight': 8, 'learning_rate': 0.01128982760060672, 'n_estimators': 348, 'subsample': 0.3250387823006358, 'colsample_bytree': 0.5977278550543577, 'random_state': 42}. Best is trial 164 with value: 0.265079452463471.\n",
      "[I 2024-02-05 09:48:58,256] Trial 167 finished with value: 0.2737671970577126 and parameters: {'max_depth': 7, 'min_child_weight': 7, 'learning_rate': 0.08729825261442542, 'n_estimators': 384, 'subsample': 0.3024823063839249, 'colsample_bytree': 0.5473497232760932, 'random_state': 42}. Best is trial 164 with value: 0.265079452463471.\n",
      "[I 2024-02-05 09:49:02,252] Trial 168 finished with value: 0.2676342031744689 and parameters: {'max_depth': 7, 'min_child_weight': 7, 'learning_rate': 0.03474844009776859, 'n_estimators': 322, 'subsample': 0.4346719503774156, 'colsample_bytree': 0.6646917781588356, 'random_state': 42}. Best is trial 164 with value: 0.265079452463471.\n",
      "[I 2024-02-05 09:49:06,386] Trial 169 finished with value: 0.2667967200429487 and parameters: {'max_depth': 7, 'min_child_weight': 7, 'learning_rate': 0.06515769045112509, 'n_estimators': 351, 'subsample': 0.3912186833437722, 'colsample_bytree': 0.459013927285041, 'random_state': 42}. Best is trial 164 with value: 0.265079452463471.\n",
      "[I 2024-02-05 09:49:12,375] Trial 170 finished with value: 0.2722938542766865 and parameters: {'max_depth': 7, 'min_child_weight': 7, 'learning_rate': 0.07281969707247876, 'n_estimators': 524, 'subsample': 0.39508072337312805, 'colsample_bytree': 0.45593776338080333, 'random_state': 42}. Best is trial 164 with value: 0.265079452463471.\n",
      "[I 2024-02-05 09:49:16,614] Trial 171 finished with value: 0.27082292452866713 and parameters: {'max_depth': 7, 'min_child_weight': 8, 'learning_rate': 0.04850160350136376, 'n_estimators': 359, 'subsample': 0.3677544956158387, 'colsample_bytree': 0.4202923500784662, 'random_state': 42}. Best is trial 164 with value: 0.265079452463471.\n",
      "[I 2024-02-05 09:49:21,449] Trial 172 finished with value: 0.28071777926700103 and parameters: {'max_depth': 7, 'min_child_weight': 7, 'learning_rate': 0.026141003466973897, 'n_estimators': 393, 'subsample': 0.3383482665819599, 'colsample_bytree': 0.4951276103770714, 'random_state': 42}. Best is trial 164 with value: 0.265079452463471.\n",
      "[I 2024-02-05 09:49:24,425] Trial 173 finished with value: 0.48401395523204027 and parameters: {'max_depth': 7, 'min_child_weight': 7, 'learning_rate': 0.058706258686253454, 'n_estimators': 373, 'subsample': 0.38450922719584485, 'colsample_bytree': 0.03593152640464897, 'random_state': 42}. Best is trial 164 with value: 0.265079452463471.\n",
      "[I 2024-02-05 09:49:28,461] Trial 174 finished with value: 0.27004426441839613 and parameters: {'max_depth': 7, 'min_child_weight': 7, 'learning_rate': 0.0926596844501675, 'n_estimators': 347, 'subsample': 0.4074857461197243, 'colsample_bytree': 0.4425454252594484, 'random_state': 42}. Best is trial 164 with value: 0.265079452463471.\n",
      "[I 2024-02-05 09:49:32,711] Trial 175 finished with value: 0.40959054110776427 and parameters: {'max_depth': 7, 'min_child_weight': 8, 'learning_rate': 0.010336053754188421, 'n_estimators': 330, 'subsample': 0.3508964241511661, 'colsample_bytree': 0.579774089836244, 'random_state': 42}. Best is trial 164 with value: 0.265079452463471.\n",
      "[I 2024-02-05 09:49:38,121] Trial 176 finished with value: 0.26683582803596356 and parameters: {'max_depth': 7, 'min_child_weight': 7, 'learning_rate': 0.04315491297592229, 'n_estimators': 467, 'subsample': 0.3182868782425083, 'colsample_bytree': 0.46991226097423566, 'random_state': 42}. Best is trial 164 with value: 0.265079452463471.\n",
      "[I 2024-02-05 09:49:45,668] Trial 177 finished with value: 0.26669559211762806 and parameters: {'max_depth': 9, 'min_child_weight': 3, 'learning_rate': 0.037010066761311466, 'n_estimators': 475, 'subsample': 0.3680290149834023, 'colsample_bytree': 0.39813248954917785, 'random_state': 42}. Best is trial 164 with value: 0.265079452463471.\n",
      "[I 2024-02-05 09:49:53,596] Trial 178 finished with value: 0.2677237516062173 and parameters: {'max_depth': 9, 'min_child_weight': 3, 'learning_rate': 0.032821349667161485, 'n_estimators': 491, 'subsample': 0.42103844968173065, 'colsample_bytree': 0.3890010346200867, 'random_state': 42}. Best is trial 164 with value: 0.265079452463471.\n",
      "[I 2024-02-05 09:50:00,481] Trial 179 finished with value: 0.27879485622097805 and parameters: {'max_depth': 9, 'min_child_weight': 3, 'learning_rate': 0.07067054312192551, 'n_estimators': 457, 'subsample': 0.3703408391750792, 'colsample_bytree': 0.4670123206901278, 'random_state': 42}. Best is trial 164 with value: 0.265079452463471.\n",
      "[I 2024-02-05 09:50:08,549] Trial 180 finished with value: 0.2791780832372186 and parameters: {'max_depth': 9, 'min_child_weight': 3, 'learning_rate': 0.02844322675132734, 'n_estimators': 505, 'subsample': 0.38296166415012006, 'colsample_bytree': 0.3613024362760252, 'random_state': 42}. Best is trial 164 with value: 0.265079452463471.\n",
      "[I 2024-02-05 09:50:15,529] Trial 181 finished with value: 0.2728896405758978 and parameters: {'max_depth': 9, 'min_child_weight': 3, 'learning_rate': 0.062437641442330515, 'n_estimators': 473, 'subsample': 0.31327895021600655, 'colsample_bytree': 0.42354463699639777, 'random_state': 42}. Best is trial 164 with value: 0.265079452463471.\n",
      "[I 2024-02-05 09:50:21,067] Trial 182 finished with value: 0.26693783952191563 and parameters: {'max_depth': 7, 'min_child_weight': 3, 'learning_rate': 0.04397764298727578, 'n_estimators': 437, 'subsample': 0.36016964723303724, 'colsample_bytree': 0.39986032830377005, 'random_state': 42}. Best is trial 164 with value: 0.265079452463471.\n",
      "[I 2024-02-05 09:50:26,865] Trial 183 finished with value: 0.2747836860915573 and parameters: {'max_depth': 7, 'min_child_weight': 7, 'learning_rate': 0.08306151769742684, 'n_estimators': 548, 'subsample': 0.28006844816805454, 'colsample_bytree': 0.34307454818934235, 'random_state': 42}. Best is trial 164 with value: 0.265079452463471.\n",
      "[I 2024-02-05 09:50:32,690] Trial 184 finished with value: 0.2696871842936038 and parameters: {'max_depth': 9, 'min_child_weight': 6, 'learning_rate': 0.04214718924648876, 'n_estimators': 411, 'subsample': 0.3267695999196734, 'colsample_bytree': 0.4331759880716602, 'random_state': 42}. Best is trial 164 with value: 0.265079452463471.\n",
      "[I 2024-02-05 09:50:38,765] Trial 185 finished with value: 0.34073858204965696 and parameters: {'max_depth': 7, 'min_child_weight': 7, 'learning_rate': 0.011754851488052637, 'n_estimators': 466, 'subsample': 0.39497878122735547, 'colsample_bytree': 0.48138423034144007, 'random_state': 42}. Best is trial 164 with value: 0.265079452463471.\n",
      "[I 2024-02-05 09:50:44,324] Trial 186 finished with value: 0.2780730582131724 and parameters: {'max_depth': 7, 'min_child_weight': 2, 'learning_rate': 0.06826555545792876, 'n_estimators': 431, 'subsample': 0.3545765039592224, 'colsample_bytree': 0.7108595002149066, 'random_state': 42}. Best is trial 164 with value: 0.265079452463471.\n",
      "[I 2024-02-05 09:50:50,040] Trial 187 finished with value: 0.29644969500410256 and parameters: {'max_depth': 9, 'min_child_weight': 3, 'learning_rate': 0.10874057978878654, 'n_estimators': 394, 'subsample': 0.2980400364189373, 'colsample_bytree': 0.5015563720662924, 'random_state': 42}. Best is trial 164 with value: 0.265079452463471.\n",
      "[I 2024-02-05 09:50:56,255] Trial 188 finished with value: 0.2667007518635092 and parameters: {'max_depth': 7, 'min_child_weight': 1, 'learning_rate': 0.04063797016387908, 'n_estimators': 449, 'subsample': 0.4389153005239218, 'colsample_bytree': 0.6321485169863117, 'random_state': 42}. Best is trial 164 with value: 0.265079452463471.\n",
      "[I 2024-02-05 09:51:02,283] Trial 189 finished with value: 0.26481024621860877 and parameters: {'max_depth': 7, 'min_child_weight': 2, 'learning_rate': 0.026246423723701683, 'n_estimators': 447, 'subsample': 0.43135127394840117, 'colsample_bytree': 0.6319796154894989, 'random_state': 42}. Best is trial 189 with value: 0.26481024621860877.\n",
      "[I 2024-02-05 09:51:10,884] Trial 190 finished with value: 0.2684019536787058 and parameters: {'max_depth': 9, 'min_child_weight': 1, 'learning_rate': 0.030859522019998996, 'n_estimators': 463, 'subsample': 0.4420457374589231, 'colsample_bytree': 0.632390173547073, 'random_state': 42}. Best is trial 189 with value: 0.26481024621860877.\n",
      "[I 2024-02-05 09:51:17,254] Trial 191 finished with value: 0.2655943429013106 and parameters: {'max_depth': 7, 'min_child_weight': 1, 'learning_rate': 0.024192330273134055, 'n_estimators': 449, 'subsample': 0.4802757817249944, 'colsample_bytree': 0.6932496965076427, 'random_state': 42}. Best is trial 189 with value: 0.26481024621860877.\n",
      "[I 2024-02-05 09:51:24,073] Trial 192 finished with value: 0.26443992369364455 and parameters: {'max_depth': 7, 'min_child_weight': 1, 'learning_rate': 0.026920621613505124, 'n_estimators': 490, 'subsample': 0.3985925586078871, 'colsample_bytree': 0.6900008028058283, 'random_state': 42}. Best is trial 192 with value: 0.26443992369364455.\n",
      "[I 2024-02-05 09:51:31,095] Trial 193 finished with value: 0.2968509574919427 and parameters: {'max_depth': 7, 'min_child_weight': 1, 'learning_rate': 0.010877213971555583, 'n_estimators': 493, 'subsample': 0.5151673346847253, 'colsample_bytree': 0.6980237238181818, 'random_state': 42}. Best is trial 192 with value: 0.26443992369364455.\n",
      "[I 2024-02-05 09:51:37,703] Trial 194 finished with value: 0.26556768734439784 and parameters: {'max_depth': 7, 'min_child_weight': 1, 'learning_rate': 0.02688548256067346, 'n_estimators': 477, 'subsample': 0.43639449485199444, 'colsample_bytree': 0.7330083457848243, 'random_state': 42}. Best is trial 192 with value: 0.26443992369364455.\n",
      "[I 2024-02-05 09:51:45,133] Trial 195 finished with value: 0.265865132692082 and parameters: {'max_depth': 7, 'min_child_weight': 1, 'learning_rate': 0.02660884110784516, 'n_estimators': 531, 'subsample': 0.4810357305399794, 'colsample_bytree': 0.7333406613310398, 'random_state': 42}. Best is trial 192 with value: 0.26443992369364455.\n",
      "[I 2024-02-05 09:51:52,593] Trial 196 finished with value: 0.2664013814792582 and parameters: {'max_depth': 7, 'min_child_weight': 1, 'learning_rate': 0.027795624189502054, 'n_estimators': 530, 'subsample': 0.48550746172626064, 'colsample_bytree': 0.7384176888692118, 'random_state': 42}. Best is trial 192 with value: 0.26443992369364455.\n",
      "[I 2024-02-05 09:51:59,765] Trial 197 finished with value: 0.264397638569491 and parameters: {'max_depth': 7, 'min_child_weight': 1, 'learning_rate': 0.023360179218592278, 'n_estimators': 516, 'subsample': 0.4887492028460542, 'colsample_bytree': 0.7365676463858488, 'random_state': 42}. Best is trial 197 with value: 0.264397638569491.\n",
      "[I 2024-02-05 09:52:06,925] Trial 198 finished with value: 0.26529276255498585 and parameters: {'max_depth': 7, 'min_child_weight': 1, 'learning_rate': 0.02403973893010925, 'n_estimators': 515, 'subsample': 0.48705812114096647, 'colsample_bytree': 0.7450218883459372, 'random_state': 42}. Best is trial 197 with value: 0.264397638569491.\n",
      "[I 2024-02-05 09:52:14,308] Trial 199 finished with value: 0.285772288659128 and parameters: {'max_depth': 7, 'min_child_weight': 1, 'learning_rate': 0.011125658847791646, 'n_estimators': 527, 'subsample': 0.468532331529342, 'colsample_bytree': 0.7651168408106072, 'random_state': 42}. Best is trial 197 with value: 0.264397638569491.\n"
     ]
    },
    {
     "name": "stdout",
     "output_type": "stream",
     "text": [
      "Number of finished trials:  200\n",
      "Best trial:\n",
      "Value:  0.264397638569491\n",
      "Params: \n",
      "    max_depth: 7\n",
      "    min_child_weight: 1\n",
      "    learning_rate: 0.023360179218592278\n",
      "    n_estimators: 516\n",
      "    subsample: 0.4887492028460542\n",
      "    colsample_bytree: 0.7365676463858488\n",
      "    random_state: 42\n"
     ]
    }
   ],
   "source": [
    "if submit == False:\n",
    "    import optuna\n",
    "    from xgboost import XGBClassifier\n",
    "    from sklearn.model_selection import train_test_split\n",
    "    from sklearn.metrics import roc_auc_score, log_loss\n",
    "\n",
    "    # Assuming 'X' is your feature matrix and 'y' is your target variable\n",
    "    X = X.copy()\n",
    "    y = y.copy()\n",
    "\n",
    "    def objective(trial):\n",
    "        X_train, X_val, y_train, y_val = train_test_split(X, y, test_size=0.2, random_state=42)\n",
    "\n",
    "        params = {\n",
    "            'objective':\"multi:softmax\",\n",
    "            'max_depth': trial.suggest_int('max_depth', 5, 10),\n",
    "            'min_child_weight': trial.suggest_int('min_child_weight', 1, 10),\n",
    "            'learning_rate': trial.suggest_float('learning_rate', 0.01, 1.0),\n",
    "            'n_estimators': trial.suggest_int('n_estimators', 150, 1000),\n",
    "            'subsample': trial.suggest_float('subsample', 0.01, 1.0),\n",
    "            'colsample_bytree': trial.suggest_float('colsample_bytree', 0.01, 1.0),\n",
    "#             'gamma': trial.suggest_uniform(\"gamma\", 0.05, 0.8),\n",
    "#             'reg_lambda': trial.suggest_uniform(\"reg_lambda\", 1.3, 2.3),\n",
    "#             'reg_alpha': trial.suggest_uniform(\"reg_alpha\", 1.5, 2.2),\n",
    "            'random_state': trial.suggest_categorical('random_state', [42]),\n",
    "            'tree_method': 'hist',  # Use GPU for training\n",
    "            'device': 'cuda',\n",
    "            'njobs': -1,\n",
    "            'eval_metric': 'logloss',  # Evaluation metric\n",
    "            'verbosity': 0,  # Set verbosity to 0 for less output\n",
    "        }\n",
    "\n",
    "        model = XGBClassifier(**params)\n",
    "\n",
    "#         model.fit(X_train, y_train, eval_set=[(X_val, y_val)], early_stopping_rounds=100, verbose=False)\n",
    "        model.fit(X_train, y_train)\n",
    "\n",
    "        y_pred = model.predict_proba(X_val)\n",
    "        metrics = log_loss(y_val, y_pred)\n",
    "\n",
    "        return metrics\n",
    "\n",
    "    study = optuna.create_study(direction='minimize')\n",
    "    study.optimize(objective, n_trials=200)\n",
    "\n",
    "    print('Number of finished trials: ', len(study.trials))\n",
    "    print('Best trial:')\n",
    "    trial = study.best_trial\n",
    "\n",
    "    print('Value: ', trial.value)\n",
    "    print('Params: ')\n",
    "    for key, value in trial.params.items():\n",
    "        print(f'    {key}: {value}')"
   ]
  },
  {
   "cell_type": "code",
   "execution_count": 10,
   "id": "23775e70",
   "metadata": {
    "execution": {
     "iopub.execute_input": "2024-02-05T09:52:14.424268Z",
     "iopub.status.busy": "2024-02-05T09:52:14.423997Z",
     "iopub.status.idle": "2024-02-05T09:52:14.428329Z",
     "shell.execute_reply": "2024-02-05T09:52:14.427500Z"
    },
    "papermill": {
     "duration": 0.039901,
     "end_time": "2024-02-05T09:52:14.430649",
     "exception": false,
     "start_time": "2024-02-05T09:52:14.390748",
     "status": "completed"
    },
    "tags": []
   },
   "outputs": [
    {
     "name": "stdout",
     "output_type": "stream",
     "text": [
      "Best parameters: {'max_depth': 7, 'min_child_weight': 1, 'learning_rate': 0.023360179218592278, 'n_estimators': 516, 'subsample': 0.4887492028460542, 'colsample_bytree': 0.7365676463858488, 'random_state': 42}\n"
     ]
    }
   ],
   "source": [
    "print('Best parameters:', study.best_params)"
   ]
  },
  {
   "cell_type": "markdown",
   "id": "2e36dba1",
   "metadata": {
    "papermill": {
     "duration": 0.031523,
     "end_time": "2024-02-05T09:52:14.493976",
     "exception": false,
     "start_time": "2024-02-05T09:52:14.462453",
     "status": "completed"
    },
    "tags": []
   },
   "source": [
    "### LGBMClassifier"
   ]
  },
  {
   "cell_type": "code",
   "execution_count": 11,
   "id": "7058720a",
   "metadata": {
    "execution": {
     "iopub.execute_input": "2024-02-05T09:52:14.558456Z",
     "iopub.status.busy": "2024-02-05T09:52:14.558150Z",
     "iopub.status.idle": "2024-02-05T09:52:14.563245Z",
     "shell.execute_reply": "2024-02-05T09:52:14.562458Z"
    },
    "papermill": {
     "duration": 0.039239,
     "end_time": "2024-02-05T09:52:14.564935",
     "exception": false,
     "start_time": "2024-02-05T09:52:14.525696",
     "status": "completed"
    },
    "tags": []
   },
   "outputs": [],
   "source": [
    "import pandas as pd\n",
    "import numpy as np\n",
    "\n",
    "from sklearn.model_selection import train_test_split\n",
    "import lightgbm as lgb\n",
    "\n",
    "from sklearn.metrics import confusion_matrix, ConfusionMatrixDisplay\n",
    "from sklearn.metrics import accuracy_score, classification_report\n",
    "\n",
    "from optuna.samplers import TPESampler\n",
    "import optuna\n",
    "\n",
    "import warnings\n",
    "warnings.filterwarnings(\"ignore\")"
   ]
  },
  {
   "cell_type": "code",
   "execution_count": 12,
   "id": "ecf971c7",
   "metadata": {
    "execution": {
     "iopub.execute_input": "2024-02-05T09:52:14.630150Z",
     "iopub.status.busy": "2024-02-05T09:52:14.629879Z",
     "iopub.status.idle": "2024-02-05T09:52:14.642453Z",
     "shell.execute_reply": "2024-02-05T09:52:14.641758Z"
    },
    "papermill": {
     "duration": 0.047287,
     "end_time": "2024-02-05T09:52:14.644212",
     "exception": false,
     "start_time": "2024-02-05T09:52:14.596925",
     "status": "completed"
    },
    "tags": []
   },
   "outputs": [],
   "source": [
    "target_col = 'NObeyesdad'\n",
    "\n",
    "X = train.drop([target_col], axis=1) # 目的変数を指定する\n",
    "y = train[target_col].values # 目的変数を指定する\n",
    "X_train, X_val, y_train, y_val = train_test_split(X, y, test_size=0.2, random_state=42)\n",
    "\n",
    "def objective(trial):\n",
    "    param = {\n",
    "        \"objective\": \"multiclass\",\n",
    "        \"metric\": \"multi_logloss\",\n",
    "        \"verbosity\": -1,\n",
    "        \"boosting_type\": \"gbdt\",\n",
    "        \"num_class\": 7,\n",
    "        \"lambda_l1\": trial.suggest_float(\"lambda_l1\", 1e-8, 10.0, log=True),\n",
    "        \"lambda_l2\": trial.suggest_float(\"lambda_l2\", 1e-8, 10.0, log=True),\n",
    "        \"num_leaves\": trial.suggest_int(\"num_leaves\", 2, 256),\n",
    "        \"feature_fraction\": trial.suggest_float(\"feature_fraction\", 0.4, 1.0),\n",
    "        \"bagging_fraction\": trial.suggest_float(\"bagging_fraction\", 0.4, 1.0),\n",
    "        \"bagging_freq\": trial.suggest_int(\"bagging_freq\", 1, 7),\n",
    "        \"min_child_samples\": trial.suggest_int(\"min_child_samples\", 5, 100),\n",
    "    }\n",
    "    \n",
    "    gbm = lgb.LGBMClassifier(**param)\n",
    "    gbm.fit(X_train, y_train)\n",
    "    preds = gbm.predict(X_val)\n",
    "    accuracy = accuracy_score(y_val, preds)\n",
    "    \n",
    "    return accuracy"
   ]
  },
  {
   "cell_type": "code",
   "execution_count": 13,
   "id": "578765fb",
   "metadata": {
    "execution": {
     "iopub.execute_input": "2024-02-05T09:52:14.708959Z",
     "iopub.status.busy": "2024-02-05T09:52:14.708687Z",
     "iopub.status.idle": "2024-02-05T10:00:27.920336Z",
     "shell.execute_reply": "2024-02-05T10:00:27.919378Z"
    },
    "papermill": {
     "duration": 493.247302,
     "end_time": "2024-02-05T10:00:27.923200",
     "exception": false,
     "start_time": "2024-02-05T09:52:14.675898",
     "status": "completed"
    },
    "tags": []
   },
   "outputs": [
    {
     "name": "stderr",
     "output_type": "stream",
     "text": [
      "[I 2024-02-05 09:52:14,711] A new study created in memory with name: lightgbm\n",
      "[I 2024-02-05 09:52:17,690] Trial 0 finished with value: 0.9072736030828517 and parameters: {'lambda_l1': 2.348881295853308e-05, 'lambda_l2': 3.6010467344475403, 'num_leaves': 188, 'feature_fraction': 0.759195090518222, 'bagging_fraction': 0.4936111842654619, 'bagging_freq': 2, 'min_child_samples': 10}. Best is trial 0 with value: 0.9072736030828517.\n",
      "[I 2024-02-05 09:52:21,351] Trial 1 finished with value: 0.9087186897880539 and parameters: {'lambda_l1': 0.6245760287469893, 'lambda_l2': 0.002570603566117598, 'num_leaves': 182, 'feature_fraction': 0.41235069657748147, 'bagging_fraction': 0.9819459112971965, 'bagging_freq': 6, 'min_child_samples': 25}. Best is trial 1 with value: 0.9087186897880539.\n",
      "[I 2024-02-05 09:52:24,585] Trial 2 finished with value: 0.901252408477842 and parameters: {'lambda_l1': 4.329370014459266e-07, 'lambda_l2': 4.4734294104626844e-07, 'num_leaves': 79, 'feature_fraction': 0.7148538589793427, 'bagging_fraction': 0.6591670111852694, 'bagging_freq': 3, 'min_child_samples': 63}. Best is trial 1 with value: 0.9087186897880539.\n",
      "[I 2024-02-05 09:52:28,352] Trial 3 finished with value: 0.9026974951830443 and parameters: {'lambda_l1': 1.8007140198129195e-07, 'lambda_l2': 4.258943089524393e-06, 'num_leaves': 95, 'feature_fraction': 0.6736419905302216, 'bagging_fraction': 0.8711055768358081, 'bagging_freq': 2, 'min_child_samples': 54}. Best is trial 1 with value: 0.9087186897880539.\n",
      "[I 2024-02-05 09:52:30,383] Trial 4 finished with value: 0.903179190751445 and parameters: {'lambda_l1': 0.0021465011216654484, 'lambda_l2': 2.6185068507773707e-08, 'num_leaves': 156, 'feature_fraction': 0.502314474212375, 'bagging_fraction': 0.43903095579116774, 'bagging_freq': 7, 'min_child_samples': 97}. Best is trial 1 with value: 0.9087186897880539.\n",
      "[I 2024-02-05 09:52:31,857] Trial 5 finished with value: 0.9053468208092486 and parameters: {'lambda_l1': 0.18861495878553936, 'lambda_l2': 5.514725787121931e-06, 'num_leaves': 26, 'feature_fraction': 0.8105398159072941, 'bagging_fraction': 0.6640914962437607, 'bagging_freq': 1, 'min_child_samples': 52}. Best is trial 1 with value: 0.9087186897880539.\n",
      "[I 2024-02-05 09:52:34,142] Trial 6 finished with value: 0.904383429672447 and parameters: {'lambda_l1': 2.039373116525212e-08, 'lambda_l2': 1.527156759251193, 'num_leaves': 67, 'feature_fraction': 0.7975133706123891, 'bagging_fraction': 0.5870266456536466, 'bagging_freq': 4, 'min_child_samples': 57}. Best is trial 1 with value: 0.9087186897880539.\n",
      "[I 2024-02-05 09:52:36,760] Trial 7 finished with value: 0.9041425818882466 and parameters: {'lambda_l1': 4.609885087947832e-07, 'lambda_l2': 5.324289357128436, 'num_leaves': 199, 'feature_fraction': 0.9636993649385135, 'bagging_fraction': 0.9368964102565893, 'bagging_freq': 5, 'min_child_samples': 93}. Best is trial 1 with value: 0.9087186897880539.\n",
      "[I 2024-02-05 09:52:38,040] Trial 8 finished with value: 0.9089595375722543 and parameters: {'lambda_l1': 6.257956190096665e-08, 'lambda_l2': 5.805581976088804e-07, 'num_leaves': 13, 'feature_fraction': 0.5951981984579586, 'bagging_fraction': 0.6332063738136893, 'bagging_freq': 2, 'min_child_samples': 84}. Best is trial 8 with value: 0.9089595375722543.\n",
      "[I 2024-02-05 09:52:40,998] Trial 9 finished with value: 0.9070327552986512 and parameters: {'lambda_l1': 1.6247252885719427e-05, 'lambda_l2': 3.376063348877853e-06, 'num_leaves': 140, 'feature_fraction': 0.4845545349848576, 'bagging_fraction': 0.8813181884524238, 'bagging_freq': 1, 'min_child_samples': 99}. Best is trial 8 with value: 0.9089595375722543.\n",
      "[I 2024-02-05 09:52:44,431] Trial 10 finished with value: 0.9065510597302505 and parameters: {'lambda_l1': 0.00041973019546708034, 'lambda_l2': 0.0010220987574526444, 'num_leaves': 249, 'feature_fraction': 0.608110534843973, 'bagging_fraction': 0.7840531014805339, 'bagging_freq': 4, 'min_child_samples': 75}. Best is trial 8 with value: 0.9089595375722543.\n",
      "[I 2024-02-05 09:52:45,242] Trial 11 finished with value: 0.8798169556840078 and parameters: {'lambda_l1': 6.099006535330825, 'lambda_l2': 0.00438483044163546, 'num_leaves': 3, 'feature_fraction': 0.4171641007516335, 'bagging_fraction': 0.7694422248242601, 'bagging_freq': 7, 'min_child_samples': 19}. Best is trial 8 with value: 0.9089595375722543.\n",
      "[I 2024-02-05 09:52:48,612] Trial 12 finished with value: 0.9022157996146436 and parameters: {'lambda_l1': 0.031201059578367114, 'lambda_l2': 0.06191836613933346, 'num_leaves': 239, 'feature_fraction': 0.6019566265819386, 'bagging_fraction': 0.5601946437672218, 'bagging_freq': 6, 'min_child_samples': 30}. Best is trial 8 with value: 0.9089595375722543.\n",
      "[I 2024-02-05 09:52:50,315] Trial 13 finished with value: 0.9072736030828517 and parameters: {'lambda_l1': 9.737498588533892, 'lambda_l2': 0.0001653282123997987, 'num_leaves': 182, 'feature_fraction': 0.4288379911842937, 'bagging_fraction': 0.9794167452651843, 'bagging_freq': 5, 'min_child_samples': 37}. Best is trial 8 with value: 0.9089595375722543.\n",
      "[I 2024-02-05 09:52:53,586] Trial 14 finished with value: 0.9060693641618497 and parameters: {'lambda_l1': 0.01831028231559048, 'lambda_l2': 0.00012849617790740221, 'num_leaves': 113, 'feature_fraction': 0.5514815830108214, 'bagging_fraction': 0.7544846791129366, 'bagging_freq': 3, 'min_child_samples': 78}. Best is trial 8 with value: 0.9089595375722543.\n",
      "[I 2024-02-05 09:52:55,972] Trial 15 finished with value: 0.9034200385356455 and parameters: {'lambda_l1': 1.9618646337273142e-05, 'lambda_l2': 1.31299430222377e-08, 'num_leaves': 47, 'feature_fraction': 0.9006378355097535, 'bagging_fraction': 0.6049172463673441, 'bagging_freq': 6, 'min_child_samples': 33}. Best is trial 8 with value: 0.9089595375722543.\n",
      "[I 2024-02-05 09:52:59,670] Trial 16 finished with value: 0.9065510597302505 and parameters: {'lambda_l1': 0.4740410642277974, 'lambda_l2': 0.015936847132186974, 'num_leaves': 211, 'feature_fraction': 0.6309694611006726, 'bagging_fraction': 0.8412120337414722, 'bagging_freq': 5, 'min_child_samples': 6}. Best is trial 8 with value: 0.9089595375722543.\n",
      "[I 2024-02-05 09:53:01,876] Trial 17 finished with value: 0.9060693641618497 and parameters: {'lambda_l1': 1.3731338031115566e-08, 'lambda_l2': 0.14646846982487594, 'num_leaves': 154, 'feature_fraction': 0.5100068777956208, 'bagging_fraction': 0.4928215388466877, 'bagging_freq': 3, 'min_child_samples': 81}. Best is trial 8 with value: 0.9089595375722543.\n",
      "[I 2024-02-05 09:53:05,494] Trial 18 finished with value: 0.9063102119460501 and parameters: {'lambda_l1': 0.00023037850725026422, 'lambda_l2': 3.536087815674679e-05, 'num_leaves': 123, 'feature_fraction': 0.4093994198715807, 'bagging_fraction': 0.7167292045250233, 'bagging_freq': 2, 'min_child_samples': 44}. Best is trial 8 with value: 0.9089595375722543.\n",
      "[I 2024-02-05 09:53:11,175] Trial 19 finished with value: 0.9019749518304432 and parameters: {'lambda_l1': 2.9762988802196635e-06, 'lambda_l2': 1.3038690313201848e-07, 'num_leaves': 220, 'feature_fraction': 0.5575999355474852, 'bagging_fraction': 0.8250685966312573, 'bagging_freq': 6, 'min_child_samples': 20}. Best is trial 8 with value: 0.9089595375722543.\n",
      "[I 2024-02-05 09:53:14,298] Trial 20 finished with value: 0.9065510597302505 and parameters: {'lambda_l1': 0.003157198499967972, 'lambda_l2': 0.002022260267184315, 'num_leaves': 169, 'feature_fraction': 0.4733346228001331, 'bagging_fraction': 0.6956483538710228, 'bagging_freq': 4, 'min_child_samples': 68}. Best is trial 8 with value: 0.9089595375722543.\n",
      "[I 2024-02-05 09:53:18,101] Trial 21 finished with value: 0.8998073217726397 and parameters: {'lambda_l1': 2.5593007326907338e-05, 'lambda_l2': 0.2337822546421868, 'num_leaves': 168, 'feature_fraction': 0.7320744660423264, 'bagging_fraction': 0.4081398905372933, 'bagging_freq': 2, 'min_child_samples': 6}. Best is trial 8 with value: 0.9089595375722543.\n",
      "[I 2024-02-05 09:53:21,016] Trial 22 finished with value: 0.9019749518304432 and parameters: {'lambda_l1': 2.6214813210664486e-06, 'lambda_l2': 1.2809481583015874, 'num_leaves': 190, 'feature_fraction': 0.7883496882027698, 'bagging_fraction': 0.516194443957628, 'bagging_freq': 1, 'min_child_samples': 18}. Best is trial 8 with value: 0.9089595375722543.\n",
      "[I 2024-02-05 09:53:23,777] Trial 23 finished with value: 0.9063102119460501 and parameters: {'lambda_l1': 0.0003019092366641722, 'lambda_l2': 9.247587720972902, 'num_leaves': 137, 'feature_fraction': 0.8648303091593609, 'bagging_fraction': 0.5144116003149852, 'bagging_freq': 2, 'min_child_samples': 13}. Best is trial 8 with value: 0.9089595375722543.\n",
      "[I 2024-02-05 09:53:28,876] Trial 24 finished with value: 0.903179190751445 and parameters: {'lambda_l1': 5.7753488067194427e-08, 'lambda_l2': 2.7152322073635154e-05, 'num_leaves': 219, 'feature_fraction': 0.6693070696207704, 'bagging_fraction': 0.6224373574797892, 'bagging_freq': 3, 'min_child_samples': 26}. Best is trial 8 with value: 0.9089595375722543.\n",
      "[I 2024-02-05 09:53:30,605] Trial 25 finished with value: 0.9065510597302505 and parameters: {'lambda_l1': 0.8144612161868817, 'lambda_l2': 0.04223135629623801, 'num_leaves': 103, 'feature_fraction': 0.748476786325623, 'bagging_fraction': 0.4639034280345954, 'bagging_freq': 2, 'min_child_samples': 88}. Best is trial 8 with value: 0.9089595375722543.\n",
      "[I 2024-02-05 09:53:31,609] Trial 26 finished with value: 0.9048651252408478 and parameters: {'lambda_l1': 3.3685684447672443e-06, 'lambda_l2': 4.95182202882056e-07, 'num_leaves': 9, 'feature_fraction': 0.5625457011896411, 'bagging_fraction': 0.5515986128593262, 'bagging_freq': 1, 'min_child_samples': 41}. Best is trial 8 with value: 0.9089595375722543.\n",
      "[I 2024-02-05 09:53:35,884] Trial 27 finished with value: 0.8973988439306358 and parameters: {'lambda_l1': 0.03224836861435407, 'lambda_l2': 0.0003484640669596882, 'num_leaves': 177, 'feature_fraction': 0.8457877978277217, 'bagging_fraction': 0.6487550539569624, 'bagging_freq': 3, 'min_child_samples': 12}. Best is trial 8 with value: 0.9089595375722543.\n",
      "[I 2024-02-05 09:53:40,880] Trial 28 finished with value: 0.9024566473988439 and parameters: {'lambda_l1': 0.00010096839365871053, 'lambda_l2': 0.009571737691620896, 'num_leaves': 201, 'feature_fraction': 0.6526198746115319, 'bagging_fraction': 0.9439698526295867, 'bagging_freq': 4, 'min_child_samples': 26}. Best is trial 8 with value: 0.9089595375722543.\n",
      "[I 2024-02-05 09:53:44,162] Trial 29 finished with value: 0.9039017341040463 and parameters: {'lambda_l1': 6.066953212133811e-07, 'lambda_l2': 7.392602945552466e-07, 'num_leaves': 76, 'feature_fraction': 0.7123850942406916, 'bagging_fraction': 0.7134119067783998, 'bagging_freq': 3, 'min_child_samples': 65}. Best is trial 8 with value: 0.9089595375722543.\n",
      "[I 2024-02-05 09:53:47,408] Trial 30 finished with value: 0.9039017341040463 and parameters: {'lambda_l1': 0.0035334847974095524, 'lambda_l2': 4.184085784078871e-05, 'num_leaves': 234, 'feature_fraction': 0.7650223605977842, 'bagging_fraction': 0.545219655879239, 'bagging_freq': 2, 'min_child_samples': 45}. Best is trial 8 with value: 0.9089595375722543.\n",
      "[I 2024-02-05 09:53:49,349] Trial 31 finished with value: 0.9026974951830443 and parameters: {'lambda_l1': 4.863649425048326, 'lambda_l2': 7.633795079910725e-08, 'num_leaves': 188, 'feature_fraction': 0.4012903877285413, 'bagging_fraction': 0.9858980949335843, 'bagging_freq': 5, 'min_child_samples': 38}. Best is trial 8 with value: 0.9089595375722543.\n",
      "[I 2024-02-05 09:53:53,097] Trial 32 finished with value: 0.9058285163776493 and parameters: {'lambda_l1': 0.1624025200282244, 'lambda_l2': 0.0004732320154858949, 'num_leaves': 156, 'feature_fraction': 0.4354859811609102, 'bagging_fraction': 0.9857432603365603, 'bagging_freq': 6, 'min_child_samples': 37}. Best is trial 8 with value: 0.9089595375722543.\n",
      "[I 2024-02-05 09:53:55,741] Trial 33 finished with value: 0.9082369942196532 and parameters: {'lambda_l1': 2.166544458970134, 'lambda_l2': 2.4042448283919397e-06, 'num_leaves': 179, 'feature_fraction': 0.45845101506932917, 'bagging_fraction': 0.9324659426913583, 'bagging_freq': 5, 'min_child_samples': 24}. Best is trial 8 with value: 0.9089595375722543.\n",
      "[I 2024-02-05 09:53:57,998] Trial 34 finished with value: 0.9092003853564548 and parameters: {'lambda_l1': 2.131736862801285, 'lambda_l2': 1.8820751306031626e-06, 'num_leaves': 53, 'feature_fraction': 0.45844002522111127, 'bagging_fraction': 0.8948237517977241, 'bagging_freq': 7, 'min_child_samples': 25}. Best is trial 34 with value: 0.9092003853564548.\n",
      "[I 2024-02-05 09:54:00,000] Trial 35 finished with value: 0.9084778420038536 and parameters: {'lambda_l1': 1.719040428924358, 'lambda_l2': 1.4288021224207876e-06, 'num_leaves': 33, 'feature_fraction': 0.4643256023918377, 'bagging_fraction': 0.9179966795768784, 'bagging_freq': 7, 'min_child_samples': 24}. Best is trial 34 with value: 0.9092003853564548.\n",
      "[I 2024-02-05 09:54:02,218] Trial 36 finished with value: 0.9108863198458574 and parameters: {'lambda_l1': 1.3019828669773963, 'lambda_l2': 1.0378733814005926e-05, 'num_leaves': 43, 'feature_fraction': 0.5200508885969131, 'bagging_fraction': 0.8788385892118535, 'bagging_freq': 7, 'min_child_samples': 49}. Best is trial 36 with value: 0.9108863198458574.\n",
      "[I 2024-02-05 09:54:04,711] Trial 37 finished with value: 0.9084778420038536 and parameters: {'lambda_l1': 0.14675668993655064, 'lambda_l2': 1.1150884520379373e-05, 'num_leaves': 50, 'feature_fraction': 0.5243952089040166, 'bagging_fraction': 0.8752871167016979, 'bagging_freq': 7, 'min_child_samples': 49}. Best is trial 36 with value: 0.9108863198458574.\n",
      "[I 2024-02-05 09:54:06,557] Trial 38 finished with value: 0.9092003853564548 and parameters: {'lambda_l1': 0.46701873302377467, 'lambda_l2': 1.6225176786951735e-07, 'num_leaves': 23, 'feature_fraction': 0.5295715240895894, 'bagging_fraction': 0.9050318570187567, 'bagging_freq': 7, 'min_child_samples': 60}. Best is trial 36 with value: 0.9108863198458574.\n",
      "[I 2024-02-05 09:54:08,251] Trial 39 finished with value: 0.9060693641618497 and parameters: {'lambda_l1': 0.48887526511396007, 'lambda_l2': 2.165776480173683e-07, 'num_leaves': 22, 'feature_fraction': 0.5852912996066724, 'bagging_fraction': 0.8032456286690451, 'bagging_freq': 7, 'min_child_samples': 59}. Best is trial 36 with value: 0.9108863198458574.\n",
      "[I 2024-02-05 09:54:10,991] Trial 40 finished with value: 0.9092003853564548 and parameters: {'lambda_l1': 0.010926719383782585, 'lambda_l2': 3.561419317503329e-08, 'num_leaves': 55, 'feature_fraction': 0.5280536987573068, 'bagging_fraction': 0.8939672410816233, 'bagging_freq': 7, 'min_child_samples': 71}. Best is trial 36 with value: 0.9108863198458574.\n",
      "[I 2024-02-05 09:54:13,771] Trial 41 finished with value: 0.9089595375722543 and parameters: {'lambda_l1': 0.07454329776719573, 'lambda_l2': 4.462576121488826e-08, 'num_leaves': 62, 'feature_fraction': 0.5294194831129171, 'bagging_fraction': 0.9035087236610436, 'bagging_freq': 7, 'min_child_samples': 71}. Best is trial 36 with value: 0.9108863198458574.\n",
      "[I 2024-02-05 09:54:16,105] Trial 42 finished with value: 0.9065510597302505 and parameters: {'lambda_l1': 0.009490060685413299, 'lambda_l2': 2.5930025398915715e-07, 'num_leaves': 39, 'feature_fraction': 0.49793677757604093, 'bagging_fraction': 0.8414982936159748, 'bagging_freq': 7, 'min_child_samples': 83}. Best is trial 36 with value: 0.9108863198458574.\n",
      "[I 2024-02-05 09:54:17,584] Trial 43 finished with value: 0.9063102119460501 and parameters: {'lambda_l1': 2.1737174937805914, 'lambda_l2': 1.572359166657545e-08, 'num_leaves': 16, 'feature_fraction': 0.5798087730910609, 'bagging_fraction': 0.8795917241896837, 'bagging_freq': 6, 'min_child_samples': 61}. Best is trial 36 with value: 0.9108863198458574.\n",
      "[I 2024-02-05 09:54:20,372] Trial 44 finished with value: 0.9092003853564548 and parameters: {'lambda_l1': 0.07072237281920087, 'lambda_l2': 8.078713772940128e-06, 'num_leaves': 57, 'feature_fraction': 0.5286653111528977, 'bagging_fraction': 0.9610742190032169, 'bagging_freq': 7, 'min_child_samples': 72}. Best is trial 36 with value: 0.9108863198458574.\n",
      "[I 2024-02-05 09:54:23,540] Trial 45 finished with value: 0.9051059730250481 and parameters: {'lambda_l1': 0.07371435551741966, 'lambda_l2': 1.0352979753939815e-05, 'num_leaves': 89, 'feature_fraction': 0.5385691722478427, 'bagging_fraction': 0.9646519422745189, 'bagging_freq': 6, 'min_child_samples': 73}. Best is trial 36 with value: 0.9108863198458574.\n",
      "[I 2024-02-05 09:54:26,107] Trial 46 finished with value: 0.9096820809248555 and parameters: {'lambda_l1': 0.5065799201239025, 'lambda_l2': 1.1677690806322495e-06, 'num_leaves': 61, 'feature_fraction': 0.4514914441047197, 'bagging_fraction': 0.9040357665935073, 'bagging_freq': 7, 'min_child_samples': 54}. Best is trial 36 with value: 0.9108863198458574.\n",
      "[I 2024-02-05 09:54:28,910] Trial 47 finished with value: 0.9079961464354528 and parameters: {'lambda_l1': 0.9004689506457786, 'lambda_l2': 1.2723553494423744e-06, 'num_leaves': 73, 'feature_fraction': 0.44640670606887256, 'bagging_fraction': 0.8972286944888778, 'bagging_freq': 7, 'min_child_samples': 54}. Best is trial 36 with value: 0.9108863198458574.\n",
      "[I 2024-02-05 09:54:31,084] Trial 48 finished with value: 0.9070327552986512 and parameters: {'lambda_l1': 0.22606610355162315, 'lambda_l2': 4.114253026804927e-08, 'num_leaves': 36, 'feature_fraction': 0.4906239150080173, 'bagging_fraction': 0.8513865650457346, 'bagging_freq': 6, 'min_child_samples': 49}. Best is trial 36 with value: 0.9108863198458574.\n",
      "[I 2024-02-05 09:54:34,313] Trial 49 finished with value: 0.903179190751445 and parameters: {'lambda_l1': 0.0011208599449789415, 'lambda_l2': 1.1561958431060764e-07, 'num_leaves': 89, 'feature_fraction': 0.6149123137156177, 'bagging_fraction': 0.809763638082884, 'bagging_freq': 7, 'min_child_samples': 65}. Best is trial 36 with value: 0.9108863198458574.\n",
      "[I 2024-02-05 09:54:36,275] Trial 50 finished with value: 0.9082369942196532 and parameters: {'lambda_l1': 3.084930927108282, 'lambda_l2': 3.058052852886986e-06, 'num_leaves': 49, 'feature_fraction': 0.4881338016365725, 'bagging_fraction': 0.8576463608784499, 'bagging_freq': 6, 'min_child_samples': 56}. Best is trial 36 with value: 0.9108863198458574.\n",
      "[I 2024-02-05 09:54:38,999] Trial 51 finished with value: 0.9063102119460501 and parameters: {'lambda_l1': 0.31534563298461676, 'lambda_l2': 7.024955343468387e-06, 'num_leaves': 62, 'feature_fraction': 0.5122820041284332, 'bagging_fraction': 0.9488294152598477, 'bagging_freq': 7, 'min_child_samples': 77}. Best is trial 36 with value: 0.9108863198458574.\n",
      "[I 2024-02-05 09:54:41,633] Trial 52 finished with value: 0.9099229287090559 and parameters: {'lambda_l1': 0.06936835085586143, 'lambda_l2': 1.3206827317240864e-06, 'num_leaves': 56, 'feature_fraction': 0.43627303971092, 'bagging_fraction': 0.9208075169129786, 'bagging_freq': 7, 'min_child_samples': 70}. Best is trial 36 with value: 0.9108863198458574.\n",
      "[I 2024-02-05 09:54:43,684] Trial 53 finished with value: 0.9051059730250481 and parameters: {'lambda_l1': 0.010475428486149166, 'lambda_l2': 1.0636447090208319e-06, 'num_leaves': 28, 'feature_fraction': 0.4338515618550076, 'bagging_fraction': 0.9132984077219832, 'bagging_freq': 7, 'min_child_samples': 69}. Best is trial 36 with value: 0.9108863198458574.\n",
      "[I 2024-02-05 09:54:45,914] Trial 54 finished with value: 0.9089595375722543 and parameters: {'lambda_l1': 0.8612554594319627, 'lambda_l2': 2.729301061026824e-07, 'num_leaves': 44, 'feature_fraction': 0.4636807210073831, 'bagging_fraction': 0.8864987338417548, 'bagging_freq': 7, 'min_child_samples': 62}. Best is trial 36 with value: 0.9108863198458574.\n",
      "[I 2024-02-05 09:54:47,547] Trial 55 finished with value: 0.9048651252408478 and parameters: {'lambda_l1': 9.96964554922392, 'lambda_l2': 7.373331489310417e-08, 'num_leaves': 70, 'feature_fraction': 0.9744298730450178, 'bagging_fraction': 0.9235503411309375, 'bagging_freq': 6, 'min_child_samples': 50}. Best is trial 36 with value: 0.9108863198458574.\n",
      "[I 2024-02-05 09:54:49,290] Trial 56 finished with value: 0.905587668593449 and parameters: {'lambda_l1': 0.035088472765644994, 'lambda_l2': 1.1178781666072694e-08, 'num_leaves': 22, 'feature_fraction': 0.4446249451967789, 'bagging_fraction': 0.7544292316881225, 'bagging_freq': 7, 'min_child_samples': 58}. Best is trial 36 with value: 0.9108863198458574.\n",
      "[I 2024-02-05 09:54:50,133] Trial 57 finished with value: 0.8836705202312138 and parameters: {'lambda_l1': 1.2338361215789742, 'lambda_l2': 4.7262377618948433e-07, 'num_leaves': 3, 'feature_fraction': 0.42179400487183866, 'bagging_fraction': 0.8222351260863061, 'bagging_freq': 6, 'min_child_samples': 66}. Best is trial 36 with value: 0.9108863198458574.\n",
      "[I 2024-02-05 09:54:52,991] Trial 58 finished with value: 0.9058285163776493 and parameters: {'lambda_l1': 0.4757163734783909, 'lambda_l2': 2.0251644136897822e-05, 'num_leaves': 82, 'feature_fraction': 0.4771980429332527, 'bagging_fraction': 0.8622190493024773, 'bagging_freq': 7, 'min_child_samples': 46}. Best is trial 36 with value: 0.9108863198458574.\n",
      "[I 2024-02-05 09:54:54,529] Trial 59 finished with value: 0.9058285163776493 and parameters: {'lambda_l1': 4.890636152309402, 'lambda_l2': 8.988953627941013e-05, 'num_leaves': 113, 'feature_fraction': 0.5525611971504991, 'bagging_fraction': 0.78155264466989, 'bagging_freq': 6, 'min_child_samples': 87}. Best is trial 36 with value: 0.9108863198458574.\n",
      "[I 2024-02-05 09:54:57,265] Trial 60 finished with value: 0.9065510597302505 and parameters: {'lambda_l1': 0.11041721501620567, 'lambda_l2': 2.273782332208095e-06, 'num_leaves': 56, 'feature_fraction': 0.5038877724638253, 'bagging_fraction': 0.9626527386239676, 'bagging_freq': 7, 'min_child_samples': 32}. Best is trial 36 with value: 0.9108863198458574.\n",
      "[I 2024-02-05 09:55:00,381] Trial 61 finished with value: 0.9082369942196532 and parameters: {'lambda_l1': 0.07026437956929392, 'lambda_l2': 3.9532096456295935e-06, 'num_leaves': 57, 'feature_fraction': 0.5228271719955526, 'bagging_fraction': 0.9970558263872964, 'bagging_freq': 7, 'min_child_samples': 74}. Best is trial 36 with value: 0.9108863198458574.\n",
      "[I 2024-02-05 09:55:02,790] Trial 62 finished with value: 0.9075144508670521 and parameters: {'lambda_l1': 0.011967459590920004, 'lambda_l2': 2.9798946131438745e-08, 'num_leaves': 42, 'feature_fraction': 0.5663879041514878, 'bagging_fraction': 0.9547619941656482, 'bagging_freq': 7, 'min_child_samples': 69}. Best is trial 36 with value: 0.9108863198458574.\n",
      "[I 2024-02-05 09:55:05,485] Trial 63 finished with value: 0.9077552986512524 and parameters: {'lambda_l1': 0.3082684638796611, 'lambda_l2': 1.5050559573191513e-05, 'num_leaves': 65, 'feature_fraction': 0.4800654978092285, 'bagging_fraction': 0.8997797959076105, 'bagging_freq': 7, 'min_child_samples': 78}. Best is trial 36 with value: 0.9108863198458574.\n",
      "[I 2024-02-05 09:55:07,501] Trial 64 finished with value: 0.9065510597302505 and parameters: {'lambda_l1': 0.045777329956831224, 'lambda_l2': 7.813967656166398e-05, 'num_leaves': 30, 'feature_fraction': 0.5398329881979994, 'bagging_fraction': 0.9328517300170203, 'bagging_freq': 7, 'min_child_samples': 53}. Best is trial 36 with value: 0.9108863198458574.\n",
      "[I 2024-02-05 09:55:10,291] Trial 65 finished with value: 0.9065510597302505 and parameters: {'lambda_l1': 0.00444011736894573, 'lambda_l2': 7.614007778497227e-06, 'num_leaves': 54, 'feature_fraction': 0.634557904086179, 'bagging_fraction': 0.9691432748592839, 'bagging_freq': 6, 'min_child_samples': 61}. Best is trial 36 with value: 0.9108863198458574.\n",
      "[I 2024-02-05 09:55:13,276] Trial 66 finished with value: 0.9067919075144508 and parameters: {'lambda_l1': 0.019278911136288036, 'lambda_l2': 1.6339027060831856e-07, 'num_leaves': 86, 'feature_fraction': 0.4144577462032039, 'bagging_fraction': 0.8906602285193062, 'bagging_freq': 7, 'min_child_samples': 93}. Best is trial 36 with value: 0.9108863198458574.\n",
      "[I 2024-02-05 09:55:16,395] Trial 67 finished with value: 0.9039017341040463 and parameters: {'lambda_l1': 0.22118302595097522, 'lambda_l2': 5.774143995998034e-07, 'num_leaves': 102, 'feature_fraction': 0.6909350749419179, 'bagging_fraction': 0.9158031867245721, 'bagging_freq': 7, 'min_child_samples': 56}. Best is trial 36 with value: 0.9108863198458574.\n",
      "[I 2024-02-05 09:55:18,049] Trial 68 finished with value: 0.9072736030828517 and parameters: {'lambda_l1': 0.0014393559134188373, 'lambda_l2': 1.8384439452503557e-06, 'num_leaves': 16, 'feature_fraction': 0.4586262818166753, 'bagging_fraction': 0.9439206320155428, 'bagging_freq': 6, 'min_child_samples': 80}. Best is trial 36 with value: 0.9108863198458574.\n",
      "[I 2024-02-05 09:55:20,397] Trial 69 finished with value: 0.9063102119460501 and parameters: {'lambda_l1': 1.2155013739559208, 'lambda_l2': 4.593927404445538e-06, 'num_leaves': 74, 'feature_fraction': 0.5102339285065776, 'bagging_fraction': 0.8680414590000763, 'bagging_freq': 7, 'min_child_samples': 72}. Best is trial 36 with value: 0.9108863198458574.\n",
      "[I 2024-02-05 09:55:22,075] Trial 70 finished with value: 0.9053468208092486 and parameters: {'lambda_l1': 3.9038547542331115, 'lambda_l2': 8.792989810376679e-07, 'num_leaves': 38, 'feature_fraction': 0.5783057614299957, 'bagging_fraction': 0.8367799516919895, 'bagging_freq': 6, 'min_child_samples': 63}. Best is trial 36 with value: 0.9108863198458574.\n",
      "[I 2024-02-05 09:55:23,272] Trial 71 finished with value: 0.9082369942196532 and parameters: {'lambda_l1': 4.015276397466624e-08, 'lambda_l2': 4.020561632284519e-07, 'num_leaves': 10, 'feature_fraction': 0.5982504230147662, 'bagging_fraction': 0.6706967165563192, 'bagging_freq': 5, 'min_child_samples': 85}. Best is trial 36 with value: 0.9108863198458574.\n",
      "[I 2024-02-05 09:55:25,620] Trial 72 finished with value: 0.9041425818882466 and parameters: {'lambda_l1': 5.497778170142736e-05, 'lambda_l2': 5.864657457810481e-08, 'num_leaves': 45, 'feature_fraction': 0.5467365723997664, 'bagging_fraction': 0.6143706230271813, 'bagging_freq': 7, 'min_child_samples': 89}. Best is trial 36 with value: 0.9108863198458574.\n",
      "[I 2024-02-05 09:55:27,391] Trial 73 finished with value: 0.9065510597302505 and parameters: {'lambda_l1': 0.655346991769497, 'lambda_l2': 1.1734942771712352e-07, 'num_leaves': 20, 'feature_fraction': 0.4463217054313906, 'bagging_fraction': 0.9280153998652483, 'bagging_freq': 4, 'min_child_samples': 93}. Best is trial 36 with value: 0.9108863198458574.\n",
      "[I 2024-02-05 09:55:29,443] Trial 74 finished with value: 0.9053468208092486 and parameters: {'lambda_l1': 0.0946252042434908, 'lambda_l2': 4.304299904427314e-05, 'num_leaves': 29, 'feature_fraction': 0.4022271353280033, 'bagging_fraction': 0.8985993607315079, 'bagging_freq': 7, 'min_child_samples': 100}. Best is trial 36 with value: 0.9108863198458574.\n",
      "[I 2024-02-05 09:55:32,043] Trial 75 finished with value: 0.9048651252408478 and parameters: {'lambda_l1': 2.5483559231060086e-07, 'lambda_l2': 7.995819741334635e-07, 'num_leaves': 52, 'feature_fraction': 0.5216041988087332, 'bagging_fraction': 0.9808601237747667, 'bagging_freq': 1, 'min_child_samples': 81}. Best is trial 36 with value: 0.9108863198458574.\n",
      "[I 2024-02-05 09:55:34,473] Trial 76 finished with value: 0.9022157996146436 and parameters: {'lambda_l1': 0.3554903250739692, 'lambda_l2': 2.5732817727116902e-08, 'num_leaves': 66, 'feature_fraction': 0.9417955708203757, 'bagging_fraction': 0.6464196392183906, 'bagging_freq': 7, 'min_child_samples': 66}. Best is trial 36 with value: 0.9108863198458574.\n",
      "[I 2024-02-05 09:55:35,781] Trial 77 finished with value: 0.9053468208092486 and parameters: {'lambda_l1': 0.0005939495437984615, 'lambda_l2': 3.012621024233414e-07, 'num_leaves': 11, 'feature_fraction': 0.49074467252624965, 'bagging_fraction': 0.7315434825221517, 'bagging_freq': 7, 'min_child_samples': 75}. Best is trial 36 with value: 0.9108863198458574.\n",
      "[I 2024-02-05 09:55:38,606] Trial 78 finished with value: 0.9075144508670521 and parameters: {'lambda_l1': 0.006422080773691427, 'lambda_l2': 4.99793420446539e-06, 'num_leaves': 60, 'feature_fraction': 0.5676003330274765, 'bagging_fraction': 0.87502355253736, 'bagging_freq': 7, 'min_child_samples': 69}. Best is trial 36 with value: 0.9108863198458574.\n",
      "[I 2024-02-05 09:55:40,519] Trial 79 finished with value: 0.9072736030828517 and parameters: {'lambda_l1': 0.024939434622693445, 'lambda_l2': 1.667837581412862e-06, 'num_leaves': 32, 'feature_fraction': 0.46914920074087774, 'bagging_fraction': 0.595447577059376, 'bagging_freq': 7, 'min_child_samples': 42}. Best is trial 36 with value: 0.9108863198458574.\n",
      "[I 2024-02-05 09:55:43,673] Trial 80 finished with value: 0.904383429672447 and parameters: {'lambda_l1': 1.2338818981029432e-06, 'lambda_l2': 9.457033203310856e-08, 'num_leaves': 78, 'feature_fraction': 0.6107682665022274, 'bagging_fraction': 0.573018545267425, 'bagging_freq': 4, 'min_child_samples': 59}. Best is trial 36 with value: 0.9108863198458574.\n",
      "[I 2024-02-05 09:55:46,090] Trial 81 finished with value: 0.9065510597302505 and parameters: {'lambda_l1': 0.12055839118683269, 'lambda_l2': 4.5144610185934214e-08, 'num_leaves': 47, 'feature_fraction': 0.5333651286604153, 'bagging_fraction': 0.9105218217167205, 'bagging_freq': 7, 'min_child_samples': 72}. Best is trial 36 with value: 0.9108863198458574.\n",
      "[I 2024-02-05 09:55:48,995] Trial 82 finished with value: 0.9058285163776493 and parameters: {'lambda_l1': 0.045783461461756936, 'lambda_l2': 2.3063828207504287e-08, 'num_leaves': 64, 'feature_fraction': 0.5254613553816236, 'bagging_fraction': 0.9015187449254202, 'bagging_freq': 7, 'min_child_samples': 71}. Best is trial 36 with value: 0.9108863198458574.\n",
      "[I 2024-02-05 09:55:51,079] Trial 83 finished with value: 0.9053468208092486 and parameters: {'lambda_l1': 2.269373206863592, 'lambda_l2': 2.0321072081231587e-07, 'num_leaves': 40, 'feature_fraction': 0.5042246185323849, 'bagging_fraction': 0.9348435951332791, 'bagging_freq': 7, 'min_child_samples': 76}. Best is trial 36 with value: 0.9108863198458574.\n",
      "[I 2024-02-05 09:55:54,325] Trial 84 finished with value: 0.9067919075144508 and parameters: {'lambda_l1': 0.05745548713086969, 'lambda_l2': 6.708278503670949e-07, 'num_leaves': 97, 'feature_fraction': 0.5867870842068419, 'bagging_fraction': 0.8493994939067971, 'bagging_freq': 7, 'min_child_samples': 51}. Best is trial 36 with value: 0.9108863198458574.\n",
      "[I 2024-02-05 09:55:56,126] Trial 85 finished with value: 0.9048651252408478 and parameters: {'lambda_l1': 5.637086035438171e-06, 'lambda_l2': 3.916468816160537e-07, 'num_leaves': 25, 'feature_fraction': 0.4521359667873604, 'bagging_fraction': 0.6797207804731668, 'bagging_freq': 6, 'min_child_samples': 64}. Best is trial 36 with value: 0.9108863198458574.\n",
      "[I 2024-02-05 09:55:58,886] Trial 86 finished with value: 0.9065510597302505 and parameters: {'lambda_l1': 0.16275098033309524, 'lambda_l2': 1.7183658083585274e-07, 'num_leaves': 70, 'feature_fraction': 0.43029300001022064, 'bagging_fraction': 0.8802632798483663, 'bagging_freq': 7, 'min_child_samples': 70}. Best is trial 36 with value: 0.9108863198458574.\n",
      "[I 2024-02-05 09:55:59,673] Trial 87 finished with value: 0.8415221579961464 and parameters: {'lambda_l1': 1.6180768610125225, 'lambda_l2': 2.3553908360911904e-06, 'num_leaves': 2, 'feature_fraction': 0.4746180390932777, 'bagging_fraction': 0.9473270555606834, 'bagging_freq': 3, 'min_child_samples': 83}. Best is trial 36 with value: 0.9108863198458574.\n",
      "[I 2024-02-05 09:56:01,583] Trial 88 finished with value: 0.9087186897880539 and parameters: {'lambda_l1': 0.6778584438187958, 'lambda_l2': 1.1742449552153613e-05, 'num_leaves': 35, 'feature_fraction': 0.4907360520304883, 'bagging_fraction': 0.6368361923569958, 'bagging_freq': 6, 'min_child_samples': 67}. Best is trial 36 with value: 0.9108863198458574.\n",
      "[I 2024-02-05 09:56:04,467] Trial 89 finished with value: 0.9079961464354528 and parameters: {'lambda_l1': 0.26736542633779403, 'lambda_l2': 6.11084714577265e-08, 'num_leaves': 56, 'feature_fraction': 0.6314477304421219, 'bagging_fraction': 0.9113816406402404, 'bagging_freq': 2, 'min_child_samples': 48}. Best is trial 36 with value: 0.9108863198458574.\n",
      "[I 2024-02-05 09:56:06,105] Trial 90 finished with value: 0.9092003853564548 and parameters: {'lambda_l1': 0.015888448165406147, 'lambda_l2': 1.7085792619713526e-08, 'num_leaves': 17, 'feature_fraction': 0.5560704756512171, 'bagging_fraction': 0.9980445280697751, 'bagging_freq': 7, 'min_child_samples': 16}. Best is trial 36 with value: 0.9108863198458574.\n",
      "[I 2024-02-05 09:56:07,700] Trial 91 finished with value: 0.9067919075144508 and parameters: {'lambda_l1': 0.01507164548754542, 'lambda_l2': 2.8297828256935802e-08, 'num_leaves': 17, 'feature_fraction': 0.5549112361114189, 'bagging_fraction': 0.9629055434246493, 'bagging_freq': 7, 'min_child_samples': 14}. Best is trial 36 with value: 0.9108863198458574.\n",
      "[I 2024-02-05 09:56:10,238] Trial 92 finished with value: 0.9075144508670521 and parameters: {'lambda_l1': 0.02899027030306751, 'lambda_l2': 1.822132013350521e-08, 'num_leaves': 48, 'feature_fraction': 0.5356933201950156, 'bagging_fraction': 0.9877386402783107, 'bagging_freq': 7, 'min_child_samples': 21}. Best is trial 36 with value: 0.9108863198458574.\n",
      "[I 2024-02-05 09:56:11,999] Trial 93 finished with value: 0.9067919075144508 and parameters: {'lambda_l1': 7.132459733708193, 'lambda_l2': 4.327452488285428e-08, 'num_leaves': 61, 'feature_fraction': 0.5671516658668299, 'bagging_fraction': 0.9748156160195166, 'bagging_freq': 7, 'min_child_samples': 8}. Best is trial 36 with value: 0.9108863198458574.\n",
      "[I 2024-02-05 09:56:13,976] Trial 94 finished with value: 0.9096820809248555 and parameters: {'lambda_l1': 0.007762487981204893, 'lambda_l2': 1.141525703839257e-08, 'num_leaves': 26, 'feature_fraction': 0.5969132290849808, 'bagging_fraction': 0.996705595935735, 'bagging_freq': 7, 'min_child_samples': 54}. Best is trial 36 with value: 0.9108863198458574.\n",
      "[I 2024-02-05 09:56:15,500] Trial 95 finished with value: 0.9072736030828517 and parameters: {'lambda_l1': 0.005487584175060385, 'lambda_l2': 1.1955035894461295e-06, 'num_leaves': 12, 'feature_fraction': 0.514309966249199, 'bagging_fraction': 0.9928490876978874, 'bagging_freq': 7, 'min_child_samples': 55}. Best is trial 36 with value: 0.9108863198458574.\n",
      "[I 2024-02-05 09:56:17,323] Trial 96 finished with value: 0.9087186897880539 and parameters: {'lambda_l1': 0.00015632447452431587, 'lambda_l2': 1.2944539071584417e-08, 'num_leaves': 23, 'feature_fraction': 0.5920314471736863, 'bagging_fraction': 0.9986964455286658, 'bagging_freq': 6, 'min_child_samples': 14}. Best is trial 36 with value: 0.9108863198458574.\n",
      "[I 2024-02-05 09:56:18,428] Trial 97 finished with value: 0.9063102119460501 and parameters: {'lambda_l1': 0.002804081657590092, 'lambda_l2': 3.4218467532960813e-06, 'num_leaves': 6, 'feature_fraction': 0.6616030261345156, 'bagging_fraction': 0.9267197165567642, 'bagging_freq': 7, 'min_child_samples': 17}. Best is trial 36 with value: 0.9108863198458574.\n",
      "[I 2024-02-05 09:56:20,648] Trial 98 finished with value: 0.9099229287090559 and parameters: {'lambda_l1': 0.001836213942988637, 'lambda_l2': 1.1135936986672654e-08, 'num_leaves': 35, 'feature_fraction': 0.6178000697231254, 'bagging_fraction': 0.9542868485668227, 'bagging_freq': 7, 'min_child_samples': 28}. Best is trial 36 with value: 0.9108863198458574.\n",
      "[I 2024-02-05 09:56:23,059] Trial 99 finished with value: 0.9048651252408478 and parameters: {'lambda_l1': 0.0014019260637789979, 'lambda_l2': 1.6260198528432587e-08, 'num_leaves': 42, 'feature_fraction': 0.6397399828278036, 'bagging_fraction': 0.9556009126933531, 'bagging_freq': 7, 'min_child_samples': 22}. Best is trial 36 with value: 0.9108863198458574.\n",
      "[I 2024-02-05 09:56:25,312] Trial 100 finished with value: 0.9104046242774566 and parameters: {'lambda_l1': 0.008072983437709057, 'lambda_l2': 0.0009662408062373543, 'num_leaves': 34, 'feature_fraction': 0.5737257956079808, 'bagging_fraction': 0.9772540458249267, 'bagging_freq': 7, 'min_child_samples': 34}. Best is trial 36 with value: 0.9108863198458574.\n",
      "[I 2024-02-05 09:56:27,343] Trial 101 finished with value: 0.9077552986512524 and parameters: {'lambda_l1': 0.007606908733545961, 'lambda_l2': 0.0006392072841625825, 'num_leaves': 28, 'feature_fraction': 0.6133811564540071, 'bagging_fraction': 0.9683933056205912, 'bagging_freq': 7, 'min_child_samples': 30}. Best is trial 36 with value: 0.9108863198458574.\n",
      "[I 2024-02-05 09:56:29,563] Trial 102 finished with value: 0.9082369942196532 and parameters: {'lambda_l1': 0.0007255327502795048, 'lambda_l2': 0.0002195485011785226, 'num_leaves': 35, 'feature_fraction': 0.5744183119303483, 'bagging_fraction': 0.942158370986841, 'bagging_freq': 7, 'min_child_samples': 35}. Best is trial 36 with value: 0.9108863198458574.\n",
      "[I 2024-02-05 09:56:32,194] Trial 103 finished with value: 0.9058285163776493 and parameters: {'lambda_l1': 0.002112941573053002, 'lambda_l2': 0.003434578745956021, 'num_leaves': 51, 'feature_fraction': 0.5516519359438425, 'bagging_fraction': 0.9804960814984672, 'bagging_freq': 7, 'min_child_samples': 28}. Best is trial 36 with value: 0.9108863198458574.\n",
      "[I 2024-02-05 09:56:33,962] Trial 104 finished with value: 0.9087186897880539 and parameters: {'lambda_l1': 0.014604982097862504, 'lambda_l2': 1.0496922458786004e-08, 'num_leaves': 19, 'feature_fraction': 0.602512245262972, 'bagging_fraction': 0.9590052747776233, 'bagging_freq': 7, 'min_child_samples': 39}. Best is trial 36 with value: 0.9108863198458574.\n",
      "[I 2024-02-05 09:56:36,363] Trial 105 finished with value: 0.9041425818882466 and parameters: {'lambda_l1': 0.004260754008836538, 'lambda_l2': 0.0016354587061156295, 'num_leaves': 38, 'feature_fraction': 0.5431641006185977, 'bagging_fraction': 0.8902681892251415, 'bagging_freq': 7, 'min_child_samples': 29}. Best is trial 36 with value: 0.9108863198458574.\n",
      "[I 2024-02-05 09:56:38,868] Trial 106 finished with value: 0.9053468208092486 and parameters: {'lambda_l1': 0.022912200735318484, 'lambda_l2': 0.0010697947355457387, 'num_leaves': 44, 'feature_fraction': 0.6196357371615654, 'bagging_fraction': 0.9418679673788949, 'bagging_freq': 7, 'min_child_samples': 33}. Best is trial 36 with value: 0.9108863198458574.\n",
      "[I 2024-02-05 09:56:40,838] Trial 107 finished with value: 0.9060693641618497 and parameters: {'lambda_l1': 0.009127875286888885, 'lambda_l2': 3.062503138256802e-08, 'num_leaves': 26, 'feature_fraction': 0.6793387002921393, 'bagging_fraction': 0.9759348601708341, 'bagging_freq': 6, 'min_child_samples': 17}. Best is trial 36 with value: 0.9108863198458574.\n",
      "[I 2024-02-05 09:56:43,062] Trial 108 finished with value: 0.9058285163776493 and parameters: {'lambda_l1': 0.002434519099038934, 'lambda_l2': 8.435511515366354e-08, 'num_leaves': 34, 'feature_fraction': 0.4224354093225993, 'bagging_fraction': 0.9270131274531055, 'bagging_freq': 7, 'min_child_samples': 27}. Best is trial 36 with value: 0.9108863198458574.\n",
      "[I 2024-02-05 09:56:45,643] Trial 109 finished with value: 0.9082369942196532 and parameters: {'lambda_l1': 0.4350080051881936, 'lambda_l2': 2.2096292745573744e-05, 'num_leaves': 55, 'feature_fraction': 0.49747958162351624, 'bagging_fraction': 0.9165954971133522, 'bagging_freq': 7, 'min_child_samples': 47}. Best is trial 36 with value: 0.9108863198458574.\n",
      "[I 2024-02-05 09:56:47,253] Trial 110 finished with value: 0.9070327552986512 and parameters: {'lambda_l1': 2.9673933309532265, 'lambda_l2': 7.941038493246057e-06, 'num_leaves': 15, 'feature_fraction': 0.5145941546901633, 'bagging_fraction': 0.9524286226786446, 'bagging_freq': 7, 'min_child_samples': 43}. Best is trial 36 with value: 0.9108863198458574.\n",
      "[I 2024-02-05 09:56:48,463] Trial 111 finished with value: 0.9060693641618497 and parameters: {'lambda_l1': 0.04203720243161625, 'lambda_l2': 1.9192205783852938e-08, 'num_leaves': 7, 'feature_fraction': 0.5950462135310556, 'bagging_fraction': 0.9906672484803996, 'bagging_freq': 7, 'min_child_samples': 52}. Best is trial 36 with value: 0.9108863198458574.\n",
      "[I 2024-02-05 09:56:50,515] Trial 112 finished with value: 0.9063102119460501 and parameters: {'lambda_l1': 0.011843605883672581, 'lambda_l2': 1.0115057015920763e-08, 'num_leaves': 31, 'feature_fraction': 0.5786447109974489, 'bagging_fraction': 0.8599356155566491, 'bagging_freq': 7, 'min_child_samples': 60}. Best is trial 36 with value: 0.9108863198458574.\n",
      "[I 2024-02-05 09:56:52,331] Trial 113 finished with value: 0.9089595375722543 and parameters: {'lambda_l1': 0.006011670134051403, 'lambda_l2': 1.1939548397112833e-07, 'num_leaves': 22, 'feature_fraction': 0.5593471494394862, 'bagging_fraction': 0.9997006793914811, 'bagging_freq': 7, 'min_child_samples': 24}. Best is trial 36 with value: 0.9108863198458574.\n",
      "[I 2024-02-05 09:56:54,650] Trial 114 finished with value: 0.9058285163776493 and parameters: {'lambda_l1': 1.1173509469975973, 'lambda_l2': 1.5152447380912547e-06, 'num_leaves': 50, 'feature_fraction': 0.5469588852150005, 'bagging_fraction': 0.9703361592727717, 'bagging_freq': 7, 'min_child_samples': 57}. Best is trial 36 with value: 0.9108863198458574.\n",
      "[I 2024-02-05 09:56:57,900] Trial 115 finished with value: 0.9058285163776493 and parameters: {'lambda_l1': 0.08187618034009896, 'lambda_l2': 0.010585418550460027, 'num_leaves': 128, 'feature_fraction': 0.622025499325159, 'bagging_fraction': 0.8859661489040466, 'bagging_freq': 1, 'min_child_samples': 35}. Best is trial 36 with value: 0.9108863198458574.\n",
      "[I 2024-02-05 09:57:01,010] Trial 116 finished with value: 0.9075144508670521 and parameters: {'lambda_l1': 0.0007694243341460592, 'lambda_l2': 3.90497786289002e-08, 'num_leaves': 70, 'feature_fraction': 0.6415359652650009, 'bagging_fraction': 0.9049023859346853, 'bagging_freq': 4, 'min_child_samples': 53}. Best is trial 36 with value: 0.9108863198458574.\n",
      "[I 2024-02-05 09:57:03,419] Trial 117 finished with value: 0.9072736030828517 and parameters: {'lambda_l1': 0.019708017992814176, 'lambda_l2': 2.88363031130095e-07, 'num_leaves': 41, 'feature_fraction': 0.5722896753367473, 'bagging_fraction': 0.936545588660591, 'bagging_freq': 2, 'min_child_samples': 11}. Best is trial 36 with value: 0.9108863198458574.\n",
      "[I 2024-02-05 09:57:04,722] Trial 118 finished with value: 0.9072736030828517 and parameters: {'lambda_l1': 0.00041316504474013744, 'lambda_l2': 5.578724904575331e-07, 'num_leaves': 14, 'feature_fraction': 0.43894872456388523, 'bagging_fraction': 0.5357961439532467, 'bagging_freq': 7, 'min_child_samples': 78}. Best is trial 36 with value: 0.9108863198458574.\n",
      "[I 2024-02-05 09:57:06,876] Trial 119 finished with value: 0.9070327552986512 and parameters: {'lambda_l1': 0.18786787172760147, 'lambda_l2': 1.0674528335316579e-06, 'num_leaves': 27, 'feature_fraction': 0.5316563964476784, 'bagging_fraction': 0.8291054419645258, 'bagging_freq': 3, 'min_child_samples': 19}. Best is trial 36 with value: 0.9108863198458574.\n",
      "[I 2024-02-05 09:57:09,659] Trial 120 finished with value: 0.9070327552986512 and parameters: {'lambda_l1': 1.2143389026576059e-08, 'lambda_l2': 1.2263413035742572, 'num_leaves': 81, 'feature_fraction': 0.6514749020911548, 'bagging_fraction': 0.9194445720566493, 'bagging_freq': 7, 'min_child_samples': 91}. Best is trial 36 with value: 0.9108863198458574.\n",
      "[I 2024-02-05 09:57:12,370] Trial 121 finished with value: 0.9082369942196532 and parameters: {'lambda_l1': 0.10665929967971745, 'lambda_l2': 6.255566048263436e-08, 'num_leaves': 59, 'feature_fraction': 0.5274897038519681, 'bagging_fraction': 0.8675441973967704, 'bagging_freq': 7, 'min_child_samples': 63}. Best is trial 36 with value: 0.9108863198458574.\n",
      "[I 2024-02-05 09:57:14,962] Trial 122 finished with value: 0.9053468208092486 and parameters: {'lambda_l1': 1.0883572635061735e-07, 'lambda_l2': 1.5919689632649156e-07, 'num_leaves': 45, 'feature_fraction': 0.47913662761497905, 'bagging_fraction': 0.8943992635715636, 'bagging_freq': 7, 'min_child_samples': 74}. Best is trial 36 with value: 0.9108863198458574.\n",
      "[I 2024-02-05 09:57:17,815] Trial 123 finished with value: 0.9070327552986512 and parameters: {'lambda_l1': 0.06613159374686793, 'lambda_l2': 1.6976738861733842e-08, 'num_leaves': 65, 'feature_fraction': 0.5587596895156988, 'bagging_fraction': 0.9593112208261533, 'bagging_freq': 7, 'min_child_samples': 40}. Best is trial 36 with value: 0.9108863198458574.\n",
      "[I 2024-02-05 09:57:20,458] Trial 124 finished with value: 0.9048651252408478 and parameters: {'lambda_l1': 0.04164384822618038, 'lambda_l2': 2.753264589533116e-06, 'num_leaves': 51, 'feature_fraction': 0.49895824738348105, 'bagging_fraction': 0.9029741098772696, 'bagging_freq': 7, 'min_child_samples': 58}. Best is trial 36 with value: 0.9108863198458574.\n",
      "[I 2024-02-05 09:57:22,601] Trial 125 finished with value: 0.9075144508670521 and parameters: {'lambda_l1': 0.5645487387000359, 'lambda_l2': 4.2030189019244175e-08, 'num_leaves': 37, 'feature_fraction': 0.5870053415817923, 'bagging_fraction': 0.950241411829256, 'bagging_freq': 7, 'min_child_samples': 68}. Best is trial 36 with value: 0.9108863198458574.\n",
      "[I 2024-02-05 09:57:24,742] Trial 126 finished with value: 0.9060693641618497 and parameters: {'lambda_l1': 0.004037530213900465, 'lambda_l2': 2.9664924479124673e-08, 'num_leaves': 32, 'feature_fraction': 0.4537488487181787, 'bagging_fraction': 0.8755387465064105, 'bagging_freq': 6, 'min_child_samples': 96}. Best is trial 36 with value: 0.9108863198458574.\n",
      "[I 2024-02-05 09:57:27,631] Trial 127 finished with value: 0.9072736030828517 and parameters: {'lambda_l1': 0.02814471878368292, 'lambda_l2': 3.392817372985561e-07, 'num_leaves': 58, 'feature_fraction': 0.46526526257057077, 'bagging_fraction': 0.9815655633061505, 'bagging_freq': 7, 'min_child_samples': 80}. Best is trial 36 with value: 0.9108863198458574.\n",
      "[I 2024-02-05 09:57:29,353] Trial 128 finished with value: 0.9084778420038536 and parameters: {'lambda_l1': 1.5184559893872933, 'lambda_l2': 2.1278915680113151e-07, 'num_leaves': 21, 'feature_fraction': 0.5436690356760867, 'bagging_fraction': 0.9332932821165432, 'bagging_freq': 7, 'min_child_samples': 45}. Best is trial 36 with value: 0.9108863198458574.\n",
      "[I 2024-02-05 09:57:32,010] Trial 129 finished with value: 0.9058285163776493 and parameters: {'lambda_l1': 0.2839432357492932, 'lambda_l2': 6.109378013287859e-06, 'num_leaves': 70, 'feature_fraction': 0.5167868691768613, 'bagging_fraction': 0.6987019909649613, 'bagging_freq': 7, 'min_child_samples': 23}. Best is trial 36 with value: 0.9108863198458574.\n",
      "[I 2024-02-05 09:57:35,147] Trial 130 finished with value: 0.9046242774566474 and parameters: {'lambda_l1': 0.0019264793394736179, 'lambda_l2': 7.4351751440918e-08, 'num_leaves': 76, 'feature_fraction': 0.6053145098629438, 'bagging_fraction': 0.8466933437517583, 'bagging_freq': 5, 'min_child_samples': 55}. Best is trial 36 with value: 0.9108863198458574.\n",
      "[I 2024-02-05 09:57:37,721] Trial 131 finished with value: 0.9070327552986512 and parameters: {'lambda_l1': 0.6532610767872526, 'lambda_l2': 9.008303962142912e-07, 'num_leaves': 47, 'feature_fraction': 0.46393583948263784, 'bagging_fraction': 0.8858650353275984, 'bagging_freq': 7, 'min_child_samples': 62}. Best is trial 36 with value: 0.9108863198458574.\n",
      "[I 2024-02-05 09:57:40,070] Trial 132 finished with value: 0.9077552986512524 and parameters: {'lambda_l1': 1.0917943333608362, 'lambda_l2': 6.552954513247839e-07, 'num_leaves': 42, 'feature_fraction': 0.5056418902074071, 'bagging_fraction': 0.9179296799559551, 'bagging_freq': 7, 'min_child_samples': 71}. Best is trial 36 with value: 0.9108863198458574.\n",
      "[I 2024-02-05 09:57:42,721] Trial 133 finished with value: 0.9092003853564548 and parameters: {'lambda_l1': 0.1434738142889286, 'lambda_l2': 1.1167076282353566e-07, 'num_leaves': 52, 'feature_fraction': 0.4885605717231208, 'bagging_fraction': 0.9057889994591222, 'bagging_freq': 7, 'min_child_samples': 65}. Best is trial 36 with value: 0.9108863198458574.\n",
      "[I 2024-02-05 09:57:45,347] Trial 134 finished with value: 0.9051059730250481 and parameters: {'lambda_l1': 0.14191078882805352, 'lambda_l2': 2.2568010453301246e-08, 'num_leaves': 53, 'feature_fraction': 0.4875306776537166, 'bagging_fraction': 0.9097642398531728, 'bagging_freq': 7, 'min_child_samples': 66}. Best is trial 36 with value: 0.9108863198458574.\n",
      "[I 2024-02-05 09:57:48,216] Trial 135 finished with value: 0.9077552986512524 and parameters: {'lambda_l1': 0.07889973963997544, 'lambda_l2': 5.195094968946925e-08, 'num_leaves': 65, 'feature_fraction': 0.5334639596916897, 'bagging_fraction': 0.9266846015480555, 'bagging_freq': 7, 'min_child_samples': 64}. Best is trial 36 with value: 0.9108863198458574.\n",
      "[I 2024-02-05 09:57:51,572] Trial 136 finished with value: 0.9094412331406551 and parameters: {'lambda_l1': 0.2033548997577373, 'lambda_l2': 9.517866442699637e-08, 'num_leaves': 146, 'feature_fraction': 0.5214630816655154, 'bagging_fraction': 0.9703421595575282, 'bagging_freq': 7, 'min_child_samples': 60}. Best is trial 36 with value: 0.9108863198458574.\n",
      "[I 2024-02-05 09:57:54,684] Trial 137 finished with value: 0.9084778420038536 and parameters: {'lambda_l1': 0.4198359372255771, 'lambda_l2': 8.641143790959296e-08, 'num_leaves': 144, 'feature_fraction': 0.48258070916333196, 'bagging_fraction': 0.9709980203050429, 'bagging_freq': 7, 'min_child_samples': 60}. Best is trial 36 with value: 0.9108863198458574.\n",
      "[I 2024-02-05 09:57:58,562] Trial 138 finished with value: 0.905587668593449 and parameters: {'lambda_l1': 0.17338402630789143, 'lambda_l2': 1.2892543845224434e-07, 'num_leaves': 162, 'feature_fraction': 0.4103741637601411, 'bagging_fraction': 0.9894613452085389, 'bagging_freq': 7, 'min_child_samples': 31}. Best is trial 36 with value: 0.9108863198458574.\n",
      "[I 2024-02-05 09:58:00,449] Trial 139 finished with value: 0.9065510597302505 and parameters: {'lambda_l1': 0.008619254993711632, 'lambda_l2': 0.0005807799737414787, 'num_leaves': 24, 'feature_fraction': 0.8290462557356411, 'bagging_fraction': 0.9446885034838385, 'bagging_freq': 7, 'min_child_samples': 58}. Best is trial 36 with value: 0.9108863198458574.\n",
      "[I 2024-02-05 09:58:02,610] Trial 140 finished with value: 0.9087186897880539 and parameters: {'lambda_l1': 2.585777860737219, 'lambda_l2': 0.00032222695893027243, 'num_leaves': 255, 'feature_fraction': 0.5630735791297296, 'bagging_fraction': 0.9639547056795259, 'bagging_freq': 6, 'min_child_samples': 51}. Best is trial 36 with value: 0.9108863198458574.\n",
      "[I 2024-02-05 09:58:06,050] Trial 141 finished with value: 0.905587668593449 and parameters: {'lambda_l1': 0.05285361016692768, 'lambda_l2': 1.4967505327259868e-08, 'num_leaves': 151, 'feature_fraction': 0.5247640879085071, 'bagging_fraction': 0.8960418179736236, 'bagging_freq': 7, 'min_child_samples': 65}. Best is trial 36 with value: 0.9108863198458574.\n",
      "[I 2024-02-05 09:58:10,019] Trial 142 finished with value: 0.9077552986512524 and parameters: {'lambda_l1': 0.016049244687536306, 'lambda_l2': 4.7548089603444363e-07, 'num_leaves': 147, 'feature_fraction': 0.5063142308747602, 'bagging_fraction': 0.9371604473263211, 'bagging_freq': 7, 'min_child_samples': 68}. Best is trial 36 with value: 0.9108863198458574.\n",
      "[I 2024-02-05 09:58:12,057] Trial 143 finished with value: 0.9036608863198459 and parameters: {'lambda_l1': 0.27150992596046575, 'lambda_l2': 3.3708924963496685e-08, 'num_leaves': 121, 'feature_fraction': 0.4967778358825681, 'bagging_fraction': 0.47441049445817224, 'bagging_freq': 7, 'min_child_samples': 76}. Best is trial 36 with value: 0.9108863198458574.\n",
      "[I 2024-02-05 09:58:15,705] Trial 144 finished with value: 0.9070327552986512 and parameters: {'lambda_l1': 0.21267824397882104, 'lambda_l2': 5.497832987869345e-05, 'num_leaves': 137, 'feature_fraction': 0.5504830314503005, 'bagging_fraction': 0.9794475420737826, 'bagging_freq': 7, 'min_child_samples': 26}. Best is trial 36 with value: 0.9108863198458574.\n",
      "[I 2024-02-05 09:58:18,595] Trial 145 finished with value: 0.9070327552986512 and parameters: {'lambda_l1': 0.030683766534717268, 'lambda_l2': 1.8038426894953537e-06, 'num_leaves': 61, 'feature_fraction': 0.5180950422289052, 'bagging_fraction': 0.952905428654624, 'bagging_freq': 7, 'min_child_samples': 73}. Best is trial 36 with value: 0.9108863198458574.\n",
      "[I 2024-02-05 09:58:21,170] Trial 146 finished with value: 0.9063102119460501 and parameters: {'lambda_l1': 0.1314878494999193, 'lambda_l2': 2.3206584577527743e-08, 'num_leaves': 55, 'feature_fraction': 0.5344900113694627, 'bagging_fraction': 0.9070088865354853, 'bagging_freq': 7, 'min_child_samples': 62}. Best is trial 36 with value: 0.9108863198458574.\n",
      "[I 2024-02-05 09:58:23,431] Trial 147 finished with value: 0.9060693641618497 and parameters: {'lambda_l1': 0.7240856094659134, 'lambda_l2': 2.2316227786054166e-07, 'num_leaves': 37, 'feature_fraction': 0.44585073845556455, 'bagging_fraction': 0.9979400121136004, 'bagging_freq': 7, 'min_child_samples': 54}. Best is trial 36 with value: 0.9108863198458574.\n",
      "[I 2024-02-05 09:58:24,558] Trial 148 finished with value: 0.9019749518304432 and parameters: {'lambda_l1': 0.09408023727928352, 'lambda_l2': 9.998625628296709e-08, 'num_leaves': 7, 'feature_fraction': 0.7319744565153834, 'bagging_fraction': 0.8704578379320629, 'bagging_freq': 7, 'min_child_samples': 71}. Best is trial 36 with value: 0.9108863198458574.\n",
      "[I 2024-02-05 09:58:26,643] Trial 149 finished with value: 0.905587668593449 and parameters: {'lambda_l1': 0.38223898358576563, 'lambda_l2': 0.0001661133898847431, 'num_leaves': 30, 'feature_fraction': 0.47199483292492583, 'bagging_fraction': 0.9250508227500838, 'bagging_freq': 7, 'min_child_samples': 68}. Best is trial 36 with value: 0.9108863198458574.\n",
      "[I 2024-02-05 09:58:28,562] Trial 150 finished with value: 0.9087186897880539 and parameters: {'lambda_l1': 4.180088296488568, 'lambda_l2': 4.264994187556024e-06, 'num_leaves': 48, 'feature_fraction': 0.5764140625191148, 'bagging_fraction': 0.9685824022974426, 'bagging_freq': 7, 'min_child_samples': 60}. Best is trial 36 with value: 0.9108863198458574.\n",
      "[I 2024-02-05 09:58:30,743] Trial 151 finished with value: 0.9075144508670521 and parameters: {'lambda_l1': 0.8814330257169318, 'lambda_l2': 3.345157322232131e-07, 'num_leaves': 42, 'feature_fraction': 0.459771547494419, 'bagging_fraction': 0.8779841819051494, 'bagging_freq': 7, 'min_child_samples': 62}. Best is trial 36 with value: 0.9108863198458574.\n",
      "[I 2024-02-05 09:58:32,432] Trial 152 finished with value: 0.9065510597302505 and parameters: {'lambda_l1': 1.728818516689882, 'lambda_l2': 6.035593819394339e-08, 'num_leaves': 18, 'feature_fraction': 0.9989216071708311, 'bagging_fraction': 0.8883535990508965, 'bagging_freq': 7, 'min_child_samples': 57}. Best is trial 36 with value: 0.9108863198458574.\n",
      "[I 2024-02-05 09:58:34,894] Trial 153 finished with value: 0.9058285163776493 and parameters: {'lambda_l1': 0.06289057866053079, 'lambda_l2': 1.549084995527872e-07, 'num_leaves': 45, 'feature_fraction': 0.433149946350586, 'bagging_fraction': 0.9060696771265627, 'bagging_freq': 7, 'min_child_samples': 65}. Best is trial 36 with value: 0.9108863198458574.\n",
      "[I 2024-02-05 09:58:37,782] Trial 154 finished with value: 0.9019749518304432 and parameters: {'lambda_l1': 4.0886231240996486e-05, 'lambda_l2': 7.459568556844196e-07, 'num_leaves': 59, 'feature_fraction': 0.543779431606384, 'bagging_fraction': 0.8536134116948092, 'bagging_freq': 7, 'min_child_samples': 67}. Best is trial 36 with value: 0.9108863198458574.\n",
      "[I 2024-02-05 09:58:40,459] Trial 155 finished with value: 0.910645472061657 and parameters: {'lambda_l1': 0.011949101420263106, 'lambda_l2': 1.0337619088198497e-08, 'num_leaves': 52, 'feature_fraction': 0.4219571352208161, 'bagging_fraction': 0.8937404309218621, 'bagging_freq': 7, 'min_child_samples': 8}. Best is trial 36 with value: 0.9108863198458574.\n",
      "[I 2024-02-05 09:58:43,346] Trial 156 finished with value: 0.9089595375722543 and parameters: {'lambda_l1': 8.234480094617508e-06, 'lambda_l2': 1.3001005654480825e-08, 'num_leaves': 54, 'feature_fraction': 0.41930775322516256, 'bagging_fraction': 0.9211626805229122, 'bagging_freq': 7, 'min_child_samples': 10}. Best is trial 36 with value: 0.9108863198458574.\n",
      "[I 2024-02-05 09:58:45,495] Trial 157 finished with value: 0.9053468208092486 and parameters: {'lambda_l1': 0.012899420153289718, 'lambda_l2': 1.8562153201460914e-08, 'num_leaves': 34, 'feature_fraction': 0.4250667952705892, 'bagging_fraction': 0.9436356105288117, 'bagging_freq': 7, 'min_child_samples': 8}. Best is trial 36 with value: 0.9108863198458574.\n",
      "[I 2024-02-05 09:58:47,298] Trial 158 finished with value: 0.9077552986512524 and parameters: {'lambda_l1': 0.020255777785137655, 'lambda_l2': 1.0991732214308758e-08, 'num_leaves': 27, 'feature_fraction': 0.40357034100025946, 'bagging_fraction': 0.7187857145310592, 'bagging_freq': 7, 'min_child_samples': 13}. Best is trial 36 with value: 0.9108863198458574.\n",
      "[I 2024-02-05 09:58:48,498] Trial 159 finished with value: 0.9019749518304432 and parameters: {'lambda_l1': 0.006420887563910216, 'lambda_l2': 2.7711259701427136e-08, 'num_leaves': 11, 'feature_fraction': 0.4382132257306557, 'bagging_fraction': 0.575114647537419, 'bagging_freq': 7, 'min_child_samples': 35}. Best is trial 36 with value: 0.9108863198458574.\n",
      "[I 2024-02-05 09:58:53,395] Trial 160 finished with value: 0.9026974951830443 and parameters: {'lambda_l1': 0.010513833401512468, 'lambda_l2': 4.50725953203717e-08, 'num_leaves': 171, 'feature_fraction': 0.5117652545301443, 'bagging_fraction': 0.9819598881070833, 'bagging_freq': 6, 'min_child_samples': 5}. Best is trial 36 with value: 0.9108863198458574.\n",
      "[I 2024-02-05 09:58:55,773] Trial 161 finished with value: 0.9104046242774566 and parameters: {'lambda_l1': 0.5224443078001474, 'lambda_l2': 1.0009403909613468e-08, 'num_leaves': 50, 'feature_fraction': 0.45512733037970243, 'bagging_fraction': 0.8932484413123263, 'bagging_freq': 7, 'min_child_samples': 74}. Best is trial 36 with value: 0.9108863198458574.\n",
      "[I 2024-02-05 09:58:58,523] Trial 162 finished with value: 0.9075144508670521 and parameters: {'lambda_l1': 0.003251609594759921, 'lambda_l2': 1.164900536046408e-08, 'num_leaves': 51, 'feature_fraction': 0.4512467415649797, 'bagging_fraction': 0.9016563520132804, 'bagging_freq': 7, 'min_child_samples': 73}. Best is trial 36 with value: 0.9108863198458574.\n",
      "[I 2024-02-05 09:59:01,367] Trial 163 finished with value: 0.9070327552986512 and parameters: {'lambda_l1': 0.03836218231206569, 'lambda_l2': 1.886348724736904e-08, 'num_leaves': 62, 'feature_fraction': 0.47951255965841566, 'bagging_fraction': 0.8936598355096312, 'bagging_freq': 7, 'min_child_samples': 70}. Best is trial 36 with value: 0.9108863198458574.\n",
      "[I 2024-02-05 09:59:03,063] Trial 164 finished with value: 0.9075144508670521 and parameters: {'lambda_l1': 0.3683528668380133, 'lambda_l2': 3.85626009139546e-08, 'num_leaves': 40, 'feature_fraction': 0.5952807828885389, 'bagging_fraction': 0.40586623713575637, 'bagging_freq': 7, 'min_child_samples': 75}. Best is trial 36 with value: 0.9108863198458574.\n",
      "[I 2024-02-05 09:59:05,838] Trial 165 finished with value: 0.9070327552986512 and parameters: {'lambda_l1': 0.18797844939322164, 'lambda_l2': 1.0008044105246681e-08, 'num_leaves': 68, 'feature_fraction': 0.5644103632102418, 'bagging_fraction': 0.8648974030340477, 'bagging_freq': 7, 'min_child_samples': 15}. Best is trial 36 with value: 0.9108863198458574.\n",
      "[I 2024-02-05 09:59:08,310] Trial 166 finished with value: 0.9087186897880539 and parameters: {'lambda_l1': 0.12473861897417983, 'lambda_l2': 0.0010770016576632563, 'num_leaves': 47, 'feature_fraction': 0.5269393553590376, 'bagging_fraction': 0.8827174373984178, 'bagging_freq': 7, 'min_child_samples': 16}. Best is trial 36 with value: 0.9108863198458574.\n",
      "[I 2024-02-05 09:59:10,958] Trial 167 finished with value: 0.9094412331406551 and parameters: {'lambda_l1': 0.005141906251969577, 'lambda_l2': 2.2903555941984565e-08, 'num_leaves': 52, 'feature_fraction': 0.4948797397806331, 'bagging_fraction': 0.9158583115883733, 'bagging_freq': 7, 'min_child_samples': 20}. Best is trial 36 with value: 0.9108863198458574.\n",
      "[I 2024-02-05 09:59:13,999] Trial 168 finished with value: 0.9051059730250481 and parameters: {'lambda_l1': 0.004752615618911696, 'lambda_l2': 2.071727717210873e-08, 'num_leaves': 57, 'feature_fraction': 0.4906512853926359, 'bagging_fraction': 0.9128643592348095, 'bagging_freq': 7, 'min_child_samples': 18}. Best is trial 36 with value: 0.9108863198458574.\n",
      "[I 2024-02-05 09:59:16,283] Trial 169 finished with value: 0.9060693641618497 and parameters: {'lambda_l1': 0.006618760734510483, 'lambda_l2': 1.7012737758539402e-08, 'num_leaves': 37, 'feature_fraction': 0.45947446186032187, 'bagging_fraction': 0.9598294139022716, 'bagging_freq': 2, 'min_child_samples': 21}. Best is trial 36 with value: 0.9108863198458574.\n",
      "[I 2024-02-05 09:59:18,965] Trial 170 finished with value: 0.9072736030828517 and parameters: {'lambda_l1': 0.0010286839352768207, 'lambda_l2': 3.0755420630824076e-08, 'num_leaves': 51, 'feature_fraction': 0.4750638398393403, 'bagging_fraction': 0.9320521953913492, 'bagging_freq': 7, 'min_child_samples': 24}. Best is trial 36 with value: 0.9108863198458574.\n",
      "[I 2024-02-05 09:59:21,546] Trial 171 finished with value: 0.9041425818882466 and parameters: {'lambda_l1': 0.0031747959277255633, 'lambda_l2': 5.699879771271207e-08, 'num_leaves': 64, 'feature_fraction': 0.502006979937903, 'bagging_fraction': 0.622114542209524, 'bagging_freq': 5, 'min_child_samples': 78}. Best is trial 36 with value: 0.9108863198458574.\n",
      "[I 2024-02-05 09:59:24,263] Trial 172 finished with value: 0.9079961464354528 and parameters: {'lambda_l1': 0.008852430093182661, 'lambda_l2': 1.425758879615648e-08, 'num_leaves': 56, 'feature_fraction': 0.5210401302559604, 'bagging_fraction': 0.8964494706225203, 'bagging_freq': 7, 'min_child_samples': 19}. Best is trial 36 with value: 0.9108863198458574.\n",
      "[I 2024-02-05 09:59:26,705] Trial 173 finished with value: 0.9067919075144508 and parameters: {'lambda_l1': 0.019122952994580347, 'lambda_l2': 1.215439579037104e-06, 'num_leaves': 43, 'feature_fraction': 0.44370046974982635, 'bagging_fraction': 0.9184560204360673, 'bagging_freq': 3, 'min_child_samples': 86}. Best is trial 36 with value: 0.9108863198458574.\n",
      "[I 2024-02-05 09:59:29,336] Trial 174 finished with value: 0.9082369942196532 and parameters: {'lambda_l1': 0.620263216677006, 'lambda_l2': 1.0107028783683123e-08, 'num_leaves': 72, 'feature_fraction': 0.5438288166026106, 'bagging_fraction': 0.8762421276227228, 'bagging_freq': 7, 'min_child_samples': 49}. Best is trial 36 with value: 0.9108863198458574.\n",
      "[I 2024-02-05 09:59:31,904] Trial 175 finished with value: 0.9065510597302505 and parameters: {'lambda_l1': 0.014200095441165152, 'lambda_l2': 1.3636147926298892e-05, 'num_leaves': 49, 'feature_fraction': 0.4907026961201253, 'bagging_fraction': 0.9047097452838636, 'bagging_freq': 7, 'min_child_samples': 28}. Best is trial 36 with value: 0.9108863198458574.\n",
      "[I 2024-02-05 09:59:34,864] Trial 176 finished with value: 0.9051059730250481 and parameters: {'lambda_l1': 0.0019533637426423, 'lambda_l2': 9.00157121120703e-08, 'num_leaves': 61, 'feature_fraction': 0.5842412161034037, 'bagging_fraction': 0.986252044552066, 'bagging_freq': 7, 'min_child_samples': 70}. Best is trial 36 with value: 0.9108863198458574.\n",
      "[I 2024-02-05 09:59:36,439] Trial 177 finished with value: 0.9053468208092486 and parameters: {'lambda_l1': 1.0593647491392657, 'lambda_l2': 2.355568923531516e-06, 'num_leaves': 15, 'feature_fraction': 0.5120182097122965, 'bagging_fraction': 0.8857600458493844, 'bagging_freq': 7, 'min_child_samples': 9}. Best is trial 36 with value: 0.9108863198458574.\n",
      "[I 2024-02-05 09:59:38,402] Trial 178 finished with value: 0.9070327552986512 and parameters: {'lambda_l1': 0.25785378401394754, 'lambda_l2': 2.338035151778282e-08, 'num_leaves': 33, 'feature_fraction': 0.4308584112395144, 'bagging_fraction': 0.6835200123301136, 'bagging_freq': 7, 'min_child_samples': 22}. Best is trial 36 with value: 0.9108863198458574.\n",
      "[I 2024-02-05 09:59:40,287] Trial 179 finished with value: 0.9053468208092486 and parameters: {'lambda_l1': 0.034982447428292235, 'lambda_l2': 3.6456938378081666e-08, 'num_leaves': 24, 'feature_fraction': 0.533338658748607, 'bagging_fraction': 0.9356009603107307, 'bagging_freq': 7, 'min_child_samples': 72}. Best is trial 36 with value: 0.9108863198458574.\n",
      "[I 2024-02-05 09:59:42,878] Trial 180 finished with value: 0.9087186897880539 and parameters: {'lambda_l1': 0.09266418762989698, 'lambda_l2': 6.081355721995885e-08, 'num_leaves': 53, 'feature_fraction': 0.5613979016151306, 'bagging_fraction': 0.9147548236192875, 'bagging_freq': 7, 'min_child_samples': 25}. Best is trial 36 with value: 0.9108863198458574.\n",
      "[I 2024-02-05 09:59:45,380] Trial 181 finished with value: 0.9060693641618497 and parameters: {'lambda_l1': 1.616046796698825, 'lambda_l2': 3.024867308206643e-07, 'num_leaves': 47, 'feature_fraction': 0.4674698555187767, 'bagging_fraction': 0.8896155509905049, 'bagging_freq': 7, 'min_child_samples': 64}. Best is trial 36 with value: 0.9108863198458574.\n",
      "[I 2024-02-05 09:59:47,659] Trial 182 finished with value: 0.9094412331406551 and parameters: {'lambda_l1': 0.48653388479363613, 'lambda_l2': 2.491585173984889e-07, 'num_leaves': 41, 'feature_fraction': 0.4592273603713822, 'bagging_fraction': 0.8967627593324053, 'bagging_freq': 7, 'min_child_samples': 83}. Best is trial 36 with value: 0.9108863198458574.\n",
      "[I 2024-02-05 09:59:49,987] Trial 183 finished with value: 0.9084778420038536 and parameters: {'lambda_l1': 0.44661531050847236, 'lambda_l2': 0.0019853853020118687, 'num_leaves': 42, 'feature_fraction': 0.44710946503791116, 'bagging_fraction': 0.9011073774208995, 'bagging_freq': 7, 'min_child_samples': 82}. Best is trial 36 with value: 0.9108863198458574.\n",
      "[I 2024-02-05 09:59:52,503] Trial 184 finished with value: 0.9060693641618497 and parameters: {'lambda_l1': 0.5345921712237527, 'lambda_l2': 1.6084486414216693e-08, 'num_leaves': 131, 'feature_fraction': 0.4545553469187737, 'bagging_fraction': 0.8636544497229789, 'bagging_freq': 7, 'min_child_samples': 89}. Best is trial 36 with value: 0.9108863198458574.\n",
      "[I 2024-02-05 09:59:54,525] Trial 185 finished with value: 0.9070327552986512 and parameters: {'lambda_l1': 0.8550012570223776, 'lambda_l2': 4.530945226200065e-07, 'num_leaves': 30, 'feature_fraction': 0.41798986404377014, 'bagging_fraction': 0.9255246645801757, 'bagging_freq': 7, 'min_child_samples': 80}. Best is trial 36 with value: 0.9108863198458574.\n",
      "[I 2024-02-05 09:59:57,374] Trial 186 finished with value: 0.9072736030828517 and parameters: {'lambda_l1': 0.004688282953755186, 'lambda_l2': 1.6681563742065825e-07, 'num_leaves': 55, 'feature_fraction': 0.6233022824158606, 'bagging_fraction': 0.9496793012976246, 'bagging_freq': 7, 'min_child_samples': 84}. Best is trial 36 with value: 0.9108863198458574.\n",
      "[I 2024-02-05 09:59:59,872] Trial 187 finished with value: 0.9048651252408478 and parameters: {'lambda_l1': 2.870883359685853e-08, 'lambda_l2': 1.1590646355850169e-07, 'num_leaves': 41, 'feature_fraction': 0.5053930669650767, 'bagging_fraction': 0.7544877532549054, 'bagging_freq': 7, 'min_child_samples': 75}. Best is trial 36 with value: 0.9108863198458574.\n",
      "[I 2024-02-05 10:00:02,239] Trial 188 finished with value: 0.9060693641618497 and parameters: {'lambda_l1': 9.359795053776694e-07, 'lambda_l2': 1.4127209970710437e-06, 'num_leaves': 38, 'feature_fraction': 0.5514052517185454, 'bagging_fraction': 0.9994883227212216, 'bagging_freq': 7, 'min_child_samples': 56}. Best is trial 36 with value: 0.9108863198458574.\n",
      "[I 2024-02-05 10:00:03,687] Trial 189 finished with value: 0.9087186897880539 and parameters: {'lambda_l1': 0.29555686811800624, 'lambda_l2': 3.0557455415887436e-08, 'num_leaves': 21, 'feature_fraction': 0.7839146870952658, 'bagging_fraction': 0.9119855053583569, 'bagging_freq': 1, 'min_child_samples': 67}. Best is trial 36 with value: 0.9108863198458574.\n",
      "[I 2024-02-05 10:00:06,624] Trial 190 finished with value: 0.9084778420038536 and parameters: {'lambda_l1': 0.00023675139126340907, 'lambda_l2': 8.738395758243092e-07, 'num_leaves': 58, 'feature_fraction': 0.48402496251765303, 'bagging_fraction': 0.9723102982481872, 'bagging_freq': 7, 'min_child_samples': 53}. Best is trial 36 with value: 0.9108863198458574.\n",
      "[I 2024-02-05 10:00:08,907] Trial 191 finished with value: 0.9077552986512524 and parameters: {'lambda_l1': 0.8714682142186622, 'lambda_l2': 2.1123800024838138e-07, 'num_leaves': 45, 'feature_fraction': 0.4680828280456086, 'bagging_fraction': 0.8786811700858117, 'bagging_freq': 7, 'min_child_samples': 59}. Best is trial 36 with value: 0.9108863198458574.\n",
      "[I 2024-02-05 10:00:11,226] Trial 192 finished with value: 0.9079961464354528 and parameters: {'lambda_l1': 1.4957919458479054, 'lambda_l2': 0.004718970868067431, 'num_leaves': 160, 'feature_fraction': 0.4381412913563433, 'bagging_fraction': 0.8932975987265167, 'bagging_freq': 7, 'min_child_samples': 63}. Best is trial 36 with value: 0.9108863198458574.\n",
      "[I 2024-02-05 10:00:13,229] Trial 193 finished with value: 0.9079961464354528 and parameters: {'lambda_l1': 2.64811386883314, 'lambda_l2': 2.5877617554190816e-07, 'num_leaves': 50, 'feature_fraction': 0.45766900939653643, 'bagging_fraction': 0.900082616836128, 'bagging_freq': 7, 'min_child_samples': 69}. Best is trial 36 with value: 0.9108863198458574.\n",
      "[I 2024-02-05 10:00:15,014] Trial 194 finished with value: 0.9058285163776493 and parameters: {'lambda_l1': 0.1490603155472191, 'lambda_l2': 5.003908446593274e-07, 'num_leaves': 34, 'feature_fraction': 0.4710995490388594, 'bagging_fraction': 0.4277137261754253, 'bagging_freq': 7, 'min_child_samples': 32}. Best is trial 36 with value: 0.9108863198458574.\n",
      "[I 2024-02-05 10:00:17,711] Trial 195 finished with value: 0.9094412331406551 and parameters: {'lambda_l1': 0.5438845231266284, 'lambda_l2': 1.2403336935020704e-07, 'num_leaves': 66, 'feature_fraction': 0.6088541429789274, 'bagging_fraction': 0.7980949815132969, 'bagging_freq': 7, 'min_child_samples': 72}. Best is trial 36 with value: 0.9108863198458574.\n",
      "[I 2024-02-05 10:00:20,267] Trial 196 finished with value: 0.9079961464354528 and parameters: {'lambda_l1': 0.4637888188864173, 'lambda_l2': 8.529965291908829e-08, 'num_leaves': 68, 'feature_fraction': 0.524631442917677, 'bagging_fraction': 0.8116124282931285, 'bagging_freq': 7, 'min_child_samples': 73}. Best is trial 36 with value: 0.9108863198458574.\n",
      "[I 2024-02-05 10:00:23,214] Trial 197 finished with value: 0.9082369942196532 and parameters: {'lambda_l1': 0.06716184328558676, 'lambda_l2': 5.309690468915545e-08, 'num_leaves': 64, 'feature_fraction': 0.6078157268227484, 'bagging_fraction': 0.9848723095503235, 'bagging_freq': 7, 'min_child_samples': 70}. Best is trial 36 with value: 0.9108863198458574.\n",
      "[I 2024-02-05 10:00:25,937] Trial 198 finished with value: 0.903179190751445 and parameters: {'lambda_l1': 0.22982683916444274, 'lambda_l2': 1.4356769189170017e-07, 'num_leaves': 60, 'feature_fraction': 0.5945641351490569, 'bagging_fraction': 0.9625211430258706, 'bagging_freq': 7, 'min_child_samples': 77}. Best is trial 36 with value: 0.9108863198458574.\n",
      "[I 2024-02-05 10:00:27,916] Trial 199 finished with value: 0.9039017341040463 and parameters: {'lambda_l1': 6.512840261689239, 'lambda_l2': 3.040839306362149e-05, 'num_leaves': 109, 'feature_fraction': 0.8785580964239615, 'bagging_fraction': 0.9217133325441423, 'bagging_freq': 7, 'min_child_samples': 12}. Best is trial 36 with value: 0.9108863198458574.\n"
     ]
    }
   ],
   "source": [
    "sampler = TPESampler(seed=42)\n",
    "study = optuna.create_study(study_name=\"lightgbm\", direction=\"maximize\", sampler=sampler)\n",
    "study.optimize(objective, n_trials=200)"
   ]
  },
  {
   "cell_type": "code",
   "execution_count": 14,
   "id": "9e129c99",
   "metadata": {
    "execution": {
     "iopub.execute_input": "2024-02-05T10:00:28.023043Z",
     "iopub.status.busy": "2024-02-05T10:00:28.022746Z",
     "iopub.status.idle": "2024-02-05T10:00:28.027624Z",
     "shell.execute_reply": "2024-02-05T10:00:28.026758Z"
    },
    "papermill": {
     "duration": 0.055481,
     "end_time": "2024-02-05T10:00:28.029554",
     "exception": false,
     "start_time": "2024-02-05T10:00:27.974073",
     "status": "completed"
    },
    "tags": []
   },
   "outputs": [
    {
     "name": "stdout",
     "output_type": "stream",
     "text": [
      "Best parameters: {'lambda_l1': 1.3019828669773963, 'lambda_l2': 1.0378733814005926e-05, 'num_leaves': 43, 'feature_fraction': 0.5200508885969131, 'bagging_fraction': 0.8788385892118535, 'bagging_freq': 7, 'min_child_samples': 49}\n"
     ]
    }
   ],
   "source": [
    "print('Best parameters:', study.best_params)"
   ]
  },
  {
   "cell_type": "code",
   "execution_count": 15,
   "id": "b897c672",
   "metadata": {
    "execution": {
     "iopub.execute_input": "2024-02-05T10:00:28.127254Z",
     "iopub.status.busy": "2024-02-05T10:00:28.126676Z",
     "iopub.status.idle": "2024-02-05T10:00:28.131097Z",
     "shell.execute_reply": "2024-02-05T10:00:28.130223Z"
    },
    "papermill": {
     "duration": 0.056105,
     "end_time": "2024-02-05T10:00:28.133170",
     "exception": false,
     "start_time": "2024-02-05T10:00:28.077065",
     "status": "completed"
    },
    "tags": []
   },
   "outputs": [
    {
     "name": "stdout",
     "output_type": "stream",
     "text": [
      "Best value: 0.9108863198458574\n"
     ]
    }
   ],
   "source": [
    "print('Best value:', study.best_value)"
   ]
  },
  {
   "cell_type": "code",
   "execution_count": 16,
   "id": "2cb39c8f",
   "metadata": {
    "execution": {
     "iopub.execute_input": "2024-02-05T10:00:28.232299Z",
     "iopub.status.busy": "2024-02-05T10:00:28.232052Z",
     "iopub.status.idle": "2024-02-05T10:00:28.237062Z",
     "shell.execute_reply": "2024-02-05T10:00:28.236166Z"
    },
    "papermill": {
     "duration": 0.057399,
     "end_time": "2024-02-05T10:00:28.238925",
     "exception": false,
     "start_time": "2024-02-05T10:00:28.181526",
     "status": "completed"
    },
    "tags": []
   },
   "outputs": [
    {
     "name": "stdout",
     "output_type": "stream",
     "text": [
      "Best trial: FrozenTrial(number=36, state=TrialState.COMPLETE, values=[0.9108863198458574], datetime_start=datetime.datetime(2024, 2, 5, 9, 54, 0, 1720), datetime_complete=datetime.datetime(2024, 2, 5, 9, 54, 2, 217522), params={'lambda_l1': 1.3019828669773963, 'lambda_l2': 1.0378733814005926e-05, 'num_leaves': 43, 'feature_fraction': 0.5200508885969131, 'bagging_fraction': 0.8788385892118535, 'bagging_freq': 7, 'min_child_samples': 49}, user_attrs={}, system_attrs={}, intermediate_values={}, distributions={'lambda_l1': FloatDistribution(high=10.0, log=True, low=1e-08, step=None), 'lambda_l2': FloatDistribution(high=10.0, log=True, low=1e-08, step=None), 'num_leaves': IntDistribution(high=256, log=False, low=2, step=1), 'feature_fraction': FloatDistribution(high=1.0, log=False, low=0.4, step=None), 'bagging_fraction': FloatDistribution(high=1.0, log=False, low=0.4, step=None), 'bagging_freq': IntDistribution(high=7, log=False, low=1, step=1), 'min_child_samples': IntDistribution(high=100, log=False, low=5, step=1)}, trial_id=36, value=None)\n"
     ]
    }
   ],
   "source": [
    "print('Best trial:', study.best_trial)"
   ]
  },
  {
   "cell_type": "markdown",
   "id": "f0b5021c",
   "metadata": {
    "papermill": {
     "duration": 0.047392,
     "end_time": "2024-02-05T10:00:28.333895",
     "exception": false,
     "start_time": "2024-02-05T10:00:28.286503",
     "status": "completed"
    },
    "tags": []
   },
   "source": [
    "### パラメータ"
   ]
  },
  {
   "cell_type": "code",
   "execution_count": 17,
   "id": "4c8658cd",
   "metadata": {
    "execution": {
     "iopub.execute_input": "2024-02-05T10:00:28.431057Z",
     "iopub.status.busy": "2024-02-05T10:00:28.430779Z",
     "iopub.status.idle": "2024-02-05T10:00:28.436522Z",
     "shell.execute_reply": "2024-02-05T10:00:28.435727Z"
    },
    "papermill": {
     "duration": 0.056819,
     "end_time": "2024-02-05T10:00:28.438462",
     "exception": false,
     "start_time": "2024-02-05T10:00:28.381643",
     "status": "completed"
    },
    "tags": []
   },
   "outputs": [],
   "source": [
    "lgb_params = {'lambda_l1': 1.3019828669773963, \n",
    "              'lambda_l2': 1.0378733814005926e-05, \n",
    "              'num_leaves': 43, \n",
    "              'feature_fraction': 0.5200508885969131, \n",
    "              'bagging_fraction': 0.8788385892118535, \n",
    "              'bagging_freq': 7, \n",
    "              'min_child_samples': 49}\n",
    "\n",
    "xgb_params = {'max_depth': 6, \n",
    "              'min_child_weight': 10, \n",
    "              'learning_rate': 0.9739305940758409, \n",
    "              'n_estimators': 435, \n",
    "              'subsample': 0.43576967696348323, \n",
    "              'colsample_bytree': 0.025619729678897467, \n",
    "              'random_state': 42}\n",
    "\n",
    "cat_params = {'iterations': 526,\n",
    "    'depth': 3,\n",
    "    'min_data_in_leaf': 13,\n",
    "    'learning_rate': 0.0008029819794568197}"
   ]
  },
  {
   "cell_type": "code",
   "execution_count": 18,
   "id": "03b540eb",
   "metadata": {
    "execution": {
     "iopub.execute_input": "2024-02-05T10:00:28.535356Z",
     "iopub.status.busy": "2024-02-05T10:00:28.534723Z",
     "iopub.status.idle": "2024-02-05T10:00:28.538918Z",
     "shell.execute_reply": "2024-02-05T10:00:28.538116Z"
    },
    "papermill": {
     "duration": 0.054427,
     "end_time": "2024-02-05T10:00:28.540686",
     "exception": false,
     "start_time": "2024-02-05T10:00:28.486259",
     "status": "completed"
    },
    "tags": []
   },
   "outputs": [],
   "source": [
    "# lgb_model = LGBMClassifier(**lgb_params)\n",
    "xgb_model = XGBClassifier(**xgb_params)\n",
    "cat_model = CatBoostClassifier(**cat_params)"
   ]
  },
  {
   "cell_type": "markdown",
   "id": "19e2e3cd",
   "metadata": {
    "papermill": {
     "duration": 0.048103,
     "end_time": "2024-02-05T10:00:28.636685",
     "exception": false,
     "start_time": "2024-02-05T10:00:28.588582",
     "status": "completed"
    },
    "tags": []
   },
   "source": [
    "# 参考（目的変数のエンコーディング）"
   ]
  },
  {
   "cell_type": "code",
   "execution_count": 19,
   "id": "51d345f8",
   "metadata": {
    "execution": {
     "iopub.execute_input": "2024-02-05T10:00:28.733574Z",
     "iopub.status.busy": "2024-02-05T10:00:28.733288Z",
     "iopub.status.idle": "2024-02-05T10:00:28.737048Z",
     "shell.execute_reply": "2024-02-05T10:00:28.736251Z"
    },
    "papermill": {
     "duration": 0.054051,
     "end_time": "2024-02-05T10:00:28.738805",
     "exception": false,
     "start_time": "2024-02-05T10:00:28.684754",
     "status": "completed"
    },
    "tags": []
   },
   "outputs": [],
   "source": [
    "# df[target_col] = df[target_col].map({\n",
    "#     \"Insufficient_Weight\":0,\n",
    "#     \"Normal_Weight\":1,\n",
    "#     \"Obesity_Type_I\":2,\n",
    "#     \"Obesity_Type_II\":3,\n",
    "#     \"Obesity_Type_III\":4,\n",
    "#     \"Overweight_Level_I\":5,\n",
    "#     \"Overweight_Level_II\":6,\n",
    "#     })\n"
   ]
  },
  {
   "cell_type": "code",
   "execution_count": null,
   "id": "2f45bebc",
   "metadata": {
    "papermill": {
     "duration": 0.047435,
     "end_time": "2024-02-05T10:00:28.834357",
     "exception": false,
     "start_time": "2024-02-05T10:00:28.786922",
     "status": "completed"
    },
    "tags": []
   },
   "outputs": [],
   "source": []
  },
  {
   "cell_type": "code",
   "execution_count": null,
   "id": "96b63f18",
   "metadata": {
    "papermill": {
     "duration": 0.047531,
     "end_time": "2024-02-05T10:00:28.930243",
     "exception": false,
     "start_time": "2024-02-05T10:00:28.882712",
     "status": "completed"
    },
    "tags": []
   },
   "outputs": [],
   "source": []
  }
 ],
 "metadata": {
  "kaggle": {
   "accelerator": "nvidiaTeslaT4",
   "dataSources": [
    {
     "databundleVersionId": 7609535,
     "sourceId": 68479,
     "sourceType": "competition"
    },
    {
     "databundleVersionId": 7653760,
     "datasetId": 4383550,
     "sourceId": 7559421,
     "sourceType": "datasetVersion"
    }
   ],
   "dockerImageVersionId": 30648,
   "isGpuEnabled": true,
   "isInternetEnabled": true,
   "language": "python",
   "sourceType": "notebook"
  },
  "kernelspec": {
   "display_name": "Python 3",
   "language": "python",
   "name": "python3"
  },
  "language_info": {
   "codemirror_mode": {
    "name": "ipython",
    "version": 3
   },
   "file_extension": ".py",
   "mimetype": "text/x-python",
   "name": "python",
   "nbconvert_exporter": "python",
   "pygments_lexer": "ipython3",
   "version": "3.10.13"
  },
  "papermill": {
   "default_parameters": {},
   "duration": 2569.430622,
   "end_time": "2024-02-05T10:00:29.702493",
   "environment_variables": {},
   "exception": null,
   "input_path": "__notebook__.ipynb",
   "output_path": "__notebook__.ipynb",
   "parameters": {},
   "start_time": "2024-02-05T09:17:40.271871",
   "version": "2.5.0"
  }
 },
 "nbformat": 4,
 "nbformat_minor": 5
}

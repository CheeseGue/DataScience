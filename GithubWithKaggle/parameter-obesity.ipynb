{
 "cells": [
  {
   "cell_type": "code",
   "execution_count": 1,
   "id": "1684a26b",
   "metadata": {
    "_cell_guid": "b1076dfc-b9ad-4769-8c92-a6c4dae69d19",
    "_uuid": "8f2839f25d086af736a60e9eeb907d3b93b6e0e5",
    "execution": {
     "iopub.execute_input": "2024-02-03T07:12:13.153183Z",
     "iopub.status.busy": "2024-02-03T07:12:13.152850Z",
     "iopub.status.idle": "2024-02-03T07:12:13.974425Z",
     "shell.execute_reply": "2024-02-03T07:12:13.972988Z"
    },
    "papermill": {
     "duration": 0.833274,
     "end_time": "2024-02-03T07:12:13.976649",
     "exception": false,
     "start_time": "2024-02-03T07:12:13.143375",
     "status": "completed"
    },
    "tags": []
   },
   "outputs": [
    {
     "name": "stdout",
     "output_type": "stream",
     "text": [
      "/kaggle/input/my-multi-class-prediction-of-obesity-risk/data.csv\n",
      "/kaggle/input/playground-series-s4e2/sample_submission.csv\n",
      "/kaggle/input/playground-series-s4e2/train.csv\n",
      "/kaggle/input/playground-series-s4e2/test.csv\n"
     ]
    }
   ],
   "source": [
    "# This Python 3 environment comes with many helpful analytics libraries installed\n",
    "# It is defined by the kaggle/python Docker image: https://github.com/kaggle/docker-python\n",
    "# For example, here's several helpful packages to load\n",
    "\n",
    "import numpy as np # linear algebra\n",
    "import pandas as pd # data processing, CSV file I/O (e.g. pd.read_csv)\n",
    "\n",
    "# Input data files are available in the read-only \"../input/\" directory\n",
    "# For example, running this (by clicking run or pressing Shift+Enter) will list all files under the input directory\n",
    "\n",
    "import os\n",
    "for dirname, _, filenames in os.walk('/kaggle/input'):\n",
    "    for filename in filenames:\n",
    "        print(os.path.join(dirname, filename))\n",
    "\n",
    "# You can write up to 20GB to the current directory (/kaggle/working/) that gets preserved as output when you create a version using \"Save & Run All\" \n",
    "# You can also write temporary files to /kaggle/temp/, but they won't be saved outside of the current session"
   ]
  },
  {
   "cell_type": "markdown",
   "id": "71a38755",
   "metadata": {
    "papermill": {
     "duration": 0.007653,
     "end_time": "2024-02-03T07:12:13.992204",
     "exception": false,
     "start_time": "2024-02-03T07:12:13.984551",
     "status": "completed"
    },
    "tags": []
   },
   "source": [
    "# **肥満リスクの多クラス予測**\n",
    "(Multi-Class Prediction of Obesity Risk)"
   ]
  },
  {
   "cell_type": "markdown",
   "id": "86fcc67e",
   "metadata": {
    "papermill": {
     "duration": 0.00753,
     "end_time": "2024-02-03T07:12:14.007405",
     "exception": false,
     "start_time": "2024-02-03T07:12:13.999875",
     "status": "completed"
    },
    "tags": []
   },
   "source": [
    "# 参考資料\n",
    "**書籍**\n",
    "\n",
    "\n",
    "**Kaggle**\n",
    "- [Obesity! | EDA | XGBoost | Py](https://www.kaggle.com/code/khsamaha/obesity-eda-xgboost-py)\n",
    "- [[PlayGround S4E2] 📊 EDA + 🤖 Modeling [LightGBM]](https://www.kaggle.com/code/akhiljethwa/playground-s4e2-eda-modeling-lightgbm)\n",
    "\n",
    "**自分で作成したファイル**\n",
    "- 銀行解約データセットを使用した二項分類\n",
    "- 肝硬変の転帰の多クラス予測\n",
    "\n",
    "**その他**\n"
   ]
  },
  {
   "cell_type": "code",
   "execution_count": 2,
   "id": "3d2a2cc0",
   "metadata": {
    "execution": {
     "iopub.execute_input": "2024-02-03T07:12:14.024032Z",
     "iopub.status.busy": "2024-02-03T07:12:14.023612Z",
     "iopub.status.idle": "2024-02-03T07:12:14.148924Z",
     "shell.execute_reply": "2024-02-03T07:12:14.147882Z"
    },
    "papermill": {
     "duration": 0.136243,
     "end_time": "2024-02-03T07:12:14.151151",
     "exception": false,
     "start_time": "2024-02-03T07:12:14.014908",
     "status": "completed"
    },
    "tags": []
   },
   "outputs": [
    {
     "name": "stdout",
     "output_type": "stream",
     "text": [
      "読み込み完了 /kaggle/input/my-multi-class-prediction-of-obesity-risk/data.csv\n"
     ]
    }
   ],
   "source": [
    "import numpy as np\n",
    "import pandas as pd\n",
    "\n",
    "FILE_PATH = '/kaggle/input/playground-series-s4e2/'\n",
    "CREATE_DATA = '/kaggle/input/my-multi-class-prediction-of-obesity-risk'\n",
    "\n",
    "\n",
    "# 確認 (data_import.py)\n",
    "def file_to_xy(filename):\n",
    "    data = pd.read_csv(filename, index_col=0)\n",
    "    print(f'読み込み完了 {filename}')\n",
    "    \n",
    "    target_col = 'NObeyesdad'\n",
    "    \n",
    "    train = data[:20758].reset_index(drop=True)\n",
    "    test = data[20758:].reset_index(drop=True).drop(target_col, axis=1) # 目的変数を指定する\n",
    "    # 目的変数と説明変数に分割\n",
    "    X = train.drop([target_col], axis=1) # 目的変数を指定する\n",
    "    y = train[target_col].values # 目的変数を指定する\n",
    "\n",
    "    return data,test,train,X,y\n",
    "\n",
    "filename = 'data.csv'\n",
    "data,test,train,X,y = file_to_xy(CREATE_DATA + '/' + filename)"
   ]
  },
  {
   "cell_type": "code",
   "execution_count": 3,
   "id": "14af0165",
   "metadata": {
    "execution": {
     "iopub.execute_input": "2024-02-03T07:12:14.168447Z",
     "iopub.status.busy": "2024-02-03T07:12:14.168110Z",
     "iopub.status.idle": "2024-02-03T07:12:14.172179Z",
     "shell.execute_reply": "2024-02-03T07:12:14.171419Z"
    },
    "papermill": {
     "duration": 0.0148,
     "end_time": "2024-02-03T07:12:14.174127",
     "exception": false,
     "start_time": "2024-02-03T07:12:14.159327",
     "status": "completed"
    },
    "tags": []
   },
   "outputs": [],
   "source": [
    "# condlist = [train[\"NObeyesdad\"] == \"Insufficient_Weight\",\n",
    "#             train[\"NObeyesdad\"] == \"Normal_Weight\",\n",
    "#             train[\"NObeyesdad\"] == \"Obesity_Type_I\",\n",
    "#             train[\"NObeyesdad\"] == \"Obesity_Type_II\",\n",
    "#             train[\"NObeyesdad\"] == \"Obesity_Type_III\",\n",
    "#             train[\"NObeyesdad\"] == \"Overweight_Level_I\",\n",
    "#             train[\"NObeyesdad\"] == \"Overweight_Level_II\",\n",
    "#            ]\n",
    "# choicelist = [0,1,2,3,4,5,6]\n",
    "\n",
    "# train[\"NObeyesdad\"] = np.select(condlist, choicelist)"
   ]
  },
  {
   "cell_type": "code",
   "execution_count": 4,
   "id": "c34976a2",
   "metadata": {
    "execution": {
     "iopub.execute_input": "2024-02-03T07:12:14.190732Z",
     "iopub.status.busy": "2024-02-03T07:12:14.190474Z",
     "iopub.status.idle": "2024-02-03T07:12:14.209461Z",
     "shell.execute_reply": "2024-02-03T07:12:14.208647Z"
    },
    "papermill": {
     "duration": 0.029459,
     "end_time": "2024-02-03T07:12:14.211408",
     "exception": false,
     "start_time": "2024-02-03T07:12:14.181949",
     "status": "completed"
    },
    "tags": []
   },
   "outputs": [
    {
     "data": {
      "text/html": [
       "<div>\n",
       "<style scoped>\n",
       "    .dataframe tbody tr th:only-of-type {\n",
       "        vertical-align: middle;\n",
       "    }\n",
       "\n",
       "    .dataframe tbody tr th {\n",
       "        vertical-align: top;\n",
       "    }\n",
       "\n",
       "    .dataframe thead th {\n",
       "        text-align: right;\n",
       "    }\n",
       "</style>\n",
       "<table border=\"1\" class=\"dataframe\">\n",
       "  <thead>\n",
       "    <tr style=\"text-align: right;\">\n",
       "      <th></th>\n",
       "      <th>Gender</th>\n",
       "      <th>Age</th>\n",
       "      <th>Height</th>\n",
       "      <th>Weight</th>\n",
       "      <th>family_history_with_overweight</th>\n",
       "      <th>FAVC</th>\n",
       "      <th>FCVC</th>\n",
       "      <th>NCP</th>\n",
       "      <th>CAEC</th>\n",
       "      <th>SMOKE</th>\n",
       "      <th>CH2O</th>\n",
       "      <th>SCC</th>\n",
       "      <th>FAF</th>\n",
       "      <th>TUE</th>\n",
       "      <th>CALC</th>\n",
       "      <th>MTRANS</th>\n",
       "      <th>NObeyesdad</th>\n",
       "    </tr>\n",
       "  </thead>\n",
       "  <tbody>\n",
       "    <tr>\n",
       "      <th>0</th>\n",
       "      <td>1</td>\n",
       "      <td>1095</td>\n",
       "      <td>933</td>\n",
       "      <td>1839</td>\n",
       "      <td>1</td>\n",
       "      <td>1</td>\n",
       "      <td>265</td>\n",
       "      <td>589</td>\n",
       "      <td>2</td>\n",
       "      <td>0</td>\n",
       "      <td>1491</td>\n",
       "      <td>0</td>\n",
       "      <td>0</td>\n",
       "      <td>1053</td>\n",
       "      <td>2</td>\n",
       "      <td>3</td>\n",
       "      <td>6.0</td>\n",
       "    </tr>\n",
       "    <tr>\n",
       "      <th>1</th>\n",
       "      <td>0</td>\n",
       "      <td>108</td>\n",
       "      <td>128</td>\n",
       "      <td>1376</td>\n",
       "      <td>1</td>\n",
       "      <td>1</td>\n",
       "      <td>265</td>\n",
       "      <td>624</td>\n",
       "      <td>1</td>\n",
       "      <td>0</td>\n",
       "      <td>756</td>\n",
       "      <td>0</td>\n",
       "      <td>751</td>\n",
       "      <td>1068</td>\n",
       "      <td>3</td>\n",
       "      <td>0</td>\n",
       "      <td>1.0</td>\n",
       "    </tr>\n",
       "    <tr>\n",
       "      <th>2</th>\n",
       "      <td>0</td>\n",
       "      <td>108</td>\n",
       "      <td>1040</td>\n",
       "      <td>1253</td>\n",
       "      <td>1</td>\n",
       "      <td>1</td>\n",
       "      <td>206</td>\n",
       "      <td>127</td>\n",
       "      <td>2</td>\n",
       "      <td>0</td>\n",
       "      <td>659</td>\n",
       "      <td>0</td>\n",
       "      <td>587</td>\n",
       "      <td>1322</td>\n",
       "      <td>3</td>\n",
       "      <td>3</td>\n",
       "      <td>0.0</td>\n",
       "    </tr>\n",
       "    <tr>\n",
       "      <th>3</th>\n",
       "      <td>0</td>\n",
       "      <td>522</td>\n",
       "      <td>1035</td>\n",
       "      <td>936</td>\n",
       "      <td>1</td>\n",
       "      <td>1</td>\n",
       "      <td>1053</td>\n",
       "      <td>624</td>\n",
       "      <td>2</td>\n",
       "      <td>0</td>\n",
       "      <td>464</td>\n",
       "      <td>0</td>\n",
       "      <td>1040</td>\n",
       "      <td>806</td>\n",
       "      <td>2</td>\n",
       "      <td>3</td>\n",
       "      <td>4.0</td>\n",
       "    </tr>\n",
       "    <tr>\n",
       "      <th>4</th>\n",
       "      <td>1</td>\n",
       "      <td>1605</td>\n",
       "      <td>2050</td>\n",
       "      <td>2205</td>\n",
       "      <td>1</td>\n",
       "      <td>1</td>\n",
       "      <td>735</td>\n",
       "      <td>252</td>\n",
       "      <td>2</td>\n",
       "      <td>0</td>\n",
       "      <td>727</td>\n",
       "      <td>0</td>\n",
       "      <td>1330</td>\n",
       "      <td>995</td>\n",
       "      <td>2</td>\n",
       "      <td>3</td>\n",
       "      <td>6.0</td>\n",
       "    </tr>\n",
       "  </tbody>\n",
       "</table>\n",
       "</div>"
      ],
      "text/plain": [
       "   Gender   Age  Height  Weight  family_history_with_overweight  FAVC  FCVC  \\\n",
       "0       1  1095     933    1839                               1     1   265   \n",
       "1       0   108     128    1376                               1     1   265   \n",
       "2       0   108    1040    1253                               1     1   206   \n",
       "3       0   522    1035     936                               1     1  1053   \n",
       "4       1  1605    2050    2205                               1     1   735   \n",
       "\n",
       "   NCP  CAEC  SMOKE  CH2O  SCC   FAF   TUE  CALC  MTRANS  NObeyesdad  \n",
       "0  589     2      0  1491    0     0  1053     2       3         6.0  \n",
       "1  624     1      0   756    0   751  1068     3       0         1.0  \n",
       "2  127     2      0   659    0   587  1322     3       3         0.0  \n",
       "3  624     2      0   464    0  1040   806     2       3         4.0  \n",
       "4  252     2      0   727    0  1330   995     2       3         6.0  "
      ]
     },
     "execution_count": 4,
     "metadata": {},
     "output_type": "execute_result"
    }
   ],
   "source": [
    "train.head()"
   ]
  },
  {
   "cell_type": "code",
   "execution_count": 5,
   "id": "bf17c1c6",
   "metadata": {
    "execution": {
     "iopub.execute_input": "2024-02-03T07:12:14.229730Z",
     "iopub.status.busy": "2024-02-03T07:12:14.229458Z",
     "iopub.status.idle": "2024-02-03T07:12:14.236273Z",
     "shell.execute_reply": "2024-02-03T07:12:14.235401Z"
    },
    "papermill": {
     "duration": 0.018698,
     "end_time": "2024-02-03T07:12:14.238570",
     "exception": false,
     "start_time": "2024-02-03T07:12:14.219872",
     "status": "completed"
    },
    "tags": []
   },
   "outputs": [],
   "source": [
    "target_col = 'NObeyesdad'\n",
    "\n",
    "X = train.drop([target_col], axis=1) # 目的変数を指定する\n",
    "y = train[target_col].values # 目的変数を指定する"
   ]
  },
  {
   "cell_type": "markdown",
   "id": "0c002229",
   "metadata": {
    "papermill": {
     "duration": 0.007761,
     "end_time": "2024-02-03T07:12:14.254526",
     "exception": false,
     "start_time": "2024-02-03T07:12:14.246765",
     "status": "completed"
    },
    "tags": []
   },
   "source": [
    "# 機械学習モデルの構築・学習・予測"
   ]
  },
  {
   "cell_type": "code",
   "execution_count": 6,
   "id": "1280a8e2",
   "metadata": {
    "execution": {
     "iopub.execute_input": "2024-02-03T07:12:14.271630Z",
     "iopub.status.busy": "2024-02-03T07:12:14.271340Z",
     "iopub.status.idle": "2024-02-03T07:12:20.113605Z",
     "shell.execute_reply": "2024-02-03T07:12:20.112657Z"
    },
    "papermill": {
     "duration": 5.853674,
     "end_time": "2024-02-03T07:12:20.116069",
     "exception": false,
     "start_time": "2024-02-03T07:12:14.262395",
     "status": "completed"
    },
    "tags": []
   },
   "outputs": [
    {
     "name": "stderr",
     "output_type": "stream",
     "text": [
      "/opt/conda/lib/python3.10/site-packages/dask/dataframe/_pyarrow_compat.py:23: UserWarning: You are using pyarrow version 11.0.0 which is known to be insecure. See https://www.cve.org/CVERecord?id=CVE-2023-47248 for further details. Please upgrade to pyarrow>=14.0.1 or install pyarrow-hotfix to patch your current version.\n",
      "  warnings.warn(\n"
     ]
    }
   ],
   "source": [
    "from sklearn.model_selection import train_test_split\n",
    "from sklearn.metrics import accuracy_score\n",
    "\n",
    "from xgboost import XGBClassifier\n",
    "from lightgbm import LGBMClassifier\n",
    "from catboost import CatBoostClassifier\n",
    "\n",
    "sample_sub = pd.read_csv(FILE_PATH + \"sample_submission.csv\")"
   ]
  },
  {
   "cell_type": "code",
   "execution_count": 7,
   "id": "ad39cbcb",
   "metadata": {
    "execution": {
     "iopub.execute_input": "2024-02-03T07:12:20.134128Z",
     "iopub.status.busy": "2024-02-03T07:12:20.133829Z",
     "iopub.status.idle": "2024-02-03T07:12:20.142768Z",
     "shell.execute_reply": "2024-02-03T07:12:20.141673Z"
    },
    "papermill": {
     "duration": 0.020079,
     "end_time": "2024-02-03T07:12:20.144731",
     "exception": false,
     "start_time": "2024-02-03T07:12:20.124652",
     "status": "completed"
    },
    "tags": []
   },
   "outputs": [],
   "source": [
    "# 混同行列\n",
    "from sklearn.metrics import confusion_matrix\n",
    "from sklearn.metrics import ConfusionMatrixDisplay\n",
    "import matplotlib.pyplot as plt\n",
    "\n",
    "# 機械学習モデルのフォーマットを設定\n",
    "seed = 42\n",
    "\n",
    "xgb = XGBClassifier(random_state=seed)\n",
    "lgb = LGBMClassifier(random_state=seed)\n",
    "cb = CatBoostClassifier(random_state=seed, verbose=0)\n",
    "\n",
    "submit = False"
   ]
  },
  {
   "cell_type": "markdown",
   "id": "092d3045",
   "metadata": {
    "papermill": {
     "duration": 0.007752,
     "end_time": "2024-02-03T07:12:20.160541",
     "exception": false,
     "start_time": "2024-02-03T07:12:20.152789",
     "status": "completed"
    },
    "tags": []
   },
   "source": [
    "## ハイパーパラメータ(optuna)"
   ]
  },
  {
   "cell_type": "markdown",
   "id": "7fba52e8",
   "metadata": {
    "papermill": {
     "duration": 0.007832,
     "end_time": "2024-02-03T07:12:20.176322",
     "exception": false,
     "start_time": "2024-02-03T07:12:20.168490",
     "status": "completed"
    },
    "tags": []
   },
   "source": [
    "### Catboost"
   ]
  },
  {
   "cell_type": "code",
   "execution_count": 8,
   "id": "364392b9",
   "metadata": {
    "execution": {
     "iopub.execute_input": "2024-02-03T07:12:20.193468Z",
     "iopub.status.busy": "2024-02-03T07:12:20.193156Z",
     "iopub.status.idle": "2024-02-03T07:32:11.370526Z",
     "shell.execute_reply": "2024-02-03T07:32:11.369717Z"
    },
    "papermill": {
     "duration": 1191.195965,
     "end_time": "2024-02-03T07:32:11.380239",
     "exception": false,
     "start_time": "2024-02-03T07:12:20.184274",
     "status": "completed"
    },
    "tags": []
   },
   "outputs": [
    {
     "name": "stderr",
     "output_type": "stream",
     "text": [
      "[I 2024-02-03 07:12:20,203] A new study created in memory with name: no-name-74b44108-0a18-42c1-aecc-af7b16668ad1\n",
      "[I 2024-02-03 07:12:29,131] Trial 0 finished with value: 0.18762042389210018 and parameters: {'iterations': 869, 'depth': 4, 'min_data_in_leaf': 2, 'learning_rate': 0.00017091219408304231}. Best is trial 0 with value: 0.18762042389210018.\n",
      "[I 2024-02-03 07:12:34,474] Trial 1 finished with value: 0.12572254335260116 and parameters: {'iterations': 712, 'depth': 3, 'min_data_in_leaf': 12, 'learning_rate': 0.04280698096811655}. Best is trial 0 with value: 0.18762042389210018.\n",
      "[I 2024-02-03 07:12:59,242] Trial 2 finished with value: 0.12692678227360307 and parameters: {'iterations': 635, 'depth': 8, 'min_data_in_leaf': 20, 'learning_rate': 0.010862323892121974}. Best is trial 0 with value: 0.18762042389210018.\n",
      "[I 2024-02-03 07:13:06,201] Trial 3 finished with value: 0.12789017341040462 and parameters: {'iterations': 765, 'depth': 5, 'min_data_in_leaf': 12, 'learning_rate': 0.11200012976498534}. Best is trial 0 with value: 0.18762042389210018.\n",
      "[I 2024-02-03 07:13:59,286] Trial 4 finished with value: 0.12572254335260116 and parameters: {'iterations': 508, 'depth': 10, 'min_data_in_leaf': 17, 'learning_rate': 0.060076293813233275}. Best is trial 0 with value: 0.18762042389210018.\n",
      "[I 2024-02-03 07:14:02,370] Trial 5 finished with value: 0.10332369942196531 and parameters: {'iterations': 233, 'depth': 5, 'min_data_in_leaf': 3, 'learning_rate': 0.0013493089602150277}. Best is trial 0 with value: 0.18762042389210018.\n",
      "[I 2024-02-03 07:14:58,284] Trial 6 finished with value: 0.12620423892100194 and parameters: {'iterations': 915, 'depth': 9, 'min_data_in_leaf': 20, 'learning_rate': 0.0038324728600153926}. Best is trial 0 with value: 0.18762042389210018.\n",
      "[I 2024-02-03 07:15:23,312] Trial 7 finished with value: 0.12668593448940269 and parameters: {'iterations': 406, 'depth': 9, 'min_data_in_leaf': 18, 'learning_rate': 0.04330128342199485}. Best is trial 0 with value: 0.18762042389210018.\n",
      "[I 2024-02-03 07:15:31,738] Trial 8 finished with value: 0.12210982658959538 and parameters: {'iterations': 527, 'depth': 6, 'min_data_in_leaf': 4, 'learning_rate': 0.0029540214548940363}. Best is trial 0 with value: 0.18762042389210018.\n",
      "[I 2024-02-03 07:16:00,448] Trial 9 finished with value: 0.10549132947976879 and parameters: {'iterations': 734, 'depth': 8, 'min_data_in_leaf': 5, 'learning_rate': 0.00019766994009357992}. Best is trial 0 with value: 0.18762042389210018.\n",
      "[I 2024-02-03 07:16:08,962] Trial 10 finished with value: 0.18762042389210018 and parameters: {'iterations': 989, 'depth': 3, 'min_data_in_leaf': 8, 'learning_rate': 0.00010369698816737995}. Best is trial 0 with value: 0.18762042389210018.\n",
      "[I 2024-02-03 07:16:17,524] Trial 11 finished with value: 0.18762042389210018 and parameters: {'iterations': 998, 'depth': 3, 'min_data_in_leaf': 9, 'learning_rate': 0.00013038846215709395}. Best is trial 0 with value: 0.18762042389210018.\n",
      "[I 2024-02-03 07:16:26,917] Trial 12 finished with value: 0.18762042389210018 and parameters: {'iterations': 878, 'depth': 4, 'min_data_in_leaf': 8, 'learning_rate': 0.0004327683257651569}. Best is trial 0 with value: 0.18762042389210018.\n",
      "[I 2024-02-03 07:16:37,305] Trial 13 finished with value: 0.18762042389210018 and parameters: {'iterations': 1000, 'depth': 4, 'min_data_in_leaf': 2, 'learning_rate': 0.0005961293386973429}. Best is trial 0 with value: 0.18762042389210018.\n",
      "[I 2024-02-03 07:16:44,638] Trial 14 finished with value: 0.18762042389210018 and parameters: {'iterations': 858, 'depth': 3, 'min_data_in_leaf': 7, 'learning_rate': 0.00012670020946033416}. Best is trial 0 with value: 0.18762042389210018.\n",
      "[I 2024-02-03 07:16:58,598] Trial 15 finished with value: 0.09922928709055877 and parameters: {'iterations': 827, 'depth': 6, 'min_data_in_leaf': 14, 'learning_rate': 0.0004230778934746303}. Best is trial 0 with value: 0.18762042389210018.\n",
      "[I 2024-02-03 07:17:08,161] Trial 16 finished with value: 0.10934489402697495 and parameters: {'iterations': 927, 'depth': 4, 'min_data_in_leaf': 6, 'learning_rate': 0.0013043290881713807}. Best is trial 0 with value: 0.18762042389210018.\n",
      "[I 2024-02-03 07:17:15,600] Trial 17 finished with value: 0.12644508670520233 and parameters: {'iterations': 648, 'depth': 5, 'min_data_in_leaf': 10, 'learning_rate': 0.012078877489567735}. Best is trial 0 with value: 0.18762042389210018.\n",
      "[I 2024-02-03 07:17:36,791] Trial 18 finished with value: 0.09730250481695568 and parameters: {'iterations': 774, 'depth': 7, 'min_data_in_leaf': 2, 'learning_rate': 0.00010007662186095507}. Best is trial 0 with value: 0.18762042389210018.\n",
      "[I 2024-02-03 07:17:40,396] Trial 19 finished with value: 0.18762042389210018 and parameters: {'iterations': 345, 'depth': 4, 'min_data_in_leaf': 5, 'learning_rate': 0.0003296734846457876}. Best is trial 0 with value: 0.18762042389210018.\n",
      "[I 2024-02-03 07:17:48,555] Trial 20 finished with value: 0.18762042389210018 and parameters: {'iterations': 947, 'depth': 3, 'min_data_in_leaf': 14, 'learning_rate': 0.000970786152533268}. Best is trial 0 with value: 0.18762042389210018.\n",
      "[I 2024-02-03 07:17:56,987] Trial 21 finished with value: 0.18762042389210018 and parameters: {'iterations': 986, 'depth': 3, 'min_data_in_leaf': 9, 'learning_rate': 0.00022666995507273125}. Best is trial 0 with value: 0.18762042389210018.\n",
      "[I 2024-02-03 07:18:04,758] Trial 22 finished with value: 0.18762042389210018 and parameters: {'iterations': 852, 'depth': 3, 'min_data_in_leaf': 8, 'learning_rate': 0.00011046985093785841}. Best is trial 0 with value: 0.18762042389210018.\n",
      "[I 2024-02-03 07:18:15,014] Trial 23 finished with value: 0.18762042389210018 and parameters: {'iterations': 995, 'depth': 4, 'min_data_in_leaf': 10, 'learning_rate': 0.00021312346768487616}. Best is trial 0 with value: 0.18762042389210018.\n",
      "[I 2024-02-03 07:18:25,226] Trial 24 finished with value: 0.10332369942196531 and parameters: {'iterations': 800, 'depth': 5, 'min_data_in_leaf': 13, 'learning_rate': 0.0007162088829129771}. Best is trial 0 with value: 0.18762042389210018.\n",
      "[I 2024-02-03 07:18:33,488] Trial 25 finished with value: 0.18762042389210018 and parameters: {'iterations': 904, 'depth': 3, 'min_data_in_leaf': 7, 'learning_rate': 0.00023186690092152397}. Best is trial 0 with value: 0.18762042389210018.\n",
      "[I 2024-02-03 07:18:43,076] Trial 26 finished with value: 0.128131021194605 and parameters: {'iterations': 948, 'depth': 4, 'min_data_in_leaf': 16, 'learning_rate': 0.0024143831913494545}. Best is trial 0 with value: 0.18762042389210018.\n",
      "[I 2024-02-03 07:18:57,149] Trial 27 finished with value: 0.10139691714836223 and parameters: {'iterations': 864, 'depth': 6, 'min_data_in_leaf': 11, 'learning_rate': 0.00016577308912916374}. Best is trial 0 with value: 0.18762042389210018.\n",
      "[I 2024-02-03 07:19:05,065] Trial 28 finished with value: 0.12716763005780346 and parameters: {'iterations': 954, 'depth': 3, 'min_data_in_leaf': 4, 'learning_rate': 0.00641891227679776}. Best is trial 0 with value: 0.18762042389210018.\n",
      "[I 2024-02-03 07:19:11,323] Trial 29 finished with value: 0.18762042389210018 and parameters: {'iterations': 719, 'depth': 3, 'min_data_in_leaf': 9, 'learning_rate': 0.0003525017697350276}. Best is trial 0 with value: 0.18762042389210018.\n",
      "[I 2024-02-03 07:19:19,832] Trial 30 finished with value: 0.10163776493256262 and parameters: {'iterations': 672, 'depth': 5, 'min_data_in_leaf': 6, 'learning_rate': 0.000631199033967293}. Best is trial 0 with value: 0.18762042389210018.\n",
      "[I 2024-02-03 07:19:28,893] Trial 31 finished with value: 0.18762042389210018 and parameters: {'iterations': 890, 'depth': 4, 'min_data_in_leaf': 8, 'learning_rate': 0.00036296877151078345}. Best is trial 0 with value: 0.18762042389210018.\n",
      "[I 2024-02-03 07:19:37,582] Trial 32 finished with value: 0.18762042389210018 and parameters: {'iterations': 809, 'depth': 4, 'min_data_in_leaf': 11, 'learning_rate': 0.00015592199780115997}. Best is trial 0 with value: 0.18762042389210018.\n",
      "[I 2024-02-03 07:19:43,502] Trial 33 finished with value: 0.18762042389210018 and parameters: {'iterations': 582, 'depth': 4, 'min_data_in_leaf': 8, 'learning_rate': 0.00011049969438628603}. Best is trial 0 with value: 0.18762042389210018.\n",
      "[I 2024-02-03 07:19:51,175] Trial 34 finished with value: 0.18762042389210018 and parameters: {'iterations': 889, 'depth': 3, 'min_data_in_leaf': 12, 'learning_rate': 0.00028298741484449736}. Best is trial 0 with value: 0.18762042389210018.\n",
      "[I 2024-02-03 07:20:01,801] Trial 35 finished with value: 0.12668593448940269 and parameters: {'iterations': 961, 'depth': 5, 'min_data_in_leaf': 10, 'learning_rate': 0.019217145203146806}. Best is trial 0 with value: 0.18762042389210018.\n",
      "[I 2024-02-03 07:20:22,517] Trial 36 finished with value: 0.09802504816955684 and parameters: {'iterations': 765, 'depth': 7, 'min_data_in_leaf': 6, 'learning_rate': 0.0004929923378548897}. Best is trial 0 with value: 0.18762042389210018.\n",
      "[I 2024-02-03 07:20:30,165] Trial 37 finished with value: 0.12668593448940269 and parameters: {'iterations': 914, 'depth': 5, 'min_data_in_leaf': 9, 'learning_rate': 0.13299332910365977}. Best is trial 0 with value: 0.18762042389210018.\n",
      "[I 2024-02-03 07:20:37,237] Trial 38 finished with value: 0.18762042389210018 and parameters: {'iterations': 819, 'depth': 3, 'min_data_in_leaf': 3, 'learning_rate': 0.0020504214475394016}. Best is trial 0 with value: 0.18762042389210018.\n",
      "[I 2024-02-03 07:21:22,549] Trial 39 finished with value: 0.11657032755298652 and parameters: {'iterations': 439, 'depth': 10, 'min_data_in_leaf': 7, 'learning_rate': 0.00016614974174828246}. Best is trial 0 with value: 0.18762042389210018.\n",
      "[I 2024-02-03 07:21:28,326] Trial 40 finished with value: 0.12789017341040462 and parameters: {'iterations': 872, 'depth': 4, 'min_data_in_leaf': 4, 'learning_rate': 0.19800782015710178}. Best is trial 0 with value: 0.18762042389210018.\n",
      "[I 2024-02-03 07:21:38,346] Trial 41 finished with value: 0.18762042389210018 and parameters: {'iterations': 968, 'depth': 4, 'min_data_in_leaf': 2, 'learning_rate': 0.0007336838069312931}. Best is trial 0 with value: 0.18762042389210018.\n",
      "[I 2024-02-03 07:21:49,028] Trial 42 finished with value: 0.18762042389210018 and parameters: {'iterations': 995, 'depth': 4, 'min_data_in_leaf': 3, 'learning_rate': 0.0005121129095127463}. Best is trial 0 with value: 0.18762042389210018.\n",
      "[I 2024-02-03 07:21:57,558] Trial 43 finished with value: 0.18762042389210018 and parameters: {'iterations': 996, 'depth': 3, 'min_data_in_leaf': 2, 'learning_rate': 0.0002534726836432861}. Best is trial 0 with value: 0.18762042389210018.\n",
      "[I 2024-02-03 07:22:00,229] Trial 44 finished with value: 0.10211946050096339 and parameters: {'iterations': 208, 'depth': 5, 'min_data_in_leaf': 5, 'learning_rate': 0.0012562100272193546}. Best is trial 0 with value: 0.18762042389210018.\n",
      "[I 2024-02-03 07:22:56,022] Trial 45 finished with value: 0.11584778420038536 and parameters: {'iterations': 916, 'depth': 9, 'min_data_in_leaf': 3, 'learning_rate': 0.00014916125204388498}. Best is trial 0 with value: 0.18762042389210018.\n",
      "[I 2024-02-03 07:23:11,150] Trial 46 finished with value: 0.10211946050096339 and parameters: {'iterations': 934, 'depth': 6, 'min_data_in_leaf': 5, 'learning_rate': 0.00010003100880999226}. Best is trial 0 with value: 0.18762042389210018.\n",
      "[I 2024-02-03 07:23:20,266] Trial 47 finished with value: 0.18762042389210018 and parameters: {'iterations': 841, 'depth': 4, 'min_data_in_leaf': 19, 'learning_rate': 0.000453494246164931}. Best is trial 0 with value: 0.18762042389210018.\n",
      "[I 2024-02-03 07:23:26,841] Trial 48 finished with value: 0.18762042389210018 and parameters: {'iterations': 770, 'depth': 3, 'min_data_in_leaf': 15, 'learning_rate': 0.0009485162888483807}. Best is trial 0 with value: 0.18762042389210018.\n",
      "[I 2024-02-03 07:23:30,399] Trial 49 finished with value: 0.10380539499036609 and parameters: {'iterations': 273, 'depth': 5, 'min_data_in_leaf': 12, 'learning_rate': 0.0017642034779962175}. Best is trial 0 with value: 0.18762042389210018.\n",
      "[I 2024-02-03 07:23:38,703] Trial 50 finished with value: 0.18762042389210018 and parameters: {'iterations': 966, 'depth': 3, 'min_data_in_leaf': 6, 'learning_rate': 0.0003042023570929083}. Best is trial 0 with value: 0.18762042389210018.\n",
      "[I 2024-02-03 07:23:46,028] Trial 51 finished with value: 0.18762042389210018 and parameters: {'iterations': 853, 'depth': 3, 'min_data_in_leaf': 7, 'learning_rate': 0.00014711860013438198}. Best is trial 0 with value: 0.18762042389210018.\n",
      "[I 2024-02-03 07:23:55,848] Trial 52 finished with value: 0.18762042389210018 and parameters: {'iterations': 922, 'depth': 4, 'min_data_in_leaf': 8, 'learning_rate': 0.00019608372578164653}. Best is trial 0 with value: 0.18762042389210018.\n",
      "[I 2024-02-03 07:24:03,411] Trial 53 finished with value: 0.18762042389210018 and parameters: {'iterations': 884, 'depth': 3, 'min_data_in_leaf': 9, 'learning_rate': 0.00012956663901042594}. Best is trial 0 with value: 0.18762042389210018.\n",
      "[I 2024-02-03 07:24:10,382] Trial 54 finished with value: 0.18762042389210018 and parameters: {'iterations': 680, 'depth': 4, 'min_data_in_leaf': 7, 'learning_rate': 0.00020267697391869376}. Best is trial 0 with value: 0.18762042389210018.\n",
      "[I 2024-02-03 07:24:15,486] Trial 55 finished with value: 0.18762042389210018 and parameters: {'iterations': 588, 'depth': 3, 'min_data_in_leaf': 4, 'learning_rate': 0.0001288026425711686}. Best is trial 0 with value: 0.18762042389210018.\n",
      "[I 2024-02-03 07:24:23,341] Trial 56 finished with value: 0.12764932562620424 and parameters: {'iterations': 940, 'depth': 3, 'min_data_in_leaf': 2, 'learning_rate': 0.004449340054522216}. Best is trial 0 with value: 0.18762042389210018.\n",
      "[I 2024-02-03 07:24:33,557] Trial 57 finished with value: 0.18762042389210018 and parameters: {'iterations': 1000, 'depth': 4, 'min_data_in_leaf': 9, 'learning_rate': 0.00024981130482076353}. Best is trial 0 with value: 0.18762042389210018.\n",
      "[I 2024-02-03 07:24:45,558] Trial 58 finished with value: 0.09947013487475916 and parameters: {'iterations': 740, 'depth': 6, 'min_data_in_leaf': 11, 'learning_rate': 0.00038197084631117395}. Best is trial 0 with value: 0.18762042389210018.\n",
      "[I 2024-02-03 07:25:16,322] Trial 59 finished with value: 0.11681117533718689 and parameters: {'iterations': 791, 'depth': 8, 'min_data_in_leaf': 10, 'learning_rate': 0.0006050276420437009}. Best is trial 0 with value: 0.18762042389210018.\n",
      "[I 2024-02-03 07:25:23,901] Trial 60 finished with value: 0.18762042389210018 and parameters: {'iterations': 838, 'depth': 3, 'min_data_in_leaf': 7, 'learning_rate': 0.0001882791316473926}. Best is trial 0 with value: 0.18762042389210018.\n",
      "[I 2024-02-03 07:25:28,846] Trial 61 finished with value: 0.18762042389210018 and parameters: {'iterations': 476, 'depth': 4, 'min_data_in_leaf': 5, 'learning_rate': 0.0003257662291452947}. Best is trial 0 with value: 0.18762042389210018.\n",
      "[I 2024-02-03 07:25:32,393] Trial 62 finished with value: 0.18762042389210018 and parameters: {'iterations': 345, 'depth': 4, 'min_data_in_leaf': 6, 'learning_rate': 0.00011849969558374333}. Best is trial 0 with value: 0.18762042389210018.\n",
      "[I 2024-02-03 07:25:36,077] Trial 63 finished with value: 0.18762042389210018 and parameters: {'iterations': 354, 'depth': 4, 'min_data_in_leaf': 8, 'learning_rate': 0.0002575394847119005}. Best is trial 0 with value: 0.18762042389210018.\n",
      "[I 2024-02-03 07:25:43,219] Trial 64 finished with value: 0.10163776493256262 and parameters: {'iterations': 553, 'depth': 5, 'min_data_in_leaf': 3, 'learning_rate': 0.0008581497310243226}. Best is trial 0 with value: 0.18762042389210018.\n",
      "[I 2024-02-03 07:25:51,647] Trial 65 finished with value: 0.18762042389210018 and parameters: {'iterations': 975, 'depth': 3, 'min_data_in_leaf': 4, 'learning_rate': 0.00039227614169586386}. Best is trial 0 with value: 0.18762042389210018.\n",
      "[I 2024-02-03 07:26:15,847] Trial 66 finished with value: 0.09778420038535646 and parameters: {'iterations': 898, 'depth': 7, 'min_data_in_leaf': 5, 'learning_rate': 0.0001623168395054213}. Best is trial 0 with value: 0.18762042389210018.\n",
      "[I 2024-02-03 07:26:24,780] Trial 67 finished with value: 0.12620423892100194 and parameters: {'iterations': 946, 'depth': 4, 'min_data_in_leaf': 8, 'learning_rate': 0.006516999568093203}. Best is trial 0 with value: 0.18762042389210018.\n",
      "[I 2024-02-03 07:26:31,944] Trial 68 finished with value: 0.12427745664739884 and parameters: {'iterations': 877, 'depth': 3, 'min_data_in_leaf': 6, 'learning_rate': 0.01941579113726421}. Best is trial 0 with value: 0.18762042389210018.\n",
      "[I 2024-02-03 07:26:41,301] Trial 69 finished with value: 0.18762042389210018 and parameters: {'iterations': 915, 'depth': 4, 'min_data_in_leaf': 9, 'learning_rate': 0.00029377963843023704}. Best is trial 0 with value: 0.18762042389210018.\n",
      "[I 2024-02-03 07:26:49,705] Trial 70 finished with value: 0.18762042389210018 and parameters: {'iterations': 972, 'depth': 3, 'min_data_in_leaf': 10, 'learning_rate': 0.00010258868919704418}. Best is trial 0 with value: 0.18762042389210018.\n",
      "[I 2024-02-03 07:26:58,142] Trial 71 finished with value: 0.18762042389210018 and parameters: {'iterations': 947, 'depth': 3, 'min_data_in_leaf': 13, 'learning_rate': 0.001143701882025731}. Best is trial 0 with value: 0.18762042389210018.\n",
      "[I 2024-02-03 07:27:06,490] Trial 72 finished with value: 0.18762042389210018 and parameters: {'iterations': 977, 'depth': 3, 'min_data_in_leaf': 16, 'learning_rate': 0.0006074931745194648}. Best is trial 0 with value: 0.18762042389210018.\n",
      "[I 2024-02-03 07:27:17,414] Trial 73 finished with value: 0.12259152215799615 and parameters: {'iterations': 860, 'depth': 5, 'min_data_in_leaf': 2, 'learning_rate': 0.001660904850008035}. Best is trial 0 with value: 0.18762042389210018.\n",
      "[I 2024-02-03 07:27:22,662] Trial 74 finished with value: 0.1216281310211946 and parameters: {'iterations': 635, 'depth': 3, 'min_data_in_leaf': 7, 'learning_rate': 0.0032307046176699833}. Best is trial 0 with value: 0.18762042389210018.\n",
      "[I 2024-02-03 07:27:25,443] Trial 75 finished with value: 0.18762042389210018 and parameters: {'iterations': 268, 'depth': 4, 'min_data_in_leaf': 14, 'learning_rate': 0.0005106902065148837}. Best is trial 0 with value: 0.18762042389210018.\n",
      "[I 2024-02-03 07:27:33,920] Trial 76 finished with value: 0.18762042389210018 and parameters: {'iterations': 931, 'depth': 3, 'min_data_in_leaf': 17, 'learning_rate': 0.00021866736945893892}. Best is trial 0 with value: 0.18762042389210018.\n",
      "[I 2024-02-03 07:27:42,387] Trial 77 finished with value: 0.18762042389210018 and parameters: {'iterations': 823, 'depth': 4, 'min_data_in_leaf': 4, 'learning_rate': 0.0001377379034883917}. Best is trial 0 with value: 0.18762042389210018.\n",
      "[I 2024-02-03 07:27:53,908] Trial 78 finished with value: 0.10091522157996147 and parameters: {'iterations': 906, 'depth': 5, 'min_data_in_leaf': 10, 'learning_rate': 0.0008353467534432366}. Best is trial 0 with value: 0.18762042389210018.\n",
      "[I 2024-02-03 07:28:01,179] Trial 79 finished with value: 0.18762042389210018 and parameters: {'iterations': 794, 'depth': 3, 'min_data_in_leaf': 8, 'learning_rate': 0.000409859234700784}. Best is trial 0 with value: 0.18762042389210018.\n",
      "[I 2024-02-03 07:28:10,995] Trial 80 finished with value: 0.18762042389210018 and parameters: {'iterations': 957, 'depth': 4, 'min_data_in_leaf': 3, 'learning_rate': 0.00017342839067930783}. Best is trial 0 with value: 0.18762042389210018.\n",
      "[I 2024-02-03 07:28:19,490] Trial 81 finished with value: 0.18762042389210018 and parameters: {'iterations': 988, 'depth': 3, 'min_data_in_leaf': 9, 'learning_rate': 0.0002255332820504957}. Best is trial 0 with value: 0.18762042389210018.\n",
      "[I 2024-02-03 07:28:27,915] Trial 82 finished with value: 0.18762042389210018 and parameters: {'iterations': 984, 'depth': 3, 'min_data_in_leaf': 11, 'learning_rate': 0.00033376652095017573}. Best is trial 0 with value: 0.18762042389210018.\n",
      "[I 2024-02-03 07:28:36,403] Trial 83 finished with value: 0.18762042389210018 and parameters: {'iterations': 949, 'depth': 3, 'min_data_in_leaf': 9, 'learning_rate': 0.0001225180531831314}. Best is trial 0 with value: 0.18762042389210018.\n",
      "[I 2024-02-03 07:29:37,282] Trial 84 finished with value: 0.11632947976878613 and parameters: {'iterations': 1000, 'depth': 9, 'min_data_in_leaf': 7, 'learning_rate': 0.00018270941041314558}. Best is trial 0 with value: 0.18762042389210018.\n",
      "[I 2024-02-03 07:29:46,338] Trial 85 finished with value: 0.18762042389210018 and parameters: {'iterations': 889, 'depth': 4, 'min_data_in_leaf': 8, 'learning_rate': 0.0002792514549189059}. Best is trial 0 with value: 0.18762042389210018.\n",
      "[I 2024-02-03 07:29:54,396] Trial 86 finished with value: 0.18762042389210018 and parameters: {'iterations': 932, 'depth': 3, 'min_data_in_leaf': 6, 'learning_rate': 0.0010044342206883725}. Best is trial 0 with value: 0.18762042389210018.\n",
      "[I 2024-02-03 07:30:02,642] Trial 87 finished with value: 0.18762042389210018 and parameters: {'iterations': 960, 'depth': 3, 'min_data_in_leaf': 10, 'learning_rate': 0.0004859567743390651}. Best is trial 0 with value: 0.18762042389210018.\n",
      "[I 2024-02-03 07:30:12,273] Trial 88 finished with value: 0.18762042389210018 and parameters: {'iterations': 907, 'depth': 4, 'min_data_in_leaf': 2, 'learning_rate': 0.0001499390043842512}. Best is trial 0 with value: 0.18762042389210018.\n",
      "[I 2024-02-03 07:30:21,277] Trial 89 finished with value: 0.18762042389210018 and parameters: {'iterations': 866, 'depth': 4, 'min_data_in_leaf': 13, 'learning_rate': 0.0002284767606932064}. Best is trial 0 with value: 0.18762042389210018.\n",
      "[I 2024-02-03 07:31:02,580] Trial 90 finished with value: 0.1182562620423892 and parameters: {'iterations': 401, 'depth': 10, 'min_data_in_leaf': 12, 'learning_rate': 0.0006888926392963396}. Best is trial 0 with value: 0.18762042389210018.\n",
      "[I 2024-02-03 07:31:06,919] Trial 91 finished with value: 0.18762042389210018 and parameters: {'iterations': 507, 'depth': 3, 'min_data_in_leaf': 8, 'learning_rate': 0.00011414548582263744}. Best is trial 0 with value: 0.18762042389210018.\n",
      "[I 2024-02-03 07:31:14,633] Trial 92 finished with value: 0.18762042389210018 and parameters: {'iterations': 848, 'depth': 3, 'min_data_in_leaf': 9, 'learning_rate': 0.00013507405125929659}. Best is trial 0 with value: 0.18762042389210018.\n",
      "[I 2024-02-03 07:31:20,971] Trial 93 finished with value: 0.18762042389210018 and parameters: {'iterations': 733, 'depth': 3, 'min_data_in_leaf': 7, 'learning_rate': 0.00010215578738548441}. Best is trial 0 with value: 0.18762042389210018.\n",
      "[I 2024-02-03 07:31:30,462] Trial 94 finished with value: 0.18762042389210018 and parameters: {'iterations': 925, 'depth': 4, 'min_data_in_leaf': 8, 'learning_rate': 0.00018905914784723266}. Best is trial 0 with value: 0.18762042389210018.\n",
      "[I 2024-02-03 07:31:38,929] Trial 95 finished with value: 0.18762042389210018 and parameters: {'iterations': 977, 'depth': 3, 'min_data_in_leaf': 3, 'learning_rate': 0.00015953507120188793}. Best is trial 0 with value: 0.18762042389210018.\n",
      "[I 2024-02-03 07:31:46,375] Trial 96 finished with value: 0.18762042389210018 and parameters: {'iterations': 819, 'depth': 3, 'min_data_in_leaf': 20, 'learning_rate': 0.00033707886957327096}. Best is trial 0 with value: 0.18762042389210018.\n",
      "[I 2024-02-03 07:31:55,531] Trial 97 finished with value: 0.18762042389210018 and parameters: {'iterations': 893, 'depth': 4, 'min_data_in_leaf': 5, 'learning_rate': 0.0002568750945533755}. Best is trial 0 with value: 0.18762042389210018.\n",
      "[I 2024-02-03 07:32:04,223] Trial 98 finished with value: 0.10163776493256262 and parameters: {'iterations': 681, 'depth': 5, 'min_data_in_leaf': 8, 'learning_rate': 0.0005803639615153245}. Best is trial 0 with value: 0.18762042389210018.\n",
      "[I 2024-02-03 07:32:11,352] Trial 99 finished with value: 0.12475915221579961 and parameters: {'iterations': 956, 'depth': 3, 'min_data_in_leaf': 7, 'learning_rate': 0.052947046119095294}. Best is trial 0 with value: 0.18762042389210018.\n"
     ]
    },
    {
     "name": "stdout",
     "output_type": "stream",
     "text": [
      "Number of finished trials:  100\n",
      "Best trial:\n",
      "Value:  0.18762042389210018\n",
      "Params: \n",
      "    iterations: 869\n",
      "    depth: 4\n",
      "    min_data_in_leaf: 2\n",
      "    learning_rate: 0.00017091219408304231\n"
     ]
    }
   ],
   "source": [
    "if submit==False:\n",
    "\n",
    "    import optuna\n",
    "    from catboost import CatBoostClassifier\n",
    "    from sklearn.model_selection import train_test_split\n",
    "    from sklearn.metrics import accuracy_score\n",
    "\n",
    "    # Assuming 'X' is your feature matrix and 'y' is your target variable\n",
    "    X = X.copy()\n",
    "    y = y.copy()\n",
    "\n",
    "    def objective(trial):\n",
    "        X_train, X_val, y_train, y_val = train_test_split(X, y, test_size=0.2, random_state=42)\n",
    "\n",
    "        params = {\n",
    "            'iterations': trial.suggest_int('iterations', 200, 1000),\n",
    "            'depth': trial.suggest_int('depth', 3, 10),\n",
    "            'min_data_in_leaf': trial.suggest_int('min_data_in_leaf', 2, 20),\n",
    "            'learning_rate': trial.suggest_float('learning_rate', 1e-4, 0.2, log=True),\n",
    "            'random_state': 42,\n",
    "            'verbose': 0,\n",
    "#             'eval_metric': 'Accuracy',\n",
    "        }\n",
    "\n",
    "        model = CatBoostClassifier(**params)\n",
    "\n",
    "        model.fit(X_train, y_train, eval_set=[(X_val, y_val)], early_stopping_rounds=50)\n",
    "\n",
    "        y_pred = model.predict(X_val)\n",
    "        metrics = model.score(y_val, y_pred)\n",
    "\n",
    "        return metrics\n",
    "\n",
    "    study = optuna.create_study(direction='maximize')\n",
    "    study.optimize(objective, n_trials=100)\n",
    "\n",
    "    print('Number of finished trials: ', len(study.trials))\n",
    "    print('Best trial:')\n",
    "    trial = study.best_trial\n",
    "\n",
    "    print('Value: ', trial.value)\n",
    "    print('Params: ')\n",
    "    for key, value in trial.params.items():\n",
    "        print(f'    {key}: {value}')"
   ]
  },
  {
   "cell_type": "markdown",
   "id": "cfc00ebd",
   "metadata": {
    "papermill": {
     "duration": 0.015651,
     "end_time": "2024-02-03T07:32:11.412253",
     "exception": false,
     "start_time": "2024-02-03T07:32:11.396602",
     "status": "completed"
    },
    "tags": []
   },
   "source": [
    "### XGBClassifier"
   ]
  },
  {
   "cell_type": "code",
   "execution_count": 9,
   "id": "673b5406",
   "metadata": {
    "execution": {
     "iopub.execute_input": "2024-02-03T07:32:11.490168Z",
     "iopub.status.busy": "2024-02-03T07:32:11.489801Z",
     "iopub.status.idle": "2024-02-03T07:46:21.500288Z",
     "shell.execute_reply": "2024-02-03T07:46:21.499406Z"
    },
    "papermill": {
     "duration": 850.074025,
     "end_time": "2024-02-03T07:46:21.502431",
     "exception": false,
     "start_time": "2024-02-03T07:32:11.428406",
     "status": "completed"
    },
    "tags": []
   },
   "outputs": [
    {
     "name": "stderr",
     "output_type": "stream",
     "text": [
      "[I 2024-02-03 07:32:11,499] A new study created in memory with name: no-name-6df2ff63-717a-4873-a518-0e5d2627a8d5\n",
      "[I 2024-02-03 07:32:16,620] Trial 0 finished with value: 0.32151857921380894 and parameters: {'max_depth': 9, 'min_child_weight': 10, 'learning_rate': 0.47570481820587024, 'n_estimators': 701, 'subsample': 0.7098488661634732, 'colsample_bytree': 0.12476299217268856, 'random_state': 42}. Best is trial 0 with value: 0.32151857921380894.\n",
      "[I 2024-02-03 07:32:22,174] Trial 1 finished with value: 0.41730679970502155 and parameters: {'max_depth': 10, 'min_child_weight': 7, 'learning_rate': 0.6026432578223785, 'n_estimators': 488, 'subsample': 0.9630179281215326, 'colsample_bytree': 0.8515293583211844, 'random_state': 42}. Best is trial 0 with value: 0.32151857921380894.\n",
      "[I 2024-02-03 07:32:29,120] Trial 2 finished with value: 0.3242207185265507 and parameters: {'max_depth': 9, 'min_child_weight': 7, 'learning_rate': 0.32658864376022595, 'n_estimators': 989, 'subsample': 0.6566739226430103, 'colsample_bytree': 0.07569819793282417, 'random_state': 42}. Best is trial 0 with value: 0.32151857921380894.\n",
      "[I 2024-02-03 07:32:37,135] Trial 3 finished with value: 0.47744978206165767 and parameters: {'max_depth': 9, 'min_child_weight': 1, 'learning_rate': 0.5467539791672081, 'n_estimators': 645, 'subsample': 0.91111123788023, 'colsample_bytree': 0.5400063862264504, 'random_state': 42}. Best is trial 0 with value: 0.32151857921380894.\n",
      "[I 2024-02-03 07:32:48,983] Trial 4 finished with value: 0.32393397057738843 and parameters: {'max_depth': 9, 'min_child_weight': 7, 'learning_rate': 0.017850854401052788, 'n_estimators': 883, 'subsample': 0.4549565439191457, 'colsample_bytree': 0.2106616230240095, 'random_state': 42}. Best is trial 0 with value: 0.32151857921380894.\n",
      "[I 2024-02-03 07:32:55,508] Trial 5 finished with value: 0.427200331561588 and parameters: {'max_depth': 7, 'min_child_weight': 5, 'learning_rate': 0.5363891458669501, 'n_estimators': 638, 'subsample': 0.6716605302015303, 'colsample_bytree': 0.4565650069376608, 'random_state': 42}. Best is trial 0 with value: 0.32151857921380894.\n",
      "[I 2024-02-03 07:33:01,971] Trial 6 finished with value: 0.46873654398325926 and parameters: {'max_depth': 7, 'min_child_weight': 3, 'learning_rate': 0.9508455883107152, 'n_estimators': 688, 'subsample': 0.9495181455424042, 'colsample_bytree': 0.2472112909907612, 'random_state': 42}. Best is trial 0 with value: 0.32151857921380894.\n",
      "[I 2024-02-03 07:33:08,430] Trial 7 finished with value: 0.3685777808990967 and parameters: {'max_depth': 6, 'min_child_weight': 3, 'learning_rate': 0.27222389717144313, 'n_estimators': 638, 'subsample': 0.4164344410395254, 'colsample_bytree': 0.4465646885883909, 'random_state': 42}. Best is trial 0 with value: 0.32151857921380894.\n",
      "[I 2024-02-03 07:33:14,967] Trial 8 finished with value: 0.35813036326536035 and parameters: {'max_depth': 5, 'min_child_weight': 6, 'learning_rate': 0.23744223787423566, 'n_estimators': 742, 'subsample': 0.9161341068045988, 'colsample_bytree': 0.9051304596030425, 'random_state': 42}. Best is trial 0 with value: 0.32151857921380894.\n",
      "[I 2024-02-03 07:33:21,165] Trial 9 finished with value: 0.39459674115101456 and parameters: {'max_depth': 7, 'min_child_weight': 1, 'learning_rate': 0.6245818225129828, 'n_estimators': 796, 'subsample': 0.6776957521534426, 'colsample_bytree': 0.022974582606651806, 'random_state': 42}. Best is trial 0 with value: 0.32151857921380894.\n",
      "[I 2024-02-03 07:33:22,482] Trial 10 finished with value: 0.4104346501205256 and parameters: {'max_depth': 10, 'min_child_weight': 10, 'learning_rate': 0.833872585300506, 'n_estimators': 191, 'subsample': 0.08472303136997361, 'colsample_bytree': 0.7057777735995288, 'random_state': 42}. Best is trial 0 with value: 0.32151857921380894.\n",
      "[I 2024-02-03 07:33:32,857] Trial 11 finished with value: 0.28979627552133935 and parameters: {'max_depth': 9, 'min_child_weight': 10, 'learning_rate': 0.0304388947238651, 'n_estimators': 916, 'subsample': 0.3834338183941446, 'colsample_bytree': 0.22287007370716053, 'random_state': 42}. Best is trial 11 with value: 0.28979627552133935.\n",
      "[I 2024-02-03 07:33:37,648] Trial 12 finished with value: 0.27959149492487767 and parameters: {'max_depth': 8, 'min_child_weight': 10, 'learning_rate': 0.07018621628745209, 'n_estimators': 451, 'subsample': 0.2544107551421826, 'colsample_bytree': 0.25890031421778736, 'random_state': 42}. Best is trial 12 with value: 0.27959149492487767.\n",
      "[I 2024-02-03 07:33:43,154] Trial 13 finished with value: 0.4809478335756484 and parameters: {'max_depth': 8, 'min_child_weight': 9, 'learning_rate': 0.012087645281938397, 'n_estimators': 424, 'subsample': 0.24142680275727135, 'colsample_bytree': 0.29436829903796286, 'random_state': 42}. Best is trial 12 with value: 0.27959149492487767.\n",
      "[I 2024-02-03 07:33:46,683] Trial 14 finished with value: 0.2748903021498042 and parameters: {'max_depth': 8, 'min_child_weight': 9, 'learning_rate': 0.15488237238122804, 'n_estimators': 325, 'subsample': 0.2641755203723507, 'colsample_bytree': 0.34702236129338493, 'random_state': 42}. Best is trial 14 with value: 0.2748903021498042.\n",
      "[I 2024-02-03 07:33:48,779] Trial 15 finished with value: 0.34280606781472495 and parameters: {'max_depth': 8, 'min_child_weight': 8, 'learning_rate': 0.16126069125396206, 'n_estimators': 273, 'subsample': 0.03337490775234986, 'colsample_bytree': 0.39664742530845726, 'random_state': 42}. Best is trial 14 with value: 0.2748903021498042.\n",
      "[I 2024-02-03 07:33:52,214] Trial 16 finished with value: 0.33215735996370305 and parameters: {'max_depth': 8, 'min_child_weight': 9, 'learning_rate': 0.40722034898573944, 'n_estimators': 372, 'subsample': 0.19995554827446865, 'colsample_bytree': 0.5799728107937652, 'random_state': 42}. Best is trial 14 with value: 0.2748903021498042.\n",
      "[I 2024-02-03 07:33:55,304] Trial 17 finished with value: 0.271749462291638 and parameters: {'max_depth': 6, 'min_child_weight': 9, 'learning_rate': 0.1302826402484622, 'n_estimators': 324, 'subsample': 0.2610066769544762, 'colsample_bytree': 0.3524680089500394, 'random_state': 42}. Best is trial 17 with value: 0.271749462291638.\n",
      "[I 2024-02-03 07:33:57,983] Trial 18 finished with value: 0.278207212734965 and parameters: {'max_depth': 5, 'min_child_weight': 5, 'learning_rate': 0.16349281948962624, 'n_estimators': 297, 'subsample': 0.31744656648109326, 'colsample_bytree': 0.6806029680403782, 'random_state': 42}. Best is trial 17 with value: 0.271749462291638.\n",
      "[I 2024-02-03 07:33:59,804] Trial 19 finished with value: 0.284870565068852 and parameters: {'max_depth': 6, 'min_child_weight': 8, 'learning_rate': 0.3573984253357593, 'n_estimators': 177, 'subsample': 0.5497262979811481, 'colsample_bytree': 0.34924480499439625, 'random_state': 42}. Best is trial 17 with value: 0.271749462291638.\n",
      "[I 2024-02-03 07:34:04,134] Trial 20 finished with value: 0.29421852510742447 and parameters: {'max_depth': 6, 'min_child_weight': 8, 'learning_rate': 0.18093386839061967, 'n_estimators': 525, 'subsample': 0.13383283550248168, 'colsample_bytree': 0.6728608362358042, 'random_state': 42}. Best is trial 17 with value: 0.271749462291638.\n",
      "[I 2024-02-03 07:34:07,030] Trial 21 finished with value: 0.2805856836003715 and parameters: {'max_depth': 5, 'min_child_weight': 5, 'learning_rate': 0.13569408097923952, 'n_estimators': 320, 'subsample': 0.32054449229668797, 'colsample_bytree': 0.7710058128904328, 'random_state': 42}. Best is trial 17 with value: 0.271749462291638.\n",
      "[I 2024-02-03 07:34:09,720] Trial 22 finished with value: 0.29691229175608275 and parameters: {'max_depth': 5, 'min_child_weight': 4, 'learning_rate': 0.24438087700713004, 'n_estimators': 292, 'subsample': 0.3172584687981236, 'colsample_bytree': 0.5642154965384333, 'random_state': 42}. Best is trial 17 with value: 0.271749462291638.\n",
      "[I 2024-02-03 07:34:13,130] Trial 23 finished with value: 0.2805807058494257 and parameters: {'max_depth': 6, 'min_child_weight': 6, 'learning_rate': 0.13560581630967744, 'n_estimators': 370, 'subsample': 0.15558358615052192, 'colsample_bytree': 0.658385665929426, 'random_state': 42}. Best is trial 17 with value: 0.271749462291638.\n",
      "[I 2024-02-03 07:34:15,245] Trial 24 finished with value: 0.30965203707703026 and parameters: {'max_depth': 5, 'min_child_weight': 4, 'learning_rate': 0.4076972034280342, 'n_estimators': 232, 'subsample': 0.5648771102225603, 'colsample_bytree': 0.37134864367426407, 'random_state': 42}. Best is trial 17 with value: 0.271749462291638.\n",
      "[I 2024-02-03 07:34:18,866] Trial 25 finished with value: 0.2721945006196888 and parameters: {'max_depth': 6, 'min_child_weight': 9, 'learning_rate': 0.10623921099576915, 'n_estimators': 368, 'subsample': 0.30472048199936125, 'colsample_bytree': 0.48398193099268466, 'random_state': 42}. Best is trial 17 with value: 0.271749462291638.\n",
      "[I 2024-02-03 07:34:24,897] Trial 26 finished with value: 0.27884858753425595 and parameters: {'max_depth': 7, 'min_child_weight': 9, 'learning_rate': 0.10919090929362368, 'n_estimators': 567, 'subsample': 0.368418649869803, 'colsample_bytree': 0.4775910418060686, 'random_state': 42}. Best is trial 17 with value: 0.271749462291638.\n",
      "[I 2024-02-03 07:34:27,765] Trial 27 finished with value: 0.32269790539397863 and parameters: {'max_depth': 6, 'min_child_weight': 9, 'learning_rate': 0.7291467983250169, 'n_estimators': 372, 'subsample': 0.4766052006236967, 'colsample_bytree': 0.16325803163917554, 'random_state': 42}. Best is trial 17 with value: 0.271749462291638.\n",
      "[I 2024-02-03 07:34:31,651] Trial 28 finished with value: 0.30268145677632285 and parameters: {'max_depth': 7, 'min_child_weight': 8, 'learning_rate': 0.2884206126824979, 'n_estimators': 412, 'subsample': 0.23342418885703836, 'colsample_bytree': 0.32508909547787224, 'random_state': 42}. Best is trial 17 with value: 0.271749462291638.\n",
      "[I 2024-02-03 07:34:33,508] Trial 29 finished with value: 0.30973080800994046 and parameters: {'max_depth': 6, 'min_child_weight': 9, 'learning_rate': 0.4567762698004894, 'n_estimators': 225, 'subsample': 0.14714827222345628, 'colsample_bytree': 0.435095139829911, 'random_state': 42}. Best is trial 17 with value: 0.271749462291638.\n",
      "[I 2024-02-03 07:34:38,075] Trial 30 finished with value: 0.2854885070492109 and parameters: {'max_depth': 7, 'min_child_weight': 10, 'learning_rate': 0.21577203153513613, 'n_estimators': 513, 'subsample': 0.8117629407603157, 'colsample_bytree': 0.14032164127934266, 'random_state': 42}. Best is trial 17 with value: 0.271749462291638.\n",
      "[I 2024-02-03 07:34:40,990] Trial 31 finished with value: 0.27030055765779365 and parameters: {'max_depth': 5, 'min_child_weight': 6, 'learning_rate': 0.09193555143461996, 'n_estimators': 323, 'subsample': 0.31259526168866253, 'colsample_bytree': 0.5923187752974779, 'random_state': 42}. Best is trial 31 with value: 0.27030055765779365.\n",
      "[I 2024-02-03 07:34:44,072] Trial 32 finished with value: 0.26976123565349347 and parameters: {'max_depth': 5, 'min_child_weight': 7, 'learning_rate': 0.09143578756424403, 'n_estimators': 346, 'subsample': 0.29236951980573084, 'colsample_bytree': 0.6100665406987561, 'random_state': 42}. Best is trial 32 with value: 0.26976123565349347.\n",
      "[I 2024-02-03 07:34:48,315] Trial 33 finished with value: 0.27294527926197976 and parameters: {'max_depth': 5, 'min_child_weight': 7, 'learning_rate': 0.07820426187887759, 'n_estimators': 475, 'subsample': 0.3666121177364054, 'colsample_bytree': 0.7775052606807905, 'random_state': 42}. Best is trial 32 with value: 0.26976123565349347.\n",
      "[I 2024-02-03 07:34:50,623] Trial 34 finished with value: 0.3072204401402567 and parameters: {'max_depth': 5, 'min_child_weight': 6, 'learning_rate': 0.32813529308209355, 'n_estimators': 249, 'subsample': 0.5257915107488129, 'colsample_bytree': 0.612462121929361, 'random_state': 42}. Best is trial 32 with value: 0.26976123565349347.\n",
      "[I 2024-02-03 07:34:54,315] Trial 35 finished with value: 0.2693290083113515 and parameters: {'max_depth': 6, 'min_child_weight': 7, 'learning_rate': 0.07644242389527721, 'n_estimators': 349, 'subsample': 0.43434622271290224, 'colsample_bytree': 0.5255607226686476, 'random_state': 42}. Best is trial 35 with value: 0.2693290083113515.\n",
      "[I 2024-02-03 07:34:55,927] Trial 36 finished with value: 0.2934601123533411 and parameters: {'max_depth': 5, 'min_child_weight': 7, 'learning_rate': 0.055359368958222854, 'n_estimators': 165, 'subsample': 0.4120354542046453, 'colsample_bytree': 0.5041854812788827, 'random_state': 42}. Best is trial 35 with value: 0.2693290083113515.\n",
      "[I 2024-02-03 07:35:01,791] Trial 37 finished with value: 0.33615329561348745 and parameters: {'max_depth': 6, 'min_child_weight': 6, 'learning_rate': 0.21940637419746456, 'n_estimators': 573, 'subsample': 0.5786061826775899, 'colsample_bytree': 0.6262649800402598, 'random_state': 42}. Best is trial 35 with value: 0.2693290083113515.\n",
      "[I 2024-02-03 07:35:05,470] Trial 38 finished with value: 0.2700902900743751 and parameters: {'max_depth': 5, 'min_child_weight': 7, 'learning_rate': 0.08046846931215584, 'n_estimators': 409, 'subsample': 0.43464195693337104, 'colsample_bytree': 0.736356045056665, 'random_state': 42}. Best is trial 35 with value: 0.2693290083113515.\n",
      "[I 2024-02-03 07:35:09,286] Trial 39 finished with value: 0.27179361040307565 and parameters: {'max_depth': 5, 'min_child_weight': 7, 'learning_rate': 0.07299160736296695, 'n_estimators': 417, 'subsample': 0.6127968081693115, 'colsample_bytree': 0.7600196753100282, 'random_state': 42}. Best is trial 35 with value: 0.2693290083113515.\n",
      "[I 2024-02-03 07:35:13,398] Trial 40 finished with value: 0.30213754721789976 and parameters: {'max_depth': 5, 'min_child_weight': 7, 'learning_rate': 0.20177417323377955, 'n_estimators': 467, 'subsample': 0.44298247023201687, 'colsample_bytree': 0.8562759454105838, 'random_state': 42}. Best is trial 35 with value: 0.2693290083113515.\n",
      "[I 2024-02-03 07:35:16,982] Trial 41 finished with value: 0.2725741341138562 and parameters: {'max_depth': 6, 'min_child_weight': 6, 'learning_rate': 0.10240031755381154, 'n_estimators': 337, 'subsample': 0.4922251283576277, 'colsample_bytree': 0.5555997897981374, 'random_state': 42}. Best is trial 35 with value: 0.2693290083113515.\n",
      "[I 2024-02-03 07:35:19,477] Trial 42 finished with value: 0.3509027174318142 and parameters: {'max_depth': 5, 'min_child_weight': 8, 'learning_rate': 0.018254469669813936, 'n_estimators': 265, 'subsample': 0.1821756123635385, 'colsample_bytree': 0.7272968442002582, 'random_state': 42}. Best is trial 35 with value: 0.2693290083113515.\n",
      "[I 2024-02-03 07:35:23,033] Trial 43 finished with value: 0.3061722001412501 and parameters: {'max_depth': 6, 'min_child_weight': 6, 'learning_rate': 0.28089285648371887, 'n_estimators': 349, 'subsample': 0.43873770165668563, 'colsample_bytree': 0.4149138464862956, 'random_state': 42}. Best is trial 35 with value: 0.2693290083113515.\n",
      "[I 2024-02-03 07:35:26,436] Trial 44 finished with value: 0.5787921556110355 and parameters: {'max_depth': 5, 'min_child_weight': 4, 'learning_rate': 0.9720840989101386, 'n_estimators': 401, 'subsample': 0.35973363480113124, 'colsample_bytree': 0.9547934435968988, 'random_state': 42}. Best is trial 35 with value: 0.2693290083113515.\n",
      "[I 2024-02-03 07:35:28,550] Trial 45 finished with value: 0.27046724502142844 and parameters: {'max_depth': 6, 'min_child_weight': 7, 'learning_rate': 0.11881793755715009, 'n_estimators': 202, 'subsample': 0.2727798525613819, 'colsample_bytree': 0.5263422146397433, 'random_state': 42}. Best is trial 35 with value: 0.2693290083113515.\n",
      "[I 2024-02-03 07:35:30,684] Trial 46 finished with value: 0.28035450752896296 and parameters: {'max_depth': 5, 'min_child_weight': 7, 'learning_rate': 0.04970207499749464, 'n_estimators': 218, 'subsample': 0.7407647914438573, 'colsample_bytree': 0.5217900884950457, 'random_state': 42}. Best is trial 35 with value: 0.2693290083113515.\n",
      "[I 2024-02-03 07:35:32,571] Trial 47 finished with value: 0.27066461831782723 and parameters: {'max_depth': 5, 'min_child_weight': 5, 'learning_rate': 0.07558957592448001, 'n_estimators': 197, 'subsample': 0.40157743076126906, 'colsample_bytree': 0.6178549527362609, 'random_state': 42}. Best is trial 35 with value: 0.2693290083113515.\n",
      "[I 2024-02-03 07:35:34,231] Trial 48 finished with value: 0.2726618793731373 and parameters: {'max_depth': 6, 'min_child_weight': 7, 'learning_rate': 0.18971382294347472, 'n_estimators': 153, 'subsample': 0.5082152924085783, 'colsample_bytree': 0.7311800377609553, 'random_state': 42}. Best is trial 35 with value: 0.2693290083113515.\n",
      "[I 2024-02-03 07:35:36,422] Trial 49 finished with value: 0.6090956396317765 and parameters: {'max_depth': 10, 'min_child_weight': 6, 'learning_rate': 0.9025509226774262, 'n_estimators': 288, 'subsample': 0.10196758481945462, 'colsample_bytree': 0.5949550012922715, 'random_state': 42}. Best is trial 35 with value: 0.2693290083113515.\n",
      "[I 2024-02-03 07:35:40,493] Trial 50 finished with value: 0.43798820065184213 and parameters: {'max_depth': 7, 'min_child_weight': 7, 'learning_rate': 0.6110149509772381, 'n_estimators': 447, 'subsample': 0.20510776555672294, 'colsample_bytree': 0.5427331823756146, 'random_state': 42}. Best is trial 35 with value: 0.2693290083113515.\n",
      "[I 2024-02-03 07:35:42,502] Trial 51 finished with value: 0.2668187263958128 and parameters: {'max_depth': 5, 'min_child_weight': 5, 'learning_rate': 0.08208342815111708, 'n_estimators': 210, 'subsample': 0.41512644460848513, 'colsample_bytree': 0.637151903682372, 'random_state': 42}. Best is trial 51 with value: 0.2668187263958128.\n",
      "[I 2024-02-03 07:35:44,888] Trial 52 finished with value: 0.5000521524079282 and parameters: {'max_depth': 5, 'min_child_weight': 8, 'learning_rate': 0.010080886042744833, 'n_estimators': 247, 'subsample': 0.28435356753670593, 'colsample_bytree': 0.8087381559822097, 'random_state': 42}. Best is trial 51 with value: 0.2668187263958128.\n",
      "[I 2024-02-03 07:35:46,819] Trial 53 finished with value: 0.2684709592984991 and parameters: {'max_depth': 5, 'min_child_weight': 5, 'learning_rate': 0.09018875748349132, 'n_estimators': 204, 'subsample': 0.332171698038755, 'colsample_bytree': 0.6354138805171532, 'random_state': 42}. Best is trial 51 with value: 0.2668187263958128.\n",
      "[I 2024-02-03 07:35:49,702] Trial 54 finished with value: 0.2696034666562228 and parameters: {'max_depth': 5, 'min_child_weight': 5, 'learning_rate': 0.04510739639313948, 'n_estimators': 303, 'subsample': 0.34341965503222427, 'colsample_bytree': 0.6524198631645818, 'random_state': 42}. Best is trial 51 with value: 0.2668187263958128.\n",
      "[I 2024-02-03 07:35:52,536] Trial 55 finished with value: 0.2681818434641531 and parameters: {'max_depth': 5, 'min_child_weight': 3, 'learning_rate': 0.044739042079206114, 'n_estimators': 290, 'subsample': 0.3532675223842614, 'colsample_bytree': 0.643594287863126, 'random_state': 42}. Best is trial 51 with value: 0.2668187263958128.\n",
      "[I 2024-02-03 07:35:55,120] Trial 56 finished with value: 0.2708862523735285 and parameters: {'max_depth': 5, 'min_child_weight': 3, 'learning_rate': 0.04501093144378334, 'n_estimators': 264, 'subsample': 0.4678305254855355, 'colsample_bytree': 0.6501801546586972, 'random_state': 42}. Best is trial 51 with value: 0.2668187263958128.\n",
      "[I 2024-02-03 07:35:58,076] Trial 57 finished with value: 0.28752744447931244 and parameters: {'max_depth': 5, 'min_child_weight': 1, 'learning_rate': 0.15260691903166426, 'n_estimators': 297, 'subsample': 0.33932817535839627, 'colsample_bytree': 0.6908070307459082, 'random_state': 42}. Best is trial 51 with value: 0.2668187263958128.\n",
      "[I 2024-02-03 07:36:05,197] Trial 58 finished with value: 0.2679370190918478 and parameters: {'max_depth': 5, 'min_child_weight': 2, 'learning_rate': 0.041859098582162434, 'n_estimators': 747, 'subsample': 0.40441701154801324, 'colsample_bytree': 0.7028649890517162, 'random_state': 42}. Best is trial 51 with value: 0.2668187263958128.\n",
      "[I 2024-02-03 07:36:18,197] Trial 59 finished with value: 0.29953695271303765 and parameters: {'max_depth': 9, 'min_child_weight': 2, 'learning_rate': 0.042637939781848086, 'n_estimators': 801, 'subsample': 0.40251392287816123, 'colsample_bytree': 0.8245084146597286, 'random_state': 42}. Best is trial 51 with value: 0.2668187263958128.\n",
      "[I 2024-02-03 07:36:25,434] Trial 60 finished with value: 0.39559416077644965 and parameters: {'max_depth': 6, 'min_child_weight': 2, 'learning_rate': 0.2512037626918944, 'n_estimators': 688, 'subsample': 0.3548579338869086, 'colsample_bytree': 0.6486881979443272, 'random_state': 42}. Best is trial 51 with value: 0.2668187263958128.\n",
      "[I 2024-02-03 07:36:34,043] Trial 61 finished with value: 0.34241001137378463 and parameters: {'max_depth': 5, 'min_child_weight': 4, 'learning_rate': 0.17108977687481416, 'n_estimators': 972, 'subsample': 0.3962624051663312, 'colsample_bytree': 0.7020120155519358, 'random_state': 42}. Best is trial 51 with value: 0.2668187263958128.\n",
      "[I 2024-02-03 07:36:40,877] Trial 62 finished with value: 0.30674255640259296 and parameters: {'max_depth': 5, 'min_child_weight': 3, 'learning_rate': 0.13581461921977184, 'n_estimators': 770, 'subsample': 0.22584702930337025, 'colsample_bytree': 0.6400891511274909, 'random_state': 42}. Best is trial 51 with value: 0.2668187263958128.\n",
      "[I 2024-02-03 07:36:47,727] Trial 63 finished with value: 0.27615572113971126 and parameters: {'max_depth': 5, 'min_child_weight': 5, 'learning_rate': 0.015849962485049898, 'n_estimators': 740, 'subsample': 0.33687332182860513, 'colsample_bytree': 0.5759797481808981, 'random_state': 42}. Best is trial 51 with value: 0.2668187263958128.\n",
      "[I 2024-02-03 07:36:53,068] Trial 64 finished with value: 0.6038665641931213 and parameters: {'max_depth': 5, 'min_child_weight': 2, 'learning_rate': 0.749458762548431, 'n_estimators': 628, 'subsample': 0.2846076154818112, 'colsample_bytree': 0.6801822446837724, 'random_state': 42}. Best is trial 51 with value: 0.2668187263958128.\n",
      "[I 2024-02-03 07:37:00,236] Trial 65 finished with value: 0.463399800488117 and parameters: {'max_depth': 5, 'min_child_weight': 4, 'learning_rate': 0.5570356378635178, 'n_estimators': 828, 'subsample': 0.4573410241039422, 'colsample_bytree': 0.48230217864804426, 'random_state': 42}. Best is trial 51 with value: 0.2668187263958128.\n",
      "[I 2024-02-03 07:37:08,149] Trial 66 finished with value: 0.3009492044606953 and parameters: {'max_depth': 5, 'min_child_weight': 5, 'learning_rate': 0.11679606612836307, 'n_estimators': 895, 'subsample': 0.38382053573348324, 'colsample_bytree': 0.7128747855878923, 'random_state': 42}. Best is trial 51 with value: 0.2668187263958128.\n",
      "[I 2024-02-03 07:37:10,538] Trial 67 finished with value: 0.2682310377995773 and parameters: {'max_depth': 6, 'min_child_weight': 1, 'learning_rate': 0.05938763534231904, 'n_estimators': 202, 'subsample': 0.2896164943018472, 'colsample_bytree': 0.6040191847643775, 'random_state': 42}. Best is trial 51 with value: 0.2668187263958128.\n",
      "[I 2024-02-03 07:37:12,764] Trial 68 finished with value: 0.27879618403893386 and parameters: {'max_depth': 6, 'min_child_weight': 1, 'learning_rate': 0.04664527761336084, 'n_estimators': 184, 'subsample': 0.5216477188519516, 'colsample_bytree': 0.5681922060302734, 'random_state': 42}. Best is trial 51 with value: 0.2668187263958128.\n",
      "[I 2024-02-03 07:37:15,266] Trial 69 finished with value: 0.2802392203121735 and parameters: {'max_depth': 6, 'min_child_weight': 2, 'learning_rate': 0.1605438765101864, 'n_estimators': 218, 'subsample': 0.42048215544818307, 'colsample_bytree': 0.6618127362479463, 'random_state': 42}. Best is trial 51 with value: 0.2668187263958128.\n",
      "[I 2024-02-03 07:37:18,665] Trial 70 finished with value: 0.2728675743304685 and parameters: {'max_depth': 7, 'min_child_weight': 1, 'learning_rate': 0.060540594876404945, 'n_estimators': 248, 'subsample': 0.2532009360870979, 'colsample_bytree': 0.8778733951374368, 'random_state': 42}. Best is trial 51 with value: 0.2668187263958128.\n",
      "[I 2024-02-03 07:37:21,425] Trial 71 finished with value: 0.2691973826580599 and parameters: {'max_depth': 5, 'min_child_weight': 3, 'learning_rate': 0.0959056272779794, 'n_estimators': 296, 'subsample': 0.290214095321467, 'colsample_bytree': 0.6094308821196674, 'random_state': 42}. Best is trial 51 with value: 0.2668187263958128.\n",
      "[I 2024-02-03 07:37:24,316] Trial 72 finished with value: 0.269870628772082 and parameters: {'max_depth': 5, 'min_child_weight': 3, 'learning_rate': 0.1040922311225794, 'n_estimators': 302, 'subsample': 0.34173584340081536, 'colsample_bytree': 0.5955808444764648, 'random_state': 42}. Best is trial 51 with value: 0.2668187263958128.\n",
      "[I 2024-02-03 07:37:27,236] Trial 73 finished with value: 0.3052967416314179 and parameters: {'max_depth': 5, 'min_child_weight': 3, 'learning_rate': 0.03107954232514666, 'n_estimators': 274, 'subsample': 0.376454981895528, 'colsample_bytree': 0.45045568758890775, 'random_state': 42}. Best is trial 51 with value: 0.2668187263958128.\n",
      "[I 2024-02-03 07:37:29,011] Trial 74 finished with value: 0.2711000707883006 and parameters: {'max_depth': 5, 'min_child_weight': 2, 'learning_rate': 0.1374876010074423, 'n_estimators': 177, 'subsample': 0.47029111322988637, 'colsample_bytree': 0.761346467354717, 'random_state': 42}. Best is trial 51 with value: 0.2668187263958128.\n",
      "[I 2024-02-03 07:37:31,355] Trial 75 finished with value: 0.2636091824869837 and parameters: {'max_depth': 6, 'min_child_weight': 4, 'learning_rate': 0.07295466187890404, 'n_estimators': 210, 'subsample': 0.3056642077352055, 'colsample_bytree': 0.6264624207408099, 'random_state': 42}. Best is trial 75 with value: 0.2636091824869837.\n",
      "[I 2024-02-03 07:37:33,617] Trial 76 finished with value: 0.2775120339947012 and parameters: {'max_depth': 6, 'min_child_weight': 4, 'learning_rate': 0.17762011517384682, 'n_estimators': 208, 'subsample': 0.3123564584289581, 'colsample_bytree': 0.5442016139388126, 'random_state': 42}. Best is trial 75 with value: 0.2636091824869837.\n",
      "[I 2024-02-03 07:37:36,304] Trial 77 finished with value: 0.2682763696395404 and parameters: {'max_depth': 6, 'min_child_weight': 3, 'learning_rate': 0.08111914575520598, 'n_estimators': 242, 'subsample': 0.2310129200427629, 'colsample_bytree': 0.5086558215620368, 'random_state': 42}. Best is trial 75 with value: 0.2636091824869837.\n",
      "[I 2024-02-03 07:37:38,145] Trial 78 finished with value: 0.27740886248463353 and parameters: {'max_depth': 7, 'min_child_weight': 3, 'learning_rate': 0.09421605001885512, 'n_estimators': 153, 'subsample': 0.10957961189637691, 'colsample_bytree': 0.6293174996777453, 'random_state': 42}. Best is trial 75 with value: 0.2636091824869837.\n",
      "[I 2024-02-03 07:37:40,659] Trial 79 finished with value: 0.28646847417444454 and parameters: {'max_depth': 6, 'min_child_weight': 3, 'learning_rate': 0.20614232194434395, 'n_estimators': 236, 'subsample': 0.21349535570224418, 'colsample_bytree': 0.5046306086669826, 'random_state': 42}. Best is trial 75 with value: 0.2636091824869837.\n",
      "[I 2024-02-03 07:37:41,936] Trial 80 finished with value: 0.3407128186514247 and parameters: {'max_depth': 6, 'min_child_weight': 4, 'learning_rate': 0.6849790944548977, 'n_estimators': 192, 'subsample': 0.1719995205770323, 'colsample_bytree': 0.05740689906902957, 'random_state': 42}. Best is trial 75 with value: 0.2636091824869837.\n",
      "[I 2024-02-03 07:37:44,882] Trial 81 finished with value: 0.2675820890533058 and parameters: {'max_depth': 6, 'min_child_weight': 3, 'learning_rate': 0.07511398352399307, 'n_estimators': 269, 'subsample': 0.2554669091524711, 'colsample_bytree': 0.577436746244175, 'random_state': 42}. Best is trial 75 with value: 0.2636091824869837.\n",
      "[I 2024-02-03 07:37:47,902] Trial 82 finished with value: 0.27751993842665074 and parameters: {'max_depth': 6, 'min_child_weight': 2, 'learning_rate': 0.12207009125678175, 'n_estimators': 270, 'subsample': 0.25701776654625036, 'colsample_bytree': 0.6796965267864123, 'random_state': 42}. Best is trial 75 with value: 0.2636091824869837.\n",
      "[I 2024-02-03 07:37:50,518] Trial 83 finished with value: 0.26712758128104397 and parameters: {'max_depth': 6, 'min_child_weight': 3, 'learning_rate': 0.07688922691969322, 'n_estimators': 236, 'subsample': 0.24672317523351903, 'colsample_bytree': 0.5829968279184821, 'random_state': 42}. Best is trial 75 with value: 0.2636091824869837.\n",
      "[I 2024-02-03 07:37:52,627] Trial 84 finished with value: 0.302509574302707 and parameters: {'max_depth': 6, 'min_child_weight': 4, 'learning_rate': 0.06404302669336617, 'n_estimators': 230, 'subsample': 0.0450977811239307, 'colsample_bytree': 0.5690755132354524, 'random_state': 42}. Best is trial 75 with value: 0.2636091824869837.\n",
      "[I 2024-02-03 07:37:54,689] Trial 85 finished with value: 0.32989910692582364 and parameters: {'max_depth': 6, 'min_child_weight': 2, 'learning_rate': 0.029386769967902425, 'n_estimators': 176, 'subsample': 0.2311952859122095, 'colsample_bytree': 0.5772798317177467, 'random_state': 42}. Best is trial 75 with value: 0.2636091824869837.\n",
      "[I 2024-02-03 07:37:57,303] Trial 86 finished with value: 0.2749234182510751 and parameters: {'max_depth': 7, 'min_child_weight': 3, 'learning_rate': 0.14330932843015454, 'n_estimators': 217, 'subsample': 0.18045560029757685, 'colsample_bytree': 0.6221561759919217, 'random_state': 42}. Best is trial 75 with value: 0.2636091824869837.\n",
      "[I 2024-02-03 07:37:59,995] Trial 87 finished with value: 0.267039642367924 and parameters: {'max_depth': 6, 'min_child_weight': 4, 'learning_rate': 0.06657261755208078, 'n_estimators': 244, 'subsample': 0.32155410562437575, 'colsample_bytree': 0.7957154477060958, 'random_state': 42}. Best is trial 75 with value: 0.2636091824869837.\n",
      "[I 2024-02-03 07:38:02,771] Trial 88 finished with value: 0.2643801674240892 and parameters: {'max_depth': 6, 'min_child_weight': 3, 'learning_rate': 0.06771144109579938, 'n_estimators': 248, 'subsample': 0.30225027177509234, 'colsample_bytree': 0.7388210720015086, 'random_state': 42}. Best is trial 75 with value: 0.2636091824869837.\n",
      "[I 2024-02-03 07:38:09,801] Trial 89 finished with value: 0.28085955579375227 and parameters: {'max_depth': 7, 'min_child_weight': 4, 'learning_rate': 0.05966862071062137, 'n_estimators': 603, 'subsample': 0.2699299060893372, 'colsample_bytree': 0.799124070382267, 'random_state': 42}. Best is trial 75 with value: 0.2636091824869837.\n",
      "[I 2024-02-03 07:38:16,042] Trial 90 finished with value: 0.300280629630841 and parameters: {'max_depth': 6, 'min_child_weight': 2, 'learning_rate': 0.010558051753474663, 'n_estimators': 544, 'subsample': 0.3031062652640245, 'colsample_bytree': 0.7385482335060304, 'random_state': 42}. Best is trial 75 with value: 0.2636091824869837.\n",
      "[I 2024-02-03 07:38:18,856] Trial 91 finished with value: 0.2687471116990623 and parameters: {'max_depth': 6, 'min_child_weight': 3, 'learning_rate': 0.07348950735254844, 'n_estimators': 257, 'subsample': 0.24427942136320951, 'colsample_bytree': 0.7201204468225358, 'random_state': 42}. Best is trial 75 with value: 0.2636091824869837.\n",
      "[I 2024-02-03 07:38:21,483] Trial 92 finished with value: 0.2783787211001379 and parameters: {'max_depth': 6, 'min_child_weight': 3, 'learning_rate': 0.1210175491134344, 'n_estimators': 237, 'subsample': 0.3171343999751731, 'colsample_bytree': 0.7931524100460221, 'random_state': 42}. Best is trial 75 with value: 0.2636091824869837.\n",
      "[I 2024-02-03 07:38:24,477] Trial 93 finished with value: 0.27842579931824896 and parameters: {'max_depth': 6, 'min_child_weight': 4, 'learning_rate': 0.031074710496876483, 'n_estimators': 276, 'subsample': 0.20165796431823224, 'colsample_bytree': 0.8380987725337629, 'random_state': 42}. Best is trial 75 with value: 0.2636091824869837.\n",
      "[I 2024-02-03 07:38:27,303] Trial 94 finished with value: 0.2658899680383827 and parameters: {'max_depth': 6, 'min_child_weight': 3, 'learning_rate': 0.08406901189823769, 'n_estimators': 246, 'subsample': 0.36696157938648954, 'colsample_bytree': 0.6663475650012198, 'random_state': 42}. Best is trial 75 with value: 0.2636091824869837.\n",
      "[I 2024-02-03 07:38:29,804] Trial 95 finished with value: 0.2668702794815306 and parameters: {'max_depth': 7, 'min_child_weight': 2, 'learning_rate': 0.059098418254504695, 'n_estimators': 168, 'subsample': 0.36542803664599094, 'colsample_bytree': 0.751940076606873, 'random_state': 42}. Best is trial 75 with value: 0.2636091824869837.\n",
      "[I 2024-02-03 07:38:31,903] Trial 96 finished with value: 0.37341528261835205 and parameters: {'max_depth': 7, 'min_child_weight': 2, 'learning_rate': 0.4618629164077921, 'n_estimators': 163, 'subsample': 0.3678998139358596, 'colsample_bytree': 0.7471651277087239, 'random_state': 42}. Best is trial 75 with value: 0.2636091824869837.\n",
      "[I 2024-02-03 07:38:36,541] Trial 97 finished with value: 0.2941240653139515 and parameters: {'max_depth': 8, 'min_child_weight': 3, 'learning_rate': 0.10914205824532351, 'n_estimators': 328, 'subsample': 0.4207690185859311, 'colsample_bytree': 0.7840150029378841, 'random_state': 42}. Best is trial 75 with value: 0.2636091824869837.\n",
      "[I 2024-02-03 07:38:38,869] Trial 98 finished with value: 0.28715951749034135 and parameters: {'max_depth': 7, 'min_child_weight': 4, 'learning_rate': 0.15810903926526584, 'n_estimators': 176, 'subsample': 0.9777678139027542, 'colsample_bytree': 0.9153098998649596, 'random_state': 42}. Best is trial 75 with value: 0.2636091824869837.\n",
      "[I 2024-02-03 07:38:42,124] Trial 99 finished with value: 0.27031696596164695 and parameters: {'max_depth': 6, 'min_child_weight': 3, 'learning_rate': 0.03298114428243618, 'n_estimators': 282, 'subsample': 0.38777399528815876, 'colsample_bytree': 0.7005817521974845, 'random_state': 42}. Best is trial 75 with value: 0.2636091824869837.\n",
      "[I 2024-02-03 07:38:46,037] Trial 100 finished with value: 0.31036428592023196 and parameters: {'max_depth': 7, 'min_child_weight': 2, 'learning_rate': 0.186727248773847, 'n_estimators': 310, 'subsample': 0.3565778927929707, 'colsample_bytree': 0.6665545974362691, 'random_state': 42}. Best is trial 75 with value: 0.2636091824869837.\n",
      "[I 2024-02-03 07:38:48,446] Trial 101 finished with value: 0.26767182105162995 and parameters: {'max_depth': 6, 'min_child_weight': 1, 'learning_rate': 0.053513317605121985, 'n_estimators': 202, 'subsample': 0.29488717872546993, 'colsample_bytree': 0.6913289079926206, 'random_state': 42}. Best is trial 75 with value: 0.2636091824869837.\n",
      "[I 2024-02-03 07:38:51,062] Trial 102 finished with value: 0.26742305981761666 and parameters: {'max_depth': 6, 'min_child_weight': 1, 'learning_rate': 0.07932713802498798, 'n_estimators': 221, 'subsample': 0.3004866757012231, 'colsample_bytree': 0.75911396811842, 'random_state': 42}. Best is trial 75 with value: 0.2636091824869837.\n",
      "[I 2024-02-03 07:38:53,647] Trial 103 finished with value: 0.2735330046533502 and parameters: {'max_depth': 6, 'min_child_weight': 1, 'learning_rate': 0.08411710174433147, 'n_estimators': 220, 'subsample': 0.26554195893101773, 'colsample_bytree': 0.7573708894551465, 'random_state': 42}. Best is trial 75 with value: 0.2636091824869837.\n",
      "[I 2024-02-03 07:38:56,708] Trial 104 finished with value: 0.2826207964514838 and parameters: {'max_depth': 6, 'min_child_weight': 1, 'learning_rate': 0.12194978050633212, 'n_estimators': 261, 'subsample': 0.3282857373204044, 'colsample_bytree': 0.7138709255890382, 'random_state': 42}. Best is trial 75 with value: 0.2636091824869837.\n",
      "[I 2024-02-03 07:38:58,925] Trial 105 finished with value: 0.3617689534856786 and parameters: {'max_depth': 6, 'min_child_weight': 1, 'learning_rate': 0.40204670945412524, 'n_estimators': 186, 'subsample': 0.30652328967998016, 'colsample_bytree': 0.8629653639754861, 'random_state': 42}. Best is trial 75 with value: 0.2636091824869837.\n",
      "[I 2024-02-03 07:39:00,716] Trial 106 finished with value: 0.29231141006451516 and parameters: {'max_depth': 6, 'min_child_weight': 2, 'learning_rate': 0.23322240203342584, 'n_estimators': 155, 'subsample': 0.272678104611618, 'colsample_bytree': 0.8228872736994279, 'random_state': 42}. Best is trial 75 with value: 0.2636091824869837.\n",
      "[I 2024-02-03 07:39:03,105] Trial 107 finished with value: 0.2712516620665661 and parameters: {'max_depth': 6, 'min_child_weight': 1, 'learning_rate': 0.1004846296076723, 'n_estimators': 199, 'subsample': 0.3746600806735629, 'colsample_bytree': 0.697135451689098, 'random_state': 42}. Best is trial 75 with value: 0.2636091824869837.\n",
      "[I 2024-02-03 07:39:05,738] Trial 108 finished with value: 0.26542619648357174 and parameters: {'max_depth': 6, 'min_child_weight': 2, 'learning_rate': 0.06509533360090781, 'n_estimators': 228, 'subsample': 0.41062070596548605, 'colsample_bytree': 0.6709592338442172, 'random_state': 42}. Best is trial 75 with value: 0.2636091824869837.\n",
      "[I 2024-02-03 07:39:08,207] Trial 109 finished with value: 0.2762103638776384 and parameters: {'max_depth': 6, 'min_child_weight': 4, 'learning_rate': 0.14175452072022915, 'n_estimators': 226, 'subsample': 0.3232834758553714, 'colsample_bytree': 0.6654779848867008, 'random_state': 42}. Best is trial 75 with value: 0.2636091824869837.\n",
      "[I 2024-02-03 07:39:11,146] Trial 110 finished with value: 0.2668682897749446 and parameters: {'max_depth': 6, 'min_child_weight': 1, 'learning_rate': 0.06684832355171723, 'n_estimators': 251, 'subsample': 0.28942144499075984, 'colsample_bytree': 0.7457826704959734, 'random_state': 42}. Best is trial 75 with value: 0.2636091824869837.\n",
      "[I 2024-02-03 07:39:14,061] Trial 111 finished with value: 0.26409945664079865 and parameters: {'max_depth': 6, 'min_child_weight': 1, 'learning_rate': 0.0641435152421039, 'n_estimators': 248, 'subsample': 0.29940918660855825, 'colsample_bytree': 0.7458877188680726, 'random_state': 42}. Best is trial 75 with value: 0.2636091824869837.\n",
      "[I 2024-02-03 07:39:17,013] Trial 112 finished with value: 0.27348730124488113 and parameters: {'max_depth': 6, 'min_child_weight': 1, 'learning_rate': 0.07663965913513622, 'n_estimators': 252, 'subsample': 0.24915084464962325, 'colsample_bytree': 0.8142077612028054, 'random_state': 42}. Best is trial 75 with value: 0.2636091824869837.\n",
      "[I 2024-02-03 07:39:19,867] Trial 113 finished with value: 0.27460146512547834 and parameters: {'max_depth': 6, 'min_child_weight': 1, 'learning_rate': 0.10476861462075163, 'n_estimators': 237, 'subsample': 0.3450716093297467, 'colsample_bytree': 0.7656746022549776, 'random_state': 42}. Best is trial 75 with value: 0.2636091824869837.\n",
      "[I 2024-02-03 07:39:23,577] Trial 114 finished with value: 0.26887628046084033 and parameters: {'max_depth': 6, 'min_child_weight': 2, 'learning_rate': 0.06666696987597015, 'n_estimators': 316, 'subsample': 0.8822871444960975, 'colsample_bytree': 0.7803960141842735, 'random_state': 42}. Best is trial 75 with value: 0.2636091824869837.\n",
      "[I 2024-02-03 07:39:26,458] Trial 115 finished with value: 0.2703583385610831 and parameters: {'max_depth': 6, 'min_child_weight': 2, 'learning_rate': 0.084384374790394, 'n_estimators': 255, 'subsample': 0.27436827640661715, 'colsample_bytree': 0.7403385406653641, 'random_state': 42}. Best is trial 75 with value: 0.2636091824869837.\n",
      "[I 2024-02-03 07:39:28,506] Trial 116 finished with value: 0.3272653230518775 and parameters: {'max_depth': 6, 'min_child_weight': 1, 'learning_rate': 0.027464919841986853, 'n_estimators': 171, 'subsample': 0.21668767308593445, 'colsample_bytree': 0.7220503248672288, 'random_state': 42}. Best is trial 75 with value: 0.2636091824869837.\n",
      "[I 2024-02-03 07:39:31,610] Trial 117 finished with value: 0.4797469403786395 and parameters: {'max_depth': 7, 'min_child_weight': 3, 'learning_rate': 0.011619336520175237, 'n_estimators': 213, 'subsample': 0.4462529040348766, 'colsample_bytree': 0.6763899105744123, 'random_state': 42}. Best is trial 75 with value: 0.2636091824869837.\n",
      "[I 2024-02-03 07:39:34,933] Trial 118 finished with value: 0.28752604218881905 and parameters: {'max_depth': 6, 'min_child_weight': 2, 'learning_rate': 0.12751766936431533, 'n_estimators': 286, 'subsample': 0.4955768940807599, 'colsample_bytree': 0.839881913810542, 'random_state': 42}. Best is trial 75 with value: 0.2636091824869837.\n",
      "[I 2024-02-03 07:39:38,070] Trial 119 finished with value: 0.2935529566273087 and parameters: {'max_depth': 10, 'min_child_weight': 4, 'learning_rate': 0.15396204727275914, 'n_estimators': 192, 'subsample': 0.42181473499588684, 'colsample_bytree': 0.7675689449973693, 'random_state': 42}. Best is trial 75 with value: 0.2636091824869837.\n",
      "[I 2024-02-03 07:39:40,549] Trial 120 finished with value: 0.2659297184878713 and parameters: {'max_depth': 6, 'min_child_weight': 5, 'learning_rate': 0.06093872243270604, 'n_estimators': 225, 'subsample': 0.31285041525339485, 'colsample_bytree': 0.7453584501396043, 'random_state': 42}. Best is trial 75 with value: 0.2636091824869837.\n",
      "[I 2024-02-03 07:39:43,074] Trial 121 finished with value: 0.2670376937439777 and parameters: {'max_depth': 6, 'min_child_weight': 5, 'learning_rate': 0.05467661011395361, 'n_estimators': 228, 'subsample': 0.33060463279920027, 'colsample_bytree': 0.7408166099641028, 'random_state': 42}. Best is trial 75 with value: 0.2636091824869837.\n",
      "[I 2024-02-03 07:39:45,632] Trial 122 finished with value: 0.2672998053828513 and parameters: {'max_depth': 6, 'min_child_weight': 5, 'learning_rate': 0.058921269540202735, 'n_estimators': 234, 'subsample': 0.3226243688024864, 'colsample_bytree': 0.7983067893245721, 'random_state': 42}. Best is trial 75 with value: 0.2636091824869837.\n",
      "[I 2024-02-03 07:39:48,343] Trial 123 finished with value: 0.2692168664370786 and parameters: {'max_depth': 6, 'min_child_weight': 5, 'learning_rate': 0.04632945268422907, 'n_estimators': 241, 'subsample': 0.38554045850178226, 'colsample_bytree': 0.784203367331208, 'random_state': 42}. Best is trial 75 with value: 0.2636091824869837.\n",
      "[I 2024-02-03 07:39:50,655] Trial 124 finished with value: 0.2724882425632131 and parameters: {'max_depth': 6, 'min_child_weight': 5, 'learning_rate': 0.10121515934041823, 'n_estimators': 213, 'subsample': 0.35755293111586095, 'colsample_bytree': 0.881826416053589, 'random_state': 42}. Best is trial 75 with value: 0.2636091824869837.\n",
      "[I 2024-02-03 07:39:53,882] Trial 125 finished with value: 0.2658287732922873 and parameters: {'max_depth': 8, 'min_child_weight': 5, 'learning_rate': 0.0548500877894163, 'n_estimators': 233, 'subsample': 0.33053311867560914, 'colsample_bytree': 0.7354032405513903, 'random_state': 42}. Best is trial 75 with value: 0.2636091824869837.\n",
      "[I 2024-02-03 07:39:56,161] Trial 126 finished with value: 0.36176816483697594 and parameters: {'max_depth': 8, 'min_child_weight': 5, 'learning_rate': 0.5141351182354692, 'n_estimators': 185, 'subsample': 0.33461780831067406, 'colsample_bytree': 0.7333450505070032, 'random_state': 42}. Best is trial 75 with value: 0.2636091824869837.\n",
      "[I 2024-02-03 07:39:59,950] Trial 127 finished with value: 0.26676766669634655 and parameters: {'max_depth': 8, 'min_child_weight': 5, 'learning_rate': 0.04121407551592643, 'n_estimators': 260, 'subsample': 0.3922482361683156, 'colsample_bytree': 0.7134056504620256, 'random_state': 42}. Best is trial 75 with value: 0.2636091824869837.\n",
      "[I 2024-02-03 07:40:04,157] Trial 128 finished with value: 0.27690817597045797 and parameters: {'max_depth': 9, 'min_child_weight': 5, 'learning_rate': 0.02743575294988966, 'n_estimators': 258, 'subsample': 0.4068616595515917, 'colsample_bytree': 0.7235587814753399, 'random_state': 42}. Best is trial 75 with value: 0.2636091824869837.\n",
      "[I 2024-02-03 07:40:06,320] Trial 129 finished with value: 0.2740019443785001 and parameters: {'max_depth': 8, 'min_child_weight': 6, 'learning_rate': 0.05490446514301965, 'n_estimators': 151, 'subsample': 0.3688675062710176, 'colsample_bytree': 0.7462421619049172, 'random_state': 42}. Best is trial 75 with value: 0.2636091824869837.\n",
      "[I 2024-02-03 07:40:11,414] Trial 130 finished with value: 0.26395701103267494 and parameters: {'max_depth': 8, 'min_child_weight': 5, 'learning_rate': 0.03352441658684901, 'n_estimators': 361, 'subsample': 0.38812361972386633, 'colsample_bytree': 0.7083493572382348, 'random_state': 42}. Best is trial 75 with value: 0.2636091824869837.\n",
      "[I 2024-02-03 07:40:15,329] Trial 131 finished with value: 0.26697532418576203 and parameters: {'max_depth': 8, 'min_child_weight': 5, 'learning_rate': 0.036996271291400214, 'n_estimators': 274, 'subsample': 0.38195181917818544, 'colsample_bytree': 0.7071539014969438, 'random_state': 42}. Best is trial 75 with value: 0.2636091824869837.\n",
      "[I 2024-02-03 07:40:19,177] Trial 132 finished with value: 0.26952720545985104 and parameters: {'max_depth': 8, 'min_child_weight': 5, 'learning_rate': 0.03388882737213186, 'n_estimators': 266, 'subsample': 0.3939546673608657, 'colsample_bytree': 0.7087069263172937, 'random_state': 42}. Best is trial 75 with value: 0.2636091824869837.\n",
      "[I 2024-02-03 07:40:24,476] Trial 133 finished with value: 0.33755439522445607 and parameters: {'max_depth': 8, 'min_child_weight': 5, 'learning_rate': 0.012049009567000321, 'n_estimators': 346, 'subsample': 0.4349787121545925, 'colsample_bytree': 0.6870843523842334, 'random_state': 42}. Best is trial 75 with value: 0.2636091824869837.\n",
      "[I 2024-02-03 07:40:28,323] Trial 134 finished with value: 0.26571640729327595 and parameters: {'max_depth': 8, 'min_child_weight': 6, 'learning_rate': 0.04887150522033215, 'n_estimators': 283, 'subsample': 0.35420146500147076, 'colsample_bytree': 0.6454770636165437, 'random_state': 42}. Best is trial 75 with value: 0.2636091824869837.\n",
      "[I 2024-02-03 07:40:32,524] Trial 135 finished with value: 0.2688912022796274 and parameters: {'max_depth': 8, 'min_child_weight': 6, 'learning_rate': 0.032703993847208616, 'n_estimators': 286, 'subsample': 0.4537814999501502, 'colsample_bytree': 0.6564869857427377, 'random_state': 42}. Best is trial 75 with value: 0.2636091824869837.\n",
      "[I 2024-02-03 07:40:36,477] Trial 136 finished with value: 0.27192378519737564 and parameters: {'max_depth': 8, 'min_child_weight': 6, 'learning_rate': 0.09526142448493384, 'n_estimators': 307, 'subsample': 0.35614968265319213, 'colsample_bytree': 0.6375641237784853, 'random_state': 42}. Best is trial 75 with value: 0.2636091824869837.\n",
      "[I 2024-02-03 07:40:40,182] Trial 137 finished with value: 0.27835111944262714 and parameters: {'max_depth': 8, 'min_child_weight': 6, 'learning_rate': 0.12007159504468864, 'n_estimators': 281, 'subsample': 0.41160869562649327, 'colsample_bytree': 0.684530435912453, 'random_state': 42}. Best is trial 75 with value: 0.2636091824869837.\n",
      "[I 2024-02-03 07:40:45,293] Trial 138 finished with value: 0.2657349907085302 and parameters: {'max_depth': 8, 'min_child_weight': 5, 'learning_rate': 0.04494932562389836, 'n_estimators': 362, 'subsample': 0.4805212262782162, 'colsample_bytree': 0.7146717627609596, 'random_state': 42}. Best is trial 75 with value: 0.2636091824869837.\n",
      "[I 2024-02-03 07:40:50,903] Trial 139 finished with value: 0.34209620022425974 and parameters: {'max_depth': 8, 'min_child_weight': 5, 'learning_rate': 0.011218142606945175, 'n_estimators': 360, 'subsample': 0.4741889108076883, 'colsample_bytree': 0.6518565540543723, 'random_state': 42}. Best is trial 75 with value: 0.2636091824869837.\n",
      "[I 2024-02-03 07:40:54,531] Trial 140 finished with value: 0.46760193861922034 and parameters: {'max_depth': 8, 'min_child_weight': 5, 'learning_rate': 0.863215519718347, 'n_estimators': 332, 'subsample': 0.4860165405632304, 'colsample_bytree': 0.6216352194729499, 'random_state': 42}. Best is trial 75 with value: 0.2636091824869837.\n",
      "[I 2024-02-03 07:40:59,851] Trial 141 finished with value: 0.2648265567566357 and parameters: {'max_depth': 8, 'min_child_weight': 5, 'learning_rate': 0.046777333618204575, 'n_estimators': 386, 'subsample': 0.3883722987834231, 'colsample_bytree': 0.7115673749065023, 'random_state': 42}. Best is trial 75 with value: 0.2636091824869837.\n",
      "[I 2024-02-03 07:41:05,881] Trial 142 finished with value: 0.27035874226836876 and parameters: {'max_depth': 8, 'min_child_weight': 5, 'learning_rate': 0.05143039749730858, 'n_estimators': 438, 'subsample': 0.4275588266123927, 'colsample_bytree': 0.7234046148299884, 'random_state': 42}. Best is trial 75 with value: 0.2636091824869837.\n",
      "[I 2024-02-03 07:41:10,903] Trial 143 finished with value: 0.27992494240157034 and parameters: {'max_depth': 8, 'min_child_weight': 6, 'learning_rate': 0.09507399843306097, 'n_estimators': 389, 'subsample': 0.3933593774354884, 'colsample_bytree': 0.6775183716046226, 'random_state': 42}. Best is trial 75 with value: 0.2636091824869837.\n",
      "[I 2024-02-03 07:41:14,280] Trial 144 finished with value: 0.2688375790785476 and parameters: {'max_depth': 9, 'min_child_weight': 5, 'learning_rate': 0.06577893130939207, 'n_estimators': 210, 'subsample': 0.5316709221125383, 'colsample_bytree': 0.7479250161773391, 'random_state': 42}. Best is trial 75 with value: 0.2636091824869837.\n",
      "[I 2024-02-03 07:41:19,238] Trial 145 finished with value: 0.26651496154706683 and parameters: {'max_depth': 8, 'min_child_weight': 6, 'learning_rate': 0.042094974364203744, 'n_estimators': 373, 'subsample': 0.3468781668717855, 'colsample_bytree': 0.7718798422826638, 'random_state': 42}. Best is trial 75 with value: 0.2636091824869837.\n",
      "[I 2024-02-03 07:41:24,229] Trial 146 finished with value: 0.264911454034821 and parameters: {'max_depth': 8, 'min_child_weight': 6, 'learning_rate': 0.03722816901569992, 'n_estimators': 371, 'subsample': 0.34432971996811534, 'colsample_bytree': 0.6988829384010097, 'random_state': 42}. Best is trial 75 with value: 0.2636091824869837.\n",
      "[I 2024-02-03 07:41:29,453] Trial 147 finished with value: 0.2658599409191065 and parameters: {'max_depth': 8, 'min_child_weight': 6, 'learning_rate': 0.033805939857420815, 'n_estimators': 388, 'subsample': 0.34339173889742697, 'colsample_bytree': 0.697590771799007, 'random_state': 42}. Best is trial 75 with value: 0.2636091824869837.\n",
      "[I 2024-02-03 07:41:34,954] Trial 148 finished with value: 0.26672898278747986 and parameters: {'max_depth': 8, 'min_child_weight': 6, 'learning_rate': 0.038826678108984665, 'n_estimators': 384, 'subsample': 0.5841297979387593, 'colsample_bytree': 0.6998017718983393, 'random_state': 42}. Best is trial 75 with value: 0.2636091824869837.\n",
      "[I 2024-02-03 07:41:40,927] Trial 149 finished with value: 0.3411866536654923 and parameters: {'max_depth': 8, 'min_child_weight': 6, 'learning_rate': 0.010151598360345727, 'n_estimators': 380, 'subsample': 0.5970993836060899, 'colsample_bytree': 0.6943482534014437, 'random_state': 42}. Best is trial 75 with value: 0.2636091824869837.\n",
      "[I 2024-02-03 07:41:46,772] Trial 150 finished with value: 0.2649233203559787 and parameters: {'max_depth': 8, 'min_child_weight': 6, 'learning_rate': 0.028446916095225407, 'n_estimators': 395, 'subsample': 0.7010442031153964, 'colsample_bytree': 0.666384244663871, 'random_state': 42}. Best is trial 75 with value: 0.2636091824869837.\n",
      "[I 2024-02-03 07:41:52,721] Trial 151 finished with value: 0.2650466979569723 and parameters: {'max_depth': 8, 'min_child_weight': 6, 'learning_rate': 0.028356592172757426, 'n_estimators': 401, 'subsample': 0.7219804699504717, 'colsample_bytree': 0.6676763206325917, 'random_state': 42}. Best is trial 75 with value: 0.2636091824869837.\n",
      "[I 2024-02-03 07:41:59,007] Trial 152 finished with value: 0.26574492264416866 and parameters: {'max_depth': 8, 'min_child_weight': 6, 'learning_rate': 0.026933217430659136, 'n_estimators': 426, 'subsample': 0.6799720582737898, 'colsample_bytree': 0.6647572549587617, 'random_state': 42}. Best is trial 75 with value: 0.2636091824869837.\n",
      "[I 2024-02-03 07:42:05,096] Trial 153 finished with value: 0.2672532273920087 and parameters: {'max_depth': 8, 'min_child_weight': 6, 'learning_rate': 0.02422312507260318, 'n_estimators': 398, 'subsample': 0.6945545286621412, 'colsample_bytree': 0.6714592885136104, 'random_state': 42}. Best is trial 75 with value: 0.2636091824869837.\n",
      "[I 2024-02-03 07:42:10,665] Trial 154 finished with value: 0.35754243860558743 and parameters: {'max_depth': 8, 'min_child_weight': 6, 'learning_rate': 0.307027690005675, 'n_estimators': 426, 'subsample': 0.7299095186690693, 'colsample_bytree': 0.6612783228503843, 'random_state': 42}. Best is trial 75 with value: 0.2636091824869837.\n",
      "[I 2024-02-03 07:42:17,263] Trial 155 finished with value: 0.28616039362981516 and parameters: {'max_depth': 8, 'min_child_weight': 6, 'learning_rate': 0.0812648599494386, 'n_estimators': 486, 'subsample': 0.6313681329934585, 'colsample_bytree': 0.6387732603806717, 'random_state': 42}. Best is trial 75 with value: 0.2636091824869837.\n",
      "[I 2024-02-03 07:42:23,528] Trial 156 finished with value: 0.26821962989890474 and parameters: {'max_depth': 8, 'min_child_weight': 6, 'learning_rate': 0.02377081516820157, 'n_estimators': 412, 'subsample': 0.745038290726243, 'colsample_bytree': 0.6177421109943274, 'random_state': 42}. Best is trial 75 with value: 0.2636091824869837.\n",
      "[I 2024-02-03 07:42:30,153] Trial 157 finished with value: 0.2722643600553854 and parameters: {'max_depth': 8, 'min_child_weight': 6, 'learning_rate': 0.04945940485253089, 'n_estimators': 465, 'subsample': 0.7876997709597207, 'colsample_bytree': 0.6781187122307439, 'random_state': 42}. Best is trial 75 with value: 0.2636091824869837.\n",
      "[I 2024-02-03 07:42:35,192] Trial 158 finished with value: 0.282887611131449 and parameters: {'max_depth': 8, 'min_child_weight': 6, 'learning_rate': 0.09347283541949977, 'n_estimators': 360, 'subsample': 0.746342313648996, 'colsample_bytree': 0.7207984407505452, 'random_state': 42}. Best is trial 75 with value: 0.2636091824869837.\n",
      "[I 2024-02-03 07:42:41,598] Trial 159 finished with value: 0.2777498110505378 and parameters: {'max_depth': 9, 'min_child_weight': 7, 'learning_rate': 0.06860918540071954, 'n_estimators': 432, 'subsample': 0.6457127162258156, 'colsample_bytree': 0.657801174452653, 'random_state': 42}. Best is trial 75 with value: 0.2636091824869837.\n",
      "[I 2024-02-03 07:42:47,951] Trial 160 finished with value: 0.3381167121399762 and parameters: {'max_depth': 8, 'min_child_weight': 6, 'learning_rate': 0.010837837248907592, 'n_estimators': 397, 'subsample': 0.6725102015543564, 'colsample_bytree': 0.5964324756018674, 'random_state': 42}. Best is trial 75 with value: 0.2636091824869837.\n",
      "[I 2024-02-03 07:42:53,140] Trial 161 finished with value: 0.2687444906762238 and parameters: {'max_depth': 8, 'min_child_weight': 6, 'learning_rate': 0.040978084550145996, 'n_estimators': 360, 'subsample': 0.6953799628025272, 'colsample_bytree': 0.7697373283209306, 'random_state': 42}. Best is trial 75 with value: 0.2636091824869837.\n",
      "[I 2024-02-03 07:42:58,669] Trial 162 finished with value: 0.266380481071175 and parameters: {'max_depth': 8, 'min_child_weight': 6, 'learning_rate': 0.037794076286471495, 'n_estimators': 372, 'subsample': 0.7806052376383094, 'colsample_bytree': 0.6944160030140406, 'random_state': 42}. Best is trial 75 with value: 0.2636091824869837.\n",
      "[I 2024-02-03 07:43:05,047] Trial 163 finished with value: 0.2759170033006973 and parameters: {'max_depth': 8, 'min_child_weight': 6, 'learning_rate': 0.05878195975120524, 'n_estimators': 448, 'subsample': 0.7198625727319639, 'colsample_bytree': 0.7009836867767829, 'random_state': 42}. Best is trial 75 with value: 0.2636091824869837.\n",
      "[I 2024-02-03 07:43:10,345] Trial 164 finished with value: 0.2673420387450944 and parameters: {'max_depth': 8, 'min_child_weight': 6, 'learning_rate': 0.02770419477994466, 'n_estimators': 341, 'subsample': 0.7708480222264387, 'colsample_bytree': 0.6887807559767267, 'random_state': 42}. Best is trial 75 with value: 0.2636091824869837.\n",
      "[I 2024-02-03 07:43:16,086] Trial 165 finished with value: 0.2935631609509028 and parameters: {'max_depth': 8, 'min_child_weight': 6, 'learning_rate': 0.10723111083532275, 'n_estimators': 417, 'subsample': 0.6900158003314038, 'colsample_bytree': 0.7301713613539605, 'random_state': 42}. Best is trial 75 with value: 0.2636091824869837.\n",
      "[I 2024-02-03 07:43:21,873] Trial 166 finished with value: 0.27833566344532046 and parameters: {'max_depth': 8, 'min_child_weight': 6, 'learning_rate': 0.07218101699341532, 'n_estimators': 405, 'subsample': 0.8130408496146364, 'colsample_bytree': 0.6474565852934399, 'random_state': 42}. Best is trial 75 with value: 0.2636091824869837.\n",
      "[I 2024-02-03 07:43:27,551] Trial 167 finished with value: 0.26655150788099213 and parameters: {'max_depth': 8, 'min_child_weight': 5, 'learning_rate': 0.04764089345125943, 'n_estimators': 382, 'subsample': 0.7646778891687214, 'colsample_bytree': 0.6704398647343378, 'random_state': 42}. Best is trial 75 with value: 0.2636091824869837.\n",
      "[I 2024-02-03 07:43:32,605] Trial 168 finished with value: 0.2812242817131016 and parameters: {'max_depth': 8, 'min_child_weight': 7, 'learning_rate': 0.08359695654851447, 'n_estimators': 366, 'subsample': 0.7893910697679025, 'colsample_bytree': 0.7095186002982402, 'random_state': 42}. Best is trial 75 with value: 0.2636091824869837.\n",
      "[I 2024-02-03 07:43:37,052] Trial 169 finished with value: 0.27273057636491255 and parameters: {'max_depth': 8, 'min_child_weight': 5, 'learning_rate': 0.026700605824569235, 'n_estimators': 319, 'subsample': 0.306862655495086, 'colsample_bytree': 0.7265972291144216, 'random_state': 42}. Best is trial 75 with value: 0.2636091824869837.\n",
      "[I 2024-02-03 07:43:41,652] Trial 170 finished with value: 0.4018944887739384 and parameters: {'max_depth': 8, 'min_child_weight': 6, 'learning_rate': 0.5821088772097496, 'n_estimators': 393, 'subsample': 0.8199109497430308, 'colsample_bytree': 0.62636643538794, 'random_state': 42}. Best is trial 75 with value: 0.2636091824869837.\n",
      "[I 2024-02-03 07:43:47,045] Trial 171 finished with value: 0.26845589478252735 and parameters: {'max_depth': 8, 'min_child_weight': 6, 'learning_rate': 0.04345151974538601, 'n_estimators': 373, 'subsample': 0.868966954490046, 'colsample_bytree': 0.7670468624000586, 'random_state': 42}. Best is trial 75 with value: 0.2636091824869837.\n",
      "[I 2024-02-03 07:43:51,595] Trial 172 finished with value: 0.27101689113838523 and parameters: {'max_depth': 8, 'min_child_weight': 6, 'learning_rate': 0.06522195094350103, 'n_estimators': 346, 'subsample': 0.34440961528739034, 'colsample_bytree': 0.6872929302769916, 'random_state': 42}. Best is trial 75 with value: 0.2636091824869837.\n",
      "[I 2024-02-03 07:43:56,547] Trial 173 finished with value: 0.2651858400841161 and parameters: {'max_depth': 8, 'min_child_weight': 6, 'learning_rate': 0.03975815306268367, 'n_estimators': 369, 'subsample': 0.3424026892050023, 'colsample_bytree': 0.6670742200738085, 'random_state': 42}. Best is trial 75 with value: 0.2636091824869837.\n",
      "[I 2024-02-03 07:44:02,630] Trial 174 finished with value: 0.2659303272130662 and parameters: {'max_depth': 8, 'min_child_weight': 6, 'learning_rate': 0.025137392966154398, 'n_estimators': 407, 'subsample': 0.6544452281040105, 'colsample_bytree': 0.6603397347318943, 'random_state': 42}. Best is trial 75 with value: 0.2636091824869837.\n",
      "[I 2024-02-03 07:44:09,328] Trial 175 finished with value: 0.30869213817010116 and parameters: {'max_depth': 8, 'min_child_weight': 7, 'learning_rate': 0.011685941690627928, 'n_estimators': 424, 'subsample': 0.672228571777593, 'colsample_bytree': 0.661201372514169, 'random_state': 42}. Best is trial 75 with value: 0.2636091824869837.\n",
      "[I 2024-02-03 07:44:15,207] Trial 176 finished with value: 0.28505261557242945 and parameters: {'max_depth': 8, 'min_child_weight': 5, 'learning_rate': 0.09129127868405656, 'n_estimators': 463, 'subsample': 0.31431922120799366, 'colsample_bytree': 0.6346546207138384, 'random_state': 42}. Best is trial 75 with value: 0.2636091824869837.\n",
      "[I 2024-02-03 07:44:20,813] Trial 177 finished with value: 0.27147623147826777 and parameters: {'max_depth': 8, 'min_child_weight': 6, 'learning_rate': 0.0602703456978427, 'n_estimators': 399, 'subsample': 0.6579602301800264, 'colsample_bytree': 0.6063946802908895, 'random_state': 42}. Best is trial 75 with value: 0.2636091824869837.\n",
      "[I 2024-02-03 07:44:26,488] Trial 178 finished with value: 0.2981894388077611 and parameters: {'max_depth': 8, 'min_child_weight': 5, 'learning_rate': 0.11230287312862366, 'n_estimators': 413, 'subsample': 0.7172097034953248, 'colsample_bytree': 0.6496380394769588, 'random_state': 42}. Best is trial 75 with value: 0.2636091824869837.\n",
      "[I 2024-02-03 07:44:31,103] Trial 179 finished with value: 0.26945085039279154 and parameters: {'max_depth': 8, 'min_child_weight': 7, 'learning_rate': 0.029624459869462313, 'n_estimators': 336, 'subsample': 0.3655133109093869, 'colsample_bytree': 0.6806227831285163, 'random_state': 42}. Best is trial 75 with value: 0.2636091824869837.\n",
      "[I 2024-02-03 07:44:36,340] Trial 180 finished with value: 0.2838358115188927 and parameters: {'max_depth': 8, 'min_child_weight': 5, 'learning_rate': 0.0782412421132097, 'n_estimators': 443, 'subsample': 0.3372680927309802, 'colsample_bytree': 0.193413893562302, 'random_state': 42}. Best is trial 75 with value: 0.2636091824869837.\n",
      "[I 2024-02-03 07:44:41,567] Trial 181 finished with value: 0.2691767117829588 and parameters: {'max_depth': 8, 'min_child_weight': 6, 'learning_rate': 0.048326824046632064, 'n_estimators': 364, 'subsample': 0.6202920321001121, 'colsample_bytree': 0.709153251816224, 'random_state': 42}. Best is trial 75 with value: 0.2636091824869837.\n",
      "[I 2024-02-03 07:44:47,298] Trial 182 finished with value: 0.26680423232904926 and parameters: {'max_depth': 8, 'min_child_weight': 6, 'learning_rate': 0.026308940902183886, 'n_estimators': 379, 'subsample': 0.7029788712778825, 'colsample_bytree': 0.6672019905866837, 'random_state': 42}. Best is trial 75 with value: 0.2636091824869837.\n",
      "[I 2024-02-03 07:44:52,328] Trial 183 finished with value: 0.3635761355005701 and parameters: {'max_depth': 8, 'min_child_weight': 6, 'learning_rate': 0.010381773904391538, 'n_estimators': 351, 'subsample': 0.2967409980954143, 'colsample_bytree': 0.6947895201429274, 'random_state': 42}. Best is trial 75 with value: 0.2636091824869837.\n",
      "[I 2024-02-03 07:44:59,430] Trial 184 finished with value: 0.27456558251729873 and parameters: {'max_depth': 8, 'min_child_weight': 6, 'learning_rate': 0.05082297055256381, 'n_estimators': 518, 'subsample': 0.5587219762558515, 'colsample_bytree': 0.7307716408091814, 'random_state': 42}. Best is trial 75 with value: 0.2636091824869837.\n",
      "[I 2024-02-03 07:45:04,868] Trial 185 finished with value: 0.2650864925196817 and parameters: {'max_depth': 8, 'min_child_weight': 5, 'learning_rate': 0.036671167879267844, 'n_estimators': 389, 'subsample': 0.3752070680465439, 'colsample_bytree': 0.6773905066732188, 'random_state': 42}. Best is trial 75 with value: 0.2636091824869837.\n",
      "[I 2024-02-03 07:45:10,106] Trial 186 finished with value: 0.27329585725566313 and parameters: {'max_depth': 8, 'min_child_weight': 5, 'learning_rate': 0.06736685220172177, 'n_estimators': 391, 'subsample': 0.37219077732192724, 'colsample_bytree': 0.6405185908172242, 'random_state': 42}. Best is trial 75 with value: 0.2636091824869837.\n",
      "[I 2024-02-03 07:45:16,733] Trial 187 finished with value: 0.2655584168479475 and parameters: {'max_depth': 9, 'min_child_weight': 4, 'learning_rate': 0.029409969979040475, 'n_estimators': 427, 'subsample': 0.32641105395677966, 'colsample_bytree': 0.6679458624684377, 'random_state': 42}. Best is trial 75 with value: 0.2636091824869837.\n",
      "[I 2024-02-03 07:45:23,016] Trial 188 finished with value: 0.28887332865321586 and parameters: {'max_depth': 9, 'min_child_weight': 4, 'learning_rate': 0.08529157832257164, 'n_estimators': 437, 'subsample': 0.3497726545455109, 'colsample_bytree': 0.7381477857075852, 'random_state': 42}. Best is trial 75 with value: 0.2636091824869837.\n",
      "[I 2024-02-03 07:45:27,942] Trial 189 finished with value: 0.26867723046083614 and parameters: {'max_depth': 9, 'min_child_weight': 4, 'learning_rate': 0.052713570523672676, 'n_estimators': 325, 'subsample': 0.3338702425885195, 'colsample_bytree': 0.7088975585279751, 'random_state': 42}. Best is trial 75 with value: 0.2636091824869837.\n",
      "[I 2024-02-03 07:45:33,933] Trial 190 finished with value: 0.2778967108885399 and parameters: {'max_depth': 10, 'min_child_weight': 5, 'learning_rate': 0.06995903934133141, 'n_estimators': 417, 'subsample': 0.2826608333975982, 'colsample_bytree': 0.6810090232370971, 'random_state': 42}. Best is trial 75 with value: 0.2636091824869837.\n",
      "[I 2024-02-03 07:45:39,575] Trial 191 finished with value: 0.2650868001328276 and parameters: {'max_depth': 8, 'min_child_weight': 4, 'learning_rate': 0.031702759427983576, 'n_estimators': 400, 'subsample': 0.31550041501789006, 'colsample_bytree': 0.6592048798412606, 'random_state': 42}. Best is trial 75 with value: 0.2636091824869837.\n",
      "[I 2024-02-03 07:45:45,115] Trial 192 finished with value: 0.2658762355933513 and parameters: {'max_depth': 8, 'min_child_weight': 4, 'learning_rate': 0.03047554970078761, 'n_estimators': 389, 'subsample': 0.3134463960528575, 'colsample_bytree': 0.6211891082835517, 'random_state': 42}. Best is trial 75 with value: 0.2636091824869837.\n",
      "[I 2024-02-03 07:45:50,624] Trial 193 finished with value: 0.2670225235025413 and parameters: {'max_depth': 8, 'min_child_weight': 4, 'learning_rate': 0.030915945631144318, 'n_estimators': 388, 'subsample': 0.31923155894735633, 'colsample_bytree': 0.6239618248882834, 'random_state': 42}. Best is trial 75 with value: 0.2636091824869837.\n",
      "[I 2024-02-03 07:45:55,435] Trial 194 finished with value: 0.47822438900973796 and parameters: {'max_depth': 9, 'min_child_weight': 4, 'learning_rate': 0.6532756377994253, 'n_estimators': 424, 'subsample': 0.3803734932095131, 'colsample_bytree': 0.6550217605158279, 'random_state': 42}. Best is trial 75 with value: 0.2636091824869837.\n",
      "[I 2024-02-03 07:46:00,501] Trial 195 finished with value: 0.2646224768816947 and parameters: {'max_depth': 8, 'min_child_weight': 4, 'learning_rate': 0.037467684591056497, 'n_estimators': 354, 'subsample': 0.35230507565332764, 'colsample_bytree': 0.6066600940309419, 'random_state': 42}. Best is trial 75 with value: 0.2636091824869837.\n",
      "[I 2024-02-03 07:46:05,476] Trial 196 finished with value: 0.2664348926188878 and parameters: {'max_depth': 8, 'min_child_weight': 4, 'learning_rate': 0.037379404472001485, 'n_estimators': 353, 'subsample': 0.3027600985842851, 'colsample_bytree': 0.5887050783214696, 'random_state': 42}. Best is trial 75 with value: 0.2636091824869837.\n",
      "[I 2024-02-03 07:46:11,061] Trial 197 finished with value: 0.26908473402644967 and parameters: {'max_depth': 8, 'min_child_weight': 4, 'learning_rate': 0.02630062345713686, 'n_estimators': 382, 'subsample': 0.35009817566641904, 'colsample_bytree': 0.6133901262350077, 'random_state': 42}. Best is trial 75 with value: 0.2636091824869837.\n",
      "[I 2024-02-03 07:46:15,855] Trial 198 finished with value: 0.38758901846975813 and parameters: {'max_depth': 8, 'min_child_weight': 4, 'learning_rate': 0.35554357323760016, 'n_estimators': 400, 'subsample': 0.3282138579090981, 'colsample_bytree': 0.6352819373923144, 'random_state': 42}. Best is trial 75 with value: 0.2636091824869837.\n",
      "[I 2024-02-03 07:46:21,455] Trial 199 finished with value: 0.3405825975779541 and parameters: {'max_depth': 8, 'min_child_weight': 4, 'learning_rate': 0.01123098212696208, 'n_estimators': 374, 'subsample': 0.2889536408808014, 'colsample_bytree': 0.6735426248537703, 'random_state': 42}. Best is trial 75 with value: 0.2636091824869837.\n"
     ]
    },
    {
     "name": "stdout",
     "output_type": "stream",
     "text": [
      "Number of finished trials:  200\n",
      "Best trial:\n",
      "Value:  0.2636091824869837\n",
      "Params: \n",
      "    max_depth: 6\n",
      "    min_child_weight: 4\n",
      "    learning_rate: 0.07295466187890404\n",
      "    n_estimators: 210\n",
      "    subsample: 0.3056642077352055\n",
      "    colsample_bytree: 0.6264624207408099\n",
      "    random_state: 42\n"
     ]
    }
   ],
   "source": [
    "if submit == False:\n",
    "    import optuna\n",
    "    from xgboost import XGBClassifier\n",
    "    from sklearn.model_selection import train_test_split\n",
    "    from sklearn.metrics import roc_auc_score, log_loss\n",
    "\n",
    "    # Assuming 'X' is your feature matrix and 'y' is your target variable\n",
    "    X = X.copy()\n",
    "    y = y.copy()\n",
    "\n",
    "    def objective(trial):\n",
    "        X_train, X_val, y_train, y_val = train_test_split(X, y, test_size=0.2, random_state=42)\n",
    "\n",
    "        params = {\n",
    "            'objective':\"multi:softmax\",\n",
    "            'max_depth': trial.suggest_int('max_depth', 5, 10),\n",
    "            'min_child_weight': trial.suggest_int('min_child_weight', 1, 10),\n",
    "            'learning_rate': trial.suggest_float('learning_rate', 0.01, 1.0),\n",
    "            'n_estimators': trial.suggest_int('n_estimators', 150, 1000),\n",
    "            'subsample': trial.suggest_float('subsample', 0.01, 1.0),\n",
    "            'colsample_bytree': trial.suggest_float('colsample_bytree', 0.01, 1.0),\n",
    "#             'gamma': trial.suggest_uniform(\"gamma\", 0.05, 0.8),\n",
    "#             'reg_lambda': trial.suggest_uniform(\"reg_lambda\", 1.3, 2.3),\n",
    "#             'reg_alpha': trial.suggest_uniform(\"reg_alpha\", 1.5, 2.2),\n",
    "            'random_state': trial.suggest_categorical('random_state', [42]),\n",
    "            'tree_method': 'hist',  # Use GPU for training\n",
    "            'device': 'cuda',\n",
    "            'njobs': -1,\n",
    "            'eval_metric': 'logloss',  # Evaluation metric\n",
    "            'verbosity': 0,  # Set verbosity to 0 for less output\n",
    "        }\n",
    "\n",
    "        model = XGBClassifier(**params)\n",
    "\n",
    "#         model.fit(X_train, y_train, eval_set=[(X_val, y_val)], early_stopping_rounds=100, verbose=False)\n",
    "        model.fit(X_train, y_train)\n",
    "\n",
    "        y_pred = model.predict_proba(X_val)\n",
    "        metrics = log_loss(y_val, y_pred)\n",
    "\n",
    "        return metrics\n",
    "\n",
    "    study = optuna.create_study(direction='minimize')\n",
    "    study.optimize(objective, n_trials=200)\n",
    "\n",
    "    print('Number of finished trials: ', len(study.trials))\n",
    "    print('Best trial:')\n",
    "    trial = study.best_trial\n",
    "\n",
    "    print('Value: ', trial.value)\n",
    "    print('Params: ')\n",
    "    for key, value in trial.params.items():\n",
    "        print(f'    {key}: {value}')"
   ]
  },
  {
   "cell_type": "code",
   "execution_count": 10,
   "id": "fd8ac165",
   "metadata": {
    "execution": {
     "iopub.execute_input": "2024-02-03T07:46:21.568032Z",
     "iopub.status.busy": "2024-02-03T07:46:21.567730Z",
     "iopub.status.idle": "2024-02-03T07:46:21.572553Z",
     "shell.execute_reply": "2024-02-03T07:46:21.571619Z"
    },
    "papermill": {
     "duration": 0.039409,
     "end_time": "2024-02-03T07:46:21.574651",
     "exception": false,
     "start_time": "2024-02-03T07:46:21.535242",
     "status": "completed"
    },
    "tags": []
   },
   "outputs": [
    {
     "name": "stdout",
     "output_type": "stream",
     "text": [
      "Best parameters: {'max_depth': 6, 'min_child_weight': 4, 'learning_rate': 0.07295466187890404, 'n_estimators': 210, 'subsample': 0.3056642077352055, 'colsample_bytree': 0.6264624207408099, 'random_state': 42}\n"
     ]
    }
   ],
   "source": [
    "print('Best parameters:', study.best_params)"
   ]
  },
  {
   "cell_type": "markdown",
   "id": "1aeaec8d",
   "metadata": {
    "papermill": {
     "duration": 0.031672,
     "end_time": "2024-02-03T07:46:21.638216",
     "exception": false,
     "start_time": "2024-02-03T07:46:21.606544",
     "status": "completed"
    },
    "tags": []
   },
   "source": [
    "### LGBMClassifier"
   ]
  },
  {
   "cell_type": "code",
   "execution_count": 11,
   "id": "a068d4c9",
   "metadata": {
    "execution": {
     "iopub.execute_input": "2024-02-03T07:46:21.705001Z",
     "iopub.status.busy": "2024-02-03T07:46:21.704685Z",
     "iopub.status.idle": "2024-02-03T07:46:21.710229Z",
     "shell.execute_reply": "2024-02-03T07:46:21.709377Z"
    },
    "papermill": {
     "duration": 0.040418,
     "end_time": "2024-02-03T07:46:21.712126",
     "exception": false,
     "start_time": "2024-02-03T07:46:21.671708",
     "status": "completed"
    },
    "tags": []
   },
   "outputs": [],
   "source": [
    "import pandas as pd\n",
    "import numpy as np\n",
    "\n",
    "from sklearn.model_selection import train_test_split\n",
    "import lightgbm as lgb\n",
    "\n",
    "from sklearn.metrics import confusion_matrix, ConfusionMatrixDisplay\n",
    "from sklearn.metrics import accuracy_score, classification_report\n",
    "\n",
    "from optuna.samplers import TPESampler\n",
    "import optuna\n",
    "\n",
    "import warnings\n",
    "warnings.filterwarnings(\"ignore\")"
   ]
  },
  {
   "cell_type": "code",
   "execution_count": 12,
   "id": "154416f8",
   "metadata": {
    "execution": {
     "iopub.execute_input": "2024-02-03T07:46:21.776512Z",
     "iopub.status.busy": "2024-02-03T07:46:21.775927Z",
     "iopub.status.idle": "2024-02-03T07:46:21.788664Z",
     "shell.execute_reply": "2024-02-03T07:46:21.787976Z"
    },
    "papermill": {
     "duration": 0.046924,
     "end_time": "2024-02-03T07:46:21.790534",
     "exception": false,
     "start_time": "2024-02-03T07:46:21.743610",
     "status": "completed"
    },
    "tags": []
   },
   "outputs": [],
   "source": [
    "target_col = 'NObeyesdad'\n",
    "\n",
    "X = train.drop([target_col], axis=1) # 目的変数を指定する\n",
    "y = train[target_col].values # 目的変数を指定する\n",
    "X_train, X_val, y_train, y_val = train_test_split(X, y, test_size=0.2, random_state=42)\n",
    "\n",
    "def objective(trial):\n",
    "    param = {\n",
    "        \"objective\": \"multiclass\",\n",
    "        \"metric\": \"multi_logloss\",\n",
    "        \"verbosity\": -1,\n",
    "        \"boosting_type\": \"gbdt\",\n",
    "        \"num_class\": 7,\n",
    "        \"lambda_l1\": trial.suggest_float(\"lambda_l1\", 1e-8, 10.0, log=True),\n",
    "        \"lambda_l2\": trial.suggest_float(\"lambda_l2\", 1e-8, 10.0, log=True),\n",
    "        \"num_leaves\": trial.suggest_int(\"num_leaves\", 2, 256),\n",
    "        \"feature_fraction\": trial.suggest_float(\"feature_fraction\", 0.4, 1.0),\n",
    "        \"bagging_fraction\": trial.suggest_float(\"bagging_fraction\", 0.4, 1.0),\n",
    "        \"bagging_freq\": trial.suggest_int(\"bagging_freq\", 1, 7),\n",
    "        \"min_child_samples\": trial.suggest_int(\"min_child_samples\", 5, 100),\n",
    "    }\n",
    "    \n",
    "    gbm = lgb.LGBMClassifier(**param)\n",
    "    gbm.fit(X_train, y_train)\n",
    "    preds = gbm.predict(X_val)\n",
    "    accuracy = accuracy_score(y_val, preds)\n",
    "    \n",
    "    return accuracy"
   ]
  },
  {
   "cell_type": "code",
   "execution_count": 13,
   "id": "1c5662f3",
   "metadata": {
    "execution": {
     "iopub.execute_input": "2024-02-03T07:46:21.855510Z",
     "iopub.status.busy": "2024-02-03T07:46:21.855229Z",
     "iopub.status.idle": "2024-02-03T07:54:38.944187Z",
     "shell.execute_reply": "2024-02-03T07:54:38.943185Z"
    },
    "papermill": {
     "duration": 497.179749,
     "end_time": "2024-02-03T07:54:39.001970",
     "exception": false,
     "start_time": "2024-02-03T07:46:21.822221",
     "status": "completed"
    },
    "tags": []
   },
   "outputs": [
    {
     "name": "stderr",
     "output_type": "stream",
     "text": [
      "[I 2024-02-03 07:46:21,858] A new study created in memory with name: lightgbm\n",
      "[I 2024-02-03 07:46:24,859] Trial 0 finished with value: 0.9072736030828517 and parameters: {'lambda_l1': 2.348881295853308e-05, 'lambda_l2': 3.6010467344475403, 'num_leaves': 188, 'feature_fraction': 0.759195090518222, 'bagging_fraction': 0.4936111842654619, 'bagging_freq': 2, 'min_child_samples': 10}. Best is trial 0 with value: 0.9072736030828517.\n",
      "[I 2024-02-03 07:46:28,149] Trial 1 finished with value: 0.9087186897880539 and parameters: {'lambda_l1': 0.6245760287469893, 'lambda_l2': 0.002570603566117598, 'num_leaves': 182, 'feature_fraction': 0.41235069657748147, 'bagging_fraction': 0.9819459112971965, 'bagging_freq': 6, 'min_child_samples': 25}. Best is trial 1 with value: 0.9087186897880539.\n",
      "[I 2024-02-03 07:46:31,431] Trial 2 finished with value: 0.901252408477842 and parameters: {'lambda_l1': 4.329370014459266e-07, 'lambda_l2': 4.4734294104626844e-07, 'num_leaves': 79, 'feature_fraction': 0.7148538589793427, 'bagging_fraction': 0.6591670111852694, 'bagging_freq': 3, 'min_child_samples': 63}. Best is trial 1 with value: 0.9087186897880539.\n",
      "[I 2024-02-03 07:46:35,319] Trial 3 finished with value: 0.9026974951830443 and parameters: {'lambda_l1': 1.8007140198129195e-07, 'lambda_l2': 4.258943089524393e-06, 'num_leaves': 95, 'feature_fraction': 0.6736419905302216, 'bagging_fraction': 0.8711055768358081, 'bagging_freq': 2, 'min_child_samples': 54}. Best is trial 1 with value: 0.9087186897880539.\n",
      "[I 2024-02-03 07:46:37,474] Trial 4 finished with value: 0.903179190751445 and parameters: {'lambda_l1': 0.0021465011216654484, 'lambda_l2': 2.6185068507773707e-08, 'num_leaves': 156, 'feature_fraction': 0.502314474212375, 'bagging_fraction': 0.43903095579116774, 'bagging_freq': 7, 'min_child_samples': 97}. Best is trial 1 with value: 0.9087186897880539.\n",
      "[I 2024-02-03 07:46:39,021] Trial 5 finished with value: 0.9053468208092486 and parameters: {'lambda_l1': 0.18861495878553936, 'lambda_l2': 5.514725787121931e-06, 'num_leaves': 26, 'feature_fraction': 0.8105398159072941, 'bagging_fraction': 0.6640914962437607, 'bagging_freq': 1, 'min_child_samples': 52}. Best is trial 1 with value: 0.9087186897880539.\n",
      "[I 2024-02-03 07:46:41,347] Trial 6 finished with value: 0.904383429672447 and parameters: {'lambda_l1': 2.039373116525212e-08, 'lambda_l2': 1.527156759251193, 'num_leaves': 67, 'feature_fraction': 0.7975133706123891, 'bagging_fraction': 0.5870266456536466, 'bagging_freq': 4, 'min_child_samples': 57}. Best is trial 1 with value: 0.9087186897880539.\n",
      "[I 2024-02-03 07:46:43,967] Trial 7 finished with value: 0.9041425818882466 and parameters: {'lambda_l1': 4.609885087947832e-07, 'lambda_l2': 5.324289357128436, 'num_leaves': 199, 'feature_fraction': 0.9636993649385135, 'bagging_fraction': 0.9368964102565893, 'bagging_freq': 5, 'min_child_samples': 93}. Best is trial 1 with value: 0.9087186897880539.\n",
      "[I 2024-02-03 07:46:45,437] Trial 8 finished with value: 0.9089595375722543 and parameters: {'lambda_l1': 6.257956190096665e-08, 'lambda_l2': 5.805581976088804e-07, 'num_leaves': 13, 'feature_fraction': 0.5951981984579586, 'bagging_fraction': 0.6332063738136893, 'bagging_freq': 2, 'min_child_samples': 84}. Best is trial 8 with value: 0.9089595375722543.\n",
      "[I 2024-02-03 07:46:48,593] Trial 9 finished with value: 0.9070327552986512 and parameters: {'lambda_l1': 1.6247252885719427e-05, 'lambda_l2': 3.376063348877853e-06, 'num_leaves': 140, 'feature_fraction': 0.4845545349848576, 'bagging_fraction': 0.8813181884524238, 'bagging_freq': 1, 'min_child_samples': 99}. Best is trial 8 with value: 0.9089595375722543.\n",
      "[I 2024-02-03 07:46:51,997] Trial 10 finished with value: 0.9065510597302505 and parameters: {'lambda_l1': 0.00041973019546708034, 'lambda_l2': 0.0010220987574526444, 'num_leaves': 249, 'feature_fraction': 0.608110534843973, 'bagging_fraction': 0.7840531014805339, 'bagging_freq': 4, 'min_child_samples': 75}. Best is trial 8 with value: 0.9089595375722543.\n",
      "[I 2024-02-03 07:46:52,819] Trial 11 finished with value: 0.8798169556840078 and parameters: {'lambda_l1': 6.099006535330825, 'lambda_l2': 0.00438483044163546, 'num_leaves': 3, 'feature_fraction': 0.4171641007516335, 'bagging_fraction': 0.7694422248242601, 'bagging_freq': 7, 'min_child_samples': 19}. Best is trial 8 with value: 0.9089595375722543.\n",
      "[I 2024-02-03 07:46:56,153] Trial 12 finished with value: 0.9022157996146436 and parameters: {'lambda_l1': 0.031201059578367114, 'lambda_l2': 0.06191836613933346, 'num_leaves': 239, 'feature_fraction': 0.6019566265819386, 'bagging_fraction': 0.5601946437672218, 'bagging_freq': 6, 'min_child_samples': 30}. Best is trial 8 with value: 0.9089595375722543.\n",
      "[I 2024-02-03 07:46:57,829] Trial 13 finished with value: 0.9072736030828517 and parameters: {'lambda_l1': 9.737498588533892, 'lambda_l2': 0.0001653282123997987, 'num_leaves': 182, 'feature_fraction': 0.4288379911842937, 'bagging_fraction': 0.9794167452651843, 'bagging_freq': 5, 'min_child_samples': 37}. Best is trial 8 with value: 0.9089595375722543.\n",
      "[I 2024-02-03 07:47:00,829] Trial 14 finished with value: 0.9060693641618497 and parameters: {'lambda_l1': 0.01831028231559048, 'lambda_l2': 0.00012849617790740221, 'num_leaves': 113, 'feature_fraction': 0.5514815830108214, 'bagging_fraction': 0.7544846791129366, 'bagging_freq': 3, 'min_child_samples': 78}. Best is trial 8 with value: 0.9089595375722543.\n",
      "[I 2024-02-03 07:47:03,235] Trial 15 finished with value: 0.9034200385356455 and parameters: {'lambda_l1': 1.9618646337273142e-05, 'lambda_l2': 1.31299430222377e-08, 'num_leaves': 47, 'feature_fraction': 0.9006378355097535, 'bagging_fraction': 0.6049172463673441, 'bagging_freq': 6, 'min_child_samples': 33}. Best is trial 8 with value: 0.9089595375722543.\n",
      "[I 2024-02-03 07:47:06,950] Trial 16 finished with value: 0.9065510597302505 and parameters: {'lambda_l1': 0.4740410642277974, 'lambda_l2': 0.015936847132186974, 'num_leaves': 211, 'feature_fraction': 0.6309694611006726, 'bagging_fraction': 0.8412120337414722, 'bagging_freq': 5, 'min_child_samples': 6}. Best is trial 8 with value: 0.9089595375722543.\n",
      "[I 2024-02-03 07:47:09,236] Trial 17 finished with value: 0.9060693641618497 and parameters: {'lambda_l1': 1.3731338031115566e-08, 'lambda_l2': 0.14646846982487594, 'num_leaves': 154, 'feature_fraction': 0.5100068777956208, 'bagging_fraction': 0.4928215388466877, 'bagging_freq': 3, 'min_child_samples': 81}. Best is trial 8 with value: 0.9089595375722543.\n",
      "[I 2024-02-03 07:47:12,883] Trial 18 finished with value: 0.9063102119460501 and parameters: {'lambda_l1': 0.00023037850725026422, 'lambda_l2': 3.536087815674679e-05, 'num_leaves': 123, 'feature_fraction': 0.4093994198715807, 'bagging_fraction': 0.7167292045250233, 'bagging_freq': 2, 'min_child_samples': 44}. Best is trial 8 with value: 0.9089595375722543.\n",
      "[I 2024-02-03 07:47:18,900] Trial 19 finished with value: 0.9019749518304432 and parameters: {'lambda_l1': 2.9762988802196635e-06, 'lambda_l2': 1.3038690313201848e-07, 'num_leaves': 220, 'feature_fraction': 0.5575999355474852, 'bagging_fraction': 0.8250685966312573, 'bagging_freq': 6, 'min_child_samples': 20}. Best is trial 8 with value: 0.9089595375722543.\n",
      "[I 2024-02-03 07:47:22,047] Trial 20 finished with value: 0.9065510597302505 and parameters: {'lambda_l1': 0.003157198499967972, 'lambda_l2': 0.002022260267184315, 'num_leaves': 169, 'feature_fraction': 0.4733346228001331, 'bagging_fraction': 0.6956483538710228, 'bagging_freq': 4, 'min_child_samples': 68}. Best is trial 8 with value: 0.9089595375722543.\n",
      "[I 2024-02-03 07:47:25,822] Trial 21 finished with value: 0.8998073217726397 and parameters: {'lambda_l1': 2.5593007326907338e-05, 'lambda_l2': 0.2337822546421868, 'num_leaves': 168, 'feature_fraction': 0.7320744660423264, 'bagging_fraction': 0.4081398905372933, 'bagging_freq': 2, 'min_child_samples': 6}. Best is trial 8 with value: 0.9089595375722543.\n",
      "[I 2024-02-03 07:47:28,743] Trial 22 finished with value: 0.9019749518304432 and parameters: {'lambda_l1': 2.6214813210664486e-06, 'lambda_l2': 1.2809481583015874, 'num_leaves': 190, 'feature_fraction': 0.7883496882027698, 'bagging_fraction': 0.516194443957628, 'bagging_freq': 1, 'min_child_samples': 18}. Best is trial 8 with value: 0.9089595375722543.\n",
      "[I 2024-02-03 07:47:31,302] Trial 23 finished with value: 0.9063102119460501 and parameters: {'lambda_l1': 0.0003019092366641722, 'lambda_l2': 9.247587720972902, 'num_leaves': 137, 'feature_fraction': 0.8648303091593609, 'bagging_fraction': 0.5144116003149852, 'bagging_freq': 2, 'min_child_samples': 13}. Best is trial 8 with value: 0.9089595375722543.\n",
      "[I 2024-02-03 07:47:36,369] Trial 24 finished with value: 0.903179190751445 and parameters: {'lambda_l1': 5.7753488067194427e-08, 'lambda_l2': 2.7152322073635154e-05, 'num_leaves': 219, 'feature_fraction': 0.6693070696207704, 'bagging_fraction': 0.6224373574797892, 'bagging_freq': 3, 'min_child_samples': 26}. Best is trial 8 with value: 0.9089595375722543.\n",
      "[I 2024-02-03 07:47:38,166] Trial 25 finished with value: 0.9065510597302505 and parameters: {'lambda_l1': 0.8144612161868817, 'lambda_l2': 0.04223135629623801, 'num_leaves': 103, 'feature_fraction': 0.748476786325623, 'bagging_fraction': 0.4639034280345954, 'bagging_freq': 2, 'min_child_samples': 88}. Best is trial 8 with value: 0.9089595375722543.\n",
      "[I 2024-02-03 07:47:39,195] Trial 26 finished with value: 0.9048651252408478 and parameters: {'lambda_l1': 3.3685684447672443e-06, 'lambda_l2': 4.95182202882056e-07, 'num_leaves': 9, 'feature_fraction': 0.5625457011896411, 'bagging_fraction': 0.5515986128593262, 'bagging_freq': 1, 'min_child_samples': 41}. Best is trial 8 with value: 0.9089595375722543.\n",
      "[I 2024-02-03 07:47:43,521] Trial 27 finished with value: 0.8973988439306358 and parameters: {'lambda_l1': 0.03224836861435407, 'lambda_l2': 0.0003484640669596882, 'num_leaves': 177, 'feature_fraction': 0.8457877978277217, 'bagging_fraction': 0.6487550539569624, 'bagging_freq': 3, 'min_child_samples': 12}. Best is trial 8 with value: 0.9089595375722543.\n",
      "[I 2024-02-03 07:47:48,846] Trial 28 finished with value: 0.9024566473988439 and parameters: {'lambda_l1': 0.00010096839365871053, 'lambda_l2': 0.009571737691620896, 'num_leaves': 201, 'feature_fraction': 0.6526198746115319, 'bagging_fraction': 0.9439698526295867, 'bagging_freq': 4, 'min_child_samples': 26}. Best is trial 8 with value: 0.9089595375722543.\n",
      "[I 2024-02-03 07:47:52,200] Trial 29 finished with value: 0.9039017341040463 and parameters: {'lambda_l1': 6.066953212133811e-07, 'lambda_l2': 7.392602945552466e-07, 'num_leaves': 76, 'feature_fraction': 0.7123850942406916, 'bagging_fraction': 0.7134119067783998, 'bagging_freq': 3, 'min_child_samples': 65}. Best is trial 8 with value: 0.9089595375722543.\n",
      "[I 2024-02-03 07:47:55,428] Trial 30 finished with value: 0.9039017341040463 and parameters: {'lambda_l1': 0.0035334847974095524, 'lambda_l2': 4.184085784078871e-05, 'num_leaves': 234, 'feature_fraction': 0.7650223605977842, 'bagging_fraction': 0.545219655879239, 'bagging_freq': 2, 'min_child_samples': 45}. Best is trial 8 with value: 0.9089595375722543.\n",
      "[I 2024-02-03 07:47:57,381] Trial 31 finished with value: 0.9026974951830443 and parameters: {'lambda_l1': 4.863649425048326, 'lambda_l2': 7.633795079910725e-08, 'num_leaves': 188, 'feature_fraction': 0.4012903877285413, 'bagging_fraction': 0.9858980949335843, 'bagging_freq': 5, 'min_child_samples': 38}. Best is trial 8 with value: 0.9089595375722543.\n",
      "[I 2024-02-03 07:48:01,071] Trial 32 finished with value: 0.9058285163776493 and parameters: {'lambda_l1': 0.1624025200282244, 'lambda_l2': 0.0004732320154858949, 'num_leaves': 156, 'feature_fraction': 0.4354859811609102, 'bagging_fraction': 0.9857432603365603, 'bagging_freq': 6, 'min_child_samples': 37}. Best is trial 8 with value: 0.9089595375722543.\n",
      "[I 2024-02-03 07:48:03,452] Trial 33 finished with value: 0.9082369942196532 and parameters: {'lambda_l1': 2.166544458970134, 'lambda_l2': 2.4042448283919397e-06, 'num_leaves': 179, 'feature_fraction': 0.45845101506932917, 'bagging_fraction': 0.9324659426913583, 'bagging_freq': 5, 'min_child_samples': 24}. Best is trial 8 with value: 0.9089595375722543.\n",
      "[I 2024-02-03 07:48:05,633] Trial 34 finished with value: 0.9092003853564548 and parameters: {'lambda_l1': 2.131736862801285, 'lambda_l2': 1.8820751306031626e-06, 'num_leaves': 53, 'feature_fraction': 0.45844002522111127, 'bagging_fraction': 0.8948237517977241, 'bagging_freq': 7, 'min_child_samples': 25}. Best is trial 34 with value: 0.9092003853564548.\n",
      "[I 2024-02-03 07:48:07,769] Trial 35 finished with value: 0.9084778420038536 and parameters: {'lambda_l1': 1.719040428924358, 'lambda_l2': 1.4288021224207876e-06, 'num_leaves': 33, 'feature_fraction': 0.4643256023918377, 'bagging_fraction': 0.9179966795768784, 'bagging_freq': 7, 'min_child_samples': 24}. Best is trial 34 with value: 0.9092003853564548.\n",
      "[I 2024-02-03 07:48:09,980] Trial 36 finished with value: 0.9108863198458574 and parameters: {'lambda_l1': 1.3019828669773963, 'lambda_l2': 1.0378733814005926e-05, 'num_leaves': 43, 'feature_fraction': 0.5200508885969131, 'bagging_fraction': 0.8788385892118535, 'bagging_freq': 7, 'min_child_samples': 49}. Best is trial 36 with value: 0.9108863198458574.\n",
      "[I 2024-02-03 07:48:12,507] Trial 37 finished with value: 0.9084778420038536 and parameters: {'lambda_l1': 0.14675668993655064, 'lambda_l2': 1.1150884520379373e-05, 'num_leaves': 50, 'feature_fraction': 0.5243952089040166, 'bagging_fraction': 0.8752871167016979, 'bagging_freq': 7, 'min_child_samples': 49}. Best is trial 36 with value: 0.9108863198458574.\n",
      "[I 2024-02-03 07:48:14,370] Trial 38 finished with value: 0.9092003853564548 and parameters: {'lambda_l1': 0.46701873302377467, 'lambda_l2': 1.6225176786951735e-07, 'num_leaves': 23, 'feature_fraction': 0.5295715240895894, 'bagging_fraction': 0.9050318570187567, 'bagging_freq': 7, 'min_child_samples': 60}. Best is trial 36 with value: 0.9108863198458574.\n",
      "[I 2024-02-03 07:48:16,036] Trial 39 finished with value: 0.9060693641618497 and parameters: {'lambda_l1': 0.48887526511396007, 'lambda_l2': 2.165776480173683e-07, 'num_leaves': 22, 'feature_fraction': 0.5852912996066724, 'bagging_fraction': 0.8032456286690451, 'bagging_freq': 7, 'min_child_samples': 59}. Best is trial 36 with value: 0.9108863198458574.\n",
      "[I 2024-02-03 07:48:18,804] Trial 40 finished with value: 0.9092003853564548 and parameters: {'lambda_l1': 0.010926719383782585, 'lambda_l2': 3.561419317503329e-08, 'num_leaves': 55, 'feature_fraction': 0.5280536987573068, 'bagging_fraction': 0.8939672410816233, 'bagging_freq': 7, 'min_child_samples': 71}. Best is trial 36 with value: 0.9108863198458574.\n",
      "[I 2024-02-03 07:48:21,884] Trial 41 finished with value: 0.9089595375722543 and parameters: {'lambda_l1': 0.07454329776719573, 'lambda_l2': 4.462576121488826e-08, 'num_leaves': 62, 'feature_fraction': 0.5294194831129171, 'bagging_fraction': 0.9035087236610436, 'bagging_freq': 7, 'min_child_samples': 71}. Best is trial 36 with value: 0.9108863198458574.\n",
      "[I 2024-02-03 07:48:24,217] Trial 42 finished with value: 0.9065510597302505 and parameters: {'lambda_l1': 0.009490060685413299, 'lambda_l2': 2.5930025398915715e-07, 'num_leaves': 39, 'feature_fraction': 0.49793677757604093, 'bagging_fraction': 0.8414982936159748, 'bagging_freq': 7, 'min_child_samples': 83}. Best is trial 36 with value: 0.9108863198458574.\n",
      "[I 2024-02-03 07:48:25,707] Trial 43 finished with value: 0.9063102119460501 and parameters: {'lambda_l1': 2.1737174937805914, 'lambda_l2': 1.572359166657545e-08, 'num_leaves': 16, 'feature_fraction': 0.5798087730910609, 'bagging_fraction': 0.8795917241896837, 'bagging_freq': 6, 'min_child_samples': 61}. Best is trial 36 with value: 0.9108863198458574.\n",
      "[I 2024-02-03 07:48:28,487] Trial 44 finished with value: 0.9092003853564548 and parameters: {'lambda_l1': 0.07072237281920087, 'lambda_l2': 8.078713772940128e-06, 'num_leaves': 57, 'feature_fraction': 0.5286653111528977, 'bagging_fraction': 0.9610742190032169, 'bagging_freq': 7, 'min_child_samples': 72}. Best is trial 36 with value: 0.9108863198458574.\n",
      "[I 2024-02-03 07:48:31,619] Trial 45 finished with value: 0.9051059730250481 and parameters: {'lambda_l1': 0.07371435551741966, 'lambda_l2': 1.0352979753939815e-05, 'num_leaves': 89, 'feature_fraction': 0.5385691722478427, 'bagging_fraction': 0.9646519422745189, 'bagging_freq': 6, 'min_child_samples': 73}. Best is trial 36 with value: 0.9108863198458574.\n",
      "[I 2024-02-03 07:48:34,171] Trial 46 finished with value: 0.9096820809248555 and parameters: {'lambda_l1': 0.5065799201239025, 'lambda_l2': 1.1677690806322495e-06, 'num_leaves': 61, 'feature_fraction': 0.4514914441047197, 'bagging_fraction': 0.9040357665935073, 'bagging_freq': 7, 'min_child_samples': 54}. Best is trial 36 with value: 0.9108863198458574.\n",
      "[I 2024-02-03 07:48:36,698] Trial 47 finished with value: 0.9079961464354528 and parameters: {'lambda_l1': 0.9004689506457786, 'lambda_l2': 1.2723553494423744e-06, 'num_leaves': 73, 'feature_fraction': 0.44640670606887256, 'bagging_fraction': 0.8972286944888778, 'bagging_freq': 7, 'min_child_samples': 54}. Best is trial 36 with value: 0.9108863198458574.\n",
      "[I 2024-02-03 07:48:39,032] Trial 48 finished with value: 0.9070327552986512 and parameters: {'lambda_l1': 0.22606610355162315, 'lambda_l2': 4.114253026804927e-08, 'num_leaves': 36, 'feature_fraction': 0.4906239150080173, 'bagging_fraction': 0.8513865650457346, 'bagging_freq': 6, 'min_child_samples': 49}. Best is trial 36 with value: 0.9108863198458574.\n",
      "[I 2024-02-03 07:48:42,318] Trial 49 finished with value: 0.903179190751445 and parameters: {'lambda_l1': 0.0011208599449789415, 'lambda_l2': 1.1561958431060764e-07, 'num_leaves': 89, 'feature_fraction': 0.6149123137156177, 'bagging_fraction': 0.809763638082884, 'bagging_freq': 7, 'min_child_samples': 65}. Best is trial 36 with value: 0.9108863198458574.\n",
      "[I 2024-02-03 07:48:44,294] Trial 50 finished with value: 0.9082369942196532 and parameters: {'lambda_l1': 3.084930927108282, 'lambda_l2': 3.058052852886986e-06, 'num_leaves': 49, 'feature_fraction': 0.4881338016365725, 'bagging_fraction': 0.8576463608784499, 'bagging_freq': 6, 'min_child_samples': 56}. Best is trial 36 with value: 0.9108863198458574.\n",
      "[I 2024-02-03 07:48:46,997] Trial 51 finished with value: 0.9063102119460501 and parameters: {'lambda_l1': 0.31534563298461676, 'lambda_l2': 7.024955343468387e-06, 'num_leaves': 62, 'feature_fraction': 0.5122820041284332, 'bagging_fraction': 0.9488294152598477, 'bagging_freq': 7, 'min_child_samples': 77}. Best is trial 36 with value: 0.9108863198458574.\n",
      "[I 2024-02-03 07:48:49,707] Trial 52 finished with value: 0.9099229287090559 and parameters: {'lambda_l1': 0.06936835085586143, 'lambda_l2': 1.3206827317240864e-06, 'num_leaves': 56, 'feature_fraction': 0.43627303971092, 'bagging_fraction': 0.9208075169129786, 'bagging_freq': 7, 'min_child_samples': 70}. Best is trial 36 with value: 0.9108863198458574.\n",
      "[I 2024-02-03 07:48:51,954] Trial 53 finished with value: 0.9051059730250481 and parameters: {'lambda_l1': 0.010475428486149166, 'lambda_l2': 1.0636447090208319e-06, 'num_leaves': 28, 'feature_fraction': 0.4338515618550076, 'bagging_fraction': 0.9132984077219832, 'bagging_freq': 7, 'min_child_samples': 69}. Best is trial 36 with value: 0.9108863198458574.\n",
      "[I 2024-02-03 07:48:54,250] Trial 54 finished with value: 0.9089595375722543 and parameters: {'lambda_l1': 0.8612554594319627, 'lambda_l2': 2.729301061026824e-07, 'num_leaves': 44, 'feature_fraction': 0.4636807210073831, 'bagging_fraction': 0.8864987338417548, 'bagging_freq': 7, 'min_child_samples': 62}. Best is trial 36 with value: 0.9108863198458574.\n",
      "[I 2024-02-03 07:48:55,912] Trial 55 finished with value: 0.9048651252408478 and parameters: {'lambda_l1': 9.96964554922392, 'lambda_l2': 7.373331489310417e-08, 'num_leaves': 70, 'feature_fraction': 0.9744298730450178, 'bagging_fraction': 0.9235503411309375, 'bagging_freq': 6, 'min_child_samples': 50}. Best is trial 36 with value: 0.9108863198458574.\n",
      "[I 2024-02-03 07:48:57,698] Trial 56 finished with value: 0.905587668593449 and parameters: {'lambda_l1': 0.035088472765644994, 'lambda_l2': 1.1178781666072694e-08, 'num_leaves': 22, 'feature_fraction': 0.4446249451967789, 'bagging_fraction': 0.7544292316881225, 'bagging_freq': 7, 'min_child_samples': 58}. Best is trial 36 with value: 0.9108863198458574.\n",
      "[I 2024-02-03 07:48:58,550] Trial 57 finished with value: 0.8836705202312138 and parameters: {'lambda_l1': 1.2338361215789742, 'lambda_l2': 4.7262377618948433e-07, 'num_leaves': 3, 'feature_fraction': 0.42179400487183866, 'bagging_fraction': 0.8222351260863061, 'bagging_freq': 6, 'min_child_samples': 66}. Best is trial 36 with value: 0.9108863198458574.\n",
      "[I 2024-02-03 07:49:01,406] Trial 58 finished with value: 0.9058285163776493 and parameters: {'lambda_l1': 0.4757163734783909, 'lambda_l2': 2.0251644136897822e-05, 'num_leaves': 82, 'feature_fraction': 0.4771980429332527, 'bagging_fraction': 0.8622190493024773, 'bagging_freq': 7, 'min_child_samples': 46}. Best is trial 36 with value: 0.9108863198458574.\n",
      "[I 2024-02-03 07:49:02,933] Trial 59 finished with value: 0.9058285163776493 and parameters: {'lambda_l1': 4.890636152309402, 'lambda_l2': 8.988953627941013e-05, 'num_leaves': 113, 'feature_fraction': 0.5525611971504991, 'bagging_fraction': 0.78155264466989, 'bagging_freq': 6, 'min_child_samples': 87}. Best is trial 36 with value: 0.9108863198458574.\n",
      "[I 2024-02-03 07:49:05,637] Trial 60 finished with value: 0.9065510597302505 and parameters: {'lambda_l1': 0.11041721501620567, 'lambda_l2': 2.273782332208095e-06, 'num_leaves': 56, 'feature_fraction': 0.5038877724638253, 'bagging_fraction': 0.9626527386239676, 'bagging_freq': 7, 'min_child_samples': 32}. Best is trial 36 with value: 0.9108863198458574.\n",
      "[I 2024-02-03 07:49:08,497] Trial 61 finished with value: 0.9082369942196532 and parameters: {'lambda_l1': 0.07026437956929392, 'lambda_l2': 3.9532096456295935e-06, 'num_leaves': 57, 'feature_fraction': 0.5228271719955526, 'bagging_fraction': 0.9970558263872964, 'bagging_freq': 7, 'min_child_samples': 74}. Best is trial 36 with value: 0.9108863198458574.\n",
      "[I 2024-02-03 07:49:10,924] Trial 62 finished with value: 0.9075144508670521 and parameters: {'lambda_l1': 0.011967459590920004, 'lambda_l2': 2.9798946131438745e-08, 'num_leaves': 42, 'feature_fraction': 0.5663879041514878, 'bagging_fraction': 0.9547619941656482, 'bagging_freq': 7, 'min_child_samples': 69}. Best is trial 36 with value: 0.9108863198458574.\n",
      "[I 2024-02-03 07:49:13,624] Trial 63 finished with value: 0.9077552986512524 and parameters: {'lambda_l1': 0.3082684638796611, 'lambda_l2': 1.5050559573191513e-05, 'num_leaves': 65, 'feature_fraction': 0.4800654978092285, 'bagging_fraction': 0.8997797959076105, 'bagging_freq': 7, 'min_child_samples': 78}. Best is trial 36 with value: 0.9108863198458574.\n",
      "[I 2024-02-03 07:49:15,657] Trial 64 finished with value: 0.9065510597302505 and parameters: {'lambda_l1': 0.045777329956831224, 'lambda_l2': 7.813967656166398e-05, 'num_leaves': 30, 'feature_fraction': 0.5398329881979994, 'bagging_fraction': 0.9328517300170203, 'bagging_freq': 7, 'min_child_samples': 53}. Best is trial 36 with value: 0.9108863198458574.\n",
      "[I 2024-02-03 07:49:18,495] Trial 65 finished with value: 0.9065510597302505 and parameters: {'lambda_l1': 0.00444011736894573, 'lambda_l2': 7.614007778497227e-06, 'num_leaves': 54, 'feature_fraction': 0.634557904086179, 'bagging_fraction': 0.9691432748592839, 'bagging_freq': 6, 'min_child_samples': 61}. Best is trial 36 with value: 0.9108863198458574.\n",
      "[I 2024-02-03 07:49:21,478] Trial 66 finished with value: 0.9067919075144508 and parameters: {'lambda_l1': 0.019278911136288036, 'lambda_l2': 1.6339027060831856e-07, 'num_leaves': 86, 'feature_fraction': 0.4144577462032039, 'bagging_fraction': 0.8906602285193062, 'bagging_freq': 7, 'min_child_samples': 93}. Best is trial 36 with value: 0.9108863198458574.\n",
      "[I 2024-02-03 07:49:24,887] Trial 67 finished with value: 0.9039017341040463 and parameters: {'lambda_l1': 0.22118302595097522, 'lambda_l2': 5.774143995998034e-07, 'num_leaves': 102, 'feature_fraction': 0.6909350749419179, 'bagging_fraction': 0.9158031867245721, 'bagging_freq': 7, 'min_child_samples': 56}. Best is trial 36 with value: 0.9108863198458574.\n",
      "[I 2024-02-03 07:49:26,531] Trial 68 finished with value: 0.9072736030828517 and parameters: {'lambda_l1': 0.0014393559134188373, 'lambda_l2': 1.8384439452503557e-06, 'num_leaves': 16, 'feature_fraction': 0.4586262818166753, 'bagging_fraction': 0.9439206320155428, 'bagging_freq': 6, 'min_child_samples': 80}. Best is trial 36 with value: 0.9108863198458574.\n",
      "[I 2024-02-03 07:49:28,954] Trial 69 finished with value: 0.9063102119460501 and parameters: {'lambda_l1': 1.2155013739559208, 'lambda_l2': 4.593927404445538e-06, 'num_leaves': 74, 'feature_fraction': 0.5102339285065776, 'bagging_fraction': 0.8680414590000763, 'bagging_freq': 7, 'min_child_samples': 72}. Best is trial 36 with value: 0.9108863198458574.\n",
      "[I 2024-02-03 07:49:30,660] Trial 70 finished with value: 0.9053468208092486 and parameters: {'lambda_l1': 3.9038547542331115, 'lambda_l2': 8.792989810376679e-07, 'num_leaves': 38, 'feature_fraction': 0.5783057614299957, 'bagging_fraction': 0.8367799516919895, 'bagging_freq': 6, 'min_child_samples': 63}. Best is trial 36 with value: 0.9108863198458574.\n",
      "[I 2024-02-03 07:49:31,824] Trial 71 finished with value: 0.9082369942196532 and parameters: {'lambda_l1': 4.015276397466624e-08, 'lambda_l2': 4.020561632284519e-07, 'num_leaves': 10, 'feature_fraction': 0.5982504230147662, 'bagging_fraction': 0.6706967165563192, 'bagging_freq': 5, 'min_child_samples': 85}. Best is trial 36 with value: 0.9108863198458574.\n",
      "[I 2024-02-03 07:49:34,149] Trial 72 finished with value: 0.9041425818882466 and parameters: {'lambda_l1': 5.497778170142736e-05, 'lambda_l2': 5.864657457810481e-08, 'num_leaves': 45, 'feature_fraction': 0.5467365723997664, 'bagging_fraction': 0.6143706230271813, 'bagging_freq': 7, 'min_child_samples': 89}. Best is trial 36 with value: 0.9108863198458574.\n",
      "[I 2024-02-03 07:49:35,941] Trial 73 finished with value: 0.9065510597302505 and parameters: {'lambda_l1': 0.655346991769497, 'lambda_l2': 1.1734942771712352e-07, 'num_leaves': 20, 'feature_fraction': 0.4463217054313906, 'bagging_fraction': 0.9280153998652483, 'bagging_freq': 4, 'min_child_samples': 93}. Best is trial 36 with value: 0.9108863198458574.\n",
      "[I 2024-02-03 07:49:38,045] Trial 74 finished with value: 0.9053468208092486 and parameters: {'lambda_l1': 0.0946252042434908, 'lambda_l2': 4.304299904427314e-05, 'num_leaves': 29, 'feature_fraction': 0.4022271353280033, 'bagging_fraction': 0.8985993607315079, 'bagging_freq': 7, 'min_child_samples': 100}. Best is trial 36 with value: 0.9108863198458574.\n",
      "[I 2024-02-03 07:49:40,407] Trial 75 finished with value: 0.9048651252408478 and parameters: {'lambda_l1': 2.5483559231060086e-07, 'lambda_l2': 7.995819741334635e-07, 'num_leaves': 52, 'feature_fraction': 0.5216041988087332, 'bagging_fraction': 0.9808601237747667, 'bagging_freq': 1, 'min_child_samples': 81}. Best is trial 36 with value: 0.9108863198458574.\n",
      "[I 2024-02-03 07:49:42,855] Trial 76 finished with value: 0.9022157996146436 and parameters: {'lambda_l1': 0.3554903250739692, 'lambda_l2': 2.5732817727116902e-08, 'num_leaves': 66, 'feature_fraction': 0.9417955708203757, 'bagging_fraction': 0.6464196392183906, 'bagging_freq': 7, 'min_child_samples': 66}. Best is trial 36 with value: 0.9108863198458574.\n",
      "[I 2024-02-03 07:49:44,172] Trial 77 finished with value: 0.9053468208092486 and parameters: {'lambda_l1': 0.0005939495437984615, 'lambda_l2': 3.012621024233414e-07, 'num_leaves': 11, 'feature_fraction': 0.49074467252624965, 'bagging_fraction': 0.7315434825221517, 'bagging_freq': 7, 'min_child_samples': 75}. Best is trial 36 with value: 0.9108863198458574.\n",
      "[I 2024-02-03 07:49:46,967] Trial 78 finished with value: 0.9075144508670521 and parameters: {'lambda_l1': 0.006422080773691427, 'lambda_l2': 4.99793420446539e-06, 'num_leaves': 60, 'feature_fraction': 0.5676003330274765, 'bagging_fraction': 0.87502355253736, 'bagging_freq': 7, 'min_child_samples': 69}. Best is trial 36 with value: 0.9108863198458574.\n",
      "[I 2024-02-03 07:49:48,947] Trial 79 finished with value: 0.9072736030828517 and parameters: {'lambda_l1': 0.024939434622693445, 'lambda_l2': 1.667837581412862e-06, 'num_leaves': 32, 'feature_fraction': 0.46914920074087774, 'bagging_fraction': 0.595447577059376, 'bagging_freq': 7, 'min_child_samples': 42}. Best is trial 36 with value: 0.9108863198458574.\n",
      "[I 2024-02-03 07:49:52,108] Trial 80 finished with value: 0.904383429672447 and parameters: {'lambda_l1': 1.2338818981029432e-06, 'lambda_l2': 9.457033203310856e-08, 'num_leaves': 78, 'feature_fraction': 0.6107682665022274, 'bagging_fraction': 0.573018545267425, 'bagging_freq': 4, 'min_child_samples': 59}. Best is trial 36 with value: 0.9108863198458574.\n",
      "[I 2024-02-03 07:49:54,633] Trial 81 finished with value: 0.9065510597302505 and parameters: {'lambda_l1': 0.12055839118683269, 'lambda_l2': 4.5144610185934214e-08, 'num_leaves': 47, 'feature_fraction': 0.5333651286604153, 'bagging_fraction': 0.9105218217167205, 'bagging_freq': 7, 'min_child_samples': 72}. Best is trial 36 with value: 0.9108863198458574.\n",
      "[I 2024-02-03 07:49:57,825] Trial 82 finished with value: 0.9058285163776493 and parameters: {'lambda_l1': 0.045783461461756936, 'lambda_l2': 2.3063828207504287e-08, 'num_leaves': 64, 'feature_fraction': 0.5254613553816236, 'bagging_fraction': 0.9015187449254202, 'bagging_freq': 7, 'min_child_samples': 71}. Best is trial 36 with value: 0.9108863198458574.\n",
      "[I 2024-02-03 07:49:59,949] Trial 83 finished with value: 0.9053468208092486 and parameters: {'lambda_l1': 2.269373206863592, 'lambda_l2': 2.0321072081231587e-07, 'num_leaves': 40, 'feature_fraction': 0.5042246185323849, 'bagging_fraction': 0.9348435951332791, 'bagging_freq': 7, 'min_child_samples': 76}. Best is trial 36 with value: 0.9108863198458574.\n",
      "[I 2024-02-03 07:50:03,177] Trial 84 finished with value: 0.9067919075144508 and parameters: {'lambda_l1': 0.05745548713086969, 'lambda_l2': 6.708278503670949e-07, 'num_leaves': 97, 'feature_fraction': 0.5867870842068419, 'bagging_fraction': 0.8493994939067971, 'bagging_freq': 7, 'min_child_samples': 51}. Best is trial 36 with value: 0.9108863198458574.\n",
      "[I 2024-02-03 07:50:04,958] Trial 85 finished with value: 0.9048651252408478 and parameters: {'lambda_l1': 5.637086035438171e-06, 'lambda_l2': 3.916468816160537e-07, 'num_leaves': 25, 'feature_fraction': 0.4521359667873604, 'bagging_fraction': 0.6797207804731668, 'bagging_freq': 6, 'min_child_samples': 64}. Best is trial 36 with value: 0.9108863198458574.\n",
      "[I 2024-02-03 07:50:07,804] Trial 86 finished with value: 0.9065510597302505 and parameters: {'lambda_l1': 0.16275098033309524, 'lambda_l2': 1.7183658083585274e-07, 'num_leaves': 70, 'feature_fraction': 0.43029300001022064, 'bagging_fraction': 0.8802632798483663, 'bagging_freq': 7, 'min_child_samples': 70}. Best is trial 36 with value: 0.9108863198458574.\n",
      "[I 2024-02-03 07:50:08,651] Trial 87 finished with value: 0.8415221579961464 and parameters: {'lambda_l1': 1.6180768610125225, 'lambda_l2': 2.3553908360911904e-06, 'num_leaves': 2, 'feature_fraction': 0.4746180390932777, 'bagging_fraction': 0.9473270555606834, 'bagging_freq': 3, 'min_child_samples': 83}. Best is trial 36 with value: 0.9108863198458574.\n",
      "[I 2024-02-03 07:50:10,603] Trial 88 finished with value: 0.9087186897880539 and parameters: {'lambda_l1': 0.6778584438187958, 'lambda_l2': 1.1742449552153613e-05, 'num_leaves': 35, 'feature_fraction': 0.4907360520304883, 'bagging_fraction': 0.6368361923569958, 'bagging_freq': 6, 'min_child_samples': 67}. Best is trial 36 with value: 0.9108863198458574.\n",
      "[I 2024-02-03 07:50:13,200] Trial 89 finished with value: 0.9079961464354528 and parameters: {'lambda_l1': 0.26736542633779403, 'lambda_l2': 6.11084714577265e-08, 'num_leaves': 56, 'feature_fraction': 0.6314477304421219, 'bagging_fraction': 0.9113816406402404, 'bagging_freq': 2, 'min_child_samples': 48}. Best is trial 36 with value: 0.9108863198458574.\n",
      "[I 2024-02-03 07:50:14,825] Trial 90 finished with value: 0.9092003853564548 and parameters: {'lambda_l1': 0.015888448165406147, 'lambda_l2': 1.7085792619713526e-08, 'num_leaves': 17, 'feature_fraction': 0.5560704756512171, 'bagging_fraction': 0.9980445280697751, 'bagging_freq': 7, 'min_child_samples': 16}. Best is trial 36 with value: 0.9108863198458574.\n",
      "[I 2024-02-03 07:50:16,443] Trial 91 finished with value: 0.9067919075144508 and parameters: {'lambda_l1': 0.01507164548754542, 'lambda_l2': 2.8297828256935802e-08, 'num_leaves': 17, 'feature_fraction': 0.5549112361114189, 'bagging_fraction': 0.9629055434246493, 'bagging_freq': 7, 'min_child_samples': 14}. Best is trial 36 with value: 0.9108863198458574.\n",
      "[I 2024-02-03 07:50:19,020] Trial 92 finished with value: 0.9075144508670521 and parameters: {'lambda_l1': 0.02899027030306751, 'lambda_l2': 1.822132013350521e-08, 'num_leaves': 48, 'feature_fraction': 0.5356933201950156, 'bagging_fraction': 0.9877386402783107, 'bagging_freq': 7, 'min_child_samples': 21}. Best is trial 36 with value: 0.9108863198458574.\n",
      "[I 2024-02-03 07:50:20,802] Trial 93 finished with value: 0.9067919075144508 and parameters: {'lambda_l1': 7.132459733708193, 'lambda_l2': 4.327452488285428e-08, 'num_leaves': 61, 'feature_fraction': 0.5671516658668299, 'bagging_fraction': 0.9748156160195166, 'bagging_freq': 7, 'min_child_samples': 8}. Best is trial 36 with value: 0.9108863198458574.\n",
      "[I 2024-02-03 07:50:22,795] Trial 94 finished with value: 0.9096820809248555 and parameters: {'lambda_l1': 0.007762487981204893, 'lambda_l2': 1.141525703839257e-08, 'num_leaves': 26, 'feature_fraction': 0.5969132290849808, 'bagging_fraction': 0.996705595935735, 'bagging_freq': 7, 'min_child_samples': 54}. Best is trial 36 with value: 0.9108863198458574.\n",
      "[I 2024-02-03 07:50:24,314] Trial 95 finished with value: 0.9072736030828517 and parameters: {'lambda_l1': 0.005487584175060385, 'lambda_l2': 1.1955035894461295e-06, 'num_leaves': 12, 'feature_fraction': 0.514309966249199, 'bagging_fraction': 0.9928490876978874, 'bagging_freq': 7, 'min_child_samples': 55}. Best is trial 36 with value: 0.9108863198458574.\n",
      "[I 2024-02-03 07:50:26,173] Trial 96 finished with value: 0.9087186897880539 and parameters: {'lambda_l1': 0.00015632447452431587, 'lambda_l2': 1.2944539071584417e-08, 'num_leaves': 23, 'feature_fraction': 0.5920314471736863, 'bagging_fraction': 0.9986964455286658, 'bagging_freq': 6, 'min_child_samples': 14}. Best is trial 36 with value: 0.9108863198458574.\n",
      "[I 2024-02-03 07:50:27,463] Trial 97 finished with value: 0.9063102119460501 and parameters: {'lambda_l1': 0.002804081657590092, 'lambda_l2': 3.4218467532960813e-06, 'num_leaves': 6, 'feature_fraction': 0.6616030261345156, 'bagging_fraction': 0.9267197165567642, 'bagging_freq': 7, 'min_child_samples': 17}. Best is trial 36 with value: 0.9108863198458574.\n",
      "[I 2024-02-03 07:50:29,704] Trial 98 finished with value: 0.9099229287090559 and parameters: {'lambda_l1': 0.001836213942988637, 'lambda_l2': 1.1135936986672654e-08, 'num_leaves': 35, 'feature_fraction': 0.6178000697231254, 'bagging_fraction': 0.9542868485668227, 'bagging_freq': 7, 'min_child_samples': 28}. Best is trial 36 with value: 0.9108863198458574.\n",
      "[I 2024-02-03 07:50:32,139] Trial 99 finished with value: 0.9048651252408478 and parameters: {'lambda_l1': 0.0014019260637789979, 'lambda_l2': 1.6260198528432587e-08, 'num_leaves': 42, 'feature_fraction': 0.6397399828278036, 'bagging_fraction': 0.9556009126933531, 'bagging_freq': 7, 'min_child_samples': 22}. Best is trial 36 with value: 0.9108863198458574.\n",
      "[I 2024-02-03 07:50:34,337] Trial 100 finished with value: 0.9104046242774566 and parameters: {'lambda_l1': 0.008072983437709057, 'lambda_l2': 0.0009662408062373543, 'num_leaves': 34, 'feature_fraction': 0.5737257956079808, 'bagging_fraction': 0.9772540458249267, 'bagging_freq': 7, 'min_child_samples': 34}. Best is trial 36 with value: 0.9108863198458574.\n",
      "[I 2024-02-03 07:50:36,387] Trial 101 finished with value: 0.9077552986512524 and parameters: {'lambda_l1': 0.007606908733545961, 'lambda_l2': 0.0006392072841625825, 'num_leaves': 28, 'feature_fraction': 0.6133811564540071, 'bagging_fraction': 0.9683933056205912, 'bagging_freq': 7, 'min_child_samples': 30}. Best is trial 36 with value: 0.9108863198458574.\n",
      "[I 2024-02-03 07:50:38,647] Trial 102 finished with value: 0.9082369942196532 and parameters: {'lambda_l1': 0.0007255327502795048, 'lambda_l2': 0.0002195485011785226, 'num_leaves': 35, 'feature_fraction': 0.5744183119303483, 'bagging_fraction': 0.942158370986841, 'bagging_freq': 7, 'min_child_samples': 35}. Best is trial 36 with value: 0.9108863198458574.\n",
      "[I 2024-02-03 07:50:41,334] Trial 103 finished with value: 0.9058285163776493 and parameters: {'lambda_l1': 0.002112941573053002, 'lambda_l2': 0.003434578745956021, 'num_leaves': 51, 'feature_fraction': 0.5516519359438425, 'bagging_fraction': 0.9804960814984672, 'bagging_freq': 7, 'min_child_samples': 28}. Best is trial 36 with value: 0.9108863198458574.\n",
      "[I 2024-02-03 07:50:43,038] Trial 104 finished with value: 0.9087186897880539 and parameters: {'lambda_l1': 0.014604982097862504, 'lambda_l2': 1.0496922458786004e-08, 'num_leaves': 19, 'feature_fraction': 0.602512245262972, 'bagging_fraction': 0.9590052747776233, 'bagging_freq': 7, 'min_child_samples': 39}. Best is trial 36 with value: 0.9108863198458574.\n",
      "[I 2024-02-03 07:50:45,270] Trial 105 finished with value: 0.9041425818882466 and parameters: {'lambda_l1': 0.004260754008836538, 'lambda_l2': 0.0016354587061156295, 'num_leaves': 38, 'feature_fraction': 0.5431641006185977, 'bagging_fraction': 0.8902681892251415, 'bagging_freq': 7, 'min_child_samples': 29}. Best is trial 36 with value: 0.9108863198458574.\n",
      "[I 2024-02-03 07:50:47,731] Trial 106 finished with value: 0.9053468208092486 and parameters: {'lambda_l1': 0.022912200735318484, 'lambda_l2': 0.0010697947355457387, 'num_leaves': 44, 'feature_fraction': 0.6196357371615654, 'bagging_fraction': 0.9418679673788949, 'bagging_freq': 7, 'min_child_samples': 33}. Best is trial 36 with value: 0.9108863198458574.\n",
      "[I 2024-02-03 07:50:49,732] Trial 107 finished with value: 0.9060693641618497 and parameters: {'lambda_l1': 0.009127875286888885, 'lambda_l2': 3.062503138256802e-08, 'num_leaves': 26, 'feature_fraction': 0.6793387002921393, 'bagging_fraction': 0.9759348601708341, 'bagging_freq': 6, 'min_child_samples': 17}. Best is trial 36 with value: 0.9108863198458574.\n",
      "[I 2024-02-03 07:50:51,939] Trial 108 finished with value: 0.9058285163776493 and parameters: {'lambda_l1': 0.002434519099038934, 'lambda_l2': 8.435511515366354e-08, 'num_leaves': 34, 'feature_fraction': 0.4224354093225993, 'bagging_fraction': 0.9270131274531055, 'bagging_freq': 7, 'min_child_samples': 27}. Best is trial 36 with value: 0.9108863198458574.\n",
      "[I 2024-02-03 07:50:54,552] Trial 109 finished with value: 0.9082369942196532 and parameters: {'lambda_l1': 0.4350080051881936, 'lambda_l2': 2.2096292745573744e-05, 'num_leaves': 55, 'feature_fraction': 0.49747958162351624, 'bagging_fraction': 0.9165954971133522, 'bagging_freq': 7, 'min_child_samples': 47}. Best is trial 36 with value: 0.9108863198458574.\n",
      "[I 2024-02-03 07:50:56,198] Trial 110 finished with value: 0.9070327552986512 and parameters: {'lambda_l1': 2.9673933309532265, 'lambda_l2': 7.941038493246057e-06, 'num_leaves': 15, 'feature_fraction': 0.5145941546901633, 'bagging_fraction': 0.9524286226786446, 'bagging_freq': 7, 'min_child_samples': 43}. Best is trial 36 with value: 0.9108863198458574.\n",
      "[I 2024-02-03 07:50:57,489] Trial 111 finished with value: 0.9060693641618497 and parameters: {'lambda_l1': 0.04203720243161625, 'lambda_l2': 1.9192205783852938e-08, 'num_leaves': 7, 'feature_fraction': 0.5950462135310556, 'bagging_fraction': 0.9906672484803996, 'bagging_freq': 7, 'min_child_samples': 52}. Best is trial 36 with value: 0.9108863198458574.\n",
      "[I 2024-02-03 07:50:59,728] Trial 112 finished with value: 0.9063102119460501 and parameters: {'lambda_l1': 0.011843605883672581, 'lambda_l2': 1.0115057015920763e-08, 'num_leaves': 31, 'feature_fraction': 0.5786447109974489, 'bagging_fraction': 0.8599356155566491, 'bagging_freq': 7, 'min_child_samples': 60}. Best is trial 36 with value: 0.9108863198458574.\n",
      "[I 2024-02-03 07:51:01,567] Trial 113 finished with value: 0.9089595375722543 and parameters: {'lambda_l1': 0.006011670134051403, 'lambda_l2': 1.1939548397112833e-07, 'num_leaves': 22, 'feature_fraction': 0.5593471494394862, 'bagging_fraction': 0.9997006793914811, 'bagging_freq': 7, 'min_child_samples': 24}. Best is trial 36 with value: 0.9108863198458574.\n",
      "[I 2024-02-03 07:51:03,920] Trial 114 finished with value: 0.9058285163776493 and parameters: {'lambda_l1': 1.1173509469975973, 'lambda_l2': 1.5152447380912547e-06, 'num_leaves': 50, 'feature_fraction': 0.5469588852150005, 'bagging_fraction': 0.9703361592727717, 'bagging_freq': 7, 'min_child_samples': 57}. Best is trial 36 with value: 0.9108863198458574.\n",
      "[I 2024-02-03 07:51:07,153] Trial 115 finished with value: 0.9058285163776493 and parameters: {'lambda_l1': 0.08187618034009896, 'lambda_l2': 0.010585418550460027, 'num_leaves': 128, 'feature_fraction': 0.622025499325159, 'bagging_fraction': 0.8859661489040466, 'bagging_freq': 1, 'min_child_samples': 35}. Best is trial 36 with value: 0.9108863198458574.\n",
      "[I 2024-02-03 07:51:10,393] Trial 116 finished with value: 0.9075144508670521 and parameters: {'lambda_l1': 0.0007694243341460592, 'lambda_l2': 3.90497786289002e-08, 'num_leaves': 70, 'feature_fraction': 0.6415359652650009, 'bagging_fraction': 0.9049023859346853, 'bagging_freq': 4, 'min_child_samples': 53}. Best is trial 36 with value: 0.9108863198458574.\n",
      "[I 2024-02-03 07:51:12,756] Trial 117 finished with value: 0.9072736030828517 and parameters: {'lambda_l1': 0.019708017992814176, 'lambda_l2': 2.88363031130095e-07, 'num_leaves': 41, 'feature_fraction': 0.5722896753367473, 'bagging_fraction': 0.936545588660591, 'bagging_freq': 2, 'min_child_samples': 11}. Best is trial 36 with value: 0.9108863198458574.\n",
      "[I 2024-02-03 07:51:14,098] Trial 118 finished with value: 0.9072736030828517 and parameters: {'lambda_l1': 0.00041316504474013744, 'lambda_l2': 5.578724904575331e-07, 'num_leaves': 14, 'feature_fraction': 0.43894872456388523, 'bagging_fraction': 0.5357961439532467, 'bagging_freq': 7, 'min_child_samples': 78}. Best is trial 36 with value: 0.9108863198458574.\n",
      "[I 2024-02-03 07:51:16,001] Trial 119 finished with value: 0.9070327552986512 and parameters: {'lambda_l1': 0.18786787172760147, 'lambda_l2': 1.0674528335316579e-06, 'num_leaves': 27, 'feature_fraction': 0.5316563964476784, 'bagging_fraction': 0.8291054419645258, 'bagging_freq': 3, 'min_child_samples': 19}. Best is trial 36 with value: 0.9108863198458574.\n",
      "[I 2024-02-03 07:51:18,874] Trial 120 finished with value: 0.9070327552986512 and parameters: {'lambda_l1': 1.2143389026576059e-08, 'lambda_l2': 1.2263413035742572, 'num_leaves': 81, 'feature_fraction': 0.6514749020911548, 'bagging_fraction': 0.9194445720566493, 'bagging_freq': 7, 'min_child_samples': 91}. Best is trial 36 with value: 0.9108863198458574.\n",
      "[I 2024-02-03 07:51:21,636] Trial 121 finished with value: 0.9082369942196532 and parameters: {'lambda_l1': 0.10665929967971745, 'lambda_l2': 6.255566048263436e-08, 'num_leaves': 59, 'feature_fraction': 0.5274897038519681, 'bagging_fraction': 0.8675441973967704, 'bagging_freq': 7, 'min_child_samples': 63}. Best is trial 36 with value: 0.9108863198458574.\n",
      "[I 2024-02-03 07:51:24,275] Trial 122 finished with value: 0.9053468208092486 and parameters: {'lambda_l1': 1.0883572635061735e-07, 'lambda_l2': 1.5919689632649156e-07, 'num_leaves': 45, 'feature_fraction': 0.47913662761497905, 'bagging_fraction': 0.8943992635715636, 'bagging_freq': 7, 'min_child_samples': 74}. Best is trial 36 with value: 0.9108863198458574.\n",
      "[I 2024-02-03 07:51:27,284] Trial 123 finished with value: 0.9070327552986512 and parameters: {'lambda_l1': 0.06613159374686793, 'lambda_l2': 1.6976738861733842e-08, 'num_leaves': 65, 'feature_fraction': 0.5587596895156988, 'bagging_fraction': 0.9593112208261533, 'bagging_freq': 7, 'min_child_samples': 40}. Best is trial 36 with value: 0.9108863198458574.\n",
      "[I 2024-02-03 07:51:30,301] Trial 124 finished with value: 0.9048651252408478 and parameters: {'lambda_l1': 0.04164384822618038, 'lambda_l2': 2.753264589533116e-06, 'num_leaves': 51, 'feature_fraction': 0.49895824738348105, 'bagging_fraction': 0.9029741098772696, 'bagging_freq': 7, 'min_child_samples': 58}. Best is trial 36 with value: 0.9108863198458574.\n",
      "[I 2024-02-03 07:51:32,521] Trial 125 finished with value: 0.9075144508670521 and parameters: {'lambda_l1': 0.5645487387000359, 'lambda_l2': 4.2030189019244175e-08, 'num_leaves': 37, 'feature_fraction': 0.5870053415817923, 'bagging_fraction': 0.950241411829256, 'bagging_freq': 7, 'min_child_samples': 68}. Best is trial 36 with value: 0.9108863198458574.\n",
      "[I 2024-02-03 07:51:34,603] Trial 126 finished with value: 0.9060693641618497 and parameters: {'lambda_l1': 0.004037530213900465, 'lambda_l2': 2.9664924479124673e-08, 'num_leaves': 32, 'feature_fraction': 0.4537488487181787, 'bagging_fraction': 0.8755387465064105, 'bagging_freq': 6, 'min_child_samples': 96}. Best is trial 36 with value: 0.9108863198458574.\n",
      "[I 2024-02-03 07:51:37,497] Trial 127 finished with value: 0.9072736030828517 and parameters: {'lambda_l1': 0.02814471878368292, 'lambda_l2': 3.392817372985561e-07, 'num_leaves': 58, 'feature_fraction': 0.46526526257057077, 'bagging_fraction': 0.9815655633061505, 'bagging_freq': 7, 'min_child_samples': 80}. Best is trial 36 with value: 0.9108863198458574.\n",
      "[I 2024-02-03 07:51:39,243] Trial 128 finished with value: 0.9084778420038536 and parameters: {'lambda_l1': 1.5184559893872933, 'lambda_l2': 2.1278915680113151e-07, 'num_leaves': 21, 'feature_fraction': 0.5436690356760867, 'bagging_fraction': 0.9332932821165432, 'bagging_freq': 7, 'min_child_samples': 45}. Best is trial 36 with value: 0.9108863198458574.\n",
      "[I 2024-02-03 07:51:41,936] Trial 129 finished with value: 0.9058285163776493 and parameters: {'lambda_l1': 0.2839432357492932, 'lambda_l2': 6.109378013287859e-06, 'num_leaves': 70, 'feature_fraction': 0.5167868691768613, 'bagging_fraction': 0.6987019909649613, 'bagging_freq': 7, 'min_child_samples': 23}. Best is trial 36 with value: 0.9108863198458574.\n",
      "[I 2024-02-03 07:51:45,135] Trial 130 finished with value: 0.9046242774566474 and parameters: {'lambda_l1': 0.0019264793394736179, 'lambda_l2': 7.4351751440918e-08, 'num_leaves': 76, 'feature_fraction': 0.6053145098629438, 'bagging_fraction': 0.8466933437517583, 'bagging_freq': 5, 'min_child_samples': 55}. Best is trial 36 with value: 0.9108863198458574.\n",
      "[I 2024-02-03 07:51:47,480] Trial 131 finished with value: 0.9070327552986512 and parameters: {'lambda_l1': 0.6532610767872526, 'lambda_l2': 9.008303962142912e-07, 'num_leaves': 47, 'feature_fraction': 0.46393583948263784, 'bagging_fraction': 0.8858650353275984, 'bagging_freq': 7, 'min_child_samples': 62}. Best is trial 36 with value: 0.9108863198458574.\n",
      "[I 2024-02-03 07:51:49,739] Trial 132 finished with value: 0.9077552986512524 and parameters: {'lambda_l1': 1.0917943333608362, 'lambda_l2': 6.552954513247839e-07, 'num_leaves': 42, 'feature_fraction': 0.5056418902074071, 'bagging_fraction': 0.9179296799559551, 'bagging_freq': 7, 'min_child_samples': 71}. Best is trial 36 with value: 0.9108863198458574.\n",
      "[I 2024-02-03 07:51:52,338] Trial 133 finished with value: 0.9092003853564548 and parameters: {'lambda_l1': 0.1434738142889286, 'lambda_l2': 1.1167076282353566e-07, 'num_leaves': 52, 'feature_fraction': 0.4885605717231208, 'bagging_fraction': 0.9057889994591222, 'bagging_freq': 7, 'min_child_samples': 65}. Best is trial 36 with value: 0.9108863198458574.\n",
      "[I 2024-02-03 07:51:54,986] Trial 134 finished with value: 0.9051059730250481 and parameters: {'lambda_l1': 0.14191078882805352, 'lambda_l2': 2.2568010453301246e-08, 'num_leaves': 53, 'feature_fraction': 0.4875306776537166, 'bagging_fraction': 0.9097642398531728, 'bagging_freq': 7, 'min_child_samples': 66}. Best is trial 36 with value: 0.9108863198458574.\n",
      "[I 2024-02-03 07:51:57,865] Trial 135 finished with value: 0.9077552986512524 and parameters: {'lambda_l1': 0.07889973963997544, 'lambda_l2': 5.195094968946925e-08, 'num_leaves': 65, 'feature_fraction': 0.5334639596916897, 'bagging_fraction': 0.9266846015480555, 'bagging_freq': 7, 'min_child_samples': 64}. Best is trial 36 with value: 0.9108863198458574.\n",
      "[I 2024-02-03 07:52:01,574] Trial 136 finished with value: 0.9094412331406551 and parameters: {'lambda_l1': 0.2033548997577373, 'lambda_l2': 9.517866442699637e-08, 'num_leaves': 146, 'feature_fraction': 0.5214630816655154, 'bagging_fraction': 0.9703421595575282, 'bagging_freq': 7, 'min_child_samples': 60}. Best is trial 36 with value: 0.9108863198458574.\n",
      "[I 2024-02-03 07:52:04,741] Trial 137 finished with value: 0.9084778420038536 and parameters: {'lambda_l1': 0.4198359372255771, 'lambda_l2': 8.641143790959296e-08, 'num_leaves': 144, 'feature_fraction': 0.48258070916333196, 'bagging_fraction': 0.9709980203050429, 'bagging_freq': 7, 'min_child_samples': 60}. Best is trial 36 with value: 0.9108863198458574.\n",
      "[I 2024-02-03 07:52:08,642] Trial 138 finished with value: 0.905587668593449 and parameters: {'lambda_l1': 0.17338402630789143, 'lambda_l2': 1.2892543845224434e-07, 'num_leaves': 162, 'feature_fraction': 0.4103741637601411, 'bagging_fraction': 0.9894613452085389, 'bagging_freq': 7, 'min_child_samples': 31}. Best is trial 36 with value: 0.9108863198458574.\n",
      "[I 2024-02-03 07:52:10,577] Trial 139 finished with value: 0.9065510597302505 and parameters: {'lambda_l1': 0.008619254993711632, 'lambda_l2': 0.0005807799737414787, 'num_leaves': 24, 'feature_fraction': 0.8290462557356411, 'bagging_fraction': 0.9446885034838385, 'bagging_freq': 7, 'min_child_samples': 58}. Best is trial 36 with value: 0.9108863198458574.\n",
      "[I 2024-02-03 07:52:12,758] Trial 140 finished with value: 0.9087186897880539 and parameters: {'lambda_l1': 2.585777860737219, 'lambda_l2': 0.00032222695893027243, 'num_leaves': 255, 'feature_fraction': 0.5630735791297296, 'bagging_fraction': 0.9639547056795259, 'bagging_freq': 6, 'min_child_samples': 51}. Best is trial 36 with value: 0.9108863198458574.\n",
      "[I 2024-02-03 07:52:16,309] Trial 141 finished with value: 0.905587668593449 and parameters: {'lambda_l1': 0.05285361016692768, 'lambda_l2': 1.4967505327259868e-08, 'num_leaves': 151, 'feature_fraction': 0.5247640879085071, 'bagging_fraction': 0.8960418179736236, 'bagging_freq': 7, 'min_child_samples': 65}. Best is trial 36 with value: 0.9108863198458574.\n",
      "[I 2024-02-03 07:52:20,060] Trial 142 finished with value: 0.9077552986512524 and parameters: {'lambda_l1': 0.016049244687536306, 'lambda_l2': 4.7548089603444363e-07, 'num_leaves': 147, 'feature_fraction': 0.5063142308747602, 'bagging_fraction': 0.9371604473263211, 'bagging_freq': 7, 'min_child_samples': 68}. Best is trial 36 with value: 0.9108863198458574.\n",
      "[I 2024-02-03 07:52:22,087] Trial 143 finished with value: 0.9036608863198459 and parameters: {'lambda_l1': 0.27150992596046575, 'lambda_l2': 3.3708924963496685e-08, 'num_leaves': 121, 'feature_fraction': 0.4967778358825681, 'bagging_fraction': 0.47441049445817224, 'bagging_freq': 7, 'min_child_samples': 76}. Best is trial 36 with value: 0.9108863198458574.\n",
      "[I 2024-02-03 07:52:25,726] Trial 144 finished with value: 0.9070327552986512 and parameters: {'lambda_l1': 0.21267824397882104, 'lambda_l2': 5.497832987869345e-05, 'num_leaves': 137, 'feature_fraction': 0.5504830314503005, 'bagging_fraction': 0.9794475420737826, 'bagging_freq': 7, 'min_child_samples': 26}. Best is trial 36 with value: 0.9108863198458574.\n",
      "[I 2024-02-03 07:52:28,686] Trial 145 finished with value: 0.9070327552986512 and parameters: {'lambda_l1': 0.030683766534717268, 'lambda_l2': 1.8038426894953537e-06, 'num_leaves': 61, 'feature_fraction': 0.5180950422289052, 'bagging_fraction': 0.952905428654624, 'bagging_freq': 7, 'min_child_samples': 73}. Best is trial 36 with value: 0.9108863198458574.\n",
      "[I 2024-02-03 07:52:31,320] Trial 146 finished with value: 0.9063102119460501 and parameters: {'lambda_l1': 0.1314878494999193, 'lambda_l2': 2.3206584577527743e-08, 'num_leaves': 55, 'feature_fraction': 0.5344900113694627, 'bagging_fraction': 0.9070088865354853, 'bagging_freq': 7, 'min_child_samples': 62}. Best is trial 36 with value: 0.9108863198458574.\n",
      "[I 2024-02-03 07:52:33,885] Trial 147 finished with value: 0.9060693641618497 and parameters: {'lambda_l1': 0.7240856094659134, 'lambda_l2': 2.2316227786054166e-07, 'num_leaves': 37, 'feature_fraction': 0.44585073845556455, 'bagging_fraction': 0.9979400121136004, 'bagging_freq': 7, 'min_child_samples': 54}. Best is trial 36 with value: 0.9108863198458574.\n",
      "[I 2024-02-03 07:52:35,052] Trial 148 finished with value: 0.9019749518304432 and parameters: {'lambda_l1': 0.09408023727928352, 'lambda_l2': 9.998625628296709e-08, 'num_leaves': 7, 'feature_fraction': 0.7319744565153834, 'bagging_fraction': 0.8704578379320629, 'bagging_freq': 7, 'min_child_samples': 71}. Best is trial 36 with value: 0.9108863198458574.\n",
      "[I 2024-02-03 07:52:37,235] Trial 149 finished with value: 0.905587668593449 and parameters: {'lambda_l1': 0.38223898358576563, 'lambda_l2': 0.0001661133898847431, 'num_leaves': 30, 'feature_fraction': 0.47199483292492583, 'bagging_fraction': 0.9250508227500838, 'bagging_freq': 7, 'min_child_samples': 68}. Best is trial 36 with value: 0.9108863198458574.\n",
      "[I 2024-02-03 07:52:39,122] Trial 150 finished with value: 0.9087186897880539 and parameters: {'lambda_l1': 4.180088296488568, 'lambda_l2': 4.264994187556024e-06, 'num_leaves': 48, 'feature_fraction': 0.5764140625191148, 'bagging_fraction': 0.9685824022974426, 'bagging_freq': 7, 'min_child_samples': 60}. Best is trial 36 with value: 0.9108863198458574.\n",
      "[I 2024-02-03 07:52:41,431] Trial 151 finished with value: 0.9075144508670521 and parameters: {'lambda_l1': 0.8814330257169318, 'lambda_l2': 3.345157322232131e-07, 'num_leaves': 42, 'feature_fraction': 0.459771547494419, 'bagging_fraction': 0.8779841819051494, 'bagging_freq': 7, 'min_child_samples': 62}. Best is trial 36 with value: 0.9108863198458574.\n",
      "[I 2024-02-03 07:52:43,116] Trial 152 finished with value: 0.9065510597302505 and parameters: {'lambda_l1': 1.728818516689882, 'lambda_l2': 6.035593819394339e-08, 'num_leaves': 18, 'feature_fraction': 0.9989216071708311, 'bagging_fraction': 0.8883535990508965, 'bagging_freq': 7, 'min_child_samples': 57}. Best is trial 36 with value: 0.9108863198458574.\n",
      "[I 2024-02-03 07:52:45,581] Trial 153 finished with value: 0.9058285163776493 and parameters: {'lambda_l1': 0.06289057866053079, 'lambda_l2': 1.549084995527872e-07, 'num_leaves': 45, 'feature_fraction': 0.433149946350586, 'bagging_fraction': 0.9060696771265627, 'bagging_freq': 7, 'min_child_samples': 65}. Best is trial 36 with value: 0.9108863198458574.\n",
      "[I 2024-02-03 07:52:48,513] Trial 154 finished with value: 0.9019749518304432 and parameters: {'lambda_l1': 4.0886231240996486e-05, 'lambda_l2': 7.459568556844196e-07, 'num_leaves': 59, 'feature_fraction': 0.543779431606384, 'bagging_fraction': 0.8536134116948092, 'bagging_freq': 7, 'min_child_samples': 67}. Best is trial 36 with value: 0.9108863198458574.\n",
      "[I 2024-02-03 07:52:51,103] Trial 155 finished with value: 0.910645472061657 and parameters: {'lambda_l1': 0.011949101420263106, 'lambda_l2': 1.0337619088198497e-08, 'num_leaves': 52, 'feature_fraction': 0.4219571352208161, 'bagging_fraction': 0.8937404309218621, 'bagging_freq': 7, 'min_child_samples': 8}. Best is trial 36 with value: 0.9108863198458574.\n",
      "[I 2024-02-03 07:52:53,756] Trial 156 finished with value: 0.9089595375722543 and parameters: {'lambda_l1': 8.234480094617508e-06, 'lambda_l2': 1.3001005654480825e-08, 'num_leaves': 54, 'feature_fraction': 0.41930775322516256, 'bagging_fraction': 0.9211626805229122, 'bagging_freq': 7, 'min_child_samples': 10}. Best is trial 36 with value: 0.9108863198458574.\n",
      "[I 2024-02-03 07:52:55,901] Trial 157 finished with value: 0.9053468208092486 and parameters: {'lambda_l1': 0.012899420153289718, 'lambda_l2': 1.8562153201460914e-08, 'num_leaves': 34, 'feature_fraction': 0.4250667952705892, 'bagging_fraction': 0.9436356105288117, 'bagging_freq': 7, 'min_child_samples': 8}. Best is trial 36 with value: 0.9108863198458574.\n",
      "[I 2024-02-03 07:52:57,736] Trial 158 finished with value: 0.9077552986512524 and parameters: {'lambda_l1': 0.020255777785137655, 'lambda_l2': 1.0991732214308758e-08, 'num_leaves': 27, 'feature_fraction': 0.40357034100025946, 'bagging_fraction': 0.7187857145310592, 'bagging_freq': 7, 'min_child_samples': 13}. Best is trial 36 with value: 0.9108863198458574.\n",
      "[I 2024-02-03 07:52:58,914] Trial 159 finished with value: 0.9019749518304432 and parameters: {'lambda_l1': 0.006420887563910216, 'lambda_l2': 2.7711259701427136e-08, 'num_leaves': 11, 'feature_fraction': 0.4382132257306557, 'bagging_fraction': 0.575114647537419, 'bagging_freq': 7, 'min_child_samples': 35}. Best is trial 36 with value: 0.9108863198458574.\n",
      "[I 2024-02-03 07:53:03,891] Trial 160 finished with value: 0.9026974951830443 and parameters: {'lambda_l1': 0.010513833401512468, 'lambda_l2': 4.50725953203717e-08, 'num_leaves': 171, 'feature_fraction': 0.5117652545301443, 'bagging_fraction': 0.9819598881070833, 'bagging_freq': 6, 'min_child_samples': 5}. Best is trial 36 with value: 0.9108863198458574.\n",
      "[I 2024-02-03 07:53:06,466] Trial 161 finished with value: 0.9104046242774566 and parameters: {'lambda_l1': 0.5224443078001474, 'lambda_l2': 1.0009403909613468e-08, 'num_leaves': 50, 'feature_fraction': 0.45512733037970243, 'bagging_fraction': 0.8932484413123263, 'bagging_freq': 7, 'min_child_samples': 74}. Best is trial 36 with value: 0.9108863198458574.\n",
      "[I 2024-02-03 07:53:09,205] Trial 162 finished with value: 0.9075144508670521 and parameters: {'lambda_l1': 0.003251609594759921, 'lambda_l2': 1.164900536046408e-08, 'num_leaves': 51, 'feature_fraction': 0.4512467415649797, 'bagging_fraction': 0.9016563520132804, 'bagging_freq': 7, 'min_child_samples': 73}. Best is trial 36 with value: 0.9108863198458574.\n",
      "[I 2024-02-03 07:53:12,109] Trial 163 finished with value: 0.9070327552986512 and parameters: {'lambda_l1': 0.03836218231206569, 'lambda_l2': 1.886348724736904e-08, 'num_leaves': 62, 'feature_fraction': 0.47951255965841566, 'bagging_fraction': 0.8936598355096312, 'bagging_freq': 7, 'min_child_samples': 70}. Best is trial 36 with value: 0.9108863198458574.\n",
      "[I 2024-02-03 07:53:13,815] Trial 164 finished with value: 0.9075144508670521 and parameters: {'lambda_l1': 0.3683528668380133, 'lambda_l2': 3.85626009139546e-08, 'num_leaves': 40, 'feature_fraction': 0.5952807828885389, 'bagging_fraction': 0.40586623713575637, 'bagging_freq': 7, 'min_child_samples': 75}. Best is trial 36 with value: 0.9108863198458574.\n",
      "[I 2024-02-03 07:53:16,611] Trial 165 finished with value: 0.9070327552986512 and parameters: {'lambda_l1': 0.18797844939322164, 'lambda_l2': 1.0008044105246681e-08, 'num_leaves': 68, 'feature_fraction': 0.5644103632102418, 'bagging_fraction': 0.8648974030340477, 'bagging_freq': 7, 'min_child_samples': 15}. Best is trial 36 with value: 0.9108863198458574.\n",
      "[I 2024-02-03 07:53:19,108] Trial 166 finished with value: 0.9087186897880539 and parameters: {'lambda_l1': 0.12473861897417983, 'lambda_l2': 0.0010770016576632563, 'num_leaves': 47, 'feature_fraction': 0.5269393553590376, 'bagging_fraction': 0.8827174373984178, 'bagging_freq': 7, 'min_child_samples': 16}. Best is trial 36 with value: 0.9108863198458574.\n",
      "[I 2024-02-03 07:53:21,774] Trial 167 finished with value: 0.9094412331406551 and parameters: {'lambda_l1': 0.005141906251969577, 'lambda_l2': 2.2903555941984565e-08, 'num_leaves': 52, 'feature_fraction': 0.4948797397806331, 'bagging_fraction': 0.9158583115883733, 'bagging_freq': 7, 'min_child_samples': 20}. Best is trial 36 with value: 0.9108863198458574.\n",
      "[I 2024-02-03 07:53:24,562] Trial 168 finished with value: 0.9051059730250481 and parameters: {'lambda_l1': 0.004752615618911696, 'lambda_l2': 2.071727717210873e-08, 'num_leaves': 57, 'feature_fraction': 0.4906512853926359, 'bagging_fraction': 0.9128643592348095, 'bagging_freq': 7, 'min_child_samples': 18}. Best is trial 36 with value: 0.9108863198458574.\n",
      "[I 2024-02-03 07:53:26,857] Trial 169 finished with value: 0.9060693641618497 and parameters: {'lambda_l1': 0.006618760734510483, 'lambda_l2': 1.7012737758539402e-08, 'num_leaves': 37, 'feature_fraction': 0.45947446186032187, 'bagging_fraction': 0.9598294139022716, 'bagging_freq': 2, 'min_child_samples': 21}. Best is trial 36 with value: 0.9108863198458574.\n",
      "[I 2024-02-03 07:53:29,543] Trial 170 finished with value: 0.9072736030828517 and parameters: {'lambda_l1': 0.0010286839352768207, 'lambda_l2': 3.0755420630824076e-08, 'num_leaves': 51, 'feature_fraction': 0.4750638398393403, 'bagging_fraction': 0.9320521953913492, 'bagging_freq': 7, 'min_child_samples': 24}. Best is trial 36 with value: 0.9108863198458574.\n",
      "[I 2024-02-03 07:53:32,140] Trial 171 finished with value: 0.9041425818882466 and parameters: {'lambda_l1': 0.0031747959277255633, 'lambda_l2': 5.699879771271207e-08, 'num_leaves': 64, 'feature_fraction': 0.502006979937903, 'bagging_fraction': 0.622114542209524, 'bagging_freq': 5, 'min_child_samples': 78}. Best is trial 36 with value: 0.9108863198458574.\n",
      "[I 2024-02-03 07:53:34,850] Trial 172 finished with value: 0.9079961464354528 and parameters: {'lambda_l1': 0.008852430093182661, 'lambda_l2': 1.425758879615648e-08, 'num_leaves': 56, 'feature_fraction': 0.5210401302559604, 'bagging_fraction': 0.8964494706225203, 'bagging_freq': 7, 'min_child_samples': 19}. Best is trial 36 with value: 0.9108863198458574.\n",
      "[I 2024-02-03 07:53:37,685] Trial 173 finished with value: 0.9067919075144508 and parameters: {'lambda_l1': 0.019122952994580347, 'lambda_l2': 1.215439579037104e-06, 'num_leaves': 43, 'feature_fraction': 0.44370046974982635, 'bagging_fraction': 0.9184560204360673, 'bagging_freq': 3, 'min_child_samples': 86}. Best is trial 36 with value: 0.9108863198458574.\n",
      "[I 2024-02-03 07:53:40,299] Trial 174 finished with value: 0.9082369942196532 and parameters: {'lambda_l1': 0.620263216677006, 'lambda_l2': 1.0107028783683123e-08, 'num_leaves': 72, 'feature_fraction': 0.5438288166026106, 'bagging_fraction': 0.8762421276227228, 'bagging_freq': 7, 'min_child_samples': 49}. Best is trial 36 with value: 0.9108863198458574.\n",
      "[I 2024-02-03 07:53:42,951] Trial 175 finished with value: 0.9065510597302505 and parameters: {'lambda_l1': 0.014200095441165152, 'lambda_l2': 1.3636147926298892e-05, 'num_leaves': 49, 'feature_fraction': 0.4907026961201253, 'bagging_fraction': 0.9047097452838636, 'bagging_freq': 7, 'min_child_samples': 28}. Best is trial 36 with value: 0.9108863198458574.\n",
      "[I 2024-02-03 07:53:45,901] Trial 176 finished with value: 0.9051059730250481 and parameters: {'lambda_l1': 0.0019533637426423, 'lambda_l2': 9.00157121120703e-08, 'num_leaves': 61, 'feature_fraction': 0.5842412161034037, 'bagging_fraction': 0.986252044552066, 'bagging_freq': 7, 'min_child_samples': 70}. Best is trial 36 with value: 0.9108863198458574.\n",
      "[I 2024-02-03 07:53:47,490] Trial 177 finished with value: 0.9053468208092486 and parameters: {'lambda_l1': 1.0593647491392657, 'lambda_l2': 2.355568923531516e-06, 'num_leaves': 15, 'feature_fraction': 0.5120182097122965, 'bagging_fraction': 0.8857600458493844, 'bagging_freq': 7, 'min_child_samples': 9}. Best is trial 36 with value: 0.9108863198458574.\n",
      "[I 2024-02-03 07:53:49,434] Trial 178 finished with value: 0.9070327552986512 and parameters: {'lambda_l1': 0.25785378401394754, 'lambda_l2': 2.338035151778282e-08, 'num_leaves': 33, 'feature_fraction': 0.4308584112395144, 'bagging_fraction': 0.6835200123301136, 'bagging_freq': 7, 'min_child_samples': 22}. Best is trial 36 with value: 0.9108863198458574.\n",
      "[I 2024-02-03 07:53:51,317] Trial 179 finished with value: 0.9053468208092486 and parameters: {'lambda_l1': 0.034982447428292235, 'lambda_l2': 3.6456938378081666e-08, 'num_leaves': 24, 'feature_fraction': 0.533338658748607, 'bagging_fraction': 0.9356009603107307, 'bagging_freq': 7, 'min_child_samples': 72}. Best is trial 36 with value: 0.9108863198458574.\n",
      "[I 2024-02-03 07:53:53,889] Trial 180 finished with value: 0.9087186897880539 and parameters: {'lambda_l1': 0.09266418762989698, 'lambda_l2': 6.081355721995885e-08, 'num_leaves': 53, 'feature_fraction': 0.5613979016151306, 'bagging_fraction': 0.9147548236192875, 'bagging_freq': 7, 'min_child_samples': 25}. Best is trial 36 with value: 0.9108863198458574.\n",
      "[I 2024-02-03 07:53:56,054] Trial 181 finished with value: 0.9060693641618497 and parameters: {'lambda_l1': 1.616046796698825, 'lambda_l2': 3.024867308206643e-07, 'num_leaves': 47, 'feature_fraction': 0.4674698555187767, 'bagging_fraction': 0.8896155509905049, 'bagging_freq': 7, 'min_child_samples': 64}. Best is trial 36 with value: 0.9108863198458574.\n",
      "[I 2024-02-03 07:53:58,350] Trial 182 finished with value: 0.9094412331406551 and parameters: {'lambda_l1': 0.48653388479363613, 'lambda_l2': 2.491585173984889e-07, 'num_leaves': 41, 'feature_fraction': 0.4592273603713822, 'bagging_fraction': 0.8967627593324053, 'bagging_freq': 7, 'min_child_samples': 83}. Best is trial 36 with value: 0.9108863198458574.\n",
      "[I 2024-02-03 07:54:00,653] Trial 183 finished with value: 0.9084778420038536 and parameters: {'lambda_l1': 0.44661531050847236, 'lambda_l2': 0.0019853853020118687, 'num_leaves': 42, 'feature_fraction': 0.44710946503791116, 'bagging_fraction': 0.9011073774208995, 'bagging_freq': 7, 'min_child_samples': 82}. Best is trial 36 with value: 0.9108863198458574.\n",
      "[I 2024-02-03 07:54:03,160] Trial 184 finished with value: 0.9060693641618497 and parameters: {'lambda_l1': 0.5345921712237527, 'lambda_l2': 1.6084486414216693e-08, 'num_leaves': 131, 'feature_fraction': 0.4545553469187737, 'bagging_fraction': 0.8636544497229789, 'bagging_freq': 7, 'min_child_samples': 89}. Best is trial 36 with value: 0.9108863198458574.\n",
      "[I 2024-02-03 07:54:05,156] Trial 185 finished with value: 0.9070327552986512 and parameters: {'lambda_l1': 0.8550012570223776, 'lambda_l2': 4.530945226200065e-07, 'num_leaves': 30, 'feature_fraction': 0.41798986404377014, 'bagging_fraction': 0.9255246645801757, 'bagging_freq': 7, 'min_child_samples': 80}. Best is trial 36 with value: 0.9108863198458574.\n",
      "[I 2024-02-03 07:54:08,355] Trial 186 finished with value: 0.9072736030828517 and parameters: {'lambda_l1': 0.004688282953755186, 'lambda_l2': 1.6681563742065825e-07, 'num_leaves': 55, 'feature_fraction': 0.6233022824158606, 'bagging_fraction': 0.9496793012976246, 'bagging_freq': 7, 'min_child_samples': 84}. Best is trial 36 with value: 0.9108863198458574.\n",
      "[I 2024-02-03 07:54:10,763] Trial 187 finished with value: 0.9048651252408478 and parameters: {'lambda_l1': 2.870883359685853e-08, 'lambda_l2': 1.1590646355850169e-07, 'num_leaves': 41, 'feature_fraction': 0.5053930669650767, 'bagging_fraction': 0.7544877532549054, 'bagging_freq': 7, 'min_child_samples': 75}. Best is trial 36 with value: 0.9108863198458574.\n",
      "[I 2024-02-03 07:54:13,201] Trial 188 finished with value: 0.9060693641618497 and parameters: {'lambda_l1': 9.359795053776694e-07, 'lambda_l2': 1.4127209970710437e-06, 'num_leaves': 38, 'feature_fraction': 0.5514052517185454, 'bagging_fraction': 0.9994883227212216, 'bagging_freq': 7, 'min_child_samples': 56}. Best is trial 36 with value: 0.9108863198458574.\n",
      "[I 2024-02-03 07:54:14,635] Trial 189 finished with value: 0.9087186897880539 and parameters: {'lambda_l1': 0.29555686811800624, 'lambda_l2': 3.0557455415887436e-08, 'num_leaves': 21, 'feature_fraction': 0.7839146870952658, 'bagging_fraction': 0.9119855053583569, 'bagging_freq': 1, 'min_child_samples': 67}. Best is trial 36 with value: 0.9108863198458574.\n",
      "[I 2024-02-03 07:54:17,613] Trial 190 finished with value: 0.9084778420038536 and parameters: {'lambda_l1': 0.00023675139126340907, 'lambda_l2': 8.738395758243092e-07, 'num_leaves': 58, 'feature_fraction': 0.48402496251765303, 'bagging_fraction': 0.9723102982481872, 'bagging_freq': 7, 'min_child_samples': 53}. Best is trial 36 with value: 0.9108863198458574.\n",
      "[I 2024-02-03 07:54:19,877] Trial 191 finished with value: 0.9077552986512524 and parameters: {'lambda_l1': 0.8714682142186622, 'lambda_l2': 2.1123800024838138e-07, 'num_leaves': 45, 'feature_fraction': 0.4680828280456086, 'bagging_fraction': 0.8786811700858117, 'bagging_freq': 7, 'min_child_samples': 59}. Best is trial 36 with value: 0.9108863198458574.\n",
      "[I 2024-02-03 07:54:22,188] Trial 192 finished with value: 0.9079961464354528 and parameters: {'lambda_l1': 1.4957919458479054, 'lambda_l2': 0.004718970868067431, 'num_leaves': 160, 'feature_fraction': 0.4381412913563433, 'bagging_fraction': 0.8932975987265167, 'bagging_freq': 7, 'min_child_samples': 63}. Best is trial 36 with value: 0.9108863198458574.\n",
      "[I 2024-02-03 07:54:24,218] Trial 193 finished with value: 0.9079961464354528 and parameters: {'lambda_l1': 2.64811386883314, 'lambda_l2': 2.5877617554190816e-07, 'num_leaves': 50, 'feature_fraction': 0.45766900939653643, 'bagging_fraction': 0.900082616836128, 'bagging_freq': 7, 'min_child_samples': 69}. Best is trial 36 with value: 0.9108863198458574.\n",
      "[I 2024-02-03 07:54:26,012] Trial 194 finished with value: 0.9058285163776493 and parameters: {'lambda_l1': 0.1490603155472191, 'lambda_l2': 5.003908446593274e-07, 'num_leaves': 34, 'feature_fraction': 0.4710995490388594, 'bagging_fraction': 0.4277137261754253, 'bagging_freq': 7, 'min_child_samples': 32}. Best is trial 36 with value: 0.9108863198458574.\n",
      "[I 2024-02-03 07:54:28,471] Trial 195 finished with value: 0.9094412331406551 and parameters: {'lambda_l1': 0.5438845231266284, 'lambda_l2': 1.2403336935020704e-07, 'num_leaves': 66, 'feature_fraction': 0.6088541429789274, 'bagging_fraction': 0.7980949815132969, 'bagging_freq': 7, 'min_child_samples': 72}. Best is trial 36 with value: 0.9108863198458574.\n",
      "[I 2024-02-03 07:54:31,057] Trial 196 finished with value: 0.9079961464354528 and parameters: {'lambda_l1': 0.4637888188864173, 'lambda_l2': 8.529965291908829e-08, 'num_leaves': 68, 'feature_fraction': 0.524631442917677, 'bagging_fraction': 0.8116124282931285, 'bagging_freq': 7, 'min_child_samples': 73}. Best is trial 36 with value: 0.9108863198458574.\n",
      "[I 2024-02-03 07:54:33,996] Trial 197 finished with value: 0.9082369942196532 and parameters: {'lambda_l1': 0.06716184328558676, 'lambda_l2': 5.309690468915545e-08, 'num_leaves': 64, 'feature_fraction': 0.6078157268227484, 'bagging_fraction': 0.9848723095503235, 'bagging_freq': 7, 'min_child_samples': 70}. Best is trial 36 with value: 0.9108863198458574.\n",
      "[I 2024-02-03 07:54:36,744] Trial 198 finished with value: 0.903179190751445 and parameters: {'lambda_l1': 0.22982683916444274, 'lambda_l2': 1.4356769189170017e-07, 'num_leaves': 60, 'feature_fraction': 0.5945641351490569, 'bagging_fraction': 0.9625211430258706, 'bagging_freq': 7, 'min_child_samples': 77}. Best is trial 36 with value: 0.9108863198458574.\n",
      "[I 2024-02-03 07:54:38,940] Trial 199 finished with value: 0.9039017341040463 and parameters: {'lambda_l1': 6.512840261689239, 'lambda_l2': 3.040839306362149e-05, 'num_leaves': 109, 'feature_fraction': 0.8785580964239615, 'bagging_fraction': 0.9217133325441423, 'bagging_freq': 7, 'min_child_samples': 12}. Best is trial 36 with value: 0.9108863198458574.\n"
     ]
    }
   ],
   "source": [
    "sampler = TPESampler(seed=42)\n",
    "study = optuna.create_study(study_name=\"lightgbm\", direction=\"maximize\", sampler=sampler)\n",
    "study.optimize(objective, n_trials=200)"
   ]
  },
  {
   "cell_type": "code",
   "execution_count": 14,
   "id": "03a4e55f",
   "metadata": {
    "execution": {
     "iopub.execute_input": "2024-02-03T07:54:39.103325Z",
     "iopub.status.busy": "2024-02-03T07:54:39.102393Z",
     "iopub.status.idle": "2024-02-03T07:54:39.108483Z",
     "shell.execute_reply": "2024-02-03T07:54:39.107418Z"
    },
    "papermill": {
     "duration": 0.059351,
     "end_time": "2024-02-03T07:54:39.110493",
     "exception": false,
     "start_time": "2024-02-03T07:54:39.051142",
     "status": "completed"
    },
    "tags": []
   },
   "outputs": [
    {
     "name": "stdout",
     "output_type": "stream",
     "text": [
      "Best parameters: {'lambda_l1': 1.3019828669773963, 'lambda_l2': 1.0378733814005926e-05, 'num_leaves': 43, 'feature_fraction': 0.5200508885969131, 'bagging_fraction': 0.8788385892118535, 'bagging_freq': 7, 'min_child_samples': 49}\n"
     ]
    }
   ],
   "source": [
    "print('Best parameters:', study.best_params)"
   ]
  },
  {
   "cell_type": "code",
   "execution_count": 15,
   "id": "a5382752",
   "metadata": {
    "execution": {
     "iopub.execute_input": "2024-02-03T07:54:39.208137Z",
     "iopub.status.busy": "2024-02-03T07:54:39.207416Z",
     "iopub.status.idle": "2024-02-03T07:54:39.213196Z",
     "shell.execute_reply": "2024-02-03T07:54:39.212164Z"
    },
    "papermill": {
     "duration": 0.056888,
     "end_time": "2024-02-03T07:54:39.215589",
     "exception": false,
     "start_time": "2024-02-03T07:54:39.158701",
     "status": "completed"
    },
    "tags": []
   },
   "outputs": [
    {
     "name": "stdout",
     "output_type": "stream",
     "text": [
      "Best value: 0.9108863198458574\n"
     ]
    }
   ],
   "source": [
    "print('Best value:', study.best_value)"
   ]
  },
  {
   "cell_type": "code",
   "execution_count": 16,
   "id": "362613d8",
   "metadata": {
    "execution": {
     "iopub.execute_input": "2024-02-03T07:54:39.314214Z",
     "iopub.status.busy": "2024-02-03T07:54:39.313348Z",
     "iopub.status.idle": "2024-02-03T07:54:39.319292Z",
     "shell.execute_reply": "2024-02-03T07:54:39.318336Z"
    },
    "papermill": {
     "duration": 0.057424,
     "end_time": "2024-02-03T07:54:39.321219",
     "exception": false,
     "start_time": "2024-02-03T07:54:39.263795",
     "status": "completed"
    },
    "tags": []
   },
   "outputs": [
    {
     "name": "stdout",
     "output_type": "stream",
     "text": [
      "Best trial: FrozenTrial(number=36, state=TrialState.COMPLETE, values=[0.9108863198458574], datetime_start=datetime.datetime(2024, 2, 3, 7, 48, 7, 770934), datetime_complete=datetime.datetime(2024, 2, 3, 7, 48, 9, 980287), params={'lambda_l1': 1.3019828669773963, 'lambda_l2': 1.0378733814005926e-05, 'num_leaves': 43, 'feature_fraction': 0.5200508885969131, 'bagging_fraction': 0.8788385892118535, 'bagging_freq': 7, 'min_child_samples': 49}, user_attrs={}, system_attrs={}, intermediate_values={}, distributions={'lambda_l1': FloatDistribution(high=10.0, log=True, low=1e-08, step=None), 'lambda_l2': FloatDistribution(high=10.0, log=True, low=1e-08, step=None), 'num_leaves': IntDistribution(high=256, log=False, low=2, step=1), 'feature_fraction': FloatDistribution(high=1.0, log=False, low=0.4, step=None), 'bagging_fraction': FloatDistribution(high=1.0, log=False, low=0.4, step=None), 'bagging_freq': IntDistribution(high=7, log=False, low=1, step=1), 'min_child_samples': IntDistribution(high=100, log=False, low=5, step=1)}, trial_id=36, value=None)\n"
     ]
    }
   ],
   "source": [
    "print('Best trial:', study.best_trial)"
   ]
  },
  {
   "cell_type": "markdown",
   "id": "832dd0f0",
   "metadata": {
    "papermill": {
     "duration": 0.049518,
     "end_time": "2024-02-03T07:54:39.419180",
     "exception": false,
     "start_time": "2024-02-03T07:54:39.369662",
     "status": "completed"
    },
    "tags": []
   },
   "source": [
    "### パラメータ"
   ]
  },
  {
   "cell_type": "code",
   "execution_count": 17,
   "id": "b0c2a276",
   "metadata": {
    "execution": {
     "iopub.execute_input": "2024-02-03T07:54:39.530635Z",
     "iopub.status.busy": "2024-02-03T07:54:39.530101Z",
     "iopub.status.idle": "2024-02-03T07:54:39.537462Z",
     "shell.execute_reply": "2024-02-03T07:54:39.536424Z"
    },
    "papermill": {
     "duration": 0.070776,
     "end_time": "2024-02-03T07:54:39.539659",
     "exception": false,
     "start_time": "2024-02-03T07:54:39.468883",
     "status": "completed"
    },
    "tags": []
   },
   "outputs": [],
   "source": [
    "lgb_params = {'lambda_l1': 1.3019828669773963, \n",
    "              'lambda_l2': 1.0378733814005926e-05, \n",
    "              'num_leaves': 43, \n",
    "              'feature_fraction': 0.5200508885969131, \n",
    "              'bagging_fraction': 0.8788385892118535, \n",
    "              'bagging_freq': 7, \n",
    "              'min_child_samples': 49}\n",
    "\n",
    "xgb_params = {'max_depth': 6, \n",
    "              'min_child_weight': 10, \n",
    "              'learning_rate': 0.9739305940758409, \n",
    "              'n_estimators': 435, \n",
    "              'subsample': 0.43576967696348323, \n",
    "              'colsample_bytree': 0.025619729678897467, \n",
    "              'random_state': 42}\n",
    "\n",
    "cat_params = {'iterations': 526,\n",
    "    'depth': 3,\n",
    "    'min_data_in_leaf': 13,\n",
    "    'learning_rate': 0.0008029819794568197}"
   ]
  },
  {
   "cell_type": "code",
   "execution_count": 18,
   "id": "1575f821",
   "metadata": {
    "execution": {
     "iopub.execute_input": "2024-02-03T07:54:39.654282Z",
     "iopub.status.busy": "2024-02-03T07:54:39.653947Z",
     "iopub.status.idle": "2024-02-03T07:54:39.658700Z",
     "shell.execute_reply": "2024-02-03T07:54:39.657736Z"
    },
    "papermill": {
     "duration": 0.064633,
     "end_time": "2024-02-03T07:54:39.660903",
     "exception": false,
     "start_time": "2024-02-03T07:54:39.596270",
     "status": "completed"
    },
    "tags": []
   },
   "outputs": [],
   "source": [
    "# lgb_model = LGBMClassifier(**lgb_params)\n",
    "xgb_model = XGBClassifier(**xgb_params)\n",
    "cat_model = CatBoostClassifier(**cat_params)"
   ]
  },
  {
   "cell_type": "markdown",
   "id": "c686b824",
   "metadata": {
    "papermill": {
     "duration": 0.047159,
     "end_time": "2024-02-03T07:54:39.757459",
     "exception": false,
     "start_time": "2024-02-03T07:54:39.710300",
     "status": "completed"
    },
    "tags": []
   },
   "source": [
    "# 参考（目的変数のエンコーディング）"
   ]
  },
  {
   "cell_type": "code",
   "execution_count": 19,
   "id": "8c98d427",
   "metadata": {
    "execution": {
     "iopub.execute_input": "2024-02-03T07:54:39.854055Z",
     "iopub.status.busy": "2024-02-03T07:54:39.853720Z",
     "iopub.status.idle": "2024-02-03T07:54:39.857934Z",
     "shell.execute_reply": "2024-02-03T07:54:39.857163Z"
    },
    "papermill": {
     "duration": 0.054695,
     "end_time": "2024-02-03T07:54:39.859777",
     "exception": false,
     "start_time": "2024-02-03T07:54:39.805082",
     "status": "completed"
    },
    "tags": []
   },
   "outputs": [],
   "source": [
    "# df[target_col] = df[target_col].map({\n",
    "#     \"Insufficient_Weight\":0,\n",
    "#     \"Normal_Weight\":1,\n",
    "#     \"Obesity_Type_I\":2,\n",
    "#     \"Obesity_Type_II\":3,\n",
    "#     \"Obesity_Type_III\":4,\n",
    "#     \"Overweight_Level_I\":5,\n",
    "#     \"Overweight_Level_II\":6,\n",
    "#     })\n"
   ]
  },
  {
   "cell_type": "code",
   "execution_count": null,
   "id": "bf76b92a",
   "metadata": {
    "papermill": {
     "duration": 0.050411,
     "end_time": "2024-02-03T07:54:39.958968",
     "exception": false,
     "start_time": "2024-02-03T07:54:39.908557",
     "status": "completed"
    },
    "tags": []
   },
   "outputs": [],
   "source": []
  },
  {
   "cell_type": "code",
   "execution_count": null,
   "id": "d7047620",
   "metadata": {
    "papermill": {
     "duration": 0.048958,
     "end_time": "2024-02-03T07:54:40.056492",
     "exception": false,
     "start_time": "2024-02-03T07:54:40.007534",
     "status": "completed"
    },
    "tags": []
   },
   "outputs": [],
   "source": []
  }
 ],
 "metadata": {
  "kaggle": {
   "accelerator": "nvidiaTeslaT4",
   "dataSources": [
    {
     "databundleVersionId": 7609535,
     "sourceId": 68479,
     "sourceType": "competition"
    },
    {
     "datasetId": 4383550,
     "sourceId": 7527406,
     "sourceType": "datasetVersion"
    }
   ],
   "dockerImageVersionId": 30648,
   "isGpuEnabled": true,
   "isInternetEnabled": true,
   "language": "python",
   "sourceType": "notebook"
  },
  "kernelspec": {
   "display_name": "Python 3",
   "language": "python",
   "name": "python3"
  },
  "language_info": {
   "codemirror_mode": {
    "name": "ipython",
    "version": 3
   },
   "file_extension": ".py",
   "mimetype": "text/x-python",
   "name": "python",
   "nbconvert_exporter": "python",
   "pygments_lexer": "ipython3",
   "version": "3.10.13"
  },
  "papermill": {
   "default_parameters": {},
   "duration": 2550.753294,
   "end_time": "2024-02-03T07:54:40.931904",
   "environment_variables": {},
   "exception": null,
   "input_path": "__notebook__.ipynb",
   "output_path": "__notebook__.ipynb",
   "parameters": {},
   "start_time": "2024-02-03T07:12:10.178610",
   "version": "2.5.0"
  }
 },
 "nbformat": 4,
 "nbformat_minor": 5
}

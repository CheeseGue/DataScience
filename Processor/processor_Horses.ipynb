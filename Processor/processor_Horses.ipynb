{
  "cells": [
    {
      "cell_type": "markdown",
      "metadata": {
        "id": "F3Lz0SIJJ8E5"
      },
      "source": [
        "processor.ipynb"
      ]
    },
    {
      "cell_type": "markdown",
      "metadata": {
        "id": "9jJ7f1atJ0qO"
      },
      "source": [
        "# **馬の健康への影響を予測する**\n",
        "[Predict Health Outcomes of Horses](https://www.kaggle.com/competitions/playground-series-s3e22/overview)"
      ]
    },
    {
      "cell_type": "markdown",
      "metadata": {
        "id": "dRrM5BeJkgj-"
      },
      "source": [
        "# 参考資料\n",
        "**書籍**\n",
        "\n",
        "\n",
        "**Kaggle**\n",
        "- [[PG S3 E22]📊EDA + Modeling📈](https://www.kaggle.com/code/yaaangzhou/pg-s3-e22-eda-modeling)\n",
        "\n",
        "\n",
        "**自分で作成したファイル**\n",
        "- Home_Credit_Default_Risk\n",
        "- 肝硬変の転帰の多クラス予測\n",
        "\n",
        "**その他**\n"
      ]
    },
    {
      "cell_type": "markdown",
      "metadata": {
        "id": "MV1ptyJ5kn2E"
      },
      "source": [
        "## ライブラリ・データセットのインポート"
      ]
    },
    {
      "cell_type": "code",
      "execution_count": 1,
      "metadata": {
        "id": "cXwErGKbkUpb"
      },
      "outputs": [],
      "source": [
        "import numpy as np\n",
        "import pandas as pd\n",
        "\n",
        "import warnings\n",
        "warnings.filterwarnings('ignore')"
      ]
    },
    {
      "cell_type": "code",
      "execution_count": 2,
      "metadata": {
        "id": "y2vH8YMCko3q"
      },
      "outputs": [],
      "source": [
        "from sklearn.preprocessing import LabelEncoder, MinMaxScaler\n",
        "from lightgbm import LGBMClassifier # 特徴量の重要度評価で用いる"
      ]
    },
    {
      "cell_type": "markdown",
      "metadata": {
        "id": "xAub7rgGk35P"
      },
      "source": [
        "## 実行時間を調べるために使う"
      ]
    },
    {
      "cell_type": "code",
      "execution_count": 3,
      "metadata": {
        "id": "_hGkGqJtk6M-"
      },
      "outputs": [],
      "source": [
        "import datetime\n",
        "import time\n",
        "import math\n",
        "\n",
        "start_time = time.time()\n",
        "\n",
        "def changeHMS(s):\n",
        "    h = math.floor(s / 3600)\n",
        "    if h > 0:\n",
        "        s = s - h * 3600\n",
        "        indi_h = str(h) + 'h'\n",
        "    else:\n",
        "        indi_h = ''\n",
        "    m = math.floor(s / 60)\n",
        "    if m > 0:\n",
        "        indi_m = str(m) + 'm'\n",
        "    else:\n",
        "        indi_m = ''\n",
        "    s = math.floor(s % 60)\n",
        "    time = indi_h + indi_m + str(s) + 's'\n",
        "    return time"
      ]
    },
    {
      "cell_type": "code",
      "execution_count": 28,
      "metadata": {
        "id": "4EzyBOiPkph8"
      },
      "outputs": [],
      "source": [
        "FILE_PATH = ''\n",
        "OUTPUT_DIR = ''\n",
        "\n",
        "train = pd.read_csv(FILE_PATH + 'train.csv')\n",
        "test = pd.read_csv(FILE_PATH + 'test.csv')\n",
        "\n",
        "train_id = train['id']\n",
        "\n",
        "test_id = test['id']\n",
        "\n",
        "target = train['outcome']\n",
        "target_col = 'outcome'\n",
        "\n",
        "target_name = str(train.iloc[:, [18]].columns.tolist()) # カラム数-2の値が目的変数\n",
        "\n",
        "df = pd.concat([train, test], axis=0)\n",
        "df.reset_index(inplace=True)\n",
        "\n",
        "# 説明変数をデータ型ごとに代入する\n",
        "numerical_features = df._get_numeric_data().columns\n",
        "categorical_features = df.drop(numerical_features, axis=1).columns"
      ]
    },
    {
      "cell_type": "code",
      "execution_count": 5,
      "metadata": {
        "colab": {
          "base_uri": "https://localhost:8080/",
          "height": 383
        },
        "id": "bLxpTOWikqd0",
        "outputId": "3d62451f-df90-4918-fbb7-d7b04b9b2b14"
      },
      "outputs": [
        {
          "data": {
            "text/html": [
              "<div>\n",
              "<style scoped>\n",
              "    .dataframe tbody tr th:only-of-type {\n",
              "        vertical-align: middle;\n",
              "    }\n",
              "\n",
              "    .dataframe tbody tr th {\n",
              "        vertical-align: top;\n",
              "    }\n",
              "\n",
              "    .dataframe thead th {\n",
              "        text-align: right;\n",
              "    }\n",
              "</style>\n",
              "<table border=\"1\" class=\"dataframe\">\n",
              "  <thead>\n",
              "    <tr style=\"text-align: right;\">\n",
              "      <th></th>\n",
              "      <th>index</th>\n",
              "      <th>id</th>\n",
              "      <th>surgery</th>\n",
              "      <th>age</th>\n",
              "      <th>hospital_number</th>\n",
              "      <th>rectal_temp</th>\n",
              "      <th>pulse</th>\n",
              "      <th>respiratory_rate</th>\n",
              "      <th>temp_of_extremities</th>\n",
              "      <th>peripheral_pulse</th>\n",
              "      <th>mucous_membrane</th>\n",
              "      <th>capillary_refill_time</th>\n",
              "      <th>pain</th>\n",
              "      <th>peristalsis</th>\n",
              "      <th>abdominal_distention</th>\n",
              "      <th>nasogastric_tube</th>\n",
              "      <th>nasogastric_reflux</th>\n",
              "      <th>nasogastric_reflux_ph</th>\n",
              "      <th>rectal_exam_feces</th>\n",
              "      <th>abdomen</th>\n",
              "      <th>packed_cell_volume</th>\n",
              "      <th>total_protein</th>\n",
              "      <th>abdomo_appearance</th>\n",
              "      <th>abdomo_protein</th>\n",
              "      <th>surgical_lesion</th>\n",
              "      <th>lesion_1</th>\n",
              "      <th>lesion_2</th>\n",
              "      <th>lesion_3</th>\n",
              "      <th>cp_data</th>\n",
              "      <th>outcome</th>\n",
              "    </tr>\n",
              "  </thead>\n",
              "  <tbody>\n",
              "    <tr>\n",
              "      <th>0</th>\n",
              "      <td>0</td>\n",
              "      <td>0</td>\n",
              "      <td>yes</td>\n",
              "      <td>adult</td>\n",
              "      <td>530001</td>\n",
              "      <td>38.1</td>\n",
              "      <td>132.0</td>\n",
              "      <td>24.0</td>\n",
              "      <td>cool</td>\n",
              "      <td>reduced</td>\n",
              "      <td>dark_cyanotic</td>\n",
              "      <td>more_3_sec</td>\n",
              "      <td>depressed</td>\n",
              "      <td>absent</td>\n",
              "      <td>slight</td>\n",
              "      <td>slight</td>\n",
              "      <td>less_1_liter</td>\n",
              "      <td>6.5</td>\n",
              "      <td>decreased</td>\n",
              "      <td>distend_small</td>\n",
              "      <td>57.0</td>\n",
              "      <td>8.5</td>\n",
              "      <td>serosanguious</td>\n",
              "      <td>3.4</td>\n",
              "      <td>yes</td>\n",
              "      <td>2209</td>\n",
              "      <td>0</td>\n",
              "      <td>0</td>\n",
              "      <td>no</td>\n",
              "      <td>died</td>\n",
              "    </tr>\n",
              "    <tr>\n",
              "      <th>1</th>\n",
              "      <td>1</td>\n",
              "      <td>1</td>\n",
              "      <td>yes</td>\n",
              "      <td>adult</td>\n",
              "      <td>533836</td>\n",
              "      <td>37.5</td>\n",
              "      <td>88.0</td>\n",
              "      <td>12.0</td>\n",
              "      <td>cool</td>\n",
              "      <td>normal</td>\n",
              "      <td>pale_cyanotic</td>\n",
              "      <td>more_3_sec</td>\n",
              "      <td>mild_pain</td>\n",
              "      <td>absent</td>\n",
              "      <td>moderate</td>\n",
              "      <td>none</td>\n",
              "      <td>more_1_liter</td>\n",
              "      <td>2.0</td>\n",
              "      <td>absent</td>\n",
              "      <td>distend_small</td>\n",
              "      <td>33.0</td>\n",
              "      <td>64.0</td>\n",
              "      <td>serosanguious</td>\n",
              "      <td>2.0</td>\n",
              "      <td>yes</td>\n",
              "      <td>2208</td>\n",
              "      <td>0</td>\n",
              "      <td>0</td>\n",
              "      <td>no</td>\n",
              "      <td>euthanized</td>\n",
              "    </tr>\n",
              "    <tr>\n",
              "      <th>2</th>\n",
              "      <td>2</td>\n",
              "      <td>2</td>\n",
              "      <td>yes</td>\n",
              "      <td>adult</td>\n",
              "      <td>529812</td>\n",
              "      <td>38.3</td>\n",
              "      <td>120.0</td>\n",
              "      <td>28.0</td>\n",
              "      <td>cool</td>\n",
              "      <td>reduced</td>\n",
              "      <td>pale_pink</td>\n",
              "      <td>less_3_sec</td>\n",
              "      <td>extreme_pain</td>\n",
              "      <td>hypomotile</td>\n",
              "      <td>moderate</td>\n",
              "      <td>slight</td>\n",
              "      <td>none</td>\n",
              "      <td>3.5</td>\n",
              "      <td>NaN</td>\n",
              "      <td>distend_large</td>\n",
              "      <td>37.0</td>\n",
              "      <td>6.4</td>\n",
              "      <td>serosanguious</td>\n",
              "      <td>3.4</td>\n",
              "      <td>yes</td>\n",
              "      <td>5124</td>\n",
              "      <td>0</td>\n",
              "      <td>0</td>\n",
              "      <td>no</td>\n",
              "      <td>lived</td>\n",
              "    </tr>\n",
              "    <tr>\n",
              "      <th>3</th>\n",
              "      <td>3</td>\n",
              "      <td>3</td>\n",
              "      <td>yes</td>\n",
              "      <td>adult</td>\n",
              "      <td>5262541</td>\n",
              "      <td>37.1</td>\n",
              "      <td>72.0</td>\n",
              "      <td>30.0</td>\n",
              "      <td>cold</td>\n",
              "      <td>reduced</td>\n",
              "      <td>pale_pink</td>\n",
              "      <td>more_3_sec</td>\n",
              "      <td>mild_pain</td>\n",
              "      <td>hypomotile</td>\n",
              "      <td>moderate</td>\n",
              "      <td>slight</td>\n",
              "      <td>more_1_liter</td>\n",
              "      <td>2.0</td>\n",
              "      <td>decreased</td>\n",
              "      <td>distend_small</td>\n",
              "      <td>53.0</td>\n",
              "      <td>7.0</td>\n",
              "      <td>cloudy</td>\n",
              "      <td>3.9</td>\n",
              "      <td>yes</td>\n",
              "      <td>2208</td>\n",
              "      <td>0</td>\n",
              "      <td>0</td>\n",
              "      <td>yes</td>\n",
              "      <td>lived</td>\n",
              "    </tr>\n",
              "    <tr>\n",
              "      <th>4</th>\n",
              "      <td>4</td>\n",
              "      <td>4</td>\n",
              "      <td>no</td>\n",
              "      <td>adult</td>\n",
              "      <td>5299629</td>\n",
              "      <td>38.0</td>\n",
              "      <td>52.0</td>\n",
              "      <td>48.0</td>\n",
              "      <td>normal</td>\n",
              "      <td>normal</td>\n",
              "      <td>normal_pink</td>\n",
              "      <td>less_3_sec</td>\n",
              "      <td>alert</td>\n",
              "      <td>hypomotile</td>\n",
              "      <td>none</td>\n",
              "      <td>slight</td>\n",
              "      <td>less_1_liter</td>\n",
              "      <td>7.0</td>\n",
              "      <td>normal</td>\n",
              "      <td>normal</td>\n",
              "      <td>47.0</td>\n",
              "      <td>7.3</td>\n",
              "      <td>cloudy</td>\n",
              "      <td>2.6</td>\n",
              "      <td>no</td>\n",
              "      <td>0</td>\n",
              "      <td>0</td>\n",
              "      <td>0</td>\n",
              "      <td>yes</td>\n",
              "      <td>lived</td>\n",
              "    </tr>\n",
              "    <tr>\n",
              "      <th>5</th>\n",
              "      <td>5</td>\n",
              "      <td>5</td>\n",
              "      <td>no</td>\n",
              "      <td>adult</td>\n",
              "      <td>529642</td>\n",
              "      <td>38.1</td>\n",
              "      <td>56.0</td>\n",
              "      <td>32.0</td>\n",
              "      <td>normal</td>\n",
              "      <td>normal</td>\n",
              "      <td>bright_pink</td>\n",
              "      <td>less_3_sec</td>\n",
              "      <td>depressed</td>\n",
              "      <td>hypomotile</td>\n",
              "      <td>none</td>\n",
              "      <td>none</td>\n",
              "      <td>more_1_liter</td>\n",
              "      <td>5.0</td>\n",
              "      <td>decreased</td>\n",
              "      <td>firm</td>\n",
              "      <td>49.0</td>\n",
              "      <td>8.0</td>\n",
              "      <td>cloudy</td>\n",
              "      <td>2.8</td>\n",
              "      <td>no</td>\n",
              "      <td>0</td>\n",
              "      <td>0</td>\n",
              "      <td>0</td>\n",
              "      <td>yes</td>\n",
              "      <td>lived</td>\n",
              "    </tr>\n",
              "    <tr>\n",
              "      <th>6</th>\n",
              "      <td>6</td>\n",
              "      <td>6</td>\n",
              "      <td>yes</td>\n",
              "      <td>adult</td>\n",
              "      <td>534787</td>\n",
              "      <td>38.3</td>\n",
              "      <td>36.0</td>\n",
              "      <td>16.0</td>\n",
              "      <td>cool</td>\n",
              "      <td>reduced</td>\n",
              "      <td>normal_pink</td>\n",
              "      <td>less_3_sec</td>\n",
              "      <td>severe_pain</td>\n",
              "      <td>normal</td>\n",
              "      <td>slight</td>\n",
              "      <td>none</td>\n",
              "      <td>more_1_liter</td>\n",
              "      <td>2.0</td>\n",
              "      <td>decreased</td>\n",
              "      <td>NaN</td>\n",
              "      <td>43.0</td>\n",
              "      <td>75.0</td>\n",
              "      <td>cloudy</td>\n",
              "      <td>1.0</td>\n",
              "      <td>no</td>\n",
              "      <td>3111</td>\n",
              "      <td>0</td>\n",
              "      <td>0</td>\n",
              "      <td>yes</td>\n",
              "      <td>euthanized</td>\n",
              "    </tr>\n",
              "    <tr>\n",
              "      <th>7</th>\n",
              "      <td>7</td>\n",
              "      <td>7</td>\n",
              "      <td>no</td>\n",
              "      <td>adult</td>\n",
              "      <td>529461</td>\n",
              "      <td>39.2</td>\n",
              "      <td>114.0</td>\n",
              "      <td>24.0</td>\n",
              "      <td>cool</td>\n",
              "      <td>reduced</td>\n",
              "      <td>pale_cyanotic</td>\n",
              "      <td>more_3_sec</td>\n",
              "      <td>mild_pain</td>\n",
              "      <td>hypomotile</td>\n",
              "      <td>moderate</td>\n",
              "      <td>slight</td>\n",
              "      <td>none</td>\n",
              "      <td>4.5</td>\n",
              "      <td>absent</td>\n",
              "      <td>distend_small</td>\n",
              "      <td>57.0</td>\n",
              "      <td>7.6</td>\n",
              "      <td>serosanguious</td>\n",
              "      <td>4.5</td>\n",
              "      <td>yes</td>\n",
              "      <td>2207</td>\n",
              "      <td>0</td>\n",
              "      <td>0</td>\n",
              "      <td>yes</td>\n",
              "      <td>died</td>\n",
              "    </tr>\n",
              "    <tr>\n",
              "      <th>8</th>\n",
              "      <td>8</td>\n",
              "      <td>8</td>\n",
              "      <td>no</td>\n",
              "      <td>adult</td>\n",
              "      <td>528742</td>\n",
              "      <td>37.4</td>\n",
              "      <td>48.0</td>\n",
              "      <td>12.0</td>\n",
              "      <td>cool</td>\n",
              "      <td>reduced</td>\n",
              "      <td>normal_pink</td>\n",
              "      <td>less_3_sec</td>\n",
              "      <td>alert</td>\n",
              "      <td>hypermotile</td>\n",
              "      <td>slight</td>\n",
              "      <td>slight</td>\n",
              "      <td>more_1_liter</td>\n",
              "      <td>7.0</td>\n",
              "      <td>normal</td>\n",
              "      <td>firm</td>\n",
              "      <td>40.0</td>\n",
              "      <td>7.8</td>\n",
              "      <td>cloudy</td>\n",
              "      <td>2.6</td>\n",
              "      <td>no</td>\n",
              "      <td>0</td>\n",
              "      <td>0</td>\n",
              "      <td>0</td>\n",
              "      <td>yes</td>\n",
              "      <td>lived</td>\n",
              "    </tr>\n",
              "    <tr>\n",
              "      <th>9</th>\n",
              "      <td>9</td>\n",
              "      <td>9</td>\n",
              "      <td>yes</td>\n",
              "      <td>adult</td>\n",
              "      <td>529640</td>\n",
              "      <td>38.3</td>\n",
              "      <td>129.0</td>\n",
              "      <td>48.0</td>\n",
              "      <td>cool</td>\n",
              "      <td>reduced</td>\n",
              "      <td>pale_pink</td>\n",
              "      <td>less_3_sec</td>\n",
              "      <td>depressed</td>\n",
              "      <td>absent</td>\n",
              "      <td>moderate</td>\n",
              "      <td>slight</td>\n",
              "      <td>none</td>\n",
              "      <td>4.4</td>\n",
              "      <td>NaN</td>\n",
              "      <td>NaN</td>\n",
              "      <td>57.0</td>\n",
              "      <td>4.9</td>\n",
              "      <td>cloudy</td>\n",
              "      <td>2.9</td>\n",
              "      <td>yes</td>\n",
              "      <td>3209</td>\n",
              "      <td>0</td>\n",
              "      <td>0</td>\n",
              "      <td>yes</td>\n",
              "      <td>died</td>\n",
              "    </tr>\n",
              "  </tbody>\n",
              "</table>\n",
              "</div>"
            ],
            "text/plain": [
              "   index  id surgery    age  hospital_number  rectal_temp  pulse  \\\n",
              "0      0   0     yes  adult           530001         38.1  132.0   \n",
              "1      1   1     yes  adult           533836         37.5   88.0   \n",
              "2      2   2     yes  adult           529812         38.3  120.0   \n",
              "3      3   3     yes  adult          5262541         37.1   72.0   \n",
              "4      4   4      no  adult          5299629         38.0   52.0   \n",
              "5      5   5      no  adult           529642         38.1   56.0   \n",
              "6      6   6     yes  adult           534787         38.3   36.0   \n",
              "7      7   7      no  adult           529461         39.2  114.0   \n",
              "8      8   8      no  adult           528742         37.4   48.0   \n",
              "9      9   9     yes  adult           529640         38.3  129.0   \n",
              "\n",
              "   respiratory_rate temp_of_extremities peripheral_pulse mucous_membrane  \\\n",
              "0              24.0                cool          reduced   dark_cyanotic   \n",
              "1              12.0                cool           normal   pale_cyanotic   \n",
              "2              28.0                cool          reduced       pale_pink   \n",
              "3              30.0                cold          reduced       pale_pink   \n",
              "4              48.0              normal           normal     normal_pink   \n",
              "5              32.0              normal           normal     bright_pink   \n",
              "6              16.0                cool          reduced     normal_pink   \n",
              "7              24.0                cool          reduced   pale_cyanotic   \n",
              "8              12.0                cool          reduced     normal_pink   \n",
              "9              48.0                cool          reduced       pale_pink   \n",
              "\n",
              "  capillary_refill_time          pain  peristalsis abdominal_distention  \\\n",
              "0            more_3_sec     depressed       absent               slight   \n",
              "1            more_3_sec     mild_pain       absent             moderate   \n",
              "2            less_3_sec  extreme_pain   hypomotile             moderate   \n",
              "3            more_3_sec     mild_pain   hypomotile             moderate   \n",
              "4            less_3_sec         alert   hypomotile                 none   \n",
              "5            less_3_sec     depressed   hypomotile                 none   \n",
              "6            less_3_sec   severe_pain       normal               slight   \n",
              "7            more_3_sec     mild_pain   hypomotile             moderate   \n",
              "8            less_3_sec         alert  hypermotile               slight   \n",
              "9            less_3_sec     depressed       absent             moderate   \n",
              "\n",
              "  nasogastric_tube nasogastric_reflux  nasogastric_reflux_ph  \\\n",
              "0           slight       less_1_liter                    6.5   \n",
              "1             none       more_1_liter                    2.0   \n",
              "2           slight               none                    3.5   \n",
              "3           slight       more_1_liter                    2.0   \n",
              "4           slight       less_1_liter                    7.0   \n",
              "5             none       more_1_liter                    5.0   \n",
              "6             none       more_1_liter                    2.0   \n",
              "7           slight               none                    4.5   \n",
              "8           slight       more_1_liter                    7.0   \n",
              "9           slight               none                    4.4   \n",
              "\n",
              "  rectal_exam_feces        abdomen  packed_cell_volume  total_protein  \\\n",
              "0         decreased  distend_small                57.0            8.5   \n",
              "1            absent  distend_small                33.0           64.0   \n",
              "2               NaN  distend_large                37.0            6.4   \n",
              "3         decreased  distend_small                53.0            7.0   \n",
              "4            normal         normal                47.0            7.3   \n",
              "5         decreased           firm                49.0            8.0   \n",
              "6         decreased            NaN                43.0           75.0   \n",
              "7            absent  distend_small                57.0            7.6   \n",
              "8            normal           firm                40.0            7.8   \n",
              "9               NaN            NaN                57.0            4.9   \n",
              "\n",
              "  abdomo_appearance  abdomo_protein surgical_lesion  lesion_1  lesion_2  \\\n",
              "0     serosanguious             3.4             yes      2209         0   \n",
              "1     serosanguious             2.0             yes      2208         0   \n",
              "2     serosanguious             3.4             yes      5124         0   \n",
              "3            cloudy             3.9             yes      2208         0   \n",
              "4            cloudy             2.6              no         0         0   \n",
              "5            cloudy             2.8              no         0         0   \n",
              "6            cloudy             1.0              no      3111         0   \n",
              "7     serosanguious             4.5             yes      2207         0   \n",
              "8            cloudy             2.6              no         0         0   \n",
              "9            cloudy             2.9             yes      3209         0   \n",
              "\n",
              "   lesion_3 cp_data     outcome  \n",
              "0         0      no        died  \n",
              "1         0      no  euthanized  \n",
              "2         0      no       lived  \n",
              "3         0     yes       lived  \n",
              "4         0     yes       lived  \n",
              "5         0     yes       lived  \n",
              "6         0     yes  euthanized  \n",
              "7         0     yes        died  \n",
              "8         0     yes       lived  \n",
              "9         0     yes        died  "
            ]
          },
          "execution_count": 5,
          "metadata": {},
          "output_type": "execute_result"
        }
      ],
      "source": [
        "pd.set_option('display.max_columns', None)\n",
        "pd.set_option('display.max_rows', None)\n",
        "df.head(10)"
      ]
    },
    {
      "cell_type": "markdown",
      "metadata": {
        "id": "O1qWEpEsmIsU"
      },
      "source": [
        "## 前処理"
      ]
    },
    {
      "cell_type": "markdown",
      "metadata": {
        "id": "Geqin6VhmJw9"
      },
      "source": [
        "### 欠損値の補完"
      ]
    },
    {
      "cell_type": "code",
      "execution_count": 6,
      "metadata": {
        "id": "pc9ukAPLmKkl"
      },
      "outputs": [],
      "source": [
        "def missing_values(df):\n",
        "\n",
        "    return df"
      ]
    },
    {
      "cell_type": "markdown",
      "metadata": {
        "id": "2ZLsziVQmM_s"
      },
      "source": [
        "### 外れ値の削除"
      ]
    },
    {
      "cell_type": "code",
      "execution_count": 7,
      "metadata": {
        "id": "D9RIXWdJmOBI"
      },
      "outputs": [],
      "source": [
        "def outlier(df):\n",
        "\n",
        "    return df"
      ]
    },
    {
      "cell_type": "markdown",
      "metadata": {
        "id": "L0T_RQ97XYoT"
      },
      "source": [
        "### スケーリング（標準化）"
      ]
    },
    {
      "cell_type": "markdown",
      "metadata": {
        "id": "fH7xUj12XcGU"
      },
      "source": [
        "- MinMaxScaler(正規化)"
      ]
    },
    {
      "cell_type": "code",
      "execution_count": 8,
      "metadata": {
        "id": "H2MehtAxXd61"
      },
      "outputs": [],
      "source": [
        "def scaling(df):\n",
        "    df_scale = df[numerical_features]\n",
        "    sc = MinMaxScaler()\n",
        "    df[numerical_features] = pd.DataFrame(sc.fit_transform(df_scale), columns = df_scale.columns)\n",
        "\n",
        "    return df"
      ]
    },
    {
      "cell_type": "markdown",
      "metadata": {
        "id": "evWEXqCTliXu"
      },
      "source": [
        "## 特徴量エンジニアリング"
      ]
    },
    {
      "cell_type": "markdown",
      "metadata": {
        "id": "ehRLTpCDlj_m"
      },
      "source": [
        "### 特徴量の作成"
      ]
    },
    {
      "cell_type": "code",
      "execution_count": 9,
      "metadata": {
        "id": "SJd05F70kskT"
      },
      "outputs": [],
      "source": [
        "def create_new_features(df):\n",
        "    df[\"pain\"] = df[\"pain\"].replace('slight', 'moderate')\n",
        "    df[\"peristalsis\"] = df[\"peristalsis\"].replace('distend_small', 'normal')\n",
        "    df[\"rectal_exam_feces\"] = df[\"rectal_exam_feces\"].replace('serosanguious', 'absent')\n",
        "    df[\"nasogastric_reflux\"] = df[\"nasogastric_reflux\"].replace('slight', 'none')\n",
        "\n",
        "    return df"
      ]
    },
    {
      "cell_type": "markdown",
      "metadata": {
        "id": "eWE-oFe4loLR"
      },
      "source": [
        "### カテゴリ変数のエンコーディング"
      ]
    },
    {
      "cell_type": "markdown",
      "metadata": {
        "id": "xoRllpoVJi0M"
      },
      "source": [
        "* One-HotEncoding"
      ]
    },
    {
      "cell_type": "code",
      "execution_count": 29,
      "metadata": {
        "id": "r4FeWb-aJi0N"
      },
      "outputs": [],
      "source": [
        "def one_hot_encoding(df, cat_cols):\n",
        "    df = pd.get_dummies(df, columns=cat_cols)\n",
        "    df[target_col] = df[target_col].map({'died':0,'euthanized':1,'lived':2})\n",
        "\n",
        "    return df"
      ]
    },
    {
      "cell_type": "markdown",
      "metadata": {
        "id": "sKHw_ipAlpUy"
      },
      "source": [
        "- LabelEncoding"
      ]
    },
    {
      "cell_type": "code",
      "execution_count": 24,
      "metadata": {
        "id": "uBNUcljZlmV5"
      },
      "outputs": [],
      "source": [
        "def label_encoder(df):\n",
        "    categorical_columns = df.select_dtypes(include=['object']).columns\n",
        "\n",
        "    for column in categorical_columns:\n",
        "        df[column] = df[column].fillna('').astype('str') # 欠損値の補完をする\n",
        "        le = LabelEncoder()\n",
        "        df[column] = le.fit_transform(df[column])\n",
        " \n",
        "    return df"
      ]
    },
    {
      "cell_type": "markdown",
      "metadata": {
        "id": "OVz_DZCgltFl"
      },
      "source": [
        "### 特徴量の選択"
      ]
    },
    {
      "cell_type": "markdown",
      "metadata": {
        "id": "T-uGFwI8luOC"
      },
      "source": [
        "#### 特徴量の重要度評価"
      ]
    },
    {
      "cell_type": "code",
      "execution_count": 12,
      "metadata": {
        "id": "IvbTfuG8lrYZ"
      },
      "outputs": [],
      "source": [
        "def feature_importance_evaluation(df):\n",
        "    # 訓練データをX(説明変数)とy（目的変数）に分割する\n",
        "    X = df.select_dtypes(include=['float', 'int'])\n",
        "    X = X.drop(['outcome'], axis=1) # 目的変数を指定する\n",
        "    y = target # 目的変数を指定する\n",
        "\n",
        "    for column in X.columns.tolist():\n",
        "        X[column] = X[column].apply(lambda x: np.log(x + 1))\n",
        "\n",
        "    # 特徴量の重要度評価\n",
        "    lgb = LGBMClassifier(\n",
        "        random_state=42,\n",
        "    )\n",
        "\n",
        "    lgb.fit(X, y)\n",
        "    importance = lgb.feature_importances_\n",
        "\n",
        "    feature_importance = pd.DataFrame(data=importance, index=X.columns, columns=['importance']) \\\n",
        "        .sort_values(ascending=True, by='importance')\n",
        "\n",
        "    return feature_importance"
      ]
    },
    {
      "cell_type": "markdown",
      "metadata": {
        "id": "Uu58wE5hl4MK"
      },
      "source": [
        "#### 特徴量の削除"
      ]
    },
    {
      "cell_type": "code",
      "execution_count": 13,
      "metadata": {
        "id": "LNqYHRC2l0fz"
      },
      "outputs": [],
      "source": [
        "def drop_columns(df):\n",
        "    drop_list = [\n",
        "        \n",
        "    ]\n",
        "    dropped_df = df.drop(columns=drop_list)\n",
        "\n",
        "    return dropped_df"
      ]
    },
    {
      "cell_type": "markdown",
      "metadata": {
        "id": "EzhMZ-IVmC04"
      },
      "source": [
        "### データセットの更新"
      ]
    },
    {
      "cell_type": "code",
      "execution_count": 30,
      "metadata": {
        "id": "wtp9MwnUl_zY"
      },
      "outputs": [],
      "source": [
        "# 前処理\n",
        "df = missing_values(df)\n",
        "df = outlier(df)\n",
        "# df = scaling(df) # 標準化したい時のみ実行する\n",
        "\n",
        "# 特徴量エンジニアリング\n",
        "df = create_new_features(df)\n",
        "df = drop_columns(df)\n",
        "\n",
        "ohe_cols = [\"mucous_membrane\"] # One-Hot Encodingしたい水準数の少ないカラムを指定する\n",
        "df = one_hot_encoding(df, ohe_cols)\n",
        "df = label_encoder(df)"
      ]
    },
    {
      "cell_type": "code",
      "execution_count": 31,
      "metadata": {
        "colab": {
          "base_uri": "https://localhost:8080/",
          "height": 226
        },
        "id": "DDUYrDzpmD2t",
        "outputId": "b052c087-d0f4-4ddd-e1fe-a247466d187c"
      },
      "outputs": [
        {
          "data": {
            "text/html": [
              "<div>\n",
              "<style scoped>\n",
              "    .dataframe tbody tr th:only-of-type {\n",
              "        vertical-align: middle;\n",
              "    }\n",
              "\n",
              "    .dataframe tbody tr th {\n",
              "        vertical-align: top;\n",
              "    }\n",
              "\n",
              "    .dataframe thead th {\n",
              "        text-align: right;\n",
              "    }\n",
              "</style>\n",
              "<table border=\"1\" class=\"dataframe\">\n",
              "  <thead>\n",
              "    <tr style=\"text-align: right;\">\n",
              "      <th></th>\n",
              "      <th>index</th>\n",
              "      <th>id</th>\n",
              "      <th>surgery</th>\n",
              "      <th>age</th>\n",
              "      <th>hospital_number</th>\n",
              "      <th>rectal_temp</th>\n",
              "      <th>pulse</th>\n",
              "      <th>respiratory_rate</th>\n",
              "      <th>temp_of_extremities</th>\n",
              "      <th>peripheral_pulse</th>\n",
              "      <th>mucous_membrane</th>\n",
              "      <th>capillary_refill_time</th>\n",
              "      <th>pain</th>\n",
              "      <th>peristalsis</th>\n",
              "      <th>abdominal_distention</th>\n",
              "      <th>nasogastric_tube</th>\n",
              "      <th>nasogastric_reflux</th>\n",
              "      <th>nasogastric_reflux_ph</th>\n",
              "      <th>rectal_exam_feces</th>\n",
              "      <th>abdomen</th>\n",
              "      <th>packed_cell_volume</th>\n",
              "      <th>total_protein</th>\n",
              "      <th>abdomo_appearance</th>\n",
              "      <th>abdomo_protein</th>\n",
              "      <th>surgical_lesion</th>\n",
              "      <th>lesion_1</th>\n",
              "      <th>lesion_2</th>\n",
              "      <th>lesion_3</th>\n",
              "      <th>cp_data</th>\n",
              "      <th>outcome</th>\n",
              "    </tr>\n",
              "  </thead>\n",
              "  <tbody>\n",
              "    <tr>\n",
              "      <th>0</th>\n",
              "      <td>0</td>\n",
              "      <td>0</td>\n",
              "      <td>1</td>\n",
              "      <td>0</td>\n",
              "      <td>530001</td>\n",
              "      <td>38.1</td>\n",
              "      <td>132.0</td>\n",
              "      <td>24.0</td>\n",
              "      <td>2</td>\n",
              "      <td>4</td>\n",
              "      <td>3</td>\n",
              "      <td>3</td>\n",
              "      <td>2</td>\n",
              "      <td>1</td>\n",
              "      <td>4</td>\n",
              "      <td>3</td>\n",
              "      <td>1</td>\n",
              "      <td>6.5</td>\n",
              "      <td>2</td>\n",
              "      <td>2</td>\n",
              "      <td>57.0</td>\n",
              "      <td>8.5</td>\n",
              "      <td>3</td>\n",
              "      <td>3.4</td>\n",
              "      <td>1</td>\n",
              "      <td>2209</td>\n",
              "      <td>0</td>\n",
              "      <td>0</td>\n",
              "      <td>0</td>\n",
              "      <td>0.0</td>\n",
              "    </tr>\n",
              "    <tr>\n",
              "      <th>1</th>\n",
              "      <td>1</td>\n",
              "      <td>1</td>\n",
              "      <td>1</td>\n",
              "      <td>0</td>\n",
              "      <td>533836</td>\n",
              "      <td>37.5</td>\n",
              "      <td>88.0</td>\n",
              "      <td>12.0</td>\n",
              "      <td>2</td>\n",
              "      <td>3</td>\n",
              "      <td>5</td>\n",
              "      <td>3</td>\n",
              "      <td>4</td>\n",
              "      <td>1</td>\n",
              "      <td>1</td>\n",
              "      <td>1</td>\n",
              "      <td>2</td>\n",
              "      <td>2.0</td>\n",
              "      <td>1</td>\n",
              "      <td>2</td>\n",
              "      <td>33.0</td>\n",
              "      <td>64.0</td>\n",
              "      <td>3</td>\n",
              "      <td>2.0</td>\n",
              "      <td>1</td>\n",
              "      <td>2208</td>\n",
              "      <td>0</td>\n",
              "      <td>0</td>\n",
              "      <td>0</td>\n",
              "      <td>1.0</td>\n",
              "    </tr>\n",
              "    <tr>\n",
              "      <th>2</th>\n",
              "      <td>2</td>\n",
              "      <td>2</td>\n",
              "      <td>1</td>\n",
              "      <td>0</td>\n",
              "      <td>529812</td>\n",
              "      <td>38.3</td>\n",
              "      <td>120.0</td>\n",
              "      <td>28.0</td>\n",
              "      <td>2</td>\n",
              "      <td>4</td>\n",
              "      <td>6</td>\n",
              "      <td>2</td>\n",
              "      <td>3</td>\n",
              "      <td>4</td>\n",
              "      <td>1</td>\n",
              "      <td>3</td>\n",
              "      <td>3</td>\n",
              "      <td>3.5</td>\n",
              "      <td>0</td>\n",
              "      <td>1</td>\n",
              "      <td>37.0</td>\n",
              "      <td>6.4</td>\n",
              "      <td>3</td>\n",
              "      <td>3.4</td>\n",
              "      <td>1</td>\n",
              "      <td>5124</td>\n",
              "      <td>0</td>\n",
              "      <td>0</td>\n",
              "      <td>0</td>\n",
              "      <td>2.0</td>\n",
              "    </tr>\n",
              "    <tr>\n",
              "      <th>3</th>\n",
              "      <td>3</td>\n",
              "      <td>3</td>\n",
              "      <td>1</td>\n",
              "      <td>0</td>\n",
              "      <td>5262541</td>\n",
              "      <td>37.1</td>\n",
              "      <td>72.0</td>\n",
              "      <td>30.0</td>\n",
              "      <td>1</td>\n",
              "      <td>4</td>\n",
              "      <td>6</td>\n",
              "      <td>3</td>\n",
              "      <td>4</td>\n",
              "      <td>4</td>\n",
              "      <td>1</td>\n",
              "      <td>3</td>\n",
              "      <td>2</td>\n",
              "      <td>2.0</td>\n",
              "      <td>2</td>\n",
              "      <td>2</td>\n",
              "      <td>53.0</td>\n",
              "      <td>7.0</td>\n",
              "      <td>2</td>\n",
              "      <td>3.9</td>\n",
              "      <td>1</td>\n",
              "      <td>2208</td>\n",
              "      <td>0</td>\n",
              "      <td>0</td>\n",
              "      <td>1</td>\n",
              "      <td>2.0</td>\n",
              "    </tr>\n",
              "    <tr>\n",
              "      <th>4</th>\n",
              "      <td>4</td>\n",
              "      <td>4</td>\n",
              "      <td>0</td>\n",
              "      <td>0</td>\n",
              "      <td>5299629</td>\n",
              "      <td>38.0</td>\n",
              "      <td>52.0</td>\n",
              "      <td>48.0</td>\n",
              "      <td>3</td>\n",
              "      <td>3</td>\n",
              "      <td>4</td>\n",
              "      <td>2</td>\n",
              "      <td>1</td>\n",
              "      <td>4</td>\n",
              "      <td>2</td>\n",
              "      <td>3</td>\n",
              "      <td>1</td>\n",
              "      <td>7.0</td>\n",
              "      <td>4</td>\n",
              "      <td>4</td>\n",
              "      <td>47.0</td>\n",
              "      <td>7.3</td>\n",
              "      <td>2</td>\n",
              "      <td>2.6</td>\n",
              "      <td>0</td>\n",
              "      <td>0</td>\n",
              "      <td>0</td>\n",
              "      <td>0</td>\n",
              "      <td>1</td>\n",
              "      <td>2.0</td>\n",
              "    </tr>\n",
              "  </tbody>\n",
              "</table>\n",
              "</div>"
            ],
            "text/plain": [
              "   index  id  surgery  age  hospital_number  rectal_temp  pulse  \\\n",
              "0      0   0        1    0           530001         38.1  132.0   \n",
              "1      1   1        1    0           533836         37.5   88.0   \n",
              "2      2   2        1    0           529812         38.3  120.0   \n",
              "3      3   3        1    0          5262541         37.1   72.0   \n",
              "4      4   4        0    0          5299629         38.0   52.0   \n",
              "\n",
              "   respiratory_rate  temp_of_extremities  peripheral_pulse  mucous_membrane  \\\n",
              "0              24.0                    2                 4                3   \n",
              "1              12.0                    2                 3                5   \n",
              "2              28.0                    2                 4                6   \n",
              "3              30.0                    1                 4                6   \n",
              "4              48.0                    3                 3                4   \n",
              "\n",
              "   capillary_refill_time  pain  peristalsis  abdominal_distention  \\\n",
              "0                      3     2            1                     4   \n",
              "1                      3     4            1                     1   \n",
              "2                      2     3            4                     1   \n",
              "3                      3     4            4                     1   \n",
              "4                      2     1            4                     2   \n",
              "\n",
              "   nasogastric_tube  nasogastric_reflux  nasogastric_reflux_ph  \\\n",
              "0                 3                   1                    6.5   \n",
              "1                 1                   2                    2.0   \n",
              "2                 3                   3                    3.5   \n",
              "3                 3                   2                    2.0   \n",
              "4                 3                   1                    7.0   \n",
              "\n",
              "   rectal_exam_feces  abdomen  packed_cell_volume  total_protein  \\\n",
              "0                  2        2                57.0            8.5   \n",
              "1                  1        2                33.0           64.0   \n",
              "2                  0        1                37.0            6.4   \n",
              "3                  2        2                53.0            7.0   \n",
              "4                  4        4                47.0            7.3   \n",
              "\n",
              "   abdomo_appearance  abdomo_protein  surgical_lesion  lesion_1  lesion_2  \\\n",
              "0                  3             3.4                1      2209         0   \n",
              "1                  3             2.0                1      2208         0   \n",
              "2                  3             3.4                1      5124         0   \n",
              "3                  2             3.9                1      2208         0   \n",
              "4                  2             2.6                0         0         0   \n",
              "\n",
              "   lesion_3  cp_data  outcome  \n",
              "0         0        0      0.0  \n",
              "1         0        0      1.0  \n",
              "2         0        0      2.0  \n",
              "3         0        1      2.0  \n",
              "4         0        1      2.0  "
            ]
          },
          "execution_count": 31,
          "metadata": {},
          "output_type": "execute_result"
        }
      ],
      "source": [
        "train = df[df.loc[:, 'id'] < 1235]\n",
        "test = df[df.loc[:, 'id'] >= 1235]\n",
        "\n",
        "train_x = train.drop(columns=['outcome', 'id'])\n",
        "train_y = target\n",
        "test_x = test.drop(columns=['outcome', 'id'])\n",
        "\n",
        "X = train_x.values\n",
        "y = train_y.values\n",
        "# y = y.astype(int)\n",
        "\n",
        "df.head()"
      ]
    },
    {
      "cell_type": "code",
      "execution_count": 20,
      "metadata": {
        "colab": {
          "base_uri": "https://localhost:8080/",
          "height": 1000
        },
        "id": "yIlQ3t2-mxBU",
        "outputId": "8e797230-0543-460e-e758-3d261213005c"
      },
      "outputs": [
        {
          "ename": "",
          "evalue": "",
          "output_type": "error",
          "traceback": [
            "\u001b[1;31m現在のセルまたは前のセルでコードを実行中に、カーネルがクラッシュしました。エラーの原因を特定するには、セル内のコードを確認してください。詳細については、<a href='https://aka.ms/vscodeJupyterKernelCrash'>こちら</a> をクリックしてください。さらなる詳細については、Jupyter [log] (command:jupyter.viewOutput) を参照してください。"
          ]
        }
      ],
      "source": [
        "# 特徴量の重要度評価\n",
        "train_importance = train.drop(['id'], axis=1)\n",
        "feature_importance = feature_importance_evaluation(train_importance)\n",
        "feature_importance"
      ]
    },
    {
      "cell_type": "code",
      "execution_count": null,
      "metadata": {
        "colab": {
          "base_uri": "https://localhost:8080/",
          "height": 822
        },
        "id": "kUDkAd58nOmV",
        "outputId": "24a5a60b-0313-478b-fc83-a0b22fa91cf6"
      },
      "outputs": [
        {
          "data": {
            "text/plain": [
              "<Axes: >"
            ]
          },
          "execution_count": 61,
          "metadata": {},
          "output_type": "execute_result"
        },
        {
          "data": {
            "image/png": "[encoded data removed]",
            "text/plain": [
              "<Figure size 1000x1500 with 1 Axes>"
            ]
          },
          "metadata": {},
          "output_type": "display_data"
        }
      ],
      "source": [
        "feature_importance.plot(kind='barh', figsize=(10, 15), color='b')"
      ]
    },
    {
      "cell_type": "code",
      "execution_count": 32,
      "metadata": {
        "id": "DVYEwrPUnW9Q"
      },
      "outputs": [],
      "source": [
        "df.to_csv(OUTPUT_DIR + 'data.csv', index=False)"
      ]
    },
    {
      "cell_type": "code",
      "execution_count": 33,
      "metadata": {
        "id": "zxBoX1zbnYUl"
      },
      "outputs": [],
      "source": [
        "def file_to_xy(filename):\n",
        "    data = pd.read_csv(filename, index_col=0)\n",
        "    print(f'読み込み完了 {filename}')\n",
        "    train = data[:1235].reset_index(drop=True)\n",
        "    test = data[1235:].reset_index(drop=True).drop('outcome', axis=1) # 目的変数を指定する\n",
        "    # 目的変数と説明変数に分割\n",
        "    X = train.drop('outcome', axis=1) # 目的変数を指定する\n",
        "    y = train['outcome'].values # 目的変数を指定する\n",
        "\n",
        "    return data,test,train,X,y"
      ]
    },
    {
      "cell_type": "code",
      "execution_count": 34,
      "metadata": {
        "colab": {
          "base_uri": "https://localhost:8080/"
        },
        "id": "DRZhqQjJnfme",
        "outputId": "a9397948-1e7d-44bf-940e-90c6d3e9470e"
      },
      "outputs": [
        {
          "name": "stdout",
          "output_type": "stream",
          "text": [
            "読み込み完了 /Users/ootsuka/Desktop/プログラミング/Kaggle/馬の健康への影響を予測する/output/data.csv\n"
          ]
        }
      ],
      "source": [
        "filename = 'data.csv'\n",
        "data,test,train,X,y = file_to_xy(OUTPUT_DIR + filename)"
      ]
    },
    {
      "cell_type": "code",
      "execution_count": 36,
      "metadata": {
        "colab": {
          "base_uri": "https://localhost:8080/"
        },
        "id": "aGQmNjnTA3rg",
        "outputId": "0ec971c1-e54c-4ec5-b340-4e2608e6a5a1"
      },
      "outputs": [
        {
          "name": "stdout",
          "output_type": "stream",
          "text": [
            "読み込み完了 /Users/ootsuka/Desktop/プログラミング/Kaggle/馬の健康への影響を予測する/output/data.csv\n"
          ]
        }
      ],
      "source": [
        "import pandas as pd\n",
        "from xgboost import XGBClassifier # モデル作成\n",
        "\n",
        "def file_to_xy(filename):\n",
        "    data = pd.read_csv(filename, index_col=0)\n",
        "    print(f'読み込み完了 {filename}')\n",
        "    train = data[:1235].reset_index(drop=True)\n",
        "    test = data[1235:].reset_index(drop=True).drop('outcome', axis=1) # 目的変数を指定する\n",
        "    # 目的変数と説明変数に分割\n",
        "    X = train.drop('outcome', axis=1) # 目的変数を指定する\n",
        "    y = train['outcome'].values # 目的変数を指定する\n",
        "\n",
        "    return data,test,train,X,y\n",
        "\n",
        "filename = 'data.csv'\n",
        "data,test,train,X,y = file_to_xy(OUTPUT_DIR + filename)\n",
        "\n",
        "# モデル作成\n",
        "model = XGBClassifier(n_estimators=20, random_state=42)\n",
        "model.fit(X, y)\n",
        "\n",
        "pred = model.predict_proba(test)\n",
        "pred = pd.DataFrame(pred)\n",
        "\n",
        "df_map = pd.DataFrame([[0, 'died'],\n",
        "    [1, 'euthanized'],\n",
        "    [2, 'lived']],\n",
        "    columns=['num', 'str'])\n",
        "# pred.head()\n",
        "\n",
        "# 提出\n",
        "submission_df = pd.DataFrame()\n",
        "submission_df = pred\n",
        "submission_df['id'] = test_id\n",
        "submission_df = submission_df['id'].apply(lambda x: int(x))\n",
        "submission_df = pd.concat([pred], axis=1)\n",
        "# submission_df.head()\n",
        "\n",
        "submission_df.to_csv(OUTPUT_DIR + 'submission.csv', index=False)"
      ]
    },
    {
      "cell_type": "code",
      "execution_count": null,
      "metadata": {
        "id": "pyuH0_wOLQrA"
      },
      "outputs": [],
      "source": []
    }
  ],
  "metadata": {
    "colab": {
      "provenance": []
    },
    "kernelspec": {
      "display_name": "Python 3",
      "name": "python3"
    },
    "language_info": {
      "codemirror_mode": {
        "name": "ipython",
        "version": 3
      },
      "file_extension": ".py",
      "mimetype": "text/x-python",
      "name": "python",
      "nbconvert_exporter": "python",
      "pygments_lexer": "ipython3",
      "version": "3.11.5"
    }
  },
  "nbformat": 4,
  "nbformat_minor": 0
}

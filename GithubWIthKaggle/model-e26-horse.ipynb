{
 "cells": [
  {
   "cell_type": "code",
   "execution_count": 1,
   "id": "baa13adc",
   "metadata": {
    "_cell_guid": "b1076dfc-b9ad-4769-8c92-a6c4dae69d19",
    "_uuid": "8f2839f25d086af736a60e9eeb907d3b93b6e0e5",
    "execution": {
     "iopub.execute_input": "2023-12-26T10:30:01.433398Z",
     "iopub.status.busy": "2023-12-26T10:30:01.432098Z",
     "iopub.status.idle": "2023-12-26T10:30:01.885535Z",
     "shell.execute_reply": "2023-12-26T10:30:01.883443Z"
    },
    "papermill": {
     "duration": 0.470852,
     "end_time": "2023-12-26T10:30:01.889770",
     "exception": false,
     "start_time": "2023-12-26T10:30:01.418918",
     "status": "completed"
    },
    "tags": []
   },
   "outputs": [
    {
     "name": "stdout",
     "output_type": "stream",
     "text": [
      "/kaggle/input/playground-series-s3e22/sample_submission.csv\n",
      "/kaggle/input/playground-series-s3e22/train.csv\n",
      "/kaggle/input/playground-series-s3e22/test.csv\n"
     ]
    }
   ],
   "source": [
    "# This Python 3 environment comes with many helpful analytics libraries installed\n",
    "# It is defined by the kaggle/python Docker image: https://github.com/kaggle/docker-python\n",
    "# For example, here's several helpful packages to load\n",
    "\n",
    "import numpy as np # linear algebra\n",
    "import pandas as pd # data processing, CSV file I/O (e.g. pd.read_csv)\n",
    "\n",
    "# Input data files are available in the read-only \"../input/\" directory\n",
    "# For example, running this (by clicking run or pressing Shift+Enter) will list all files under the input directory\n",
    "\n",
    "import os\n",
    "for dirname, _, filenames in os.walk('/kaggle/input'):\n",
    "    for filename in filenames:\n",
    "        print(os.path.join(dirname, filename))\n",
    "\n",
    "# You can write up to 20GB to the current directory (/kaggle/working/) that gets preserved as output when you create a version using \"Save & Run All\" \n",
    "# You can also write temporary files to /kaggle/temp/, but they won't be saved outside of the current session"
   ]
  },
  {
   "cell_type": "markdown",
   "id": "e45dfe5e",
   "metadata": {
    "papermill": {
     "duration": 0.009928,
     "end_time": "2023-12-26T10:30:01.910636",
     "exception": false,
     "start_time": "2023-12-26T10:30:01.900708",
     "status": "completed"
    },
    "tags": []
   },
   "source": [
    "# **馬の健康への影響を予測する**\n",
    "[Predict Health Outcomes of Horses](https://www.kaggle.com/competitions/playground-series-s3e22/overview)"
   ]
  },
  {
   "cell_type": "markdown",
   "id": "f6007d5a",
   "metadata": {
    "papermill": {
     "duration": 0.009947,
     "end_time": "2023-12-26T10:30:01.930818",
     "exception": false,
     "start_time": "2023-12-26T10:30:01.920871",
     "status": "completed"
    },
    "tags": []
   },
   "source": [
    "# 参考資料\n",
    "**書籍**\n",
    "\n",
    "\n",
    "**Kaggle**\n",
    "- [PS3E22 | Multi-Class Classification for Beginners](https://www.kaggle.com/code/iqbalsyahakbar/ps3e22-multi-class-classification-for-beginners)\n",
    "- [🐎 Horse Health: A beginner friendly guide 🩺](https://www.kaggle.com/code/kacperrabczewski/horse-health-a-beginner-friendly-guide)\n",
    "\n",
    "\n",
    "**自分で作成したファイル**\n",
    "- Home_Credit_Default_Risk\n",
    "- 肝硬変の転帰の多クラス予測\n",
    "\n",
    "**その他**\n"
   ]
  },
  {
   "cell_type": "markdown",
   "id": "1925f01b",
   "metadata": {
    "papermill": {
     "duration": 0.009762,
     "end_time": "2023-12-26T10:30:01.950718",
     "exception": false,
     "start_time": "2023-12-26T10:30:01.940956",
     "status": "completed"
    },
    "tags": []
   },
   "source": [
    "- processor.pyの実行\n",
    "- モデルの構築\n",
    "- バリデーション・ハイパーパラメータ\n",
    "- 予測・提出"
   ]
  },
  {
   "cell_type": "code",
   "execution_count": 2,
   "id": "0d2b58fb",
   "metadata": {
    "execution": {
     "iopub.execute_input": "2023-12-26T10:30:01.974250Z",
     "iopub.status.busy": "2023-12-26T10:30:01.972672Z",
     "iopub.status.idle": "2023-12-26T10:30:05.191879Z",
     "shell.execute_reply": "2023-12-26T10:30:05.190547Z"
    },
    "papermill": {
     "duration": 3.233569,
     "end_time": "2023-12-26T10:30:05.194538",
     "exception": false,
     "start_time": "2023-12-26T10:30:01.960969",
     "status": "completed"
    },
    "tags": []
   },
   "outputs": [
    {
     "name": "stdout",
     "output_type": "stream",
     "text": [
      "読み込み完了 /kaggle/working/data.csv\n"
     ]
    }
   ],
   "source": [
    "# 処理\n",
    "import numpy as np\n",
    "import pandas as pd\n",
    "\n",
    "import warnings\n",
    "warnings.filterwarnings('ignore')\n",
    "\n",
    "from sklearn.preprocessing import LabelEncoder, MinMaxScaler\n",
    "from lightgbm import LGBMClassifier # 特徴量の重要度評価で用いる\n",
    "\n",
    "import datetime\n",
    "import time\n",
    "import math\n",
    "\n",
    "start_time = time.time()\n",
    "\n",
    "def changeHMS(s):\n",
    "    h = math.floor(s / 3600)\n",
    "    if h > 0:\n",
    "        s = s - h * 3600\n",
    "        indi_h = str(h) + 'h'\n",
    "    else:\n",
    "        indi_h = ''\n",
    "    m = math.floor(s / 60)\n",
    "    if m > 0:\n",
    "        indi_m = str(m) + 'm'\n",
    "    else:\n",
    "        indi_m = ''\n",
    "    s = math.floor(s % 60)\n",
    "    time = indi_h + indi_m + str(s) + 's'\n",
    "    return time\n",
    "\n",
    "FILE_PATH = '/kaggle/input/playground-series-s3e22/'\n",
    "OUTPUT_DIR = '/kaggle/working/'\n",
    "\n",
    "train = pd.read_csv(FILE_PATH + 'train.csv')\n",
    "test = pd.read_csv(FILE_PATH + 'test.csv')\n",
    "\n",
    "train_id = train['id']\n",
    "\n",
    "test_id = test['id']\n",
    "\n",
    "target = train['outcome']\n",
    "target_col = 'outcome'\n",
    "\n",
    "target_name = str(train.iloc[:, [18]].columns.tolist()) # カラム数-2の値が目的変数\n",
    "\n",
    "df = pd.concat([train, test], axis=0)\n",
    "df.reset_index(inplace=True)\n",
    "\n",
    "# 説明変数をデータ型ごとに代入する\n",
    "numerical_features = df._get_numeric_data().columns\n",
    "categorical_features = df.drop(numerical_features, axis=1).columns\n",
    "\n",
    "numerical_features = numerical_features.drop('id')\n",
    "\n",
    "def missing_values(df):\n",
    "\n",
    "    return df\n",
    "\n",
    "def outlier(df):\n",
    "    df['lesion_2'] = df['lesion_2'].apply(lambda x: 1 if x>0 else 0)\n",
    "\n",
    "    return df\n",
    "\n",
    "def scaling(df):\n",
    "    df_scale = df[numerical_features]\n",
    "    sc = MinMaxScaler()\n",
    "    df[numerical_features] = pd.DataFrame(sc.fit_transform(df_scale), columns = df_scale.columns)\n",
    "\n",
    "    return df\n",
    "\n",
    "def create_new_features(df):\n",
    "    df[\"pain\"] = df[\"pain\"].replace('slight', 'moderate')\n",
    "    df[\"peristalsis\"] = df[\"peristalsis\"].replace('distend_small', 'normal')\n",
    "    df[\"rectal_exam_feces\"] = df[\"rectal_exam_feces\"].replace('serosanguious', 'absent')\n",
    "    df[\"nasogastric_reflux\"] = df[\"nasogastric_reflux\"].replace('slight', 'none')\n",
    "    \n",
    "    df[\"abs_rectal_temp\"] = (df[\"rectal_temp\"] - 37.8).abs()\n",
    "\n",
    "    return df\n",
    "\n",
    "def one_hot_encoding(df, cat_cols):\n",
    "    df = pd.get_dummies(df, columns=cat_cols)\n",
    "    df[target_col] = df[target_col].map({'died':0,'euthanized':1,'lived':2})\n",
    "\n",
    "    return df\n",
    "\n",
    "def label_encoder(df):\n",
    "    categorical_columns = df.select_dtypes(include=['object']).columns\n",
    "\n",
    "    for column in categorical_columns:\n",
    "        df[column] = df[column].fillna('').astype('str') # 欠損値の補完をする\n",
    "        le = LabelEncoder()\n",
    "        df[column] = le.fit_transform(df[column])\n",
    "\n",
    "    return df\n",
    "\n",
    "def feature_importance_evaluation(df):\n",
    "    # 訓練データをX(説明変数)とy（目的変数）に分割する\n",
    "    X = df.select_dtypes(include=['float', 'int'])\n",
    "    X = X.drop(['outcome'], axis=1) # 目的変数を指定する\n",
    "    y = target # 目的変数を指定する\n",
    "\n",
    "    for column in X.columns.tolist():\n",
    "        X[column] = X[column].apply(lambda x: np.log(x + 1))\n",
    "\n",
    "    # 特徴量の重要度評価\n",
    "    lgb = LGBMClassifier(\n",
    "        random_state=42,\n",
    "    )\n",
    "\n",
    "    lgb.fit(X, y)\n",
    "    importance = lgb.feature_importances_\n",
    "\n",
    "    feature_importance = pd.DataFrame(data=importance, index=X.columns, columns=['importance']) \\\n",
    "        .sort_values(ascending=True, by='importance')\n",
    "\n",
    "    return feature_importance\n",
    "\n",
    "def drop_columns(df):\n",
    "    drop_list = [\n",
    "        'lesion_3', 'rectal_temp',\n",
    "    ]\n",
    "    dropped_df = df.drop(columns=drop_list)\n",
    "\n",
    "    return dropped_df\n",
    "\n",
    "# 前処理\n",
    "df = missing_values(df)\n",
    "df = outlier(df)\n",
    "df = scaling(df) # 標準化したい時のみ実行する\n",
    "\n",
    "# 特徴量エンジニアリング\n",
    "df = create_new_features(df)\n",
    "df = drop_columns(df)\n",
    "\n",
    "ohe_cols = [\"mucous_membrane\"] # One-Hot Encodingしたい水準数の少ないカラムを指定する\n",
    "df = one_hot_encoding(df, ohe_cols)\n",
    "df = label_encoder(df)\n",
    "\n",
    "train = df[df.loc[:, 'id'] < 1235]\n",
    "test = df[df.loc[:, 'id'] >= 1235]\n",
    "\n",
    "train_x = train.drop(columns=['outcome', 'id'])\n",
    "train_y = target\n",
    "test_x = test.drop(columns=['outcome', 'id'])\n",
    "\n",
    "X = train_x.values\n",
    "y = train_y.values\n",
    "# y = y.astype(int)\n",
    "\n",
    "df.to_csv(OUTPUT_DIR + 'data.csv', index=False)\n",
    "\n",
    "def file_to_xy(filename):\n",
    "    data = pd.read_csv(filename, index_col=0)\n",
    "    print(f'読み込み完了 {filename}')\n",
    "    train = data[data.loc[:, 'id'] < 1235].reset_index(drop=True)\n",
    "    test = data[data.loc[:, 'id'] >= 1235].reset_index(drop=True).drop('outcome', axis=1) # 目的変数を指定する\n",
    "    # 目的変数と説明変数に分割\n",
    "    X = train.drop('outcome', axis=1) # 目的変数を指定する\n",
    "    y = train['outcome'].values # 目的変数を指定する\n",
    "\n",
    "    return data,test,train,X,y\n",
    "\n",
    "filename = 'data.csv'\n",
    "data,test,train,X,y = file_to_xy(OUTPUT_DIR + filename)"
   ]
  },
  {
   "cell_type": "markdown",
   "id": "cb715ad3",
   "metadata": {
    "papermill": {
     "duration": 0.01078,
     "end_time": "2023-12-26T10:30:05.215615",
     "exception": false,
     "start_time": "2023-12-26T10:30:05.204835",
     "status": "completed"
    },
    "tags": []
   },
   "source": [
    "# モデルの構築"
   ]
  },
  {
   "cell_type": "code",
   "execution_count": 3,
   "id": "83873c2d",
   "metadata": {
    "execution": {
     "iopub.execute_input": "2023-12-26T10:30:05.238820Z",
     "iopub.status.busy": "2023-12-26T10:30:05.238360Z",
     "iopub.status.idle": "2023-12-26T10:30:07.850530Z",
     "shell.execute_reply": "2023-12-26T10:30:07.849286Z"
    },
    "papermill": {
     "duration": 2.627338,
     "end_time": "2023-12-26T10:30:07.853904",
     "exception": false,
     "start_time": "2023-12-26T10:30:05.226566",
     "status": "completed"
    },
    "tags": []
   },
   "outputs": [],
   "source": [
    "import pandas as pd\n",
    "import numpy as np\n",
    "\n",
    "from sklearn.preprocessing import OrdinalEncoder\n",
    "from sklearn.model_selection import train_test_split, cross_val_score\n",
    "from sklearn.ensemble import StackingClassifier\n",
    "from sklearn.pipeline import make_pipeline\n",
    "from sklearn.impute import SimpleImputer\n",
    "from sklearn.metrics import f1_score\n",
    "\n",
    "import scipy.stats as stats\n",
    "\n",
    "import matplotlib.pyplot as plt\n",
    "import seaborn as sns\n",
    "\n",
    "import optuna\n",
    "from xgboost import XGBClassifier\n",
    "from lightgbm import LGBMClassifier\n",
    "from catboost import CatBoostClassifier"
   ]
  },
  {
   "cell_type": "markdown",
   "id": "6770f5c3",
   "metadata": {
    "papermill": {
     "duration": 0.010225,
     "end_time": "2023-12-26T10:30:07.878426",
     "exception": false,
     "start_time": "2023-12-26T10:30:07.868201",
     "status": "completed"
    },
    "tags": []
   },
   "source": [
    "<div style=\"border-radius: 10px; border: #27374D solid; padding: 15px; background-color: #ffffff00; font-size: 100%; text-align: left;\">\n",
    "    <b>📉 ターゲットの形状 :</b> <code>OrdinalEncoder</code> の入力は形状が (n, 1) である必要があります。もし <b>y_train</b> が形状が (n, ) の pandas の <i>Series</i> である場合、それを numpy 配列に変換する必要があります。これには <code>.values</code> を使用してから、所望の形状にリシェープします。最後に、<code>LGBMClassifier</code> モデルがトレーニングデータをタプル形状で必要とするため、<code>ravel()</code> を使用して、(n, 1) の numpy 配列を (n, ) にフラット化します。\n",
    "</div>\n"
   ]
  },
  {
   "cell_type": "code",
   "execution_count": 4,
   "id": "7da11e38",
   "metadata": {
    "execution": {
     "iopub.execute_input": "2023-12-26T10:30:07.902137Z",
     "iopub.status.busy": "2023-12-26T10:30:07.901219Z",
     "iopub.status.idle": "2023-12-26T10:30:07.908836Z",
     "shell.execute_reply": "2023-12-26T10:30:07.907782Z"
    },
    "papermill": {
     "duration": 0.02308,
     "end_time": "2023-12-26T10:30:07.912025",
     "exception": false,
     "start_time": "2023-12-26T10:30:07.888945",
     "status": "completed"
    },
    "tags": []
   },
   "outputs": [],
   "source": [
    "# idも使用するみたいだから、新しく設定する\n",
    "\n",
    "X_train = train.drop(columns='outcome')\n",
    "y_train = train[['outcome']]"
   ]
  },
  {
   "cell_type": "code",
   "execution_count": 5,
   "id": "0a2a94b0",
   "metadata": {
    "execution": {
     "iopub.execute_input": "2023-12-26T10:30:07.937561Z",
     "iopub.status.busy": "2023-12-26T10:30:07.936672Z",
     "iopub.status.idle": "2023-12-26T10:30:07.971071Z",
     "shell.execute_reply": "2023-12-26T10:30:07.970138Z"
    },
    "papermill": {
     "duration": 0.049001,
     "end_time": "2023-12-26T10:30:07.973514",
     "exception": false,
     "start_time": "2023-12-26T10:30:07.924513",
     "status": "completed"
    },
    "tags": []
   },
   "outputs": [
    {
     "data": {
      "text/html": [
       "<div>\n",
       "<style scoped>\n",
       "    .dataframe tbody tr th:only-of-type {\n",
       "        vertical-align: middle;\n",
       "    }\n",
       "\n",
       "    .dataframe tbody tr th {\n",
       "        vertical-align: top;\n",
       "    }\n",
       "\n",
       "    .dataframe thead th {\n",
       "        text-align: right;\n",
       "    }\n",
       "</style>\n",
       "<table border=\"1\" class=\"dataframe\">\n",
       "  <thead>\n",
       "    <tr style=\"text-align: right;\">\n",
       "      <th></th>\n",
       "      <th>id</th>\n",
       "      <th>surgery</th>\n",
       "      <th>age</th>\n",
       "      <th>hospital_number</th>\n",
       "      <th>pulse</th>\n",
       "      <th>respiratory_rate</th>\n",
       "      <th>temp_of_extremities</th>\n",
       "      <th>peripheral_pulse</th>\n",
       "      <th>capillary_refill_time</th>\n",
       "      <th>pain</th>\n",
       "      <th>...</th>\n",
       "      <th>lesion_1</th>\n",
       "      <th>lesion_2</th>\n",
       "      <th>cp_data</th>\n",
       "      <th>abs_rectal_temp</th>\n",
       "      <th>mucous_membrane_bright_pink</th>\n",
       "      <th>mucous_membrane_bright_red</th>\n",
       "      <th>mucous_membrane_dark_cyanotic</th>\n",
       "      <th>mucous_membrane_normal_pink</th>\n",
       "      <th>mucous_membrane_pale_cyanotic</th>\n",
       "      <th>mucous_membrane_pale_pink</th>\n",
       "    </tr>\n",
       "  </thead>\n",
       "  <tbody>\n",
       "    <tr>\n",
       "      <th>0</th>\n",
       "      <td>0</td>\n",
       "      <td>1</td>\n",
       "      <td>0</td>\n",
       "      <td>0.001798</td>\n",
       "      <td>0.662338</td>\n",
       "      <td>0.181818</td>\n",
       "      <td>2</td>\n",
       "      <td>4</td>\n",
       "      <td>3</td>\n",
       "      <td>2</td>\n",
       "      <td>...</td>\n",
       "      <td>0.053734</td>\n",
       "      <td>0.0</td>\n",
       "      <td>0</td>\n",
       "      <td>37.300000</td>\n",
       "      <td>False</td>\n",
       "      <td>False</td>\n",
       "      <td>True</td>\n",
       "      <td>False</td>\n",
       "      <td>False</td>\n",
       "      <td>False</td>\n",
       "    </tr>\n",
       "    <tr>\n",
       "      <th>1</th>\n",
       "      <td>1</td>\n",
       "      <td>1</td>\n",
       "      <td>0</td>\n",
       "      <td>0.002600</td>\n",
       "      <td>0.376623</td>\n",
       "      <td>0.045455</td>\n",
       "      <td>2</td>\n",
       "      <td>3</td>\n",
       "      <td>3</td>\n",
       "      <td>4</td>\n",
       "      <td>...</td>\n",
       "      <td>0.053710</td>\n",
       "      <td>0.0</td>\n",
       "      <td>0</td>\n",
       "      <td>37.411111</td>\n",
       "      <td>False</td>\n",
       "      <td>False</td>\n",
       "      <td>False</td>\n",
       "      <td>False</td>\n",
       "      <td>True</td>\n",
       "      <td>False</td>\n",
       "    </tr>\n",
       "    <tr>\n",
       "      <th>2</th>\n",
       "      <td>2</td>\n",
       "      <td>1</td>\n",
       "      <td>0</td>\n",
       "      <td>0.001759</td>\n",
       "      <td>0.584416</td>\n",
       "      <td>0.227273</td>\n",
       "      <td>2</td>\n",
       "      <td>4</td>\n",
       "      <td>2</td>\n",
       "      <td>3</td>\n",
       "      <td>...</td>\n",
       "      <td>0.124641</td>\n",
       "      <td>0.0</td>\n",
       "      <td>0</td>\n",
       "      <td>37.262963</td>\n",
       "      <td>False</td>\n",
       "      <td>False</td>\n",
       "      <td>False</td>\n",
       "      <td>False</td>\n",
       "      <td>False</td>\n",
       "      <td>True</td>\n",
       "    </tr>\n",
       "    <tr>\n",
       "      <th>3</th>\n",
       "      <td>3</td>\n",
       "      <td>1</td>\n",
       "      <td>0</td>\n",
       "      <td>0.991097</td>\n",
       "      <td>0.272727</td>\n",
       "      <td>0.250000</td>\n",
       "      <td>1</td>\n",
       "      <td>4</td>\n",
       "      <td>3</td>\n",
       "      <td>4</td>\n",
       "      <td>...</td>\n",
       "      <td>0.053710</td>\n",
       "      <td>0.0</td>\n",
       "      <td>1</td>\n",
       "      <td>37.485185</td>\n",
       "      <td>False</td>\n",
       "      <td>False</td>\n",
       "      <td>False</td>\n",
       "      <td>False</td>\n",
       "      <td>False</td>\n",
       "      <td>True</td>\n",
       "    </tr>\n",
       "    <tr>\n",
       "      <th>4</th>\n",
       "      <td>4</td>\n",
       "      <td>0</td>\n",
       "      <td>0</td>\n",
       "      <td>0.998850</td>\n",
       "      <td>0.142857</td>\n",
       "      <td>0.454545</td>\n",
       "      <td>3</td>\n",
       "      <td>3</td>\n",
       "      <td>2</td>\n",
       "      <td>1</td>\n",
       "      <td>...</td>\n",
       "      <td>0.000000</td>\n",
       "      <td>0.0</td>\n",
       "      <td>1</td>\n",
       "      <td>37.318519</td>\n",
       "      <td>False</td>\n",
       "      <td>False</td>\n",
       "      <td>False</td>\n",
       "      <td>True</td>\n",
       "      <td>False</td>\n",
       "      <td>False</td>\n",
       "    </tr>\n",
       "  </tbody>\n",
       "</table>\n",
       "<p>5 rows × 32 columns</p>\n",
       "</div>"
      ],
      "text/plain": [
       "   id  surgery  age  hospital_number     pulse  respiratory_rate  \\\n",
       "0   0        1    0         0.001798  0.662338          0.181818   \n",
       "1   1        1    0         0.002600  0.376623          0.045455   \n",
       "2   2        1    0         0.001759  0.584416          0.227273   \n",
       "3   3        1    0         0.991097  0.272727          0.250000   \n",
       "4   4        0    0         0.998850  0.142857          0.454545   \n",
       "\n",
       "   temp_of_extremities  peripheral_pulse  capillary_refill_time  pain  ...  \\\n",
       "0                    2                 4                      3     2  ...   \n",
       "1                    2                 3                      3     4  ...   \n",
       "2                    2                 4                      2     3  ...   \n",
       "3                    1                 4                      3     4  ...   \n",
       "4                    3                 3                      2     1  ...   \n",
       "\n",
       "   lesion_1  lesion_2  cp_data  abs_rectal_temp  mucous_membrane_bright_pink  \\\n",
       "0  0.053734       0.0        0        37.300000                        False   \n",
       "1  0.053710       0.0        0        37.411111                        False   \n",
       "2  0.124641       0.0        0        37.262963                        False   \n",
       "3  0.053710       0.0        1        37.485185                        False   \n",
       "4  0.000000       0.0        1        37.318519                        False   \n",
       "\n",
       "   mucous_membrane_bright_red  mucous_membrane_dark_cyanotic  \\\n",
       "0                       False                           True   \n",
       "1                       False                          False   \n",
       "2                       False                          False   \n",
       "3                       False                          False   \n",
       "4                       False                          False   \n",
       "\n",
       "   mucous_membrane_normal_pink  mucous_membrane_pale_cyanotic  \\\n",
       "0                        False                          False   \n",
       "1                        False                           True   \n",
       "2                        False                          False   \n",
       "3                        False                          False   \n",
       "4                         True                          False   \n",
       "\n",
       "   mucous_membrane_pale_pink  \n",
       "0                      False  \n",
       "1                      False  \n",
       "2                       True  \n",
       "3                       True  \n",
       "4                      False  \n",
       "\n",
       "[5 rows x 32 columns]"
      ]
     },
     "execution_count": 5,
     "metadata": {},
     "output_type": "execute_result"
    }
   ],
   "source": [
    "X_train = pd.DataFrame(data=X_train, columns=X_train.columns, index=train.index)\n",
    "X_train.head()"
   ]
  },
  {
   "cell_type": "markdown",
   "id": "156eccbe",
   "metadata": {
    "papermill": {
     "duration": 0.01057,
     "end_time": "2023-12-26T10:30:07.995561",
     "exception": false,
     "start_time": "2023-12-26T10:30:07.984991",
     "status": "completed"
    },
    "tags": []
   },
   "source": [
    "## バリデーション・ハイパーパラメータ"
   ]
  },
  {
   "cell_type": "code",
   "execution_count": 6,
   "id": "cb9d0e9c",
   "metadata": {
    "execution": {
     "iopub.execute_input": "2023-12-26T10:30:08.020199Z",
     "iopub.status.busy": "2023-12-26T10:30:08.018830Z",
     "iopub.status.idle": "2023-12-26T10:30:08.026290Z",
     "shell.execute_reply": "2023-12-26T10:30:08.025410Z"
    },
    "papermill": {
     "duration": 0.022177,
     "end_time": "2023-12-26T10:30:08.028959",
     "exception": false,
     "start_time": "2023-12-26T10:30:08.006782",
     "status": "completed"
    },
    "tags": []
   },
   "outputs": [],
   "source": [
    "X_train_optuna, X_val_optuna, y_train_optuna, y_val_optuna = train_test_split(X_train, y_train, test_size=0.2)"
   ]
  },
  {
   "cell_type": "markdown",
   "id": "15193aae",
   "metadata": {
    "papermill": {
     "duration": 0.010872,
     "end_time": "2023-12-26T10:30:08.050796",
     "exception": false,
     "start_time": "2023-12-26T10:30:08.039924",
     "status": "completed"
    },
    "tags": []
   },
   "source": [
    "<div style=\"border-radius: 10px; border: #7c3aed solid; padding: 15px; background-color: #ffffff00; font-size: 100%; text-align: left;\">\n",
    "    <b>📔 分割比率 :</b> プレイグラウンドで最も一般的な比率はおそらく 80/20 や 90/10 です。ここでは 80%/90% がトレーニングに使用され、残りは検証/クロスバリデーションに使用されます。ただし、これは決して固定されたものではなく、例えば非常に大きなデータセットがある場合、10万件を超える例がある場合は大きく異なります。その場合、データを 99/1 の割合で分割することもできます。なぜなら、それでも数千件の例を使用してモデルを検証できるからです。もう1つの例外は、時系列データを扱う場合です。例えば、数年間の売上記録があり、モデルを使用して翌年の各月の売上を予測する場合です。その場合、1年分のデータを検証に割り当てることが合理的です。なぜなら、実際の世界で使用されるデータに類似したデータでモデルを検証したいからです。ですので、データセットの分割方法には常に注意を払うようにしましょう。\n",
    "</div>\n"
   ]
  },
  {
   "cell_type": "code",
   "execution_count": 7,
   "id": "54ec842f",
   "metadata": {
    "execution": {
     "iopub.execute_input": "2023-12-26T10:30:08.074282Z",
     "iopub.status.busy": "2023-12-26T10:30:08.073834Z",
     "iopub.status.idle": "2023-12-26T10:30:08.085616Z",
     "shell.execute_reply": "2023-12-26T10:30:08.084485Z"
    },
    "papermill": {
     "duration": 0.026556,
     "end_time": "2023-12-26T10:30:08.088101",
     "exception": false,
     "start_time": "2023-12-26T10:30:08.061545",
     "status": "completed"
    },
    "tags": []
   },
   "outputs": [],
   "source": [
    "def objective(trial):\n",
    "#     model = LGBMClassifier(\n",
    "#         n_estimators = trial.suggest_int('n_estimators', 32, 1024),\n",
    "#         learning_rate = trial.suggest_float('learning_rate', 0.001, 0.5),\n",
    "#         max_depth = trial.suggest_int('max_depth', 1, 10),\n",
    "#         num_leaves = trial.suggest_int('num_leaves', 2, 1024),\n",
    "#         reg_lambda  = trial.suggest_float('reg_lambda', 0.001, 10),\n",
    "#         reg_alpha = trial.suggest_float('reg_alpha', 0, 10),\n",
    "#         subsample = trial.suggest_float('subsample', 0.001, 1),\n",
    "#         colsample_bytree = trial.suggest_float('colsample_bytree', 0.5, 1),\n",
    "#         min_child_samples = trial.suggest_int('min_child_samples', 2, 1024),\n",
    "#         min_child_weight = trial.suggest_int('min_child_weight', 1, 10),\n",
    "#         objective = trial.suggest_categorical('objective', ['multiclass']),\n",
    "#         metric = trial.suggest_categorical('metric', ['multi_logloss']),\n",
    "#         boosting_type = trial.suggest_categorical('boosting_type', ['gbdt']),\n",
    "#     )\n",
    "    \n",
    "#     model = CatBoostClassifier(\n",
    "#         iterations = trial.suggest_int('iterations', 32, 1024),\n",
    "#         learning_rate = trial.suggest_float('learning_rate', 0.001, 0.3),\n",
    "#         depth = trial.suggest_int('depth', 1, 10),\n",
    "#         l2_leaf_reg = trial.suggest_float('l2_leaf_reg', 0.01, 10),\n",
    "#         grow_policy = trial.suggest_categorical('grow_policy', ['Depthwise']),\n",
    "#         bootstrap_type = trial.suggest_categorical('bootstrap_type', ['Bayesian']),\n",
    "#         od_type = trial.suggest_categorical('od_type', ['Iter']),\n",
    "#         eval_metric = trial.suggest_categorical('eval_metric', ['TotalF1']),\n",
    "#         loss_function = trial.suggest_categorical('loss_function', ['MultiClass']),\n",
    "#         random_state = trial.suggest_categorical('random_state', [42]),\n",
    "#         verbose = trial.suggest_categorical('verbose', [0])\n",
    "#     )\n",
    "\n",
    "    model = XGBClassifier(\n",
    "        eta = trial.suggest_float('eta', 0.001, 0.3),\n",
    "        n_estimators = trial.suggest_int('n_estimators', 32, 1024),\n",
    "        max_depth = trial.suggest_int('max_depth', 1, 10),\n",
    "        reg_lambda = trial.suggest_float('reg_lambda', 0.01, 10),\n",
    "        subsample = trial.suggest_float('subsample', 0.01, 1),\n",
    "        min_child_weight = trial.suggest_int('min_child_weight', 1, 10),\n",
    "        colsample_bytree = trial.suggest_float('colsample_bytree', 0.01, 1),\n",
    "        objective = trial.suggest_categorical('objective', ['multi:softmax'])\n",
    "    )\n",
    "    \n",
    "    model.fit(\n",
    "        X_train_optuna, y_train_optuna,\n",
    "        eval_set=[(X_train_optuna, y_train_optuna), (X_val_optuna, y_val_optuna)],\n",
    "        verbose=0\n",
    "    )\n",
    "    \n",
    "    return f1_score(y_val_optuna, model.predict(X_val_optuna), average='micro') # micro F1 is used in this competitons for evaluation so we will use it for hyperparameter optimization\n",
    "\n",
    "# study = optuna.create_study(direction='maximize')\n",
    "# study.optimize(objective, n_trials=50)\n",
    "\n",
    "# best_hyperparams = study.best_params"
   ]
  },
  {
   "cell_type": "markdown",
   "id": "25a06d74",
   "metadata": {
    "papermill": {
     "duration": 0.01057,
     "end_time": "2023-12-26T10:30:08.110827",
     "exception": false,
     "start_time": "2023-12-26T10:30:08.100257",
     "status": "completed"
    },
    "tags": []
   },
   "source": [
    "<div style=\"border-radius: 10px; border: #7c3aed solid; padding: 15px; background-color: #ffffff00; font-size: 100%; text-align: left;\">\n",
    "    <b>📔 ハイパーパラメータの範囲 :</b> 機械学習モデルはしばしば2のべき乗を好むため、ハイパーパラメータの範囲をそれに設定することは良い習慣ですが、それが必要であるというわけではなく、ほとんどの場合、モデルの性能には影響しません。\n",
    "</div>\n"
   ]
  },
  {
   "cell_type": "code",
   "execution_count": 8,
   "id": "606f03f0",
   "metadata": {
    "execution": {
     "iopub.execute_input": "2023-12-26T10:30:08.136059Z",
     "iopub.status.busy": "2023-12-26T10:30:08.135393Z",
     "iopub.status.idle": "2023-12-26T10:30:08.144543Z",
     "shell.execute_reply": "2023-12-26T10:30:08.143348Z"
    },
    "papermill": {
     "duration": 0.025719,
     "end_time": "2023-12-26T10:30:08.147586",
     "exception": false,
     "start_time": "2023-12-26T10:30:08.121867",
     "status": "completed"
    },
    "tags": []
   },
   "outputs": [],
   "source": [
    "best_hyperparams_xgb = {'n_estimators': 933,\n",
    " 'learning_rate': 0.1366829761833618,\n",
    " 'max_depth': 6,\n",
    " 'num_leaves': 418,\n",
    " 'reg_lambda': 7.361955430764739,\n",
    " 'reg_alpha': 3.429337489827504,\n",
    " 'subsample': 0.5124575947125245,\n",
    " 'colsample_bytree': 0.8818429397293394,\n",
    " 'min_child_samples': 58,\n",
    " 'min_child_weight': 7,\n",
    " 'objective': 'multiclass',\n",
    " 'metric': 'multi_logloss',\n",
    " 'boosting_type': 'gbdt'}\n",
    "\n",
    "best_hyperparams_cb = {'iterations': 757,\n",
    " 'learning_rate': 0.2157380861225075,\n",
    " 'depth': 9,\n",
    " 'l2_leaf_reg': 6.125865405098237,\n",
    " 'grow_policy': 'Depthwise',\n",
    " 'bootstrap_type': 'Bayesian',\n",
    " 'od_type': 'Iter',\n",
    " 'eval_metric': 'TotalF1',\n",
    " 'loss_function': 'MultiClass',\n",
    " 'random_state': 42,\n",
    " 'verbose': 0}\n",
    "\n",
    "best_hyperparams_lgbm = {'eta': 0.020298153266306202,\n",
    " 'n_estimators': 474,\n",
    " 'max_depth': 7,\n",
    " 'reg_lambda': 7.037147223984295,\n",
    " 'subsample': 0.5827352181078278,\n",
    " 'min_child_weight': 3,\n",
    " 'colsample_bytree': 0.4021844420871675,\n",
    " 'objective': 'multi:softmax'}"
   ]
  },
  {
   "cell_type": "code",
   "execution_count": 9,
   "id": "873c5447",
   "metadata": {
    "execution": {
     "iopub.execute_input": "2023-12-26T10:30:08.172098Z",
     "iopub.status.busy": "2023-12-26T10:30:08.171464Z",
     "iopub.status.idle": "2023-12-26T10:30:08.179497Z",
     "shell.execute_reply": "2023-12-26T10:30:08.178376Z"
    },
    "papermill": {
     "duration": 0.022924,
     "end_time": "2023-12-26T10:30:08.182011",
     "exception": false,
     "start_time": "2023-12-26T10:30:08.159087",
     "status": "completed"
    },
    "tags": []
   },
   "outputs": [],
   "source": [
    "models = [\n",
    "    XGBClassifier(**best_hyperparams_xgb),\n",
    "    LGBMClassifier(**best_hyperparams_lgbm),\n",
    "    CatBoostClassifier(**best_hyperparams_cb)\n",
    "]"
   ]
  },
  {
   "cell_type": "code",
   "execution_count": 10,
   "id": "e3f3fbdf",
   "metadata": {
    "execution": {
     "iopub.execute_input": "2023-12-26T10:30:08.206308Z",
     "iopub.status.busy": "2023-12-26T10:30:08.205644Z",
     "iopub.status.idle": "2023-12-26T10:32:04.058810Z",
     "shell.execute_reply": "2023-12-26T10:32:04.056970Z"
    },
    "papermill": {
     "duration": 115.872102,
     "end_time": "2023-12-26T10:32:04.065149",
     "exception": false,
     "start_time": "2023-12-26T10:30:08.193047",
     "status": "completed"
    },
    "tags": []
   },
   "outputs": [
    {
     "name": "stdout",
     "output_type": "stream",
     "text": [
      "XGBClassifier micro F1 cross-validation score:  0.671\n",
      "[LightGBM] [Warning] learning_rate is set=0.1, eta=0.020298153266306202 will be ignored. Current value: learning_rate=0.1\n",
      "[LightGBM] [Warning] learning_rate is set=0.1, eta=0.020298153266306202 will be ignored. Current value: learning_rate=0.1\n",
      "[LightGBM] [Warning] learning_rate is set=0.1, eta=0.020298153266306202 will be ignored. Current value: learning_rate=0.1\n",
      "[LightGBM] [Warning] learning_rate is set=0.1, eta=0.020298153266306202 will be ignored. Current value: learning_rate=0.1\n",
      "[LightGBM] [Warning] learning_rate is set=0.1, eta=0.020298153266306202 will be ignored. Current value: learning_rate=0.1\n",
      "LGBMClassifier micro F1 cross-validation score:  0.663\n",
      "CatBoostClassifier micro F1 cross-validation score:  0.679\n"
     ]
    }
   ],
   "source": [
    "for model in models:\n",
    "    cv_score = cross_val_score(model, X_train, y_train, cv=5, scoring='f1_micro').sum() / 5\n",
    "    \n",
    "    print(f'{model.__class__.__name__} micro F1 cross-validation score: {cv_score: .3f}')"
   ]
  },
  {
   "cell_type": "markdown",
   "id": "54026ed4",
   "metadata": {
    "papermill": {
     "duration": 0.011013,
     "end_time": "2023-12-26T10:32:04.087611",
     "exception": false,
     "start_time": "2023-12-26T10:32:04.076598",
     "status": "completed"
    },
    "tags": []
   },
   "source": [
    "<div style=\"border-radius: 10px; border: #7c3aed solid; padding: 15px; background-color: #ffffff00; font-size: 100%; text-align: left;\">\n",
    "    <b>📔 クロスバリデーション :</b> 通常のバリデーションと比較してモデルのより正確なパフォーマンス評価を行う手法です。これは元のデータをいくつかのサブセットに分割することで行われます。この場合は5つに分割します。その後、モデルはそのうちの4つで訓練され、残りの1つでスコアリングされます。これを5回繰り返し行い、毎回最後のフォールドが異なり、モデルは残りのもので訓練されます。Optunaではクロスバリデーションを使用していませんが、この方法は計算コストが高いです。基本的に、<code>cv</code>属性の次の数値はモデルが訓練される回数です。つまり、Optunaが50回の反復を実行する場合、通常のバリデーションではなくクロスバリデーションでモデルが250回訓練されます。\n",
    "</div>\n"
   ]
  },
  {
   "cell_type": "markdown",
   "id": "82b94e31",
   "metadata": {
    "papermill": {
     "duration": 0.01114,
     "end_time": "2023-12-26T10:32:04.110240",
     "exception": false,
     "start_time": "2023-12-26T10:32:04.099100",
     "status": "completed"
    },
    "tags": []
   },
   "source": [
    "## 予測・提出"
   ]
  },
  {
   "cell_type": "code",
   "execution_count": 11,
   "id": "e61352a1",
   "metadata": {
    "execution": {
     "iopub.execute_input": "2023-12-26T10:32:04.135430Z",
     "iopub.status.busy": "2023-12-26T10:32:04.134996Z",
     "iopub.status.idle": "2023-12-26T10:32:29.934152Z",
     "shell.execute_reply": "2023-12-26T10:32:29.932934Z"
    },
    "papermill": {
     "duration": 25.815604,
     "end_time": "2023-12-26T10:32:29.937299",
     "exception": false,
     "start_time": "2023-12-26T10:32:04.121695",
     "status": "completed"
    },
    "tags": []
   },
   "outputs": [
    {
     "name": "stdout",
     "output_type": "stream",
     "text": [
      "[LightGBM] [Warning] learning_rate is set=0.1, eta=0.020298153266306202 will be ignored. Current value: learning_rate=0.1\n"
     ]
    }
   ],
   "source": [
    "for model in models:\n",
    "    model.fit(X_train, y_train)"
   ]
  },
  {
   "cell_type": "code",
   "execution_count": 12,
   "id": "d8ea37c8",
   "metadata": {
    "execution": {
     "iopub.execute_input": "2023-12-26T10:32:29.962314Z",
     "iopub.status.busy": "2023-12-26T10:32:29.961876Z",
     "iopub.status.idle": "2023-12-26T10:32:30.225147Z",
     "shell.execute_reply": "2023-12-26T10:32:30.222601Z"
    },
    "papermill": {
     "duration": 0.279244,
     "end_time": "2023-12-26T10:32:30.228204",
     "exception": false,
     "start_time": "2023-12-26T10:32:29.948960",
     "status": "completed"
    },
    "tags": []
   },
   "outputs": [
    {
     "name": "stdout",
     "output_type": "stream",
     "text": [
      "XGBClassifier micro F1 training score:  0.989\n",
      "LGBMClassifier micro F1 training score:  1.000\n",
      "CatBoostClassifier micro F1 training score:  1.000\n"
     ]
    }
   ],
   "source": [
    "for model in models:\n",
    "    train_score = f1_score(y_train, model.predict(X_train), average='micro')\n",
    "    \n",
    "    print(f'{model.__class__.__name__} micro F1 training score: {train_score: .3f}')"
   ]
  },
  {
   "cell_type": "markdown",
   "id": "bbaf39fa",
   "metadata": {
    "papermill": {
     "duration": 0.011478,
     "end_time": "2023-12-26T10:32:30.251424",
     "exception": false,
     "start_time": "2023-12-26T10:32:30.239946",
     "status": "completed"
    },
    "tags": []
   },
   "source": [
    "<div style=\"border-radius: 10px; border: #ffac00 solid; padding: 15px; background-color: #ffffff00; font-size: 100%; text-align: left;\">\n",
    "    <b> ⚠️ オーバーフィッティング:</b> F1スコアは[0, 1]の範囲にあります。つまり、クロスバリデーションスコアとトレーニングスコアの差が0.06から0.15である場合、トレーニングセットにオーバーフィットしていること、つまり高分散問題であることを示します。これは、モデルが非常によく見たデータを予測できるが、未知のデータに汎化する際に問題があることを意味します。これを修正するために、モデルをアンサンブル化します。\n",
    "</div>\n"
   ]
  },
  {
   "cell_type": "code",
   "execution_count": 13,
   "id": "7da72599",
   "metadata": {
    "execution": {
     "iopub.execute_input": "2023-12-26T10:32:30.276704Z",
     "iopub.status.busy": "2023-12-26T10:32:30.276284Z",
     "iopub.status.idle": "2023-12-26T10:32:31.003995Z",
     "shell.execute_reply": "2023-12-26T10:32:31.002762Z"
    },
    "papermill": {
     "duration": 0.743703,
     "end_time": "2023-12-26T10:32:31.007000",
     "exception": false,
     "start_time": "2023-12-26T10:32:30.263297",
     "status": "completed"
    },
    "tags": []
   },
   "outputs": [
    {
     "data": {
      "image/png": "[encoded data removed]",
      "text/plain": [
       "<Figure size 1600x1200 with 1 Axes>"
      ]
     },
     "metadata": {},
     "output_type": "display_data"
    }
   ],
   "source": [
    "feature_importance = pd.DataFrame(data={'feature': train.columns[:-1], 'importance': model.feature_importances_})\n",
    "feature_importance = feature_importance.sort_values('importance', ascending=True)\n",
    "\n",
    "feature_importance.plot(kind='barh', x='feature', y='importance', legend=False, color=sns.color_palette('plasma', n_colors=len(feature_importance)), figsize=(16, 12))\n",
    "\n",
    "plt.xlabel('Importance')\n",
    "plt.ylabel('Feature name')\n",
    "plt.title('\\nFeature Importance\\n', fontsize=15)\n",
    "plt.show()"
   ]
  },
  {
   "cell_type": "markdown",
   "id": "6abb94d6",
   "metadata": {
    "papermill": {
     "duration": 0.013403,
     "end_time": "2023-12-26T10:32:31.033915",
     "exception": false,
     "start_time": "2023-12-26T10:32:31.020512",
     "status": "completed"
    },
    "tags": []
   },
   "source": [
    "<div style=\"border-radius: 10px; border: #7c3aed solid; padding: 15px; background-color: #ffffff00; font-size: 100%; text-align: left;\">\n",
    "    <b>📔 特徴の重要度 :</b> 入力特徴が目標変数を予測する際にどれだけ有用かに基づいてスコアを割り当てます。モデルの予測に最も影響を与える特徴が何かを理解するのに役立ちます。特に、特徴の選択、モデルの解釈性の向上、データの理解に役立ちます。\n",
    "</div>\n"
   ]
  },
  {
   "cell_type": "code",
   "execution_count": 14,
   "id": "aa0d9423",
   "metadata": {
    "execution": {
     "iopub.execute_input": "2023-12-26T10:32:31.062657Z",
     "iopub.status.busy": "2023-12-26T10:32:31.062133Z",
     "iopub.status.idle": "2023-12-26T10:32:31.089745Z",
     "shell.execute_reply": "2023-12-26T10:32:31.088622Z"
    },
    "papermill": {
     "duration": 0.044978,
     "end_time": "2023-12-26T10:32:31.092242",
     "exception": false,
     "start_time": "2023-12-26T10:32:31.047264",
     "status": "completed"
    },
    "tags": []
   },
   "outputs": [
    {
     "data": {
      "text/html": [
       "<div>\n",
       "<style scoped>\n",
       "    .dataframe tbody tr th:only-of-type {\n",
       "        vertical-align: middle;\n",
       "    }\n",
       "\n",
       "    .dataframe tbody tr th {\n",
       "        vertical-align: top;\n",
       "    }\n",
       "\n",
       "    .dataframe thead th {\n",
       "        text-align: right;\n",
       "    }\n",
       "</style>\n",
       "<table border=\"1\" class=\"dataframe\">\n",
       "  <thead>\n",
       "    <tr style=\"text-align: right;\">\n",
       "      <th></th>\n",
       "      <th>id</th>\n",
       "      <th>surgery</th>\n",
       "      <th>age</th>\n",
       "      <th>hospital_number</th>\n",
       "      <th>pulse</th>\n",
       "      <th>respiratory_rate</th>\n",
       "      <th>temp_of_extremities</th>\n",
       "      <th>peripheral_pulse</th>\n",
       "      <th>capillary_refill_time</th>\n",
       "      <th>pain</th>\n",
       "      <th>...</th>\n",
       "      <th>lesion_1</th>\n",
       "      <th>lesion_2</th>\n",
       "      <th>cp_data</th>\n",
       "      <th>abs_rectal_temp</th>\n",
       "      <th>mucous_membrane_bright_pink</th>\n",
       "      <th>mucous_membrane_bright_red</th>\n",
       "      <th>mucous_membrane_dark_cyanotic</th>\n",
       "      <th>mucous_membrane_normal_pink</th>\n",
       "      <th>mucous_membrane_pale_cyanotic</th>\n",
       "      <th>mucous_membrane_pale_pink</th>\n",
       "    </tr>\n",
       "  </thead>\n",
       "  <tbody>\n",
       "    <tr>\n",
       "      <th>0</th>\n",
       "      <td>1235</td>\n",
       "      <td>0</td>\n",
       "      <td>0</td>\n",
       "      <td>0.002645</td>\n",
       "      <td>0.064935</td>\n",
       "      <td>0.136364</td>\n",
       "      <td>3</td>\n",
       "      <td>3</td>\n",
       "      <td>2</td>\n",
       "      <td>4</td>\n",
       "      <td>...</td>\n",
       "      <td>0.000000</td>\n",
       "      <td>0.0</td>\n",
       "      <td>0</td>\n",
       "      <td>37.207407</td>\n",
       "      <td>False</td>\n",
       "      <td>False</td>\n",
       "      <td>False</td>\n",
       "      <td>True</td>\n",
       "      <td>False</td>\n",
       "      <td>False</td>\n",
       "    </tr>\n",
       "    <tr>\n",
       "      <th>1</th>\n",
       "      <td>1236</td>\n",
       "      <td>1</td>\n",
       "      <td>0</td>\n",
       "      <td>0.001478</td>\n",
       "      <td>0.532468</td>\n",
       "      <td>0.454545</td>\n",
       "      <td>2</td>\n",
       "      <td>4</td>\n",
       "      <td>3</td>\n",
       "      <td>2</td>\n",
       "      <td>...</td>\n",
       "      <td>0.053710</td>\n",
       "      <td>0.0</td>\n",
       "      <td>1</td>\n",
       "      <td>37.281481</td>\n",
       "      <td>True</td>\n",
       "      <td>False</td>\n",
       "      <td>False</td>\n",
       "      <td>False</td>\n",
       "      <td>False</td>\n",
       "      <td>False</td>\n",
       "    </tr>\n",
       "    <tr>\n",
       "      <th>2</th>\n",
       "      <td>1237</td>\n",
       "      <td>1</td>\n",
       "      <td>0</td>\n",
       "      <td>0.001417</td>\n",
       "      <td>0.233766</td>\n",
       "      <td>0.045455</td>\n",
       "      <td>2</td>\n",
       "      <td>3</td>\n",
       "      <td>2</td>\n",
       "      <td>4</td>\n",
       "      <td>...</td>\n",
       "      <td>0.053637</td>\n",
       "      <td>0.0</td>\n",
       "      <td>1</td>\n",
       "      <td>37.374074</td>\n",
       "      <td>False</td>\n",
       "      <td>True</td>\n",
       "      <td>False</td>\n",
       "      <td>False</td>\n",
       "      <td>False</td>\n",
       "      <td>False</td>\n",
       "    </tr>\n",
       "    <tr>\n",
       "      <th>3</th>\n",
       "      <td>1238</td>\n",
       "      <td>0</td>\n",
       "      <td>0</td>\n",
       "      <td>0.002798</td>\n",
       "      <td>0.376623</td>\n",
       "      <td>0.136364</td>\n",
       "      <td>2</td>\n",
       "      <td>4</td>\n",
       "      <td>2</td>\n",
       "      <td>2</td>\n",
       "      <td>...</td>\n",
       "      <td>0.034055</td>\n",
       "      <td>0.0</td>\n",
       "      <td>0</td>\n",
       "      <td>37.485185</td>\n",
       "      <td>False</td>\n",
       "      <td>False</td>\n",
       "      <td>False</td>\n",
       "      <td>False</td>\n",
       "      <td>True</td>\n",
       "      <td>False</td>\n",
       "    </tr>\n",
       "    <tr>\n",
       "      <th>4</th>\n",
       "      <td>1239</td>\n",
       "      <td>1</td>\n",
       "      <td>0</td>\n",
       "      <td>0.001765</td>\n",
       "      <td>0.129870</td>\n",
       "      <td>0.045455</td>\n",
       "      <td>0</td>\n",
       "      <td>3</td>\n",
       "      <td>2</td>\n",
       "      <td>4</td>\n",
       "      <td>...</td>\n",
       "      <td>0.053710</td>\n",
       "      <td>0.0</td>\n",
       "      <td>1</td>\n",
       "      <td>37.262963</td>\n",
       "      <td>True</td>\n",
       "      <td>False</td>\n",
       "      <td>False</td>\n",
       "      <td>False</td>\n",
       "      <td>False</td>\n",
       "      <td>False</td>\n",
       "    </tr>\n",
       "  </tbody>\n",
       "</table>\n",
       "<p>5 rows × 32 columns</p>\n",
       "</div>"
      ],
      "text/plain": [
       "     id  surgery  age  hospital_number     pulse  respiratory_rate  \\\n",
       "0  1235        0    0         0.002645  0.064935          0.136364   \n",
       "1  1236        1    0         0.001478  0.532468          0.454545   \n",
       "2  1237        1    0         0.001417  0.233766          0.045455   \n",
       "3  1238        0    0         0.002798  0.376623          0.136364   \n",
       "4  1239        1    0         0.001765  0.129870          0.045455   \n",
       "\n",
       "   temp_of_extremities  peripheral_pulse  capillary_refill_time  pain  ...  \\\n",
       "0                    3                 3                      2     4  ...   \n",
       "1                    2                 4                      3     2  ...   \n",
       "2                    2                 3                      2     4  ...   \n",
       "3                    2                 4                      2     2  ...   \n",
       "4                    0                 3                      2     4  ...   \n",
       "\n",
       "   lesion_1  lesion_2  cp_data  abs_rectal_temp  mucous_membrane_bright_pink  \\\n",
       "0  0.000000       0.0        0        37.207407                        False   \n",
       "1  0.053710       0.0        1        37.281481                         True   \n",
       "2  0.053637       0.0        1        37.374074                        False   \n",
       "3  0.034055       0.0        0        37.485185                        False   \n",
       "4  0.053710       0.0        1        37.262963                         True   \n",
       "\n",
       "   mucous_membrane_bright_red  mucous_membrane_dark_cyanotic  \\\n",
       "0                       False                          False   \n",
       "1                       False                          False   \n",
       "2                        True                          False   \n",
       "3                       False                          False   \n",
       "4                       False                          False   \n",
       "\n",
       "   mucous_membrane_normal_pink  mucous_membrane_pale_cyanotic  \\\n",
       "0                         True                          False   \n",
       "1                        False                          False   \n",
       "2                        False                          False   \n",
       "3                        False                           True   \n",
       "4                        False                          False   \n",
       "\n",
       "   mucous_membrane_pale_pink  \n",
       "0                      False  \n",
       "1                      False  \n",
       "2                      False  \n",
       "3                      False  \n",
       "4                      False  \n",
       "\n",
       "[5 rows x 32 columns]"
      ]
     },
     "execution_count": 14,
     "metadata": {},
     "output_type": "execute_result"
    }
   ],
   "source": [
    "X_test = pd.DataFrame(data=test, columns=test.columns, index=test.index)\n",
    "X_test.head()"
   ]
  },
  {
   "cell_type": "code",
   "execution_count": 15,
   "id": "ae255d11",
   "metadata": {
    "execution": {
     "iopub.execute_input": "2023-12-26T10:32:31.121637Z",
     "iopub.status.busy": "2023-12-26T10:32:31.121241Z",
     "iopub.status.idle": "2023-12-26T10:32:31.347873Z",
     "shell.execute_reply": "2023-12-26T10:32:31.346611Z"
    },
    "papermill": {
     "duration": 0.243973,
     "end_time": "2023-12-26T10:32:31.350350",
     "exception": false,
     "start_time": "2023-12-26T10:32:31.106377",
     "status": "completed"
    },
    "tags": []
   },
   "outputs": [
    {
     "data": {
      "text/plain": [
       "(824,)"
      ]
     },
     "execution_count": 15,
     "metadata": {},
     "output_type": "execute_result"
    }
   ],
   "source": [
    "predictions = []\n",
    "for model in models:\n",
    "    predictions.append(model.predict(X_test).ravel())\n",
    "    \n",
    "predictions = np.array(predictions)\n",
    "\n",
    "final_predictions, _ = stats.mode(predictions, axis=0)\n",
    "\n",
    "final_predictions.shape"
   ]
  },
  {
   "cell_type": "markdown",
   "id": "d4296414",
   "metadata": {
    "papermill": {
     "duration": 0.081126,
     "end_time": "2023-12-26T10:32:31.446980",
     "exception": false,
     "start_time": "2023-12-26T10:32:31.365854",
     "status": "completed"
    },
    "tags": []
   },
   "source": [
    "<div style=\"border-radius: 10px; border: #7c3aed solid; padding: 15px; background-color: #ffffff00; font-size: 100%; text-align: left;\">\n",
    "    <b>📔 OrdinalEncoder vs LabelEncoder :</b> この場合、ターゲットクラスに階層があるため、<code>OrdnialEncoder</code> の使用が適しています。単純に言えば、カテゴリカルデータに特定の順序がある場合（たとえば「低」「中」「高」など）、<code>OrdnialEncoder</code> を使用します。順序がない場合（たとえば「猫」「犬」「クジラ」など）、<code>LabelEncoder</code> を使用します。\n",
    "</div>\n"
   ]
  },
  {
   "cell_type": "markdown",
   "id": "1f4ad438",
   "metadata": {
    "papermill": {
     "duration": 0.015614,
     "end_time": "2023-12-26T10:32:31.477672",
     "exception": false,
     "start_time": "2023-12-26T10:32:31.462058",
     "status": "completed"
    },
    "tags": []
   },
   "source": [
    "### 提出 🏆\n",
    "***\n",
    "今、トレーニングセットで行ったのと同様の手順で、テストセットにすべての変換を適用できます。このコンペティションの場合、それほど多くはありません。\n"
   ]
  },
  {
   "cell_type": "code",
   "execution_count": 16,
   "id": "7e574113",
   "metadata": {
    "execution": {
     "iopub.execute_input": "2023-12-26T10:32:31.508485Z",
     "iopub.status.busy": "2023-12-26T10:32:31.508074Z",
     "iopub.status.idle": "2023-12-26T10:32:31.533011Z",
     "shell.execute_reply": "2023-12-26T10:32:31.531786Z"
    },
    "papermill": {
     "duration": 0.043515,
     "end_time": "2023-12-26T10:32:31.535756",
     "exception": false,
     "start_time": "2023-12-26T10:32:31.492241",
     "status": "completed"
    },
    "tags": []
   },
   "outputs": [],
   "source": [
    "submission = pd.read_csv('/kaggle/input/playground-series-s3e22/sample_submission.csv', index_col='id')\n",
    "\n",
    "# 提出ファイルの作成\n",
    "y_map = {k: v for v, k in enumerate(target.unique())}\n",
    "y_reverse_map = {v: k for k, v in y_map.items()}\n",
    "\n",
    "submission['outcome'] = final_predictions[0]\n",
    "submission.outcome = submission.outcome.map(y_reverse_map)\n",
    "\n",
    "\n",
    "submission.to_csv(OUTPUT_DIR + 'submission.csv')"
   ]
  },
  {
   "cell_type": "markdown",
   "id": "b08ec357",
   "metadata": {
    "papermill": {
     "duration": 0.013936,
     "end_time": "2023-12-26T10:32:31.564868",
     "exception": false,
     "start_time": "2023-12-26T10:32:31.550932",
     "status": "completed"
    },
    "tags": []
   },
   "source": [
    "<div style=\"border-radius: 10px; border: #27374D solid; padding: 15px; background-color: #ffffff00; font-size: 100%; text-align: left;\">\n",
    "    <b>📉 Submission :</b> 当社のモデルは、0から2までの整数でクラスを予測しますが、提出にはクラス名が必要です。そのため、<code>inverse_transform()</code> を使用して数値をクラス名に変換します。なお、<code>transform()</code> はクラス名（文字列）を整数にマップするので、<code>inverse_transform()</code> はその逆を行います。\n",
    "</div>\n"
   ]
  },
  {
   "cell_type": "code",
   "execution_count": 17,
   "id": "f9d8d33f",
   "metadata": {
    "execution": {
     "iopub.execute_input": "2023-12-26T10:32:31.595130Z",
     "iopub.status.busy": "2023-12-26T10:32:31.594714Z",
     "iopub.status.idle": "2023-12-26T10:32:31.607525Z",
     "shell.execute_reply": "2023-12-26T10:32:31.606150Z"
    },
    "papermill": {
     "duration": 0.03119,
     "end_time": "2023-12-26T10:32:31.610184",
     "exception": false,
     "start_time": "2023-12-26T10:32:31.578994",
     "status": "completed"
    },
    "tags": []
   },
   "outputs": [
    {
     "data": {
      "text/html": [
       "<div>\n",
       "<style scoped>\n",
       "    .dataframe tbody tr th:only-of-type {\n",
       "        vertical-align: middle;\n",
       "    }\n",
       "\n",
       "    .dataframe tbody tr th {\n",
       "        vertical-align: top;\n",
       "    }\n",
       "\n",
       "    .dataframe thead th {\n",
       "        text-align: right;\n",
       "    }\n",
       "</style>\n",
       "<table border=\"1\" class=\"dataframe\">\n",
       "  <thead>\n",
       "    <tr style=\"text-align: right;\">\n",
       "      <th></th>\n",
       "      <th>outcome</th>\n",
       "    </tr>\n",
       "    <tr>\n",
       "      <th>id</th>\n",
       "      <th></th>\n",
       "    </tr>\n",
       "  </thead>\n",
       "  <tbody>\n",
       "    <tr>\n",
       "      <th>1235</th>\n",
       "      <td>lived</td>\n",
       "    </tr>\n",
       "    <tr>\n",
       "      <th>1236</th>\n",
       "      <td>lived</td>\n",
       "    </tr>\n",
       "    <tr>\n",
       "      <th>1237</th>\n",
       "      <td>lived</td>\n",
       "    </tr>\n",
       "    <tr>\n",
       "      <th>1238</th>\n",
       "      <td>lived</td>\n",
       "    </tr>\n",
       "    <tr>\n",
       "      <th>1239</th>\n",
       "      <td>lived</td>\n",
       "    </tr>\n",
       "    <tr>\n",
       "      <th>...</th>\n",
       "      <td>...</td>\n",
       "    </tr>\n",
       "    <tr>\n",
       "      <th>2054</th>\n",
       "      <td>lived</td>\n",
       "    </tr>\n",
       "    <tr>\n",
       "      <th>2055</th>\n",
       "      <td>lived</td>\n",
       "    </tr>\n",
       "    <tr>\n",
       "      <th>2056</th>\n",
       "      <td>lived</td>\n",
       "    </tr>\n",
       "    <tr>\n",
       "      <th>2057</th>\n",
       "      <td>lived</td>\n",
       "    </tr>\n",
       "    <tr>\n",
       "      <th>2058</th>\n",
       "      <td>lived</td>\n",
       "    </tr>\n",
       "  </tbody>\n",
       "</table>\n",
       "<p>824 rows × 1 columns</p>\n",
       "</div>"
      ],
      "text/plain": [
       "     outcome\n",
       "id          \n",
       "1235   lived\n",
       "1236   lived\n",
       "1237   lived\n",
       "1238   lived\n",
       "1239   lived\n",
       "...      ...\n",
       "2054   lived\n",
       "2055   lived\n",
       "2056   lived\n",
       "2057   lived\n",
       "2058   lived\n",
       "\n",
       "[824 rows x 1 columns]"
      ]
     },
     "execution_count": 17,
     "metadata": {},
     "output_type": "execute_result"
    }
   ],
   "source": [
    "submission"
   ]
  },
  {
   "cell_type": "code",
   "execution_count": null,
   "id": "b245ca18",
   "metadata": {
    "papermill": {
     "duration": 0.014105,
     "end_time": "2023-12-26T10:32:31.639325",
     "exception": false,
     "start_time": "2023-12-26T10:32:31.625220",
     "status": "completed"
    },
    "tags": []
   },
   "outputs": [],
   "source": []
  }
 ],
 "metadata": {
  "kaggle": {
   "accelerator": "none",
   "dataSources": [
    {
     "databundleVersionId": 6536030,
     "sourceId": 59110,
     "sourceType": "competition"
    }
   ],
   "dockerImageVersionId": 30626,
   "isGpuEnabled": false,
   "isInternetEnabled": true,
   "language": "python",
   "sourceType": "notebook"
  },
  "kernelspec": {
   "display_name": "Python 3",
   "language": "python",
   "name": "python3"
  },
  "language_info": {
   "codemirror_mode": {
    "name": "ipython",
    "version": 3
   },
   "file_extension": ".py",
   "mimetype": "text/x-python",
   "name": "python",
   "nbconvert_exporter": "python",
   "pygments_lexer": "ipython3",
   "version": "3.10.12"
  },
  "papermill": {
   "default_parameters": {},
   "duration": 154.807772,
   "end_time": "2023-12-26T10:32:32.678947",
   "environment_variables": {},
   "exception": null,
   "input_path": "__notebook__.ipynb",
   "output_path": "__notebook__.ipynb",
   "parameters": {},
   "start_time": "2023-12-26T10:29:57.871175",
   "version": "2.4.0"
  }
 },
 "nbformat": 4,
 "nbformat_minor": 5
}

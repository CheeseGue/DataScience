{
 "cells": [
  {
   "cell_type": "code",
   "execution_count": 1,
   "id": "101f82a7",
   "metadata": {
    "_cell_guid": "b1076dfc-b9ad-4769-8c92-a6c4dae69d19",
    "_uuid": "8f2839f25d086af736a60e9eeb907d3b93b6e0e5",
    "execution": {
     "iopub.execute_input": "2023-12-22T04:30:15.333859Z",
     "iopub.status.busy": "2023-12-22T04:30:15.332977Z",
     "iopub.status.idle": "2023-12-22T04:30:16.035088Z",
     "shell.execute_reply": "2023-12-22T04:30:16.034111Z"
    },
    "papermill": {
     "duration": 0.712275,
     "end_time": "2023-12-22T04:30:16.037624",
     "exception": false,
     "start_time": "2023-12-22T04:30:15.325349",
     "status": "completed"
    },
    "tags": []
   },
   "outputs": [
    {
     "name": "stdout",
     "output_type": "stream",
     "text": [
      "/kaggle/input/playground-series-s3e26/sample_submission.csv\n",
      "/kaggle/input/playground-series-s3e26/train.csv\n",
      "/kaggle/input/playground-series-s3e26/test.csv\n"
     ]
    }
   ],
   "source": [
    "# This Python 3 environment comes with many helpful analytics libraries installed\n",
    "# It is defined by the kaggle/python Docker image: https://github.com/kaggle/docker-python\n",
    "# For example, here's several helpful packages to load\n",
    "\n",
    "import numpy as np # linear algebra\n",
    "import pandas as pd # data processing, CSV file I/O (e.g. pd.read_csv)\n",
    "\n",
    "# Input data files are available in the read-only \"../input/\" directory\n",
    "# For example, running this (by clicking run or pressing Shift+Enter) will list all files under the input directory\n",
    "\n",
    "import os\n",
    "for dirname, _, filenames in os.walk('/kaggle/input'):\n",
    "    for filename in filenames:\n",
    "        print(os.path.join(dirname, filename))\n",
    "\n",
    "# You can write up to 20GB to the current directory (/kaggle/working/) that gets preserved as output when you create a version using \"Save & Run All\" \n",
    "# You can also write temporary files to /kaggle/temp/, but they won't be saved outside of the current session"
   ]
  },
  {
   "cell_type": "code",
   "execution_count": 2,
   "id": "71ae28ec",
   "metadata": {
    "execution": {
     "iopub.execute_input": "2023-12-22T04:30:16.051021Z",
     "iopub.status.busy": "2023-12-22T04:30:16.050644Z",
     "iopub.status.idle": "2023-12-22T04:30:17.397362Z",
     "shell.execute_reply": "2023-12-22T04:30:17.396496Z"
    },
    "papermill": {
     "duration": 1.355905,
     "end_time": "2023-12-22T04:30:17.399660",
     "exception": false,
     "start_time": "2023-12-22T04:30:16.043755",
     "status": "completed"
    },
    "tags": []
   },
   "outputs": [
    {
     "name": "stdout",
     "output_type": "stream",
     "text": [
      "読み込み完了 /kaggle/working/data.csv\n"
     ]
    }
   ],
   "source": [
    "# ライブラリ・データセットのインポート\n",
    "import numpy as np\n",
    "import pandas as pd\n",
    "\n",
    "import warnings\n",
    "warnings.filterwarnings('ignore')\n",
    "\n",
    "from sklearn.preprocessing import LabelEncoder\n",
    "\n",
    "## 実行時間を調べるために使う\n",
    "import datetime\n",
    "import time\n",
    "import math\n",
    "\n",
    "start_time = time.time()\n",
    "\n",
    "def changeHMS(s):\n",
    "    h = math.floor(s / 3600)\n",
    "    if h > 0:\n",
    "        s = s - h * 3600\n",
    "        indi_h = str(h) + 'h'\n",
    "    else:\n",
    "        indi_h = ''\n",
    "    m = math.floor(s / 60)\n",
    "    if m > 0:\n",
    "        indi_m = str(m) + 'm'\n",
    "    else:\n",
    "        indi_m = ''\n",
    "    s = math.floor(s % 60)\n",
    "    time = indi_h + indi_m + str(s) + 's'\n",
    "    return time\n",
    "\n",
    "FILE_PATH = '/kaggle/input/playground-series-s3e26/'\n",
    "OUTPUT_DIR = '/kaggle/working/'\n",
    "\n",
    "train = pd.read_csv(FILE_PATH + 'train.csv')\n",
    "test = pd.read_csv(FILE_PATH + 'test.csv')\n",
    "\n",
    "test_id = test['id']\n",
    "\n",
    "target = train['Status']\n",
    "\n",
    "target_name = str(train.iloc[:, [18]].columns.tolist()) # カラム数-2の値が目的変数\n",
    "\n",
    "df = pd.concat([train, test], axis=0)\n",
    "df.reset_index(inplace=True)\n",
    "\n",
    "# 説明変数をデータ型ごとに代入する\n",
    "numerical_features = df._get_numeric_data().columns\n",
    "categorical_features = df.drop(numerical_features, axis=1).columns\n",
    "numerical_features = numerical_features.drop('id')\n",
    "\n",
    "# 前処理\n",
    "# 欠損値の補完\n",
    "def missing_values(df):\n",
    "\n",
    "    return df\n",
    "\n",
    "# 外れ値の削除\n",
    "def outlier(df):\n",
    "\n",
    "    return df\n",
    "\n",
    "# MinMaxScaler(正規化)\n",
    "def scaling(df):\n",
    "    df_scale = df[numerical_features]\n",
    "    sc = MinMaxScaler()\n",
    "    df[numerical_features] = pd.DataFrame(sc.fit_transform(df_scale), columns = df_scale.columns)\n",
    "\n",
    "    return df\n",
    "\n",
    "# 特徴量エンジニアリング\n",
    "# 特徴量の作成\n",
    "def create_new_features(df):\n",
    "    # 血小板減少症インジケーター\n",
    "    threshold_platelets = 150 # 閾値\n",
    "    df['thrombocytopenia'] = np.where(df['Platelets'] < threshold_platelets, 1, 0)\n",
    "\n",
    "    # アルカリ性リン酸塩ホスファターゼの上昇指標：\n",
    "    threshold_alk_phos_upper = 147\n",
    "    threshold_alk_phos_lower = 44\n",
    "    df['elevated_alk_phos'] = np.where((df['Alk_Phos'] > threshold_alk_phos_upper) | (df['Alk_Phos'] < threshold_alk_phos_lower), 1, 0)\n",
    "\n",
    "    # 正常な銅レベル\n",
    "    normal_copper_range = (62, 140)\n",
    "    df['normal_copper'] = np.where((df['Copper'] >= normal_copper_range[0]) & (df['Copper'] <= normal_copper_range[1]), 1, 0)\n",
    "\n",
    "    # アルブミンの正常範囲\n",
    "    normal_albumin_range = (3.4, 5.4)\n",
    "    df['normal_albumin'] = np.where((df['Albumin'] >= normal_albumin_range[1]), 1, 0)\n",
    "\n",
    "    # 正常なビリルビンレベル\n",
    "    normal_bilirubin_range = (0.2, 1.2)\n",
    "    df['normal_bilirubin'] = np.where((df['Bilirubin'] >= normal_bilirubin_range[0]) & (df['Bilirubin'] <= normal_bilirubin_range[1]), 1, 0)\n",
    "\n",
    "    # 診断日\n",
    "    df['DiagnosisDays'] = df['Age'] - df['N_Days']\n",
    "\n",
    "    # ビリルビン * アルブミン\n",
    "    df['Bilirubin_Albumin'] = df['Bilirubin'] * df['Albumin']\n",
    "\n",
    "    # 症状のスコア\n",
    "    symptom_columns = ['Ascites', 'Hepatomegaly', 'Spiders']\n",
    "    df['Symptom_Score'] = df[symptom_columns].sum(axis=1)\n",
    "\n",
    "    # 肝臓機能\n",
    "    liver_columns = ['Bilirubin', 'Albumin', 'Alk_Phos', 'SGOT']\n",
    "    df['Liver_Function_Index'] = df[liver_columns].mean(axis=1)\n",
    "\n",
    "    # リスクスコア\n",
    "    df['Risk_Score'] = df['Bilirubin'] + df['Albumin'] - df['Alk_Phos']\n",
    "\n",
    "    # 時間特徴量\n",
    "    df['Diag_Year'] = (df['N_Days'] / 365).astype(int)\n",
    "    df['Diag_Month'] = ((df['N_Days'] % 365) / 30).astype(int)\n",
    "\n",
    "    return df\n",
    "\n",
    "# 年齢に関する特徴量の追加\n",
    "def convert_days_to_years(age_in_days):\n",
    "    days_in_year = 365.25\n",
    "    age_in_years = age_in_days / days_in_year\n",
    "\n",
    "    return age_in_years\n",
    "\n",
    "def add_cols(df):\n",
    "    age = list(df.Age)\n",
    "    age_in_year = []\n",
    "    for i in age:\n",
    "        age_in_year.append(int(convert_days_to_years(i)))\n",
    "    df['Age_in_year'] = pd.Series(age_in_year)\n",
    "\n",
    "    return df\n",
    "\n",
    "# カテゴリ変数のエンコーディング\n",
    "# One-Hot Encoding\n",
    "def one_hot_encoding(df, cat_cols):\n",
    "    df = pd.get_dummies(df, columns=cat_cols)\n",
    "    # 目的変数を数値化(int64)する\n",
    "    df['Status'] = df['Status'].map({\"C\": 0, \"CL\": 1, \"D\": 2})\n",
    "    # 一緒にラベルエンコーディングすると、1,2,3になってしまいモデル学習できないため分割する\n",
    "\n",
    "    return df\n",
    "\n",
    "# LabelEncoding\n",
    "def label_encoder(df):\n",
    "    categorical_columns = df.select_dtypes(include=['object']).columns\n",
    "    for column in categorical_columns:\n",
    "        df[column] = df[column].fillna('').astype('str') # 欠損値の補完をする\n",
    "        label_encoder = LabelEncoder()\n",
    "        df[column] = label_encoder.fit_transform(df[column])\n",
    "\n",
    "    return df\n",
    "\n",
    "# 特徴量の選択\n",
    "# 特徴量の重要度評価\n",
    "def feature_importance_evaluation(df):\n",
    "    # データを対数変換する\n",
    "\n",
    "    # 訓練データをX(説明変数)とy（目的変数）に分割する\n",
    "    X = df.select_dtypes(include=['float', 'int'])\n",
    "    X = X.drop(['Status'], axis=1) # 目的変数を指定する\n",
    "    y = target # 目的変数を指定する\n",
    "\n",
    "    for column in X.columns.tolist():\n",
    "        X[column] = X[column].apply(lambda x: np.log(x + 1))\n",
    "\n",
    "    # 特徴量の重要度評価\n",
    "    lgb = LGBMClassifier(\n",
    "        random_state=42,\n",
    "    )\n",
    "\n",
    "    lgb.fit(X, y)\n",
    "    importance = lgb.feature_importances_\n",
    "\n",
    "    feature_importance = pd.DataFrame(data=importance, index=X.columns, columns=['importance']) \\\n",
    "        .sort_values(ascending=True, by='importance')\n",
    "\n",
    "    return feature_importance\n",
    "\n",
    "# 特徴量の削除\n",
    "def drop_columns(df):\n",
    "    drop_list = [\n",
    "#         'index'\n",
    "    ]\n",
    "    dropped_df = df.drop(columns=drop_list)\n",
    "\n",
    "    return dropped_df\n",
    "\n",
    "# データセットの更新\n",
    "# 前処理\n",
    "df = add_cols(df)\n",
    "df = missing_values(df)\n",
    "df = outlier(df)\n",
    "# df = scaling(df) # 標準化したい時のみ実行する\n",
    "\n",
    "# 特徴量エンジニアリング\n",
    "df = create_new_features(df)\n",
    "df = drop_columns(df)\n",
    "\n",
    "cat_cols = ['Edema', 'Stage'] # One-Hot Encodingしたい水準数の少ないカラムを指定する\n",
    "df = one_hot_encoding(df, cat_cols)\n",
    "df = label_encoder(df)\n",
    "\n",
    "train = df[df.loc[:, 'id'] < 7905]\n",
    "test = df[df.loc[:, 'id'] >= 7905]\n",
    "\n",
    "train_x = train.drop(columns=['Status', 'id'])\n",
    "train_y = target\n",
    "test_x = test.drop(columns=['Status', 'id'])\n",
    "\n",
    "X = train_x.values\n",
    "y = train_y.values\n",
    "# y = y.astype(int)\n",
    "\n",
    "df.head()\n",
    "\n",
    "# ID削除\n",
    "# df.drop(\"id\", axis=1, inplace=True)\n",
    "\n",
    "df.to_csv(OUTPUT_DIR + 'data.csv', index=False)\n",
    "\n",
    "# 確認 (data_import.py)\n",
    "def file_to_xy(filename):\n",
    "    data = pd.read_csv(filename, index_col=0)\n",
    "    print(f'読み込み完了 {filename}')\n",
    "    train = data[:7905].reset_index(drop=True)\n",
    "    test = data[7905:].reset_index(drop=True).drop('Status', axis=1)\n",
    "    # 目的変数と説明変数に分割\n",
    "    X = train.drop('Status', axis=1)\n",
    "    y = train['Status'].values\n",
    "    return data,test,train,X,y\n",
    "\n",
    "filename = OUTPUT_DIR + 'data.csv'\n",
    "data,test,train,X,y = file_to_xy(filename)"
   ]
  },
  {
   "cell_type": "code",
   "execution_count": 3,
   "id": "ead7f2b7",
   "metadata": {
    "execution": {
     "iopub.execute_input": "2023-12-22T04:30:17.413209Z",
     "iopub.status.busy": "2023-12-22T04:30:17.412431Z",
     "iopub.status.idle": "2023-12-22T04:30:17.418383Z",
     "shell.execute_reply": "2023-12-22T04:30:17.417661Z"
    },
    "papermill": {
     "duration": 0.014807,
     "end_time": "2023-12-22T04:30:17.420417",
     "exception": false,
     "start_time": "2023-12-22T04:30:17.405610",
     "status": "completed"
    },
    "tags": []
   },
   "outputs": [],
   "source": [
    "train = train.copy()\n",
    "X = X.copy()\n",
    "Y = y.copy()\n",
    "lbe_test = test.copy()"
   ]
  },
  {
   "cell_type": "code",
   "execution_count": 4,
   "id": "5e97ca07",
   "metadata": {
    "execution": {
     "iopub.execute_input": "2023-12-22T04:30:17.433041Z",
     "iopub.status.busy": "2023-12-22T04:30:17.432731Z",
     "iopub.status.idle": "2023-12-22T04:30:18.782905Z",
     "shell.execute_reply": "2023-12-22T04:30:18.781933Z"
    },
    "papermill": {
     "duration": 1.35917,
     "end_time": "2023-12-22T04:30:18.785297",
     "exception": false,
     "start_time": "2023-12-22T04:30:17.426127",
     "status": "completed"
    },
    "tags": []
   },
   "outputs": [],
   "source": [
    "# バリデーション\n",
    "from sklearn.model_selection import cross_val_score, KFold, StratifiedKFold, GroupKFold, RepeatedStratifiedKFold\n",
    "from sklearn.model_selection import GridSearchCV, train_test_split\n",
    "\n",
    "# ハイパーパラメータ\n",
    "import optuna\n",
    "\n",
    "# 機械学習モデル\n",
    "from xgboost import XGBClassifier\n"
   ]
  },
  {
   "cell_type": "code",
   "execution_count": 5,
   "id": "7844169f",
   "metadata": {
    "execution": {
     "iopub.execute_input": "2023-12-22T04:30:18.798651Z",
     "iopub.status.busy": "2023-12-22T04:30:18.797994Z",
     "iopub.status.idle": "2023-12-22T04:30:21.465286Z",
     "shell.execute_reply": "2023-12-22T04:30:21.464492Z"
    },
    "papermill": {
     "duration": 2.676883,
     "end_time": "2023-12-22T04:30:21.468086",
     "exception": false,
     "start_time": "2023-12-22T04:30:18.791203",
     "status": "completed"
    },
    "tags": []
   },
   "outputs": [],
   "source": [
    "import math\n",
    "import pandas as pd\n",
    "import numpy as np\n",
    "import matplotlib.pyplot as plt\n",
    "import seaborn as sns\n",
    "from tqdm import tqdm\n",
    "from sklearn.metrics import roc_auc_score, f1_score,accuracy_score, confusion_matrix, log_loss\n",
    "\n",
    "import optuna\n",
    "from lightgbm import LGBMRegressor, LGBMClassifier, log_evaluation, early_stopping\n",
    "from catboost import CatBoostRegressor, CatBoostClassifier\n",
    "from xgboost import XGBRegressor, XGBClassifier\n",
    "from sklearn.ensemble import GradientBoostingClassifier, HistGradientBoostingClassifier, GradientBoostingRegressor, HistGradientBoostingRegressor\n",
    "from sklearn.model_selection import cross_val_score, KFold, StratifiedKFold, RepeatedStratifiedKFold, train_test_split\n",
    "from sklearn.preprocessing import StandardScaler, LabelEncoder\n",
    "from sklearn.linear_model import LinearRegression, LogisticRegression\n",
    "from sklearn.neighbors import KNeighborsRegressor, KNeighborsClassifier\n",
    "from sklearn.tree import DecisionTreeRegressor\n",
    "\n",
    "import warnings\n",
    "warnings.filterwarnings(\"ignore\")"
   ]
  },
  {
   "cell_type": "code",
   "execution_count": 6,
   "id": "4b58f420",
   "metadata": {
    "execution": {
     "iopub.execute_input": "2023-12-22T04:30:21.481320Z",
     "iopub.status.busy": "2023-12-22T04:30:21.480995Z",
     "iopub.status.idle": "2023-12-22T04:30:21.495346Z",
     "shell.execute_reply": "2023-12-22T04:30:21.494606Z"
    },
    "papermill": {
     "duration": 0.023146,
     "end_time": "2023-12-22T04:30:21.497396",
     "exception": false,
     "start_time": "2023-12-22T04:30:21.474250",
     "status": "completed"
    },
    "tags": []
   },
   "outputs": [],
   "source": [
    "X_train, X_test, y_train, y_test = train_test_split(X, y, train_size = 0.85, random_state = 2610, stratify = y)\n",
    "skf = RepeatedStratifiedKFold(n_splits = 3, n_repeats = 1, random_state = 2610)"
   ]
  },
  {
   "cell_type": "code",
   "execution_count": 7,
   "id": "f355ba7d",
   "metadata": {
    "execution": {
     "iopub.execute_input": "2023-12-22T04:30:21.509637Z",
     "iopub.status.busy": "2023-12-22T04:30:21.509357Z",
     "iopub.status.idle": "2023-12-22T04:31:07.692791Z",
     "shell.execute_reply": "2023-12-22T04:31:07.691720Z"
    },
    "papermill": {
     "duration": 46.192642,
     "end_time": "2023-12-22T04:31:07.695597",
     "exception": false,
     "start_time": "2023-12-22T04:30:21.502955",
     "status": "completed"
    },
    "tags": []
   },
   "outputs": [],
   "source": [
    "models = [GradientBoostingClassifier(), \n",
    "         HistGradientBoostingClassifier(), \n",
    "         LGBMClassifier(objective = 'multi_logloss'),\n",
    "         XGBClassifier(eval_metric = 'mlogloss'),\n",
    "         CatBoostClassifier(loss_function = 'MultiClass',\n",
    "                                           iterations = 500,\n",
    "                                           learning_rate = 0.01,\n",
    "                                           verbose = False,\n",
    "                                           task_type = 'GPU')\n",
    "         ]\n",
    "scores = []\n",
    "for model in models:\n",
    "  cv = cross_val_score(model,\n",
    "                       X_train, \n",
    "                       y_train, \n",
    "                       scoring = 'neg_log_loss',\n",
    "                       cv = skf, \n",
    "                       n_jobs = 1)\n",
    "  scores.append(cv.mean())\n"
   ]
  },
  {
   "cell_type": "code",
   "execution_count": 8,
   "id": "c1ce68a4",
   "metadata": {
    "execution": {
     "iopub.execute_input": "2023-12-22T04:31:07.713818Z",
     "iopub.status.busy": "2023-12-22T04:31:07.713095Z",
     "iopub.status.idle": "2023-12-22T04:31:10.201935Z",
     "shell.execute_reply": "2023-12-22T04:31:10.200993Z"
    },
    "papermill": {
     "duration": 2.500769,
     "end_time": "2023-12-22T04:31:10.204682",
     "exception": false,
     "start_time": "2023-12-22T04:31:07.703913",
     "status": "completed"
    },
    "tags": []
   },
   "outputs": [
    {
     "data": {
      "text/plain": [
       "<Axes: title={'center': 'Feature importance'}, xlabel='F score', ylabel='Features'>"
      ]
     },
     "execution_count": 8,
     "metadata": {},
     "output_type": "execute_result"
    },
    {
     "data": {
      "image/png": "[encoded data removed]",
      "text/plain": [
       "<Figure size 640x480 with 1 Axes>"
      ]
     },
     "metadata": {},
     "output_type": "display_data"
    }
   ],
   "source": [
    "import xgboost\n",
    "xgb = XGBClassifier(eval_metric = 'mlogloss')\n",
    "xgb.fit(X_train, y_train)\n",
    "xgboost.plot_importance(xgb)"
   ]
  },
  {
   "cell_type": "code",
   "execution_count": 9,
   "id": "de6269c7",
   "metadata": {
    "execution": {
     "iopub.execute_input": "2023-12-22T04:31:10.220157Z",
     "iopub.status.busy": "2023-12-22T04:31:10.219831Z",
     "iopub.status.idle": "2023-12-22T04:31:18.356027Z",
     "shell.execute_reply": "2023-12-22T04:31:18.355017Z"
    },
    "papermill": {
     "duration": 8.146366,
     "end_time": "2023-12-22T04:31:18.358162",
     "exception": false,
     "start_time": "2023-12-22T04:31:10.211796",
     "status": "completed"
    },
    "tags": []
   },
   "outputs": [
    {
     "data": {
      "text/plain": [
       "Bilirubin               0.434885\n",
       "N_Days                  0.148292\n",
       "Prothrombin             0.081672\n",
       "Copper                  0.054947\n",
       "Symptom_Score           0.043657\n",
       "Stage_4.0               0.031876\n",
       "Age                     0.027306\n",
       "SGOT                    0.023443\n",
       "DiagnosisDays           0.020311\n",
       "Cholesterol             0.019317\n",
       "Platelets               0.019088\n",
       "Tryglicerides           0.015299\n",
       "Liver_Function_Index    0.014675\n",
       "Risk_Score              0.012769\n",
       "Albumin                 0.011031\n",
       "Bilirubin_Albumin       0.007707\n",
       "id                      0.005820\n",
       "Age_in_year             0.005574\n",
       "Edema_N                 0.004977\n",
       "Edema_Y                 0.004706\n",
       "Sex                     0.003512\n",
       "Drug                    0.001686\n",
       "Stage_1.0               0.001664\n",
       "Diag_Month              0.001345\n",
       "Hepatomegaly            0.001126\n",
       "Alk_Phos                0.001122\n",
       "normal_copper           0.000901\n",
       "Diag_Year               0.000828\n",
       "Spiders                 0.000410\n",
       "normal_bilirubin        0.000026\n",
       "Stage_2.0               0.000020\n",
       "thrombocytopenia        0.000006\n",
       "Ascites                 0.000000\n",
       "elevated_alk_phos       0.000000\n",
       "normal_albumin          0.000000\n",
       "Edema_S                 0.000000\n",
       "Stage_3.0               0.000000\n",
       "dtype: float64"
      ]
     },
     "execution_count": 9,
     "metadata": {},
     "output_type": "execute_result"
    }
   ],
   "source": [
    "gb = GradientBoostingClassifier()\n",
    "gb.fit(X_train, y_train)\n",
    "feat_importance = {a: b for a, b in zip(X_train.columns.values, gb.feature_importances_)}\n",
    "feat_importance_rd = dict(sorted(feat_importance.items(), key = lambda x : x[1], reverse = True))\n",
    "pd_feat_importance = pd.Series(feat_importance_rd.values(), feat_importance_rd.keys())\n",
    "pd_feat_importance"
   ]
  },
  {
   "cell_type": "code",
   "execution_count": 10,
   "id": "9e5852b5",
   "metadata": {
    "execution": {
     "iopub.execute_input": "2023-12-22T04:31:18.374305Z",
     "iopub.status.busy": "2023-12-22T04:31:18.373614Z",
     "iopub.status.idle": "2023-12-22T04:31:18.385271Z",
     "shell.execute_reply": "2023-12-22T04:31:18.384418Z"
    },
    "papermill": {
     "duration": 0.021523,
     "end_time": "2023-12-22T04:31:18.387204",
     "exception": false,
     "start_time": "2023-12-22T04:31:18.365681",
     "status": "completed"
    },
    "tags": []
   },
   "outputs": [],
   "source": [
    "def objective_lgb(trial):\n",
    "    \"\"\"Define the objective function\"\"\"\n",
    "    params = {\n",
    "        'objective': trial.suggest_categorical('objective', ['multi_logloss']),\n",
    "        'max_depth': trial.suggest_int('max_depth', 3, 10),\n",
    "        'min_child_samples': trial.suggest_int('min_child_samples', 1, 15),\n",
    "        'learning_rate': trial.suggest_float('learning_rate', 0.01, 1.0),\n",
    "        'n_estimators': trial.suggest_int('n_estimators', 50, 2000),\n",
    "        'min_child_weight': trial.suggest_int('min_child_weight', 1, 10),\n",
    "        'subsample': trial.suggest_float('subsample', 0.01, 1.0),\n",
    "        'colsample_bytree': trial.suggest_float('colsample_bytree', 0.01, 1.0),\n",
    "        'reg_alpha': trial.suggest_float('reg_alpha', 0.01, 1.0),\n",
    "        'reg_lambda': trial.suggest_float('reg_lambda', 0.01, 1.0),\n",
    "        \"random_state\" : trial.suggest_categorical('random_state', [42]),\n",
    "    }\n",
    "\n",
    "    params = {\n",
    "        'objective': trial.suggest_categorical('objective', ['multi_logloss']),\n",
    "        'max_depth': trial.suggest_int('max_depth', 7, 10),\n",
    "        'min_child_samples': trial.suggest_int('min_child_samples', 13, 15),\n",
    "        'learning_rate': trial.suggest_float('learning_rate', 0.013, 0.04),\n",
    "        'n_estimators': trial.suggest_int('n_estimators', 200, 500),\n",
    "        'min_child_weight': trial.suggest_int('min_child_weight', 7, 10),\n",
    "        'subsample': trial.suggest_float('subsample', 0.3, 1.0),\n",
    "        'colsample_bytree': trial.suggest_float('colsample_bytree', 0.1, 1.),\n",
    "        'reg_alpha': trial.suggest_float('reg_alpha', 0.05, 0.2),\n",
    "        'reg_lambda': trial.suggest_float('reg_lambda', 0.05, 1.0),\n",
    "        \"random_state\" : trial.suggest_categorical('random_state', [42]),\n",
    "    }\n",
    "\n",
    "\n",
    "    lgb = LGBMClassifier(**params, device = 'gpu', n_jobs = -1)\n",
    "    cv = abs(cross_val_score(lgb, X_train, y_train, cv = skf,scoring='neg_log_loss').mean())\n",
    "    return cv"
   ]
  },
  {
   "cell_type": "code",
   "execution_count": 11,
   "id": "8e7e6ed7",
   "metadata": {
    "execution": {
     "iopub.execute_input": "2023-12-22T04:31:18.402355Z",
     "iopub.status.busy": "2023-12-22T04:31:18.402092Z",
     "iopub.status.idle": "2023-12-22T04:31:18.405850Z",
     "shell.execute_reply": "2023-12-22T04:31:18.404973Z"
    },
    "papermill": {
     "duration": 0.01349,
     "end_time": "2023-12-22T04:31:18.407664",
     "exception": false,
     "start_time": "2023-12-22T04:31:18.394174",
     "status": "completed"
    },
    "tags": []
   },
   "outputs": [],
   "source": [
    "# %%time\n",
    "# study = optuna.create_study(direction='minimize')\n",
    "# study.optimize(objective_lgb, n_trials=100, timeout=2000)"
   ]
  },
  {
   "cell_type": "code",
   "execution_count": 12,
   "id": "6e232f8d",
   "metadata": {
    "execution": {
     "iopub.execute_input": "2023-12-22T04:31:18.422985Z",
     "iopub.status.busy": "2023-12-22T04:31:18.422270Z",
     "iopub.status.idle": "2023-12-22T04:31:21.067986Z",
     "shell.execute_reply": "2023-12-22T04:31:21.067100Z"
    },
    "papermill": {
     "duration": 2.655551,
     "end_time": "2023-12-22T04:31:21.070125",
     "exception": false,
     "start_time": "2023-12-22T04:31:18.414574",
     "status": "completed"
    },
    "tags": []
   },
   "outputs": [
    {
     "data": {
      "text/html": [
       "<style>#sk-container-id-1 {color: black;background-color: white;}#sk-container-id-1 pre{padding: 0;}#sk-container-id-1 div.sk-toggleable {background-color: white;}#sk-container-id-1 label.sk-toggleable__label {cursor: pointer;display: block;width: 100%;margin-bottom: 0;padding: 0.3em;box-sizing: border-box;text-align: center;}#sk-container-id-1 label.sk-toggleable__label-arrow:before {content: \"▸\";float: left;margin-right: 0.25em;color: #696969;}#sk-container-id-1 label.sk-toggleable__label-arrow:hover:before {color: black;}#sk-container-id-1 div.sk-estimator:hover label.sk-toggleable__label-arrow:before {color: black;}#sk-container-id-1 div.sk-toggleable__content {max-height: 0;max-width: 0;overflow: hidden;text-align: left;background-color: #f0f8ff;}#sk-container-id-1 div.sk-toggleable__content pre {margin: 0.2em;color: black;border-radius: 0.25em;background-color: #f0f8ff;}#sk-container-id-1 input.sk-toggleable__control:checked~div.sk-toggleable__content {max-height: 200px;max-width: 100%;overflow: auto;}#sk-container-id-1 input.sk-toggleable__control:checked~label.sk-toggleable__label-arrow:before {content: \"▾\";}#sk-container-id-1 div.sk-estimator input.sk-toggleable__control:checked~label.sk-toggleable__label {background-color: #d4ebff;}#sk-container-id-1 div.sk-label input.sk-toggleable__control:checked~label.sk-toggleable__label {background-color: #d4ebff;}#sk-container-id-1 input.sk-hidden--visually {border: 0;clip: rect(1px 1px 1px 1px);clip: rect(1px, 1px, 1px, 1px);height: 1px;margin: -1px;overflow: hidden;padding: 0;position: absolute;width: 1px;}#sk-container-id-1 div.sk-estimator {font-family: monospace;background-color: #f0f8ff;border: 1px dotted black;border-radius: 0.25em;box-sizing: border-box;margin-bottom: 0.5em;}#sk-container-id-1 div.sk-estimator:hover {background-color: #d4ebff;}#sk-container-id-1 div.sk-parallel-item::after {content: \"\";width: 100%;border-bottom: 1px solid gray;flex-grow: 1;}#sk-container-id-1 div.sk-label:hover label.sk-toggleable__label {background-color: #d4ebff;}#sk-container-id-1 div.sk-serial::before {content: \"\";position: absolute;border-left: 1px solid gray;box-sizing: border-box;top: 0;bottom: 0;left: 50%;z-index: 0;}#sk-container-id-1 div.sk-serial {display: flex;flex-direction: column;align-items: center;background-color: white;padding-right: 0.2em;padding-left: 0.2em;position: relative;}#sk-container-id-1 div.sk-item {position: relative;z-index: 1;}#sk-container-id-1 div.sk-parallel {display: flex;align-items: stretch;justify-content: center;background-color: white;position: relative;}#sk-container-id-1 div.sk-item::before, #sk-container-id-1 div.sk-parallel-item::before {content: \"\";position: absolute;border-left: 1px solid gray;box-sizing: border-box;top: 0;bottom: 0;left: 50%;z-index: -1;}#sk-container-id-1 div.sk-parallel-item {display: flex;flex-direction: column;z-index: 1;position: relative;background-color: white;}#sk-container-id-1 div.sk-parallel-item:first-child::after {align-self: flex-end;width: 50%;}#sk-container-id-1 div.sk-parallel-item:last-child::after {align-self: flex-start;width: 50%;}#sk-container-id-1 div.sk-parallel-item:only-child::after {width: 0;}#sk-container-id-1 div.sk-dashed-wrapped {border: 1px dashed gray;margin: 0 0.4em 0.5em 0.4em;box-sizing: border-box;padding-bottom: 0.4em;background-color: white;}#sk-container-id-1 div.sk-label label {font-family: monospace;font-weight: bold;display: inline-block;line-height: 1.2em;}#sk-container-id-1 div.sk-label-container {text-align: center;}#sk-container-id-1 div.sk-container {/* jupyter's `normalize.less` sets `[hidden] { display: none; }` but bootstrap.min.css set `[hidden] { display: none !important; }` so we also need the `!important` here to be able to override the default hidden behavior on the sphinx rendered scikit-learn.org. See: https://github.com/scikit-learn/scikit-learn/issues/21755 */display: inline-block !important;position: relative;}#sk-container-id-1 div.sk-text-repr-fallback {display: none;}</style><div id=\"sk-container-id-1\" class=\"sk-top-container\"><div class=\"sk-text-repr-fallback\"><pre>LGBMClassifier(colsample_bytree=0.0757022595046426,\n",
       "               learning_rate=0.01566483845941954, max_depth=7,\n",
       "               min_child_samples=11, min_child_weight=9, n_estimators=966,\n",
       "               objective=&#x27;multi_logloss&#x27;, random_state=42,\n",
       "               reg_alpha=0.9766398799933541, reg_lambda=0.48128958254209964,\n",
       "               subsample=0.45579910488195635)</pre><b>In a Jupyter environment, please rerun this cell to show the HTML representation or trust the notebook. <br />On GitHub, the HTML representation is unable to render, please try loading this page with nbviewer.org.</b></div><div class=\"sk-container\" hidden><div class=\"sk-item\"><div class=\"sk-estimator sk-toggleable\"><input class=\"sk-toggleable__control sk-hidden--visually\" id=\"sk-estimator-id-1\" type=\"checkbox\" checked><label for=\"sk-estimator-id-1\" class=\"sk-toggleable__label sk-toggleable__label-arrow\">LGBMClassifier</label><div class=\"sk-toggleable__content\"><pre>LGBMClassifier(colsample_bytree=0.0757022595046426,\n",
       "               learning_rate=0.01566483845941954, max_depth=7,\n",
       "               min_child_samples=11, min_child_weight=9, n_estimators=966,\n",
       "               objective=&#x27;multi_logloss&#x27;, random_state=42,\n",
       "               reg_alpha=0.9766398799933541, reg_lambda=0.48128958254209964,\n",
       "               subsample=0.45579910488195635)</pre></div></div></div></div></div>"
      ],
      "text/plain": [
       "LGBMClassifier(colsample_bytree=0.0757022595046426,\n",
       "               learning_rate=0.01566483845941954, max_depth=7,\n",
       "               min_child_samples=11, min_child_weight=9, n_estimators=966,\n",
       "               objective='multi_logloss', random_state=42,\n",
       "               reg_alpha=0.9766398799933541, reg_lambda=0.48128958254209964,\n",
       "               subsample=0.45579910488195635)"
      ]
     },
     "execution_count": 12,
     "metadata": {},
     "output_type": "execute_result"
    }
   ],
   "source": [
    "# [I 2023-12-22 04:24:17,624] Trial 88 finished with value: 0.4414199165690038 and \n",
    "lgbm_params = {'objective': 'multi_logloss', \n",
    "             'max_depth': 7, 'min_child_samples': 11, \n",
    "             'learning_rate': 0.01566483845941954, \n",
    "             'n_estimators': 966, 'min_child_weight': 9, \n",
    "             'subsample': 0.45579910488195635, \n",
    "             'colsample_bytree': 0.0757022595046426, \n",
    "             'reg_alpha': 0.9766398799933541, \n",
    "             'reg_lambda': 0.48128958254209964, \n",
    "             'random_state': 42}\n",
    "#         . Best is trial 88 with value: 0.4414199165690038.\n",
    "\n",
    "lgbm_model = LGBMClassifier(**lgbm_params)\n",
    "lgbm_model.fit(X, y)"
   ]
  },
  {
   "cell_type": "code",
   "execution_count": 13,
   "id": "373ce42e",
   "metadata": {
    "execution": {
     "iopub.execute_input": "2023-12-22T04:31:21.086351Z",
     "iopub.status.busy": "2023-12-22T04:31:21.086086Z",
     "iopub.status.idle": "2023-12-22T04:31:21.090211Z",
     "shell.execute_reply": "2023-12-22T04:31:21.089379Z"
    },
    "papermill": {
     "duration": 0.014336,
     "end_time": "2023-12-22T04:31:21.092176",
     "exception": false,
     "start_time": "2023-12-22T04:31:21.077840",
     "status": "completed"
    },
    "tags": []
   },
   "outputs": [],
   "source": [
    "# lgbm_params = {'objective': 'multi_logloss', \n",
    "#                'max_depth': 9, 'min_child_samples': 14, \n",
    "#                'learning_rate': 0.034869481921747415, \n",
    "#                'n_estimators': 274, 'min_child_weight': 9, \n",
    "#                'subsample': 0.7717873512945741, \n",
    "#                'colsample_bytree': 0.1702910221565107, \n",
    "#                'reg_alpha': 0.10626128775335533, \n",
    "#                'reg_lambda': 0.624196407787772, \n",
    "#                'random_state': 42}\n",
    "# lgbm_model = LGBMClassifier(**lgbm_params)\n",
    "# lgbm_model.fit(X, y)"
   ]
  },
  {
   "cell_type": "code",
   "execution_count": 14,
   "id": "305337eb",
   "metadata": {
    "execution": {
     "iopub.execute_input": "2023-12-22T04:31:21.108171Z",
     "iopub.status.busy": "2023-12-22T04:31:21.107922Z",
     "iopub.status.idle": "2023-12-22T04:31:21.225583Z",
     "shell.execute_reply": "2023-12-22T04:31:21.224338Z"
    },
    "papermill": {
     "duration": 0.128285,
     "end_time": "2023-12-22T04:31:21.227822",
     "exception": false,
     "start_time": "2023-12-22T04:31:21.099537",
     "status": "completed"
    },
    "tags": []
   },
   "outputs": [
    {
     "data": {
      "text/plain": [
       "0.2723159926186088"
      ]
     },
     "execution_count": 14,
     "metadata": {},
     "output_type": "execute_result"
    }
   ],
   "source": [
    "log_loss(y_test, lgbm_model.predict_proba(X_test))"
   ]
  },
  {
   "cell_type": "code",
   "execution_count": 15,
   "id": "7d05e770",
   "metadata": {
    "execution": {
     "iopub.execute_input": "2023-12-22T04:31:21.246692Z",
     "iopub.status.busy": "2023-12-22T04:31:21.246358Z",
     "iopub.status.idle": "2023-12-22T04:31:21.760039Z",
     "shell.execute_reply": "2023-12-22T04:31:21.759258Z"
    },
    "papermill": {
     "duration": 0.52477,
     "end_time": "2023-12-22T04:31:21.762292",
     "exception": false,
     "start_time": "2023-12-22T04:31:21.237522",
     "status": "completed"
    },
    "tags": []
   },
   "outputs": [],
   "source": [
    "preds = lgbm_model.predict_proba(lbe_test)\n",
    "preds = pd.DataFrame(preds, columns = ['D', 'C', 'CL'])\n",
    "sub = pd.DataFrame(test_id)\n",
    "sub['Status_C'] = preds['C']\n",
    "sub['Status_CL'] = preds['CL']\n",
    "sub['Status_D'] = preds['D']\n"
   ]
  },
  {
   "cell_type": "code",
   "execution_count": 16,
   "id": "f5bf1a07",
   "metadata": {
    "execution": {
     "iopub.execute_input": "2023-12-22T04:31:21.780640Z",
     "iopub.status.busy": "2023-12-22T04:31:21.780308Z",
     "iopub.status.idle": "2023-12-22T04:31:21.843053Z",
     "shell.execute_reply": "2023-12-22T04:31:21.842083Z"
    },
    "papermill": {
     "duration": 0.073971,
     "end_time": "2023-12-22T04:31:21.845434",
     "exception": false,
     "start_time": "2023-12-22T04:31:21.771463",
     "status": "completed"
    },
    "tags": []
   },
   "outputs": [
    {
     "data": {
      "text/html": [
       "<div>\n",
       "<style scoped>\n",
       "    .dataframe tbody tr th:only-of-type {\n",
       "        vertical-align: middle;\n",
       "    }\n",
       "\n",
       "    .dataframe tbody tr th {\n",
       "        vertical-align: top;\n",
       "    }\n",
       "\n",
       "    .dataframe thead th {\n",
       "        text-align: right;\n",
       "    }\n",
       "</style>\n",
       "<table border=\"1\" class=\"dataframe\">\n",
       "  <thead>\n",
       "    <tr style=\"text-align: right;\">\n",
       "      <th></th>\n",
       "      <th>id</th>\n",
       "      <th>Status_C</th>\n",
       "      <th>Status_CL</th>\n",
       "      <th>Status_D</th>\n",
       "    </tr>\n",
       "  </thead>\n",
       "  <tbody>\n",
       "    <tr>\n",
       "      <th>0</th>\n",
       "      <td>7905</td>\n",
       "      <td>0.026254</td>\n",
       "      <td>0.568772</td>\n",
       "      <td>0.404974</td>\n",
       "    </tr>\n",
       "    <tr>\n",
       "      <th>1</th>\n",
       "      <td>7906</td>\n",
       "      <td>0.315279</td>\n",
       "      <td>0.154546</td>\n",
       "      <td>0.530175</td>\n",
       "    </tr>\n",
       "    <tr>\n",
       "      <th>2</th>\n",
       "      <td>7907</td>\n",
       "      <td>0.011667</td>\n",
       "      <td>0.955533</td>\n",
       "      <td>0.032800</td>\n",
       "    </tr>\n",
       "    <tr>\n",
       "      <th>3</th>\n",
       "      <td>7908</td>\n",
       "      <td>0.001809</td>\n",
       "      <td>0.035563</td>\n",
       "      <td>0.962628</td>\n",
       "    </tr>\n",
       "    <tr>\n",
       "      <th>4</th>\n",
       "      <td>7909</td>\n",
       "      <td>0.074500</td>\n",
       "      <td>0.080086</td>\n",
       "      <td>0.845414</td>\n",
       "    </tr>\n",
       "    <tr>\n",
       "      <th>...</th>\n",
       "      <td>...</td>\n",
       "      <td>...</td>\n",
       "      <td>...</td>\n",
       "      <td>...</td>\n",
       "    </tr>\n",
       "    <tr>\n",
       "      <th>5266</th>\n",
       "      <td>13171</td>\n",
       "      <td>0.062986</td>\n",
       "      <td>0.049190</td>\n",
       "      <td>0.887824</td>\n",
       "    </tr>\n",
       "    <tr>\n",
       "      <th>5267</th>\n",
       "      <td>13172</td>\n",
       "      <td>0.005225</td>\n",
       "      <td>0.033653</td>\n",
       "      <td>0.961122</td>\n",
       "    </tr>\n",
       "    <tr>\n",
       "      <th>5268</th>\n",
       "      <td>13173</td>\n",
       "      <td>0.012519</td>\n",
       "      <td>0.049859</td>\n",
       "      <td>0.937622</td>\n",
       "    </tr>\n",
       "    <tr>\n",
       "      <th>5269</th>\n",
       "      <td>13174</td>\n",
       "      <td>0.004498</td>\n",
       "      <td>0.009753</td>\n",
       "      <td>0.985749</td>\n",
       "    </tr>\n",
       "    <tr>\n",
       "      <th>5270</th>\n",
       "      <td>13175</td>\n",
       "      <td>0.032193</td>\n",
       "      <td>0.454922</td>\n",
       "      <td>0.512885</td>\n",
       "    </tr>\n",
       "  </tbody>\n",
       "</table>\n",
       "<p>5271 rows × 4 columns</p>\n",
       "</div>"
      ],
      "text/plain": [
       "         id  Status_C  Status_CL  Status_D\n",
       "0      7905  0.026254   0.568772  0.404974\n",
       "1      7906  0.315279   0.154546  0.530175\n",
       "2      7907  0.011667   0.955533  0.032800\n",
       "3      7908  0.001809   0.035563  0.962628\n",
       "4      7909  0.074500   0.080086  0.845414\n",
       "...     ...       ...        ...       ...\n",
       "5266  13171  0.062986   0.049190  0.887824\n",
       "5267  13172  0.005225   0.033653  0.961122\n",
       "5268  13173  0.012519   0.049859  0.937622\n",
       "5269  13174  0.004498   0.009753  0.985749\n",
       "5270  13175  0.032193   0.454922  0.512885\n",
       "\n",
       "[5271 rows x 4 columns]"
      ]
     },
     "execution_count": 16,
     "metadata": {},
     "output_type": "execute_result"
    }
   ],
   "source": [
    "sub.to_csv('submission.csv', index = False)\n",
    "sub"
   ]
  },
  {
   "cell_type": "code",
   "execution_count": null,
   "id": "eff35115",
   "metadata": {
    "papermill": {
     "duration": 0.007609,
     "end_time": "2023-12-22T04:31:21.861479",
     "exception": false,
     "start_time": "2023-12-22T04:31:21.853870",
     "status": "completed"
    },
    "tags": []
   },
   "outputs": [],
   "source": []
  },
  {
   "cell_type": "code",
   "execution_count": null,
   "id": "62f0179a",
   "metadata": {
    "papermill": {
     "duration": 0.007781,
     "end_time": "2023-12-22T04:31:21.877078",
     "exception": false,
     "start_time": "2023-12-22T04:31:21.869297",
     "status": "completed"
    },
    "tags": []
   },
   "outputs": [],
   "source": []
  }
 ],
 "metadata": {
  "kaggle": {
   "accelerator": "nvidiaTeslaT4",
   "dataSources": [
    {
     "databundleVersionId": 7000181,
     "sourceId": 60893,
     "sourceType": "competition"
    }
   ],
   "dockerImageVersionId": 30627,
   "isGpuEnabled": true,
   "isInternetEnabled": true,
   "language": "python",
   "sourceType": "notebook"
  },
  "kernelspec": {
   "display_name": "Python 3",
   "language": "python",
   "name": "python3"
  },
  "language_info": {
   "codemirror_mode": {
    "name": "ipython",
    "version": 3
   },
   "file_extension": ".py",
   "mimetype": "text/x-python",
   "name": "python",
   "nbconvert_exporter": "python",
   "pygments_lexer": "ipython3",
   "version": "3.10.12"
  },
  "papermill": {
   "default_parameters": {},
   "duration": 71.314567,
   "end_time": "2023-12-22T04:31:23.107294",
   "environment_variables": {},
   "exception": null,
   "input_path": "__notebook__.ipynb",
   "output_path": "__notebook__.ipynb",
   "parameters": {},
   "start_time": "2023-12-22T04:30:11.792727",
   "version": "2.4.0"
  }
 },
 "nbformat": 4,
 "nbformat_minor": 5
}
